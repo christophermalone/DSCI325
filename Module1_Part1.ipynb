{
  "nbformat": 4,
  "nbformat_minor": 0,
  "metadata": {
    "colab": {
      "name": "Module1_Part1.ipynb",
      "provenance": [],
      "collapsed_sections": [
        "DTpb86r69_Lv"
      ],
      "authorship_tag": "ABX9TyOkF4YKh4kXM5CHu/DhW6uU",
      "include_colab_link": true
    },
    "kernelspec": {
      "name": "ir",
      "display_name": "R"
    }
  },
  "cells": [
    {
      "cell_type": "markdown",
      "metadata": {
        "id": "view-in-github",
        "colab_type": "text"
      },
      "source": [
        "<a href=\"https://colab.research.google.com/github/christophermalone/DSCI325/blob/main/Module1_Part1.ipynb\" target=\"_parent\"><img src=\"https://colab.research.google.com/assets/colab-badge.svg\" alt=\"Open In Colab\"/></a>"
      ]
    },
    {
      "cell_type": "markdown",
      "metadata": {
        "id": "KhClO9b02SXA"
      },
      "source": [
        "# Module 1 | Part 1: Reading in Data from the Current Colab Session"
      ]
    },
    {
      "cell_type": "markdown",
      "metadata": {
        "id": "AXDYLbzK2o7e"
      },
      "source": [
        "There are two steps involved with reading in data from the current colab session.\n",
        "\n",
        "1.   Upload a copy of the data into the current colab session\n",
        "2.   Read the data into R (or Python)\n",
        "\n"
      ]
    },
    {
      "cell_type": "markdown",
      "metadata": {
        "id": "njXGRUIC9Lgs"
      },
      "source": [
        "## Uploading Data into the Current Colab Session"
      ]
    },
    {
      "cell_type": "markdown",
      "metadata": {
        "id": "3eGZ0aSg_a5K"
      },
      "source": [
        "A session in Colab is temporary.  A session starts when a Notebook is opened and closes after a certain amount of inactivity or when exising the browser/tab.  The <strong>sample_data</strong> folder is the commonplace location for data to be stored within a Colab session. "
      ]
    },
    {
      "cell_type": "markdown",
      "metadata": {
        "id": "vpppE9Km9T93"
      },
      "source": [
        "<p align='center'><img src=\"https://drive.google.com/uc?export=view&id=17ozQuchHHuObCsTLmsNArmRhQmV17M6-\"></img></p>\n"
      ]
    },
    {
      "cell_type": "markdown",
      "metadata": {
        "id": "DWMRogIl8o_v"
      },
      "source": [
        "The following message is provided upon uploading a data file into the current Colab session. "
      ]
    },
    {
      "cell_type": "markdown",
      "metadata": {
        "id": "T8ULLlSnB4tl"
      },
      "source": [
        "<p align='center'><img src=\"https://drive.google.com/uc?export=view&id=1HiPuxHQx8CukWkvwxXiq9KCpVSgb_goW\"></img></p>"
      ]
    },
    {
      "cell_type": "markdown",
      "metadata": {
        "id": "DTpb86r69_Lv"
      },
      "source": [
        "<table width='100%' ><tr><td bgcolor='green'></td></tr></table>\n",
        "\n",
        "### Example 1.1.1\n",
        "\n",
        "A dataset from the City of Austin, TX will be used for this example.  The open data portal is often used for provide datasets to the public.\n",
        "\n",
        "<i>Data Source</i>: Austin Animal Center Outcomes - [Link](https://data.austintexas.gov/Health-and-Community-Services/Austin-Animal-Center-Outcomes/9t4d-g238)\n"
      ]
    },
    {
      "cell_type": "markdown",
      "metadata": {
        "id": "oThX5uQ795F_"
      },
      "source": [
        "The dataset includes information regarding the status of animals as they leave the Austin Animal Center. Click Export to obtain a local copy of this dataset.  For this example, a *.csv copy will be downloaded.\n",
        "\n",
        "<p align='center'><img src=\"https://drive.google.com/uc?export=view&id=1_ni0aOSg4JxiDSAgATSfdDCNsRPBBwBP\"></img></p> \n"
      ]
    },
    {
      "cell_type": "markdown",
      "metadata": {
        "id": "tAg016SeCNZS"
      },
      "source": [
        "<table width='100%' ><tr><td bgcolor='green'></td></tr></table>"
      ]
    },
    {
      "cell_type": "markdown",
      "metadata": {
        "id": "uuYAn9V__aBp"
      },
      "source": [
        "### Details regarding Data via Open Data Portal \n",
        "\n",
        "The Open Data Portal provides some basic information regarding this dataset.  In particular, the number of rows and columns have been provided (sometimes an estimate is provided instead of the exact value).  In addition, some basic information regarding the columns provided in this dataset is given.\n",
        "\n",
        "<strong>Definition: </strong>  A dataset that takes on the form of simple rows and columns is sometimes referred to as data in a <strong>table format</strong>.  This data may be referred to as data that is <strong>highly structured</strong>.\n"
      ]
    },
    {
      "cell_type": "markdown",
      "metadata": {
        "id": "JDeuj_WIFji8"
      },
      "source": [
        "<p align='center'><img src=\"https://drive.google.com/uc?export=view&id=1FIczRZYbx8aPpTe09utO_SAK-4I83odQ\"></img></p> "
      ]
    },
    {
      "cell_type": "markdown",
      "metadata": {
        "id": "W1FKL1wkCwTy"
      },
      "source": [
        "### Upload data file into colab session\n",
        "\n",
        "To upload a copy of a dataset into the temporary colab session, simple drag-and-drop the data file into the sample_data directory.  The file will appear upon a successful upload."
      ]
    },
    {
      "cell_type": "markdown",
      "metadata": {
        "id": "wMsHMTaEBq26"
      },
      "source": [
        "\n",
        "\n",
        "<p align='center'><img src=\"https://drive.google.com/uc?export=view&id=1Ig0TgTwy7SCyYiVCHAmvp6Mv0fudSUUo\"></img></p> \n"
      ]
    },
    {
      "cell_type": "markdown",
      "metadata": {
        "id": "zuyxn7jDEbD-"
      },
      "source": [
        "## Reading Data into R (via Base R)"
      ]
    },
    {
      "cell_type": "markdown",
      "metadata": {
        "id": "zQ8N3_SsIh-l"
      },
      "source": [
        "### Using read.csv()"
      ]
    },
    {
      "cell_type": "code",
      "metadata": {
        "id": "e07lUbQ1F1cV"
      },
      "source": [
        "# Reading data in using read.csv via Base R\n",
        "AustinAnimalShelter_BaseR <- read.csv(\"/content/sample_data/Austin_Animal_Center_Outcomes.csv\")"
      ],
      "execution_count": 8,
      "outputs": []
    },
    {
      "cell_type": "markdown",
      "metadata": {
        "id": "p37kA-rtIoMO"
      },
      "source": [
        "### Utility Functions for a data.frame"
      ]
    },
    {
      "cell_type": "code",
      "metadata": {
        "id": "hxWnUhHGGrV6",
        "colab": {
          "base_uri": "https://localhost:8080/",
          "height": 35
        },
        "outputId": "66f563c1-183b-45b5-81a5-652e325aa004"
      },
      "source": [
        "#ls() command can be used to list variables in current session of R\n",
        "ls()\n",
        "\n",
        "#Note View() is a common fuction used to View a dataset // not available in Colab"
      ],
      "execution_count": 2,
      "outputs": [
        {
          "output_type": "display_data",
          "data": {
            "text/plain": [
              "[1] \"AustinAnimalShelter_BaseR\""
            ],
            "text/latex": "'AustinAnimalShelter\\_BaseR'",
            "text/markdown": "'AustinAnimalShelter_BaseR'",
            "text/html": [
              "'AustinAnimalShelter_BaseR'"
            ]
          },
          "metadata": {}
        }
      ]
    },
    {
      "cell_type": "code",
      "metadata": {
        "id": "sqX4_96hHP5l",
        "colab": {
          "base_uri": "https://localhost:8080/",
          "height": 1000
        },
        "outputId": "3c182bf3-044e-49fa-81f3-781dc1273493"
      },
      "source": [
        "# head() and tail() can be used to see top or bottom of the dataset\n",
        "\n",
        "#View of top few rows...\n",
        "head(AustinAnimalShelter_BaseR)\n",
        "\n",
        "#View of bottom few rows....\n",
        "tail(AustinAnimalShelter_BaseR)"
      ],
      "execution_count": 3,
      "outputs": [
        {
          "output_type": "display_data",
          "data": {
            "text/plain": [
              "  Animal.ID Name     DateTime               MonthYear             \n",
              "1 A794011   Chunk    05/08/2019 06:20:00 PM 05/08/2019 06:20:00 PM\n",
              "2 A776359   Gizmo    07/18/2018 04:02:00 PM 07/18/2018 04:02:00 PM\n",
              "3 A821648            08/16/2020 11:38:00 AM 08/16/2020 11:38:00 AM\n",
              "4 A720371   Moose    02/13/2016 05:59:00 PM 02/13/2016 05:59:00 PM\n",
              "5 A674754            03/18/2014 11:47:00 AM 03/18/2014 11:47:00 AM\n",
              "6 A659412   Princess 10/05/2020 02:37:00 PM 10/05/2020 02:37:00 PM\n",
              "  Date.of.Birth Outcome.Type Outcome.Subtype Animal.Type Sex.upon.Outcome\n",
              "1 05/02/2017    Rto-Adopt                    Cat         Neutered Male   \n",
              "2 07/12/2017    Adoption                     Dog         Neutered Male   \n",
              "3 08/16/2019    Euthanasia                   Other       Unknown         \n",
              "4 10/08/2015    Adoption                     Dog         Neutered Male   \n",
              "5 03/12/2014    Transfer     Partner         Cat         Intact Male     \n",
              "6 03/24/2013    Adoption                     Dog         Spayed Female   \n",
              "  Age.upon.Outcome Breed                              Color            \n",
              "1 2 years          Domestic Shorthair Mix             Brown Tabby/White\n",
              "2 1 year           Chihuahua Shorthair Mix            White/Brown      \n",
              "3 1 year           Raccoon                            Gray             \n",
              "4 4 months         Anatol Shepherd/Labrador Retriever Buff             \n",
              "5 6 days           Domestic Shorthair Mix             Orange Tabby     \n",
              "6 7 years          Chihuahua Shorthair Mix            Brown            "
            ],
            "text/latex": "A data.frame: 6 × 12\n\\begin{tabular}{r|llllllllllll}\n  & Animal.ID & Name & DateTime & MonthYear & Date.of.Birth & Outcome.Type & Outcome.Subtype & Animal.Type & Sex.upon.Outcome & Age.upon.Outcome & Breed & Color\\\\\n  & <chr> & <chr> & <chr> & <chr> & <chr> & <chr> & <chr> & <chr> & <chr> & <chr> & <chr> & <chr>\\\\\n\\hline\n\t1 & A794011 & Chunk    & 05/08/2019 06:20:00 PM & 05/08/2019 06:20:00 PM & 05/02/2017 & Rto-Adopt  &         & Cat   & Neutered Male & 2 years  & Domestic Shorthair Mix             & Brown Tabby/White\\\\\n\t2 & A776359 & Gizmo    & 07/18/2018 04:02:00 PM & 07/18/2018 04:02:00 PM & 07/12/2017 & Adoption   &         & Dog   & Neutered Male & 1 year   & Chihuahua Shorthair Mix            & White/Brown      \\\\\n\t3 & A821648 &          & 08/16/2020 11:38:00 AM & 08/16/2020 11:38:00 AM & 08/16/2019 & Euthanasia &         & Other & Unknown       & 1 year   & Raccoon                            & Gray             \\\\\n\t4 & A720371 & Moose    & 02/13/2016 05:59:00 PM & 02/13/2016 05:59:00 PM & 10/08/2015 & Adoption   &         & Dog   & Neutered Male & 4 months & Anatol Shepherd/Labrador Retriever & Buff             \\\\\n\t5 & A674754 &          & 03/18/2014 11:47:00 AM & 03/18/2014 11:47:00 AM & 03/12/2014 & Transfer   & Partner & Cat   & Intact Male   & 6 days   & Domestic Shorthair Mix             & Orange Tabby     \\\\\n\t6 & A659412 & Princess & 10/05/2020 02:37:00 PM & 10/05/2020 02:37:00 PM & 03/24/2013 & Adoption   &         & Dog   & Spayed Female & 7 years  & Chihuahua Shorthair Mix            & Brown            \\\\\n\\end{tabular}\n",
            "text/markdown": "\nA data.frame: 6 × 12\n\n| <!--/--> | Animal.ID &lt;chr&gt; | Name &lt;chr&gt; | DateTime &lt;chr&gt; | MonthYear &lt;chr&gt; | Date.of.Birth &lt;chr&gt; | Outcome.Type &lt;chr&gt; | Outcome.Subtype &lt;chr&gt; | Animal.Type &lt;chr&gt; | Sex.upon.Outcome &lt;chr&gt; | Age.upon.Outcome &lt;chr&gt; | Breed &lt;chr&gt; | Color &lt;chr&gt; |\n|---|---|---|---|---|---|---|---|---|---|---|---|---|\n| 1 | A794011 | Chunk    | 05/08/2019 06:20:00 PM | 05/08/2019 06:20:00 PM | 05/02/2017 | Rto-Adopt  | <!----> | Cat   | Neutered Male | 2 years  | Domestic Shorthair Mix             | Brown Tabby/White |\n| 2 | A776359 | Gizmo    | 07/18/2018 04:02:00 PM | 07/18/2018 04:02:00 PM | 07/12/2017 | Adoption   | <!----> | Dog   | Neutered Male | 1 year   | Chihuahua Shorthair Mix            | White/Brown       |\n| 3 | A821648 | <!----> | 08/16/2020 11:38:00 AM | 08/16/2020 11:38:00 AM | 08/16/2019 | Euthanasia | <!----> | Other | Unknown       | 1 year   | Raccoon                            | Gray              |\n| 4 | A720371 | Moose    | 02/13/2016 05:59:00 PM | 02/13/2016 05:59:00 PM | 10/08/2015 | Adoption   | <!----> | Dog   | Neutered Male | 4 months | Anatol Shepherd/Labrador Retriever | Buff              |\n| 5 | A674754 | <!----> | 03/18/2014 11:47:00 AM | 03/18/2014 11:47:00 AM | 03/12/2014 | Transfer   | Partner | Cat   | Intact Male   | 6 days   | Domestic Shorthair Mix             | Orange Tabby      |\n| 6 | A659412 | Princess | 10/05/2020 02:37:00 PM | 10/05/2020 02:37:00 PM | 03/24/2013 | Adoption   | <!----> | Dog   | Spayed Female | 7 years  | Chihuahua Shorthair Mix            | Brown             |\n\n",
            "text/html": [
              "<table class=\"dataframe\">\n",
              "<caption>A data.frame: 6 × 12</caption>\n",
              "<thead>\n",
              "\t<tr><th></th><th scope=col>Animal.ID</th><th scope=col>Name</th><th scope=col>DateTime</th><th scope=col>MonthYear</th><th scope=col>Date.of.Birth</th><th scope=col>Outcome.Type</th><th scope=col>Outcome.Subtype</th><th scope=col>Animal.Type</th><th scope=col>Sex.upon.Outcome</th><th scope=col>Age.upon.Outcome</th><th scope=col>Breed</th><th scope=col>Color</th></tr>\n",
              "\t<tr><th></th><th scope=col>&lt;chr&gt;</th><th scope=col>&lt;chr&gt;</th><th scope=col>&lt;chr&gt;</th><th scope=col>&lt;chr&gt;</th><th scope=col>&lt;chr&gt;</th><th scope=col>&lt;chr&gt;</th><th scope=col>&lt;chr&gt;</th><th scope=col>&lt;chr&gt;</th><th scope=col>&lt;chr&gt;</th><th scope=col>&lt;chr&gt;</th><th scope=col>&lt;chr&gt;</th><th scope=col>&lt;chr&gt;</th></tr>\n",
              "</thead>\n",
              "<tbody>\n",
              "\t<tr><th scope=row>1</th><td>A794011</td><td>Chunk   </td><td>05/08/2019 06:20:00 PM</td><td>05/08/2019 06:20:00 PM</td><td>05/02/2017</td><td>Rto-Adopt </td><td>       </td><td>Cat  </td><td>Neutered Male</td><td>2 years </td><td>Domestic Shorthair Mix            </td><td>Brown Tabby/White</td></tr>\n",
              "\t<tr><th scope=row>2</th><td>A776359</td><td>Gizmo   </td><td>07/18/2018 04:02:00 PM</td><td>07/18/2018 04:02:00 PM</td><td>07/12/2017</td><td>Adoption  </td><td>       </td><td>Dog  </td><td>Neutered Male</td><td>1 year  </td><td>Chihuahua Shorthair Mix           </td><td>White/Brown      </td></tr>\n",
              "\t<tr><th scope=row>3</th><td>A821648</td><td>        </td><td>08/16/2020 11:38:00 AM</td><td>08/16/2020 11:38:00 AM</td><td>08/16/2019</td><td>Euthanasia</td><td>       </td><td>Other</td><td>Unknown      </td><td>1 year  </td><td>Raccoon                           </td><td>Gray             </td></tr>\n",
              "\t<tr><th scope=row>4</th><td>A720371</td><td>Moose   </td><td>02/13/2016 05:59:00 PM</td><td>02/13/2016 05:59:00 PM</td><td>10/08/2015</td><td>Adoption  </td><td>       </td><td>Dog  </td><td>Neutered Male</td><td>4 months</td><td>Anatol Shepherd/Labrador Retriever</td><td>Buff             </td></tr>\n",
              "\t<tr><th scope=row>5</th><td>A674754</td><td>        </td><td>03/18/2014 11:47:00 AM</td><td>03/18/2014 11:47:00 AM</td><td>03/12/2014</td><td>Transfer  </td><td>Partner</td><td>Cat  </td><td>Intact Male  </td><td>6 days  </td><td>Domestic Shorthair Mix            </td><td>Orange Tabby     </td></tr>\n",
              "\t<tr><th scope=row>6</th><td>A659412</td><td>Princess</td><td>10/05/2020 02:37:00 PM</td><td>10/05/2020 02:37:00 PM</td><td>03/24/2013</td><td>Adoption  </td><td>       </td><td>Dog  </td><td>Spayed Female</td><td>7 years </td><td>Chihuahua Shorthair Mix           </td><td>Brown            </td></tr>\n",
              "</tbody>\n",
              "</table>\n"
            ]
          },
          "metadata": {}
        },
        {
          "output_type": "display_data",
          "data": {
            "text/plain": [
              "       Animal.ID Name    DateTime               MonthYear             \n",
              "133971 A833807   Simba   11/27/2021 02:03:00 PM 11/27/2021 02:03:00 PM\n",
              "133972 A841431   *Nandor 11/27/2021 02:54:00 PM 11/27/2021 02:54:00 PM\n",
              "133973 A841902   Cookie  11/27/2021 02:34:00 PM 11/27/2021 02:34:00 PM\n",
              "133974 A846616   A846616 11/27/2021 02:35:00 PM 11/27/2021 02:35:00 PM\n",
              "133975 A841902   Cookie  11/01/2021 02:05:00 PM 11/01/2021 02:05:00 PM\n",
              "133976 A846255   Sailoh  11/27/2021 02:10:00 PM 11/27/2021 02:10:00 PM\n",
              "       Date.of.Birth Outcome.Type Outcome.Subtype Animal.Type Sex.upon.Outcome\n",
              "133971 02/21/2021    Adoption                     Cat         Neutered Male   \n",
              "133972 08/27/2019    Adoption                     Dog         Neutered Male   \n",
              "133973 10/06/2013    Rto-Adopt                    Dog         Spayed Female   \n",
              "133974 08/18/2021    Adoption                     Cat         Neutered Male   \n",
              "133975 10/06/2013    Adoption                     Dog         Spayed Female   \n",
              "133976 06/12/                                                                 \n",
              "       Age.upon.Outcome Breed                                Color          \n",
              "133971 9 months         Domestic Shorthair                   Orange Tabby   \n",
              "133972 2 years          Australian Cattle Dog/Siberian Husky Black/Blue Tick\n",
              "133973 8 years          Pit Bull                             Black/White    \n",
              "133974 3 months         Domestic Shorthair Mix               Black          \n",
              "133975 8 years          Pit Bull                             Black/White    \n",
              "133976                                                                      "
            ],
            "text/latex": "A data.frame: 6 × 12\n\\begin{tabular}{r|llllllllllll}\n  & Animal.ID & Name & DateTime & MonthYear & Date.of.Birth & Outcome.Type & Outcome.Subtype & Animal.Type & Sex.upon.Outcome & Age.upon.Outcome & Breed & Color\\\\\n  & <chr> & <chr> & <chr> & <chr> & <chr> & <chr> & <chr> & <chr> & <chr> & <chr> & <chr> & <chr>\\\\\n\\hline\n\t133971 & A833807 & Simba   & 11/27/2021 02:03:00 PM & 11/27/2021 02:03:00 PM & 02/21/2021 & Adoption  &  & Cat & Neutered Male & 9 months & Domestic Shorthair                   & Orange Tabby   \\\\\n\t133972 & A841431 & *Nandor & 11/27/2021 02:54:00 PM & 11/27/2021 02:54:00 PM & 08/27/2019 & Adoption  &  & Dog & Neutered Male & 2 years  & Australian Cattle Dog/Siberian Husky & Black/Blue Tick\\\\\n\t133973 & A841902 & Cookie  & 11/27/2021 02:34:00 PM & 11/27/2021 02:34:00 PM & 10/06/2013 & Rto-Adopt &  & Dog & Spayed Female & 8 years  & Pit Bull                             & Black/White    \\\\\n\t133974 & A846616 & A846616 & 11/27/2021 02:35:00 PM & 11/27/2021 02:35:00 PM & 08/18/2021 & Adoption  &  & Cat & Neutered Male & 3 months & Domestic Shorthair Mix               & Black          \\\\\n\t133975 & A841902 & Cookie  & 11/01/2021 02:05:00 PM & 11/01/2021 02:05:00 PM & 10/06/2013 & Adoption  &  & Dog & Spayed Female & 8 years  & Pit Bull                             & Black/White    \\\\\n\t133976 & A846255 & Sailoh  & 11/27/2021 02:10:00 PM & 11/27/2021 02:10:00 PM & 06/12/     &           &  &     &               &          &                                      &                \\\\\n\\end{tabular}\n",
            "text/markdown": "\nA data.frame: 6 × 12\n\n| <!--/--> | Animal.ID &lt;chr&gt; | Name &lt;chr&gt; | DateTime &lt;chr&gt; | MonthYear &lt;chr&gt; | Date.of.Birth &lt;chr&gt; | Outcome.Type &lt;chr&gt; | Outcome.Subtype &lt;chr&gt; | Animal.Type &lt;chr&gt; | Sex.upon.Outcome &lt;chr&gt; | Age.upon.Outcome &lt;chr&gt; | Breed &lt;chr&gt; | Color &lt;chr&gt; |\n|---|---|---|---|---|---|---|---|---|---|---|---|---|\n| 133971 | A833807 | Simba   | 11/27/2021 02:03:00 PM | 11/27/2021 02:03:00 PM | 02/21/2021 | Adoption  | <!----> | Cat | Neutered Male | 9 months | Domestic Shorthair                   | Orange Tabby    |\n| 133972 | A841431 | *Nandor | 11/27/2021 02:54:00 PM | 11/27/2021 02:54:00 PM | 08/27/2019 | Adoption  | <!----> | Dog | Neutered Male | 2 years  | Australian Cattle Dog/Siberian Husky | Black/Blue Tick |\n| 133973 | A841902 | Cookie  | 11/27/2021 02:34:00 PM | 11/27/2021 02:34:00 PM | 10/06/2013 | Rto-Adopt | <!----> | Dog | Spayed Female | 8 years  | Pit Bull                             | Black/White     |\n| 133974 | A846616 | A846616 | 11/27/2021 02:35:00 PM | 11/27/2021 02:35:00 PM | 08/18/2021 | Adoption  | <!----> | Cat | Neutered Male | 3 months | Domestic Shorthair Mix               | Black           |\n| 133975 | A841902 | Cookie  | 11/01/2021 02:05:00 PM | 11/01/2021 02:05:00 PM | 10/06/2013 | Adoption  | <!----> | Dog | Spayed Female | 8 years  | Pit Bull                             | Black/White     |\n| 133976 | A846255 | Sailoh  | 11/27/2021 02:10:00 PM | 11/27/2021 02:10:00 PM | 06/12/     | <!----> | <!----> | <!----> | <!----> | <!----> | <!----> | <!----> |\n\n",
            "text/html": [
              "<table class=\"dataframe\">\n",
              "<caption>A data.frame: 6 × 12</caption>\n",
              "<thead>\n",
              "\t<tr><th></th><th scope=col>Animal.ID</th><th scope=col>Name</th><th scope=col>DateTime</th><th scope=col>MonthYear</th><th scope=col>Date.of.Birth</th><th scope=col>Outcome.Type</th><th scope=col>Outcome.Subtype</th><th scope=col>Animal.Type</th><th scope=col>Sex.upon.Outcome</th><th scope=col>Age.upon.Outcome</th><th scope=col>Breed</th><th scope=col>Color</th></tr>\n",
              "\t<tr><th></th><th scope=col>&lt;chr&gt;</th><th scope=col>&lt;chr&gt;</th><th scope=col>&lt;chr&gt;</th><th scope=col>&lt;chr&gt;</th><th scope=col>&lt;chr&gt;</th><th scope=col>&lt;chr&gt;</th><th scope=col>&lt;chr&gt;</th><th scope=col>&lt;chr&gt;</th><th scope=col>&lt;chr&gt;</th><th scope=col>&lt;chr&gt;</th><th scope=col>&lt;chr&gt;</th><th scope=col>&lt;chr&gt;</th></tr>\n",
              "</thead>\n",
              "<tbody>\n",
              "\t<tr><th scope=row>133971</th><td>A833807</td><td>Simba  </td><td>11/27/2021 02:03:00 PM</td><td>11/27/2021 02:03:00 PM</td><td>02/21/2021</td><td>Adoption </td><td></td><td>Cat</td><td>Neutered Male</td><td>9 months</td><td>Domestic Shorthair                  </td><td>Orange Tabby   </td></tr>\n",
              "\t<tr><th scope=row>133972</th><td>A841431</td><td>*Nandor</td><td>11/27/2021 02:54:00 PM</td><td>11/27/2021 02:54:00 PM</td><td>08/27/2019</td><td>Adoption </td><td></td><td>Dog</td><td>Neutered Male</td><td>2 years </td><td>Australian Cattle Dog/Siberian Husky</td><td>Black/Blue Tick</td></tr>\n",
              "\t<tr><th scope=row>133973</th><td>A841902</td><td>Cookie </td><td>11/27/2021 02:34:00 PM</td><td>11/27/2021 02:34:00 PM</td><td>10/06/2013</td><td>Rto-Adopt</td><td></td><td>Dog</td><td>Spayed Female</td><td>8 years </td><td>Pit Bull                            </td><td>Black/White    </td></tr>\n",
              "\t<tr><th scope=row>133974</th><td>A846616</td><td>A846616</td><td>11/27/2021 02:35:00 PM</td><td>11/27/2021 02:35:00 PM</td><td>08/18/2021</td><td>Adoption </td><td></td><td>Cat</td><td>Neutered Male</td><td>3 months</td><td>Domestic Shorthair Mix              </td><td>Black          </td></tr>\n",
              "\t<tr><th scope=row>133975</th><td>A841902</td><td>Cookie </td><td>11/01/2021 02:05:00 PM</td><td>11/01/2021 02:05:00 PM</td><td>10/06/2013</td><td>Adoption </td><td></td><td>Dog</td><td>Spayed Female</td><td>8 years </td><td>Pit Bull                            </td><td>Black/White    </td></tr>\n",
              "\t<tr><th scope=row>133976</th><td>A846255</td><td>Sailoh </td><td>11/27/2021 02:10:00 PM</td><td>11/27/2021 02:10:00 PM</td><td>06/12/    </td><td>         </td><td></td><td>   </td><td>             </td><td>        </td><td>                                    </td><td>               </td></tr>\n",
              "</tbody>\n",
              "</table>\n"
            ]
          },
          "metadata": {}
        }
      ]
    },
    {
      "cell_type": "code",
      "metadata": {
        "colab": {
          "base_uri": "https://localhost:8080/",
          "height": 35
        },
        "id": "3FWqxttNH_5O",
        "outputId": "644815ee-ca96-4f2a-fc94-64e255d83e53"
      },
      "source": [
        "# The class() function allows you to identify the variable type\n",
        "class(AustinAnimalShelter_BaseR)"
      ],
      "execution_count": 4,
      "outputs": [
        {
          "output_type": "display_data",
          "data": {
            "text/plain": [
              "[1] \"data.frame\""
            ],
            "text/latex": "'data.frame'",
            "text/markdown": "'data.frame'",
            "text/html": [
              "'data.frame'"
            ]
          },
          "metadata": {}
        }
      ]
    },
    {
      "cell_type": "code",
      "metadata": {
        "colab": {
          "base_uri": "https://localhost:8080/"
        },
        "id": "GlJ7WW7cJCQY",
        "outputId": "befa446a-41d4-4edd-8d5c-6eccfbbf51f5"
      },
      "source": [
        "# The str() function allows you to identify the structure of the variable\n",
        "str(AustinAnimalShelter_BaseR)"
      ],
      "execution_count": 9,
      "outputs": [
        {
          "output_type": "stream",
          "name": "stdout",
          "text": [
            "'data.frame':\t135660 obs. of  12 variables:\n",
            " $ Animal.ID       : chr  \"A794011\" \"A776359\" \"A821648\" \"A720371\" ...\n",
            " $ Name            : chr  \"Chunk\" \"Gizmo\" \"\" \"Moose\" ...\n",
            " $ DateTime        : chr  \"05/08/2019 06:20:00 PM\" \"07/18/2018 04:02:00 PM\" \"08/16/2020 11:38:00 AM\" \"02/13/2016 05:59:00 PM\" ...\n",
            " $ MonthYear       : chr  \"05/08/2019 06:20:00 PM\" \"07/18/2018 04:02:00 PM\" \"08/16/2020 11:38:00 AM\" \"02/13/2016 05:59:00 PM\" ...\n",
            " $ Date.of.Birth   : chr  \"05/02/2017\" \"07/12/2017\" \"08/16/2019\" \"10/08/2015\" ...\n",
            " $ Outcome.Type    : chr  \"Rto-Adopt\" \"Adoption\" \"Euthanasia\" \"Adoption\" ...\n",
            " $ Outcome.Subtype : chr  \"\" \"\" \"\" \"\" ...\n",
            " $ Animal.Type     : chr  \"Cat\" \"Dog\" \"Other\" \"Dog\" ...\n",
            " $ Sex.upon.Outcome: chr  \"Neutered Male\" \"Neutered Male\" \"Unknown\" \"Neutered Male\" ...\n",
            " $ Age.upon.Outcome: chr  \"2 years\" \"1 year\" \"1 year\" \"4 months\" ...\n",
            " $ Breed           : chr  \"Domestic Shorthair Mix\" \"Chihuahua Shorthair Mix\" \"Raccoon\" \"Anatol Shepherd/Labrador Retriever\" ...\n",
            " $ Color           : chr  \"Brown Tabby/White\" \"White/Brown\" \"Gray\" \"Buff\" ...\n"
          ]
        }
      ]
    },
    {
      "cell_type": "markdown",
      "metadata": {
        "id": "oTNXErEjJOKl"
      },
      "source": [
        "#### Self-Check Questions \n",
        "\n",
        "\n",
        "1.   How many columns are contained in this data.frame?\n",
        "2.   How many rows (observations) are contained in this data.frame?\n",
        "3.   Provide a detailed explaination of what a 'row' represented in this data.frame?   \n",
        "\n"
      ]
    },
    {
      "cell_type": "markdown",
      "source": [
        "## Factors in R"
      ],
      "metadata": {
        "id": "DfJjLRqg7OsK"
      }
    },
    {
      "cell_type": "code",
      "source": [
        "# Reading data in using read.csv via Base R\n",
        "# Treating all character variables as factors\n",
        "AustinAnimalShelter_BaseR_AsFactor <- read.csv(\"/content/sample_data/Austin_Animal_Center_Outcomes.csv\", stringsAsFactors = TRUE)"
      ],
      "metadata": {
        "id": "LcLS5uC87OH6"
      },
      "execution_count": 10,
      "outputs": []
    },
    {
      "cell_type": "code",
      "source": [
        "# The str() function allows you to identify the structure of the variable\n",
        "str(AustinAnimalShelter_BaseR_AsFactor)"
      ],
      "metadata": {
        "colab": {
          "base_uri": "https://localhost:8080/"
        },
        "id": "HhUl3y0S7XLx",
        "outputId": "833475ef-036f-4dea-ab0e-603c3e3b87c4"
      },
      "execution_count": 12,
      "outputs": [
        {
          "output_type": "stream",
          "name": "stdout",
          "text": [
            "'data.frame':\t135660 obs. of  12 variables:\n",
            " $ Animal.ID       : Factor w/ 121316 levels \"A006100\",\"A047759\",..: 90381 78900 107904 42378 11329 3938 104625 21736 15606 116715 ...\n",
            " $ Name            : Factor w/ 22677 levels \"\",\"*\",\"* Athos\",..: 12757 14610 1 17891 1 19311 19482 2289 8702 21938 ...\n",
            " $ DateTime        : Factor w/ 112657 levels \"01/01/2014 01:00:00 PM\",..: 34297 57758 67239 11891 20756 83627 33743 88101 63496 68583 ...\n",
            " $ MonthYear       : Factor w/ 112657 levels \"01/01/2014 01:00:00 PM\",..: 34297 57758 67239 11891 20756 83627 33743 88101 63496 68583 ...\n",
            " $ Date.of.Birth   : Factor w/ 7457 levels \"01/01/1999\",\"01/01/2001\",..: 2482 3947 4659 5744 1425 1675 1211 4350 3150 4457 ...\n",
            " $ Outcome.Type    : Factor w/ 10 levels \"\",\"Adoption\",..: 9 2 5 2 10 2 2 2 2 2 ...\n",
            " $ Outcome.Subtype : Factor w/ 27 levels \"\",\"Aggressive\",..: 1 1 1 1 20 1 12 1 1 1 ...\n",
            " $ Animal.Type     : Factor w/ 5 levels \"Bird\",\"Cat\",\"Dog\",..: 2 3 5 3 2 3 3 2 2 3 ...\n",
            " $ Sex.upon.Outcome: Factor w/ 6 levels \"Intact Female\",..: 3 3 6 3 2 5 3 3 3 5 ...\n",
            " $ Age.upon.Outcome: Factor w/ 54 levels \"-1 years\",\"-2 years\",..: 25 9 9 38 45 49 25 23 23 25 ...\n",
            " $ Breed           : Factor w/ 2720 levels \"Abyssinian\",\"Abyssinian Mix\",..: 1203 853 2240 136 1203 853 79 1203 1203 511 ...\n",
            " $ Color           : Factor w/ 614 levels \"Agouti\",\"Agouti/Brown Tabby\",..: 180 559 314 214 380 136 559 10 583 65 ...\n"
          ]
        }
      ]
    },
    {
      "cell_type": "markdown",
      "source": [
        "A <strong>factor</strong> specification is needed for summaries."
      ],
      "metadata": {
        "id": "7w8JbarU7npp"
      }
    },
    {
      "cell_type": "code",
      "source": [
        "AnimalCounts <- table(AustinAnimalShelter_BaseR_AsFactor$Animal.Type)\n",
        "barplot(AnimalCounts, xlab=\"Type of Animal\")"
      ],
      "metadata": {
        "colab": {
          "base_uri": "https://localhost:8080/",
          "height": 437
        },
        "id": "nKDOWpM87nwv",
        "outputId": "87a93f34-5560-4739-c23c-4cf4c5777bac"
      },
      "execution_count": 17,
      "outputs": [
        {
          "output_type": "display_data",
          "data": {
            "image/png": "[encoded data removed]",
            "text/plain": [
              "plot without title"
            ]
          },
          "metadata": {
            "image/png": {
              "width": 420,
              "height": 420
            }
          }
        }
      ]
    },
    {
      "cell_type": "markdown",
      "metadata": {
        "id": "kzLE9xOPKwdp"
      },
      "source": [
        "## Reading Data into R (using Tidyverse) "
      ]
    },
    {
      "cell_type": "markdown",
      "metadata": {
        "id": "8V3Ft1xeK9YL"
      },
      "source": [
        "Tidyverse [ [Link](http://tidyverse.org) ] is a collection of R packages designed for data science. The R packages contained in this collection have been written to overcome some of the inherent limitations of base R.  For example, tidyverse uses a modifed version of a data.frame. "
      ]
    },
    {
      "cell_type": "code",
      "metadata": {
        "colab": {
          "base_uri": "https://localhost:8080/"
        },
        "id": "PlJhfbnzDE8s",
        "outputId": "0662f7aa-c572-4461-db21-88f10735b72d"
      },
      "source": [
        "# Load the tidyverse() libary in this session of R\n",
        "library(tidyverse)"
      ],
      "execution_count": null,
      "outputs": [
        {
          "output_type": "stream",
          "name": "stderr",
          "text": [
            "Warning message in system(\"timedatectl\", intern = TRUE):\n",
            "“running command 'timedatectl' had status 1”\n",
            "── \u001b[1mAttaching packages\u001b[22m ─────────────────────────────────────── tidyverse 1.3.1 ──\n",
            "\n",
            "\u001b[32m✔\u001b[39m \u001b[34mggplot2\u001b[39m 3.3.5     \u001b[32m✔\u001b[39m \u001b[34mpurrr  \u001b[39m 0.3.4\n",
            "\u001b[32m✔\u001b[39m \u001b[34mtibble \u001b[39m 3.1.6     \u001b[32m✔\u001b[39m \u001b[34mdplyr  \u001b[39m 1.0.7\n",
            "\u001b[32m✔\u001b[39m \u001b[34mtidyr  \u001b[39m 1.1.4     \u001b[32m✔\u001b[39m \u001b[34mstringr\u001b[39m 1.4.0\n",
            "\u001b[32m✔\u001b[39m \u001b[34mreadr  \u001b[39m 2.1.1     \u001b[32m✔\u001b[39m \u001b[34mforcats\u001b[39m 0.5.1\n",
            "\n",
            "── \u001b[1mConflicts\u001b[22m ────────────────────────────────────────── tidyverse_conflicts() ──\n",
            "\u001b[31m✖\u001b[39m \u001b[34mdplyr\u001b[39m::\u001b[32mfilter()\u001b[39m masks \u001b[34mstats\u001b[39m::filter()\n",
            "\u001b[31m✖\u001b[39m \u001b[34mdplyr\u001b[39m::\u001b[32mlag()\u001b[39m    masks \u001b[34mstats\u001b[39m::lag()\n",
            "\n"
          ]
        }
      ]
    },
    {
      "cell_type": "code",
      "metadata": {
        "colab": {
          "base_uri": "https://localhost:8080/"
        },
        "id": "OHbIi8elF0ru",
        "outputId": "b7e0356d-0254-4fcf-b1cb-7cdc7caabcb0"
      },
      "source": [
        "# Use read_csv() function (which is part of tidyverse) to read in the dataset\n",
        "AustinAnimalShelter_Tidyverse <- read_csv(\"/content/sample_data/Austin_Animal_Center_Outcomes.csv\")"
      ],
      "execution_count": null,
      "outputs": [
        {
          "output_type": "stream",
          "name": "stderr",
          "text": [
            "\u001b[1mRows: \u001b[22m\u001b[34m135660\u001b[39m \u001b[1mColumns: \u001b[22m\u001b[34m12\u001b[39m\n",
            "\n",
            "\u001b[36m──\u001b[39m \u001b[1mColumn specification\u001b[22m \u001b[36m────────────────────────────────────────────────────────\u001b[39m\n",
            "\u001b[1mDelimiter:\u001b[22m \",\"\n",
            "\u001b[31mchr\u001b[39m (12): Animal ID, Name, DateTime, MonthYear, Date of Birth, Outcome Type,...\n",
            "\n",
            "\n",
            "\u001b[36mℹ\u001b[39m Use \u001b[30m\u001b[47m\u001b[30m\u001b[47m`spec()`\u001b[47m\u001b[30m\u001b[49m\u001b[39m to retrieve the full column specification for this data.\n",
            "\u001b[36mℹ\u001b[39m Specify the column types or set \u001b[30m\u001b[47m\u001b[30m\u001b[47m`show_col_types = FALSE`\u001b[47m\u001b[30m\u001b[49m\u001b[39m to quiet this message.\n",
            "\n"
          ]
        }
      ]
    },
    {
      "cell_type": "code",
      "metadata": {
        "colab": {
          "base_uri": "https://localhost:8080/",
          "height": 34
        },
        "id": "EPzo7XzEDNg0",
        "outputId": "1da17a17-71bb-4300-a1d2-a72641c32ad9"
      },
      "source": [
        "#Get a list of current variables\n",
        "ls()"
      ],
      "execution_count": null,
      "outputs": [
        {
          "output_type": "display_data",
          "data": {
            "text/plain": [
              "[1] \"AustinAnimalShelter_BaseR\"     \"AustinAnimalShelter_Tidyverse\""
            ],
            "text/latex": "\\begin{enumerate*}\n\\item 'AustinAnimalShelter\\_BaseR'\n\\item 'AustinAnimalShelter\\_Tidyverse'\n\\end{enumerate*}\n",
            "text/markdown": "1. 'AustinAnimalShelter_BaseR'\n2. 'AustinAnimalShelter_Tidyverse'\n\n\n",
            "text/html": [
              "<style>\n",
              ".list-inline {list-style: none; margin:0; padding: 0}\n",
              ".list-inline>li {display: inline-block}\n",
              ".list-inline>li:not(:last-child)::after {content: \"\\00b7\"; padding: 0 .5ex}\n",
              "</style>\n",
              "<ol class=list-inline><li>'AustinAnimalShelter_BaseR'</li><li>'AustinAnimalShelter_Tidyverse'</li></ol>\n"
            ]
          },
          "metadata": {}
        }
      ]
    },
    {
      "cell_type": "code",
      "source": [
        "str(AustinAnimalShelter_Tidyverse)"
      ],
      "metadata": {
        "colab": {
          "base_uri": "https://localhost:8080/"
        },
        "id": "cOeZ3SbGc5Sl",
        "outputId": "2578915c-260e-4a9d-af8f-c87eea5ab9fb"
      },
      "execution_count": null,
      "outputs": [
        {
          "output_type": "stream",
          "name": "stdout",
          "text": [
            "spec_tbl_df [135,660 × 12] (S3: spec_tbl_df/tbl_df/tbl/data.frame)\n",
            " $ Animal ID       : chr [1:135660] \"A794011\" \"A776359\" \"A821648\" \"A720371\" ...\n",
            " $ Name            : chr [1:135660] \"Chunk\" \"Gizmo\" NA \"Moose\" ...\n",
            " $ DateTime        : chr [1:135660] \"05/08/2019 06:20:00 PM\" \"07/18/2018 04:02:00 PM\" \"08/16/2020 11:38:00 AM\" \"02/13/2016 05:59:00 PM\" ...\n",
            " $ MonthYear       : chr [1:135660] \"05/08/2019 06:20:00 PM\" \"07/18/2018 04:02:00 PM\" \"08/16/2020 11:38:00 AM\" \"02/13/2016 05:59:00 PM\" ...\n",
            " $ Date of Birth   : chr [1:135660] \"05/02/2017\" \"07/12/2017\" \"08/16/2019\" \"10/08/2015\" ...\n",
            " $ Outcome Type    : chr [1:135660] \"Rto-Adopt\" \"Adoption\" \"Euthanasia\" \"Adoption\" ...\n",
            " $ Outcome Subtype : chr [1:135660] NA NA NA NA ...\n",
            " $ Animal Type     : chr [1:135660] \"Cat\" \"Dog\" \"Other\" \"Dog\" ...\n",
            " $ Sex upon Outcome: chr [1:135660] \"Neutered Male\" \"Neutered Male\" \"Unknown\" \"Neutered Male\" ...\n",
            " $ Age upon Outcome: chr [1:135660] \"2 years\" \"1 year\" \"1 year\" \"4 months\" ...\n",
            " $ Breed           : chr [1:135660] \"Domestic Shorthair Mix\" \"Chihuahua Shorthair Mix\" \"Raccoon\" \"Anatol Shepherd/Labrador Retriever\" ...\n",
            " $ Color           : chr [1:135660] \"Brown Tabby/White\" \"White/Brown\" \"Gray\" \"Buff\" ...\n",
            " - attr(*, \"spec\")=\n",
            "  .. cols(\n",
            "  ..   `Animal ID` = \u001b[31mcol_character()\u001b[39m,\n",
            "  ..   Name = \u001b[31mcol_character()\u001b[39m,\n",
            "  ..   DateTime = \u001b[31mcol_character()\u001b[39m,\n",
            "  ..   MonthYear = \u001b[31mcol_character()\u001b[39m,\n",
            "  ..   `Date of Birth` = \u001b[31mcol_character()\u001b[39m,\n",
            "  ..   `Outcome Type` = \u001b[31mcol_character()\u001b[39m,\n",
            "  ..   `Outcome Subtype` = \u001b[31mcol_character()\u001b[39m,\n",
            "  ..   `Animal Type` = \u001b[31mcol_character()\u001b[39m,\n",
            "  ..   `Sex upon Outcome` = \u001b[31mcol_character()\u001b[39m,\n",
            "  ..   `Age upon Outcome` = \u001b[31mcol_character()\u001b[39m,\n",
            "  ..   Breed = \u001b[31mcol_character()\u001b[39m,\n",
            "  ..   Color = \u001b[31mcol_character()\u001b[39m\n",
            "  .. )\n",
            " - attr(*, \"problems\")=<externalptr> \n"
          ]
        }
      ]
    },
    {
      "cell_type": "markdown",
      "metadata": {
        "id": "y3HwgqsyQh6J"
      },
      "source": [
        "### Self-Check Questions\n",
        "\n",
        "\n",
        "1.   Run the class() function on dataset that was read into R using read_csv().  What is the variable type?\n",
        "2.   Run the str() function on the dataset that was read into R using read_csv().  What is the name of the first column?  How does this name differ than the data.frame read in from read.csv()?  Briefly discuss.\n",
        "\n"
      ]
    },
    {
      "cell_type": "markdown",
      "metadata": {
        "id": "blCwAvhzQGIQ"
      },
      "source": [
        "## Data Structures for structered data in R\n",
        "\n"
      ]
    },
    {
      "cell_type": "markdown",
      "metadata": {
        "id": "9nXpEnfgRWdL"
      },
      "source": [
        "Three common structures for tabled data in R\n",
        "\n",
        "\n",
        "\n",
        "*   Matrix\n",
        "> Collection of vectors:  All must be the same length <strong>and</strong> same data type\n",
        "*   Data.Frame\n",
        "> Collection of vectors: All must be the same length\n",
        "* Tibble -- tabled data.frame\n",
        "> Collection of vectors\n",
        "\n",
        "\n",
        "\n",
        "\n",
        "<p align='center'><img src=\"https://drive.google.com/uc?export=view&id=1LIrZ9yiPZ147CHZs9uUjVofM_Ik0QvZ4\"></img></p> "
      ]
    }
  ]
}