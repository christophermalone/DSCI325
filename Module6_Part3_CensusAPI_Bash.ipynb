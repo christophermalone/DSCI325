{
  "cells": [
    {
      "cell_type": "markdown",
      "metadata": {
        "id": "view-in-github",
        "colab_type": "text"
      },
      "source": [
        "<a href=\"https://colab.research.google.com/github/christophermalone/DSCI325/blob/main/Module6_Part3_CensusAPI_Bash.ipynb\" target=\"_parent\"><img src=\"https://colab.research.google.com/assets/colab-badge.svg\" alt=\"Open In Colab\"/></a>"
      ]
    },
    {
      "cell_type": "markdown",
      "metadata": {
        "id": "-xqhMEbC7xV4"
      },
      "source": [
        "# Census API - BASH"
      ]
    },
    {
      "cell_type": "markdown",
      "metadata": {
        "id": "loYbRSDsZ0b1"
      },
      "source": [
        "Bash is a command-line language that is widely available for a variety of operating systems, e.g. Linux, Mac, Windows.  Bash has some efficiences that other languages do not - especially regarding the managment of files.\n",
        "\n",
        "One method of getting a file from a server with bash is **curl**.  Curl stands for Client URL and is a command-line tool for transferring files using various network protocals.  Curl allows one to get or push files using URL syntax.\n",
        "\n",
        "\n",
        "Source: https://en.wikipedia.org/wiki/CURL"
      ]
    },
    {
      "cell_type": "markdown",
      "source": [
        "<table width='100%' ><tr><td bgcolor='green'></td></tr></table>\n",
        "\n",
        "## Example 6.3.Bash\n",
        "Consider an investigation on the proportion of people that bicycle to work. For this investigation, data will be obtained from the US Census Bureau.  The American Community Survey (ACS) - 5 Year - Subject data will be used to pull this data.\n",
        " \n",
        "\n",
        "*   Data Source: American Community Survey - 5 Year data\n",
        "*   Census Unit:  Census Tract\n",
        "*   Variables: NAME of Census Tract; S0801_C01_001E, i.e. number of workers age 16 +; S0801_C01_009E, i.e. % of workers who use public tranportation to get to work, S0801_C01_011E, i.e. % of workers who bicyle to work\n",
        "*   Other:  for = tract:*, i.e. all tracts, in = state:01, i.e. FIPS code for AL\n",
        "\n",
        "Note:  There are a very large number of census tracts in the US; thus, specifying a state is required.\n",
        "\n",
        "Source: https://www.census.gov/data/developers/data-sets/acs-5year.html\n",
        "\n",
        "<table width='100%' ><tr><td bgcolor='green'></td></tr></table>"
      ],
      "metadata": {
        "id": "Y-260Jn4pqoI"
      }
    },
    {
      "cell_type": "markdown",
      "source": [
        "## Preparing a Single File"
      ],
      "metadata": {
        "id": "HFqyApz9ywQ9"
      }
    },
    {
      "cell_type": "markdown",
      "source": [
        "Consider an inital call the Census Bureau API via a web browser."
      ],
      "metadata": {
        "id": "kAgOuCwipdNG"
      }
    },
    {
      "cell_type": "markdown",
      "source": [
        "<p align='center'><img src=\"https://drive.google.com/uc?export=view&id=1U0tGSDVDLxfAbb6ZgWfes9OHyJI6oI9b\" width='75%' height='75%'></p>"
      ],
      "metadata": {
        "id": "5hI93SB1s2bX"
      }
    },
    {
      "cell_type": "markdown",
      "source": [
        "Source:  https://api.census.gov/data/2020/acs/acs5/subject?get=NAME,S0801_C01_001E,S0801_C01_009E,S0801_C01_011E&for=tract:*&in=state:01"
      ],
      "metadata": {
        "id": "PkE647tVpMr4"
      }
    },
    {
      "cell_type": "markdown",
      "source": [
        "The curl command can be used to retrieve the same information; however, instead of sending the information to the browser, information will be saved into a file.\n",
        "<h1 align='center'><font color='green'>curl -o <i> < filename > </i> <i> < url > </i></font></h1>"
      ],
      "metadata": {
        "id": "9gmuoqEMtHxz"
      }
    },
    {
      "cell_type": "markdown",
      "source": [
        "Note:  The **-o** option will write the contents to a file."
      ],
      "metadata": {
        "id": "zVyLtB_rvKa4"
      }
    },
    {
      "cell_type": "code",
      "execution_count": 61,
      "metadata": {
        "colab": {
          "base_uri": "https://localhost:8080/"
        },
        "id": "DlF-bxKDsusC",
        "outputId": "0d2a0dc8-78c0-46c4-98ee-5f54e8ad7e56"
      },
      "outputs": [
        {
          "output_type": "stream",
          "name": "stderr",
          "text": [
            "  % Total    % Received % Xferd  Average Speed   Time    Time     Time  Current\n",
            "                                 Dload  Upload   Total   Spent    Left  Speed\n",
            "\r  0     0    0     0    0     0      0      0 --:--:-- --:--:-- --:--:--     0\r100 53599    0 53599    0     0  64190      0 --:--:-- --:--:-- --:--:-- 64113\r100  123k    0  123k    0     0   136k      0 --:--:-- --:--:-- --:--:--  136k\n"
          ]
        }
      ],
      "source": [
        "#bash command to download the AL data from Census Bureau API\n",
        "%%bash\n",
        "curl -o /content/sample_data/AL.txt \"https://api.census.gov/data/2020/acs/acs5/subject?get=NAME,S0801_C01_001E,S0801_C01_009E,S0801_C01_011E&for=tract:*&in=state:01\""
      ]
    },
    {
      "cell_type": "markdown",
      "metadata": {
        "id": "BUNts9OfwXJb"
      },
      "source": [
        "Taking a look at this file using the head bash command."
      ]
    },
    {
      "cell_type": "code",
      "source": [
        "%%bash\n",
        "  head /content/sample_data/AL.txt"
      ],
      "metadata": {
        "colab": {
          "base_uri": "https://localhost:8080/"
        },
        "id": "r5-tJp5cwFG8",
        "outputId": "7b305b17-ddd8-46a7-a6cd-2a1d6e17dec5"
      },
      "execution_count": 53,
      "outputs": [
        {
          "output_type": "stream",
          "name": "stdout",
          "text": [
            "[[\"NAME\",\"S0801_C01_001E\",\"S0801_C01_009E\",\"S0801_C01_011E\",\"state\",\"county\",\"tract\"],\n",
            "[\"Census Tract 36, Jefferson County, Alabama\",\"1921\",\"0.0\",\"0.0\",\"01\",\"073\",\"003600\"],\n",
            "[\"Census Tract 37, Jefferson County, Alabama\",\"1399\",\"6.7\",\"0.0\",\"01\",\"073\",\"003700\"],\n",
            "[\"Census Tract 38.02, Jefferson County, Alabama\",\"2450\",\"4.9\",\"0.5\",\"01\",\"073\",\"003802\"],\n",
            "[\"Census Tract 38.03, Jefferson County, Alabama\",\"1737\",\"3.1\",\"0.0\",\"01\",\"073\",\"003803\"],\n",
            "[\"Census Tract 39, Jefferson County, Alabama\",\"502\",\"3.2\",\"0.0\",\"01\",\"073\",\"003900\"],\n",
            "[\"Census Tract 40, Jefferson County, Alabama\",\"833\",\"10.7\",\"0.0\",\"01\",\"073\",\"004000\"],\n",
            "[\"Census Tract 42, Jefferson County, Alabama\",\"804\",\"4.4\",\"0.0\",\"01\",\"073\",\"004200\"],\n",
            "[\"Census Tract 45.01, Jefferson County, Alabama\",\"905\",\"0.0\",\"0.0\",\"01\",\"073\",\"004501\"],\n",
            "[\"Census Tract 45.02, Jefferson County, Alabama\",\"1553\",\"0.0\",\"0.3\",\"01\",\"073\",\"004502\"],\n"
          ]
        }
      ]
    },
    {
      "cell_type": "markdown",
      "source": [
        "Data from each state will eventually be gathered and the data from all states will be merged.  Thus, for now we will remove the header row so that this information is not mistakened as a record in the merged data."
      ],
      "metadata": {
        "id": "mVJdDS5Ywiuo"
      }
    },
    {
      "cell_type": "code",
      "execution_count": 54,
      "metadata": {
        "id": "GC7iClrUwXQJ"
      },
      "outputs": [],
      "source": [
        "#Using sed to remove the 1st line in the file\n",
        "%%bash\n",
        " sed -i 1d /content/sample_data/AL.txt"
      ]
    },
    {
      "cell_type": "markdown",
      "source": [
        "The following sed commands will remove all [ and ] characters from the data file."
      ],
      "metadata": {
        "id": "m2FB8AQnxVV1"
      }
    },
    {
      "cell_type": "code",
      "execution_count": 55,
      "metadata": {
        "id": "wpVwBj0bweMF"
      },
      "outputs": [],
      "source": [
        "#Using sed to remove [ and ] characters\n",
        "%%bash\n",
        " sed -i 's/\\[//g' /content/sample_data/AL.txt\n",
        " sed -i 's/\\]//g' /content/sample_data/AL.txt"
      ]
    },
    {
      "cell_type": "markdown",
      "source": [
        "The following sed command will remove all the , at the end of each line."
      ],
      "metadata": {
        "id": "2OJPQsmFxkwy"
      }
    },
    {
      "cell_type": "code",
      "execution_count": 56,
      "metadata": {
        "id": "sqLwKMCPxoyz"
      },
      "outputs": [],
      "source": [
        "%%bash\n",
        "  sed -i 's/,$//' /content/sample_data/AL.txt"
      ]
    },
    {
      "cell_type": "markdown",
      "source": [
        "The last issue that needs to be dealt with is to include a line break for the last record in each file.  This will be needed when the files are merged together."
      ],
      "metadata": {
        "id": "4nDyH_JVE8wG"
      }
    },
    {
      "cell_type": "code",
      "source": [
        "%%bash\n",
        "  sed -i -e '$a\\' /content/sample_data/AL.txt"
      ],
      "metadata": {
        "id": "wdpCb_JDE83H"
      },
      "execution_count": 57,
      "outputs": []
    },
    {
      "cell_type": "markdown",
      "source": [
        "Finally, before moving onto working with two files, let's remove all files in the /content/sample_data/ folder."
      ],
      "metadata": {
        "id": "G4JWTa6vyTdP"
      }
    },
    {
      "cell_type": "code",
      "execution_count": 67,
      "metadata": {
        "id": "9hnRVtNcteRq"
      },
      "outputs": [],
      "source": [
        "#Remove all files from the /content/sample_data/ folder\n",
        "%%bash\n",
        "rm /content/sample_data/*.*"
      ]
    },
    {
      "cell_type": "markdown",
      "metadata": {
        "id": "uWRj05QwzzJb"
      },
      "source": [
        "## Working with Two Files"
      ]
    },
    {
      "cell_type": "markdown",
      "source": [
        "The following curl commands will call the Census Bureau API and obtain data for AL and AK.  Once again, the files (or data) being retrieved will be saved into two seperate text files."
      ],
      "metadata": {
        "id": "bnNK3wzgzD5S"
      }
    },
    {
      "cell_type": "code",
      "execution_count": 68,
      "metadata": {
        "colab": {
          "base_uri": "https://localhost:8080/"
        },
        "id": "v9uAZwzmzzPi",
        "outputId": "5bef82ae-d727-4e00-f73b-5eb2910e9b03"
      },
      "outputs": [
        {
          "output_type": "stream",
          "name": "stderr",
          "text": [
            "  % Total    % Received % Xferd  Average Speed   Time    Time     Time  Current\n",
            "                                 Dload  Upload   Total   Spent    Left  Speed\n",
            "\r  0     0    0     0    0     0      0      0 --:--:-- --:--:-- --:--:--     0\r100  8639    0  8639    0     0  11674      0 --:--:-- --:--:-- --:--:-- 11658\r100  123k    0  123k    0     0   147k      0 --:--:-- --:--:-- --:--:--  147k\n",
            "  % Total    % Received % Xferd  Average Speed   Time    Time     Time  Current\n",
            "                                 Dload  Upload   Total   Spent    Left  Speed\n",
            "\r  0     0    0     0    0     0      0      0 --:--:-- --:--:-- --:--:--     0\r100  8639    0  8639    0     0  12874      0 --:--:-- --:--:-- --:--:-- 12855\r100 16748    0 16748    0     0  24959      0 --:--:-- --:--:-- --:--:-- 24922\n"
          ]
        }
      ],
      "source": [
        "#Using curl to retrieve data from Census Bureau API\n",
        "%%bash\n",
        "curl -o /content/sample_data/AL.txt \"https://api.census.gov/data/2020/acs/acs5/subject?get=NAME,S0801_C01_001E,S0801_C01_009E,S0801_C01_011E&for=tract:*&in=state:01\"\n",
        "curl -o /content/sample_data/AK.txt \"https://api.census.gov/data/2020/acs/acs5/subject?get=NAME,S0801_C01_001E,S0801_C01_009E,S0801_C01_011E&for=tract:*&in=state:02\""
      ]
    },
    {
      "cell_type": "markdown",
      "metadata": {
        "id": "UpAwkouNz49N"
      },
      "source": [
        "Again, removing the header information from both files.  A wildcard, i.e. \\*, is being used here when referring to the file to remove the header from.  This will remove the header information from **all** text files in this directory."
      ]
    },
    {
      "cell_type": "code",
      "execution_count": 69,
      "metadata": {
        "id": "77VwB7_-z5DV"
      },
      "outputs": [],
      "source": [
        "#Delete 1st line from all *.txt files\n",
        "%%bash\n",
        " sed -i 1d /content/sample_data/*.txt"
      ]
    },
    {
      "cell_type": "markdown",
      "metadata": {
        "id": "_Mgc4KjEz8sC"
      },
      "source": [
        "The following sed commands will remove all [ and ] characters from the data file."
      ]
    },
    {
      "cell_type": "code",
      "execution_count": 70,
      "metadata": {
        "id": "tDJdv8TVz8x9"
      },
      "outputs": [],
      "source": [
        "%%bash\n",
        " sed -i 's/\\[//g' /content/sample_data/*.txt\n",
        " sed -i 's/\\]//g' /content/sample_data/*.txt"
      ]
    },
    {
      "cell_type": "markdown",
      "metadata": {
        "id": "XXPK-w5pz-yr"
      },
      "source": [
        "The following sed command will remove all the , at the end of each line."
      ]
    },
    {
      "cell_type": "code",
      "execution_count": 71,
      "metadata": {
        "id": "qGkKMQwZz-4T"
      },
      "outputs": [],
      "source": [
        "%%bash\n",
        "  sed -i 's/,$//' /content/sample_data/*.txt"
      ]
    },
    {
      "cell_type": "markdown",
      "metadata": {
        "id": "wOWPGMLP2xwT"
      },
      "source": [
        "Lastly, ensure that a line break exists for the last line in each file."
      ]
    },
    {
      "cell_type": "code",
      "source": [
        "%%bash\n",
        "  sed -i -e '$a\\' /content/sample_data/*.txt"
      ],
      "metadata": {
        "id": "sNcSCUy2Fgnc"
      },
      "execution_count": 72,
      "outputs": []
    },
    {
      "cell_type": "markdown",
      "metadata": {
        "id": "lVyRpKL-z6ou"
      },
      "source": [
        "There are two files here - one file that contains information for AL and another that contains information for AK. The following command will **merge** (or concatenate) the contents of these two files.  The merged data is saved into a file called Both_States.txt."
      ]
    },
    {
      "cell_type": "code",
      "execution_count": 73,
      "metadata": {
        "id": "43JFNaYuz6vR"
      },
      "outputs": [],
      "source": [
        "%%bash\n",
        "  cat /content/sample_data/*.txt > /content/sample_data/Both_States.txt"
      ]
    },
    {
      "cell_type": "markdown",
      "source": [
        "After the merge is complete, the following command can be used to insert a header row back into the file containing the data."
      ],
      "metadata": {
        "id": "NlMa9dkaFsfR"
      }
    },
    {
      "cell_type": "code",
      "source": [
        "%%bash\n",
        "  sed  -i '1i CensusTract_Name, Number_Workers, Percent_PublicTransportation,Percent_Bicycle,StateFIPS,CountyFIPS,CensusTractFIPS' /content/sample_data/Both_States.txt"
      ],
      "metadata": {
        "id": "GDUUhWcLFslO"
      },
      "execution_count": 74,
      "outputs": []
    },
    {
      "cell_type": "markdown",
      "source": [
        "Once again, before moving onto the gathering of data from all states, let's remove the contents of the /content/sample_data/ folder."
      ],
      "metadata": {
        "id": "zje2YWQFF3yZ"
      }
    },
    {
      "cell_type": "code",
      "source": [
        "%%bash\n",
        "rm /content/sample_data/*.*"
      ],
      "metadata": {
        "id": "Jq9dn_4LF38P"
      },
      "execution_count": 75,
      "outputs": []
    },
    {
      "cell_type": "markdown",
      "metadata": {
        "id": "iXCQKT7YtX9D"
      },
      "source": [
        "## Gathering Data from All Census Tracts"
      ]
    },
    {
      "cell_type": "markdown",
      "source": [
        ""
      ],
      "metadata": {
        "id": "fPsKUrGe2cOK"
      }
    },
    {
      "cell_type": "markdown",
      "source": [
        "Source: https://docs.google.com/spreadsheets/d/1NijveG6Z3H3_IOZDFF_FwLhwn5hDD2s319OMlVVAp9k/edit?usp=sharing"
      ],
      "metadata": {
        "id": "xyjHhvhR2mqY"
      }
    },
    {
      "cell_type": "code",
      "execution_count": 43,
      "metadata": {
        "colab": {
          "base_uri": "https://localhost:8080/"
        },
        "id": "UrK82JsSs5U6",
        "outputId": "4039c626-162c-4cd1-934c-edad5b87f80e"
      },
      "outputs": [
        {
          "output_type": "stream",
          "name": "stdout",
          "text": [
            "Process is interrupted.\n"
          ]
        }
      ],
      "source": [
        "%%bash\n",
        "curl -o /content/sample_data/AL.txt \"https://api.census.gov/data/2020/acs/acs5/subject?get=NAME,S0801_C01_001E,S0801_C01_009E,S0801_C01_011E&for=tract:*&in=state:01\"\n",
        "curl -o /content/sample_data/AK.txt \"https://api.census.gov/data/2020/acs/acs5/subject?get=NAME,S0801_C01_001E,S0801_C01_009E,S0801_C01_011E&for=tract:*&in=state:02\"\n",
        "curl -o /content/sample_data/AZ.txt \"https://api.census.gov/data/2020/acs/acs5/subject?get=NAME,S0801_C01_001E,S0801_C01_009E,S0801_C01_011E&for=tract:*&in=state:04\"\n",
        "curl -o /content/sample_data/AR.txt \"https://api.census.gov/data/2020/acs/acs5/subject?get=NAME,S0801_C01_001E,S0801_C01_009E,S0801_C01_011E&for=tract:*&in=state:05\"\n",
        "curl -o /content/sample_data/CA.txt \"https://api.census.gov/data/2020/acs/acs5/subject?get=NAME,S0801_C01_001E,S0801_C01_009E,S0801_C01_011E&for=tract:*&in=state:06\"\n",
        "curl -o /content/sample_data/CO.txt \"https://api.census.gov/data/2020/acs/acs5/subject?get=NAME,S0801_C01_001E,S0801_C01_009E,S0801_C01_011E&for=tract:*&in=state:08\"\n",
        "curl -o /content/sample_data/CT.txt \"https://api.census.gov/data/2020/acs/acs5/subject?get=NAME,S0801_C01_001E,S0801_C01_009E,S0801_C01_011E&for=tract:*&in=state:09\"\n",
        "curl -o /content/sample_data/DE.txt \"https://api.census.gov/data/2020/acs/acs5/subject?get=NAME,S0801_C01_001E,S0801_C01_009E,S0801_C01_011E&for=tract:*&in=state:10\"\n",
        "curl -o /content/sample_data/FL.txt \"https://api.census.gov/data/2020/acs/acs5/subject?get=NAME,S0801_C01_001E,S0801_C01_009E,S0801_C01_011E&for=tract:*&in=state:12\"\n",
        "curl -o /content/sample_data/GA.txt \"https://api.census.gov/data/2020/acs/acs5/subject?get=NAME,S0801_C01_001E,S0801_C01_009E,S0801_C01_011E&for=tract:*&in=state:13\"\n",
        "curl -o /content/sample_data/HI.txt \"https://api.census.gov/data/2020/acs/acs5/subject?get=NAME,S0801_C01_001E,S0801_C01_009E,S0801_C01_011E&for=tract:*&in=state:15\"\n",
        "curl -o /content/sample_data/ID.txt \"https://api.census.gov/data/2020/acs/acs5/subject?get=NAME,S0801_C01_001E,S0801_C01_009E,S0801_C01_011E&for=tract:*&in=state:16\"\n",
        "curl -o /content/sample_data/IL.txt \"https://api.census.gov/data/2020/acs/acs5/subject?get=NAME,S0801_C01_001E,S0801_C01_009E,S0801_C01_011E&for=tract:*&in=state:17\"\n",
        "curl -o /content/sample_data/IN.txt \"https://api.census.gov/data/2020/acs/acs5/subject?get=NAME,S0801_C01_001E,S0801_C01_009E,S0801_C01_011E&for=tract:*&in=state:18\"\n",
        "curl -o /content/sample_data/IA.txt \"https://api.census.gov/data/2020/acs/acs5/subject?get=NAME,S0801_C01_001E,S0801_C01_009E,S0801_C01_011E&for=tract:*&in=state:19\"\n",
        "curl -o /content/sample_data/KS.txt \"https://api.census.gov/data/2020/acs/acs5/subject?get=NAME,S0801_C01_001E,S0801_C01_009E,S0801_C01_011E&for=tract:*&in=state:20\"\n",
        "curl -o /content/sample_data/KY.txt \"https://api.census.gov/data/2020/acs/acs5/subject?get=NAME,S0801_C01_001E,S0801_C01_009E,S0801_C01_011E&for=tract:*&in=state:21\"\n",
        "curl -o /content/sample_data/LA.txt \"https://api.census.gov/data/2020/acs/acs5/subject?get=NAME,S0801_C01_001E,S0801_C01_009E,S0801_C01_011E&for=tract:*&in=state:22\"\n",
        "curl -o /content/sample_data/ME.txt \"https://api.census.gov/data/2020/acs/acs5/subject?get=NAME,S0801_C01_001E,S0801_C01_009E,S0801_C01_011E&for=tract:*&in=state:23\"\n",
        "curl -o /content/sample_data/MD.txt \"https://api.census.gov/data/2020/acs/acs5/subject?get=NAME,S0801_C01_001E,S0801_C01_009E,S0801_C01_011E&for=tract:*&in=state:24\"\n",
        "curl -o /content/sample_data/MA.txt \"https://api.census.gov/data/2020/acs/acs5/subject?get=NAME,S0801_C01_001E,S0801_C01_009E,S0801_C01_011E&for=tract:*&in=state:25\"\n",
        "curl -o /content/sample_data/MI.txt \"https://api.census.gov/data/2020/acs/acs5/subject?get=NAME,S0801_C01_001E,S0801_C01_009E,S0801_C01_011E&for=tract:*&in=state:26\"\n",
        "curl -o /content/sample_data/MN.txt \"https://api.census.gov/data/2020/acs/acs5/subject?get=NAME,S0801_C01_001E,S0801_C01_009E,S0801_C01_011E&for=tract:*&in=state:27\"\n",
        "curl -o /content/sample_data/MS.txt \"https://api.census.gov/data/2020/acs/acs5/subject?get=NAME,S0801_C01_001E,S0801_C01_009E,S0801_C01_011E&for=tract:*&in=state:28\"\n",
        "curl -o /content/sample_data/MO.txt \"https://api.census.gov/data/2020/acs/acs5/subject?get=NAME,S0801_C01_001E,S0801_C01_009E,S0801_C01_011E&for=tract:*&in=state:29\"\n",
        "curl -o /content/sample_data/MT.txt \"https://api.census.gov/data/2020/acs/acs5/subject?get=NAME,S0801_C01_001E,S0801_C01_009E,S0801_C01_011E&for=tract:*&in=state:30\"\n",
        "curl -o /content/sample_data/NE.txt \"https://api.census.gov/data/2020/acs/acs5/subject?get=NAME,S0801_C01_001E,S0801_C01_009E,S0801_C01_011E&for=tract:*&in=state:31\"\n",
        "curl -o /content/sample_data/NV.txt \"https://api.census.gov/data/2020/acs/acs5/subject?get=NAME,S0801_C01_001E,S0801_C01_009E,S0801_C01_011E&for=tract:*&in=state:32\"\n",
        "curl -o /content/sample_data/NH.txt \"https://api.census.gov/data/2020/acs/acs5/subject?get=NAME,S0801_C01_001E,S0801_C01_009E,S0801_C01_011E&for=tract:*&in=state:33\"\n",
        "curl -o /content/sample_data/NJ.txt \"https://api.census.gov/data/2020/acs/acs5/subject?get=NAME,S0801_C01_001E,S0801_C01_009E,S0801_C01_011E&for=tract:*&in=state:34\"\n",
        "curl -o /content/sample_data/NM.txt \"https://api.census.gov/data/2020/acs/acs5/subject?get=NAME,S0801_C01_001E,S0801_C01_009E,S0801_C01_011E&for=tract:*&in=state:35\"\n",
        "curl -o /content/sample_data/NY.txt \"https://api.census.gov/data/2020/acs/acs5/subject?get=NAME,S0801_C01_001E,S0801_C01_009E,S0801_C01_011E&for=tract:*&in=state:36\"\n",
        "curl -o /content/sample_data/NC.txt \"https://api.census.gov/data/2020/acs/acs5/subject?get=NAME,S0801_C01_001E,S0801_C01_009E,S0801_C01_011E&for=tract:*&in=state:37\"\n",
        "curl -o /content/sample_data/ND.txt \"https://api.census.gov/data/2020/acs/acs5/subject?get=NAME,S0801_C01_001E,S0801_C01_009E,S0801_C01_011E&for=tract:*&in=state:38\"\n",
        "curl -o /content/sample_data/OH.txt \"https://api.census.gov/data/2020/acs/acs5/subject?get=NAME,S0801_C01_001E,S0801_C01_009E,S0801_C01_011E&for=tract:*&in=state:39\"\n",
        "curl -o /content/sample_data/OK.txt \"https://api.census.gov/data/2020/acs/acs5/subject?get=NAME,S0801_C01_001E,S0801_C01_009E,S0801_C01_011E&for=tract:*&in=state:40\"\n",
        "curl -o /content/sample_data/OR.txt \"https://api.census.gov/data/2020/acs/acs5/subject?get=NAME,S0801_C01_001E,S0801_C01_009E,S0801_C01_011E&for=tract:*&in=state:41\"\n",
        "curl -o /content/sample_data/PA.txt \"https://api.census.gov/data/2020/acs/acs5/subject?get=NAME,S0801_C01_001E,S0801_C01_009E,S0801_C01_011E&for=tract:*&in=state:42\"\n",
        "curl -o /content/sample_data/RI.txt \"https://api.census.gov/data/2020/acs/acs5/subject?get=NAME,S0801_C01_001E,S0801_C01_009E,S0801_C01_011E&for=tract:*&in=state:44\"\n",
        "curl -o /content/sample_data/SC.txt \"https://api.census.gov/data/2020/acs/acs5/subject?get=NAME,S0801_C01_001E,S0801_C01_009E,S0801_C01_011E&for=tract:*&in=state:45\"\n",
        "curl -o /content/sample_data/SD.txt \"https://api.census.gov/data/2020/acs/acs5/subject?get=NAME,S0801_C01_001E,S0801_C01_009E,S0801_C01_011E&for=tract:*&in=state:46\"\n",
        "curl -o /content/sample_data/TN.txt \"https://api.census.gov/data/2020/acs/acs5/subject?get=NAME,S0801_C01_001E,S0801_C01_009E,S0801_C01_011E&for=tract:*&in=state:47\"\n",
        "curl -o /content/sample_data/TX.txt \"https://api.census.gov/data/2020/acs/acs5/subject?get=NAME,S0801_C01_001E,S0801_C01_009E,S0801_C01_011E&for=tract:*&in=state:48\"\n",
        "curl -o /content/sample_data/UT.txt \"https://api.census.gov/data/2020/acs/acs5/subject?get=NAME,S0801_C01_001E,S0801_C01_009E,S0801_C01_011E&for=tract:*&in=state:49\"\n",
        "curl -o /content/sample_data/VT.txt \"https://api.census.gov/data/2020/acs/acs5/subject?get=NAME,S0801_C01_001E,S0801_C01_009E,S0801_C01_011E&for=tract:*&in=state:50\"\n",
        "curl -o /content/sample_data/VA.txt \"https://api.census.gov/data/2020/acs/acs5/subject?get=NAME,S0801_C01_001E,S0801_C01_009E,S0801_C01_011E&for=tract:*&in=state:51\"\n",
        "curl -o /content/sample_data/WA.txt \"https://api.census.gov/data/2020/acs/acs5/subject?get=NAME,S0801_C01_001E,S0801_C01_009E,S0801_C01_011E&for=tract:*&in=state:53\"\n",
        "curl -o /content/sample_data/WV.txt \"https://api.census.gov/data/2020/acs/acs5/subject?get=NAME,S0801_C01_001E,S0801_C01_009E,S0801_C01_011E&for=tract:*&in=state:54\"\n",
        "curl -o /content/sample_data/WI.txt \"https://api.census.gov/data/2020/acs/acs5/subject?get=NAME,S0801_C01_001E,S0801_C01_009E,S0801_C01_011E&for=tract:*&in=state:55\"\n",
        "curl -o /content/sample_data/WY.txt \"https://api.census.gov/data/2020/acs/acs5/subject?get=NAME,S0801_C01_001E,S0801_C01_009E,S0801_C01_011E&for=tract:*&in=state:56\""
      ]
    },
    {
      "cell_type": "markdown",
      "metadata": {
        "id": "r_TWa7b4aZ1p"
      },
      "source": [
        "asdfa"
      ]
    },
    {
      "cell_type": "code",
      "execution_count": 44,
      "metadata": {
        "id": "LKmP557YaKys"
      },
      "outputs": [],
      "source": [
        "%%bash\n",
        " sed -i 1d /content/sample_data/*.txt"
      ]
    },
    {
      "cell_type": "markdown",
      "metadata": {
        "id": "OPKpSMmtaxlc"
      },
      "source": [
        ""
      ]
    },
    {
      "cell_type": "code",
      "execution_count": 45,
      "metadata": {
        "id": "P_GdWf5vaxry"
      },
      "outputs": [],
      "source": [
        "%%bash\n",
        " sed -i 's/\\[//g' /content/sample_data/*.txt\n",
        " sed -i 's/\\]//g' /content/sample_data/*.txt"
      ]
    },
    {
      "cell_type": "markdown",
      "metadata": {
        "id": "7uMYHd9adj8x"
      },
      "source": [
        ""
      ]
    },
    {
      "cell_type": "code",
      "execution_count": 46,
      "metadata": {
        "id": "4nxrh2xodkEd"
      },
      "outputs": [],
      "source": [
        "%%bash\n",
        "  sed -i 's/,$//' /content/sample_data/*.txt"
      ]
    },
    {
      "cell_type": "markdown",
      "source": [
        ""
      ],
      "metadata": {
        "id": "8r2igrhWF_XD"
      }
    },
    {
      "cell_type": "code",
      "source": [
        "%%bash\n",
        "  sed -i -e '$a\\' /content/sample_data/*.txt"
      ],
      "metadata": {
        "id": "3UkIR4EsF_eC"
      },
      "execution_count": 47,
      "outputs": []
    },
    {
      "cell_type": "markdown",
      "metadata": {
        "id": "HAX0UywFd76O"
      },
      "source": [
        ""
      ]
    },
    {
      "cell_type": "code",
      "execution_count": 48,
      "metadata": {
        "id": "vWPTB0akd8AG"
      },
      "outputs": [],
      "source": [
        "%%bash\n",
        "  cat /content/sample_data/*.txt > /content/sample_data/All_States.txt"
      ]
    },
    {
      "cell_type": "markdown",
      "metadata": {
        "id": "WP_WFsAZeaNQ"
      },
      "source": [
        ""
      ]
    },
    {
      "cell_type": "code",
      "execution_count": 49,
      "metadata": {
        "id": "Hm4Cb9D8eaTe"
      },
      "outputs": [],
      "source": [
        "%%bash\n",
        "  sed  -i '1i CensusTract_Name,Number_Workers,Percent_PublicTransportation,Percent_Bicycle,StateFIPS,CountyFIPS,CensusTractFIPS' /content/sample_data/All_States.txt"
      ]
    },
    {
      "cell_type": "markdown",
      "metadata": {
        "id": "ZCeosaYQOixG"
      },
      "source": [
        ""
      ]
    },
    {
      "cell_type": "code",
      "execution_count": 50,
      "metadata": {
        "id": "b7cRYgL8uRkb",
        "colab": {
          "base_uri": "https://localhost:8080/"
        },
        "outputId": "ce3a2ba6-071c-4c73-9537-4a7a327e0404"
      },
      "outputs": [
        {
          "output_type": "stream",
          "name": "stdout",
          "text": [
            "total 2576\n",
            "-rw-r--r-- 1 root root   16131 Apr 28 05:55 AK.txt\n",
            "-rw-r--r-- 1 root root 1314713 Apr 28 05:56 All_States.txt\n",
            "-rw-r--r-- 1 root root  121793 Apr 28 05:55 AL.txt\n",
            "-rw-r--r-- 1 root root   70811 Apr 28 05:55 AR.txt\n",
            "-rw-r--r-- 1 root root  150708 Apr 28 05:55 AZ.txt\n",
            "-rw-r--r-- 1 root root  831458 Apr 28 05:55 CA.txt\n",
            "-rw-r--r-- 1 root root  123698 Apr 28 05:55 CO.txt\n"
          ]
        }
      ],
      "source": [
        "%%bash\n",
        "ls -l /content/sample_data/"
      ]
    },
    {
      "cell_type": "markdown",
      "metadata": {
        "id": "B3mbHxEkOi5A"
      },
      "source": [
        "## Bringing data into Python"
      ]
    },
    {
      "cell_type": "markdown",
      "metadata": {
        "id": "1wg_04L5ugUB"
      },
      "source": [
        ""
      ]
    },
    {
      "cell_type": "code",
      "execution_count": 23,
      "metadata": {
        "id": "Aqt3Ww-Eugby"
      },
      "outputs": [],
      "source": [
        "import pandas as pd"
      ]
    },
    {
      "cell_type": "markdown",
      "metadata": {
        "id": "YWlw_nFMuxes"
      },
      "source": [
        ""
      ]
    },
    {
      "cell_type": "code",
      "execution_count": 24,
      "metadata": {
        "id": "zkUl7KbHuxkr"
      },
      "outputs": [],
      "source": [
        "\n",
        "Commuter_All_CensusTracts = pd.read_csv(\"/content/sample_data/All_States.txt\", dtype={'StateFIPS':str, 'CountyFIPS':str, 'CensusTractFIPS':str}) "
      ]
    },
    {
      "cell_type": "markdown",
      "metadata": {
        "id": "4rhTWu7Fv0vD"
      },
      "source": [
        ""
      ]
    },
    {
      "cell_type": "code",
      "source": [
        "Commuter_All_CensusTracts.head(5)"
      ],
      "metadata": {
        "colab": {
          "base_uri": "https://localhost:8080/",
          "height": 424
        },
        "id": "GymVj2e-GSaa",
        "outputId": "4aebfefd-5a43-4622-cb02-7dae408fbe09"
      },
      "execution_count": 25,
      "outputs": [
        {
          "output_type": "execute_result",
          "data": {
            "text/plain": [
              "                                    CensusTract_Name  Number_Workers  \\\n",
              "0     Census Tract 1, Aleutians East Borough, Alaska            2246   \n",
              "1  Census Tract 1, Yukon-Koyukuk Census Area, Alaska             368   \n",
              "2  Census Tract 2, Yukon-Koyukuk Census Area, Alaska             647   \n",
              "3  Census Tract 3, Yukon-Koyukuk Census Area, Alaska             733   \n",
              "4  Census Tract 4, Yukon-Koyukuk Census Area, Alaska             382   \n",
              "\n",
              "   Percent_PublicTransportation  Percent_Bicycle StateFIPS CountyFIPS  \\\n",
              "0                           0.1              0.7        02        013   \n",
              "1                           2.7              0.0        02        290   \n",
              "2                           0.0              0.2        02        290   \n",
              "3                           0.0              0.4        02        290   \n",
              "4                           0.0              0.0        02        290   \n",
              "\n",
              "  CensusTractFIPS  \n",
              "0          000100  \n",
              "1          000100  \n",
              "2          000200  \n",
              "3          000300  \n",
              "4          000400  "
            ],
            "text/html": [
              "\n",
              "  <div id=\"df-6932605a-e74e-4ff2-ad4a-219c5e9f60ca\">\n",
              "    <div class=\"colab-df-container\">\n",
              "      <div>\n",
              "<style scoped>\n",
              "    .dataframe tbody tr th:only-of-type {\n",
              "        vertical-align: middle;\n",
              "    }\n",
              "\n",
              "    .dataframe tbody tr th {\n",
              "        vertical-align: top;\n",
              "    }\n",
              "\n",
              "    .dataframe thead th {\n",
              "        text-align: right;\n",
              "    }\n",
              "</style>\n",
              "<table border=\"1\" class=\"dataframe\">\n",
              "  <thead>\n",
              "    <tr style=\"text-align: right;\">\n",
              "      <th></th>\n",
              "      <th>CensusTract_Name</th>\n",
              "      <th>Number_Workers</th>\n",
              "      <th>Percent_PublicTransportation</th>\n",
              "      <th>Percent_Bicycle</th>\n",
              "      <th>StateFIPS</th>\n",
              "      <th>CountyFIPS</th>\n",
              "      <th>CensusTractFIPS</th>\n",
              "    </tr>\n",
              "  </thead>\n",
              "  <tbody>\n",
              "    <tr>\n",
              "      <th>0</th>\n",
              "      <td>Census Tract 1, Aleutians East Borough, Alaska</td>\n",
              "      <td>2246</td>\n",
              "      <td>0.1</td>\n",
              "      <td>0.7</td>\n",
              "      <td>02</td>\n",
              "      <td>013</td>\n",
              "      <td>000100</td>\n",
              "    </tr>\n",
              "    <tr>\n",
              "      <th>1</th>\n",
              "      <td>Census Tract 1, Yukon-Koyukuk Census Area, Alaska</td>\n",
              "      <td>368</td>\n",
              "      <td>2.7</td>\n",
              "      <td>0.0</td>\n",
              "      <td>02</td>\n",
              "      <td>290</td>\n",
              "      <td>000100</td>\n",
              "    </tr>\n",
              "    <tr>\n",
              "      <th>2</th>\n",
              "      <td>Census Tract 2, Yukon-Koyukuk Census Area, Alaska</td>\n",
              "      <td>647</td>\n",
              "      <td>0.0</td>\n",
              "      <td>0.2</td>\n",
              "      <td>02</td>\n",
              "      <td>290</td>\n",
              "      <td>000200</td>\n",
              "    </tr>\n",
              "    <tr>\n",
              "      <th>3</th>\n",
              "      <td>Census Tract 3, Yukon-Koyukuk Census Area, Alaska</td>\n",
              "      <td>733</td>\n",
              "      <td>0.0</td>\n",
              "      <td>0.4</td>\n",
              "      <td>02</td>\n",
              "      <td>290</td>\n",
              "      <td>000300</td>\n",
              "    </tr>\n",
              "    <tr>\n",
              "      <th>4</th>\n",
              "      <td>Census Tract 4, Yukon-Koyukuk Census Area, Alaska</td>\n",
              "      <td>382</td>\n",
              "      <td>0.0</td>\n",
              "      <td>0.0</td>\n",
              "      <td>02</td>\n",
              "      <td>290</td>\n",
              "      <td>000400</td>\n",
              "    </tr>\n",
              "  </tbody>\n",
              "</table>\n",
              "</div>\n",
              "      <button class=\"colab-df-convert\" onclick=\"convertToInteractive('df-6932605a-e74e-4ff2-ad4a-219c5e9f60ca')\"\n",
              "              title=\"Convert this dataframe to an interactive table.\"\n",
              "              style=\"display:none;\">\n",
              "        \n",
              "  <svg xmlns=\"http://www.w3.org/2000/svg\" height=\"24px\"viewBox=\"0 0 24 24\"\n",
              "       width=\"24px\">\n",
              "    <path d=\"M0 0h24v24H0V0z\" fill=\"none\"/>\n",
              "    <path d=\"M18.56 5.44l.94 2.06.94-2.06 2.06-.94-2.06-.94-.94-2.06-.94 2.06-2.06.94zm-11 1L8.5 8.5l.94-2.06 2.06-.94-2.06-.94L8.5 2.5l-.94 2.06-2.06.94zm10 10l.94 2.06.94-2.06 2.06-.94-2.06-.94-.94-2.06-.94 2.06-2.06.94z\"/><path d=\"M17.41 7.96l-1.37-1.37c-.4-.4-.92-.59-1.43-.59-.52 0-1.04.2-1.43.59L10.3 9.45l-7.72 7.72c-.78.78-.78 2.05 0 2.83L4 21.41c.39.39.9.59 1.41.59.51 0 1.02-.2 1.41-.59l7.78-7.78 2.81-2.81c.8-.78.8-2.07 0-2.86zM5.41 20L4 18.59l7.72-7.72 1.47 1.35L5.41 20z\"/>\n",
              "  </svg>\n",
              "      </button>\n",
              "      \n",
              "  <style>\n",
              "    .colab-df-container {\n",
              "      display:flex;\n",
              "      flex-wrap:wrap;\n",
              "      gap: 12px;\n",
              "    }\n",
              "\n",
              "    .colab-df-convert {\n",
              "      background-color: #E8F0FE;\n",
              "      border: none;\n",
              "      border-radius: 50%;\n",
              "      cursor: pointer;\n",
              "      display: none;\n",
              "      fill: #1967D2;\n",
              "      height: 32px;\n",
              "      padding: 0 0 0 0;\n",
              "      width: 32px;\n",
              "    }\n",
              "\n",
              "    .colab-df-convert:hover {\n",
              "      background-color: #E2EBFA;\n",
              "      box-shadow: 0px 1px 2px rgba(60, 64, 67, 0.3), 0px 1px 3px 1px rgba(60, 64, 67, 0.15);\n",
              "      fill: #174EA6;\n",
              "    }\n",
              "\n",
              "    [theme=dark] .colab-df-convert {\n",
              "      background-color: #3B4455;\n",
              "      fill: #D2E3FC;\n",
              "    }\n",
              "\n",
              "    [theme=dark] .colab-df-convert:hover {\n",
              "      background-color: #434B5C;\n",
              "      box-shadow: 0px 1px 3px 1px rgba(0, 0, 0, 0.15);\n",
              "      filter: drop-shadow(0px 1px 2px rgba(0, 0, 0, 0.3));\n",
              "      fill: #FFFFFF;\n",
              "    }\n",
              "  </style>\n",
              "\n",
              "      <script>\n",
              "        const buttonEl =\n",
              "          document.querySelector('#df-6932605a-e74e-4ff2-ad4a-219c5e9f60ca button.colab-df-convert');\n",
              "        buttonEl.style.display =\n",
              "          google.colab.kernel.accessAllowed ? 'block' : 'none';\n",
              "\n",
              "        async function convertToInteractive(key) {\n",
              "          const element = document.querySelector('#df-6932605a-e74e-4ff2-ad4a-219c5e9f60ca');\n",
              "          const dataTable =\n",
              "            await google.colab.kernel.invokeFunction('convertToInteractive',\n",
              "                                                     [key], {});\n",
              "          if (!dataTable) return;\n",
              "\n",
              "          const docLinkHtml = 'Like what you see? Visit the ' +\n",
              "            '<a target=\"_blank\" href=https://colab.research.google.com/notebooks/data_table.ipynb>data table notebook</a>'\n",
              "            + ' to learn more about interactive tables.';\n",
              "          element.innerHTML = '';\n",
              "          dataTable['output_type'] = 'display_data';\n",
              "          await google.colab.output.renderOutput(dataTable, element);\n",
              "          const docLink = document.createElement('div');\n",
              "          docLink.innerHTML = docLinkHtml;\n",
              "          element.appendChild(docLink);\n",
              "        }\n",
              "      </script>\n",
              "    </div>\n",
              "  </div>\n",
              "  "
            ]
          },
          "metadata": {},
          "execution_count": 25
        }
      ]
    },
    {
      "cell_type": "markdown",
      "metadata": {
        "id": "czxwlgevv0xV"
      },
      "source": [
        ""
      ]
    },
    {
      "cell_type": "code",
      "source": [
        "Commuter_All_CensusTracts.shape"
      ],
      "metadata": {
        "colab": {
          "base_uri": "https://localhost:8080/"
        },
        "id": "SkhwNvKbGS24",
        "outputId": "cbf7cd52-40e6-4678-9b35-1e0e13f611c8"
      },
      "execution_count": 26,
      "outputs": [
        {
          "output_type": "execute_result",
          "data": {
            "text/plain": [
              "(1614, 7)"
            ]
          },
          "metadata": {},
          "execution_count": 26
        }
      ]
    },
    {
      "cell_type": "markdown",
      "source": [
        ""
      ],
      "metadata": {
        "id": "nOk2Cef_HDVj"
      }
    },
    {
      "cell_type": "code",
      "source": [
        "pip install dfply"
      ],
      "metadata": {
        "colab": {
          "base_uri": "https://localhost:8080/"
        },
        "id": "gwb8SOR_HDbZ",
        "outputId": "3cc191ed-d7fa-44b7-fd7f-0e55f49db6a8"
      },
      "execution_count": 27,
      "outputs": [
        {
          "output_type": "stream",
          "name": "stdout",
          "text": [
            "^C\n"
          ]
        }
      ]
    },
    {
      "cell_type": "code",
      "source": [
        "from dfply import *"
      ],
      "metadata": {
        "id": "xyESvLRVHPkl",
        "colab": {
          "base_uri": "https://localhost:8080/",
          "height": 304
        },
        "outputId": "70a1ccdf-f88d-4e05-b4e0-c54a2376b02a"
      },
      "execution_count": 28,
      "outputs": [
        {
          "output_type": "error",
          "ename": "ModuleNotFoundError",
          "evalue": "ignored",
          "traceback": [
            "\u001b[0;31m---------------------------------------------------------------------------\u001b[0m",
            "\u001b[0;31mModuleNotFoundError\u001b[0m                       Traceback (most recent call last)",
            "\u001b[0;32m<ipython-input-28-5ccf48962f51>\u001b[0m in \u001b[0;36m<module>\u001b[0;34m()\u001b[0m\n\u001b[0;32m----> 1\u001b[0;31m \u001b[0;32mfrom\u001b[0m \u001b[0mdfply\u001b[0m \u001b[0;32mimport\u001b[0m \u001b[0;34m*\u001b[0m\u001b[0;34m\u001b[0m\u001b[0;34m\u001b[0m\u001b[0m\n\u001b[0m",
            "\u001b[0;31mModuleNotFoundError\u001b[0m: No module named 'dfply'",
            "",
            "\u001b[0;31m---------------------------------------------------------------------------\u001b[0;32m\nNOTE: If your import is failing due to a missing package, you can\nmanually install dependencies using either !pip or !apt.\n\nTo view examples of installing some common dependencies, click the\n\"Open Examples\" button below.\n\u001b[0;31m---------------------------------------------------------------------------\u001b[0m\n"
          ],
          "errorDetails": {
            "actions": [
              {
                "action": "open_url",
                "actionText": "Open Examples",
                "url": "/notebooks/snippets/importing_libraries.ipynb"
              }
            ]
          }
        }
      ]
    },
    {
      "cell_type": "markdown",
      "source": [
        ""
      ],
      "metadata": {
        "id": "2FB6Lfl0HR5y"
      }
    },
    {
      "cell_type": "code",
      "source": [
        "Bicycle_Top10 = (\n",
        "                 Commuter_All_CensusTracts \n",
        "                 #>> filter_by(X.StateFIPS == '27')     # Filter on StateFIPS=27 for MN\n",
        "                 >> arrange(X.Percent_Bicycle, ascending = False)\n",
        "                 >> head(10)\n",
        "                 >> mutate(CensusTract_Link = \n",
        "                                 'https://censusreporter.org/profiles/14000US'\n",
        "                                 + X.StateFIPS\n",
        "                                 + X.CountyFIPS\n",
        "                                 + X.CensusTractFIPS                           \n",
        "                            )\n",
        "                 \n",
        "                 >> select(X.CensusTract_Name, X.Percent_Bicycle, X.CensusTract_Link)\n",
        "               )\n",
        "\n",
        "Bicycle_Top10"
      ],
      "metadata": {
        "id": "cz-f1W9XHR_B"
      },
      "execution_count": null,
      "outputs": []
    },
    {
      "cell_type": "markdown",
      "source": [
        ""
      ],
      "metadata": {
        "id": "3yFQqYt3JGYw"
      }
    },
    {
      "cell_type": "code",
      "source": [
        "from IPython.display import HTML"
      ],
      "metadata": {
        "id": "bfR8MVmTJGeq"
      },
      "execution_count": null,
      "outputs": []
    },
    {
      "cell_type": "markdown",
      "source": [
        ""
      ],
      "metadata": {
        "id": "_owJKxZNJQvH"
      }
    },
    {
      "cell_type": "code",
      "source": [
        "HTML(Bicycle_Top10.to_html(render_links=True, escape=False))"
      ],
      "metadata": {
        "id": "Q2pbsuInJQ1Q"
      },
      "execution_count": null,
      "outputs": []
    },
    {
      "cell_type": "markdown",
      "metadata": {
        "id": "HKXgvgMEv0z4"
      },
      "source": [
        "\n",
        "\n",
        "---\n",
        "\n",
        "\n",
        "\n",
        "---\n",
        "\n",
        "\n",
        "\n",
        "---\n",
        "\n"
      ]
    }
  ],
  "metadata": {
    "colab": {
      "name": "Module6_Part3_CensusAPI_Bash.ipynb",
      "provenance": [],
      "authorship_tag": "ABX9TyPu6YWfi6g6FxVFjh6pIlBv",
      "include_colab_link": true
    },
    "kernelspec": {
      "display_name": "Python 3",
      "name": "python3"
    },
    "language_info": {
      "name": "python"
    }
  },
  "nbformat": 4,
  "nbformat_minor": 0
}