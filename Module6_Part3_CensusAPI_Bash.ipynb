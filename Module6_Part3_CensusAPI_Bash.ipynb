{
  "cells": [
    {
      "cell_type": "markdown",
      "metadata": {
        "id": "view-in-github",
        "colab_type": "text"
      },
      "source": [
        "<a href=\"https://colab.research.google.com/github/christophermalone/DSCI325/blob/main/Module6_Part3_CensusAPI_Bash.ipynb\" target=\"_parent\"><img src=\"https://colab.research.google.com/assets/colab-badge.svg\" alt=\"Open In Colab\"/></a>"
      ]
    },
    {
      "cell_type": "markdown",
      "metadata": {
        "id": "-xqhMEbC7xV4"
      },
      "source": [
        "# Census API - BASH"
      ]
    },
    {
      "cell_type": "markdown",
      "metadata": {
        "id": "loYbRSDsZ0b1"
      },
      "source": [
        "asdfasdf"
      ]
    },
    {
      "cell_type": "code",
      "execution_count": 128,
      "metadata": {
        "colab": {
          "base_uri": "https://localhost:8080/"
        },
        "id": "DlF-bxKDsusC",
        "outputId": "c15d2c56-a418-48f2-f404-7b142f5307a7"
      },
      "outputs": [
        {
          "output_type": "stream",
          "name": "stderr",
          "text": [
            "  % Total    % Received % Xferd  Average Speed   Time    Time     Time  Current\n",
            "                                 Dload  Upload   Total   Spent    Left  Speed\n",
            "\r  0     0    0     0    0     0      0      0 --:--:-- --:--:-- --:--:--     0\r100  123k    0  123k    0     0   175k      0 --:--:-- --:--:-- --:--:--  175k\n"
          ]
        }
      ],
      "source": [
        "%%bash\n",
        "curl -o /content/sample_data/AL.txt \"https://api.census.gov/data/2020/acs/acs5/subject?get=NAME,S0801_C01_001E,S0801_C01_009E,S0801_C01_011E&for=tract:*&in=state:01\""
      ]
    },
    {
      "cell_type": "markdown",
      "metadata": {
        "id": "BUNts9OfwXJb"
      },
      "source": [
        ""
      ]
    },
    {
      "cell_type": "code",
      "execution_count": 129,
      "metadata": {
        "id": "GC7iClrUwXQJ"
      },
      "outputs": [],
      "source": [
        "%%bash\n",
        " sed -i 1d /content/sample_data/AL.txt"
      ]
    },
    {
      "cell_type": "code",
      "execution_count": 130,
      "metadata": {
        "id": "wpVwBj0bweMF"
      },
      "outputs": [],
      "source": [
        "%%bash\n",
        " sed -i 's/\\[//g' /content/sample_data/AL.txt\n",
        " sed -i 's/\\]//g' /content/sample_data/AL.txt"
      ]
    },
    {
      "cell_type": "code",
      "execution_count": 131,
      "metadata": {
        "id": "sqLwKMCPxoyz"
      },
      "outputs": [],
      "source": [
        "%%bash\n",
        "  sed -i 's/,$//' /content/sample_data/AL.txt"
      ]
    },
    {
      "cell_type": "markdown",
      "source": [
        ""
      ],
      "metadata": {
        "id": "4nDyH_JVE8wG"
      }
    },
    {
      "cell_type": "code",
      "source": [
        "%%bash\n",
        "  sed -i -e '$a\\' /content/sample_data/AL.txt"
      ],
      "metadata": {
        "id": "wdpCb_JDE83H"
      },
      "execution_count": 135,
      "outputs": []
    },
    {
      "cell_type": "code",
      "execution_count": 136,
      "metadata": {
        "id": "9hnRVtNcteRq"
      },
      "outputs": [],
      "source": [
        "%%bash\n",
        "rm /content/sample_data/*.*"
      ]
    },
    {
      "cell_type": "markdown",
      "metadata": {
        "id": "uWRj05QwzzJb"
      },
      "source": [
        ""
      ]
    },
    {
      "cell_type": "code",
      "execution_count": 137,
      "metadata": {
        "colab": {
          "base_uri": "https://localhost:8080/"
        },
        "id": "v9uAZwzmzzPi",
        "outputId": "aa3e0e91-061d-409b-fd14-c0e9619fe7f1"
      },
      "outputs": [
        {
          "output_type": "stream",
          "name": "stderr",
          "text": [
            "  % Total    % Received % Xferd  Average Speed   Time    Time     Time  Current\n",
            "                                 Dload  Upload   Total   Spent    Left  Speed\n",
            "\r  0     0    0     0    0     0      0      0 --:--:-- --:--:-- --:--:--     0\r100  123k    0  123k    0     0   215k      0 --:--:-- --:--:-- --:--:--  215k\n",
            "  % Total    % Received % Xferd  Average Speed   Time    Time     Time  Current\n",
            "                                 Dload  Upload   Total   Spent    Left  Speed\n",
            "\r  0     0    0     0    0     0      0      0 --:--:-- --:--:-- --:--:--     0\r  0     0    0     0    0     0      0      0 --:--:-- --:--:-- --:--:--     0\r100 16748    0 16748    0     0  29434      0 --:--:-- --:--:-- --:--:-- 29382\n"
          ]
        }
      ],
      "source": [
        "%%bash\n",
        "curl -o /content/sample_data/AL.txt \"https://api.census.gov/data/2020/acs/acs5/subject?get=NAME,S0801_C01_001E,S0801_C01_009E,S0801_C01_011E&for=tract:*&in=state:01\"\n",
        "curl -o /content/sample_data/AK.txt \"https://api.census.gov/data/2020/acs/acs5/subject?get=NAME,S0801_C01_001E,S0801_C01_009E,S0801_C01_011E&for=tract:*&in=state:02\""
      ]
    },
    {
      "cell_type": "markdown",
      "metadata": {
        "id": "UpAwkouNz49N"
      },
      "source": [
        ""
      ]
    },
    {
      "cell_type": "code",
      "execution_count": 138,
      "metadata": {
        "id": "77VwB7_-z5DV"
      },
      "outputs": [],
      "source": [
        "%%bash\n",
        " sed -i 1d /content/sample_data/*.txt"
      ]
    },
    {
      "cell_type": "markdown",
      "metadata": {
        "id": "_Mgc4KjEz8sC"
      },
      "source": [
        ""
      ]
    },
    {
      "cell_type": "code",
      "execution_count": 139,
      "metadata": {
        "id": "tDJdv8TVz8x9"
      },
      "outputs": [],
      "source": [
        "%%bash\n",
        " sed -i 's/\\[//g' /content/sample_data/*.txt\n",
        " sed -i 's/\\]//g' /content/sample_data/*.txt"
      ]
    },
    {
      "cell_type": "markdown",
      "metadata": {
        "id": "XXPK-w5pz-yr"
      },
      "source": [
        ""
      ]
    },
    {
      "cell_type": "code",
      "execution_count": 140,
      "metadata": {
        "id": "qGkKMQwZz-4T"
      },
      "outputs": [],
      "source": [
        "%%bash\n",
        "  sed -i 's/,$//' /content/sample_data/*.txt"
      ]
    },
    {
      "cell_type": "markdown",
      "metadata": {
        "id": "wOWPGMLP2xwT"
      },
      "source": [
        ""
      ]
    },
    {
      "cell_type": "code",
      "source": [
        "%%bash\n",
        "  sed -i -e '$a\\' /content/sample_data/*.txt"
      ],
      "metadata": {
        "id": "sNcSCUy2Fgnc"
      },
      "execution_count": 142,
      "outputs": []
    },
    {
      "cell_type": "markdown",
      "metadata": {
        "id": "lVyRpKL-z6ou"
      },
      "source": [
        ""
      ]
    },
    {
      "cell_type": "code",
      "execution_count": 143,
      "metadata": {
        "id": "43JFNaYuz6vR"
      },
      "outputs": [],
      "source": [
        "%%bash\n",
        "  cat /content/sample_data/*.txt > /content/sample_data/All_States.txt"
      ]
    },
    {
      "cell_type": "markdown",
      "source": [
        ""
      ],
      "metadata": {
        "id": "NlMa9dkaFsfR"
      }
    },
    {
      "cell_type": "code",
      "source": [
        "%%bash\n",
        "  sed  -i '1i CensusTract_Name, Number_Workers, Percent_PublicTransportation,Percent_Bicycle,StateFIPS,CountyFIPS,CensusTractFIPS' /content/sample_data/All_States.txt"
      ],
      "metadata": {
        "id": "GDUUhWcLFslO"
      },
      "execution_count": 144,
      "outputs": []
    },
    {
      "cell_type": "markdown",
      "source": [
        ""
      ],
      "metadata": {
        "id": "zje2YWQFF3yZ"
      }
    },
    {
      "cell_type": "code",
      "source": [
        "%%bash\n",
        "rm /content/sample_data/*.*"
      ],
      "metadata": {
        "id": "Jq9dn_4LF38P"
      },
      "execution_count": 145,
      "outputs": []
    },
    {
      "cell_type": "markdown",
      "metadata": {
        "id": "iXCQKT7YtX9D"
      },
      "source": [
        ""
      ]
    },
    {
      "cell_type": "code",
      "execution_count": 146,
      "metadata": {
        "colab": {
          "base_uri": "https://localhost:8080/"
        },
        "id": "UrK82JsSs5U6",
        "outputId": "15ecb631-b073-48d9-9e02-ddb33e6ae7a3"
      },
      "outputs": [
        {
          "output_type": "stream",
          "name": "stderr",
          "text": [
            "  % Total    % Received % Xferd  Average Speed   Time    Time     Time  Current\n",
            "                                 Dload  Upload   Total   Spent    Left  Speed\n",
            "\r  0     0    0     0    0     0      0      0 --:--:-- --:--:-- --:--:--     0\r100  3991    0  3991    0     0   6845      0 --:--:-- --:--:-- --:--:--  6833\r100  123k    0  123k    0     0   201k      0 --:--:-- --:--:-- --:--:--  201k\n",
            "  % Total    % Received % Xferd  Average Speed   Time    Time     Time  Current\n",
            "                                 Dload  Upload   Total   Spent    Left  Speed\n",
            "\r  0     0    0     0    0     0      0      0 --:--:-- --:--:-- --:--:--     0\r100 16748    0 16748    0     0  33496      0 --:--:-- --:--:-- --:--:-- 33496\n",
            "  % Total    % Received % Xferd  Average Speed   Time    Time     Time  Current\n",
            "                                 Dload  Upload   Total   Spent    Left  Speed\n",
            "\r  0     0    0     0    0     0      0      0 --:--:-- --:--:-- --:--:--     0\r100  3991    0  3991    0     0   6314      0 --:--:-- --:--:-- --:--:--  6314\r100  152k    0  152k    0     0   221k      0 --:--:-- --:--:-- --:--:--  221k\n",
            "  % Total    % Received % Xferd  Average Speed   Time    Time     Time  Current\n",
            "                                 Dload  Upload   Total   Spent    Left  Speed\n",
            "\r  0     0    0     0    0     0      0      0 --:--:-- --:--:-- --:--:--     0\r100 73366    0 73366    0     0   117k      0 --:--:-- --:--:-- --:--:--  117k\n",
            "  % Total    % Received % Xferd  Average Speed   Time    Time     Time  Current\n",
            "                                 Dload  Upload   Total   Spent    Left  Speed\n",
            "\r  0     0    0     0    0     0      0      0 --:--:-- --:--:-- --:--:--     0\r  0     0    0     0    0     0      0      0 --:--:-- --:--:-- --:--:--     0\r100  106k    0  106k    0     0   105k      0 --:--:--  0:00:01 --:--:--  105k\r100  838k    0  838k    0     0   768k      0 --:--:--  0:00:01 --:--:--  767k\n",
            "  % Total    % Received % Xferd  Average Speed   Time    Time     Time  Current\n",
            "                                 Dload  Upload   Total   Spent    Left  Speed\n",
            "\r  0     0    0     0    0     0      0      0 --:--:-- --:--:-- --:--:--     0\r100  125k    0  125k    0     0   203k      0 --:--:-- --:--:-- --:--:--  203k\n",
            "  % Total    % Received % Xferd  Average Speed   Time    Time     Time  Current\n",
            "                                 Dload  Upload   Total   Spent    Left  Speed\n",
            "\r  0     0    0     0    0     0      0      0 --:--:-- --:--:-- --:--:--     0\r100  3991    0  3991    0     0   6355      0 --:--:-- --:--:-- --:--:--  6344\r100 82721    0 82721    0     0   125k      0 --:--:-- --:--:-- --:--:--  125k\n",
            "  % Total    % Received % Xferd  Average Speed   Time    Time     Time  Current\n",
            "                                 Dload  Upload   Total   Spent    Left  Speed\n",
            "\r  0     0    0     0    0     0      0      0 --:--:-- --:--:-- --:--:--     0\r100  8327    0  8327    0     0  13409      0 --:--:-- --:--:-- --:--:-- 13409\r100 23648    0 23648    0     0  37656      0 --:--:-- --:--:-- --:--:-- 37596\n",
            "  % Total    % Received % Xferd  Average Speed   Time    Time     Time  Current\n",
            "                                 Dload  Upload   Total   Spent    Left  Speed\n",
            "\r  0     0    0     0    0     0      0      0 --:--:-- --:--:-- --:--:--     0\r100  448k    0  448k    0     0   493k      0 --:--:-- --:--:-- --:--:--  493k\n",
            "  % Total    % Received % Xferd  Average Speed   Time    Time     Time  Current\n",
            "                                 Dload  Upload   Total   Spent    Left  Speed\n",
            "\r  0     0    0     0    0     0      0      0 --:--:-- --:--:-- --:--:--     0\r  0     0    0     0    0     0      0      0 --:--:-- --:--:-- --:--:--     0\r100  239k    0  239k    0     0   313k      0 --:--:-- --:--:-- --:--:--  312k\n",
            "  % Total    % Received % Xferd  Average Speed   Time    Time     Time  Current\n",
            "                                 Dload  Upload   Total   Spent    Left  Speed\n",
            "\r  0     0    0     0    0     0      0      0 --:--:-- --:--:-- --:--:--     0\r100 15846    0 15846    0     0  29128      0 --:--:-- --:--:-- --:--:-- 29075\r100 40741    0 40741    0     0  73806      0 --:--:-- --:--:-- --:--:-- 73672\n",
            "  % Total    % Received % Xferd  Average Speed   Time    Time     Time  Current\n",
            "                                 Dload  Upload   Total   Spent    Left  Speed\n",
            "\r  0     0    0     0    0     0      0      0 --:--:-- --:--:-- --:--:--     0\r100 38730    0 38730    0     0  66546      0 --:--:-- --:--:-- --:--:-- 66546\n",
            "  % Total    % Received % Xferd  Average Speed   Time    Time     Time  Current\n",
            "                                 Dload  Upload   Total   Spent    Left  Speed\n",
            "\r  0     0    0     0    0     0      0      0 --:--:-- --:--:-- --:--:--     0\r  0     0    0     0    0     0      0      0 --:--:-- --:--:-- --:--:--     0\r100  279k    0  279k    0     0   374k      0 --:--:-- --:--:-- --:--:--  374k\n",
            "  % Total    % Received % Xferd  Average Speed   Time    Time     Time  Current\n",
            "                                 Dload  Upload   Total   Spent    Left  Speed\n",
            "\r  0     0    0     0    0     0      0      0 --:--:-- --:--:-- --:--:--     0\r100  5439    0  5439    0     0   8458      0 --:--:-- --:--:-- --:--:--  8445\r100  144k    0  144k    0     0   217k      0 --:--:-- --:--:-- --:--:--  217k\n",
            "  % Total    % Received % Xferd  Average Speed   Time    Time     Time  Current\n",
            "                                 Dload  Upload   Total   Spent    Left  Speed\n",
            "\r  0     0    0     0    0     0      0      0 --:--:-- --:--:-- --:--:--     0\r100 74706    0 74706    0     0   119k      0 --:--:-- --:--:-- --:--:--  119k\n",
            "  % Total    % Received % Xferd  Average Speed   Time    Time     Time  Current\n",
            "                                 Dload  Upload   Total   Spent    Left  Speed\n",
            "\r  0     0    0     0    0     0      0      0 --:--:-- --:--:-- --:--:--     0\r  0     0    0     0    0     0      0      0 --:--:-- --:--:-- --:--:--     0\r100 71685    0 71685    0     0   120k      0 --:--:-- --:--:-- --:--:--  120k\n",
            "  % Total    % Received % Xferd  Average Speed   Time    Time     Time  Current\n",
            "                                 Dload  Upload   Total   Spent    Left  Speed\n",
            "\r  0     0    0     0    0     0      0      0 --:--:-- --:--:-- --:--:--     0\r100  8639    0  8639    0     0  15851      0 --:--:-- --:--:-- --:--:-- 15822\r100  113k    0  113k    0     0   197k      0 --:--:-- --:--:-- --:--:--  196k\n",
            "  % Total    % Received % Xferd  Average Speed   Time    Time     Time  Current\n",
            "                                 Dload  Upload   Total   Spent    Left  Speed\n",
            "\r  0     0    0     0    0     0      0      0 --:--:-- --:--:-- --:--:--     0\r100  124k    0  124k    0     0   180k      0 --:--:-- --:--:-- --:--:--  180k\n",
            "  % Total    % Received % Xferd  Average Speed   Time    Time     Time  Current\n",
            "                                 Dload  Upload   Total   Spent    Left  Speed\n",
            "\r  0     0    0     0    0     0      0      0 --:--:-- --:--:-- --:--:--     0\r  0     0    0     0    0     0      0      0 --:--:-- --:--:-- --:--:--     0\r100 35229    0 35229    0     0  58229      0 --:--:-- --:--:-- --:--:-- 58133\n",
            "  % Total    % Received % Xferd  Average Speed   Time    Time     Time  Current\n",
            "                                 Dload  Upload   Total   Spent    Left  Speed\n",
            "\r  0     0    0     0    0     0      0      0 --:--:-- --:--:-- --:--:--     0\r100 15846    0 15846    0     0  28448      0 --:--:-- --:--:-- --:--:-- 28448\r100  133k    0  133k    0     0   231k      0 --:--:-- --:--:-- --:--:--  231k\n",
            "  % Total    % Received % Xferd  Average Speed   Time    Time     Time  Current\n",
            "                                 Dload  Upload   Total   Spent    Left  Speed\n",
            "\r  0     0    0     0    0     0      0      0 --:--:-- --:--:-- --:--:--     0\r100  151k    0  151k    0     0   224k      0 --:--:-- --:--:-- --:--:--  224k\n",
            "  % Total    % Received % Xferd  Average Speed   Time    Time     Time  Current\n",
            "                                 Dload  Upload   Total   Spent    Left  Speed\n",
            "\r  0     0    0     0    0     0      0      0 --:--:-- --:--:-- --:--:--     0\r  0     0    0     0    0     0      0      0 --:--:-- --:--:-- --:--:--     0\r100  259k    0  259k    0     0   360k      0 --:--:-- --:--:-- --:--:--  360k\n",
            "  % Total    % Received % Xferd  Average Speed   Time    Time     Time  Current\n",
            "                                 Dload  Upload   Total   Spent    Left  Speed\n",
            "\r  0     0    0     0    0     0      0      0 --:--:-- --:--:-- --:--:--     0\r100  5439    0  5439    0     0  10664      0 --:--:-- --:--:-- --:--:-- 10643\r100  132k    0  132k    0     0   243k      0 --:--:-- --:--:-- --:--:--  243k\n",
            "  % Total    % Received % Xferd  Average Speed   Time    Time     Time  Current\n",
            "                                 Dload  Upload   Total   Spent    Left  Speed\n",
            "\r  0     0    0     0    0     0      0      0 --:--:-- --:--:-- --:--:--     0\r100 80614    0 80614    0     0   144k      0 --:--:-- --:--:-- --:--:--  144k\n",
            "  % Total    % Received % Xferd  Average Speed   Time    Time     Time  Current\n",
            "                                 Dload  Upload   Total   Spent    Left  Speed\n",
            "\r  0     0    0     0    0     0      0      0 --:--:-- --:--:-- --:--:--     0\r100  8639    0  8639    0     0  15263      0 --:--:-- --:--:-- --:--:-- 15236\r100  144k    0  144k    0     0   244k      0 --:--:-- --:--:-- --:--:--  243k\n",
            "  % Total    % Received % Xferd  Average Speed   Time    Time     Time  Current\n",
            "                                 Dload  Upload   Total   Spent    Left  Speed\n",
            "\r  0     0    0     0    0     0      0      0 --:--:-- --:--:-- --:--:--     0\r100 27917    0 27917    0     0  54739      0 --:--:-- --:--:-- --:--:-- 54739\n",
            "  % Total    % Received % Xferd  Average Speed   Time    Time     Time  Current\n",
            "                                 Dload  Upload   Total   Spent    Left  Speed\n",
            "\r  0     0    0     0    0     0      0      0 --:--:-- --:--:-- --:--:--     0\r  0     0    0     0    0     0      0      0 --:--:-- --:--:-- --:--:--     0\r100 48701    0 48701    0     0  87591      0 --:--:-- --:--:-- --:--:-- 87434\n",
            "  % Total    % Received % Xferd  Average Speed   Time    Time     Time  Current\n",
            "                                 Dload  Upload   Total   Spent    Left  Speed\n",
            "\r  0     0    0     0    0     0      0      0 --:--:-- --:--:-- --:--:--     0\r100 66354    0 66354    0     0   107k      0 --:--:-- --:--:-- --:--:--  107k\n",
            "  % Total    % Received % Xferd  Average Speed   Time    Time     Time  Current\n",
            "                                 Dload  Upload   Total   Spent    Left  Speed\n",
            "\r  0     0    0     0    0     0      0      0 --:--:-- --:--:-- --:--:--     0\r100 33784    0 33784    0     0  59166      0 --:--:-- --:--:-- --:--:-- 59270\n",
            "  % Total    % Received % Xferd  Average Speed   Time    Time     Time  Current\n",
            "                                 Dload  Upload   Total   Spent    Left  Speed\n",
            "\r  0     0    0     0    0     0      0      0 --:--:-- --:--:-- --:--:--     0\r100 15846    0 15846    0     0  25475      0 --:--:-- --:--:-- --:--:-- 25434\r100  193k    0  193k    0     0   295k      0 --:--:-- --:--:-- --:--:--  295k\n",
            "  % Total    % Received % Xferd  Average Speed   Time    Time     Time  Current\n",
            "                                 Dload  Upload   Total   Spent    Left  Speed\n",
            "\r  0     0    0     0    0     0      0      0 --:--:-- --:--:-- --:--:--     0\r100 56097    0 56097    0     0   105k      0 --:--:-- --:--:-- --:--:--  105k\n",
            "  % Total    % Received % Xferd  Average Speed   Time    Time     Time  Current\n",
            "                                 Dload  Upload   Total   Spent    Left  Speed\n",
            "\r  0     0    0     0    0     0      0      0 --:--:-- --:--:-- --:--:--     0\r  0     0    0     0    0     0      0      0 --:--:-- --:--:-- --:--:--     0\r100  468k    0  468k    0     0   451k      0 --:--:--  0:00:01 --:--:--  451k\n",
            "  % Total    % Received % Xferd  Average Speed   Time    Time     Time  Current\n",
            "                                 Dload  Upload   Total   Spent    Left  Speed\n",
            "\r  0     0    0     0    0     0      0      0 --:--:-- --:--:-- --:--:--     0\r  0     0    0     0    0     0      0      0 --:--:-- --:--:-- --:--:--     0\r100  249k    0  249k    0     0   373k      0 --:--:-- --:--:-- --:--:--  372k\n",
            "  % Total    % Received % Xferd  Average Speed   Time    Time     Time  Current\n",
            "                                 Dload  Upload   Total   Spent    Left  Speed\n",
            "\r  0     0    0     0    0     0      0      0 --:--:-- --:--:-- --:--:--     0\r100 15846    0 15846    0     0  26322      0 --:--:-- --:--:-- --:--:-- 26278\r100 20959    0 20959    0     0  34757      0 --:--:-- --:--:-- --:--:-- 34757\n",
            "  % Total    % Received % Xferd  Average Speed   Time    Time     Time  Current\n",
            "                                 Dload  Upload   Total   Spent    Left  Speed\n",
            "\r  0     0    0     0    0     0      0      0 --:--:-- --:--:-- --:--:--     0\r100  261k    0  261k    0     0   390k      0 --:--:-- --:--:-- --:--:--  390k\n",
            "  % Total    % Received % Xferd  Average Speed   Time    Time     Time  Current\n",
            "                                 Dload  Upload   Total   Spent    Left  Speed\n",
            "\r  0     0    0     0    0     0      0      0 --:--:-- --:--:-- --:--:--     0\r  0     0    0     0    0     0      0      0 --:--:-- --:--:-- --:--:--     0\r100  104k    0  104k    0     0   160k      0 --:--:-- --:--:-- --:--:--  160k\n",
            "  % Total    % Received % Xferd  Average Speed   Time    Time     Time  Current\n",
            "                                 Dload  Upload   Total   Spent    Left  Speed\n",
            "\r  0     0    0     0    0     0      0      0 --:--:-- --:--:-- --:--:--     0\r100  3991    0  3991    0     0   6718      0 --:--:-- --:--:-- --:--:--  6707\r100 87624    0 87624    0     0   140k      0 --:--:-- --:--:-- --:--:--  140k\n",
            "  % Total    % Received % Xferd  Average Speed   Time    Time     Time  Current\n",
            "                                 Dload  Upload   Total   Spent    Left  Speed\n",
            "\r  0     0    0     0    0     0      0      0 --:--:-- --:--:-- --:--:--     0\r100 15846    0 15846    0     0  20341      0 --:--:-- --:--:-- --:--:-- 20499\r100  316k    0  316k    0     0   376k      0 --:--:-- --:--:-- --:--:--  379k\n",
            "  % Total    % Received % Xferd  Average Speed   Time    Time     Time  Current\n",
            "                                 Dload  Upload   Total   Spent    Left  Speed\n",
            "\r  0     0    0     0    0     0      0      0 --:--:-- --:--:-- --:--:--     0\r100 23583    0 23583    0     0  41446      0 --:--:-- --:--:-- --:--:-- 41962\n",
            "  % Total    % Received % Xferd  Average Speed   Time    Time     Time  Current\n",
            "                                 Dload  Upload   Total   Spent    Left  Speed\n",
            "\r  0     0    0     0    0     0      0      0 --:--:-- --:--:-- --:--:--     0\r100 12671    0 12671    0     0  18231      0 --:--:-- --:--:-- --:--:-- 18205\r100  124k    0  124k    0     0   173k      0 --:--:-- --:--:-- --:--:--  172k\n",
            "  % Total    % Received % Xferd  Average Speed   Time    Time     Time  Current\n",
            "                                 Dload  Upload   Total   Spent    Left  Speed\n",
            "\r  0     0    0     0    0     0      0      0 --:--:-- --:--:-- --:--:--     0\r100  8639    0  8639    0     0  15968      0 --:--:-- --:--:-- --:--:-- 15968\r100 22533    0 22533    0     0  41650      0 --:--:-- --:--:-- --:--:-- 41573\n",
            "  % Total    % Received % Xferd  Average Speed   Time    Time     Time  Current\n",
            "                                 Dload  Upload   Total   Spent    Left  Speed\n",
            "\r  0     0    0     0    0     0      0      0 --:--:-- --:--:-- --:--:--     0\r100  149k    0  149k    0     0   231k      0 --:--:-- --:--:-- --:--:--  231k\n",
            "  % Total    % Received % Xferd  Average Speed   Time    Time     Time  Current\n",
            "                                 Dload  Upload   Total   Spent    Left  Speed\n",
            "\r  0     0    0     0    0     0      0      0 --:--:-- --:--:-- --:--:--     0\r100 15846    0 15846    0     0  24266      0 --:--:-- --:--:-- --:--:-- 24229\r100  579k    0  579k    0     0   797k      0 --:--:-- --:--:-- --:--:--  796k\n",
            "  % Total    % Received % Xferd  Average Speed   Time    Time     Time  Current\n",
            "                                 Dload  Upload   Total   Spent    Left  Speed\n",
            "\r  0     0    0     0    0     0      0      0 --:--:-- --:--:-- --:--:--     0\r100 15846    0 15846    0     0  26278      0 --:--:-- --:--:-- --:--:-- 26235\r100 61335    0 61335    0     0  99408      0 --:--:-- --:--:-- --:--:-- 99247\n",
            "  % Total    % Received % Xferd  Average Speed   Time    Time     Time  Current\n",
            "                                 Dload  Upload   Total   Spent    Left  Speed\n",
            "\r  0     0    0     0    0     0      0      0 --:--:-- --:--:-- --:--:--     0\r100 17128    0 17128    0     0  30368      0 --:--:-- --:--:-- --:--:-- 30368\n",
            "  % Total    % Received % Xferd  Average Speed   Time    Time     Time  Current\n",
            "                                 Dload  Upload   Total   Spent    Left  Speed\n",
            "\r  0     0    0     0    0     0      0      0 --:--:-- --:--:-- --:--:--     0\r100 15846    0 15846    0     0  23475      0 --:--:-- --:--:-- --:--:-- 23475\r100  195k    0  195k    0     0   277k      0 --:--:-- --:--:-- --:--:--  277k\n",
            "  % Total    % Received % Xferd  Average Speed   Time    Time     Time  Current\n",
            "                                 Dload  Upload   Total   Spent    Left  Speed\n",
            "\r  0     0    0     0    0     0      0      0 --:--:-- --:--:-- --:--:--     0\r100  8639    0  8639    0     0  13889      0 --:--:-- --:--:-- --:--:-- 13866\r100  157k    0  157k    0     0   244k      0 --:--:-- --:--:-- --:--:--  244k\n",
            "  % Total    % Received % Xferd  Average Speed   Time    Time     Time  Current\n",
            "                                 Dload  Upload   Total   Spent    Left  Speed\n",
            "\r  0     0    0     0    0     0      0      0 --:--:-- --:--:-- --:--:--     0\r100 50693    0 50693    0     0  85485      0 --:--:-- --:--:-- --:--:-- 85485\n",
            "  % Total    % Received % Xferd  Average Speed   Time    Time     Time  Current\n",
            "                                 Dload  Upload   Total   Spent    Left  Speed\n",
            "\r  0     0    0     0    0     0      0      0 --:--:-- --:--:-- --:--:--     0\r100  8639    0  8639    0     0  12574      0 --:--:-- --:--:-- --:--:-- 12574\r100  134k    0  134k    0     0   185k      0 --:--:-- --:--:-- --:--:--  185k\n",
            "  % Total    % Received % Xferd  Average Speed   Time    Time     Time  Current\n",
            "                                 Dload  Upload   Total   Spent    Left  Speed\n",
            "\r  0     0    0     0    0     0      0      0 --:--:-- --:--:-- --:--:--     0\r100 14045    0 14045    0     0  26154      0 --:--:-- --:--:-- --:--:-- 26154\n"
          ]
        }
      ],
      "source": [
        "%%bash\n",
        "curl -o /content/sample_data/AL.txt \"https://api.census.gov/data/2020/acs/acs5/subject?get=NAME,S0801_C01_001E,S0801_C01_009E,S0801_C01_011E&for=tract:*&in=state:01\"\n",
        "curl -o /content/sample_data/AK.txt \"https://api.census.gov/data/2020/acs/acs5/subject?get=NAME,S0801_C01_001E,S0801_C01_009E,S0801_C01_011E&for=tract:*&in=state:02\"\n",
        "curl -o /content/sample_data/AZ.txt \"https://api.census.gov/data/2020/acs/acs5/subject?get=NAME,S0801_C01_001E,S0801_C01_009E,S0801_C01_011E&for=tract:*&in=state:04\"\n",
        "curl -o /content/sample_data/AR.txt \"https://api.census.gov/data/2020/acs/acs5/subject?get=NAME,S0801_C01_001E,S0801_C01_009E,S0801_C01_011E&for=tract:*&in=state:05\"\n",
        "curl -o /content/sample_data/CA.txt \"https://api.census.gov/data/2020/acs/acs5/subject?get=NAME,S0801_C01_001E,S0801_C01_009E,S0801_C01_011E&for=tract:*&in=state:06\"\n",
        "curl -o /content/sample_data/CO.txt \"https://api.census.gov/data/2020/acs/acs5/subject?get=NAME,S0801_C01_001E,S0801_C01_009E,S0801_C01_011E&for=tract:*&in=state:08\"\n",
        "curl -o /content/sample_data/CT.txt \"https://api.census.gov/data/2020/acs/acs5/subject?get=NAME,S0801_C01_001E,S0801_C01_009E,S0801_C01_011E&for=tract:*&in=state:09\"\n",
        "curl -o /content/sample_data/DE.txt \"https://api.census.gov/data/2020/acs/acs5/subject?get=NAME,S0801_C01_001E,S0801_C01_009E,S0801_C01_011E&for=tract:*&in=state:10\"\n",
        "curl -o /content/sample_data/FL.txt \"https://api.census.gov/data/2020/acs/acs5/subject?get=NAME,S0801_C01_001E,S0801_C01_009E,S0801_C01_011E&for=tract:*&in=state:12\"\n",
        "curl -o /content/sample_data/GA.txt \"https://api.census.gov/data/2020/acs/acs5/subject?get=NAME,S0801_C01_001E,S0801_C01_009E,S0801_C01_011E&for=tract:*&in=state:13\"\n",
        "curl -o /content/sample_data/HI.txt \"https://api.census.gov/data/2020/acs/acs5/subject?get=NAME,S0801_C01_001E,S0801_C01_009E,S0801_C01_011E&for=tract:*&in=state:15\"\n",
        "curl -o /content/sample_data/ID.txt \"https://api.census.gov/data/2020/acs/acs5/subject?get=NAME,S0801_C01_001E,S0801_C01_009E,S0801_C01_011E&for=tract:*&in=state:16\"\n",
        "curl -o /content/sample_data/IL.txt \"https://api.census.gov/data/2020/acs/acs5/subject?get=NAME,S0801_C01_001E,S0801_C01_009E,S0801_C01_011E&for=tract:*&in=state:17\"\n",
        "curl -o /content/sample_data/IN.txt \"https://api.census.gov/data/2020/acs/acs5/subject?get=NAME,S0801_C01_001E,S0801_C01_009E,S0801_C01_011E&for=tract:*&in=state:18\"\n",
        "curl -o /content/sample_data/IA.txt \"https://api.census.gov/data/2020/acs/acs5/subject?get=NAME,S0801_C01_001E,S0801_C01_009E,S0801_C01_011E&for=tract:*&in=state:19\"\n",
        "curl -o /content/sample_data/KS.txt \"https://api.census.gov/data/2020/acs/acs5/subject?get=NAME,S0801_C01_001E,S0801_C01_009E,S0801_C01_011E&for=tract:*&in=state:20\"\n",
        "curl -o /content/sample_data/KY.txt \"https://api.census.gov/data/2020/acs/acs5/subject?get=NAME,S0801_C01_001E,S0801_C01_009E,S0801_C01_011E&for=tract:*&in=state:21\"\n",
        "curl -o /content/sample_data/LA.txt \"https://api.census.gov/data/2020/acs/acs5/subject?get=NAME,S0801_C01_001E,S0801_C01_009E,S0801_C01_011E&for=tract:*&in=state:22\"\n",
        "curl -o /content/sample_data/ME.txt \"https://api.census.gov/data/2020/acs/acs5/subject?get=NAME,S0801_C01_001E,S0801_C01_009E,S0801_C01_011E&for=tract:*&in=state:23\"\n",
        "curl -o /content/sample_data/MD.txt \"https://api.census.gov/data/2020/acs/acs5/subject?get=NAME,S0801_C01_001E,S0801_C01_009E,S0801_C01_011E&for=tract:*&in=state:24\"\n",
        "curl -o /content/sample_data/MA.txt \"https://api.census.gov/data/2020/acs/acs5/subject?get=NAME,S0801_C01_001E,S0801_C01_009E,S0801_C01_011E&for=tract:*&in=state:25\"\n",
        "curl -o /content/sample_data/MI.txt \"https://api.census.gov/data/2020/acs/acs5/subject?get=NAME,S0801_C01_001E,S0801_C01_009E,S0801_C01_011E&for=tract:*&in=state:26\"\n",
        "curl -o /content/sample_data/MN.txt \"https://api.census.gov/data/2020/acs/acs5/subject?get=NAME,S0801_C01_001E,S0801_C01_009E,S0801_C01_011E&for=tract:*&in=state:27\"\n",
        "curl -o /content/sample_data/MS.txt \"https://api.census.gov/data/2020/acs/acs5/subject?get=NAME,S0801_C01_001E,S0801_C01_009E,S0801_C01_011E&for=tract:*&in=state:28\"\n",
        "curl -o /content/sample_data/MO.txt \"https://api.census.gov/data/2020/acs/acs5/subject?get=NAME,S0801_C01_001E,S0801_C01_009E,S0801_C01_011E&for=tract:*&in=state:29\"\n",
        "curl -o /content/sample_data/MT.txt \"https://api.census.gov/data/2020/acs/acs5/subject?get=NAME,S0801_C01_001E,S0801_C01_009E,S0801_C01_011E&for=tract:*&in=state:30\"\n",
        "curl -o /content/sample_data/NE.txt \"https://api.census.gov/data/2020/acs/acs5/subject?get=NAME,S0801_C01_001E,S0801_C01_009E,S0801_C01_011E&for=tract:*&in=state:31\"\n",
        "curl -o /content/sample_data/NV.txt \"https://api.census.gov/data/2020/acs/acs5/subject?get=NAME,S0801_C01_001E,S0801_C01_009E,S0801_C01_011E&for=tract:*&in=state:32\"\n",
        "curl -o /content/sample_data/NH.txt \"https://api.census.gov/data/2020/acs/acs5/subject?get=NAME,S0801_C01_001E,S0801_C01_009E,S0801_C01_011E&for=tract:*&in=state:33\"\n",
        "curl -o /content/sample_data/NJ.txt \"https://api.census.gov/data/2020/acs/acs5/subject?get=NAME,S0801_C01_001E,S0801_C01_009E,S0801_C01_011E&for=tract:*&in=state:34\"\n",
        "curl -o /content/sample_data/NM.txt \"https://api.census.gov/data/2020/acs/acs5/subject?get=NAME,S0801_C01_001E,S0801_C01_009E,S0801_C01_011E&for=tract:*&in=state:35\"\n",
        "curl -o /content/sample_data/NY.txt \"https://api.census.gov/data/2020/acs/acs5/subject?get=NAME,S0801_C01_001E,S0801_C01_009E,S0801_C01_011E&for=tract:*&in=state:36\"\n",
        "curl -o /content/sample_data/NC.txt \"https://api.census.gov/data/2020/acs/acs5/subject?get=NAME,S0801_C01_001E,S0801_C01_009E,S0801_C01_011E&for=tract:*&in=state:37\"\n",
        "curl -o /content/sample_data/ND.txt \"https://api.census.gov/data/2020/acs/acs5/subject?get=NAME,S0801_C01_001E,S0801_C01_009E,S0801_C01_011E&for=tract:*&in=state:38\"\n",
        "curl -o /content/sample_data/OH.txt \"https://api.census.gov/data/2020/acs/acs5/subject?get=NAME,S0801_C01_001E,S0801_C01_009E,S0801_C01_011E&for=tract:*&in=state:39\"\n",
        "curl -o /content/sample_data/OK.txt \"https://api.census.gov/data/2020/acs/acs5/subject?get=NAME,S0801_C01_001E,S0801_C01_009E,S0801_C01_011E&for=tract:*&in=state:40\"\n",
        "curl -o /content/sample_data/OR.txt \"https://api.census.gov/data/2020/acs/acs5/subject?get=NAME,S0801_C01_001E,S0801_C01_009E,S0801_C01_011E&for=tract:*&in=state:41\"\n",
        "curl -o /content/sample_data/PA.txt \"https://api.census.gov/data/2020/acs/acs5/subject?get=NAME,S0801_C01_001E,S0801_C01_009E,S0801_C01_011E&for=tract:*&in=state:42\"\n",
        "curl -o /content/sample_data/RI.txt \"https://api.census.gov/data/2020/acs/acs5/subject?get=NAME,S0801_C01_001E,S0801_C01_009E,S0801_C01_011E&for=tract:*&in=state:44\"\n",
        "curl -o /content/sample_data/SC.txt \"https://api.census.gov/data/2020/acs/acs5/subject?get=NAME,S0801_C01_001E,S0801_C01_009E,S0801_C01_011E&for=tract:*&in=state:45\"\n",
        "curl -o /content/sample_data/SD.txt \"https://api.census.gov/data/2020/acs/acs5/subject?get=NAME,S0801_C01_001E,S0801_C01_009E,S0801_C01_011E&for=tract:*&in=state:46\"\n",
        "curl -o /content/sample_data/TN.txt \"https://api.census.gov/data/2020/acs/acs5/subject?get=NAME,S0801_C01_001E,S0801_C01_009E,S0801_C01_011E&for=tract:*&in=state:47\"\n",
        "curl -o /content/sample_data/TX.txt \"https://api.census.gov/data/2020/acs/acs5/subject?get=NAME,S0801_C01_001E,S0801_C01_009E,S0801_C01_011E&for=tract:*&in=state:48\"\n",
        "curl -o /content/sample_data/UT.txt \"https://api.census.gov/data/2020/acs/acs5/subject?get=NAME,S0801_C01_001E,S0801_C01_009E,S0801_C01_011E&for=tract:*&in=state:49\"\n",
        "curl -o /content/sample_data/VT.txt \"https://api.census.gov/data/2020/acs/acs5/subject?get=NAME,S0801_C01_001E,S0801_C01_009E,S0801_C01_011E&for=tract:*&in=state:50\"\n",
        "curl -o /content/sample_data/VA.txt \"https://api.census.gov/data/2020/acs/acs5/subject?get=NAME,S0801_C01_001E,S0801_C01_009E,S0801_C01_011E&for=tract:*&in=state:51\"\n",
        "curl -o /content/sample_data/WA.txt \"https://api.census.gov/data/2020/acs/acs5/subject?get=NAME,S0801_C01_001E,S0801_C01_009E,S0801_C01_011E&for=tract:*&in=state:53\"\n",
        "curl -o /content/sample_data/WV.txt \"https://api.census.gov/data/2020/acs/acs5/subject?get=NAME,S0801_C01_001E,S0801_C01_009E,S0801_C01_011E&for=tract:*&in=state:54\"\n",
        "curl -o /content/sample_data/WI.txt \"https://api.census.gov/data/2020/acs/acs5/subject?get=NAME,S0801_C01_001E,S0801_C01_009E,S0801_C01_011E&for=tract:*&in=state:55\"\n",
        "curl -o /content/sample_data/WY.txt \"https://api.census.gov/data/2020/acs/acs5/subject?get=NAME,S0801_C01_001E,S0801_C01_009E,S0801_C01_011E&for=tract:*&in=state:56\""
      ]
    },
    {
      "cell_type": "markdown",
      "metadata": {
        "id": "r_TWa7b4aZ1p"
      },
      "source": [
        "asdfa"
      ]
    },
    {
      "cell_type": "code",
      "execution_count": 147,
      "metadata": {
        "id": "LKmP557YaKys"
      },
      "outputs": [],
      "source": [
        "%%bash\n",
        " sed -i 1d /content/sample_data/*.txt"
      ]
    },
    {
      "cell_type": "markdown",
      "metadata": {
        "id": "OPKpSMmtaxlc"
      },
      "source": [
        ""
      ]
    },
    {
      "cell_type": "code",
      "execution_count": 148,
      "metadata": {
        "id": "P_GdWf5vaxry"
      },
      "outputs": [],
      "source": [
        "%%bash\n",
        " sed -i 's/\\[//g' /content/sample_data/*.txt\n",
        " sed -i 's/\\]//g' /content/sample_data/*.txt"
      ]
    },
    {
      "cell_type": "markdown",
      "metadata": {
        "id": "7uMYHd9adj8x"
      },
      "source": [
        ""
      ]
    },
    {
      "cell_type": "code",
      "execution_count": 149,
      "metadata": {
        "id": "4nxrh2xodkEd"
      },
      "outputs": [],
      "source": [
        "%%bash\n",
        "  sed -i 's/,$//' /content/sample_data/*.txt"
      ]
    },
    {
      "cell_type": "markdown",
      "source": [
        ""
      ],
      "metadata": {
        "id": "8r2igrhWF_XD"
      }
    },
    {
      "cell_type": "code",
      "source": [
        "%%bash\n",
        "  sed -i -e '$a\\' /content/sample_data/*.txt"
      ],
      "metadata": {
        "id": "3UkIR4EsF_eC"
      },
      "execution_count": 150,
      "outputs": []
    },
    {
      "cell_type": "markdown",
      "metadata": {
        "id": "HAX0UywFd76O"
      },
      "source": [
        ""
      ]
    },
    {
      "cell_type": "code",
      "execution_count": 151,
      "metadata": {
        "id": "vWPTB0akd8AG"
      },
      "outputs": [],
      "source": [
        "%%bash\n",
        "  cat /content/sample_data/*.txt > /content/sample_data/All_States.txt"
      ]
    },
    {
      "cell_type": "markdown",
      "metadata": {
        "id": "WP_WFsAZeaNQ"
      },
      "source": [
        ""
      ]
    },
    {
      "cell_type": "code",
      "execution_count": 152,
      "metadata": {
        "id": "Hm4Cb9D8eaTe"
      },
      "outputs": [],
      "source": [
        "%%bash\n",
        "  sed  -i '1i CensusTract_Name,Number_Workers,Percent_PublicTransportation,Percent_Bicycle,StateFIPS,CountyFIPS,CensusTractFIPS' /content/sample_data/All_States.txt"
      ]
    },
    {
      "cell_type": "markdown",
      "metadata": {
        "id": "ZCeosaYQOixG"
      },
      "source": [
        ""
      ]
    },
    {
      "cell_type": "code",
      "execution_count": null,
      "metadata": {
        "id": "b7cRYgL8uRkb"
      },
      "outputs": [],
      "source": [
        "%%bash\n",
        "ls -l /content/sample_data/"
      ]
    },
    {
      "cell_type": "markdown",
      "metadata": {
        "id": "B3mbHxEkOi5A"
      },
      "source": [
        "## Bringing data into Python"
      ]
    },
    {
      "cell_type": "markdown",
      "metadata": {
        "id": "1wg_04L5ugUB"
      },
      "source": [
        ""
      ]
    },
    {
      "cell_type": "code",
      "execution_count": 161,
      "metadata": {
        "id": "Aqt3Ww-Eugby"
      },
      "outputs": [],
      "source": [
        "import pandas as pd"
      ]
    },
    {
      "cell_type": "markdown",
      "metadata": {
        "id": "YWlw_nFMuxes"
      },
      "source": [
        ""
      ]
    },
    {
      "cell_type": "code",
      "execution_count": 162,
      "metadata": {
        "id": "zkUl7KbHuxkr"
      },
      "outputs": [],
      "source": [
        "\n",
        "Commuter_All_CensusTracts = pd.read_csv(\"/content/sample_data/All_States.txt\", dtype={'StateFIPS':str, 'CountyFIPS':str, 'CensusTractFIPS':str}) "
      ]
    },
    {
      "cell_type": "markdown",
      "metadata": {
        "id": "4rhTWu7Fv0vD"
      },
      "source": [
        ""
      ]
    },
    {
      "cell_type": "code",
      "source": [
        "Commuter_All_CensusTracts.head(5)"
      ],
      "metadata": {
        "colab": {
          "base_uri": "https://localhost:8080/",
          "height": 196
        },
        "id": "GymVj2e-GSaa",
        "outputId": "3323b547-ac72-40ef-ff31-b4d5cd46e543"
      },
      "execution_count": 163,
      "outputs": [
        {
          "output_type": "execute_result",
          "data": {
            "text/plain": [
              "                                    CensusTract_Name  Number_Workers  \\\n",
              "0     Census Tract 1, Aleutians East Borough, Alaska            2246   \n",
              "1  Census Tract 1, Yukon-Koyukuk Census Area, Alaska             368   \n",
              "2  Census Tract 2, Yukon-Koyukuk Census Area, Alaska             647   \n",
              "3  Census Tract 3, Yukon-Koyukuk Census Area, Alaska             733   \n",
              "4  Census Tract 4, Yukon-Koyukuk Census Area, Alaska             382   \n",
              "\n",
              "   Percent_PublicTransportation  Percent_Bicycle StateFIPS CountyFIPS  \\\n",
              "0                           0.1              0.7        02        013   \n",
              "1                           2.7              0.0        02        290   \n",
              "2                           0.0              0.2        02        290   \n",
              "3                           0.0              0.4        02        290   \n",
              "4                           0.0              0.0        02        290   \n",
              "\n",
              "  CensusTractFIPS  \n",
              "0          000100  \n",
              "1          000100  \n",
              "2          000200  \n",
              "3          000300  \n",
              "4          000400  "
            ],
            "text/html": [
              "\n",
              "  <div id=\"df-51c926a2-5399-4f54-8e46-52c1869aaf89\">\n",
              "    <div class=\"colab-df-container\">\n",
              "      <div>\n",
              "<style scoped>\n",
              "    .dataframe tbody tr th:only-of-type {\n",
              "        vertical-align: middle;\n",
              "    }\n",
              "\n",
              "    .dataframe tbody tr th {\n",
              "        vertical-align: top;\n",
              "    }\n",
              "\n",
              "    .dataframe thead th {\n",
              "        text-align: right;\n",
              "    }\n",
              "</style>\n",
              "<table border=\"1\" class=\"dataframe\">\n",
              "  <thead>\n",
              "    <tr style=\"text-align: right;\">\n",
              "      <th></th>\n",
              "      <th>CensusTract_Name</th>\n",
              "      <th>Number_Workers</th>\n",
              "      <th>Percent_PublicTransportation</th>\n",
              "      <th>Percent_Bicycle</th>\n",
              "      <th>StateFIPS</th>\n",
              "      <th>CountyFIPS</th>\n",
              "      <th>CensusTractFIPS</th>\n",
              "    </tr>\n",
              "  </thead>\n",
              "  <tbody>\n",
              "    <tr>\n",
              "      <th>0</th>\n",
              "      <td>Census Tract 1, Aleutians East Borough, Alaska</td>\n",
              "      <td>2246</td>\n",
              "      <td>0.1</td>\n",
              "      <td>0.7</td>\n",
              "      <td>02</td>\n",
              "      <td>013</td>\n",
              "      <td>000100</td>\n",
              "    </tr>\n",
              "    <tr>\n",
              "      <th>1</th>\n",
              "      <td>Census Tract 1, Yukon-Koyukuk Census Area, Alaska</td>\n",
              "      <td>368</td>\n",
              "      <td>2.7</td>\n",
              "      <td>0.0</td>\n",
              "      <td>02</td>\n",
              "      <td>290</td>\n",
              "      <td>000100</td>\n",
              "    </tr>\n",
              "    <tr>\n",
              "      <th>2</th>\n",
              "      <td>Census Tract 2, Yukon-Koyukuk Census Area, Alaska</td>\n",
              "      <td>647</td>\n",
              "      <td>0.0</td>\n",
              "      <td>0.2</td>\n",
              "      <td>02</td>\n",
              "      <td>290</td>\n",
              "      <td>000200</td>\n",
              "    </tr>\n",
              "    <tr>\n",
              "      <th>3</th>\n",
              "      <td>Census Tract 3, Yukon-Koyukuk Census Area, Alaska</td>\n",
              "      <td>733</td>\n",
              "      <td>0.0</td>\n",
              "      <td>0.4</td>\n",
              "      <td>02</td>\n",
              "      <td>290</td>\n",
              "      <td>000300</td>\n",
              "    </tr>\n",
              "    <tr>\n",
              "      <th>4</th>\n",
              "      <td>Census Tract 4, Yukon-Koyukuk Census Area, Alaska</td>\n",
              "      <td>382</td>\n",
              "      <td>0.0</td>\n",
              "      <td>0.0</td>\n",
              "      <td>02</td>\n",
              "      <td>290</td>\n",
              "      <td>000400</td>\n",
              "    </tr>\n",
              "  </tbody>\n",
              "</table>\n",
              "</div>\n",
              "      <button class=\"colab-df-convert\" onclick=\"convertToInteractive('df-51c926a2-5399-4f54-8e46-52c1869aaf89')\"\n",
              "              title=\"Convert this dataframe to an interactive table.\"\n",
              "              style=\"display:none;\">\n",
              "        \n",
              "  <svg xmlns=\"http://www.w3.org/2000/svg\" height=\"24px\"viewBox=\"0 0 24 24\"\n",
              "       width=\"24px\">\n",
              "    <path d=\"M0 0h24v24H0V0z\" fill=\"none\"/>\n",
              "    <path d=\"M18.56 5.44l.94 2.06.94-2.06 2.06-.94-2.06-.94-.94-2.06-.94 2.06-2.06.94zm-11 1L8.5 8.5l.94-2.06 2.06-.94-2.06-.94L8.5 2.5l-.94 2.06-2.06.94zm10 10l.94 2.06.94-2.06 2.06-.94-2.06-.94-.94-2.06-.94 2.06-2.06.94z\"/><path d=\"M17.41 7.96l-1.37-1.37c-.4-.4-.92-.59-1.43-.59-.52 0-1.04.2-1.43.59L10.3 9.45l-7.72 7.72c-.78.78-.78 2.05 0 2.83L4 21.41c.39.39.9.59 1.41.59.51 0 1.02-.2 1.41-.59l7.78-7.78 2.81-2.81c.8-.78.8-2.07 0-2.86zM5.41 20L4 18.59l7.72-7.72 1.47 1.35L5.41 20z\"/>\n",
              "  </svg>\n",
              "      </button>\n",
              "      \n",
              "  <style>\n",
              "    .colab-df-container {\n",
              "      display:flex;\n",
              "      flex-wrap:wrap;\n",
              "      gap: 12px;\n",
              "    }\n",
              "\n",
              "    .colab-df-convert {\n",
              "      background-color: #E8F0FE;\n",
              "      border: none;\n",
              "      border-radius: 50%;\n",
              "      cursor: pointer;\n",
              "      display: none;\n",
              "      fill: #1967D2;\n",
              "      height: 32px;\n",
              "      padding: 0 0 0 0;\n",
              "      width: 32px;\n",
              "    }\n",
              "\n",
              "    .colab-df-convert:hover {\n",
              "      background-color: #E2EBFA;\n",
              "      box-shadow: 0px 1px 2px rgba(60, 64, 67, 0.3), 0px 1px 3px 1px rgba(60, 64, 67, 0.15);\n",
              "      fill: #174EA6;\n",
              "    }\n",
              "\n",
              "    [theme=dark] .colab-df-convert {\n",
              "      background-color: #3B4455;\n",
              "      fill: #D2E3FC;\n",
              "    }\n",
              "\n",
              "    [theme=dark] .colab-df-convert:hover {\n",
              "      background-color: #434B5C;\n",
              "      box-shadow: 0px 1px 3px 1px rgba(0, 0, 0, 0.15);\n",
              "      filter: drop-shadow(0px 1px 2px rgba(0, 0, 0, 0.3));\n",
              "      fill: #FFFFFF;\n",
              "    }\n",
              "  </style>\n",
              "\n",
              "      <script>\n",
              "        const buttonEl =\n",
              "          document.querySelector('#df-51c926a2-5399-4f54-8e46-52c1869aaf89 button.colab-df-convert');\n",
              "        buttonEl.style.display =\n",
              "          google.colab.kernel.accessAllowed ? 'block' : 'none';\n",
              "\n",
              "        async function convertToInteractive(key) {\n",
              "          const element = document.querySelector('#df-51c926a2-5399-4f54-8e46-52c1869aaf89');\n",
              "          const dataTable =\n",
              "            await google.colab.kernel.invokeFunction('convertToInteractive',\n",
              "                                                     [key], {});\n",
              "          if (!dataTable) return;\n",
              "\n",
              "          const docLinkHtml = 'Like what you see? Visit the ' +\n",
              "            '<a target=\"_blank\" href=https://colab.research.google.com/notebooks/data_table.ipynb>data table notebook</a>'\n",
              "            + ' to learn more about interactive tables.';\n",
              "          element.innerHTML = '';\n",
              "          dataTable['output_type'] = 'display_data';\n",
              "          await google.colab.output.renderOutput(dataTable, element);\n",
              "          const docLink = document.createElement('div');\n",
              "          docLink.innerHTML = docLinkHtml;\n",
              "          element.appendChild(docLink);\n",
              "        }\n",
              "      </script>\n",
              "    </div>\n",
              "  </div>\n",
              "  "
            ],
            "application/vnd.google.colaboratory.module+javascript": "\n      import \"https://ssl.gstatic.com/colaboratory/data_table/f872b2c2305463fd/data_table.js\";\n\n      window.createDataTable({\n        data: [[{\n            'v': 0,\n            'f': \"0\",\n        },\n\"Census Tract 1, Aleutians East Borough, Alaska\",\n{\n            'v': 2246,\n            'f': \"2246\",\n        },\n{\n            'v': 0.1,\n            'f': \"0.1\",\n        },\n{\n            'v': 0.7,\n            'f': \"0.7\",\n        },\n\"02\",\n\"013\",\n\"000100\"],\n [{\n            'v': 1,\n            'f': \"1\",\n        },\n\"Census Tract 1, Yukon-Koyukuk Census Area, Alaska\",\n{\n            'v': 368,\n            'f': \"368\",\n        },\n{\n            'v': 2.7,\n            'f': \"2.7\",\n        },\n{\n            'v': 0.0,\n            'f': \"0.0\",\n        },\n\"02\",\n\"290\",\n\"000100\"],\n [{\n            'v': 2,\n            'f': \"2\",\n        },\n\"Census Tract 2, Yukon-Koyukuk Census Area, Alaska\",\n{\n            'v': 647,\n            'f': \"647\",\n        },\n{\n            'v': 0.0,\n            'f': \"0.0\",\n        },\n{\n            'v': 0.2,\n            'f': \"0.2\",\n        },\n\"02\",\n\"290\",\n\"000200\"],\n [{\n            'v': 3,\n            'f': \"3\",\n        },\n\"Census Tract 3, Yukon-Koyukuk Census Area, Alaska\",\n{\n            'v': 733,\n            'f': \"733\",\n        },\n{\n            'v': 0.0,\n            'f': \"0.0\",\n        },\n{\n            'v': 0.4,\n            'f': \"0.4\",\n        },\n\"02\",\n\"290\",\n\"000300\"],\n [{\n            'v': 4,\n            'f': \"4\",\n        },\n\"Census Tract 4, Yukon-Koyukuk Census Area, Alaska\",\n{\n            'v': 382,\n            'f': \"382\",\n        },\n{\n            'v': 0.0,\n            'f': \"0.0\",\n        },\n{\n            'v': 0.0,\n            'f': \"0.0\",\n        },\n\"02\",\n\"290\",\n\"000400\"]],\n        columns: [[\"number\", \"index\"], [\"string\", \"CensusTract_Name\"], [\"number\", \"Number_Workers\"], [\"number\", \"Percent_PublicTransportation\"], [\"number\", \"Percent_Bicycle\"], [\"string\", \"StateFIPS\"], [\"string\", \"CountyFIPS\"], [\"string\", \"CensusTractFIPS\"]],\n        columnOptions: [{\"width\": \"1px\", \"className\": \"index_column\"}],\n        rowsPerPage: 25,\n        helpUrl: \"https://colab.research.google.com/notebooks/data_table.ipynb\",\n        suppressOutputScrolling: true,\n        minimumWidth: undefined,\n      });\n    "
          },
          "metadata": {},
          "execution_count": 163
        }
      ]
    },
    {
      "cell_type": "markdown",
      "metadata": {
        "id": "czxwlgevv0xV"
      },
      "source": [
        ""
      ]
    },
    {
      "cell_type": "code",
      "source": [
        "Commuter_All_CensusTracts.shape"
      ],
      "metadata": {
        "colab": {
          "base_uri": "https://localhost:8080/"
        },
        "id": "SkhwNvKbGS24",
        "outputId": "1f955195-2811-4d67-f49f-1f1b3eb23c70"
      },
      "execution_count": 164,
      "outputs": [
        {
          "output_type": "execute_result",
          "data": {
            "text/plain": [
              "(84208, 7)"
            ]
          },
          "metadata": {},
          "execution_count": 164
        }
      ]
    },
    {
      "cell_type": "markdown",
      "source": [
        ""
      ],
      "metadata": {
        "id": "nOk2Cef_HDVj"
      }
    },
    {
      "cell_type": "code",
      "source": [
        "pip install dfply"
      ],
      "metadata": {
        "colab": {
          "base_uri": "https://localhost:8080/"
        },
        "id": "gwb8SOR_HDbZ",
        "outputId": "6a8917b5-c43d-4964-e160-b54862a1d8ca"
      },
      "execution_count": 165,
      "outputs": [
        {
          "output_type": "stream",
          "name": "stdout",
          "text": [
            "Requirement already satisfied: dfply in /usr/local/lib/python3.7/dist-packages (0.3.3)\n",
            "Requirement already satisfied: pandas in /usr/local/lib/python3.7/dist-packages (from dfply) (1.3.5)\n",
            "Requirement already satisfied: numpy in /usr/local/lib/python3.7/dist-packages (from dfply) (1.21.6)\n",
            "Requirement already satisfied: pytz>=2017.3 in /usr/local/lib/python3.7/dist-packages (from pandas->dfply) (2022.1)\n",
            "Requirement already satisfied: python-dateutil>=2.7.3 in /usr/local/lib/python3.7/dist-packages (from pandas->dfply) (2.8.2)\n",
            "Requirement already satisfied: six>=1.5 in /usr/local/lib/python3.7/dist-packages (from python-dateutil>=2.7.3->pandas->dfply) (1.15.0)\n"
          ]
        }
      ]
    },
    {
      "cell_type": "code",
      "source": [
        "from dfply import *"
      ],
      "metadata": {
        "id": "xyESvLRVHPkl"
      },
      "execution_count": 166,
      "outputs": []
    },
    {
      "cell_type": "markdown",
      "source": [
        ""
      ],
      "metadata": {
        "id": "2FB6Lfl0HR5y"
      }
    },
    {
      "cell_type": "code",
      "source": [
        "Bicycle_Top10 = (\n",
        "                 Commuter_All_CensusTracts \n",
        "                 #>> filter_by(X.StateFIPS == '27')     # Filter on StateFIPS=27 for MN\n",
        "                 >> arrange(X.Percent_Bicycle, ascending = False)\n",
        "                 >> head(10)\n",
        "                 >> mutate(CensusTract_Link = \n",
        "                                 'https://censusreporter.org/profiles/14000US'\n",
        "                                 + X.StateFIPS\n",
        "                                 + X.CountyFIPS\n",
        "                                 + X.CensusTractFIPS                           \n",
        "                            )\n",
        "                 \n",
        "                 >> select(X.CensusTract_Name, X.Percent_Bicycle, X.CensusTract_Link)\n",
        "               )\n",
        "\n",
        "Bicycle_Top10"
      ],
      "metadata": {
        "colab": {
          "base_uri": "https://localhost:8080/",
          "height": 304
        },
        "id": "cz-f1W9XHR_B",
        "outputId": "29158658-b7fb-4111-aba4-34aa8b88426b"
      },
      "execution_count": 178,
      "outputs": [
        {
          "output_type": "execute_result",
          "data": {
            "text/plain": [
              "                                        CensusTract_Name  Percent_Bicycle  \\\n",
              "3931         Census Tract 205.03, La Paz County, Arizona             65.7   \n",
              "6449        Census Tract 105.01, Yolo County, California             41.3   \n",
              "4700   Census Tract 5130, Santa Clara County, California             41.2   \n",
              "12702  Census Tract 5117.05, Santa Clara County, Cali...             36.1   \n",
              "8113   Census Tract 9803, Santa Barbara County, Calif...             36.1   \n",
              "11613      Census Tract 9819, Alameda County, California             34.9   \n",
              "11264  Census Tract 9800.09, Los Angeles County, Cali...             33.3   \n",
              "6465        Census Tract 107.03, Yolo County, California             32.5   \n",
              "8098   Census Tract 29.26, Santa Barbara County, Cali...             31.5   \n",
              "76522           Census Tract 11.01, Travis County, Texas             28.3   \n",
              "\n",
              "                                        CensusTract_Link  \n",
              "3931   https://censusreporter.org/profiles/14000US040...  \n",
              "6449   https://censusreporter.org/profiles/14000US061...  \n",
              "4700   https://censusreporter.org/profiles/14000US060...  \n",
              "12702  https://censusreporter.org/profiles/14000US060...  \n",
              "8113   https://censusreporter.org/profiles/14000US060...  \n",
              "11613  https://censusreporter.org/profiles/14000US060...  \n",
              "11264  https://censusreporter.org/profiles/14000US060...  \n",
              "6465   https://censusreporter.org/profiles/14000US061...  \n",
              "8098   https://censusreporter.org/profiles/14000US060...  \n",
              "76522  https://censusreporter.org/profiles/14000US484...  "
            ],
            "text/html": [
              "\n",
              "  <div id=\"df-938435d6-5ddb-4881-bf76-e997d5782cc3\">\n",
              "    <div class=\"colab-df-container\">\n",
              "      <div>\n",
              "<style scoped>\n",
              "    .dataframe tbody tr th:only-of-type {\n",
              "        vertical-align: middle;\n",
              "    }\n",
              "\n",
              "    .dataframe tbody tr th {\n",
              "        vertical-align: top;\n",
              "    }\n",
              "\n",
              "    .dataframe thead th {\n",
              "        text-align: right;\n",
              "    }\n",
              "</style>\n",
              "<table border=\"1\" class=\"dataframe\">\n",
              "  <thead>\n",
              "    <tr style=\"text-align: right;\">\n",
              "      <th></th>\n",
              "      <th>CensusTract_Name</th>\n",
              "      <th>Percent_Bicycle</th>\n",
              "      <th>CensusTract_Link</th>\n",
              "    </tr>\n",
              "  </thead>\n",
              "  <tbody>\n",
              "    <tr>\n",
              "      <th>3931</th>\n",
              "      <td>Census Tract 205.03, La Paz County, Arizona</td>\n",
              "      <td>65.7</td>\n",
              "      <td>https://censusreporter.org/profiles/14000US040...</td>\n",
              "    </tr>\n",
              "    <tr>\n",
              "      <th>6449</th>\n",
              "      <td>Census Tract 105.01, Yolo County, California</td>\n",
              "      <td>41.3</td>\n",
              "      <td>https://censusreporter.org/profiles/14000US061...</td>\n",
              "    </tr>\n",
              "    <tr>\n",
              "      <th>4700</th>\n",
              "      <td>Census Tract 5130, Santa Clara County, California</td>\n",
              "      <td>41.2</td>\n",
              "      <td>https://censusreporter.org/profiles/14000US060...</td>\n",
              "    </tr>\n",
              "    <tr>\n",
              "      <th>12702</th>\n",
              "      <td>Census Tract 5117.05, Santa Clara County, Cali...</td>\n",
              "      <td>36.1</td>\n",
              "      <td>https://censusreporter.org/profiles/14000US060...</td>\n",
              "    </tr>\n",
              "    <tr>\n",
              "      <th>8113</th>\n",
              "      <td>Census Tract 9803, Santa Barbara County, Calif...</td>\n",
              "      <td>36.1</td>\n",
              "      <td>https://censusreporter.org/profiles/14000US060...</td>\n",
              "    </tr>\n",
              "    <tr>\n",
              "      <th>11613</th>\n",
              "      <td>Census Tract 9819, Alameda County, California</td>\n",
              "      <td>34.9</td>\n",
              "      <td>https://censusreporter.org/profiles/14000US060...</td>\n",
              "    </tr>\n",
              "    <tr>\n",
              "      <th>11264</th>\n",
              "      <td>Census Tract 9800.09, Los Angeles County, Cali...</td>\n",
              "      <td>33.3</td>\n",
              "      <td>https://censusreporter.org/profiles/14000US060...</td>\n",
              "    </tr>\n",
              "    <tr>\n",
              "      <th>6465</th>\n",
              "      <td>Census Tract 107.03, Yolo County, California</td>\n",
              "      <td>32.5</td>\n",
              "      <td>https://censusreporter.org/profiles/14000US061...</td>\n",
              "    </tr>\n",
              "    <tr>\n",
              "      <th>8098</th>\n",
              "      <td>Census Tract 29.26, Santa Barbara County, Cali...</td>\n",
              "      <td>31.5</td>\n",
              "      <td>https://censusreporter.org/profiles/14000US060...</td>\n",
              "    </tr>\n",
              "    <tr>\n",
              "      <th>76522</th>\n",
              "      <td>Census Tract 11.01, Travis County, Texas</td>\n",
              "      <td>28.3</td>\n",
              "      <td>https://censusreporter.org/profiles/14000US484...</td>\n",
              "    </tr>\n",
              "  </tbody>\n",
              "</table>\n",
              "</div>\n",
              "      <button class=\"colab-df-convert\" onclick=\"convertToInteractive('df-938435d6-5ddb-4881-bf76-e997d5782cc3')\"\n",
              "              title=\"Convert this dataframe to an interactive table.\"\n",
              "              style=\"display:none;\">\n",
              "        \n",
              "  <svg xmlns=\"http://www.w3.org/2000/svg\" height=\"24px\"viewBox=\"0 0 24 24\"\n",
              "       width=\"24px\">\n",
              "    <path d=\"M0 0h24v24H0V0z\" fill=\"none\"/>\n",
              "    <path d=\"M18.56 5.44l.94 2.06.94-2.06 2.06-.94-2.06-.94-.94-2.06-.94 2.06-2.06.94zm-11 1L8.5 8.5l.94-2.06 2.06-.94-2.06-.94L8.5 2.5l-.94 2.06-2.06.94zm10 10l.94 2.06.94-2.06 2.06-.94-2.06-.94-.94-2.06-.94 2.06-2.06.94z\"/><path d=\"M17.41 7.96l-1.37-1.37c-.4-.4-.92-.59-1.43-.59-.52 0-1.04.2-1.43.59L10.3 9.45l-7.72 7.72c-.78.78-.78 2.05 0 2.83L4 21.41c.39.39.9.59 1.41.59.51 0 1.02-.2 1.41-.59l7.78-7.78 2.81-2.81c.8-.78.8-2.07 0-2.86zM5.41 20L4 18.59l7.72-7.72 1.47 1.35L5.41 20z\"/>\n",
              "  </svg>\n",
              "      </button>\n",
              "      \n",
              "  <style>\n",
              "    .colab-df-container {\n",
              "      display:flex;\n",
              "      flex-wrap:wrap;\n",
              "      gap: 12px;\n",
              "    }\n",
              "\n",
              "    .colab-df-convert {\n",
              "      background-color: #E8F0FE;\n",
              "      border: none;\n",
              "      border-radius: 50%;\n",
              "      cursor: pointer;\n",
              "      display: none;\n",
              "      fill: #1967D2;\n",
              "      height: 32px;\n",
              "      padding: 0 0 0 0;\n",
              "      width: 32px;\n",
              "    }\n",
              "\n",
              "    .colab-df-convert:hover {\n",
              "      background-color: #E2EBFA;\n",
              "      box-shadow: 0px 1px 2px rgba(60, 64, 67, 0.3), 0px 1px 3px 1px rgba(60, 64, 67, 0.15);\n",
              "      fill: #174EA6;\n",
              "    }\n",
              "\n",
              "    [theme=dark] .colab-df-convert {\n",
              "      background-color: #3B4455;\n",
              "      fill: #D2E3FC;\n",
              "    }\n",
              "\n",
              "    [theme=dark] .colab-df-convert:hover {\n",
              "      background-color: #434B5C;\n",
              "      box-shadow: 0px 1px 3px 1px rgba(0, 0, 0, 0.15);\n",
              "      filter: drop-shadow(0px 1px 2px rgba(0, 0, 0, 0.3));\n",
              "      fill: #FFFFFF;\n",
              "    }\n",
              "  </style>\n",
              "\n",
              "      <script>\n",
              "        const buttonEl =\n",
              "          document.querySelector('#df-938435d6-5ddb-4881-bf76-e997d5782cc3 button.colab-df-convert');\n",
              "        buttonEl.style.display =\n",
              "          google.colab.kernel.accessAllowed ? 'block' : 'none';\n",
              "\n",
              "        async function convertToInteractive(key) {\n",
              "          const element = document.querySelector('#df-938435d6-5ddb-4881-bf76-e997d5782cc3');\n",
              "          const dataTable =\n",
              "            await google.colab.kernel.invokeFunction('convertToInteractive',\n",
              "                                                     [key], {});\n",
              "          if (!dataTable) return;\n",
              "\n",
              "          const docLinkHtml = 'Like what you see? Visit the ' +\n",
              "            '<a target=\"_blank\" href=https://colab.research.google.com/notebooks/data_table.ipynb>data table notebook</a>'\n",
              "            + ' to learn more about interactive tables.';\n",
              "          element.innerHTML = '';\n",
              "          dataTable['output_type'] = 'display_data';\n",
              "          await google.colab.output.renderOutput(dataTable, element);\n",
              "          const docLink = document.createElement('div');\n",
              "          docLink.innerHTML = docLinkHtml;\n",
              "          element.appendChild(docLink);\n",
              "        }\n",
              "      </script>\n",
              "    </div>\n",
              "  </div>\n",
              "  "
            ],
            "application/vnd.google.colaboratory.module+javascript": "\n      import \"https://ssl.gstatic.com/colaboratory/data_table/f872b2c2305463fd/data_table.js\";\n\n      window.createDataTable({\n        data: [[{\n            'v': 3931,\n            'f': \"3931\",\n        },\n\"Census Tract 205.03, La Paz County, Arizona\",\n{\n            'v': 65.7,\n            'f': \"65.7\",\n        },\n\"https://censusreporter.org/profiles/14000US04012020503\"],\n [{\n            'v': 6449,\n            'f': \"6449\",\n        },\n\"Census Tract 105.01, Yolo County, California\",\n{\n            'v': 41.3,\n            'f': \"41.3\",\n        },\n\"https://censusreporter.org/profiles/14000US06113010501\"],\n [{\n            'v': 4700,\n            'f': \"4700\",\n        },\n\"Census Tract 5130, Santa Clara County, California\",\n{\n            'v': 41.2,\n            'f': \"41.2\",\n        },\n\"https://censusreporter.org/profiles/14000US06085513000\"],\n [{\n            'v': 12702,\n            'f': \"12702\",\n        },\n\"Census Tract 5117.05, Santa Clara County, California\",\n{\n            'v': 36.1,\n            'f': \"36.1\",\n        },\n\"https://censusreporter.org/profiles/14000US06085511705\"],\n [{\n            'v': 8113,\n            'f': \"8113\",\n        },\n\"Census Tract 9803, Santa Barbara County, California\",\n{\n            'v': 36.1,\n            'f': \"36.1\",\n        },\n\"https://censusreporter.org/profiles/14000US06083980300\"],\n [{\n            'v': 11613,\n            'f': \"11613\",\n        },\n\"Census Tract 9819, Alameda County, California\",\n{\n            'v': 34.9,\n            'f': \"34.9\",\n        },\n\"https://censusreporter.org/profiles/14000US06001981900\"],\n [{\n            'v': 11264,\n            'f': \"11264\",\n        },\n\"Census Tract 9800.09, Los Angeles County, California\",\n{\n            'v': 33.3,\n            'f': \"33.3\",\n        },\n\"https://censusreporter.org/profiles/14000US06037980009\"],\n [{\n            'v': 6465,\n            'f': \"6465\",\n        },\n\"Census Tract 107.03, Yolo County, California\",\n{\n            'v': 32.5,\n            'f': \"32.5\",\n        },\n\"https://censusreporter.org/profiles/14000US06113010703\"],\n [{\n            'v': 8098,\n            'f': \"8098\",\n        },\n\"Census Tract 29.26, Santa Barbara County, California\",\n{\n            'v': 31.5,\n            'f': \"31.5\",\n        },\n\"https://censusreporter.org/profiles/14000US06083002926\"],\n [{\n            'v': 76522,\n            'f': \"76522\",\n        },\n\"Census Tract 11.01, Travis County, Texas\",\n{\n            'v': 28.3,\n            'f': \"28.3\",\n        },\n\"https://censusreporter.org/profiles/14000US48453001101\"]],\n        columns: [[\"number\", \"index\"], [\"string\", \"CensusTract_Name\"], [\"number\", \"Percent_Bicycle\"], [\"string\", \"CensusTract_Link\"]],\n        columnOptions: [{\"width\": \"1px\", \"className\": \"index_column\"}],\n        rowsPerPage: 25,\n        helpUrl: \"https://colab.research.google.com/notebooks/data_table.ipynb\",\n        suppressOutputScrolling: true,\n        minimumWidth: undefined,\n      });\n    "
          },
          "metadata": {},
          "execution_count": 178
        }
      ]
    },
    {
      "cell_type": "markdown",
      "source": [
        ""
      ],
      "metadata": {
        "id": "3yFQqYt3JGYw"
      }
    },
    {
      "cell_type": "code",
      "source": [
        "from IPython.display import HTML"
      ],
      "metadata": {
        "id": "bfR8MVmTJGeq"
      },
      "execution_count": 174,
      "outputs": []
    },
    {
      "cell_type": "markdown",
      "source": [
        ""
      ],
      "metadata": {
        "id": "_owJKxZNJQvH"
      }
    },
    {
      "cell_type": "code",
      "source": [
        "HTML(Bicycle_Top10.to_html(render_links=True, escape=False))"
      ],
      "metadata": {
        "colab": {
          "base_uri": "https://localhost:8080/",
          "height": 363
        },
        "id": "Q2pbsuInJQ1Q",
        "outputId": "35e5a1f0-7597-4d06-eb6b-f9b9e7cce245"
      },
      "execution_count": 179,
      "outputs": [
        {
          "output_type": "execute_result",
          "data": {
            "text/plain": [
              "<IPython.core.display.HTML object>"
            ],
            "text/html": [
              "<table border=\"1\" class=\"dataframe\">\n",
              "  <thead>\n",
              "    <tr style=\"text-align: right;\">\n",
              "      <th></th>\n",
              "      <th>CensusTract_Name</th>\n",
              "      <th>Percent_Bicycle</th>\n",
              "      <th>CensusTract_Link</th>\n",
              "    </tr>\n",
              "  </thead>\n",
              "  <tbody>\n",
              "    <tr>\n",
              "      <th>3931</th>\n",
              "      <td>Census Tract 205.03, La Paz County, Arizona</td>\n",
              "      <td>65.7</td>\n",
              "      <td><a href=\"https://censusreporter.org/profiles/14000US04012020503\" target=\"_blank\">https://censusreporter.org/profiles/14000US04012020503</a></td>\n",
              "    </tr>\n",
              "    <tr>\n",
              "      <th>6449</th>\n",
              "      <td>Census Tract 105.01, Yolo County, California</td>\n",
              "      <td>41.3</td>\n",
              "      <td><a href=\"https://censusreporter.org/profiles/14000US06113010501\" target=\"_blank\">https://censusreporter.org/profiles/14000US06113010501</a></td>\n",
              "    </tr>\n",
              "    <tr>\n",
              "      <th>4700</th>\n",
              "      <td>Census Tract 5130, Santa Clara County, California</td>\n",
              "      <td>41.2</td>\n",
              "      <td><a href=\"https://censusreporter.org/profiles/14000US06085513000\" target=\"_blank\">https://censusreporter.org/profiles/14000US06085513000</a></td>\n",
              "    </tr>\n",
              "    <tr>\n",
              "      <th>12702</th>\n",
              "      <td>Census Tract 5117.05, Santa Clara County, California</td>\n",
              "      <td>36.1</td>\n",
              "      <td><a href=\"https://censusreporter.org/profiles/14000US06085511705\" target=\"_blank\">https://censusreporter.org/profiles/14000US06085511705</a></td>\n",
              "    </tr>\n",
              "    <tr>\n",
              "      <th>8113</th>\n",
              "      <td>Census Tract 9803, Santa Barbara County, California</td>\n",
              "      <td>36.1</td>\n",
              "      <td><a href=\"https://censusreporter.org/profiles/14000US06083980300\" target=\"_blank\">https://censusreporter.org/profiles/14000US06083980300</a></td>\n",
              "    </tr>\n",
              "    <tr>\n",
              "      <th>11613</th>\n",
              "      <td>Census Tract 9819, Alameda County, California</td>\n",
              "      <td>34.9</td>\n",
              "      <td><a href=\"https://censusreporter.org/profiles/14000US06001981900\" target=\"_blank\">https://censusreporter.org/profiles/14000US06001981900</a></td>\n",
              "    </tr>\n",
              "    <tr>\n",
              "      <th>11264</th>\n",
              "      <td>Census Tract 9800.09, Los Angeles County, California</td>\n",
              "      <td>33.3</td>\n",
              "      <td><a href=\"https://censusreporter.org/profiles/14000US06037980009\" target=\"_blank\">https://censusreporter.org/profiles/14000US06037980009</a></td>\n",
              "    </tr>\n",
              "    <tr>\n",
              "      <th>6465</th>\n",
              "      <td>Census Tract 107.03, Yolo County, California</td>\n",
              "      <td>32.5</td>\n",
              "      <td><a href=\"https://censusreporter.org/profiles/14000US06113010703\" target=\"_blank\">https://censusreporter.org/profiles/14000US06113010703</a></td>\n",
              "    </tr>\n",
              "    <tr>\n",
              "      <th>8098</th>\n",
              "      <td>Census Tract 29.26, Santa Barbara County, California</td>\n",
              "      <td>31.5</td>\n",
              "      <td><a href=\"https://censusreporter.org/profiles/14000US06083002926\" target=\"_blank\">https://censusreporter.org/profiles/14000US06083002926</a></td>\n",
              "    </tr>\n",
              "    <tr>\n",
              "      <th>76522</th>\n",
              "      <td>Census Tract 11.01, Travis County, Texas</td>\n",
              "      <td>28.3</td>\n",
              "      <td><a href=\"https://censusreporter.org/profiles/14000US48453001101\" target=\"_blank\">https://censusreporter.org/profiles/14000US48453001101</a></td>\n",
              "    </tr>\n",
              "  </tbody>\n",
              "</table>"
            ]
          },
          "metadata": {},
          "execution_count": 179
        }
      ]
    },
    {
      "cell_type": "markdown",
      "metadata": {
        "id": "HKXgvgMEv0z4"
      },
      "source": [
        "\n",
        "\n",
        "---\n",
        "\n",
        "\n",
        "\n",
        "---\n",
        "\n",
        "\n",
        "\n",
        "---\n",
        "\n"
      ]
    }
  ],
  "metadata": {
    "colab": {
      "name": "Module6_Part3_CensusAPI_Bash.ipynb",
      "provenance": [],
      "authorship_tag": "ABX9TyNha+G3r2NPEOd+VzOusroM",
      "include_colab_link": true
    },
    "kernelspec": {
      "display_name": "Python 3",
      "name": "python3"
    },
    "language_info": {
      "name": "python"
    }
  },
  "nbformat": 4,
  "nbformat_minor": 0
}