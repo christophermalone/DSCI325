{
  "cells": [
    {
      "cell_type": "markdown",
      "metadata": {
        "id": "view-in-github",
        "colab_type": "text"
      },
      "source": [
        "<a href=\"https://colab.research.google.com/github/christophermalone/DSCI325/blob/main/Module6_Part3_CensusAPI_Bash.ipynb\" target=\"_parent\"><img src=\"https://colab.research.google.com/assets/colab-badge.svg\" alt=\"Open In Colab\"/></a>"
      ]
    },
    {
      "cell_type": "markdown",
      "metadata": {
        "id": "-xqhMEbC7xV4"
      },
      "source": [
        "# Census API - BASH"
      ]
    },
    {
      "cell_type": "markdown",
      "metadata": {
        "id": "loYbRSDsZ0b1"
      },
      "source": [
        "asdfasdf"
      ]
    },
    {
      "cell_type": "code",
      "execution_count": null,
      "metadata": {
        "colab": {
          "base_uri": "https://localhost:8080/"
        },
        "id": "DlF-bxKDsusC",
        "outputId": "ff84de76-90a4-4697-b148-bfc8586a1fcf"
      },
      "outputs": [
        {
          "name": "stderr",
          "output_type": "stream",
          "text": [
            "  % Total    % Received % Xferd  Average Speed   Time    Time     Time  Current\n",
            "                                 Dload  Upload   Total   Spent    Left  Speed\n",
            "\r  0     0    0     0    0     0      0      0 --:--:-- --:--:-- --:--:--     0\r100 15846    0 15846    0     0  24875      0 --:--:-- --:--:-- --:--:-- 24836\r100  123k    0  123k    0     0   185k      0 --:--:-- --:--:-- --:--:--  185k\n"
          ]
        }
      ],
      "source": [
        "%%bash\n",
        "curl -o /content/sample_data/AL.txt \"https://api.census.gov/data/2020/acs/acs5/subject?get=NAME,S0801_C01_001E,S0801_C01_009E,S0801_C01_011E&for=tract:*&in=state:01\""
      ]
    },
    {
      "cell_type": "markdown",
      "metadata": {
        "id": "BUNts9OfwXJb"
      },
      "source": [
        ""
      ]
    },
    {
      "cell_type": "code",
      "execution_count": null,
      "metadata": {
        "id": "GC7iClrUwXQJ"
      },
      "outputs": [],
      "source": [
        "%%bash\n",
        " sed -i 1d /content/sample_data/AL.txt"
      ]
    },
    {
      "cell_type": "code",
      "execution_count": null,
      "metadata": {
        "id": "wpVwBj0bweMF"
      },
      "outputs": [],
      "source": [
        "%%bash\n",
        " sed -i 's/\\[//g' /content/sample_data/AL.txt\n",
        " sed -i 's/\\]//g' /content/sample_data/AL.txt"
      ]
    },
    {
      "cell_type": "code",
      "execution_count": null,
      "metadata": {
        "id": "sqLwKMCPxoyz"
      },
      "outputs": [],
      "source": [
        "%%bash\n",
        "  sed -i 's/,$//' /content/sample_data/AL.txt"
      ]
    },
    {
      "cell_type": "code",
      "execution_count": null,
      "metadata": {
        "id": "9hnRVtNcteRq"
      },
      "outputs": [],
      "source": [
        "%%bash\n",
        "rm /content/sample_data/*.*"
      ]
    },
    {
      "cell_type": "markdown",
      "metadata": {
        "id": "uWRj05QwzzJb"
      },
      "source": [
        ""
      ]
    },
    {
      "cell_type": "code",
      "execution_count": null,
      "metadata": {
        "colab": {
          "base_uri": "https://localhost:8080/"
        },
        "id": "v9uAZwzmzzPi",
        "outputId": "d6a9152e-7bd0-446f-a2ee-d807bc7658a3"
      },
      "outputs": [
        {
          "name": "stderr",
          "output_type": "stream",
          "text": [
            "  % Total    % Received % Xferd  Average Speed   Time    Time     Time  Current\n",
            "                                 Dload  Upload   Total   Spent    Left  Speed\n",
            "\r  0     0    0     0    0     0      0      0 --:--:-- --:--:-- --:--:--     0\r100  8639    0  8639    0     0  15968      0 --:--:-- --:--:-- --:--:-- 15939\r100  123k    0  123k    0     0   218k      0 --:--:-- --:--:-- --:--:--  217k\n",
            "  % Total    % Received % Xferd  Average Speed   Time    Time     Time  Current\n",
            "                                 Dload  Upload   Total   Spent    Left  Speed\n",
            "\r  0     0    0     0    0     0      0      0 --:--:-- --:--:-- --:--:--     0\r100 16748    0 16748    0     0  33971      0 --:--:-- --:--:-- --:--:-- 33971\n"
          ]
        }
      ],
      "source": [
        "%%bash\n",
        "curl -o /content/sample_data/AL.txt \"https://api.census.gov/data/2020/acs/acs5/subject?get=NAME,S0801_C01_001E,S0801_C01_009E,S0801_C01_011E&for=tract:*&in=state:01\"\n",
        "curl -o /content/sample_data/AK.txt \"https://api.census.gov/data/2020/acs/acs5/subject?get=NAME,S0801_C01_001E,S0801_C01_009E,S0801_C01_011E&for=tract:*&in=state:02\""
      ]
    },
    {
      "cell_type": "markdown",
      "metadata": {
        "id": "UpAwkouNz49N"
      },
      "source": [
        ""
      ]
    },
    {
      "cell_type": "code",
      "execution_count": null,
      "metadata": {
        "id": "77VwB7_-z5DV"
      },
      "outputs": [],
      "source": [
        "%%bash\n",
        " sed -i 1d /content/sample_data/*.txt"
      ]
    },
    {
      "cell_type": "markdown",
      "metadata": {
        "id": "_Mgc4KjEz8sC"
      },
      "source": [
        ""
      ]
    },
    {
      "cell_type": "code",
      "execution_count": null,
      "metadata": {
        "id": "tDJdv8TVz8x9"
      },
      "outputs": [],
      "source": [
        "%%bash\n",
        " sed -i 's/\\[//g' /content/sample_data/*.txt\n",
        " sed -i 's/\\]//g' /content/sample_data/*.txt"
      ]
    },
    {
      "cell_type": "markdown",
      "metadata": {
        "id": "XXPK-w5pz-yr"
      },
      "source": [
        ""
      ]
    },
    {
      "cell_type": "code",
      "execution_count": null,
      "metadata": {
        "id": "qGkKMQwZz-4T"
      },
      "outputs": [],
      "source": [
        "%%bash\n",
        "  sed -i 's/,$//' /content/sample_data/*.txt"
      ]
    },
    {
      "cell_type": "markdown",
      "metadata": {
        "id": "wOWPGMLP2xwT"
      },
      "source": [
        ""
      ]
    },
    {
      "cell_type": "code",
      "execution_count": null,
      "metadata": {
        "colab": {
          "background_save": true,
          "base_uri": "https://localhost:8080/",
          "height": 131
        },
        "id": "Y6t_6fL42xI_",
        "outputId": "5c317245-91ce-460d-cf6b-3c0f82ac1824"
      },
      "outputs": [
        {
          "ename": "SyntaxError",
          "evalue": "ignored",
          "output_type": "error",
          "traceback": [
            "\u001b[0;36m  File \u001b[0;32m\"<ipython-input-56-43cd8efa41eb>\"\u001b[0;36m, line \u001b[0;32m1\u001b[0m\n\u001b[0;31m    sed -i -e '$a\\n' *.txt\u001b[0m\n\u001b[0m                   ^\u001b[0m\n\u001b[0;31mSyntaxError\u001b[0m\u001b[0;31m:\u001b[0m invalid syntax\n"
          ]
        }
      ],
      "source": [
        "sed -i -e '$a\\n' *.txt"
      ]
    },
    {
      "cell_type": "markdown",
      "metadata": {
        "id": "lVyRpKL-z6ou"
      },
      "source": [
        ""
      ]
    },
    {
      "cell_type": "code",
      "execution_count": null,
      "metadata": {
        "id": "43JFNaYuz6vR"
      },
      "outputs": [],
      "source": [
        "%%bash\n",
        "  cat /content/sample_data/*.txt > /content/sample_data/All_States.txt"
      ]
    },
    {
      "cell_type": "markdown",
      "metadata": {
        "id": "iXCQKT7YtX9D"
      },
      "source": [
        ""
      ]
    },
    {
      "cell_type": "code",
      "execution_count": null,
      "metadata": {
        "colab": {
          "base_uri": "https://localhost:8080/"
        },
        "id": "UrK82JsSs5U6",
        "outputId": "99b538c3-ea24-4d9e-ba29-ac0f07f2b080"
      },
      "outputs": [
        {
          "name": "stdout",
          "output_type": "stream",
          "text": [
            "Process is interrupted.\n"
          ]
        }
      ],
      "source": [
        "%%bash\n",
        "curl -o /content/sample_data/AL.txt \"https://api.census.gov/data/2020/acs/acs5/subject?get=NAME,S0801_C01_001E,S0801_C01_009E,S0801_C01_011E&for=tract:*&in=state:01\"\n",
        "curl -o /content/sample_data/AK.txt \"https://api.census.gov/data/2020/acs/acs5/subject?get=NAME,S0801_C01_001E,S0801_C01_009E,S0801_C01_011E&for=tract:*&in=state:02\"\n",
        "curl -o /content/sample_data/AZ.txt \"https://api.census.gov/data/2020/acs/acs5/subject?get=NAME,S0801_C01_001E,S0801_C01_009E,S0801_C01_011E&for=tract:*&in=state:04\"\n",
        "curl -o /content/sample_data/AR.txt \"https://api.census.gov/data/2020/acs/acs5/subject?get=NAME,S0801_C01_001E,S0801_C01_009E,S0801_C01_011E&for=tract:*&in=state:05\"\n",
        "curl -o /content/sample_data/CA.txt \"https://api.census.gov/data/2020/acs/acs5/subject?get=NAME,S0801_C01_001E,S0801_C01_009E,S0801_C01_011E&for=tract:*&in=state:06\"\n",
        "curl -o /content/sample_data/CO.txt \"https://api.census.gov/data/2020/acs/acs5/subject?get=NAME,S0801_C01_001E,S0801_C01_009E,S0801_C01_011E&for=tract:*&in=state:08\"\n",
        "curl -o /content/sample_data/CT.txt \"https://api.census.gov/data/2020/acs/acs5/subject?get=NAME,S0801_C01_001E,S0801_C01_009E,S0801_C01_011E&for=tract:*&in=state:09\"\n",
        "curl -o /content/sample_data/DE.txt \"https://api.census.gov/data/2020/acs/acs5/subject?get=NAME,S0801_C01_001E,S0801_C01_009E,S0801_C01_011E&for=tract:*&in=state:10\"\n",
        "curl -o /content/sample_data/FL.txt \"https://api.census.gov/data/2020/acs/acs5/subject?get=NAME,S0801_C01_001E,S0801_C01_009E,S0801_C01_011E&for=tract:*&in=state:12\"\n",
        "curl -o /content/sample_data/GA.txt \"https://api.census.gov/data/2020/acs/acs5/subject?get=NAME,S0801_C01_001E,S0801_C01_009E,S0801_C01_011E&for=tract:*&in=state:13\"\n",
        "curl -o /content/sample_data/HI.txt \"https://api.census.gov/data/2020/acs/acs5/subject?get=NAME,S0801_C01_001E,S0801_C01_009E,S0801_C01_011E&for=tract:*&in=state:15\"\n",
        "curl -o /content/sample_data/ID.txt \"https://api.census.gov/data/2020/acs/acs5/subject?get=NAME,S0801_C01_001E,S0801_C01_009E,S0801_C01_011E&for=tract:*&in=state:16\"\n",
        "curl -o /content/sample_data/IL.txt \"https://api.census.gov/data/2020/acs/acs5/subject?get=NAME,S0801_C01_001E,S0801_C01_009E,S0801_C01_011E&for=tract:*&in=state:17\"\n",
        "curl -o /content/sample_data/IN.txt \"https://api.census.gov/data/2020/acs/acs5/subject?get=NAME,S0801_C01_001E,S0801_C01_009E,S0801_C01_011E&for=tract:*&in=state:18\"\n",
        "curl -o /content/sample_data/IA.txt \"https://api.census.gov/data/2020/acs/acs5/subject?get=NAME,S0801_C01_001E,S0801_C01_009E,S0801_C01_011E&for=tract:*&in=state:19\"\n",
        "curl -o /content/sample_data/KS.txt \"https://api.census.gov/data/2020/acs/acs5/subject?get=NAME,S0801_C01_001E,S0801_C01_009E,S0801_C01_011E&for=tract:*&in=state:20\"\n",
        "curl -o /content/sample_data/KY.txt \"https://api.census.gov/data/2020/acs/acs5/subject?get=NAME,S0801_C01_001E,S0801_C01_009E,S0801_C01_011E&for=tract:*&in=state:21\"\n",
        "curl -o /content/sample_data/LA.txt \"https://api.census.gov/data/2020/acs/acs5/subject?get=NAME,S0801_C01_001E,S0801_C01_009E,S0801_C01_011E&for=tract:*&in=state:22\"\n",
        "curl -o /content/sample_data/ME.txt \"https://api.census.gov/data/2020/acs/acs5/subject?get=NAME,S0801_C01_001E,S0801_C01_009E,S0801_C01_011E&for=tract:*&in=state:23\"\n",
        "curl -o /content/sample_data/MD.txt \"https://api.census.gov/data/2020/acs/acs5/subject?get=NAME,S0801_C01_001E,S0801_C01_009E,S0801_C01_011E&for=tract:*&in=state:24\"\n",
        "curl -o /content/sample_data/MA.txt \"https://api.census.gov/data/2020/acs/acs5/subject?get=NAME,S0801_C01_001E,S0801_C01_009E,S0801_C01_011E&for=tract:*&in=state:25\"\n",
        "curl -o /content/sample_data/MI.txt \"https://api.census.gov/data/2020/acs/acs5/subject?get=NAME,S0801_C01_001E,S0801_C01_009E,S0801_C01_011E&for=tract:*&in=state:26\"\n",
        "curl -o /content/sample_data/MN.txt \"https://api.census.gov/data/2020/acs/acs5/subject?get=NAME,S0801_C01_001E,S0801_C01_009E,S0801_C01_011E&for=tract:*&in=state:27\"\n",
        "curl -o /content/sample_data/MS.txt \"https://api.census.gov/data/2020/acs/acs5/subject?get=NAME,S0801_C01_001E,S0801_C01_009E,S0801_C01_011E&for=tract:*&in=state:28\"\n",
        "curl -o /content/sample_data/MO.txt \"https://api.census.gov/data/2020/acs/acs5/subject?get=NAME,S0801_C01_001E,S0801_C01_009E,S0801_C01_011E&for=tract:*&in=state:29\"\n",
        "curl -o /content/sample_data/MT.txt \"https://api.census.gov/data/2020/acs/acs5/subject?get=NAME,S0801_C01_001E,S0801_C01_009E,S0801_C01_011E&for=tract:*&in=state:30\"\n",
        "curl -o /content/sample_data/NE.txt \"https://api.census.gov/data/2020/acs/acs5/subject?get=NAME,S0801_C01_001E,S0801_C01_009E,S0801_C01_011E&for=tract:*&in=state:31\"\n",
        "curl -o /content/sample_data/NV.txt \"https://api.census.gov/data/2020/acs/acs5/subject?get=NAME,S0801_C01_001E,S0801_C01_009E,S0801_C01_011E&for=tract:*&in=state:32\"\n",
        "curl -o /content/sample_data/NH.txt \"https://api.census.gov/data/2020/acs/acs5/subject?get=NAME,S0801_C01_001E,S0801_C01_009E,S0801_C01_011E&for=tract:*&in=state:33\"\n",
        "curl -o /content/sample_data/NJ.txt \"https://api.census.gov/data/2020/acs/acs5/subject?get=NAME,S0801_C01_001E,S0801_C01_009E,S0801_C01_011E&for=tract:*&in=state:34\"\n",
        "curl -o /content/sample_data/NM.txt \"https://api.census.gov/data/2020/acs/acs5/subject?get=NAME,S0801_C01_001E,S0801_C01_009E,S0801_C01_011E&for=tract:*&in=state:35\"\n",
        "curl -o /content/sample_data/NY.txt \"https://api.census.gov/data/2020/acs/acs5/subject?get=NAME,S0801_C01_001E,S0801_C01_009E,S0801_C01_011E&for=tract:*&in=state:36\"\n",
        "curl -o /content/sample_data/NC.txt \"https://api.census.gov/data/2020/acs/acs5/subject?get=NAME,S0801_C01_001E,S0801_C01_009E,S0801_C01_011E&for=tract:*&in=state:37\"\n",
        "curl -o /content/sample_data/ND.txt \"https://api.census.gov/data/2020/acs/acs5/subject?get=NAME,S0801_C01_001E,S0801_C01_009E,S0801_C01_011E&for=tract:*&in=state:38\"\n",
        "curl -o /content/sample_data/OH.txt \"https://api.census.gov/data/2020/acs/acs5/subject?get=NAME,S0801_C01_001E,S0801_C01_009E,S0801_C01_011E&for=tract:*&in=state:39\"\n",
        "curl -o /content/sample_data/OK.txt \"https://api.census.gov/data/2020/acs/acs5/subject?get=NAME,S0801_C01_001E,S0801_C01_009E,S0801_C01_011E&for=tract:*&in=state:40\"\n",
        "curl -o /content/sample_data/OR.txt \"https://api.census.gov/data/2020/acs/acs5/subject?get=NAME,S0801_C01_001E,S0801_C01_009E,S0801_C01_011E&for=tract:*&in=state:41\"\n",
        "curl -o /content/sample_data/PA.txt \"https://api.census.gov/data/2020/acs/acs5/subject?get=NAME,S0801_C01_001E,S0801_C01_009E,S0801_C01_011E&for=tract:*&in=state:42\"\n",
        "curl -o /content/sample_data/RI.txt \"https://api.census.gov/data/2020/acs/acs5/subject?get=NAME,S0801_C01_001E,S0801_C01_009E,S0801_C01_011E&for=tract:*&in=state:44\"\n",
        "curl -o /content/sample_data/SC.txt \"https://api.census.gov/data/2020/acs/acs5/subject?get=NAME,S0801_C01_001E,S0801_C01_009E,S0801_C01_011E&for=tract:*&in=state:45\"\n",
        "curl -o /content/sample_data/SD.txt \"https://api.census.gov/data/2020/acs/acs5/subject?get=NAME,S0801_C01_001E,S0801_C01_009E,S0801_C01_011E&for=tract:*&in=state:46\"\n",
        "curl -o /content/sample_data/TN.txt \"https://api.census.gov/data/2020/acs/acs5/subject?get=NAME,S0801_C01_001E,S0801_C01_009E,S0801_C01_011E&for=tract:*&in=state:47\"\n",
        "curl -o /content/sample_data/TX.txt \"https://api.census.gov/data/2020/acs/acs5/subject?get=NAME,S0801_C01_001E,S0801_C01_009E,S0801_C01_011E&for=tract:*&in=state:48\"\n",
        "curl -o /content/sample_data/UT.txt \"https://api.census.gov/data/2020/acs/acs5/subject?get=NAME,S0801_C01_001E,S0801_C01_009E,S0801_C01_011E&for=tract:*&in=state:49\"\n",
        "curl -o /content/sample_data/VT.txt \"https://api.census.gov/data/2020/acs/acs5/subject?get=NAME,S0801_C01_001E,S0801_C01_009E,S0801_C01_011E&for=tract:*&in=state:50\"\n",
        "curl -o /content/sample_data/VA.txt \"https://api.census.gov/data/2020/acs/acs5/subject?get=NAME,S0801_C01_001E,S0801_C01_009E,S0801_C01_011E&for=tract:*&in=state:51\"\n",
        "curl -o /content/sample_data/WA.txt \"https://api.census.gov/data/2020/acs/acs5/subject?get=NAME,S0801_C01_001E,S0801_C01_009E,S0801_C01_011E&for=tract:*&in=state:53\"\n",
        "curl -o /content/sample_data/WV.txt \"https://api.census.gov/data/2020/acs/acs5/subject?get=NAME,S0801_C01_001E,S0801_C01_009E,S0801_C01_011E&for=tract:*&in=state:54\"\n",
        "curl -o /content/sample_data/WI.txt \"https://api.census.gov/data/2020/acs/acs5/subject?get=NAME,S0801_C01_001E,S0801_C01_009E,S0801_C01_011E&for=tract:*&in=state:55\"\n",
        "curl -o /content/sample_data/WY.txt \"https://api.census.gov/data/2020/acs/acs5/subject?get=NAME,S0801_C01_001E,S0801_C01_009E,S0801_C01_011E&for=tract:*&in=state:56\""
      ]
    },
    {
      "cell_type": "markdown",
      "metadata": {
        "id": "r_TWa7b4aZ1p"
      },
      "source": [
        "asdfa"
      ]
    },
    {
      "cell_type": "code",
      "execution_count": null,
      "metadata": {
        "id": "LKmP557YaKys"
      },
      "outputs": [],
      "source": [
        "%%bash\n",
        " sed -i 1d /content/sample_data/*.txt"
      ]
    },
    {
      "cell_type": "markdown",
      "metadata": {
        "id": "OPKpSMmtaxlc"
      },
      "source": [
        ""
      ]
    },
    {
      "cell_type": "code",
      "execution_count": null,
      "metadata": {
        "id": "P_GdWf5vaxry"
      },
      "outputs": [],
      "source": [
        "%%bash\n",
        " sed -i 's/\\[//g' /content/sample_data/*.txt\n",
        " sed -i 's/\\]//g' /content/sample_data/*.txt"
      ]
    },
    {
      "cell_type": "markdown",
      "metadata": {
        "id": "7uMYHd9adj8x"
      },
      "source": [
        ""
      ]
    },
    {
      "cell_type": "code",
      "execution_count": null,
      "metadata": {
        "id": "4nxrh2xodkEd"
      },
      "outputs": [],
      "source": [
        "%%bash\n",
        "  sed -i 's/,$//' /content/sample_data/*.txt"
      ]
    },
    {
      "cell_type": "markdown",
      "metadata": {
        "id": "HAX0UywFd76O"
      },
      "source": [
        ""
      ]
    },
    {
      "cell_type": "code",
      "execution_count": null,
      "metadata": {
        "id": "vWPTB0akd8AG"
      },
      "outputs": [],
      "source": [
        "%%bash\n",
        "  cat /content/sample_data/*.txt > /content/sample_data/All_States.txt"
      ]
    },
    {
      "cell_type": "markdown",
      "metadata": {
        "id": "WP_WFsAZeaNQ"
      },
      "source": [
        ""
      ]
    },
    {
      "cell_type": "code",
      "execution_count": null,
      "metadata": {
        "id": "Hm4Cb9D8eaTe"
      },
      "outputs": [],
      "source": [
        "%%bash\n",
        "  sed  -i '1i CensusTract_Name, Number_Workers, Percent_PublicTransportation, Percent_Bicycle,StateFIPS, CountyFIPS, CensusTractFIPS' /content/sample_data/All_States.txt"
      ]
    },
    {
      "cell_type": "markdown",
      "metadata": {
        "id": "ZCeosaYQOixG"
      },
      "source": [
        ""
      ]
    },
    {
      "cell_type": "code",
      "execution_count": null,
      "metadata": {
        "colab": {
          "base_uri": "https://localhost:8080/"
        },
        "id": "b7cRYgL8uRkb",
        "outputId": "35a92bd2-6c27-48d9-e42d-96c3ba34c079"
      },
      "outputs": [
        {
          "name": "stdout",
          "output_type": "stream",
          "text": [
            "total 14380\n",
            "-rw-r--r-- 1 root root   16129 Apr 28 01:08 AK.txt\n",
            "-rw-r--r-- 1 root root 7310721 Apr 28 01:10 All_States.txt\n",
            "-rw-r--r-- 1 root root  121791 Apr 28 01:08 AL.txt\n",
            "-rw-r--r-- 1 root root   70809 Apr 28 01:08 AR.txt\n",
            "-rw-r--r-- 1 root root  150706 Apr 28 01:08 AZ.txt\n",
            "-rw-r--r-- 1 root root  831456 Apr 28 01:08 CA.txt\n",
            "-rw-r--r-- 1 root root  123696 Apr 28 01:08 CO.txt\n",
            "-rw-r--r-- 1 root root   79984 Apr 28 01:08 CT.txt\n",
            "-rw-r--r-- 1 root root   22774 Apr 28 01:08 DE.txt\n",
            "-rw-r--r-- 1 root root  443403 Apr 28 01:08 FL.txt\n",
            "-rw-r--r-- 1 root root  237203 Apr 28 01:08 GA.txt\n",
            "-rw-r--r-- 1 root root   39270 Apr 28 01:08 HI.txt\n",
            "-rw-r--r-- 1 root root   71930 Apr 28 01:08 IA.txt\n",
            "-rw-r--r-- 1 root root   37274 Apr 28 01:08 ID.txt\n",
            "-rw-r--r-- 1 root root  276031 Apr 28 01:08 IL.txt\n",
            "-rw-r--r-- 1 root root  142824 Apr 28 01:08 IN.txt\n",
            "-rw-r--r-- 1 root root   69110 Apr 28 01:08 KS.txt\n",
            "-rw-r--r-- 1 root root  111804 Apr 28 01:08 KY.txt\n",
            "-rw-r--r-- 1 root root  122969 Apr 28 01:08 LA.txt\n",
            "-rw-r--r-- 1 root root  149897 Apr 28 01:08 MA.txt\n",
            "-rw-r--r-- 1 root root  132644 Apr 28 01:08 MD.txt\n",
            "-rw-r--r-- 1 root root   33920 Apr 28 01:08 ME.txt\n",
            "-rw-r--r-- 1 root root  256813 Apr 28 01:08 MI.txt\n",
            "-rw-r--r-- 1 root root  130952 Apr 28 01:08 MN.txt\n",
            "-rw-r--r-- 1 root root  142747 Apr 28 01:08 MO.txt\n",
            "-rw-r--r-- 1 root root   77892 Apr 28 01:08 MS.txt\n",
            "-rw-r--r-- 1 root root   26872 Apr 28 01:08 MT.txt\n",
            "-rw-r--r-- 1 root root  247330 Apr 28 01:08 NC.txt\n",
            "-rw-r--r-- 1 root root   20187 Apr 28 01:08 ND.txt\n",
            "-rw-r--r-- 1 root root   46954 Apr 28 01:08 NE.txt\n",
            "-rw-r--r-- 1 root root   32646 Apr 28 01:08 NH.txt\n",
            "-rw-r--r-- 1 root root  191753 Apr 28 01:08 NJ.txt\n",
            "-rw-r--r-- 1 root root   54173 Apr 28 01:08 NM.txt\n",
            "-rw-r--r-- 1 root root   63929 Apr 28 01:08 NV.txt\n",
            "-rw-r--r-- 1 root root  463755 Apr 28 01:08 NY.txt\n",
            "-rw-r--r-- 1 root root  258645 Apr 28 01:08 OH.txt\n",
            "-rw-r--r-- 1 root root  103463 Apr 28 01:08 OK.txt\n",
            "-rw-r--r-- 1 root root   84533 Apr 28 01:08 OR.txt\n",
            "-rw-r--r-- 1 root root  314114 Apr 28 01:08 PA.txt\n",
            "-rw-r--r-- 1 root root   22745 Apr 28 01:08 RI.txt\n",
            "-rw-r--r-- 1 root root  123389 Apr 28 01:08 SC.txt\n",
            "-rw-r--r-- 1 root root   21719 Apr 28 01:08 SD.txt\n",
            "-rw-r--r-- 1 root root  147699 Apr 28 01:08 TN.txt\n",
            "-rw-r--r-- 1 root root  572452 Apr 28 01:08 TX.txt\n",
            "-rw-r--r-- 1 root root   59099 Apr 28 01:08 UT.txt\n",
            "-rw-r--r-- 1 root root  193048 Apr 28 01:08 VA.txt\n",
            "-rw-r--r-- 1 root root   16461 Apr 28 01:08 VT.txt\n",
            "-rw-r--r-- 1 root root  155794 Apr 28 01:08 WA.txt\n",
            "-rw-r--r-- 1 root root  133370 Apr 28 01:08 WI.txt\n",
            "-rw-r--r-- 1 root root   48967 Apr 28 01:08 WV.txt\n",
            "-rw-r--r-- 1 root root   13477 Apr 28 01:08 WY.txt\n"
          ]
        }
      ],
      "source": [
        "%%bash\n",
        "ls -l /content/sample_data/"
      ]
    },
    {
      "cell_type": "markdown",
      "metadata": {
        "id": "B3mbHxEkOi5A"
      },
      "source": [
        "## Bringing data into Python"
      ]
    },
    {
      "cell_type": "markdown",
      "metadata": {
        "id": "1wg_04L5ugUB"
      },
      "source": [
        ""
      ]
    },
    {
      "cell_type": "code",
      "execution_count": null,
      "metadata": {
        "id": "Aqt3Ww-Eugby"
      },
      "outputs": [],
      "source": [
        "import pandas as pd"
      ]
    },
    {
      "cell_type": "markdown",
      "metadata": {
        "id": "YWlw_nFMuxes"
      },
      "source": [
        ""
      ]
    },
    {
      "cell_type": "code",
      "execution_count": null,
      "metadata": {
        "colab": {
          "base_uri": "https://localhost:8080/",
          "height": 225
        },
        "id": "zkUl7KbHuxkr",
        "outputId": "5c41735e-76e6-4046-f962-593bfd8102b3"
      },
      "outputs": [
        {
          "ename": "ParserError",
          "evalue": "ignored",
          "output_type": "error",
          "traceback": [
            "\u001b[0;31m---------------------------------------------------------------------------\u001b[0m",
            "\u001b[0;31mParserError\u001b[0m                               Traceback (most recent call last)",
            "\u001b[0;32m<ipython-input-18-2ecbde53bad1>\u001b[0m in \u001b[0;36m<module>\u001b[0;34m()\u001b[0m\n\u001b[0;32m----> 1\u001b[0;31m \u001b[0mCommuter_All_CensusTracts\u001b[0m \u001b[0;34m=\u001b[0m \u001b[0mpd\u001b[0m\u001b[0;34m.\u001b[0m\u001b[0mread_csv\u001b[0m\u001b[0;34m(\u001b[0m\u001b[0;34m\"/content/sample_data/All_States.txt\"\u001b[0m\u001b[0;34m)\u001b[0m\u001b[0;34m\u001b[0m\u001b[0;34m\u001b[0m\u001b[0m\n\u001b[0m",
            "\u001b[0;32m/usr/local/lib/python3.7/dist-packages/pandas/util/_decorators.py\u001b[0m in \u001b[0;36mwrapper\u001b[0;34m(*args, **kwargs)\u001b[0m\n\u001b[1;32m    309\u001b[0m                     \u001b[0mstacklevel\u001b[0m\u001b[0;34m=\u001b[0m\u001b[0mstacklevel\u001b[0m\u001b[0;34m,\u001b[0m\u001b[0;34m\u001b[0m\u001b[0;34m\u001b[0m\u001b[0m\n\u001b[1;32m    310\u001b[0m                 )\n\u001b[0;32m--> 311\u001b[0;31m             \u001b[0;32mreturn\u001b[0m \u001b[0mfunc\u001b[0m\u001b[0;34m(\u001b[0m\u001b[0;34m*\u001b[0m\u001b[0margs\u001b[0m\u001b[0;34m,\u001b[0m \u001b[0;34m**\u001b[0m\u001b[0mkwargs\u001b[0m\u001b[0;34m)\u001b[0m\u001b[0;34m\u001b[0m\u001b[0;34m\u001b[0m\u001b[0m\n\u001b[0m\u001b[1;32m    312\u001b[0m \u001b[0;34m\u001b[0m\u001b[0m\n\u001b[1;32m    313\u001b[0m         \u001b[0;32mreturn\u001b[0m \u001b[0mwrapper\u001b[0m\u001b[0;34m\u001b[0m\u001b[0;34m\u001b[0m\u001b[0m\n",
            "\u001b[0;32m/usr/local/lib/python3.7/dist-packages/pandas/io/parsers/readers.py\u001b[0m in \u001b[0;36mread_csv\u001b[0;34m(filepath_or_buffer, sep, delimiter, header, names, index_col, usecols, squeeze, prefix, mangle_dupe_cols, dtype, engine, converters, true_values, false_values, skipinitialspace, skiprows, skipfooter, nrows, na_values, keep_default_na, na_filter, verbose, skip_blank_lines, parse_dates, infer_datetime_format, keep_date_col, date_parser, dayfirst, cache_dates, iterator, chunksize, compression, thousands, decimal, lineterminator, quotechar, quoting, doublequote, escapechar, comment, encoding, encoding_errors, dialect, error_bad_lines, warn_bad_lines, on_bad_lines, delim_whitespace, low_memory, memory_map, float_precision, storage_options)\u001b[0m\n\u001b[1;32m    584\u001b[0m     \u001b[0mkwds\u001b[0m\u001b[0;34m.\u001b[0m\u001b[0mupdate\u001b[0m\u001b[0;34m(\u001b[0m\u001b[0mkwds_defaults\u001b[0m\u001b[0;34m)\u001b[0m\u001b[0;34m\u001b[0m\u001b[0;34m\u001b[0m\u001b[0m\n\u001b[1;32m    585\u001b[0m \u001b[0;34m\u001b[0m\u001b[0m\n\u001b[0;32m--> 586\u001b[0;31m     \u001b[0;32mreturn\u001b[0m \u001b[0m_read\u001b[0m\u001b[0;34m(\u001b[0m\u001b[0mfilepath_or_buffer\u001b[0m\u001b[0;34m,\u001b[0m \u001b[0mkwds\u001b[0m\u001b[0;34m)\u001b[0m\u001b[0;34m\u001b[0m\u001b[0;34m\u001b[0m\u001b[0m\n\u001b[0m\u001b[1;32m    587\u001b[0m \u001b[0;34m\u001b[0m\u001b[0m\n\u001b[1;32m    588\u001b[0m \u001b[0;34m\u001b[0m\u001b[0m\n",
            "\u001b[0;32m/usr/local/lib/python3.7/dist-packages/pandas/io/parsers/readers.py\u001b[0m in \u001b[0;36m_read\u001b[0;34m(filepath_or_buffer, kwds)\u001b[0m\n\u001b[1;32m    486\u001b[0m \u001b[0;34m\u001b[0m\u001b[0m\n\u001b[1;32m    487\u001b[0m     \u001b[0;32mwith\u001b[0m \u001b[0mparser\u001b[0m\u001b[0;34m:\u001b[0m\u001b[0;34m\u001b[0m\u001b[0;34m\u001b[0m\u001b[0m\n\u001b[0;32m--> 488\u001b[0;31m         \u001b[0;32mreturn\u001b[0m \u001b[0mparser\u001b[0m\u001b[0;34m.\u001b[0m\u001b[0mread\u001b[0m\u001b[0;34m(\u001b[0m\u001b[0mnrows\u001b[0m\u001b[0;34m)\u001b[0m\u001b[0;34m\u001b[0m\u001b[0;34m\u001b[0m\u001b[0m\n\u001b[0m\u001b[1;32m    489\u001b[0m \u001b[0;34m\u001b[0m\u001b[0m\n\u001b[1;32m    490\u001b[0m \u001b[0;34m\u001b[0m\u001b[0m\n",
            "\u001b[0;32m/usr/local/lib/python3.7/dist-packages/pandas/io/parsers/readers.py\u001b[0m in \u001b[0;36mread\u001b[0;34m(self, nrows)\u001b[0m\n\u001b[1;32m   1045\u001b[0m     \u001b[0;32mdef\u001b[0m \u001b[0mread\u001b[0m\u001b[0;34m(\u001b[0m\u001b[0mself\u001b[0m\u001b[0;34m,\u001b[0m \u001b[0mnrows\u001b[0m\u001b[0;34m=\u001b[0m\u001b[0;32mNone\u001b[0m\u001b[0;34m)\u001b[0m\u001b[0;34m:\u001b[0m\u001b[0;34m\u001b[0m\u001b[0;34m\u001b[0m\u001b[0m\n\u001b[1;32m   1046\u001b[0m         \u001b[0mnrows\u001b[0m \u001b[0;34m=\u001b[0m \u001b[0mvalidate_integer\u001b[0m\u001b[0;34m(\u001b[0m\u001b[0;34m\"nrows\"\u001b[0m\u001b[0;34m,\u001b[0m \u001b[0mnrows\u001b[0m\u001b[0;34m)\u001b[0m\u001b[0;34m\u001b[0m\u001b[0;34m\u001b[0m\u001b[0m\n\u001b[0;32m-> 1047\u001b[0;31m         \u001b[0mindex\u001b[0m\u001b[0;34m,\u001b[0m \u001b[0mcolumns\u001b[0m\u001b[0;34m,\u001b[0m \u001b[0mcol_dict\u001b[0m \u001b[0;34m=\u001b[0m \u001b[0mself\u001b[0m\u001b[0;34m.\u001b[0m\u001b[0m_engine\u001b[0m\u001b[0;34m.\u001b[0m\u001b[0mread\u001b[0m\u001b[0;34m(\u001b[0m\u001b[0mnrows\u001b[0m\u001b[0;34m)\u001b[0m\u001b[0;34m\u001b[0m\u001b[0;34m\u001b[0m\u001b[0m\n\u001b[0m\u001b[1;32m   1048\u001b[0m \u001b[0;34m\u001b[0m\u001b[0m\n\u001b[1;32m   1049\u001b[0m         \u001b[0;32mif\u001b[0m \u001b[0mindex\u001b[0m \u001b[0;32mis\u001b[0m \u001b[0;32mNone\u001b[0m\u001b[0;34m:\u001b[0m\u001b[0;34m\u001b[0m\u001b[0;34m\u001b[0m\u001b[0m\n",
            "\u001b[0;32m/usr/local/lib/python3.7/dist-packages/pandas/io/parsers/c_parser_wrapper.py\u001b[0m in \u001b[0;36mread\u001b[0;34m(self, nrows)\u001b[0m\n\u001b[1;32m    222\u001b[0m         \u001b[0;32mtry\u001b[0m\u001b[0;34m:\u001b[0m\u001b[0;34m\u001b[0m\u001b[0;34m\u001b[0m\u001b[0m\n\u001b[1;32m    223\u001b[0m             \u001b[0;32mif\u001b[0m \u001b[0mself\u001b[0m\u001b[0;34m.\u001b[0m\u001b[0mlow_memory\u001b[0m\u001b[0;34m:\u001b[0m\u001b[0;34m\u001b[0m\u001b[0;34m\u001b[0m\u001b[0m\n\u001b[0;32m--> 224\u001b[0;31m                 \u001b[0mchunks\u001b[0m \u001b[0;34m=\u001b[0m \u001b[0mself\u001b[0m\u001b[0;34m.\u001b[0m\u001b[0m_reader\u001b[0m\u001b[0;34m.\u001b[0m\u001b[0mread_low_memory\u001b[0m\u001b[0;34m(\u001b[0m\u001b[0mnrows\u001b[0m\u001b[0;34m)\u001b[0m\u001b[0;34m\u001b[0m\u001b[0;34m\u001b[0m\u001b[0m\n\u001b[0m\u001b[1;32m    225\u001b[0m                 \u001b[0;31m# destructive to chunks\u001b[0m\u001b[0;34m\u001b[0m\u001b[0;34m\u001b[0m\u001b[0;34m\u001b[0m\u001b[0m\n\u001b[1;32m    226\u001b[0m                 \u001b[0mdata\u001b[0m \u001b[0;34m=\u001b[0m \u001b[0m_concatenate_chunks\u001b[0m\u001b[0;34m(\u001b[0m\u001b[0mchunks\u001b[0m\u001b[0;34m)\u001b[0m\u001b[0;34m\u001b[0m\u001b[0;34m\u001b[0m\u001b[0m\n",
            "\u001b[0;32m/usr/local/lib/python3.7/dist-packages/pandas/_libs/parsers.pyx\u001b[0m in \u001b[0;36mpandas._libs.parsers.TextReader.read_low_memory\u001b[0;34m()\u001b[0m\n",
            "\u001b[0;32m/usr/local/lib/python3.7/dist-packages/pandas/_libs/parsers.pyx\u001b[0m in \u001b[0;36mpandas._libs.parsers.TextReader._read_rows\u001b[0;34m()\u001b[0m\n",
            "\u001b[0;32m/usr/local/lib/python3.7/dist-packages/pandas/_libs/parsers.pyx\u001b[0m in \u001b[0;36mpandas._libs.parsers.TextReader._tokenize_rows\u001b[0;34m()\u001b[0m\n",
            "\u001b[0;32m/usr/local/lib/python3.7/dist-packages/pandas/_libs/parsers.pyx\u001b[0m in \u001b[0;36mpandas._libs.parsers.raise_parser_error\u001b[0;34m()\u001b[0m\n",
            "\u001b[0;31mParserError\u001b[0m: Error tokenizing data. C error: Expected 7 fields in line 178, saw 15\n"
          ]
        }
      ],
      "source": [
        "Commuter_All_CensusTracts = pd.read_csv(\"/content/sample_data/All_States.txt\") "
      ]
    },
    {
      "cell_type": "markdown",
      "metadata": {
        "id": "4rhTWu7Fv0vD"
      },
      "source": [
        ""
      ]
    },
    {
      "cell_type": "markdown",
      "metadata": {
        "id": "czxwlgevv0xV"
      },
      "source": [
        ""
      ]
    },
    {
      "cell_type": "markdown",
      "metadata": {
        "id": "HKXgvgMEv0z4"
      },
      "source": [
        "\n",
        "\n",
        "---\n",
        "\n",
        "\n",
        "\n",
        "---\n",
        "\n",
        "\n",
        "\n",
        "---\n",
        "\n"
      ]
    },
    {
      "cell_type": "code",
      "execution_count": null,
      "metadata": {
        "colab": {
          "base_uri": "https://localhost:8080/"
        },
        "id": "a3Z0M_Euv2kQ",
        "outputId": "acd88e02-c1ba-44f3-978e-ab1cb13d383f"
      },
      "outputs": [
        {
          "name": "stderr",
          "output_type": "stream",
          "text": [
            "  % Total    % Received % Xferd  Average Speed   Time    Time     Time  Current\n",
            "                                 Dload  Upload   Total   Spent    Left  Speed\n",
            "\r  0     0    0     0    0     0      0      0 --:--:-- --:--:-- --:--:--     0\r100 15846    0 15846    0     0  27226      0 --:--:-- --:--:-- --:--:-- 27180\r100  123k    0  123k    0     0   201k      0 --:--:-- --:--:-- --:--:--  201k\n"
          ]
        }
      ],
      "source": [
        "%%bash\n",
        "curl -o /content/sample_data/AL.txt \"https://api.census.gov/data/2020/acs/acs5/subject?get=NAME,S0801_C01_001E,S0801_C01_009E,S0801_C01_011E&for=tract:*&in=state:01\""
      ]
    },
    {
      "cell_type": "markdown",
      "metadata": {
        "id": "nESyZO1sv-EK"
      },
      "source": [
        ""
      ]
    },
    {
      "cell_type": "code",
      "execution_count": null,
      "metadata": {
        "id": "TRO0gwYtv-Lx"
      },
      "outputs": [],
      "source": [
        "%%bash\n",
        " sed -i 1d /content/sample_data/AL.txt"
      ]
    },
    {
      "cell_type": "markdown",
      "metadata": {
        "id": "upfl4umHwKA7"
      },
      "source": [
        ""
      ]
    },
    {
      "cell_type": "code",
      "execution_count": null,
      "metadata": {
        "id": "g7Sgy9NewKHp"
      },
      "outputs": [],
      "source": [
        "%%bash\n",
        " sed -i 's/\\[//g' /content/sample_data/AL.txt\n",
        " sed -i 's/\\]//g' /content/sample_data/AL.txt\n",
        " "
      ]
    }
  ],
  "metadata": {
    "colab": {
      "name": "Module6_Part3_CensusAPI_Bash.ipynb",
      "provenance": [],
      "authorship_tag": "ABX9TyPDUighLSeCi4IXzEwQS7Rp",
      "include_colab_link": true
    },
    "kernelspec": {
      "display_name": "Python 3",
      "name": "python3"
    },
    "language_info": {
      "name": "python"
    }
  },
  "nbformat": 4,
  "nbformat_minor": 0
}