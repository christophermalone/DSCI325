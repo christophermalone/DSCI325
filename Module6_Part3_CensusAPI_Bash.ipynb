{
  "cells": [
    {
      "cell_type": "markdown",
      "metadata": {
        "id": "view-in-github",
        "colab_type": "text"
      },
      "source": [
        "<a href=\"https://colab.research.google.com/github/christophermalone/DSCI325/blob/main/Module6_Part3_CensusAPI_Bash.ipynb\" target=\"_parent\"><img src=\"https://colab.research.google.com/assets/colab-badge.svg\" alt=\"Open In Colab\"/></a>"
      ]
    },
    {
      "cell_type": "markdown",
      "metadata": {
        "id": "-xqhMEbC7xV4"
      },
      "source": [
        "# Census API - BASH"
      ]
    },
    {
      "cell_type": "markdown",
      "metadata": {
        "id": "loYbRSDsZ0b1"
      },
      "source": [
        "Bash is a command-line language that is widely available for a variety of operating systems, e.g. Linux, Mac, Windows.  Bash has some efficiences that other languages do not - especially regarding the managment of files.\n",
        "\n",
        "One method of getting a file from a server with bash is **curl**.  Curl stands for Client URL and is a command-line tool for transferring files using various network protocals.  Curl allows one to get or push files using URL syntax.\n",
        "\n",
        "\n",
        "Source: https://en.wikipedia.org/wiki/CURL"
      ]
    },
    {
      "cell_type": "markdown",
      "source": [
        "<table width='100%' ><tr><td bgcolor='green'></td></tr></table>\n",
        "\n",
        "## Example 6.3.Bash\n",
        "Consider an investigation on the proportion of people that bicycle to work. For this investigation, data will be obtained from the US Census Bureau.  The American Community Survey (ACS) - 5 Year - Subject data will be used to pull this data.\n",
        " \n",
        "\n",
        "*   Data Source: American Community Survey - 5 Year data\n",
        "*   Census Unit:  Census Tract\n",
        "*   Variables: NAME of Census Tract; S0801_C01_001E, i.e. number of workers age 16 +; S0801_C01_009E, i.e. % of workers who use public tranportation to get to work, S0801_C01_011E, i.e. % of workers who bicyle to work\n",
        "*   Other:  for = tract:*, i.e. all tracts, in = state:01, i.e. FIPS code for AL\n",
        "\n",
        "Note:  There are a very large number of census tracts in the US; thus, specifying a state is required.\n",
        "\n",
        "\n",
        "Source: https://www.census.gov/data/developers/data-sets/acs-5year.html\n",
        "\n",
        "<table width='100%' ><tr><td bgcolor='green'></td></tr></table>"
      ],
      "metadata": {
        "id": "Y-260Jn4pqoI"
      }
    },
    {
      "cell_type": "markdown",
      "source": [
        "**Goal**: Obtain a Top 10 List for census tracts that have the highest proportion of people who bicycle to work."
      ],
      "metadata": {
        "id": "uuhn7Dez1dt8"
      }
    },
    {
      "cell_type": "markdown",
      "source": [
        ""
      ],
      "metadata": {
        "id": "4ZsepmsM1d2C"
      }
    },
    {
      "cell_type": "markdown",
      "source": [
        "## Preparing a Single File"
      ],
      "metadata": {
        "id": "HFqyApz9ywQ9"
      }
    },
    {
      "cell_type": "markdown",
      "source": [
        "Consider an inital call the Census Bureau API via a web browser."
      ],
      "metadata": {
        "id": "kAgOuCwipdNG"
      }
    },
    {
      "cell_type": "markdown",
      "source": [
        "Source:  https://api.census.gov/data/2020/acs/acs5/subject?get=NAME,S0801_C01_001E,S0801_C01_009E,S0801_C01_011E&for=tract:*&in=state:01"
      ],
      "metadata": {
        "id": "oJo3jOQwjiv_"
      }
    },
    {
      "cell_type": "markdown",
      "source": [
        "<p align='center'><img src=\"https://drive.google.com/uc?export=view&id=1U0tGSDVDLxfAbb6ZgWfes9OHyJI6oI9b\" width='75%' height='75%'></p>"
      ],
      "metadata": {
        "id": "5hI93SB1s2bX"
      }
    },
    {
      "cell_type": "markdown",
      "source": [
        "The curl command can be used to retrieve the same information; however, instead of sending the information to the browser, information will be saved into a file.\n",
        "<h1 align='center'><font color='green'>curl -o <i> < filename > </i> <i> < url > </i></font></h1>"
      ],
      "metadata": {
        "id": "9gmuoqEMtHxz"
      }
    },
    {
      "cell_type": "markdown",
      "source": [
        "Note:  The **-o** option will write the contents to a file."
      ],
      "metadata": {
        "id": "zVyLtB_rvKa4"
      }
    },
    {
      "cell_type": "code",
      "execution_count": null,
      "metadata": {
        "colab": {
          "base_uri": "https://localhost:8080/"
        },
        "id": "DlF-bxKDsusC",
        "outputId": "bafb7ede-0083-4d07-88e7-5fd423a16631"
      },
      "outputs": [
        {
          "output_type": "stream",
          "name": "stderr",
          "text": [
            "  % Total    % Received % Xferd  Average Speed   Time    Time     Time  Current\n",
            "                                 Dload  Upload   Total   Spent    Left  Speed\n",
            "\r  0     0    0     0    0     0      0      0 --:--:-- --:--:-- --:--:--     0\r  0     0    0     0    0     0      0      0 --:--:-- --:--:-- --:--:--     0\r100  123k    0  123k    0     0   169k      0 --:--:-- --:--:-- --:--:--  169k\n"
          ]
        }
      ],
      "source": [
        "#bash command to download the AL data from Census Bureau API\n",
        "%%bash\n",
        "curl -o /content/sample_data/AL.txt \"https://api.census.gov/data/2020/acs/acs5/subject?get=NAME,S0801_C01_001E,S0801_C01_009E,S0801_C01_011E&for=tract:*&in=state:01\""
      ]
    },
    {
      "cell_type": "markdown",
      "metadata": {
        "id": "BUNts9OfwXJb"
      },
      "source": [
        "Taking a look at this file using the head bash command."
      ]
    },
    {
      "cell_type": "code",
      "source": [
        "%%bash\n",
        "  head /content/sample_data/AL.txt"
      ],
      "metadata": {
        "colab": {
          "base_uri": "https://localhost:8080/"
        },
        "id": "r5-tJp5cwFG8",
        "outputId": "9a1b806a-5e80-4c97-aa32-4f8fb2cc919e"
      },
      "execution_count": null,
      "outputs": [
        {
          "output_type": "stream",
          "name": "stdout",
          "text": [
            "[[\"NAME\",\"S0801_C01_001E\",\"S0801_C01_009E\",\"S0801_C01_011E\",\"state\",\"county\",\"tract\"],\n",
            "[\"Census Tract 36, Jefferson County, Alabama\",\"1921\",\"0.0\",\"0.0\",\"01\",\"073\",\"003600\"],\n",
            "[\"Census Tract 37, Jefferson County, Alabama\",\"1399\",\"6.7\",\"0.0\",\"01\",\"073\",\"003700\"],\n",
            "[\"Census Tract 38.02, Jefferson County, Alabama\",\"2450\",\"4.9\",\"0.5\",\"01\",\"073\",\"003802\"],\n",
            "[\"Census Tract 38.03, Jefferson County, Alabama\",\"1737\",\"3.1\",\"0.0\",\"01\",\"073\",\"003803\"],\n",
            "[\"Census Tract 39, Jefferson County, Alabama\",\"502\",\"3.2\",\"0.0\",\"01\",\"073\",\"003900\"],\n",
            "[\"Census Tract 40, Jefferson County, Alabama\",\"833\",\"10.7\",\"0.0\",\"01\",\"073\",\"004000\"],\n",
            "[\"Census Tract 42, Jefferson County, Alabama\",\"804\",\"4.4\",\"0.0\",\"01\",\"073\",\"004200\"],\n",
            "[\"Census Tract 45.01, Jefferson County, Alabama\",\"905\",\"0.0\",\"0.0\",\"01\",\"073\",\"004501\"],\n",
            "[\"Census Tract 45.02, Jefferson County, Alabama\",\"1553\",\"0.0\",\"0.3\",\"01\",\"073\",\"004502\"],\n"
          ]
        }
      ]
    },
    {
      "cell_type": "markdown",
      "source": [
        "Data from each state will eventually be gathered and the data from all states will be merged.  Thus, for now we will remove the header row so that this information is not mistakened as a record in the merged data."
      ],
      "metadata": {
        "id": "mVJdDS5Ywiuo"
      }
    },
    {
      "cell_type": "code",
      "execution_count": null,
      "metadata": {
        "id": "GC7iClrUwXQJ"
      },
      "outputs": [],
      "source": [
        "#Using sed to remove the 1st line in the file\n",
        "%%bash\n",
        " sed -i 1d /content/sample_data/AL.txt"
      ]
    },
    {
      "cell_type": "markdown",
      "source": [
        "Checking to make sure the first line has indeed been removed."
      ],
      "metadata": {
        "id": "leNlfYDFjviW"
      }
    },
    {
      "cell_type": "code",
      "source": [
        "%%bash\n",
        "  head /content/sample_data/AL.txt"
      ],
      "metadata": {
        "colab": {
          "base_uri": "https://localhost:8080/"
        },
        "id": "NRPWl3qWjvqO",
        "outputId": "766d6bf2-7e76-4f80-a739-819bb7aded30"
      },
      "execution_count": null,
      "outputs": [
        {
          "output_type": "stream",
          "name": "stdout",
          "text": [
            "[\"Census Tract 36, Jefferson County, Alabama\",\"1921\",\"0.0\",\"0.0\",\"01\",\"073\",\"003600\"],\n",
            "[\"Census Tract 37, Jefferson County, Alabama\",\"1399\",\"6.7\",\"0.0\",\"01\",\"073\",\"003700\"],\n",
            "[\"Census Tract 38.02, Jefferson County, Alabama\",\"2450\",\"4.9\",\"0.5\",\"01\",\"073\",\"003802\"],\n",
            "[\"Census Tract 38.03, Jefferson County, Alabama\",\"1737\",\"3.1\",\"0.0\",\"01\",\"073\",\"003803\"],\n",
            "[\"Census Tract 39, Jefferson County, Alabama\",\"502\",\"3.2\",\"0.0\",\"01\",\"073\",\"003900\"],\n",
            "[\"Census Tract 40, Jefferson County, Alabama\",\"833\",\"10.7\",\"0.0\",\"01\",\"073\",\"004000\"],\n",
            "[\"Census Tract 42, Jefferson County, Alabama\",\"804\",\"4.4\",\"0.0\",\"01\",\"073\",\"004200\"],\n",
            "[\"Census Tract 45.01, Jefferson County, Alabama\",\"905\",\"0.0\",\"0.0\",\"01\",\"073\",\"004501\"],\n",
            "[\"Census Tract 45.02, Jefferson County, Alabama\",\"1553\",\"0.0\",\"0.3\",\"01\",\"073\",\"004502\"],\n",
            "[\"Census Tract 47.01, Jefferson County, Alabama\",\"2521\",\"0.5\",\"4.2\",\"01\",\"073\",\"004701\"],\n"
          ]
        }
      ]
    },
    {
      "cell_type": "markdown",
      "source": [
        "The following sed commands will remove all [ and ] characters from the data file."
      ],
      "metadata": {
        "id": "m2FB8AQnxVV1"
      }
    },
    {
      "cell_type": "code",
      "execution_count": null,
      "metadata": {
        "id": "wpVwBj0bweMF"
      },
      "outputs": [],
      "source": [
        "#Using sed to remove [ and ] characters\n",
        "%%bash\n",
        " sed -i 's/\\[//g' /content/sample_data/AL.txt\n",
        " sed -i 's/\\]//g' /content/sample_data/AL.txt"
      ]
    },
    {
      "cell_type": "markdown",
      "source": [
        "Checking to make sure all [ and ] characters have been removed."
      ],
      "metadata": {
        "id": "k232BeE-j3R_"
      }
    },
    {
      "cell_type": "code",
      "source": [
        "%%bash\n",
        "  head /content/sample_data/AL.txt"
      ],
      "metadata": {
        "colab": {
          "base_uri": "https://localhost:8080/"
        },
        "id": "1DaV5A8hj3aM",
        "outputId": "1ef8f0d5-1289-488b-a0ea-6f678f5d0e7d"
      },
      "execution_count": null,
      "outputs": [
        {
          "output_type": "stream",
          "name": "stdout",
          "text": [
            "\"Census Tract 36, Jefferson County, Alabama\",\"1921\",\"0.0\",\"0.0\",\"01\",\"073\",\"003600\",\n",
            "\"Census Tract 37, Jefferson County, Alabama\",\"1399\",\"6.7\",\"0.0\",\"01\",\"073\",\"003700\",\n",
            "\"Census Tract 38.02, Jefferson County, Alabama\",\"2450\",\"4.9\",\"0.5\",\"01\",\"073\",\"003802\",\n",
            "\"Census Tract 38.03, Jefferson County, Alabama\",\"1737\",\"3.1\",\"0.0\",\"01\",\"073\",\"003803\",\n",
            "\"Census Tract 39, Jefferson County, Alabama\",\"502\",\"3.2\",\"0.0\",\"01\",\"073\",\"003900\",\n",
            "\"Census Tract 40, Jefferson County, Alabama\",\"833\",\"10.7\",\"0.0\",\"01\",\"073\",\"004000\",\n",
            "\"Census Tract 42, Jefferson County, Alabama\",\"804\",\"4.4\",\"0.0\",\"01\",\"073\",\"004200\",\n",
            "\"Census Tract 45.01, Jefferson County, Alabama\",\"905\",\"0.0\",\"0.0\",\"01\",\"073\",\"004501\",\n",
            "\"Census Tract 45.02, Jefferson County, Alabama\",\"1553\",\"0.0\",\"0.3\",\"01\",\"073\",\"004502\",\n",
            "\"Census Tract 47.01, Jefferson County, Alabama\",\"2521\",\"0.5\",\"4.2\",\"01\",\"073\",\"004701\",\n"
          ]
        }
      ]
    },
    {
      "cell_type": "markdown",
      "source": [
        "The following sed command will remove all the , at the end of each line."
      ],
      "metadata": {
        "id": "2OJPQsmFxkwy"
      }
    },
    {
      "cell_type": "code",
      "execution_count": null,
      "metadata": {
        "id": "sqLwKMCPxoyz"
      },
      "outputs": [],
      "source": [
        "#Remove comma at the end of each line\n",
        "%%bash\n",
        "  sed -i 's/,$//' /content/sample_data/AL.txt"
      ]
    },
    {
      "cell_type": "markdown",
      "source": [
        "Checking to make sure the comma at the end of each line is removed."
      ],
      "metadata": {
        "id": "Gcgd6AJhj-OG"
      }
    },
    {
      "cell_type": "code",
      "source": [
        "%%bash\n",
        "  head /content/sample_data/AL.txt"
      ],
      "metadata": {
        "colab": {
          "base_uri": "https://localhost:8080/"
        },
        "id": "8-IyxoI_j-UW",
        "outputId": "7e21b3d9-eeb5-42e8-cf1c-6792e04b5702"
      },
      "execution_count": null,
      "outputs": [
        {
          "output_type": "stream",
          "name": "stdout",
          "text": [
            "\"Census Tract 36, Jefferson County, Alabama\",\"1921\",\"0.0\",\"0.0\",\"01\",\"073\",\"003600\"\n",
            "\"Census Tract 37, Jefferson County, Alabama\",\"1399\",\"6.7\",\"0.0\",\"01\",\"073\",\"003700\"\n",
            "\"Census Tract 38.02, Jefferson County, Alabama\",\"2450\",\"4.9\",\"0.5\",\"01\",\"073\",\"003802\"\n",
            "\"Census Tract 38.03, Jefferson County, Alabama\",\"1737\",\"3.1\",\"0.0\",\"01\",\"073\",\"003803\"\n",
            "\"Census Tract 39, Jefferson County, Alabama\",\"502\",\"3.2\",\"0.0\",\"01\",\"073\",\"003900\"\n",
            "\"Census Tract 40, Jefferson County, Alabama\",\"833\",\"10.7\",\"0.0\",\"01\",\"073\",\"004000\"\n",
            "\"Census Tract 42, Jefferson County, Alabama\",\"804\",\"4.4\",\"0.0\",\"01\",\"073\",\"004200\"\n",
            "\"Census Tract 45.01, Jefferson County, Alabama\",\"905\",\"0.0\",\"0.0\",\"01\",\"073\",\"004501\"\n",
            "\"Census Tract 45.02, Jefferson County, Alabama\",\"1553\",\"0.0\",\"0.3\",\"01\",\"073\",\"004502\"\n",
            "\"Census Tract 47.01, Jefferson County, Alabama\",\"2521\",\"0.5\",\"4.2\",\"01\",\"073\",\"004701\"\n"
          ]
        }
      ]
    },
    {
      "cell_type": "markdown",
      "source": [
        "The last issue that needs to be dealt with is to include a line break for the last record in each file.  This will be needed when the files are merged together."
      ],
      "metadata": {
        "id": "4nDyH_JVE8wG"
      }
    },
    {
      "cell_type": "markdown",
      "source": [
        "\n",
        "<p align='center'><img src=\"https://drive.google.com/uc?export=view&id=1F-8xQbiVtDMaFEDlBUTCiy6YM-Q-ayL9\" width='75%' height='75%'></p>"
      ],
      "metadata": {
        "id": "Jr6H9-hToFz6"
      }
    },
    {
      "cell_type": "markdown",
      "source": [
        "Taking a look the hidden characters, notice that the last line is missing it's end-of-line character."
      ],
      "metadata": {
        "id": "9jvsRJkioSBt"
      }
    },
    {
      "cell_type": "code",
      "source": [
        "#Using cat -A to see hidden characters in the file\n",
        "%%bash\n",
        " tail /content/sample_data/AL.txt | cat -A"
      ],
      "metadata": {
        "colab": {
          "base_uri": "https://localhost:8080/"
        },
        "id": "6204S_15oSIi",
        "outputId": "c834c1d0-4a6b-4134-9109-ff81e509249f"
      },
      "execution_count": null,
      "outputs": [
        {
          "output_type": "stream",
          "name": "stdout",
          "text": [
            "\"Census Tract 401.08, St. Clair County, Alabama\",\"2184\",\"0.0\",\"0.0\",\"01\",\"115\",\"040108\"$\n",
            "\"Census Tract 401.09, St. Clair County, Alabama\",\"1000\",\"0.0\",\"0.0\",\"01\",\"115\",\"040109\"$\n",
            "\"Census Tract 401.10, St. Clair County, Alabama\",\"1976\",\"0.0\",\"0.0\",\"01\",\"115\",\"040110\"$\n",
            "\"Census Tract 402.06, St. Clair County, Alabama\",\"1274\",\"0.0\",\"0.0\",\"01\",\"115\",\"040206\"$\n",
            "\"Census Tract 402.07, St. Clair County, Alabama\",\"1290\",\"0.0\",\"0.0\",\"01\",\"115\",\"040207\"$\n",
            "\"Census Tract 402.08, St. Clair County, Alabama\",\"1487\",\"0.3\",\"0.0\",\"01\",\"115\",\"040208\"$\n",
            "\"Census Tract 402.09, St. Clair County, Alabama\",\"1661\",\"0.0\",\"0.0\",\"01\",\"115\",\"040209\"$\n",
            "\"Census Tract 402.10, St. Clair County, Alabama\",\"1444\",\"0.0\",\"0.0\",\"01\",\"115\",\"040210\"$\n",
            "\"Census Tract 402.11, St. Clair County, Alabama\",\"1702\",\"0.0\",\"0.0\",\"01\",\"115\",\"040211\"$\n",
            "\"Census Tract 402.12, St. Clair County, Alabama\",\"1079\",\"0.0\",\"0.0\",\"01\",\"115\",\"040212\""
          ]
        }
      ]
    },
    {
      "cell_type": "markdown",
      "source": [
        "The following will add an end-of-line character to the last line of of the AL.txt file."
      ],
      "metadata": {
        "id": "CIehUXquojvz"
      }
    },
    {
      "cell_type": "code",
      "source": [
        "#Add an end-of-line character to the last line in the file\n",
        "%%bash\n",
        "  sed -i -e '$a\\' /content/sample_data/AL.txt"
      ],
      "metadata": {
        "id": "wdpCb_JDE83H"
      },
      "execution_count": null,
      "outputs": []
    },
    {
      "cell_type": "markdown",
      "source": [
        "Check to make sure an end-of-line hidden character has been added to the last line of the AL.txt file."
      ],
      "metadata": {
        "id": "wFP12xypkME-"
      }
    },
    {
      "cell_type": "code",
      "source": [
        "%%bash\n",
        " tail /content/sample_data/AL.txt | cat -A"
      ],
      "metadata": {
        "colab": {
          "base_uri": "https://localhost:8080/"
        },
        "id": "bhvqwmRokMK2",
        "outputId": "fe9acf10-60cb-4167-d360-d17fb9547e22"
      },
      "execution_count": null,
      "outputs": [
        {
          "output_type": "stream",
          "name": "stdout",
          "text": [
            "\"Census Tract 401.08, St. Clair County, Alabama\",\"2184\",\"0.0\",\"0.0\",\"01\",\"115\",\"040108\"$\n",
            "\"Census Tract 401.09, St. Clair County, Alabama\",\"1000\",\"0.0\",\"0.0\",\"01\",\"115\",\"040109\"$\n",
            "\"Census Tract 401.10, St. Clair County, Alabama\",\"1976\",\"0.0\",\"0.0\",\"01\",\"115\",\"040110\"$\n",
            "\"Census Tract 402.06, St. Clair County, Alabama\",\"1274\",\"0.0\",\"0.0\",\"01\",\"115\",\"040206\"$\n",
            "\"Census Tract 402.07, St. Clair County, Alabama\",\"1290\",\"0.0\",\"0.0\",\"01\",\"115\",\"040207\"$\n",
            "\"Census Tract 402.08, St. Clair County, Alabama\",\"1487\",\"0.3\",\"0.0\",\"01\",\"115\",\"040208\"$\n",
            "\"Census Tract 402.09, St. Clair County, Alabama\",\"1661\",\"0.0\",\"0.0\",\"01\",\"115\",\"040209\"$\n",
            "\"Census Tract 402.10, St. Clair County, Alabama\",\"1444\",\"0.0\",\"0.0\",\"01\",\"115\",\"040210\"$\n",
            "\"Census Tract 402.11, St. Clair County, Alabama\",\"1702\",\"0.0\",\"0.0\",\"01\",\"115\",\"040211\"$\n",
            "\"Census Tract 402.12, St. Clair County, Alabama\",\"1079\",\"0.0\",\"0.0\",\"01\",\"115\",\"040212\"$\n"
          ]
        }
      ]
    },
    {
      "cell_type": "markdown",
      "source": [
        "Finally, before moving onto working with two files, let's remove all files in the /content/sample_data/ folder."
      ],
      "metadata": {
        "id": "G4JWTa6vyTdP"
      }
    },
    {
      "cell_type": "code",
      "execution_count": null,
      "metadata": {
        "id": "9hnRVtNcteRq"
      },
      "outputs": [],
      "source": [
        "#Remove all files from the /content/sample_data/ folder\n",
        "%%bash\n",
        "rm /content/sample_data/*.*"
      ]
    },
    {
      "cell_type": "markdown",
      "metadata": {
        "id": "uWRj05QwzzJb"
      },
      "source": [
        "## Working with Two Files"
      ]
    },
    {
      "cell_type": "markdown",
      "source": [
        "The following curl commands will call the Census Bureau API and obtain data for AL and AK.  Once again, the files (or data) being retrieved will be saved into two seperate text files."
      ],
      "metadata": {
        "id": "bnNK3wzgzD5S"
      }
    },
    {
      "cell_type": "code",
      "execution_count": null,
      "metadata": {
        "colab": {
          "base_uri": "https://localhost:8080/"
        },
        "id": "v9uAZwzmzzPi",
        "outputId": "87a26dda-075a-43ee-c1d8-6d128af20173"
      },
      "outputs": [
        {
          "output_type": "stream",
          "name": "stderr",
          "text": [
            "  % Total    % Received % Xferd  Average Speed   Time    Time     Time  Current\n",
            "                                 Dload  Upload   Total   Spent    Left  Speed\n",
            "\r  0     0    0     0    0     0      0      0 --:--:-- --:--:-- --:--:--     0\r  0     0    0     0    0     0      0      0 --:--:-- --:--:-- --:--:--     0\r100  123k    0  123k    0     0   152k      0 --:--:-- --:--:-- --:--:--  152k\n",
            "  % Total    % Received % Xferd  Average Speed   Time    Time     Time  Current\n",
            "                                 Dload  Upload   Total   Spent    Left  Speed\n",
            "\r  0     0    0     0    0     0      0      0 --:--:-- --:--:-- --:--:--     0\r100 16748    0 16748    0     0  29485      0 --:--:-- --:--:-- --:--:-- 29485\n"
          ]
        }
      ],
      "source": [
        "#Using curl to retrieve data from Census Bureau API\n",
        "%%bash\n",
        "curl -o /content/sample_data/AL.txt \"https://api.census.gov/data/2020/acs/acs5/subject?get=NAME,S0801_C01_001E,S0801_C01_009E,S0801_C01_011E&for=tract:*&in=state:01\"\n",
        "curl -o /content/sample_data/AK.txt \"https://api.census.gov/data/2020/acs/acs5/subject?get=NAME,S0801_C01_001E,S0801_C01_009E,S0801_C01_011E&for=tract:*&in=state:02\""
      ]
    },
    {
      "cell_type": "markdown",
      "metadata": {
        "id": "UpAwkouNz49N"
      },
      "source": [
        "Again, removing the header information from both files.  A wildcard, i.e. \\*, is being used here when referring to the file to remove the header from.  This will remove the header information from **all** text files in this directory."
      ]
    },
    {
      "cell_type": "code",
      "execution_count": null,
      "metadata": {
        "id": "77VwB7_-z5DV"
      },
      "outputs": [],
      "source": [
        "#Delete 1st line from all *.txt files\n",
        "%%bash\n",
        " sed -i 1d /content/sample_data/*.txt"
      ]
    },
    {
      "cell_type": "markdown",
      "metadata": {
        "id": "_Mgc4KjEz8sC"
      },
      "source": [
        "The following sed commands will remove all [ and ] characters from the data file."
      ]
    },
    {
      "cell_type": "code",
      "execution_count": null,
      "metadata": {
        "id": "tDJdv8TVz8x9"
      },
      "outputs": [],
      "source": [
        "%%bash\n",
        " sed -i 's/\\[//g' /content/sample_data/*.txt\n",
        " sed -i 's/\\]//g' /content/sample_data/*.txt"
      ]
    },
    {
      "cell_type": "markdown",
      "metadata": {
        "id": "XXPK-w5pz-yr"
      },
      "source": [
        "The following sed command will remove all the , at the end of each line."
      ]
    },
    {
      "cell_type": "code",
      "execution_count": null,
      "metadata": {
        "id": "qGkKMQwZz-4T"
      },
      "outputs": [],
      "source": [
        "%%bash\n",
        "  sed -i 's/,$//' /content/sample_data/*.txt"
      ]
    },
    {
      "cell_type": "markdown",
      "metadata": {
        "id": "wOWPGMLP2xwT"
      },
      "source": [
        "Lastly, ensure that a line break exists for the last line in each file."
      ]
    },
    {
      "cell_type": "code",
      "source": [
        "%%bash\n",
        "  sed -i -e '$a\\' /content/sample_data/*.txt"
      ],
      "metadata": {
        "id": "sNcSCUy2Fgnc"
      },
      "execution_count": null,
      "outputs": []
    },
    {
      "cell_type": "markdown",
      "metadata": {
        "id": "lVyRpKL-z6ou"
      },
      "source": [
        "There are two files here - one file that contains information for AL and another that contains information for AK. The following command will **merge** (or concatenate) the contents of these two files.  The merged data is saved into a file called Both_States.txt."
      ]
    },
    {
      "cell_type": "code",
      "execution_count": null,
      "metadata": {
        "id": "43JFNaYuz6vR"
      },
      "outputs": [],
      "source": [
        "%%bash\n",
        "  cat /content/sample_data/*.txt > /content/sample_data/Both_States.txt"
      ]
    },
    {
      "cell_type": "markdown",
      "source": [
        "Before proceeding, let us make sure the merge was successful."
      ],
      "metadata": {
        "id": "sU2HMLpruJTe"
      }
    },
    {
      "cell_type": "code",
      "source": [
        "%%bash\n",
        "  head /content/sample_data/Both_States.txt"
      ],
      "metadata": {
        "colab": {
          "base_uri": "https://localhost:8080/"
        },
        "id": "n9PlVnLluJZs",
        "outputId": "d45b34d5-d7f4-4969-faef-bcdd9fefe2b6"
      },
      "execution_count": null,
      "outputs": [
        {
          "output_type": "stream",
          "name": "stdout",
          "text": [
            "\"Census Tract 1, Aleutians East Borough, Alaska\",\"2246\",\"0.1\",\"0.7\",\"02\",\"013\",\"000100\"\n",
            "\"Census Tract 1, Yukon-Koyukuk Census Area, Alaska\",\"368\",\"2.7\",\"0.0\",\"02\",\"290\",\"000100\"\n",
            "\"Census Tract 2, Yukon-Koyukuk Census Area, Alaska\",\"647\",\"0.0\",\"0.2\",\"02\",\"290\",\"000200\"\n",
            "\"Census Tract 3, Yukon-Koyukuk Census Area, Alaska\",\"733\",\"0.0\",\"0.4\",\"02\",\"290\",\"000300\"\n",
            "\"Census Tract 4, Yukon-Koyukuk Census Area, Alaska\",\"382\",\"0.0\",\"0.0\",\"02\",\"290\",\"000400\"\n",
            "\"Census Tract 1, Yakutat City and Borough, Alaska\",\"294\",\"0.0\",\"6.5\",\"02\",\"282\",\"000100\"\n",
            "\"Census Tract 3, Wrangell City and Borough, Alaska\",\"1011\",\"0.3\",\"1.7\",\"02\",\"275\",\"000300\"\n",
            "\"Census Tract 1, Southeast Fairbanks Census Area, Alaska\",\"910\",\"1.2\",\"0.0\",\"02\",\"240\",\"000100\"\n",
            "\"Census Tract 4, Southeast Fairbanks Census Area, Alaska\",\"1755\",\"0.3\",\"0.0\",\"02\",\"240\",\"000400\"\n",
            "\"Census Tract 1, Skagway Municipality, Alaska\",\"804\",\"0.5\",\"5.8\",\"02\",\"230\",\"000100\"\n"
          ]
        }
      ]
    },
    {
      "cell_type": "markdown",
      "source": [
        "Next, let's ensure that these two files were indeed successfully merged together.  First, obtain the number of lines in the first file using the **wc -l** command."
      ],
      "metadata": {
        "id": "qiQiYf9nwsIw"
      }
    },
    {
      "cell_type": "code",
      "source": [
        "%%bash\n",
        "  wc -l /content/sample_data/AK.txt"
      ],
      "metadata": {
        "colab": {
          "base_uri": "https://localhost:8080/"
        },
        "id": "e4JssWAwwaww",
        "outputId": "ffc9a11d-68ba-4127-86d0-480fff095cf7"
      },
      "execution_count": null,
      "outputs": [
        {
          "output_type": "stream",
          "name": "stdout",
          "text": [
            "177 /content/sample_data/AK.txt\n"
          ]
        }
      ]
    },
    {
      "cell_type": "markdown",
      "source": [
        "For these two files the transition between the two states happens at Line 177. The following sed option will print lines 170 through 185 of the Both_States.txt file.  After reviewing this output, it appear the merging of the two files was successful."
      ],
      "metadata": {
        "id": "m1saMgWAu2An"
      }
    },
    {
      "cell_type": "code",
      "source": [
        "%%bash\n",
        "  sed '170,185!d;=' /content/sample_data/Both_States.txt | paste -d: - -"
      ],
      "metadata": {
        "colab": {
          "base_uri": "https://localhost:8080/"
        },
        "id": "epGAUwaJu2Hv",
        "outputId": "cf7a9351-a3f9-4562-a3de-80f891bb0b3e"
      },
      "execution_count": null,
      "outputs": [
        {
          "output_type": "stream",
          "name": "stdout",
          "text": [
            "170:\"Census Tract 28.22, Anchorage Municipality, Alaska\",\"2461\",\"0.0\",\"0.5\",\"02\",\"020\",\"002822\"\n",
            "171:\"Census Tract 28.23, Anchorage Municipality, Alaska\",\"2281\",\"0.0\",\"0.0\",\"02\",\"020\",\"002823\"\n",
            "172:\"Census Tract 29, Anchorage Municipality, Alaska\",\"1379\",\"0.1\",\"2.0\",\"02\",\"020\",\"002900\"\n",
            "173:\"Census Tract 9800, Anchorage Municipality, Alaska\",\"0\",\"-666666666.0\",\"-666666666.0\",\"02\",\"020\",\"980000\"\n",
            "174:\"Census Tract 9801, Anchorage Municipality, Alaska\",\"3040\",\"0.2\",\"0.3\",\"02\",\"020\",\"980100\"\n",
            "175:\"Census Tract 9802, Anchorage Municipality, Alaska\",\"4113\",\"0.4\",\"0.9\",\"02\",\"020\",\"980200\"\n",
            "176:\"Census Tract 1, Aleutians West Census Area, Alaska\",\"563\",\"2.5\",\"3.9\",\"02\",\"016\",\"000100\"\n",
            "177:\"Census Tract 2, Aleutians West Census Area, Alaska\",\"3110\",\"0.3\",\"0.1\",\"02\",\"016\",\"000200\"\n",
            "178:\"Census Tract 36, Jefferson County, Alabama\",\"1921\",\"0.0\",\"0.0\",\"01\",\"073\",\"003600\"\n",
            "179:\"Census Tract 37, Jefferson County, Alabama\",\"1399\",\"6.7\",\"0.0\",\"01\",\"073\",\"003700\"\n",
            "180:\"Census Tract 38.02, Jefferson County, Alabama\",\"2450\",\"4.9\",\"0.5\",\"01\",\"073\",\"003802\"\n",
            "181:\"Census Tract 38.03, Jefferson County, Alabama\",\"1737\",\"3.1\",\"0.0\",\"01\",\"073\",\"003803\"\n",
            "182:\"Census Tract 39, Jefferson County, Alabama\",\"502\",\"3.2\",\"0.0\",\"01\",\"073\",\"003900\"\n",
            "183:\"Census Tract 40, Jefferson County, Alabama\",\"833\",\"10.7\",\"0.0\",\"01\",\"073\",\"004000\"\n",
            "184:\"Census Tract 42, Jefferson County, Alabama\",\"804\",\"4.4\",\"0.0\",\"01\",\"073\",\"004200\"\n",
            "185:\"Census Tract 45.01, Jefferson County, Alabama\",\"905\",\"0.0\",\"0.0\",\"01\",\"073\",\"004501\"\n"
          ]
        }
      ]
    },
    {
      "cell_type": "markdown",
      "source": [
        "After the merge has been completed, the following command can be used to insert a header row back into the file containing the data."
      ],
      "metadata": {
        "id": "55Q8dnzzxbeA"
      }
    },
    {
      "cell_type": "code",
      "source": [
        "%%bash\n",
        "  sed  -i '1i CensusTract_Name, Number_Workers, Percent_PublicTransportation,Percent_Bicycle,StateFIPS,CountyFIPS,CensusTractFIPS' /content/sample_data/Both_States.txt"
      ],
      "metadata": {
        "id": "rtMB1pUTxbov"
      },
      "execution_count": null,
      "outputs": []
    },
    {
      "cell_type": "markdown",
      "source": [
        "Making sure the header row has been successfully added to the data file."
      ],
      "metadata": {
        "id": "zrxZ69u_yoBo"
      }
    },
    {
      "cell_type": "code",
      "source": [
        "%%bash\n",
        "  head /content/sample_data/Both_States.txt"
      ],
      "metadata": {
        "colab": {
          "base_uri": "https://localhost:8080/"
        },
        "id": "8IOWLWgAyoI3",
        "outputId": "fc1aa29e-48b1-4cae-8ac0-dbe236b782a9"
      },
      "execution_count": null,
      "outputs": [
        {
          "output_type": "stream",
          "name": "stdout",
          "text": [
            "CensusTract_Name, Number_Workers, Percent_PublicTransportation,Percent_Bicycle,StateFIPS,CountyFIPS,CensusTractFIPS\n",
            "\"Census Tract 1, Aleutians East Borough, Alaska\",\"2246\",\"0.1\",\"0.7\",\"02\",\"013\",\"000100\"\n",
            "\"Census Tract 1, Yukon-Koyukuk Census Area, Alaska\",\"368\",\"2.7\",\"0.0\",\"02\",\"290\",\"000100\"\n",
            "\"Census Tract 2, Yukon-Koyukuk Census Area, Alaska\",\"647\",\"0.0\",\"0.2\",\"02\",\"290\",\"000200\"\n",
            "\"Census Tract 3, Yukon-Koyukuk Census Area, Alaska\",\"733\",\"0.0\",\"0.4\",\"02\",\"290\",\"000300\"\n",
            "\"Census Tract 4, Yukon-Koyukuk Census Area, Alaska\",\"382\",\"0.0\",\"0.0\",\"02\",\"290\",\"000400\"\n",
            "\"Census Tract 1, Yakutat City and Borough, Alaska\",\"294\",\"0.0\",\"6.5\",\"02\",\"282\",\"000100\"\n",
            "\"Census Tract 3, Wrangell City and Borough, Alaska\",\"1011\",\"0.3\",\"1.7\",\"02\",\"275\",\"000300\"\n",
            "\"Census Tract 1, Southeast Fairbanks Census Area, Alaska\",\"910\",\"1.2\",\"0.0\",\"02\",\"240\",\"000100\"\n",
            "\"Census Tract 4, Southeast Fairbanks Census Area, Alaska\",\"1755\",\"0.3\",\"0.0\",\"02\",\"240\",\"000400\"\n"
          ]
        }
      ]
    },
    {
      "cell_type": "markdown",
      "source": [
        "Once again, before moving onto the gathering of data from all states, let's remove the contents of the /content/sample_data/ folder."
      ],
      "metadata": {
        "id": "zje2YWQFF3yZ"
      }
    },
    {
      "cell_type": "code",
      "source": [
        "%%bash\n",
        "rm /content/sample_data/*.*"
      ],
      "metadata": {
        "id": "Jq9dn_4LF38P"
      },
      "execution_count": null,
      "outputs": []
    },
    {
      "cell_type": "markdown",
      "metadata": {
        "id": "iXCQKT7YtX9D"
      },
      "source": [
        "## Gathering Data from All Census Tracts"
      ]
    },
    {
      "cell_type": "markdown",
      "source": [
        "The required data processing steps have been defined by the steps outlined above.  These same steps will not be used on data collected on **all** census tracts across the entire United States."
      ],
      "metadata": {
        "id": "fPsKUrGe2cOK"
      }
    },
    {
      "cell_type": "markdown",
      "source": [
        "A spreadsheet that contains a list of all state abbreviations and FIPS codes is provided here.  The concatenate() spreadsheet function was actually used to write each curl command.\n",
        "\n",
        "Source: https://docs.google.com/spreadsheets/d/1NijveG6Z3H3_IOZDFF_FwLhwn5hDD2s319OMlVVAp9k/edit?usp=sharing"
      ],
      "metadata": {
        "id": "xyjHhvhR2mqY"
      }
    },
    {
      "cell_type": "code",
      "execution_count": null,
      "metadata": {
        "colab": {
          "base_uri": "https://localhost:8080/"
        },
        "id": "UrK82JsSs5U6",
        "outputId": "02cd8342-cd25-4cad-8501-5d17611ee947"
      },
      "outputs": [
        {
          "output_type": "stream",
          "name": "stderr",
          "text": [
            "  % Total    % Received % Xferd  Average Speed   Time    Time     Time  Current\n",
            "                                 Dload  Upload   Total   Spent    Left  Speed\n",
            "\r  0     0    0     0    0     0      0      0 --:--:-- --:--:-- --:--:--     0\r100  123k    0  123k    0     0   163k      0 --:--:-- --:--:-- --:--:--  163k\n",
            "  % Total    % Received % Xferd  Average Speed   Time    Time     Time  Current\n",
            "                                 Dload  Upload   Total   Spent    Left  Speed\n",
            "\r  0     0    0     0    0     0      0      0 --:--:-- --:--:-- --:--:--     0\r  0     0    0     0    0     0      0      0 --:--:-- --:--:-- --:--:--     0\r100 16748    0 16748    0     0  29642      0 --:--:-- --:--:-- --:--:-- 29590\n",
            "  % Total    % Received % Xferd  Average Speed   Time    Time     Time  Current\n",
            "                                 Dload  Upload   Total   Spent    Left  Speed\n",
            "\r  0     0    0     0    0     0      0      0 --:--:-- --:--:-- --:--:--     0\r  0     0    0     0    0     0      0      0 --:--:-- --:--:-- --:--:--     0\r100  152k    0  152k    0     0   201k      0 --:--:-- --:--:-- --:--:--  200k\n",
            "  % Total    % Received % Xferd  Average Speed   Time    Time     Time  Current\n",
            "                                 Dload  Upload   Total   Spent    Left  Speed\n",
            "\r  0     0    0     0    0     0      0      0 --:--:-- --:--:-- --:--:--     0\r100 73366    0 73366    0     0  95653      0 --:--:-- --:--:-- --:--:-- 95653\n",
            "  % Total    % Received % Xferd  Average Speed   Time    Time     Time  Current\n",
            "                                 Dload  Upload   Total   Spent    Left  Speed\n",
            "\r  0     0    0     0    0     0      0      0 --:--:-- --:--:-- --:--:--     0\r  0     0    0     0    0     0      0      0 --:--:-- --:--:-- --:--:--     0\r  0     0    0     0    0     0      0      0 --:--:--  0:00:01 --:--:--     0\r100  838k    0  838k    0     0   597k      0 --:--:--  0:00:01 --:--:--  597k\n",
            "  % Total    % Received % Xferd  Average Speed   Time    Time     Time  Current\n",
            "                                 Dload  Upload   Total   Spent    Left  Speed\n",
            "\r  0     0    0     0    0     0      0      0 --:--:-- --:--:-- --:--:--     0\r100  125k    0  125k    0     0   188k      0 --:--:-- --:--:-- --:--:--  188k\n",
            "  % Total    % Received % Xferd  Average Speed   Time    Time     Time  Current\n",
            "                                 Dload  Upload   Total   Spent    Left  Speed\n",
            "\r  0     0    0     0    0     0      0      0 --:--:-- --:--:-- --:--:--     0\r  0     0    0     0    0     0      0      0 --:--:-- --:--:-- --:--:--     0\r100 82721    0 82721    0     0   108k      0 --:--:-- --:--:-- --:--:--  108k\n",
            "  % Total    % Received % Xferd  Average Speed   Time    Time     Time  Current\n",
            "                                 Dload  Upload   Total   Spent    Left  Speed\n",
            "\r  0     0    0     0    0     0      0      0 --:--:-- --:--:-- --:--:--     0\r100 15846    0 15846    0     0  29075      0 --:--:-- --:--:-- --:--:-- 29021\r100 23648    0 23648    0     0  42304      0 --:--:-- --:--:-- --:--:-- 42304\n",
            "  % Total    % Received % Xferd  Average Speed   Time    Time     Time  Current\n",
            "                                 Dload  Upload   Total   Spent    Left  Speed\n",
            "\r  0     0    0     0    0     0      0      0 --:--:-- --:--:-- --:--:--     0\r100 15846    0 15846    0     0  15459      0 --:--:--  0:00:01 --:--:-- 15474\r100  448k    0  448k    0     0   400k      0 --:--:--  0:00:01 --:--:--  400k\n",
            "  % Total    % Received % Xferd  Average Speed   Time    Time     Time  Current\n",
            "                                 Dload  Upload   Total   Spent    Left  Speed\n",
            "\r  0     0    0     0    0     0      0      0 --:--:-- --:--:-- --:--:--     0\r100 12983    0 12983    0     0  16993      0 --:--:-- --:--:-- --:--:-- 16971\r100  239k    0  239k    0     0   289k      0 --:--:-- --:--:-- --:--:--  288k\n",
            "  % Total    % Received % Xferd  Average Speed   Time    Time     Time  Current\n",
            "                                 Dload  Upload   Total   Spent    Left  Speed\n",
            "\r  0     0    0     0    0     0      0      0 --:--:-- --:--:-- --:--:--     0\r100 40741    0 40741    0     0  71475      0 --:--:-- --:--:-- --:--:-- 71475\n",
            "  % Total    % Received % Xferd  Average Speed   Time    Time     Time  Current\n",
            "                                 Dload  Upload   Total   Spent    Left  Speed\n",
            "\r  0     0    0     0    0     0      0      0 --:--:-- --:--:-- --:--:--     0\r  0     0    0     0    0     0      0      0 --:--:-- --:--:-- --:--:--     0\r100 38730    0 38730    0     0  71064      0 --:--:-- --:--:-- --:--:-- 70934\n",
            "  % Total    % Received % Xferd  Average Speed   Time    Time     Time  Current\n",
            "                                 Dload  Upload   Total   Spent    Left  Speed\n",
            "\r  0     0    0     0    0     0      0      0 --:--:-- --:--:-- --:--:--     0\r100  8639    0  8639    0     0  10991      0 --:--:-- --:--:-- --:--:-- 10977\r100  279k    0  279k    0     0   337k      0 --:--:-- --:--:-- --:--:--  336k\n",
            "  % Total    % Received % Xferd  Average Speed   Time    Time     Time  Current\n",
            "                                 Dload  Upload   Total   Spent    Left  Speed\n",
            "\r  0     0    0     0    0     0      0      0 --:--:-- --:--:-- --:--:--     0\r100  144k    0  144k    0     0   202k      0 --:--:-- --:--:-- --:--:--  202k\n",
            "  % Total    % Received % Xferd  Average Speed   Time    Time     Time  Current\n",
            "                                 Dload  Upload   Total   Spent    Left  Speed\n",
            "\r  0     0    0     0    0     0      0      0 --:--:-- --:--:-- --:--:--     0\r100 74706    0 74706    0     0   126k      0 --:--:-- --:--:-- --:--:--  126k\n",
            "  % Total    % Received % Xferd  Average Speed   Time    Time     Time  Current\n",
            "                                 Dload  Upload   Total   Spent    Left  Speed\n",
            "\r  0     0    0     0    0     0      0      0 --:--:-- --:--:-- --:--:--     0\r100  8639    0  8639    0     0  14255      0 --:--:-- --:--:-- --:--:-- 14232\r100 71685    0 71685    0     0   112k      0 --:--:-- --:--:-- --:--:--  112k\n",
            "  % Total    % Received % Xferd  Average Speed   Time    Time     Time  Current\n",
            "                                 Dload  Upload   Total   Spent    Left  Speed\n",
            "\r  0     0    0     0    0     0      0      0 --:--:-- --:--:-- --:--:--     0\r100  113k    0  113k    0     0   178k      0 --:--:-- --:--:-- --:--:--  178k\n",
            "  % Total    % Received % Xferd  Average Speed   Time    Time     Time  Current\n",
            "                                 Dload  Upload   Total   Spent    Left  Speed\n",
            "\r  0     0    0     0    0     0      0      0 --:--:-- --:--:-- --:--:--     0\r  0     0    0     0    0     0      0      0 --:--:-- --:--:-- --:--:--     0\r100  124k    0  124k    0     0   200k      0 --:--:-- --:--:-- --:--:--  199k\n",
            "  % Total    % Received % Xferd  Average Speed   Time    Time     Time  Current\n",
            "                                 Dload  Upload   Total   Spent    Left  Speed\n",
            "\r  0     0    0     0    0     0      0      0 --:--:-- --:--:-- --:--:--     0\r100  8639    0  8639    0     0  15822      0 --:--:-- --:--:-- --:--:-- 15793\r100 35229    0 35229    0     0  63705      0 --:--:-- --:--:-- --:--:-- 63590\n",
            "  % Total    % Received % Xferd  Average Speed   Time    Time     Time  Current\n",
            "                                 Dload  Upload   Total   Spent    Left  Speed\n",
            "\r  0     0    0     0    0     0      0      0 --:--:-- --:--:-- --:--:--     0\r100  133k    0  133k    0     0   204k      0 --:--:-- --:--:-- --:--:--  204k\n",
            "  % Total    % Received % Xferd  Average Speed   Time    Time     Time  Current\n",
            "                                 Dload  Upload   Total   Spent    Left  Speed\n",
            "\r  0     0    0     0    0     0      0      0 --:--:-- --:--:-- --:--:--     0\r100  8639    0  8639    0     0  13822      0 --:--:-- --:--:-- --:--:-- 13800\r100  151k    0  151k    0     0   230k      0 --:--:-- --:--:-- --:--:--  229k\n",
            "  % Total    % Received % Xferd  Average Speed   Time    Time     Time  Current\n",
            "                                 Dload  Upload   Total   Spent    Left  Speed\n",
            "\r  0     0    0     0    0     0      0      0 --:--:-- --:--:-- --:--:--     0\r100  8639    0  8639    0     0  10652      0 --:--:-- --:--:-- --:--:-- 10639\r100  259k    0  259k    0     0   304k      0 --:--:-- --:--:-- --:--:--  303k\n",
            "  % Total    % Received % Xferd  Average Speed   Time    Time     Time  Current\n",
            "                                 Dload  Upload   Total   Spent    Left  Speed\n",
            "\r  0     0    0     0    0     0      0      0 --:--:-- --:--:-- --:--:--     0\r100  132k    0  132k    0     0   208k      0 --:--:-- --:--:-- --:--:--  208k\n",
            "  % Total    % Received % Xferd  Average Speed   Time    Time     Time  Current\n",
            "                                 Dload  Upload   Total   Spent    Left  Speed\n",
            "\r  0     0    0     0    0     0      0      0 --:--:-- --:--:-- --:--:--     0\r  0     0    0     0    0     0      0      0 --:--:-- --:--:-- --:--:--     0\r100 80614    0 80614    0     0   138k      0 --:--:-- --:--:-- --:--:--  138k\n",
            "  % Total    % Received % Xferd  Average Speed   Time    Time     Time  Current\n",
            "                                 Dload  Upload   Total   Spent    Left  Speed\n",
            "\r  0     0    0     0    0     0      0      0 --:--:-- --:--:-- --:--:--     0\r100 15846    0 15846    0     0  23757      0 --:--:-- --:--:-- --:--:-- 23721\r100  144k    0  144k    0     0   206k      0 --:--:-- --:--:-- --:--:--  206k\n",
            "  % Total    % Received % Xferd  Average Speed   Time    Time     Time  Current\n",
            "                                 Dload  Upload   Total   Spent    Left  Speed\n",
            "\r  0     0    0     0    0     0      0      0 --:--:-- --:--:-- --:--:--     0\r100 27917    0 27917    0     0  47236      0 --:--:-- --:--:-- --:--:-- 47236\n",
            "  % Total    % Received % Xferd  Average Speed   Time    Time     Time  Current\n",
            "                                 Dload  Upload   Total   Spent    Left  Speed\n",
            "\r  0     0    0     0    0     0      0      0 --:--:-- --:--:-- --:--:--     0\r  0     0    0     0    0     0      0      0 --:--:-- --:--:-- --:--:--     0\r100 48701    0 48701    0     0  79968      0 --:--:-- --:--:-- --:--:-- 79837\n",
            "  % Total    % Received % Xferd  Average Speed   Time    Time     Time  Current\n",
            "                                 Dload  Upload   Total   Spent    Left  Speed\n",
            "\r  0     0    0     0    0     0      0      0 --:--:-- --:--:-- --:--:--     0\r100 15846    0 15846    0     0  26676      0 --:--:-- --:--:-- --:--:-- 26631\r100 66354    0 66354    0     0   106k      0 --:--:-- --:--:-- --:--:--  106k\n",
            "  % Total    % Received % Xferd  Average Speed   Time    Time     Time  Current\n",
            "                                 Dload  Upload   Total   Spent    Left  Speed\n",
            "\r  0     0    0     0    0     0      0      0 --:--:-- --:--:-- --:--:--     0\r100 33784    0 33784    0     0  51895      0 --:--:-- --:--:-- --:--:-- 51895\n",
            "  % Total    % Received % Xferd  Average Speed   Time    Time     Time  Current\n",
            "                                 Dload  Upload   Total   Spent    Left  Speed\n",
            "\r  0     0    0     0    0     0      0      0 --:--:-- --:--:-- --:--:--     0\r100  8639    0  8639    0     0  11147      0 --:--:-- --:--:-- --:--:-- 11132\r100  193k    0  193k    0     0   236k      0 --:--:-- --:--:-- --:--:--  236k\n",
            "  % Total    % Received % Xferd  Average Speed   Time    Time     Time  Current\n",
            "                                 Dload  Upload   Total   Spent    Left  Speed\n",
            "\r  0     0    0     0    0     0      0      0 --:--:-- --:--:-- --:--:--     0\r100 15846    0 15846    0     0  27226      0 --:--:-- --:--:-- --:--:-- 27180\r100 56097    0 56097    0     0  93184      0 --:--:-- --:--:-- --:--:-- 93029\n",
            "  % Total    % Received % Xferd  Average Speed   Time    Time     Time  Current\n",
            "                                 Dload  Upload   Total   Spent    Left  Speed\n",
            "\r  0     0    0     0    0     0      0      0 --:--:-- --:--:-- --:--:--     0\r100  8639    0  8639    0     0   8387      0 --:--:--  0:00:01 --:--:--  8395\r100  468k    0  468k    0     0   413k      0 --:--:--  0:00:01 --:--:--  413k\n",
            "  % Total    % Received % Xferd  Average Speed   Time    Time     Time  Current\n",
            "                                 Dload  Upload   Total   Spent    Left  Speed\n",
            "\r  0     0    0     0    0     0      0      0 --:--:-- --:--:-- --:--:--     0\r100  8639    0  8639    0     0  12099      0 --:--:-- --:--:-- --:--:-- 12082\r100  249k    0  249k    0     0   316k      0 --:--:-- --:--:-- --:--:--  315k\n",
            "  % Total    % Received % Xferd  Average Speed   Time    Time     Time  Current\n",
            "                                 Dload  Upload   Total   Spent    Left  Speed\n",
            "\r  0     0    0     0    0     0      0      0 --:--:-- --:--:-- --:--:--     0\r100 20959    0 20959    0     0  39249      0 --:--:-- --:--:-- --:--:-- 39249\n",
            "  % Total    % Received % Xferd  Average Speed   Time    Time     Time  Current\n",
            "                                 Dload  Upload   Total   Spent    Left  Speed\n",
            "\r  0     0    0     0    0     0      0      0 --:--:-- --:--:-- --:--:--     0\r100 15846    0 15846    0     0  19832      0 --:--:-- --:--:-- --:--:-- 19832\r100  261k    0  261k    0     0   303k      0 --:--:-- --:--:-- --:--:--  303k\n",
            "  % Total    % Received % Xferd  Average Speed   Time    Time     Time  Current\n",
            "                                 Dload  Upload   Total   Spent    Left  Speed\n",
            "\r  0     0    0     0    0     0      0      0 --:--:-- --:--:-- --:--:--     0\r100 15846    0 15846    0     0  28245      0 --:--:-- --:--:-- --:--:-- 28195\r100  104k    0  104k    0     0   180k      0 --:--:-- --:--:-- --:--:--  179k\n",
            "  % Total    % Received % Xferd  Average Speed   Time    Time     Time  Current\n",
            "                                 Dload  Upload   Total   Spent    Left  Speed\n",
            "\r  0     0    0     0    0     0      0      0 --:--:-- --:--:-- --:--:--     0\r100 87624    0 87624    0     0   105k      0 --:--:-- --:--:-- --:--:--  105k\n",
            "  % Total    % Received % Xferd  Average Speed   Time    Time     Time  Current\n",
            "                                 Dload  Upload   Total   Spent    Left  Speed\n",
            "\r  0     0    0     0    0     0      0      0 --:--:-- --:--:-- --:--:--     0\r  0     0    0     0    0     0      0      0 --:--:-- --:--:-- --:--:--     0\r100  316k    0  316k    0     0   353k      0 --:--:-- --:--:-- --:--:--  352k\n",
            "  % Total    % Received % Xferd  Average Speed   Time    Time     Time  Current\n",
            "                                 Dload  Upload   Total   Spent    Left  Speed\n",
            "\r  0     0    0     0    0     0      0      0 --:--:-- --:--:-- --:--:--     0\r  0     0    0     0    0     0      0      0 --:--:-- --:--:-- --:--:--     0\r100 23583    0 23583    0     0  44749      0 --:--:-- --:--:-- --:--:-- 44664\n",
            "  % Total    % Received % Xferd  Average Speed   Time    Time     Time  Current\n",
            "                                 Dload  Upload   Total   Spent    Left  Speed\n",
            "\r  0     0    0     0    0     0      0      0 --:--:-- --:--:-- --:--:--     0\r100  8639    0  8639    0     0  12236      0 --:--:-- --:--:-- --:--:-- 12219\r100  124k    0  124k    0     0   168k      0 --:--:-- --:--:-- --:--:--  168k\n",
            "  % Total    % Received % Xferd  Average Speed   Time    Time     Time  Current\n",
            "                                 Dload  Upload   Total   Spent    Left  Speed\n",
            "\r  0     0    0     0    0     0      0      0 --:--:-- --:--:-- --:--:--     0\r100 22533    0 22533    0     0  43249      0 --:--:-- --:--:-- --:--:-- 43249\n",
            "  % Total    % Received % Xferd  Average Speed   Time    Time     Time  Current\n",
            "                                 Dload  Upload   Total   Spent    Left  Speed\n",
            "\r  0     0    0     0    0     0      0      0 --:--:-- --:--:-- --:--:--     0\r100  8639    0  8639    0     0  10639      0 --:--:-- --:--:-- --:--:-- 10639\r100  149k    0  149k    0     0   174k      0 --:--:-- --:--:-- --:--:--  174k\n",
            "  % Total    % Received % Xferd  Average Speed   Time    Time     Time  Current\n",
            "                                 Dload  Upload   Total   Spent    Left  Speed\n",
            "\r  0     0    0     0    0     0      0      0 --:--:-- --:--:-- --:--:--     0\r  0     0    0     0    0     0      0      0 --:--:--  0:00:01 --:--:--     0\r100  579k    0  579k    0     0   495k      0 --:--:--  0:00:01 --:--:--  495k\n",
            "  % Total    % Received % Xferd  Average Speed   Time    Time     Time  Current\n",
            "                                 Dload  Upload   Total   Spent    Left  Speed\n",
            "\r  0     0    0     0    0     0      0      0 --:--:-- --:--:-- --:--:--     0\r100  8639    0  8639    0     0  14767      0 --:--:-- --:--:-- --:--:-- 14742\r100 61335    0 61335    0     0    99k      0 --:--:-- --:--:-- --:--:--   99k\n",
            "  % Total    % Received % Xferd  Average Speed   Time    Time     Time  Current\n",
            "                                 Dload  Upload   Total   Spent    Left  Speed\n",
            "\r  0     0    0     0    0     0      0      0 --:--:-- --:--:-- --:--:--     0\r100 17128    0 17128    0     0  32074      0 --:--:-- --:--:-- --:--:-- 32074\n",
            "  % Total    % Received % Xferd  Average Speed   Time    Time     Time  Current\n",
            "                                 Dload  Upload   Total   Spent    Left  Speed\n",
            "\r  0     0    0     0    0     0      0      0 --:--:-- --:--:-- --:--:--     0\r  0     0    0     0    0     0      0      0 --:--:-- --:--:-- --:--:--     0\r100  195k    0  195k    0     0   243k      0 --:--:-- --:--:-- --:--:--  243k\n",
            "  % Total    % Received % Xferd  Average Speed   Time    Time     Time  Current\n",
            "                                 Dload  Upload   Total   Spent    Left  Speed\n",
            "\r  0     0    0     0    0     0      0      0 --:--:-- --:--:-- --:--:--     0\r100  3991    0  3991    0     0   5629      0 --:--:-- --:--:-- --:--:--  5621\r100  157k    0  157k    0     0   206k      0 --:--:-- --:--:-- --:--:--  206k\n",
            "  % Total    % Received % Xferd  Average Speed   Time    Time     Time  Current\n",
            "                                 Dload  Upload   Total   Spent    Left  Speed\n",
            "\r  0     0    0     0    0     0      0      0 --:--:-- --:--:-- --:--:--     0\r100  8639    0  8639    0     0  14070      0 --:--:-- --:--:-- --:--:-- 14047\r100 50693    0 50693    0     0  81238      0 --:--:-- --:--:-- --:--:-- 81108\n",
            "  % Total    % Received % Xferd  Average Speed   Time    Time     Time  Current\n",
            "                                 Dload  Upload   Total   Spent    Left  Speed\n",
            "\r  0     0    0     0    0     0      0      0 --:--:-- --:--:-- --:--:--     0\r100  134k    0  134k    0     0   179k      0 --:--:-- --:--:-- --:--:--  179k\n",
            "  % Total    % Received % Xferd  Average Speed   Time    Time     Time  Current\n",
            "                                 Dload  Upload   Total   Spent    Left  Speed\n",
            "\r  0     0    0     0    0     0      0      0 --:--:-- --:--:-- --:--:--     0\r  0     0    0     0    0     0      0      0 --:--:-- --:--:-- --:--:--     0\r100 14045    0 14045    0     0  24215      0 --:--:-- --:--:-- --:--:-- 24173\n"
          ]
        }
      ],
      "source": [
        "%%bash\n",
        "curl -o /content/sample_data/AL.txt \"https://api.census.gov/data/2020/acs/acs5/subject?get=NAME,S0801_C01_001E,S0801_C01_009E,S0801_C01_011E&for=tract:*&in=state:01\"\n",
        "curl -o /content/sample_data/AK.txt \"https://api.census.gov/data/2020/acs/acs5/subject?get=NAME,S0801_C01_001E,S0801_C01_009E,S0801_C01_011E&for=tract:*&in=state:02\"\n",
        "curl -o /content/sample_data/AZ.txt \"https://api.census.gov/data/2020/acs/acs5/subject?get=NAME,S0801_C01_001E,S0801_C01_009E,S0801_C01_011E&for=tract:*&in=state:04\"\n",
        "curl -o /content/sample_data/AR.txt \"https://api.census.gov/data/2020/acs/acs5/subject?get=NAME,S0801_C01_001E,S0801_C01_009E,S0801_C01_011E&for=tract:*&in=state:05\"\n",
        "curl -o /content/sample_data/CA.txt \"https://api.census.gov/data/2020/acs/acs5/subject?get=NAME,S0801_C01_001E,S0801_C01_009E,S0801_C01_011E&for=tract:*&in=state:06\"\n",
        "curl -o /content/sample_data/CO.txt \"https://api.census.gov/data/2020/acs/acs5/subject?get=NAME,S0801_C01_001E,S0801_C01_009E,S0801_C01_011E&for=tract:*&in=state:08\"\n",
        "curl -o /content/sample_data/CT.txt \"https://api.census.gov/data/2020/acs/acs5/subject?get=NAME,S0801_C01_001E,S0801_C01_009E,S0801_C01_011E&for=tract:*&in=state:09\"\n",
        "curl -o /content/sample_data/DE.txt \"https://api.census.gov/data/2020/acs/acs5/subject?get=NAME,S0801_C01_001E,S0801_C01_009E,S0801_C01_011E&for=tract:*&in=state:10\"\n",
        "curl -o /content/sample_data/FL.txt \"https://api.census.gov/data/2020/acs/acs5/subject?get=NAME,S0801_C01_001E,S0801_C01_009E,S0801_C01_011E&for=tract:*&in=state:12\"\n",
        "curl -o /content/sample_data/GA.txt \"https://api.census.gov/data/2020/acs/acs5/subject?get=NAME,S0801_C01_001E,S0801_C01_009E,S0801_C01_011E&for=tract:*&in=state:13\"\n",
        "curl -o /content/sample_data/HI.txt \"https://api.census.gov/data/2020/acs/acs5/subject?get=NAME,S0801_C01_001E,S0801_C01_009E,S0801_C01_011E&for=tract:*&in=state:15\"\n",
        "curl -o /content/sample_data/ID.txt \"https://api.census.gov/data/2020/acs/acs5/subject?get=NAME,S0801_C01_001E,S0801_C01_009E,S0801_C01_011E&for=tract:*&in=state:16\"\n",
        "curl -o /content/sample_data/IL.txt \"https://api.census.gov/data/2020/acs/acs5/subject?get=NAME,S0801_C01_001E,S0801_C01_009E,S0801_C01_011E&for=tract:*&in=state:17\"\n",
        "curl -o /content/sample_data/IN.txt \"https://api.census.gov/data/2020/acs/acs5/subject?get=NAME,S0801_C01_001E,S0801_C01_009E,S0801_C01_011E&for=tract:*&in=state:18\"\n",
        "curl -o /content/sample_data/IA.txt \"https://api.census.gov/data/2020/acs/acs5/subject?get=NAME,S0801_C01_001E,S0801_C01_009E,S0801_C01_011E&for=tract:*&in=state:19\"\n",
        "curl -o /content/sample_data/KS.txt \"https://api.census.gov/data/2020/acs/acs5/subject?get=NAME,S0801_C01_001E,S0801_C01_009E,S0801_C01_011E&for=tract:*&in=state:20\"\n",
        "curl -o /content/sample_data/KY.txt \"https://api.census.gov/data/2020/acs/acs5/subject?get=NAME,S0801_C01_001E,S0801_C01_009E,S0801_C01_011E&for=tract:*&in=state:21\"\n",
        "curl -o /content/sample_data/LA.txt \"https://api.census.gov/data/2020/acs/acs5/subject?get=NAME,S0801_C01_001E,S0801_C01_009E,S0801_C01_011E&for=tract:*&in=state:22\"\n",
        "curl -o /content/sample_data/ME.txt \"https://api.census.gov/data/2020/acs/acs5/subject?get=NAME,S0801_C01_001E,S0801_C01_009E,S0801_C01_011E&for=tract:*&in=state:23\"\n",
        "curl -o /content/sample_data/MD.txt \"https://api.census.gov/data/2020/acs/acs5/subject?get=NAME,S0801_C01_001E,S0801_C01_009E,S0801_C01_011E&for=tract:*&in=state:24\"\n",
        "curl -o /content/sample_data/MA.txt \"https://api.census.gov/data/2020/acs/acs5/subject?get=NAME,S0801_C01_001E,S0801_C01_009E,S0801_C01_011E&for=tract:*&in=state:25\"\n",
        "curl -o /content/sample_data/MI.txt \"https://api.census.gov/data/2020/acs/acs5/subject?get=NAME,S0801_C01_001E,S0801_C01_009E,S0801_C01_011E&for=tract:*&in=state:26\"\n",
        "curl -o /content/sample_data/MN.txt \"https://api.census.gov/data/2020/acs/acs5/subject?get=NAME,S0801_C01_001E,S0801_C01_009E,S0801_C01_011E&for=tract:*&in=state:27\"\n",
        "curl -o /content/sample_data/MS.txt \"https://api.census.gov/data/2020/acs/acs5/subject?get=NAME,S0801_C01_001E,S0801_C01_009E,S0801_C01_011E&for=tract:*&in=state:28\"\n",
        "curl -o /content/sample_data/MO.txt \"https://api.census.gov/data/2020/acs/acs5/subject?get=NAME,S0801_C01_001E,S0801_C01_009E,S0801_C01_011E&for=tract:*&in=state:29\"\n",
        "curl -o /content/sample_data/MT.txt \"https://api.census.gov/data/2020/acs/acs5/subject?get=NAME,S0801_C01_001E,S0801_C01_009E,S0801_C01_011E&for=tract:*&in=state:30\"\n",
        "curl -o /content/sample_data/NE.txt \"https://api.census.gov/data/2020/acs/acs5/subject?get=NAME,S0801_C01_001E,S0801_C01_009E,S0801_C01_011E&for=tract:*&in=state:31\"\n",
        "curl -o /content/sample_data/NV.txt \"https://api.census.gov/data/2020/acs/acs5/subject?get=NAME,S0801_C01_001E,S0801_C01_009E,S0801_C01_011E&for=tract:*&in=state:32\"\n",
        "curl -o /content/sample_data/NH.txt \"https://api.census.gov/data/2020/acs/acs5/subject?get=NAME,S0801_C01_001E,S0801_C01_009E,S0801_C01_011E&for=tract:*&in=state:33\"\n",
        "curl -o /content/sample_data/NJ.txt \"https://api.census.gov/data/2020/acs/acs5/subject?get=NAME,S0801_C01_001E,S0801_C01_009E,S0801_C01_011E&for=tract:*&in=state:34\"\n",
        "curl -o /content/sample_data/NM.txt \"https://api.census.gov/data/2020/acs/acs5/subject?get=NAME,S0801_C01_001E,S0801_C01_009E,S0801_C01_011E&for=tract:*&in=state:35\"\n",
        "curl -o /content/sample_data/NY.txt \"https://api.census.gov/data/2020/acs/acs5/subject?get=NAME,S0801_C01_001E,S0801_C01_009E,S0801_C01_011E&for=tract:*&in=state:36\"\n",
        "curl -o /content/sample_data/NC.txt \"https://api.census.gov/data/2020/acs/acs5/subject?get=NAME,S0801_C01_001E,S0801_C01_009E,S0801_C01_011E&for=tract:*&in=state:37\"\n",
        "curl -o /content/sample_data/ND.txt \"https://api.census.gov/data/2020/acs/acs5/subject?get=NAME,S0801_C01_001E,S0801_C01_009E,S0801_C01_011E&for=tract:*&in=state:38\"\n",
        "curl -o /content/sample_data/OH.txt \"https://api.census.gov/data/2020/acs/acs5/subject?get=NAME,S0801_C01_001E,S0801_C01_009E,S0801_C01_011E&for=tract:*&in=state:39\"\n",
        "curl -o /content/sample_data/OK.txt \"https://api.census.gov/data/2020/acs/acs5/subject?get=NAME,S0801_C01_001E,S0801_C01_009E,S0801_C01_011E&for=tract:*&in=state:40\"\n",
        "curl -o /content/sample_data/OR.txt \"https://api.census.gov/data/2020/acs/acs5/subject?get=NAME,S0801_C01_001E,S0801_C01_009E,S0801_C01_011E&for=tract:*&in=state:41\"\n",
        "curl -o /content/sample_data/PA.txt \"https://api.census.gov/data/2020/acs/acs5/subject?get=NAME,S0801_C01_001E,S0801_C01_009E,S0801_C01_011E&for=tract:*&in=state:42\"\n",
        "curl -o /content/sample_data/RI.txt \"https://api.census.gov/data/2020/acs/acs5/subject?get=NAME,S0801_C01_001E,S0801_C01_009E,S0801_C01_011E&for=tract:*&in=state:44\"\n",
        "curl -o /content/sample_data/SC.txt \"https://api.census.gov/data/2020/acs/acs5/subject?get=NAME,S0801_C01_001E,S0801_C01_009E,S0801_C01_011E&for=tract:*&in=state:45\"\n",
        "curl -o /content/sample_data/SD.txt \"https://api.census.gov/data/2020/acs/acs5/subject?get=NAME,S0801_C01_001E,S0801_C01_009E,S0801_C01_011E&for=tract:*&in=state:46\"\n",
        "curl -o /content/sample_data/TN.txt \"https://api.census.gov/data/2020/acs/acs5/subject?get=NAME,S0801_C01_001E,S0801_C01_009E,S0801_C01_011E&for=tract:*&in=state:47\"\n",
        "curl -o /content/sample_data/TX.txt \"https://api.census.gov/data/2020/acs/acs5/subject?get=NAME,S0801_C01_001E,S0801_C01_009E,S0801_C01_011E&for=tract:*&in=state:48\"\n",
        "curl -o /content/sample_data/UT.txt \"https://api.census.gov/data/2020/acs/acs5/subject?get=NAME,S0801_C01_001E,S0801_C01_009E,S0801_C01_011E&for=tract:*&in=state:49\"\n",
        "curl -o /content/sample_data/VT.txt \"https://api.census.gov/data/2020/acs/acs5/subject?get=NAME,S0801_C01_001E,S0801_C01_009E,S0801_C01_011E&for=tract:*&in=state:50\"\n",
        "curl -o /content/sample_data/VA.txt \"https://api.census.gov/data/2020/acs/acs5/subject?get=NAME,S0801_C01_001E,S0801_C01_009E,S0801_C01_011E&for=tract:*&in=state:51\"\n",
        "curl -o /content/sample_data/WA.txt \"https://api.census.gov/data/2020/acs/acs5/subject?get=NAME,S0801_C01_001E,S0801_C01_009E,S0801_C01_011E&for=tract:*&in=state:53\"\n",
        "curl -o /content/sample_data/WV.txt \"https://api.census.gov/data/2020/acs/acs5/subject?get=NAME,S0801_C01_001E,S0801_C01_009E,S0801_C01_011E&for=tract:*&in=state:54\"\n",
        "curl -o /content/sample_data/WI.txt \"https://api.census.gov/data/2020/acs/acs5/subject?get=NAME,S0801_C01_001E,S0801_C01_009E,S0801_C01_011E&for=tract:*&in=state:55\"\n",
        "curl -o /content/sample_data/WY.txt \"https://api.census.gov/data/2020/acs/acs5/subject?get=NAME,S0801_C01_001E,S0801_C01_009E,S0801_C01_011E&for=tract:*&in=state:56\""
      ]
    },
    {
      "cell_type": "markdown",
      "metadata": {
        "id": "r_TWa7b4aZ1p"
      },
      "source": [
        "**Step 1**:  Remove the header row from each file."
      ]
    },
    {
      "cell_type": "code",
      "execution_count": null,
      "metadata": {
        "id": "LKmP557YaKys"
      },
      "outputs": [],
      "source": [
        "%%bash\n",
        " sed -i 1d /content/sample_data/*.txt"
      ]
    },
    {
      "cell_type": "markdown",
      "metadata": {
        "id": "OPKpSMmtaxlc"
      },
      "source": [
        "**Step 2**: Remove the [ and ] characters from each file."
      ]
    },
    {
      "cell_type": "code",
      "execution_count": null,
      "metadata": {
        "id": "P_GdWf5vaxry"
      },
      "outputs": [],
      "source": [
        "%%bash\n",
        " sed -i 's/\\[//g' /content/sample_data/*.txt\n",
        " sed -i 's/\\]//g' /content/sample_data/*.txt"
      ]
    },
    {
      "cell_type": "markdown",
      "metadata": {
        "id": "7uMYHd9adj8x"
      },
      "source": [
        "**Step 3**: Remove the comma at the end of each line."
      ]
    },
    {
      "cell_type": "code",
      "execution_count": null,
      "metadata": {
        "id": "4nxrh2xodkEd"
      },
      "outputs": [],
      "source": [
        "%%bash\n",
        "  sed -i 's/,$//' /content/sample_data/*.txt"
      ]
    },
    {
      "cell_type": "markdown",
      "source": [
        "**Step 4**: Add an end-of-line character to the last line of each file."
      ],
      "metadata": {
        "id": "8r2igrhWF_XD"
      }
    },
    {
      "cell_type": "code",
      "source": [
        "%%bash\n",
        "  sed -i -e '$a\\' /content/sample_data/*.txt"
      ],
      "metadata": {
        "id": "3UkIR4EsF_eC"
      },
      "execution_count": null,
      "outputs": []
    },
    {
      "cell_type": "markdown",
      "metadata": {
        "id": "HAX0UywFd76O"
      },
      "source": [
        "**Step 5**: Merge all files together into a single file"
      ]
    },
    {
      "cell_type": "code",
      "execution_count": null,
      "metadata": {
        "id": "vWPTB0akd8AG"
      },
      "outputs": [],
      "source": [
        "%%bash\n",
        "  cat /content/sample_data/*.txt > /content/sample_data/All_States.txt"
      ]
    },
    {
      "cell_type": "markdown",
      "metadata": {
        "id": "WP_WFsAZeaNQ"
      },
      "source": [
        "**Step 6**: Add a header row to the merged data"
      ]
    },
    {
      "cell_type": "code",
      "execution_count": null,
      "metadata": {
        "id": "Hm4Cb9D8eaTe"
      },
      "outputs": [],
      "source": [
        "%%bash\n",
        "  sed  -i '1i CensusTract_Name,Number_Workers,Percent_PublicTransportation,Percent_Bicycle,StateFIPS,CountyFIPS,CensusTractFIPS' /content/sample_data/All_States.txt"
      ]
    },
    {
      "cell_type": "markdown",
      "metadata": {
        "id": "ZCeosaYQOixG"
      },
      "source": [
        "Check the file size of the combined data to ensure the file size is reasonable."
      ]
    },
    {
      "cell_type": "code",
      "execution_count": null,
      "metadata": {
        "id": "b7cRYgL8uRkb",
        "colab": {
          "base_uri": "https://localhost:8080/"
        },
        "outputId": "f3e35d17-d263-4a78-ca85-5006e836cf8f"
      },
      "outputs": [
        {
          "output_type": "stream",
          "name": "stdout",
          "text": [
            "-rw-r--r-- 1 root root   16131 Apr 28 15:46 /content/sample_data/AK.txt\n",
            "-rw-r--r-- 1 root root 7310816 Apr 28 15:46 /content/sample_data/All_States.txt\n",
            "-rw-r--r-- 1 root root  121793 Apr 28 15:46 /content/sample_data/AL.txt\n",
            "-rw-r--r-- 1 root root   70811 Apr 28 15:46 /content/sample_data/AR.txt\n",
            "-rw-r--r-- 1 root root  150708 Apr 28 15:46 /content/sample_data/AZ.txt\n"
          ]
        }
      ],
      "source": [
        "%%bash\n",
        "ls -l /content/sample_data/A*.txt"
      ]
    },
    {
      "cell_type": "code",
      "source": [
        ""
      ],
      "metadata": {
        "id": "7SQAUQbM1sIN"
      },
      "execution_count": null,
      "outputs": []
    },
    {
      "cell_type": "markdown",
      "metadata": {
        "id": "B3mbHxEkOi5A"
      },
      "source": [
        "## Analysis Step - Python"
      ]
    },
    {
      "cell_type": "markdown",
      "metadata": {
        "id": "1wg_04L5ugUB"
      },
      "source": [
        "The analysis step is fairly straight forward - a Top 10 list is needed."
      ]
    },
    {
      "cell_type": "code",
      "execution_count": null,
      "metadata": {
        "id": "Aqt3Ww-Eugby"
      },
      "outputs": [],
      "source": [
        "import pandas as pd"
      ]
    },
    {
      "cell_type": "markdown",
      "metadata": {
        "id": "YWlw_nFMuxes"
      },
      "source": [
        "First, read the data into Python.  The StateFIPS, CountyFips, and CensusTractFIPS will be read in as strings.  These specifications are made using the **dtype** argument in pd.read_csv() function."
      ]
    },
    {
      "cell_type": "code",
      "execution_count": null,
      "metadata": {
        "id": "zkUl7KbHuxkr"
      },
      "outputs": [],
      "source": [
        "#Read in the data using read_csv() function from the pandas package\n",
        "Commuter_All_CensusTracts = pd.read_csv(\"/content/sample_data/All_States.txt\", dtype={'StateFIPS':str, 'CountyFIPS':str, 'CensusTractFIPS':str}) "
      ]
    },
    {
      "cell_type": "markdown",
      "metadata": {
        "id": "4rhTWu7Fv0vD"
      },
      "source": [
        "Taking a look at the pandas data.frame."
      ]
    },
    {
      "cell_type": "code",
      "source": [
        "Commuter_All_CensusTracts.head(5)"
      ],
      "metadata": {
        "colab": {
          "base_uri": "https://localhost:8080/",
          "height": 206
        },
        "id": "GymVj2e-GSaa",
        "outputId": "9fe6a8eb-0924-4c79-8bbc-47d256a9d8b8"
      },
      "execution_count": null,
      "outputs": [
        {
          "output_type": "execute_result",
          "data": {
            "text/plain": [
              "                                    CensusTract_Name  Number_Workers  \\\n",
              "0     Census Tract 1, Aleutians East Borough, Alaska            2246   \n",
              "1  Census Tract 1, Yukon-Koyukuk Census Area, Alaska             368   \n",
              "2  Census Tract 2, Yukon-Koyukuk Census Area, Alaska             647   \n",
              "3  Census Tract 3, Yukon-Koyukuk Census Area, Alaska             733   \n",
              "4  Census Tract 4, Yukon-Koyukuk Census Area, Alaska             382   \n",
              "\n",
              "   Percent_PublicTransportation  Percent_Bicycle StateFIPS CountyFIPS  \\\n",
              "0                           0.1              0.7        02        013   \n",
              "1                           2.7              0.0        02        290   \n",
              "2                           0.0              0.2        02        290   \n",
              "3                           0.0              0.4        02        290   \n",
              "4                           0.0              0.0        02        290   \n",
              "\n",
              "  CensusTractFIPS  \n",
              "0          000100  \n",
              "1          000100  \n",
              "2          000200  \n",
              "3          000300  \n",
              "4          000400  "
            ],
            "text/html": [
              "\n",
              "  <div id=\"df-afd707c6-26ba-48ba-a62b-9980ce74ddd4\">\n",
              "    <div class=\"colab-df-container\">\n",
              "      <div>\n",
              "<style scoped>\n",
              "    .dataframe tbody tr th:only-of-type {\n",
              "        vertical-align: middle;\n",
              "    }\n",
              "\n",
              "    .dataframe tbody tr th {\n",
              "        vertical-align: top;\n",
              "    }\n",
              "\n",
              "    .dataframe thead th {\n",
              "        text-align: right;\n",
              "    }\n",
              "</style>\n",
              "<table border=\"1\" class=\"dataframe\">\n",
              "  <thead>\n",
              "    <tr style=\"text-align: right;\">\n",
              "      <th></th>\n",
              "      <th>CensusTract_Name</th>\n",
              "      <th>Number_Workers</th>\n",
              "      <th>Percent_PublicTransportation</th>\n",
              "      <th>Percent_Bicycle</th>\n",
              "      <th>StateFIPS</th>\n",
              "      <th>CountyFIPS</th>\n",
              "      <th>CensusTractFIPS</th>\n",
              "    </tr>\n",
              "  </thead>\n",
              "  <tbody>\n",
              "    <tr>\n",
              "      <th>0</th>\n",
              "      <td>Census Tract 1, Aleutians East Borough, Alaska</td>\n",
              "      <td>2246</td>\n",
              "      <td>0.1</td>\n",
              "      <td>0.7</td>\n",
              "      <td>02</td>\n",
              "      <td>013</td>\n",
              "      <td>000100</td>\n",
              "    </tr>\n",
              "    <tr>\n",
              "      <th>1</th>\n",
              "      <td>Census Tract 1, Yukon-Koyukuk Census Area, Alaska</td>\n",
              "      <td>368</td>\n",
              "      <td>2.7</td>\n",
              "      <td>0.0</td>\n",
              "      <td>02</td>\n",
              "      <td>290</td>\n",
              "      <td>000100</td>\n",
              "    </tr>\n",
              "    <tr>\n",
              "      <th>2</th>\n",
              "      <td>Census Tract 2, Yukon-Koyukuk Census Area, Alaska</td>\n",
              "      <td>647</td>\n",
              "      <td>0.0</td>\n",
              "      <td>0.2</td>\n",
              "      <td>02</td>\n",
              "      <td>290</td>\n",
              "      <td>000200</td>\n",
              "    </tr>\n",
              "    <tr>\n",
              "      <th>3</th>\n",
              "      <td>Census Tract 3, Yukon-Koyukuk Census Area, Alaska</td>\n",
              "      <td>733</td>\n",
              "      <td>0.0</td>\n",
              "      <td>0.4</td>\n",
              "      <td>02</td>\n",
              "      <td>290</td>\n",
              "      <td>000300</td>\n",
              "    </tr>\n",
              "    <tr>\n",
              "      <th>4</th>\n",
              "      <td>Census Tract 4, Yukon-Koyukuk Census Area, Alaska</td>\n",
              "      <td>382</td>\n",
              "      <td>0.0</td>\n",
              "      <td>0.0</td>\n",
              "      <td>02</td>\n",
              "      <td>290</td>\n",
              "      <td>000400</td>\n",
              "    </tr>\n",
              "  </tbody>\n",
              "</table>\n",
              "</div>\n",
              "      <button class=\"colab-df-convert\" onclick=\"convertToInteractive('df-afd707c6-26ba-48ba-a62b-9980ce74ddd4')\"\n",
              "              title=\"Convert this dataframe to an interactive table.\"\n",
              "              style=\"display:none;\">\n",
              "        \n",
              "  <svg xmlns=\"http://www.w3.org/2000/svg\" height=\"24px\"viewBox=\"0 0 24 24\"\n",
              "       width=\"24px\">\n",
              "    <path d=\"M0 0h24v24H0V0z\" fill=\"none\"/>\n",
              "    <path d=\"M18.56 5.44l.94 2.06.94-2.06 2.06-.94-2.06-.94-.94-2.06-.94 2.06-2.06.94zm-11 1L8.5 8.5l.94-2.06 2.06-.94-2.06-.94L8.5 2.5l-.94 2.06-2.06.94zm10 10l.94 2.06.94-2.06 2.06-.94-2.06-.94-.94-2.06-.94 2.06-2.06.94z\"/><path d=\"M17.41 7.96l-1.37-1.37c-.4-.4-.92-.59-1.43-.59-.52 0-1.04.2-1.43.59L10.3 9.45l-7.72 7.72c-.78.78-.78 2.05 0 2.83L4 21.41c.39.39.9.59 1.41.59.51 0 1.02-.2 1.41-.59l7.78-7.78 2.81-2.81c.8-.78.8-2.07 0-2.86zM5.41 20L4 18.59l7.72-7.72 1.47 1.35L5.41 20z\"/>\n",
              "  </svg>\n",
              "      </button>\n",
              "      \n",
              "  <style>\n",
              "    .colab-df-container {\n",
              "      display:flex;\n",
              "      flex-wrap:wrap;\n",
              "      gap: 12px;\n",
              "    }\n",
              "\n",
              "    .colab-df-convert {\n",
              "      background-color: #E8F0FE;\n",
              "      border: none;\n",
              "      border-radius: 50%;\n",
              "      cursor: pointer;\n",
              "      display: none;\n",
              "      fill: #1967D2;\n",
              "      height: 32px;\n",
              "      padding: 0 0 0 0;\n",
              "      width: 32px;\n",
              "    }\n",
              "\n",
              "    .colab-df-convert:hover {\n",
              "      background-color: #E2EBFA;\n",
              "      box-shadow: 0px 1px 2px rgba(60, 64, 67, 0.3), 0px 1px 3px 1px rgba(60, 64, 67, 0.15);\n",
              "      fill: #174EA6;\n",
              "    }\n",
              "\n",
              "    [theme=dark] .colab-df-convert {\n",
              "      background-color: #3B4455;\n",
              "      fill: #D2E3FC;\n",
              "    }\n",
              "\n",
              "    [theme=dark] .colab-df-convert:hover {\n",
              "      background-color: #434B5C;\n",
              "      box-shadow: 0px 1px 3px 1px rgba(0, 0, 0, 0.15);\n",
              "      filter: drop-shadow(0px 1px 2px rgba(0, 0, 0, 0.3));\n",
              "      fill: #FFFFFF;\n",
              "    }\n",
              "  </style>\n",
              "\n",
              "      <script>\n",
              "        const buttonEl =\n",
              "          document.querySelector('#df-afd707c6-26ba-48ba-a62b-9980ce74ddd4 button.colab-df-convert');\n",
              "        buttonEl.style.display =\n",
              "          google.colab.kernel.accessAllowed ? 'block' : 'none';\n",
              "\n",
              "        async function convertToInteractive(key) {\n",
              "          const element = document.querySelector('#df-afd707c6-26ba-48ba-a62b-9980ce74ddd4');\n",
              "          const dataTable =\n",
              "            await google.colab.kernel.invokeFunction('convertToInteractive',\n",
              "                                                     [key], {});\n",
              "          if (!dataTable) return;\n",
              "\n",
              "          const docLinkHtml = 'Like what you see? Visit the ' +\n",
              "            '<a target=\"_blank\" href=https://colab.research.google.com/notebooks/data_table.ipynb>data table notebook</a>'\n",
              "            + ' to learn more about interactive tables.';\n",
              "          element.innerHTML = '';\n",
              "          dataTable['output_type'] = 'display_data';\n",
              "          await google.colab.output.renderOutput(dataTable, element);\n",
              "          const docLink = document.createElement('div');\n",
              "          docLink.innerHTML = docLinkHtml;\n",
              "          element.appendChild(docLink);\n",
              "        }\n",
              "      </script>\n",
              "    </div>\n",
              "  </div>\n",
              "  "
            ]
          },
          "metadata": {},
          "execution_count": 116
        }
      ]
    },
    {
      "cell_type": "markdown",
      "metadata": {
        "id": "czxwlgevv0xV"
      },
      "source": [
        "Using shape to get the dimensions of the data.frame."
      ]
    },
    {
      "cell_type": "code",
      "source": [
        "Commuter_All_CensusTracts.shape"
      ],
      "metadata": {
        "colab": {
          "base_uri": "https://localhost:8080/"
        },
        "id": "SkhwNvKbGS24",
        "outputId": "b08c22b3-4b54-4549-d243-099e1098f634"
      },
      "execution_count": null,
      "outputs": [
        {
          "output_type": "execute_result",
          "data": {
            "text/plain": [
              "(84208, 7)"
            ]
          },
          "metadata": {},
          "execution_count": 117
        }
      ]
    },
    {
      "cell_type": "markdown",
      "source": [
        "Next, data manipulation will be done using the **dfply** package in Python."
      ],
      "metadata": {
        "id": "nOk2Cef_HDVj"
      }
    },
    {
      "cell_type": "code",
      "source": [
        "pip install dfply"
      ],
      "metadata": {
        "colab": {
          "base_uri": "https://localhost:8080/"
        },
        "id": "gwb8SOR_HDbZ",
        "outputId": "48f1f11f-9079-4bd3-9346-17e174d59592"
      },
      "execution_count": null,
      "outputs": [
        {
          "output_type": "stream",
          "name": "stdout",
          "text": [
            "Collecting dfply\n",
            "  Downloading dfply-0.3.3-py3-none-any.whl (612 kB)\n",
            "\u001b[?25l\r\u001b[K     |▌                               | 10 kB 24.6 MB/s eta 0:00:01\r\u001b[K     |█                               | 20 kB 28.2 MB/s eta 0:00:01\r\u001b[K     |█▋                              | 30 kB 31.5 MB/s eta 0:00:01\r\u001b[K     |██▏                             | 40 kB 35.1 MB/s eta 0:00:01\r\u001b[K     |██▊                             | 51 kB 36.9 MB/s eta 0:00:01\r\u001b[K     |███▏                            | 61 kB 40.6 MB/s eta 0:00:01\r\u001b[K     |███▊                            | 71 kB 28.5 MB/s eta 0:00:01\r\u001b[K     |████▎                           | 81 kB 28.7 MB/s eta 0:00:01\r\u001b[K     |████▉                           | 92 kB 30.9 MB/s eta 0:00:01\r\u001b[K     |█████▍                          | 102 kB 30.1 MB/s eta 0:00:01\r\u001b[K     |█████▉                          | 112 kB 30.1 MB/s eta 0:00:01\r\u001b[K     |██████▍                         | 122 kB 30.1 MB/s eta 0:00:01\r\u001b[K     |███████                         | 133 kB 30.1 MB/s eta 0:00:01\r\u001b[K     |███████▌                        | 143 kB 30.1 MB/s eta 0:00:01\r\u001b[K     |████████                        | 153 kB 30.1 MB/s eta 0:00:01\r\u001b[K     |████████▋                       | 163 kB 30.1 MB/s eta 0:00:01\r\u001b[K     |█████████                       | 174 kB 30.1 MB/s eta 0:00:01\r\u001b[K     |█████████▋                      | 184 kB 30.1 MB/s eta 0:00:01\r\u001b[K     |██████████▏                     | 194 kB 30.1 MB/s eta 0:00:01\r\u001b[K     |██████████▊                     | 204 kB 30.1 MB/s eta 0:00:01\r\u001b[K     |███████████▎                    | 215 kB 30.1 MB/s eta 0:00:01\r\u001b[K     |███████████▊                    | 225 kB 30.1 MB/s eta 0:00:01\r\u001b[K     |████████████▎                   | 235 kB 30.1 MB/s eta 0:00:01\r\u001b[K     |████████████▉                   | 245 kB 30.1 MB/s eta 0:00:01\r\u001b[K     |█████████████▍                  | 256 kB 30.1 MB/s eta 0:00:01\r\u001b[K     |██████████████                  | 266 kB 30.1 MB/s eta 0:00:01\r\u001b[K     |██████████████▌                 | 276 kB 30.1 MB/s eta 0:00:01\r\u001b[K     |███████████████                 | 286 kB 30.1 MB/s eta 0:00:01\r\u001b[K     |███████████████▌                | 296 kB 30.1 MB/s eta 0:00:01\r\u001b[K     |████████████████                | 307 kB 30.1 MB/s eta 0:00:01\r\u001b[K     |████████████████▋               | 317 kB 30.1 MB/s eta 0:00:01\r\u001b[K     |█████████████████▏              | 327 kB 30.1 MB/s eta 0:00:01\r\u001b[K     |█████████████████▋              | 337 kB 30.1 MB/s eta 0:00:01\r\u001b[K     |██████████████████▏             | 348 kB 30.1 MB/s eta 0:00:01\r\u001b[K     |██████████████████▊             | 358 kB 30.1 MB/s eta 0:00:01\r\u001b[K     |███████████████████▎            | 368 kB 30.1 MB/s eta 0:00:01\r\u001b[K     |███████████████████▉            | 378 kB 30.1 MB/s eta 0:00:01\r\u001b[K     |████████████████████▎           | 389 kB 30.1 MB/s eta 0:00:01\r\u001b[K     |████████████████████▉           | 399 kB 30.1 MB/s eta 0:00:01\r\u001b[K     |█████████████████████▍          | 409 kB 30.1 MB/s eta 0:00:01\r\u001b[K     |██████████████████████          | 419 kB 30.1 MB/s eta 0:00:01\r\u001b[K     |██████████████████████▌         | 430 kB 30.1 MB/s eta 0:00:01\r\u001b[K     |███████████████████████         | 440 kB 30.1 MB/s eta 0:00:01\r\u001b[K     |███████████████████████▌        | 450 kB 30.1 MB/s eta 0:00:01\r\u001b[K     |████████████████████████        | 460 kB 30.1 MB/s eta 0:00:01\r\u001b[K     |████████████████████████▋       | 471 kB 30.1 MB/s eta 0:00:01\r\u001b[K     |█████████████████████████▏      | 481 kB 30.1 MB/s eta 0:00:01\r\u001b[K     |█████████████████████████▊      | 491 kB 30.1 MB/s eta 0:00:01\r\u001b[K     |██████████████████████████▏     | 501 kB 30.1 MB/s eta 0:00:01\r\u001b[K     |██████████████████████████▊     | 512 kB 30.1 MB/s eta 0:00:01\r\u001b[K     |███████████████████████████▎    | 522 kB 30.1 MB/s eta 0:00:01\r\u001b[K     |███████████████████████████▉    | 532 kB 30.1 MB/s eta 0:00:01\r\u001b[K     |████████████████████████████▍   | 542 kB 30.1 MB/s eta 0:00:01\r\u001b[K     |█████████████████████████████   | 552 kB 30.1 MB/s eta 0:00:01\r\u001b[K     |█████████████████████████████▍  | 563 kB 30.1 MB/s eta 0:00:01\r\u001b[K     |██████████████████████████████  | 573 kB 30.1 MB/s eta 0:00:01\r\u001b[K     |██████████████████████████████▌ | 583 kB 30.1 MB/s eta 0:00:01\r\u001b[K     |███████████████████████████████ | 593 kB 30.1 MB/s eta 0:00:01\r\u001b[K     |███████████████████████████████▋| 604 kB 30.1 MB/s eta 0:00:01\r\u001b[K     |████████████████████████████████| 612 kB 30.1 MB/s \n",
            "\u001b[?25hRequirement already satisfied: pandas in /usr/local/lib/python3.7/dist-packages (from dfply) (1.3.5)\n",
            "Requirement already satisfied: numpy in /usr/local/lib/python3.7/dist-packages (from dfply) (1.21.6)\n",
            "Requirement already satisfied: python-dateutil>=2.7.3 in /usr/local/lib/python3.7/dist-packages (from pandas->dfply) (2.8.2)\n",
            "Requirement already satisfied: pytz>=2017.3 in /usr/local/lib/python3.7/dist-packages (from pandas->dfply) (2022.1)\n",
            "Requirement already satisfied: six>=1.5 in /usr/local/lib/python3.7/dist-packages (from python-dateutil>=2.7.3->pandas->dfply) (1.15.0)\n",
            "Installing collected packages: dfply\n",
            "Successfully installed dfply-0.3.3\n"
          ]
        }
      ]
    },
    {
      "cell_type": "code",
      "source": [
        "from dfply import *"
      ],
      "metadata": {
        "id": "xyESvLRVHPkl"
      },
      "execution_count": null,
      "outputs": []
    },
    {
      "cell_type": "markdown",
      "source": [
        "The following dfply commands will do all the necessary processing steps to obtain a Top 10 List for the proportion of people who bicycle to work."
      ],
      "metadata": {
        "id": "2FB6Lfl0HR5y"
      }
    },
    {
      "cell_type": "code",
      "source": [
        "Bicycle_Top10 = (\n",
        "                 Commuter_All_CensusTracts \n",
        "                 #>> filter_by(X.StateFIPS == '27')                                 # Filter for state if so desired\n",
        "                 >> filter_by(X.Number_Workers > 50)                               # Filter on making sure Number_Workers is not too small\n",
        "                 >> arrange(X.Percent_Bicycle, ascending = False)                  # Sort the list by Percent_Bicycle\n",
        "                 >> head(10)                                                       # Keep only the Top 10 records in this data.frame\n",
        "                 >> mutate(CensusTract_Link =                                      # Paste together a link for the census track\n",
        "                                 'https://censusreporter.org/profiles/14000US'\n",
        "                                 + X.StateFIPS\n",
        "                                 + X.CountyFIPS\n",
        "                                 + X.CensusTractFIPS                           \n",
        "                            )\n",
        "                 \n",
        "                 >> select(X.CensusTract_Name, X.Number_Workers, X.Percent_Bicycle, X.CensusTract_Link) #Select only the needed fields\n",
        "               )\n",
        "\n",
        "Bicycle_Top10"
      ],
      "metadata": {
        "id": "cz-f1W9XHR_B",
        "colab": {
          "base_uri": "https://localhost:8080/",
          "height": 363
        },
        "outputId": "3cecc1a1-d474-485c-95dd-c7a702c65abe"
      },
      "execution_count": 133,
      "outputs": [
        {
          "output_type": "execute_result",
          "data": {
            "text/plain": [
              "                                        CensusTract_Name  Number_Workers  \\\n",
              "3931         Census Tract 205.03, La Paz County, Arizona             134   \n",
              "6449        Census Tract 105.01, Yolo County, California            2029   \n",
              "4700   Census Tract 5130, Santa Clara County, California            4143   \n",
              "8113   Census Tract 9803, Santa Barbara County, Calif...            2340   \n",
              "12702  Census Tract 5117.05, Santa Clara County, Cali...             757   \n",
              "6465        Census Tract 107.03, Yolo County, California            2142   \n",
              "8098   Census Tract 29.26, Santa Barbara County, Cali...            2585   \n",
              "76522           Census Tract 11.01, Travis County, Texas            1166   \n",
              "76065            Census Tract 9501, Zavala County, Texas             552   \n",
              "8103   Census Tract 29.36, Santa Barbara County, Cali...            1724   \n",
              "\n",
              "       Percent_Bicycle                                   CensusTract_Link  \n",
              "3931              65.7  https://censusreporter.org/profiles/14000US040...  \n",
              "6449              41.3  https://censusreporter.org/profiles/14000US061...  \n",
              "4700              41.2  https://censusreporter.org/profiles/14000US060...  \n",
              "8113              36.1  https://censusreporter.org/profiles/14000US060...  \n",
              "12702             36.1  https://censusreporter.org/profiles/14000US060...  \n",
              "6465              32.5  https://censusreporter.org/profiles/14000US061...  \n",
              "8098              31.5  https://censusreporter.org/profiles/14000US060...  \n",
              "76522             28.3  https://censusreporter.org/profiles/14000US484...  \n",
              "76065             28.1  https://censusreporter.org/profiles/14000US485...  \n",
              "8103              27.6  https://censusreporter.org/profiles/14000US060...  "
            ],
            "text/html": [
              "\n",
              "  <div id=\"df-f8037199-8456-400f-94ed-5b9ac641713a\">\n",
              "    <div class=\"colab-df-container\">\n",
              "      <div>\n",
              "<style scoped>\n",
              "    .dataframe tbody tr th:only-of-type {\n",
              "        vertical-align: middle;\n",
              "    }\n",
              "\n",
              "    .dataframe tbody tr th {\n",
              "        vertical-align: top;\n",
              "    }\n",
              "\n",
              "    .dataframe thead th {\n",
              "        text-align: right;\n",
              "    }\n",
              "</style>\n",
              "<table border=\"1\" class=\"dataframe\">\n",
              "  <thead>\n",
              "    <tr style=\"text-align: right;\">\n",
              "      <th></th>\n",
              "      <th>CensusTract_Name</th>\n",
              "      <th>Number_Workers</th>\n",
              "      <th>Percent_Bicycle</th>\n",
              "      <th>CensusTract_Link</th>\n",
              "    </tr>\n",
              "  </thead>\n",
              "  <tbody>\n",
              "    <tr>\n",
              "      <th>3931</th>\n",
              "      <td>Census Tract 205.03, La Paz County, Arizona</td>\n",
              "      <td>134</td>\n",
              "      <td>65.7</td>\n",
              "      <td>https://censusreporter.org/profiles/14000US040...</td>\n",
              "    </tr>\n",
              "    <tr>\n",
              "      <th>6449</th>\n",
              "      <td>Census Tract 105.01, Yolo County, California</td>\n",
              "      <td>2029</td>\n",
              "      <td>41.3</td>\n",
              "      <td>https://censusreporter.org/profiles/14000US061...</td>\n",
              "    </tr>\n",
              "    <tr>\n",
              "      <th>4700</th>\n",
              "      <td>Census Tract 5130, Santa Clara County, California</td>\n",
              "      <td>4143</td>\n",
              "      <td>41.2</td>\n",
              "      <td>https://censusreporter.org/profiles/14000US060...</td>\n",
              "    </tr>\n",
              "    <tr>\n",
              "      <th>8113</th>\n",
              "      <td>Census Tract 9803, Santa Barbara County, Calif...</td>\n",
              "      <td>2340</td>\n",
              "      <td>36.1</td>\n",
              "      <td>https://censusreporter.org/profiles/14000US060...</td>\n",
              "    </tr>\n",
              "    <tr>\n",
              "      <th>12702</th>\n",
              "      <td>Census Tract 5117.05, Santa Clara County, Cali...</td>\n",
              "      <td>757</td>\n",
              "      <td>36.1</td>\n",
              "      <td>https://censusreporter.org/profiles/14000US060...</td>\n",
              "    </tr>\n",
              "    <tr>\n",
              "      <th>6465</th>\n",
              "      <td>Census Tract 107.03, Yolo County, California</td>\n",
              "      <td>2142</td>\n",
              "      <td>32.5</td>\n",
              "      <td>https://censusreporter.org/profiles/14000US061...</td>\n",
              "    </tr>\n",
              "    <tr>\n",
              "      <th>8098</th>\n",
              "      <td>Census Tract 29.26, Santa Barbara County, Cali...</td>\n",
              "      <td>2585</td>\n",
              "      <td>31.5</td>\n",
              "      <td>https://censusreporter.org/profiles/14000US060...</td>\n",
              "    </tr>\n",
              "    <tr>\n",
              "      <th>76522</th>\n",
              "      <td>Census Tract 11.01, Travis County, Texas</td>\n",
              "      <td>1166</td>\n",
              "      <td>28.3</td>\n",
              "      <td>https://censusreporter.org/profiles/14000US484...</td>\n",
              "    </tr>\n",
              "    <tr>\n",
              "      <th>76065</th>\n",
              "      <td>Census Tract 9501, Zavala County, Texas</td>\n",
              "      <td>552</td>\n",
              "      <td>28.1</td>\n",
              "      <td>https://censusreporter.org/profiles/14000US485...</td>\n",
              "    </tr>\n",
              "    <tr>\n",
              "      <th>8103</th>\n",
              "      <td>Census Tract 29.36, Santa Barbara County, Cali...</td>\n",
              "      <td>1724</td>\n",
              "      <td>27.6</td>\n",
              "      <td>https://censusreporter.org/profiles/14000US060...</td>\n",
              "    </tr>\n",
              "  </tbody>\n",
              "</table>\n",
              "</div>\n",
              "      <button class=\"colab-df-convert\" onclick=\"convertToInteractive('df-f8037199-8456-400f-94ed-5b9ac641713a')\"\n",
              "              title=\"Convert this dataframe to an interactive table.\"\n",
              "              style=\"display:none;\">\n",
              "        \n",
              "  <svg xmlns=\"http://www.w3.org/2000/svg\" height=\"24px\"viewBox=\"0 0 24 24\"\n",
              "       width=\"24px\">\n",
              "    <path d=\"M0 0h24v24H0V0z\" fill=\"none\"/>\n",
              "    <path d=\"M18.56 5.44l.94 2.06.94-2.06 2.06-.94-2.06-.94-.94-2.06-.94 2.06-2.06.94zm-11 1L8.5 8.5l.94-2.06 2.06-.94-2.06-.94L8.5 2.5l-.94 2.06-2.06.94zm10 10l.94 2.06.94-2.06 2.06-.94-2.06-.94-.94-2.06-.94 2.06-2.06.94z\"/><path d=\"M17.41 7.96l-1.37-1.37c-.4-.4-.92-.59-1.43-.59-.52 0-1.04.2-1.43.59L10.3 9.45l-7.72 7.72c-.78.78-.78 2.05 0 2.83L4 21.41c.39.39.9.59 1.41.59.51 0 1.02-.2 1.41-.59l7.78-7.78 2.81-2.81c.8-.78.8-2.07 0-2.86zM5.41 20L4 18.59l7.72-7.72 1.47 1.35L5.41 20z\"/>\n",
              "  </svg>\n",
              "      </button>\n",
              "      \n",
              "  <style>\n",
              "    .colab-df-container {\n",
              "      display:flex;\n",
              "      flex-wrap:wrap;\n",
              "      gap: 12px;\n",
              "    }\n",
              "\n",
              "    .colab-df-convert {\n",
              "      background-color: #E8F0FE;\n",
              "      border: none;\n",
              "      border-radius: 50%;\n",
              "      cursor: pointer;\n",
              "      display: none;\n",
              "      fill: #1967D2;\n",
              "      height: 32px;\n",
              "      padding: 0 0 0 0;\n",
              "      width: 32px;\n",
              "    }\n",
              "\n",
              "    .colab-df-convert:hover {\n",
              "      background-color: #E2EBFA;\n",
              "      box-shadow: 0px 1px 2px rgba(60, 64, 67, 0.3), 0px 1px 3px 1px rgba(60, 64, 67, 0.15);\n",
              "      fill: #174EA6;\n",
              "    }\n",
              "\n",
              "    [theme=dark] .colab-df-convert {\n",
              "      background-color: #3B4455;\n",
              "      fill: #D2E3FC;\n",
              "    }\n",
              "\n",
              "    [theme=dark] .colab-df-convert:hover {\n",
              "      background-color: #434B5C;\n",
              "      box-shadow: 0px 1px 3px 1px rgba(0, 0, 0, 0.15);\n",
              "      filter: drop-shadow(0px 1px 2px rgba(0, 0, 0, 0.3));\n",
              "      fill: #FFFFFF;\n",
              "    }\n",
              "  </style>\n",
              "\n",
              "      <script>\n",
              "        const buttonEl =\n",
              "          document.querySelector('#df-f8037199-8456-400f-94ed-5b9ac641713a button.colab-df-convert');\n",
              "        buttonEl.style.display =\n",
              "          google.colab.kernel.accessAllowed ? 'block' : 'none';\n",
              "\n",
              "        async function convertToInteractive(key) {\n",
              "          const element = document.querySelector('#df-f8037199-8456-400f-94ed-5b9ac641713a');\n",
              "          const dataTable =\n",
              "            await google.colab.kernel.invokeFunction('convertToInteractive',\n",
              "                                                     [key], {});\n",
              "          if (!dataTable) return;\n",
              "\n",
              "          const docLinkHtml = 'Like what you see? Visit the ' +\n",
              "            '<a target=\"_blank\" href=https://colab.research.google.com/notebooks/data_table.ipynb>data table notebook</a>'\n",
              "            + ' to learn more about interactive tables.';\n",
              "          element.innerHTML = '';\n",
              "          dataTable['output_type'] = 'display_data';\n",
              "          await google.colab.output.renderOutput(dataTable, element);\n",
              "          const docLink = document.createElement('div');\n",
              "          docLink.innerHTML = docLinkHtml;\n",
              "          element.appendChild(docLink);\n",
              "        }\n",
              "      </script>\n",
              "    </div>\n",
              "  </div>\n",
              "  "
            ]
          },
          "metadata": {},
          "execution_count": 133
        }
      ]
    },
    {
      "cell_type": "markdown",
      "source": [
        "Finally, the **HTML** package will be used to create clickable links within the pandas data.frame."
      ],
      "metadata": {
        "id": "3yFQqYt3JGYw"
      }
    },
    {
      "cell_type": "code",
      "source": [
        "from IPython.display import HTML"
      ],
      "metadata": {
        "id": "bfR8MVmTJGeq"
      },
      "execution_count": 134,
      "outputs": []
    },
    {
      "cell_type": "markdown",
      "source": [
        "The final table that contains the Top 10 List with clickable links."
      ],
      "metadata": {
        "id": "_owJKxZNJQvH"
      }
    },
    {
      "cell_type": "code",
      "source": [
        "HTML(Bicycle_Top10.to_html(render_links=True, escape=False))"
      ],
      "metadata": {
        "id": "Q2pbsuInJQ1Q",
        "colab": {
          "base_uri": "https://localhost:8080/",
          "height": 363
        },
        "outputId": "2c279817-24eb-4565-9416-07e2b47d4f36"
      },
      "execution_count": 135,
      "outputs": [
        {
          "output_type": "execute_result",
          "data": {
            "text/plain": [
              "<IPython.core.display.HTML object>"
            ],
            "text/html": [
              "<table border=\"1\" class=\"dataframe\">\n",
              "  <thead>\n",
              "    <tr style=\"text-align: right;\">\n",
              "      <th></th>\n",
              "      <th>CensusTract_Name</th>\n",
              "      <th>Number_Workers</th>\n",
              "      <th>Percent_Bicycle</th>\n",
              "      <th>CensusTract_Link</th>\n",
              "    </tr>\n",
              "  </thead>\n",
              "  <tbody>\n",
              "    <tr>\n",
              "      <th>3931</th>\n",
              "      <td>Census Tract 205.03, La Paz County, Arizona</td>\n",
              "      <td>134</td>\n",
              "      <td>65.7</td>\n",
              "      <td><a href=\"https://censusreporter.org/profiles/14000US04012020503\" target=\"_blank\">https://censusreporter.org/profiles/14000US04012020503</a></td>\n",
              "    </tr>\n",
              "    <tr>\n",
              "      <th>6449</th>\n",
              "      <td>Census Tract 105.01, Yolo County, California</td>\n",
              "      <td>2029</td>\n",
              "      <td>41.3</td>\n",
              "      <td><a href=\"https://censusreporter.org/profiles/14000US06113010501\" target=\"_blank\">https://censusreporter.org/profiles/14000US06113010501</a></td>\n",
              "    </tr>\n",
              "    <tr>\n",
              "      <th>4700</th>\n",
              "      <td>Census Tract 5130, Santa Clara County, California</td>\n",
              "      <td>4143</td>\n",
              "      <td>41.2</td>\n",
              "      <td><a href=\"https://censusreporter.org/profiles/14000US06085513000\" target=\"_blank\">https://censusreporter.org/profiles/14000US06085513000</a></td>\n",
              "    </tr>\n",
              "    <tr>\n",
              "      <th>8113</th>\n",
              "      <td>Census Tract 9803, Santa Barbara County, California</td>\n",
              "      <td>2340</td>\n",
              "      <td>36.1</td>\n",
              "      <td><a href=\"https://censusreporter.org/profiles/14000US06083980300\" target=\"_blank\">https://censusreporter.org/profiles/14000US06083980300</a></td>\n",
              "    </tr>\n",
              "    <tr>\n",
              "      <th>12702</th>\n",
              "      <td>Census Tract 5117.05, Santa Clara County, California</td>\n",
              "      <td>757</td>\n",
              "      <td>36.1</td>\n",
              "      <td><a href=\"https://censusreporter.org/profiles/14000US06085511705\" target=\"_blank\">https://censusreporter.org/profiles/14000US06085511705</a></td>\n",
              "    </tr>\n",
              "    <tr>\n",
              "      <th>6465</th>\n",
              "      <td>Census Tract 107.03, Yolo County, California</td>\n",
              "      <td>2142</td>\n",
              "      <td>32.5</td>\n",
              "      <td><a href=\"https://censusreporter.org/profiles/14000US06113010703\" target=\"_blank\">https://censusreporter.org/profiles/14000US06113010703</a></td>\n",
              "    </tr>\n",
              "    <tr>\n",
              "      <th>8098</th>\n",
              "      <td>Census Tract 29.26, Santa Barbara County, California</td>\n",
              "      <td>2585</td>\n",
              "      <td>31.5</td>\n",
              "      <td><a href=\"https://censusreporter.org/profiles/14000US06083002926\" target=\"_blank\">https://censusreporter.org/profiles/14000US06083002926</a></td>\n",
              "    </tr>\n",
              "    <tr>\n",
              "      <th>76522</th>\n",
              "      <td>Census Tract 11.01, Travis County, Texas</td>\n",
              "      <td>1166</td>\n",
              "      <td>28.3</td>\n",
              "      <td><a href=\"https://censusreporter.org/profiles/14000US48453001101\" target=\"_blank\">https://censusreporter.org/profiles/14000US48453001101</a></td>\n",
              "    </tr>\n",
              "    <tr>\n",
              "      <th>76065</th>\n",
              "      <td>Census Tract 9501, Zavala County, Texas</td>\n",
              "      <td>552</td>\n",
              "      <td>28.1</td>\n",
              "      <td><a href=\"https://censusreporter.org/profiles/14000US48507950100\" target=\"_blank\">https://censusreporter.org/profiles/14000US48507950100</a></td>\n",
              "    </tr>\n",
              "    <tr>\n",
              "      <th>8103</th>\n",
              "      <td>Census Tract 29.36, Santa Barbara County, California</td>\n",
              "      <td>1724</td>\n",
              "      <td>27.6</td>\n",
              "      <td><a href=\"https://censusreporter.org/profiles/14000US06083002936\" target=\"_blank\">https://censusreporter.org/profiles/14000US06083002936</a></td>\n",
              "    </tr>\n",
              "  </tbody>\n",
              "</table>"
            ]
          },
          "metadata": {},
          "execution_count": 135
        }
      ]
    },
    {
      "cell_type": "markdown",
      "metadata": {
        "id": "HKXgvgMEv0z4"
      },
      "source": [
        "\n",
        "\n",
        "---\n",
        "\n",
        "\n",
        "\n",
        "---\n",
        "End of Document\n",
        "\n"
      ]
    }
  ],
  "metadata": {
    "colab": {
      "name": "Module6_Part3_CensusAPI_Bash.ipynb",
      "provenance": [],
      "authorship_tag": "ABX9TyPUc7X+pSleEaZZuiA7+Ien",
      "include_colab_link": true
    },
    "kernelspec": {
      "display_name": "Python 3",
      "name": "python3"
    },
    "language_info": {
      "name": "python"
    }
  },
  "nbformat": 4,
  "nbformat_minor": 0
}