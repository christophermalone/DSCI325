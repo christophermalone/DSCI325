{
  "nbformat": 4,
  "nbformat_minor": 0,
  "metadata": {
    "colab": {
      "name": "Task2_Spring2022.ipynb",
      "provenance": [],
      "authorship_tag": "ABX9TyMg7ewlfIjlYj+PLm6r9Pza",
      "include_colab_link": true
    },
    "kernelspec": {
      "name": "python3",
      "display_name": "Python 3"
    }
  },
  "cells": [
    {
      "cell_type": "markdown",
      "metadata": {
        "id": "view-in-github",
        "colab_type": "text"
      },
      "source": [
        "<a href=\"https://colab.research.google.com/github/christophermalone/DSCI325/blob/main/Task2_Spring2022.ipynb\" target=\"_parent\"><img src=\"https://colab.research.google.com/assets/colab-badge.svg\" alt=\"Open In Colab\"/></a>"
      ]
    },
    {
      "cell_type": "markdown",
      "metadata": {
        "id": "zQXd5cZ9SMmv"
      },
      "source": [
        "# Task #2 - Spring 2022"
      ]
    },
    {
      "cell_type": "markdown",
      "metadata": {
        "id": "Pu1vBrNBJDnN"
      },
      "source": [
        "Task #2: Objectives\n",
        "\n",
        "\n",
        "\n",
        "1.   Create an updated version of this graph for data collected over the years 2019, 2020, and 2021.\n",
        "2.   Include a printout of the data.frame used to created your updated graph.\n",
        "\n",
        "<p align='center'><img src=\"https://drive.google.com/uc?export=view&id=1tqb7um1SF7maIrBwp5ybMTMilwDwI4rw\"></p>"
      ]
    },
    {
      "cell_type": "markdown",
      "metadata": {
        "id": "8_8JrHrvKGt4"
      },
      "source": [
        "## Pre-Processing of data for 2019/2020"
      ]
    },
    {
      "cell_type": "code",
      "metadata": {
        "id": "uK0is1NqSHaL"
      },
      "source": [
        "#Create a file that contains a set of commands to download file\n",
        "%%bash\n",
        "{  \n",
        " echo 'wget -O  /content/sample_data/May2019.zip https://s3.amazonaws.com/tripdata/201905-citibike-tripdata.csv.zip'\n",
        " echo 'wget -O  /content/sample_data/July2019.zip https://s3.amazonaws.com/tripdata/201907-citibike-tripdata.csv.zip'\n",
        " echo 'wget -O /content/sample_data/September2019.zip https://s3.amazonaws.com/tripdata/201909-citibike-tripdata.csv.zip'\n",
        " echo 'wget -O  /content/sample_data/May2020.zip https://s3.amazonaws.com/tripdata/202005-citibike-tripdata.csv.zip'\n",
        " echo 'wget -O  /content/sample_data/July2020.zip https://s3.amazonaws.com/tripdata/202007-citibike-tripdata.csv.zip'\n",
        " echo 'wget -O /content/sample_data/September2020.zip https://s3.amazonaws.com/tripdata/202009-citibike-tripdata.csv.zip'\n",
        " } > Download_CitiBikeData.sh"
      ],
      "execution_count": 1,
      "outputs": []
    },
    {
      "cell_type": "markdown",
      "source": [
        "Run the bash script to get data from 2019/2020"
      ],
      "metadata": {
        "id": "3_lEl1bj22YZ"
      }
    },
    {
      "cell_type": "code",
      "metadata": {
        "id": "8p0xSWJSG5e2"
      },
      "source": [
        "%%bash\n",
        "bash Download_CitiBikeData.sh"
      ],
      "execution_count": null,
      "outputs": []
    },
    {
      "cell_type": "markdown",
      "source": [
        "Check to make sure the file were successfully downloaded.\n",
        "\n"
      ],
      "metadata": {
        "id": "x7COrUlE29f5"
      }
    },
    {
      "cell_type": "code",
      "metadata": {
        "colab": {
          "base_uri": "https://localhost:8080/"
        },
        "id": "UGPvLlo5G8iO",
        "outputId": "c84f4c0a-7c5a-470b-b844-9dd123aecdf9"
      },
      "source": [
        "#View the contents in the content folder\n",
        "!ls /content/sample_data/"
      ],
      "execution_count": 4,
      "outputs": [
        {
          "output_type": "stream",
          "name": "stdout",
          "text": [
            "July2019.zip  May2019.zip  September2019.zip\n",
            "July2020.zip  May2020.zip  September2020.zip\n"
          ]
        }
      ]
    },
    {
      "cell_type": "markdown",
      "metadata": {
        "id": "XkA3SSLgOE5d"
      },
      "source": [
        "Next, create a bash script to unzip the files for 2019/2020"
      ]
    },
    {
      "cell_type": "code",
      "metadata": {
        "id": "tJdYkcrlHVCp"
      },
      "source": [
        "%%bash\n",
        "{   \n",
        " echo 'unzip -o /content/sample_data/May2019.zip -d \"/content/sample_data\"'\n",
        " echo 'unzip -o /content/sample_data/July2019.zip -d \"/content/sample_data\"'\n",
        " echo 'unzip -o /content/sample_data/September2019.zip -d \"/content/sample_data\"'\n",
        " echo 'unzip -o /content/sample_data/May2020.zip -d \"/content/sample_data\"'\n",
        " echo 'unzip -o /content/sample_data/July2020.zip -d \"/content/sample_data\"'\n",
        " echo 'unzip -o /content/sample_data/September2020.zip -d \"/content/sample_data\"'\n",
        " } > Unzip_CitiBikeData.sh"
      ],
      "execution_count": 6,
      "outputs": []
    },
    {
      "cell_type": "markdown",
      "metadata": {
        "id": "mcUhk-EbUB8o"
      },
      "source": [
        "Run the script file to unzip files for 2019/2020."
      ]
    },
    {
      "cell_type": "code",
      "metadata": {
        "id": "_KFsjvhoT9wc",
        "colab": {
          "base_uri": "https://localhost:8080/"
        },
        "outputId": "e38678f9-88d7-464a-b4b8-1d58f1e8bd0d"
      },
      "source": [
        "%%bash\n",
        "bash Unzip_CitiBikeData.sh"
      ],
      "execution_count": 7,
      "outputs": [
        {
          "output_type": "stream",
          "name": "stdout",
          "text": [
            "Archive:  /content/sample_data/May2019.zip\n",
            "  inflating: /content/sample_data/201905-citibike-tripdata.csv  \n",
            "Archive:  /content/sample_data/July2019.zip\n",
            "  inflating: /content/sample_data/201907-citibike-tripdata.csv  \n",
            "Archive:  /content/sample_data/September2019.zip\n",
            "  inflating: /content/sample_data/201909-citibike-tripdata.csv  \n",
            "Archive:  /content/sample_data/May2020.zip\n",
            "  inflating: /content/sample_data/202005-citibike-tripdata.csv  \n",
            "Archive:  /content/sample_data/July2020.zip\n",
            "  inflating: /content/sample_data/202007-citibike-tripdata.csv  \n",
            "Archive:  /content/sample_data/September2020.zip\n",
            "  inflating: /content/sample_data/202009-citibike-tripdata.csv  \n"
          ]
        }
      ]
    },
    {
      "cell_type": "markdown",
      "metadata": {
        "id": "FwWTGhmqOzOI"
      },
      "source": [
        "## Getting only the Customer / Central Park rentals for the three desired dates."
      ]
    },
    {
      "cell_type": "markdown",
      "source": [
        "The following grep command will obtain records for rentals near Central Park for Customers."
      ],
      "metadata": {
        "id": "2VlbKxpA3_n4"
      }
    },
    {
      "cell_type": "code",
      "metadata": {
        "id": "sCVQsqXzk4ox"
      },
      "source": [
        "!grep 'Central Park.*Customer' /content/sample_data/*-tripdata.csv > /content/sample_data/Customer_CentralPark.csv"
      ],
      "execution_count": 36,
      "outputs": []
    },
    {
      "cell_type": "code",
      "metadata": {
        "colab": {
          "base_uri": "https://localhost:8080/"
        },
        "id": "bZ1svE42k_P2",
        "outputId": "961221ce-9204-4d2c-92a8-c5e584dd37d5"
      },
      "source": [
        "!wc -l /content/sample_data/Customer_CentralPark.csv"
      ],
      "execution_count": 37,
      "outputs": [
        {
          "output_type": "stream",
          "name": "stdout",
          "text": [
            "246197 /content/sample_data/Customer_CentralPark.csv\n"
          ]
        }
      ]
    },
    {
      "cell_type": "markdown",
      "metadata": {
        "id": "3D5RpJ9qefWk"
      },
      "source": [
        "Next, get only the desired dates - Memorial Day, Independence Day, and Labor Day."
      ]
    },
    {
      "cell_type": "code",
      "metadata": {
        "id": "_wIW7YJWmMGC"
      },
      "source": [
        "!grep -E '\\-07-04|2019-05-27|2020-05-25|2019-09-02|2020-09-07' /content/sample_data/Customer_CentralPark.csv > /content/sample_data/Customer_CentralPark_Holidays_2019and2020.csv"
      ],
      "execution_count": 38,
      "outputs": []
    },
    {
      "cell_type": "code",
      "metadata": {
        "colab": {
          "base_uri": "https://localhost:8080/"
        },
        "id": "dPqP9BMLmOKx",
        "outputId": "39a91d9b-2703-472e-8267-7a5c1bbb3775"
      },
      "source": [
        "#Verify the nubmer of lines in this file\n",
        "!wc -l /content/sample_data/Customer_CentralPark_Holidays_2019and2020.csv"
      ],
      "execution_count": 39,
      "outputs": [
        {
          "output_type": "stream",
          "name": "stdout",
          "text": [
            "13564 /content/sample_data/Customer_CentralPark_Holidays_2019and2020.csv\n"
          ]
        }
      ]
    },
    {
      "cell_type": "markdown",
      "metadata": {
        "id": "POdMsiFao8HA"
      },
      "source": [
        "Obtain a random selection of 25 records to check."
      ]
    },
    {
      "cell_type": "code",
      "metadata": {
        "id": "j11VsZxamg8X",
        "colab": {
          "base_uri": "https://localhost:8080/"
        },
        "outputId": "6af1f1e1-189d-4291-bb5e-0492685ab438"
      },
      "source": [
        "!shuf -n 25 /content/sample_data/Customer_CentralPark_Holidays_2019and2020.csv "
      ],
      "execution_count": 41,
      "outputs": [
        {
          "output_type": "stream",
          "name": "stdout",
          "text": [
            "/content/sample_data/201909-citibike-tripdata.csv:1398,\"2019-09-02 09:06:40.5820\",\"2019-09-02 09:29:58.8000\",2006,\"Central Park S & 6 Ave\",40.76590936,-73.97634151,3320,\"Central Park West & W 100 St\",40.79406660818552,-73.96286845207214,39978,\"Customer\",1969,0\n",
            "/content/sample_data/202009-citibike-tripdata.csv:509,\"2020-09-07 18:59:08.6260\",\"2020-09-07 19:07:38.2180\",3137,\"5 Ave & E 73 St\",40.77282817,-73.96685276,2006,\"Central Park S & 6 Ave\",40.76590936,-73.97634151,39475,\"Customer\",2001,2\n",
            "/content/sample_data/202009-citibike-tripdata.csv:1098,\"2020-09-07 18:57:18.9360\",\"2020-09-07 19:15:37.4340\",3323,\"W 106 St & Central Park West\",40.7981856,-73.9605909006,3158,\"W 63 St & Broadway\",40.77163851,-73.98261428,16325,\"Customer\",1999,1\n",
            "/content/sample_data/202007-citibike-tripdata.csv:1950,\"2020-07-04 18:04:37.4370\",\"2020-07-04 18:37:07.8020\",3323,\"W 106 St & Central Park West\",40.7981856,-73.9605909006,3163,\"Central Park West & W 68 St\",40.7734066,-73.97782542,18929,\"Customer\",1994,2\n",
            "/content/sample_data/202005-citibike-tripdata.csv:1888,\"2020-05-25 15:55:50.2310\",\"2020-05-25 16:27:18.8890\",3136,\"5 Ave & E 63 St\",40.766368,-73.971518,3374,\"Central Park North & Adam Clayton Powell Blvd\",40.799484,-73.955613,41671,\"Customer\",1990,1\n",
            "/content/sample_data/201905-citibike-tripdata.csv:4583,\"2019-05-27 13:00:29.3610\",\"2019-05-27 14:16:53.3380\",2006,\"Central Park S & 6 Ave\",40.76590936,-73.97634151,2006,\"Central Park S & 6 Ave\",40.76590936,-73.97634151,20112,\"Customer\",1992,2\n",
            "/content/sample_data/201909-citibike-tripdata.csv:1502,\"2019-09-02 13:38:59.4060\",\"2019-09-02 14:04:01.8600\",3641,\"Broadway & W 25 St\",40.74286877312112,-73.98918628692627,2006,\"Central Park S & 6 Ave\",40.76590936,-73.97634151,25114,\"Customer\",1982,1\n",
            "/content/sample_data/202005-citibike-tripdata.csv:1853,\"2020-05-25 14:43:34.7710\",\"2020-05-25 15:14:28.7630\",3160,\"Central Park West & W 76 St\",40.77896784,-73.97374737,3374,\"Central Park North & Adam Clayton Powell Blvd\",40.799484,-73.955613,43085,\"Customer\",1990,1\n",
            "/content/sample_data/202005-citibike-tripdata.csv:1584,\"2020-05-25 16:12:06.3710\",\"2020-05-25 16:38:30.4140\",2006,\"Central Park S & 6 Ave\",40.76590936,-73.97634151,3165,\"Central Park West & W 72 St\",40.77579376683666,-73.9762057363987,19618,\"Customer\",1972,1\n",
            "/content/sample_data/201905-citibike-tripdata.csv:1012,\"2019-05-27 13:29:38.9620\",\"2019-05-27 13:46:31.4530\",3320,\"Central Park West & W 100 St\",40.79406660818552,-73.96286845207214,3383,\"Cathedral Pkwy & Broadway\",40.804213,-73.96699104,27730,\"Customer\",1969,0\n",
            "/content/sample_data/201905-citibike-tripdata.csv:1968,\"2019-05-27 11:16:05.5210\",\"2019-05-27 11:48:54.4620\",281,\"Grand Army Plaza & Central Park S\",40.7643971,-73.97371465,3143,\"5 Ave & E 78 St\",40.77632142182271,-73.96427392959595,17721,\"Customer\",1987,1\n",
            "/content/sample_data/202007-citibike-tripdata.csv:471,\"2020-07-04 15:48:14.0720\",\"2020-07-04 15:56:05.5660\",3173,\"Riverside Blvd & W 67 St\",40.777507027547976,-73.98888587951659,3165,\"Central Park West & W 72 St\",40.77579376683666,-73.9762057363987,14550,\"Customer\",1988,2\n",
            "/content/sample_data/201905-citibike-tripdata.csv:1208,\"2019-05-27 11:06:30.2610\",\"2019-05-27 11:26:38.4140\",525,\"W 34 St & 11 Ave\",40.75594159,-74.0021163,3724,\"7 Ave & Central Park South\",40.7667405590595,-73.9790689945221,33805,\"Customer\",1999,1\n",
            "/content/sample_data/201907-citibike-tripdata.csv:431,\"2019-07-04 15:22:25.2120\",\"2019-07-04 15:29:36.7360\",3164,\"Columbus Ave & W 72 St\",40.7770575,-73.97898475,3160,\"Central Park West & W 76 St\",40.77896784,-73.97374737,39931,\"Customer\",1976,2\n",
            "/content/sample_data/201907-citibike-tripdata.csv:1289,\"2019-07-04 15:17:00.6770\",\"2019-07-04 15:38:30.0520\",3295,\"Central Park W & W 96 St\",40.79127,-73.964839,2006,\"Central Park S & 6 Ave\",40.76590936,-73.97634151,30868,\"Customer\",1963,1\n",
            "/content/sample_data/202009-citibike-tripdata.csv:1896,\"2020-09-07 17:29:07.1640\",\"2020-09-07 18:00:43.7750\",3163,\"Central Park West & W 68 St\",40.7734066,-73.97782542,3997,\"5 Av & W 139 St\",40.815484,-73.935856,27313,\"Customer\",1993,1\n",
            "/content/sample_data/202007-citibike-tripdata.csv:1576,\"2020-07-04 11:40:21.5270\",\"2020-07-04 12:06:37.8310\",3165,\"Central Park West & W 72 St\",40.77579376683666,-73.9762057363987,3292,\"5 Ave & E 93 St\",40.7857851,-73.957481,19172,\"Customer\",1983,2\n",
            "/content/sample_data/202007-citibike-tripdata.csv:852,\"2020-07-04 19:31:37.7920\",\"2020-07-04 19:45:49.8740\",3814,\"E 56 St & Madison Ave\",40.761573,-73.972628,3160,\"Central Park West & W 76 St\",40.77896784,-73.97374737,30382,\"Customer\",1983,2\n",
            "/content/sample_data/201905-citibike-tripdata.csv:2059,\"2019-05-27 14:57:09.6690\",\"2019-05-27 15:31:29.6360\",3165,\"Central Park West & W 72 St\",40.77579376683666,-73.9762057363987,3295,\"Central Park W & W 96 St\",40.79127,-73.964839,33783,\"Customer\",1969,0\n",
            "/content/sample_data/202007-citibike-tripdata.csv:894,\"2020-07-04 17:48:36.8380\",\"2020-07-04 18:03:31.1590\",3374,\"Central Park North & Adam Clayton Powell Blvd\",40.799484,-73.955613,3301,\"Columbus Ave & W 95 St\",40.7919557,-73.968087,42146,\"Customer\",1969,0\n",
            "/content/sample_data/201909-citibike-tripdata.csv:1478,\"2019-09-02 10:28:39.3340\",\"2019-09-02 10:53:17.8290\",3165,\"Central Park West & W 72 St\",40.77579376683666,-73.9762057363987,3163,\"Central Park West & W 68 St\",40.7734066,-73.97782542,38524,\"Customer\",1969,0\n",
            "/content/sample_data/201905-citibike-tripdata.csv:2163,\"2019-05-27 12:35:48.8010\",\"2019-05-27 13:11:52.6300\",281,\"Grand Army Plaza & Central Park S\",40.7643971,-73.97371465,3282,\"5 Ave & E 88 St\",40.78307,-73.95939,31204,\"Customer\",1969,0\n",
            "/content/sample_data/202005-citibike-tripdata.csv:6569,\"2020-05-25 16:59:53.9540\",\"2020-05-25 18:49:22.9780\",281,\"Grand Army Plaza & Central Park S\",40.7643971,-73.97371465,3946,\"St Nicholas Ave & W 137 St\",40.818477,-73.947568,16383,\"Customer\",1969,0\n",
            "/content/sample_data/202009-citibike-tripdata.csv:7256,\"2020-09-07 19:59:50.1000\",\"2020-09-07 22:00:46.7890\",3172,\"W 74 St & Columbus Ave\",40.7785669,-73.97754961,3165,\"Central Park West & W 72 St\",40.77579376683666,-73.9762057363987,35011,\"Customer\",1969,0\n",
            "/content/sample_data/202007-citibike-tripdata.csv:689,\"2020-07-04 08:20:51.4650\",\"2020-07-04 08:32:21.0540\",2006,\"Central Park S & 6 Ave\",40.76590936,-73.97634151,529,\"W 42 St & 8 Ave\",40.7575699,-73.99098507,42680,\"Customer\",1993,1\n"
          ]
        }
      ]
    },
    {
      "cell_type": "markdown",
      "metadata": {
        "id": "9ahm_fVY2eqM"
      },
      "source": [
        "## Putting a header into the file"
      ]
    },
    {
      "cell_type": "code",
      "metadata": {
        "id": "w47HLP1nriST"
      },
      "source": [
        "!head -n 1 /content/sample_data/201905-citibike-tripdata.csv > /content/sample_data/Header.csv"
      ],
      "execution_count": 42,
      "outputs": []
    },
    {
      "cell_type": "markdown",
      "metadata": {
        "id": "MqOgFh50rqk1"
      },
      "source": [
        "Next, verify that the header has been successfully saved into this file."
      ]
    },
    {
      "cell_type": "code",
      "metadata": {
        "colab": {
          "base_uri": "https://localhost:8080/"
        },
        "id": "4ywu-R0wrsI8",
        "outputId": "5e4bdaa3-206a-49ea-a2be-44a9826feece"
      },
      "source": [
        "!cat /content/sample_data/Header.csv "
      ],
      "execution_count": 45,
      "outputs": [
        {
          "output_type": "stream",
          "name": "stdout",
          "text": [
            "\"tripduration\",\"starttime\",\"stoptime\",\"start station id\",\"start station name\",\"start station latitude\",\"start station longitude\",\"end station id\",\"end station name\",\"end station latitude\",\"end station longitude\",\"bikeid\",\"usertype\",\"birth year\",\"gender\"\n"
          ]
        }
      ]
    },
    {
      "cell_type": "markdown",
      "metadata": {
        "id": "TPDihnsftt7G"
      },
      "source": [
        "Replacing spaces with underscores for better headers in R."
      ]
    },
    {
      "cell_type": "code",
      "metadata": {
        "id": "IFiE8EbhtuDd"
      },
      "source": [
        "!sed -i '1s/ /_/g' /content/sample_data/Header.csv "
      ],
      "execution_count": 46,
      "outputs": []
    },
    {
      "cell_type": "markdown",
      "metadata": {
        "id": "WqiRTd8qsAo3"
      },
      "source": [
        "Add the header to the top of the data file."
      ]
    },
    {
      "cell_type": "code",
      "metadata": {
        "id": "DBOf_hJFsC5N"
      },
      "source": [
        "!cat /content/sample_data/Header.csv /content/sample_data/Customer_CentralPark_Holidays_2019and2020.csv > /content/sample_data/Customer_CentralPark_Holidays_2019and2020_withHeader.csv "
      ],
      "execution_count": 47,
      "outputs": []
    },
    {
      "cell_type": "markdown",
      "metadata": {
        "id": "lEl9dGsksTBW"
      },
      "source": [
        "Use head to make sure the two files were properly appended together. "
      ]
    },
    {
      "cell_type": "code",
      "metadata": {
        "colab": {
          "base_uri": "https://localhost:8080/"
        },
        "id": "gw9C-ELdsUgx",
        "outputId": "b9cfbaad-a6d4-4ef2-b7b1-aa258cf0ea95"
      },
      "source": [
        "!head /content/sample_data/Customer_CentralPark_Holidays_2019and2020_withHeader.csv"
      ],
      "execution_count": 48,
      "outputs": [
        {
          "output_type": "stream",
          "name": "stdout",
          "text": [
            "\"tripduration\",\"starttime\",\"stoptime\",\"start_station_id\",\"start_station_name\",\"start_station_latitude\",\"start_station_longitude\",\"end_station_id\",\"end_station_name\",\"end_station_latitude\",\"end_station_longitude\",\"bikeid\",\"usertype\",\"birth_year\",\"gender\"\n",
            "/content/sample_data/201905-citibike-tripdata.csv:151658,\"2019-05-25 23:29:33.0260\",\"2019-05-27 17:37:11.7740\",3724,\"7 Ave & Central Park South\",40.7667405590595,-73.9790689945221,3258,\"W 27 St & 10 Ave\",40.75018156325683,-74.00218427181244,26539,\"Customer\",1969,0\n",
            "/content/sample_data/201905-citibike-tripdata.csv:57294,\"2019-05-26 21:27:21.2430\",\"2019-05-27 13:22:15.6110\",3320,\"Central Park West & W 100 St\",40.79406660818552,-73.96286845207214,499,\"Broadway & W 60 St\",40.76915505,-73.98191841,17009,\"Customer\",1969,0\n",
            "/content/sample_data/201905-citibike-tripdata.csv:848,\"2019-05-26 23:49:43.1070\",\"2019-05-27 00:03:51.5060\",486,\"Broadway & W 29 St\",40.7462009,-73.98855723,2006,\"Central Park S & 6 Ave\",40.76590936,-73.97634151,14718,\"Customer\",1969,0\n",
            "/content/sample_data/201905-citibike-tripdata.csv:1096,\"2019-05-27 00:00:47.3920\",\"2019-05-27 00:19:04.1790\",3165,\"Central Park West & W 72 St\",40.77579376683666,-73.9762057363987,281,\"Grand Army Plaza & Central Park S\",40.7643971,-73.97371465,17120,\"Customer\",1996,1\n",
            "/content/sample_data/201905-citibike-tripdata.csv:1233,\"2019-05-27 00:13:13.4470\",\"2019-05-27 00:33:47.3440\",447,\"8 Ave & W 52 St\",40.76370739,-73.9851615,3323,\"W 106 St & Central Park West\",40.7981856,-73.9605909006,34344,\"Customer\",1969,0\n",
            "/content/sample_data/201905-citibike-tripdata.csv:2860,\"2019-05-27 00:47:54.7790\",\"2019-05-27 01:35:35.2770\",2006,\"Central Park S & 6 Ave\",40.76590936,-73.97634151,499,\"Broadway & W 60 St\",40.76915505,-73.98191841,18287,\"Customer\",1969,0\n",
            "/content/sample_data/201905-citibike-tripdata.csv:814,\"2019-05-27 00:47:59.9220\",\"2019-05-27 01:01:34.4070\",2006,\"Central Park S & 6 Ave\",40.76590936,-73.97634151,2006,\"Central Park S & 6 Ave\",40.76590936,-73.97634151,30027,\"Customer\",1969,0\n",
            "/content/sample_data/201905-citibike-tripdata.csv:1519,\"2019-05-27 00:48:05.6710\",\"2019-05-27 01:13:24.7900\",465,\"Broadway & W 41 St\",40.75513557,-73.98658032,3163,\"Central Park West & W 68 St\",40.7734066,-73.97782542,32085,\"Customer\",1969,0\n",
            "/content/sample_data/201905-citibike-tripdata.csv:2823,\"2019-05-27 00:48:10.1980\",\"2019-05-27 01:35:13.2010\",2006,\"Central Park S & 6 Ave\",40.76590936,-73.97634151,499,\"Broadway & W 60 St\",40.76915505,-73.98191841,14995,\"Customer\",1969,0\n"
          ]
        }
      ]
    },
    {
      "cell_type": "markdown",
      "metadata": {
        "id": "7pp44TL5qZrJ"
      },
      "source": [
        "## Reading data into R"
      ]
    },
    {
      "cell_type": "markdown",
      "metadata": {
        "id": "OXX9Hxpt4iZU"
      },
      "source": [
        "This is a iPython Notebook; thus, set up R Magic so that R can be run in subsequent code blocks."
      ]
    },
    {
      "cell_type": "code",
      "metadata": {
        "id": "sPExDhbcqaEU"
      },
      "source": [
        "%load_ext rpy2.ipython"
      ],
      "execution_count": 49,
      "outputs": []
    },
    {
      "cell_type": "markdown",
      "metadata": {
        "id": "8QJi4sP5tPDH"
      },
      "source": [
        "The tidyverse package will be used for the managment of the data.frame and plotting in R."
      ]
    },
    {
      "cell_type": "code",
      "metadata": {
        "id": "nUZbp7x-tPQQ",
        "colab": {
          "base_uri": "https://localhost:8080/"
        },
        "outputId": "8a700404-5ff7-4f24-f14a-301ce97e1b33"
      },
      "source": [
        "%%R\n",
        "library(tidyverse)"
      ],
      "execution_count": 50,
      "outputs": [
        {
          "output_type": "stream",
          "name": "stderr",
          "text": [
            "R[write to console]: ── Attaching packages ─────────────────────────────────────── tidyverse 1.3.1 ──\n",
            "\n",
            "R[write to console]: ✔ ggplot2 3.3.5     ✔ purrr   0.3.4\n",
            "✔ tibble  3.1.6     ✔ dplyr   1.0.7\n",
            "✔ tidyr   1.1.4     ✔ stringr 1.4.0\n",
            "✔ readr   2.1.1     ✔ forcats 0.5.1\n",
            "\n",
            "R[write to console]: ── Conflicts ────────────────────────────────────────── tidyverse_conflicts() ──\n",
            "✖ dplyr::filter() masks stats::filter()\n",
            "✖ dplyr::lag()    masks stats::lag()\n",
            "\n"
          ]
        }
      ]
    },
    {
      "cell_type": "code",
      "metadata": {
        "colab": {
          "base_uri": "https://localhost:8080/"
        },
        "id": "Z2cj7iglqePh",
        "outputId": "62f791f4-ded5-4d7c-b779-b99db94bd44a"
      },
      "source": [
        "#Read the *.csv file into R; provide names for each field as well\n",
        "%%R\n",
        "\n",
        "NYC_Holidays_2019and2020_CitiBikeRentals <- read_csv('/content/sample_data/Customer_CentralPark_Holidays_2019and2020_withHeader.csv')"
      ],
      "execution_count": 51,
      "outputs": [
        {
          "output_type": "stream",
          "name": "stdout",
          "text": [
            "Rows: 13564 Columns: 15\n",
            "── Column specification ────────────────────────────────────────────────────────\n",
            "Delimiter: \",\"\n",
            "chr  (4): tripduration, start_station_name, end_station_name, usertype\n",
            "dbl  (9): start_station_id, start_station_latitude, start_station_longitude,...\n",
            "dttm (2): starttime, stoptime\n",
            "\n",
            "ℹ Use `spec()` to retrieve the full column specification for this data.\n",
            "ℹ Specify the column types or set `show_col_types = FALSE` to quiet this message.\n"
          ]
        }
      ]
    },
    {
      "cell_type": "markdown",
      "metadata": {
        "id": "h-dZtNe6tAD1"
      },
      "source": [
        "Next, consider the structure of the data.frame read in by the read_csv() function from the tidyverse package in R.  Note that the startime and stoptime are designated as date fields (not strings).  The POSIXct is a special specification for dates.  R (and other software packages) will take advantage of this structure when manipulating date fields. "
      ]
    },
    {
      "cell_type": "code",
      "metadata": {
        "colab": {
          "base_uri": "https://localhost:8080/"
        },
        "id": "8w5XwDc9tArI",
        "outputId": "91a672bd-1b93-457f-fb2b-26f97aa66ad5"
      },
      "source": [
        "%%R\n",
        "str(NYC_Holidays_2019and2020_CitiBikeRentals)"
      ],
      "execution_count": 58,
      "outputs": [
        {
          "output_type": "stream",
          "name": "stdout",
          "text": [
            "spec_tbl_df [13,564 × 17] (S3: spec_tbl_df/tbl_df/tbl/data.frame)\n",
            " $ tripduration           : chr [1:13564] \"/content/sample_data/201905-citibike-tripdata.csv:151658\" \"/content/sample_data/201905-citibike-tripdata.csv:57294\" \"/content/sample_data/201905-citibike-tripdata.csv:848\" \"/content/sample_data/201905-citibike-tripdata.csv:1096\" ...\n",
            " $ starttime              : POSIXct[1:13564], format: \"2019-05-25 23:29:33\" \"2019-05-26 21:27:21\" ...\n",
            " $ stoptime               : POSIXct[1:13564], format: \"2019-05-27 17:37:11\" \"2019-05-27 13:22:15\" ...\n",
            " $ start_station_id       : num [1:13564] 3724 3320 486 3165 447 ...\n",
            " $ start_station_name     : chr [1:13564] \"7 Ave & Central Park South\" \"Central Park West & W 100 St\" \"Broadway & W 29 St\" \"Central Park West & W 72 St\" ...\n",
            " $ start_station_latitude : num [1:13564] 40.8 40.8 40.7 40.8 40.8 ...\n",
            " $ start_station_longitude: num [1:13564] -74 -74 -74 -74 -74 ...\n",
            " $ end_station_id         : num [1:13564] 3258 499 2006 281 3323 ...\n",
            " $ end_station_name       : chr [1:13564] \"W 27 St & 10 Ave\" \"Broadway & W 60 St\" \"Central Park S & 6 Ave\" \"Grand Army Plaza & Central Park S\" ...\n",
            " $ end_station_latitude   : num [1:13564] 40.8 40.8 40.8 40.8 40.8 ...\n",
            " $ end_station_longitude  : num [1:13564] -74 -74 -74 -74 -74 ...\n",
            " $ bikeid                 : num [1:13564] 26539 17009 14718 17120 34344 ...\n",
            " $ usertype               : chr [1:13564] \"Customer\" \"Customer\" \"Customer\" \"Customer\" ...\n",
            " $ birth_year             : num [1:13564] 1969 1969 1969 1996 1969 ...\n",
            " $ gender                 : num [1:13564] 0 0 0 1 0 0 0 0 0 0 ...\n",
            " $ Year                   : chr [1:13564] \"2019\" \"2019\" \"2019\" \"2019\" ...\n",
            " $ Month                  : chr [1:13564] \"05\" \"05\" \"05\" \"05\" ...\n",
            " - attr(*, \"spec\")=\n",
            "  .. cols(\n",
            "  ..   tripduration = col_character(),\n",
            "  ..   starttime = col_datetime(format = \"\"),\n",
            "  ..   stoptime = col_datetime(format = \"\"),\n",
            "  ..   start_station_id = col_double(),\n",
            "  ..   start_station_name = col_character(),\n",
            "  ..   start_station_latitude = col_double(),\n",
            "  ..   start_station_longitude = col_double(),\n",
            "  ..   end_station_id = col_double(),\n",
            "  ..   end_station_name = col_character(),\n",
            "  ..   end_station_latitude = col_double(),\n",
            "  ..   end_station_longitude = col_double(),\n",
            "  ..   bikeid = col_double(),\n",
            "  ..   usertype = col_character(),\n",
            "  ..   birth_year = col_double(),\n",
            "  ..   gender = col_double()\n",
            "  .. )\n",
            " - attr(*, \"problems\")=<externalptr> \n"
          ]
        }
      ]
    },
    {
      "cell_type": "markdown",
      "metadata": {
        "id": "NVQrskwwvRBV"
      },
      "source": [
        "Consider the use of the <strong>format()</strong> function in R.  The following can be used to obtain the Year and Month from the startime field in R.  The output returned from the format() function are placed into new fields in the NYC_Holidays_CitiBikeRentals data.frame."
      ]
    },
    {
      "cell_type": "code",
      "metadata": {
        "id": "LBzHDKglvRPV",
        "colab": {
          "base_uri": "https://localhost:8080/"
        },
        "outputId": "c183083a-e86b-4f63-fd46-c3082fe9dd5f"
      },
      "source": [
        "%%R\n",
        "\n",
        "NYC_Holidays_2019and2020_CitiBikeRentals$Year <- format(NYC_Holidays_2019and2020_CitiBikeRentals$starttime, format=\"%Y\")\n",
        "NYC_Holidays_2019and2020_CitiBikeRentals$Month <- format(NYC_Holidays_2019and2020_CitiBikeRentals$starttime, format=\"%m\")\n",
        "\n",
        "cat(\"\\n\")\n",
        "cat(\"\\n\")\n",
        "cat(\"Notice the addition of the two new fields in this data.frame, i.e. Year and Month\\n\\n\")\n",
        "str(NYC_Holidays_2019and2020_CitiBikeRentals)"
      ],
      "execution_count": 59,
      "outputs": [
        {
          "output_type": "stream",
          "name": "stdout",
          "text": [
            "\n",
            "\n",
            "Notice the addition of the two new fields in this data.frame, i.e. Year and Month\n",
            "\n",
            "spec_tbl_df [13,564 × 17] (S3: spec_tbl_df/tbl_df/tbl/data.frame)\n",
            " $ tripduration           : chr [1:13564] \"/content/sample_data/201905-citibike-tripdata.csv:151658\" \"/content/sample_data/201905-citibike-tripdata.csv:57294\" \"/content/sample_data/201905-citibike-tripdata.csv:848\" \"/content/sample_data/201905-citibike-tripdata.csv:1096\" ...\n",
            " $ starttime              : POSIXct[1:13564], format: \"2019-05-25 23:29:33\" \"2019-05-26 21:27:21\" ...\n",
            " $ stoptime               : POSIXct[1:13564], format: \"2019-05-27 17:37:11\" \"2019-05-27 13:22:15\" ...\n",
            " $ start_station_id       : num [1:13564] 3724 3320 486 3165 447 ...\n",
            " $ start_station_name     : chr [1:13564] \"7 Ave & Central Park South\" \"Central Park West & W 100 St\" \"Broadway & W 29 St\" \"Central Park West & W 72 St\" ...\n",
            " $ start_station_latitude : num [1:13564] 40.8 40.8 40.7 40.8 40.8 ...\n",
            " $ start_station_longitude: num [1:13564] -74 -74 -74 -74 -74 ...\n",
            " $ end_station_id         : num [1:13564] 3258 499 2006 281 3323 ...\n",
            " $ end_station_name       : chr [1:13564] \"W 27 St & 10 Ave\" \"Broadway & W 60 St\" \"Central Park S & 6 Ave\" \"Grand Army Plaza & Central Park S\" ...\n",
            " $ end_station_latitude   : num [1:13564] 40.8 40.8 40.8 40.8 40.8 ...\n",
            " $ end_station_longitude  : num [1:13564] -74 -74 -74 -74 -74 ...\n",
            " $ bikeid                 : num [1:13564] 26539 17009 14718 17120 34344 ...\n",
            " $ usertype               : chr [1:13564] \"Customer\" \"Customer\" \"Customer\" \"Customer\" ...\n",
            " $ birth_year             : num [1:13564] 1969 1969 1969 1996 1969 ...\n",
            " $ gender                 : num [1:13564] 0 0 0 1 0 0 0 0 0 0 ...\n",
            " $ Year                   : chr [1:13564] \"2019\" \"2019\" \"2019\" \"2019\" ...\n",
            " $ Month                  : chr [1:13564] \"05\" \"05\" \"05\" \"05\" ...\n",
            " - attr(*, \"spec\")=\n",
            "  .. cols(\n",
            "  ..   tripduration = col_character(),\n",
            "  ..   starttime = col_datetime(format = \"\"),\n",
            "  ..   stoptime = col_datetime(format = \"\"),\n",
            "  ..   start_station_id = col_double(),\n",
            "  ..   start_station_name = col_character(),\n",
            "  ..   start_station_latitude = col_double(),\n",
            "  ..   start_station_longitude = col_double(),\n",
            "  ..   end_station_id = col_double(),\n",
            "  ..   end_station_name = col_character(),\n",
            "  ..   end_station_latitude = col_double(),\n",
            "  ..   end_station_longitude = col_double(),\n",
            "  ..   bikeid = col_double(),\n",
            "  ..   usertype = col_character(),\n",
            "  ..   birth_year = col_double(),\n",
            "  ..   gender = col_double()\n",
            "  .. )\n",
            " - attr(*, \"problems\")=<externalptr> \n"
          ]
        }
      ]
    },
    {
      "cell_type": "markdown",
      "metadata": {
        "id": "x67WtX_AAvC_"
      },
      "source": [
        "Let us review the contents of columns 2 and 13 through 17 for the first few rows of the resulting data.frame."
      ]
    },
    {
      "cell_type": "code",
      "metadata": {
        "colab": {
          "base_uri": "https://localhost:8080/"
        },
        "id": "QADMi_XsA3Fs",
        "outputId": "54cae4cc-e43f-4c8d-f632-82bc82a23809"
      },
      "source": [
        "#The followoing variation of the head command can be used to show only specific columns of a data.frame.\n",
        "%%R\n",
        "\n",
        "head(NYC_Holidays_2019and2020_CitiBikeRentals[,c(2,13:17)])"
      ],
      "execution_count": 60,
      "outputs": [
        {
          "output_type": "stream",
          "name": "stdout",
          "text": [
            "# A tibble: 6 × 6\n",
            "  starttime           usertype birth_year gender Year  Month\n",
            "  <dttm>              <chr>         <dbl>  <dbl> <chr> <chr>\n",
            "1 2019-05-25 23:29:33 Customer       1969      0 2019  05   \n",
            "2 2019-05-26 21:27:21 Customer       1969      0 2019  05   \n",
            "3 2019-05-26 23:49:43 Customer       1969      0 2019  05   \n",
            "4 2019-05-27 00:00:47 Customer       1996      1 2019  05   \n",
            "5 2019-05-27 00:13:13 Customer       1969      0 2019  05   \n",
            "6 2019-05-27 00:47:54 Customer       1969      0 2019  05   \n"
          ]
        }
      ]
    },
    {
      "cell_type": "markdown",
      "metadata": {
        "id": "qRko1Pbsxs7J"
      },
      "source": [
        "## Getting the Necessary Counts"
      ]
    },
    {
      "cell_type": "markdown",
      "metadata": {
        "id": "VHKOurtI6SGk"
      },
      "source": [
        "The following sequnce of R commands will compute a count for each summer holiday for each of the three years.  Make note of the bracketing, i.e. (), which is anologous to the bracketing used in the BASH code above. "
      ]
    },
    {
      "cell_type": "code",
      "metadata": {
        "colab": {
          "base_uri": "https://localhost:8080/"
        },
        "id": "F1DRVj7cxtC2",
        "outputId": "9d268016-5aea-4918-e889-a56f1665c85d"
      },
      "source": [
        "%%R\n",
        "\n",
        "( NYC_Holidays_2019and2020_CitiBikeRentals\n",
        "  %>% group_by(Year, Month)\n",
        "  %>% summarise(Count = n())\n",
        ") -> NYC_Holidays_2019and2020_CitiBikeRentals_Counts"
      ],
      "execution_count": 77,
      "outputs": [
        {
          "output_type": "stream",
          "name": "stdout",
          "text": [
            "`summarise()` has grouped output by 'Year'. You can override using the `.groups` argument.\n"
          ]
        }
      ]
    },
    {
      "cell_type": "markdown",
      "metadata": {
        "id": "faxexpJa7G59"
      },
      "source": [
        "Taking a look at the contents of the resulting data.frame from the sequence of dplyr commands above."
      ]
    },
    {
      "cell_type": "code",
      "metadata": {
        "colab": {
          "base_uri": "https://localhost:8080/"
        },
        "id": "p71HiiCHyldA",
        "outputId": "f9c56362-d5ba-4721-d473-6b7e3d2cdf29"
      },
      "source": [
        "%%R\n",
        "NYC_Holidays_2019and2020_CitiBikeRentals_Counts"
      ],
      "execution_count": 78,
      "outputs": [
        {
          "output_type": "stream",
          "name": "stdout",
          "text": [
            "# A tibble: 6 × 3\n",
            "# Groups:   Year [2]\n",
            "  Year  Month Count\n",
            "  <chr> <chr> <int>\n",
            "1 2019  05     3236\n",
            "2 2019  07     2220\n",
            "3 2019  09      970\n",
            "4 2020  05     2472\n",
            "5 2020  07     2104\n",
            "6 2020  09     2562\n"
          ]
        }
      ]
    },
    {
      "cell_type": "code",
      "source": [
        "%%R\n",
        "str(NYC_Holidays_2019and2020_CitiBikeRentals_Counts)"
      ],
      "metadata": {
        "colab": {
          "base_uri": "https://localhost:8080/"
        },
        "id": "e7q4HhaZBeGV",
        "outputId": "dc62bdb1-ab07-4f6e-dadb-6bbf9421cd1a"
      },
      "execution_count": 80,
      "outputs": [
        {
          "output_type": "stream",
          "name": "stdout",
          "text": [
            "grouped_df [6 × 3] (S3: grouped_df/tbl_df/tbl/data.frame)\n",
            " $ Year : chr [1:6] \"2019\" \"2019\" \"2019\" \"2020\" ...\n",
            " $ Month: chr [1:6] \"05\" \"07\" \"09\" \"05\" ...\n",
            " $ Count: int [1:6] 3236 2220 970 2472 2104 2562\n",
            " - attr(*, \"groups\")= tibble [2 × 2] (S3: tbl_df/tbl/data.frame)\n",
            "  ..$ Year : chr [1:2] \"2019\" \"2020\"\n",
            "  ..$ .rows: list<int> [1:2] \n",
            "  .. ..$ : int [1:3] 1 2 3\n",
            "  .. ..$ : int [1:3] 4 5 6\n",
            "  .. ..@ ptype: int(0) \n",
            "  ..- attr(*, \".drop\")= logi TRUE\n"
          ]
        }
      ]
    },
    {
      "cell_type": "markdown",
      "source": [
        "\n",
        "\n",
        "---\n",
        "\n",
        "\n",
        "\n",
        "---\n",
        "\n"
      ],
      "metadata": {
        "id": "zDYXIkNB-BfF"
      }
    },
    {
      "cell_type": "markdown",
      "source": [
        "Code for 2021 Holidays"
      ],
      "metadata": {
        "id": "ylWImbms-J5l"
      }
    },
    {
      "cell_type": "code",
      "source": [
        ""
      ],
      "metadata": {
        "id": "pV9VOE5qBH0v"
      },
      "execution_count": null,
      "outputs": []
    },
    {
      "cell_type": "code",
      "source": [
        ""
      ],
      "metadata": {
        "id": "5-46BV-rDF7j"
      },
      "execution_count": null,
      "outputs": []
    },
    {
      "cell_type": "code",
      "source": [
        ""
      ],
      "metadata": {
        "id": "K3Sd66SoDGBl"
      },
      "execution_count": null,
      "outputs": []
    },
    {
      "cell_type": "markdown",
      "source": [
        "\n",
        "\n",
        "---\n",
        "\n",
        "\n",
        "\n",
        "---\n",
        "\n"
      ],
      "metadata": {
        "id": "_js2313rBGEN"
      }
    },
    {
      "cell_type": "markdown",
      "source": [
        "<table width='100%'><tr><td bgcolor=\"orange\" ><font size=\"+2\">Aside: Putting Together Two Data.Frames in R</font></td></td></table>"
      ],
      "metadata": {
        "id": "-dasiYYYDVPw"
      }
    },
    {
      "cell_type": "markdown",
      "source": [
        "The following snip-if of code will allow you to bind rows together from two differnt data.frames.  The field names from both data.frames should match."
      ],
      "metadata": {
        "id": "qCXmgHv_BEro"
      }
    },
    {
      "cell_type": "code",
      "source": [
        "%%R\n",
        "# Load the dplyr package as bind_rows() function is included in dplyr\n",
        " library(dplyr)\n",
        "\n",
        "# Create two data.frames\n",
        " Data1 <- data.frame(Col1 = c(\"A\",\"A\"), Col2=c(\"Y\",\"Z\"), Col3=c(100,101))\n",
        " print(Data1)\n",
        "\n",
        " Data2 <- data.frame(Col1 = c(\"B\",\"B\"), Col2=c(\"Y\",\"Z\"), Col3=c(200,201))\n",
        " print(Data2)\n",
        "\n",
        "# Using bind_rows() to put together the data.frames\n",
        " Data12 <- bind_rows(Data1,Data2)\n",
        " print(Data12)"
      ],
      "metadata": {
        "colab": {
          "base_uri": "https://localhost:8080/"
        },
        "id": "vE7N4ZTvCPln",
        "outputId": "d09b54e2-f0c0-45dc-ac53-443d90ecc351"
      },
      "execution_count": 96,
      "outputs": [
        {
          "output_type": "stream",
          "name": "stdout",
          "text": [
            "  Col1 Col2 Col3\n",
            "1    A    Y  100\n",
            "2    A    Z  101\n",
            "  Col1 Col2 Col3\n",
            "1    B    Y  200\n",
            "2    B    Z  201\n",
            "  Col1 Col2 Col3\n",
            "1    A    Y  100\n",
            "2    A    Z  101\n",
            "3    B    Y  200\n",
            "4    B    Z  201\n"
          ]
        }
      ]
    },
    {
      "cell_type": "markdown",
      "source": [
        "<table width='100%'><tr><td bgcolor=\"orange\" ><font size=\"+2\">&nbsp;</font></td></td></table>"
      ],
      "metadata": {
        "id": "vpskB8UKDnvJ"
      }
    }
  ]
}