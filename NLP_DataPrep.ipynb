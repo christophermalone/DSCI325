{
  "nbformat": 4,
  "nbformat_minor": 0,
  "metadata": {
    "colab": {
      "name": "NLP_DataPrep.ipynb",
      "provenance": [],
      "authorship_tag": "ABX9TyON0RfQQW7YmmU+6v64LRWY",
      "include_colab_link": true
    },
    "kernelspec": {
      "name": "python3",
      "display_name": "Python 3"
    },
    "language_info": {
      "name": "python"
    }
  },
  "cells": [
    {
      "cell_type": "markdown",
      "metadata": {
        "id": "view-in-github",
        "colab_type": "text"
      },
      "source": [
        "<a href=\"https://colab.research.google.com/github/christophermalone/DSCI325/blob/main/NLP_DataPrep.ipynb\" target=\"_parent\"><img src=\"https://colab.research.google.com/assets/colab-badge.svg\" alt=\"Open In Colab\"/></a>"
      ]
    },
    {
      "cell_type": "markdown",
      "metadata": {
        "id": "5CqQN9Jsz41f"
      },
      "source": [
        "# NLP - Data Prep"
      ]
    },
    {
      "cell_type": "code",
      "metadata": {
        "colab": {
          "base_uri": "https://localhost:8080/",
          "height": 206
        },
        "id": "40RxjsEzz5ag",
        "outputId": "07345ace-4794-4773-f6db-ba36a4eee86e"
      },
      "source": [
        "# install and import pandas library\n",
        "import pandas as pd\n",
        "\n",
        "# Creating a pandas dataframe from reviews.txt file\n",
        "#Reviews = pd.read_csv('/content/sample_data/AmazonReviews_Good_Final.csv', sep=',')\n",
        "Reviews = pd.read_csv('/content/sample_data/AmazonReviews_Poor_Final.csv', sep=',')\n",
        "Reviews.head()"
      ],
      "execution_count": 25,
      "outputs": [
        {
          "output_type": "execute_result",
          "data": {
            "text/html": [
              "<div>\n",
              "<style scoped>\n",
              "    .dataframe tbody tr th:only-of-type {\n",
              "        vertical-align: middle;\n",
              "    }\n",
              "\n",
              "    .dataframe tbody tr th {\n",
              "        vertical-align: top;\n",
              "    }\n",
              "\n",
              "    .dataframe thead th {\n",
              "        text-align: right;\n",
              "    }\n",
              "</style>\n",
              "<table border=\"1\" class=\"dataframe\">\n",
              "  <thead>\n",
              "    <tr style=\"text-align: right;\">\n",
              "      <th></th>\n",
              "      <th>id</th>\n",
              "      <th>profileName</th>\n",
              "      <th>date</th>\n",
              "      <th>review</th>\n",
              "      <th>rating</th>\n",
              "      <th>helpful</th>\n",
              "    </tr>\n",
              "  </thead>\n",
              "  <tbody>\n",
              "    <tr>\n",
              "      <th>0</th>\n",
              "      <td>R3MZRW67QAA2ZG</td>\n",
              "      <td>Get-a-long Gang</td>\n",
              "      <td>Reviewed in the United States on May 9, 2018</td>\n",
              "      <td>it’s sprays green however it’s green liquid no...</td>\n",
              "      <td>1</td>\n",
              "      <td>609</td>\n",
              "    </tr>\n",
              "    <tr>\n",
              "      <th>1</th>\n",
              "      <td>R21KMZ4ZOZHSSA</td>\n",
              "      <td>Vincent G. Baker</td>\n",
              "      <td>Reviewed in the United States on April 30, 2016</td>\n",
              "      <td>Complete waste of time and money</td>\n",
              "      <td>1</td>\n",
              "      <td>1</td>\n",
              "    </tr>\n",
              "    <tr>\n",
              "      <th>2</th>\n",
              "      <td>R1GYHC9PRPS419</td>\n",
              "      <td>Kenny</td>\n",
              "      <td>Reviewed in the United States on July 24, 2016</td>\n",
              "      <td>Garbage. Do not buy! Doesn't work and complete...</td>\n",
              "      <td>1</td>\n",
              "      <td>816</td>\n",
              "    </tr>\n",
              "    <tr>\n",
              "      <th>3</th>\n",
              "      <td>RM6O1US7MGXUC</td>\n",
              "      <td>Amazon Customer</td>\n",
              "      <td>Reviewed in the United States on May 30, 2017</td>\n",
              "      <td>One Star</td>\n",
              "      <td>1</td>\n",
              "      <td>469</td>\n",
              "    </tr>\n",
              "    <tr>\n",
              "      <th>4</th>\n",
              "      <td>R2WYXNIEZHZN9</td>\n",
              "      <td>Harold</td>\n",
              "      <td>Reviewed in the United States on May 28, 2018</td>\n",
              "      <td>Waste of money, The commercial is false advert...</td>\n",
              "      <td>1</td>\n",
              "      <td>323</td>\n",
              "    </tr>\n",
              "  </tbody>\n",
              "</table>\n",
              "</div>"
            ],
            "text/plain": [
              "               id       profileName  ... rating helpful\n",
              "0  R3MZRW67QAA2ZG   Get-a-long Gang  ...      1     609\n",
              "1  R21KMZ4ZOZHSSA  Vincent G. Baker  ...      1       1\n",
              "2  R1GYHC9PRPS419             Kenny  ...      1     816\n",
              "3   RM6O1US7MGXUC   Amazon Customer  ...      1     469\n",
              "4   R2WYXNIEZHZN9            Harold  ...      1     323\n",
              "\n",
              "[5 rows x 6 columns]"
            ]
          },
          "metadata": {},
          "execution_count": 25
        }
      ]
    },
    {
      "cell_type": "markdown",
      "metadata": {
        "id": "AA8YJ-cV0mvZ"
      },
      "source": [
        "Getting rid of all non-alphabetic characters"
      ]
    },
    {
      "cell_type": "code",
      "metadata": {
        "colab": {
          "base_uri": "https://localhost:8080/",
          "height": 293
        },
        "id": "3g7uMWnS0m33",
        "outputId": "bf15f831-13aa-4018-ffb9-bce3ba269dea"
      },
      "source": [
        "import re\n",
        "\n",
        "# Define a function to clean the text\n",
        "def clean(text):\n",
        "    # Removes all special characters and numericals leaving the alphabets\n",
        "    text = re.sub('[^A-Za-z]+', ' ', str(text)) \n",
        "    return text\n",
        "\n",
        "# Cleaning the text in the review column\n",
        "Reviews['CleanedReviews'] = Reviews['review'].apply(clean)\n",
        "Reviews.head()"
      ],
      "execution_count": 26,
      "outputs": [
        {
          "output_type": "execute_result",
          "data": {
            "text/html": [
              "<div>\n",
              "<style scoped>\n",
              "    .dataframe tbody tr th:only-of-type {\n",
              "        vertical-align: middle;\n",
              "    }\n",
              "\n",
              "    .dataframe tbody tr th {\n",
              "        vertical-align: top;\n",
              "    }\n",
              "\n",
              "    .dataframe thead th {\n",
              "        text-align: right;\n",
              "    }\n",
              "</style>\n",
              "<table border=\"1\" class=\"dataframe\">\n",
              "  <thead>\n",
              "    <tr style=\"text-align: right;\">\n",
              "      <th></th>\n",
              "      <th>id</th>\n",
              "      <th>profileName</th>\n",
              "      <th>date</th>\n",
              "      <th>review</th>\n",
              "      <th>rating</th>\n",
              "      <th>helpful</th>\n",
              "      <th>CleanedReviews</th>\n",
              "    </tr>\n",
              "  </thead>\n",
              "  <tbody>\n",
              "    <tr>\n",
              "      <th>0</th>\n",
              "      <td>R3MZRW67QAA2ZG</td>\n",
              "      <td>Get-a-long Gang</td>\n",
              "      <td>Reviewed in the United States on May 9, 2018</td>\n",
              "      <td>it’s sprays green however it’s green liquid no...</td>\n",
              "      <td>1</td>\n",
              "      <td>609</td>\n",
              "      <td>it s sprays green however it s green liquid no...</td>\n",
              "    </tr>\n",
              "    <tr>\n",
              "      <th>1</th>\n",
              "      <td>R21KMZ4ZOZHSSA</td>\n",
              "      <td>Vincent G. Baker</td>\n",
              "      <td>Reviewed in the United States on April 30, 2016</td>\n",
              "      <td>Complete waste of time and money</td>\n",
              "      <td>1</td>\n",
              "      <td>1</td>\n",
              "      <td>Complete waste of time and money</td>\n",
              "    </tr>\n",
              "    <tr>\n",
              "      <th>2</th>\n",
              "      <td>R1GYHC9PRPS419</td>\n",
              "      <td>Kenny</td>\n",
              "      <td>Reviewed in the United States on July 24, 2016</td>\n",
              "      <td>Garbage. Do not buy! Doesn't work and complete...</td>\n",
              "      <td>1</td>\n",
              "      <td>816</td>\n",
              "      <td>Garbage Do not buy Doesn t work and completely...</td>\n",
              "    </tr>\n",
              "    <tr>\n",
              "      <th>3</th>\n",
              "      <td>RM6O1US7MGXUC</td>\n",
              "      <td>Amazon Customer</td>\n",
              "      <td>Reviewed in the United States on May 30, 2017</td>\n",
              "      <td>One Star</td>\n",
              "      <td>1</td>\n",
              "      <td>469</td>\n",
              "      <td>One Star</td>\n",
              "    </tr>\n",
              "    <tr>\n",
              "      <th>4</th>\n",
              "      <td>R2WYXNIEZHZN9</td>\n",
              "      <td>Harold</td>\n",
              "      <td>Reviewed in the United States on May 28, 2018</td>\n",
              "      <td>Waste of money, The commercial is false advert...</td>\n",
              "      <td>1</td>\n",
              "      <td>323</td>\n",
              "      <td>Waste of money The commercial is false adverti...</td>\n",
              "    </tr>\n",
              "  </tbody>\n",
              "</table>\n",
              "</div>"
            ],
            "text/plain": [
              "               id  ...                                     CleanedReviews\n",
              "0  R3MZRW67QAA2ZG  ...  it s sprays green however it s green liquid no...\n",
              "1  R21KMZ4ZOZHSSA  ...                   Complete waste of time and money\n",
              "2  R1GYHC9PRPS419  ...  Garbage Do not buy Doesn t work and completely...\n",
              "3   RM6O1US7MGXUC  ...                                           One Star\n",
              "4   R2WYXNIEZHZN9  ...  Waste of money The commercial is false adverti...\n",
              "\n",
              "[5 rows x 7 columns]"
            ]
          },
          "metadata": {},
          "execution_count": 26
        }
      ]
    },
    {
      "cell_type": "markdown",
      "metadata": {
        "id": "gpGyoLq71Kpo"
      },
      "source": [
        " Tokenization, POS tagging, stopwords removal"
      ]
    },
    {
      "cell_type": "code",
      "metadata": {
        "colab": {
          "base_uri": "https://localhost:8080/",
          "height": 559
        },
        "id": "-9z2ySSk1Jy7",
        "outputId": "6bae19f1-6dd6-4126-aea5-800bdb9472f8"
      },
      "source": [
        "import nltk\n",
        "nltk.download('punkt')\n",
        "from nltk.tokenize import word_tokenize\n",
        "from nltk import pos_tag\n",
        "nltk.download('stopwords')\n",
        "from nltk.corpus import stopwords\n",
        "nltk.download('wordnet')\n",
        "from nltk.corpus import wordnet\n",
        "\n",
        "nltk.download('averaged_perceptron_tagger')\n",
        "\n",
        "# POS tagger dictionary\n",
        "pos_dict = {'J':wordnet.ADJ, 'V':wordnet.VERB, 'N':wordnet.NOUN, 'R':wordnet.ADV}\n",
        "\n",
        "def token_stop_pos(text):\n",
        "    tags = pos_tag(word_tokenize(text))\n",
        "    newlist = []\n",
        "    for word, tag in tags:\n",
        "        if word.lower() not in set(stopwords.words('english')):\n",
        "            newlist.append(tuple([word, pos_dict.get(tag[0])]))\n",
        "    return newlist\n",
        "\n",
        "Reviews['POS_Tagged'] = Reviews['CleanedReviews'].apply(token_stop_pos)\n",
        "Reviews.head()"
      ],
      "execution_count": 27,
      "outputs": [
        {
          "output_type": "stream",
          "name": "stdout",
          "text": [
            "[nltk_data] Downloading package punkt to /root/nltk_data...\n",
            "[nltk_data]   Package punkt is already up-to-date!\n",
            "[nltk_data] Downloading package stopwords to /root/nltk_data...\n",
            "[nltk_data]   Package stopwords is already up-to-date!\n",
            "[nltk_data] Downloading package wordnet to /root/nltk_data...\n",
            "[nltk_data]   Package wordnet is already up-to-date!\n",
            "[nltk_data] Downloading package averaged_perceptron_tagger to\n",
            "[nltk_data]     /root/nltk_data...\n",
            "[nltk_data]   Package averaged_perceptron_tagger is already up-to-\n",
            "[nltk_data]       date!\n"
          ]
        },
        {
          "output_type": "execute_result",
          "data": {
            "text/html": [
              "<div>\n",
              "<style scoped>\n",
              "    .dataframe tbody tr th:only-of-type {\n",
              "        vertical-align: middle;\n",
              "    }\n",
              "\n",
              "    .dataframe tbody tr th {\n",
              "        vertical-align: top;\n",
              "    }\n",
              "\n",
              "    .dataframe thead th {\n",
              "        text-align: right;\n",
              "    }\n",
              "</style>\n",
              "<table border=\"1\" class=\"dataframe\">\n",
              "  <thead>\n",
              "    <tr style=\"text-align: right;\">\n",
              "      <th></th>\n",
              "      <th>id</th>\n",
              "      <th>profileName</th>\n",
              "      <th>date</th>\n",
              "      <th>review</th>\n",
              "      <th>rating</th>\n",
              "      <th>helpful</th>\n",
              "      <th>CleanedReviews</th>\n",
              "      <th>POS_Tagged</th>\n",
              "    </tr>\n",
              "  </thead>\n",
              "  <tbody>\n",
              "    <tr>\n",
              "      <th>0</th>\n",
              "      <td>R3MZRW67QAA2ZG</td>\n",
              "      <td>Get-a-long Gang</td>\n",
              "      <td>Reviewed in the United States on May 9, 2018</td>\n",
              "      <td>it’s sprays green however it’s green liquid no...</td>\n",
              "      <td>1</td>\n",
              "      <td>609</td>\n",
              "      <td>it s sprays green however it s green liquid no...</td>\n",
              "      <td>[(sprays, n), (green, a), (however, r), (green...</td>\n",
              "    </tr>\n",
              "    <tr>\n",
              "      <th>1</th>\n",
              "      <td>R21KMZ4ZOZHSSA</td>\n",
              "      <td>Vincent G. Baker</td>\n",
              "      <td>Reviewed in the United States on April 30, 2016</td>\n",
              "      <td>Complete waste of time and money</td>\n",
              "      <td>1</td>\n",
              "      <td>1</td>\n",
              "      <td>Complete waste of time and money</td>\n",
              "      <td>[(Complete, a), (waste, n), (time, n), (money,...</td>\n",
              "    </tr>\n",
              "    <tr>\n",
              "      <th>2</th>\n",
              "      <td>R1GYHC9PRPS419</td>\n",
              "      <td>Kenny</td>\n",
              "      <td>Reviewed in the United States on July 24, 2016</td>\n",
              "      <td>Garbage. Do not buy! Doesn't work and complete...</td>\n",
              "      <td>1</td>\n",
              "      <td>816</td>\n",
              "      <td>Garbage Do not buy Doesn t work and completely...</td>\n",
              "      <td>[(Garbage, n), (buy, v), (work, n), (completel...</td>\n",
              "    </tr>\n",
              "    <tr>\n",
              "      <th>3</th>\n",
              "      <td>RM6O1US7MGXUC</td>\n",
              "      <td>Amazon Customer</td>\n",
              "      <td>Reviewed in the United States on May 30, 2017</td>\n",
              "      <td>One Star</td>\n",
              "      <td>1</td>\n",
              "      <td>469</td>\n",
              "      <td>One Star</td>\n",
              "      <td>[(One, None), (Star, n)]</td>\n",
              "    </tr>\n",
              "    <tr>\n",
              "      <th>4</th>\n",
              "      <td>R2WYXNIEZHZN9</td>\n",
              "      <td>Harold</td>\n",
              "      <td>Reviewed in the United States on May 28, 2018</td>\n",
              "      <td>Waste of money, The commercial is false advert...</td>\n",
              "      <td>1</td>\n",
              "      <td>323</td>\n",
              "      <td>Waste of money The commercial is false adverti...</td>\n",
              "      <td>[(Waste, n), (money, n), (commercial, n), (fal...</td>\n",
              "    </tr>\n",
              "  </tbody>\n",
              "</table>\n",
              "</div>"
            ],
            "text/plain": [
              "               id  ...                                         POS_Tagged\n",
              "0  R3MZRW67QAA2ZG  ...  [(sprays, n), (green, a), (however, r), (green...\n",
              "1  R21KMZ4ZOZHSSA  ...  [(Complete, a), (waste, n), (time, n), (money,...\n",
              "2  R1GYHC9PRPS419  ...  [(Garbage, n), (buy, v), (work, n), (completel...\n",
              "3   RM6O1US7MGXUC  ...                           [(One, None), (Star, n)]\n",
              "4   R2WYXNIEZHZN9  ...  [(Waste, n), (money, n), (commercial, n), (fal...\n",
              "\n",
              "[5 rows x 8 columns]"
            ]
          },
          "metadata": {},
          "execution_count": 27
        }
      ]
    },
    {
      "cell_type": "markdown",
      "metadata": {
        "id": "z23nVI4z2vfy"
      },
      "source": [
        ""
      ]
    },
    {
      "cell_type": "code",
      "metadata": {
        "colab": {
          "base_uri": "https://localhost:8080/",
          "height": 414
        },
        "id": "Q5OL62iY2vnI",
        "outputId": "da608525-09b7-499d-8479-e0446a5f8759"
      },
      "source": [
        "from nltk.stem import WordNetLemmatizer\n",
        "wordnet_lemmatizer = WordNetLemmatizer()\n",
        "\n",
        "def lemmatize(pos_data):\n",
        "    lemma_rew = \" \"\n",
        "    for word, pos in pos_data:\n",
        "        if not pos: \n",
        "            lemma = word\n",
        "            lemma_rew = lemma_rew + \" \" + lemma\n",
        "        else:  \n",
        "            lemma = wordnet_lemmatizer.lemmatize(word, pos=pos)\n",
        "            lemma_rew = lemma_rew + \" \" + lemma\n",
        "    return lemma_rew\n",
        "    \n",
        "Reviews['Lemma'] = Reviews['POS_Tagged'].apply(lemmatize)\n",
        "Reviews.head()"
      ],
      "execution_count": 28,
      "outputs": [
        {
          "output_type": "execute_result",
          "data": {
            "text/html": [
              "<div>\n",
              "<style scoped>\n",
              "    .dataframe tbody tr th:only-of-type {\n",
              "        vertical-align: middle;\n",
              "    }\n",
              "\n",
              "    .dataframe tbody tr th {\n",
              "        vertical-align: top;\n",
              "    }\n",
              "\n",
              "    .dataframe thead th {\n",
              "        text-align: right;\n",
              "    }\n",
              "</style>\n",
              "<table border=\"1\" class=\"dataframe\">\n",
              "  <thead>\n",
              "    <tr style=\"text-align: right;\">\n",
              "      <th></th>\n",
              "      <th>id</th>\n",
              "      <th>profileName</th>\n",
              "      <th>date</th>\n",
              "      <th>review</th>\n",
              "      <th>rating</th>\n",
              "      <th>helpful</th>\n",
              "      <th>CleanedReviews</th>\n",
              "      <th>POS_Tagged</th>\n",
              "      <th>Lemma</th>\n",
              "    </tr>\n",
              "  </thead>\n",
              "  <tbody>\n",
              "    <tr>\n",
              "      <th>0</th>\n",
              "      <td>R3MZRW67QAA2ZG</td>\n",
              "      <td>Get-a-long Gang</td>\n",
              "      <td>Reviewed in the United States on May 9, 2018</td>\n",
              "      <td>it’s sprays green however it’s green liquid no...</td>\n",
              "      <td>1</td>\n",
              "      <td>609</td>\n",
              "      <td>it s sprays green however it s green liquid no...</td>\n",
              "      <td>[(sprays, n), (green, a), (however, r), (green...</td>\n",
              "      <td>spray green however green liquid foam Mousse...</td>\n",
              "    </tr>\n",
              "    <tr>\n",
              "      <th>1</th>\n",
              "      <td>R21KMZ4ZOZHSSA</td>\n",
              "      <td>Vincent G. Baker</td>\n",
              "      <td>Reviewed in the United States on April 30, 2016</td>\n",
              "      <td>Complete waste of time and money</td>\n",
              "      <td>1</td>\n",
              "      <td>1</td>\n",
              "      <td>Complete waste of time and money</td>\n",
              "      <td>[(Complete, a), (waste, n), (time, n), (money,...</td>\n",
              "      <td>Complete waste time money</td>\n",
              "    </tr>\n",
              "    <tr>\n",
              "      <th>2</th>\n",
              "      <td>R1GYHC9PRPS419</td>\n",
              "      <td>Kenny</td>\n",
              "      <td>Reviewed in the United States on July 24, 2016</td>\n",
              "      <td>Garbage. Do not buy! Doesn't work and complete...</td>\n",
              "      <td>1</td>\n",
              "      <td>816</td>\n",
              "      <td>Garbage Do not buy Doesn t work and completely...</td>\n",
              "      <td>[(Garbage, n), (buy, v), (work, n), (completel...</td>\n",
              "      <td>Garbage buy work completely break apart st use</td>\n",
              "    </tr>\n",
              "    <tr>\n",
              "      <th>3</th>\n",
              "      <td>RM6O1US7MGXUC</td>\n",
              "      <td>Amazon Customer</td>\n",
              "      <td>Reviewed in the United States on May 30, 2017</td>\n",
              "      <td>One Star</td>\n",
              "      <td>1</td>\n",
              "      <td>469</td>\n",
              "      <td>One Star</td>\n",
              "      <td>[(One, None), (Star, n)]</td>\n",
              "      <td>One Star</td>\n",
              "    </tr>\n",
              "    <tr>\n",
              "      <th>4</th>\n",
              "      <td>R2WYXNIEZHZN9</td>\n",
              "      <td>Harold</td>\n",
              "      <td>Reviewed in the United States on May 28, 2018</td>\n",
              "      <td>Waste of money, The commercial is false advert...</td>\n",
              "      <td>1</td>\n",
              "      <td>323</td>\n",
              "      <td>Waste of money The commercial is false adverti...</td>\n",
              "      <td>[(Waste, n), (money, n), (commercial, n), (fal...</td>\n",
              "      <td>Waste money commercial false advertising opi...</td>\n",
              "    </tr>\n",
              "  </tbody>\n",
              "</table>\n",
              "</div>"
            ],
            "text/plain": [
              "               id  ...                                              Lemma\n",
              "0  R3MZRW67QAA2ZG  ...    spray green however green liquid foam Mousse...\n",
              "1  R21KMZ4ZOZHSSA  ...                          Complete waste time money\n",
              "2  R1GYHC9PRPS419  ...     Garbage buy work completely break apart st use\n",
              "3   RM6O1US7MGXUC  ...                                           One Star\n",
              "4   R2WYXNIEZHZN9  ...    Waste money commercial false advertising opi...\n",
              "\n",
              "[5 rows x 9 columns]"
            ]
          },
          "metadata": {},
          "execution_count": 28
        }
      ]
    },
    {
      "cell_type": "markdown",
      "metadata": {
        "id": "oRgB8kEM3Ruj"
      },
      "source": [
        "## Sentiment via TextBlob"
      ]
    },
    {
      "cell_type": "code",
      "metadata": {
        "id": "vYNpuIG_3Vgx"
      },
      "source": [
        "from textblob import TextBlob\n",
        "\n",
        "# function to calculate subjectivity \n",
        "def getSubjectivity(review):\n",
        "    return TextBlob(review).sentiment.subjectivity\n",
        "\n",
        "# function to calculate polarity\n",
        "def getPolarity(review):\n",
        "    return TextBlob(review).sentiment.polarity\n",
        "\n",
        "# function to analyze the reviews\n",
        "def analysis(score):\n",
        "    if score < 0:\n",
        "        return 'Negative'\n",
        "    elif score == 0:\n",
        "        return 'Neutral'\n",
        "    else:\n",
        "        return 'Positive'"
      ],
      "execution_count": 29,
      "outputs": []
    },
    {
      "cell_type": "markdown",
      "metadata": {
        "id": "ZaI6r_vv3aGp"
      },
      "source": [
        ""
      ]
    },
    {
      "cell_type": "code",
      "metadata": {
        "id": "EL6x55z83aqK"
      },
      "source": [
        "fin_data = pd.DataFrame(Reviews[['id', 'review', 'helpful', 'Lemma']])"
      ],
      "execution_count": 38,
      "outputs": []
    },
    {
      "cell_type": "markdown",
      "metadata": {
        "id": "CO-gIYjk3lIJ"
      },
      "source": [
        ""
      ]
    },
    {
      "cell_type": "code",
      "metadata": {
        "colab": {
          "base_uri": "https://localhost:8080/",
          "height": 206
        },
        "id": "S3ilqE_23lQ5",
        "outputId": "82965c84-2a80-4211-8ba2-ab8588e04c78"
      },
      "source": [
        "# fin_data['Subjectivity'] = fin_data['Lemma'].apply(getSubjectivity) \n",
        "fin_data['Polarity'] = fin_data['Lemma'].apply(getPolarity) \n",
        "fin_data['Analysis'] = fin_data['Polarity'].apply(analysis)\n",
        "fin_data.head()"
      ],
      "execution_count": 39,
      "outputs": [
        {
          "output_type": "execute_result",
          "data": {
            "text/html": [
              "<div>\n",
              "<style scoped>\n",
              "    .dataframe tbody tr th:only-of-type {\n",
              "        vertical-align: middle;\n",
              "    }\n",
              "\n",
              "    .dataframe tbody tr th {\n",
              "        vertical-align: top;\n",
              "    }\n",
              "\n",
              "    .dataframe thead th {\n",
              "        text-align: right;\n",
              "    }\n",
              "</style>\n",
              "<table border=\"1\" class=\"dataframe\">\n",
              "  <thead>\n",
              "    <tr style=\"text-align: right;\">\n",
              "      <th></th>\n",
              "      <th>id</th>\n",
              "      <th>review</th>\n",
              "      <th>helpful</th>\n",
              "      <th>Lemma</th>\n",
              "      <th>Polarity</th>\n",
              "      <th>Analysis</th>\n",
              "    </tr>\n",
              "  </thead>\n",
              "  <tbody>\n",
              "    <tr>\n",
              "      <th>0</th>\n",
              "      <td>R3MZRW67QAA2ZG</td>\n",
              "      <td>it’s sprays green however it’s green liquid no...</td>\n",
              "      <td>609</td>\n",
              "      <td>spray green however green liquid foam Mousse...</td>\n",
              "      <td>-0.1625</td>\n",
              "      <td>Negative</td>\n",
              "    </tr>\n",
              "    <tr>\n",
              "      <th>1</th>\n",
              "      <td>R21KMZ4ZOZHSSA</td>\n",
              "      <td>Complete waste of time and money</td>\n",
              "      <td>1</td>\n",
              "      <td>Complete waste time money</td>\n",
              "      <td>-0.0500</td>\n",
              "      <td>Negative</td>\n",
              "    </tr>\n",
              "    <tr>\n",
              "      <th>2</th>\n",
              "      <td>R1GYHC9PRPS419</td>\n",
              "      <td>Garbage. Do not buy! Doesn't work and complete...</td>\n",
              "      <td>816</td>\n",
              "      <td>Garbage buy work completely break apart st use</td>\n",
              "      <td>0.1000</td>\n",
              "      <td>Positive</td>\n",
              "    </tr>\n",
              "    <tr>\n",
              "      <th>3</th>\n",
              "      <td>RM6O1US7MGXUC</td>\n",
              "      <td>One Star</td>\n",
              "      <td>469</td>\n",
              "      <td>One Star</td>\n",
              "      <td>0.0000</td>\n",
              "      <td>Neutral</td>\n",
              "    </tr>\n",
              "    <tr>\n",
              "      <th>4</th>\n",
              "      <td>R2WYXNIEZHZN9</td>\n",
              "      <td>Waste of money, The commercial is false advert...</td>\n",
              "      <td>323</td>\n",
              "      <td>Waste money commercial false advertising opi...</td>\n",
              "      <td>-0.2000</td>\n",
              "      <td>Negative</td>\n",
              "    </tr>\n",
              "  </tbody>\n",
              "</table>\n",
              "</div>"
            ],
            "text/plain": [
              "               id  ...  Analysis\n",
              "0  R3MZRW67QAA2ZG  ...  Negative\n",
              "1  R21KMZ4ZOZHSSA  ...  Negative\n",
              "2  R1GYHC9PRPS419  ...  Positive\n",
              "3   RM6O1US7MGXUC  ...   Neutral\n",
              "4   R2WYXNIEZHZN9  ...  Negative\n",
              "\n",
              "[5 rows x 6 columns]"
            ]
          },
          "metadata": {},
          "execution_count": 39
        }
      ]
    },
    {
      "cell_type": "markdown",
      "metadata": {
        "id": "7Y3wkKyZ3wvz"
      },
      "source": [
        ""
      ]
    },
    {
      "cell_type": "code",
      "metadata": {
        "colab": {
          "base_uri": "https://localhost:8080/"
        },
        "id": "0JYYXvMC3w3y",
        "outputId": "b2e64076-906c-40cf-da0e-84e649805e45"
      },
      "source": [
        "tb_counts = fin_data.Analysis.value_counts()\n",
        "tb_counts"
      ],
      "execution_count": 32,
      "outputs": [
        {
          "output_type": "execute_result",
          "data": {
            "text/plain": [
              "Neutral     2070\n",
              "Negative     869\n",
              "Positive     525\n",
              "Name: Analysis, dtype: int64"
            ]
          },
          "metadata": {},
          "execution_count": 32
        }
      ]
    },
    {
      "cell_type": "code",
      "metadata": {
        "id": "nrvGgc7dSio6",
        "outputId": "3a1ad22b-91b2-4169-cdc6-21360a70e2e1",
        "colab": {
          "base_uri": "https://localhost:8080/"
        }
      },
      "source": [
        "pip install dfply"
      ],
      "execution_count": 35,
      "outputs": [
        {
          "output_type": "stream",
          "name": "stdout",
          "text": [
            "Collecting dfply\n",
            "  Downloading dfply-0.3.3-py3-none-any.whl (612 kB)\n",
            "\u001b[?25l\r\u001b[K     |▌                               | 10 kB 23.9 MB/s eta 0:00:01\r\u001b[K     |█                               | 20 kB 25.4 MB/s eta 0:00:01\r\u001b[K     |█▋                              | 30 kB 30.1 MB/s eta 0:00:01\r\u001b[K     |██▏                             | 40 kB 24.6 MB/s eta 0:00:01\r\u001b[K     |██▊                             | 51 kB 9.1 MB/s eta 0:00:01\r\u001b[K     |███▏                            | 61 kB 10.3 MB/s eta 0:00:01\r\u001b[K     |███▊                            | 71 kB 9.0 MB/s eta 0:00:01\r\u001b[K     |████▎                           | 81 kB 9.8 MB/s eta 0:00:01\r\u001b[K     |████▉                           | 92 kB 10.8 MB/s eta 0:00:01\r\u001b[K     |█████▍                          | 102 kB 8.7 MB/s eta 0:00:01\r\u001b[K     |█████▉                          | 112 kB 8.7 MB/s eta 0:00:01\r\u001b[K     |██████▍                         | 122 kB 8.7 MB/s eta 0:00:01\r\u001b[K     |███████                         | 133 kB 8.7 MB/s eta 0:00:01\r\u001b[K     |███████▌                        | 143 kB 8.7 MB/s eta 0:00:01\r\u001b[K     |████████                        | 153 kB 8.7 MB/s eta 0:00:01\r\u001b[K     |████████▋                       | 163 kB 8.7 MB/s eta 0:00:01\r\u001b[K     |█████████                       | 174 kB 8.7 MB/s eta 0:00:01\r\u001b[K     |█████████▋                      | 184 kB 8.7 MB/s eta 0:00:01\r\u001b[K     |██████████▏                     | 194 kB 8.7 MB/s eta 0:00:01\r\u001b[K     |██████████▊                     | 204 kB 8.7 MB/s eta 0:00:01\r\u001b[K     |███████████▎                    | 215 kB 8.7 MB/s eta 0:00:01\r\u001b[K     |███████████▊                    | 225 kB 8.7 MB/s eta 0:00:01\r\u001b[K     |████████████▎                   | 235 kB 8.7 MB/s eta 0:00:01\r\u001b[K     |████████████▉                   | 245 kB 8.7 MB/s eta 0:00:01\r\u001b[K     |█████████████▍                  | 256 kB 8.7 MB/s eta 0:00:01\r\u001b[K     |██████████████                  | 266 kB 8.7 MB/s eta 0:00:01\r\u001b[K     |██████████████▌                 | 276 kB 8.7 MB/s eta 0:00:01\r\u001b[K     |███████████████                 | 286 kB 8.7 MB/s eta 0:00:01\r\u001b[K     |███████████████▌                | 296 kB 8.7 MB/s eta 0:00:01\r\u001b[K     |████████████████                | 307 kB 8.7 MB/s eta 0:00:01\r\u001b[K     |████████████████▋               | 317 kB 8.7 MB/s eta 0:00:01\r\u001b[K     |█████████████████▏              | 327 kB 8.7 MB/s eta 0:00:01\r\u001b[K     |█████████████████▋              | 337 kB 8.7 MB/s eta 0:00:01\r\u001b[K     |██████████████████▏             | 348 kB 8.7 MB/s eta 0:00:01\r\u001b[K     |██████████████████▊             | 358 kB 8.7 MB/s eta 0:00:01\r\u001b[K     |███████████████████▎            | 368 kB 8.7 MB/s eta 0:00:01\r\u001b[K     |███████████████████▉            | 378 kB 8.7 MB/s eta 0:00:01\r\u001b[K     |████████████████████▎           | 389 kB 8.7 MB/s eta 0:00:01\r\u001b[K     |████████████████████▉           | 399 kB 8.7 MB/s eta 0:00:01\r\u001b[K     |█████████████████████▍          | 409 kB 8.7 MB/s eta 0:00:01\r\u001b[K     |██████████████████████          | 419 kB 8.7 MB/s eta 0:00:01\r\u001b[K     |██████████████████████▌         | 430 kB 8.7 MB/s eta 0:00:01\r\u001b[K     |███████████████████████         | 440 kB 8.7 MB/s eta 0:00:01\r\u001b[K     |███████████████████████▌        | 450 kB 8.7 MB/s eta 0:00:01\r\u001b[K     |████████████████████████        | 460 kB 8.7 MB/s eta 0:00:01\r\u001b[K     |████████████████████████▋       | 471 kB 8.7 MB/s eta 0:00:01\r\u001b[K     |█████████████████████████▏      | 481 kB 8.7 MB/s eta 0:00:01\r\u001b[K     |█████████████████████████▊      | 491 kB 8.7 MB/s eta 0:00:01\r\u001b[K     |██████████████████████████▏     | 501 kB 8.7 MB/s eta 0:00:01\r\u001b[K     |██████████████████████████▊     | 512 kB 8.7 MB/s eta 0:00:01\r\u001b[K     |███████████████████████████▎    | 522 kB 8.7 MB/s eta 0:00:01\r\u001b[K     |███████████████████████████▉    | 532 kB 8.7 MB/s eta 0:00:01\r\u001b[K     |████████████████████████████▍   | 542 kB 8.7 MB/s eta 0:00:01\r\u001b[K     |█████████████████████████████   | 552 kB 8.7 MB/s eta 0:00:01\r\u001b[K     |█████████████████████████████▍  | 563 kB 8.7 MB/s eta 0:00:01\r\u001b[K     |██████████████████████████████  | 573 kB 8.7 MB/s eta 0:00:01\r\u001b[K     |██████████████████████████████▌ | 583 kB 8.7 MB/s eta 0:00:01\r\u001b[K     |███████████████████████████████ | 593 kB 8.7 MB/s eta 0:00:01\r\u001b[K     |███████████████████████████████▋| 604 kB 8.7 MB/s eta 0:00:01\r\u001b[K     |████████████████████████████████| 612 kB 8.7 MB/s \n",
            "\u001b[?25hRequirement already satisfied: pandas in /usr/local/lib/python3.7/dist-packages (from dfply) (1.1.5)\n",
            "Requirement already satisfied: numpy in /usr/local/lib/python3.7/dist-packages (from dfply) (1.19.5)\n",
            "Requirement already satisfied: python-dateutil>=2.7.3 in /usr/local/lib/python3.7/dist-packages (from pandas->dfply) (2.8.2)\n",
            "Requirement already satisfied: pytz>=2017.2 in /usr/local/lib/python3.7/dist-packages (from pandas->dfply) (2018.9)\n",
            "Requirement already satisfied: six>=1.5 in /usr/local/lib/python3.7/dist-packages (from python-dateutil>=2.7.3->pandas->dfply) (1.15.0)\n",
            "Installing collected packages: dfply\n",
            "Successfully installed dfply-0.3.3\n"
          ]
        }
      ]
    },
    {
      "cell_type": "code",
      "metadata": {
        "id": "0RqKoHDBSneb"
      },
      "source": [
        "from dfply import *"
      ],
      "execution_count": 36,
      "outputs": []
    },
    {
      "cell_type": "code",
      "metadata": {
        "id": "TNW0nd7Kb-38",
        "outputId": "4247342b-cd74-439a-bdc2-2d536a358542",
        "colab": {
          "base_uri": "https://localhost:8080/"
        }
      },
      "source": [
        "fin_data.id + fin_data.Lemma"
      ],
      "execution_count": 60,
      "outputs": [
        {
          "output_type": "execute_result",
          "data": {
            "text/plain": [
              "0       R3MZRW67QAA2ZG  spray green however green liqu...\n",
              "1               R21KMZ4ZOZHSSA  Complete waste time money\n",
              "2       R1GYHC9PRPS419  Garbage buy work completely br...\n",
              "3                                 RM6O1US7MGXUC  One Star\n",
              "4       R2WYXNIEZHZN9  Waste money commercial false ad...\n",
              "                              ...                        \n",
              "3459    RJ5TSBUDZQD7C  Hydro mousse liquido prato dana...\n",
              "3460                           R3OJSBIZS92NJZ  Incompleto\n",
              "3461                             R2DB7BYN5LXRSV  One Star\n",
              "3462                         R2VY57BGVFO1C0  Tr satisfait\n",
              "3463                           R2ZAH7BU4ZUKFR  Five Stars\n",
              "Length: 3464, dtype: object"
            ]
          },
          "metadata": {},
          "execution_count": 60
        }
      ]
    },
    {
      "cell_type": "code",
      "metadata": {
        "id": "e8H4ZEu4cfH0"
      },
      "source": [
        ""
      ],
      "execution_count": null,
      "outputs": []
    },
    {
      "cell_type": "code",
      "metadata": {
        "id": "GqZgEeU1SwwC",
        "outputId": "ca8a2e05-3f87-41fa-c78a-a2ffbf099e30",
        "colab": {
          "base_uri": "https://localhost:8080/",
          "height": 125
        }
      },
      "source": [
        "#Piping in dfply and using filter_by() to grab requested rows.\n",
        "fin_data_negative = (\n",
        "                      fin_data\n",
        "                      >> arrange(X.Polarity)\n",
        "                      >> filter_by(X.Polarity < -0.50)\n",
        "                      >> filter_by(X.helpful > 50)\n",
        "                      >> mutate(WebLink = '<ul><li>Please address the following review: https://www.amazon.com/gp/customer-reviews/' + X.id + '</li></ul>')\n",
        "                    )\n",
        "\n",
        "''.join(map(str, fin_data_negative.WebLink.tolist()))\n"
      ],
      "execution_count": 78,
      "outputs": [
        {
          "output_type": "execute_result",
          "data": {
            "application/vnd.google.colaboratory.intrinsic+json": {
              "type": "string"
            },
            "text/plain": [
              "'<ul><li>Please address the following review: https://www.amazon.com/gp/customer-reviews/R3H1AQ361Z6ABI</li></ul><ul><li>Please address the following review: https://www.amazon.com/gp/customer-reviews/R3BR720UB2EGXU</li></ul><ul><li>Please address the following review: https://www.amazon.com/gp/customer-reviews/R2ZVZP5SJ1L70P</li></ul><ul><li>Please address the following review: https://www.amazon.com/gp/customer-reviews/R18YFZNUOUP0Z5</li></ul><ul><li>Please address the following review: https://www.amazon.com/gp/customer-reviews/RD2RB62PUZ2OH</li></ul><ul><li>Please address the following review: https://www.amazon.com/gp/customer-reviews/R29MGPQNZ896S7</li></ul><ul><li>Please address the following review: https://www.amazon.com/gp/customer-reviews/R20GW7W6D93UYL</li></ul>'"
            ]
          },
          "metadata": {},
          "execution_count": 78
        }
      ]
    },
    {
      "cell_type": "markdown",
      "metadata": {
        "id": "f55amXrPJFOB"
      },
      "source": [
        ""
      ]
    },
    {
      "cell_type": "code",
      "metadata": {
        "colab": {
          "base_uri": "https://localhost:8080/"
        },
        "id": "Km2Ujx5FJ90S",
        "outputId": "9d32fbcf-f672-4d17-ebd0-21414454a4f8"
      },
      "source": [
        "#Source:  https://towardsdatascience.com/automate-sending-emails-with-gmail-in-python-449cc0c3c317\n",
        "\n",
        "!pip install yagmail\n",
        "import yagmail\n",
        "\n",
        "user = 'mystatteacher@gmail.com'\n",
        "app_password = 'rqrhdngcyiquuank' # a token for gmail\n",
        "to = 'sbergen@winona.edu'\n",
        "\n",
        "subject = 'Test Email - Python'\n",
        "#content = ['Please address with following review: https://www.amazon.com/gp/customer-reviews/R1GJUJSPBI0OVM']\n",
        "content = 'Here are the your Amazon reviews that require your attention:<br><br>' + ''.join(map(str, fin_data_negative.WebLink.tolist()))\n",
        "\n",
        "\n",
        "with yagmail.SMTP(user, app_password) as yag:\n",
        "    yag.send(to, subject, content)\n",
        "    print('Sent email successfully')\n"
      ],
      "execution_count": 82,
      "outputs": [
        {
          "output_type": "stream",
          "name": "stdout",
          "text": [
            "Requirement already satisfied: yagmail in /usr/local/lib/python3.7/dist-packages (0.14.260)\n",
            "Requirement already satisfied: premailer in /usr/local/lib/python3.7/dist-packages (from yagmail) (3.10.0)\n",
            "Requirement already satisfied: cachetools in /usr/local/lib/python3.7/dist-packages (from premailer->yagmail) (4.2.4)\n",
            "Requirement already satisfied: cssselect in /usr/local/lib/python3.7/dist-packages (from premailer->yagmail) (1.1.0)\n",
            "Requirement already satisfied: cssutils in /usr/local/lib/python3.7/dist-packages (from premailer->yagmail) (2.3.0)\n",
            "Requirement already satisfied: requests in /usr/local/lib/python3.7/dist-packages (from premailer->yagmail) (2.23.0)\n",
            "Requirement already satisfied: lxml in /usr/local/lib/python3.7/dist-packages (from premailer->yagmail) (4.2.6)\n",
            "Requirement already satisfied: importlib-metadata in /usr/local/lib/python3.7/dist-packages (from cssutils->premailer->yagmail) (4.8.2)\n",
            "Requirement already satisfied: typing-extensions>=3.6.4 in /usr/local/lib/python3.7/dist-packages (from importlib-metadata->cssutils->premailer->yagmail) (3.10.0.2)\n",
            "Requirement already satisfied: zipp>=0.5 in /usr/local/lib/python3.7/dist-packages (from importlib-metadata->cssutils->premailer->yagmail) (3.6.0)\n",
            "Requirement already satisfied: chardet<4,>=3.0.2 in /usr/local/lib/python3.7/dist-packages (from requests->premailer->yagmail) (3.0.4)\n",
            "Requirement already satisfied: certifi>=2017.4.17 in /usr/local/lib/python3.7/dist-packages (from requests->premailer->yagmail) (2021.10.8)\n",
            "Requirement already satisfied: urllib3!=1.25.0,!=1.25.1,<1.26,>=1.21.1 in /usr/local/lib/python3.7/dist-packages (from requests->premailer->yagmail) (1.24.3)\n",
            "Requirement already satisfied: idna<3,>=2.5 in /usr/local/lib/python3.7/dist-packages (from requests->premailer->yagmail) (2.10)\n",
            "Sent email successfully\n"
          ]
        }
      ]
    },
    {
      "cell_type": "markdown",
      "metadata": {
        "id": "Hvptxw9zQgmK"
      },
      "source": [
        "https://www.amazon.com/gp/customer-reviews/R21KMZ4ZOZHSSA\n",
        "\n",
        "https://www.amazon.com/gp/customer-reviews/R1GJUJSPBI0OVM\n",
        "\n",
        "\n",
        "\n"
      ]
    }
  ]
}