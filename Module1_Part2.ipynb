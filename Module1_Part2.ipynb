{
  "nbformat": 4,
  "nbformat_minor": 0,
  "metadata": {
    "colab": {
      "name": "Module1_Part2.ipynb",
      "provenance": [],
      "collapsed_sections": [],
      "authorship_tag": "ABX9TyNNgNN3tl4UIlXzgyfCAKT3",
      "include_colab_link": true
    },
    "kernelspec": {
      "name": "ir",
      "display_name": "R"
    }
  },
  "cells": [
    {
      "cell_type": "markdown",
      "metadata": {
        "id": "view-in-github",
        "colab_type": "text"
      },
      "source": [
        "<a href=\"https://colab.research.google.com/github/christophermalone/DSCI325/blob/main/Module1_Part2.ipynb\" target=\"_parent\"><img src=\"https://colab.research.google.com/assets/colab-badge.svg\" alt=\"Open In Colab\"/></a>"
      ]
    },
    {
      "cell_type": "markdown",
      "metadata": {
        "id": "KhClO9b02SXA"
      },
      "source": [
        "# Module 1 | Part 2: Reading in Data from an URL"
      ]
    },
    {
      "cell_type": "markdown",
      "metadata": {
        "id": "njXGRUIC9Lgs"
      },
      "source": [
        "## Reading Data into R from an URL"
      ]
    },
    {
      "cell_type": "markdown",
      "metadata": {
        "id": "DTpb86r69_Lv"
      },
      "source": [
        "<table width='100%' ><tr><td bgcolor='green'></td></tr></table>\r\n",
        "\r\n",
        "### Example 1.2.1\r\n",
        "\r\n",
        "A dataset regarding a list of adoptable pets for the King County, WA will be used for this example.  King County contains the Seattle metro area. \r\n",
        "\r\n",
        "<i>Original Data Source</i>: Adoptable Pets - [Link](https://catalog.data.gov/dataset/lost-found-adoptable-pets-19b8e )\r\n",
        "\r\n",
        "<i>URL for direct download in R</i>: http://dsciclass.org/dsci325/datasets/KingCounty_Animal_LostandFound.csv\r\n"
      ]
    },
    {
      "cell_type": "markdown",
      "metadata": {
        "id": "tAg016SeCNZS"
      },
      "source": [
        "<table width='100%' ><tr><td bgcolor='green'></td></tr></table>"
      ]
    },
    {
      "cell_type": "markdown",
      "metadata": {
        "id": "aSnlZOvtaoRQ"
      },
      "source": [
        "<strong>Note</strong>: When reading data into R direcly from an URL, the data file is not loaded into the currect Colab session.  The file is loaded into the current R session.\r\n",
        "\r\n",
        "<p align='center'><img src=\"https://drive.google.com/uc?export=view&id=1JnYWCpXE518CzBYEO_WRSb87_RumYjzY\"></img></p> "
      ]
    },
    {
      "cell_type": "markdown",
      "metadata": {
        "id": "kzLE9xOPKwdp"
      },
      "source": [
        "### Using read_csv()"
      ]
    },
    {
      "cell_type": "markdown",
      "metadata": {
        "id": "8V3Ft1xeK9YL"
      },
      "source": [
        "Again, Tidyverse [ [Link](http://tidyverse.org) ] and it's read_csv() function will be used to read in this dataset from the URL specifed above.  "
      ]
    },
    {
      "cell_type": "code",
      "metadata": {
        "colab": {
          "base_uri": "https://localhost:8080/"
        },
        "id": "PlJhfbnzDE8s",
        "outputId": "76ef2aa8-9af5-4095-ba96-07035b8850f4"
      },
      "source": [
        "# Load the tidyverse() libary in this session of R\r\n",
        "library(tidyverse)"
      ],
      "execution_count": null,
      "outputs": [
        {
          "output_type": "stream",
          "text": [
            "── \u001b[1mAttaching packages\u001b[22m ─────────────────────────────────────── tidyverse 1.3.0 ──\n",
            "\n",
            "\u001b[32m✔\u001b[39m \u001b[34mggplot2\u001b[39m 3.3.3     \u001b[32m✔\u001b[39m \u001b[34mpurrr  \u001b[39m 0.3.4\n",
            "\u001b[32m✔\u001b[39m \u001b[34mtibble \u001b[39m 3.0.4     \u001b[32m✔\u001b[39m \u001b[34mdplyr  \u001b[39m 1.0.2\n",
            "\u001b[32m✔\u001b[39m \u001b[34mtidyr  \u001b[39m 1.1.2     \u001b[32m✔\u001b[39m \u001b[34mstringr\u001b[39m 1.4.0\n",
            "\u001b[32m✔\u001b[39m \u001b[34mreadr  \u001b[39m 1.4.0     \u001b[32m✔\u001b[39m \u001b[34mforcats\u001b[39m 0.5.0\n",
            "\n",
            "── \u001b[1mConflicts\u001b[22m ────────────────────────────────────────── tidyverse_conflicts() ──\n",
            "\u001b[31m✖\u001b[39m \u001b[34mdplyr\u001b[39m::\u001b[32mfilter()\u001b[39m masks \u001b[34mstats\u001b[39m::filter()\n",
            "\u001b[31m✖\u001b[39m \u001b[34mdplyr\u001b[39m::\u001b[32mlag()\u001b[39m    masks \u001b[34mstats\u001b[39m::lag()\n",
            "\n"
          ],
          "name": "stderr"
        }
      ]
    },
    {
      "cell_type": "code",
      "metadata": {
        "id": "jiIs77Z_QVZm",
        "colab": {
          "base_uri": "https://localhost:8080/",
          "height": 235
        },
        "outputId": "67322a1e-d40f-44fc-9737-16749962dea1"
      },
      "source": [
        "# Using read_csv() to read in a dataset from an URL\r\n",
        "KingCounty_LostandFound <- read_csv(\"http://dsciclass.org/dsci325/datasets/KingCounty_Animal_LostandFound.csv\")\r\n",
        "\r\n",
        "# Ensure data.frame exists\r\n",
        "ls()"
      ],
      "execution_count": null,
      "outputs": [
        {
          "output_type": "stream",
          "text": [
            "\n",
            "\u001b[36m──\u001b[39m \u001b[1m\u001b[1mColumn specification\u001b[1m\u001b[22m \u001b[36m────────────────────────────────────────────────────────\u001b[39m\n",
            "cols(\n",
            "  .default = col_character(),\n",
            "  Zip = \u001b[32mcol_double()\u001b[39m,\n",
            "  obfuscated_latitude = \u001b[32mcol_double()\u001b[39m,\n",
            "  obfuscated_longitude = \u001b[32mcol_double()\u001b[39m\n",
            ")\n",
            "\u001b[36mℹ\u001b[39m Use \u001b[30m\u001b[47m\u001b[30m\u001b[47m`spec()`\u001b[47m\u001b[30m\u001b[49m\u001b[39m for the full column specifications.\n",
            "\n",
            "\n"
          ],
          "name": "stderr"
        },
        {
          "output_type": "display_data",
          "data": {
            "text/plain": [
              "[1] \"KingCounty_LostandFound\""
            ],
            "text/latex": "'KingCounty\\_LostandFound'",
            "text/markdown": "'KingCounty_LostandFound'",
            "text/html": [
              "'KingCounty_LostandFound'"
            ]
          },
          "metadata": {
            "tags": []
          }
        }
      ]
    },
    {
      "cell_type": "code",
      "metadata": {
        "colab": {
          "base_uri": "https://localhost:8080/",
          "height": 35
        },
        "id": "kYOeKGyWXwIs",
        "outputId": "27ab74b0-4eb1-495c-939e-3ea8fe3075b8"
      },
      "source": [
        "#Checking the first few rows of data\r\n",
        "#head(KingCounty_LostandFound)\r\n",
        "\r\n",
        "#Identify the number of rows and columns \r\n",
        "dim(KingCounty_LostandFound)"
      ],
      "execution_count": null,
      "outputs": [
        {
          "output_type": "display_data",
          "data": {
            "text/plain": [
              "[1] 169  25"
            ],
            "text/latex": "\\begin{enumerate*}\n\\item 169\n\\item 25\n\\end{enumerate*}\n",
            "text/markdown": "1. 169\n2. 25\n\n\n",
            "text/html": [
              "<style>\n",
              ".list-inline {list-style: none; margin:0; padding: 0}\n",
              ".list-inline>li {display: inline-block}\n",
              ".list-inline>li:not(:last-child)::after {content: \"\\00b7\"; padding: 0 .5ex}\n",
              "</style>\n",
              "<ol class=list-inline><li>169</li><li>25</li></ol>\n"
            ]
          },
          "metadata": {
            "tags": []
          }
        }
      ]
    },
    {
      "cell_type": "markdown",
      "metadata": {
        "id": "pWqvF0RbYOOf"
      },
      "source": [
        "##  Verification that data was read-in correcly\r\n"
      ]
    },
    {
      "cell_type": "markdown",
      "metadata": {
        "id": "faP0x8mJcP4J"
      },
      "source": [
        "A good habit is to ensure that the data was successfully loaded into R.  In this case, the dataset can be opened locally on your machine.  Often the default is that *.csv files will open in Excel.  \r\n",
        "\r\n",
        "You should verify that the number of rows and columns match those that were read into R.\r\n",
        "\r\n",
        "<p align='center'><img src=\"https://drive.google.com/uc?export=view&id=181yfVvfpeCffsTSjSpdvEujEPX_6tSwy\"></p>"
      ]
    }
  ]
}