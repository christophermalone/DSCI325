{
  "nbformat": 4,
  "nbformat_minor": 0,
  "metadata": {
    "colab": {
      "name": "Module1_Part2.ipynb",
      "provenance": [],
      "collapsed_sections": [],
      "authorship_tag": "ABX9TyOdlL/6jVDdmmC1wl/fpK89",
      "include_colab_link": true
    },
    "kernelspec": {
      "name": "ir",
      "display_name": "R"
    }
  },
  "cells": [
    {
      "cell_type": "markdown",
      "metadata": {
        "id": "view-in-github",
        "colab_type": "text"
      },
      "source": [
        "<a href=\"https://colab.research.google.com/github/christophermalone/DSCI325/blob/main/Module1_Part2.ipynb\" target=\"_parent\"><img src=\"https://colab.research.google.com/assets/colab-badge.svg\" alt=\"Open In Colab\"/></a>"
      ]
    },
    {
      "cell_type": "markdown",
      "metadata": {
        "id": "KhClO9b02SXA"
      },
      "source": [
        "# Module 1 | Part 2: Reading in Data from an URL"
      ]
    },
    {
      "cell_type": "markdown",
      "metadata": {
        "id": "njXGRUIC9Lgs"
      },
      "source": [
        "## Reading Data into R from an URL"
      ]
    },
    {
      "cell_type": "markdown",
      "metadata": {
        "id": "DTpb86r69_Lv"
      },
      "source": [
        "<table width='100%' ><tr><td bgcolor='green'></td></tr></table>\n",
        "\n",
        "### Example 1.2.1\n",
        "\n",
        "A dataset regarding a list of adoptable pets for the King County, WA will be used for this example.  King County contains the Seattle metro area. \n",
        "\n",
        "<i>Original Data Source</i>: Adoptable Pets - [Link](https://catalog.data.gov/dataset/lost-found-adoptable-pets-19b8e )\n",
        "\n",
        "<i>URL for direct download in R</i>: http://dsciclass.org/dsci325/datasets/KingCounty_Animal_LostandFound.csv\n"
      ]
    },
    {
      "cell_type": "markdown",
      "metadata": {
        "id": "tAg016SeCNZS"
      },
      "source": [
        "<table width='100%' ><tr><td bgcolor='green'></td></tr></table>"
      ]
    },
    {
      "cell_type": "markdown",
      "metadata": {
        "id": "aSnlZOvtaoRQ"
      },
      "source": [
        "<strong>Note</strong>: When reading data into R direcly from an URL, the data file is not loaded into the currect Colab session.  The file is loaded into the current R session.\n",
        "\n",
        "<p align='center'><img src=\"https://drive.google.com/uc?export=view&id=1GQRK-Q8MOjhl4sM9doqnw9fFNVaMgDgi\"></img></p> \n"
      ]
    },
    {
      "cell_type": "markdown",
      "metadata": {
        "id": "kzLE9xOPKwdp"
      },
      "source": [
        "### Using read_csv()"
      ]
    },
    {
      "cell_type": "markdown",
      "metadata": {
        "id": "8V3Ft1xeK9YL"
      },
      "source": [
        "Again, Tidyverse [ [Link](http://tidyverse.org) ] and it's read_csv() function will be used to read in this dataset from the URL specifed above.  "
      ]
    },
    {
      "cell_type": "code",
      "metadata": {
        "colab": {
          "base_uri": "https://localhost:8080/"
        },
        "id": "PlJhfbnzDE8s",
        "outputId": "d8de1cd6-76c8-4aaf-c2e7-198402485f23"
      },
      "source": [
        "# Load the tidyverse() libary in this session of R\n",
        "library(tidyverse)"
      ],
      "execution_count": null,
      "outputs": [
        {
          "output_type": "stream",
          "name": "stderr",
          "text": [
            "Warning message in system(\"timedatectl\", intern = TRUE):\n",
            "“running command 'timedatectl' had status 1”\n",
            "── \u001b[1mAttaching packages\u001b[22m ─────────────────────────────────────── tidyverse 1.3.1 ──\n",
            "\n",
            "\u001b[32m✔\u001b[39m \u001b[34mggplot2\u001b[39m 3.3.5     \u001b[32m✔\u001b[39m \u001b[34mpurrr  \u001b[39m 0.3.4\n",
            "\u001b[32m✔\u001b[39m \u001b[34mtibble \u001b[39m 3.1.6     \u001b[32m✔\u001b[39m \u001b[34mdplyr  \u001b[39m 1.0.7\n",
            "\u001b[32m✔\u001b[39m \u001b[34mtidyr  \u001b[39m 1.1.4     \u001b[32m✔\u001b[39m \u001b[34mstringr\u001b[39m 1.4.0\n",
            "\u001b[32m✔\u001b[39m \u001b[34mreadr  \u001b[39m 2.1.1     \u001b[32m✔\u001b[39m \u001b[34mforcats\u001b[39m 0.5.1\n",
            "\n",
            "── \u001b[1mConflicts\u001b[22m ────────────────────────────────────────── tidyverse_conflicts() ──\n",
            "\u001b[31m✖\u001b[39m \u001b[34mdplyr\u001b[39m::\u001b[32mfilter()\u001b[39m masks \u001b[34mstats\u001b[39m::filter()\n",
            "\u001b[31m✖\u001b[39m \u001b[34mdplyr\u001b[39m::\u001b[32mlag()\u001b[39m    masks \u001b[34mstats\u001b[39m::lag()\n",
            "\n"
          ]
        }
      ]
    },
    {
      "cell_type": "code",
      "metadata": {
        "id": "jiIs77Z_QVZm",
        "colab": {
          "base_uri": "https://localhost:8080/",
          "height": 225
        },
        "outputId": "f1f56cd0-99ef-4b72-afb7-3ac33d29505f"
      },
      "source": [
        "# Using read_csv() to read in a dataset from an URL\n",
        "KingCounty_LostandFound <- read_csv(\"http://dsciclass.org/dsci325/datasets/KingCounty_Animal_LostandFound.csv\")\n",
        "\n",
        "# Ensure data.frame exists\n",
        "ls()"
      ],
      "execution_count": null,
      "outputs": [
        {
          "output_type": "stream",
          "name": "stderr",
          "text": [
            "\u001b[1mRows: \u001b[22m\u001b[34m409\u001b[39m \u001b[1mColumns: \u001b[22m\u001b[34m25\u001b[39m\n",
            "\n",
            "\u001b[36m──\u001b[39m \u001b[1mColumn specification\u001b[22m \u001b[36m────────────────────────────────────────────────────────\u001b[39m\n",
            "\u001b[1mDelimiter:\u001b[22m \",\"\n",
            "\u001b[31mchr\u001b[39m (22): impound_no, Animal_ID, Data_Source, Record_Type, Link, Current_Loc...\n",
            "\u001b[32mdbl\u001b[39m  (3): Zip, obfuscated_latitude, obfuscated_longitude\n",
            "\n",
            "\n",
            "\u001b[36mℹ\u001b[39m Use \u001b[30m\u001b[47m\u001b[30m\u001b[47m`spec()`\u001b[47m\u001b[30m\u001b[49m\u001b[39m to retrieve the full column specification for this data.\n",
            "\u001b[36mℹ\u001b[39m Specify the column types or set \u001b[30m\u001b[47m\u001b[30m\u001b[47m`show_col_types = FALSE`\u001b[47m\u001b[30m\u001b[49m\u001b[39m to quiet this message.\n",
            "\n"
          ]
        },
        {
          "output_type": "display_data",
          "data": {
            "text/plain": [
              "[1] \"KingCounty_LostandFound\""
            ],
            "text/latex": "'KingCounty\\_LostandFound'",
            "text/markdown": "'KingCounty_LostandFound'",
            "text/html": [
              "'KingCounty_LostandFound'"
            ]
          },
          "metadata": {}
        }
      ]
    },
    {
      "cell_type": "code",
      "metadata": {
        "colab": {
          "base_uri": "https://localhost:8080/",
          "height": 35
        },
        "id": "kYOeKGyWXwIs",
        "outputId": "e952835c-f849-4a84-e9e6-d693bca22584"
      },
      "source": [
        "#Checking the first few rows of data\n",
        "#head(KingCounty_LostandFound)\n",
        "\n",
        "#Identify the number of rows and columns \n",
        "dim(KingCounty_LostandFound)"
      ],
      "execution_count": null,
      "outputs": [
        {
          "output_type": "display_data",
          "data": {
            "text/plain": [
              "[1] 409  25"
            ],
            "text/latex": "\\begin{enumerate*}\n\\item 409\n\\item 25\n\\end{enumerate*}\n",
            "text/markdown": "1. 409\n2. 25\n\n\n",
            "text/html": [
              "<style>\n",
              ".list-inline {list-style: none; margin:0; padding: 0}\n",
              ".list-inline>li {display: inline-block}\n",
              ".list-inline>li:not(:last-child)::after {content: \"\\00b7\"; padding: 0 .5ex}\n",
              "</style>\n",
              "<ol class=list-inline><li>409</li><li>25</li></ol>\n"
            ]
          },
          "metadata": {}
        }
      ]
    },
    {
      "cell_type": "markdown",
      "metadata": {
        "id": "pWqvF0RbYOOf"
      },
      "source": [
        "##  Verification that data was read-in correcly\n"
      ]
    },
    {
      "cell_type": "markdown",
      "source": [
        "A good habit is to ensure that the data was successfully loaded into R.  Make note of the number of rows / columns from the original data source whenever possible."
      ],
      "metadata": {
        "id": "BQokWRXWBMkZ"
      }
    },
    {
      "cell_type": "markdown",
      "source": [
        "<p align='center'><img src=\"https://drive.google.com/uc?export=view&id=1eHC62kmJ3AsgK2kX2B-zmByhZbOT-E-X\"></p>"
      ],
      "metadata": {
        "id": "e5VdTuZABMqw"
      }
    },
    {
      "cell_type": "markdown",
      "metadata": {
        "id": "faP0x8mJcP4J"
      },
      "source": [
        "You may open the dataset locally on your machine.  Often the default is that *.csv files will open in Excel.  \n",
        "\n",
        "You should verify that the number of rows and columns match those that were read into R.\n",
        "\n",
        "<p align='center'><img src=\"https://drive.google.com/uc?export=view&id=12RtKFHGY7H3m_dynlJwzZnlLOID_I4CL\"></p>"
      ]
    }
  ]
}