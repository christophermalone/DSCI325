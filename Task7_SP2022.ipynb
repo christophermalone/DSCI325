{
  "nbformat": 4,
  "nbformat_minor": 0,
  "metadata": {
    "colab": {
      "name": "Task7_SP2022.ipynb",
      "provenance": [],
      "authorship_tag": "ABX9TyNUuerx3XF5mv0sPxWXnVhj",
      "include_colab_link": true
    },
    "kernelspec": {
      "name": "python3",
      "display_name": "Python 3"
    },
    "language_info": {
      "name": "python"
    }
  },
  "cells": [
    {
      "cell_type": "markdown",
      "metadata": {
        "id": "view-in-github",
        "colab_type": "text"
      },
      "source": [
        "<a href=\"https://colab.research.google.com/github/christophermalone/DSCI325/blob/main/Task7_SP2022.ipynb\" target=\"_parent\"><img src=\"https://colab.research.google.com/assets/colab-badge.svg\" alt=\"Open In Colab\"/></a>"
      ]
    },
    {
      "cell_type": "markdown",
      "source": [
        "# Task #7 - Creating a Data Processing Flow"
      ],
      "metadata": {
        "id": "uBKkaN84bfpj"
      }
    },
    {
      "cell_type": "markdown",
      "source": [
        "**Goal**:  Create a semi-automatted data processing flow using Tableau Prep -> Excel -> PowerPoint"
      ],
      "metadata": {
        "id": "dnCmAXwIbmdy"
      }
    },
    {
      "cell_type": "markdown",
      "source": [
        "Steps\n",
        "\n",
        "1.   Find your own data.  Download this data onto your machine.  The downloading of the data onto your local machine need n\n",
        "2.   Use Tableau Prep to *process* your data using a data flow\n",
        "3.   Output the processed data.\n",
        "4.   In Excel, create a connection to this output data.  Create some type of visual summary.\n",
        "5.   In Powerpoint, create a link to the visual summary that you created in Excel.\n",
        "6.   Ensure that your data processing is automated from Tableau Prep through PowerPoint.\n"
      ],
      "metadata": {
        "id": "0hT0bj0Peimn"
      }
    },
    {
      "cell_type": "markdown",
      "source": [
        "\n",
        "\n",
        "<p align='center'><img src=\"https://drive.google.com/uc?export=view&id=1OHGWsAronn27EeycKlOLaCWPPzhOj_7e\" width='75%' height='75%'></p>"
      ],
      "metadata": {
        "id": "giUMt3DabyuR"
      }
    },
    {
      "cell_type": "markdown",
      "source": [
        "**Turn In**: Create a short video that describes what your data processing steps.  Record your process in action.  Submit a link of your video."
      ],
      "metadata": {
        "id": "RbZG37vTfZkf"
      }
    }
  ]
}