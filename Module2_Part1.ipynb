{
  "nbformat": 4,
  "nbformat_minor": 0,
  "metadata": {
    "colab": {
      "name": "Module2_Part1.ipynb",
      "provenance": [],
      "collapsed_sections": [],
      "authorship_tag": "ABX9TyM2e6O8OwK0my11kaWHGz0/",
      "include_colab_link": true
    },
    "kernelspec": {
      "name": "python3",
      "display_name": "Python 3"
    }
  },
  "cells": [
    {
      "cell_type": "markdown",
      "metadata": {
        "id": "view-in-github",
        "colab_type": "text"
      },
      "source": [
        "<a href=\"https://colab.research.google.com/github/christophermalone/DSCI325/blob/main/Module2_Part1.ipynb\" target=\"_parent\"><img src=\"https://colab.research.google.com/assets/colab-badge.svg\" alt=\"Open In Colab\"/></a>"
      ]
    },
    {
      "cell_type": "markdown",
      "metadata": {
        "id": "R05cYFVzZm7R"
      },
      "source": [
        "# Module 2 | Part 1: Pre-Processing of Data Files"
      ]
    },
    {
      "cell_type": "markdown",
      "metadata": {
        "id": "BbnR0V-jbBzu"
      },
      "source": [
        "This handout will include some of the common tasks regarding the pre-processing of data file before the data is read into R or Python.  In particular, the processing being done here is happening at the operating system level.  \r\n"
      ]
    },
    {
      "cell_type": "markdown",
      "metadata": {
        "id": "oPMXRRD9kY3m"
      },
      "source": [
        "<table width='100%' ><tr><td bgcolor='green'></td></tr></table>\r\n",
        "\r\n",
        "### Example 2.1.1\r\n",
        "\r\n",
        "Consider data on births in the United States. This information is provided by the Center for Disease Control (CDC) and it's Natality data within their  WONDER online databases.\r\n",
        "\r\n",
        "Two different datasets were obtained for the most recent year available. \r\n",
        "\r\n",
        "*   Number of Births that took place At Home for each State\r\n",
        "*   Number of Births that took place in a Hospital for each State\r\n",
        "\r\n",
        "<i>Data Sources</i>: https://wonder.cdc.gov/natality-current.html\r\n",
        "\r\n",
        "<table width='100%' ><tr><td bgcolor='green'></td></tr></table>"
      ]
    },
    {
      "cell_type": "markdown",
      "metadata": {
        "id": "v3j4KfE4kDAm"
      },
      "source": [
        "These two data files have been saved into the following folder in Colab.\r\n",
        "\r\n",
        "<p align='center'><img src=\"https://drive.google.com/uc?export=view&id=1jieTL2t7jEocOtJAas1Svn8nOKNByKBr \"></p>\r\n",
        "\r\n"
      ]
    },
    {
      "cell_type": "markdown",
      "metadata": {
        "id": "1t1JFKoaln--"
      },
      "source": [
        "## Utility Functions to View Contents of a File\r\n",
        "Colab / iPython Notebook allows one to run commands at the operating system level using typical code blocks.  The commands must simply be preceeded with <strong>!</strong> , i.e. an exclaimation point."
      ]
    },
    {
      "cell_type": "markdown",
      "metadata": {
        "id": "H-JsRFwyl3GF"
      },
      "source": [
        "For example, to get a listing of file in a particular directory, use <strong> !ls *\\<path to directory\\>* </strong>"
      ]
    },
    {
      "cell_type": "code",
      "metadata": {
        "colab": {
          "base_uri": "https://localhost:8080/"
        },
        "id": "icz2AxREaq--",
        "outputId": "db25579d-6cc9-488b-c9b4-2759a4694691"
      },
      "source": [
        "#A listing of the files in the /content/sample_data/ folder\r\n",
        "!ls '/content/sample_data'"
      ],
      "execution_count": null,
      "outputs": [
        {
          "output_type": "stream",
          "text": [
            "AtHome_Births_StateLevel.txt  Hospital_Births_StateLevel.txt\n"
          ],
          "name": "stdout"
        }
      ]
    },
    {
      "cell_type": "markdown",
      "metadata": {
        "id": "E85MpubHmlaF"
      },
      "source": [
        "To see the contents of a file, use <strong> !cat *\\<filename\\>* </strong>\r\n",
        "\r\n",
        "WARNING: Do *not* run this command on a large file."
      ]
    },
    {
      "cell_type": "code",
      "metadata": {
        "colab": {
          "base_uri": "https://localhost:8080/"
        },
        "id": "5uTqherImkxG",
        "outputId": "c599d8ed-7f28-4fe8-b2fc-54a7ace346db"
      },
      "source": [
        "!cat /content/sample_data/AtHome_Births_StateLevel.txt"
      ],
      "execution_count": null,
      "outputs": [
        {
          "output_type": "stream",
          "text": [
            "\"Notes\"\t\"State\"\t\"State Code\"\t\"Year\"\t\"Year Code\"\tBirths\r\n",
            "\t\"Alabama\"\t\"01\"\t\"2019\"\t\"2019\"\t243\r\n",
            "\t\"Alaska\"\t\"02\"\t\"2019\"\t\"2019\"\t195\r\n",
            "\t\"Arizona\"\t\"04\"\t\"2019\"\t\"2019\"\t706\r\n",
            "\t\"Arkansas\"\t\"05\"\t\"2019\"\t\"2019\"\t326\r\n",
            "\t\"California\"\t\"06\"\t\"2019\"\t\"2019\"\t3081\r\n",
            "\t\"Colorado\"\t\"08\"\t\"2019\"\t\"2019\"\t899\r\n",
            "\t\"Connecticut\"\t\"09\"\t\"2019\"\t\"2019\"\t217\r\n",
            "\t\"Delaware\"\t\"10\"\t\"2019\"\t\"2019\"\t66\r\n",
            "\t\"District of Columbia\"\t\"11\"\t\"2019\"\t\"2019\"\t72\r\n",
            "\t\"Florida\"\t\"12\"\t\"2019\"\t\"2019\"\t2052\r\n",
            "\t\"Georgia\"\t\"13\"\t\"2019\"\t\"2019\"\t744\r\n",
            "\t\"Hawaii\"\t\"15\"\t\"2019\"\t\"2019\"\t319\r\n",
            "\t\"Idaho\"\t\"16\"\t\"2019\"\t\"2019\"\t619\r\n",
            "\t\"Illinois\"\t\"17\"\t\"2019\"\t\"2019\"\t819\r\n",
            "\t\"Indiana\"\t\"18\"\t\"2019\"\t\"2019\"\t1160\r\n",
            "\t\"Iowa\"\t\"19\"\t\"2019\"\t\"2019\"\t507\r\n",
            "\t\"Kansas\"\t\"20\"\t\"2019\"\t\"2019\"\t494\r\n",
            "\t\"Kentucky\"\t\"21\"\t\"2019\"\t\"2019\"\t680\r\n",
            "\t\"Louisiana\"\t\"22\"\t\"2019\"\t\"2019\"\t153\r\n",
            "\t\"Maine\"\t\"23\"\t\"2019\"\t\"2019\"\t222\r\n",
            "\t\"Maryland\"\t\"24\"\t\"2019\"\t\"2019\"\t533\r\n",
            "\t\"Massachusetts\"\t\"25\"\t\"2019\"\t\"2019\"\t395\r\n",
            "\t\"Michigan\"\t\"26\"\t\"2019\"\t\"2019\"\t1534\r\n",
            "\t\"Minnesota\"\t\"27\"\t\"2019\"\t\"2019\"\t800\r\n",
            "\t\"Mississippi\"\t\"28\"\t\"2019\"\t\"2019\"\t169\r\n",
            "\t\"Missouri\"\t\"29\"\t\"2019\"\t\"2019\"\t1071\r\n",
            "\t\"Montana\"\t\"30\"\t\"2019\"\t\"2019\"\t263\r\n",
            "\t\"Nebraska\"\t\"31\"\t\"2019\"\t\"2019\"\t93\r\n",
            "\t\"Nevada\"\t\"32\"\t\"2019\"\t\"2019\"\t573\r\n",
            "\t\"New Hampshire\"\t\"33\"\t\"2019\"\t\"2019\"\t163\r\n",
            "\t\"New Jersey\"\t\"34\"\t\"2019\"\t\"2019\"\t415\r\n",
            "\t\"New Mexico\"\t\"35\"\t\"2019\"\t\"2019\"\t274\r\n",
            "\t\"New York\"\t\"36\"\t\"2019\"\t\"2019\"\t2458\r\n",
            "\t\"North Carolina\"\t\"37\"\t\"2019\"\t\"2019\"\t716\r\n",
            "\t\"North Dakota\"\t\"38\"\t\"2019\"\t\"2019\"\t120\r\n",
            "\t\"Ohio\"\t\"39\"\t\"2019\"\t\"2019\"\t1599\r\n",
            "\t\"Oklahoma\"\t\"40\"\t\"2019\"\t\"2019\"\t505\r\n",
            "\t\"Oregon\"\t\"41\"\t\"2019\"\t\"2019\"\t865\r\n",
            "\t\"Pennsylvania\"\t\"42\"\t\"2019\"\t\"2019\"\t2606\r\n",
            "\t\"Rhode Island\"\t\"44\"\t\"2019\"\t\"2019\"\t48\r\n",
            "\t\"South Carolina\"\t\"45\"\t\"2019\"\t\"2019\"\t361\r\n",
            "\t\"South Dakota\"\t\"46\"\t\"2019\"\t\"2019\"\t89\r\n",
            "\t\"Tennessee\"\t\"47\"\t\"2019\"\t\"2019\"\t956\r\n",
            "\t\"Texas\"\t\"48\"\t\"2019\"\t\"2019\"\t2618\r\n",
            "\t\"Utah\"\t\"49\"\t\"2019\"\t\"2019\"\t1027\r\n",
            "\t\"Vermont\"\t\"50\"\t\"2019\"\t\"2019\"\t125\r\n",
            "\t\"Virginia\"\t\"51\"\t\"2019\"\t\"2019\"\t941\r\n",
            "\t\"Washington\"\t\"53\"\t\"2019\"\t\"2019\"\t1745\r\n",
            "\t\"West Virginia\"\t\"54\"\t\"2019\"\t\"2019\"\t136\r\n",
            "\t\"Wisconsin\"\t\"55\"\t\"2019\"\t\"2019\"\t1604\r\n",
            "\t\"Wyoming\"\t\"56\"\t\"2019\"\t\"2019\"\t130\r\n",
            "\"---\"\r\n",
            "\"Dataset: Natality, 2007-2019\"\r\n",
            "\"Query Parameters:\"\r\n",
            "\"Birthplace: Residence\"\r\n",
            "\"Year: 2019\"\r\n",
            "\"Group By: State; Year\"\r\n",
            "\"Show Totals: False\"\r\n",
            "\"Show Zero Values: False\"\r\n",
            "\"Show Suppressed: False\"\r\n",
            "\"Calculate Rates Per: 1,000\"\r\n",
            "\"Population Option: No populations shown because rates were not selected.\"\r\n",
            "\"---\"\r\n",
            "\"Help: See http://wonder.cdc.gov/wonder/help/Natality.html for more information.\"\r\n",
            "\"---\"\r\n",
            "\"Query Date: Jan 26, 2021 10:46:51 AM\"\r\n",
            "\"---\"\r\n",
            "\"Suggested Citation: United States Department of Health and Human Services (US DHHS), Centers for Disease Control and Prevention\"\r\n",
            "\"(CDC), National Center for Health Statistics (NCHS), Division of Vital Statistics, Natality public-use data 2007-2019, on CDC\"\r\n",
            "\"WONDER Online Database, October 2020. Accessed at http://wonder.cdc.gov/natality-current.html on Jan 26, 2021 10:46:51 AM\"\r\n",
            "\"---\"\r\n",
            "Caveats:\r\n",
            "\"1. Each birth record represents one living baby.\""
          ],
          "name": "stdout"
        }
      ]
    },
    {
      "cell_type": "markdown",
      "metadata": {
        "id": "wyCwQhxDnFUV"
      },
      "source": [
        "For large files, use <strong> !head *\\<filename\\>* </strong> instead of !cat"
      ]
    },
    {
      "cell_type": "code",
      "metadata": {
        "colab": {
          "base_uri": "https://localhost:8080/"
        },
        "id": "dOAyZyBNnNx9",
        "outputId": "148f65ac-efdd-4918-b023-50b05df7d41b"
      },
      "source": [
        "!head /content/sample_data/AtHome_Births_StateLevel.txt"
      ],
      "execution_count": null,
      "outputs": [
        {
          "output_type": "stream",
          "text": [
            "\"Notes\"\t\"State\"\t\"State Code\"\t\"Year\"\t\"Year Code\"\tBirths\r\n",
            "\t\"Alabama\"\t\"01\"\t\"2019\"\t\"2019\"\t243\r\n",
            "\t\"Alaska\"\t\"02\"\t\"2019\"\t\"2019\"\t195\r\n",
            "\t\"Arizona\"\t\"04\"\t\"2019\"\t\"2019\"\t706\r\n",
            "\t\"Arkansas\"\t\"05\"\t\"2019\"\t\"2019\"\t326\r\n",
            "\t\"California\"\t\"06\"\t\"2019\"\t\"2019\"\t3081\r\n",
            "\t\"Colorado\"\t\"08\"\t\"2019\"\t\"2019\"\t899\r\n",
            "\t\"Connecticut\"\t\"09\"\t\"2019\"\t\"2019\"\t217\r\n",
            "\t\"Delaware\"\t\"10\"\t\"2019\"\t\"2019\"\t66\r\n",
            "\t\"District of Columbia\"\t\"11\"\t\"2019\"\t\"2019\"\t72\r\n"
          ],
          "name": "stdout"
        }
      ]
    },
    {
      "cell_type": "markdown",
      "metadata": {
        "id": "GtSB2UqmnnMN"
      },
      "source": [
        "To view the last 15 lines of a file, use <strong> !tail -n 15 *\\<filename\\>* </strong>"
      ]
    },
    {
      "cell_type": "code",
      "metadata": {
        "colab": {
          "base_uri": "https://localhost:8080/"
        },
        "id": "OfphcKJwnwi1",
        "outputId": "dc6ed4e0-43e4-4e95-a994-2cdc6341fba3"
      },
      "source": [
        "#Print last 15 lines of a file\r\n",
        "!tail -n 15 /content/sample_data/AtHome_Births_StateLevel.txt"
      ],
      "execution_count": null,
      "outputs": [
        {
          "output_type": "stream",
          "text": [
            "\"Show Zero Values: False\"\r\n",
            "\"Show Suppressed: False\"\r\n",
            "\"Calculate Rates Per: 1,000\"\r\n",
            "\"Population Option: No populations shown because rates were not selected.\"\r\n",
            "\"---\"\r\n",
            "\"Help: See http://wonder.cdc.gov/wonder/help/Natality.html for more information.\"\r\n",
            "\"---\"\r\n",
            "\"Query Date: Jan 26, 2021 10:46:51 AM\"\r\n",
            "\"---\"\r\n",
            "\"Suggested Citation: United States Department of Health and Human Services (US DHHS), Centers for Disease Control and Prevention\"\r\n",
            "\"(CDC), National Center for Health Statistics (NCHS), Division of Vital Statistics, Natality public-use data 2007-2019, on CDC\"\r\n",
            "\"WONDER Online Database, October 2020. Accessed at http://wonder.cdc.gov/natality-current.html on Jan 26, 2021 10:46:51 AM\"\r\n",
            "\"---\"\r\n",
            "Caveats:\r\n",
            "\"1. Each birth record represents one living baby.\""
          ],
          "name": "stdout"
        }
      ]
    },
    {
      "cell_type": "markdown",
      "metadata": {
        "id": "7Tva-2QtqVf9"
      },
      "source": [
        "Next, print all lines in a file -- starting with Line #2."
      ]
    },
    {
      "cell_type": "code",
      "metadata": {
        "colab": {
          "base_uri": "https://localhost:8080/"
        },
        "id": "z_n3Kiaeoybg",
        "outputId": "e1155137-b531-4538-d7e6-c7e44bfaf05f"
      },
      "source": [
        "#Don't print the first line, use + with !tail\r\n",
        "!tail -n +2 /content/sample_data/AtHome_Births_StateLevel.txt"
      ],
      "execution_count": null,
      "outputs": [
        {
          "output_type": "stream",
          "text": [
            "\t\"Alabama\"\t\"01\"\t\"2019\"\t\"2019\"\t243\r\n",
            "\t\"Alaska\"\t\"02\"\t\"2019\"\t\"2019\"\t195\r\n",
            "\t\"Arizona\"\t\"04\"\t\"2019\"\t\"2019\"\t706\r\n",
            "\t\"Arkansas\"\t\"05\"\t\"2019\"\t\"2019\"\t326\r\n",
            "\t\"California\"\t\"06\"\t\"2019\"\t\"2019\"\t3081\r\n",
            "\t\"Colorado\"\t\"08\"\t\"2019\"\t\"2019\"\t899\r\n",
            "\t\"Connecticut\"\t\"09\"\t\"2019\"\t\"2019\"\t217\r\n",
            "\t\"Delaware\"\t\"10\"\t\"2019\"\t\"2019\"\t66\r\n",
            "\t\"District of Columbia\"\t\"11\"\t\"2019\"\t\"2019\"\t72\r\n",
            "\t\"Florida\"\t\"12\"\t\"2019\"\t\"2019\"\t2052\r\n",
            "\t\"Georgia\"\t\"13\"\t\"2019\"\t\"2019\"\t744\r\n",
            "\t\"Hawaii\"\t\"15\"\t\"2019\"\t\"2019\"\t319\r\n",
            "\t\"Idaho\"\t\"16\"\t\"2019\"\t\"2019\"\t619\r\n",
            "\t\"Illinois\"\t\"17\"\t\"2019\"\t\"2019\"\t819\r\n",
            "\t\"Indiana\"\t\"18\"\t\"2019\"\t\"2019\"\t1160\r\n",
            "\t\"Iowa\"\t\"19\"\t\"2019\"\t\"2019\"\t507\r\n",
            "\t\"Kansas\"\t\"20\"\t\"2019\"\t\"2019\"\t494\r\n",
            "\t\"Kentucky\"\t\"21\"\t\"2019\"\t\"2019\"\t680\r\n",
            "\t\"Louisiana\"\t\"22\"\t\"2019\"\t\"2019\"\t153\r\n",
            "\t\"Maine\"\t\"23\"\t\"2019\"\t\"2019\"\t222\r\n",
            "\t\"Maryland\"\t\"24\"\t\"2019\"\t\"2019\"\t533\r\n",
            "\t\"Massachusetts\"\t\"25\"\t\"2019\"\t\"2019\"\t395\r\n",
            "\t\"Michigan\"\t\"26\"\t\"2019\"\t\"2019\"\t1534\r\n",
            "\t\"Minnesota\"\t\"27\"\t\"2019\"\t\"2019\"\t800\r\n",
            "\t\"Mississippi\"\t\"28\"\t\"2019\"\t\"2019\"\t169\r\n",
            "\t\"Missouri\"\t\"29\"\t\"2019\"\t\"2019\"\t1071\r\n",
            "\t\"Montana\"\t\"30\"\t\"2019\"\t\"2019\"\t263\r\n",
            "\t\"Nebraska\"\t\"31\"\t\"2019\"\t\"2019\"\t93\r\n",
            "\t\"Nevada\"\t\"32\"\t\"2019\"\t\"2019\"\t573\r\n",
            "\t\"New Hampshire\"\t\"33\"\t\"2019\"\t\"2019\"\t163\r\n",
            "\t\"New Jersey\"\t\"34\"\t\"2019\"\t\"2019\"\t415\r\n",
            "\t\"New Mexico\"\t\"35\"\t\"2019\"\t\"2019\"\t274\r\n",
            "\t\"New York\"\t\"36\"\t\"2019\"\t\"2019\"\t2458\r\n",
            "\t\"North Carolina\"\t\"37\"\t\"2019\"\t\"2019\"\t716\r\n",
            "\t\"North Dakota\"\t\"38\"\t\"2019\"\t\"2019\"\t120\r\n",
            "\t\"Ohio\"\t\"39\"\t\"2019\"\t\"2019\"\t1599\r\n",
            "\t\"Oklahoma\"\t\"40\"\t\"2019\"\t\"2019\"\t505\r\n",
            "\t\"Oregon\"\t\"41\"\t\"2019\"\t\"2019\"\t865\r\n",
            "\t\"Pennsylvania\"\t\"42\"\t\"2019\"\t\"2019\"\t2606\r\n",
            "\t\"Rhode Island\"\t\"44\"\t\"2019\"\t\"2019\"\t48\r\n",
            "\t\"South Carolina\"\t\"45\"\t\"2019\"\t\"2019\"\t361\r\n",
            "\t\"South Dakota\"\t\"46\"\t\"2019\"\t\"2019\"\t89\r\n",
            "\t\"Tennessee\"\t\"47\"\t\"2019\"\t\"2019\"\t956\r\n",
            "\t\"Texas\"\t\"48\"\t\"2019\"\t\"2019\"\t2618\r\n",
            "\t\"Utah\"\t\"49\"\t\"2019\"\t\"2019\"\t1027\r\n",
            "\t\"Vermont\"\t\"50\"\t\"2019\"\t\"2019\"\t125\r\n",
            "\t\"Virginia\"\t\"51\"\t\"2019\"\t\"2019\"\t941\r\n",
            "\t\"Washington\"\t\"53\"\t\"2019\"\t\"2019\"\t1745\r\n",
            "\t\"West Virginia\"\t\"54\"\t\"2019\"\t\"2019\"\t136\r\n",
            "\t\"Wisconsin\"\t\"55\"\t\"2019\"\t\"2019\"\t1604\r\n",
            "\t\"Wyoming\"\t\"56\"\t\"2019\"\t\"2019\"\t130\r\n",
            "\"---\"\r\n",
            "\"Dataset: Natality, 2007-2019\"\r\n",
            "\"Query Parameters:\"\r\n",
            "\"Birthplace: Residence\"\r\n",
            "\"Year: 2019\"\r\n",
            "\"Group By: State; Year\"\r\n",
            "\"Show Totals: False\"\r\n",
            "\"Show Zero Values: False\"\r\n",
            "\"Show Suppressed: False\"\r\n",
            "\"Calculate Rates Per: 1,000\"\r\n",
            "\"Population Option: No populations shown because rates were not selected.\"\r\n",
            "\"---\"\r\n",
            "\"Help: See http://wonder.cdc.gov/wonder/help/Natality.html for more information.\"\r\n",
            "\"---\"\r\n",
            "\"Query Date: Jan 26, 2021 10:46:51 AM\"\r\n",
            "\"---\"\r\n",
            "\"Suggested Citation: United States Department of Health and Human Services (US DHHS), Centers for Disease Control and Prevention\"\r\n",
            "\"(CDC), National Center for Health Statistics (NCHS), Division of Vital Statistics, Natality public-use data 2007-2019, on CDC\"\r\n",
            "\"WONDER Online Database, October 2020. Accessed at http://wonder.cdc.gov/natality-current.html on Jan 26, 2021 10:46:51 AM\"\r\n",
            "\"---\"\r\n",
            "Caveats:\r\n",
            "\"1. Each birth record represents one living baby.\""
          ],
          "name": "stdout"
        }
      ]
    },
    {
      "cell_type": "markdown",
      "metadata": {
        "id": "bypwbXfvqf9c"
      },
      "source": [
        "Finally, printing lines from the start to a certain point -- truncating the last 22 lines here.  Use case here would be to exclude footer information."
      ]
    },
    {
      "cell_type": "code",
      "metadata": {
        "colab": {
          "base_uri": "https://localhost:8080/"
        },
        "id": "jeZHeRu-qsTF",
        "outputId": "ae2ea731-1eef-4608-8bf8-473d861a2f8a"
      },
      "source": [
        "#Do not print the last number of lines, use - with !head\r\n",
        "!head -n -22 /content/sample_data/AtHome_Births_StateLevel.txt"
      ],
      "execution_count": null,
      "outputs": [
        {
          "output_type": "stream",
          "text": [
            "\"Notes\"\t\"State\"\t\"State Code\"\t\"Year\"\t\"Year Code\"\tBirths\r\n",
            "\t\"Alabama\"\t\"01\"\t\"2019\"\t\"2019\"\t243\r\n",
            "\t\"Alaska\"\t\"02\"\t\"2019\"\t\"2019\"\t195\r\n",
            "\t\"Arizona\"\t\"04\"\t\"2019\"\t\"2019\"\t706\r\n",
            "\t\"Arkansas\"\t\"05\"\t\"2019\"\t\"2019\"\t326\r\n",
            "\t\"California\"\t\"06\"\t\"2019\"\t\"2019\"\t3081\r\n",
            "\t\"Colorado\"\t\"08\"\t\"2019\"\t\"2019\"\t899\r\n",
            "\t\"Connecticut\"\t\"09\"\t\"2019\"\t\"2019\"\t217\r\n",
            "\t\"Delaware\"\t\"10\"\t\"2019\"\t\"2019\"\t66\r\n",
            "\t\"District of Columbia\"\t\"11\"\t\"2019\"\t\"2019\"\t72\r\n",
            "\t\"Florida\"\t\"12\"\t\"2019\"\t\"2019\"\t2052\r\n",
            "\t\"Georgia\"\t\"13\"\t\"2019\"\t\"2019\"\t744\r\n",
            "\t\"Hawaii\"\t\"15\"\t\"2019\"\t\"2019\"\t319\r\n",
            "\t\"Idaho\"\t\"16\"\t\"2019\"\t\"2019\"\t619\r\n",
            "\t\"Illinois\"\t\"17\"\t\"2019\"\t\"2019\"\t819\r\n",
            "\t\"Indiana\"\t\"18\"\t\"2019\"\t\"2019\"\t1160\r\n",
            "\t\"Iowa\"\t\"19\"\t\"2019\"\t\"2019\"\t507\r\n",
            "\t\"Kansas\"\t\"20\"\t\"2019\"\t\"2019\"\t494\r\n",
            "\t\"Kentucky\"\t\"21\"\t\"2019\"\t\"2019\"\t680\r\n",
            "\t\"Louisiana\"\t\"22\"\t\"2019\"\t\"2019\"\t153\r\n",
            "\t\"Maine\"\t\"23\"\t\"2019\"\t\"2019\"\t222\r\n",
            "\t\"Maryland\"\t\"24\"\t\"2019\"\t\"2019\"\t533\r\n",
            "\t\"Massachusetts\"\t\"25\"\t\"2019\"\t\"2019\"\t395\r\n",
            "\t\"Michigan\"\t\"26\"\t\"2019\"\t\"2019\"\t1534\r\n",
            "\t\"Minnesota\"\t\"27\"\t\"2019\"\t\"2019\"\t800\r\n",
            "\t\"Mississippi\"\t\"28\"\t\"2019\"\t\"2019\"\t169\r\n",
            "\t\"Missouri\"\t\"29\"\t\"2019\"\t\"2019\"\t1071\r\n",
            "\t\"Montana\"\t\"30\"\t\"2019\"\t\"2019\"\t263\r\n",
            "\t\"Nebraska\"\t\"31\"\t\"2019\"\t\"2019\"\t93\r\n",
            "\t\"Nevada\"\t\"32\"\t\"2019\"\t\"2019\"\t573\r\n",
            "\t\"New Hampshire\"\t\"33\"\t\"2019\"\t\"2019\"\t163\r\n",
            "\t\"New Jersey\"\t\"34\"\t\"2019\"\t\"2019\"\t415\r\n",
            "\t\"New Mexico\"\t\"35\"\t\"2019\"\t\"2019\"\t274\r\n",
            "\t\"New York\"\t\"36\"\t\"2019\"\t\"2019\"\t2458\r\n",
            "\t\"North Carolina\"\t\"37\"\t\"2019\"\t\"2019\"\t716\r\n",
            "\t\"North Dakota\"\t\"38\"\t\"2019\"\t\"2019\"\t120\r\n",
            "\t\"Ohio\"\t\"39\"\t\"2019\"\t\"2019\"\t1599\r\n",
            "\t\"Oklahoma\"\t\"40\"\t\"2019\"\t\"2019\"\t505\r\n",
            "\t\"Oregon\"\t\"41\"\t\"2019\"\t\"2019\"\t865\r\n",
            "\t\"Pennsylvania\"\t\"42\"\t\"2019\"\t\"2019\"\t2606\r\n",
            "\t\"Rhode Island\"\t\"44\"\t\"2019\"\t\"2019\"\t48\r\n",
            "\t\"South Carolina\"\t\"45\"\t\"2019\"\t\"2019\"\t361\r\n",
            "\t\"South Dakota\"\t\"46\"\t\"2019\"\t\"2019\"\t89\r\n",
            "\t\"Tennessee\"\t\"47\"\t\"2019\"\t\"2019\"\t956\r\n",
            "\t\"Texas\"\t\"48\"\t\"2019\"\t\"2019\"\t2618\r\n",
            "\t\"Utah\"\t\"49\"\t\"2019\"\t\"2019\"\t1027\r\n",
            "\t\"Vermont\"\t\"50\"\t\"2019\"\t\"2019\"\t125\r\n",
            "\t\"Virginia\"\t\"51\"\t\"2019\"\t\"2019\"\t941\r\n",
            "\t\"Washington\"\t\"53\"\t\"2019\"\t\"2019\"\t1745\r\n",
            "\t\"West Virginia\"\t\"54\"\t\"2019\"\t\"2019\"\t136\r\n",
            "\t\"Wisconsin\"\t\"55\"\t\"2019\"\t\"2019\"\t1604\r\n",
            "\t\"Wyoming\"\t\"56\"\t\"2019\"\t\"2019\"\t130\r\n"
          ],
          "name": "stdout"
        }
      ]
    },
    {
      "cell_type": "markdown",
      "metadata": {
        "id": "bnOWtbiVr-2r"
      },
      "source": [
        "## Using SED to Manipulate Files"
      ]
    },
    {
      "cell_type": "markdown",
      "metadata": {
        "id": "86o3H7GbsUkp"
      },
      "source": [
        "A text editor can be used to change the contents of a file. SED (Stream EDitor) is a common text editor that can be used to manipulate text files from a command line.\r\n",
        "\r\n",
        "Wiki Page for sed: https://en.wikipedia.org/wiki/Sed"
      ]
    },
    {
      "cell_type": "markdown",
      "metadata": {
        "id": "fwh14dDFtYOc"
      },
      "source": [
        "A text editor such as sed is certainly more powerful than commands used to print the contents of a file.  For example, the following sed command can be used to print a sequence of lines in the middle of a file. "
      ]
    },
    {
      "cell_type": "code",
      "metadata": {
        "id": "MYZrT2tNrwwz"
      },
      "source": [
        "#Printing lines 2 through 52 of a file\r\n",
        "!sed -n 2,52p /content/sample_data/AtHome_Births_StateLevel.txt"
      ],
      "execution_count": null,
      "outputs": []
    },
    {
      "cell_type": "markdown",
      "metadata": {
        "id": "T15lNi5VvSwE"
      },
      "source": [
        "SED allows one to *push* the contents being printing to the screen to be saved into a second file.  This action requires the use of a piping command, i.e. <strong>></strong>, and a file name should be provided for the new file."
      ]
    },
    {
      "cell_type": "code",
      "metadata": {
        "id": "kPQNSnbauwlO"
      },
      "source": [
        "#Printing lines 2 through 52 of a file AND pushing contents from print into a new file\r\n",
        "!sed -n 2,52p /content/sample_data/AtHome_Births_StateLevel.txt > /content/sample_data/AtHome_Births_StateLevel_v2.txt"
      ],
      "execution_count": null,
      "outputs": []
    },
    {
      "cell_type": "code",
      "metadata": {
        "colab": {
          "base_uri": "https://localhost:8080/"
        },
        "id": "l_VpeOphu4Ul",
        "outputId": "0b36bd9b-ca5c-4f1e-cf58-459f09aaa628"
      },
      "source": [
        "#Checking to see if new file was created\r\n",
        "!ls '/content/sample_data'"
      ],
      "execution_count": null,
      "outputs": [
        {
          "output_type": "stream",
          "text": [
            "AtHome_Births_StateLevel.txt\t Hospital_Births_StateLevel.txt\n",
            "AtHome_Births_StateLevel_v2.txt\n"
          ],
          "name": "stdout"
        }
      ]
    },
    {
      "cell_type": "code",
      "metadata": {
        "colab": {
          "base_uri": "https://localhost:8080/"
        },
        "id": "gYssmYqOwIwH",
        "outputId": "d9ea9af3-c242-4957-f75e-2720949f7fab"
      },
      "source": [
        "#Printing entire file to view changes\r\n",
        "!cat /content/sample_data/AtHome_Births_StateLevel_v2.txt"
      ],
      "execution_count": null,
      "outputs": [
        {
          "output_type": "stream",
          "text": [
            "\t\"Alabama\"\t\"01\"\t\"2019\"\t\"2019\"\t243\r\n",
            "\t\"Alaska\"\t\"02\"\t\"2019\"\t\"2019\"\t195\r\n",
            "\t\"Arizona\"\t\"04\"\t\"2019\"\t\"2019\"\t706\r\n",
            "\t\"Arkansas\"\t\"05\"\t\"2019\"\t\"2019\"\t326\r\n",
            "\t\"California\"\t\"06\"\t\"2019\"\t\"2019\"\t3081\r\n",
            "\t\"Colorado\"\t\"08\"\t\"2019\"\t\"2019\"\t899\r\n",
            "\t\"Connecticut\"\t\"09\"\t\"2019\"\t\"2019\"\t217\r\n",
            "\t\"Delaware\"\t\"10\"\t\"2019\"\t\"2019\"\t66\r\n",
            "\t\"District of Columbia\"\t\"11\"\t\"2019\"\t\"2019\"\t72\r\n",
            "\t\"Florida\"\t\"12\"\t\"2019\"\t\"2019\"\t2052\r\n",
            "\t\"Georgia\"\t\"13\"\t\"2019\"\t\"2019\"\t744\r\n",
            "\t\"Hawaii\"\t\"15\"\t\"2019\"\t\"2019\"\t319\r\n",
            "\t\"Idaho\"\t\"16\"\t\"2019\"\t\"2019\"\t619\r\n",
            "\t\"Illinois\"\t\"17\"\t\"2019\"\t\"2019\"\t819\r\n",
            "\t\"Indiana\"\t\"18\"\t\"2019\"\t\"2019\"\t1160\r\n",
            "\t\"Iowa\"\t\"19\"\t\"2019\"\t\"2019\"\t507\r\n",
            "\t\"Kansas\"\t\"20\"\t\"2019\"\t\"2019\"\t494\r\n",
            "\t\"Kentucky\"\t\"21\"\t\"2019\"\t\"2019\"\t680\r\n",
            "\t\"Louisiana\"\t\"22\"\t\"2019\"\t\"2019\"\t153\r\n",
            "\t\"Maine\"\t\"23\"\t\"2019\"\t\"2019\"\t222\r\n",
            "\t\"Maryland\"\t\"24\"\t\"2019\"\t\"2019\"\t533\r\n",
            "\t\"Massachusetts\"\t\"25\"\t\"2019\"\t\"2019\"\t395\r\n",
            "\t\"Michigan\"\t\"26\"\t\"2019\"\t\"2019\"\t1534\r\n",
            "\t\"Minnesota\"\t\"27\"\t\"2019\"\t\"2019\"\t800\r\n",
            "\t\"Mississippi\"\t\"28\"\t\"2019\"\t\"2019\"\t169\r\n",
            "\t\"Missouri\"\t\"29\"\t\"2019\"\t\"2019\"\t1071\r\n",
            "\t\"Montana\"\t\"30\"\t\"2019\"\t\"2019\"\t263\r\n",
            "\t\"Nebraska\"\t\"31\"\t\"2019\"\t\"2019\"\t93\r\n",
            "\t\"Nevada\"\t\"32\"\t\"2019\"\t\"2019\"\t573\r\n",
            "\t\"New Hampshire\"\t\"33\"\t\"2019\"\t\"2019\"\t163\r\n",
            "\t\"New Jersey\"\t\"34\"\t\"2019\"\t\"2019\"\t415\r\n",
            "\t\"New Mexico\"\t\"35\"\t\"2019\"\t\"2019\"\t274\r\n",
            "\t\"New York\"\t\"36\"\t\"2019\"\t\"2019\"\t2458\r\n",
            "\t\"North Carolina\"\t\"37\"\t\"2019\"\t\"2019\"\t716\r\n",
            "\t\"North Dakota\"\t\"38\"\t\"2019\"\t\"2019\"\t120\r\n",
            "\t\"Ohio\"\t\"39\"\t\"2019\"\t\"2019\"\t1599\r\n",
            "\t\"Oklahoma\"\t\"40\"\t\"2019\"\t\"2019\"\t505\r\n",
            "\t\"Oregon\"\t\"41\"\t\"2019\"\t\"2019\"\t865\r\n",
            "\t\"Pennsylvania\"\t\"42\"\t\"2019\"\t\"2019\"\t2606\r\n",
            "\t\"Rhode Island\"\t\"44\"\t\"2019\"\t\"2019\"\t48\r\n",
            "\t\"South Carolina\"\t\"45\"\t\"2019\"\t\"2019\"\t361\r\n",
            "\t\"South Dakota\"\t\"46\"\t\"2019\"\t\"2019\"\t89\r\n",
            "\t\"Tennessee\"\t\"47\"\t\"2019\"\t\"2019\"\t956\r\n",
            "\t\"Texas\"\t\"48\"\t\"2019\"\t\"2019\"\t2618\r\n",
            "\t\"Utah\"\t\"49\"\t\"2019\"\t\"2019\"\t1027\r\n",
            "\t\"Vermont\"\t\"50\"\t\"2019\"\t\"2019\"\t125\r\n",
            "\t\"Virginia\"\t\"51\"\t\"2019\"\t\"2019\"\t941\r\n",
            "\t\"Washington\"\t\"53\"\t\"2019\"\t\"2019\"\t1745\r\n",
            "\t\"West Virginia\"\t\"54\"\t\"2019\"\t\"2019\"\t136\r\n",
            "\t\"Wisconsin\"\t\"55\"\t\"2019\"\t\"2019\"\t1604\r\n",
            "\t\"Wyoming\"\t\"56\"\t\"2019\"\t\"2019\"\t130\r\n"
          ],
          "name": "stdout"
        }
      ]
    },
    {
      "cell_type": "markdown",
      "metadata": {
        "id": "CGHVBWza9lEm"
      },
      "source": [
        "## Using SED to Find/Replace Contents"
      ]
    },
    {
      "cell_type": "markdown",
      "metadata": {
        "id": "HACJTPuFzaoX"
      },
      "source": [
        "Notice that each line in this data file begins with a tab character.  This is evident when the file is put into Notepad ++ and Show All Characters has been specifed for the text file.\r\n",
        "\r\n",
        "<p align='center'><img src=\"https://drive.google.com/uc?export=view&id=1JR_XPxdAl2RPsJAod1s7BW8V7vdUXkU_\"></p>\r\n",
        "\r\n"
      ]
    },
    {
      "cell_type": "markdown",
      "metadata": {
        "id": "TcqpOXT5hZEO"
      },
      "source": [
        "### Initial Tab Character Cause for Concern\r\n",
        "\r\n",
        "The fact that each lines begins with a tab character will adversely effect the reading in of the data. The following code can be used to read in this file into R.  Notice that R Magic is needed to execute R commands because this is a iPython Notebook."
      ]
    },
    {
      "cell_type": "code",
      "metadata": {
        "colab": {
          "base_uri": "https://localhost:8080/"
        },
        "id": "G4BeX1_DhZfn",
        "outputId": "2c92e96b-253b-4a62-a0ef-4408fc497ef9"
      },
      "source": [
        "%load_ext rpy2.ipython"
      ],
      "execution_count": null,
      "outputs": [
        {
          "output_type": "stream",
          "text": [
            "The rpy2.ipython extension is already loaded. To reload it, use:\n",
            "  %reload_ext rpy2.ipython\n"
          ],
          "name": "stdout"
        }
      ]
    },
    {
      "cell_type": "code",
      "metadata": {
        "id": "P6fq6yQuh0JR"
      },
      "source": [
        "%%R\r\n",
        "\r\n",
        "AtHome <- read.table(\"/content/sample_data/AtHome_Births_StateLevel_v2.txt\", header=FALSE, sep='\\t')"
      ],
      "execution_count": null,
      "outputs": []
    },
    {
      "cell_type": "code",
      "metadata": {
        "colab": {
          "base_uri": "https://localhost:8080/"
        },
        "id": "IOB7GeH3iGT3",
        "outputId": "ef142569-62d7-4370-d1eb-f888374aee78"
      },
      "source": [
        "%%R\r\n",
        "\r\n",
        "head(AtHome)"
      ],
      "execution_count": null,
      "outputs": [
        {
          "output_type": "stream",
          "text": [
            "  V1         V2 V3   V4   V5   V6\n",
            "1 NA    Alabama  1 2019 2019  243\n",
            "2 NA     Alaska  2 2019 2019  195\n",
            "3 NA    Arizona  4 2019 2019  706\n",
            "4 NA   Arkansas  5 2019 2019  326\n",
            "5 NA California  6 2019 2019 3081\n",
            "6 NA   Colorado  8 2019 2019  899\n"
          ],
          "name": "stdout"
        }
      ]
    },
    {
      "cell_type": "markdown",
      "metadata": {
        "id": "mq6kJB21juaQ"
      },
      "source": [
        "The problem with the initial tab character is not unique to R.  This text file was read into a spreadsheet and JMP and the same issue appears in both.\r\n",
        "\r\n",
        "<table border='1' bgcolor='white'>\r\n",
        "  <tr>\r\n",
        "    <td align='45%' align='center' valign='top'>\r\n",
        "     <p align='center'>Reading File into a Spreadsheet<br><br><img src=\"https://drive.google.com/uc?export=view&id=1cJQHML7A7ipbKPXcHp9a9kH5VU5Qjj1K\"></p>\r\n",
        "    </td>\r\n",
        "     <td align='10%' align='center' valign='top'>&nbsp;</td>\r\n",
        "        <td align='45%' align='center' valign='top'>\r\n",
        "\r\n",
        " <p align='center'>Reading File into JMP<br><br><img src=\"https://drive.google.com/uc?export=view&id=1QyzH6s6seS7uN2rRisrxLz00vo3Td864\"></p>\r\n",
        "       </td>\r\n",
        "  </tr>\r\n",
        "</table>\r\n",
        "\r\n"
      ]
    },
    {
      "cell_type": "markdown",
      "metadata": {
        "id": "5CLOAfrv4kVQ"
      },
      "source": [
        "###  Removing the Initial Tab Character from each Line\r\n",
        "\r\n",
        "The following sed command does the following\r\n",
        "\r\n",
        "*   Searches each line of the file named *filename*\r\n",
        "*   Finds the first occurance of the tab character, i.e. \\t\r\n",
        "*   Replaces the first occurance of \\t with *nothing*\r\n",
        "*   Creates a new file, named *filename2* for the output\r\n",
        "\r\n",
        "\r\n",
        "\r\n",
        "\r\n",
        "<p align='center'><img src=\"https://drive.google.com/uc?export=view&id=1sg9zYH1c2i6Ucrxm-2i6uiVy7SYvb_1_\"></p>"
      ]
    },
    {
      "cell_type": "code",
      "metadata": {
        "id": "CqUXFcvwzc4r"
      },
      "source": [
        "#Run the command above to remove the first tab occurance on each line in the AtHome_Births_StateLevel_v2 file\r\n",
        "!sed 's/\\t//' /content/sample_data/AtHome_Births_StateLevel_v2.txt > /content/sample_data/AtHome_Births_StateLevel_v3.txt"
      ],
      "execution_count": null,
      "outputs": []
    },
    {
      "cell_type": "code",
      "metadata": {
        "id": "3oznOp1Izpk0"
      },
      "source": [
        "#Verify that this command produces the desired output\r\n",
        "!cat /content/sample_data/AtHome_Births_StateLevel_v3.txt"
      ],
      "execution_count": null,
      "outputs": []
    },
    {
      "cell_type": "markdown",
      "metadata": {
        "id": "pk8cAS5b4uUH"
      },
      "source": [
        "The removal of the first tab occurance can be verified in Notepad ++ as is shown here.\r\n",
        "\r\n",
        "<p align='center'><img src=\"https://drive.google.com/uc?export=view&id=1-7ALLdTSvPTjrFrH4u3q4maTkdenzkEX\"></p>"
      ]
    },
    {
      "cell_type": "markdown",
      "metadata": {
        "id": "JGF7weUv44cn"
      },
      "source": [
        "SED can be used to easily convert this tab delimited file into the more common CSV delimited file.  In this situaiton all occurance of the tab character will be replaced with the comma.\r\n",
        "\r\n",
        "*   Search each line of the file named *filename*\r\n",
        "*   Finds each occurance of the tab character, i.e. \\t\r\n",
        "*   Replaces the each occurance of \\t with ,\r\n",
        "*   The trailing g preforms a global search, i.e. all occurances\r\n",
        "*   Creates a new file, named *filename2* for the output\r\n",
        "\r\n",
        "<p align='center'><img src=\"https://drive.google.com/uc?export=view&id=1fUmMPbEsRXSNdld3gn-gcTfPlQhXtQ95\"></p>"
      ]
    },
    {
      "cell_type": "code",
      "metadata": {
        "id": "Fzyunn4g7FUd"
      },
      "source": [
        "#Convert from tab delimited to comma delimited\r\n",
        "!sed 's/\\t/,/g' /content/sample_data/AtHome_Births_StateLevel_v3.txt > /content/sample_data/AtHome_Births_StateLevel_v4.txt"
      ],
      "execution_count": null,
      "outputs": []
    },
    {
      "cell_type": "code",
      "metadata": {
        "id": "gbq0q5YD0DHU"
      },
      "source": [
        "#Verify that conversion was completed successfully\r\n",
        "!cat /content/sample_data/AtHome_Births_StateLevel_v4.txt"
      ],
      "execution_count": null,
      "outputs": []
    },
    {
      "cell_type": "markdown",
      "metadata": {
        "id": "aztgvtNF8TN7"
      },
      "source": [
        "## Using SED to Insert/Delete Lines"
      ]
    },
    {
      "cell_type": "markdown",
      "metadata": {
        "id": "eHlnNEf0_XP1"
      },
      "source": [
        "Next, sed will be used to add field or variable names to the first line of this data file. \r\n",
        "\r\n",
        "*   Insert a line at line 1\r\n",
        "*   Insert the field/variable names into Line 1; Contents are contained with slashes\r\n",
        "*   Create a new file, named *filename2* for the output\r\n",
        "\r\n",
        "<p align='center'><img src=\"https://drive.google.com/uc?export=view&id=1Rdzm5SCRiKKdt67JBcX5uJ6toNk6CVan\"></p>"
      ]
    },
    {
      "cell_type": "code",
      "metadata": {
        "id": "eMoGmQ0B8SgU"
      },
      "source": [
        "#Insert variable names into first line of data file\r\n",
        "## NOTE: Be careful not to run this line mutiple times          ##\r\n",
        "##       Can delete lines using '1d' option of sed (see below)  ##\r\n",
        "\r\n",
        "!sed '1i \\State, StateCode, Year, YearCode, AtHomeCount\\' /content/sample_data/AtHome_Births_StateLevel_v4.txt > /content/sample_data/AtHome_Births_StateLevel_v5.txt "
      ],
      "execution_count": null,
      "outputs": []
    },
    {
      "cell_type": "code",
      "metadata": {
        "id": "-1RlqkQq8mUe"
      },
      "source": [
        "#Verify that header was successfully added to thd data file\r\n",
        "!cat /content/sample_data/AtHome_Births_StateLevel_v5.txt"
      ],
      "execution_count": null,
      "outputs": []
    },
    {
      "cell_type": "markdown",
      "metadata": {
        "id": "wGbipl8y_iO_"
      },
      "source": [
        "Comment:  The -i option in sed permits one to edit the file <strong>in-place</strong>.  Here, the header information here is put into the *same* file -- no new file is being created here for the output.\r\n",
        "\r\n",
        "<p align='center'><img src=\"https://drive.google.com/uc?export=view&id=1-HSWFO_nvam13ZBI3peDbB8a2G60k-ep\"></p>"
      ]
    },
    {
      "cell_type": "markdown",
      "metadata": {
        "id": "6Q4VYxiKEbJ0"
      },
      "source": [
        "The following command can be used to <strong>delete</strong> line 1 from an existing data file."
      ]
    },
    {
      "cell_type": "code",
      "metadata": {
        "id": "kSp3RiN0c-sg"
      },
      "source": [
        "#The following can be used delete the first line in a data file\r\n",
        "!sed -i '1d' /content/sample_data/AtHome_Births_StateLevel_v5.txt"
      ],
      "execution_count": null,
      "outputs": []
    },
    {
      "cell_type": "markdown",
      "metadata": {
        "id": "BBoqKkzaqIAZ"
      },
      "source": [
        "## Using AWK to Determine #Records and #Fields"
      ]
    },
    {
      "cell_type": "markdown",
      "metadata": {
        "id": "ikKx7uqfqiR5"
      },
      "source": [
        "AWK is a classic language that can be used for the processing of text files. AWK was created by Alfred Aho, Peter Weinberger, and Brian Kernighan who all worked together at Bell Labs. \r\n",
        "\r\n",
        "AWK Link:  https://en.wikipedia.org/wiki/AWK"
      ]
    },
    {
      "cell_type": "code",
      "metadata": {
        "colab": {
          "base_uri": "https://localhost:8080/"
        },
        "id": "4n9dgJz5qSeY",
        "outputId": "edecf4c3-7b92-48ce-a9f8-4c2786ef6359"
      },
      "source": [
        "#The following command can be used to determine the number of lines in a file\r\n",
        "!awk 'END{print NR}' /content/sample_data/AtHome_Births_StateLevel_v5.txt"
      ],
      "execution_count": null,
      "outputs": [
        {
          "output_type": "stream",
          "text": [
            "52\n"
          ],
          "name": "stdout"
        }
      ]
    },
    {
      "cell_type": "code",
      "metadata": {
        "colab": {
          "base_uri": "https://localhost:8080/"
        },
        "id": "f2-utAQ2qbuH",
        "outputId": "d3b3833e-f3f9-43c9-b21e-acd536e32191"
      },
      "source": [
        "#The following command can be used to determine the number of fields in a file; Note the deliminter, here a comma, should be specified\r\n",
        "!awk -F',' '{print NF; exit}' /content/sample_data/AtHome_Births_StateLevel_v5.txt"
      ],
      "execution_count": null,
      "outputs": [
        {
          "output_type": "stream",
          "text": [
            "5\n"
          ],
          "name": "stdout"
        }
      ]
    },
    {
      "cell_type": "markdown",
      "metadata": {
        "id": "HSmO6joCrwFH"
      },
      "source": [
        "Note:  The following sed command can be used to determine the number of lines in a text file.  \r\n",
        "<p align='center'><code>!sed -n '$=' /content/sample_data/AtHome_Births_StateLevel_v5.txt</code></p>"
      ]
    },
    {
      "cell_type": "markdown",
      "metadata": {
        "id": "4HiahcuHOZpa"
      },
      "source": [
        "## Reading the Processed Data File into R"
      ]
    },
    {
      "cell_type": "markdown",
      "metadata": {
        "id": "uene2kuQOdm5"
      },
      "source": [
        "This an iPython Notebook; thus, to run R commands, R Magic will need to be implemented. "
      ]
    },
    {
      "cell_type": "code",
      "metadata": {
        "colab": {
          "base_uri": "https://localhost:8080/"
        },
        "id": "Qy4TRHBVOel6",
        "outputId": "f3ae1b82-da5f-489a-9692-54f3ff04de91"
      },
      "source": [
        "%load_ext rpy2.ipython"
      ],
      "execution_count": null,
      "outputs": [
        {
          "output_type": "stream",
          "text": [
            "The rpy2.ipython extension is already loaded. To reload it, use:\n",
            "  %reload_ext rpy2.ipython\n"
          ],
          "name": "stdout"
        }
      ]
    },
    {
      "cell_type": "markdown",
      "metadata": {
        "id": "5v3iFpfDQAqN"
      },
      "source": [
        "###  Using read.csv() with the default settings\r\n",
        "Once again, R commands can be run in code blocks when %%R is used in the first line of the code block."
      ]
    },
    {
      "cell_type": "code",
      "metadata": {
        "id": "bXzY8diJO60r"
      },
      "source": [
        "%%R\r\n",
        "\r\n",
        "AtHome <- read.csv('/content/sample_data/AtHome_Births_StateLevel_v5.txt')"
      ],
      "execution_count": null,
      "outputs": []
    },
    {
      "cell_type": "code",
      "metadata": {
        "colab": {
          "base_uri": "https://localhost:8080/"
        },
        "id": "hajfFA0iPEzR",
        "outputId": "ab84e810-f27c-46e5-e36b-da68195ec3f8"
      },
      "source": [
        "%%R\r\n",
        "\r\n",
        "head(AtHome)"
      ],
      "execution_count": null,
      "outputs": [
        {
          "output_type": "stream",
          "text": [
            "       State StateCode Year YearCode AtHomeCount\n",
            "1    Alabama         1 2019     2019         243\n",
            "2     Alaska         2 2019     2019         195\n",
            "3    Arizona         4 2019     2019         706\n",
            "4   Arkansas         5 2019     2019         326\n",
            "5 California         6 2019     2019        3081\n",
            "6   Colorado         8 2019     2019         899\n"
          ],
          "name": "stdout"
        }
      ]
    },
    {
      "cell_type": "code",
      "metadata": {
        "colab": {
          "base_uri": "https://localhost:8080/"
        },
        "id": "6XR_839os4mJ",
        "outputId": "9ff81761-9ecc-41ae-cc6a-653a61c756ed"
      },
      "source": [
        "#Verify that R read in the file correctly\r\n",
        "!head /content/sample_data/AtHome_Births_StateLevel_v5.txt"
      ],
      "execution_count": null,
      "outputs": [
        {
          "output_type": "stream",
          "text": [
            "State, StateCode, Year, YearCode, AtHomeCount\n",
            "\"Alabama\",\"01\",\"2019\",\"2019\",243\r\n",
            "\"Alaska\",\"02\",\"2019\",\"2019\",195\r\n",
            "\"Arizona\",\"04\",\"2019\",\"2019\",706\r\n",
            "\"Arkansas\",\"05\",\"2019\",\"2019\",326\r\n",
            "\"California\",\"06\",\"2019\",\"2019\",3081\r\n",
            "\"Colorado\",\"08\",\"2019\",\"2019\",899\r\n",
            "\"Connecticut\",\"09\",\"2019\",\"2019\",217\r\n",
            "\"Delaware\",\"10\",\"2019\",\"2019\",66\r\n",
            "\"District of Columbia\",\"11\",\"2019\",\"2019\",72\r\n"
          ],
          "name": "stdout"
        }
      ]
    },
    {
      "cell_type": "code",
      "metadata": {
        "colab": {
          "base_uri": "https://localhost:8080/"
        },
        "id": "klGhDzY1PJrP",
        "outputId": "77fddef2-ca1e-4c4c-8a1e-29ecd452eef5"
      },
      "source": [
        "#Verify the dimensions of the data.frame inside R\r\n",
        "%%R \r\n",
        "\r\n",
        "dim(AtHome)"
      ],
      "execution_count": null,
      "outputs": [
        {
          "output_type": "stream",
          "text": [
            "[1] 51  6\n"
          ],
          "name": "stdout"
        }
      ]
    },
    {
      "cell_type": "markdown",
      "metadata": {
        "id": "F5fckiVkwWYP"
      },
      "source": [
        "### Some additional features of read.csv() function in R"
      ]
    },
    {
      "cell_type": "markdown",
      "metadata": {
        "id": "K7ALdqCrwoMC"
      },
      "source": [
        "The following provides a brief explanation of common parameters for the read.csv() function.\r\n",
        "\r\n",
        "1.   Parameter: header= ; TRUE/FALSE; Does the data file being read in have a header that contains field/variable names?\r\n",
        "2.   Parameter: colClasses=c(...); Specify the data type for each field\r\n",
        "3.   Parameter: quote= ;  Control over how quoted strings are handled\r\n",
        "\r\n"
      ]
    },
    {
      "cell_type": "code",
      "metadata": {
        "id": "LKD79r7gt6yf"
      },
      "source": [
        "#Specification that a header exists in the data file; the header will be used for the field/variable names in R\r\n",
        "%%R\r\n",
        "\r\n",
        "AtHome <- read.csv('/content/sample_data/AtHome_Births_StateLevel_v5.txt', header=TRUE)\r\n"
      ],
      "execution_count": null,
      "outputs": []
    },
    {
      "cell_type": "code",
      "metadata": {
        "colab": {
          "base_uri": "https://localhost:8080/"
        },
        "id": "eNWHzDkx8Yvf",
        "outputId": "1baf5568-cd59-4a33-e26d-7fccfbb03b45"
      },
      "source": [
        "%%R\r\n",
        "\r\n",
        "AtHome <- read.csv('/content/sample_data/AtHome_Births_StateLevel_v5.txt', header=TRUE,quote=\"\")\r\n",
        "head(AtHome)"
      ],
      "execution_count": null,
      "outputs": [
        {
          "output_type": "stream",
          "text": [
            "         State StateCode   Year YearCode AtHomeCount\n",
            "1    \"Alabama\"      \"01\" \"2019\"   \"2019\"         243\n",
            "2     \"Alaska\"      \"02\" \"2019\"   \"2019\"         195\n",
            "3    \"Arizona\"      \"04\" \"2019\"   \"2019\"         706\n",
            "4   \"Arkansas\"      \"05\" \"2019\"   \"2019\"         326\n",
            "5 \"California\"      \"06\" \"2019\"   \"2019\"        3081\n",
            "6   \"Colorado\"      \"08\" \"2019\"   \"2019\"         899\n"
          ],
          "name": "stdout"
        }
      ]
    },
    {
      "cell_type": "markdown",
      "metadata": {
        "id": "ySIoAWrIzXwo"
      },
      "source": [
        "Next, consider the fact that preceding 0s for StateCode have been removed by R."
      ]
    },
    {
      "cell_type": "code",
      "metadata": {
        "colab": {
          "base_uri": "https://localhost:8080/"
        },
        "id": "-QOsHS2lx0lU",
        "outputId": "07b9d92d-f44c-4126-c469-8c98d72d6c7c"
      },
      "source": [
        "#Looking at first few rows in the AtHome data.frame\r\n",
        "%%R\r\n",
        "head(AtHome)"
      ],
      "execution_count": null,
      "outputs": [
        {
          "output_type": "stream",
          "text": [
            "       State StateCode Year YearCode AtHomeCount\n",
            "1    Alabama         1 2019     2019         243\n",
            "2     Alaska         2 2019     2019         195\n",
            "3    Arizona         4 2019     2019         706\n",
            "4   Arkansas         5 2019     2019         326\n",
            "5 California         6 2019     2019        3081\n",
            "6   Colorado         8 2019     2019         899\n"
          ],
          "name": "stdout"
        }
      ]
    },
    {
      "cell_type": "markdown",
      "metadata": {
        "id": "4y8WcRIYzs2r"
      },
      "source": [
        "In fact, R is treating StateCode as a numeric quantitity (as an integer to be more exact) and *not* as an code."
      ]
    },
    {
      "cell_type": "code",
      "metadata": {
        "colab": {
          "base_uri": "https://localhost:8080/"
        },
        "id": "45-91LrWz3VG",
        "outputId": "24607de6-7d84-4dd4-8bc9-9bde6a0ca5fa"
      },
      "source": [
        "#Use str() to obtain the structure of the AtHome data.frame\r\n",
        "%%R\r\n",
        "str(AtHome)"
      ],
      "execution_count": null,
      "outputs": [
        {
          "output_type": "stream",
          "text": [
            "'data.frame':\t51 obs. of  5 variables:\n",
            " $ State      : chr  \"Alabama\" \"Alaska\" \"Arizona\" \"Arkansas\" ...\n",
            " $ StateCode  : int  1 2 4 5 6 8 9 10 11 12 ...\n",
            " $ Year       : int  2019 2019 2019 2019 2019 2019 2019 2019 2019 2019 ...\n",
            " $ YearCode   : int  2019 2019 2019 2019 2019 2019 2019 2019 2019 2019 ...\n",
            " $ AtHomeCount: int  243 195 706 326 3081 899 217 66 72 2052 ...\n"
          ],
          "name": "stdout"
        }
      ]
    },
    {
      "cell_type": "markdown",
      "metadata": {
        "id": "kUs6S5AB0Nqo"
      },
      "source": [
        "Consider the following use of the colClasses=c() parameter in the read.csv() function call.  The length of the colClasses vector should match the number of fields in the data file."
      ]
    },
    {
      "cell_type": "code",
      "metadata": {
        "id": "-p7aeOklyEKB"
      },
      "source": [
        "#Specify the data type for each field upon reading in the data file in R\r\n",
        "%%R\r\n",
        "\r\n",
        "DataTypesForEachField <- c(\"character\",\"character\",\"character\",\"character\",\"numeric\")\r\n",
        "AtHome <- read.csv('/content/sample_data/AtHome_Births_StateLevel_v5.txt', header=TRUE, colClasses=DataTypesForEachField)\r\n"
      ],
      "execution_count": null,
      "outputs": []
    },
    {
      "cell_type": "code",
      "metadata": {
        "colab": {
          "base_uri": "https://localhost:8080/"
        },
        "id": "slh17eDwyHDk",
        "outputId": "6131c065-6439-42a7-a8f0-50eb6aa9663e"
      },
      "source": [
        "#Verify that R is using the data types specified\r\n",
        "%%R\r\n",
        "str(AtHome)\r\n",
        " #Insert a blank line; Note cat this is another one of those operating system level commands\r\n",
        " cat(\"\\n\")\r\n",
        "head(AtHome)"
      ],
      "execution_count": null,
      "outputs": [
        {
          "output_type": "stream",
          "text": [
            "'data.frame':\t51 obs. of  5 variables:\n",
            " $ State      : chr  \"Alabama\" \"Alaska\" \"Arizona\" \"Arkansas\" ...\n",
            " $ StateCode  : chr  \"01\" \"02\" \"04\" \"05\" ...\n",
            " $ Year       : chr  \"2019\" \"2019\" \"2019\" \"2019\" ...\n",
            " $ YearCode   : chr  \"2019\" \"2019\" \"2019\" \"2019\" ...\n",
            " $ AtHomeCount: num  243 195 706 326 3081 ...\n",
            "\n",
            "       State StateCode Year YearCode AtHomeCount\n",
            "1    Alabama        01 2019     2019         243\n",
            "2     Alaska        02 2019     2019         195\n",
            "3    Arizona        04 2019     2019         706\n",
            "4   Arkansas        05 2019     2019         326\n",
            "5 California        06 2019     2019        3081\n",
            "6   Colorado        08 2019     2019         899\n"
          ],
          "name": "stdout"
        }
      ]
    },
    {
      "cell_type": "markdown",
      "metadata": {
        "id": "vaxB2fL-2Wzm"
      },
      "source": [
        "The following will not work with read.csv() function as there is a conflict.  Year is a quoted string and R wants to read this field in as a string -- even though numeric is the data type specified in the code below."
      ]
    },
    {
      "cell_type": "code",
      "metadata": {
        "colab": {
          "base_uri": "https://localhost:8080/"
        },
        "id": "pJ5PPGmM2WF3",
        "outputId": "e88d7dde-698c-446e-d06d-f191a5e1caef"
      },
      "source": [
        "#Specify the data type for each field upon reading in the data file in R\r\n",
        "%%R\r\n",
        "\r\n",
        "DataTypesForEachField <- c(\"character\",\"character\",\"numeric\",\"character\",\"numeric\")\r\n",
        "AtHome <- read.csv('/content/sample_data/AtHome_Births_StateLevel_v5.txt', header=TRUE, colClasses=DataTypesForEachField)"
      ],
      "execution_count": null,
      "outputs": [
        {
          "output_type": "stream",
          "text": [
            "R[write to console]: Error in scan(file = file, what = what, sep = sep, quote = quote, dec = dec,  : \n",
            "  scan() expected 'a real', got '\"2019\"'\n",
            "Calls: <Anonymous> ... <Anonymous> -> withVisible -> read.csv -> read.table -> scan\n",
            "\n"
          ],
          "name": "stderr"
        },
        {
          "output_type": "stream",
          "text": [
            "\n",
            "Error in scan(file = file, what = what, sep = sep, quote = quote, dec = dec,  : \n",
            "  scan() expected 'a real', got '\"2019\"'\n",
            "Calls: <Anonymous> ... <Anonymous> -> withVisible -> read.csv -> read.table -> scan\n"
          ],
          "name": "stdout"
        }
      ]
    },
    {
      "cell_type": "markdown",
      "metadata": {
        "id": "NjjP1wrh4mDa"
      },
      "source": [
        "One possible remedy is to read the Year in as a string and then promptly change the data type to an interger."
      ]
    },
    {
      "cell_type": "code",
      "metadata": {
        "colab": {
          "base_uri": "https://localhost:8080/"
        },
        "id": "ZrJH2QxdyQFz",
        "outputId": "3702db23-a8c3-4f27-c297-aa1753204ff1"
      },
      "source": [
        "#Converting the Year to an interger after reading in the data file\r\n",
        "%%R\r\n",
        "\r\n",
        "DataTypesForEachField <- c(\"character\",\"character\",\"character\",\"character\",\"numeric\")\r\n",
        "AtHome <- read.csv('/content/sample_data/AtHome_Births_StateLevel_v5.txt', header=TRUE, colClasses=DataTypesForEachField)\r\n",
        "\r\n",
        "cat('Structure of AtHome data.frame as read in by read.csv \\n\\n')\r\n",
        "str(AtHome)\r\n",
        "\r\n",
        "#Converting the data type for Year to an integer\r\n",
        "AtHome$Year <- as.integer(AtHome$Year)\r\n",
        "cat('\\n Structure of AtHome data.frame after conversion of data type for Year \\n\\n')\r\n",
        "str(AtHome)\r\n",
        "\r\n"
      ],
      "execution_count": null,
      "outputs": [
        {
          "output_type": "stream",
          "text": [
            "Structure of AtHome data.frame as read in by read.csv \n",
            "\n",
            "'data.frame':\t51 obs. of  5 variables:\n",
            " $ State      : chr  \"Alabama\" \"Alaska\" \"Arizona\" \"Arkansas\" ...\n",
            " $ StateCode  : chr  \"01\" \"02\" \"04\" \"05\" ...\n",
            " $ Year       : chr  \"2019\" \"2019\" \"2019\" \"2019\" ...\n",
            " $ YearCode   : chr  \"2019\" \"2019\" \"2019\" \"2019\" ...\n",
            " $ AtHomeCount: num  243 195 706 326 3081 ...\n",
            "\n",
            " Structure of AtHome data.frame after conversion of data type for Year \n",
            "\n",
            "'data.frame':\t51 obs. of  5 variables:\n",
            " $ State      : chr  \"Alabama\" \"Alaska\" \"Arizona\" \"Arkansas\" ...\n",
            " $ StateCode  : chr  \"01\" \"02\" \"04\" \"05\" ...\n",
            " $ Year       : int  2019 2019 2019 2019 2019 2019 2019 2019 2019 2019 ...\n",
            " $ YearCode   : chr  \"2019\" \"2019\" \"2019\" \"2019\" ...\n",
            " $ AtHomeCount: num  243 195 706 326 3081 ...\n"
          ],
          "name": "stdout"
        }
      ]
    },
    {
      "cell_type": "markdown",
      "metadata": {
        "id": "3Lc5OHVU66Yl"
      },
      "source": [
        "A view of the final AtHome data.frame where StateCode is a string and Year is numeric."
      ]
    },
    {
      "cell_type": "code",
      "metadata": {
        "colab": {
          "base_uri": "https://localhost:8080/"
        },
        "id": "qU2LDALP7AmN",
        "outputId": "382b8eba-f3ff-48ec-e3de-3e975fdd864f"
      },
      "source": [
        "%%R\r\n",
        "head(AtHome)"
      ],
      "execution_count": null,
      "outputs": [
        {
          "output_type": "stream",
          "text": [
            "       State StateCode Year YearCode AtHomeCount\n",
            "1    Alabama        01 2019     2019         243\n",
            "2     Alaska        02 2019     2019         195\n",
            "3    Arizona        04 2019     2019         706\n",
            "4   Arkansas        05 2019     2019         326\n",
            "5 California        06 2019     2019        3081\n",
            "6   Colorado        08 2019     2019         899\n"
          ],
          "name": "stdout"
        }
      ]
    },
    {
      "cell_type": "markdown",
      "metadata": {
        "id": "jH9bvxNd7TNq"
      },
      "source": [
        "##   Task:  Complete the following for the AtHospital File\r\n",
        "\r\n",
        "\r\n",
        "1.   Clean-up the hosptial data file, e.g. remove footer info, remove initial tabs on each line, etc.\r\n",
        "2.   Convert the file from tab deliminated to comma deliminated\r\n",
        "3.   Add an appropriate header to label each field\r\n",
        "4.   Read the AtHospital data into R using read.csv()\r\n",
        "5.   Specify that StateCode is indeed a string containing the preceeding 0s and that Year as been specified as an interger\r\n"
      ]
    }
  ]
}