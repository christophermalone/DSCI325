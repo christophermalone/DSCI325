{
  "nbformat": 4,
  "nbformat_minor": 0,
  "metadata": {
    "colab": {
      "name": "Module2_Part1.ipynb",
      "provenance": [],
      "toc_visible": true,
      "authorship_tag": "ABX9TyO3sYlBMxUsYPtfwbA+Uad9",
      "include_colab_link": true
    },
    "kernelspec": {
      "name": "python3",
      "display_name": "Python 3"
    }
  },
  "cells": [
    {
      "cell_type": "markdown",
      "metadata": {
        "id": "view-in-github",
        "colab_type": "text"
      },
      "source": [
        "<a href=\"https://colab.research.google.com/github/christophermalone/DSCI325/blob/main/Module2_Part1.ipynb\" target=\"_parent\"><img src=\"https://colab.research.google.com/assets/colab-badge.svg\" alt=\"Open In Colab\"/></a>"
      ]
    },
    {
      "cell_type": "markdown",
      "metadata": {
        "id": "R05cYFVzZm7R"
      },
      "source": [
        "# Module 2 | Part 1: Pre-Processing of Data Files"
      ]
    },
    {
      "cell_type": "markdown",
      "metadata": {
        "id": "BbnR0V-jbBzu"
      },
      "source": [
        "This handout will include some of the common tasks regarding the pre-processing of data file before the data is read into R or Python.  In particular, the processing being done here is happening at the operating system level.  \r\n"
      ]
    },
    {
      "cell_type": "markdown",
      "metadata": {
        "id": "oPMXRRD9kY3m"
      },
      "source": [
        "<table width='100%' ><tr><td bgcolor='green'></td></tr></table>\r\n",
        "\r\n",
        "### Example 2.1.1\r\n",
        "\r\n",
        "Consider data on births in the United States. This information is provided by the Center for Disease Control (CDC) and it's Natality data within their  WONDER online databases.\r\n",
        "\r\n",
        "Two different datasets were obtained for the most recent year available. \r\n",
        "\r\n",
        "*   Number of Births that took place At Home for each State\r\n",
        "*   Number of Births that took place in a Hospital for each State\r\n",
        "\r\n",
        "<i>Data Sources</i>: https://wonder.cdc.gov/natality-current.html\r\n",
        "\r\n",
        "<table width='100%' ><tr><td bgcolor='green'></td></tr></table>"
      ]
    },
    {
      "cell_type": "markdown",
      "metadata": {
        "id": "v3j4KfE4kDAm"
      },
      "source": [
        "These two data files have been saved into the following folder in Colab.\r\n",
        "\r\n",
        "<p align='center'><img src=\"https://drive.google.com/uc?export=view&id=1jieTL2t7jEocOtJAas1Svn8nOKNByKBr \"></p>\r\n",
        "\r\n"
      ]
    },
    {
      "cell_type": "markdown",
      "metadata": {
        "id": "1t1JFKoaln--"
      },
      "source": [
        "## Utility Functions to View Contents of a File\r\n",
        "Colab / iPython Notebook allows one to run commands at the operating system level using typical code blocks.  The commands must simply be preceeded with <strong>!</strong> , i.e. an exclaimation point."
      ]
    },
    {
      "cell_type": "markdown",
      "metadata": {
        "id": "H-JsRFwyl3GF"
      },
      "source": [
        "For example, to get a listing of file in a particular directory, use <strong> !ls *\\<path to directory\\>* </strong>"
      ]
    },
    {
      "cell_type": "code",
      "metadata": {
        "colab": {
          "base_uri": "https://localhost:8080/"
        },
        "id": "icz2AxREaq--",
        "outputId": "4aa3f7ca-95e5-4c8c-a37c-4109f2b6da51"
      },
      "source": [
        "#A listing of the files in the /content/sample_data/ folder\r\n",
        "!ls '/content/sample_data'"
      ],
      "execution_count": 15,
      "outputs": [
        {
          "output_type": "stream",
          "text": [
            "AtHome_Births_StateLevel.txt  Hospital_Births_StateLevel.txt\n"
          ],
          "name": "stdout"
        }
      ]
    },
    {
      "cell_type": "markdown",
      "metadata": {
        "id": "E85MpubHmlaF"
      },
      "source": [
        "To see the contents of a file, use <strong> !cat *\\<filename\\>* </strong>\r\n",
        "\r\n",
        "WARNING: Do *not* run this command on a large file."
      ]
    },
    {
      "cell_type": "code",
      "metadata": {
        "colab": {
          "base_uri": "https://localhost:8080/"
        },
        "id": "5uTqherImkxG",
        "outputId": "6b0e2286-ed21-495c-a517-cc3938a9b9e4"
      },
      "source": [
        "!cat /content/sample_data/AtHome_Births_StateLevel.txt"
      ],
      "execution_count": 16,
      "outputs": [
        {
          "output_type": "stream",
          "text": [
            "\"Notes\"\t\"State\"\t\"State Code\"\t\"Year\"\t\"Year Code\"\tBirths\r\n",
            "\t\"Alabama\"\t\"01\"\t\"2019\"\t\"2019\"\t243\r\n",
            "\t\"Alaska\"\t\"02\"\t\"2019\"\t\"2019\"\t195\r\n",
            "\t\"Arizona\"\t\"04\"\t\"2019\"\t\"2019\"\t706\r\n",
            "\t\"Arkansas\"\t\"05\"\t\"2019\"\t\"2019\"\t326\r\n",
            "\t\"California\"\t\"06\"\t\"2019\"\t\"2019\"\t3081\r\n",
            "\t\"Colorado\"\t\"08\"\t\"2019\"\t\"2019\"\t899\r\n",
            "\t\"Connecticut\"\t\"09\"\t\"2019\"\t\"2019\"\t217\r\n",
            "\t\"Delaware\"\t\"10\"\t\"2019\"\t\"2019\"\t66\r\n",
            "\t\"District of Columbia\"\t\"11\"\t\"2019\"\t\"2019\"\t72\r\n",
            "\t\"Florida\"\t\"12\"\t\"2019\"\t\"2019\"\t2052\r\n",
            "\t\"Georgia\"\t\"13\"\t\"2019\"\t\"2019\"\t744\r\n",
            "\t\"Hawaii\"\t\"15\"\t\"2019\"\t\"2019\"\t319\r\n",
            "\t\"Idaho\"\t\"16\"\t\"2019\"\t\"2019\"\t619\r\n",
            "\t\"Illinois\"\t\"17\"\t\"2019\"\t\"2019\"\t819\r\n",
            "\t\"Indiana\"\t\"18\"\t\"2019\"\t\"2019\"\t1160\r\n",
            "\t\"Iowa\"\t\"19\"\t\"2019\"\t\"2019\"\t507\r\n",
            "\t\"Kansas\"\t\"20\"\t\"2019\"\t\"2019\"\t494\r\n",
            "\t\"Kentucky\"\t\"21\"\t\"2019\"\t\"2019\"\t680\r\n",
            "\t\"Louisiana\"\t\"22\"\t\"2019\"\t\"2019\"\t153\r\n",
            "\t\"Maine\"\t\"23\"\t\"2019\"\t\"2019\"\t222\r\n",
            "\t\"Maryland\"\t\"24\"\t\"2019\"\t\"2019\"\t533\r\n",
            "\t\"Massachusetts\"\t\"25\"\t\"2019\"\t\"2019\"\t395\r\n",
            "\t\"Michigan\"\t\"26\"\t\"2019\"\t\"2019\"\t1534\r\n",
            "\t\"Minnesota\"\t\"27\"\t\"2019\"\t\"2019\"\t800\r\n",
            "\t\"Mississippi\"\t\"28\"\t\"2019\"\t\"2019\"\t169\r\n",
            "\t\"Missouri\"\t\"29\"\t\"2019\"\t\"2019\"\t1071\r\n",
            "\t\"Montana\"\t\"30\"\t\"2019\"\t\"2019\"\t263\r\n",
            "\t\"Nebraska\"\t\"31\"\t\"2019\"\t\"2019\"\t93\r\n",
            "\t\"Nevada\"\t\"32\"\t\"2019\"\t\"2019\"\t573\r\n",
            "\t\"New Hampshire\"\t\"33\"\t\"2019\"\t\"2019\"\t163\r\n",
            "\t\"New Jersey\"\t\"34\"\t\"2019\"\t\"2019\"\t415\r\n",
            "\t\"New Mexico\"\t\"35\"\t\"2019\"\t\"2019\"\t274\r\n",
            "\t\"New York\"\t\"36\"\t\"2019\"\t\"2019\"\t2458\r\n",
            "\t\"North Carolina\"\t\"37\"\t\"2019\"\t\"2019\"\t716\r\n",
            "\t\"North Dakota\"\t\"38\"\t\"2019\"\t\"2019\"\t120\r\n",
            "\t\"Ohio\"\t\"39\"\t\"2019\"\t\"2019\"\t1599\r\n",
            "\t\"Oklahoma\"\t\"40\"\t\"2019\"\t\"2019\"\t505\r\n",
            "\t\"Oregon\"\t\"41\"\t\"2019\"\t\"2019\"\t865\r\n",
            "\t\"Pennsylvania\"\t\"42\"\t\"2019\"\t\"2019\"\t2606\r\n",
            "\t\"Rhode Island\"\t\"44\"\t\"2019\"\t\"2019\"\t48\r\n",
            "\t\"South Carolina\"\t\"45\"\t\"2019\"\t\"2019\"\t361\r\n",
            "\t\"South Dakota\"\t\"46\"\t\"2019\"\t\"2019\"\t89\r\n",
            "\t\"Tennessee\"\t\"47\"\t\"2019\"\t\"2019\"\t956\r\n",
            "\t\"Texas\"\t\"48\"\t\"2019\"\t\"2019\"\t2618\r\n",
            "\t\"Utah\"\t\"49\"\t\"2019\"\t\"2019\"\t1027\r\n",
            "\t\"Vermont\"\t\"50\"\t\"2019\"\t\"2019\"\t125\r\n",
            "\t\"Virginia\"\t\"51\"\t\"2019\"\t\"2019\"\t941\r\n",
            "\t\"Washington\"\t\"53\"\t\"2019\"\t\"2019\"\t1745\r\n",
            "\t\"West Virginia\"\t\"54\"\t\"2019\"\t\"2019\"\t136\r\n",
            "\t\"Wisconsin\"\t\"55\"\t\"2019\"\t\"2019\"\t1604\r\n",
            "\t\"Wyoming\"\t\"56\"\t\"2019\"\t\"2019\"\t130\r\n",
            "\"---\"\r\n",
            "\"Dataset: Natality, 2007-2019\"\r\n",
            "\"Query Parameters:\"\r\n",
            "\"Birthplace: Residence\"\r\n",
            "\"Year: 2019\"\r\n",
            "\"Group By: State; Year\"\r\n",
            "\"Show Totals: False\"\r\n",
            "\"Show Zero Values: False\"\r\n",
            "\"Show Suppressed: False\"\r\n",
            "\"Calculate Rates Per: 1,000\"\r\n",
            "\"Population Option: No populations shown because rates were not selected.\"\r\n",
            "\"---\"\r\n",
            "\"Help: See http://wonder.cdc.gov/wonder/help/Natality.html for more information.\"\r\n",
            "\"---\"\r\n",
            "\"Query Date: Jan 26, 2021 10:46:51 AM\"\r\n",
            "\"---\"\r\n",
            "\"Suggested Citation: United States Department of Health and Human Services (US DHHS), Centers for Disease Control and Prevention\"\r\n",
            "\"(CDC), National Center for Health Statistics (NCHS), Division of Vital Statistics, Natality public-use data 2007-2019, on CDC\"\r\n",
            "\"WONDER Online Database, October 2020. Accessed at http://wonder.cdc.gov/natality-current.html on Jan 26, 2021 10:46:51 AM\"\r\n",
            "\"---\"\r\n",
            "Caveats:\r\n",
            "\"1. Each birth record represents one living baby.\""
          ],
          "name": "stdout"
        }
      ]
    },
    {
      "cell_type": "markdown",
      "metadata": {
        "id": "wyCwQhxDnFUV"
      },
      "source": [
        "For large files, use <strong> !head *\\<filename\\>* </strong> instead of !cat"
      ]
    },
    {
      "cell_type": "code",
      "metadata": {
        "colab": {
          "base_uri": "https://localhost:8080/"
        },
        "id": "dOAyZyBNnNx9",
        "outputId": "ff1426a3-1757-4413-b2a7-21cd996f1b9b"
      },
      "source": [
        "!head /content/sample_data/AtHome_Births_StateLevel.txt"
      ],
      "execution_count": 17,
      "outputs": [
        {
          "output_type": "stream",
          "text": [
            "\"Notes\"\t\"State\"\t\"State Code\"\t\"Year\"\t\"Year Code\"\tBirths\r\n",
            "\t\"Alabama\"\t\"01\"\t\"2019\"\t\"2019\"\t243\r\n",
            "\t\"Alaska\"\t\"02\"\t\"2019\"\t\"2019\"\t195\r\n",
            "\t\"Arizona\"\t\"04\"\t\"2019\"\t\"2019\"\t706\r\n",
            "\t\"Arkansas\"\t\"05\"\t\"2019\"\t\"2019\"\t326\r\n",
            "\t\"California\"\t\"06\"\t\"2019\"\t\"2019\"\t3081\r\n",
            "\t\"Colorado\"\t\"08\"\t\"2019\"\t\"2019\"\t899\r\n",
            "\t\"Connecticut\"\t\"09\"\t\"2019\"\t\"2019\"\t217\r\n",
            "\t\"Delaware\"\t\"10\"\t\"2019\"\t\"2019\"\t66\r\n",
            "\t\"District of Columbia\"\t\"11\"\t\"2019\"\t\"2019\"\t72\r\n"
          ],
          "name": "stdout"
        }
      ]
    },
    {
      "cell_type": "markdown",
      "metadata": {
        "id": "GtSB2UqmnnMN"
      },
      "source": [
        "To view the last 15 lines of a file, use <strong> !tail -n 15 *\\<filename\\>* </strong>"
      ]
    },
    {
      "cell_type": "code",
      "metadata": {
        "colab": {
          "base_uri": "https://localhost:8080/"
        },
        "id": "OfphcKJwnwi1",
        "outputId": "c898fedf-4327-4c92-e5b6-e36ce89846c8"
      },
      "source": [
        "#Print last 15 lines of a file\r\n",
        "!tail -n 15 /content/sample_data/AtHome_Births_StateLevel.txt"
      ],
      "execution_count": 44,
      "outputs": [
        {
          "output_type": "stream",
          "text": [
            "\"Show Zero Values: False\"\r\n",
            "\"Show Suppressed: False\"\r\n",
            "\"Calculate Rates Per: 1,000\"\r\n",
            "\"Population Option: No populations shown because rates were not selected.\"\r\n",
            "\"---\"\r\n",
            "\"Help: See http://wonder.cdc.gov/wonder/help/Natality.html for more information.\"\r\n",
            "\"---\"\r\n",
            "\"Query Date: Jan 26, 2021 10:46:51 AM\"\r\n",
            "\"---\"\r\n",
            "\"Suggested Citation: United States Department of Health and Human Services (US DHHS), Centers for Disease Control and Prevention\"\r\n",
            "\"(CDC), National Center for Health Statistics (NCHS), Division of Vital Statistics, Natality public-use data 2007-2019, on CDC\"\r\n",
            "\"WONDER Online Database, October 2020. Accessed at http://wonder.cdc.gov/natality-current.html on Jan 26, 2021 10:46:51 AM\"\r\n",
            "\"---\"\r\n",
            "Caveats:\r\n",
            "\"1. Each birth record represents one living baby.\""
          ],
          "name": "stdout"
        }
      ]
    },
    {
      "cell_type": "markdown",
      "metadata": {
        "id": "7Tva-2QtqVf9"
      },
      "source": [
        "Next, print all lines in a file -- starting with Line #2."
      ]
    },
    {
      "cell_type": "code",
      "metadata": {
        "colab": {
          "base_uri": "https://localhost:8080/"
        },
        "id": "z_n3Kiaeoybg",
        "outputId": "1a28de81-35ab-46f9-fbed-fb2afb5741b1"
      },
      "source": [
        "#Don't print the first line, use + with !tail\r\n",
        "!tail -n +2 /content/sample_data/AtHome_Births_StateLevel.txt"
      ],
      "execution_count": 46,
      "outputs": [
        {
          "output_type": "stream",
          "text": [
            "\t\"Alabama\"\t\"01\"\t\"2019\"\t\"2019\"\t243\r\n",
            "\t\"Alaska\"\t\"02\"\t\"2019\"\t\"2019\"\t195\r\n",
            "\t\"Arizona\"\t\"04\"\t\"2019\"\t\"2019\"\t706\r\n",
            "\t\"Arkansas\"\t\"05\"\t\"2019\"\t\"2019\"\t326\r\n",
            "\t\"California\"\t\"06\"\t\"2019\"\t\"2019\"\t3081\r\n",
            "\t\"Colorado\"\t\"08\"\t\"2019\"\t\"2019\"\t899\r\n",
            "\t\"Connecticut\"\t\"09\"\t\"2019\"\t\"2019\"\t217\r\n",
            "\t\"Delaware\"\t\"10\"\t\"2019\"\t\"2019\"\t66\r\n",
            "\t\"District of Columbia\"\t\"11\"\t\"2019\"\t\"2019\"\t72\r\n",
            "\t\"Florida\"\t\"12\"\t\"2019\"\t\"2019\"\t2052\r\n",
            "\t\"Georgia\"\t\"13\"\t\"2019\"\t\"2019\"\t744\r\n",
            "\t\"Hawaii\"\t\"15\"\t\"2019\"\t\"2019\"\t319\r\n",
            "\t\"Idaho\"\t\"16\"\t\"2019\"\t\"2019\"\t619\r\n",
            "\t\"Illinois\"\t\"17\"\t\"2019\"\t\"2019\"\t819\r\n",
            "\t\"Indiana\"\t\"18\"\t\"2019\"\t\"2019\"\t1160\r\n",
            "\t\"Iowa\"\t\"19\"\t\"2019\"\t\"2019\"\t507\r\n",
            "\t\"Kansas\"\t\"20\"\t\"2019\"\t\"2019\"\t494\r\n",
            "\t\"Kentucky\"\t\"21\"\t\"2019\"\t\"2019\"\t680\r\n",
            "\t\"Louisiana\"\t\"22\"\t\"2019\"\t\"2019\"\t153\r\n",
            "\t\"Maine\"\t\"23\"\t\"2019\"\t\"2019\"\t222\r\n",
            "\t\"Maryland\"\t\"24\"\t\"2019\"\t\"2019\"\t533\r\n",
            "\t\"Massachusetts\"\t\"25\"\t\"2019\"\t\"2019\"\t395\r\n",
            "\t\"Michigan\"\t\"26\"\t\"2019\"\t\"2019\"\t1534\r\n",
            "\t\"Minnesota\"\t\"27\"\t\"2019\"\t\"2019\"\t800\r\n",
            "\t\"Mississippi\"\t\"28\"\t\"2019\"\t\"2019\"\t169\r\n",
            "\t\"Missouri\"\t\"29\"\t\"2019\"\t\"2019\"\t1071\r\n",
            "\t\"Montana\"\t\"30\"\t\"2019\"\t\"2019\"\t263\r\n",
            "\t\"Nebraska\"\t\"31\"\t\"2019\"\t\"2019\"\t93\r\n",
            "\t\"Nevada\"\t\"32\"\t\"2019\"\t\"2019\"\t573\r\n",
            "\t\"New Hampshire\"\t\"33\"\t\"2019\"\t\"2019\"\t163\r\n",
            "\t\"New Jersey\"\t\"34\"\t\"2019\"\t\"2019\"\t415\r\n",
            "\t\"New Mexico\"\t\"35\"\t\"2019\"\t\"2019\"\t274\r\n",
            "\t\"New York\"\t\"36\"\t\"2019\"\t\"2019\"\t2458\r\n",
            "\t\"North Carolina\"\t\"37\"\t\"2019\"\t\"2019\"\t716\r\n",
            "\t\"North Dakota\"\t\"38\"\t\"2019\"\t\"2019\"\t120\r\n",
            "\t\"Ohio\"\t\"39\"\t\"2019\"\t\"2019\"\t1599\r\n",
            "\t\"Oklahoma\"\t\"40\"\t\"2019\"\t\"2019\"\t505\r\n",
            "\t\"Oregon\"\t\"41\"\t\"2019\"\t\"2019\"\t865\r\n",
            "\t\"Pennsylvania\"\t\"42\"\t\"2019\"\t\"2019\"\t2606\r\n",
            "\t\"Rhode Island\"\t\"44\"\t\"2019\"\t\"2019\"\t48\r\n",
            "\t\"South Carolina\"\t\"45\"\t\"2019\"\t\"2019\"\t361\r\n",
            "\t\"South Dakota\"\t\"46\"\t\"2019\"\t\"2019\"\t89\r\n",
            "\t\"Tennessee\"\t\"47\"\t\"2019\"\t\"2019\"\t956\r\n",
            "\t\"Texas\"\t\"48\"\t\"2019\"\t\"2019\"\t2618\r\n",
            "\t\"Utah\"\t\"49\"\t\"2019\"\t\"2019\"\t1027\r\n",
            "\t\"Vermont\"\t\"50\"\t\"2019\"\t\"2019\"\t125\r\n",
            "\t\"Virginia\"\t\"51\"\t\"2019\"\t\"2019\"\t941\r\n",
            "\t\"Washington\"\t\"53\"\t\"2019\"\t\"2019\"\t1745\r\n",
            "\t\"West Virginia\"\t\"54\"\t\"2019\"\t\"2019\"\t136\r\n",
            "\t\"Wisconsin\"\t\"55\"\t\"2019\"\t\"2019\"\t1604\r\n",
            "\t\"Wyoming\"\t\"56\"\t\"2019\"\t\"2019\"\t130\r\n",
            "\"---\"\r\n",
            "\"Dataset: Natality, 2007-2019\"\r\n",
            "\"Query Parameters:\"\r\n",
            "\"Birthplace: Residence\"\r\n",
            "\"Year: 2019\"\r\n",
            "\"Group By: State; Year\"\r\n",
            "\"Show Totals: False\"\r\n",
            "\"Show Zero Values: False\"\r\n",
            "\"Show Suppressed: False\"\r\n",
            "\"Calculate Rates Per: 1,000\"\r\n",
            "\"Population Option: No populations shown because rates were not selected.\"\r\n",
            "\"---\"\r\n",
            "\"Help: See http://wonder.cdc.gov/wonder/help/Natality.html for more information.\"\r\n",
            "\"---\"\r\n",
            "\"Query Date: Jan 26, 2021 10:46:51 AM\"\r\n",
            "\"---\"\r\n",
            "\"Suggested Citation: United States Department of Health and Human Services (US DHHS), Centers for Disease Control and Prevention\"\r\n",
            "\"(CDC), National Center for Health Statistics (NCHS), Division of Vital Statistics, Natality public-use data 2007-2019, on CDC\"\r\n",
            "\"WONDER Online Database, October 2020. Accessed at http://wonder.cdc.gov/natality-current.html on Jan 26, 2021 10:46:51 AM\"\r\n",
            "\"---\"\r\n",
            "Caveats:\r\n",
            "\"1. Each birth record represents one living baby.\""
          ],
          "name": "stdout"
        }
      ]
    },
    {
      "cell_type": "markdown",
      "metadata": {
        "id": "bypwbXfvqf9c"
      },
      "source": [
        "Finally, printing lines from the start to a certain point -- truncating the last 22 lines here.  Use case here would be to exclude footer information."
      ]
    },
    {
      "cell_type": "code",
      "metadata": {
        "colab": {
          "base_uri": "https://localhost:8080/"
        },
        "id": "jeZHeRu-qsTF",
        "outputId": "ae2ea731-1eef-4608-8bf8-473d861a2f8a"
      },
      "source": [
        "#Do not print the last number of lines, use - with !head\r\n",
        "!head -n -22 /content/sample_data/AtHome_Births_StateLevel.txt"
      ],
      "execution_count": 47,
      "outputs": [
        {
          "output_type": "stream",
          "text": [
            "\"Notes\"\t\"State\"\t\"State Code\"\t\"Year\"\t\"Year Code\"\tBirths\r\n",
            "\t\"Alabama\"\t\"01\"\t\"2019\"\t\"2019\"\t243\r\n",
            "\t\"Alaska\"\t\"02\"\t\"2019\"\t\"2019\"\t195\r\n",
            "\t\"Arizona\"\t\"04\"\t\"2019\"\t\"2019\"\t706\r\n",
            "\t\"Arkansas\"\t\"05\"\t\"2019\"\t\"2019\"\t326\r\n",
            "\t\"California\"\t\"06\"\t\"2019\"\t\"2019\"\t3081\r\n",
            "\t\"Colorado\"\t\"08\"\t\"2019\"\t\"2019\"\t899\r\n",
            "\t\"Connecticut\"\t\"09\"\t\"2019\"\t\"2019\"\t217\r\n",
            "\t\"Delaware\"\t\"10\"\t\"2019\"\t\"2019\"\t66\r\n",
            "\t\"District of Columbia\"\t\"11\"\t\"2019\"\t\"2019\"\t72\r\n",
            "\t\"Florida\"\t\"12\"\t\"2019\"\t\"2019\"\t2052\r\n",
            "\t\"Georgia\"\t\"13\"\t\"2019\"\t\"2019\"\t744\r\n",
            "\t\"Hawaii\"\t\"15\"\t\"2019\"\t\"2019\"\t319\r\n",
            "\t\"Idaho\"\t\"16\"\t\"2019\"\t\"2019\"\t619\r\n",
            "\t\"Illinois\"\t\"17\"\t\"2019\"\t\"2019\"\t819\r\n",
            "\t\"Indiana\"\t\"18\"\t\"2019\"\t\"2019\"\t1160\r\n",
            "\t\"Iowa\"\t\"19\"\t\"2019\"\t\"2019\"\t507\r\n",
            "\t\"Kansas\"\t\"20\"\t\"2019\"\t\"2019\"\t494\r\n",
            "\t\"Kentucky\"\t\"21\"\t\"2019\"\t\"2019\"\t680\r\n",
            "\t\"Louisiana\"\t\"22\"\t\"2019\"\t\"2019\"\t153\r\n",
            "\t\"Maine\"\t\"23\"\t\"2019\"\t\"2019\"\t222\r\n",
            "\t\"Maryland\"\t\"24\"\t\"2019\"\t\"2019\"\t533\r\n",
            "\t\"Massachusetts\"\t\"25\"\t\"2019\"\t\"2019\"\t395\r\n",
            "\t\"Michigan\"\t\"26\"\t\"2019\"\t\"2019\"\t1534\r\n",
            "\t\"Minnesota\"\t\"27\"\t\"2019\"\t\"2019\"\t800\r\n",
            "\t\"Mississippi\"\t\"28\"\t\"2019\"\t\"2019\"\t169\r\n",
            "\t\"Missouri\"\t\"29\"\t\"2019\"\t\"2019\"\t1071\r\n",
            "\t\"Montana\"\t\"30\"\t\"2019\"\t\"2019\"\t263\r\n",
            "\t\"Nebraska\"\t\"31\"\t\"2019\"\t\"2019\"\t93\r\n",
            "\t\"Nevada\"\t\"32\"\t\"2019\"\t\"2019\"\t573\r\n",
            "\t\"New Hampshire\"\t\"33\"\t\"2019\"\t\"2019\"\t163\r\n",
            "\t\"New Jersey\"\t\"34\"\t\"2019\"\t\"2019\"\t415\r\n",
            "\t\"New Mexico\"\t\"35\"\t\"2019\"\t\"2019\"\t274\r\n",
            "\t\"New York\"\t\"36\"\t\"2019\"\t\"2019\"\t2458\r\n",
            "\t\"North Carolina\"\t\"37\"\t\"2019\"\t\"2019\"\t716\r\n",
            "\t\"North Dakota\"\t\"38\"\t\"2019\"\t\"2019\"\t120\r\n",
            "\t\"Ohio\"\t\"39\"\t\"2019\"\t\"2019\"\t1599\r\n",
            "\t\"Oklahoma\"\t\"40\"\t\"2019\"\t\"2019\"\t505\r\n",
            "\t\"Oregon\"\t\"41\"\t\"2019\"\t\"2019\"\t865\r\n",
            "\t\"Pennsylvania\"\t\"42\"\t\"2019\"\t\"2019\"\t2606\r\n",
            "\t\"Rhode Island\"\t\"44\"\t\"2019\"\t\"2019\"\t48\r\n",
            "\t\"South Carolina\"\t\"45\"\t\"2019\"\t\"2019\"\t361\r\n",
            "\t\"South Dakota\"\t\"46\"\t\"2019\"\t\"2019\"\t89\r\n",
            "\t\"Tennessee\"\t\"47\"\t\"2019\"\t\"2019\"\t956\r\n",
            "\t\"Texas\"\t\"48\"\t\"2019\"\t\"2019\"\t2618\r\n",
            "\t\"Utah\"\t\"49\"\t\"2019\"\t\"2019\"\t1027\r\n",
            "\t\"Vermont\"\t\"50\"\t\"2019\"\t\"2019\"\t125\r\n",
            "\t\"Virginia\"\t\"51\"\t\"2019\"\t\"2019\"\t941\r\n",
            "\t\"Washington\"\t\"53\"\t\"2019\"\t\"2019\"\t1745\r\n",
            "\t\"West Virginia\"\t\"54\"\t\"2019\"\t\"2019\"\t136\r\n",
            "\t\"Wisconsin\"\t\"55\"\t\"2019\"\t\"2019\"\t1604\r\n",
            "\t\"Wyoming\"\t\"56\"\t\"2019\"\t\"2019\"\t130\r\n"
          ],
          "name": "stdout"
        }
      ]
    },
    {
      "cell_type": "markdown",
      "metadata": {
        "id": "bnOWtbiVr-2r"
      },
      "source": [
        "## Using SED to Manipulate Files"
      ]
    },
    {
      "cell_type": "markdown",
      "metadata": {
        "id": "86o3H7GbsUkp"
      },
      "source": [
        "A text editor can be used to change the contents of a file. SED (Stream EDitor) is a common text editor that can be used to manipulate text files from a command line.\r\n",
        "\r\n",
        "Wiki Page for sed: https://en.wikipedia.org/wiki/Sed"
      ]
    },
    {
      "cell_type": "markdown",
      "metadata": {
        "id": "fwh14dDFtYOc"
      },
      "source": [
        "A text editor such as sed is certainly more powerful than commands used to print the contents of a file.  For example, the following sed command can be used to print a sequence of lines in the middle of a file. "
      ]
    },
    {
      "cell_type": "code",
      "metadata": {
        "id": "MYZrT2tNrwwz"
      },
      "source": [
        "#Printing lines 2 through 52 of a file\r\n",
        "!sed -n 2,52p /content/sample_data/AtHome_Births_StateLevel.txt"
      ],
      "execution_count": null,
      "outputs": []
    },
    {
      "cell_type": "markdown",
      "metadata": {
        "id": "T15lNi5VvSwE"
      },
      "source": [
        "SED allows one to *push* the contents being printing to the screen to be saved into a second file.  This action requires the use of a piping command, i.e. <strong>></strong>, and a file name should be provided for the new file."
      ]
    },
    {
      "cell_type": "code",
      "metadata": {
        "id": "kPQNSnbauwlO"
      },
      "source": [
        "#Printing lines 2 through 52 of a file AND pushing contents from print into a new file\r\n",
        "!sed -n 2,52p /content/sample_data/AtHome_Births_StateLevel.txt > /content/sample_data/AtHome_Births_StateLevel_v2.txt"
      ],
      "execution_count": 56,
      "outputs": []
    },
    {
      "cell_type": "code",
      "metadata": {
        "colab": {
          "base_uri": "https://localhost:8080/"
        },
        "id": "l_VpeOphu4Ul",
        "outputId": "545b080d-17db-4669-d8df-17f6eb5f775a"
      },
      "source": [
        "#Checking to see if new file was created\r\n",
        "!ls '/content/sample_data'"
      ],
      "execution_count": 55,
      "outputs": [
        {
          "output_type": "stream",
          "text": [
            "AtHome_Births_StateLevel.txt\t Hospital_Births_StateLevel.txt\n",
            "AtHome_Births_StateLevel_v2.txt\n"
          ],
          "name": "stdout"
        }
      ]
    },
    {
      "cell_type": "code",
      "metadata": {
        "colab": {
          "base_uri": "https://localhost:8080/"
        },
        "id": "gYssmYqOwIwH",
        "outputId": "d9ea9af3-c242-4957-f75e-2720949f7fab"
      },
      "source": [
        "#Printing entire file to view changes\r\n",
        "!cat /content/sample_data/AtHome_Births_StateLevel_v2.txt"
      ],
      "execution_count": 57,
      "outputs": [
        {
          "output_type": "stream",
          "text": [
            "\t\"Alabama\"\t\"01\"\t\"2019\"\t\"2019\"\t243\r\n",
            "\t\"Alaska\"\t\"02\"\t\"2019\"\t\"2019\"\t195\r\n",
            "\t\"Arizona\"\t\"04\"\t\"2019\"\t\"2019\"\t706\r\n",
            "\t\"Arkansas\"\t\"05\"\t\"2019\"\t\"2019\"\t326\r\n",
            "\t\"California\"\t\"06\"\t\"2019\"\t\"2019\"\t3081\r\n",
            "\t\"Colorado\"\t\"08\"\t\"2019\"\t\"2019\"\t899\r\n",
            "\t\"Connecticut\"\t\"09\"\t\"2019\"\t\"2019\"\t217\r\n",
            "\t\"Delaware\"\t\"10\"\t\"2019\"\t\"2019\"\t66\r\n",
            "\t\"District of Columbia\"\t\"11\"\t\"2019\"\t\"2019\"\t72\r\n",
            "\t\"Florida\"\t\"12\"\t\"2019\"\t\"2019\"\t2052\r\n",
            "\t\"Georgia\"\t\"13\"\t\"2019\"\t\"2019\"\t744\r\n",
            "\t\"Hawaii\"\t\"15\"\t\"2019\"\t\"2019\"\t319\r\n",
            "\t\"Idaho\"\t\"16\"\t\"2019\"\t\"2019\"\t619\r\n",
            "\t\"Illinois\"\t\"17\"\t\"2019\"\t\"2019\"\t819\r\n",
            "\t\"Indiana\"\t\"18\"\t\"2019\"\t\"2019\"\t1160\r\n",
            "\t\"Iowa\"\t\"19\"\t\"2019\"\t\"2019\"\t507\r\n",
            "\t\"Kansas\"\t\"20\"\t\"2019\"\t\"2019\"\t494\r\n",
            "\t\"Kentucky\"\t\"21\"\t\"2019\"\t\"2019\"\t680\r\n",
            "\t\"Louisiana\"\t\"22\"\t\"2019\"\t\"2019\"\t153\r\n",
            "\t\"Maine\"\t\"23\"\t\"2019\"\t\"2019\"\t222\r\n",
            "\t\"Maryland\"\t\"24\"\t\"2019\"\t\"2019\"\t533\r\n",
            "\t\"Massachusetts\"\t\"25\"\t\"2019\"\t\"2019\"\t395\r\n",
            "\t\"Michigan\"\t\"26\"\t\"2019\"\t\"2019\"\t1534\r\n",
            "\t\"Minnesota\"\t\"27\"\t\"2019\"\t\"2019\"\t800\r\n",
            "\t\"Mississippi\"\t\"28\"\t\"2019\"\t\"2019\"\t169\r\n",
            "\t\"Missouri\"\t\"29\"\t\"2019\"\t\"2019\"\t1071\r\n",
            "\t\"Montana\"\t\"30\"\t\"2019\"\t\"2019\"\t263\r\n",
            "\t\"Nebraska\"\t\"31\"\t\"2019\"\t\"2019\"\t93\r\n",
            "\t\"Nevada\"\t\"32\"\t\"2019\"\t\"2019\"\t573\r\n",
            "\t\"New Hampshire\"\t\"33\"\t\"2019\"\t\"2019\"\t163\r\n",
            "\t\"New Jersey\"\t\"34\"\t\"2019\"\t\"2019\"\t415\r\n",
            "\t\"New Mexico\"\t\"35\"\t\"2019\"\t\"2019\"\t274\r\n",
            "\t\"New York\"\t\"36\"\t\"2019\"\t\"2019\"\t2458\r\n",
            "\t\"North Carolina\"\t\"37\"\t\"2019\"\t\"2019\"\t716\r\n",
            "\t\"North Dakota\"\t\"38\"\t\"2019\"\t\"2019\"\t120\r\n",
            "\t\"Ohio\"\t\"39\"\t\"2019\"\t\"2019\"\t1599\r\n",
            "\t\"Oklahoma\"\t\"40\"\t\"2019\"\t\"2019\"\t505\r\n",
            "\t\"Oregon\"\t\"41\"\t\"2019\"\t\"2019\"\t865\r\n",
            "\t\"Pennsylvania\"\t\"42\"\t\"2019\"\t\"2019\"\t2606\r\n",
            "\t\"Rhode Island\"\t\"44\"\t\"2019\"\t\"2019\"\t48\r\n",
            "\t\"South Carolina\"\t\"45\"\t\"2019\"\t\"2019\"\t361\r\n",
            "\t\"South Dakota\"\t\"46\"\t\"2019\"\t\"2019\"\t89\r\n",
            "\t\"Tennessee\"\t\"47\"\t\"2019\"\t\"2019\"\t956\r\n",
            "\t\"Texas\"\t\"48\"\t\"2019\"\t\"2019\"\t2618\r\n",
            "\t\"Utah\"\t\"49\"\t\"2019\"\t\"2019\"\t1027\r\n",
            "\t\"Vermont\"\t\"50\"\t\"2019\"\t\"2019\"\t125\r\n",
            "\t\"Virginia\"\t\"51\"\t\"2019\"\t\"2019\"\t941\r\n",
            "\t\"Washington\"\t\"53\"\t\"2019\"\t\"2019\"\t1745\r\n",
            "\t\"West Virginia\"\t\"54\"\t\"2019\"\t\"2019\"\t136\r\n",
            "\t\"Wisconsin\"\t\"55\"\t\"2019\"\t\"2019\"\t1604\r\n",
            "\t\"Wyoming\"\t\"56\"\t\"2019\"\t\"2019\"\t130\r\n"
          ],
          "name": "stdout"
        }
      ]
    },
    {
      "cell_type": "markdown",
      "metadata": {
        "id": "CGHVBWza9lEm"
      },
      "source": [
        "## Using SED to Find/Replace Contents"
      ]
    },
    {
      "cell_type": "markdown",
      "metadata": {
        "id": "HACJTPuFzaoX"
      },
      "source": [
        "Notice that each line in this data file begins with a tab character.  This is evident when the file is put into Notepad ++ and Show All Characters has been specifed for the text file.\r\n",
        "\r\n",
        "<p align='center'><img src=\"https://drive.google.com/uc?export=view&id=1JR_XPxdAl2RPsJAod1s7BW8V7vdUXkU_\"></p>\r\n",
        "\r\n"
      ]
    },
    {
      "cell_type": "markdown",
      "metadata": {
        "id": "5CLOAfrv4kVQ"
      },
      "source": [
        "The following sed command does the following\r\n",
        "\r\n",
        "*   Searches each line of the file named *filename*\r\n",
        "*   Finds the first occurance of the tab character, i.e. \\t\r\n",
        "*   Replaces the first occurance of \\t with *nothing*\r\n",
        "*   Creates a new file, named *filename2* for the output\r\n",
        "\r\n",
        "\r\n",
        "\r\n",
        "\r\n",
        "<p align='center'><img src=\"https://drive.google.com/uc?export=view&id=1sg9zYH1c2i6Ucrxm-2i6uiVy7SYvb_1_\"></p>"
      ]
    },
    {
      "cell_type": "code",
      "metadata": {
        "id": "CqUXFcvwzc4r"
      },
      "source": [
        "#Run the command above to remove the first tab occurance on each line in the AtHome_Births_StateLevel_v2 file\r\n",
        "!sed 's/\\t//' /content/sample_data/AtHome_Births_StateLevel_v2.txt > /content/sample_data/AtHome_Births_StateLevel_v3.txt"
      ],
      "execution_count": 58,
      "outputs": []
    },
    {
      "cell_type": "code",
      "metadata": {
        "id": "3oznOp1Izpk0"
      },
      "source": [
        "#Verify that this command produces the desired output\r\n",
        "!cat /content/sample_data/AtHome_Births_StateLevel_v3.txt"
      ],
      "execution_count": null,
      "outputs": []
    },
    {
      "cell_type": "markdown",
      "metadata": {
        "id": "pk8cAS5b4uUH"
      },
      "source": [
        "The removal of the first tab occurance can be verified in Notepad ++ as is shown here.\r\n",
        "\r\n",
        "<p align='center'><img src=\"https://drive.google.com/uc?export=view&id=1-7ALLdTSvPTjrFrH4u3q4maTkdenzkEX\"></p>"
      ]
    },
    {
      "cell_type": "markdown",
      "metadata": {
        "id": "JGF7weUv44cn"
      },
      "source": [
        "SED can be used to easily convert this tab delimited file into the more common CSV delimited file.  In this situaiton all occurance of the tab character will be replaced with the comma.\r\n",
        "\r\n",
        "*   Search each line of the file named *filename*\r\n",
        "*   Finds each occurance of the tab character, i.e. \\t\r\n",
        "*   Replaces the each occurance of \\t with ,\r\n",
        "*   The trailing g preforms a global search, i.e. all occurances\r\n",
        "*   Creates a new file, named *filename2* for the output\r\n",
        "\r\n",
        "<p align='center'><img src=\"https://drive.google.com/uc?export=view&id=1fUmMPbEsRXSNdld3gn-gcTfPlQhXtQ95\"></p>"
      ]
    },
    {
      "cell_type": "code",
      "metadata": {
        "id": "Fzyunn4g7FUd"
      },
      "source": [
        "#Convert from tab delimited to comma delimited\r\n",
        "!sed 's/\\t/,/g' /content/sample_data/AtHome_Births_StateLevel_v3.txt > /content/sample_data/AtHome_Births_StateLevel_v4.txt"
      ],
      "execution_count": 64,
      "outputs": []
    },
    {
      "cell_type": "code",
      "metadata": {
        "colab": {
          "base_uri": "https://localhost:8080/"
        },
        "id": "gbq0q5YD0DHU",
        "outputId": "72df1aec-2035-4522-ea14-509c8a4409c1"
      },
      "source": [
        "#Verify that conversion was completed successfully\r\n",
        "!cat /content/sample_data/AtHome_Births_StateLevel_v4.txt"
      ],
      "execution_count": 66,
      "outputs": [
        {
          "output_type": "stream",
          "text": [
            "\"Alabama\",\"01\",\"2019\",\"2019\",243\r\n",
            "\"Alaska\",\"02\",\"2019\",\"2019\",195\r\n",
            "\"Arizona\",\"04\",\"2019\",\"2019\",706\r\n",
            "\"Arkansas\",\"05\",\"2019\",\"2019\",326\r\n",
            "\"California\",\"06\",\"2019\",\"2019\",3081\r\n",
            "\"Colorado\",\"08\",\"2019\",\"2019\",899\r\n",
            "\"Connecticut\",\"09\",\"2019\",\"2019\",217\r\n",
            "\"Delaware\",\"10\",\"2019\",\"2019\",66\r\n",
            "\"District of Columbia\",\"11\",\"2019\",\"2019\",72\r\n",
            "\"Florida\",\"12\",\"2019\",\"2019\",2052\r\n",
            "\"Georgia\",\"13\",\"2019\",\"2019\",744\r\n",
            "\"Hawaii\",\"15\",\"2019\",\"2019\",319\r\n",
            "\"Idaho\",\"16\",\"2019\",\"2019\",619\r\n",
            "\"Illinois\",\"17\",\"2019\",\"2019\",819\r\n",
            "\"Indiana\",\"18\",\"2019\",\"2019\",1160\r\n",
            "\"Iowa\",\"19\",\"2019\",\"2019\",507\r\n",
            "\"Kansas\",\"20\",\"2019\",\"2019\",494\r\n",
            "\"Kentucky\",\"21\",\"2019\",\"2019\",680\r\n",
            "\"Louisiana\",\"22\",\"2019\",\"2019\",153\r\n",
            "\"Maine\",\"23\",\"2019\",\"2019\",222\r\n",
            "\"Maryland\",\"24\",\"2019\",\"2019\",533\r\n",
            "\"Massachusetts\",\"25\",\"2019\",\"2019\",395\r\n",
            "\"Michigan\",\"26\",\"2019\",\"2019\",1534\r\n",
            "\"Minnesota\",\"27\",\"2019\",\"2019\",800\r\n",
            "\"Mississippi\",\"28\",\"2019\",\"2019\",169\r\n",
            "\"Missouri\",\"29\",\"2019\",\"2019\",1071\r\n",
            "\"Montana\",\"30\",\"2019\",\"2019\",263\r\n",
            "\"Nebraska\",\"31\",\"2019\",\"2019\",93\r\n",
            "\"Nevada\",\"32\",\"2019\",\"2019\",573\r\n",
            "\"New Hampshire\",\"33\",\"2019\",\"2019\",163\r\n",
            "\"New Jersey\",\"34\",\"2019\",\"2019\",415\r\n",
            "\"New Mexico\",\"35\",\"2019\",\"2019\",274\r\n",
            "\"New York\",\"36\",\"2019\",\"2019\",2458\r\n",
            "\"North Carolina\",\"37\",\"2019\",\"2019\",716\r\n",
            "\"North Dakota\",\"38\",\"2019\",\"2019\",120\r\n",
            "\"Ohio\",\"39\",\"2019\",\"2019\",1599\r\n",
            "\"Oklahoma\",\"40\",\"2019\",\"2019\",505\r\n",
            "\"Oregon\",\"41\",\"2019\",\"2019\",865\r\n",
            "\"Pennsylvania\",\"42\",\"2019\",\"2019\",2606\r\n",
            "\"Rhode Island\",\"44\",\"2019\",\"2019\",48\r\n",
            "\"South Carolina\",\"45\",\"2019\",\"2019\",361\r\n",
            "\"South Dakota\",\"46\",\"2019\",\"2019\",89\r\n",
            "\"Tennessee\",\"47\",\"2019\",\"2019\",956\r\n",
            "\"Texas\",\"48\",\"2019\",\"2019\",2618\r\n",
            "\"Utah\",\"49\",\"2019\",\"2019\",1027\r\n",
            "\"Vermont\",\"50\",\"2019\",\"2019\",125\r\n",
            "\"Virginia\",\"51\",\"2019\",\"2019\",941\r\n",
            "\"Washington\",\"53\",\"2019\",\"2019\",1745\r\n",
            "\"West Virginia\",\"54\",\"2019\",\"2019\",136\r\n",
            "\"Wisconsin\",\"55\",\"2019\",\"2019\",1604\r\n",
            "\"Wyoming\",\"56\",\"2019\",\"2019\",130\r\n"
          ],
          "name": "stdout"
        }
      ]
    },
    {
      "cell_type": "markdown",
      "metadata": {
        "id": "aztgvtNF8TN7"
      },
      "source": [
        "## Using SED to Insert/Delete Lines"
      ]
    },
    {
      "cell_type": "markdown",
      "metadata": {
        "id": "eHlnNEf0_XP1"
      },
      "source": [
        "Next, sed will be used to add field or variable names to the first line of this data file. \r\n",
        "\r\n",
        "*   Insert a line at line 1\r\n",
        "*   Insert the field/variable names into Line 1; Contents are contained with slashes\r\n",
        "*   Create a new file, named *filename2* for the output\r\n",
        "\r\n",
        "<p align='center'><img src=\"https://drive.google.com/uc?export=view&id=1Rdzm5SCRiKKdt67JBcX5uJ6toNk6CVan\"></p>"
      ]
    },
    {
      "cell_type": "code",
      "metadata": {
        "id": "eMoGmQ0B8SgU"
      },
      "source": [
        "#Insert variable names into first line of data file\r\n",
        "## NOTE: Be careful not to run this line mutiple times          ##\r\n",
        "##       Can delete lines using '1d' option of sed (see below)  ##\r\n",
        "\r\n",
        "!sed '1i \\State, StateCode, Year, YearCode, AtHomeCount\\' /content/sample_data/AtHome_Births_StateLevel_v4.txt > /content/sample_data/AtHome_Births_StateLevel_v5.txt "
      ],
      "execution_count": 87,
      "outputs": []
    },
    {
      "cell_type": "code",
      "metadata": {
        "id": "-1RlqkQq8mUe"
      },
      "source": [
        "#Verify that header was successfully added to thd data file\r\n",
        "!cat /content/sample_data/AtHome_Births_StateLevel_v5.txt"
      ],
      "execution_count": null,
      "outputs": []
    },
    {
      "cell_type": "markdown",
      "metadata": {
        "id": "wGbipl8y_iO_"
      },
      "source": [
        "Comment:  The -i option in sed permits one to edit the file <strong>in-place</strong>.  Here, the header information here is put into the *same* file -- no new file is being created here for the output.\r\n",
        "\r\n",
        "<p align='center'><img src=\"https://drive.google.com/uc?export=view&id=1-HSWFO_nvam13ZBI3peDbB8a2G60k-ep\"></p>"
      ]
    },
    {
      "cell_type": "markdown",
      "metadata": {
        "id": "6Q4VYxiKEbJ0"
      },
      "source": [
        "The following command can be used to <strong>delete</strong> line 1 from an existing data file."
      ]
    },
    {
      "cell_type": "code",
      "metadata": {
        "id": "kSp3RiN0c-sg"
      },
      "source": [
        "#The following can be used delete the first line in a data file\r\n",
        "!sed -i '1d' /content/sample_data/AtHome_Births_StateLevel_v5.txt"
      ],
      "execution_count": 89,
      "outputs": []
    },
    {
      "cell_type": "markdown",
      "metadata": {
        "id": "xUcZ3_GANAxI"
      },
      "source": [
        "## Complete the following task:\r\n",
        "\r\n",
        "\r\n",
        "1.   Clean-up the hosptial data file, e.g. remove footer info, remove initial tabs on each line, etc.\r\n",
        "2.   Convert the file from tab deliminated to comma deliminated\r\n",
        "3.   Add an appropriate header to label each field\r\n",
        "\r\n"
      ]
    },
    {
      "cell_type": "markdown",
      "metadata": {
        "id": "4HiahcuHOZpa"
      },
      "source": [
        "## Reading the processed data files into R"
      ]
    },
    {
      "cell_type": "markdown",
      "metadata": {
        "id": "uene2kuQOdm5"
      },
      "source": [
        "This an iPython Notebook; thus, to run R commands, R Magic will need to be implemented. "
      ]
    },
    {
      "cell_type": "code",
      "metadata": {
        "colab": {
          "base_uri": "https://localhost:8080/"
        },
        "id": "Qy4TRHBVOel6",
        "outputId": "f3ae1b82-da5f-489a-9692-54f3ff04de91"
      },
      "source": [
        "%load_ext rpy2.ipython"
      ],
      "execution_count": 90,
      "outputs": [
        {
          "output_type": "stream",
          "text": [
            "The rpy2.ipython extension is already loaded. To reload it, use:\n",
            "  %reload_ext rpy2.ipython\n"
          ],
          "name": "stdout"
        }
      ]
    },
    {
      "cell_type": "markdown",
      "metadata": {
        "id": "5v3iFpfDQAqN"
      },
      "source": [
        "Once again, R commands can be run in code blocks when %%R is used in the first line of the code block."
      ]
    },
    {
      "cell_type": "code",
      "metadata": {
        "id": "bXzY8diJO60r"
      },
      "source": [
        "%%R\r\n",
        "\r\n",
        "AtHome <- read.csv('/content/sample_data/AtHome_Births_StateLevel_v5.txt')"
      ],
      "execution_count": 96,
      "outputs": []
    },
    {
      "cell_type": "code",
      "metadata": {
        "colab": {
          "base_uri": "https://localhost:8080/"
        },
        "id": "hajfFA0iPEzR",
        "outputId": "ab84e810-f27c-46e5-e36b-da68195ec3f8"
      },
      "source": [
        "%%R\r\n",
        "\r\n",
        "head(AtHome)"
      ],
      "execution_count": 97,
      "outputs": [
        {
          "output_type": "stream",
          "text": [
            "       State StateCode Year YearCode AtHomeCount\n",
            "1    Alabama         1 2019     2019         243\n",
            "2     Alaska         2 2019     2019         195\n",
            "3    Arizona         4 2019     2019         706\n",
            "4   Arkansas         5 2019     2019         326\n",
            "5 California         6 2019     2019        3081\n",
            "6   Colorado         8 2019     2019         899\n"
          ],
          "name": "stdout"
        }
      ]
    },
    {
      "cell_type": "code",
      "metadata": {
        "colab": {
          "base_uri": "https://localhost:8080/"
        },
        "id": "oJ6dcVfNPtdW",
        "outputId": "9b51a819-d5b4-44ef-ec74-75e978a99516"
      },
      "source": [
        "#The head command of the file in Colab directory\r\n",
        "!head /content/sample_data/AtHome_Births_StateLevel_v5.txt"
      ],
      "execution_count": 101,
      "outputs": [
        {
          "output_type": "stream",
          "text": [
            "State, StateCode, Year, YearCode, AtHomeCount\n",
            "\"Alabama\",\"01\",\"2019\",\"2019\",243\r\n",
            "\"Alaska\",\"02\",\"2019\",\"2019\",195\r\n",
            "\"Arizona\",\"04\",\"2019\",\"2019\",706\r\n",
            "\"Arkansas\",\"05\",\"2019\",\"2019\",326\r\n",
            "\"California\",\"06\",\"2019\",\"2019\",3081\r\n",
            "\"Colorado\",\"08\",\"2019\",\"2019\",899\r\n",
            "\"Connecticut\",\"09\",\"2019\",\"2019\",217\r\n",
            "\"Delaware\",\"10\",\"2019\",\"2019\",66\r\n",
            "\"District of Columbia\",\"11\",\"2019\",\"2019\",72\r\n"
          ],
          "name": "stdout"
        }
      ]
    },
    {
      "cell_type": "code",
      "metadata": {
        "colab": {
          "base_uri": "https://localhost:8080/"
        },
        "id": "klGhDzY1PJrP",
        "outputId": "29c72ea3-44d9-4da7-eeaf-1fa0f63d6d9e"
      },
      "source": [
        "%%R \r\n",
        "\r\n",
        "dim(AtHome)"
      ],
      "execution_count": 98,
      "outputs": [
        {
          "output_type": "stream",
          "text": [
            "[1] 51  5\n"
          ],
          "name": "stdout"
        }
      ]
    }
  ]
}