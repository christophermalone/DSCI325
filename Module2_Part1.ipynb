{
  "nbformat": 4,
  "nbformat_minor": 0,
  "metadata": {
    "colab": {
      "name": "Module2_Part1.ipynb",
      "provenance": [],
      "collapsed_sections": [],
      "authorship_tag": "ABX9TyOrJja7tS+ge3JFDfOPQqRo",
      "include_colab_link": true
    },
    "kernelspec": {
      "name": "python3",
      "display_name": "Python 3"
    }
  },
  "cells": [
    {
      "cell_type": "markdown",
      "metadata": {
        "id": "view-in-github",
        "colab_type": "text"
      },
      "source": [
        "<a href=\"https://colab.research.google.com/github/christophermalone/DSCI325/blob/main/Module2_Part1.ipynb\" target=\"_parent\"><img src=\"https://colab.research.google.com/assets/colab-badge.svg\" alt=\"Open In Colab\"/></a>"
      ]
    },
    {
      "cell_type": "markdown",
      "metadata": {
        "id": "R05cYFVzZm7R"
      },
      "source": [
        "# Module 2 | Part 1: Pre-Processing of Data Files - Part I"
      ]
    },
    {
      "cell_type": "markdown",
      "metadata": {
        "id": "BbnR0V-jbBzu"
      },
      "source": [
        "This handout will include some of the common tasks regarding the pre-processing of data file before the data is read into R or Python.  In particular, the processing being done here is happening at the operating system level.  \n"
      ]
    },
    {
      "cell_type": "markdown",
      "metadata": {
        "id": "oPMXRRD9kY3m"
      },
      "source": [
        "<table width='100%' ><tr><td bgcolor='green'></td></tr></table>\n",
        "\n",
        "### Example 2.1.1\n",
        "\n",
        "Consider data on births in the United States. This information is provided by the Center for Disease Control (CDC) and it's Natality data within their  WONDER online databases.\n",
        "\n",
        "Two different datasets were obtained for the most recent year available. \n",
        "\n",
        "*   Number of Births that took place At Home for each State\n",
        "*   Number of Births that took place in a Hospital for each State\n",
        "\n",
        "<i>Data Sources</i>: https://wonder.cdc.gov/natality-current.html\n",
        "\n",
        "<table width='100%' ><tr><td bgcolor='green'></td></tr></table>"
      ]
    },
    {
      "cell_type": "markdown",
      "metadata": {
        "id": "v3j4KfE4kDAm"
      },
      "source": [
        "These two data files have been saved into the following folder in Colab.\n",
        "\n",
        "<p align='center'><img src=\"https://drive.google.com/uc?export=view&id=1jieTL2t7jEocOtJAas1Svn8nOKNByKBr \"></p>\n",
        "\n"
      ]
    },
    {
      "cell_type": "markdown",
      "metadata": {
        "id": "1t1JFKoaln--"
      },
      "source": [
        "## Utility Functions to View Contents of a File\n",
        "Colab / iPython Notebook allows one to run commands at the operating system level using typical code blocks.  The commands must simply be preceeded with <strong>!</strong> , i.e. an exclaimation point."
      ]
    },
    {
      "cell_type": "markdown",
      "metadata": {
        "id": "H-JsRFwyl3GF"
      },
      "source": [
        "For example, to get a listing of file in a particular directory, use <strong> !ls *\\<path to directory\\>* </strong>"
      ]
    },
    {
      "cell_type": "code",
      "metadata": {
        "colab": {
          "base_uri": "https://localhost:8080/"
        },
        "id": "icz2AxREaq--",
        "outputId": "da5db3c3-6b44-4f75-d119-826c2548c0cf"
      },
      "source": [
        "#A listing of the files in the /content/sample_data/ folder\n",
        "!ls '/content/sample_data'"
      ],
      "execution_count": 2,
      "outputs": [
        {
          "output_type": "stream",
          "name": "stdout",
          "text": [
            "AtHome_Births_StateLevel.txt  Hospital_Births_StateLevel.txt\n"
          ]
        }
      ]
    },
    {
      "cell_type": "markdown",
      "metadata": {
        "id": "E85MpubHmlaF"
      },
      "source": [
        "To see the contents of a file, use <strong> !cat *\\<filename\\>* </strong>\n",
        "\n",
        "WARNING: Do *not* run this command on a large file."
      ]
    },
    {
      "cell_type": "code",
      "metadata": {
        "colab": {
          "base_uri": "https://localhost:8080/"
        },
        "id": "5uTqherImkxG",
        "outputId": "a86568c2-effe-4e3b-aeba-7ea1b0ae2b44"
      },
      "source": [
        "!cat /content/sample_data/AtHome_Births_StateLevel.txt"
      ],
      "execution_count": 3,
      "outputs": [
        {
          "output_type": "stream",
          "name": "stdout",
          "text": [
            "\"Notes\"\t\"State\"\t\"State Code\"\t\"Year\"\t\"Year Code\"\tBirths\r\n",
            "\t\"Alabama\"\t\"01\"\t\"2019\"\t\"2019\"\t243\r\n",
            "\t\"Alaska\"\t\"02\"\t\"2019\"\t\"2019\"\t195\r\n",
            "\t\"Arizona\"\t\"04\"\t\"2019\"\t\"2019\"\t706\r\n",
            "\t\"Arkansas\"\t\"05\"\t\"2019\"\t\"2019\"\t326\r\n",
            "\t\"California\"\t\"06\"\t\"2019\"\t\"2019\"\t3081\r\n",
            "\t\"Colorado\"\t\"08\"\t\"2019\"\t\"2019\"\t899\r\n",
            "\t\"Connecticut\"\t\"09\"\t\"2019\"\t\"2019\"\t217\r\n",
            "\t\"Delaware\"\t\"10\"\t\"2019\"\t\"2019\"\t66\r\n",
            "\t\"District of Columbia\"\t\"11\"\t\"2019\"\t\"2019\"\t72\r\n",
            "\t\"Florida\"\t\"12\"\t\"2019\"\t\"2019\"\t2052\r\n",
            "\t\"Georgia\"\t\"13\"\t\"2019\"\t\"2019\"\t744\r\n",
            "\t\"Hawaii\"\t\"15\"\t\"2019\"\t\"2019\"\t319\r\n",
            "\t\"Idaho\"\t\"16\"\t\"2019\"\t\"2019\"\t619\r\n",
            "\t\"Illinois\"\t\"17\"\t\"2019\"\t\"2019\"\t819\r\n",
            "\t\"Indiana\"\t\"18\"\t\"2019\"\t\"2019\"\t1160\r\n",
            "\t\"Iowa\"\t\"19\"\t\"2019\"\t\"2019\"\t507\r\n",
            "\t\"Kansas\"\t\"20\"\t\"2019\"\t\"2019\"\t494\r\n",
            "\t\"Kentucky\"\t\"21\"\t\"2019\"\t\"2019\"\t680\r\n",
            "\t\"Louisiana\"\t\"22\"\t\"2019\"\t\"2019\"\t153\r\n",
            "\t\"Maine\"\t\"23\"\t\"2019\"\t\"2019\"\t222\r\n",
            "\t\"Maryland\"\t\"24\"\t\"2019\"\t\"2019\"\t533\r\n",
            "\t\"Massachusetts\"\t\"25\"\t\"2019\"\t\"2019\"\t395\r\n",
            "\t\"Michigan\"\t\"26\"\t\"2019\"\t\"2019\"\t1534\r\n",
            "\t\"Minnesota\"\t\"27\"\t\"2019\"\t\"2019\"\t800\r\n",
            "\t\"Mississippi\"\t\"28\"\t\"2019\"\t\"2019\"\t169\r\n",
            "\t\"Missouri\"\t\"29\"\t\"2019\"\t\"2019\"\t1071\r\n",
            "\t\"Montana\"\t\"30\"\t\"2019\"\t\"2019\"\t263\r\n",
            "\t\"Nebraska\"\t\"31\"\t\"2019\"\t\"2019\"\t93\r\n",
            "\t\"Nevada\"\t\"32\"\t\"2019\"\t\"2019\"\t573\r\n",
            "\t\"New Hampshire\"\t\"33\"\t\"2019\"\t\"2019\"\t163\r\n",
            "\t\"New Jersey\"\t\"34\"\t\"2019\"\t\"2019\"\t415\r\n",
            "\t\"New Mexico\"\t\"35\"\t\"2019\"\t\"2019\"\t274\r\n",
            "\t\"New York\"\t\"36\"\t\"2019\"\t\"2019\"\t2458\r\n",
            "\t\"North Carolina\"\t\"37\"\t\"2019\"\t\"2019\"\t716\r\n",
            "\t\"North Dakota\"\t\"38\"\t\"2019\"\t\"2019\"\t120\r\n",
            "\t\"Ohio\"\t\"39\"\t\"2019\"\t\"2019\"\t1599\r\n",
            "\t\"Oklahoma\"\t\"40\"\t\"2019\"\t\"2019\"\t505\r\n",
            "\t\"Oregon\"\t\"41\"\t\"2019\"\t\"2019\"\t865\r\n",
            "\t\"Pennsylvania\"\t\"42\"\t\"2019\"\t\"2019\"\t2606\r\n",
            "\t\"Rhode Island\"\t\"44\"\t\"2019\"\t\"2019\"\t48\r\n",
            "\t\"South Carolina\"\t\"45\"\t\"2019\"\t\"2019\"\t361\r\n",
            "\t\"South Dakota\"\t\"46\"\t\"2019\"\t\"2019\"\t89\r\n",
            "\t\"Tennessee\"\t\"47\"\t\"2019\"\t\"2019\"\t956\r\n",
            "\t\"Texas\"\t\"48\"\t\"2019\"\t\"2019\"\t2618\r\n",
            "\t\"Utah\"\t\"49\"\t\"2019\"\t\"2019\"\t1027\r\n",
            "\t\"Vermont\"\t\"50\"\t\"2019\"\t\"2019\"\t125\r\n",
            "\t\"Virginia\"\t\"51\"\t\"2019\"\t\"2019\"\t941\r\n",
            "\t\"Washington\"\t\"53\"\t\"2019\"\t\"2019\"\t1745\r\n",
            "\t\"West Virginia\"\t\"54\"\t\"2019\"\t\"2019\"\t136\r\n",
            "\t\"Wisconsin\"\t\"55\"\t\"2019\"\t\"2019\"\t1604\r\n",
            "\t\"Wyoming\"\t\"56\"\t\"2019\"\t\"2019\"\t130\r\n",
            "\"---\"\r\n",
            "\"Dataset: Natality, 2007-2019\"\r\n",
            "\"Query Parameters:\"\r\n",
            "\"Birthplace: Residence\"\r\n",
            "\"Year: 2019\"\r\n",
            "\"Group By: State; Year\"\r\n",
            "\"Show Totals: False\"\r\n",
            "\"Show Zero Values: False\"\r\n",
            "\"Show Suppressed: False\"\r\n",
            "\"Calculate Rates Per: 1,000\"\r\n",
            "\"Population Option: No populations shown because rates were not selected.\"\r\n",
            "\"---\"\r\n",
            "\"Help: See http://wonder.cdc.gov/wonder/help/Natality.html for more information.\"\r\n",
            "\"---\"\r\n",
            "\"Query Date: Jan 26, 2021 10:46:51 AM\"\r\n",
            "\"---\"\r\n",
            "\"Suggested Citation: United States Department of Health and Human Services (US DHHS), Centers for Disease Control and Prevention\"\r\n",
            "\"(CDC), National Center for Health Statistics (NCHS), Division of Vital Statistics, Natality public-use data 2007-2019, on CDC\"\r\n",
            "\"WONDER Online Database, October 2020. Accessed at http://wonder.cdc.gov/natality-current.html on Jan 26, 2021 10:46:51 AM\"\r\n",
            "\"---\"\r\n",
            "Caveats:\r\n",
            "\"1. Each birth record represents one living baby.\""
          ]
        }
      ]
    },
    {
      "cell_type": "markdown",
      "metadata": {
        "id": "wyCwQhxDnFUV"
      },
      "source": [
        "For large files, use <strong> !head *\\<filename\\>* </strong> instead of !cat"
      ]
    },
    {
      "cell_type": "code",
      "metadata": {
        "colab": {
          "base_uri": "https://localhost:8080/"
        },
        "id": "dOAyZyBNnNx9",
        "outputId": "c3c228af-032c-4c00-e58c-e77943f25d7b"
      },
      "source": [
        "!head /content/sample_data/AtHome_Births_StateLevel.txt"
      ],
      "execution_count": 4,
      "outputs": [
        {
          "output_type": "stream",
          "name": "stdout",
          "text": [
            "\"Notes\"\t\"State\"\t\"State Code\"\t\"Year\"\t\"Year Code\"\tBirths\r\n",
            "\t\"Alabama\"\t\"01\"\t\"2019\"\t\"2019\"\t243\r\n",
            "\t\"Alaska\"\t\"02\"\t\"2019\"\t\"2019\"\t195\r\n",
            "\t\"Arizona\"\t\"04\"\t\"2019\"\t\"2019\"\t706\r\n",
            "\t\"Arkansas\"\t\"05\"\t\"2019\"\t\"2019\"\t326\r\n",
            "\t\"California\"\t\"06\"\t\"2019\"\t\"2019\"\t3081\r\n",
            "\t\"Colorado\"\t\"08\"\t\"2019\"\t\"2019\"\t899\r\n",
            "\t\"Connecticut\"\t\"09\"\t\"2019\"\t\"2019\"\t217\r\n",
            "\t\"Delaware\"\t\"10\"\t\"2019\"\t\"2019\"\t66\r\n",
            "\t\"District of Columbia\"\t\"11\"\t\"2019\"\t\"2019\"\t72\r\n"
          ]
        }
      ]
    },
    {
      "cell_type": "markdown",
      "metadata": {
        "id": "GtSB2UqmnnMN"
      },
      "source": [
        "To view the last 15 lines of a file, use <strong> !tail -n 15 *\\<filename\\>* </strong>"
      ]
    },
    {
      "cell_type": "code",
      "metadata": {
        "colab": {
          "base_uri": "https://localhost:8080/"
        },
        "id": "OfphcKJwnwi1",
        "outputId": "16d732d4-fcfc-4b25-cb55-29b1e4f8035b"
      },
      "source": [
        "#Print last 15 lines of a file\n",
        "!tail -n 15 /content/sample_data/AtHome_Births_StateLevel.txt"
      ],
      "execution_count": 5,
      "outputs": [
        {
          "output_type": "stream",
          "name": "stdout",
          "text": [
            "\"Show Zero Values: False\"\r\n",
            "\"Show Suppressed: False\"\r\n",
            "\"Calculate Rates Per: 1,000\"\r\n",
            "\"Population Option: No populations shown because rates were not selected.\"\r\n",
            "\"---\"\r\n",
            "\"Help: See http://wonder.cdc.gov/wonder/help/Natality.html for more information.\"\r\n",
            "\"---\"\r\n",
            "\"Query Date: Jan 26, 2021 10:46:51 AM\"\r\n",
            "\"---\"\r\n",
            "\"Suggested Citation: United States Department of Health and Human Services (US DHHS), Centers for Disease Control and Prevention\"\r\n",
            "\"(CDC), National Center for Health Statistics (NCHS), Division of Vital Statistics, Natality public-use data 2007-2019, on CDC\"\r\n",
            "\"WONDER Online Database, October 2020. Accessed at http://wonder.cdc.gov/natality-current.html on Jan 26, 2021 10:46:51 AM\"\r\n",
            "\"---\"\r\n",
            "Caveats:\r\n",
            "\"1. Each birth record represents one living baby.\""
          ]
        }
      ]
    },
    {
      "cell_type": "markdown",
      "metadata": {
        "id": "7Tva-2QtqVf9"
      },
      "source": [
        "Next, print all lines in a file -- starting with Line #2."
      ]
    },
    {
      "cell_type": "code",
      "metadata": {
        "colab": {
          "base_uri": "https://localhost:8080/"
        },
        "id": "z_n3Kiaeoybg",
        "outputId": "7e6b9b0c-b93a-40bd-918e-ef40ced9641a"
      },
      "source": [
        "#Don't print the first line, use + with !tail\n",
        "!tail -n +2 /content/sample_data/AtHome_Births_StateLevel.txt"
      ],
      "execution_count": 6,
      "outputs": [
        {
          "output_type": "stream",
          "name": "stdout",
          "text": [
            "\t\"Alabama\"\t\"01\"\t\"2019\"\t\"2019\"\t243\r\n",
            "\t\"Alaska\"\t\"02\"\t\"2019\"\t\"2019\"\t195\r\n",
            "\t\"Arizona\"\t\"04\"\t\"2019\"\t\"2019\"\t706\r\n",
            "\t\"Arkansas\"\t\"05\"\t\"2019\"\t\"2019\"\t326\r\n",
            "\t\"California\"\t\"06\"\t\"2019\"\t\"2019\"\t3081\r\n",
            "\t\"Colorado\"\t\"08\"\t\"2019\"\t\"2019\"\t899\r\n",
            "\t\"Connecticut\"\t\"09\"\t\"2019\"\t\"2019\"\t217\r\n",
            "\t\"Delaware\"\t\"10\"\t\"2019\"\t\"2019\"\t66\r\n",
            "\t\"District of Columbia\"\t\"11\"\t\"2019\"\t\"2019\"\t72\r\n",
            "\t\"Florida\"\t\"12\"\t\"2019\"\t\"2019\"\t2052\r\n",
            "\t\"Georgia\"\t\"13\"\t\"2019\"\t\"2019\"\t744\r\n",
            "\t\"Hawaii\"\t\"15\"\t\"2019\"\t\"2019\"\t319\r\n",
            "\t\"Idaho\"\t\"16\"\t\"2019\"\t\"2019\"\t619\r\n",
            "\t\"Illinois\"\t\"17\"\t\"2019\"\t\"2019\"\t819\r\n",
            "\t\"Indiana\"\t\"18\"\t\"2019\"\t\"2019\"\t1160\r\n",
            "\t\"Iowa\"\t\"19\"\t\"2019\"\t\"2019\"\t507\r\n",
            "\t\"Kansas\"\t\"20\"\t\"2019\"\t\"2019\"\t494\r\n",
            "\t\"Kentucky\"\t\"21\"\t\"2019\"\t\"2019\"\t680\r\n",
            "\t\"Louisiana\"\t\"22\"\t\"2019\"\t\"2019\"\t153\r\n",
            "\t\"Maine\"\t\"23\"\t\"2019\"\t\"2019\"\t222\r\n",
            "\t\"Maryland\"\t\"24\"\t\"2019\"\t\"2019\"\t533\r\n",
            "\t\"Massachusetts\"\t\"25\"\t\"2019\"\t\"2019\"\t395\r\n",
            "\t\"Michigan\"\t\"26\"\t\"2019\"\t\"2019\"\t1534\r\n",
            "\t\"Minnesota\"\t\"27\"\t\"2019\"\t\"2019\"\t800\r\n",
            "\t\"Mississippi\"\t\"28\"\t\"2019\"\t\"2019\"\t169\r\n",
            "\t\"Missouri\"\t\"29\"\t\"2019\"\t\"2019\"\t1071\r\n",
            "\t\"Montana\"\t\"30\"\t\"2019\"\t\"2019\"\t263\r\n",
            "\t\"Nebraska\"\t\"31\"\t\"2019\"\t\"2019\"\t93\r\n",
            "\t\"Nevada\"\t\"32\"\t\"2019\"\t\"2019\"\t573\r\n",
            "\t\"New Hampshire\"\t\"33\"\t\"2019\"\t\"2019\"\t163\r\n",
            "\t\"New Jersey\"\t\"34\"\t\"2019\"\t\"2019\"\t415\r\n",
            "\t\"New Mexico\"\t\"35\"\t\"2019\"\t\"2019\"\t274\r\n",
            "\t\"New York\"\t\"36\"\t\"2019\"\t\"2019\"\t2458\r\n",
            "\t\"North Carolina\"\t\"37\"\t\"2019\"\t\"2019\"\t716\r\n",
            "\t\"North Dakota\"\t\"38\"\t\"2019\"\t\"2019\"\t120\r\n",
            "\t\"Ohio\"\t\"39\"\t\"2019\"\t\"2019\"\t1599\r\n",
            "\t\"Oklahoma\"\t\"40\"\t\"2019\"\t\"2019\"\t505\r\n",
            "\t\"Oregon\"\t\"41\"\t\"2019\"\t\"2019\"\t865\r\n",
            "\t\"Pennsylvania\"\t\"42\"\t\"2019\"\t\"2019\"\t2606\r\n",
            "\t\"Rhode Island\"\t\"44\"\t\"2019\"\t\"2019\"\t48\r\n",
            "\t\"South Carolina\"\t\"45\"\t\"2019\"\t\"2019\"\t361\r\n",
            "\t\"South Dakota\"\t\"46\"\t\"2019\"\t\"2019\"\t89\r\n",
            "\t\"Tennessee\"\t\"47\"\t\"2019\"\t\"2019\"\t956\r\n",
            "\t\"Texas\"\t\"48\"\t\"2019\"\t\"2019\"\t2618\r\n",
            "\t\"Utah\"\t\"49\"\t\"2019\"\t\"2019\"\t1027\r\n",
            "\t\"Vermont\"\t\"50\"\t\"2019\"\t\"2019\"\t125\r\n",
            "\t\"Virginia\"\t\"51\"\t\"2019\"\t\"2019\"\t941\r\n",
            "\t\"Washington\"\t\"53\"\t\"2019\"\t\"2019\"\t1745\r\n",
            "\t\"West Virginia\"\t\"54\"\t\"2019\"\t\"2019\"\t136\r\n",
            "\t\"Wisconsin\"\t\"55\"\t\"2019\"\t\"2019\"\t1604\r\n",
            "\t\"Wyoming\"\t\"56\"\t\"2019\"\t\"2019\"\t130\r\n",
            "\"---\"\r\n",
            "\"Dataset: Natality, 2007-2019\"\r\n",
            "\"Query Parameters:\"\r\n",
            "\"Birthplace: Residence\"\r\n",
            "\"Year: 2019\"\r\n",
            "\"Group By: State; Year\"\r\n",
            "\"Show Totals: False\"\r\n",
            "\"Show Zero Values: False\"\r\n",
            "\"Show Suppressed: False\"\r\n",
            "\"Calculate Rates Per: 1,000\"\r\n",
            "\"Population Option: No populations shown because rates were not selected.\"\r\n",
            "\"---\"\r\n",
            "\"Help: See http://wonder.cdc.gov/wonder/help/Natality.html for more information.\"\r\n",
            "\"---\"\r\n",
            "\"Query Date: Jan 26, 2021 10:46:51 AM\"\r\n",
            "\"---\"\r\n",
            "\"Suggested Citation: United States Department of Health and Human Services (US DHHS), Centers for Disease Control and Prevention\"\r\n",
            "\"(CDC), National Center for Health Statistics (NCHS), Division of Vital Statistics, Natality public-use data 2007-2019, on CDC\"\r\n",
            "\"WONDER Online Database, October 2020. Accessed at http://wonder.cdc.gov/natality-current.html on Jan 26, 2021 10:46:51 AM\"\r\n",
            "\"---\"\r\n",
            "Caveats:\r\n",
            "\"1. Each birth record represents one living baby.\""
          ]
        }
      ]
    },
    {
      "cell_type": "markdown",
      "metadata": {
        "id": "bypwbXfvqf9c"
      },
      "source": [
        "Finally, printing lines from the start to a certain point -- truncating the last 22 lines here.  Use case here would be to exclude footer information."
      ]
    },
    {
      "cell_type": "code",
      "metadata": {
        "colab": {
          "base_uri": "https://localhost:8080/"
        },
        "id": "jeZHeRu-qsTF",
        "outputId": "6c2f37ac-9b94-4483-b41d-94e7080dcb2b"
      },
      "source": [
        "#Do not print the last number of lines, use - with !head\n",
        "!head -n -22 /content/sample_data/AtHome_Births_StateLevel.txt"
      ],
      "execution_count": 7,
      "outputs": [
        {
          "output_type": "stream",
          "name": "stdout",
          "text": [
            "\"Notes\"\t\"State\"\t\"State Code\"\t\"Year\"\t\"Year Code\"\tBirths\r\n",
            "\t\"Alabama\"\t\"01\"\t\"2019\"\t\"2019\"\t243\r\n",
            "\t\"Alaska\"\t\"02\"\t\"2019\"\t\"2019\"\t195\r\n",
            "\t\"Arizona\"\t\"04\"\t\"2019\"\t\"2019\"\t706\r\n",
            "\t\"Arkansas\"\t\"05\"\t\"2019\"\t\"2019\"\t326\r\n",
            "\t\"California\"\t\"06\"\t\"2019\"\t\"2019\"\t3081\r\n",
            "\t\"Colorado\"\t\"08\"\t\"2019\"\t\"2019\"\t899\r\n",
            "\t\"Connecticut\"\t\"09\"\t\"2019\"\t\"2019\"\t217\r\n",
            "\t\"Delaware\"\t\"10\"\t\"2019\"\t\"2019\"\t66\r\n",
            "\t\"District of Columbia\"\t\"11\"\t\"2019\"\t\"2019\"\t72\r\n",
            "\t\"Florida\"\t\"12\"\t\"2019\"\t\"2019\"\t2052\r\n",
            "\t\"Georgia\"\t\"13\"\t\"2019\"\t\"2019\"\t744\r\n",
            "\t\"Hawaii\"\t\"15\"\t\"2019\"\t\"2019\"\t319\r\n",
            "\t\"Idaho\"\t\"16\"\t\"2019\"\t\"2019\"\t619\r\n",
            "\t\"Illinois\"\t\"17\"\t\"2019\"\t\"2019\"\t819\r\n",
            "\t\"Indiana\"\t\"18\"\t\"2019\"\t\"2019\"\t1160\r\n",
            "\t\"Iowa\"\t\"19\"\t\"2019\"\t\"2019\"\t507\r\n",
            "\t\"Kansas\"\t\"20\"\t\"2019\"\t\"2019\"\t494\r\n",
            "\t\"Kentucky\"\t\"21\"\t\"2019\"\t\"2019\"\t680\r\n",
            "\t\"Louisiana\"\t\"22\"\t\"2019\"\t\"2019\"\t153\r\n",
            "\t\"Maine\"\t\"23\"\t\"2019\"\t\"2019\"\t222\r\n",
            "\t\"Maryland\"\t\"24\"\t\"2019\"\t\"2019\"\t533\r\n",
            "\t\"Massachusetts\"\t\"25\"\t\"2019\"\t\"2019\"\t395\r\n",
            "\t\"Michigan\"\t\"26\"\t\"2019\"\t\"2019\"\t1534\r\n",
            "\t\"Minnesota\"\t\"27\"\t\"2019\"\t\"2019\"\t800\r\n",
            "\t\"Mississippi\"\t\"28\"\t\"2019\"\t\"2019\"\t169\r\n",
            "\t\"Missouri\"\t\"29\"\t\"2019\"\t\"2019\"\t1071\r\n",
            "\t\"Montana\"\t\"30\"\t\"2019\"\t\"2019\"\t263\r\n",
            "\t\"Nebraska\"\t\"31\"\t\"2019\"\t\"2019\"\t93\r\n",
            "\t\"Nevada\"\t\"32\"\t\"2019\"\t\"2019\"\t573\r\n",
            "\t\"New Hampshire\"\t\"33\"\t\"2019\"\t\"2019\"\t163\r\n",
            "\t\"New Jersey\"\t\"34\"\t\"2019\"\t\"2019\"\t415\r\n",
            "\t\"New Mexico\"\t\"35\"\t\"2019\"\t\"2019\"\t274\r\n",
            "\t\"New York\"\t\"36\"\t\"2019\"\t\"2019\"\t2458\r\n",
            "\t\"North Carolina\"\t\"37\"\t\"2019\"\t\"2019\"\t716\r\n",
            "\t\"North Dakota\"\t\"38\"\t\"2019\"\t\"2019\"\t120\r\n",
            "\t\"Ohio\"\t\"39\"\t\"2019\"\t\"2019\"\t1599\r\n",
            "\t\"Oklahoma\"\t\"40\"\t\"2019\"\t\"2019\"\t505\r\n",
            "\t\"Oregon\"\t\"41\"\t\"2019\"\t\"2019\"\t865\r\n",
            "\t\"Pennsylvania\"\t\"42\"\t\"2019\"\t\"2019\"\t2606\r\n",
            "\t\"Rhode Island\"\t\"44\"\t\"2019\"\t\"2019\"\t48\r\n",
            "\t\"South Carolina\"\t\"45\"\t\"2019\"\t\"2019\"\t361\r\n",
            "\t\"South Dakota\"\t\"46\"\t\"2019\"\t\"2019\"\t89\r\n",
            "\t\"Tennessee\"\t\"47\"\t\"2019\"\t\"2019\"\t956\r\n",
            "\t\"Texas\"\t\"48\"\t\"2019\"\t\"2019\"\t2618\r\n",
            "\t\"Utah\"\t\"49\"\t\"2019\"\t\"2019\"\t1027\r\n",
            "\t\"Vermont\"\t\"50\"\t\"2019\"\t\"2019\"\t125\r\n",
            "\t\"Virginia\"\t\"51\"\t\"2019\"\t\"2019\"\t941\r\n",
            "\t\"Washington\"\t\"53\"\t\"2019\"\t\"2019\"\t1745\r\n",
            "\t\"West Virginia\"\t\"54\"\t\"2019\"\t\"2019\"\t136\r\n",
            "\t\"Wisconsin\"\t\"55\"\t\"2019\"\t\"2019\"\t1604\r\n",
            "\t\"Wyoming\"\t\"56\"\t\"2019\"\t\"2019\"\t130\r\n"
          ]
        }
      ]
    },
    {
      "cell_type": "markdown",
      "metadata": {
        "id": "bnOWtbiVr-2r"
      },
      "source": [
        "## Using SED to Manipulate Files"
      ]
    },
    {
      "cell_type": "markdown",
      "metadata": {
        "id": "86o3H7GbsUkp"
      },
      "source": [
        "A text editor can be used to change the contents of a file. SED (Stream EDitor) is a common text editor that can be used to manipulate text files from a command line.\n",
        "\n",
        "Wiki Page for sed: https://en.wikipedia.org/wiki/Sed"
      ]
    },
    {
      "cell_type": "markdown",
      "metadata": {
        "id": "fwh14dDFtYOc"
      },
      "source": [
        "A text editor such as sed is certainly more powerful than commands used to print the contents of a file.  For example, the following sed command can be used to print a sequence of lines in the middle of a file. "
      ]
    },
    {
      "cell_type": "code",
      "metadata": {
        "id": "MYZrT2tNrwwz",
        "colab": {
          "base_uri": "https://localhost:8080/"
        },
        "outputId": "431e43c4-cd73-4a5b-9b7e-d316aaba6638"
      },
      "source": [
        "#Printing lines 2 through 52 of a file\n",
        "!sed -n 2,52p /content/sample_data/AtHome_Births_StateLevel.txt"
      ],
      "execution_count": 8,
      "outputs": [
        {
          "output_type": "stream",
          "name": "stdout",
          "text": [
            "\t\"Alabama\"\t\"01\"\t\"2019\"\t\"2019\"\t243\r\n",
            "\t\"Alaska\"\t\"02\"\t\"2019\"\t\"2019\"\t195\r\n",
            "\t\"Arizona\"\t\"04\"\t\"2019\"\t\"2019\"\t706\r\n",
            "\t\"Arkansas\"\t\"05\"\t\"2019\"\t\"2019\"\t326\r\n",
            "\t\"California\"\t\"06\"\t\"2019\"\t\"2019\"\t3081\r\n",
            "\t\"Colorado\"\t\"08\"\t\"2019\"\t\"2019\"\t899\r\n",
            "\t\"Connecticut\"\t\"09\"\t\"2019\"\t\"2019\"\t217\r\n",
            "\t\"Delaware\"\t\"10\"\t\"2019\"\t\"2019\"\t66\r\n",
            "\t\"District of Columbia\"\t\"11\"\t\"2019\"\t\"2019\"\t72\r\n",
            "\t\"Florida\"\t\"12\"\t\"2019\"\t\"2019\"\t2052\r\n",
            "\t\"Georgia\"\t\"13\"\t\"2019\"\t\"2019\"\t744\r\n",
            "\t\"Hawaii\"\t\"15\"\t\"2019\"\t\"2019\"\t319\r\n",
            "\t\"Idaho\"\t\"16\"\t\"2019\"\t\"2019\"\t619\r\n",
            "\t\"Illinois\"\t\"17\"\t\"2019\"\t\"2019\"\t819\r\n",
            "\t\"Indiana\"\t\"18\"\t\"2019\"\t\"2019\"\t1160\r\n",
            "\t\"Iowa\"\t\"19\"\t\"2019\"\t\"2019\"\t507\r\n",
            "\t\"Kansas\"\t\"20\"\t\"2019\"\t\"2019\"\t494\r\n",
            "\t\"Kentucky\"\t\"21\"\t\"2019\"\t\"2019\"\t680\r\n",
            "\t\"Louisiana\"\t\"22\"\t\"2019\"\t\"2019\"\t153\r\n",
            "\t\"Maine\"\t\"23\"\t\"2019\"\t\"2019\"\t222\r\n",
            "\t\"Maryland\"\t\"24\"\t\"2019\"\t\"2019\"\t533\r\n",
            "\t\"Massachusetts\"\t\"25\"\t\"2019\"\t\"2019\"\t395\r\n",
            "\t\"Michigan\"\t\"26\"\t\"2019\"\t\"2019\"\t1534\r\n",
            "\t\"Minnesota\"\t\"27\"\t\"2019\"\t\"2019\"\t800\r\n",
            "\t\"Mississippi\"\t\"28\"\t\"2019\"\t\"2019\"\t169\r\n",
            "\t\"Missouri\"\t\"29\"\t\"2019\"\t\"2019\"\t1071\r\n",
            "\t\"Montana\"\t\"30\"\t\"2019\"\t\"2019\"\t263\r\n",
            "\t\"Nebraska\"\t\"31\"\t\"2019\"\t\"2019\"\t93\r\n",
            "\t\"Nevada\"\t\"32\"\t\"2019\"\t\"2019\"\t573\r\n",
            "\t\"New Hampshire\"\t\"33\"\t\"2019\"\t\"2019\"\t163\r\n",
            "\t\"New Jersey\"\t\"34\"\t\"2019\"\t\"2019\"\t415\r\n",
            "\t\"New Mexico\"\t\"35\"\t\"2019\"\t\"2019\"\t274\r\n",
            "\t\"New York\"\t\"36\"\t\"2019\"\t\"2019\"\t2458\r\n",
            "\t\"North Carolina\"\t\"37\"\t\"2019\"\t\"2019\"\t716\r\n",
            "\t\"North Dakota\"\t\"38\"\t\"2019\"\t\"2019\"\t120\r\n",
            "\t\"Ohio\"\t\"39\"\t\"2019\"\t\"2019\"\t1599\r\n",
            "\t\"Oklahoma\"\t\"40\"\t\"2019\"\t\"2019\"\t505\r\n",
            "\t\"Oregon\"\t\"41\"\t\"2019\"\t\"2019\"\t865\r\n",
            "\t\"Pennsylvania\"\t\"42\"\t\"2019\"\t\"2019\"\t2606\r\n",
            "\t\"Rhode Island\"\t\"44\"\t\"2019\"\t\"2019\"\t48\r\n",
            "\t\"South Carolina\"\t\"45\"\t\"2019\"\t\"2019\"\t361\r\n",
            "\t\"South Dakota\"\t\"46\"\t\"2019\"\t\"2019\"\t89\r\n",
            "\t\"Tennessee\"\t\"47\"\t\"2019\"\t\"2019\"\t956\r\n",
            "\t\"Texas\"\t\"48\"\t\"2019\"\t\"2019\"\t2618\r\n",
            "\t\"Utah\"\t\"49\"\t\"2019\"\t\"2019\"\t1027\r\n",
            "\t\"Vermont\"\t\"50\"\t\"2019\"\t\"2019\"\t125\r\n",
            "\t\"Virginia\"\t\"51\"\t\"2019\"\t\"2019\"\t941\r\n",
            "\t\"Washington\"\t\"53\"\t\"2019\"\t\"2019\"\t1745\r\n",
            "\t\"West Virginia\"\t\"54\"\t\"2019\"\t\"2019\"\t136\r\n",
            "\t\"Wisconsin\"\t\"55\"\t\"2019\"\t\"2019\"\t1604\r\n",
            "\t\"Wyoming\"\t\"56\"\t\"2019\"\t\"2019\"\t130\r\n"
          ]
        }
      ]
    },
    {
      "cell_type": "markdown",
      "metadata": {
        "id": "T15lNi5VvSwE"
      },
      "source": [
        "SED allows one to *push* the contents being printing to the screen to be saved into a second file.  This action requires the use of a piping command, i.e. <strong>></strong>, and a file name should be provided for the new file."
      ]
    },
    {
      "cell_type": "code",
      "metadata": {
        "id": "kPQNSnbauwlO"
      },
      "source": [
        "#Printing lines 2 through 52 of a file AND pushing contents from print into a new file\n",
        "!sed -n 2,52p /content/sample_data/AtHome_Births_StateLevel.txt > /content/sample_data/AtHome_Births_StateLevel_v2.txt"
      ],
      "execution_count": 9,
      "outputs": []
    },
    {
      "cell_type": "code",
      "metadata": {
        "colab": {
          "base_uri": "https://localhost:8080/"
        },
        "id": "l_VpeOphu4Ul",
        "outputId": "b00c3c96-c20b-4a85-a0c6-392b0ddfc6f9"
      },
      "source": [
        "#Checking to see if new file was created\n",
        "!ls '/content/sample_data'"
      ],
      "execution_count": 10,
      "outputs": [
        {
          "output_type": "stream",
          "name": "stdout",
          "text": [
            "AtHome_Births_StateLevel.txt\t Hospital_Births_StateLevel.txt\n",
            "AtHome_Births_StateLevel_v2.txt\n"
          ]
        }
      ]
    },
    {
      "cell_type": "code",
      "metadata": {
        "colab": {
          "base_uri": "https://localhost:8080/"
        },
        "id": "gYssmYqOwIwH",
        "outputId": "b7634460-33ff-4159-b3c4-abea0495ca63"
      },
      "source": [
        "#Printing entire file to view changes\n",
        "!cat /content/sample_data/AtHome_Births_StateLevel_v2.txt"
      ],
      "execution_count": 11,
      "outputs": [
        {
          "output_type": "stream",
          "name": "stdout",
          "text": [
            "\t\"Alabama\"\t\"01\"\t\"2019\"\t\"2019\"\t243\r\n",
            "\t\"Alaska\"\t\"02\"\t\"2019\"\t\"2019\"\t195\r\n",
            "\t\"Arizona\"\t\"04\"\t\"2019\"\t\"2019\"\t706\r\n",
            "\t\"Arkansas\"\t\"05\"\t\"2019\"\t\"2019\"\t326\r\n",
            "\t\"California\"\t\"06\"\t\"2019\"\t\"2019\"\t3081\r\n",
            "\t\"Colorado\"\t\"08\"\t\"2019\"\t\"2019\"\t899\r\n",
            "\t\"Connecticut\"\t\"09\"\t\"2019\"\t\"2019\"\t217\r\n",
            "\t\"Delaware\"\t\"10\"\t\"2019\"\t\"2019\"\t66\r\n",
            "\t\"District of Columbia\"\t\"11\"\t\"2019\"\t\"2019\"\t72\r\n",
            "\t\"Florida\"\t\"12\"\t\"2019\"\t\"2019\"\t2052\r\n",
            "\t\"Georgia\"\t\"13\"\t\"2019\"\t\"2019\"\t744\r\n",
            "\t\"Hawaii\"\t\"15\"\t\"2019\"\t\"2019\"\t319\r\n",
            "\t\"Idaho\"\t\"16\"\t\"2019\"\t\"2019\"\t619\r\n",
            "\t\"Illinois\"\t\"17\"\t\"2019\"\t\"2019\"\t819\r\n",
            "\t\"Indiana\"\t\"18\"\t\"2019\"\t\"2019\"\t1160\r\n",
            "\t\"Iowa\"\t\"19\"\t\"2019\"\t\"2019\"\t507\r\n",
            "\t\"Kansas\"\t\"20\"\t\"2019\"\t\"2019\"\t494\r\n",
            "\t\"Kentucky\"\t\"21\"\t\"2019\"\t\"2019\"\t680\r\n",
            "\t\"Louisiana\"\t\"22\"\t\"2019\"\t\"2019\"\t153\r\n",
            "\t\"Maine\"\t\"23\"\t\"2019\"\t\"2019\"\t222\r\n",
            "\t\"Maryland\"\t\"24\"\t\"2019\"\t\"2019\"\t533\r\n",
            "\t\"Massachusetts\"\t\"25\"\t\"2019\"\t\"2019\"\t395\r\n",
            "\t\"Michigan\"\t\"26\"\t\"2019\"\t\"2019\"\t1534\r\n",
            "\t\"Minnesota\"\t\"27\"\t\"2019\"\t\"2019\"\t800\r\n",
            "\t\"Mississippi\"\t\"28\"\t\"2019\"\t\"2019\"\t169\r\n",
            "\t\"Missouri\"\t\"29\"\t\"2019\"\t\"2019\"\t1071\r\n",
            "\t\"Montana\"\t\"30\"\t\"2019\"\t\"2019\"\t263\r\n",
            "\t\"Nebraska\"\t\"31\"\t\"2019\"\t\"2019\"\t93\r\n",
            "\t\"Nevada\"\t\"32\"\t\"2019\"\t\"2019\"\t573\r\n",
            "\t\"New Hampshire\"\t\"33\"\t\"2019\"\t\"2019\"\t163\r\n",
            "\t\"New Jersey\"\t\"34\"\t\"2019\"\t\"2019\"\t415\r\n",
            "\t\"New Mexico\"\t\"35\"\t\"2019\"\t\"2019\"\t274\r\n",
            "\t\"New York\"\t\"36\"\t\"2019\"\t\"2019\"\t2458\r\n",
            "\t\"North Carolina\"\t\"37\"\t\"2019\"\t\"2019\"\t716\r\n",
            "\t\"North Dakota\"\t\"38\"\t\"2019\"\t\"2019\"\t120\r\n",
            "\t\"Ohio\"\t\"39\"\t\"2019\"\t\"2019\"\t1599\r\n",
            "\t\"Oklahoma\"\t\"40\"\t\"2019\"\t\"2019\"\t505\r\n",
            "\t\"Oregon\"\t\"41\"\t\"2019\"\t\"2019\"\t865\r\n",
            "\t\"Pennsylvania\"\t\"42\"\t\"2019\"\t\"2019\"\t2606\r\n",
            "\t\"Rhode Island\"\t\"44\"\t\"2019\"\t\"2019\"\t48\r\n",
            "\t\"South Carolina\"\t\"45\"\t\"2019\"\t\"2019\"\t361\r\n",
            "\t\"South Dakota\"\t\"46\"\t\"2019\"\t\"2019\"\t89\r\n",
            "\t\"Tennessee\"\t\"47\"\t\"2019\"\t\"2019\"\t956\r\n",
            "\t\"Texas\"\t\"48\"\t\"2019\"\t\"2019\"\t2618\r\n",
            "\t\"Utah\"\t\"49\"\t\"2019\"\t\"2019\"\t1027\r\n",
            "\t\"Vermont\"\t\"50\"\t\"2019\"\t\"2019\"\t125\r\n",
            "\t\"Virginia\"\t\"51\"\t\"2019\"\t\"2019\"\t941\r\n",
            "\t\"Washington\"\t\"53\"\t\"2019\"\t\"2019\"\t1745\r\n",
            "\t\"West Virginia\"\t\"54\"\t\"2019\"\t\"2019\"\t136\r\n",
            "\t\"Wisconsin\"\t\"55\"\t\"2019\"\t\"2019\"\t1604\r\n",
            "\t\"Wyoming\"\t\"56\"\t\"2019\"\t\"2019\"\t130\r\n"
          ]
        }
      ]
    },
    {
      "cell_type": "markdown",
      "metadata": {
        "id": "CGHVBWza9lEm"
      },
      "source": [
        "## Using SED to Find/Replace Contents"
      ]
    },
    {
      "cell_type": "markdown",
      "metadata": {
        "id": "HACJTPuFzaoX"
      },
      "source": [
        "Notice that each line in this data file begins with a tab character.  This is evident when the file is put into Notepad ++ and Show All Characters has been specifed for the text file.\n",
        "\n",
        "<p align='center'><img src=\"https://drive.google.com/uc?export=view&id=1JR_XPxdAl2RPsJAod1s7BW8V7vdUXkU_\"></p>\n",
        "\n"
      ]
    },
    {
      "cell_type": "markdown",
      "metadata": {
        "id": "TcqpOXT5hZEO"
      },
      "source": [
        "### Initial Tab Character Cause for Concern\n",
        "\n",
        "The fact that each lines begins with a tab character will adversely effect the reading in of the data. The following code can be used to read in this file into R.  Notice that R Magic is needed to execute R commands because this is a iPython Notebook."
      ]
    },
    {
      "cell_type": "code",
      "metadata": {
        "id": "G4BeX1_DhZfn"
      },
      "source": [
        "%load_ext rpy2.ipython"
      ],
      "execution_count": 12,
      "outputs": []
    },
    {
      "cell_type": "code",
      "metadata": {
        "id": "P6fq6yQuh0JR"
      },
      "source": [
        "%%R\n",
        "\n",
        "AtHome <- read.table(\"/content/sample_data/AtHome_Births_StateLevel_v2.txt\", header=FALSE, sep='\\t')"
      ],
      "execution_count": 13,
      "outputs": []
    },
    {
      "cell_type": "code",
      "metadata": {
        "colab": {
          "base_uri": "https://localhost:8080/"
        },
        "id": "IOB7GeH3iGT3",
        "outputId": "ec286c10-ce43-4cae-bd02-4fbd6b410e0a"
      },
      "source": [
        "%%R\n",
        "\n",
        "head(AtHome)"
      ],
      "execution_count": 14,
      "outputs": [
        {
          "output_type": "stream",
          "name": "stdout",
          "text": [
            "  V1         V2 V3   V4   V5   V6\n",
            "1 NA    Alabama  1 2019 2019  243\n",
            "2 NA     Alaska  2 2019 2019  195\n",
            "3 NA    Arizona  4 2019 2019  706\n",
            "4 NA   Arkansas  5 2019 2019  326\n",
            "5 NA California  6 2019 2019 3081\n",
            "6 NA   Colorado  8 2019 2019  899\n"
          ]
        }
      ]
    },
    {
      "cell_type": "markdown",
      "metadata": {
        "id": "mq6kJB21juaQ"
      },
      "source": [
        "The problem with the initial tab character is not unique to R.  This text file was read into a spreadsheet and JMP and the same issue appears in both.\n",
        "\n",
        "<table border='1' bgcolor='white'>\n",
        "  <tr>\n",
        "    <td align='45%' align='center' valign='top'>\n",
        "     <p align='center'>Reading File into a Spreadsheet<br><br><img src=\"https://drive.google.com/uc?export=view&id=1cJQHML7A7ipbKPXcHp9a9kH5VU5Qjj1K\"></p>\n",
        "    </td>\n",
        "     <td align='10%' align='center' valign='top'>&nbsp;</td>\n",
        "        <td align='45%' align='center' valign='top'>\n",
        "\n",
        " <p align='center'>Reading File into JMP<br><br><img src=\"https://drive.google.com/uc?export=view&id=1QyzH6s6seS7uN2rRisrxLz00vo3Td864\"></p>\n",
        "       </td>\n",
        "  </tr>\n",
        "</table>\n",
        "\n"
      ]
    },
    {
      "cell_type": "markdown",
      "metadata": {
        "id": "5CLOAfrv4kVQ"
      },
      "source": [
        "###  Removing the Initial Tab Character from each Line\n",
        "\n",
        "The following sed command does the following\n",
        "\n",
        "*   Searches each line of the file named *filename*\n",
        "*   Finds the first occurance of the tab character, i.e. \\t\n",
        "*   Replaces the first occurance of \\t with *nothing*\n",
        "*   Creates a new file, named *filename2* for the output\n",
        "\n",
        "\n",
        "\n",
        "\n",
        "<p align='center'><img src=\"https://drive.google.com/uc?export=view&id=1sg9zYH1c2i6Ucrxm-2i6uiVy7SYvb_1_\"></p>"
      ]
    },
    {
      "cell_type": "code",
      "metadata": {
        "id": "CqUXFcvwzc4r"
      },
      "source": [
        "#Run the command above to remove the first tab occurance on each line in the AtHome_Births_StateLevel_v2 file\n",
        "!sed 's/\\t//' /content/sample_data/AtHome_Births_StateLevel_v2.txt > /content/sample_data/AtHome_Births_StateLevel_v3.txt"
      ],
      "execution_count": 15,
      "outputs": []
    },
    {
      "cell_type": "code",
      "metadata": {
        "id": "3oznOp1Izpk0",
        "colab": {
          "base_uri": "https://localhost:8080/"
        },
        "outputId": "ce7add77-db63-49df-b8d1-e01592a24144"
      },
      "source": [
        "#Verify that this command produces the desired output\n",
        "!cat /content/sample_data/AtHome_Births_StateLevel_v3.txt"
      ],
      "execution_count": 16,
      "outputs": [
        {
          "output_type": "stream",
          "name": "stdout",
          "text": [
            "\"Alabama\"\t\"01\"\t\"2019\"\t\"2019\"\t243\r\n",
            "\"Alaska\"\t\"02\"\t\"2019\"\t\"2019\"\t195\r\n",
            "\"Arizona\"\t\"04\"\t\"2019\"\t\"2019\"\t706\r\n",
            "\"Arkansas\"\t\"05\"\t\"2019\"\t\"2019\"\t326\r\n",
            "\"California\"\t\"06\"\t\"2019\"\t\"2019\"\t3081\r\n",
            "\"Colorado\"\t\"08\"\t\"2019\"\t\"2019\"\t899\r\n",
            "\"Connecticut\"\t\"09\"\t\"2019\"\t\"2019\"\t217\r\n",
            "\"Delaware\"\t\"10\"\t\"2019\"\t\"2019\"\t66\r\n",
            "\"District of Columbia\"\t\"11\"\t\"2019\"\t\"2019\"\t72\r\n",
            "\"Florida\"\t\"12\"\t\"2019\"\t\"2019\"\t2052\r\n",
            "\"Georgia\"\t\"13\"\t\"2019\"\t\"2019\"\t744\r\n",
            "\"Hawaii\"\t\"15\"\t\"2019\"\t\"2019\"\t319\r\n",
            "\"Idaho\"\t\"16\"\t\"2019\"\t\"2019\"\t619\r\n",
            "\"Illinois\"\t\"17\"\t\"2019\"\t\"2019\"\t819\r\n",
            "\"Indiana\"\t\"18\"\t\"2019\"\t\"2019\"\t1160\r\n",
            "\"Iowa\"\t\"19\"\t\"2019\"\t\"2019\"\t507\r\n",
            "\"Kansas\"\t\"20\"\t\"2019\"\t\"2019\"\t494\r\n",
            "\"Kentucky\"\t\"21\"\t\"2019\"\t\"2019\"\t680\r\n",
            "\"Louisiana\"\t\"22\"\t\"2019\"\t\"2019\"\t153\r\n",
            "\"Maine\"\t\"23\"\t\"2019\"\t\"2019\"\t222\r\n",
            "\"Maryland\"\t\"24\"\t\"2019\"\t\"2019\"\t533\r\n",
            "\"Massachusetts\"\t\"25\"\t\"2019\"\t\"2019\"\t395\r\n",
            "\"Michigan\"\t\"26\"\t\"2019\"\t\"2019\"\t1534\r\n",
            "\"Minnesota\"\t\"27\"\t\"2019\"\t\"2019\"\t800\r\n",
            "\"Mississippi\"\t\"28\"\t\"2019\"\t\"2019\"\t169\r\n",
            "\"Missouri\"\t\"29\"\t\"2019\"\t\"2019\"\t1071\r\n",
            "\"Montana\"\t\"30\"\t\"2019\"\t\"2019\"\t263\r\n",
            "\"Nebraska\"\t\"31\"\t\"2019\"\t\"2019\"\t93\r\n",
            "\"Nevada\"\t\"32\"\t\"2019\"\t\"2019\"\t573\r\n",
            "\"New Hampshire\"\t\"33\"\t\"2019\"\t\"2019\"\t163\r\n",
            "\"New Jersey\"\t\"34\"\t\"2019\"\t\"2019\"\t415\r\n",
            "\"New Mexico\"\t\"35\"\t\"2019\"\t\"2019\"\t274\r\n",
            "\"New York\"\t\"36\"\t\"2019\"\t\"2019\"\t2458\r\n",
            "\"North Carolina\"\t\"37\"\t\"2019\"\t\"2019\"\t716\r\n",
            "\"North Dakota\"\t\"38\"\t\"2019\"\t\"2019\"\t120\r\n",
            "\"Ohio\"\t\"39\"\t\"2019\"\t\"2019\"\t1599\r\n",
            "\"Oklahoma\"\t\"40\"\t\"2019\"\t\"2019\"\t505\r\n",
            "\"Oregon\"\t\"41\"\t\"2019\"\t\"2019\"\t865\r\n",
            "\"Pennsylvania\"\t\"42\"\t\"2019\"\t\"2019\"\t2606\r\n",
            "\"Rhode Island\"\t\"44\"\t\"2019\"\t\"2019\"\t48\r\n",
            "\"South Carolina\"\t\"45\"\t\"2019\"\t\"2019\"\t361\r\n",
            "\"South Dakota\"\t\"46\"\t\"2019\"\t\"2019\"\t89\r\n",
            "\"Tennessee\"\t\"47\"\t\"2019\"\t\"2019\"\t956\r\n",
            "\"Texas\"\t\"48\"\t\"2019\"\t\"2019\"\t2618\r\n",
            "\"Utah\"\t\"49\"\t\"2019\"\t\"2019\"\t1027\r\n",
            "\"Vermont\"\t\"50\"\t\"2019\"\t\"2019\"\t125\r\n",
            "\"Virginia\"\t\"51\"\t\"2019\"\t\"2019\"\t941\r\n",
            "\"Washington\"\t\"53\"\t\"2019\"\t\"2019\"\t1745\r\n",
            "\"West Virginia\"\t\"54\"\t\"2019\"\t\"2019\"\t136\r\n",
            "\"Wisconsin\"\t\"55\"\t\"2019\"\t\"2019\"\t1604\r\n",
            "\"Wyoming\"\t\"56\"\t\"2019\"\t\"2019\"\t130\r\n"
          ]
        }
      ]
    },
    {
      "cell_type": "markdown",
      "metadata": {
        "id": "pk8cAS5b4uUH"
      },
      "source": [
        "The removal of the first tab occurance can be verified in Notepad ++ as is shown here.\n",
        "\n",
        "<p align='center'><img src=\"https://drive.google.com/uc?export=view&id=1-7ALLdTSvPTjrFrH4u3q4maTkdenzkEX\"></p>"
      ]
    },
    {
      "cell_type": "markdown",
      "metadata": {
        "id": "JGF7weUv44cn"
      },
      "source": [
        "SED can be used to easily convert this tab delimited file into the more common CSV delimited file.  In this situaiton all occurance of the tab character will be replaced with the comma.\n",
        "\n",
        "*   Search each line of the file named *filename*\n",
        "*   Finds each occurance of the tab character, i.e. \\t\n",
        "*   Replaces the each occurance of \\t with ,\n",
        "*   The trailing g preforms a global search, i.e. all occurances\n",
        "*   Creates a new file, named *filename2* for the output\n",
        "\n",
        "<p align='center'><img src=\"https://drive.google.com/uc?export=view&id=1fUmMPbEsRXSNdld3gn-gcTfPlQhXtQ95\"></p>"
      ]
    },
    {
      "cell_type": "code",
      "metadata": {
        "id": "Fzyunn4g7FUd"
      },
      "source": [
        "#Convert from tab delimited to comma delimited\n",
        "!sed 's/\\t/,/g' /content/sample_data/AtHome_Births_StateLevel_v3.txt > /content/sample_data/AtHome_Births_StateLevel_v4.txt"
      ],
      "execution_count": 17,
      "outputs": []
    },
    {
      "cell_type": "code",
      "metadata": {
        "id": "gbq0q5YD0DHU",
        "colab": {
          "base_uri": "https://localhost:8080/"
        },
        "outputId": "2d3c5010-dd97-40fa-bb2d-62371398ccfb"
      },
      "source": [
        "#Verify that conversion was completed successfully\n",
        "!cat /content/sample_data/AtHome_Births_StateLevel_v4.txt"
      ],
      "execution_count": 18,
      "outputs": [
        {
          "output_type": "stream",
          "name": "stdout",
          "text": [
            "\"Alabama\",\"01\",\"2019\",\"2019\",243\r\n",
            "\"Alaska\",\"02\",\"2019\",\"2019\",195\r\n",
            "\"Arizona\",\"04\",\"2019\",\"2019\",706\r\n",
            "\"Arkansas\",\"05\",\"2019\",\"2019\",326\r\n",
            "\"California\",\"06\",\"2019\",\"2019\",3081\r\n",
            "\"Colorado\",\"08\",\"2019\",\"2019\",899\r\n",
            "\"Connecticut\",\"09\",\"2019\",\"2019\",217\r\n",
            "\"Delaware\",\"10\",\"2019\",\"2019\",66\r\n",
            "\"District of Columbia\",\"11\",\"2019\",\"2019\",72\r\n",
            "\"Florida\",\"12\",\"2019\",\"2019\",2052\r\n",
            "\"Georgia\",\"13\",\"2019\",\"2019\",744\r\n",
            "\"Hawaii\",\"15\",\"2019\",\"2019\",319\r\n",
            "\"Idaho\",\"16\",\"2019\",\"2019\",619\r\n",
            "\"Illinois\",\"17\",\"2019\",\"2019\",819\r\n",
            "\"Indiana\",\"18\",\"2019\",\"2019\",1160\r\n",
            "\"Iowa\",\"19\",\"2019\",\"2019\",507\r\n",
            "\"Kansas\",\"20\",\"2019\",\"2019\",494\r\n",
            "\"Kentucky\",\"21\",\"2019\",\"2019\",680\r\n",
            "\"Louisiana\",\"22\",\"2019\",\"2019\",153\r\n",
            "\"Maine\",\"23\",\"2019\",\"2019\",222\r\n",
            "\"Maryland\",\"24\",\"2019\",\"2019\",533\r\n",
            "\"Massachusetts\",\"25\",\"2019\",\"2019\",395\r\n",
            "\"Michigan\",\"26\",\"2019\",\"2019\",1534\r\n",
            "\"Minnesota\",\"27\",\"2019\",\"2019\",800\r\n",
            "\"Mississippi\",\"28\",\"2019\",\"2019\",169\r\n",
            "\"Missouri\",\"29\",\"2019\",\"2019\",1071\r\n",
            "\"Montana\",\"30\",\"2019\",\"2019\",263\r\n",
            "\"Nebraska\",\"31\",\"2019\",\"2019\",93\r\n",
            "\"Nevada\",\"32\",\"2019\",\"2019\",573\r\n",
            "\"New Hampshire\",\"33\",\"2019\",\"2019\",163\r\n",
            "\"New Jersey\",\"34\",\"2019\",\"2019\",415\r\n",
            "\"New Mexico\",\"35\",\"2019\",\"2019\",274\r\n",
            "\"New York\",\"36\",\"2019\",\"2019\",2458\r\n",
            "\"North Carolina\",\"37\",\"2019\",\"2019\",716\r\n",
            "\"North Dakota\",\"38\",\"2019\",\"2019\",120\r\n",
            "\"Ohio\",\"39\",\"2019\",\"2019\",1599\r\n",
            "\"Oklahoma\",\"40\",\"2019\",\"2019\",505\r\n",
            "\"Oregon\",\"41\",\"2019\",\"2019\",865\r\n",
            "\"Pennsylvania\",\"42\",\"2019\",\"2019\",2606\r\n",
            "\"Rhode Island\",\"44\",\"2019\",\"2019\",48\r\n",
            "\"South Carolina\",\"45\",\"2019\",\"2019\",361\r\n",
            "\"South Dakota\",\"46\",\"2019\",\"2019\",89\r\n",
            "\"Tennessee\",\"47\",\"2019\",\"2019\",956\r\n",
            "\"Texas\",\"48\",\"2019\",\"2019\",2618\r\n",
            "\"Utah\",\"49\",\"2019\",\"2019\",1027\r\n",
            "\"Vermont\",\"50\",\"2019\",\"2019\",125\r\n",
            "\"Virginia\",\"51\",\"2019\",\"2019\",941\r\n",
            "\"Washington\",\"53\",\"2019\",\"2019\",1745\r\n",
            "\"West Virginia\",\"54\",\"2019\",\"2019\",136\r\n",
            "\"Wisconsin\",\"55\",\"2019\",\"2019\",1604\r\n",
            "\"Wyoming\",\"56\",\"2019\",\"2019\",130\r\n"
          ]
        }
      ]
    },
    {
      "cell_type": "markdown",
      "metadata": {
        "id": "aztgvtNF8TN7"
      },
      "source": [
        "## Using SED to Insert/Delete Lines"
      ]
    },
    {
      "cell_type": "markdown",
      "metadata": {
        "id": "eHlnNEf0_XP1"
      },
      "source": [
        "Next, sed will be used to add field or variable names to the first line of this data file. \n",
        "\n",
        "*   Insert a line at line 1\n",
        "*   Insert the field/variable names into Line 1; Contents are contained with slashes\n",
        "*   Create a new file, named *filename2* for the output\n",
        "\n",
        "<p align='center'><img src=\"https://drive.google.com/uc?export=view&id=1Rdzm5SCRiKKdt67JBcX5uJ6toNk6CVan\"></p>"
      ]
    },
    {
      "cell_type": "code",
      "metadata": {
        "id": "eMoGmQ0B8SgU"
      },
      "source": [
        "#Insert variable names into first line of data file\n",
        "## NOTE: Be careful not to run this line mutiple times          ##\n",
        "##       Can delete lines using '1d' option of sed (see below)  ##\n",
        "\n",
        "!sed '1i \\State, StateCode, Year, YearCode, AtHomeCount\\' /content/sample_data/AtHome_Births_StateLevel_v4.txt > /content/sample_data/AtHome_Births_StateLevel_v5.txt "
      ],
      "execution_count": 29,
      "outputs": []
    },
    {
      "cell_type": "code",
      "metadata": {
        "id": "-1RlqkQq8mUe",
        "colab": {
          "base_uri": "https://localhost:8080/"
        },
        "outputId": "fa0258c2-982f-452e-89d8-d72aa0076036"
      },
      "source": [
        "#Verify that header was successfully added to thd data file\n",
        "!cat /content/sample_data/AtHome_Births_StateLevel_v5.txt"
      ],
      "execution_count": 30,
      "outputs": [
        {
          "output_type": "stream",
          "name": "stdout",
          "text": [
            "State, StateCode, Year, YearCode, AtHomeCount\n",
            "\"Alabama\",\"01\",\"2019\",\"2019\",243\r\n",
            "\"Alaska\",\"02\",\"2019\",\"2019\",195\r\n",
            "\"Arizona\",\"04\",\"2019\",\"2019\",706\r\n",
            "\"Arkansas\",\"05\",\"2019\",\"2019\",326\r\n",
            "\"California\",\"06\",\"2019\",\"2019\",3081\r\n",
            "\"Colorado\",\"08\",\"2019\",\"2019\",899\r\n",
            "\"Connecticut\",\"09\",\"2019\",\"2019\",217\r\n",
            "\"Delaware\",\"10\",\"2019\",\"2019\",66\r\n",
            "\"District of Columbia\",\"11\",\"2019\",\"2019\",72\r\n",
            "\"Florida\",\"12\",\"2019\",\"2019\",2052\r\n",
            "\"Georgia\",\"13\",\"2019\",\"2019\",744\r\n",
            "\"Hawaii\",\"15\",\"2019\",\"2019\",319\r\n",
            "\"Idaho\",\"16\",\"2019\",\"2019\",619\r\n",
            "\"Illinois\",\"17\",\"2019\",\"2019\",819\r\n",
            "\"Indiana\",\"18\",\"2019\",\"2019\",1160\r\n",
            "\"Iowa\",\"19\",\"2019\",\"2019\",507\r\n",
            "\"Kansas\",\"20\",\"2019\",\"2019\",494\r\n",
            "\"Kentucky\",\"21\",\"2019\",\"2019\",680\r\n",
            "\"Louisiana\",\"22\",\"2019\",\"2019\",153\r\n",
            "\"Maine\",\"23\",\"2019\",\"2019\",222\r\n",
            "\"Maryland\",\"24\",\"2019\",\"2019\",533\r\n",
            "\"Massachusetts\",\"25\",\"2019\",\"2019\",395\r\n",
            "\"Michigan\",\"26\",\"2019\",\"2019\",1534\r\n",
            "\"Minnesota\",\"27\",\"2019\",\"2019\",800\r\n",
            "\"Mississippi\",\"28\",\"2019\",\"2019\",169\r\n",
            "\"Missouri\",\"29\",\"2019\",\"2019\",1071\r\n",
            "\"Montana\",\"30\",\"2019\",\"2019\",263\r\n",
            "\"Nebraska\",\"31\",\"2019\",\"2019\",93\r\n",
            "\"Nevada\",\"32\",\"2019\",\"2019\",573\r\n",
            "\"New Hampshire\",\"33\",\"2019\",\"2019\",163\r\n",
            "\"New Jersey\",\"34\",\"2019\",\"2019\",415\r\n",
            "\"New Mexico\",\"35\",\"2019\",\"2019\",274\r\n",
            "\"New York\",\"36\",\"2019\",\"2019\",2458\r\n",
            "\"North Carolina\",\"37\",\"2019\",\"2019\",716\r\n",
            "\"North Dakota\",\"38\",\"2019\",\"2019\",120\r\n",
            "\"Ohio\",\"39\",\"2019\",\"2019\",1599\r\n",
            "\"Oklahoma\",\"40\",\"2019\",\"2019\",505\r\n",
            "\"Oregon\",\"41\",\"2019\",\"2019\",865\r\n",
            "\"Pennsylvania\",\"42\",\"2019\",\"2019\",2606\r\n",
            "\"Rhode Island\",\"44\",\"2019\",\"2019\",48\r\n",
            "\"South Carolina\",\"45\",\"2019\",\"2019\",361\r\n",
            "\"South Dakota\",\"46\",\"2019\",\"2019\",89\r\n",
            "\"Tennessee\",\"47\",\"2019\",\"2019\",956\r\n",
            "\"Texas\",\"48\",\"2019\",\"2019\",2618\r\n",
            "\"Utah\",\"49\",\"2019\",\"2019\",1027\r\n",
            "\"Vermont\",\"50\",\"2019\",\"2019\",125\r\n",
            "\"Virginia\",\"51\",\"2019\",\"2019\",941\r\n",
            "\"Washington\",\"53\",\"2019\",\"2019\",1745\r\n",
            "\"West Virginia\",\"54\",\"2019\",\"2019\",136\r\n",
            "\"Wisconsin\",\"55\",\"2019\",\"2019\",1604\r\n",
            "\"Wyoming\",\"56\",\"2019\",\"2019\",130\r\n"
          ]
        }
      ]
    },
    {
      "cell_type": "markdown",
      "metadata": {
        "id": "wGbipl8y_iO_"
      },
      "source": [
        "Comment:  The -i option in sed permits one to edit the file <strong>in-place</strong>.  Here, the header information here is put into the *same* file -- no new file is being created here for the output.\n",
        "\n",
        "<p align='center'><img src=\"https://drive.google.com/uc?export=view&id=1-HSWFO_nvam13ZBI3peDbB8a2G60k-ep\"></p>"
      ]
    },
    {
      "cell_type": "markdown",
      "metadata": {
        "id": "6Q4VYxiKEbJ0"
      },
      "source": [
        "The following command can be used to <strong>delete</strong> line 1 from an existing data file."
      ]
    },
    {
      "cell_type": "code",
      "metadata": {
        "id": "kSp3RiN0c-sg"
      },
      "source": [
        "#The following can be used delete the first line in a data file\n",
        "!sed -i '1d' /content/sample_data/AtHome_Births_StateLevel_v5.txt"
      ],
      "execution_count": 21,
      "outputs": []
    },
    {
      "cell_type": "markdown",
      "metadata": {
        "id": "BBoqKkzaqIAZ"
      },
      "source": [
        "## Using AWK to Determine #Records and #Fields"
      ]
    },
    {
      "cell_type": "markdown",
      "metadata": {
        "id": "ikKx7uqfqiR5"
      },
      "source": [
        "AWK is a classic language that can be used for the processing of text files. AWK was created by Alfred Aho, Peter Weinberger, and Brian Kernighan who all worked together at Bell Labs. \n",
        "\n",
        "AWK Link:  https://en.wikipedia.org/wiki/AWK"
      ]
    },
    {
      "cell_type": "code",
      "metadata": {
        "colab": {
          "base_uri": "https://localhost:8080/"
        },
        "id": "4n9dgJz5qSeY",
        "outputId": "b9b3e55c-afe3-4a1b-ca8a-f3a51de652bc"
      },
      "source": [
        "#The following command can be used to determine the number of lines in a file\n",
        "!awk 'END{print NR}' /content/sample_data/AtHome_Births_StateLevel_v5.txt"
      ],
      "execution_count": 22,
      "outputs": [
        {
          "output_type": "stream",
          "name": "stdout",
          "text": [
            "51\n"
          ]
        }
      ]
    },
    {
      "cell_type": "code",
      "metadata": {
        "colab": {
          "base_uri": "https://localhost:8080/"
        },
        "id": "f2-utAQ2qbuH",
        "outputId": "e40b1131-c0be-4960-82b3-200666d7f930"
      },
      "source": [
        "#The following command can be used to determine the number of fields in a file; Note the deliminter, here a comma, should be specified\n",
        "!awk -F',' '{print NF; exit}' /content/sample_data/AtHome_Births_StateLevel_v5.txt"
      ],
      "execution_count": 23,
      "outputs": [
        {
          "output_type": "stream",
          "name": "stdout",
          "text": [
            "5\n"
          ]
        }
      ]
    },
    {
      "cell_type": "markdown",
      "metadata": {
        "id": "HSmO6joCrwFH"
      },
      "source": [
        "Note:  The following sed command can be used to determine the number of lines in a text file.  \n",
        "<p align='center'><code>!sed -n '$=' /content/sample_data/AtHome_Births_StateLevel_v5.txt</code></p>"
      ]
    },
    {
      "cell_type": "markdown",
      "metadata": {
        "id": "4HiahcuHOZpa"
      },
      "source": [
        "## Reading the Processed Data File into R"
      ]
    },
    {
      "cell_type": "markdown",
      "metadata": {
        "id": "uene2kuQOdm5"
      },
      "source": [
        "This an iPython Notebook; thus, to run R commands, R Magic will need to be implemented. "
      ]
    },
    {
      "cell_type": "code",
      "metadata": {
        "colab": {
          "base_uri": "https://localhost:8080/"
        },
        "id": "Qy4TRHBVOel6",
        "outputId": "c9e982f4-c90c-49a1-c934-354e19155750"
      },
      "source": [
        "%load_ext rpy2.ipython"
      ],
      "execution_count": 31,
      "outputs": [
        {
          "output_type": "stream",
          "name": "stdout",
          "text": [
            "The rpy2.ipython extension is already loaded. To reload it, use:\n",
            "  %reload_ext rpy2.ipython\n"
          ]
        }
      ]
    },
    {
      "cell_type": "markdown",
      "metadata": {
        "id": "5v3iFpfDQAqN"
      },
      "source": [
        "###  Using read.csv() with the default settings\n",
        "Once again, R commands can be run in code blocks when %%R is used in the first line of the code block."
      ]
    },
    {
      "cell_type": "code",
      "metadata": {
        "id": "bXzY8diJO60r"
      },
      "source": [
        "%%R\n",
        "\n",
        "AtHome <- read.csv('/content/sample_data/AtHome_Births_StateLevel_v5.txt')"
      ],
      "execution_count": 33,
      "outputs": []
    },
    {
      "cell_type": "code",
      "metadata": {
        "colab": {
          "base_uri": "https://localhost:8080/"
        },
        "id": "hajfFA0iPEzR",
        "outputId": "8888f0bb-aca6-4b17-cf69-351db2713f99"
      },
      "source": [
        "%%R\n",
        "\n",
        "head(AtHome)"
      ],
      "execution_count": 34,
      "outputs": [
        {
          "output_type": "stream",
          "name": "stdout",
          "text": [
            "       State StateCode Year YearCode AtHomeCount\n",
            "1    Alabama         1 2019     2019         243\n",
            "2     Alaska         2 2019     2019         195\n",
            "3    Arizona         4 2019     2019         706\n",
            "4   Arkansas         5 2019     2019         326\n",
            "5 California         6 2019     2019        3081\n",
            "6   Colorado         8 2019     2019         899\n"
          ]
        }
      ]
    },
    {
      "cell_type": "code",
      "metadata": {
        "colab": {
          "base_uri": "https://localhost:8080/"
        },
        "id": "6XR_839os4mJ",
        "outputId": "9ff81761-9ecc-41ae-cc6a-653a61c756ed"
      },
      "source": [
        "#Verify that R read in the file correctly\n",
        "!head /content/sample_data/AtHome_Births_StateLevel_v5.txt"
      ],
      "execution_count": null,
      "outputs": [
        {
          "output_type": "stream",
          "text": [
            "State, StateCode, Year, YearCode, AtHomeCount\n",
            "\"Alabama\",\"01\",\"2019\",\"2019\",243\r\n",
            "\"Alaska\",\"02\",\"2019\",\"2019\",195\r\n",
            "\"Arizona\",\"04\",\"2019\",\"2019\",706\r\n",
            "\"Arkansas\",\"05\",\"2019\",\"2019\",326\r\n",
            "\"California\",\"06\",\"2019\",\"2019\",3081\r\n",
            "\"Colorado\",\"08\",\"2019\",\"2019\",899\r\n",
            "\"Connecticut\",\"09\",\"2019\",\"2019\",217\r\n",
            "\"Delaware\",\"10\",\"2019\",\"2019\",66\r\n",
            "\"District of Columbia\",\"11\",\"2019\",\"2019\",72\r\n"
          ],
          "name": "stdout"
        }
      ]
    },
    {
      "cell_type": "code",
      "metadata": {
        "colab": {
          "base_uri": "https://localhost:8080/"
        },
        "id": "klGhDzY1PJrP",
        "outputId": "b17d2561-f018-4164-c8d6-8f7346b5336d"
      },
      "source": [
        "#Verify the dimensions of the data.frame inside R\n",
        "%%R \n",
        "\n",
        "dim(AtHome)"
      ],
      "execution_count": 35,
      "outputs": [
        {
          "output_type": "stream",
          "name": "stdout",
          "text": [
            "[1] 51  5\n"
          ]
        }
      ]
    },
    {
      "cell_type": "markdown",
      "metadata": {
        "id": "F5fckiVkwWYP"
      },
      "source": [
        "### Some additional features of read.csv() function in R"
      ]
    },
    {
      "cell_type": "markdown",
      "metadata": {
        "id": "K7ALdqCrwoMC"
      },
      "source": [
        "The following provides a brief explanation of common parameters for the read.csv() function.\n",
        "\n",
        "1.   Parameter: header= ; TRUE/FALSE; Does the data file being read in have a header that contains field/variable names?\n",
        "2.   Parameter: colClasses=c(...); Specify the data type for each field\n",
        "3.   Parameter: quote= ;  Control over how quoted strings are handled\n",
        "\n"
      ]
    },
    {
      "cell_type": "code",
      "metadata": {
        "id": "LKD79r7gt6yf"
      },
      "source": [
        "#Specification that a header exists in the data file; the header will be used for the field/variable names in R\n",
        "%%R\n",
        "\n",
        "AtHome <- read.csv('/content/sample_data/AtHome_Births_StateLevel_v5.txt', header=TRUE)\n"
      ],
      "execution_count": 39,
      "outputs": []
    },
    {
      "cell_type": "code",
      "metadata": {
        "colab": {
          "base_uri": "https://localhost:8080/"
        },
        "id": "eNWHzDkx8Yvf",
        "outputId": "abd3cefe-ed31-4f37-fa82-0be48e8f4cbb"
      },
      "source": [
        "%%R\n",
        "\n",
        "AtHome <- read.csv('/content/sample_data/AtHome_Births_StateLevel_v5.txt', header=TRUE,quote=\"\")\n",
        "head(AtHome)"
      ],
      "execution_count": 40,
      "outputs": [
        {
          "output_type": "stream",
          "name": "stdout",
          "text": [
            "         State StateCode   Year YearCode AtHomeCount\n",
            "1    \"Alabama\"      \"01\" \"2019\"   \"2019\"         243\n",
            "2     \"Alaska\"      \"02\" \"2019\"   \"2019\"         195\n",
            "3    \"Arizona\"      \"04\" \"2019\"   \"2019\"         706\n",
            "4   \"Arkansas\"      \"05\" \"2019\"   \"2019\"         326\n",
            "5 \"California\"      \"06\" \"2019\"   \"2019\"        3081\n",
            "6   \"Colorado\"      \"08\" \"2019\"   \"2019\"         899\n"
          ]
        }
      ]
    },
    {
      "cell_type": "markdown",
      "metadata": {
        "id": "ySIoAWrIzXwo"
      },
      "source": [
        "Next, consider the fact that preceding 0s for StateCode have been removed by R."
      ]
    },
    {
      "cell_type": "code",
      "metadata": {
        "colab": {
          "base_uri": "https://localhost:8080/"
        },
        "id": "-QOsHS2lx0lU",
        "outputId": "e0eabcd4-79f5-4840-f846-f0a632fa6281"
      },
      "source": [
        "#Looking at first few rows in the AtHome data.frame\n",
        "%%R\n",
        "head(AtHome)"
      ],
      "execution_count": 41,
      "outputs": [
        {
          "output_type": "stream",
          "name": "stdout",
          "text": [
            "         State StateCode   Year YearCode AtHomeCount\n",
            "1    \"Alabama\"      \"01\" \"2019\"   \"2019\"         243\n",
            "2     \"Alaska\"      \"02\" \"2019\"   \"2019\"         195\n",
            "3    \"Arizona\"      \"04\" \"2019\"   \"2019\"         706\n",
            "4   \"Arkansas\"      \"05\" \"2019\"   \"2019\"         326\n",
            "5 \"California\"      \"06\" \"2019\"   \"2019\"        3081\n",
            "6   \"Colorado\"      \"08\" \"2019\"   \"2019\"         899\n"
          ]
        }
      ]
    },
    {
      "cell_type": "markdown",
      "metadata": {
        "id": "4y8WcRIYzs2r"
      },
      "source": [
        "In fact, R is treating StateCode as a numeric quantitity (as an integer to be more exact) and *not* as an code."
      ]
    },
    {
      "cell_type": "code",
      "metadata": {
        "colab": {
          "base_uri": "https://localhost:8080/"
        },
        "id": "45-91LrWz3VG",
        "outputId": "3dc613e0-0ec3-47fe-cc5b-3a41255dbfad"
      },
      "source": [
        "#Use str() to obtain the structure of the AtHome data.frame\n",
        "%%R\n",
        "str(AtHome)"
      ],
      "execution_count": 42,
      "outputs": [
        {
          "output_type": "stream",
          "name": "stdout",
          "text": [
            "'data.frame':\t51 obs. of  5 variables:\n",
            " $ State      : chr  \"\\\"Alabama\\\"\" \"\\\"Alaska\\\"\" \"\\\"Arizona\\\"\" \"\\\"Arkansas\\\"\" ...\n",
            " $ StateCode  : chr  \"\\\"01\\\"\" \"\\\"02\\\"\" \"\\\"04\\\"\" \"\\\"05\\\"\" ...\n",
            " $ Year       : chr  \"\\\"2019\\\"\" \"\\\"2019\\\"\" \"\\\"2019\\\"\" \"\\\"2019\\\"\" ...\n",
            " $ YearCode   : chr  \"\\\"2019\\\"\" \"\\\"2019\\\"\" \"\\\"2019\\\"\" \"\\\"2019\\\"\" ...\n",
            " $ AtHomeCount: int  243 195 706 326 3081 899 217 66 72 2052 ...\n"
          ]
        }
      ]
    },
    {
      "cell_type": "markdown",
      "metadata": {
        "id": "kUs6S5AB0Nqo"
      },
      "source": [
        "Consider the following use of the colClasses=c() parameter in the read.csv() function call.  The length of the colClasses vector should match the number of fields in the data file."
      ]
    },
    {
      "cell_type": "code",
      "metadata": {
        "id": "-p7aeOklyEKB"
      },
      "source": [
        "#Specify the data type for each field upon reading in the data file in R\n",
        "%%R\n",
        "\n",
        "DataTypesForEachField <- c(\"character\",\"character\",\"character\",\"character\",\"numeric\")\n",
        "AtHome <- read.csv('/content/sample_data/AtHome_Births_StateLevel_v5.txt', header=TRUE, colClasses=DataTypesForEachField)\n"
      ],
      "execution_count": 43,
      "outputs": []
    },
    {
      "cell_type": "code",
      "metadata": {
        "colab": {
          "base_uri": "https://localhost:8080/"
        },
        "id": "slh17eDwyHDk",
        "outputId": "157e7610-2b41-49cc-c459-915827a4e387"
      },
      "source": [
        "#Verify that R is using the data types specified\n",
        "%%R\n",
        "str(AtHome)\n",
        " #Insert a blank line; Note cat this is another one of those operating system level commands\n",
        " cat(\"\\n\")\n",
        "head(AtHome)"
      ],
      "execution_count": 44,
      "outputs": [
        {
          "output_type": "stream",
          "name": "stdout",
          "text": [
            "'data.frame':\t51 obs. of  5 variables:\n",
            " $ State      : chr  \"Alabama\" \"Alaska\" \"Arizona\" \"Arkansas\" ...\n",
            " $ StateCode  : chr  \"01\" \"02\" \"04\" \"05\" ...\n",
            " $ Year       : chr  \"2019\" \"2019\" \"2019\" \"2019\" ...\n",
            " $ YearCode   : chr  \"2019\" \"2019\" \"2019\" \"2019\" ...\n",
            " $ AtHomeCount: num  243 195 706 326 3081 ...\n",
            "\n",
            "       State StateCode Year YearCode AtHomeCount\n",
            "1    Alabama        01 2019     2019         243\n",
            "2     Alaska        02 2019     2019         195\n",
            "3    Arizona        04 2019     2019         706\n",
            "4   Arkansas        05 2019     2019         326\n",
            "5 California        06 2019     2019        3081\n",
            "6   Colorado        08 2019     2019         899\n"
          ]
        }
      ]
    },
    {
      "cell_type": "markdown",
      "metadata": {
        "id": "vaxB2fL-2Wzm"
      },
      "source": [
        "The following will not work with read.csv() function as there is a conflict.  Year is a quoted string and R wants to read this field in as a string -- even though numeric is the data type specified in the code below."
      ]
    },
    {
      "cell_type": "code",
      "metadata": {
        "colab": {
          "base_uri": "https://localhost:8080/",
          "height": 676
        },
        "id": "pJ5PPGmM2WF3",
        "outputId": "f289a6f6-8f8a-48f2-e5a9-51b01d11337f"
      },
      "source": [
        "#Specify the data type for each field upon reading in the data file in R\n",
        "%%R\n",
        "\n",
        "DataTypesForEachField <- c(\"character\",\"character\",\"numeric\",\"character\",\"numeric\")\n",
        "AtHome <- read.csv('/content/sample_data/AtHome_Births_StateLevel_v5.txt', header=TRUE, colClasses=DataTypesForEachField)"
      ],
      "execution_count": 45,
      "outputs": [
        {
          "output_type": "stream",
          "name": "stderr",
          "text": [
            "R[write to console]: Error in scan(file = file, what = what, sep = sep, quote = quote, dec = dec,  : \n",
            "  scan() expected 'a real', got '\"2019\"'\n",
            "\n"
          ]
        },
        {
          "output_type": "stream",
          "name": "stdout",
          "text": [
            "\n",
            "Error in scan(file = file, what = what, sep = sep, quote = quote, dec = dec,  : \n",
            "  scan() expected 'a real', got '\"2019\"'\n"
          ]
        },
        {
          "output_type": "error",
          "ename": "RInterpreterError",
          "evalue": "ignored",
          "traceback": [
            "\u001b[0;31m---------------------------------------------------------------------------\u001b[0m",
            "\u001b[0;31mRRuntimeError\u001b[0m                             Traceback (most recent call last)",
            "\u001b[0;32m/usr/local/lib/python3.7/dist-packages/rpy2/ipython/rmagic.py\u001b[0m in \u001b[0;36meval\u001b[0;34m(self, code)\u001b[0m\n\u001b[1;32m    267\u001b[0m                 \u001b[0;31m# Need the newline in case the last line in code is a comment.\u001b[0m\u001b[0;34m\u001b[0m\u001b[0;34m\u001b[0m\u001b[0;34m\u001b[0m\u001b[0m\n\u001b[0;32m--> 268\u001b[0;31m                 \u001b[0mvalue\u001b[0m\u001b[0;34m,\u001b[0m \u001b[0mvisible\u001b[0m \u001b[0;34m=\u001b[0m \u001b[0mro\u001b[0m\u001b[0;34m.\u001b[0m\u001b[0mr\u001b[0m\u001b[0;34m(\u001b[0m\u001b[0;34m\"withVisible({%s\\n})\"\u001b[0m \u001b[0;34m%\u001b[0m \u001b[0mcode\u001b[0m\u001b[0;34m)\u001b[0m\u001b[0;34m\u001b[0m\u001b[0;34m\u001b[0m\u001b[0m\n\u001b[0m\u001b[1;32m    269\u001b[0m             \u001b[0;32mexcept\u001b[0m \u001b[0;34m(\u001b[0m\u001b[0mri\u001b[0m\u001b[0;34m.\u001b[0m\u001b[0membedded\u001b[0m\u001b[0;34m.\u001b[0m\u001b[0mRRuntimeError\u001b[0m\u001b[0;34m,\u001b[0m \u001b[0mValueError\u001b[0m\u001b[0;34m)\u001b[0m \u001b[0;32mas\u001b[0m \u001b[0mexception\u001b[0m\u001b[0;34m:\u001b[0m\u001b[0;34m\u001b[0m\u001b[0;34m\u001b[0m\u001b[0m\n",
            "\u001b[0;32m/usr/local/lib/python3.7/dist-packages/rpy2/robjects/__init__.py\u001b[0m in \u001b[0;36m__call__\u001b[0;34m(self, string)\u001b[0m\n\u001b[1;32m    437\u001b[0m         \u001b[0mp\u001b[0m \u001b[0;34m=\u001b[0m \u001b[0mrinterface\u001b[0m\u001b[0;34m.\u001b[0m\u001b[0mparse\u001b[0m\u001b[0;34m(\u001b[0m\u001b[0mstring\u001b[0m\u001b[0;34m)\u001b[0m\u001b[0;34m\u001b[0m\u001b[0;34m\u001b[0m\u001b[0m\n\u001b[0;32m--> 438\u001b[0;31m         \u001b[0mres\u001b[0m \u001b[0;34m=\u001b[0m \u001b[0mself\u001b[0m\u001b[0;34m.\u001b[0m\u001b[0meval\u001b[0m\u001b[0;34m(\u001b[0m\u001b[0mp\u001b[0m\u001b[0;34m)\u001b[0m\u001b[0;34m\u001b[0m\u001b[0;34m\u001b[0m\u001b[0m\n\u001b[0m\u001b[1;32m    439\u001b[0m         \u001b[0;32mreturn\u001b[0m \u001b[0mconversion\u001b[0m\u001b[0;34m.\u001b[0m\u001b[0mrpy2py\u001b[0m\u001b[0;34m(\u001b[0m\u001b[0mres\u001b[0m\u001b[0;34m)\u001b[0m\u001b[0;34m\u001b[0m\u001b[0;34m\u001b[0m\u001b[0m\n",
            "\u001b[0;32m/usr/local/lib/python3.7/dist-packages/rpy2/robjects/functions.py\u001b[0m in \u001b[0;36m__call__\u001b[0;34m(self, *args, **kwargs)\u001b[0m\n\u001b[1;32m    198\u001b[0m         return (super(SignatureTranslatedFunction, self)\n\u001b[0;32m--> 199\u001b[0;31m                 .__call__(*args, **kwargs))\n\u001b[0m\u001b[1;32m    200\u001b[0m \u001b[0;34m\u001b[0m\u001b[0m\n",
            "\u001b[0;32m/usr/local/lib/python3.7/dist-packages/rpy2/robjects/functions.py\u001b[0m in \u001b[0;36m__call__\u001b[0;34m(self, *args, **kwargs)\u001b[0m\n\u001b[1;32m    124\u001b[0m                 \u001b[0mnew_kwargs\u001b[0m\u001b[0;34m[\u001b[0m\u001b[0mk\u001b[0m\u001b[0;34m]\u001b[0m \u001b[0;34m=\u001b[0m \u001b[0mconversion\u001b[0m\u001b[0;34m.\u001b[0m\u001b[0mpy2rpy\u001b[0m\u001b[0;34m(\u001b[0m\u001b[0mv\u001b[0m\u001b[0;34m)\u001b[0m\u001b[0;34m\u001b[0m\u001b[0;34m\u001b[0m\u001b[0m\n\u001b[0;32m--> 125\u001b[0;31m         \u001b[0mres\u001b[0m \u001b[0;34m=\u001b[0m \u001b[0msuper\u001b[0m\u001b[0;34m(\u001b[0m\u001b[0mFunction\u001b[0m\u001b[0;34m,\u001b[0m \u001b[0mself\u001b[0m\u001b[0;34m)\u001b[0m\u001b[0;34m.\u001b[0m\u001b[0m__call__\u001b[0m\u001b[0;34m(\u001b[0m\u001b[0;34m*\u001b[0m\u001b[0mnew_args\u001b[0m\u001b[0;34m,\u001b[0m \u001b[0;34m**\u001b[0m\u001b[0mnew_kwargs\u001b[0m\u001b[0;34m)\u001b[0m\u001b[0;34m\u001b[0m\u001b[0;34m\u001b[0m\u001b[0m\n\u001b[0m\u001b[1;32m    126\u001b[0m         \u001b[0mres\u001b[0m \u001b[0;34m=\u001b[0m \u001b[0mconversion\u001b[0m\u001b[0;34m.\u001b[0m\u001b[0mrpy2py\u001b[0m\u001b[0;34m(\u001b[0m\u001b[0mres\u001b[0m\u001b[0;34m)\u001b[0m\u001b[0;34m\u001b[0m\u001b[0;34m\u001b[0m\u001b[0m\n",
            "\u001b[0;32m/usr/local/lib/python3.7/dist-packages/rpy2/rinterface_lib/conversion.py\u001b[0m in \u001b[0;36m_\u001b[0;34m(*args, **kwargs)\u001b[0m\n\u001b[1;32m     44\u001b[0m     \u001b[0;32mdef\u001b[0m \u001b[0m_\u001b[0m\u001b[0;34m(\u001b[0m\u001b[0;34m*\u001b[0m\u001b[0margs\u001b[0m\u001b[0;34m,\u001b[0m \u001b[0;34m**\u001b[0m\u001b[0mkwargs\u001b[0m\u001b[0;34m)\u001b[0m\u001b[0;34m:\u001b[0m\u001b[0;34m\u001b[0m\u001b[0;34m\u001b[0m\u001b[0m\n\u001b[0;32m---> 45\u001b[0;31m         \u001b[0mcdata\u001b[0m \u001b[0;34m=\u001b[0m \u001b[0mfunction\u001b[0m\u001b[0;34m(\u001b[0m\u001b[0;34m*\u001b[0m\u001b[0margs\u001b[0m\u001b[0;34m,\u001b[0m \u001b[0;34m**\u001b[0m\u001b[0mkwargs\u001b[0m\u001b[0;34m)\u001b[0m\u001b[0;34m\u001b[0m\u001b[0;34m\u001b[0m\u001b[0m\n\u001b[0m\u001b[1;32m     46\u001b[0m         \u001b[0;31m# TODO: test cdata is of the expected CType\u001b[0m\u001b[0;34m\u001b[0m\u001b[0;34m\u001b[0m\u001b[0;34m\u001b[0m\u001b[0m\n",
            "\u001b[0;32m/usr/local/lib/python3.7/dist-packages/rpy2/rinterface.py\u001b[0m in \u001b[0;36m__call__\u001b[0;34m(self, *args, **kwargs)\u001b[0m\n\u001b[1;32m    679\u001b[0m             \u001b[0;32mif\u001b[0m \u001b[0merror_occured\u001b[0m\u001b[0;34m[\u001b[0m\u001b[0;36m0\u001b[0m\u001b[0;34m]\u001b[0m\u001b[0;34m:\u001b[0m\u001b[0;34m\u001b[0m\u001b[0;34m\u001b[0m\u001b[0m\n\u001b[0;32m--> 680\u001b[0;31m                 \u001b[0;32mraise\u001b[0m \u001b[0membedded\u001b[0m\u001b[0;34m.\u001b[0m\u001b[0mRRuntimeError\u001b[0m\u001b[0;34m(\u001b[0m\u001b[0m_rinterface\u001b[0m\u001b[0;34m.\u001b[0m\u001b[0m_geterrmessage\u001b[0m\u001b[0;34m(\u001b[0m\u001b[0;34m)\u001b[0m\u001b[0;34m)\u001b[0m\u001b[0;34m\u001b[0m\u001b[0;34m\u001b[0m\u001b[0m\n\u001b[0m\u001b[1;32m    681\u001b[0m         \u001b[0;32mreturn\u001b[0m \u001b[0mres\u001b[0m\u001b[0;34m\u001b[0m\u001b[0;34m\u001b[0m\u001b[0m\n",
            "\u001b[0;31mRRuntimeError\u001b[0m: Error in scan(file = file, what = what, sep = sep, quote = quote, dec = dec,  : \n  scan() expected 'a real', got '\"2019\"'\n",
            "\nDuring handling of the above exception, another exception occurred:\n",
            "\u001b[0;31mRInterpreterError\u001b[0m                         Traceback (most recent call last)",
            "\u001b[0;32m<ipython-input-45-a23c7cf57f1b>\u001b[0m in \u001b[0;36m<module>\u001b[0;34m()\u001b[0m\n\u001b[0;32m----> 1\u001b[0;31m \u001b[0mget_ipython\u001b[0m\u001b[0;34m(\u001b[0m\u001b[0;34m)\u001b[0m\u001b[0;34m.\u001b[0m\u001b[0mrun_cell_magic\u001b[0m\u001b[0;34m(\u001b[0m\u001b[0;34m'R'\u001b[0m\u001b[0;34m,\u001b[0m \u001b[0;34m''\u001b[0m\u001b[0;34m,\u001b[0m \u001b[0;34m'\\nDataTypesForEachField <- c(\"character\",\"character\",\"numeric\",\"character\",\"numeric\")\\nAtHome <- read.csv(\\'/content/sample_data/AtHome_Births_StateLevel_v5.txt\\', header=TRUE, colClasses=DataTypesForEachField)'\u001b[0m\u001b[0;34m)\u001b[0m\u001b[0;34m\u001b[0m\u001b[0;34m\u001b[0m\u001b[0m\n\u001b[0m",
            "\u001b[0;32m/usr/local/lib/python3.7/dist-packages/IPython/core/interactiveshell.py\u001b[0m in \u001b[0;36mrun_cell_magic\u001b[0;34m(self, magic_name, line, cell)\u001b[0m\n\u001b[1;32m   2115\u001b[0m             \u001b[0mmagic_arg_s\u001b[0m \u001b[0;34m=\u001b[0m \u001b[0mself\u001b[0m\u001b[0;34m.\u001b[0m\u001b[0mvar_expand\u001b[0m\u001b[0;34m(\u001b[0m\u001b[0mline\u001b[0m\u001b[0;34m,\u001b[0m \u001b[0mstack_depth\u001b[0m\u001b[0;34m)\u001b[0m\u001b[0;34m\u001b[0m\u001b[0;34m\u001b[0m\u001b[0m\n\u001b[1;32m   2116\u001b[0m             \u001b[0;32mwith\u001b[0m \u001b[0mself\u001b[0m\u001b[0;34m.\u001b[0m\u001b[0mbuiltin_trap\u001b[0m\u001b[0;34m:\u001b[0m\u001b[0;34m\u001b[0m\u001b[0;34m\u001b[0m\u001b[0m\n\u001b[0;32m-> 2117\u001b[0;31m                 \u001b[0mresult\u001b[0m \u001b[0;34m=\u001b[0m \u001b[0mfn\u001b[0m\u001b[0;34m(\u001b[0m\u001b[0mmagic_arg_s\u001b[0m\u001b[0;34m,\u001b[0m \u001b[0mcell\u001b[0m\u001b[0;34m)\u001b[0m\u001b[0;34m\u001b[0m\u001b[0;34m\u001b[0m\u001b[0m\n\u001b[0m\u001b[1;32m   2118\u001b[0m             \u001b[0;32mreturn\u001b[0m \u001b[0mresult\u001b[0m\u001b[0;34m\u001b[0m\u001b[0;34m\u001b[0m\u001b[0m\n\u001b[1;32m   2119\u001b[0m \u001b[0;34m\u001b[0m\u001b[0m\n",
            "\u001b[0;32m<decorator-gen-119>\u001b[0m in \u001b[0;36mR\u001b[0;34m(self, line, cell, local_ns)\u001b[0m\n",
            "\u001b[0;32m/usr/local/lib/python3.7/dist-packages/IPython/core/magic.py\u001b[0m in \u001b[0;36m<lambda>\u001b[0;34m(f, *a, **k)\u001b[0m\n\u001b[1;32m    186\u001b[0m     \u001b[0;31m# but it's overkill for just that one bit of state.\u001b[0m\u001b[0;34m\u001b[0m\u001b[0;34m\u001b[0m\u001b[0;34m\u001b[0m\u001b[0m\n\u001b[1;32m    187\u001b[0m     \u001b[0;32mdef\u001b[0m \u001b[0mmagic_deco\u001b[0m\u001b[0;34m(\u001b[0m\u001b[0marg\u001b[0m\u001b[0;34m)\u001b[0m\u001b[0;34m:\u001b[0m\u001b[0;34m\u001b[0m\u001b[0;34m\u001b[0m\u001b[0m\n\u001b[0;32m--> 188\u001b[0;31m         \u001b[0mcall\u001b[0m \u001b[0;34m=\u001b[0m \u001b[0;32mlambda\u001b[0m \u001b[0mf\u001b[0m\u001b[0;34m,\u001b[0m \u001b[0;34m*\u001b[0m\u001b[0ma\u001b[0m\u001b[0;34m,\u001b[0m \u001b[0;34m**\u001b[0m\u001b[0mk\u001b[0m\u001b[0;34m:\u001b[0m \u001b[0mf\u001b[0m\u001b[0;34m(\u001b[0m\u001b[0;34m*\u001b[0m\u001b[0ma\u001b[0m\u001b[0;34m,\u001b[0m \u001b[0;34m**\u001b[0m\u001b[0mk\u001b[0m\u001b[0;34m)\u001b[0m\u001b[0;34m\u001b[0m\u001b[0;34m\u001b[0m\u001b[0m\n\u001b[0m\u001b[1;32m    189\u001b[0m \u001b[0;34m\u001b[0m\u001b[0m\n\u001b[1;32m    190\u001b[0m         \u001b[0;32mif\u001b[0m \u001b[0mcallable\u001b[0m\u001b[0;34m(\u001b[0m\u001b[0marg\u001b[0m\u001b[0;34m)\u001b[0m\u001b[0;34m:\u001b[0m\u001b[0;34m\u001b[0m\u001b[0;34m\u001b[0m\u001b[0m\n",
            "\u001b[0;32m/usr/local/lib/python3.7/dist-packages/rpy2/ipython/rmagic.py\u001b[0m in \u001b[0;36mR\u001b[0;34m(self, line, cell, local_ns)\u001b[0m\n\u001b[1;32m    781\u001b[0m             \u001b[0;32mif\u001b[0m \u001b[0;32mnot\u001b[0m \u001b[0me\u001b[0m\u001b[0;34m.\u001b[0m\u001b[0mstdout\u001b[0m\u001b[0;34m.\u001b[0m\u001b[0mendswith\u001b[0m\u001b[0;34m(\u001b[0m\u001b[0me\u001b[0m\u001b[0;34m.\u001b[0m\u001b[0merr\u001b[0m\u001b[0;34m)\u001b[0m\u001b[0;34m:\u001b[0m\u001b[0;34m\u001b[0m\u001b[0;34m\u001b[0m\u001b[0m\n\u001b[1;32m    782\u001b[0m                 \u001b[0mprint\u001b[0m\u001b[0;34m(\u001b[0m\u001b[0me\u001b[0m\u001b[0;34m.\u001b[0m\u001b[0merr\u001b[0m\u001b[0;34m)\u001b[0m\u001b[0;34m\u001b[0m\u001b[0;34m\u001b[0m\u001b[0m\n\u001b[0;32m--> 783\u001b[0;31m             \u001b[0;32mraise\u001b[0m \u001b[0me\u001b[0m\u001b[0;34m\u001b[0m\u001b[0;34m\u001b[0m\u001b[0m\n\u001b[0m\u001b[1;32m    784\u001b[0m         \u001b[0;32mfinally\u001b[0m\u001b[0;34m:\u001b[0m\u001b[0;34m\u001b[0m\u001b[0;34m\u001b[0m\u001b[0m\n\u001b[1;32m    785\u001b[0m             \u001b[0;32mif\u001b[0m \u001b[0mself\u001b[0m\u001b[0;34m.\u001b[0m\u001b[0mdevice\u001b[0m \u001b[0;32min\u001b[0m \u001b[0;34m[\u001b[0m\u001b[0;34m'png'\u001b[0m\u001b[0;34m,\u001b[0m \u001b[0;34m'svg'\u001b[0m\u001b[0;34m]\u001b[0m\u001b[0;34m:\u001b[0m\u001b[0;34m\u001b[0m\u001b[0;34m\u001b[0m\u001b[0m\n",
            "\u001b[0;32m/usr/local/lib/python3.7/dist-packages/rpy2/ipython/rmagic.py\u001b[0m in \u001b[0;36mR\u001b[0;34m(self, line, cell, local_ns)\u001b[0m\n\u001b[1;32m    761\u001b[0m                     \u001b[0mreturn_output\u001b[0m \u001b[0;34m=\u001b[0m \u001b[0;32mFalse\u001b[0m\u001b[0;34m\u001b[0m\u001b[0;34m\u001b[0m\u001b[0m\n\u001b[1;32m    762\u001b[0m             \u001b[0;32melse\u001b[0m\u001b[0;34m:\u001b[0m\u001b[0;34m\u001b[0m\u001b[0;34m\u001b[0m\u001b[0m\n\u001b[0;32m--> 763\u001b[0;31m                 \u001b[0mtext_result\u001b[0m\u001b[0;34m,\u001b[0m \u001b[0mresult\u001b[0m\u001b[0;34m,\u001b[0m \u001b[0mvisible\u001b[0m \u001b[0;34m=\u001b[0m \u001b[0mself\u001b[0m\u001b[0;34m.\u001b[0m\u001b[0meval\u001b[0m\u001b[0;34m(\u001b[0m\u001b[0mcode\u001b[0m\u001b[0;34m)\u001b[0m\u001b[0;34m\u001b[0m\u001b[0;34m\u001b[0m\u001b[0m\n\u001b[0m\u001b[1;32m    764\u001b[0m                 \u001b[0mtext_output\u001b[0m \u001b[0;34m+=\u001b[0m \u001b[0mtext_result\u001b[0m\u001b[0;34m\u001b[0m\u001b[0;34m\u001b[0m\u001b[0m\n\u001b[1;32m    765\u001b[0m                 \u001b[0;32mif\u001b[0m \u001b[0mvisible\u001b[0m\u001b[0;34m:\u001b[0m\u001b[0;34m\u001b[0m\u001b[0;34m\u001b[0m\u001b[0m\n",
            "\u001b[0;32m/usr/local/lib/python3.7/dist-packages/rpy2/ipython/rmagic.py\u001b[0m in \u001b[0;36meval\u001b[0;34m(self, code)\u001b[0m\n\u001b[1;32m    271\u001b[0m                 \u001b[0mwarning_or_other_msg\u001b[0m \u001b[0;34m=\u001b[0m \u001b[0mself\u001b[0m\u001b[0;34m.\u001b[0m\u001b[0mflush\u001b[0m\u001b[0;34m(\u001b[0m\u001b[0;34m)\u001b[0m\u001b[0;34m\u001b[0m\u001b[0;34m\u001b[0m\u001b[0m\n\u001b[1;32m    272\u001b[0m                 raise RInterpreterError(code, str(exception),\n\u001b[0;32m--> 273\u001b[0;31m                                         warning_or_other_msg)\n\u001b[0m\u001b[1;32m    274\u001b[0m             \u001b[0mtext_output\u001b[0m \u001b[0;34m=\u001b[0m \u001b[0mself\u001b[0m\u001b[0;34m.\u001b[0m\u001b[0mflush\u001b[0m\u001b[0;34m(\u001b[0m\u001b[0;34m)\u001b[0m\u001b[0;34m\u001b[0m\u001b[0;34m\u001b[0m\u001b[0m\n\u001b[1;32m    275\u001b[0m             \u001b[0;32mreturn\u001b[0m \u001b[0mtext_output\u001b[0m\u001b[0;34m,\u001b[0m \u001b[0mvalue\u001b[0m\u001b[0;34m,\u001b[0m \u001b[0mvisible\u001b[0m\u001b[0;34m[\u001b[0m\u001b[0;36m0\u001b[0m\u001b[0;34m]\u001b[0m\u001b[0;34m\u001b[0m\u001b[0;34m\u001b[0m\u001b[0m\n",
            "\u001b[0;31mRInterpreterError\u001b[0m: Failed to parse and evaluate line '\\nDataTypesForEachField <- c(\"character\",\"character\",\"numeric\",\"character\",\"numeric\")\\nAtHome <- read.csv(\\'/content/sample_data/AtHome_Births_StateLevel_v5.txt\\', header=TRUE, colClasses=DataTypesForEachField)'.\nR error message: 'Error in scan(file = file, what = what, sep = sep, quote = quote, dec = dec,  : \\n  scan() expected \\'a real\\', got \\'\"2019\"\\''"
          ]
        }
      ]
    },
    {
      "cell_type": "markdown",
      "metadata": {
        "id": "NjjP1wrh4mDa"
      },
      "source": [
        "One possible remedy is to read the Year in as a string and then promptly change the data type to an interger."
      ]
    },
    {
      "cell_type": "code",
      "metadata": {
        "colab": {
          "base_uri": "https://localhost:8080/"
        },
        "id": "ZrJH2QxdyQFz",
        "outputId": "e4d4eee5-0adc-463f-c024-76cb94380957"
      },
      "source": [
        "#Converting the Year to an interger after reading in the data file\n",
        "%%R\n",
        "\n",
        "DataTypesForEachField <- c(\"character\",\"character\",\"character\",\"character\",\"numeric\")\n",
        "AtHome <- read.csv('/content/sample_data/AtHome_Births_StateLevel_v5.txt', header=TRUE, colClasses=DataTypesForEachField)\n",
        "\n",
        "cat('Structure of AtHome data.frame as read in by read.csv \\n\\n')\n",
        "str(AtHome)\n",
        "\n",
        "#Converting the data type for Year to an integer\n",
        "AtHome$Year <- as.integer(AtHome$Year)\n",
        "cat('\\n Structure of AtHome data.frame after conversion of data type for Year \\n\\n')\n",
        "str(AtHome)\n",
        "\n"
      ],
      "execution_count": 46,
      "outputs": [
        {
          "output_type": "stream",
          "name": "stdout",
          "text": [
            "Structure of AtHome data.frame as read in by read.csv \n",
            "\n",
            "'data.frame':\t51 obs. of  5 variables:\n",
            " $ State      : chr  \"Alabama\" \"Alaska\" \"Arizona\" \"Arkansas\" ...\n",
            " $ StateCode  : chr  \"01\" \"02\" \"04\" \"05\" ...\n",
            " $ Year       : chr  \"2019\" \"2019\" \"2019\" \"2019\" ...\n",
            " $ YearCode   : chr  \"2019\" \"2019\" \"2019\" \"2019\" ...\n",
            " $ AtHomeCount: num  243 195 706 326 3081 ...\n",
            "\n",
            " Structure of AtHome data.frame after conversion of data type for Year \n",
            "\n",
            "'data.frame':\t51 obs. of  5 variables:\n",
            " $ State      : chr  \"Alabama\" \"Alaska\" \"Arizona\" \"Arkansas\" ...\n",
            " $ StateCode  : chr  \"01\" \"02\" \"04\" \"05\" ...\n",
            " $ Year       : int  2019 2019 2019 2019 2019 2019 2019 2019 2019 2019 ...\n",
            " $ YearCode   : chr  \"2019\" \"2019\" \"2019\" \"2019\" ...\n",
            " $ AtHomeCount: num  243 195 706 326 3081 ...\n"
          ]
        }
      ]
    },
    {
      "cell_type": "markdown",
      "metadata": {
        "id": "3Lc5OHVU66Yl"
      },
      "source": [
        "A view of the final AtHome data.frame where StateCode is a string and Year is numeric."
      ]
    },
    {
      "cell_type": "code",
      "metadata": {
        "colab": {
          "base_uri": "https://localhost:8080/"
        },
        "id": "qU2LDALP7AmN",
        "outputId": "1ecf3f2e-8c15-49ab-ab01-e4172a4e5e18"
      },
      "source": [
        "%%R\n",
        "head(AtHome)"
      ],
      "execution_count": 47,
      "outputs": [
        {
          "output_type": "stream",
          "name": "stdout",
          "text": [
            "       State StateCode Year YearCode AtHomeCount\n",
            "1    Alabama        01 2019     2019         243\n",
            "2     Alaska        02 2019     2019         195\n",
            "3    Arizona        04 2019     2019         706\n",
            "4   Arkansas        05 2019     2019         326\n",
            "5 California        06 2019     2019        3081\n",
            "6   Colorado        08 2019     2019         899\n"
          ]
        }
      ]
    },
    {
      "cell_type": "markdown",
      "metadata": {
        "id": "jH9bvxNd7TNq"
      },
      "source": [
        "##   Task:  Complete the following for the AtHospital File\n",
        "\n",
        "\n",
        "1.   Clean-up the hosptial data file, e.g. remove footer info, remove initial tabs on each line, etc.\n",
        "2.   Convert the file from tab deliminated to comma deliminated\n",
        "3.   Add an appropriate header to label each field\n",
        "4.   Read the AtHospital data into R using read.csv()\n",
        "5.   Specify that StateCode is indeed a string containing the preceeding 0s and that Year as been specified as an interger\n"
      ]
    }
  ]
}