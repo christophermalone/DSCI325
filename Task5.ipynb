{
  "nbformat": 4,
  "nbformat_minor": 0,
  "metadata": {
    "colab": {
      "name": "Task5.ipynb",
      "provenance": [],
      "collapsed_sections": [],
      "authorship_tag": "ABX9TyPIQyhFZwKtoD+hWeWJaRMj",
      "include_colab_link": true
    },
    "kernelspec": {
      "name": "python3",
      "display_name": "Python 3"
    }
  },
  "cells": [
    {
      "cell_type": "markdown",
      "metadata": {
        "id": "view-in-github",
        "colab_type": "text"
      },
      "source": [
        "<a href=\"https://colab.research.google.com/github/christophermalone/DSCI325/blob/main/Task5.ipynb\" target=\"_parent\"><img src=\"https://colab.research.google.com/assets/colab-badge.svg\" alt=\"Open In Colab\"/></a>"
      ]
    },
    {
      "cell_type": "markdown",
      "source": [
        "# Task #5 - Processing DNA Strings"
      ],
      "metadata": {
        "id": "QhrmhyFX8Oew"
      }
    },
    {
      "cell_type": "markdown",
      "source": [
        "<table width='100%' ><tr><td bgcolor='green'></td></tr></table>\n",
        "\n",
        "### Example 4.2.P\n",
        "According to Wikipedia, there are about 3 billion letters in the human geonome.  Thus, a streaming type approach may be necessary for the processing DNA strings.\n",
        "\n",
        "Source:  https://birc.au.dk/~palle/php/fabox/random_sequence_generator.php\n",
        "\n",
        "This task has the following setup: \n",
        "\n",
        "*   Group A includes initially included information from 1000 people; however, some people's information was automatically rejected by a pre-processing step and are excluded from further consideration. \n",
        "*   Group B includes initially included information from 1250 people; however, some people's information was automatically rejected by a pre-processing step and are excluded from further consideration. \n",
        "*   A 2000 base pairs (2000 bp) string is the when determining the presence of a four letter sequence.  The information from Group A was processed according the this standard.\n",
        "*   Unfortantely,  the information from Group B was processed at a differnt lab than Group A and this lab used a range between 2000 - 3000 bp for each person DNA string.\n",
        "\n",
        "\n",
        "\n",
        "<table width='100%' ><tr><td bgcolor='green'></td></tr></table>"
      ],
      "metadata": {
        "id": "Jm0Og53YeD-x"
      }
    },
    {
      "cell_type": "markdown",
      "source": [
        "**Goal**: The 4-letter sequence  'cata' is thought to be an important indicator for the presence/absence a particular disease. Compute the rate of the four-letter sequence 'cata' for Group A and Group B.  The individuals in Group B are known to have the disease, do they have a lower rate of the 'cata' sequence?  Discuss."
      ],
      "metadata": {
        "id": "BtaVE41X1hs7"
      }
    },
    {
      "cell_type": "markdown",
      "source": [
        "Note:  The standard for reporting the rate is: Number of 'cata' occurances per 2000 base pairs sequence per 1000 people."
      ],
      "metadata": {
        "id": "dDPuRloM2QDx"
      }
    },
    {
      "cell_type": "markdown",
      "source": [
        "\n",
        "\n",
        "---\n",
        "\n",
        "\n",
        "\n",
        "---\n",
        "\n"
      ],
      "metadata": {
        "id": "jp2OrQn_nwmm"
      }
    },
    {
      "cell_type": "markdown",
      "source": [
        "# Your Code"
      ],
      "metadata": {
        "id": "G3Q0XF7L4h-J"
      }
    },
    {
      "cell_type": "code",
      "source": [
        ""
      ],
      "metadata": {
        "id": "x_OEt4pP4iHQ"
      },
      "execution_count": null,
      "outputs": []
    }
  ]
}