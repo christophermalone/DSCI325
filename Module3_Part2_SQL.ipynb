{
  "nbformat": 4,
  "nbformat_minor": 0,
  "metadata": {
    "colab": {
      "name": "Module3_Part2_SQL.ipynb",
      "provenance": [],
      "toc_visible": true,
      "authorship_tag": "ABX9TyNU46if9NQw4nvGCAkzOgjj",
      "include_colab_link": true
    },
    "kernelspec": {
      "name": "python3",
      "display_name": "Python 3"
    }
  },
  "cells": [
    {
      "cell_type": "markdown",
      "metadata": {
        "id": "view-in-github",
        "colab_type": "text"
      },
      "source": [
        "<a href=\"https://colab.research.google.com/github/christophermalone/DSCI325/blob/main/Module3_Part2_SQL.ipynb\" target=\"_parent\"><img src=\"https://colab.research.google.com/assets/colab-badge.svg\" alt=\"Open In Colab\"/></a>"
      ]
    },
    {
      "cell_type": "markdown",
      "metadata": {
        "id": "vsKS8UWN9bil"
      },
      "source": [
        "# Module 3 | Part 2 | SQL: FILTER() Data Verb with WHERE Condition"
      ]
    },
    {
      "cell_type": "markdown",
      "metadata": {
        "id": "Q15v4Jwh9sEj"
      },
      "source": [
        "<table width='100%' ><tr><td bgcolor='green'></td></tr></table>\r\n",
        "\r\n",
        "### Example 3.2.SQL\r\n",
        "For this notebook, we will consider airline data from the Bureau of Transportation.  Using the form provided on their website, one is able to obtain a variety of information around flight delays.\r\n",
        " \r\n",
        "\r\n",
        "The following 17 fields will be considered here:\r\n",
        "\r\n",
        "*   Day Information: DAY_OF_MONTH, DAY_OF_WEEK\r\n",
        "*   Origin Information: ORIGIN, ORIGIN_STATE\r\n",
        "*   Destination Information: DEST, DEST_STATE\r\n",
        "*   Departure Information: DEP_TIME, DEP_DELAY, DEP_DELAY15, \r\n",
        "*   Arrival Information: ARR_TIME, ARR_DELAY, ARR_DEL15, \r\n",
        "*   Reason for Delay: CARRIER_DELAY, WEATHER_DELAY, SECURITY_DELAY, LATE_AIRCRAFT_DELAY\r\n",
        "\r\n",
        "\r\n",
        "<br>Data Source:  https://www.transtats.bts.gov/DL_SelectFields.asp?gnoyr_VQ=FGJ&QO_fu146_anzr=b0-gvzr\r\n",
        "\r\n",
        "<table width='100%' ><tr><td bgcolor='green'></td></tr></table>\r\n"
      ]
    },
    {
      "cell_type": "markdown",
      "metadata": {
        "id": "6qZ9RfX1VdCG"
      },
      "source": [
        "## Making a Connection"
      ]
    },
    {
      "cell_type": "markdown",
      "metadata": {
        "id": "9QeIjJKEVeAS"
      },
      "source": [
        "Here, an SQLite3 package will be used to connect to the desired datqbase."
      ]
    },
    {
      "cell_type": "code",
      "metadata": {
        "id": "q_1d5VWYVdJi"
      },
      "source": [
        "import pandas as pd\r\n",
        "import sqlite3"
      ],
      "execution_count": 2,
      "outputs": []
    },
    {
      "cell_type": "markdown",
      "metadata": {
        "id": "Zs4lzulXVpCL"
      },
      "source": [
        "The following code can be used to open and close a connection. It is important to close the established connection."
      ]
    },
    {
      "cell_type": "code",
      "metadata": {
        "id": "jxWGFn5LVpIu"
      },
      "source": [
        "#Making a connection using sqlite3\r\n",
        "connect_db = sqlite3.connect(\"/content/sample_data/OECD_EmploymentRates.db\")\r\n",
        "\r\n",
        "# SQL CODE WILL GO HERE\r\n",
        "\r\n",
        "#Closing the connection\r\n",
        "connect_db.close()"
      ],
      "execution_count": null,
      "outputs": []
    },
    {
      "cell_type": "markdown",
      "metadata": {
        "id": "D5p1RJXJamTs"
      },
      "source": [
        "# Utility Functions in SQL"
      ]
    },
    {
      "cell_type": "markdown",
      "metadata": {
        "id": "wOO4oBTnZfN_"
      },
      "source": [
        "First, obtain a list of tables in this database."
      ]
    },
    {
      "cell_type": "code",
      "metadata": {
        "colab": {
          "base_uri": "https://localhost:8080/",
          "height": 108
        },
        "id": "j2BhYoJ_ZZAJ",
        "outputId": "367a9eec-614b-46b7-cf9f-a5d2852cffce"
      },
      "source": [
        "#Making a connection\r\n",
        "connect_db = sqlite3.connect(\"/content/sample_data/OnTime.db\")\r\n",
        "\r\n",
        "#SQL Statement\r\n",
        "df = pd.read_sql_query(\r\n",
        "                        \"SELECT name FROM sqlite_master WHERE type='table'\"\r\n",
        "                          , connect_db)\r\n",
        "#Closing the connection\r\n",
        "connect_db.close()\r\n",
        "\r\n",
        "#Using pandas to show output\r\n",
        "df.head()"
      ],
      "execution_count": 5,
      "outputs": [
        {
          "output_type": "execute_result",
          "data": {
            "text/html": [
              "<div>\n",
              "<style scoped>\n",
              "    .dataframe tbody tr th:only-of-type {\n",
              "        vertical-align: middle;\n",
              "    }\n",
              "\n",
              "    .dataframe tbody tr th {\n",
              "        vertical-align: top;\n",
              "    }\n",
              "\n",
              "    .dataframe thead th {\n",
              "        text-align: right;\n",
              "    }\n",
              "</style>\n",
              "<table border=\"1\" class=\"dataframe\">\n",
              "  <thead>\n",
              "    <tr style=\"text-align: right;\">\n",
              "      <th></th>\n",
              "      <th>name</th>\n",
              "    </tr>\n",
              "  </thead>\n",
              "  <tbody>\n",
              "    <tr>\n",
              "      <th>0</th>\n",
              "      <td>Flights</td>\n",
              "    </tr>\n",
              "    <tr>\n",
              "      <th>1</th>\n",
              "      <td>MN_Airports</td>\n",
              "    </tr>\n",
              "  </tbody>\n",
              "</table>\n",
              "</div>"
            ],
            "text/plain": [
              "          name\n",
              "0      Flights\n",
              "1  MN_Airports"
            ]
          },
          "metadata": {
            "tags": []
          },
          "execution_count": 5
        }
      ]
    },
    {
      "cell_type": "markdown",
      "metadata": {
        "id": "p6LXXWSnZppE"
      },
      "source": [
        "Next, investigate the contents of the Flights table."
      ]
    },
    {
      "cell_type": "code",
      "metadata": {
        "colab": {
          "base_uri": "https://localhost:8080/",
          "height": 558
        },
        "id": "h_l_CrhYZpxZ",
        "outputId": "16cc4660-32b8-4925-ae8f-31d5bc462445"
      },
      "source": [
        "#Makign a connection\r\n",
        "connect_db = sqlite3.connect(\"/content/sample_data/OnTime.db\")\r\n",
        "\r\n",
        "#SQL Statement\r\n",
        "df = pd.read_sql_query(\r\n",
        "                        \"PRAGMA table_info(Flights)\"\r\n",
        "                          , connect_db)\r\n",
        "#Closing the connection\r\n",
        "connect_db.close()\r\n",
        "\r\n",
        "#Using pandas to show output\r\n",
        "df.head(20)"
      ],
      "execution_count": 7,
      "outputs": [
        {
          "output_type": "execute_result",
          "data": {
            "text/html": [
              "<div>\n",
              "<style scoped>\n",
              "    .dataframe tbody tr th:only-of-type {\n",
              "        vertical-align: middle;\n",
              "    }\n",
              "\n",
              "    .dataframe tbody tr th {\n",
              "        vertical-align: top;\n",
              "    }\n",
              "\n",
              "    .dataframe thead th {\n",
              "        text-align: right;\n",
              "    }\n",
              "</style>\n",
              "<table border=\"1\" class=\"dataframe\">\n",
              "  <thead>\n",
              "    <tr style=\"text-align: right;\">\n",
              "      <th></th>\n",
              "      <th>cid</th>\n",
              "      <th>name</th>\n",
              "      <th>type</th>\n",
              "      <th>notnull</th>\n",
              "      <th>dflt_value</th>\n",
              "      <th>pk</th>\n",
              "    </tr>\n",
              "  </thead>\n",
              "  <tbody>\n",
              "    <tr>\n",
              "      <th>0</th>\n",
              "      <td>0</td>\n",
              "      <td>DAY_OF_MONTH</td>\n",
              "      <td></td>\n",
              "      <td>0</td>\n",
              "      <td>None</td>\n",
              "      <td>0</td>\n",
              "    </tr>\n",
              "    <tr>\n",
              "      <th>1</th>\n",
              "      <td>1</td>\n",
              "      <td>DAY_OF_WEEK</td>\n",
              "      <td></td>\n",
              "      <td>0</td>\n",
              "      <td>None</td>\n",
              "      <td>0</td>\n",
              "    </tr>\n",
              "    <tr>\n",
              "      <th>2</th>\n",
              "      <td>2</td>\n",
              "      <td>ORIGIN</td>\n",
              "      <td></td>\n",
              "      <td>0</td>\n",
              "      <td>None</td>\n",
              "      <td>0</td>\n",
              "    </tr>\n",
              "    <tr>\n",
              "      <th>3</th>\n",
              "      <td>3</td>\n",
              "      <td>ORIGIN_STATE</td>\n",
              "      <td></td>\n",
              "      <td>0</td>\n",
              "      <td>None</td>\n",
              "      <td>0</td>\n",
              "    </tr>\n",
              "    <tr>\n",
              "      <th>4</th>\n",
              "      <td>4</td>\n",
              "      <td>DEST</td>\n",
              "      <td></td>\n",
              "      <td>0</td>\n",
              "      <td>None</td>\n",
              "      <td>0</td>\n",
              "    </tr>\n",
              "    <tr>\n",
              "      <th>5</th>\n",
              "      <td>5</td>\n",
              "      <td>DEST_STATE</td>\n",
              "      <td></td>\n",
              "      <td>0</td>\n",
              "      <td>None</td>\n",
              "      <td>0</td>\n",
              "    </tr>\n",
              "    <tr>\n",
              "      <th>6</th>\n",
              "      <td>6</td>\n",
              "      <td>DEP_TIME</td>\n",
              "      <td></td>\n",
              "      <td>0</td>\n",
              "      <td>None</td>\n",
              "      <td>0</td>\n",
              "    </tr>\n",
              "    <tr>\n",
              "      <th>7</th>\n",
              "      <td>7</td>\n",
              "      <td>DEP_DELAY</td>\n",
              "      <td></td>\n",
              "      <td>0</td>\n",
              "      <td>None</td>\n",
              "      <td>0</td>\n",
              "    </tr>\n",
              "    <tr>\n",
              "      <th>8</th>\n",
              "      <td>8</td>\n",
              "      <td>DEP_DEL15</td>\n",
              "      <td></td>\n",
              "      <td>0</td>\n",
              "      <td>None</td>\n",
              "      <td>0</td>\n",
              "    </tr>\n",
              "    <tr>\n",
              "      <th>9</th>\n",
              "      <td>9</td>\n",
              "      <td>ARR_TIME</td>\n",
              "      <td></td>\n",
              "      <td>0</td>\n",
              "      <td>None</td>\n",
              "      <td>0</td>\n",
              "    </tr>\n",
              "    <tr>\n",
              "      <th>10</th>\n",
              "      <td>10</td>\n",
              "      <td>ARR_DELAY</td>\n",
              "      <td></td>\n",
              "      <td>0</td>\n",
              "      <td>None</td>\n",
              "      <td>0</td>\n",
              "    </tr>\n",
              "    <tr>\n",
              "      <th>11</th>\n",
              "      <td>11</td>\n",
              "      <td>ARR_DEL15</td>\n",
              "      <td></td>\n",
              "      <td>0</td>\n",
              "      <td>None</td>\n",
              "      <td>0</td>\n",
              "    </tr>\n",
              "    <tr>\n",
              "      <th>12</th>\n",
              "      <td>12</td>\n",
              "      <td>CARRIER_DELAY</td>\n",
              "      <td></td>\n",
              "      <td>0</td>\n",
              "      <td>None</td>\n",
              "      <td>0</td>\n",
              "    </tr>\n",
              "    <tr>\n",
              "      <th>13</th>\n",
              "      <td>13</td>\n",
              "      <td>WEATHER_DELAY</td>\n",
              "      <td></td>\n",
              "      <td>0</td>\n",
              "      <td>None</td>\n",
              "      <td>0</td>\n",
              "    </tr>\n",
              "    <tr>\n",
              "      <th>14</th>\n",
              "      <td>14</td>\n",
              "      <td>NAS_DELAY</td>\n",
              "      <td></td>\n",
              "      <td>0</td>\n",
              "      <td>None</td>\n",
              "      <td>0</td>\n",
              "    </tr>\n",
              "    <tr>\n",
              "      <th>15</th>\n",
              "      <td>15</td>\n",
              "      <td>SECURITY_DELAY</td>\n",
              "      <td></td>\n",
              "      <td>0</td>\n",
              "      <td>None</td>\n",
              "      <td>0</td>\n",
              "    </tr>\n",
              "    <tr>\n",
              "      <th>16</th>\n",
              "      <td>16</td>\n",
              "      <td>LATE_AIRCRAFT_DELAY</td>\n",
              "      <td></td>\n",
              "      <td>0</td>\n",
              "      <td>None</td>\n",
              "      <td>0</td>\n",
              "    </tr>\n",
              "  </tbody>\n",
              "</table>\n",
              "</div>"
            ],
            "text/plain": [
              "    cid                 name type  notnull dflt_value  pk\n",
              "0     0         DAY_OF_MONTH             0       None   0\n",
              "1     1          DAY_OF_WEEK             0       None   0\n",
              "2     2               ORIGIN             0       None   0\n",
              "3     3         ORIGIN_STATE             0       None   0\n",
              "4     4                 DEST             0       None   0\n",
              "5     5           DEST_STATE             0       None   0\n",
              "6     6             DEP_TIME             0       None   0\n",
              "7     7            DEP_DELAY             0       None   0\n",
              "8     8            DEP_DEL15             0       None   0\n",
              "9     9             ARR_TIME             0       None   0\n",
              "10   10            ARR_DELAY             0       None   0\n",
              "11   11            ARR_DEL15             0       None   0\n",
              "12   12        CARRIER_DELAY             0       None   0\n",
              "13   13        WEATHER_DELAY             0       None   0\n",
              "14   14            NAS_DELAY             0       None   0\n",
              "15   15       SECURITY_DELAY             0       None   0\n",
              "16   16  LATE_AIRCRAFT_DELAY             0       None   0"
            ]
          },
          "metadata": {
            "tags": []
          },
          "execution_count": 7
        }
      ]
    },
    {
      "cell_type": "markdown",
      "metadata": {
        "id": "CLF5GbUDZ0eA"
      },
      "source": [
        "Getting a list of the fields in the MN_Airports table."
      ]
    },
    {
      "cell_type": "code",
      "metadata": {
        "colab": {
          "base_uri": "https://localhost:8080/",
          "height": 138
        },
        "id": "RUPNsK25Z0nh",
        "outputId": "b876c2ca-fad3-43c0-cdf3-bc030625a8b2"
      },
      "source": [
        "#Makign a connection\r\n",
        "connect_db = sqlite3.connect(\"/content/sample_data/OnTime.db\")\r\n",
        "\r\n",
        "#SQL Statement\r\n",
        "df = pd.read_sql_query(\r\n",
        "                        \"PRAGMA table_info(MN_Airports)\"\r\n",
        "                          , connect_db)\r\n",
        "#Closing the connection\r\n",
        "connect_db.close()\r\n",
        "\r\n",
        "#Using pandas to show output\r\n",
        "df.head(20)"
      ],
      "execution_count": 8,
      "outputs": [
        {
          "output_type": "execute_result",
          "data": {
            "text/html": [
              "<div>\n",
              "<style scoped>\n",
              "    .dataframe tbody tr th:only-of-type {\n",
              "        vertical-align: middle;\n",
              "    }\n",
              "\n",
              "    .dataframe tbody tr th {\n",
              "        vertical-align: top;\n",
              "    }\n",
              "\n",
              "    .dataframe thead th {\n",
              "        text-align: right;\n",
              "    }\n",
              "</style>\n",
              "<table border=\"1\" class=\"dataframe\">\n",
              "  <thead>\n",
              "    <tr style=\"text-align: right;\">\n",
              "      <th></th>\n",
              "      <th>cid</th>\n",
              "      <th>name</th>\n",
              "      <th>type</th>\n",
              "      <th>notnull</th>\n",
              "      <th>dflt_value</th>\n",
              "      <th>pk</th>\n",
              "    </tr>\n",
              "  </thead>\n",
              "  <tbody>\n",
              "    <tr>\n",
              "      <th>0</th>\n",
              "      <td>0</td>\n",
              "      <td>Airport</td>\n",
              "      <td></td>\n",
              "      <td>0</td>\n",
              "      <td>None</td>\n",
              "      <td>0</td>\n",
              "    </tr>\n",
              "    <tr>\n",
              "      <th>1</th>\n",
              "      <td>1</td>\n",
              "      <td>State</td>\n",
              "      <td></td>\n",
              "      <td>0</td>\n",
              "      <td>None</td>\n",
              "      <td>0</td>\n",
              "    </tr>\n",
              "    <tr>\n",
              "      <th>2</th>\n",
              "      <td>2</td>\n",
              "      <td>Type</td>\n",
              "      <td></td>\n",
              "      <td>0</td>\n",
              "      <td>None</td>\n",
              "      <td>0</td>\n",
              "    </tr>\n",
              "  </tbody>\n",
              "</table>\n",
              "</div>"
            ],
            "text/plain": [
              "   cid     name type  notnull dflt_value  pk\n",
              "0    0  Airport             0       None   0\n",
              "1    1    State             0       None   0\n",
              "2    2     Type             0       None   0"
            ]
          },
          "metadata": {
            "tags": []
          },
          "execution_count": 8
        }
      ]
    },
    {
      "cell_type": "markdown",
      "metadata": {
        "id": "FmHeJMGpaGc4"
      },
      "source": [
        "SQL allows one to obtain just a few rows using the The <strong>LIMIT</strong> statement.  This statement is put at the end of sql statement. The followign will limit the number of rows returned to 10.\r\n",
        "\r\n",
        "<strong>Note</strong>: The number of rows returned by the SQL statement is indeed 10, the df.head() is limiting the number of rows being shown to 5."
      ]
    },
    {
      "cell_type": "code",
      "metadata": {
        "colab": {
          "base_uri": "https://localhost:8080/",
          "height": 368
        },
        "id": "NFA3GYEPaGjx",
        "outputId": "a7fcad42-4a63-4f1c-aea1-9cc7496f444f"
      },
      "source": [
        "#Making a connection\r\n",
        "connect_db = sqlite3.connect(\"/content/sample_data/OnTime.db\")\r\n",
        "\r\n",
        "#SQL Statement\r\n",
        "df = pd.read_sql_query(\r\n",
        "                          \"SELECT * from Flights LIMIT 10\"\r\n",
        "                          , connect_db)\r\n",
        "#Closing the connection\r\n",
        "connect_db.close()\r\n",
        "\r\n",
        "#Using pandas to show output\r\n",
        "df.head()\r\n",
        "\r\n",
        "#Using pandas to show all 10 rows\r\n",
        "df.head(10)"
      ],
      "execution_count": 12,
      "outputs": [
        {
          "output_type": "execute_result",
          "data": {
            "text/html": [
              "<div>\n",
              "<style scoped>\n",
              "    .dataframe tbody tr th:only-of-type {\n",
              "        vertical-align: middle;\n",
              "    }\n",
              "\n",
              "    .dataframe tbody tr th {\n",
              "        vertical-align: top;\n",
              "    }\n",
              "\n",
              "    .dataframe thead th {\n",
              "        text-align: right;\n",
              "    }\n",
              "</style>\n",
              "<table border=\"1\" class=\"dataframe\">\n",
              "  <thead>\n",
              "    <tr style=\"text-align: right;\">\n",
              "      <th></th>\n",
              "      <th>DAY_OF_MONTH</th>\n",
              "      <th>DAY_OF_WEEK</th>\n",
              "      <th>ORIGIN</th>\n",
              "      <th>ORIGIN_STATE</th>\n",
              "      <th>DEST</th>\n",
              "      <th>DEST_STATE</th>\n",
              "      <th>DEP_TIME</th>\n",
              "      <th>DEP_DELAY</th>\n",
              "      <th>DEP_DEL15</th>\n",
              "      <th>ARR_TIME</th>\n",
              "      <th>ARR_DELAY</th>\n",
              "      <th>ARR_DEL15</th>\n",
              "      <th>CARRIER_DELAY</th>\n",
              "      <th>WEATHER_DELAY</th>\n",
              "      <th>NAS_DELAY</th>\n",
              "      <th>SECURITY_DELAY</th>\n",
              "      <th>LATE_AIRCRAFT_DELAY</th>\n",
              "    </tr>\n",
              "  </thead>\n",
              "  <tbody>\n",
              "    <tr>\n",
              "      <th>0</th>\n",
              "      <td>1</td>\n",
              "      <td>2</td>\n",
              "      <td>CLT</td>\n",
              "      <td>NC</td>\n",
              "      <td>MCO</td>\n",
              "      <td>FL</td>\n",
              "      <td>1252</td>\n",
              "      <td>-7</td>\n",
              "      <td>0</td>\n",
              "      <td>1421</td>\n",
              "      <td>-19</td>\n",
              "      <td>0</td>\n",
              "      <td></td>\n",
              "      <td></td>\n",
              "      <td></td>\n",
              "      <td></td>\n",
              "      <td></td>\n",
              "    </tr>\n",
              "    <tr>\n",
              "      <th>1</th>\n",
              "      <td>1</td>\n",
              "      <td>2</td>\n",
              "      <td>MCO</td>\n",
              "      <td>FL</td>\n",
              "      <td>CLT</td>\n",
              "      <td>NC</td>\n",
              "      <td>1525</td>\n",
              "      <td>-11</td>\n",
              "      <td>0</td>\n",
              "      <td>1701</td>\n",
              "      <td>-20</td>\n",
              "      <td>0</td>\n",
              "      <td></td>\n",
              "      <td></td>\n",
              "      <td></td>\n",
              "      <td></td>\n",
              "      <td></td>\n",
              "    </tr>\n",
              "    <tr>\n",
              "      <th>2</th>\n",
              "      <td>1</td>\n",
              "      <td>2</td>\n",
              "      <td>DFW</td>\n",
              "      <td>TX</td>\n",
              "      <td>MCO</td>\n",
              "      <td>FL</td>\n",
              "      <td>840</td>\n",
              "      <td>-5</td>\n",
              "      <td>0</td>\n",
              "      <td>1200</td>\n",
              "      <td>-13</td>\n",
              "      <td>0</td>\n",
              "      <td></td>\n",
              "      <td></td>\n",
              "      <td></td>\n",
              "      <td></td>\n",
              "      <td></td>\n",
              "    </tr>\n",
              "    <tr>\n",
              "      <th>3</th>\n",
              "      <td>1</td>\n",
              "      <td>2</td>\n",
              "      <td>MCO</td>\n",
              "      <td>FL</td>\n",
              "      <td>DFW</td>\n",
              "      <td>TX</td>\n",
              "      <td>1328</td>\n",
              "      <td>-5</td>\n",
              "      <td>0</td>\n",
              "      <td>1530</td>\n",
              "      <td>-5</td>\n",
              "      <td>0</td>\n",
              "      <td></td>\n",
              "      <td></td>\n",
              "      <td></td>\n",
              "      <td></td>\n",
              "      <td></td>\n",
              "    </tr>\n",
              "    <tr>\n",
              "      <th>4</th>\n",
              "      <td>1</td>\n",
              "      <td>2</td>\n",
              "      <td>EWR</td>\n",
              "      <td>NJ</td>\n",
              "      <td>DFW</td>\n",
              "      <td>TX</td>\n",
              "      <td>604</td>\n",
              "      <td>-6</td>\n",
              "      <td>0</td>\n",
              "      <td>835</td>\n",
              "      <td>-47</td>\n",
              "      <td>0</td>\n",
              "      <td></td>\n",
              "      <td></td>\n",
              "      <td></td>\n",
              "      <td></td>\n",
              "      <td></td>\n",
              "    </tr>\n",
              "    <tr>\n",
              "      <th>5</th>\n",
              "      <td>1</td>\n",
              "      <td>2</td>\n",
              "      <td>MEM</td>\n",
              "      <td>TN</td>\n",
              "      <td>CLT</td>\n",
              "      <td>NC</td>\n",
              "      <td>952</td>\n",
              "      <td>19</td>\n",
              "      <td>1</td>\n",
              "      <td>1225</td>\n",
              "      <td>8</td>\n",
              "      <td>0</td>\n",
              "      <td></td>\n",
              "      <td></td>\n",
              "      <td></td>\n",
              "      <td></td>\n",
              "      <td></td>\n",
              "    </tr>\n",
              "    <tr>\n",
              "      <th>6</th>\n",
              "      <td>1</td>\n",
              "      <td>2</td>\n",
              "      <td>DFW</td>\n",
              "      <td>TX</td>\n",
              "      <td>BOS</td>\n",
              "      <td>MA</td>\n",
              "      <td>1722</td>\n",
              "      <td>22</td>\n",
              "      <td>1</td>\n",
              "      <td>2145</td>\n",
              "      <td>8</td>\n",
              "      <td>0</td>\n",
              "      <td></td>\n",
              "      <td></td>\n",
              "      <td></td>\n",
              "      <td></td>\n",
              "      <td></td>\n",
              "    </tr>\n",
              "    <tr>\n",
              "      <th>7</th>\n",
              "      <td>1</td>\n",
              "      <td>2</td>\n",
              "      <td>DFW</td>\n",
              "      <td>TX</td>\n",
              "      <td>SNA</td>\n",
              "      <td>CA</td>\n",
              "      <td>2021</td>\n",
              "      <td>26</td>\n",
              "      <td>1</td>\n",
              "      <td>2130</td>\n",
              "      <td>15</td>\n",
              "      <td>1</td>\n",
              "      <td>0</td>\n",
              "      <td>0</td>\n",
              "      <td>0</td>\n",
              "      <td>0</td>\n",
              "      <td>15</td>\n",
              "    </tr>\n",
              "    <tr>\n",
              "      <th>8</th>\n",
              "      <td>1</td>\n",
              "      <td>2</td>\n",
              "      <td>RNO</td>\n",
              "      <td>NV</td>\n",
              "      <td>DFW</td>\n",
              "      <td>TX</td>\n",
              "      <td>1316</td>\n",
              "      <td>18</td>\n",
              "      <td>1</td>\n",
              "      <td>1827</td>\n",
              "      <td>18</td>\n",
              "      <td>1</td>\n",
              "      <td>18</td>\n",
              "      <td>0</td>\n",
              "      <td>0</td>\n",
              "      <td>0</td>\n",
              "      <td>0</td>\n",
              "    </tr>\n",
              "    <tr>\n",
              "      <th>9</th>\n",
              "      <td>1</td>\n",
              "      <td>2</td>\n",
              "      <td>CLT</td>\n",
              "      <td>NC</td>\n",
              "      <td>JFK</td>\n",
              "      <td>NY</td>\n",
              "      <td>1304</td>\n",
              "      <td>-4</td>\n",
              "      <td>0</td>\n",
              "      <td>1440</td>\n",
              "      <td>-20</td>\n",
              "      <td>0</td>\n",
              "      <td></td>\n",
              "      <td></td>\n",
              "      <td></td>\n",
              "      <td></td>\n",
              "      <td></td>\n",
              "    </tr>\n",
              "  </tbody>\n",
              "</table>\n",
              "</div>"
            ],
            "text/plain": [
              "  DAY_OF_MONTH DAY_OF_WEEK ORIGIN  ... NAS_DELAY SECURITY_DELAY LATE_AIRCRAFT_DELAY\n",
              "0            1           2    CLT  ...                                             \n",
              "1            1           2    MCO  ...                                             \n",
              "2            1           2    DFW  ...                                             \n",
              "3            1           2    MCO  ...                                             \n",
              "4            1           2    EWR  ...                                             \n",
              "5            1           2    MEM  ...                                             \n",
              "6            1           2    DFW  ...                                             \n",
              "7            1           2    DFW  ...         0              0                  15\n",
              "8            1           2    RNO  ...         0              0                   0\n",
              "9            1           2    CLT  ...                                             \n",
              "\n",
              "[10 rows x 17 columns]"
            ]
          },
          "metadata": {
            "tags": []
          },
          "execution_count": 12
        }
      ]
    },
    {
      "cell_type": "markdown",
      "metadata": {
        "id": "pn0SfZ-dbY_o"
      },
      "source": [
        "There are a limited number of airports in MN; thus, the LIMIT statement is not needed for this table."
      ]
    },
    {
      "cell_type": "code",
      "metadata": {
        "colab": {
          "base_uri": "https://localhost:8080/",
          "height": 288
        },
        "id": "wWvilp7YbZGn",
        "outputId": "35909be8-2d5a-4022-d4a9-054175b50828"
      },
      "source": [
        "#Making a connection\r\n",
        "connect_db = sqlite3.connect(\"/content/sample_data/OnTime.db\")\r\n",
        "\r\n",
        "#SQL Statement\r\n",
        "df = pd.read_sql_query(\r\n",
        "                          \"SELECT * from MN_Airports\"\r\n",
        "                          , connect_db)\r\n",
        "#Closing the connection\r\n",
        "connect_db.close()\r\n",
        "\r\n",
        "#Using pandas to show all 10 rows\r\n",
        "df.head(10)"
      ],
      "execution_count": 13,
      "outputs": [
        {
          "output_type": "execute_result",
          "data": {
            "text/html": [
              "<div>\n",
              "<style scoped>\n",
              "    .dataframe tbody tr th:only-of-type {\n",
              "        vertical-align: middle;\n",
              "    }\n",
              "\n",
              "    .dataframe tbody tr th {\n",
              "        vertical-align: top;\n",
              "    }\n",
              "\n",
              "    .dataframe thead th {\n",
              "        text-align: right;\n",
              "    }\n",
              "</style>\n",
              "<table border=\"1\" class=\"dataframe\">\n",
              "  <thead>\n",
              "    <tr style=\"text-align: right;\">\n",
              "      <th></th>\n",
              "      <th>Airport</th>\n",
              "      <th>State</th>\n",
              "      <th>Type</th>\n",
              "    </tr>\n",
              "  </thead>\n",
              "  <tbody>\n",
              "    <tr>\n",
              "      <th>0</th>\n",
              "      <td>BJI</td>\n",
              "      <td>MN</td>\n",
              "      <td>Regional</td>\n",
              "    </tr>\n",
              "    <tr>\n",
              "      <th>1</th>\n",
              "      <td>BRD</td>\n",
              "      <td>MN</td>\n",
              "      <td>Regional</td>\n",
              "    </tr>\n",
              "    <tr>\n",
              "      <th>2</th>\n",
              "      <td>DLH</td>\n",
              "      <td>MN</td>\n",
              "      <td>Regional</td>\n",
              "    </tr>\n",
              "    <tr>\n",
              "      <th>3</th>\n",
              "      <td>HIB</td>\n",
              "      <td>MN</td>\n",
              "      <td>Regional</td>\n",
              "    </tr>\n",
              "    <tr>\n",
              "      <th>4</th>\n",
              "      <td>INL</td>\n",
              "      <td>MN</td>\n",
              "      <td>Regional</td>\n",
              "    </tr>\n",
              "    <tr>\n",
              "      <th>5</th>\n",
              "      <td>MSP</td>\n",
              "      <td>MN</td>\n",
              "      <td>Not Regional</td>\n",
              "    </tr>\n",
              "    <tr>\n",
              "      <th>6</th>\n",
              "      <td>RST</td>\n",
              "      <td>MN</td>\n",
              "      <td>Regional</td>\n",
              "    </tr>\n",
              "    <tr>\n",
              "      <th>7</th>\n",
              "      <td>STC</td>\n",
              "      <td>MN</td>\n",
              "      <td>Regional</td>\n",
              "    </tr>\n",
              "  </tbody>\n",
              "</table>\n",
              "</div>"
            ],
            "text/plain": [
              "  Airport State          Type\n",
              "0     BJI    MN      Regional\n",
              "1     BRD    MN      Regional\n",
              "2     DLH    MN      Regional\n",
              "3     HIB    MN      Regional\n",
              "4     INL    MN      Regional\n",
              "5     MSP    MN  Not Regional\n",
              "6     RST    MN      Regional\n",
              "7     STC    MN      Regional"
            ]
          },
          "metadata": {
            "tags": []
          },
          "execution_count": 13
        }
      ]
    },
    {
      "cell_type": "markdown",
      "metadata": {
        "id": "yVA_QKoCV9bc"
      },
      "source": [
        "# Simple WHERE Statements"
      ]
    },
    {
      "cell_type": "markdown",
      "metadata": {
        "id": "LXJIDKidBXCg"
      },
      "source": [
        "To begin, suppose the goal is to obtain only flights whose ORIGIN airport was Rochester, MN.  The airport code for Rochester, MN is <strong>RST</strong>.\r\n",
        "\r\n",
        "<p align='center'><img src=\"https://drive.google.com/uc?export=view&id=1cZ49YcqPChfiBZP0Hq7Ahzxn4Sg3ktG-\" width='25%' height='25%'></p>"
      ]
    },
    {
      "cell_type": "code",
      "metadata": {
        "colab": {
          "base_uri": "https://localhost:8080/"
        },
        "id": "922YEccqbtBk",
        "outputId": "4533acae-f8e7-4423-e52b-9902a9004e8e"
      },
      "source": [
        "#Making a connection\r\n",
        "connect_db = sqlite3.connect(\"/content/sample_data/OnTime.db\")\r\n",
        "\r\n",
        "#SQL Statement to get RST flights\r\n",
        "RST = pd.read_sql_query(\r\n",
        "                          \"SELECT * from Flights WHERE (ORIGIN == 'RST') \"\r\n",
        "                          , connect_db)\r\n",
        "#Closing the connection\r\n",
        "connect_db.close()\r\n",
        "\r\n",
        "#Using pandas to show all 10 rows\r\n",
        "RST.head(10)\r\n",
        "\r\n",
        "#Getting number of rows and columns\r\n",
        "RST.shape"
      ],
      "execution_count": 15,
      "outputs": [
        {
          "output_type": "execute_result",
          "data": {
            "text/plain": [
              "(238, 17)"
            ]
          },
          "metadata": {
            "tags": []
          },
          "execution_count": 15
        }
      ]
    },
    {
      "cell_type": "markdown",
      "metadata": {
        "id": "kh2qOtUvcPxw"
      },
      "source": [
        "Consider the use of the <strong>COUNT()</strong> summary function in SQL.  The following code does *not* return the actual rows, but instead a count of the number of flights that where ORIGIN == RST."
      ]
    },
    {
      "cell_type": "code",
      "metadata": {
        "colab": {
          "base_uri": "https://localhost:8080/",
          "height": 78
        },
        "id": "kl7txzdTcP49",
        "outputId": "c2f9f40a-9e9f-4edf-8b3b-1f03c48cccb3"
      },
      "source": [
        "#Making a connection\r\n",
        "connect_db = sqlite3.connect(\"/content/sample_data/OnTime.db\")\r\n",
        "\r\n",
        "#SQL Statement to get count for RST\r\n",
        "RST_Count = pd.read_sql_query(\r\n",
        "                          \"SELECT COUNT(*) AS RST_Count from Flights WHERE (ORIGIN == 'RST') \"\r\n",
        "                          , connect_db)\r\n",
        "#Closing the connection\r\n",
        "connect_db.close()\r\n",
        "\r\n",
        "#Using pandas to show all 10 rows\r\n",
        "RST_Count.head(10)\r\n",
        "\r\n",
        "#Using pandas to show dimension of dataframe\r\n",
        "#RST_Count.head(10)\r\n",
        "\r\n"
      ],
      "execution_count": 19,
      "outputs": [
        {
          "output_type": "execute_result",
          "data": {
            "text/html": [
              "<div>\n",
              "<style scoped>\n",
              "    .dataframe tbody tr th:only-of-type {\n",
              "        vertical-align: middle;\n",
              "    }\n",
              "\n",
              "    .dataframe tbody tr th {\n",
              "        vertical-align: top;\n",
              "    }\n",
              "\n",
              "    .dataframe thead th {\n",
              "        text-align: right;\n",
              "    }\n",
              "</style>\n",
              "<table border=\"1\" class=\"dataframe\">\n",
              "  <thead>\n",
              "    <tr style=\"text-align: right;\">\n",
              "      <th></th>\n",
              "      <th>RST_Count</th>\n",
              "    </tr>\n",
              "  </thead>\n",
              "  <tbody>\n",
              "    <tr>\n",
              "      <th>0</th>\n",
              "      <td>238</td>\n",
              "    </tr>\n",
              "  </tbody>\n",
              "</table>\n",
              "</div>"
            ],
            "text/plain": [
              "   RST_Count\n",
              "0        238"
            ]
          },
          "metadata": {
            "tags": []
          },
          "execution_count": 19
        }
      ]
    },
    {
      "cell_type": "markdown",
      "metadata": {
        "id": "sx8hKULVDstb"
      },
      "source": [
        "Next, let us collect the rows where the ORIGIN airport is RST and the destination airport is MSP, i.e. Minneapolis, MN.\r\n",
        "\r\n",
        "<p align='center'><img src=\"https://drive.google.com/uc?export=view&id=1c142gdrEPwS_j09pqK1x8kpQjYDYSs47\" width='25%' height='25%'></p>"
      ]
    },
    {
      "cell_type": "code",
      "metadata": {
        "colab": {
          "base_uri": "https://localhost:8080/",
          "height": 368
        },
        "id": "UtCoAPc6Ds0r",
        "outputId": "7e4f1658-6c17-4c6f-ce69-8a9c67e562e7"
      },
      "source": [
        "#Making a connection\r\n",
        "connect_db = sqlite3.connect(\"/content/sample_data/OnTime.db\")\r\n",
        "\r\n",
        "#SQL Statement to get RST flights into MSP\r\n",
        "RST_to_MSP = pd.read_sql_query(\r\n",
        "                          \"SELECT * from Flights WHERE ( (ORIGIN == 'RST') AND (DEST == 'MSP') ) \"\r\n",
        "                          , connect_db)\r\n",
        "#Closing the connection\r\n",
        "connect_db.close()\r\n",
        "\r\n",
        "#Using pandas to show all 10 rows\r\n",
        "RST_to_MSP.head(10)\r\n",
        "\r\n",
        "#Getting number of rows and columns\r\n",
        "#RST_to_MSP.shape"
      ],
      "execution_count": 21,
      "outputs": [
        {
          "output_type": "execute_result",
          "data": {
            "text/html": [
              "<div>\n",
              "<style scoped>\n",
              "    .dataframe tbody tr th:only-of-type {\n",
              "        vertical-align: middle;\n",
              "    }\n",
              "\n",
              "    .dataframe tbody tr th {\n",
              "        vertical-align: top;\n",
              "    }\n",
              "\n",
              "    .dataframe thead th {\n",
              "        text-align: right;\n",
              "    }\n",
              "</style>\n",
              "<table border=\"1\" class=\"dataframe\">\n",
              "  <thead>\n",
              "    <tr style=\"text-align: right;\">\n",
              "      <th></th>\n",
              "      <th>DAY_OF_MONTH</th>\n",
              "      <th>DAY_OF_WEEK</th>\n",
              "      <th>ORIGIN</th>\n",
              "      <th>ORIGIN_STATE</th>\n",
              "      <th>DEST</th>\n",
              "      <th>DEST_STATE</th>\n",
              "      <th>DEP_TIME</th>\n",
              "      <th>DEP_DELAY</th>\n",
              "      <th>DEP_DEL15</th>\n",
              "      <th>ARR_TIME</th>\n",
              "      <th>ARR_DELAY</th>\n",
              "      <th>ARR_DEL15</th>\n",
              "      <th>CARRIER_DELAY</th>\n",
              "      <th>WEATHER_DELAY</th>\n",
              "      <th>NAS_DELAY</th>\n",
              "      <th>SECURITY_DELAY</th>\n",
              "      <th>LATE_AIRCRAFT_DELAY</th>\n",
              "    </tr>\n",
              "  </thead>\n",
              "  <tbody>\n",
              "    <tr>\n",
              "      <th>0</th>\n",
              "      <td>1</td>\n",
              "      <td>2</td>\n",
              "      <td>RST</td>\n",
              "      <td>MN</td>\n",
              "      <td>MSP</td>\n",
              "      <td>MN</td>\n",
              "      <td>604</td>\n",
              "      <td>-11</td>\n",
              "      <td>0</td>\n",
              "      <td>648</td>\n",
              "      <td>-33</td>\n",
              "      <td>0</td>\n",
              "      <td></td>\n",
              "      <td></td>\n",
              "      <td></td>\n",
              "      <td></td>\n",
              "      <td></td>\n",
              "    </tr>\n",
              "    <tr>\n",
              "      <th>1</th>\n",
              "      <td>1</td>\n",
              "      <td>2</td>\n",
              "      <td>RST</td>\n",
              "      <td>MN</td>\n",
              "      <td>MSP</td>\n",
              "      <td>MN</td>\n",
              "      <td>1155</td>\n",
              "      <td>-5</td>\n",
              "      <td>0</td>\n",
              "      <td>1239</td>\n",
              "      <td>-15</td>\n",
              "      <td>0</td>\n",
              "      <td></td>\n",
              "      <td></td>\n",
              "      <td></td>\n",
              "      <td></td>\n",
              "      <td></td>\n",
              "    </tr>\n",
              "    <tr>\n",
              "      <th>2</th>\n",
              "      <td>1</td>\n",
              "      <td>2</td>\n",
              "      <td>RST</td>\n",
              "      <td>MN</td>\n",
              "      <td>MSP</td>\n",
              "      <td>MN</td>\n",
              "      <td>1754</td>\n",
              "      <td>-5</td>\n",
              "      <td>0</td>\n",
              "      <td>1844</td>\n",
              "      <td>-19</td>\n",
              "      <td>0</td>\n",
              "      <td></td>\n",
              "      <td></td>\n",
              "      <td></td>\n",
              "      <td></td>\n",
              "      <td></td>\n",
              "    </tr>\n",
              "    <tr>\n",
              "      <th>3</th>\n",
              "      <td>1</td>\n",
              "      <td>2</td>\n",
              "      <td>RST</td>\n",
              "      <td>MN</td>\n",
              "      <td>MSP</td>\n",
              "      <td>MN</td>\n",
              "      <td>1540</td>\n",
              "      <td>-5</td>\n",
              "      <td>0</td>\n",
              "      <td>1628</td>\n",
              "      <td>-13</td>\n",
              "      <td>0</td>\n",
              "      <td></td>\n",
              "      <td></td>\n",
              "      <td></td>\n",
              "      <td></td>\n",
              "      <td></td>\n",
              "    </tr>\n",
              "    <tr>\n",
              "      <th>4</th>\n",
              "      <td>2</td>\n",
              "      <td>3</td>\n",
              "      <td>RST</td>\n",
              "      <td>MN</td>\n",
              "      <td>MSP</td>\n",
              "      <td>MN</td>\n",
              "      <td>606</td>\n",
              "      <td>-9</td>\n",
              "      <td>0</td>\n",
              "      <td>658</td>\n",
              "      <td>-23</td>\n",
              "      <td>0</td>\n",
              "      <td></td>\n",
              "      <td></td>\n",
              "      <td></td>\n",
              "      <td></td>\n",
              "      <td></td>\n",
              "    </tr>\n",
              "    <tr>\n",
              "      <th>5</th>\n",
              "      <td>2</td>\n",
              "      <td>3</td>\n",
              "      <td>RST</td>\n",
              "      <td>MN</td>\n",
              "      <td>MSP</td>\n",
              "      <td>MN</td>\n",
              "      <td>1149</td>\n",
              "      <td>-10</td>\n",
              "      <td>0</td>\n",
              "      <td>1224</td>\n",
              "      <td>-29</td>\n",
              "      <td>0</td>\n",
              "      <td></td>\n",
              "      <td></td>\n",
              "      <td></td>\n",
              "      <td></td>\n",
              "      <td></td>\n",
              "    </tr>\n",
              "    <tr>\n",
              "      <th>6</th>\n",
              "      <td>2</td>\n",
              "      <td>3</td>\n",
              "      <td>RST</td>\n",
              "      <td>MN</td>\n",
              "      <td>MSP</td>\n",
              "      <td>MN</td>\n",
              "      <td>1754</td>\n",
              "      <td>-5</td>\n",
              "      <td>0</td>\n",
              "      <td>1837</td>\n",
              "      <td>-26</td>\n",
              "      <td>0</td>\n",
              "      <td></td>\n",
              "      <td></td>\n",
              "      <td></td>\n",
              "      <td></td>\n",
              "      <td></td>\n",
              "    </tr>\n",
              "    <tr>\n",
              "      <th>7</th>\n",
              "      <td>2</td>\n",
              "      <td>3</td>\n",
              "      <td>RST</td>\n",
              "      <td>MN</td>\n",
              "      <td>MSP</td>\n",
              "      <td>MN</td>\n",
              "      <td>1540</td>\n",
              "      <td>-5</td>\n",
              "      <td>0</td>\n",
              "      <td>1623</td>\n",
              "      <td>-17</td>\n",
              "      <td>0</td>\n",
              "      <td></td>\n",
              "      <td></td>\n",
              "      <td></td>\n",
              "      <td></td>\n",
              "      <td></td>\n",
              "    </tr>\n",
              "    <tr>\n",
              "      <th>8</th>\n",
              "      <td>3</td>\n",
              "      <td>4</td>\n",
              "      <td>RST</td>\n",
              "      <td>MN</td>\n",
              "      <td>MSP</td>\n",
              "      <td>MN</td>\n",
              "      <td>610</td>\n",
              "      <td>-5</td>\n",
              "      <td>0</td>\n",
              "      <td>706</td>\n",
              "      <td>-14</td>\n",
              "      <td>0</td>\n",
              "      <td></td>\n",
              "      <td></td>\n",
              "      <td></td>\n",
              "      <td></td>\n",
              "      <td></td>\n",
              "    </tr>\n",
              "    <tr>\n",
              "      <th>9</th>\n",
              "      <td>3</td>\n",
              "      <td>4</td>\n",
              "      <td>RST</td>\n",
              "      <td>MN</td>\n",
              "      <td>MSP</td>\n",
              "      <td>MN</td>\n",
              "      <td>1154</td>\n",
              "      <td>-5</td>\n",
              "      <td>0</td>\n",
              "      <td>1233</td>\n",
              "      <td>-20</td>\n",
              "      <td>0</td>\n",
              "      <td></td>\n",
              "      <td></td>\n",
              "      <td></td>\n",
              "      <td></td>\n",
              "      <td></td>\n",
              "    </tr>\n",
              "  </tbody>\n",
              "</table>\n",
              "</div>"
            ],
            "text/plain": [
              "  DAY_OF_MONTH DAY_OF_WEEK ORIGIN  ... NAS_DELAY SECURITY_DELAY LATE_AIRCRAFT_DELAY\n",
              "0            1           2    RST  ...                                             \n",
              "1            1           2    RST  ...                                             \n",
              "2            1           2    RST  ...                                             \n",
              "3            1           2    RST  ...                                             \n",
              "4            2           3    RST  ...                                             \n",
              "5            2           3    RST  ...                                             \n",
              "6            2           3    RST  ...                                             \n",
              "7            2           3    RST  ...                                             \n",
              "8            3           4    RST  ...                                             \n",
              "9            3           4    RST  ...                                             \n",
              "\n",
              "[10 rows x 17 columns]"
            ]
          },
          "metadata": {
            "tags": []
          },
          "execution_count": 21
        }
      ]
    },
    {
      "cell_type": "markdown",
      "metadata": {
        "id": "QFj64wKDEETk"
      },
      "source": [
        "Next, let us collect the rows where the ORIGIN airport is RST or the ORIGIN airport is DLH, i.e. Duluth, MN, whose destintation in MSP.\r\n",
        "\r\n",
        "<p align='center'><img src=\"https://drive.google.com/uc?export=view&id=1zQzTj9PJkooEfkkaioffNW1O49Cocy7Y\" width='25%' height='25%'></p>"
      ]
    },
    {
      "cell_type": "code",
      "metadata": {
        "colab": {
          "base_uri": "https://localhost:8080/"
        },
        "id": "CiWUAyoYEEaF",
        "outputId": "2ca32822-2044-49c8-9ab6-cc87a1530949"
      },
      "source": [
        "#Making a connection\r\n",
        "connect_db = sqlite3.connect(\"/content/sample_data/OnTime.db\")\r\n",
        "\r\n",
        "#SQL Statement to get RST or DLH flights into MSP\r\n",
        "RST_or_DLH_to_MSP = pd.read_sql_query(\r\n",
        "                          \"SELECT * from Flights WHERE ( (ORIGIN == 'RST' AND DEST='MSP') OR (ORIGIN == 'DLH' AND DEST == 'MSP') )  \"\r\n",
        "                          , connect_db)\r\n",
        "#Closing the connection\r\n",
        "connect_db.close()\r\n",
        "\r\n",
        "#Using pandas to show all 10 rows\r\n",
        "#RST_or_DLH_to_MSP.head(10)\r\n",
        "\r\n",
        "#Getting number of rows and columns\r\n",
        "RST_or_DLH_to_MSP.shape"
      ],
      "execution_count": 29,
      "outputs": [
        {
          "output_type": "execute_result",
          "data": {
            "text/plain": [
              "(239, 17)"
            ]
          },
          "metadata": {
            "tags": []
          },
          "execution_count": 29
        }
      ]
    },
    {
      "cell_type": "markdown",
      "metadata": {
        "id": "XAcCGnkpHptg"
      },
      "source": [
        "Next, let us collect the rows where the ORIGIN airport is in MN and purposely exclude MSP.  This will be done here with a sequence of <strong>OR</strong> statements.\r\n",
        "\r\n",
        "<p align='center'><img src=\"https://drive.google.com/uc?export=view&id=1hMSS_XOgk5izrSa1PNvKSiWkM62c9xMn\" width='25%' height='25%'></p>"
      ]
    },
    {
      "cell_type": "code",
      "metadata": {
        "colab": {
          "base_uri": "https://localhost:8080/"
        },
        "id": "oMSfec7bHp03",
        "outputId": "0c9e72f7-fc0b-4ba4-f0b7-83ab2a278fed"
      },
      "source": [
        "#Making a connection\r\n",
        "connect_db = sqlite3.connect(\"/content/sample_data/OnTime.db\")\r\n",
        "\r\n",
        "#SQL Statement to get RST or DLH flights into MSP\r\n",
        "All_MN_to_MSP = pd.read_sql_query(\r\n",
        "                          \"SELECT * from Flights WHERE ( (ORIGIN == 'BJI') OR (ORIGIN == 'BRD') OR (ORIGIN == 'DLH') OR (ORIGIN == 'HIB') OR (ORIGIN == 'INL') OR (ORIGIN == 'RST') OR (ORIGIN == 'STC') )  \"\r\n",
        "                          , connect_db)\r\n",
        "#Closing the connection\r\n",
        "connect_db.close()\r\n",
        "\r\n",
        "#Using pandas to show all 10 rows\r\n",
        "#All_MN_to_MSP.head(10)\r\n",
        "\r\n",
        "#Getting number of rows and columns\r\n",
        "All_MN_to_MSP.shape"
      ],
      "execution_count": 30,
      "outputs": [
        {
          "output_type": "execute_result",
          "data": {
            "text/plain": [
              "(593, 17)"
            ]
          },
          "metadata": {
            "tags": []
          },
          "execution_count": 30
        }
      ]
    },
    {
      "cell_type": "markdown",
      "metadata": {
        "id": "vcj7__ZRKBxZ"
      },
      "source": [
        "Consider the following use of the <strong>IN</strong> statement.  In our database, a secondary table contains information regarding the regional airports in MN.  MSP is included is this secondary table; thus, Type == 'Regional' will be used to exclude MSP from consideration in the IN statement."
      ]
    },
    {
      "cell_type": "code",
      "metadata": {
        "colab": {
          "base_uri": "https://localhost:8080/"
        },
        "id": "b8WyQcjuKB4G",
        "outputId": "b33384cc-bf44-45b5-ea19-e66f2427b2f7"
      },
      "source": [
        "#Making a connection\r\n",
        "connect_db = sqlite3.connect(\"/content/sample_data/OnTime.db\")\r\n",
        "\r\n",
        "#SQL Statement to get RST or DLH flights into MSP\r\n",
        "All_MN_to_MSP = pd.read_sql_query(\r\n",
        "                          \"SELECT * from Flights WHERE ( ORIGIN IN (SELECT Airport from MN_Airports WHERE Type == 'Regional') )  \"\r\n",
        "                          , connect_db)\r\n",
        "#Closing the connection\r\n",
        "connect_db.close()\r\n",
        "\r\n",
        "#Using pandas to show all 10 rows\r\n",
        "#All_MN_to_MSP.head(10)\r\n",
        "\r\n",
        "#Getting number of rows and columns\r\n",
        "All_MN_to_MSP.shape"
      ],
      "execution_count": 32,
      "outputs": [
        {
          "output_type": "execute_result",
          "data": {
            "text/plain": [
              "(593, 17)"
            ]
          },
          "metadata": {
            "tags": []
          },
          "execution_count": 32
        }
      ]
    }
  ]
}