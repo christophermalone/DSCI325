{
  "nbformat": 4,
  "nbformat_minor": 0,
  "metadata": {
    "colab": {
      "name": "Task3_SQL.ipynb",
      "provenance": [],
      "toc_visible": true,
      "authorship_tag": "ABX9TyMeHpNpos6x0lKVE9V2/97X",
      "include_colab_link": true
    },
    "kernelspec": {
      "name": "python3",
      "display_name": "Python 3"
    }
  },
  "cells": [
    {
      "cell_type": "markdown",
      "metadata": {
        "id": "view-in-github",
        "colab_type": "text"
      },
      "source": [
        "<a href=\"https://colab.research.google.com/github/christophermalone/DSCI325/blob/main/Task3_SQL.ipynb\" target=\"_parent\"><img src=\"https://colab.research.google.com/assets/colab-badge.svg\" alt=\"Open In Colab\"/></a>"
      ]
    },
    {
      "cell_type": "code",
      "metadata": {
        "id": "FB6fMy-O3rlK"
      },
      "source": [
        ""
      ],
      "execution_count": null,
      "outputs": []
    },
    {
      "cell_type": "markdown",
      "metadata": {
        "id": "sig_UCe13vzE"
      },
      "source": [
        "# Task #3 - SQL:  CFPB Complaints Database in SQL\r\n",
        "Points: 15\r\n",
        "\r\n",
        "Due: Thrusday, Mar 11; 11:59PM"
      ]
    },
    {
      "cell_type": "markdown",
      "metadata": {
        "id": "H4ZX3xwz3-sj"
      },
      "source": [
        "\r\n",
        "\r\n",
        "---\r\n",
        "\r\n"
      ]
    },
    {
      "cell_type": "markdown",
      "metadata": {
        "id": "roWy4Nod34oj"
      },
      "source": [
        "For this assignment, we will be working with the Consumer Financial Protection Bureau Complaints database.  The database contains complaints submitted by consumers against financial companies.  For example, a complaint against a credit card company can be submitted here.\r\n",
        "\r\n",
        "\r\n",
        "\r\n",
        "*   Data Source: https://www.consumerfinance.gov/data-research/consumer-complaints/\r\n",
        "*   Field Reference: https://cfpb.github.io/api/ccdb/fields.html\r\n",
        "\r\n",
        "\r\n",
        "The data files for this task are provided in the Task 3 folder in OneDrive.  \r\n",
        "\r\n",
        "*   [[ Link ]](https://mnscu-my.sharepoint.com/:f:/r/personal/aq7839yd_minnstate_edu/Documents/DSCI325?csf=1&web=1&e=tmR0W4) Complaints.csv: Complaints that have been filed after Jan 1, 2019\r\n",
        "*   [[ Link ]](https://mnscu-my.sharepoint.com/:f:/r/personal/aq7839yd_minnstate_edu/Documents/DSCI325?csf=1&web=1&e=tmR0W4) Population.csv: Population by zip code\r\n",
        "*   [[ Link ]](https://mnscu-my.sharepoint.com/:f:/r/personal/aq7839yd_minnstate_edu/Documents/DSCI325?csf=1&web=1&e=tmR0W4) Complaints.db: A database file containing both of the above files\r\n"
      ]
    },
    {
      "cell_type": "markdown",
      "metadata": {
        "id": "b6zNoG_L3_-S"
      },
      "source": [
        "\r\n",
        "\r\n",
        "---\r\n",
        "\r\n"
      ]
    },
    {
      "cell_type": "markdown",
      "metadata": {
        "id": "u-SYG9rq4BP7"
      },
      "source": [
        "<strong>Data File</strong>\r\n",
        "\r\n",
        "You will need to load a copy of the <strong>Complaints.db</strong> file into your Colab session.  Again, this file is fairly large and will take some time to load into your Colab session.  If you keep your browser tab open, I believe the file remains in your session and will not need to be reloaded when you return."
      ]
    },
    {
      "cell_type": "markdown",
      "metadata": {
        "id": "trrdXwjG4Co6"
      },
      "source": [
        "\r\n",
        "\r\n",
        "---\r\n",
        "\r\n"
      ]
    },
    {
      "cell_type": "markdown",
      "metadata": {
        "id": "jUcDawMI4LPz"
      },
      "source": [
        "<strong>Task Requirements</strong>"
      ]
    },
    {
      "cell_type": "markdown",
      "metadata": {
        "id": "rprgV4AB4PXs"
      },
      "source": [
        "Answer the following questions for this task.  Most of these questions should be answered using the WHERE clause in your SQL statement. Problem 4 requires you to specify which columns to select.\r\n",
        "\r\n",
        "\r\n",
        "1.   How many complaints were filed in MN?\r\n",
        "2.   How many complaints in MN had Product = Mortgage?\r\n",
        "3.   A friend of mine is considering refinancing their mortgage.  The bank she is working with is ASSOCIATED BANC-CORP.  How many complaints does this bank have for mortgages?\r\n",
        "4.  Consider again mortgage complaints for ASSOCIATED BANC-CORP.  Proivde a dataframe that includes the actual narrative for the complaint and the banks response and action taken.  That is, the dataframe should include only the following columns: Consumer Narrative, Company Response, and Company Action.\r\n",
        "\r\n",
        "5. Consider the entire complaints database.  How many of the complaints did not include a narrative by the consumer?\r\n",
        "\r\n",
        "> <strong>Hint</strong>:  The ConsumerNarrative field in this database is a string variable. Therefore you must search for an empty string and not a null value.\r\n",
        "\r\n",
        "\r\n",
        "\r\n",
        "\r\n",
        "6. COVID caused many people to lose their jobs. As a result the government took quick action soon after the pandemic started to limit the number of people that would forced out of their homes due to late mortgage payments. For this query, we will include foreclose and foreclosure as our search terms and will only include complaints received after say, April 1, 2020. Run the following SQL statement.\r\n",
        "\r\n",
        "\r\n",
        ">  \"SELECT ConsumerNarrative FROM Complaints WHERE  ( DateReceived > '2020-04-01' AND ((ConsumerNarrative LIKE '%Foreclose%') OR (ConsumerNarrative LIKE '%Foreclosure%'))) \"\r\n",
        "\r\n",
        "\r\n",
        ">>  a. How many complaints are returned by this SQL query?\r\n",
        "\r\n",
        ">>  b. Do some searching and explain what the % character is doing in the LIKE statement.\r\n",
        "\r\n",
        "7. Last one -- open the Complaints.csv file in Excel.  Use the Filter feature (which is under the Data tab) to create the same filter that was used above in Problem 6. Do the number of rows returned by Excel match the output from SQL or from R?  Briefly discuss.\r\n",
        "\r\n"
      ]
    },
    {
      "cell_type": "markdown",
      "metadata": {
        "id": "Ij-zpB7U4S60"
      },
      "source": [
        "\r\n",
        "\r\n",
        "---\r\n",
        "\r\n",
        "\r\n",
        "\r\n",
        "\r\n"
      ]
    },
    {
      "cell_type": "markdown",
      "metadata": {
        "id": "WbT9CB6y4Xnr"
      },
      "source": [
        "<strong>Turn In</strong>\r\n",
        "\r\n",
        "\r\n",
        "\r\n",
        "1.   A Google Colab document that includes all your code used to answer each question.\r\n",
        "2.   Clearly provide answers (and discussions when requested) to all questions."
      ]
    }
  ]
}