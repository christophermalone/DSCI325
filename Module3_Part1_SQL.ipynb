{
  "nbformat": 4,
  "nbformat_minor": 0,
  "metadata": {
    "colab": {
      "name": "Module3_Part1_SQL.ipynb",
      "provenance": [],
      "collapsed_sections": [],
      "toc_visible": true,
      "authorship_tag": "ABX9TyNyPVGb5NQkdPsUuZh80XUA",
      "include_colab_link": true
    },
    "kernelspec": {
      "name": "python3",
      "display_name": "Python 3"
    }
  },
  "cells": [
    {
      "cell_type": "markdown",
      "metadata": {
        "id": "view-in-github",
        "colab_type": "text"
      },
      "source": [
        "<a href=\"https://colab.research.google.com/github/christophermalone/DSCI325/blob/main/Module3_Part1_SQL.ipynb\" target=\"_parent\"><img src=\"https://colab.research.google.com/assets/colab-badge.svg\" alt=\"Open In Colab\"/></a>"
      ]
    },
    {
      "cell_type": "markdown",
      "metadata": {
        "id": "6hYziWLK1sVx"
      },
      "source": [
        "# Module 3 | Part 1 | SQL: SELECT()"
      ]
    },
    {
      "cell_type": "markdown",
      "metadata": {
        "id": "CacbqBp-loNK"
      },
      "source": [
        "Structured Queary Language (SQL) is the most common programming language for the use of relational databases.  A relational database is a system that allows for many tables (datasets) to be interconnected by design.  \r\n",
        "\r\n",
        "Wiki for SQL: https://en.wikipedia.org/wiki/SQL "
      ]
    },
    {
      "cell_type": "markdown",
      "metadata": {
        "id": "S-iyCgidnI0k"
      },
      "source": [
        "A relational database includes a <strong>collection of tables</strong> which is in contrast to individual datasets.  A relational database contains substantial structure that permits the tables to be connected.  Relational databases that are well-designed have considerable advantages regarding efficency when working with structured data. \r\n",
        "<p align='center'><img src=\"https://drive.google.com/uc?export=view&id=146--_Xvpo7QNxPHCuyDdKJiyNWrNDRjM\"></p>"
      ]
    },
    {
      "cell_type": "markdown",
      "metadata": {
        "id": "bYCtPv-9pcQ2"
      },
      "source": [
        "Consider the following schematic regarding a possible database for the data being considered in this module. In this relational database, the employment information from year-to-year is contained in their own tables.\r\n",
        "\r\n",
        "\r\n",
        "*   a <strong>primary key</strong> is an essential components as it <i>connects</i> the information across the various tables\r\n",
        "*   notice that the world region is not repeated in each of year-to-year tables, but instead put into it's own table\r\n",
        "\r\n"
      ]
    },
    {
      "cell_type": "markdown",
      "metadata": {
        "id": "8HWeK7S7nKtq"
      },
      "source": [
        "\r\n",
        "\r\n",
        "<p align='center'><img src=\"https://drive.google.com/uc?export=view&id=12c6K8an_4MslGqnSBnyYZrNxUWCigxA9\"></p>"
      ]
    },
    {
      "cell_type": "markdown",
      "metadata": {
        "id": "KMkiVpctnK9z"
      },
      "source": [
        "Typically, a server hosts a number of different databases.  Thus, the first step in working with a database is to make a <strong>connection</strong> to the database."
      ]
    },
    {
      "cell_type": "markdown",
      "metadata": {
        "id": "EJ-0erEToSLN"
      },
      "source": [
        "\r\n",
        "\r\n",
        "\r\n",
        "<p align='center'><img src=\"https://drive.google.com/uc?export=view&id=17KbuvfpVmNSrob2NJmTZILAeKXSd8TDz\" width='50%' height='50%'></p>"
      ]
    },
    {
      "cell_type": "markdown",
      "metadata": {
        "id": "d_z4FR5pqkH4"
      },
      "source": [
        "## Making a Connection"
      ]
    },
    {
      "cell_type": "markdown",
      "metadata": {
        "id": "0PVCmeIQqqQn"
      },
      "source": [
        "Here, an SQLite3 package will be used to connect to the desired datqbase."
      ]
    },
    {
      "cell_type": "code",
      "metadata": {
        "id": "5pX1eURaqrLn"
      },
      "source": [
        "import pandas as pd\r\n",
        "import sqlite3"
      ],
      "execution_count": 7,
      "outputs": []
    },
    {
      "cell_type": "markdown",
      "metadata": {
        "id": "fYDUURg6q2lp"
      },
      "source": [
        "The following code can be used to establish a connection AND close a connection.  For security purposes, you only want to limit the amount of time a connection is left open."
      ]
    },
    {
      "cell_type": "code",
      "metadata": {
        "id": "0RdUxqAZq2u_"
      },
      "source": [
        "#Making a connection using sqlite3\r\n",
        "connect_db = sqlite3.connect(\"/content/sample_data/OECD_EmploymentRates.db\")\r\n",
        "\r\n",
        "# SQL CODE WILL GO HERE\r\n",
        "\r\n",
        "#Closing the connection\r\n",
        "connect_db.close()"
      ],
      "execution_count": null,
      "outputs": []
    },
    {
      "cell_type": "markdown",
      "metadata": {
        "id": "TvZI_1iTsA9Y"
      },
      "source": [
        "## Understanding the Structure"
      ]
    },
    {
      "cell_type": "markdown",
      "metadata": {
        "id": "mnL5FR5TsImA"
      },
      "source": [
        "The OECD_EmploymentRates database has the following struture.\r\n",
        "\r\n",
        "\r\n",
        "*   1 table called EmploymentRates\r\n",
        "*   14 fields - Country, WorldRegion, and three years worth of Employment Rates for each quarter\r\n",
        "\r\n"
      ]
    },
    {
      "cell_type": "markdown",
      "metadata": {
        "id": "raORvnOvnLGx"
      },
      "source": [
        "\r\n",
        "\r\n",
        "<p align='center'><img src=\"https://drive.google.com/uc?export=view&id=181KI7qN_RC08LJzeT03bTqHl7BGx-E7o\"></p>"
      ]
    },
    {
      "cell_type": "markdown",
      "metadata": {
        "id": "s1xms6VMry8g"
      },
      "source": [
        "Getting information regarding the <strong>tables</strong> in your database."
      ]
    },
    {
      "cell_type": "code",
      "metadata": {
        "colab": {
          "base_uri": "https://localhost:8080/",
          "height": 78
        },
        "id": "eRtFM9hNrzDN",
        "outputId": "1f3f900f-00f8-4d96-bdc1-a2c4f190e728"
      },
      "source": [
        "#Making a connection\r\n",
        "connect_db = sqlite3.connect(\"/content/sample_data/OECD_EmploymentRates.db\")\r\n",
        "\r\n",
        "#SQL Statement\r\n",
        "df = pd.read_sql_query(\r\n",
        "                        \"SELECT name FROM sqlite_master WHERE type='table'\"\r\n",
        "                          , connect_db)\r\n",
        "#Closing the connection\r\n",
        "connect_db.close()\r\n",
        "\r\n",
        "#Using pandas to show output\r\n",
        "df.head(20)"
      ],
      "execution_count": 9,
      "outputs": [
        {
          "output_type": "execute_result",
          "data": {
            "text/html": [
              "<div>\n",
              "<style scoped>\n",
              "    .dataframe tbody tr th:only-of-type {\n",
              "        vertical-align: middle;\n",
              "    }\n",
              "\n",
              "    .dataframe tbody tr th {\n",
              "        vertical-align: top;\n",
              "    }\n",
              "\n",
              "    .dataframe thead th {\n",
              "        text-align: right;\n",
              "    }\n",
              "</style>\n",
              "<table border=\"1\" class=\"dataframe\">\n",
              "  <thead>\n",
              "    <tr style=\"text-align: right;\">\n",
              "      <th></th>\n",
              "      <th>name</th>\n",
              "    </tr>\n",
              "  </thead>\n",
              "  <tbody>\n",
              "    <tr>\n",
              "      <th>0</th>\n",
              "      <td>EmploymentRates</td>\n",
              "    </tr>\n",
              "  </tbody>\n",
              "</table>\n",
              "</div>"
            ],
            "text/plain": [
              "              name\n",
              "0  EmploymentRates"
            ]
          },
          "metadata": {
            "tags": []
          },
          "execution_count": 9
        }
      ]
    },
    {
      "cell_type": "markdown",
      "metadata": {
        "id": "wyJGhO0Bstyx"
      },
      "source": [
        "Getting information regarding a particular table in your database."
      ]
    },
    {
      "cell_type": "code",
      "metadata": {
        "colab": {
          "base_uri": "https://localhost:8080/",
          "height": 468
        },
        "id": "pXib-7Hnre4I",
        "outputId": "55b6dfd3-efc9-4c2a-aad1-a2f281791ce4"
      },
      "source": [
        "#Makign a connection\r\n",
        "connect_db = sqlite3.connect(\"/content/sample_data/OECD_EmploymentRates.db\")\r\n",
        "\r\n",
        "#SQL Statement\r\n",
        "df = pd.read_sql_query(\r\n",
        "                        \"PRAGMA table_info(EmploymentRates)\"\r\n",
        "                          , connect_db)\r\n",
        "#Closing the connection\r\n",
        "connect_db.close()\r\n",
        "\r\n",
        "#Using pandas to show output\r\n",
        "df.head(15)"
      ],
      "execution_count": 11,
      "outputs": [
        {
          "output_type": "execute_result",
          "data": {
            "text/html": [
              "<div>\n",
              "<style scoped>\n",
              "    .dataframe tbody tr th:only-of-type {\n",
              "        vertical-align: middle;\n",
              "    }\n",
              "\n",
              "    .dataframe tbody tr th {\n",
              "        vertical-align: top;\n",
              "    }\n",
              "\n",
              "    .dataframe thead th {\n",
              "        text-align: right;\n",
              "    }\n",
              "</style>\n",
              "<table border=\"1\" class=\"dataframe\">\n",
              "  <thead>\n",
              "    <tr style=\"text-align: right;\">\n",
              "      <th></th>\n",
              "      <th>cid</th>\n",
              "      <th>name</th>\n",
              "      <th>type</th>\n",
              "      <th>notnull</th>\n",
              "      <th>dflt_value</th>\n",
              "      <th>pk</th>\n",
              "    </tr>\n",
              "  </thead>\n",
              "  <tbody>\n",
              "    <tr>\n",
              "      <th>0</th>\n",
              "      <td>0</td>\n",
              "      <td>Country</td>\n",
              "      <td></td>\n",
              "      <td>0</td>\n",
              "      <td>None</td>\n",
              "      <td>0</td>\n",
              "    </tr>\n",
              "    <tr>\n",
              "      <th>1</th>\n",
              "      <td>1</td>\n",
              "      <td>WorldRegion</td>\n",
              "      <td></td>\n",
              "      <td>0</td>\n",
              "      <td>None</td>\n",
              "      <td>0</td>\n",
              "    </tr>\n",
              "    <tr>\n",
              "      <th>2</th>\n",
              "      <td>2</td>\n",
              "      <td>Q1_Year1</td>\n",
              "      <td></td>\n",
              "      <td>0</td>\n",
              "      <td>None</td>\n",
              "      <td>0</td>\n",
              "    </tr>\n",
              "    <tr>\n",
              "      <th>3</th>\n",
              "      <td>3</td>\n",
              "      <td>Q2_Year1</td>\n",
              "      <td></td>\n",
              "      <td>0</td>\n",
              "      <td>None</td>\n",
              "      <td>0</td>\n",
              "    </tr>\n",
              "    <tr>\n",
              "      <th>4</th>\n",
              "      <td>4</td>\n",
              "      <td>Q3_Year1</td>\n",
              "      <td></td>\n",
              "      <td>0</td>\n",
              "      <td>None</td>\n",
              "      <td>0</td>\n",
              "    </tr>\n",
              "    <tr>\n",
              "      <th>5</th>\n",
              "      <td>5</td>\n",
              "      <td>Q4_Year1</td>\n",
              "      <td></td>\n",
              "      <td>0</td>\n",
              "      <td>None</td>\n",
              "      <td>0</td>\n",
              "    </tr>\n",
              "    <tr>\n",
              "      <th>6</th>\n",
              "      <td>6</td>\n",
              "      <td>Q1_Year2</td>\n",
              "      <td></td>\n",
              "      <td>0</td>\n",
              "      <td>None</td>\n",
              "      <td>0</td>\n",
              "    </tr>\n",
              "    <tr>\n",
              "      <th>7</th>\n",
              "      <td>7</td>\n",
              "      <td>Q2_Year2</td>\n",
              "      <td></td>\n",
              "      <td>0</td>\n",
              "      <td>None</td>\n",
              "      <td>0</td>\n",
              "    </tr>\n",
              "    <tr>\n",
              "      <th>8</th>\n",
              "      <td>8</td>\n",
              "      <td>Q3_Year2</td>\n",
              "      <td></td>\n",
              "      <td>0</td>\n",
              "      <td>None</td>\n",
              "      <td>0</td>\n",
              "    </tr>\n",
              "    <tr>\n",
              "      <th>9</th>\n",
              "      <td>9</td>\n",
              "      <td>Q4_Year2</td>\n",
              "      <td></td>\n",
              "      <td>0</td>\n",
              "      <td>None</td>\n",
              "      <td>0</td>\n",
              "    </tr>\n",
              "    <tr>\n",
              "      <th>10</th>\n",
              "      <td>10</td>\n",
              "      <td>Q1_Year3</td>\n",
              "      <td></td>\n",
              "      <td>0</td>\n",
              "      <td>None</td>\n",
              "      <td>0</td>\n",
              "    </tr>\n",
              "    <tr>\n",
              "      <th>11</th>\n",
              "      <td>11</td>\n",
              "      <td>Q2_Year3</td>\n",
              "      <td></td>\n",
              "      <td>0</td>\n",
              "      <td>None</td>\n",
              "      <td>0</td>\n",
              "    </tr>\n",
              "    <tr>\n",
              "      <th>12</th>\n",
              "      <td>12</td>\n",
              "      <td>Q3_Year3</td>\n",
              "      <td></td>\n",
              "      <td>0</td>\n",
              "      <td>None</td>\n",
              "      <td>0</td>\n",
              "    </tr>\n",
              "    <tr>\n",
              "      <th>13</th>\n",
              "      <td>13</td>\n",
              "      <td>Q4_Year3</td>\n",
              "      <td></td>\n",
              "      <td>0</td>\n",
              "      <td>None</td>\n",
              "      <td>0</td>\n",
              "    </tr>\n",
              "  </tbody>\n",
              "</table>\n",
              "</div>"
            ],
            "text/plain": [
              "    cid         name type  notnull dflt_value  pk\n",
              "0     0      Country             0       None   0\n",
              "1     1  WorldRegion             0       None   0\n",
              "2     2     Q1_Year1             0       None   0\n",
              "3     3     Q2_Year1             0       None   0\n",
              "4     4     Q3_Year1             0       None   0\n",
              "5     5     Q4_Year1             0       None   0\n",
              "6     6     Q1_Year2             0       None   0\n",
              "7     7     Q2_Year2             0       None   0\n",
              "8     8     Q3_Year2             0       None   0\n",
              "9     9     Q4_Year2             0       None   0\n",
              "10   10     Q1_Year3             0       None   0\n",
              "11   11     Q2_Year3             0       None   0\n",
              "12   12     Q3_Year3             0       None   0\n",
              "13   13     Q4_Year3             0       None   0"
            ]
          },
          "metadata": {
            "tags": []
          },
          "execution_count": 11
        }
      ]
    },
    {
      "cell_type": "markdown",
      "metadata": {
        "id": "uDp0vqzWs8n6"
      },
      "source": [
        "## SELECT() in SQL\r\n"
      ]
    },
    {
      "cell_type": "markdown",
      "metadata": {
        "id": "jYzqwWwptSKT"
      },
      "source": [
        "The following code is used to SELECT <strong>all</strong> columns in a particular table."
      ]
    },
    {
      "cell_type": "code",
      "metadata": {
        "colab": {
          "base_uri": "https://localhost:8080/",
          "height": 198
        },
        "id": "kFkN3fdis8vC",
        "outputId": "d2e18a5c-d461-417e-dc94-c65627fe3e28"
      },
      "source": [
        "#Making a connection\r\n",
        "connect_db = sqlite3.connect(\"/content/sample_data/OECD_EmploymentRates.db\")\r\n",
        "\r\n",
        "#SQL Statement\r\n",
        "df = pd.read_sql_query(\r\n",
        "                          \"SELECT * from EmploymentRates\"\r\n",
        "                          , connect_db)\r\n",
        "#Closing the connection\r\n",
        "connect_db.close()\r\n",
        "\r\n",
        "#Using pandas to show output\r\n",
        "df.head()"
      ],
      "execution_count": 13,
      "outputs": [
        {
          "output_type": "execute_result",
          "data": {
            "text/html": [
              "<div>\n",
              "<style scoped>\n",
              "    .dataframe tbody tr th:only-of-type {\n",
              "        vertical-align: middle;\n",
              "    }\n",
              "\n",
              "    .dataframe tbody tr th {\n",
              "        vertical-align: top;\n",
              "    }\n",
              "\n",
              "    .dataframe thead th {\n",
              "        text-align: right;\n",
              "    }\n",
              "</style>\n",
              "<table border=\"1\" class=\"dataframe\">\n",
              "  <thead>\n",
              "    <tr style=\"text-align: right;\">\n",
              "      <th></th>\n",
              "      <th>Country</th>\n",
              "      <th>WorldRegion</th>\n",
              "      <th>Q1_Year1</th>\n",
              "      <th>Q2_Year1</th>\n",
              "      <th>Q3_Year1</th>\n",
              "      <th>Q4_Year1</th>\n",
              "      <th>Q1_Year2</th>\n",
              "      <th>Q2_Year2</th>\n",
              "      <th>Q3_Year2</th>\n",
              "      <th>Q4_Year2</th>\n",
              "      <th>Q1_Year3</th>\n",
              "      <th>Q2_Year3</th>\n",
              "      <th>Q3_Year3</th>\n",
              "      <th>Q4_Year3</th>\n",
              "    </tr>\n",
              "  </thead>\n",
              "  <tbody>\n",
              "    <tr>\n",
              "      <th>0</th>\n",
              "      <td>Australia</td>\n",
              "      <td>Oceania</td>\n",
              "      <td>73.7</td>\n",
              "      <td>73.6</td>\n",
              "      <td>73.7</td>\n",
              "      <td>74</td>\n",
              "      <td>74.1</td>\n",
              "      <td>74.2</td>\n",
              "      <td>74.4</td>\n",
              "      <td>74.4</td>\n",
              "      <td>74.6</td>\n",
              "      <td>70.5</td>\n",
              "      <td>72</td>\n",
              "      <td>73.5</td>\n",
              "    </tr>\n",
              "    <tr>\n",
              "      <th>1</th>\n",
              "      <td>Austria</td>\n",
              "      <td>Europe</td>\n",
              "      <td>72.8</td>\n",
              "      <td>73.1</td>\n",
              "      <td>73.1</td>\n",
              "      <td>73.1</td>\n",
              "      <td>73.5</td>\n",
              "      <td>73.6</td>\n",
              "      <td>73.5</td>\n",
              "      <td>73.6</td>\n",
              "      <td>73.2</td>\n",
              "      <td>71.4</td>\n",
              "      <td>72.7</td>\n",
              "      <td></td>\n",
              "    </tr>\n",
              "    <tr>\n",
              "      <th>2</th>\n",
              "      <td>Belgium</td>\n",
              "      <td>Europe</td>\n",
              "      <td>64.1</td>\n",
              "      <td>63.9</td>\n",
              "      <td>64.8</td>\n",
              "      <td>65.1</td>\n",
              "      <td>64.7</td>\n",
              "      <td>65.7</td>\n",
              "      <td>65.6</td>\n",
              "      <td>65.1</td>\n",
              "      <td>65.3</td>\n",
              "      <td>64.5</td>\n",
              "      <td>64.9</td>\n",
              "      <td></td>\n",
              "    </tr>\n",
              "    <tr>\n",
              "      <th>3</th>\n",
              "      <td>Canada</td>\n",
              "      <td>North America</td>\n",
              "      <td>73.4</td>\n",
              "      <td>73.4</td>\n",
              "      <td>73.6</td>\n",
              "      <td>73.8</td>\n",
              "      <td>73.9</td>\n",
              "      <td>74.2</td>\n",
              "      <td>74.2</td>\n",
              "      <td>74.1</td>\n",
              "      <td>73</td>\n",
              "      <td>64.7</td>\n",
              "      <td>70.2</td>\n",
              "      <td>72</td>\n",
              "    </tr>\n",
              "    <tr>\n",
              "      <th>4</th>\n",
              "      <td>Chile</td>\n",
              "      <td>South/Central America</td>\n",
              "      <td>64.3</td>\n",
              "      <td>64.3</td>\n",
              "      <td>63.7</td>\n",
              "      <td>64</td>\n",
              "      <td>63.8</td>\n",
              "      <td>64.2</td>\n",
              "      <td>64.4</td>\n",
              "      <td>63.9</td>\n",
              "      <td>63.3</td>\n",
              "      <td>51.2</td>\n",
              "      <td>52.6</td>\n",
              "      <td>56.3</td>\n",
              "    </tr>\n",
              "  </tbody>\n",
              "</table>\n",
              "</div>"
            ],
            "text/plain": [
              "     Country            WorldRegion Q1_Year1  ... Q2_Year3 Q3_Year3 Q4_Year3\n",
              "0  Australia                Oceania     73.7  ...     70.5       72     73.5\n",
              "1    Austria                 Europe     72.8  ...     71.4     72.7         \n",
              "2    Belgium                 Europe     64.1  ...     64.5     64.9         \n",
              "3     Canada          North America     73.4  ...     64.7     70.2       72\n",
              "4      Chile  South/Central America     64.3  ...     51.2     52.6     56.3\n",
              "\n",
              "[5 rows x 14 columns]"
            ]
          },
          "metadata": {
            "tags": []
          },
          "execution_count": 13
        }
      ]
    },
    {
      "cell_type": "markdown",
      "metadata": {
        "id": "jz9lKExMtd3j"
      },
      "source": [
        "The following can be used to rename a column.  The renaming all effects the <strong>output</strong> and not the structure of the table within the database."
      ]
    },
    {
      "cell_type": "code",
      "metadata": {
        "colab": {
          "base_uri": "https://localhost:8080/",
          "height": 198
        },
        "id": "yzUm1bkotd-q",
        "outputId": "aaa9129e-ab57-4c57-d71a-14bcfec3bc40"
      },
      "source": [
        "#Making a connection\r\n",
        "connect_db = sqlite3.connect(\"/content/sample_data/OECD_EmploymentRates.db\")\r\n",
        "\r\n",
        "#SQL Statement\r\n",
        "df = pd.read_sql_query(\r\n",
        "                         \"SELECT WorldRegion AS WorldRegion2 from EmploymentRates\"\r\n",
        "                          , connect_db)\r\n",
        "#Closing a connection\r\n",
        "connect_db.close()\r\n",
        "\r\n",
        "#Using pandas to show output\r\n",
        "df.head()"
      ],
      "execution_count": 15,
      "outputs": [
        {
          "output_type": "execute_result",
          "data": {
            "text/html": [
              "<div>\n",
              "<style scoped>\n",
              "    .dataframe tbody tr th:only-of-type {\n",
              "        vertical-align: middle;\n",
              "    }\n",
              "\n",
              "    .dataframe tbody tr th {\n",
              "        vertical-align: top;\n",
              "    }\n",
              "\n",
              "    .dataframe thead th {\n",
              "        text-align: right;\n",
              "    }\n",
              "</style>\n",
              "<table border=\"1\" class=\"dataframe\">\n",
              "  <thead>\n",
              "    <tr style=\"text-align: right;\">\n",
              "      <th></th>\n",
              "      <th>WorldRegion2</th>\n",
              "    </tr>\n",
              "  </thead>\n",
              "  <tbody>\n",
              "    <tr>\n",
              "      <th>0</th>\n",
              "      <td>Oceania</td>\n",
              "    </tr>\n",
              "    <tr>\n",
              "      <th>1</th>\n",
              "      <td>Europe</td>\n",
              "    </tr>\n",
              "    <tr>\n",
              "      <th>2</th>\n",
              "      <td>Europe</td>\n",
              "    </tr>\n",
              "    <tr>\n",
              "      <th>3</th>\n",
              "      <td>North America</td>\n",
              "    </tr>\n",
              "    <tr>\n",
              "      <th>4</th>\n",
              "      <td>South/Central America</td>\n",
              "    </tr>\n",
              "  </tbody>\n",
              "</table>\n",
              "</div>"
            ],
            "text/plain": [
              "            WorldRegion2\n",
              "0                Oceania\n",
              "1                 Europe\n",
              "2                 Europe\n",
              "3          North America\n",
              "4  South/Central America"
            ]
          },
          "metadata": {
            "tags": []
          },
          "execution_count": 15
        }
      ]
    },
    {
      "cell_type": "markdown",
      "metadata": {
        "id": "5ctqIAR0t00I"
      },
      "source": [
        "The following can be used to summarize a particular column in SQL."
      ]
    },
    {
      "cell_type": "code",
      "metadata": {
        "colab": {
          "base_uri": "https://localhost:8080/",
          "height": 78
        },
        "id": "VQ_oabqrt07K",
        "outputId": "624691a7-5744-4155-a7dc-44dfc43326a3"
      },
      "source": [
        "#Making a connection\r\n",
        "connect_db = sqlite3.connect(\"/content/sample_data/OECD_EmploymentRates.db\")\r\n",
        "\r\n",
        "#SQL Statement\r\n",
        "df = pd.read_sql_query(\r\n",
        "                         \"SELECT Avg(Q1_Year1) AS Q1_Avg from EmploymentRates\"\r\n",
        "                          , connect_db)\r\n",
        "#Closing the connection\r\n",
        "connect_db.close()\r\n",
        "\r\n",
        "#Using pandas to show output\r\n",
        "df.head()"
      ],
      "execution_count": 16,
      "outputs": [
        {
          "output_type": "execute_result",
          "data": {
            "text/html": [
              "<div>\n",
              "<style scoped>\n",
              "    .dataframe tbody tr th:only-of-type {\n",
              "        vertical-align: middle;\n",
              "    }\n",
              "\n",
              "    .dataframe tbody tr th {\n",
              "        vertical-align: top;\n",
              "    }\n",
              "\n",
              "    .dataframe thead th {\n",
              "        text-align: right;\n",
              "    }\n",
              "</style>\n",
              "<table border=\"1\" class=\"dataframe\">\n",
              "  <thead>\n",
              "    <tr style=\"text-align: right;\">\n",
              "      <th></th>\n",
              "      <th>Q1_Avg</th>\n",
              "    </tr>\n",
              "  </thead>\n",
              "  <tbody>\n",
              "    <tr>\n",
              "      <th>0</th>\n",
              "      <td>69.217949</td>\n",
              "    </tr>\n",
              "  </tbody>\n",
              "</table>\n",
              "</div>"
            ],
            "text/plain": [
              "      Q1_Avg\n",
              "0  69.217949"
            ]
          },
          "metadata": {
            "tags": []
          },
          "execution_count": 16
        }
      ]
    }
  ]
}