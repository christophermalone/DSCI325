{
  "nbformat": 4,
  "nbformat_minor": 0,
  "metadata": {
    "colab": {
      "name": "Module1_Part1 .ipynb",
      "provenance": [],
      "toc_visible": true,
      "authorship_tag": "ABX9TyPtWBTQscoBqrgVRf7Y6WuD",
      "include_colab_link": true
    },
    "kernelspec": {
      "name": "ir",
      "display_name": "R"
    }
  },
  "cells": [
    {
      "cell_type": "markdown",
      "metadata": {
        "id": "view-in-github",
        "colab_type": "text"
      },
      "source": [
        "<a href=\"https://colab.research.google.com/github/christophermalone/DSCI325/blob/main/Module1_Part1_.ipynb\" target=\"_parent\"><img src=\"https://colab.research.google.com/assets/colab-badge.svg\" alt=\"Open In Colab\"/></a>"
      ]
    },
    {
      "cell_type": "markdown",
      "metadata": {
        "id": "KhClO9b02SXA"
      },
      "source": [
        "# Module 1 | Part 1: Reading in Data from Current Colab Session"
      ]
    },
    {
      "cell_type": "markdown",
      "metadata": {
        "id": "AXDYLbzK2o7e"
      },
      "source": [
        "There are two steps involved with reading in data from the current colab session.\r\n",
        "\r\n",
        "1.   Upload a copy of the data into the current colab session\r\n",
        "2.   Read the data into R\r\n",
        "\r\n"
      ]
    },
    {
      "cell_type": "markdown",
      "metadata": {
        "id": "njXGRUIC9Lgs"
      },
      "source": [
        "## Uploading Data into Current Colab Session"
      ]
    },
    {
      "cell_type": "markdown",
      "metadata": {
        "id": "3eGZ0aSg_a5K"
      },
      "source": [
        "A colab session is a temporary.  A session opens when a file Notebook is opened and closes upon exising the browser tab."
      ]
    },
    {
      "cell_type": "markdown",
      "metadata": {
        "id": "vpppE9Km9T93"
      },
      "source": [
        "<img src=\"https://drive.google.com/uc?export=view&id=17ozQuchHHuObCsTLmsNArmRhQmV17M6-\"></img>1HiPuxHQx8CukWkvwxXiq9KCpVSgb_goW\r\n"
      ]
    },
    {
      "cell_type": "markdown",
      "metadata": {
        "id": "T8ULLlSnB4tl"
      },
      "source": [
        "<img src=\"https://drive.google.com/uc?export=view&id=1HiPuxHQx8CukWkvwxXiq9KCpVSgb_goW\"></img>"
      ]
    },
    {
      "cell_type": "markdown",
      "metadata": {
        "id": "C5bJzYvpCJiD"
      },
      "source": [
        "Austin Animal Center Outcomes: [Link](https://data.austintexas.gov/Health-and-Community-Services/Austin-Animal-Center-Outcomes/9t4d-g238)"
      ]
    },
    {
      "cell_type": "code",
      "metadata": {
        "colab": {
          "base_uri": "https://localhost:8080/"
        },
        "id": "PlJhfbnzDE8s",
        "outputId": "2191ad43-4a1e-424a-c8e1-0801a387bb43"
      },
      "source": [
        "library(tidyverse)"
      ],
      "execution_count": 2,
      "outputs": [
        {
          "output_type": "stream",
          "text": [
            "── \u001b[1mAttaching packages\u001b[22m ─────────────────────────────────────── tidyverse 1.3.0 ──\n",
            "\n",
            "\u001b[32m✔\u001b[39m \u001b[34mggplot2\u001b[39m 3.3.3     \u001b[32m✔\u001b[39m \u001b[34mpurrr  \u001b[39m 0.3.4\n",
            "\u001b[32m✔\u001b[39m \u001b[34mtibble \u001b[39m 3.0.4     \u001b[32m✔\u001b[39m \u001b[34mdplyr  \u001b[39m 1.0.2\n",
            "\u001b[32m✔\u001b[39m \u001b[34mtidyr  \u001b[39m 1.1.2     \u001b[32m✔\u001b[39m \u001b[34mstringr\u001b[39m 1.4.0\n",
            "\u001b[32m✔\u001b[39m \u001b[34mreadr  \u001b[39m 1.4.0     \u001b[32m✔\u001b[39m \u001b[34mforcats\u001b[39m 0.5.0\n",
            "\n",
            "── \u001b[1mConflicts\u001b[22m ────────────────────────────────────────── tidyverse_conflicts() ──\n",
            "\u001b[31m✖\u001b[39m \u001b[34mdplyr\u001b[39m::\u001b[32mfilter()\u001b[39m masks \u001b[34mstats\u001b[39m::filter()\n",
            "\u001b[31m✖\u001b[39m \u001b[34mdplyr\u001b[39m::\u001b[32mlag()\u001b[39m    masks \u001b[34mstats\u001b[39m::lag()\n",
            "\n"
          ],
          "name": "stderr"
        }
      ]
    },
    {
      "cell_type": "code",
      "metadata": {
        "colab": {
          "base_uri": "https://localhost:8080/"
        },
        "id": "EPzo7XzEDNg0",
        "outputId": "85670437-6fe0-4804-fe0c-7d30b79f1f8c"
      },
      "source": [
        "AustinData <- read_csv(\"/content/sample_data/Austin_Animal_Center_Outcomes.csv\")"
      ],
      "execution_count": 4,
      "outputs": [
        {
          "output_type": "stream",
          "text": [
            "\n",
            "\u001b[36m──\u001b[39m \u001b[1m\u001b[1mColumn specification\u001b[1m\u001b[22m \u001b[36m────────────────────────────────────────────────────────\u001b[39m\n",
            "cols(\n",
            "  `Animal ID` = \u001b[31mcol_character()\u001b[39m,\n",
            "  Name = \u001b[31mcol_character()\u001b[39m,\n",
            "  DateTime = \u001b[31mcol_character()\u001b[39m,\n",
            "  MonthYear = \u001b[31mcol_character()\u001b[39m,\n",
            "  `Date of Birth` = \u001b[31mcol_character()\u001b[39m,\n",
            "  `Outcome Type` = \u001b[31mcol_character()\u001b[39m,\n",
            "  `Outcome Subtype` = \u001b[31mcol_character()\u001b[39m,\n",
            "  `Animal Type` = \u001b[31mcol_character()\u001b[39m,\n",
            "  `Sex upon Outcome` = \u001b[31mcol_character()\u001b[39m,\n",
            "  `Age upon Outcome` = \u001b[31mcol_character()\u001b[39m,\n",
            "  Breed = \u001b[31mcol_character()\u001b[39m,\n",
            "  Color = \u001b[31mcol_character()\u001b[39m\n",
            ")\n",
            "\n",
            "\n"
          ],
          "name": "stderr"
        }
      ]
    },
    {
      "cell_type": "code",
      "metadata": {
        "colab": {
          "base_uri": "https://localhost:8080/",
          "height": 35
        },
        "id": "C85AL2AnDOIr",
        "outputId": "53efb407-9eae-4a2d-de84-6a924c222459"
      },
      "source": [
        "ls()"
      ],
      "execution_count": 6,
      "outputs": [
        {
          "output_type": "display_data",
          "data": {
            "text/plain": [
              "[1] \"AustinData\""
            ],
            "text/latex": "'AustinData'",
            "text/markdown": "'AustinData'",
            "text/html": [
              "'AustinData'"
            ]
          },
          "metadata": {
            "tags": []
          }
        }
      ]
    },
    {
      "cell_type": "code",
      "metadata": {
        "colab": {
          "base_uri": "https://localhost:8080/",
          "height": 325
        },
        "id": "5il13DigDcFT",
        "outputId": "c339a7bc-8ec2-4baa-a4a0-388d234663b7"
      },
      "source": [
        "head(AustinData)"
      ],
      "execution_count": 7,
      "outputs": [
        {
          "output_type": "display_data",
          "data": {
            "text/plain": [
              "  Animal ID Name     DateTime               MonthYear             \n",
              "1 A794011   Chunk    05/08/2019 06:20:00 PM 05/08/2019 06:20:00 PM\n",
              "2 A776359   Gizmo    07/18/2018 04:02:00 PM 07/18/2018 04:02:00 PM\n",
              "3 A821648   NA       08/16/2020 11:38:00 AM 08/16/2020 11:38:00 AM\n",
              "4 A720371   Moose    02/13/2016 05:59:00 PM 02/13/2016 05:59:00 PM\n",
              "5 A674754   NA       03/18/2014 11:47:00 AM 03/18/2014 11:47:00 AM\n",
              "6 A659412   Princess 10/05/2020 02:37:00 PM 10/05/2020 02:37:00 PM\n",
              "  Date of Birth Outcome Type Outcome Subtype Animal Type Sex upon Outcome\n",
              "1 05/02/2017    Rto-Adopt    NA              Cat         Neutered Male   \n",
              "2 07/12/2017    Adoption     NA              Dog         Neutered Male   \n",
              "3 08/16/2019    Euthanasia   NA              Other       Unknown         \n",
              "4 10/08/2015    Adoption     NA              Dog         Neutered Male   \n",
              "5 03/12/2014    Transfer     Partner         Cat         Intact Male     \n",
              "6 03/24/2013    Adoption     NA              Dog         Spayed Female   \n",
              "  Age upon Outcome Breed                              Color            \n",
              "1 2 years          Domestic Shorthair Mix             Brown Tabby/White\n",
              "2 1 year           Chihuahua Shorthair Mix            White/Brown      \n",
              "3 1 year           Raccoon                            Gray             \n",
              "4 4 months         Anatol Shepherd/Labrador Retriever Buff             \n",
              "5 6 days           Domestic Shorthair Mix             Orange Tabby     \n",
              "6 7 years          Chihuahua Shorthair Mix            Brown            "
            ],
            "text/latex": "A tibble: 6 × 12\n\\begin{tabular}{llllllllllll}\n Animal ID & Name & DateTime & MonthYear & Date of Birth & Outcome Type & Outcome Subtype & Animal Type & Sex upon Outcome & Age upon Outcome & Breed & Color\\\\\n <chr> & <chr> & <chr> & <chr> & <chr> & <chr> & <chr> & <chr> & <chr> & <chr> & <chr> & <chr>\\\\\n\\hline\n\t A794011 & Chunk    & 05/08/2019 06:20:00 PM & 05/08/2019 06:20:00 PM & 05/02/2017 & Rto-Adopt  & NA      & Cat   & Neutered Male & 2 years  & Domestic Shorthair Mix             & Brown Tabby/White\\\\\n\t A776359 & Gizmo    & 07/18/2018 04:02:00 PM & 07/18/2018 04:02:00 PM & 07/12/2017 & Adoption   & NA      & Dog   & Neutered Male & 1 year   & Chihuahua Shorthair Mix            & White/Brown      \\\\\n\t A821648 & NA       & 08/16/2020 11:38:00 AM & 08/16/2020 11:38:00 AM & 08/16/2019 & Euthanasia & NA      & Other & Unknown       & 1 year   & Raccoon                            & Gray             \\\\\n\t A720371 & Moose    & 02/13/2016 05:59:00 PM & 02/13/2016 05:59:00 PM & 10/08/2015 & Adoption   & NA      & Dog   & Neutered Male & 4 months & Anatol Shepherd/Labrador Retriever & Buff             \\\\\n\t A674754 & NA       & 03/18/2014 11:47:00 AM & 03/18/2014 11:47:00 AM & 03/12/2014 & Transfer   & Partner & Cat   & Intact Male   & 6 days   & Domestic Shorthair Mix             & Orange Tabby     \\\\\n\t A659412 & Princess & 10/05/2020 02:37:00 PM & 10/05/2020 02:37:00 PM & 03/24/2013 & Adoption   & NA      & Dog   & Spayed Female & 7 years  & Chihuahua Shorthair Mix            & Brown            \\\\\n\\end{tabular}\n",
            "text/markdown": "\nA tibble: 6 × 12\n\n| Animal ID &lt;chr&gt; | Name &lt;chr&gt; | DateTime &lt;chr&gt; | MonthYear &lt;chr&gt; | Date of Birth &lt;chr&gt; | Outcome Type &lt;chr&gt; | Outcome Subtype &lt;chr&gt; | Animal Type &lt;chr&gt; | Sex upon Outcome &lt;chr&gt; | Age upon Outcome &lt;chr&gt; | Breed &lt;chr&gt; | Color &lt;chr&gt; |\n|---|---|---|---|---|---|---|---|---|---|---|---|\n| A794011 | Chunk    | 05/08/2019 06:20:00 PM | 05/08/2019 06:20:00 PM | 05/02/2017 | Rto-Adopt  | NA      | Cat   | Neutered Male | 2 years  | Domestic Shorthair Mix             | Brown Tabby/White |\n| A776359 | Gizmo    | 07/18/2018 04:02:00 PM | 07/18/2018 04:02:00 PM | 07/12/2017 | Adoption   | NA      | Dog   | Neutered Male | 1 year   | Chihuahua Shorthair Mix            | White/Brown       |\n| A821648 | NA       | 08/16/2020 11:38:00 AM | 08/16/2020 11:38:00 AM | 08/16/2019 | Euthanasia | NA      | Other | Unknown       | 1 year   | Raccoon                            | Gray              |\n| A720371 | Moose    | 02/13/2016 05:59:00 PM | 02/13/2016 05:59:00 PM | 10/08/2015 | Adoption   | NA      | Dog   | Neutered Male | 4 months | Anatol Shepherd/Labrador Retriever | Buff              |\n| A674754 | NA       | 03/18/2014 11:47:00 AM | 03/18/2014 11:47:00 AM | 03/12/2014 | Transfer   | Partner | Cat   | Intact Male   | 6 days   | Domestic Shorthair Mix             | Orange Tabby      |\n| A659412 | Princess | 10/05/2020 02:37:00 PM | 10/05/2020 02:37:00 PM | 03/24/2013 | Adoption   | NA      | Dog   | Spayed Female | 7 years  | Chihuahua Shorthair Mix            | Brown             |\n\n",
            "text/html": [
              "<table>\n",
              "<caption>A tibble: 6 × 12</caption>\n",
              "<thead>\n",
              "\t<tr><th scope=col>Animal ID</th><th scope=col>Name</th><th scope=col>DateTime</th><th scope=col>MonthYear</th><th scope=col>Date of Birth</th><th scope=col>Outcome Type</th><th scope=col>Outcome Subtype</th><th scope=col>Animal Type</th><th scope=col>Sex upon Outcome</th><th scope=col>Age upon Outcome</th><th scope=col>Breed</th><th scope=col>Color</th></tr>\n",
              "\t<tr><th scope=col>&lt;chr&gt;</th><th scope=col>&lt;chr&gt;</th><th scope=col>&lt;chr&gt;</th><th scope=col>&lt;chr&gt;</th><th scope=col>&lt;chr&gt;</th><th scope=col>&lt;chr&gt;</th><th scope=col>&lt;chr&gt;</th><th scope=col>&lt;chr&gt;</th><th scope=col>&lt;chr&gt;</th><th scope=col>&lt;chr&gt;</th><th scope=col>&lt;chr&gt;</th><th scope=col>&lt;chr&gt;</th></tr>\n",
              "</thead>\n",
              "<tbody>\n",
              "\t<tr><td>A794011</td><td>Chunk   </td><td>05/08/2019 06:20:00 PM</td><td>05/08/2019 06:20:00 PM</td><td>05/02/2017</td><td>Rto-Adopt </td><td>NA     </td><td>Cat  </td><td>Neutered Male</td><td>2 years </td><td>Domestic Shorthair Mix            </td><td>Brown Tabby/White</td></tr>\n",
              "\t<tr><td>A776359</td><td>Gizmo   </td><td>07/18/2018 04:02:00 PM</td><td>07/18/2018 04:02:00 PM</td><td>07/12/2017</td><td>Adoption  </td><td>NA     </td><td>Dog  </td><td>Neutered Male</td><td>1 year  </td><td>Chihuahua Shorthair Mix           </td><td>White/Brown      </td></tr>\n",
              "\t<tr><td>A821648</td><td>NA      </td><td>08/16/2020 11:38:00 AM</td><td>08/16/2020 11:38:00 AM</td><td>08/16/2019</td><td>Euthanasia</td><td>NA     </td><td>Other</td><td>Unknown      </td><td>1 year  </td><td>Raccoon                           </td><td>Gray             </td></tr>\n",
              "\t<tr><td>A720371</td><td>Moose   </td><td>02/13/2016 05:59:00 PM</td><td>02/13/2016 05:59:00 PM</td><td>10/08/2015</td><td>Adoption  </td><td>NA     </td><td>Dog  </td><td>Neutered Male</td><td>4 months</td><td>Anatol Shepherd/Labrador Retriever</td><td>Buff             </td></tr>\n",
              "\t<tr><td>A674754</td><td>NA      </td><td>03/18/2014 11:47:00 AM</td><td>03/18/2014 11:47:00 AM</td><td>03/12/2014</td><td>Transfer  </td><td>Partner</td><td>Cat  </td><td>Intact Male  </td><td>6 days  </td><td>Domestic Shorthair Mix            </td><td>Orange Tabby     </td></tr>\n",
              "\t<tr><td>A659412</td><td>Princess</td><td>10/05/2020 02:37:00 PM</td><td>10/05/2020 02:37:00 PM</td><td>03/24/2013</td><td>Adoption  </td><td>NA     </td><td>Dog  </td><td>Spayed Female</td><td>7 years </td><td>Chihuahua Shorthair Mix           </td><td>Brown            </td></tr>\n",
              "</tbody>\n",
              "</table>\n"
            ]
          },
          "metadata": {
            "tags": []
          }
        }
      ]
    },
    {
      "cell_type": "code",
      "metadata": {
        "colab": {
          "base_uri": "https://localhost:8080/",
          "height": 325
        },
        "id": "9eq1YKt8DvFG",
        "outputId": "c6737998-68d5-49a3-d003-ea02bc6d531e"
      },
      "source": [
        "tail(AustinData)"
      ],
      "execution_count": 8,
      "outputs": [
        {
          "output_type": "display_data",
          "data": {
            "text/plain": [
              "  Animal ID Name     DateTime               MonthYear             \n",
              "1 A826773   *Nod     01/13/2021 02:20:00 PM 01/13/2021 02:20:00 PM\n",
              "2 A821612   *Brocade 01/13/2021 02:10:00 PM 01/13/2021 02:10:00 PM\n",
              "3 A820541   Ollie    07/22/2020 03:23:00 PM 07/22/2020 03:23:00 PM\n",
              "4 A828206   Baby     01/13/2021 02:31:00 PM 01/13/2021 02:31:00 PM\n",
              "5 A825801   *Hero    01/13/2021 02:07:00 PM 01/13/2021 02:07:00 PM\n",
              "6 A827682   NA       01/13/2021 03:11:00 PM 01/13/2021 03:11:00 PM\n",
              "  Date of Birth Outcome Type    Outcome Subtype Animal Type Sex upon Outcome\n",
              "1 11/05/2020    Adoption        Foster          Cat         Neutered Male   \n",
              "2 07/08/2020    Adoption        Foster          Cat         Neutered Male   \n",
              "3 06/22/2020    Transfer        Partner         Dog         Intact Male     \n",
              "4 07/11/2020    Return to Owner NA              Dog         Intact Female   \n",
              "5 11/12/2011    Adoption        Foster          Dog         Neutered Male   \n",
              "6 12/29/2017    Transfer        Snr             Cat         Neutered Male   \n",
              "  Age upon Outcome Breed                                  Color            \n",
              "1 2 months         Domestic Shorthair                     Brown Tabby/White\n",
              "2 6 months         Domestic Shorthair                     Blue Tabby/White \n",
              "3 4 weeks          Shih Tzu/Chihuahua Shorthair           Brown            \n",
              "4 6 months         Flat Coat Retriever Mix                Black/White      \n",
              "5 9 years          Labrador Retriever/Australian Shepherd Tricolor         \n",
              "6 3 years          Domestic Shorthair                     White            "
            ],
            "text/latex": "A tibble: 6 × 12\n\\begin{tabular}{llllllllllll}\n Animal ID & Name & DateTime & MonthYear & Date of Birth & Outcome Type & Outcome Subtype & Animal Type & Sex upon Outcome & Age upon Outcome & Breed & Color\\\\\n <chr> & <chr> & <chr> & <chr> & <chr> & <chr> & <chr> & <chr> & <chr> & <chr> & <chr> & <chr>\\\\\n\\hline\n\t A826773 & *Nod     & 01/13/2021 02:20:00 PM & 01/13/2021 02:20:00 PM & 11/05/2020 & Adoption        & Foster  & Cat & Neutered Male & 2 months & Domestic Shorthair                     & Brown Tabby/White\\\\\n\t A821612 & *Brocade & 01/13/2021 02:10:00 PM & 01/13/2021 02:10:00 PM & 07/08/2020 & Adoption        & Foster  & Cat & Neutered Male & 6 months & Domestic Shorthair                     & Blue Tabby/White \\\\\n\t A820541 & Ollie    & 07/22/2020 03:23:00 PM & 07/22/2020 03:23:00 PM & 06/22/2020 & Transfer        & Partner & Dog & Intact Male   & 4 weeks  & Shih Tzu/Chihuahua Shorthair           & Brown            \\\\\n\t A828206 & Baby     & 01/13/2021 02:31:00 PM & 01/13/2021 02:31:00 PM & 07/11/2020 & Return to Owner & NA      & Dog & Intact Female & 6 months & Flat Coat Retriever Mix                & Black/White      \\\\\n\t A825801 & *Hero    & 01/13/2021 02:07:00 PM & 01/13/2021 02:07:00 PM & 11/12/2011 & Adoption        & Foster  & Dog & Neutered Male & 9 years  & Labrador Retriever/Australian Shepherd & Tricolor         \\\\\n\t A827682 & NA       & 01/13/2021 03:11:00 PM & 01/13/2021 03:11:00 PM & 12/29/2017 & Transfer        & Snr     & Cat & Neutered Male & 3 years  & Domestic Shorthair                     & White            \\\\\n\\end{tabular}\n",
            "text/markdown": "\nA tibble: 6 × 12\n\n| Animal ID &lt;chr&gt; | Name &lt;chr&gt; | DateTime &lt;chr&gt; | MonthYear &lt;chr&gt; | Date of Birth &lt;chr&gt; | Outcome Type &lt;chr&gt; | Outcome Subtype &lt;chr&gt; | Animal Type &lt;chr&gt; | Sex upon Outcome &lt;chr&gt; | Age upon Outcome &lt;chr&gt; | Breed &lt;chr&gt; | Color &lt;chr&gt; |\n|---|---|---|---|---|---|---|---|---|---|---|---|\n| A826773 | *Nod     | 01/13/2021 02:20:00 PM | 01/13/2021 02:20:00 PM | 11/05/2020 | Adoption        | Foster  | Cat | Neutered Male | 2 months | Domestic Shorthair                     | Brown Tabby/White |\n| A821612 | *Brocade | 01/13/2021 02:10:00 PM | 01/13/2021 02:10:00 PM | 07/08/2020 | Adoption        | Foster  | Cat | Neutered Male | 6 months | Domestic Shorthair                     | Blue Tabby/White  |\n| A820541 | Ollie    | 07/22/2020 03:23:00 PM | 07/22/2020 03:23:00 PM | 06/22/2020 | Transfer        | Partner | Dog | Intact Male   | 4 weeks  | Shih Tzu/Chihuahua Shorthair           | Brown             |\n| A828206 | Baby     | 01/13/2021 02:31:00 PM | 01/13/2021 02:31:00 PM | 07/11/2020 | Return to Owner | NA      | Dog | Intact Female | 6 months | Flat Coat Retriever Mix                | Black/White       |\n| A825801 | *Hero    | 01/13/2021 02:07:00 PM | 01/13/2021 02:07:00 PM | 11/12/2011 | Adoption        | Foster  | Dog | Neutered Male | 9 years  | Labrador Retriever/Australian Shepherd | Tricolor          |\n| A827682 | NA       | 01/13/2021 03:11:00 PM | 01/13/2021 03:11:00 PM | 12/29/2017 | Transfer        | Snr     | Cat | Neutered Male | 3 years  | Domestic Shorthair                     | White             |\n\n",
            "text/html": [
              "<table>\n",
              "<caption>A tibble: 6 × 12</caption>\n",
              "<thead>\n",
              "\t<tr><th scope=col>Animal ID</th><th scope=col>Name</th><th scope=col>DateTime</th><th scope=col>MonthYear</th><th scope=col>Date of Birth</th><th scope=col>Outcome Type</th><th scope=col>Outcome Subtype</th><th scope=col>Animal Type</th><th scope=col>Sex upon Outcome</th><th scope=col>Age upon Outcome</th><th scope=col>Breed</th><th scope=col>Color</th></tr>\n",
              "\t<tr><th scope=col>&lt;chr&gt;</th><th scope=col>&lt;chr&gt;</th><th scope=col>&lt;chr&gt;</th><th scope=col>&lt;chr&gt;</th><th scope=col>&lt;chr&gt;</th><th scope=col>&lt;chr&gt;</th><th scope=col>&lt;chr&gt;</th><th scope=col>&lt;chr&gt;</th><th scope=col>&lt;chr&gt;</th><th scope=col>&lt;chr&gt;</th><th scope=col>&lt;chr&gt;</th><th scope=col>&lt;chr&gt;</th></tr>\n",
              "</thead>\n",
              "<tbody>\n",
              "\t<tr><td>A826773</td><td>*Nod    </td><td>01/13/2021 02:20:00 PM</td><td>01/13/2021 02:20:00 PM</td><td>11/05/2020</td><td>Adoption       </td><td>Foster </td><td>Cat</td><td>Neutered Male</td><td>2 months</td><td>Domestic Shorthair                    </td><td>Brown Tabby/White</td></tr>\n",
              "\t<tr><td>A821612</td><td>*Brocade</td><td>01/13/2021 02:10:00 PM</td><td>01/13/2021 02:10:00 PM</td><td>07/08/2020</td><td>Adoption       </td><td>Foster </td><td>Cat</td><td>Neutered Male</td><td>6 months</td><td>Domestic Shorthair                    </td><td>Blue Tabby/White </td></tr>\n",
              "\t<tr><td>A820541</td><td>Ollie   </td><td>07/22/2020 03:23:00 PM</td><td>07/22/2020 03:23:00 PM</td><td>06/22/2020</td><td>Transfer       </td><td>Partner</td><td>Dog</td><td>Intact Male  </td><td>4 weeks </td><td>Shih Tzu/Chihuahua Shorthair          </td><td>Brown            </td></tr>\n",
              "\t<tr><td>A828206</td><td>Baby    </td><td>01/13/2021 02:31:00 PM</td><td>01/13/2021 02:31:00 PM</td><td>07/11/2020</td><td>Return to Owner</td><td>NA     </td><td>Dog</td><td>Intact Female</td><td>6 months</td><td>Flat Coat Retriever Mix               </td><td>Black/White      </td></tr>\n",
              "\t<tr><td>A825801</td><td>*Hero   </td><td>01/13/2021 02:07:00 PM</td><td>01/13/2021 02:07:00 PM</td><td>11/12/2011</td><td>Adoption       </td><td>Foster </td><td>Dog</td><td>Neutered Male</td><td>9 years </td><td>Labrador Retriever/Australian Shepherd</td><td>Tricolor         </td></tr>\n",
              "\t<tr><td>A827682</td><td>NA      </td><td>01/13/2021 03:11:00 PM</td><td>01/13/2021 03:11:00 PM</td><td>12/29/2017</td><td>Transfer       </td><td>Snr    </td><td>Cat</td><td>Neutered Male</td><td>3 years </td><td>Domestic Shorthair                    </td><td>White            </td></tr>\n",
              "</tbody>\n",
              "</table>\n"
            ]
          },
          "metadata": {
            "tags": []
          }
        }
      ]
    },
    {
      "cell_type": "code",
      "metadata": {
        "colab": {
          "base_uri": "https://localhost:8080/",
          "height": 35
        },
        "id": "Z-ThB7wpDy_k",
        "outputId": "3abcbe9e-f3df-44ed-f65b-700a479aaaf6"
      },
      "source": [
        "dim(AustinData)"
      ],
      "execution_count": 9,
      "outputs": [
        {
          "output_type": "display_data",
          "data": {
            "text/plain": [
              "[1] 123591     12"
            ],
            "text/latex": "\\begin{enumerate*}\n\\item 123591\n\\item 12\n\\end{enumerate*}\n",
            "text/markdown": "1. 123591\n2. 12\n\n\n",
            "text/html": [
              "<style>\n",
              ".list-inline {list-style: none; margin:0; padding: 0}\n",
              ".list-inline>li {display: inline-block}\n",
              ".list-inline>li:not(:last-child)::after {content: \"\\00b7\"; padding: 0 .5ex}\n",
              "</style>\n",
              "<ol class=list-inline><li>123591</li><li>12</li></ol>\n"
            ]
          },
          "metadata": {
            "tags": []
          }
        }
      ]
    },
    {
      "cell_type": "code",
      "metadata": {
        "id": "-Adb1sdaD-CN"
      },
      "source": [
        "AustinData"
      ],
      "execution_count": null,
      "outputs": []
    },
    {
      "cell_type": "code",
      "metadata": {
        "colab": {
          "base_uri": "https://localhost:8080/",
          "height": 35
        },
        "id": "JY1Y3nBnEkG0",
        "outputId": "2ad5c610-9363-4dba-8e2c-20478d4238a4"
      },
      "source": [
        "nrow(AustinData)"
      ],
      "execution_count": 14,
      "outputs": [
        {
          "output_type": "display_data",
          "data": {
            "text/plain": [
              "[1] 123591"
            ],
            "text/latex": "123591",
            "text/markdown": "123591",
            "text/html": [
              "123591"
            ]
          },
          "metadata": {
            "tags": []
          }
        }
      ]
    },
    {
      "cell_type": "code",
      "metadata": {
        "colab": {
          "base_uri": "https://localhost:8080/",
          "height": 35
        },
        "id": "kEYrlC78Eses",
        "outputId": "33197f27-fd56-4f98-c326-f9e15c708c53"
      },
      "source": [
        "ncol(AustinData)"
      ],
      "execution_count": 15,
      "outputs": [
        {
          "output_type": "display_data",
          "data": {
            "text/plain": [
              "[1] 12"
            ],
            "text/latex": "12",
            "text/markdown": "12",
            "text/html": [
              "12"
            ]
          },
          "metadata": {
            "tags": []
          }
        }
      ]
    },
    {
      "cell_type": "code",
      "metadata": {
        "colab": {
          "base_uri": "https://localhost:8080/"
        },
        "id": "q0yJbaROFRPM",
        "outputId": "a6e2e0a4-bf01-41d7-8e80-a4ef620f03fb"
      },
      "source": [
        "str(AustinData)"
      ],
      "execution_count": 16,
      "outputs": [
        {
          "output_type": "stream",
          "text": [
            "tibble [123,591 × 12] (S3: spec_tbl_df/tbl_df/tbl/data.frame)\n",
            " $ Animal ID       : chr [1:123591] \"A794011\" \"A776359\" \"A821648\" \"A720371\" ...\n",
            " $ Name            : chr [1:123591] \"Chunk\" \"Gizmo\" NA \"Moose\" ...\n",
            " $ DateTime        : chr [1:123591] \"05/08/2019 06:20:00 PM\" \"07/18/2018 04:02:00 PM\" \"08/16/2020 11:38:00 AM\" \"02/13/2016 05:59:00 PM\" ...\n",
            " $ MonthYear       : chr [1:123591] \"05/08/2019 06:20:00 PM\" \"07/18/2018 04:02:00 PM\" \"08/16/2020 11:38:00 AM\" \"02/13/2016 05:59:00 PM\" ...\n",
            " $ Date of Birth   : chr [1:123591] \"05/02/2017\" \"07/12/2017\" \"08/16/2019\" \"10/08/2015\" ...\n",
            " $ Outcome Type    : chr [1:123591] \"Rto-Adopt\" \"Adoption\" \"Euthanasia\" \"Adoption\" ...\n",
            " $ Outcome Subtype : chr [1:123591] NA NA NA NA ...\n",
            " $ Animal Type     : chr [1:123591] \"Cat\" \"Dog\" \"Other\" \"Dog\" ...\n",
            " $ Sex upon Outcome: chr [1:123591] \"Neutered Male\" \"Neutered Male\" \"Unknown\" \"Neutered Male\" ...\n",
            " $ Age upon Outcome: chr [1:123591] \"2 years\" \"1 year\" \"1 year\" \"4 months\" ...\n",
            " $ Breed           : chr [1:123591] \"Domestic Shorthair Mix\" \"Chihuahua Shorthair Mix\" \"Raccoon\" \"Anatol Shepherd/Labrador Retriever\" ...\n",
            " $ Color           : chr [1:123591] \"Brown Tabby/White\" \"White/Brown\" \"Gray\" \"Buff\" ...\n",
            " - attr(*, \"spec\")=\n",
            "  .. cols(\n",
            "  ..   `Animal ID` = \u001b[31mcol_character()\u001b[39m,\n",
            "  ..   Name = \u001b[31mcol_character()\u001b[39m,\n",
            "  ..   DateTime = \u001b[31mcol_character()\u001b[39m,\n",
            "  ..   MonthYear = \u001b[31mcol_character()\u001b[39m,\n",
            "  ..   `Date of Birth` = \u001b[31mcol_character()\u001b[39m,\n",
            "  ..   `Outcome Type` = \u001b[31mcol_character()\u001b[39m,\n",
            "  ..   `Outcome Subtype` = \u001b[31mcol_character()\u001b[39m,\n",
            "  ..   `Animal Type` = \u001b[31mcol_character()\u001b[39m,\n",
            "  ..   `Sex upon Outcome` = \u001b[31mcol_character()\u001b[39m,\n",
            "  ..   `Age upon Outcome` = \u001b[31mcol_character()\u001b[39m,\n",
            "  ..   Breed = \u001b[31mcol_character()\u001b[39m,\n",
            "  ..   Color = \u001b[31mcol_character()\u001b[39m\n",
            "  .. )\n"
          ],
          "name": "stdout"
        }
      ]
    },
    {
      "cell_type": "code",
      "metadata": {
        "id": "-Bl0llUWFch0"
      },
      "source": [
        "AustinData2 <- read.csv(\"/content/sample_data/Austin_Animal_Center_Outcomes.csv\")"
      ],
      "execution_count": 17,
      "outputs": []
    },
    {
      "cell_type": "code",
      "metadata": {
        "colab": {
          "base_uri": "https://localhost:8080/"
        },
        "id": "xm5P7KE3FkiM",
        "outputId": "7adc223d-f823-4ad9-d82f-b91759c7c1ef"
      },
      "source": [
        "str(AustinData2)"
      ],
      "execution_count": 18,
      "outputs": [
        {
          "output_type": "stream",
          "text": [
            "'data.frame':\t123591 obs. of  12 variables:\n",
            " $ Animal.ID       : chr  \"A794011\" \"A776359\" \"A821648\" \"A720371\" ...\n",
            " $ Name            : chr  \"Chunk\" \"Gizmo\" \"\" \"Moose\" ...\n",
            " $ DateTime        : chr  \"05/08/2019 06:20:00 PM\" \"07/18/2018 04:02:00 PM\" \"08/16/2020 11:38:00 AM\" \"02/13/2016 05:59:00 PM\" ...\n",
            " $ MonthYear       : chr  \"05/08/2019 06:20:00 PM\" \"07/18/2018 04:02:00 PM\" \"08/16/2020 11:38:00 AM\" \"02/13/2016 05:59:00 PM\" ...\n",
            " $ Date.of.Birth   : chr  \"05/02/2017\" \"07/12/2017\" \"08/16/2019\" \"10/08/2015\" ...\n",
            " $ Outcome.Type    : chr  \"Rto-Adopt\" \"Adoption\" \"Euthanasia\" \"Adoption\" ...\n",
            " $ Outcome.Subtype : chr  \"\" \"\" \"\" \"\" ...\n",
            " $ Animal.Type     : chr  \"Cat\" \"Dog\" \"Other\" \"Dog\" ...\n",
            " $ Sex.upon.Outcome: chr  \"Neutered Male\" \"Neutered Male\" \"Unknown\" \"Neutered Male\" ...\n",
            " $ Age.upon.Outcome: chr  \"2 years\" \"1 year\" \"1 year\" \"4 months\" ...\n",
            " $ Breed           : chr  \"Domestic Shorthair Mix\" \"Chihuahua Shorthair Mix\" \"Raccoon\" \"Anatol Shepherd/Labrador Retriever\" ...\n",
            " $ Color           : chr  \"Brown Tabby/White\" \"White/Brown\" \"Gray\" \"Buff\" ...\n"
          ],
          "name": "stdout"
        }
      ]
    },
    {
      "cell_type": "code",
      "metadata": {
        "colab": {
          "base_uri": "https://localhost:8080/",
          "height": 219
        },
        "id": "TIlkhUn9FuKc",
        "outputId": "87f203d0-e923-4dba-c3b3-f45c72290f5b"
      },
      "source": [
        "group.type <- dplyr::group_by(AustinData,`Animal Type`)\r\n",
        "dplyr::summarise(group.type,Count=n())"
      ],
      "execution_count": 20,
      "outputs": [
        {
          "output_type": "stream",
          "text": [
            "`summarise()` ungrouping output (override with `.groups` argument)\n",
            "\n"
          ],
          "name": "stderr"
        },
        {
          "output_type": "display_data",
          "data": {
            "text/plain": [
              "  Animal Type Count\n",
              "1 Bird          581\n",
              "2 Cat         46495\n",
              "3 Dog         69946\n",
              "4 Livestock      20\n",
              "5 Other        6549"
            ],
            "text/latex": "A tibble: 5 × 2\n\\begin{tabular}{ll}\n Animal Type & Count\\\\\n <chr> & <int>\\\\\n\\hline\n\t Bird      &   581\\\\\n\t Cat       & 46495\\\\\n\t Dog       & 69946\\\\\n\t Livestock &    20\\\\\n\t Other     &  6549\\\\\n\\end{tabular}\n",
            "text/markdown": "\nA tibble: 5 × 2\n\n| Animal Type &lt;chr&gt; | Count &lt;int&gt; |\n|---|---|\n| Bird      |   581 |\n| Cat       | 46495 |\n| Dog       | 69946 |\n| Livestock |    20 |\n| Other     |  6549 |\n\n",
            "text/html": [
              "<table>\n",
              "<caption>A tibble: 5 × 2</caption>\n",
              "<thead>\n",
              "\t<tr><th scope=col>Animal Type</th><th scope=col>Count</th></tr>\n",
              "\t<tr><th scope=col>&lt;chr&gt;</th><th scope=col>&lt;int&gt;</th></tr>\n",
              "</thead>\n",
              "<tbody>\n",
              "\t<tr><td>Bird     </td><td>  581</td></tr>\n",
              "\t<tr><td>Cat      </td><td>46495</td></tr>\n",
              "\t<tr><td>Dog      </td><td>69946</td></tr>\n",
              "\t<tr><td>Livestock</td><td>   20</td></tr>\n",
              "\t<tr><td>Other    </td><td> 6549</td></tr>\n",
              "</tbody>\n",
              "</table>\n"
            ]
          },
          "metadata": {
            "tags": []
          }
        }
      ]
    }
  ]
}