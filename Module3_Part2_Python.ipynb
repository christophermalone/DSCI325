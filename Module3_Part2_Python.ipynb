{
  "nbformat": 4,
  "nbformat_minor": 0,
  "metadata": {
    "colab": {
      "name": "Module3_Part2_Python.ipynb",
      "provenance": [],
      "collapsed_sections": [],
      "authorship_tag": "ABX9TyOepJnoALyChKM2vCT+C8fW",
      "include_colab_link": true
    },
    "kernelspec": {
      "name": "python3",
      "display_name": "Python 3"
    }
  },
  "cells": [
    {
      "cell_type": "markdown",
      "metadata": {
        "id": "view-in-github",
        "colab_type": "text"
      },
      "source": [
        "<a href=\"https://colab.research.google.com/github/christophermalone/DSCI325/blob/main/Module3_Part2_Python.ipynb\" target=\"_parent\"><img src=\"https://colab.research.google.com/assets/colab-badge.svg\" alt=\"Open In Colab\"/></a>"
      ]
    },
    {
      "cell_type": "markdown",
      "metadata": {
        "id": "vsKS8UWN9bil"
      },
      "source": [
        "# Module 3 | Part 2 | Python: Data Verb - FILTER()"
      ]
    },
    {
      "cell_type": "markdown",
      "metadata": {
        "id": "Q15v4Jwh9sEj"
      },
      "source": [
        "<table width='100%' ><tr><td bgcolor='green'></td></tr></table>\n",
        "\n",
        "### Example 3.2.P\n",
        "For this notebook, we will consider airline data from the Bureau of Transportation.  Using the form provided on their website, one is able to obtain a variety of information around flight delays.\n",
        " \n",
        "\n",
        "The following 17 fields will be considered here:\n",
        "\n",
        "*   Day Information: DAY_OF_MONTH, DAY_OF_WEEK\n",
        "*   Origin Information: ORIGIN, ORIGIN_STATE\n",
        "*   Destination Information: DEST, DEST_STATE\n",
        "*   Departure Information: DEP_TIME, DEP_DELAY, DEP_DELAY15, \n",
        "*   Arrival Information: ARR_TIME, ARR_DELAY, ARR_DEL15, \n",
        "*   Reason for Delay: CARRIER_DELAY, WEATHER_DELAY, NAS_DELAY, SECURITY_DELAY, LATE_AIRCRAFT_DELAY\n",
        "\n",
        "\n",
        "<br>Data Source:  https://www.transtats.bts.gov/DL_SelectFields.asp?gnoyr_VQ=FGJ&QO_fu146_anzr=b0-gvzr\n",
        "\n",
        "<table width='100%' ><tr><td bgcolor='green'></td></tr></table>\n"
      ]
    },
    {
      "cell_type": "markdown",
      "metadata": {
        "id": "E1y8tAbk98p0"
      },
      "source": [
        "The following command will import the <strong>pandas</strong> package. The local name for the pandas suite of functions is pd here."
      ]
    },
    {
      "cell_type": "code",
      "metadata": {
        "id": "hOHB_NGp9bqL"
      },
      "source": [
        "import pandas as pd"
      ],
      "execution_count": 40,
      "outputs": []
    },
    {
      "cell_type": "markdown",
      "metadata": {
        "id": "Cc6dy0a_9bx7"
      },
      "source": [
        "Next, read the Ontime_Reporting.csv file into Python."
      ]
    },
    {
      "cell_type": "code",
      "metadata": {
        "id": "cf4YZ7Kf9b5b"
      },
      "source": [
        "OnTime = pd.read_csv(\"/content/sample_data/OnTime_Reporting.csv\", index_col=False) "
      ],
      "execution_count": 41,
      "outputs": []
    },
    {
      "cell_type": "markdown",
      "metadata": {
        "id": "So63BER69lDt"
      },
      "source": [
        "Using the head() function to display the first few rows of this dataframe."
      ]
    },
    {
      "cell_type": "code",
      "metadata": {
        "colab": {
          "base_uri": "https://localhost:8080/",
          "height": 270
        },
        "id": "d7t0a5C7-qMe",
        "outputId": "5af3456e-a1e1-4b74-8b2e-3f8f1d0d8ca6"
      },
      "source": [
        "OnTime.head()"
      ],
      "execution_count": 42,
      "outputs": [
        {
          "output_type": "execute_result",
          "data": {
            "text/html": [
              "\n",
              "  <div id=\"df-f81342c8-ff28-44bc-861f-ed71122cf68e\">\n",
              "    <div class=\"colab-df-container\">\n",
              "      <div>\n",
              "<style scoped>\n",
              "    .dataframe tbody tr th:only-of-type {\n",
              "        vertical-align: middle;\n",
              "    }\n",
              "\n",
              "    .dataframe tbody tr th {\n",
              "        vertical-align: top;\n",
              "    }\n",
              "\n",
              "    .dataframe thead th {\n",
              "        text-align: right;\n",
              "    }\n",
              "</style>\n",
              "<table border=\"1\" class=\"dataframe\">\n",
              "  <thead>\n",
              "    <tr style=\"text-align: right;\">\n",
              "      <th></th>\n",
              "      <th>DAY_OF_MONTH</th>\n",
              "      <th>DAY_OF_WEEK</th>\n",
              "      <th>ORIGIN</th>\n",
              "      <th>ORIGIN_STATE_ABR</th>\n",
              "      <th>DEST</th>\n",
              "      <th>DEST_STATE_ABR</th>\n",
              "      <th>DEP_TIME</th>\n",
              "      <th>DEP_DELAY</th>\n",
              "      <th>DEP_DEL15</th>\n",
              "      <th>ARR_TIME</th>\n",
              "      <th>ARR_DELAY</th>\n",
              "      <th>ARR_DEL15</th>\n",
              "      <th>CARRIER_DELAY</th>\n",
              "      <th>WEATHER_DELAY</th>\n",
              "      <th>NAS_DELAY</th>\n",
              "      <th>SECURITY_DELAY</th>\n",
              "      <th>LATE_AIRCRAFT_DELAY</th>\n",
              "    </tr>\n",
              "  </thead>\n",
              "  <tbody>\n",
              "    <tr>\n",
              "      <th>0</th>\n",
              "      <td>1</td>\n",
              "      <td>1</td>\n",
              "      <td>SEA</td>\n",
              "      <td>WA</td>\n",
              "      <td>YKM</td>\n",
              "      <td>WA</td>\n",
              "      <td>1258.0</td>\n",
              "      <td>-2.0</td>\n",
              "      <td>0.0</td>\n",
              "      <td>1346.0</td>\n",
              "      <td>-9.0</td>\n",
              "      <td>0.0</td>\n",
              "      <td>NaN</td>\n",
              "      <td>NaN</td>\n",
              "      <td>NaN</td>\n",
              "      <td>NaN</td>\n",
              "      <td>NaN</td>\n",
              "    </tr>\n",
              "    <tr>\n",
              "      <th>1</th>\n",
              "      <td>1</td>\n",
              "      <td>1</td>\n",
              "      <td>BOI</td>\n",
              "      <td>ID</td>\n",
              "      <td>SEA</td>\n",
              "      <td>WA</td>\n",
              "      <td>1536.0</td>\n",
              "      <td>-9.0</td>\n",
              "      <td>0.0</td>\n",
              "      <td>1621.0</td>\n",
              "      <td>-14.0</td>\n",
              "      <td>0.0</td>\n",
              "      <td>NaN</td>\n",
              "      <td>NaN</td>\n",
              "      <td>NaN</td>\n",
              "      <td>NaN</td>\n",
              "      <td>NaN</td>\n",
              "    </tr>\n",
              "    <tr>\n",
              "      <th>2</th>\n",
              "      <td>1</td>\n",
              "      <td>1</td>\n",
              "      <td>SEA</td>\n",
              "      <td>WA</td>\n",
              "      <td>YKM</td>\n",
              "      <td>WA</td>\n",
              "      <td>2308.0</td>\n",
              "      <td>-4.0</td>\n",
              "      <td>0.0</td>\n",
              "      <td>5.0</td>\n",
              "      <td>8.0</td>\n",
              "      <td>0.0</td>\n",
              "      <td>NaN</td>\n",
              "      <td>NaN</td>\n",
              "      <td>NaN</td>\n",
              "      <td>NaN</td>\n",
              "      <td>NaN</td>\n",
              "    </tr>\n",
              "    <tr>\n",
              "      <th>3</th>\n",
              "      <td>1</td>\n",
              "      <td>1</td>\n",
              "      <td>YKM</td>\n",
              "      <td>WA</td>\n",
              "      <td>SEA</td>\n",
              "      <td>WA</td>\n",
              "      <td>526.0</td>\n",
              "      <td>-4.0</td>\n",
              "      <td>0.0</td>\n",
              "      <td>601.0</td>\n",
              "      <td>-9.0</td>\n",
              "      <td>0.0</td>\n",
              "      <td>NaN</td>\n",
              "      <td>NaN</td>\n",
              "      <td>NaN</td>\n",
              "      <td>NaN</td>\n",
              "      <td>NaN</td>\n",
              "    </tr>\n",
              "    <tr>\n",
              "      <th>4</th>\n",
              "      <td>1</td>\n",
              "      <td>1</td>\n",
              "      <td>IDA</td>\n",
              "      <td>ID</td>\n",
              "      <td>SEA</td>\n",
              "      <td>WA</td>\n",
              "      <td>902.0</td>\n",
              "      <td>2.0</td>\n",
              "      <td>0.0</td>\n",
              "      <td>1048.0</td>\n",
              "      <td>28.0</td>\n",
              "      <td>1.0</td>\n",
              "      <td>0.0</td>\n",
              "      <td>0.0</td>\n",
              "      <td>28.0</td>\n",
              "      <td>0.0</td>\n",
              "      <td>0.0</td>\n",
              "    </tr>\n",
              "  </tbody>\n",
              "</table>\n",
              "</div>\n",
              "      <button class=\"colab-df-convert\" onclick=\"convertToInteractive('df-f81342c8-ff28-44bc-861f-ed71122cf68e')\"\n",
              "              title=\"Convert this dataframe to an interactive table.\"\n",
              "              style=\"display:none;\">\n",
              "        \n",
              "  <svg xmlns=\"http://www.w3.org/2000/svg\" height=\"24px\"viewBox=\"0 0 24 24\"\n",
              "       width=\"24px\">\n",
              "    <path d=\"M0 0h24v24H0V0z\" fill=\"none\"/>\n",
              "    <path d=\"M18.56 5.44l.94 2.06.94-2.06 2.06-.94-2.06-.94-.94-2.06-.94 2.06-2.06.94zm-11 1L8.5 8.5l.94-2.06 2.06-.94-2.06-.94L8.5 2.5l-.94 2.06-2.06.94zm10 10l.94 2.06.94-2.06 2.06-.94-2.06-.94-.94-2.06-.94 2.06-2.06.94z\"/><path d=\"M17.41 7.96l-1.37-1.37c-.4-.4-.92-.59-1.43-.59-.52 0-1.04.2-1.43.59L10.3 9.45l-7.72 7.72c-.78.78-.78 2.05 0 2.83L4 21.41c.39.39.9.59 1.41.59.51 0 1.02-.2 1.41-.59l7.78-7.78 2.81-2.81c.8-.78.8-2.07 0-2.86zM5.41 20L4 18.59l7.72-7.72 1.47 1.35L5.41 20z\"/>\n",
              "  </svg>\n",
              "      </button>\n",
              "      \n",
              "  <style>\n",
              "    .colab-df-container {\n",
              "      display:flex;\n",
              "      flex-wrap:wrap;\n",
              "      gap: 12px;\n",
              "    }\n",
              "\n",
              "    .colab-df-convert {\n",
              "      background-color: #E8F0FE;\n",
              "      border: none;\n",
              "      border-radius: 50%;\n",
              "      cursor: pointer;\n",
              "      display: none;\n",
              "      fill: #1967D2;\n",
              "      height: 32px;\n",
              "      padding: 0 0 0 0;\n",
              "      width: 32px;\n",
              "    }\n",
              "\n",
              "    .colab-df-convert:hover {\n",
              "      background-color: #E2EBFA;\n",
              "      box-shadow: 0px 1px 2px rgba(60, 64, 67, 0.3), 0px 1px 3px 1px rgba(60, 64, 67, 0.15);\n",
              "      fill: #174EA6;\n",
              "    }\n",
              "\n",
              "    [theme=dark] .colab-df-convert {\n",
              "      background-color: #3B4455;\n",
              "      fill: #D2E3FC;\n",
              "    }\n",
              "\n",
              "    [theme=dark] .colab-df-convert:hover {\n",
              "      background-color: #434B5C;\n",
              "      box-shadow: 0px 1px 3px 1px rgba(0, 0, 0, 0.15);\n",
              "      filter: drop-shadow(0px 1px 2px rgba(0, 0, 0, 0.3));\n",
              "      fill: #FFFFFF;\n",
              "    }\n",
              "  </style>\n",
              "\n",
              "      <script>\n",
              "        const buttonEl =\n",
              "          document.querySelector('#df-f81342c8-ff28-44bc-861f-ed71122cf68e button.colab-df-convert');\n",
              "        buttonEl.style.display =\n",
              "          google.colab.kernel.accessAllowed ? 'block' : 'none';\n",
              "\n",
              "        async function convertToInteractive(key) {\n",
              "          const element = document.querySelector('#df-f81342c8-ff28-44bc-861f-ed71122cf68e');\n",
              "          const dataTable =\n",
              "            await google.colab.kernel.invokeFunction('convertToInteractive',\n",
              "                                                     [key], {});\n",
              "          if (!dataTable) return;\n",
              "\n",
              "          const docLinkHtml = 'Like what you see? Visit the ' +\n",
              "            '<a target=\"_blank\" href=https://colab.research.google.com/notebooks/data_table.ipynb>data table notebook</a>'\n",
              "            + ' to learn more about interactive tables.';\n",
              "          element.innerHTML = '';\n",
              "          dataTable['output_type'] = 'display_data';\n",
              "          await google.colab.output.renderOutput(dataTable, element);\n",
              "          const docLink = document.createElement('div');\n",
              "          docLink.innerHTML = docLinkHtml;\n",
              "          element.appendChild(docLink);\n",
              "        }\n",
              "      </script>\n",
              "    </div>\n",
              "  </div>\n",
              "  "
            ],
            "text/plain": [
              "   DAY_OF_MONTH  DAY_OF_WEEK  ... SECURITY_DELAY LATE_AIRCRAFT_DELAY\n",
              "0             1            1  ...            NaN                 NaN\n",
              "1             1            1  ...            NaN                 NaN\n",
              "2             1            1  ...            NaN                 NaN\n",
              "3             1            1  ...            NaN                 NaN\n",
              "4             1            1  ...            0.0                 0.0\n",
              "\n",
              "[5 rows x 17 columns]"
            ]
          },
          "metadata": {},
          "execution_count": 42
        }
      ]
    },
    {
      "cell_type": "markdown",
      "metadata": {
        "id": "2jUsi1Yo_Xi3"
      },
      "source": [
        "Using the <strong>info()</strong> method or function to identify the structure of the dataframe."
      ]
    },
    {
      "cell_type": "code",
      "metadata": {
        "colab": {
          "base_uri": "https://localhost:8080/"
        },
        "id": "6sgJpB9x_XpD",
        "outputId": "569196ee-9b35-4375-e74b-8c9a0619b120"
      },
      "source": [
        "OnTime.info()"
      ],
      "execution_count": 43,
      "outputs": [
        {
          "output_type": "stream",
          "name": "stdout",
          "text": [
            "<class 'pandas.core.frame.DataFrame'>\n",
            "RangeIndex: 547559 entries, 0 to 547558\n",
            "Data columns (total 17 columns):\n",
            " #   Column               Non-Null Count   Dtype  \n",
            "---  ------               --------------   -----  \n",
            " 0   DAY_OF_MONTH         547559 non-null  int64  \n",
            " 1   DAY_OF_WEEK          547559 non-null  int64  \n",
            " 2   ORIGIN               547559 non-null  object \n",
            " 3   ORIGIN_STATE_ABR     547559 non-null  object \n",
            " 4   DEST                 547559 non-null  object \n",
            " 5   DEST_STATE_ABR       547559 non-null  object \n",
            " 6   DEP_TIME             544272 non-null  float64\n",
            " 7   DEP_DELAY            544263 non-null  float64\n",
            " 8   DEP_DEL15            544263 non-null  float64\n",
            " 9   ARR_TIME             543991 non-null  float64\n",
            " 10  ARR_DELAY            543401 non-null  float64\n",
            " 11  ARR_DEL15            543401 non-null  float64\n",
            " 12  CARRIER_DELAY        81673 non-null   float64\n",
            " 13  WEATHER_DELAY        81673 non-null   float64\n",
            " 14  NAS_DELAY            81673 non-null   float64\n",
            " 15  SECURITY_DELAY       81673 non-null   float64\n",
            " 16  LATE_AIRCRAFT_DELAY  81673 non-null   float64\n",
            "dtypes: float64(11), int64(2), object(4)\n",
            "memory usage: 71.0+ MB\n"
          ]
        }
      ]
    },
    {
      "cell_type": "markdown",
      "metadata": {
        "id": "B_qM8hYNANL2"
      },
      "source": [
        "Using the <strong>shape</strong> attribute to identify the number of rows and columns in the dataframe. "
      ]
    },
    {
      "cell_type": "code",
      "metadata": {
        "colab": {
          "base_uri": "https://localhost:8080/"
        },
        "id": "lruM5gBMANRh",
        "outputId": "bbf7b312-177a-449b-f6d7-69c2b17074a3"
      },
      "source": [
        "OnTime.shape"
      ],
      "execution_count": 44,
      "outputs": [
        {
          "output_type": "execute_result",
          "data": {
            "text/plain": [
              "(547559, 17)"
            ]
          },
          "metadata": {},
          "execution_count": 44
        }
      ]
    },
    {
      "cell_type": "markdown",
      "metadata": {
        "id": "Ob4vbMnZA93Z"
      },
      "source": [
        "# Using dfply package"
      ]
    },
    {
      "cell_type": "markdown",
      "metadata": {
        "id": "Hue7Ao81BBpw"
      },
      "source": [
        "The following snipit of code will install the dfply package."
      ]
    },
    {
      "cell_type": "code",
      "metadata": {
        "colab": {
          "base_uri": "https://localhost:8080/"
        },
        "id": "kwn8F6-EA9_g",
        "outputId": "8740c8a7-a5cd-4ac2-a3e9-6fb1c3729119"
      },
      "source": [
        "pip install dfply"
      ],
      "execution_count": 45,
      "outputs": [
        {
          "output_type": "stream",
          "name": "stdout",
          "text": [
            "Requirement already satisfied: dfply in /usr/local/lib/python3.7/dist-packages (0.3.3)\n",
            "Requirement already satisfied: numpy in /usr/local/lib/python3.7/dist-packages (from dfply) (1.21.5)\n",
            "Requirement already satisfied: pandas in /usr/local/lib/python3.7/dist-packages (from dfply) (1.3.5)\n",
            "Requirement already satisfied: pytz>=2017.3 in /usr/local/lib/python3.7/dist-packages (from pandas->dfply) (2018.9)\n",
            "Requirement already satisfied: python-dateutil>=2.7.3 in /usr/local/lib/python3.7/dist-packages (from pandas->dfply) (2.8.2)\n",
            "Requirement already satisfied: six>=1.5 in /usr/local/lib/python3.7/dist-packages (from python-dateutil>=2.7.3->pandas->dfply) (1.15.0)\n"
          ]
        }
      ]
    },
    {
      "cell_type": "markdown",
      "metadata": {
        "id": "W_Lcd8QVBPWn"
      },
      "source": [
        "The dfply code has been downloaded, not import this code into the current iPython Notebook using the following code.\n"
      ]
    },
    {
      "cell_type": "code",
      "metadata": {
        "id": "wY9cnM-DBPcV"
      },
      "source": [
        "from dfply import *"
      ],
      "execution_count": 46,
      "outputs": []
    },
    {
      "cell_type": "markdown",
      "metadata": {
        "id": "LXJIDKidBXCg"
      },
      "source": [
        "To begin, suppose the goal is to obtain only flights whose ORIGIN airport was Rochester, MN.  The airport code for Rochester, MN is <strong>RST</strong>.\n",
        "\n",
        "<p align='center'><img src=\"https://drive.google.com/uc?export=view&id=1cZ49YcqPChfiBZP0Hq7Ahzxn4Sg3ktG-\" width='25%' height='25%'></p>"
      ]
    },
    {
      "cell_type": "code",
      "metadata": {
        "colab": {
          "base_uri": "https://localhost:8080/"
        },
        "id": "ZRjtmPyNBXJI",
        "outputId": "f229f10d-2948-496b-e367-81d150db60b9"
      },
      "source": [
        "#Piping in dfply and using filter_by() to grab RST rows.\n",
        "RST = (\n",
        "          OnTime\n",
        "          >> filter_by(X.ORIGIN == \"RST\")\n",
        "        )\n",
        " \n",
        "RST.shape"
      ],
      "execution_count": 48,
      "outputs": [
        {
          "output_type": "execute_result",
          "data": {
            "text/plain": [
              "(183, 17)"
            ]
          },
          "metadata": {},
          "execution_count": 48
        }
      ]
    },
    {
      "cell_type": "markdown",
      "metadata": {
        "id": "sx8hKULVDstb"
      },
      "source": [
        "Next, let us collect the rows where the ORIGIN airport is RST and the destination airport is MSP, i.e. Minneapolis, MN.\n",
        "\n",
        "<p align='center'><img src=\"https://drive.google.com/uc?export=view&id=1c142gdrEPwS_j09pqK1x8kpQjYDYSs47\" width='25%' height='25%'></p>"
      ]
    },
    {
      "cell_type": "code",
      "metadata": {
        "colab": {
          "base_uri": "https://localhost:8080/"
        },
        "id": "UtCoAPc6Ds0r",
        "outputId": "8c0d0277-55c0-4097-9383-74f5073c0e48"
      },
      "source": [
        "#Piping in dfply and using filter_by() to grab RST to MSP rows.\n",
        "RST_to_MSP = (\n",
        "          OnTime\n",
        "          >> filter_by(X.ORIGIN == \"RST\", X.DEST == \"MSP\")\n",
        "        )\n",
        " \n",
        "RST_to_MSP.shape"
      ],
      "execution_count": 49,
      "outputs": [
        {
          "output_type": "execute_result",
          "data": {
            "text/plain": [
              "(85, 17)"
            ]
          },
          "metadata": {},
          "execution_count": 49
        }
      ]
    },
    {
      "cell_type": "markdown",
      "metadata": {
        "id": "QFj64wKDEETk"
      },
      "source": [
        "Next, let us collect the rows where the ORIGIN airport is RST or the ORIGIN airport is DLH, i.e. Duluth, MN.\n",
        "\n",
        "<p align='center'><img src=\"https://drive.google.com/uc?export=view&id=1zQzTj9PJkooEfkkaioffNW1O49Cocy7Y\" width='25%' height='25%'></p>"
      ]
    },
    {
      "cell_type": "markdown",
      "metadata": {
        "id": "IdPHy-TqFnUy"
      },
      "source": [
        "The <strong>OR</strong> condition can be applied using a vertical bar, i.e. |.  The filter_by() function does require one to carefully specify or contain the conditions.  Consider the following.\n",
        "\n",
        "<p align='center'>\n",
        "<strong>filter_by( (statement 1) | (statement 2) )\n",
        "</strong>\n",
        "</p>\n",
        "\n",
        "\n",
        "*   The following code does **not** work: filter_by( X.ORIGIN == \"RST\" | X.ORIGIN == \"DLH\" ) \n",
        "*   The following code does work: filter_by( (X.ORIGIN == \"RST\") | (X.ORIGIN == \"DLH\" ) )\n",
        "\n",
        "\n",
        "\n"
      ]
    },
    {
      "cell_type": "code",
      "metadata": {
        "colab": {
          "base_uri": "https://localhost:8080/"
        },
        "id": "CiWUAyoYEEaF",
        "outputId": "9710492a-ff31-46cc-8aef-f7381f71502e"
      },
      "source": [
        "#Piping in dfply and using filter_by() to grab requested rows.\n",
        "RST_or_DLH = (\n",
        "          OnTime\n",
        "          #>> filter_by( X.ORIGIN == \"RST\" | X.ORIGIN == \"DLH\" )  #This line does not work as OR condition is vague\n",
        "          >> filter_by( (X.ORIGIN == \"RST\") | (X.ORIGIN == \"DLH\") )\n",
        "          \n",
        "        )\n",
        " \n",
        "RST_or_DLH.shape"
      ],
      "execution_count": 50,
      "outputs": [
        {
          "output_type": "execute_result",
          "data": {
            "text/plain": [
              "(329, 17)"
            ]
          },
          "metadata": {},
          "execution_count": 50
        }
      ]
    },
    {
      "cell_type": "markdown",
      "metadata": {
        "id": "CLYmatDcHSdb"
      },
      "source": [
        "Next, suppose the requested rows are flights leaving from RST OR DLH that are flying into MSP."
      ]
    },
    {
      "cell_type": "code",
      "metadata": {
        "colab": {
          "base_uri": "https://localhost:8080/"
        },
        "id": "Qq-1wSEAHSkj",
        "outputId": "d8ca26de-decb-4263-bb5c-722d9c2ae152"
      },
      "source": [
        "#Piping in dfply and using filter_by() to grab requested rows.\n",
        "RST_or_DLH_to_MSP = (\n",
        "          OnTime\n",
        "          >> filter_by( (X.ORIGIN == \"RST\") | (X.ORIGIN == \"DLH\") )\n",
        "          >> filter_by(X.DEST == \"MSP\") \n",
        "        )\n",
        " \n",
        "RST_or_DLH_to_MSP.shape"
      ],
      "execution_count": 51,
      "outputs": [
        {
          "output_type": "execute_result",
          "data": {
            "text/plain": [
              "(231, 17)"
            ]
          },
          "metadata": {},
          "execution_count": 51
        }
      ]
    },
    {
      "cell_type": "markdown",
      "metadata": {
        "id": "XAcCGnkpHptg"
      },
      "source": [
        "Next, let us collect the rows where the ORIGIN airport is in MN and purposely exclude MSP.  This will be done here with a sequence of <strong>OR</strong> statements.\n",
        "\n",
        "<p align='center'><img src=\"https://drive.google.com/uc?export=view&id=1hMSS_XOgk5izrSa1PNvKSiWkM62c9xMn\" width='25%' height='25%'></p>"
      ]
    },
    {
      "cell_type": "code",
      "metadata": {
        "colab": {
          "base_uri": "https://localhost:8080/",
          "height": 300
        },
        "id": "oMSfec7bHp03",
        "outputId": "ea797646-52c0-4770-de9f-b52c7a2f429c"
      },
      "source": [
        "#Piping in dfply and using filter_by() to grab requested rows.\n",
        "MN_Airports = (\n",
        "          OnTime\n",
        "          >> filter_by(X.ORIGIN_STATE_ABR == \"MN\")\n",
        "          >> distinct(X.ORIGIN)\n",
        "          >> select(X.ORIGIN) \n",
        "        )\n",
        "MN_Airports"
      ],
      "execution_count": 53,
      "outputs": [
        {
          "output_type": "execute_result",
          "data": {
            "text/html": [
              "\n",
              "  <div id=\"df-a175e1f8-a459-4bb7-8103-c6aeb8cac821\">\n",
              "    <div class=\"colab-df-container\">\n",
              "      <div>\n",
              "<style scoped>\n",
              "    .dataframe tbody tr th:only-of-type {\n",
              "        vertical-align: middle;\n",
              "    }\n",
              "\n",
              "    .dataframe tbody tr th {\n",
              "        vertical-align: top;\n",
              "    }\n",
              "\n",
              "    .dataframe thead th {\n",
              "        text-align: right;\n",
              "    }\n",
              "</style>\n",
              "<table border=\"1\" class=\"dataframe\">\n",
              "  <thead>\n",
              "    <tr style=\"text-align: right;\">\n",
              "      <th></th>\n",
              "      <th>ORIGIN</th>\n",
              "    </tr>\n",
              "  </thead>\n",
              "  <tbody>\n",
              "    <tr>\n",
              "      <th>509</th>\n",
              "      <td>MSP</td>\n",
              "    </tr>\n",
              "    <tr>\n",
              "      <th>730</th>\n",
              "      <td>DLH</td>\n",
              "    </tr>\n",
              "    <tr>\n",
              "      <th>853</th>\n",
              "      <td>INL</td>\n",
              "    </tr>\n",
              "    <tr>\n",
              "      <th>862</th>\n",
              "      <td>BRD</td>\n",
              "    </tr>\n",
              "    <tr>\n",
              "      <th>883</th>\n",
              "      <td>HIB</td>\n",
              "    </tr>\n",
              "    <tr>\n",
              "      <th>904</th>\n",
              "      <td>BJI</td>\n",
              "    </tr>\n",
              "    <tr>\n",
              "      <th>4707</th>\n",
              "      <td>RST</td>\n",
              "    </tr>\n",
              "    <tr>\n",
              "      <th>45364</th>\n",
              "      <td>STC</td>\n",
              "    </tr>\n",
              "  </tbody>\n",
              "</table>\n",
              "</div>\n",
              "      <button class=\"colab-df-convert\" onclick=\"convertToInteractive('df-a175e1f8-a459-4bb7-8103-c6aeb8cac821')\"\n",
              "              title=\"Convert this dataframe to an interactive table.\"\n",
              "              style=\"display:none;\">\n",
              "        \n",
              "  <svg xmlns=\"http://www.w3.org/2000/svg\" height=\"24px\"viewBox=\"0 0 24 24\"\n",
              "       width=\"24px\">\n",
              "    <path d=\"M0 0h24v24H0V0z\" fill=\"none\"/>\n",
              "    <path d=\"M18.56 5.44l.94 2.06.94-2.06 2.06-.94-2.06-.94-.94-2.06-.94 2.06-2.06.94zm-11 1L8.5 8.5l.94-2.06 2.06-.94-2.06-.94L8.5 2.5l-.94 2.06-2.06.94zm10 10l.94 2.06.94-2.06 2.06-.94-2.06-.94-.94-2.06-.94 2.06-2.06.94z\"/><path d=\"M17.41 7.96l-1.37-1.37c-.4-.4-.92-.59-1.43-.59-.52 0-1.04.2-1.43.59L10.3 9.45l-7.72 7.72c-.78.78-.78 2.05 0 2.83L4 21.41c.39.39.9.59 1.41.59.51 0 1.02-.2 1.41-.59l7.78-7.78 2.81-2.81c.8-.78.8-2.07 0-2.86zM5.41 20L4 18.59l7.72-7.72 1.47 1.35L5.41 20z\"/>\n",
              "  </svg>\n",
              "      </button>\n",
              "      \n",
              "  <style>\n",
              "    .colab-df-container {\n",
              "      display:flex;\n",
              "      flex-wrap:wrap;\n",
              "      gap: 12px;\n",
              "    }\n",
              "\n",
              "    .colab-df-convert {\n",
              "      background-color: #E8F0FE;\n",
              "      border: none;\n",
              "      border-radius: 50%;\n",
              "      cursor: pointer;\n",
              "      display: none;\n",
              "      fill: #1967D2;\n",
              "      height: 32px;\n",
              "      padding: 0 0 0 0;\n",
              "      width: 32px;\n",
              "    }\n",
              "\n",
              "    .colab-df-convert:hover {\n",
              "      background-color: #E2EBFA;\n",
              "      box-shadow: 0px 1px 2px rgba(60, 64, 67, 0.3), 0px 1px 3px 1px rgba(60, 64, 67, 0.15);\n",
              "      fill: #174EA6;\n",
              "    }\n",
              "\n",
              "    [theme=dark] .colab-df-convert {\n",
              "      background-color: #3B4455;\n",
              "      fill: #D2E3FC;\n",
              "    }\n",
              "\n",
              "    [theme=dark] .colab-df-convert:hover {\n",
              "      background-color: #434B5C;\n",
              "      box-shadow: 0px 1px 3px 1px rgba(0, 0, 0, 0.15);\n",
              "      filter: drop-shadow(0px 1px 2px rgba(0, 0, 0, 0.3));\n",
              "      fill: #FFFFFF;\n",
              "    }\n",
              "  </style>\n",
              "\n",
              "      <script>\n",
              "        const buttonEl =\n",
              "          document.querySelector('#df-a175e1f8-a459-4bb7-8103-c6aeb8cac821 button.colab-df-convert');\n",
              "        buttonEl.style.display =\n",
              "          google.colab.kernel.accessAllowed ? 'block' : 'none';\n",
              "\n",
              "        async function convertToInteractive(key) {\n",
              "          const element = document.querySelector('#df-a175e1f8-a459-4bb7-8103-c6aeb8cac821');\n",
              "          const dataTable =\n",
              "            await google.colab.kernel.invokeFunction('convertToInteractive',\n",
              "                                                     [key], {});\n",
              "          if (!dataTable) return;\n",
              "\n",
              "          const docLinkHtml = 'Like what you see? Visit the ' +\n",
              "            '<a target=\"_blank\" href=https://colab.research.google.com/notebooks/data_table.ipynb>data table notebook</a>'\n",
              "            + ' to learn more about interactive tables.';\n",
              "          element.innerHTML = '';\n",
              "          dataTable['output_type'] = 'display_data';\n",
              "          await google.colab.output.renderOutput(dataTable, element);\n",
              "          const docLink = document.createElement('div');\n",
              "          docLink.innerHTML = docLinkHtml;\n",
              "          element.appendChild(docLink);\n",
              "        }\n",
              "      </script>\n",
              "    </div>\n",
              "  </div>\n",
              "  "
            ],
            "text/plain": [
              "      ORIGIN\n",
              "509      MSP\n",
              "730      DLH\n",
              "853      INL\n",
              "862      BRD\n",
              "883      HIB\n",
              "904      BJI\n",
              "4707     RST\n",
              "45364    STC"
            ]
          },
          "metadata": {},
          "execution_count": 53
        }
      ]
    },
    {
      "cell_type": "markdown",
      "metadata": {
        "id": "vcj7__ZRKBxZ"
      },
      "source": [
        "Similar to R, there exists an option for checking across many values using the <strong>IN</strong> feature.  To invoke this procedure, create a vector containing the various regional airports in MN (excluding MSP). The .isin() method can be used to check the ORIGIN airport against this list.\n",
        "\n",
        "\n",
        "Other methods are commonly invoked using this apporach. For example, contains() and startswith() can be implmented using X.ORIGIN.contains() or X.ORIGIN.startswith() syntax."
      ]
    },
    {
      "cell_type": "code",
      "metadata": {
        "colab": {
          "base_uri": "https://localhost:8080/"
        },
        "id": "b8WyQcjuKB4G",
        "outputId": "2546f501-223e-4f5d-8b8f-03ce2713f011"
      },
      "source": [
        "#Piping in dfply and using filter_by() to grab requested rows.\n",
        "MN_Airport_List = [\"BJI\",\"BRD\",\"DLH\",\"HIB\",\"INL\",\"RST\",\"STC\"]\n",
        "All_MN_NoMSP = (\n",
        "          OnTime\n",
        "          >> filter_by(X.ORIGIN.isin(MN_Airport_List) )\n",
        "        )\n",
        "All_MN_NoMSP.shape"
      ],
      "execution_count": 54,
      "outputs": [
        {
          "output_type": "execute_result",
          "data": {
            "text/plain": [
              "(547, 17)"
            ]
          },
          "metadata": {},
          "execution_count": 54
        }
      ]
    },
    {
      "cell_type": "markdown",
      "metadata": {
        "id": "vNltO-VONwLm"
      },
      "source": [
        "Of course, the checking against all airports in MN (excluding MSP), can be done with a sequence of OR conditions."
      ]
    },
    {
      "cell_type": "code",
      "metadata": {
        "colab": {
          "base_uri": "https://localhost:8080/"
        },
        "id": "TTyotuwgGi1g",
        "outputId": "5a9f69be-13ea-4945-a227-292e9ab6d1fc"
      },
      "source": [
        "#Piping in dfply and using filter_by() to grab requested rows.\n",
        "All_MN_NoMSP = (\n",
        "          OnTime\n",
        "          >> filter_by( (X.ORIGIN == \"BJI\") | (X.ORIGIN == \"BRD\") | (X.ORIGIN == \"DLH\") | (X.ORIGIN == \"HIB\") | (X.ORIGIN == \"INL\") | (X.ORIGIN == \"RST\") |(X.ORIGIN == \"STC\") )\n",
        "        \n",
        "        )\n",
        "All_MN_NoMSP.shape"
      ],
      "execution_count": 55,
      "outputs": [
        {
          "output_type": "execute_result",
          "data": {
            "text/plain": [
              "(547, 17)"
            ]
          },
          "metadata": {},
          "execution_count": 55
        }
      ]
    },
    {
      "cell_type": "markdown",
      "metadata": {
        "id": "Qo7nADY3O3_d"
      },
      "source": [
        "The last iteration of getting the rows for the MN regional airports using the <stong>NOT</strong> condition.  There are two ways to invoke the NOT condition.\n",
        "\n",
        "\n",
        "*   The ~ character can be used for the NOT condition\n",
        "*   The != syntax can also be usef for the NOT condition\n",
        "\n"
      ]
    },
    {
      "cell_type": "code",
      "metadata": {
        "colab": {
          "base_uri": "https://localhost:8080/"
        },
        "id": "nonThGlXO4JF",
        "outputId": "119d9ab3-d77a-4896-a124-958dc832df96"
      },
      "source": [
        "All_MN_NoMSP = (\n",
        "          OnTime\n",
        "         >> filter_by( X.ORIGIN_STATE_ABR == \"MN\" )\n",
        "         #>> filter_by( ~ X.ORIGIN == \"MSP\" )      #Using ~ to invoke NOT\n",
        "         >> filter_by( X.ORIGIN != \"MSP\" )         #Using != to invoke NOT\n",
        "        )\n",
        "All_MN_NoMSP.shape"
      ],
      "execution_count": 56,
      "outputs": [
        {
          "output_type": "execute_result",
          "data": {
            "text/plain": [
              "(547, 17)"
            ]
          },
          "metadata": {},
          "execution_count": 56
        }
      ]
    },
    {
      "cell_type": "markdown",
      "metadata": {
        "id": "EwFiLfZoQ0R2"
      },
      "source": [
        "# Filter Action with NA"
      ]
    },
    {
      "cell_type": "markdown",
      "metadata": {
        "id": "iVF7NUCgSVTY"
      },
      "source": [
        "\n",
        "The following code is used to <strong>drop all </strong> missing from a dataframe."
      ]
    },
    {
      "cell_type": "code",
      "metadata": {
        "colab": {
          "base_uri": "https://localhost:8080/"
        },
        "id": "CcyYqiBlQ0XY",
        "outputId": "7d6fa568-e9c6-433a-e685-e53fe1184bf7"
      },
      "source": [
        "#Get all flights from RST and exclude all flights that have any missing, i.e. NaN\n",
        "RST = (\n",
        "         OnTime\n",
        "         >> filter_by( X.ORIGIN == \"RST\" )\n",
        "      )\n",
        "#The dropna() method will drop all missingness in your dataframe\n",
        "RST_NoNaN = RST.dropna()\n",
        "RST_NoNaN.shape\n"
      ],
      "execution_count": 59,
      "outputs": [
        {
          "output_type": "execute_result",
          "data": {
            "text/plain": [
              "(14, 17)"
            ]
          },
          "metadata": {},
          "execution_count": 59
        }
      ]
    },
    {
      "cell_type": "markdown",
      "metadata": {
        "id": "4tbbLCcRTQfN"
      },
      "source": [
        "In the following variation, only flights that have missingness for CARRIER_DELAY will be excluded.  This method is applied inside the filter_by() method here."
      ]
    },
    {
      "cell_type": "code",
      "metadata": {
        "colab": {
          "base_uri": "https://localhost:8080/"
        },
        "id": "bxqK1p66TQoN",
        "outputId": "238460c8-cd00-4e3f-9f25-77d732e6c978"
      },
      "source": [
        "RST_NoNaN_CarrierDelay = (\n",
        "         OnTime\n",
        "         >> filter_by( X.ORIGIN == \"RST\" )\n",
        "         >> filter_by(X.CARRIER_DELAY.notnull())\n",
        "      )\n",
        "RST_NoNaN_CarrierDelay.shape\n",
        "#RST_NoNaN_CarrierDelay.head()\n"
      ],
      "execution_count": 60,
      "outputs": [
        {
          "output_type": "execute_result",
          "data": {
            "text/plain": [
              "(14, 17)"
            ]
          },
          "metadata": {},
          "execution_count": 60
        }
      ]
    }
  ]
}