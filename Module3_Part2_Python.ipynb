{
  "nbformat": 4,
  "nbformat_minor": 0,
  "metadata": {
    "colab": {
      "name": "Module3_Part2_Python.ipynb",
      "provenance": [],
      "toc_visible": true,
      "authorship_tag": "ABX9TyN6hZh6MRz3QrXgw0G5GyMh",
      "include_colab_link": true
    },
    "kernelspec": {
      "name": "python3",
      "display_name": "Python 3"
    }
  },
  "cells": [
    {
      "cell_type": "markdown",
      "metadata": {
        "id": "view-in-github",
        "colab_type": "text"
      },
      "source": [
        "<a href=\"https://colab.research.google.com/github/christophermalone/DSCI325/blob/main/Module3_Part2_Python.ipynb\" target=\"_parent\"><img src=\"https://colab.research.google.com/assets/colab-badge.svg\" alt=\"Open In Colab\"/></a>"
      ]
    },
    {
      "cell_type": "markdown",
      "metadata": {
        "id": "vsKS8UWN9bil"
      },
      "source": [
        "# Module 3 | Part 2 | Python: Data Verb - FILTER()"
      ]
    },
    {
      "cell_type": "markdown",
      "metadata": {
        "id": "Q15v4Jwh9sEj"
      },
      "source": [
        "<table width='100%' ><tr><td bgcolor='green'></td></tr></table>\r\n",
        "\r\n",
        "### Example 3.2.P\r\n",
        "For this notebook, we will consider airline data from the Bureau of Transportation.  Using the form provided on their website, one is able to obtain a variety of information around flight delays.\r\n",
        " \r\n",
        "\r\n",
        "The following 17 fields will be considered here:\r\n",
        "\r\n",
        "*   Day Information: DAY_OF_MONTH, DAY_OF_WEEK\r\n",
        "*   Origin Information: ORIGIN, ORIGIN_STATE\r\n",
        "*   Destination Information: DEST, DEST_STATE\r\n",
        "*   Departure Information: DEP_TIME, DEP_DELAY, DEP_DELAY15, \r\n",
        "*   Arrival Information: ARR_TIME, ARR_DELAY, ARR_DEL15, \r\n",
        "*   Reason for Delay: CARRIER_DELAY, WEATHER_DELAY, SECURITY_DELAY, LATE_AIRCRAFT_DELAY\r\n",
        "\r\n",
        "\r\n",
        "<br>Data Source:  https://www.transtats.bts.gov/DL_SelectFields.asp?gnoyr_VQ=FGJ&QO_fu146_anzr=b0-gvzr\r\n",
        "\r\n",
        "<table width='100%' ><tr><td bgcolor='green'></td></tr></table>\r\n"
      ]
    },
    {
      "cell_type": "markdown",
      "metadata": {
        "id": "E1y8tAbk98p0"
      },
      "source": [
        "The following command will import the <strong>pandas</strong> package. The local name for the pandas suite of functions is pd here."
      ]
    },
    {
      "cell_type": "code",
      "metadata": {
        "id": "hOHB_NGp9bqL"
      },
      "source": [
        "import pandas as pd"
      ],
      "execution_count": null,
      "outputs": []
    },
    {
      "cell_type": "markdown",
      "metadata": {
        "id": "Cc6dy0a_9bx7"
      },
      "source": [
        "Next, read the Ontime_Reporting.csv file into Python."
      ]
    },
    {
      "cell_type": "code",
      "metadata": {
        "id": "cf4YZ7Kf9b5b"
      },
      "source": [
        "OnTime = pd.read_csv(\"/content/sample_data/Ontime_Reporting.csv\") "
      ],
      "execution_count": null,
      "outputs": []
    },
    {
      "cell_type": "markdown",
      "metadata": {
        "id": "So63BER69lDt"
      },
      "source": [
        "Using the head() function to display the first few rows of this dataframe."
      ]
    },
    {
      "cell_type": "code",
      "metadata": {
        "colab": {
          "base_uri": "https://localhost:8080/",
          "height": 218
        },
        "id": "d7t0a5C7-qMe",
        "outputId": "927c2e13-ebbd-4909-c028-6337d18411e9"
      },
      "source": [
        "OnTime.head()"
      ],
      "execution_count": null,
      "outputs": [
        {
          "output_type": "execute_result",
          "data": {
            "text/html": [
              "<div>\n",
              "<style scoped>\n",
              "    .dataframe tbody tr th:only-of-type {\n",
              "        vertical-align: middle;\n",
              "    }\n",
              "\n",
              "    .dataframe tbody tr th {\n",
              "        vertical-align: top;\n",
              "    }\n",
              "\n",
              "    .dataframe thead th {\n",
              "        text-align: right;\n",
              "    }\n",
              "</style>\n",
              "<table border=\"1\" class=\"dataframe\">\n",
              "  <thead>\n",
              "    <tr style=\"text-align: right;\">\n",
              "      <th></th>\n",
              "      <th>DAY_OF_MONTH</th>\n",
              "      <th>DAY_OF_WEEK</th>\n",
              "      <th>ORIGIN</th>\n",
              "      <th>ORIGIN_STATE</th>\n",
              "      <th>DEST</th>\n",
              "      <th>DEST_STATE</th>\n",
              "      <th>DEP_TIME</th>\n",
              "      <th>DEP_DELAY</th>\n",
              "      <th>DEP_DEL15</th>\n",
              "      <th>ARR_TIME</th>\n",
              "      <th>ARR_DELAY</th>\n",
              "      <th>ARR_DEL15</th>\n",
              "      <th>CARRIER_DELAY</th>\n",
              "      <th>WEATHER_DELAY</th>\n",
              "      <th>NAS_DELAY</th>\n",
              "      <th>SECURITY_DELAY</th>\n",
              "      <th>LATE_AIRCRAFT_DELAY</th>\n",
              "    </tr>\n",
              "  </thead>\n",
              "  <tbody>\n",
              "    <tr>\n",
              "      <th>0</th>\n",
              "      <td>1</td>\n",
              "      <td>2</td>\n",
              "      <td>CLT</td>\n",
              "      <td>NC</td>\n",
              "      <td>MCO</td>\n",
              "      <td>FL</td>\n",
              "      <td>1252.0</td>\n",
              "      <td>-7.0</td>\n",
              "      <td>0.0</td>\n",
              "      <td>1421.0</td>\n",
              "      <td>-19.0</td>\n",
              "      <td>0.0</td>\n",
              "      <td>NaN</td>\n",
              "      <td>NaN</td>\n",
              "      <td>NaN</td>\n",
              "      <td>NaN</td>\n",
              "      <td>NaN</td>\n",
              "    </tr>\n",
              "    <tr>\n",
              "      <th>1</th>\n",
              "      <td>1</td>\n",
              "      <td>2</td>\n",
              "      <td>MCO</td>\n",
              "      <td>FL</td>\n",
              "      <td>CLT</td>\n",
              "      <td>NC</td>\n",
              "      <td>1525.0</td>\n",
              "      <td>-11.0</td>\n",
              "      <td>0.0</td>\n",
              "      <td>1701.0</td>\n",
              "      <td>-20.0</td>\n",
              "      <td>0.0</td>\n",
              "      <td>NaN</td>\n",
              "      <td>NaN</td>\n",
              "      <td>NaN</td>\n",
              "      <td>NaN</td>\n",
              "      <td>NaN</td>\n",
              "    </tr>\n",
              "    <tr>\n",
              "      <th>2</th>\n",
              "      <td>1</td>\n",
              "      <td>2</td>\n",
              "      <td>DFW</td>\n",
              "      <td>TX</td>\n",
              "      <td>MCO</td>\n",
              "      <td>FL</td>\n",
              "      <td>840.0</td>\n",
              "      <td>-5.0</td>\n",
              "      <td>0.0</td>\n",
              "      <td>1200.0</td>\n",
              "      <td>-13.0</td>\n",
              "      <td>0.0</td>\n",
              "      <td>NaN</td>\n",
              "      <td>NaN</td>\n",
              "      <td>NaN</td>\n",
              "      <td>NaN</td>\n",
              "      <td>NaN</td>\n",
              "    </tr>\n",
              "    <tr>\n",
              "      <th>3</th>\n",
              "      <td>1</td>\n",
              "      <td>2</td>\n",
              "      <td>MCO</td>\n",
              "      <td>FL</td>\n",
              "      <td>DFW</td>\n",
              "      <td>TX</td>\n",
              "      <td>1328.0</td>\n",
              "      <td>-5.0</td>\n",
              "      <td>0.0</td>\n",
              "      <td>1530.0</td>\n",
              "      <td>-5.0</td>\n",
              "      <td>0.0</td>\n",
              "      <td>NaN</td>\n",
              "      <td>NaN</td>\n",
              "      <td>NaN</td>\n",
              "      <td>NaN</td>\n",
              "      <td>NaN</td>\n",
              "    </tr>\n",
              "    <tr>\n",
              "      <th>4</th>\n",
              "      <td>1</td>\n",
              "      <td>2</td>\n",
              "      <td>EWR</td>\n",
              "      <td>NJ</td>\n",
              "      <td>DFW</td>\n",
              "      <td>TX</td>\n",
              "      <td>604.0</td>\n",
              "      <td>-6.0</td>\n",
              "      <td>0.0</td>\n",
              "      <td>835.0</td>\n",
              "      <td>-47.0</td>\n",
              "      <td>0.0</td>\n",
              "      <td>NaN</td>\n",
              "      <td>NaN</td>\n",
              "      <td>NaN</td>\n",
              "      <td>NaN</td>\n",
              "      <td>NaN</td>\n",
              "    </tr>\n",
              "  </tbody>\n",
              "</table>\n",
              "</div>"
            ],
            "text/plain": [
              "   DAY_OF_MONTH  DAY_OF_WEEK  ... SECURITY_DELAY LATE_AIRCRAFT_DELAY\n",
              "0             1            2  ...            NaN                 NaN\n",
              "1             1            2  ...            NaN                 NaN\n",
              "2             1            2  ...            NaN                 NaN\n",
              "3             1            2  ...            NaN                 NaN\n",
              "4             1            2  ...            NaN                 NaN\n",
              "\n",
              "[5 rows x 17 columns]"
            ]
          },
          "metadata": {
            "tags": []
          },
          "execution_count": 9
        }
      ]
    },
    {
      "cell_type": "markdown",
      "metadata": {
        "id": "2jUsi1Yo_Xi3"
      },
      "source": [
        "Using the <strong>info()</strong> method or function to identify the structure of the dataframe."
      ]
    },
    {
      "cell_type": "code",
      "metadata": {
        "colab": {
          "base_uri": "https://localhost:8080/"
        },
        "id": "6sgJpB9x_XpD",
        "outputId": "6a7dc2f7-9e88-4d17-812d-69fb04db7eb6"
      },
      "source": [
        "OnTime.info()"
      ],
      "execution_count": null,
      "outputs": [
        {
          "output_type": "stream",
          "text": [
            "<class 'pandas.core.frame.DataFrame'>\n",
            "RangeIndex: 371357 entries, 0 to 371356\n",
            "Data columns (total 17 columns):\n",
            " #   Column               Non-Null Count   Dtype  \n",
            "---  ------               --------------   -----  \n",
            " 0   DAY_OF_MONTH         371357 non-null  int64  \n",
            " 1   DAY_OF_WEEK          371357 non-null  int64  \n",
            " 2   ORIGIN               371357 non-null  object \n",
            " 3   ORIGIN_STATE         371357 non-null  object \n",
            " 4   DEST                 371357 non-null  object \n",
            " 5   DEST_STATE           371357 non-null  object \n",
            " 6   DEP_TIME             367620 non-null  float64\n",
            " 7   DEP_DELAY            367619 non-null  float64\n",
            " 8   DEP_DEL15            367619 non-null  float64\n",
            " 9   ARR_TIME             367418 non-null  float64\n",
            " 10  ARR_DELAY            366940 non-null  float64\n",
            " 11  ARR_DEL15            366940 non-null  float64\n",
            " 12  CARRIER_DELAY        43532 non-null   float64\n",
            " 13  WEATHER_DELAY        43532 non-null   float64\n",
            " 14  NAS_DELAY            43532 non-null   float64\n",
            " 15  SECURITY_DELAY       43532 non-null   float64\n",
            " 16  LATE_AIRCRAFT_DELAY  43532 non-null   float64\n",
            "dtypes: float64(11), int64(2), object(4)\n",
            "memory usage: 48.2+ MB\n"
          ],
          "name": "stdout"
        }
      ]
    },
    {
      "cell_type": "markdown",
      "metadata": {
        "id": "B_qM8hYNANL2"
      },
      "source": [
        "Using the <strong>shape</strong> attribute to identify the number of rows and columns in the dataframe. "
      ]
    },
    {
      "cell_type": "code",
      "metadata": {
        "colab": {
          "base_uri": "https://localhost:8080/"
        },
        "id": "lruM5gBMANRh",
        "outputId": "b80349a1-bba7-4316-c2f8-fa37a6dd6af9"
      },
      "source": [
        "OnTime.shape"
      ],
      "execution_count": null,
      "outputs": [
        {
          "output_type": "execute_result",
          "data": {
            "text/plain": [
              "(371357, 17)"
            ]
          },
          "metadata": {
            "tags": []
          },
          "execution_count": 21
        }
      ]
    },
    {
      "cell_type": "markdown",
      "metadata": {
        "id": "Ob4vbMnZA93Z"
      },
      "source": [
        "# Using dfply package"
      ]
    },
    {
      "cell_type": "markdown",
      "metadata": {
        "id": "Hue7Ao81BBpw"
      },
      "source": [
        "The following snipit of code will install the dfply package."
      ]
    },
    {
      "cell_type": "code",
      "metadata": {
        "colab": {
          "base_uri": "https://localhost:8080/"
        },
        "id": "kwn8F6-EA9_g",
        "outputId": "10f8d0b2-f075-4b0d-c12b-11c3c7833773"
      },
      "source": [
        "pip install dfply"
      ],
      "execution_count": null,
      "outputs": [
        {
          "output_type": "stream",
          "text": [
            "Requirement already satisfied: dfply in /usr/local/lib/python3.7/dist-packages (0.3.3)\n",
            "Requirement already satisfied: numpy in /usr/local/lib/python3.7/dist-packages (from dfply) (1.19.5)\n",
            "Requirement already satisfied: pandas in /usr/local/lib/python3.7/dist-packages (from dfply) (1.1.5)\n",
            "Requirement already satisfied: pytz>=2017.2 in /usr/local/lib/python3.7/dist-packages (from pandas->dfply) (2018.9)\n",
            "Requirement already satisfied: python-dateutil>=2.7.3 in /usr/local/lib/python3.7/dist-packages (from pandas->dfply) (2.8.1)\n",
            "Requirement already satisfied: six>=1.5 in /usr/local/lib/python3.7/dist-packages (from python-dateutil>=2.7.3->pandas->dfply) (1.15.0)\n"
          ],
          "name": "stdout"
        }
      ]
    },
    {
      "cell_type": "markdown",
      "metadata": {
        "id": "W_Lcd8QVBPWn"
      },
      "source": [
        "The dfply code has been downloaded, not import this code into the current iPython Notebook using the following code.\r\n"
      ]
    },
    {
      "cell_type": "code",
      "metadata": {
        "id": "wY9cnM-DBPcV"
      },
      "source": [
        "from dfply import *"
      ],
      "execution_count": null,
      "outputs": []
    },
    {
      "cell_type": "markdown",
      "metadata": {
        "id": "LXJIDKidBXCg"
      },
      "source": [
        "To begin, suppose the goal is to obtain only flights whose ORIGIN airport was Rochester, MN.  The airport code for Rochester, MN is <strong>RST</strong>.\r\n",
        "\r\n",
        "<p align='center'><img src=\"https://drive.google.com/uc?export=view&id=1cZ49YcqPChfiBZP0Hq7Ahzxn4Sg3ktG-\" width='25%' height='25%'></p>"
      ]
    },
    {
      "cell_type": "code",
      "metadata": {
        "colab": {
          "base_uri": "https://localhost:8080/"
        },
        "id": "ZRjtmPyNBXJI",
        "outputId": "9567bcfc-5739-414f-f872-50c88a5a18f5"
      },
      "source": [
        "#Piping in dfply and using filter_by() to grab RST rows.\r\n",
        "RST = (\r\n",
        "          OnTime\r\n",
        "          >> filter_by(X.ORIGIN == \"RST\")\r\n",
        "        )\r\n",
        " \r\n",
        "RST.shape"
      ],
      "execution_count": null,
      "outputs": [
        {
          "output_type": "execute_result",
          "data": {
            "text/plain": [
              "(238, 17)"
            ]
          },
          "metadata": {
            "tags": []
          },
          "execution_count": 24
        }
      ]
    },
    {
      "cell_type": "markdown",
      "metadata": {
        "id": "sx8hKULVDstb"
      },
      "source": [
        "Next, let us collect the rows where the ORIGIN airport is RST and the destination airport is MSP, i.e. Minneapolis, MN.\r\n",
        "\r\n",
        "<p align='center'><img src=\"https://drive.google.com/uc?export=view&id=1c142gdrEPwS_j09pqK1x8kpQjYDYSs47\" width='25%' height='25%'></p>"
      ]
    },
    {
      "cell_type": "code",
      "metadata": {
        "colab": {
          "base_uri": "https://localhost:8080/"
        },
        "id": "UtCoAPc6Ds0r",
        "outputId": "e0c3b2cd-797c-43af-9eb2-9b219189786c"
      },
      "source": [
        "#Piping in dfply and using filter_by() to grab RST to MSP rows.\r\n",
        "RST_to_MSP = (\r\n",
        "          OnTime\r\n",
        "          >> filter_by(X.ORIGIN == \"RST\", X.DEST == \"MSP\")\r\n",
        "        )\r\n",
        " \r\n",
        "RST_to_MSP.shape"
      ],
      "execution_count": null,
      "outputs": [
        {
          "output_type": "execute_result",
          "data": {
            "text/plain": [
              "(118, 17)"
            ]
          },
          "metadata": {
            "tags": []
          },
          "execution_count": 25
        }
      ]
    },
    {
      "cell_type": "markdown",
      "metadata": {
        "id": "QFj64wKDEETk"
      },
      "source": [
        "Next, let us collect the rows where the ORIGIN airport is RST or the ORIGIN airport is DLH, i.e. Duluth, MN.\r\n",
        "\r\n",
        "<p align='center'><img src=\"https://drive.google.com/uc?export=view&id=1zQzTj9PJkooEfkkaioffNW1O49Cocy7Y\" width='25%' height='25%'></p>"
      ]
    },
    {
      "cell_type": "markdown",
      "metadata": {
        "id": "IdPHy-TqFnUy"
      },
      "source": [
        "The <strong>OR</strong> condition can be applied using a vertical bar, i.e. |.  The filter_by() function does require one to carefully specify or contain the conditions.  Consider the following.\r\n",
        "\r\n",
        "<p align='center'>\r\n",
        "<strong>filter_by( (statement 1) | (statement 2) )\r\n",
        "</strong>\r\n",
        "</p>\r\n",
        "\r\n",
        "\r\n",
        "*   The following code does **not** work: filter_by( X.ORIGIN == \"RST\" | X.ORIGIN == \"DLH\" ) \r\n",
        "*   The following code does work: filter_by( (X.ORIGIN == \"RST\") | (X.ORIGIN == \"DLH\" ) )\r\n",
        "\r\n",
        "\r\n",
        "\r\n"
      ]
    },
    {
      "cell_type": "code",
      "metadata": {
        "colab": {
          "base_uri": "https://localhost:8080/"
        },
        "id": "CiWUAyoYEEaF",
        "outputId": "c2f86a7e-3738-4cef-c63d-61366b5ca187"
      },
      "source": [
        "#Piping in dfply and using filter_by() to grab requested rows.\r\n",
        "RST_or_DLH = (\r\n",
        "          OnTime\r\n",
        "          #>> filter_by( X.ORIGIN == \"RST\" | X.ORIGIN == \"DLH\" )  #This line does not work as OR condition is vague\r\n",
        "          >> filter_by( (X.ORIGIN == \"RST\") | (X.ORIGIN == \"DLH\") )\r\n",
        "          \r\n",
        "        )\r\n",
        " \r\n",
        "RST_or_DLH.shape"
      ],
      "execution_count": null,
      "outputs": [
        {
          "output_type": "execute_result",
          "data": {
            "text/plain": [
              "(359, 17)"
            ]
          },
          "metadata": {
            "tags": []
          },
          "execution_count": 37
        }
      ]
    },
    {
      "cell_type": "markdown",
      "metadata": {
        "id": "CLYmatDcHSdb"
      },
      "source": [
        "Next, suppose the requested rows are flights leaving from RST OR DLH that are flying into MSP."
      ]
    },
    {
      "cell_type": "code",
      "metadata": {
        "colab": {
          "base_uri": "https://localhost:8080/"
        },
        "id": "Qq-1wSEAHSkj",
        "outputId": "0eb58171-13ba-45c4-c39b-129b777aaec1"
      },
      "source": [
        "#Piping in dfply and using filter_by() to grab requested rows.\r\n",
        "RST_or_DLH_to_MSP = (\r\n",
        "          OnTime\r\n",
        "          >> filter_by( (X.ORIGIN == \"RST\") | (X.ORIGIN == \"DLH\") )\r\n",
        "          >> filter_by(X.DEST == \"MSP\") \r\n",
        "        )\r\n",
        " \r\n",
        "RST_or_DLH_to_MSP.shape"
      ],
      "execution_count": null,
      "outputs": [
        {
          "output_type": "execute_result",
          "data": {
            "text/plain": [
              "(239, 17)"
            ]
          },
          "metadata": {
            "tags": []
          },
          "execution_count": 38
        }
      ]
    },
    {
      "cell_type": "markdown",
      "metadata": {
        "id": "XAcCGnkpHptg"
      },
      "source": [
        "Next, let us collect the rows where the ORIGIN airport is in MN and purposely exclude MSP.  This will be done here with a sequence of <strong>OR</strong> statements.\r\n",
        "\r\n",
        "<p align='center'><img src=\"https://drive.google.com/uc?export=view&id=1hMSS_XOgk5izrSa1PNvKSiWkM62c9xMn\" width='25%' height='25%'></p>"
      ]
    },
    {
      "cell_type": "code",
      "metadata": {
        "colab": {
          "base_uri": "https://localhost:8080/",
          "height": 288
        },
        "id": "oMSfec7bHp03",
        "outputId": "180b2076-0319-4d40-d11e-f0163e1bb56e"
      },
      "source": [
        "#Piping in dfply and using filter_by() to grab requested rows.\r\n",
        "MN_Airports = (\r\n",
        "          OnTime\r\n",
        "          >> filter_by(X.ORIGIN_STATE == \"MN\")\r\n",
        "          >> distinct(X.ORIGIN)\r\n",
        "          >> select(X.ORIGIN) \r\n",
        "        )\r\n",
        "MN_Airports"
      ],
      "execution_count": null,
      "outputs": [
        {
          "output_type": "execute_result",
          "data": {
            "text/html": [
              "<div>\n",
              "<style scoped>\n",
              "    .dataframe tbody tr th:only-of-type {\n",
              "        vertical-align: middle;\n",
              "    }\n",
              "\n",
              "    .dataframe tbody tr th {\n",
              "        vertical-align: top;\n",
              "    }\n",
              "\n",
              "    .dataframe thead th {\n",
              "        text-align: right;\n",
              "    }\n",
              "</style>\n",
              "<table border=\"1\" class=\"dataframe\">\n",
              "  <thead>\n",
              "    <tr style=\"text-align: right;\">\n",
              "      <th></th>\n",
              "      <th>ORIGIN</th>\n",
              "    </tr>\n",
              "  </thead>\n",
              "  <tbody>\n",
              "    <tr>\n",
              "      <th>14</th>\n",
              "      <td>MSP</td>\n",
              "    </tr>\n",
              "    <tr>\n",
              "      <th>4498</th>\n",
              "      <td>RST</td>\n",
              "    </tr>\n",
              "    <tr>\n",
              "      <th>5294</th>\n",
              "      <td>INL</td>\n",
              "    </tr>\n",
              "    <tr>\n",
              "      <th>5320</th>\n",
              "      <td>HIB</td>\n",
              "    </tr>\n",
              "    <tr>\n",
              "      <th>5333</th>\n",
              "      <td>BJI</td>\n",
              "    </tr>\n",
              "    <tr>\n",
              "      <th>5345</th>\n",
              "      <td>BRD</td>\n",
              "    </tr>\n",
              "    <tr>\n",
              "      <th>5763</th>\n",
              "      <td>DLH</td>\n",
              "    </tr>\n",
              "    <tr>\n",
              "      <th>54997</th>\n",
              "      <td>STC</td>\n",
              "    </tr>\n",
              "  </tbody>\n",
              "</table>\n",
              "</div>"
            ],
            "text/plain": [
              "      ORIGIN\n",
              "14       MSP\n",
              "4498     RST\n",
              "5294     INL\n",
              "5320     HIB\n",
              "5333     BJI\n",
              "5345     BRD\n",
              "5763     DLH\n",
              "54997    STC"
            ]
          },
          "metadata": {
            "tags": []
          },
          "execution_count": 42
        }
      ]
    },
    {
      "cell_type": "markdown",
      "metadata": {
        "id": "vcj7__ZRKBxZ"
      },
      "source": [
        "Similar to R, there exists an option for checking across many values using the <strong>IN</strong> feature.  To invoke this procedure, create a vector containing the various regional airports in MN (excluding MSP). The .isin() method can be used to check the ORIGIN airport against this list.\r\n",
        "\r\n",
        "\r\n",
        "Other methods are commonly invoked using this apporach. For example, contains() and startswith() can be implmented using X.ORIGIN.contains() or X.ORIGIN.startswith() syntax."
      ]
    },
    {
      "cell_type": "code",
      "metadata": {
        "colab": {
          "base_uri": "https://localhost:8080/"
        },
        "id": "b8WyQcjuKB4G",
        "outputId": "b93ff9c8-3455-4083-9539-f03b53b2bc5d"
      },
      "source": [
        "#Piping in dfply and using filter_by() to grab requested rows.\r\n",
        "MN_Airport_List = [\"BJI\",\"BRD\",\"DLH\",\"HIB\",\"INL\",\"RST\",\"STC\"]\r\n",
        "All_MN_NoMSP = (\r\n",
        "          OnTime\r\n",
        "          >> filter_by(X.ORIGIN.isin(MN_Airport_List) )\r\n",
        "        )\r\n",
        "All_MN_NoMSP.shape"
      ],
      "execution_count": null,
      "outputs": [
        {
          "output_type": "execute_result",
          "data": {
            "text/plain": [
              "(593, 17)"
            ]
          },
          "metadata": {
            "tags": []
          },
          "execution_count": 52
        }
      ]
    },
    {
      "cell_type": "markdown",
      "metadata": {
        "id": "vNltO-VONwLm"
      },
      "source": [
        "Of course, the checking against all airports in MN (excluding MSP), can be done with a sequence of OR conditions."
      ]
    },
    {
      "cell_type": "code",
      "metadata": {
        "colab": {
          "base_uri": "https://localhost:8080/"
        },
        "id": "TTyotuwgGi1g",
        "outputId": "bd71439f-bf0d-485a-ecc5-e78b7aaa6dd6"
      },
      "source": [
        "#Piping in dfply and using filter_by() to grab requested rows.\r\n",
        "All_MN_NoMSP = (\r\n",
        "          OnTime\r\n",
        "          >> filter_by( (X.ORIGIN == \"BJI\") | (X.ORIGIN == \"BRD\") | (X.ORIGIN == \"DLH\") | (X.ORIGIN == \"HIB\") | (X.ORIGIN == \"INL\") | (X.ORIGIN == \"RST\") |(X.ORIGIN == \"STC\") )\r\n",
        "        \r\n",
        "        )\r\n",
        "All_MN_NoMSP.shape"
      ],
      "execution_count": null,
      "outputs": [
        {
          "output_type": "execute_result",
          "data": {
            "text/plain": [
              "(593, 17)"
            ]
          },
          "metadata": {
            "tags": []
          },
          "execution_count": 53
        }
      ]
    },
    {
      "cell_type": "markdown",
      "metadata": {
        "id": "Qo7nADY3O3_d"
      },
      "source": [
        "The last iteration of getting the rows for the MN regional airports using the <stong>NOT</strong> condition.  There are two ways to invoke the NOT condition.\r\n",
        "\r\n",
        "\r\n",
        "*   The ~ character can be used for the NOT condition\r\n",
        "*   The != syntax can also be usef for the NOT condition\r\n",
        "\r\n"
      ]
    },
    {
      "cell_type": "code",
      "metadata": {
        "colab": {
          "base_uri": "https://localhost:8080/"
        },
        "id": "nonThGlXO4JF",
        "outputId": "dd0dcdb4-3972-4cd8-b4fe-f09093fbafda"
      },
      "source": [
        "All_MN_NoMSP = (\r\n",
        "          OnTime\r\n",
        "         >> filter_by( X.ORIGIN_STATE == \"MN\" )\r\n",
        "         #>> filter_by( ~ X.ORIGIN == \"MSP\" )      #Using ~ to invoke NOT\r\n",
        "         >> filter_by( X.ORIGIN != \"MSP\" )         #Using != to invoke NOT\r\n",
        "        )\r\n",
        "All_MN_NoMSP.shape"
      ],
      "execution_count": null,
      "outputs": [
        {
          "output_type": "execute_result",
          "data": {
            "text/plain": [
              "(593, 17)"
            ]
          },
          "metadata": {
            "tags": []
          },
          "execution_count": 57
        }
      ]
    },
    {
      "cell_type": "markdown",
      "metadata": {
        "id": "EwFiLfZoQ0R2"
      },
      "source": [
        "# Filter Action with NA"
      ]
    },
    {
      "cell_type": "markdown",
      "metadata": {
        "id": "iVF7NUCgSVTY"
      },
      "source": [
        "\r\n",
        "The following code is used to <strong>drop all </strong> missing from a dataframe."
      ]
    },
    {
      "cell_type": "code",
      "metadata": {
        "colab": {
          "base_uri": "https://localhost:8080/"
        },
        "id": "CcyYqiBlQ0XY",
        "outputId": "8a2809db-9d52-4ba7-8cc0-5306e99bd16e"
      },
      "source": [
        "#Get all flights from RST and exclude all flights that have any missing, i.e. NaN\r\n",
        "RST = (\r\n",
        "         OnTime\r\n",
        "         >> filter_by( X.ORIGIN == \"RST\" )\r\n",
        "      )\r\n",
        "#The dropna() method will drop all missingness in your dataframe\r\n",
        "RST_NoNaN = RST.dropna()\r\n",
        "RST_NoNaN.shape\r\n"
      ],
      "execution_count": null,
      "outputs": [
        {
          "output_type": "execute_result",
          "data": {
            "text/plain": [
              "(20, 17)"
            ]
          },
          "metadata": {
            "tags": []
          },
          "execution_count": 69
        }
      ]
    },
    {
      "cell_type": "markdown",
      "metadata": {
        "id": "4tbbLCcRTQfN"
      },
      "source": [
        "In the following variation, only flights that have missingness for CARRIER_DELAY will be excluded.  This method is applied inside the filter_by() method here."
      ]
    },
    {
      "cell_type": "code",
      "metadata": {
        "colab": {
          "base_uri": "https://localhost:8080/"
        },
        "id": "bxqK1p66TQoN",
        "outputId": "134396c2-87b7-40bd-9599-a5cbc816ca42"
      },
      "source": [
        "RST_NoNaN_CarrierDelay = (\r\n",
        "         OnTime\r\n",
        "         >> filter_by( X.ORIGIN == \"RST\" )\r\n",
        "         >> filter_by(X.CARRIER_DELAY.notnull())\r\n",
        "      )\r\n",
        "RST_NoNaN_CarrierDelay.shape\r\n",
        "#RST_NoNaN_CarrierDelay.head()\r\n"
      ],
      "execution_count": null,
      "outputs": [
        {
          "output_type": "execute_result",
          "data": {
            "text/plain": [
              "(20, 17)"
            ]
          },
          "metadata": {
            "tags": []
          },
          "execution_count": 71
        }
      ]
    }
  ]
}