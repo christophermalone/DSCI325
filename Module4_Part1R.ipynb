{
  "nbformat": 4,
  "nbformat_minor": 0,
  "metadata": {
    "colab": {
      "name": "Module4_Part1R.ipynb",
      "provenance": [],
      "collapsed_sections": [],
      "authorship_tag": "ABX9TyODBp7DDB/KdT1EjVKV4hGU",
      "include_colab_link": true
    },
    "kernelspec": {
      "name": "ir",
      "display_name": "R"
    },
    "language_info": {
      "name": "R"
    }
  },
  "cells": [
    {
      "cell_type": "markdown",
      "metadata": {
        "id": "view-in-github",
        "colab_type": "text"
      },
      "source": [
        "<a href=\"https://colab.research.google.com/github/christophermalone/DSCI325/blob/main/Module4_Part1R.ipynb\" target=\"_parent\"><img src=\"https://colab.research.google.com/assets/colab-badge.svg\" alt=\"Open In Colab\"/></a>"
      ]
    },
    {
      "cell_type": "markdown",
      "metadata": {
        "id": "CBrtVqxAzTPH"
      },
      "source": [
        "# Function Writing in R"
      ]
    },
    {
      "cell_type": "markdown",
      "metadata": {
        "id": "ej82_b77zY-P"
      },
      "source": [
        "A <strong>function</strong> is a collection of code that is created to make common tasks that are often repeated more efficient.  If you find yourself writing code the \"same\" code repeatedly, then a function may prove to be useful."
      ]
    },
    {
      "cell_type": "markdown",
      "metadata": {
        "id": "0pEUulg8CqbT"
      },
      "source": [
        "Consider the following vector in R that contains 5 values."
      ]
    },
    {
      "cell_type": "code",
      "metadata": {
        "id": "mfcSp2D-z5I2"
      },
      "source": [
        "mydata <- c(12, 15, 16, 18, 14)"
      ],
      "execution_count": 2,
      "outputs": []
    },
    {
      "cell_type": "markdown",
      "metadata": {
        "id": "HqCs0Bvu0iE_"
      },
      "source": [
        "The following <strong>for</strong> loop can be used to obtain the average value of mydata."
      ]
    },
    {
      "cell_type": "code",
      "metadata": {
        "colab": {
          "base_uri": "https://localhost:8080/",
          "height": 35
        },
        "id": "eQCZSUhxz9Vb",
        "outputId": "a9b9b6e2-3264-4a77-8c6c-029b3d25053b"
      },
      "source": [
        "total <- 0\n",
        "for(i in 1:5){\n",
        "  total <- total + mydata[i]\n",
        "}\n",
        "total/5"
      ],
      "execution_count": 3,
      "outputs": [
        {
          "output_type": "display_data",
          "data": {
            "text/html": [
              "15"
            ],
            "text/markdown": "15",
            "text/latex": "15",
            "text/plain": [
              "[1] 15"
            ]
          },
          "metadata": {}
        }
      ]
    },
    {
      "cell_type": "markdown",
      "metadata": {
        "id": "2U_vZc2E0wwK"
      },
      "source": [
        "Now, suppose there is another vector, called yourdata, that contains 5 values."
      ]
    },
    {
      "cell_type": "code",
      "metadata": {
        "id": "v1jh-Ej604yF"
      },
      "source": [
        "yourdata <- c(-5, -3, -8, -13, -6)"
      ],
      "execution_count": 4,
      "outputs": []
    },
    {
      "cell_type": "markdown",
      "metadata": {
        "id": "BGdLwp0Q1BXW"
      },
      "source": [
        "In order my code to work on your data, I would need to modify the code, i.e. change the reference to mydata to yourdata."
      ]
    },
    {
      "cell_type": "code",
      "metadata": {
        "colab": {
          "base_uri": "https://localhost:8080/",
          "height": 35
        },
        "id": "6ZOLVaeW1Bdi",
        "outputId": "d0065213-a6ba-46da-9220-aeecbb851b5b"
      },
      "source": [
        "total <- 0\n",
        "for(i in 1:5){\n",
        "  total <- total + yourdata[i]\n",
        "}\n",
        "total/5"
      ],
      "execution_count": 5,
      "outputs": [
        {
          "output_type": "display_data",
          "data": {
            "text/html": [
              "-7"
            ],
            "text/markdown": "-7",
            "text/latex": "-7",
            "text/plain": [
              "[1] -7"
            ]
          },
          "metadata": {}
        }
      ]
    },
    {
      "cell_type": "markdown",
      "metadata": {
        "id": "tizA5grO1sEk"
      },
      "source": [
        "Once again, suppose there is another vector, called theirdata, that contains 5 values."
      ]
    },
    {
      "cell_type": "code",
      "metadata": {
        "id": "eiT2n5Nt1sND"
      },
      "source": [
        "theirdata <- c(134, 152, 126, 147, 136)"
      ],
      "execution_count": 6,
      "outputs": []
    },
    {
      "cell_type": "markdown",
      "metadata": {
        "id": "HduSrrzM2PNv"
      },
      "source": [
        "And, once again, in order my code to work on theirdata, I would need to modify the code, i.e. change the reference to yourdata to theirdata."
      ]
    },
    {
      "cell_type": "code",
      "metadata": {
        "colab": {
          "base_uri": "https://localhost:8080/",
          "height": 35
        },
        "id": "kFBflklk2PW8",
        "outputId": "e76d0a49-68e6-4f30-87e4-e392400d7dfa"
      },
      "source": [
        "total <- 0\n",
        "for(i in 1:5){\n",
        "  total <- total + theirdata[i]\n",
        "}\n",
        "total/5"
      ],
      "execution_count": 7,
      "outputs": [
        {
          "output_type": "display_data",
          "data": {
            "text/html": [
              "139"
            ],
            "text/markdown": "139",
            "text/latex": "139",
            "text/plain": [
              "[1] 139"
            ]
          },
          "metadata": {}
        }
      ]
    },
    {
      "cell_type": "markdown",
      "metadata": {
        "id": "Bb0XhdGo2h7I"
      },
      "source": [
        "## Creating a New Function"
      ]
    },
    {
      "cell_type": "markdown",
      "metadata": {
        "id": "gAx-Jbwd1UeO"
      },
      "source": [
        "Instead of modifying the code each time to compute the mean of a vector of 5 observations, it would be better to write a function to accomplish this task. \n",
        "\n",
        "An R Function has the following structure.\n",
        "<ul>\n",
        "<strong>FunctionName</strong> <- <i>function( arguements )</i> {\n",
        "\n",
        "&nbsp;&nbsp;&nbsp; <i>function description</i>\n",
        "&nbsp;&nbsp;&nbsp;<pre>code for function</pre>\n",
        "\n",
        "}\n",
        "</ul>\n",
        "\n",
        "Consider the following code that creates a function named <strong>mymean</strong>.  This function will be used to compute the mean of a vector with 5 elements.\n"
      ]
    },
    {
      "cell_type": "code",
      "metadata": {
        "id": "16IZFj9-0w3a"
      },
      "source": [
        "mymean <- function(X){\n",
        "  #Purpose: Compute the mean of a vector of data\n",
        "  #Args: X = a vector of numeric data\n",
        "  #Returns: The average of the values in X\n",
        "\n",
        "  total <- 0\n",
        "  for(i in 1:5){\n",
        "    total <- total + X[i]\n",
        "  }\n",
        "  total/5\n",
        "}"
      ],
      "execution_count": 8,
      "outputs": []
    },
    {
      "cell_type": "markdown",
      "source": [
        "The print() function can be used to see all contents of the function, i.e. all documentation and code."
      ],
      "metadata": {
        "id": "boi0iCVZ8j9o"
      }
    },
    {
      "cell_type": "code",
      "source": [
        "print(mymean)"
      ],
      "metadata": {
        "colab": {
          "base_uri": "https://localhost:8080/"
        },
        "id": "U49hYc5-8kez",
        "outputId": "f12a6020-18ee-4d99-f74f-f7a18b2e2b32"
      },
      "execution_count": 15,
      "outputs": [
        {
          "output_type": "stream",
          "name": "stdout",
          "text": [
            "function(X){\n",
            "  #Purpose: Compute the mean of a vector of data\n",
            "  #Args: X = a vector of numeric data\n",
            "  #Returns: The average of the values in X\n",
            "\n",
            "  total <- 0\n",
            "  for(i in 1:5){\n",
            "    total <- total + X[i]\n",
            "  }\n",
            "  total/5\n",
            "}\n",
            "<bytecode: 0x560f17c552a0>\n"
          ]
        }
      ]
    },
    {
      "cell_type": "markdown",
      "metadata": {
        "id": "He3Rns441eov"
      },
      "source": [
        "Using the <strong>mymean()</strong> function to compute the mean of various vectors."
      ]
    },
    {
      "cell_type": "code",
      "metadata": {
        "colab": {
          "base_uri": "https://localhost:8080/",
          "height": 35
        },
        "id": "28jkJlMW1exf",
        "outputId": "1e885cdb-35d8-43bd-9fbb-0b482d248190"
      },
      "source": [
        "mymean(mydata)"
      ],
      "execution_count": 9,
      "outputs": [
        {
          "output_type": "display_data",
          "data": {
            "text/html": [
              "15"
            ],
            "text/markdown": "15",
            "text/latex": "15",
            "text/plain": [
              "[1] 15"
            ]
          },
          "metadata": {}
        }
      ]
    },
    {
      "cell_type": "code",
      "metadata": {
        "colab": {
          "base_uri": "https://localhost:8080/",
          "height": 35
        },
        "id": "RAQCqBDs1hgK",
        "outputId": "0c690ca2-03c6-4b5d-b9a1-535f682226a2"
      },
      "source": [
        "mymean(yourdata)"
      ],
      "execution_count": 10,
      "outputs": [
        {
          "output_type": "display_data",
          "data": {
            "text/html": [
              "-7"
            ],
            "text/markdown": "-7",
            "text/latex": "-7",
            "text/plain": [
              "[1] -7"
            ]
          },
          "metadata": {}
        }
      ]
    },
    {
      "cell_type": "code",
      "metadata": {
        "colab": {
          "base_uri": "https://localhost:8080/",
          "height": 35
        },
        "id": "Fkb3eJrkCqjK",
        "outputId": "0d23f27a-d809-4310-c8a8-cd729906de4c"
      },
      "source": [
        "mean(theirdata)"
      ],
      "execution_count": 11,
      "outputs": [
        {
          "output_type": "display_data",
          "data": {
            "text/html": [
              "139"
            ],
            "text/markdown": "139",
            "text/latex": "139",
            "text/plain": [
              "[1] 139"
            ]
          },
          "metadata": {}
        }
      ]
    },
    {
      "cell_type": "markdown",
      "metadata": {
        "id": "PAbDMR_jCwuU"
      },
      "source": [
        "## Looking at an Existing Function"
      ]
    },
    {
      "cell_type": "markdown",
      "metadata": {
        "id": "AK8m2ohg4F0A"
      },
      "source": [
        "Try, simply typing the name of an existing function.  Notice, not much code is provided."
      ]
    },
    {
      "cell_type": "code",
      "metadata": {
        "colab": {
          "base_uri": "https://localhost:8080/",
          "height": 52
        },
        "id": "CWJ5IvZVCw3a",
        "outputId": "1b267ab7-4145-4e5a-c267-932a1524afbb"
      },
      "source": [
        "mean"
      ],
      "execution_count": 18,
      "outputs": [
        {
          "output_type": "display_data",
          "data": {
            "text/html": [
              "<pre class=language-r><code>function (x, ...) \n",
              "UseMethod(\"mean\")</code></pre>"
            ],
            "text/markdown": "```r\nfunction (x, ...) \nUseMethod(\"mean\")\n```",
            "text/latex": "\\begin{minted}{r}\nfunction (x, ...) \nUseMethod(\"mean\")\n\\end{minted}",
            "text/plain": [
              "function (x, ...) \n",
              "UseMethod(\"mean\")\n",
              "<bytecode: 0x560f16473070>\n",
              "<environment: namespace:base>"
            ]
          },
          "metadata": {}
        }
      ]
    },
    {
      "cell_type": "markdown",
      "metadata": {
        "id": "DtjbzSM0C1Fp"
      },
      "source": [
        "Next, try adding the .default onto the end of existing function name.  This function appears somewhat *messy*; however, this is necessary prevent someone from doing something dumb with this function.  For example, trying to compute the mean of a vector that does not contain numeric quantities."
      ]
    },
    {
      "cell_type": "code",
      "metadata": {
        "colab": {
          "base_uri": "https://localhost:8080/",
          "height": 433
        },
        "id": "f7SdGTo_C1M5",
        "outputId": "212563ad-9755-4603-bf8d-d2df94f560de"
      },
      "source": [
        "mean.default"
      ],
      "execution_count": 17,
      "outputs": [
        {
          "output_type": "display_data",
          "data": {
            "text/html": [
              "<pre class=language-r><code>function (x, trim = 0, na.rm = FALSE, ...) \n",
              "{\n",
              "<span style=white-space:pre-wrap>    if (!is.numeric(x) &amp;&amp; !is.complex(x) &amp;&amp; !is.logical(x)) {</span>\n",
              "<span style=white-space:pre-wrap>        warning(\"argument is not numeric or logical: returning NA\")</span>\n",
              "<span style=white-space:pre-wrap>        return(NA_real_)</span>\n",
              "<span style=white-space:pre-wrap>    }</span>\n",
              "<span style=white-space:pre-wrap>    if (na.rm) </span>\n",
              "<span style=white-space:pre-wrap>        x &lt;- x[!is.na(x)]</span>\n",
              "<span style=white-space:pre-wrap>    if (!is.numeric(trim) || length(trim) != 1L) </span>\n",
              "<span style=white-space:pre-wrap>        stop(\"'trim' must be numeric of length one\")</span>\n",
              "<span style=white-space:pre-wrap>    n &lt;- length(x)</span>\n",
              "<span style=white-space:pre-wrap>    if (trim &gt; 0 &amp;&amp; n) {</span>\n",
              "<span style=white-space:pre-wrap>        if (is.complex(x)) </span>\n",
              "<span style=white-space:pre-wrap>            stop(\"trimmed means are not defined for complex data\")</span>\n",
              "<span style=white-space:pre-wrap>        if (anyNA(x)) </span>\n",
              "<span style=white-space:pre-wrap>            return(NA_real_)</span>\n",
              "<span style=white-space:pre-wrap>        if (trim &gt;= 0.5) </span>\n",
              "<span style=white-space:pre-wrap>            return(stats::median(x, na.rm = FALSE))</span>\n",
              "<span style=white-space:pre-wrap>        lo &lt;- floor(n * trim) + 1</span>\n",
              "<span style=white-space:pre-wrap>        hi &lt;- n + 1 - lo</span>\n",
              "<span style=white-space:pre-wrap>        x &lt;- sort.int(x, partial = unique(c(lo, hi)))[lo:hi]</span>\n",
              "<span style=white-space:pre-wrap>    }</span>\n",
              "<span style=white-space:pre-wrap>    .Internal(mean(x))</span>\n",
              "}</code></pre>"
            ],
            "text/markdown": "```r\nfunction (x, trim = 0, na.rm = FALSE, ...) \n{\n    if (!is.numeric(x) && !is.complex(x) && !is.logical(x)) {\n        warning(\"argument is not numeric or logical: returning NA\")\n        return(NA_real_)\n    }\n    if (na.rm) \n        x <- x[!is.na(x)]\n    if (!is.numeric(trim) || length(trim) != 1L) \n        stop(\"'trim' must be numeric of length one\")\n    n <- length(x)\n    if (trim > 0 && n) {\n        if (is.complex(x)) \n            stop(\"trimmed means are not defined for complex data\")\n        if (anyNA(x)) \n            return(NA_real_)\n        if (trim >= 0.5) \n            return(stats::median(x, na.rm = FALSE))\n        lo <- floor(n * trim) + 1\n        hi <- n + 1 - lo\n        x <- sort.int(x, partial = unique(c(lo, hi)))[lo:hi]\n    }\n    .Internal(mean(x))\n}\n```",
            "text/latex": "\\begin{minted}{r}\nfunction (x, trim = 0, na.rm = FALSE, ...) \n\\{\n    if (!is.numeric(x) \\&\\& !is.complex(x) \\&\\& !is.logical(x)) \\{\n        warning(\"argument is not numeric or logical: returning NA\")\n        return(NA\\_real\\_)\n    \\}\n    if (na.rm) \n        x <- x{[}!is.na(x){]}\n    if (!is.numeric(trim) \\textbar{}\\textbar{} length(trim) != 1L) \n        stop(\"'trim' must be numeric of length one\")\n    n <- length(x)\n    if (trim > 0 \\&\\& n) \\{\n        if (is.complex(x)) \n            stop(\"trimmed means are not defined for complex data\")\n        if (anyNA(x)) \n            return(NA\\_real\\_)\n        if (trim >= 0.5) \n            return(stats::median(x, na.rm = FALSE))\n        lo <- floor(n * trim) + 1\n        hi <- n + 1 - lo\n        x <- sort.int(x, partial = unique(c(lo, hi))){[}lo:hi{]}\n    \\}\n    .Internal(mean(x))\n\\}\n\\end{minted}",
            "text/plain": [
              "function (x, trim = 0, na.rm = FALSE, ...) \n",
              "{\n",
              "    if (!is.numeric(x) && !is.complex(x) && !is.logical(x)) {\n",
              "        warning(\"argument is not numeric or logical: returning NA\")\n",
              "        return(NA_real_)\n",
              "    }\n",
              "    if (na.rm) \n",
              "        x <- x[!is.na(x)]\n",
              "    if (!is.numeric(trim) || length(trim) != 1L) \n",
              "        stop(\"'trim' must be numeric of length one\")\n",
              "    n <- length(x)\n",
              "    if (trim > 0 && n) {\n",
              "        if (is.complex(x)) \n",
              "            stop(\"trimmed means are not defined for complex data\")\n",
              "        if (anyNA(x)) \n",
              "            return(NA_real_)\n",
              "        if (trim >= 0.5) \n",
              "            return(stats::median(x, na.rm = FALSE))\n",
              "        lo <- floor(n * trim) + 1\n",
              "        hi <- n + 1 - lo\n",
              "        x <- sort.int(x, partial = unique(c(lo, hi)))[lo:hi]\n",
              "    }\n",
              "    .Internal(mean(x))\n",
              "}\n",
              "<bytecode: 0x560f19124ee8>\n",
              "<environment: namespace:base>"
            ]
          },
          "metadata": {}
        }
      ]
    },
    {
      "cell_type": "markdown",
      "metadata": {
        "id": "Yh1kz3Ij4VsD"
      },
      "source": [
        "Notice, that for a custom function, the code is returned when the function name is typed."
      ]
    },
    {
      "cell_type": "code",
      "metadata": {
        "colab": {
          "base_uri": "https://localhost:8080/",
          "height": 156
        },
        "id": "SyWgLgpr4V0T",
        "outputId": "c5b72653-8fc8-43e1-901a-4fb82dc2c76b"
      },
      "source": [
        "mymean"
      ],
      "execution_count": 16,
      "outputs": [
        {
          "output_type": "display_data",
          "data": {
            "text/html": [
              "<pre class=language-r><code>function (X) \n",
              "{\n",
              "<span style=white-space:pre-wrap>    total &lt;- 0</span>\n",
              "<span style=white-space:pre-wrap>    for (i in 1:5) {</span>\n",
              "<span style=white-space:pre-wrap>        total &lt;- total + X[i]</span>\n",
              "<span style=white-space:pre-wrap>    }</span>\n",
              "<span style=white-space:pre-wrap>    total/5</span>\n",
              "}</code></pre>"
            ],
            "text/markdown": "```r\nfunction (X) \n{\n    total <- 0\n    for (i in 1:5) {\n        total <- total + X[i]\n    }\n    total/5\n}\n```",
            "text/latex": "\\begin{minted}{r}\nfunction (X) \n\\{\n    total <- 0\n    for (i in 1:5) \\{\n        total <- total + X{[}i{]}\n    \\}\n    total/5\n\\}\n\\end{minted}",
            "text/plain": [
              "function(X){\n",
              "  #Purpose: Compute the mean of a vector of data\n",
              "  #Args: X = a vector of numeric data\n",
              "  #Returns: The average of the values in X\n",
              "\n",
              "  total <- 0\n",
              "  for(i in 1:5){\n",
              "    total <- total + X[i]\n",
              "  }\n",
              "  total/5\n",
              "}\n",
              "<bytecode: 0x560f17c552a0>"
            ]
          },
          "metadata": {}
        }
      ]
    },
    {
      "cell_type": "markdown",
      "metadata": {
        "id": "1em8CVNzC7Qz"
      },
      "source": [
        "## More on Function Writing - Using Default Values"
      ]
    },
    {
      "cell_type": "markdown",
      "metadata": {
        "id": "LDvUijbH5GRo"
      },
      "source": [
        "At times, it might be convinent to specify a default value that can be used by the function."
      ]
    },
    {
      "cell_type": "code",
      "metadata": {
        "id": "19zK0pCDC7YB"
      },
      "source": [
        "mymean <- function(X, n=5){\n",
        "  #Purpose: Compute the mean of a vector of data\n",
        "  #Args: X = a vector of numeric data\n",
        "  #      n = length of the X vector\n",
        "  #Returns: The average of the values in X\n",
        "\n",
        "  total <- 0\n",
        "  for(i in 1:n){\n",
        "    total <- total + X[i]\n",
        "  }\n",
        "  total/n\n",
        "}"
      ],
      "execution_count": 19,
      "outputs": []
    },
    {
      "cell_type": "markdown",
      "metadata": {
        "id": "Z-OI62WaDTdk"
      },
      "source": [
        "Using the updated mydata function."
      ]
    },
    {
      "cell_type": "code",
      "metadata": {
        "colab": {
          "base_uri": "https://localhost:8080/",
          "height": 35
        },
        "id": "KUOfh5t5DTm5",
        "outputId": "c34a0240-fbaf-4712-cb97-71091e922a10"
      },
      "source": [
        "mymean(mydata)"
      ],
      "execution_count": 26,
      "outputs": [
        {
          "output_type": "display_data",
          "data": {
            "text/html": [
              "15"
            ],
            "text/markdown": "15",
            "text/latex": "15",
            "text/plain": [
              "[1] 15"
            ]
          },
          "metadata": {}
        }
      ]
    },
    {
      "cell_type": "markdown",
      "metadata": {
        "id": "faVdFSTc5eP8"
      },
      "source": [
        "Next, create a new vector, called noonesdata, that only has 4 values."
      ]
    },
    {
      "cell_type": "code",
      "metadata": {
        "id": "Sne-M7d45eYY"
      },
      "source": [
        "noonesdata <- c(56, 59, 54, 51)"
      ],
      "execution_count": 27,
      "outputs": []
    },
    {
      "cell_type": "markdown",
      "metadata": {
        "id": "cRN-hodc5jp8"
      },
      "source": [
        "When computing the average, we must specify that the vector being passed through the function only has 4 values instead of 5."
      ]
    },
    {
      "cell_type": "code",
      "metadata": {
        "colab": {
          "base_uri": "https://localhost:8080/",
          "height": 35
        },
        "id": "O_U1_YOx5jw6",
        "outputId": "bc46cf65-5615-435c-8c53-1172e5d9f11d"
      },
      "source": [
        "mymean(noonesdata, n=4)"
      ],
      "execution_count": 28,
      "outputs": [
        {
          "output_type": "display_data",
          "data": {
            "text/html": [
              "55"
            ],
            "text/markdown": "55",
            "text/latex": "55",
            "text/plain": [
              "[1] 55"
            ]
          },
          "metadata": {}
        }
      ]
    },
    {
      "cell_type": "markdown",
      "source": [
        "The following should **fail** as noonesdata only has four values, but the mymean() function has a default specification of n=5."
      ],
      "metadata": {
        "id": "bcKDbmJM_2-X"
      }
    },
    {
      "cell_type": "code",
      "source": [
        "mymean(noonesdata)"
      ],
      "metadata": {
        "colab": {
          "base_uri": "https://localhost:8080/",
          "height": 35
        },
        "id": "GojKTXeE_3GM",
        "outputId": "38a45df4-635e-432f-886d-bbf34eb7c43a"
      },
      "execution_count": 29,
      "outputs": [
        {
          "output_type": "display_data",
          "data": {
            "text/html": [
              "&lt;NA&gt;"
            ],
            "text/markdown": "&lt;NA&gt;",
            "text/latex": "<NA>",
            "text/plain": [
              "[1] NA"
            ]
          },
          "metadata": {}
        }
      ]
    },
    {
      "cell_type": "markdown",
      "source": [
        "The best option might be to let the function automatically determine the length of the vector -- instead of having the length \"hard coded\" into the function or being having it passed as a function argument. "
      ],
      "metadata": {
        "id": "Bu3AKhwYAPDt"
      }
    },
    {
      "cell_type": "code",
      "source": [
        "mymean <- function(X){\n",
        "  #Purpose: Compute the mean of a vector of data\n",
        "  #Args: X = a vector of numeric data\n",
        "  #Returns: The average of the values in X\n",
        "\n",
        "  total <- 0\n",
        "  n <- length(X)\n",
        "  for(i in 1:n){\n",
        "    total <- total + X[i]\n",
        "  }\n",
        "  total/n\n",
        "}"
      ],
      "metadata": {
        "id": "9AeOmfSyAPGG"
      },
      "execution_count": 32,
      "outputs": []
    },
    {
      "cell_type": "markdown",
      "source": [
        "Using the updated mymean() function -- which appears to be working successfully."
      ],
      "metadata": {
        "id": "1JUDm1gaAVDN"
      }
    },
    {
      "cell_type": "code",
      "source": [
        "mymean(noonesdata)"
      ],
      "metadata": {
        "colab": {
          "base_uri": "https://localhost:8080/",
          "height": 35
        },
        "id": "7TctJzoKAVKs",
        "outputId": "429d3ab2-fe49-4aa5-bf3c-3a709802ad97"
      },
      "execution_count": 33,
      "outputs": [
        {
          "output_type": "display_data",
          "data": {
            "text/html": [
              "55"
            ],
            "text/markdown": "55",
            "text/latex": "55",
            "text/plain": [
              "[1] 55"
            ]
          },
          "metadata": {}
        }
      ]
    },
    {
      "cell_type": "markdown",
      "metadata": {
        "id": "ECiNmp7XPqPo"
      },
      "source": [
        "\n",
        "\n",
        "---\n",
        "\n",
        "\n",
        "\n",
        "---\n",
        "\n"
      ]
    },
    {
      "cell_type": "markdown",
      "source": [
        "## UCLA Loneliness Data"
      ],
      "metadata": {
        "id": "1p6E9sW0BYq-"
      }
    },
    {
      "cell_type": "markdown",
      "source": [
        "The tidyverse() package will be used for this example, so install this library."
      ],
      "metadata": {
        "id": "zGIQn6tYC5Mf"
      }
    },
    {
      "cell_type": "code",
      "metadata": {
        "id": "-8FjBifiPqYl"
      },
      "source": [
        "library(tidyverse)"
      ],
      "execution_count": 36,
      "outputs": []
    },
    {
      "cell_type": "markdown",
      "metadata": {
        "id": "YvGc_z83Pxj2"
      },
      "source": [
        "Load the UCLA Loneliness dataset into R using read_csv()."
      ]
    },
    {
      "cell_type": "code",
      "metadata": {
        "colab": {
          "base_uri": "https://localhost:8080/"
        },
        "id": "_urT56ZMPxqd",
        "outputId": "41463fb6-9288-42f9-9d42-5f7e6a3ae79e"
      },
      "source": [
        "UCLA_Loneliness <- read_csv('/content/sample_data/UCLA_LonelinessScale.csv')"
      ],
      "execution_count": 37,
      "outputs": [
        {
          "output_type": "stream",
          "name": "stderr",
          "text": [
            "\u001b[1mRows: \u001b[22m\u001b[34m278\u001b[39m \u001b[1mColumns: \u001b[22m\u001b[34m22\u001b[39m\n",
            "\u001b[36m──\u001b[39m \u001b[1mColumn specification\u001b[22m \u001b[36m────────────────────────────────────────────────────────\u001b[39m\n",
            "\u001b[1mDelimiter:\u001b[22m \",\"\n",
            "\u001b[31mchr\u001b[39m  (1): ParticipantID\n",
            "\u001b[32mdbl\u001b[39m (21): Age, Statement1, Statement2, Statement3, Statement4, Statement5, S...\n",
            "\n",
            "\u001b[36mℹ\u001b[39m Use `spec()` to retrieve the full column specification for this data.\n",
            "\u001b[36mℹ\u001b[39m Specify the column types or set `show_col_types = FALSE` to quiet this message.\n"
          ]
        }
      ]
    },
    {
      "cell_type": "markdown",
      "metadata": {
        "id": "Z5MI_ZV5QAte"
      },
      "source": [
        "Using str() function to investigate the structure of this data.frame."
      ]
    },
    {
      "cell_type": "code",
      "metadata": {
        "colab": {
          "base_uri": "https://localhost:8080/"
        },
        "id": "BUQep_sTQA0J",
        "outputId": "622ea51f-52b2-4880-8f5c-41cf879747ee"
      },
      "source": [
        "str(UCLA_Loneliness)"
      ],
      "execution_count": 38,
      "outputs": [
        {
          "output_type": "stream",
          "name": "stdout",
          "text": [
            "spec_tbl_df [278 × 22] (S3: spec_tbl_df/tbl_df/tbl/data.frame)\n",
            " $ ParticipantID: chr [1:278] \"ParticipantID_001\" \"ParticipantID_002\" \"ParticipantID_003\" \"ParticipantID_004\" ...\n",
            " $ Age          : num [1:278] 42 50 57 35 51 60 50 57 57 47 ...\n",
            " $ Statement1   : num [1:278] 1 2 4 4 1 4 4 4 3 4 ...\n",
            " $ Statement2   : num [1:278] 2 3 4 1 2 3 1 1 2 2 ...\n",
            " $ Statement3   : num [1:278] 4 2 4 1 4 2 1 3 3 1 ...\n",
            " $ Statement4   : num [1:278] 1 1 3 1 4 3 3 2 2 2 ...\n",
            " $ Statement5   : num [1:278] 1 2 1 3 2 4 4 2 4 2 ...\n",
            " $ Statement6   : num [1:278] 1 4 3 2 2 3 4 2 3 4 ...\n",
            " $ Statement7   : num [1:278] 4 1 2 1 4 1 1 3 1 1 ...\n",
            " $ Statement8   : num [1:278] 1 4 1 1 3 1 2 1 2 1 ...\n",
            " $ Statement9   : num [1:278] 3 3 3 3 2 3 3 4 3 4 ...\n",
            " $ Statement10  : num [1:278] 2 2 2 1 2 4 2 4 2 2 ...\n",
            " $ Statement11  : num [1:278] 1 3 2 1 2 3 2 3 3 2 ...\n",
            " $ Statement12  : num [1:278] 4 3 3 4 4 1 2 2 1 4 ...\n",
            " $ Statement13  : num [1:278] 4 1 4 2 3 3 4 2 3 3 ...\n",
            " $ Statement14  : num [1:278] 1 3 3 1 4 1 1 4 3 3 ...\n",
            " $ Statment15   : num [1:278] 2 4 3 3 3 4 4 2 2 4 ...\n",
            " $ Statement16  : num [1:278] 1 3 2 4 2 3 2 4 4 4 ...\n",
            " $ Statement17  : num [1:278] 3 3 4 4 2 4 1 1 3 2 ...\n",
            " $ Statement18  : num [1:278] 4 3 3 3 4 1 3 3 3 4 ...\n",
            " $ Statement19  : num [1:278] 1 4 3 2 3 4 4 4 3 2 ...\n",
            " $ Statement20  : num [1:278] 1 2 1 2 3 4 3 4 2 3 ...\n",
            " - attr(*, \"spec\")=\n",
            "  .. cols(\n",
            "  ..   ParticipantID = \u001b[31mcol_character()\u001b[39m,\n",
            "  ..   Age = \u001b[32mcol_double()\u001b[39m,\n",
            "  ..   Statement1 = \u001b[32mcol_double()\u001b[39m,\n",
            "  ..   Statement2 = \u001b[32mcol_double()\u001b[39m,\n",
            "  ..   Statement3 = \u001b[32mcol_double()\u001b[39m,\n",
            "  ..   Statement4 = \u001b[32mcol_double()\u001b[39m,\n",
            "  ..   Statement5 = \u001b[32mcol_double()\u001b[39m,\n",
            "  ..   Statement6 = \u001b[32mcol_double()\u001b[39m,\n",
            "  ..   Statement7 = \u001b[32mcol_double()\u001b[39m,\n",
            "  ..   Statement8 = \u001b[32mcol_double()\u001b[39m,\n",
            "  ..   Statement9 = \u001b[32mcol_double()\u001b[39m,\n",
            "  ..   Statement10 = \u001b[32mcol_double()\u001b[39m,\n",
            "  ..   Statement11 = \u001b[32mcol_double()\u001b[39m,\n",
            "  ..   Statement12 = \u001b[32mcol_double()\u001b[39m,\n",
            "  ..   Statement13 = \u001b[32mcol_double()\u001b[39m,\n",
            "  ..   Statement14 = \u001b[32mcol_double()\u001b[39m,\n",
            "  ..   Statment15 = \u001b[32mcol_double()\u001b[39m,\n",
            "  ..   Statement16 = \u001b[32mcol_double()\u001b[39m,\n",
            "  ..   Statement17 = \u001b[32mcol_double()\u001b[39m,\n",
            "  ..   Statement18 = \u001b[32mcol_double()\u001b[39m,\n",
            "  ..   Statement19 = \u001b[32mcol_double()\u001b[39m,\n",
            "  ..   Statement20 = \u001b[32mcol_double()\u001b[39m\n",
            "  .. )\n",
            " - attr(*, \"problems\")=<externalptr> \n"
          ]
        }
      ]
    },
    {
      "cell_type": "markdown",
      "source": [
        "Looking at the first few rows of the data.frame using head()."
      ],
      "metadata": {
        "id": "k8JE5ffRDmJd"
      }
    },
    {
      "cell_type": "code",
      "metadata": {
        "colab": {
          "base_uri": "https://localhost:8080/",
          "height": 306
        },
        "id": "69O5eJmUQFr_",
        "outputId": "c7f06200-9fb9-4864-b1a6-78853dbf9d1b"
      },
      "source": [
        "head(UCLA_Loneliness)"
      ],
      "execution_count": 39,
      "outputs": [
        {
          "output_type": "display_data",
          "data": {
            "text/html": [
              "<table class=\"dataframe\">\n",
              "<caption>A tibble: 6 × 22</caption>\n",
              "<thead>\n",
              "\t<tr><th scope=col>ParticipantID</th><th scope=col>Age</th><th scope=col>Statement1</th><th scope=col>Statement2</th><th scope=col>Statement3</th><th scope=col>Statement4</th><th scope=col>Statement5</th><th scope=col>Statement6</th><th scope=col>Statement7</th><th scope=col>Statement8</th><th scope=col>⋯</th><th scope=col>Statement11</th><th scope=col>Statement12</th><th scope=col>Statement13</th><th scope=col>Statement14</th><th scope=col>Statment15</th><th scope=col>Statement16</th><th scope=col>Statement17</th><th scope=col>Statement18</th><th scope=col>Statement19</th><th scope=col>Statement20</th></tr>\n",
              "\t<tr><th scope=col>&lt;chr&gt;</th><th scope=col>&lt;dbl&gt;</th><th scope=col>&lt;dbl&gt;</th><th scope=col>&lt;dbl&gt;</th><th scope=col>&lt;dbl&gt;</th><th scope=col>&lt;dbl&gt;</th><th scope=col>&lt;dbl&gt;</th><th scope=col>&lt;dbl&gt;</th><th scope=col>&lt;dbl&gt;</th><th scope=col>&lt;dbl&gt;</th><th scope=col>⋯</th><th scope=col>&lt;dbl&gt;</th><th scope=col>&lt;dbl&gt;</th><th scope=col>&lt;dbl&gt;</th><th scope=col>&lt;dbl&gt;</th><th scope=col>&lt;dbl&gt;</th><th scope=col>&lt;dbl&gt;</th><th scope=col>&lt;dbl&gt;</th><th scope=col>&lt;dbl&gt;</th><th scope=col>&lt;dbl&gt;</th><th scope=col>&lt;dbl&gt;</th></tr>\n",
              "</thead>\n",
              "<tbody>\n",
              "\t<tr><td>ParticipantID_001</td><td>42</td><td>1</td><td>2</td><td>4</td><td>1</td><td>1</td><td>1</td><td>4</td><td>1</td><td>⋯</td><td>1</td><td>4</td><td>4</td><td>1</td><td>2</td><td>1</td><td>3</td><td>4</td><td>1</td><td>1</td></tr>\n",
              "\t<tr><td>ParticipantID_002</td><td>50</td><td>2</td><td>3</td><td>2</td><td>1</td><td>2</td><td>4</td><td>1</td><td>4</td><td>⋯</td><td>3</td><td>3</td><td>1</td><td>3</td><td>4</td><td>3</td><td>3</td><td>3</td><td>4</td><td>2</td></tr>\n",
              "\t<tr><td>ParticipantID_003</td><td>57</td><td>4</td><td>4</td><td>4</td><td>3</td><td>1</td><td>3</td><td>2</td><td>1</td><td>⋯</td><td>2</td><td>3</td><td>4</td><td>3</td><td>3</td><td>2</td><td>4</td><td>3</td><td>3</td><td>1</td></tr>\n",
              "\t<tr><td>ParticipantID_004</td><td>35</td><td>4</td><td>1</td><td>1</td><td>1</td><td>3</td><td>2</td><td>1</td><td>1</td><td>⋯</td><td>1</td><td>4</td><td>2</td><td>1</td><td>3</td><td>4</td><td>4</td><td>3</td><td>2</td><td>2</td></tr>\n",
              "\t<tr><td>ParticipantID_005</td><td>51</td><td>1</td><td>2</td><td>4</td><td>4</td><td>2</td><td>2</td><td>4</td><td>3</td><td>⋯</td><td>2</td><td>4</td><td>3</td><td>4</td><td>3</td><td>2</td><td>2</td><td>4</td><td>3</td><td>3</td></tr>\n",
              "\t<tr><td>ParticipantID_006</td><td>60</td><td>4</td><td>3</td><td>2</td><td>3</td><td>4</td><td>3</td><td>1</td><td>1</td><td>⋯</td><td>3</td><td>1</td><td>3</td><td>1</td><td>4</td><td>3</td><td>4</td><td>1</td><td>4</td><td>4</td></tr>\n",
              "</tbody>\n",
              "</table>\n"
            ],
            "text/markdown": "\nA tibble: 6 × 22\n\n| ParticipantID &lt;chr&gt; | Age &lt;dbl&gt; | Statement1 &lt;dbl&gt; | Statement2 &lt;dbl&gt; | Statement3 &lt;dbl&gt; | Statement4 &lt;dbl&gt; | Statement5 &lt;dbl&gt; | Statement6 &lt;dbl&gt; | Statement7 &lt;dbl&gt; | Statement8 &lt;dbl&gt; | ⋯ ⋯ | Statement11 &lt;dbl&gt; | Statement12 &lt;dbl&gt; | Statement13 &lt;dbl&gt; | Statement14 &lt;dbl&gt; | Statment15 &lt;dbl&gt; | Statement16 &lt;dbl&gt; | Statement17 &lt;dbl&gt; | Statement18 &lt;dbl&gt; | Statement19 &lt;dbl&gt; | Statement20 &lt;dbl&gt; |\n|---|---|---|---|---|---|---|---|---|---|---|---|---|---|---|---|---|---|---|---|---|\n| ParticipantID_001 | 42 | 1 | 2 | 4 | 1 | 1 | 1 | 4 | 1 | ⋯ | 1 | 4 | 4 | 1 | 2 | 1 | 3 | 4 | 1 | 1 |\n| ParticipantID_002 | 50 | 2 | 3 | 2 | 1 | 2 | 4 | 1 | 4 | ⋯ | 3 | 3 | 1 | 3 | 4 | 3 | 3 | 3 | 4 | 2 |\n| ParticipantID_003 | 57 | 4 | 4 | 4 | 3 | 1 | 3 | 2 | 1 | ⋯ | 2 | 3 | 4 | 3 | 3 | 2 | 4 | 3 | 3 | 1 |\n| ParticipantID_004 | 35 | 4 | 1 | 1 | 1 | 3 | 2 | 1 | 1 | ⋯ | 1 | 4 | 2 | 1 | 3 | 4 | 4 | 3 | 2 | 2 |\n| ParticipantID_005 | 51 | 1 | 2 | 4 | 4 | 2 | 2 | 4 | 3 | ⋯ | 2 | 4 | 3 | 4 | 3 | 2 | 2 | 4 | 3 | 3 |\n| ParticipantID_006 | 60 | 4 | 3 | 2 | 3 | 4 | 3 | 1 | 1 | ⋯ | 3 | 1 | 3 | 1 | 4 | 3 | 4 | 1 | 4 | 4 |\n\n",
            "text/latex": "A tibble: 6 × 22\n\\begin{tabular}{lllllllllllllllllllll}\n ParticipantID & Age & Statement1 & Statement2 & Statement3 & Statement4 & Statement5 & Statement6 & Statement7 & Statement8 & ⋯ & Statement11 & Statement12 & Statement13 & Statement14 & Statment15 & Statement16 & Statement17 & Statement18 & Statement19 & Statement20\\\\\n <chr> & <dbl> & <dbl> & <dbl> & <dbl> & <dbl> & <dbl> & <dbl> & <dbl> & <dbl> & ⋯ & <dbl> & <dbl> & <dbl> & <dbl> & <dbl> & <dbl> & <dbl> & <dbl> & <dbl> & <dbl>\\\\\n\\hline\n\t ParticipantID\\_001 & 42 & 1 & 2 & 4 & 1 & 1 & 1 & 4 & 1 & ⋯ & 1 & 4 & 4 & 1 & 2 & 1 & 3 & 4 & 1 & 1\\\\\n\t ParticipantID\\_002 & 50 & 2 & 3 & 2 & 1 & 2 & 4 & 1 & 4 & ⋯ & 3 & 3 & 1 & 3 & 4 & 3 & 3 & 3 & 4 & 2\\\\\n\t ParticipantID\\_003 & 57 & 4 & 4 & 4 & 3 & 1 & 3 & 2 & 1 & ⋯ & 2 & 3 & 4 & 3 & 3 & 2 & 4 & 3 & 3 & 1\\\\\n\t ParticipantID\\_004 & 35 & 4 & 1 & 1 & 1 & 3 & 2 & 1 & 1 & ⋯ & 1 & 4 & 2 & 1 & 3 & 4 & 4 & 3 & 2 & 2\\\\\n\t ParticipantID\\_005 & 51 & 1 & 2 & 4 & 4 & 2 & 2 & 4 & 3 & ⋯ & 2 & 4 & 3 & 4 & 3 & 2 & 2 & 4 & 3 & 3\\\\\n\t ParticipantID\\_006 & 60 & 4 & 3 & 2 & 3 & 4 & 3 & 1 & 1 & ⋯ & 3 & 1 & 3 & 1 & 4 & 3 & 4 & 1 & 4 & 4\\\\\n\\end{tabular}\n",
            "text/plain": [
              "  ParticipantID     Age Statement1 Statement2 Statement3 Statement4 Statement5\n",
              "1 ParticipantID_001 42  1          2          4          1          1         \n",
              "2 ParticipantID_002 50  2          3          2          1          2         \n",
              "3 ParticipantID_003 57  4          4          4          3          1         \n",
              "4 ParticipantID_004 35  4          1          1          1          3         \n",
              "5 ParticipantID_005 51  1          2          4          4          2         \n",
              "6 ParticipantID_006 60  4          3          2          3          4         \n",
              "  Statement6 Statement7 Statement8 ⋯ Statement11 Statement12 Statement13\n",
              "1 1          4          1          ⋯ 1           4           4          \n",
              "2 4          1          4          ⋯ 3           3           1          \n",
              "3 3          2          1          ⋯ 2           3           4          \n",
              "4 2          1          1          ⋯ 1           4           2          \n",
              "5 2          4          3          ⋯ 2           4           3          \n",
              "6 3          1          1          ⋯ 3           1           3          \n",
              "  Statement14 Statment15 Statement16 Statement17 Statement18 Statement19\n",
              "1 1           2          1           3           4           1          \n",
              "2 3           4          3           3           3           4          \n",
              "3 3           3          2           4           3           3          \n",
              "4 1           3          4           4           3           2          \n",
              "5 4           3          2           2           4           3          \n",
              "6 1           4          3           4           1           4          \n",
              "  Statement20\n",
              "1 1          \n",
              "2 2          \n",
              "3 1          \n",
              "4 2          \n",
              "5 3          \n",
              "6 4          "
            ]
          },
          "metadata": {}
        }
      ]
    },
    {
      "cell_type": "markdown",
      "source": [
        "Getting the dimension of the data.frame using dim()."
      ],
      "metadata": {
        "id": "pJeorQmODwjW"
      }
    },
    {
      "cell_type": "code",
      "metadata": {
        "colab": {
          "base_uri": "https://localhost:8080/",
          "height": 35
        },
        "id": "Vgq3TkkUQMSW",
        "outputId": "9d2dc6e5-ce77-426a-e4e3-501d75b7f371"
      },
      "source": [
        "dim(UCLA_Loneliness)"
      ],
      "execution_count": 40,
      "outputs": [
        {
          "output_type": "display_data",
          "data": {
            "text/html": [
              "<style>\n",
              ".list-inline {list-style: none; margin:0; padding: 0}\n",
              ".list-inline>li {display: inline-block}\n",
              ".list-inline>li:not(:last-child)::after {content: \"\\00b7\"; padding: 0 .5ex}\n",
              "</style>\n",
              "<ol class=list-inline><li>278</li><li>22</li></ol>\n"
            ],
            "text/markdown": "1. 278\n2. 22\n\n\n",
            "text/latex": "\\begin{enumerate*}\n\\item 278\n\\item 22\n\\end{enumerate*}\n",
            "text/plain": [
              "[1] 278  22"
            ]
          },
          "metadata": {}
        }
      ]
    },
    {
      "cell_type": "markdown",
      "metadata": {
        "id": "vnPMOezDTRf0"
      },
      "source": [
        "\n",
        "\n",
        "---\n",
        "\n",
        "\n",
        "\n",
        "---\n",
        "\n"
      ]
    },
    {
      "cell_type": "markdown",
      "source": [
        "## Task: Write a Custom Function"
      ],
      "metadata": {
        "id": "MtzN2hBJEWwo"
      }
    },
    {
      "cell_type": "markdown",
      "source": [
        "Write a custom function that computes the mean of a column from a specifed data.frame.  The data.frame contains some columns that are reversed coded, so for such columns recoding of the values is necessary for these columns.  Statments with reverse ordering are provided in the documentation provided with this data.\n"
      ],
      "metadata": {
        "id": "8seHTwg6Efhg"
      }
    },
    {
      "cell_type": "code",
      "source": [
        "Code for Task"
      ],
      "metadata": {
        "id": "WUmnCQiREW5H"
      },
      "execution_count": null,
      "outputs": []
    }
  ]
}