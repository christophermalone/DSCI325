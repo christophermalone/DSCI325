{
  "nbformat": 4,
  "nbformat_minor": 0,
  "metadata": {
    "colab": {
      "name": "Module4_Part1R.ipynb",
      "provenance": [],
      "authorship_tag": "ABX9TyPO6tKkNRZKcvJ+qiM8vcgh",
      "include_colab_link": true
    },
    "kernelspec": {
      "name": "ir",
      "display_name": "R"
    },
    "language_info": {
      "name": "R"
    }
  },
  "cells": [
    {
      "cell_type": "markdown",
      "metadata": {
        "id": "view-in-github",
        "colab_type": "text"
      },
      "source": [
        "<a href=\"https://colab.research.google.com/github/christophermalone/DSCI325/blob/main/Module4_Part1R.ipynb\" target=\"_parent\"><img src=\"https://colab.research.google.com/assets/colab-badge.svg\" alt=\"Open In Colab\"/></a>"
      ]
    },
    {
      "cell_type": "code",
      "metadata": {
        "id": "mhGAUXrJCkjb"
      },
      "source": [
        "mydata <- c(12, 14, 15, 16, 17)"
      ],
      "execution_count": 2,
      "outputs": []
    },
    {
      "cell_type": "markdown",
      "metadata": {
        "id": "0pEUulg8CqbT"
      },
      "source": [
        ""
      ]
    },
    {
      "cell_type": "code",
      "metadata": {
        "colab": {
          "base_uri": "https://localhost:8080/",
          "height": 35
        },
        "id": "Fkb3eJrkCqjK",
        "outputId": "e9a7ddf0-290e-4efb-e5bb-046f9bc5f2fa"
      },
      "source": [
        "mean(mydata)"
      ],
      "execution_count": 3,
      "outputs": [
        {
          "output_type": "display_data",
          "data": {
            "text/plain": [
              "[1] 14.8"
            ],
            "text/latex": "14.8",
            "text/markdown": "14.8",
            "text/html": [
              "14.8"
            ]
          },
          "metadata": {
            "tags": []
          }
        }
      ]
    },
    {
      "cell_type": "markdown",
      "metadata": {
        "id": "PAbDMR_jCwuU"
      },
      "source": [
        ""
      ]
    },
    {
      "cell_type": "code",
      "metadata": {
        "colab": {
          "base_uri": "https://localhost:8080/",
          "height": 52
        },
        "id": "CWJ5IvZVCw3a",
        "outputId": "f6f736f4-0a01-430b-ee35-0ae317df9639"
      },
      "source": [
        "mean"
      ],
      "execution_count": 4,
      "outputs": [
        {
          "output_type": "display_data",
          "data": {
            "text/plain": [
              "function (x, ...) \n",
              "UseMethod(\"mean\")\n",
              "<bytecode: 0x561bedb1ba80>\n",
              "<environment: namespace:base>"
            ],
            "text/latex": "\\begin{minted}{r}\nfunction (x, ...) \nUseMethod(\"mean\")\n\\end{minted}",
            "text/markdown": "```r\nfunction (x, ...) \nUseMethod(\"mean\")\n```",
            "text/html": [
              "<pre class=language-r><code>function (x, ...) \n",
              "UseMethod(\"mean\")</code></pre>"
            ]
          },
          "metadata": {
            "tags": []
          }
        }
      ]
    },
    {
      "cell_type": "markdown",
      "metadata": {
        "id": "DtjbzSM0C1Fp"
      },
      "source": [
        ""
      ]
    },
    {
      "cell_type": "code",
      "metadata": {
        "colab": {
          "base_uri": "https://localhost:8080/",
          "height": 432
        },
        "id": "f7SdGTo_C1M5",
        "outputId": "f9147dca-b4d4-4490-f9e4-f6d81017f24f"
      },
      "source": [
        "mean.default"
      ],
      "execution_count": 5,
      "outputs": [
        {
          "output_type": "display_data",
          "data": {
            "text/plain": [
              "function (x, trim = 0, na.rm = FALSE, ...) \n",
              "{\n",
              "    if (!is.numeric(x) && !is.complex(x) && !is.logical(x)) {\n",
              "        warning(\"argument is not numeric or logical: returning NA\")\n",
              "        return(NA_real_)\n",
              "    }\n",
              "    if (na.rm) \n",
              "        x <- x[!is.na(x)]\n",
              "    if (!is.numeric(trim) || length(trim) != 1L) \n",
              "        stop(\"'trim' must be numeric of length one\")\n",
              "    n <- length(x)\n",
              "    if (trim > 0 && n) {\n",
              "        if (is.complex(x)) \n",
              "            stop(\"trimmed means are not defined for complex data\")\n",
              "        if (anyNA(x)) \n",
              "            return(NA_real_)\n",
              "        if (trim >= 0.5) \n",
              "            return(stats::median(x, na.rm = FALSE))\n",
              "        lo <- floor(n * trim) + 1\n",
              "        hi <- n + 1 - lo\n",
              "        x <- sort.int(x, partial = unique(c(lo, hi)))[lo:hi]\n",
              "    }\n",
              "    .Internal(mean(x))\n",
              "}\n",
              "<bytecode: 0x561bf002e7b0>\n",
              "<environment: namespace:base>"
            ],
            "text/latex": "\\begin{minted}{r}\nfunction (x, trim = 0, na.rm = FALSE, ...) \n\\{\n    if (!is.numeric(x) \\&\\& !is.complex(x) \\&\\& !is.logical(x)) \\{\n        warning(\"argument is not numeric or logical: returning NA\")\n        return(NA\\_real\\_)\n    \\}\n    if (na.rm) \n        x <- x{[}!is.na(x){]}\n    if (!is.numeric(trim) \\textbar{}\\textbar{} length(trim) != 1L) \n        stop(\"'trim' must be numeric of length one\")\n    n <- length(x)\n    if (trim > 0 \\&\\& n) \\{\n        if (is.complex(x)) \n            stop(\"trimmed means are not defined for complex data\")\n        if (anyNA(x)) \n            return(NA\\_real\\_)\n        if (trim >= 0.5) \n            return(stats::median(x, na.rm = FALSE))\n        lo <- floor(n * trim) + 1\n        hi <- n + 1 - lo\n        x <- sort.int(x, partial = unique(c(lo, hi))){[}lo:hi{]}\n    \\}\n    .Internal(mean(x))\n\\}\n\\end{minted}",
            "text/markdown": "```r\nfunction (x, trim = 0, na.rm = FALSE, ...) \n{\n    if (!is.numeric(x) && !is.complex(x) && !is.logical(x)) {\n        warning(\"argument is not numeric or logical: returning NA\")\n        return(NA_real_)\n    }\n    if (na.rm) \n        x <- x[!is.na(x)]\n    if (!is.numeric(trim) || length(trim) != 1L) \n        stop(\"'trim' must be numeric of length one\")\n    n <- length(x)\n    if (trim > 0 && n) {\n        if (is.complex(x)) \n            stop(\"trimmed means are not defined for complex data\")\n        if (anyNA(x)) \n            return(NA_real_)\n        if (trim >= 0.5) \n            return(stats::median(x, na.rm = FALSE))\n        lo <- floor(n * trim) + 1\n        hi <- n + 1 - lo\n        x <- sort.int(x, partial = unique(c(lo, hi)))[lo:hi]\n    }\n    .Internal(mean(x))\n}\n```",
            "text/html": [
              "<pre class=language-r><code>function (x, trim = 0, na.rm = FALSE, ...) \n",
              "{\n",
              "<span style=white-space:pre-wrap>    if (!is.numeric(x) &amp;&amp; !is.complex(x) &amp;&amp; !is.logical(x)) {</span>\n",
              "<span style=white-space:pre-wrap>        warning(\"argument is not numeric or logical: returning NA\")</span>\n",
              "<span style=white-space:pre-wrap>        return(NA_real_)</span>\n",
              "<span style=white-space:pre-wrap>    }</span>\n",
              "<span style=white-space:pre-wrap>    if (na.rm) </span>\n",
              "<span style=white-space:pre-wrap>        x &lt;- x[!is.na(x)]</span>\n",
              "<span style=white-space:pre-wrap>    if (!is.numeric(trim) || length(trim) != 1L) </span>\n",
              "<span style=white-space:pre-wrap>        stop(\"'trim' must be numeric of length one\")</span>\n",
              "<span style=white-space:pre-wrap>    n &lt;- length(x)</span>\n",
              "<span style=white-space:pre-wrap>    if (trim &gt; 0 &amp;&amp; n) {</span>\n",
              "<span style=white-space:pre-wrap>        if (is.complex(x)) </span>\n",
              "<span style=white-space:pre-wrap>            stop(\"trimmed means are not defined for complex data\")</span>\n",
              "<span style=white-space:pre-wrap>        if (anyNA(x)) </span>\n",
              "<span style=white-space:pre-wrap>            return(NA_real_)</span>\n",
              "<span style=white-space:pre-wrap>        if (trim &gt;= 0.5) </span>\n",
              "<span style=white-space:pre-wrap>            return(stats::median(x, na.rm = FALSE))</span>\n",
              "<span style=white-space:pre-wrap>        lo &lt;- floor(n * trim) + 1</span>\n",
              "<span style=white-space:pre-wrap>        hi &lt;- n + 1 - lo</span>\n",
              "<span style=white-space:pre-wrap>        x &lt;- sort.int(x, partial = unique(c(lo, hi)))[lo:hi]</span>\n",
              "<span style=white-space:pre-wrap>    }</span>\n",
              "<span style=white-space:pre-wrap>    .Internal(mean(x))</span>\n",
              "}</code></pre>"
            ]
          },
          "metadata": {
            "tags": []
          }
        }
      ]
    },
    {
      "cell_type": "markdown",
      "metadata": {
        "id": "1em8CVNzC7Qz"
      },
      "source": [
        ""
      ]
    },
    {
      "cell_type": "code",
      "metadata": {
        "id": "19zK0pCDC7YB"
      },
      "source": [
        "addtwo <- function(a,b){\n",
        "  a+b\n",
        "}"
      ],
      "execution_count": 10,
      "outputs": []
    },
    {
      "cell_type": "markdown",
      "metadata": {
        "id": "oxX5KbhCDQyM"
      },
      "source": [
        ""
      ]
    },
    {
      "cell_type": "code",
      "metadata": {
        "colab": {
          "base_uri": "https://localhost:8080/",
          "height": 35
        },
        "id": "8j28Bp9gDQ-S",
        "outputId": "10bb80b6-efc7-4817-9f83-0531f213cc5c"
      },
      "source": [
        "ls()"
      ],
      "execution_count": 11,
      "outputs": [
        {
          "output_type": "display_data",
          "data": {
            "text/plain": [
              "[1] \"addtwo\" \"mydata\""
            ],
            "text/latex": "\\begin{enumerate*}\n\\item 'addtwo'\n\\item 'mydata'\n\\end{enumerate*}\n",
            "text/markdown": "1. 'addtwo'\n2. 'mydata'\n\n\n",
            "text/html": [
              "<style>\n",
              ".list-inline {list-style: none; margin:0; padding: 0}\n",
              ".list-inline>li {display: inline-block}\n",
              ".list-inline>li:not(:last-child)::after {content: \"\\00b7\"; padding: 0 .5ex}\n",
              "</style>\n",
              "<ol class=list-inline><li>'addtwo'</li><li>'mydata'</li></ol>\n"
            ]
          },
          "metadata": {
            "tags": []
          }
        }
      ]
    },
    {
      "cell_type": "markdown",
      "metadata": {
        "id": "Z-OI62WaDTdk"
      },
      "source": [
        ""
      ]
    },
    {
      "cell_type": "code",
      "metadata": {
        "colab": {
          "base_uri": "https://localhost:8080/",
          "height": 35
        },
        "id": "KUOfh5t5DTm5",
        "outputId": "f3fc356c-7b27-47a0-ee2d-2cdb919172a4"
      },
      "source": [
        "addtwo(3,2)"
      ],
      "execution_count": 12,
      "outputs": [
        {
          "output_type": "display_data",
          "data": {
            "text/plain": [
              "[1] 5"
            ],
            "text/latex": "5",
            "text/markdown": "5",
            "text/html": [
              "5"
            ]
          },
          "metadata": {
            "tags": []
          }
        }
      ]
    },
    {
      "cell_type": "markdown",
      "metadata": {
        "id": "ECiNmp7XPqPo"
      },
      "source": [
        "\n",
        "\n",
        "---\n",
        "\n",
        "\n",
        "\n",
        "---\n",
        "\n",
        "\n",
        "\n",
        "---\n",
        "\n"
      ]
    },
    {
      "cell_type": "code",
      "metadata": {
        "id": "-8FjBifiPqYl"
      },
      "source": [
        "library(tidyverse)"
      ],
      "execution_count": 19,
      "outputs": []
    },
    {
      "cell_type": "markdown",
      "metadata": {
        "id": "YvGc_z83Pxj2"
      },
      "source": [
        ""
      ]
    },
    {
      "cell_type": "code",
      "metadata": {
        "colab": {
          "base_uri": "https://localhost:8080/"
        },
        "id": "_urT56ZMPxqd",
        "outputId": "914a5ea0-9e53-4d50-da4a-b91be8bc0a89"
      },
      "source": [
        "UCLA_Loneliness <- read_csv('/content/sample_data/UCLA_LonelinessScale.csv')"
      ],
      "execution_count": 15,
      "outputs": [
        {
          "output_type": "stream",
          "text": [
            "\n",
            "\u001b[36m──\u001b[39m \u001b[1m\u001b[1mColumn specification\u001b[1m\u001b[22m \u001b[36m────────────────────────────────────────────────────────\u001b[39m\n",
            "cols(\n",
            "  .default = col_double(),\n",
            "  ParticipantID = \u001b[31mcol_character()\u001b[39m\n",
            ")\n",
            "\u001b[36mℹ\u001b[39m Use \u001b[30m\u001b[47m\u001b[30m\u001b[47m`spec()`\u001b[47m\u001b[30m\u001b[49m\u001b[39m for the full column specifications.\n",
            "\n",
            "\n"
          ],
          "name": "stderr"
        }
      ]
    },
    {
      "cell_type": "markdown",
      "metadata": {
        "id": "Z5MI_ZV5QAte"
      },
      "source": [
        ""
      ]
    },
    {
      "cell_type": "code",
      "metadata": {
        "colab": {
          "base_uri": "https://localhost:8080/"
        },
        "id": "BUQep_sTQA0J",
        "outputId": "633c96e7-6cf6-40b5-cfb7-066a6a56175b"
      },
      "source": [
        "str(UCLA_Loneliness)"
      ],
      "execution_count": 20,
      "outputs": [
        {
          "output_type": "stream",
          "text": [
            "spec_tbl_df[,22] [278 × 22] (S3: spec_tbl_df/tbl_df/tbl/data.frame)\n",
            " $ ParticipantID: chr [1:278] \"ParticipantID_001\" \"ParticipantID_002\" \"ParticipantID_003\" \"ParticipantID_004\" ...\n",
            " $ Age          : num [1:278] 32 52 54 41 56 58 35 36 56 36 ...\n",
            " $ Statement1   : num [1:278] 1 2 4 4 1 4 4 4 3 4 ...\n",
            " $ Statement2   : num [1:278] 2 3 4 1 2 3 1 1 2 2 ...\n",
            " $ Statement3   : num [1:278] 4 2 4 1 4 2 1 3 3 1 ...\n",
            " $ Statement4   : num [1:278] 1 1 3 1 4 3 3 2 2 2 ...\n",
            " $ Statement5   : num [1:278] 1 2 1 3 2 4 4 2 4 2 ...\n",
            " $ Statement6   : num [1:278] 1 4 3 2 2 3 4 2 3 4 ...\n",
            " $ Statement7   : num [1:278] 4 1 2 1 4 1 1 3 1 1 ...\n",
            " $ Statement8   : num [1:278] 1 4 1 1 3 1 2 1 2 1 ...\n",
            " $ Statement9   : num [1:278] 3 3 3 3 2 3 3 4 3 4 ...\n",
            " $ Statement10  : num [1:278] 2 2 2 1 2 4 2 4 2 2 ...\n",
            " $ Statement11  : num [1:278] 1 3 2 1 2 3 2 3 3 2 ...\n",
            " $ Statement12  : num [1:278] 4 3 3 4 4 1 2 2 1 4 ...\n",
            " $ Statement13  : num [1:278] 4 1 4 2 3 3 4 2 3 3 ...\n",
            " $ Statement14  : num [1:278] 1 3 3 1 4 1 1 4 3 3 ...\n",
            " $ Statment15   : num [1:278] 2 4 3 3 3 4 4 2 2 4 ...\n",
            " $ Statement16  : num [1:278] 1 3 2 4 2 3 2 4 4 4 ...\n",
            " $ Statement17  : num [1:278] 3 3 4 4 2 4 1 1 3 2 ...\n",
            " $ Statement18  : num [1:278] 4 3 3 3 4 1 3 3 3 4 ...\n",
            " $ Statement19  : num [1:278] 1 4 3 2 3 4 4 4 3 2 ...\n",
            " $ Statement20  : num [1:278] 1 2 1 2 3 4 3 4 2 3 ...\n",
            " - attr(*, \"spec\")=\n",
            "  .. cols(\n",
            "  ..   ParticipantID = \u001b[31mcol_character()\u001b[39m,\n",
            "  ..   Age = \u001b[32mcol_double()\u001b[39m,\n",
            "  ..   Statement1 = \u001b[32mcol_double()\u001b[39m,\n",
            "  ..   Statement2 = \u001b[32mcol_double()\u001b[39m,\n",
            "  ..   Statement3 = \u001b[32mcol_double()\u001b[39m,\n",
            "  ..   Statement4 = \u001b[32mcol_double()\u001b[39m,\n",
            "  ..   Statement5 = \u001b[32mcol_double()\u001b[39m,\n",
            "  ..   Statement6 = \u001b[32mcol_double()\u001b[39m,\n",
            "  ..   Statement7 = \u001b[32mcol_double()\u001b[39m,\n",
            "  ..   Statement8 = \u001b[32mcol_double()\u001b[39m,\n",
            "  ..   Statement9 = \u001b[32mcol_double()\u001b[39m,\n",
            "  ..   Statement10 = \u001b[32mcol_double()\u001b[39m,\n",
            "  ..   Statement11 = \u001b[32mcol_double()\u001b[39m,\n",
            "  ..   Statement12 = \u001b[32mcol_double()\u001b[39m,\n",
            "  ..   Statement13 = \u001b[32mcol_double()\u001b[39m,\n",
            "  ..   Statement14 = \u001b[32mcol_double()\u001b[39m,\n",
            "  ..   Statment15 = \u001b[32mcol_double()\u001b[39m,\n",
            "  ..   Statement16 = \u001b[32mcol_double()\u001b[39m,\n",
            "  ..   Statement17 = \u001b[32mcol_double()\u001b[39m,\n",
            "  ..   Statement18 = \u001b[32mcol_double()\u001b[39m,\n",
            "  ..   Statement19 = \u001b[32mcol_double()\u001b[39m,\n",
            "  ..   Statement20 = \u001b[32mcol_double()\u001b[39m\n",
            "  .. )\n"
          ],
          "name": "stdout"
        }
      ]
    },
    {
      "cell_type": "markdown",
      "metadata": {
        "id": "L27wvo-hQFiY"
      },
      "source": [
        ""
      ]
    },
    {
      "cell_type": "code",
      "metadata": {
        "colab": {
          "base_uri": "https://localhost:8080/",
          "height": 295
        },
        "id": "69O5eJmUQFr_",
        "outputId": "31bcff0c-5990-48d1-b5a6-46ed15b7ae21"
      },
      "source": [
        "head(UCLA_Loneliness)"
      ],
      "execution_count": 21,
      "outputs": [
        {
          "output_type": "display_data",
          "data": {
            "text/plain": [
              "  ParticipantID     Age Statement1 Statement2 Statement3 Statement4 Statement5\n",
              "1 ParticipantID_001 32  1          2          4          1          1         \n",
              "2 ParticipantID_002 52  2          3          2          1          2         \n",
              "3 ParticipantID_003 54  4          4          4          3          1         \n",
              "4 ParticipantID_004 41  4          1          1          1          3         \n",
              "5 ParticipantID_005 56  1          2          4          4          2         \n",
              "6 ParticipantID_006 58  4          3          2          3          4         \n",
              "  Statement6 Statement7 Statement8 ⋯ Statement11 Statement12 Statement13\n",
              "1 1          4          1          ⋯ 1           4           4          \n",
              "2 4          1          4          ⋯ 3           3           1          \n",
              "3 3          2          1          ⋯ 2           3           4          \n",
              "4 2          1          1          ⋯ 1           4           2          \n",
              "5 2          4          3          ⋯ 2           4           3          \n",
              "6 3          1          1          ⋯ 3           1           3          \n",
              "  Statement14 Statment15 Statement16 Statement17 Statement18 Statement19\n",
              "1 1           2          1           3           4           1          \n",
              "2 3           4          3           3           3           4          \n",
              "3 3           3          2           4           3           3          \n",
              "4 1           3          4           4           3           2          \n",
              "5 4           3          2           2           4           3          \n",
              "6 1           4          3           4           1           4          \n",
              "  Statement20\n",
              "1 1          \n",
              "2 2          \n",
              "3 1          \n",
              "4 2          \n",
              "5 3          \n",
              "6 4          "
            ],
            "text/latex": "A tibble: 6 × 22\n\\begin{tabular}{lllllllllllllllllllll}\n ParticipantID & Age & Statement1 & Statement2 & Statement3 & Statement4 & Statement5 & Statement6 & Statement7 & Statement8 & ⋯ & Statement11 & Statement12 & Statement13 & Statement14 & Statment15 & Statement16 & Statement17 & Statement18 & Statement19 & Statement20\\\\\n <chr> & <dbl> & <dbl> & <dbl> & <dbl> & <dbl> & <dbl> & <dbl> & <dbl> & <dbl> & ⋯ & <dbl> & <dbl> & <dbl> & <dbl> & <dbl> & <dbl> & <dbl> & <dbl> & <dbl> & <dbl>\\\\\n\\hline\n\t ParticipantID\\_001 & 32 & 1 & 2 & 4 & 1 & 1 & 1 & 4 & 1 & ⋯ & 1 & 4 & 4 & 1 & 2 & 1 & 3 & 4 & 1 & 1\\\\\n\t ParticipantID\\_002 & 52 & 2 & 3 & 2 & 1 & 2 & 4 & 1 & 4 & ⋯ & 3 & 3 & 1 & 3 & 4 & 3 & 3 & 3 & 4 & 2\\\\\n\t ParticipantID\\_003 & 54 & 4 & 4 & 4 & 3 & 1 & 3 & 2 & 1 & ⋯ & 2 & 3 & 4 & 3 & 3 & 2 & 4 & 3 & 3 & 1\\\\\n\t ParticipantID\\_004 & 41 & 4 & 1 & 1 & 1 & 3 & 2 & 1 & 1 & ⋯ & 1 & 4 & 2 & 1 & 3 & 4 & 4 & 3 & 2 & 2\\\\\n\t ParticipantID\\_005 & 56 & 1 & 2 & 4 & 4 & 2 & 2 & 4 & 3 & ⋯ & 2 & 4 & 3 & 4 & 3 & 2 & 2 & 4 & 3 & 3\\\\\n\t ParticipantID\\_006 & 58 & 4 & 3 & 2 & 3 & 4 & 3 & 1 & 1 & ⋯ & 3 & 1 & 3 & 1 & 4 & 3 & 4 & 1 & 4 & 4\\\\\n\\end{tabular}\n",
            "text/markdown": "\nA tibble: 6 × 22\n\n| ParticipantID &lt;chr&gt; | Age &lt;dbl&gt; | Statement1 &lt;dbl&gt; | Statement2 &lt;dbl&gt; | Statement3 &lt;dbl&gt; | Statement4 &lt;dbl&gt; | Statement5 &lt;dbl&gt; | Statement6 &lt;dbl&gt; | Statement7 &lt;dbl&gt; | Statement8 &lt;dbl&gt; | ⋯ ⋯ | Statement11 &lt;dbl&gt; | Statement12 &lt;dbl&gt; | Statement13 &lt;dbl&gt; | Statement14 &lt;dbl&gt; | Statment15 &lt;dbl&gt; | Statement16 &lt;dbl&gt; | Statement17 &lt;dbl&gt; | Statement18 &lt;dbl&gt; | Statement19 &lt;dbl&gt; | Statement20 &lt;dbl&gt; |\n|---|---|---|---|---|---|---|---|---|---|---|---|---|---|---|---|---|---|---|---|---|\n| ParticipantID_001 | 32 | 1 | 2 | 4 | 1 | 1 | 1 | 4 | 1 | ⋯ | 1 | 4 | 4 | 1 | 2 | 1 | 3 | 4 | 1 | 1 |\n| ParticipantID_002 | 52 | 2 | 3 | 2 | 1 | 2 | 4 | 1 | 4 | ⋯ | 3 | 3 | 1 | 3 | 4 | 3 | 3 | 3 | 4 | 2 |\n| ParticipantID_003 | 54 | 4 | 4 | 4 | 3 | 1 | 3 | 2 | 1 | ⋯ | 2 | 3 | 4 | 3 | 3 | 2 | 4 | 3 | 3 | 1 |\n| ParticipantID_004 | 41 | 4 | 1 | 1 | 1 | 3 | 2 | 1 | 1 | ⋯ | 1 | 4 | 2 | 1 | 3 | 4 | 4 | 3 | 2 | 2 |\n| ParticipantID_005 | 56 | 1 | 2 | 4 | 4 | 2 | 2 | 4 | 3 | ⋯ | 2 | 4 | 3 | 4 | 3 | 2 | 2 | 4 | 3 | 3 |\n| ParticipantID_006 | 58 | 4 | 3 | 2 | 3 | 4 | 3 | 1 | 1 | ⋯ | 3 | 1 | 3 | 1 | 4 | 3 | 4 | 1 | 4 | 4 |\n\n",
            "text/html": [
              "<table class=\"dataframe\">\n",
              "<caption>A tibble: 6 × 22</caption>\n",
              "<thead>\n",
              "\t<tr><th scope=col>ParticipantID</th><th scope=col>Age</th><th scope=col>Statement1</th><th scope=col>Statement2</th><th scope=col>Statement3</th><th scope=col>Statement4</th><th scope=col>Statement5</th><th scope=col>Statement6</th><th scope=col>Statement7</th><th scope=col>Statement8</th><th scope=col>⋯</th><th scope=col>Statement11</th><th scope=col>Statement12</th><th scope=col>Statement13</th><th scope=col>Statement14</th><th scope=col>Statment15</th><th scope=col>Statement16</th><th scope=col>Statement17</th><th scope=col>Statement18</th><th scope=col>Statement19</th><th scope=col>Statement20</th></tr>\n",
              "\t<tr><th scope=col>&lt;chr&gt;</th><th scope=col>&lt;dbl&gt;</th><th scope=col>&lt;dbl&gt;</th><th scope=col>&lt;dbl&gt;</th><th scope=col>&lt;dbl&gt;</th><th scope=col>&lt;dbl&gt;</th><th scope=col>&lt;dbl&gt;</th><th scope=col>&lt;dbl&gt;</th><th scope=col>&lt;dbl&gt;</th><th scope=col>&lt;dbl&gt;</th><th scope=col>⋯</th><th scope=col>&lt;dbl&gt;</th><th scope=col>&lt;dbl&gt;</th><th scope=col>&lt;dbl&gt;</th><th scope=col>&lt;dbl&gt;</th><th scope=col>&lt;dbl&gt;</th><th scope=col>&lt;dbl&gt;</th><th scope=col>&lt;dbl&gt;</th><th scope=col>&lt;dbl&gt;</th><th scope=col>&lt;dbl&gt;</th><th scope=col>&lt;dbl&gt;</th></tr>\n",
              "</thead>\n",
              "<tbody>\n",
              "\t<tr><td>ParticipantID_001</td><td>32</td><td>1</td><td>2</td><td>4</td><td>1</td><td>1</td><td>1</td><td>4</td><td>1</td><td>⋯</td><td>1</td><td>4</td><td>4</td><td>1</td><td>2</td><td>1</td><td>3</td><td>4</td><td>1</td><td>1</td></tr>\n",
              "\t<tr><td>ParticipantID_002</td><td>52</td><td>2</td><td>3</td><td>2</td><td>1</td><td>2</td><td>4</td><td>1</td><td>4</td><td>⋯</td><td>3</td><td>3</td><td>1</td><td>3</td><td>4</td><td>3</td><td>3</td><td>3</td><td>4</td><td>2</td></tr>\n",
              "\t<tr><td>ParticipantID_003</td><td>54</td><td>4</td><td>4</td><td>4</td><td>3</td><td>1</td><td>3</td><td>2</td><td>1</td><td>⋯</td><td>2</td><td>3</td><td>4</td><td>3</td><td>3</td><td>2</td><td>4</td><td>3</td><td>3</td><td>1</td></tr>\n",
              "\t<tr><td>ParticipantID_004</td><td>41</td><td>4</td><td>1</td><td>1</td><td>1</td><td>3</td><td>2</td><td>1</td><td>1</td><td>⋯</td><td>1</td><td>4</td><td>2</td><td>1</td><td>3</td><td>4</td><td>4</td><td>3</td><td>2</td><td>2</td></tr>\n",
              "\t<tr><td>ParticipantID_005</td><td>56</td><td>1</td><td>2</td><td>4</td><td>4</td><td>2</td><td>2</td><td>4</td><td>3</td><td>⋯</td><td>2</td><td>4</td><td>3</td><td>4</td><td>3</td><td>2</td><td>2</td><td>4</td><td>3</td><td>3</td></tr>\n",
              "\t<tr><td>ParticipantID_006</td><td>58</td><td>4</td><td>3</td><td>2</td><td>3</td><td>4</td><td>3</td><td>1</td><td>1</td><td>⋯</td><td>3</td><td>1</td><td>3</td><td>1</td><td>4</td><td>3</td><td>4</td><td>1</td><td>4</td><td>4</td></tr>\n",
              "</tbody>\n",
              "</table>\n"
            ]
          },
          "metadata": {
            "tags": []
          }
        }
      ]
    },
    {
      "cell_type": "markdown",
      "metadata": {
        "id": "YKAnmlXdQMKf"
      },
      "source": [
        ""
      ]
    },
    {
      "cell_type": "code",
      "metadata": {
        "colab": {
          "base_uri": "https://localhost:8080/",
          "height": 35
        },
        "id": "Vgq3TkkUQMSW",
        "outputId": "6410bd0d-8639-400f-e4b9-c2256e91feb3"
      },
      "source": [
        "dim(UCLA_Loneliness)"
      ],
      "execution_count": 22,
      "outputs": [
        {
          "output_type": "display_data",
          "data": {
            "text/plain": [
              "[1] 278  22"
            ],
            "text/latex": "\\begin{enumerate*}\n\\item 278\n\\item 22\n\\end{enumerate*}\n",
            "text/markdown": "1. 278\n2. 22\n\n\n",
            "text/html": [
              "<style>\n",
              ".list-inline {list-style: none; margin:0; padding: 0}\n",
              ".list-inline>li {display: inline-block}\n",
              ".list-inline>li:not(:last-child)::after {content: \"\\00b7\"; padding: 0 .5ex}\n",
              "</style>\n",
              "<ol class=list-inline><li>278</li><li>22</li></ol>\n"
            ]
          },
          "metadata": {
            "tags": []
          }
        }
      ]
    },
    {
      "cell_type": "markdown",
      "metadata": {
        "id": "aV4Vs_JkTA5t"
      },
      "source": [
        ""
      ]
    },
    {
      "cell_type": "code",
      "metadata": {
        "id": "cjCDI-TsTBCC"
      },
      "source": [
        "WindowAvg <- function(DF,Field,AgeValue){\n",
        "    localdata <- filter(DF,Age < AgeValue)\n",
        "    colMeans(localdata[Field])\n",
        "    \n",
        "}"
      ],
      "execution_count": 116,
      "outputs": []
    },
    {
      "cell_type": "markdown",
      "metadata": {
        "id": "vnPMOezDTRf0"
      },
      "source": [
        ""
      ]
    },
    {
      "cell_type": "code",
      "metadata": {
        "colab": {
          "base_uri": "https://localhost:8080/",
          "height": 35
        },
        "id": "RwZuHEL_TRo1",
        "outputId": "5e236696-eab9-4df0-9099-8f5a3103dbb0"
      },
      "source": [
        "WindowAvg(DF=UCLA_Loneliness,Field=\"Statement1\",AgeValue=50)"
      ],
      "execution_count": 120,
      "outputs": [
        {
          "output_type": "display_data",
          "data": {
            "text/plain": [
              "Statement1 \n",
              "  2.472222 "
            ],
            "text/latex": "\\textbf{Statement1:} 2.47222222222222",
            "text/markdown": "**Statement1:** 2.47222222222222",
            "text/html": [
              "<strong>Statement1:</strong> 2.47222222222222"
            ]
          },
          "metadata": {
            "tags": []
          }
        }
      ]
    },
    {
      "cell_type": "markdown",
      "metadata": {
        "id": "9tcraeF5VnJ8"
      },
      "source": [
        ""
      ]
    },
    {
      "cell_type": "code",
      "metadata": {
        "colab": {
          "base_uri": "https://localhost:8080/"
        },
        "id": "SroxNP8iVnRL",
        "outputId": "81a3bce5-d8d1-41dd-ca24-176ebaebb225"
      },
      "source": [
        "str(UCLA_Loneliness[\"Statement1\"])"
      ],
      "execution_count": 45,
      "outputs": [
        {
          "output_type": "stream",
          "text": [
            "tibble[,1] [278 × 1] (S3: tbl_df/tbl/data.frame)\n",
            " $ Statement1: num [1:278] 1 2 4 4 1 4 4 4 3 4 ...\n"
          ],
          "name": "stdout"
        }
      ]
    },
    {
      "cell_type": "markdown",
      "metadata": {
        "id": "5EQ24D3WW0zH"
      },
      "source": [
        ""
      ]
    },
    {
      "cell_type": "code",
      "metadata": {
        "colab": {
          "base_uri": "https://localhost:8080/",
          "height": 35
        },
        "id": "RaB8WbwgW067",
        "outputId": "90543b4c-c37a-4e39-d31b-a30b4c5c49c9"
      },
      "source": [
        "colMeans(UCLA_Loneliness[\"Statement1\"])"
      ],
      "execution_count": 48,
      "outputs": [
        {
          "output_type": "display_data",
          "data": {
            "text/plain": [
              "Statement1 \n",
              "  2.482014 "
            ],
            "text/latex": "\\textbf{Statement1:} 2.48201438848921",
            "text/markdown": "**Statement1:** 2.48201438848921",
            "text/html": [
              "<strong>Statement1:</strong> 2.48201438848921"
            ]
          },
          "metadata": {
            "tags": []
          }
        }
      ]
    },
    {
      "cell_type": "markdown",
      "metadata": {
        "id": "8UcuRHQpTeoc"
      },
      "source": [
        ""
      ]
    },
    {
      "cell_type": "code",
      "metadata": {
        "colab": {
          "base_uri": "https://localhost:8080/",
          "height": 35
        },
        "id": "zwfNKTbeTev0",
        "outputId": "49eff49d-02cf-419d-fdf7-dd4c99b4dd1d"
      },
      "source": [
        "mean(UCLA_Loneliness$Statement1)"
      ],
      "execution_count": 25,
      "outputs": [
        {
          "output_type": "display_data",
          "data": {
            "text/plain": [
              "[1] 2.482014"
            ],
            "text/latex": "2.48201438848921",
            "text/markdown": "2.48201438848921",
            "text/html": [
              "2.48201438848921"
            ]
          },
          "metadata": {
            "tags": []
          }
        }
      ]
    },
    {
      "cell_type": "markdown",
      "metadata": {
        "id": "iPylFUN3XQOQ"
      },
      "source": [
        ""
      ]
    },
    {
      "cell_type": "code",
      "metadata": {
        "colab": {
          "base_uri": "https://localhost:8080/",
          "height": 35
        },
        "id": "8xb8NJXcXQa0",
        "outputId": "2d4df0af-a422-486e-d833-2afa2ee140f4"
      },
      "source": [
        "WindowAvg(UCLA_Loneliness,\"Statement1\")"
      ],
      "execution_count": 50,
      "outputs": [
        {
          "output_type": "display_data",
          "data": {
            "text/plain": [
              "Statement1 \n",
              "  2.482014 "
            ],
            "text/latex": "\\textbf{Statement1:} 2.48201438848921",
            "text/markdown": "**Statement1:** 2.48201438848921",
            "text/html": [
              "<strong>Statement1:</strong> 2.48201438848921"
            ]
          },
          "metadata": {
            "tags": []
          }
        }
      ]
    },
    {
      "cell_type": "markdown",
      "metadata": {
        "id": "yseiO4b2XYz_"
      },
      "source": [
        ""
      ]
    },
    {
      "cell_type": "code",
      "metadata": {
        "id": "dkN5nYh5XY8V"
      },
      "source": [
        "WindowAvg <- function(DF,FilterVar=\"Age\",FilterValue,Field){\n",
        "  require(\"tidyverse\")\n",
        "    (\n",
        "      filter(DF, as.name(FilterVar) < FilterValue)\n",
        "      #DF\n",
        "      #%>% filter(FilterVar < FilterValue)\n",
        "      #%>% select(as.name(Field))\n",
        "      #%>% round(colMeans(as.name(Field)),2)\n",
        "    )\n",
        "}"
      ],
      "execution_count": 102,
      "outputs": []
    },
    {
      "cell_type": "markdown",
      "metadata": {
        "id": "xSXrO8gMYGB9"
      },
      "source": [
        ""
      ]
    },
    {
      "cell_type": "code",
      "metadata": {
        "colab": {
          "base_uri": "https://localhost:8080/",
          "height": 261
        },
        "id": "JdvvP4S6YGJ4",
        "outputId": "008f2544-1420-4b89-e7ba-2518bac82f94"
      },
      "source": [
        "WindowAvg(UCLA_Loneliness,FilterVar=\"Age\",FilterValue=40,Field=\"Statement1\")"
      ],
      "execution_count": 103,
      "outputs": [
        {
          "output_type": "stream",
          "text": [
            "Warning message in cbind(parts$left, ellip_h, parts$right, deparse.level = 0L):\n",
            "“number of rows of result is not a multiple of vector length (arg 2)”\n",
            "Warning message in cbind(parts$left, ellip_h, parts$right, deparse.level = 0L):\n",
            "“number of rows of result is not a multiple of vector length (arg 2)”\n",
            "Warning message in cbind(parts$left, ellip_h, parts$right, deparse.level = 0L):\n",
            "“number of rows of result is not a multiple of vector length (arg 2)”\n",
            "Warning message in cbind(parts$left, ellip_h, parts$right, deparse.level = 0L):\n",
            "“number of rows of result is not a multiple of vector length (arg 2)”\n"
          ],
          "name": "stderr"
        },
        {
          "output_type": "display_data",
          "data": {
            "text/plain": [
              "     ParticipantID Age Statement1 Statement2 Statement3 Statement4 Statement5\n",
              "     Statement6 Statement7 Statement8 ⋯ Statement11 Statement12 Statement13\n",
              "     Statement14 Statment15 Statement16 Statement17 Statement18 Statement19\n",
              "     Statement20"
            ],
            "text/latex": "A spec\\_tbl\\_df: 0 × 22\n\\begin{tabular}{lllllllllllllllllllll}\n ParticipantID & Age & Statement1 & Statement2 & Statement3 & Statement4 & Statement5 & Statement6 & Statement7 & Statement8 & ⋯ & Statement11 & Statement12 & Statement13 & Statement14 & Statment15 & Statement16 & Statement17 & Statement18 & Statement19 & Statement20\\\\\n <chr> & <dbl> & <dbl> & <dbl> & <dbl> & <dbl> & <dbl> & <dbl> & <dbl> & <dbl> & ⋯ & <dbl> & <dbl> & <dbl> & <dbl> & <dbl> & <dbl> & <dbl> & <dbl> & <dbl> & <dbl>\\\\\n\\hline\n\\end{tabular}\n",
            "text/markdown": "\nA spec_tbl_df: 0 × 22\n\n| ParticipantID &lt;chr&gt; | Age &lt;dbl&gt; | Statement1 &lt;dbl&gt; | Statement2 &lt;dbl&gt; | Statement3 &lt;dbl&gt; | Statement4 &lt;dbl&gt; | Statement5 &lt;dbl&gt; | Statement6 &lt;dbl&gt; | Statement7 &lt;dbl&gt; | Statement8 &lt;dbl&gt; | ⋯ ⋯ | Statement11 &lt;dbl&gt; | Statement12 &lt;dbl&gt; | Statement13 &lt;dbl&gt; | Statement14 &lt;dbl&gt; | Statment15 &lt;dbl&gt; | Statement16 &lt;dbl&gt; | Statement17 &lt;dbl&gt; | Statement18 &lt;dbl&gt; | Statement19 &lt;dbl&gt; | Statement20 &lt;dbl&gt; |\n|---|---|---|---|---|---|---|---|---|---|---|---|---|---|---|---|---|---|---|---|---|\n\n",
            "text/html": [
              "<table class=\"dataframe\">\n",
              "<caption>A spec_tbl_df: 0 × 22</caption>\n",
              "<thead>\n",
              "\t<tr><th scope=col>ParticipantID</th><th scope=col>Age</th><th scope=col>Statement1</th><th scope=col>Statement2</th><th scope=col>Statement3</th><th scope=col>Statement4</th><th scope=col>Statement5</th><th scope=col>Statement6</th><th scope=col>Statement7</th><th scope=col>Statement8</th><th scope=col>⋯</th><th scope=col>Statement11</th><th scope=col>Statement12</th><th scope=col>Statement13</th><th scope=col>Statement14</th><th scope=col>Statment15</th><th scope=col>Statement16</th><th scope=col>Statement17</th><th scope=col>Statement18</th><th scope=col>Statement19</th><th scope=col>Statement20</th></tr>\n",
              "\t<tr><th scope=col>&lt;chr&gt;</th><th scope=col>&lt;dbl&gt;</th><th scope=col>&lt;dbl&gt;</th><th scope=col>&lt;dbl&gt;</th><th scope=col>&lt;dbl&gt;</th><th scope=col>&lt;dbl&gt;</th><th scope=col>&lt;dbl&gt;</th><th scope=col>&lt;dbl&gt;</th><th scope=col>&lt;dbl&gt;</th><th scope=col>&lt;dbl&gt;</th><th scope=col>⋯</th><th scope=col>&lt;dbl&gt;</th><th scope=col>&lt;dbl&gt;</th><th scope=col>&lt;dbl&gt;</th><th scope=col>&lt;dbl&gt;</th><th scope=col>&lt;dbl&gt;</th><th scope=col>&lt;dbl&gt;</th><th scope=col>&lt;dbl&gt;</th><th scope=col>&lt;dbl&gt;</th><th scope=col>&lt;dbl&gt;</th><th scope=col>&lt;dbl&gt;</th></tr>\n",
              "</thead>\n",
              "<tbody>\n",
              "</tbody>\n",
              "</table>\n"
            ]
          },
          "metadata": {
            "tags": []
          }
        }
      ]
    }
  ]
}