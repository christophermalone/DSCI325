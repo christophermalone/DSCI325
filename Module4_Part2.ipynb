{
  "nbformat": 4,
  "nbformat_minor": 0,
  "metadata": {
    "colab": {
      "name": "Module4_Part2.ipynb",
      "provenance": [],
      "collapsed_sections": [],
      "authorship_tag": "ABX9TyMPCYWhYhp0q+BDG2hOcVEw",
      "include_colab_link": true
    },
    "kernelspec": {
      "name": "python3",
      "display_name": "Python 3"
    }
  },
  "cells": [
    {
      "cell_type": "markdown",
      "metadata": {
        "id": "view-in-github",
        "colab_type": "text"
      },
      "source": [
        "<a href=\"https://colab.research.google.com/github/christophermalone/DSCI325/blob/main/Module4_Part2.ipynb\" target=\"_parent\"><img src=\"https://colab.research.google.com/assets/colab-badge.svg\" alt=\"Open In Colab\"/></a>"
      ]
    },
    {
      "cell_type": "markdown",
      "source": [
        "# Module 4 - Part II:  Streaming Data + Python Function Writing"
      ],
      "metadata": {
        "id": "QhrmhyFX8Oew"
      }
    },
    {
      "cell_type": "markdown",
      "source": [
        "This module includes details for function writing in Python.  In addition, the data we will be working with is large and thus a streamming approach to summarizing the data will be used in this notebook"
      ],
      "metadata": {
        "id": "okJZsamYjl-5"
      }
    },
    {
      "cell_type": "markdown",
      "source": [
        "<table width='100%' ><tr><td bgcolor='green'></td></tr></table>\n",
        "\n",
        "### Example 4.2.P\n",
        "The Center for Medicare and Medicaid Services (CMS) publishes a complete datasets that consolidate the payment information submitted by reporting entities -- this is know as the Open Payments data. \n",
        "\n",
        "The following 7 fields will be considered here:\n",
        "\n",
        "*   Physician_Profile_ID: Unique ID for each physician \n",
        "*   Physician_FirstName: First name of physician\n",
        "*   Physician_LastName: Last name of physician\n",
        "*   Recipient_Address: Address of payment recipient\n",
        "*   Recipient_City: City of payment recipient\n",
        "*   Recipient_State: State of payment recipient\n",
        "*   Recipient_Zip_Code: Zipcode of payment recipient\n",
        "*   Physician_Primary_Type: type of physician (NY and MN have variations in coding for this field)\n",
        "*   Applicable_GPO_Name: Name of Group Purchasing Organization\n",
        "*   Applicable_GPO_ID: Unique ID for Group Purchasing Organization\n",
        "*   Number_of_Payments: Number of reported payments\n",
        "*   Payment: Amount of payment\n",
        "*   Date_of_Payment: Date of payment\n",
        "\n",
        "Source:  https://www.cms.gov/OpenPayments/Data/Dataset-Downloads\n",
        "\n",
        "<table width='100%' ><tr><td bgcolor='green'></td></tr></table>"
      ],
      "metadata": {
        "id": "Jm0Og53YeD-x"
      }
    },
    {
      "cell_type": "markdown",
      "source": [
        "\n",
        "\n",
        "---\n",
        "\n"
      ],
      "metadata": {
        "id": "jp2OrQn_nwmm"
      }
    },
    {
      "cell_type": "markdown",
      "source": [
        "## Tidy up Directories"
      ],
      "metadata": {
        "id": "tXZ334IQn2kF"
      }
    },
    {
      "cell_type": "markdown",
      "source": [
        "To **ls** bash command can be used to get file information in a folder in Colab. "
      ],
      "metadata": {
        "id": "ltz-UFwhn6DV"
      }
    },
    {
      "cell_type": "code",
      "source": [
        "!ls /content/sample_data/ -l"
      ],
      "metadata": {
        "colab": {
          "base_uri": "https://localhost:8080/"
        },
        "id": "-lPa7LoWjmV4",
        "outputId": "2ebf75ca-687d-4986-c4ac-88ddd4be39eb"
      },
      "execution_count": null,
      "outputs": [
        {
          "output_type": "stream",
          "name": "stdout",
          "text": [
            "total 55504\n",
            "-rwxr-xr-x 1 root root     1697 Jan  1  2000 anscombe.json\n",
            "-rw-r--r-- 1 root root   301141 Mar 23 14:22 california_housing_test.csv\n",
            "-rw-r--r-- 1 root root  1706430 Mar 23 14:22 california_housing_train.csv\n",
            "-rw-r--r-- 1 root root 18289443 Mar 23 14:22 mnist_test.csv\n",
            "-rw-r--r-- 1 root root 36523880 Mar 23 14:22 mnist_train_small.csv\n",
            "-rwxr-xr-x 1 root root      930 Jan  1  2000 README.md\n"
          ]
        }
      ]
    },
    {
      "cell_type": "markdown",
      "source": [
        "The **rm** bash command can be used to remove files.  Here, only *.csv files are being removed."
      ],
      "metadata": {
        "id": "aob4UQwpAEk9"
      }
    },
    {
      "cell_type": "code",
      "source": [
        "!rm /content/sample_data/*.csv"
      ],
      "metadata": {
        "id": "dgz2U0rGAErV"
      },
      "execution_count": null,
      "outputs": []
    },
    {
      "cell_type": "markdown",
      "source": [
        "Notice that all the *.csv file have been deleted from the /content/sample_data/ folder."
      ],
      "metadata": {
        "id": "C1iNq2AuALdX"
      }
    },
    {
      "cell_type": "code",
      "source": [
        "!ls /content/sample_data/ -l"
      ],
      "metadata": {
        "colab": {
          "base_uri": "https://localhost:8080/"
        },
        "id": "u5EbLFW2ALjH",
        "outputId": "df37fd09-0033-4344-e3d6-b0e8d4d9e3f6"
      },
      "execution_count": null,
      "outputs": [
        {
          "output_type": "stream",
          "name": "stdout",
          "text": [
            "total 8\n",
            "-rwxr-xr-x 1 root root 1697 Jan  1  2000 anscombe.json\n",
            "-rwxr-xr-x 1 root root  930 Jan  1  2000 README.md\n"
          ]
        }
      ]
    },
    {
      "cell_type": "markdown",
      "source": [
        "The following variation will remove **ALL** files -- be careful is using this command as it will remove all files!"
      ],
      "metadata": {
        "id": "px5W7MW8ojJn"
      }
    },
    {
      "cell_type": "code",
      "source": [
        "!rm /content/sample_data/*.*"
      ],
      "metadata": {
        "id": "9Wr6nSZIojQn"
      },
      "execution_count": null,
      "outputs": []
    },
    {
      "cell_type": "markdown",
      "source": [
        "Notice, all files have been removed in this folder."
      ],
      "metadata": {
        "id": "qNdGV4xho1Tm"
      }
    },
    {
      "cell_type": "code",
      "source": [
        "!ls /content/sample_data/ -l"
      ],
      "metadata": {
        "colab": {
          "base_uri": "https://localhost:8080/"
        },
        "id": "1I_g0aOh9Sse",
        "outputId": "61e00251-637b-4030-d820-269543f03012"
      },
      "execution_count": null,
      "outputs": [
        {
          "output_type": "stream",
          "name": "stdout",
          "text": [
            "total 0\n"
          ]
        }
      ]
    },
    {
      "cell_type": "markdown",
      "source": [
        "## Load Data"
      ],
      "metadata": {
        "id": "1IxUOAhEm4BK"
      }
    },
    {
      "cell_type": "markdown",
      "source": [
        "The next step is to upload the data for this notebook.  This is a large data file, so the data is given in as a zipped file.  In a workplace enviroment, you will likely pull this file from a local server.  The following command will retrieve a data file from a server and place this file into your Colab session."
      ],
      "metadata": {
        "id": "xbNvd7qnpINf"
      }
    },
    {
      "cell_type": "code",
      "source": [
        "#Create a file that contains the command to download the data file // location from StatsClass server\n",
        "%%bash\n",
        "{  \n",
        " echo 'wget -O  /content/sample_data/MedicarePayments_Physicians_Stream_Statsclass.zip https://www.statsclass.org/dsci325/datasets/MedicarePayments_Physicians_Stream.zip'\n",
        "} > Download_MedicarePayments_Stream_StatsClass.sh"
      ],
      "metadata": {
        "id": "sqiHXnwsm4IC"
      },
      "execution_count": null,
      "outputs": []
    },
    {
      "cell_type": "markdown",
      "source": [
        "The following bash command will automatically download the file to the specified location."
      ],
      "metadata": {
        "id": "TMWT04LXp2-J"
      }
    },
    {
      "cell_type": "code",
      "source": [
        "# The bash commands have been commented out as I do *not* want to crash the StatsClass server\n",
        "#%%bash\n",
        "#bash Download_MedicarePayments_Stream_StatsClass.sh"
      ],
      "metadata": {
        "id": "utw9TApep3G1"
      },
      "execution_count": null,
      "outputs": []
    },
    {
      "cell_type": "markdown",
      "source": [
        "Using the **ls** bash command again to see if the file was successfully downloaded from the StatClass server.  "
      ],
      "metadata": {
        "id": "BeLcn6nIiWUc"
      }
    },
    {
      "cell_type": "code",
      "source": [
        "!ls /content/sample_data/ -l"
      ],
      "metadata": {
        "colab": {
          "base_uri": "https://localhost:8080/"
        },
        "id": "FhQO7Fabj_Zx",
        "outputId": "e3abd467-a675-44c6-da61-1618beee3817"
      },
      "execution_count": null,
      "outputs": [
        {
          "output_type": "stream",
          "name": "stdout",
          "text": [
            "total 253088\n",
            "-rw-r--r-- 1 root root 129578205 Apr  6 23:27 MedicarePayments_Physicians_Stream_Statsclass.zip\n",
            "-rw-r--r-- 1 root root 129578205 Apr  7 15:29 MedicarePayments_Physicians_Stream.zip\n"
          ]
        }
      ]
    },
    {
      "cell_type": "markdown",
      "source": [
        "**Comments**:  \n",
        "\n",
        "*    For this session, I would like you to download the MedicarePayments_Physicians_Steam.zip file **directly from <a href=\"https://mnscu-my.sharepoint.com/:f:/g/personal/aq7839yd_minnstate_edu/EuupFPUefSRKux_7dtftWJ4BOToHKoC_JE8xysYtj3Epbw?e=FvoEQ1\">OneDrive</a>**.  After downloading the file, upload this file into this sample_data folder within this Colab Session.\n",
        "\n",
        "*    I was not able to directly download the data from OneDrive nor Google Drive into this Colab session."
      ],
      "metadata": {
        "id": "Z05y6PE_EbEL"
      }
    },
    {
      "cell_type": "markdown",
      "source": [
        "## Unzip the Data"
      ],
      "metadata": {
        "id": "ZOa3zWqDq-46"
      }
    },
    {
      "cell_type": "markdown",
      "source": [
        "The **unzip** bash command can be used to unzip the desired data file.  The desired file is large, so unzipping this file may take some time."
      ],
      "metadata": {
        "id": "UeYMUitoq--5"
      }
    },
    {
      "cell_type": "code",
      "source": [
        "!unzip -o /content/sample_data/MedicarePayments_Physicians_Stream.zip -d \"/content/sample_data\""
      ],
      "metadata": {
        "id": "xrsq3e4_018A",
        "colab": {
          "base_uri": "https://localhost:8080/"
        },
        "outputId": "10f94836-b25a-4ac5-9fc8-a22b50c9f064"
      },
      "execution_count": null,
      "outputs": [
        {
          "output_type": "stream",
          "name": "stdout",
          "text": [
            "Archive:  /content/sample_data/MedicarePayments_Physicians_Stream.zip\n",
            "  inflating: /content/sample_data/MedicarePayments_Physicians_Stream.csv  \n"
          ]
        }
      ]
    },
    {
      "cell_type": "markdown",
      "source": [
        "Checking to see if the contents of the zipped file was successfully unpacked.  When unzipped the file is about 6 times larger."
      ],
      "metadata": {
        "id": "dQn2ypWfsF33"
      }
    },
    {
      "cell_type": "code",
      "source": [
        "!ls /content/sample_data/ -l"
      ],
      "metadata": {
        "colab": {
          "base_uri": "https://localhost:8080/"
        },
        "id": "z4EEYTiS1FUf",
        "outputId": "e6a2060c-14e4-45dd-edfe-bd25dd80c9d2"
      },
      "execution_count": null,
      "outputs": [
        {
          "output_type": "stream",
          "name": "stdout",
          "text": [
            "total 872368\n",
            "-rw-r--r-- 1 root root 763717749 Apr  6 18:15 MedicarePayments_Physicians_Stream.csv\n",
            "-rw-r--r-- 1 root root 129578205 Apr  7 15:29 MedicarePayments_Physicians_Stream.zip\n"
          ]
        }
      ]
    },
    {
      "cell_type": "markdown",
      "source": [
        "Recall, the **wc** bash command with the  **-l** option will count the number of records in this large file.  About 5.7 million records are contained in this file."
      ],
      "metadata": {
        "id": "4DdILtojsOZr"
      }
    },
    {
      "cell_type": "code",
      "source": [
        "!wc -l /content/sample_data/MedicarePayments_Physicians_Stream.csv"
      ],
      "metadata": {
        "colab": {
          "base_uri": "https://localhost:8080/"
        },
        "id": "arIXBPD197r2",
        "outputId": "c8de2f7f-8acd-42ca-dff8-38feecb3de46"
      },
      "execution_count": null,
      "outputs": [
        {
          "output_type": "stream",
          "name": "stdout",
          "text": [
            "5721010 /content/sample_data/MedicarePayments_Physicians_Stream.csv\n"
          ]
        }
      ]
    },
    {
      "cell_type": "code",
      "source": [
        ""
      ],
      "metadata": {
        "id": "i2zAG6hoFf4_"
      },
      "execution_count": null,
      "outputs": []
    },
    {
      "cell_type": "markdown",
      "source": [
        "Taking a look at the first few records using the **head** command."
      ],
      "metadata": {
        "id": "MKp_5DNFsY0g"
      }
    },
    {
      "cell_type": "code",
      "source": [
        "!head /content/sample_data/MedicarePayments_Physicians_Stream.csv"
      ],
      "metadata": {
        "colab": {
          "base_uri": "https://localhost:8080/"
        },
        "id": "AfKQau_X862_",
        "outputId": "346f6390-7f9f-43e1-821f-717a3cfac4f9"
      },
      "execution_count": null,
      "outputs": [
        {
          "output_type": "stream",
          "name": "stdout",
          "text": [
            "557946,Vikas,Pilly,400 International Drive,Williamsville,NY,14221-5771,Medical,Caerus Corp.,100000246826,1,14875,08/19/2020\r\n",
            "276936,Matthew,Hall,301 Prospect Avenue,Syracuse,NY,13203,Doctor of Dentistry,Solvay Dental 360-A Div of Solvay Specialty Polymers USA LLC,100000151564,1,5296,06/16/2020\r\n",
            "1275463,Stephen,Campbell,228 Ravine Road,Hinsdale,IL,60521,Doctor of Dentistry,Solvay Dental 360-A Div of Solvay Specialty Polymers USA LLC,100000151564,1,1050,08/02/2020\r\n",
            "268352,Leroy,McCarty,8100 W. 78th Street,Edina,MN,55439-2516,Medical,Caerus Corp.,100000246826,1,4750,03/19/2020\r\n",
            "904225,Michael,Latza,212 Park Avenue,Plainfield,NJ,07060-1206,Chiropractor,Caerus Corp.,100000246826,1,320,10/13/2020\r\n",
            "995636,MEREDITH,CARBONE-DOYLE,734 N MAIN ST,LACONIA,NH,03247,Doctor of Osteopathy,Mission Pharmacal Company,100000000186,1,14.31,02/20/2020\r\n",
            "324692,JOSEPH,BEALS,390 PARK ST,BIRMINGHAM,MI,48009,Medical Doctor,Mission Pharmacal Company,100000000186,1,16.47,01/09/2020\r\n",
            "259992,ANDREA,BAYER,10115 FOREST HILL BLVD,WELLINGTON,FL,33414,Medical Doctor,Mission Pharmacal Company,100000000186,1,14.74,10/05/2020\r\n",
            "492023,ELIZABETH,BABIN,690 MEADOWS RD,BOCA RATON,FL,33486,Medical Doctor,Mission Pharmacal Company,100000000186,1,14.32,09/30/2020\r\n",
            "1044238,Joseph,Rosen,1 Medical Center Dr.,Lebanon,NH,03756,Medical Doctor,Koven Technology Inc.,100000000191,1,1610,02/05/2020\r\n"
          ]
        }
      ]
    },
    {
      "cell_type": "markdown",
      "source": [
        "Checking the last few lines of this large data file using the **tail** bash command."
      ],
      "metadata": {
        "id": "yM9Wv_G2QNzZ"
      }
    },
    {
      "cell_type": "code",
      "source": [
        "!tail /content/sample_data/MedicarePayments_Physicians_Stream.csv"
      ],
      "metadata": {
        "colab": {
          "base_uri": "https://localhost:8080/"
        },
        "id": "PeZ5-KR5QN59",
        "outputId": "f6cb3ad0-b363-4aca-aeee-2d3d31dc816d"
      },
      "execution_count": null,
      "outputs": [
        {
          "output_type": "stream",
          "name": "stdout",
          "text": [
            "1209319,ANDERS,CARLSON,401 PHALEN BLVD,SAINT PAUL,MN,55130,Medical,Abbott Laboratories,100000010680,1,16009,09/01/2020\r\n",
            "1209319,ANDERS,CARLSON,401 PHALEN BLVD,SAINT PAUL,MN,55130,Medical,Abbott Laboratories,100000010680,1,9591,08/01/2020\r\n",
            "1209319,ANDERS,CARLSON,401 PHALEN BLVD,SAINT PAUL,MN,55130,Medical,Abbott Laboratories,100000010680,1,1958,07/01/2020\r\n",
            "1209319,ANDERS,CARLSON,401 PHALEN BLVD,SAINT PAUL,MN,55130,Medical,Abbott Laboratories,100000010680,1,326,05/01/2020\r\n",
            "1209319,ANDERS,CARLSON,401 PHALEN BLVD,SAINT PAUL,MN,55130,Medical,Abbott Laboratories,100000010680,1,3264,11/01/2020\r\n",
            "1209319,ANDERS,CARLSON,401 PHALEN BLVD,SAINT PAUL,MN,55130,Medical,Abbott Laboratories,100000010680,1,2448,12/01/2020\r\n",
            "1209319,ANDERS,CARLSON,401 PHALEN BLVD,SAINT PAUL,MN,55130,Medical,Abbott Laboratories,100000010680,1,4896,10/01/2020\r\n",
            "75907,JACKIE,FRENCH,223 E 34th St,New York,NY,10016-4852,Medical,Biogen Inc.,100000000193,1,831.25,05/11/2020\r\n",
            "829368,BRAD,VAUGHN,101 Manning Dr Fl 1,Chapel Hill,NC,27514-4220,Medical Doctor,Biogen Inc.,100000000193,1,1000,02/13/2020\r\n",
            "141838,Kenneth,Rosenfield,55 FRUIT ST # 800MAILSTOP 843,Boston,MA,02114,Medical Doctor,AngioDynamics Inc.,100000005504,1,46500,02/19/2020\r\n"
          ]
        }
      ]
    },
    {
      "cell_type": "markdown",
      "source": [
        "# Data Processing via Streaming"
      ],
      "metadata": {
        "id": "1BwUss581Iox"
      }
    },
    {
      "cell_type": "markdown",
      "source": [
        "## Reading Data in Line-by-Line"
      ],
      "metadata": {
        "id": "uEdJAMy3LTRK"
      }
    },
    {
      "cell_type": "markdown",
      "source": [
        "Before reading in data, you must give Python access to the file.  This notebook includes the use of the **open()** function to accomplish this task. Open returns an object, i.e. file object, which includes methods that make it easier to read in data, etc. \n",
        "\n",
        "In addition, this notebook takes advantage of the **with** statement has simplier syntax and handles exceptions/errors better. "
      ],
      "metadata": {
        "id": "RQe6MgluQtjU"
      }
    },
    {
      "cell_type": "markdown",
      "source": [
        "<table width='75%'>\n",
        "  <tr>\n",
        "    <td width='50%' valign=\"top\">\n",
        "      <font size=\"+1\">\n",
        "      <p align='center'><strong>Traditional</strong></p>\n",
        "      file = open(\"mydata.txt\")<br>\n",
        "         &nbsp;&nbsp;&nbsp;data = file.read()<br>\n",
        "         &nbsp;&nbsp;&nbsp;print data<br>\n",
        "      file.close()</font> # It's important to close the file<br>\n",
        "    </td>\n",
        "    <td width='50%' valign=\"top\">\n",
        "      <font size=\"+1\">\n",
        "      <p align='center'><strong>Using with</strong></p>\n",
        "      with open(\"mydata.txt\")<br>\n",
        "        &nbsp;&nbsp;&nbsp;data = file.read()<br>\n",
        "       </font>\n",
        "       <br><br>\n",
        "    </td>\n",
        "  </tr>\n",
        "</table>"
      ],
      "metadata": {
        "id": "SAMI3JkIGHfj"
      }
    },
    {
      "cell_type": "markdown",
      "source": [
        "Consider the following use of the open() function along with the with statement.  This code will consider one line at a time -- which is necessary when data processing is done via streaming.  The **if** statement is needed so that printing happens only for the 1st five lines."
      ],
      "metadata": {
        "id": "Pp4OLvhSH-O4"
      }
    },
    {
      "cell_type": "code",
      "source": [
        "# Reading in data one line at a time - showing the first 5 lines\n",
        "with open(\"/content/sample_data/MedicarePayments_Physicians_Stream.csv\", \"r\") as file:\n",
        "\n",
        "    for index, line in enumerate(file):\n",
        "       if index < 5:\n",
        "         print(index,line)"
      ],
      "metadata": {
        "colab": {
          "base_uri": "https://localhost:8080/"
        },
        "id": "YMAzrcxAQ6k8",
        "outputId": "d4db6839-9c11-4e22-ce75-5bceec284923"
      },
      "execution_count": 16,
      "outputs": [
        {
          "output_type": "stream",
          "name": "stdout",
          "text": [
            "0 557946,Vikas,Pilly,400 International Drive,Williamsville,NY,14221-5771,Medical,Caerus Corp.,100000246826,1,14875,08/19/2020\n",
            "\n",
            "1 276936,Matthew,Hall,301 Prospect Avenue,Syracuse,NY,13203,Doctor of Dentistry,Solvay Dental 360-A Div of Solvay Specialty Polymers USA LLC,100000151564,1,5296,06/16/2020\n",
            "\n",
            "2 1275463,Stephen,Campbell,228 Ravine Road,Hinsdale,IL,60521,Doctor of Dentistry,Solvay Dental 360-A Div of Solvay Specialty Polymers USA LLC,100000151564,1,1050,08/02/2020\n",
            "\n",
            "3 268352,Leroy,McCarty,8100 W. 78th Street,Edina,MN,55439-2516,Medical,Caerus Corp.,100000246826,1,4750,03/19/2020\n",
            "\n",
            "4 904225,Michael,Latza,212 Park Avenue,Plainfield,NJ,07060-1206,Chiropractor,Caerus Corp.,100000246826,1,320,10/13/2020\n",
            "\n"
          ]
        }
      ]
    },
    {
      "cell_type": "markdown",
      "source": [
        "The following modification can be made to print the last five lines of this large data file.  Recall, the number of records in this data file is 5721010."
      ],
      "metadata": {
        "id": "wBRuhvovKKn2"
      }
    },
    {
      "cell_type": "code",
      "source": [
        "# Reading in data one line at a time - showing the last 5 lines\n",
        "with open(\"/content/sample_data/MedicarePayments_Physicians_Stream.csv\", \"r\") as file:\n",
        "\n",
        "    for index, line in enumerate(file):\n",
        "       if index > (5721010-5):\n",
        "         print(index,line)"
      ],
      "metadata": {
        "colab": {
          "base_uri": "https://localhost:8080/"
        },
        "id": "EV9l_UfBKKvu",
        "outputId": "6989a61a-8434-4b17-dc3d-1abe883c0442"
      },
      "execution_count": 17,
      "outputs": [
        {
          "output_type": "stream",
          "name": "stdout",
          "text": [
            "5721006 1209319,ANDERS,CARLSON,401 PHALEN BLVD,SAINT PAUL,MN,55130,Medical,Abbott Laboratories,100000010680,1,4896,10/01/2020\n",
            "\n",
            "5721007 75907,JACKIE,FRENCH,223 E 34th St,New York,NY,10016-4852,Medical,Biogen Inc.,100000000193,1,831.25,05/11/2020\n",
            "\n",
            "5721008 829368,BRAD,VAUGHN,101 Manning Dr Fl 1,Chapel Hill,NC,27514-4220,Medical Doctor,Biogen Inc.,100000000193,1,1000,02/13/2020\n",
            "\n",
            "5721009 141838,Kenneth,Rosenfield,55 FRUIT ST # 800MAILSTOP 843,Boston,MA,02114,Medical Doctor,AngioDynamics Inc.,100000005504,1,46500,02/19/2020\n",
            "\n"
          ]
        }
      ]
    },
    {
      "cell_type": "markdown",
      "source": [
        "The following modification can be made to show every 1000000th line.  Modular arithmatic is used to accomplish this in Python and a modular arithmatic can be computed with a \\% sign."
      ],
      "metadata": {
        "id": "g3xy84PtKnSw"
      }
    },
    {
      "cell_type": "code",
      "source": [
        "# Reading in data one line at a time - showing every 1000000th line\n",
        "with open(\"/content/sample_data/MedicarePayments_Physicians_Stream.csv\", \"r\") as file:\n",
        "\n",
        "    for index, line in enumerate(file):\n",
        "       if index % 1000000 == 0:\n",
        "         print(index,line)"
      ],
      "metadata": {
        "colab": {
          "base_uri": "https://localhost:8080/"
        },
        "id": "_0oOUwj-Kna2",
        "outputId": "6eca8ae2-048c-402e-e35f-2ac29dfed36c"
      },
      "execution_count": 18,
      "outputs": [
        {
          "output_type": "stream",
          "name": "stdout",
          "text": [
            "0 557946,Vikas,Pilly,400 International Drive,Williamsville,NY,14221-5771,Medical,Caerus Corp.,100000246826,1,14875,08/19/2020\n",
            "\n",
            "1000000 331374,MARIA,BACCORO,30 E RIVER PARK PL W,FRESNO,CA,93720-1545,Medical Doctor,Allergan Inc.,100000000278,1,3.75,02/21/2020\n",
            "\n",
            "2000000 300504,DEEPINDER,BURN,975 HALL ST,WIGGINS,MS,39577,Medical Doctor,GlaxoSmithKline LLC.,100000005449,1,15.02,03/31/2020\n",
            "\n",
            "3000000 91560,DANIEL,ZUCKERBROD,14400 WEST MCNICHOLS,DETROIT,MI,48235-3916,Medical Doctor,Regeneron Pharmaceuticals Inc.,100000136416,1,34.71,09/23/2020\n",
            "\n",
            "4000000 158584,LUIS,ZUNIGA MONTES,4511 HORIZON HILL BLVD,SAN ANTONIO,TX,78229,Medical Doctor,Horizon Therapeutics plc,100000131389,1,13.36,09/11/2020\n",
            "\n",
            "5000000 1055948,SUSHMA,HIRANI,2944 HUNTER MILL RD STE 101,OAKTON,VA,22124,Medical Doctor,Romark Laboratories LC,100000011162,1,1.69,01/09/2020\n",
            "\n"
          ]
        }
      ]
    },
    {
      "cell_type": "markdown",
      "source": [
        "## Processing each Line"
      ],
      "metadata": {
        "id": "sVEnscTXQ6u-"
      }
    },
    {
      "cell_type": "markdown",
      "source": [
        "The delimiter in this file is a comma, i.e this is a comma seperated values file.  Thus; to process each line the information will be split by a comma.  The following code reads in a line and splits the information into a Python list.  Putting each line into a list will allow us to easily pick-off the desired information from each line."
      ],
      "metadata": {
        "id": "1eqMm5gTLfxj"
      }
    },
    {
      "cell_type": "code",
      "source": [
        "# Reading in data one line at a time\n",
        "# Putting the information from each line into a list by splitting on the comma\n",
        "with open(\"/content/sample_data/MedicarePayments_Physicians_Stream.csv\", \"r\") as file:\n",
        "\n",
        "    for index, line in enumerate(file):\n",
        "       if index < 10:\n",
        "         print(index,line.split(\",\"))"
      ],
      "metadata": {
        "id": "8r_tql2JQtqF",
        "colab": {
          "base_uri": "https://localhost:8080/"
        },
        "outputId": "e5293849-32d2-4809-bdb0-304b3e12cef3"
      },
      "execution_count": 19,
      "outputs": [
        {
          "output_type": "stream",
          "name": "stdout",
          "text": [
            "0 ['557946', 'Vikas', 'Pilly', '400 International Drive', 'Williamsville', 'NY', '14221-5771', 'Medical', 'Caerus Corp.', '100000246826', '1', '14875', '08/19/2020\\n']\n",
            "1 ['276936', 'Matthew', 'Hall', '301 Prospect Avenue', 'Syracuse', 'NY', '13203', 'Doctor of Dentistry', 'Solvay Dental 360-A Div of Solvay Specialty Polymers USA LLC', '100000151564', '1', '5296', '06/16/2020\\n']\n",
            "2 ['1275463', 'Stephen', 'Campbell', '228 Ravine Road', 'Hinsdale', 'IL', '60521', 'Doctor of Dentistry', 'Solvay Dental 360-A Div of Solvay Specialty Polymers USA LLC', '100000151564', '1', '1050', '08/02/2020\\n']\n",
            "3 ['268352', 'Leroy', 'McCarty', '8100 W. 78th Street', 'Edina', 'MN', '55439-2516', 'Medical', 'Caerus Corp.', '100000246826', '1', '4750', '03/19/2020\\n']\n",
            "4 ['904225', 'Michael', 'Latza', '212 Park Avenue', 'Plainfield', 'NJ', '07060-1206', 'Chiropractor', 'Caerus Corp.', '100000246826', '1', '320', '10/13/2020\\n']\n",
            "5 ['995636', 'MEREDITH', 'CARBONE-DOYLE', '734 N MAIN ST', 'LACONIA', 'NH', '03247', 'Doctor of Osteopathy', 'Mission Pharmacal Company', '100000000186', '1', '14.31', '02/20/2020\\n']\n",
            "6 ['324692', 'JOSEPH', 'BEALS', '390 PARK ST', 'BIRMINGHAM', 'MI', '48009', 'Medical Doctor', 'Mission Pharmacal Company', '100000000186', '1', '16.47', '01/09/2020\\n']\n",
            "7 ['259992', 'ANDREA', 'BAYER', '10115 FOREST HILL BLVD', 'WELLINGTON', 'FL', '33414', 'Medical Doctor', 'Mission Pharmacal Company', '100000000186', '1', '14.74', '10/05/2020\\n']\n",
            "8 ['492023', 'ELIZABETH', 'BABIN', '690 MEADOWS RD', 'BOCA RATON', 'FL', '33486', 'Medical Doctor', 'Mission Pharmacal Company', '100000000186', '1', '14.32', '09/30/2020\\n']\n",
            "9 ['1044238', 'Joseph', 'Rosen', '1 Medical Center Dr.', 'Lebanon', 'NH', '03756', 'Medical Doctor', 'Koven Technology Inc.', '100000000191', '1', '1610', '02/05/2020\\n']\n"
          ]
        }
      ]
    },
    {
      "cell_type": "markdown",
      "source": [
        "Next, suppose the goal is to obtain the **Payment** amount from each line.  The Payment field is the 11th field in this list.  The following code will retrieve the Payment from each line in this large file."
      ],
      "metadata": {
        "id": "0JDNY1XdQuT0"
      }
    },
    {
      "cell_type": "code",
      "source": [
        "# Reading in data one line at a time\n",
        "# Putting the information from each line into a list by splitting on the comma\n",
        "# Retrieving the Payment, i.e the 11th item in this list\n",
        "with open(\"/content/sample_data/MedicarePayments_Physicians_Stream.csv\", \"r\") as file:\n",
        "\n",
        "    for index, line in enumerate(file):\n",
        "       if index < 5:\n",
        "         print(index,line.split(\",\")[11])"
      ],
      "metadata": {
        "id": "Kizo1ntfQgF9",
        "colab": {
          "base_uri": "https://localhost:8080/"
        },
        "outputId": "2390b07a-e846-42ba-9955-7419edca60aa"
      },
      "execution_count": 21,
      "outputs": [
        {
          "output_type": "stream",
          "name": "stdout",
          "text": [
            "0 14875\n",
            "1 5296\n",
            "2 1050\n",
            "3 4750\n",
            "4 320\n"
          ]
        }
      ]
    },
    {
      "cell_type": "markdown",
      "source": [
        "<table width='100%'><tr><td bgcolor='orange' align='center'><font size=\"+2\">Python Function</font></td></tr></table>"
      ],
      "metadata": {
        "id": "X6ySmL6aRx81"
      }
    },
    {
      "cell_type": "code",
      "source": [
        "def getItem(input_line, which_field=1, return_string=True):\n",
        "  '''  Purpose: Gets a particluar field from an input line \n",
        "\n",
        "       Args:\n",
        "         input_line: line to process\n",
        "         which_field: identifies which field to retrieve\n",
        "         return_string: a logicial to identify whether or not the item should be returned as a string\n",
        "        \n",
        "      Returns: the desired item from the input_line list \n",
        "  '''\n",
        "  \n",
        "  item = str(input_line.split(\",\")[which_field])\n",
        "  if return_string == False:\n",
        "    item = float(item)\n",
        "\n",
        "  return(item)"
      ],
      "metadata": {
        "id": "qImFs36yRyDc"
      },
      "execution_count": 22,
      "outputs": []
    },
    {
      "cell_type": "markdown",
      "source": [
        "<table width='100%'><tr><td bgcolor='orange' align='center'><font size=\"+2\">&nbsp;</font></td></tr></table>"
      ],
      "metadata": {
        "id": "LTY6S-XdNgcj"
      }
    },
    {
      "cell_type": "markdown",
      "source": [
        "Next, using the getItem() custom function to retrieve the desired items from each line."
      ],
      "metadata": {
        "id": "DzPa-XI7UzTV"
      }
    },
    {
      "cell_type": "code",
      "source": [
        "# Reading in data one line at a time\n",
        "# Using the getItem() custom function to retrieve desired information\n",
        "with open(\"/content/sample_data/MedicarePayments_Physicians_Stream.csv\", \"r\") as file:\n",
        "\n",
        "    for index, line in enumerate(file):\n",
        "       if index < 5:\n",
        "         print(index,\n",
        "               getItem(line, which_field=11, return_string=False)\n",
        "               )"
      ],
      "metadata": {
        "id": "-uS0Rq7HUyvG",
        "colab": {
          "base_uri": "https://localhost:8080/"
        },
        "outputId": "148356ef-e4b1-473e-b19a-480fbddc1c86"
      },
      "execution_count": 24,
      "outputs": [
        {
          "output_type": "stream",
          "name": "stdout",
          "text": [
            "0 14875.0\n",
            "1 5296.0\n",
            "2 1050.0\n",
            "3 4750.0\n",
            "4 320.0\n"
          ]
        }
      ]
    },
    {
      "cell_type": "markdown",
      "source": [
        "Before continuing, let's test the functionality of the return_string argument of the getItem() custom function."
      ],
      "metadata": {
        "id": "M2RVfY2JPPL9"
      }
    },
    {
      "cell_type": "code",
      "source": [
        "# Reading in data one line at a time\n",
        "# Using the getItem() custom function to retrieve desired information\n",
        "# Testing the return_string argument of this function\n",
        "with open(\"/content/sample_data/MedicarePayments_Physicians_Stream.csv\", \"r\") as file:\n",
        "\n",
        "    for index, line in enumerate(file):\n",
        "       if index < 5:\n",
        "         print(index,\n",
        "               type(getItem(line, which_field=11, return_string=False))\n",
        "               )"
      ],
      "metadata": {
        "colab": {
          "base_uri": "https://localhost:8080/"
        },
        "id": "d5FFZleVPPS7",
        "outputId": "3ddf8374-b788-4d55-ce99-bd9e1d8772ad"
      },
      "execution_count": 28,
      "outputs": [
        {
          "output_type": "stream",
          "name": "stdout",
          "text": [
            "0 <class 'str'>\n",
            "1 <class 'str'>\n",
            "2 <class 'str'>\n",
            "3 <class 'str'>\n",
            "4 <class 'str'>\n"
          ]
        }
      ]
    },
    {
      "cell_type": "markdown",
      "source": [
        "## Data Summaries via Streaming - SUM()"
      ],
      "metadata": {
        "id": "O_kh2Yw7ZkPR"
      }
    },
    {
      "cell_type": "markdown",
      "source": [
        "Consider the following code that will compute the sum of all payments across all records.  The streaming approach used here does **not** require that the entire data set be loaded into Python."
      ],
      "metadata": {
        "id": "1ldHYvJbP2aW"
      }
    },
    {
      "cell_type": "markdown",
      "source": [
        "Note:  The print() statement should be judiciously to help you understand how the data processing is being done.  However, be careful to **not** print each line when processing all lines!"
      ],
      "metadata": {
        "id": "QgDczFkxRo79"
      }
    },
    {
      "cell_type": "code",
      "source": [
        "#Initialize SumPayments and Counter\n",
        "SumPayments = 0.; Counter=0;\n",
        "\n",
        "#Read data in one line at a time\n",
        "#Use the getItem() custom function to return the Payment field\n",
        "#Judicious use of the print() statement will help identify errors in your processing\n",
        "\n",
        "with open(\"/content/sample_data/MedicarePayments_Physicians_Stream.csv\", \"r\") as file:\n",
        "\n",
        "    for index, line in enumerate(file):\n",
        "      if index < 5:\n",
        "        Counter += 1\n",
        "        SumPayments += getItem(line, which_field=11, return_string=False)\n",
        "      if index < 5:\n",
        "         print(index, Counter, getItem(line, which_field=11, return_string=False), round(SumPayments,2))"
      ],
      "metadata": {
        "colab": {
          "base_uri": "https://localhost:8080/"
        },
        "id": "VJfDLmt2PvHl",
        "outputId": "8deaa126-9da6-4500-890b-450948315aa3"
      },
      "execution_count": 32,
      "outputs": [
        {
          "output_type": "stream",
          "name": "stdout",
          "text": [
            "0 1 14875.0 14875.0\n",
            "1 2 5296.0 20171.0\n",
            "2 3 1050.0 21221.0\n",
            "3 4 4750.0 25971.0\n",
            "4 5 320.0 26291.0\n"
          ]
        }
      ]
    },
    {
      "cell_type": "markdown",
      "source": [
        "Consider the following code which includes additional print statments that can be used when considering all 5.7 millions records."
      ],
      "metadata": {
        "id": "Ko4SuyhnSADu"
      }
    },
    {
      "cell_type": "code",
      "source": [
        "#Initialize SumPayments and Counter\n",
        "SumPayments = 0.; Counter=0;\n",
        "\n",
        "#Read data in one line at a time\n",
        "#Use the getItem() custom function to return the Payment field\n",
        "#Judicious use of the print() statement will help identify processing steps\n",
        "\n",
        "with open(\"/content/sample_data/MedicarePayments_Physicians_Stream.csv\", \"r\") as file:\n",
        "\n",
        "    for index, line in enumerate(file):\n",
        "      if index < 5:\n",
        "        Counter += 1\n",
        "        SumPayments += getItem(line, which_field=11, return_string=False)\n",
        "        if index < 5:\n",
        "           print(Counter, round(SumPayments,2))\n",
        "        #if index % 1000000 == 0:\n",
        "        # print(Counter, round(SumPayments,2))\n",
        "\n",
        "#Print the outcomes at the very end\n",
        "print(\"Final Outcomes: \" + str(Counter) + \" | \" + str(round(SumPayments,2)))"
      ],
      "metadata": {
        "colab": {
          "base_uri": "https://localhost:8080/"
        },
        "id": "KxxuLkbSSAKu",
        "outputId": "08063c7f-f364-4d75-b968-e8ee91c5b7ca"
      },
      "execution_count": 47,
      "outputs": [
        {
          "output_type": "stream",
          "name": "stdout",
          "text": [
            "1 14875.0\n",
            "2 20171.0\n",
            "3 21221.0\n",
            "4 25971.0\n",
            "5 26291.0\n",
            "Final Outcomes: 5 | 26291.0\n"
          ]
        }
      ]
    },
    {
      "cell_type": "markdown",
      "source": [
        "## Data Summaries via Streaming - Top N List"
      ],
      "metadata": {
        "id": "4J6AIJC4UURu"
      }
    },
    {
      "cell_type": "markdown",
      "source": [
        "Next, consider a situation in which a Top N list is desired. For example, a Top 3 List or Top 5 List regarding payments."
      ],
      "metadata": {
        "id": "zKeRnh_yUeA1"
      }
    },
    {
      "cell_type": "markdown",
      "source": [
        "The data processing steps required here at more complicated that computing a simple sum from each line.  An example (in a spreadsheet) is provided here.\n",
        "\n",
        "Example:  <a href=\"https://docs.google.com/spreadsheets/d/1DiX0pm18fXm9iQ-zaFtAwlo5riDsly1e58ZQFdo0tGs/edit?usp=sharing\">Top 3 Spreadsheet</a>"
      ],
      "metadata": {
        "id": "GyVTG4IBU8yZ"
      }
    },
    {
      "cell_type": "markdown",
      "source": [
        "The pandas library will be used to accomplish this task, so let's load this package first."
      ],
      "metadata": {
        "id": "_VYF-cmnUvIe"
      }
    },
    {
      "cell_type": "code",
      "source": [
        "import pandas as pd"
      ],
      "metadata": {
        "id": "npAnAWL6bjKV"
      },
      "execution_count": 49,
      "outputs": []
    },
    {
      "cell_type": "markdown",
      "source": [
        "The first step is to initialize a data.frame that will be used for the desired outcomes.  The data.frame is initialized with NaN values as is shown here."
      ],
      "metadata": {
        "id": "Ejojcmo1fOak"
      }
    },
    {
      "cell_type": "code",
      "source": [
        "Top5_df = pd.DataFrame(columns=['Value', 'Name'],\n",
        "                           index=range(0, 5)\n",
        "                           )\n",
        "\n",
        "print(Top5_df)"
      ],
      "metadata": {
        "id": "bZ0t1XGUfOiT",
        "colab": {
          "base_uri": "https://localhost:8080/"
        },
        "outputId": "2f0d15f7-8cdf-40d5-a842-374effb7d6b2"
      },
      "execution_count": 56,
      "outputs": [
        {
          "output_type": "stream",
          "name": "stdout",
          "text": [
            "  Value Name\n",
            "0   NaN  NaN\n",
            "1   NaN  NaN\n",
            "2   NaN  NaN\n",
            "3   NaN  NaN\n",
            "4   NaN  NaN\n"
          ]
        }
      ]
    },
    {
      "cell_type": "markdown",
      "source": [
        "<table width='100%'><tr><td bgcolor='orange' align='center'><font size=\"+2\">Python Function</font></td></tr></table>"
      ],
      "metadata": {
        "id": "DK7Dq-EgVySW"
      }
    },
    {
      "cell_type": "code",
      "source": [
        "def TopNList(TopN_df, input_value, input_name):\n",
        "  '''  Purpose: To process a Top N list of values for a streaming data situation\n",
        "\n",
        "       Args:\n",
        "         TopN_df: the exising data.frame that contains the top N quantities\n",
        "         input_value: incoming data value\n",
        "         input_name: name associated with incoming data value\n",
        "        \n",
        "      Returns: \n",
        "         data.frame that contains the top N values and the associated names\n",
        "  '''\n",
        "  \n",
        "  if TopN_df['Value'].isnull().values.any() or input_value > TopN_df.loc[0, \"Value\"]:\n",
        "    TopN_df.loc[0, \"Value\"] = input_value\n",
        "    TopN_df.loc[0, \"Name\"] = input_name\n",
        "    TopN_df.sort_values(by='Value', ascending=True, na_position='first', ignore_index = True, inplace = True)\n",
        " \n",
        "  return(TopN_df)"
      ],
      "metadata": {
        "id": "8a6Asj9RZkV4"
      },
      "execution_count": 58,
      "outputs": []
    },
    {
      "cell_type": "markdown",
      "source": [
        "<table width='100%'><tr><td bgcolor='orange' align='center'><font size=\"+2\">&nbsp;</font></td></tr></table>"
      ],
      "metadata": {
        "id": "ZscbAUvbV2Id"
      }
    },
    {
      "cell_type": "markdown",
      "source": [
        ""
      ],
      "metadata": {
        "id": "Re7f9m7Ugd6L"
      }
    },
    {
      "cell_type": "code",
      "source": [
        "#Initialize a data.frame for the outcomes\n",
        "Top5_df = pd.DataFrame(columns=['Value', 'Name'],\n",
        "                           index=range(0, 5)\n",
        "                           )\n",
        "\n",
        "#Stream through the data to obtain the top N list\n",
        "with open(\"/content/sample_data/MedicarePayments_Physicians_Stream.csv\", \"r\") as file:\n",
        "\n",
        "    for index, line in enumerate(file):\n",
        "      if index < 5:\n",
        "        Top5_df = TopNList(Top5_df, \n",
        "                           input_value = getItem(line, which_field=11, return_string=False), \n",
        "                           input_name = getItem(line, which_field=0, return_string=True)\n",
        "                           )\n",
        "        if index < 5:\n",
        "            print(Top5_df)\n",
        "\n",
        "        #if index % 1000000 == 0:\n",
        "        #   print(Top5_df)\n",
        "\n",
        "print(Top5_df)"
      ],
      "metadata": {
        "id": "_dYppuAggeA-",
        "colab": {
          "base_uri": "https://localhost:8080/"
        },
        "outputId": "e293e135-7df8-4053-842a-e075514dd788"
      },
      "execution_count": 66,
      "outputs": [
        {
          "output_type": "stream",
          "name": "stdout",
          "text": [
            "     Value    Name\n",
            "0      NaN     NaN\n",
            "1      NaN     NaN\n",
            "2      NaN     NaN\n",
            "3      NaN     NaN\n",
            "4  14875.0  557946\n",
            "     Value    Name\n",
            "0      NaN     NaN\n",
            "1      NaN     NaN\n",
            "2      NaN     NaN\n",
            "3   5296.0  276936\n",
            "4  14875.0  557946\n",
            "     Value     Name\n",
            "0      NaN      NaN\n",
            "1      NaN      NaN\n",
            "2   1050.0  1275463\n",
            "3   5296.0   276936\n",
            "4  14875.0   557946\n",
            "     Value     Name\n",
            "0      NaN      NaN\n",
            "1   1050.0  1275463\n",
            "2   4750.0   268352\n",
            "3   5296.0   276936\n",
            "4  14875.0   557946\n",
            "     Value     Name\n",
            "0    320.0   904225\n",
            "1   1050.0  1275463\n",
            "2   4750.0   268352\n",
            "3   5296.0   276936\n",
            "4  14875.0   557946\n",
            "     Value     Name\n",
            "0    320.0   904225\n",
            "1   1050.0  1275463\n",
            "2   4750.0   268352\n",
            "3   5296.0   276936\n",
            "4  14875.0   557946\n"
          ]
        }
      ]
    },
    {
      "cell_type": "markdown",
      "source": [
        "\n",
        "\n",
        "---\n",
        "\n",
        "\n",
        "\n",
        "---\n",
        "End of Document\n"
      ],
      "metadata": {
        "id": "ekJ-UOMWaP-v"
      }
    }
  ]
}