{
  "nbformat": 4,
  "nbformat_minor": 0,
  "metadata": {
    "colab": {
      "name": "Task1.ipynb",
      "provenance": [],
      "authorship_tag": "ABX9TyNoUgozwsWkqhNfbtRGwPen",
      "include_colab_link": true
    },
    "kernelspec": {
      "name": "ir",
      "display_name": "R"
    }
  },
  "cells": [
    {
      "cell_type": "markdown",
      "metadata": {
        "id": "view-in-github",
        "colab_type": "text"
      },
      "source": [
        "<a href=\"https://colab.research.google.com/github/christophermalone/DSCI325/blob/main/Task1.ipynb\" target=\"_parent\"><img src=\"https://colab.research.google.com/assets/colab-badge.svg\" alt=\"Open In Colab\"/></a>"
      ]
    },
    {
      "cell_type": "markdown",
      "metadata": {
        "id": "qxz9x0KmCPWu"
      },
      "source": [
        "# Task #1 - Fixing Issues Related to Reading in the US Zipcode data file \r\n",
        "Points: 10\r\n",
        "\r\n",
        "Due: Tuesday, Jan 26"
      ]
    },
    {
      "cell_type": "markdown",
      "metadata": {
        "id": "-7o82uGrMdIb"
      },
      "source": [
        "In Module 1 | Part 4 the US Zipcode dataset was read into R.  R failed to read in about 1200 rows of this dataset.  In paticular, the text file contains 41,460 unique zipcodes, but R only readin 40,268.  \r\n",
        "\r\n",
        "<strong>Task Requirements</strong>\r\n",
        "\r\n",
        "1.   Figure out what happened to the 1200 missing rows\r\n",
        "2.   Correct the issue\r\n",
        "3.   Re-read the data in and verify that all rows have been successfully included\r\n",
        "\r\n",
        "<strong>Hints</strong>: \r\n",
        "1.   The issue first appeared when reading in data from Iowa.  It also occured when reading in data Idaho, Illinois, etc. \r\n",
        "2.   I fixed this issue by adding something to the read.table() command.  Figure out the problem and then figure out how to get the read.table() functin to overcome this problem."
      ]
    },
    {
      "cell_type": "markdown",
      "metadata": {
        "id": "At64flMI6fVT"
      },
      "source": [
        "<strong>What do I turn in?</strong>\r\n",
        "\r\n",
        "1. You will be asked to turn in a link to your iPython Notebook\r\n",
        "2. Using the text block below, explain why the 1200 were missing and provide an brief explanation of how you fixed this issue.\r\n",
        "3. Proof that data was read in correctly, e.g. provide output from the dim() function\r\n"
      ]
    },
    {
      "cell_type": "markdown",
      "metadata": {
        "id": "LD_ZNMzR7S_S"
      },
      "source": [
        "TYPE YOUR ANSWER TO QUESTION #2 IN THIS TEXTBOX"
      ]
    },
    {
      "cell_type": "markdown",
      "metadata": {
        "id": "1cFJWgbW7dUU"
      },
      "source": [
        "\r\n",
        "\r\n",
        "---\r\n",
        "\r\n",
        "---\r\n",
        "\r\n",
        "\r\n",
        "\r\n"
      ]
    },
    {
      "cell_type": "markdown",
      "metadata": {
        "id": "XDhxPJ1C7hy5"
      },
      "source": [
        "# Code for Task #1"
      ]
    },
    {
      "cell_type": "markdown",
      "metadata": {
        "id": "fBexa6FBMpO5"
      },
      "source": [
        "## Using the download.file() function"
      ]
    },
    {
      "cell_type": "code",
      "metadata": {
        "id": "eWZnqGeyCQG-"
      },
      "source": [
        "#Creating a temporary directory for download\r\n",
        "Zipcode_Directory <- tempdir()"
      ],
      "execution_count": null,
      "outputs": []
    },
    {
      "cell_type": "code",
      "metadata": {
        "id": "Ve3naWo3CXnn"
      },
      "source": [
        "#Creating a temporary file \r\n",
        "Zipcode_File <-tempfile()"
      ],
      "execution_count": null,
      "outputs": []
    },
    {
      "cell_type": "markdown",
      "metadata": {
        "id": "mNckJc_4NZGF"
      },
      "source": [
        "Downloading the US.zip file from Geonames.org website"
      ]
    },
    {
      "cell_type": "code",
      "metadata": {
        "id": "-afZLMNFCXw2"
      },
      "source": [
        "#Downlaod the file, happens to be a zip file thus must be unpacked\r\n",
        "download.file(url=\"http://download.geonames.org/export/zip/US.zip\", destfile=Zipcode_File)"
      ],
      "execution_count": null,
      "outputs": []
    },
    {
      "cell_type": "markdown",
      "metadata": {
        "id": "ptuTcG_VPn5X"
      },
      "source": [
        "## Using the unzip() function"
      ]
    },
    {
      "cell_type": "code",
      "metadata": {
        "id": "Asq8PDTuCX53"
      },
      "source": [
        "#Unzipping the file\r\n",
        "unzip(zipfile=Zipcode_File, exdir=Zipcode_Directory)"
      ],
      "execution_count": null,
      "outputs": []
    },
    {
      "cell_type": "markdown",
      "metadata": {
        "id": "F-maWXaZRQoE"
      },
      "source": [
        "## Reading the unzipped (text) file into R"
      ]
    },
    {
      "cell_type": "code",
      "metadata": {
        "id": "xiS2t2LcCzFQ"
      },
      "source": [
        "#Using file.path() function to create the necessary path to the file.\r\n",
        "filelocation <- file.path(Zipcode_Directory,\"US.txt\")"
      ],
      "execution_count": null,
      "outputs": []
    },
    {
      "cell_type": "markdown",
      "metadata": {
        "id": "gE-aXJuO5ERs"
      },
      "source": [
        "Reading in the file using the read.table() function."
      ]
    },
    {
      "cell_type": "code",
      "metadata": {
        "id": "l_bxaFLzCX-v"
      },
      "source": [
        "#Using read.table() to read in the data file\r\n",
        "Zipcode_Data <- read.table(file=filelocation, sep=\"\\t\", header=FALSE)"
      ],
      "execution_count": null,
      "outputs": []
    },
    {
      "cell_type": "markdown",
      "metadata": {
        "id": "y4wgLcpZ5ZAT"
      },
      "source": [
        "Use dim() to check the nubmer of zipcodes (i.e. rows) that were read in by R"
      ]
    },
    {
      "cell_type": "code",
      "metadata": {
        "id": "Zo828mNM5gty"
      },
      "source": [
        "#Getting the dimensions of the data.frame\r\n",
        "dim(Zipcode_Data)"
      ],
      "execution_count": null,
      "outputs": []
    },
    {
      "cell_type": "markdown",
      "metadata": {
        "id": "3vMhuaihJ6ck"
      },
      "source": [
        "Lastly, creating meaningful field names for the data.frame"
      ]
    },
    {
      "cell_type": "code",
      "metadata": {
        "id": "WdsdK4TiJ5BV"
      },
      "source": [
        "#Creating new names for the Zipcode_Data data.frame\r\n",
        "names(Zipcode_Data) <- c(\"Country\", \"Zipcode\", \"Location\", \"StateName\", \"StateAbbrevation\",\"CountyName\", \"CountyAbbreviation\", \"CommunityName\", \"CommunityAbbreviation\", \"Latitude\", \"Longitude\", \"Accuracy\")"
      ],
      "execution_count": null,
      "outputs": []
    }
  ]
}