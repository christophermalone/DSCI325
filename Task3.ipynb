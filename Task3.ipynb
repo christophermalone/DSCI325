{
  "nbformat": 4,
  "nbformat_minor": 0,
  "metadata": {
    "colab": {
      "name": "Task3.ipynb",
      "provenance": [],
      "collapsed_sections": [],
      "authorship_tag": "ABX9TyPmMNaGVMxFzbeeY0eeRGZ8",
      "include_colab_link": true
    },
    "kernelspec": {
      "name": "ir",
      "display_name": "R"
    }
  },
  "cells": [
    {
      "cell_type": "markdown",
      "metadata": {
        "id": "view-in-github",
        "colab_type": "text"
      },
      "source": [
        "<a href=\"https://colab.research.google.com/github/christophermalone/DSCI325/blob/main/Task3.ipynb\" target=\"_parent\"><img src=\"https://colab.research.google.com/assets/colab-badge.svg\" alt=\"Open In Colab\"/></a>"
      ]
    },
    {
      "cell_type": "markdown",
      "metadata": {
        "id": "ZQx7oVt6gPHg"
      },
      "source": [
        "# Task #3 - CFPB Complaints Database (R Version)\r\n",
        "Points: 20\r\n",
        "\r\n",
        "Due: Wednesday, Mar 10; 11:59PM"
      ]
    },
    {
      "cell_type": "markdown",
      "metadata": {
        "id": "OK2eYqWlotW-"
      },
      "source": [
        "\r\n",
        "\r\n",
        "---\r\n"
      ]
    },
    {
      "cell_type": "markdown",
      "metadata": {
        "id": "nkMWsigZgpkz"
      },
      "source": [
        "For this assignment, we will be working with the Consumer Financial Protection Bureau Complaints database.  The database contains complaints submitted by consumers against financial companies.  For example, a complaint against a credit card company can be submitted here.\r\n",
        "\r\n",
        "\r\n",
        "\r\n",
        "*   Data Source: https://www.consumerfinance.gov/data-research/consumer-complaints/\r\n",
        "*   Field Reference: https://cfpb.github.io/api/ccdb/fields.html\r\n",
        "\r\n",
        "\r\n",
        "The following data files are provided in the Complaints.zip file that can be downloaded from our course website.\r\n",
        "\r\n",
        "\r\n",
        "*   Complaints.csv: Complaints that have been filed after Jan 1, 2019\r\n",
        "*   Population.csv: Population by zip code\r\n",
        "*   Complaints.db: A database file containing both of the above files\r\n"
      ]
    },
    {
      "cell_type": "markdown",
      "metadata": {
        "id": "2gvLMdJjoosQ"
      },
      "source": [
        "\r\n",
        "\r\n",
        "---\r\n",
        "\r\n",
        "\r\n",
        "\r\n",
        "\r\n"
      ]
    },
    {
      "cell_type": "markdown",
      "metadata": {
        "id": "wh4VAGFjozye"
      },
      "source": [
        "<strong>Task Requirements</strong>"
      ]
    },
    {
      "cell_type": "markdown",
      "metadata": {
        "id": "HzPqQ3-wo3AO"
      },
      "source": [
        "Answer the following questions for this task.  The SELECT() / FILTER()\r\n",
        "\r\n",
        "\r\n",
        "1.   How many complaints were filed in MN?\r\n",
        "2.   How many complaints in MN had Product = Mortgage?\r\n",
        "3.   What are the most common issues with complaints in MN with Product = Mortgage?\r\n",
        "4.   What are the most common issues with complaints in MN with Product = Vehicle loan or lease?  Does this list of issues differ than mortages?  Discuss.\r\n",
        "5.   A friend of mine is considering refinancing their mortgage.  The bank she is working with is ASSOCIATED BANC-CORP.  How many complaints does this bank have for mortgages?\r\n",
        "6.  Consider again mortgage complaints for ASSOCIATED BANC-CORP.  Proivde a dataframe that includes the Consumer Narrative, Company Response, and Company Action.\r\n",
        "7. Consider the entire complaints database.  How many complaints were filed in 2019?  How many were filed in 2020? How do these numbers compare?\r\n",
        "8. How many of the complaints did not include a narrative by the consumer?\r\n",
        "\r\n"
      ]
    },
    {
      "cell_type": "markdown",
      "metadata": {
        "id": "TYZdbH8C0mrS"
      },
      "source": [
        "<strong>Turn In</strong>\r\n",
        "\r\n",
        "\r\n",
        "\r\n",
        "1.   A Google Colab document that includes all code.\r\n",
        "2.   Answers to all eight questions\r\n",
        "\r\n"
      ]
    },
    {
      "cell_type": "code",
      "metadata": {
        "id": "QRH3VZZv01DX"
      },
      "source": [
        ""
      ],
      "execution_count": null,
      "outputs": []
    }
  ]
}