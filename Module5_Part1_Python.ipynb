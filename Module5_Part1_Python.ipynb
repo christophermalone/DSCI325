{
  "nbformat": 4,
  "nbformat_minor": 0,
  "metadata": {
    "colab": {
      "name": "Module5_Part1_Python",
      "provenance": [],
      "collapsed_sections": [],
      "include_colab_link": true
    },
    "kernelspec": {
      "display_name": "Python 3",
      "name": "python3"
    }
  },
  "cells": [
    {
      "cell_type": "markdown",
      "metadata": {
        "id": "view-in-github",
        "colab_type": "text"
      },
      "source": [
        "<a href=\"https://colab.research.google.com/github/christophermalone/DSCI325/blob/main/Module5_Part1_Python.ipynb\" target=\"_parent\"><img src=\"https://colab.research.google.com/assets/colab-badge.svg\" alt=\"Open In Colab\"/></a>"
      ]
    },
    {
      "cell_type": "markdown",
      "metadata": {
        "id": "70S3wd9iDFkx"
      },
      "source": [
        "# Module 5 - Part 1 Python: Application Programming Interface (API) - Yelp"
      ]
    },
    {
      "cell_type": "markdown",
      "metadata": {
        "id": "Rj_y6a3yM3xK"
      },
      "source": [
        "## What is an API"
      ]
    },
    {
      "cell_type": "markdown",
      "metadata": {
        "id": "oQnvpSwjJo6c"
      },
      "source": [
        "An <strong>Application Programming Interface (API)</strong> is common method to obtain and share data across various applications. "
      ]
    },
    {
      "cell_type": "markdown",
      "metadata": {
        "id": "--n3xavEJp77"
      },
      "source": [
        "\n",
        "<p align='center'><img src=\"https://drive.google.com/uc?export=view&id=1Mvm4Rs94-fiGV1fISMvrZSzkOPBg5S1p\"></p>\n",
        "\n",
        "Source:  https://en.wikipedia.org/wiki/API"
      ]
    },
    {
      "cell_type": "markdown",
      "metadata": {
        "id": "Jik5Hii2KV_J"
      },
      "source": [
        "An API allows for communication to easily transpire between a user and database (or server)."
      ]
    },
    {
      "cell_type": "markdown",
      "metadata": {
        "id": "pp56YCjfKYR2"
      },
      "source": [
        "<p align='center'><img src=\"https://drive.google.com/uc?export=view&id=1v19F5Cxe8gDat9IfaGNbFuRjc9colU18\"></p>"
      ]
    },
    {
      "cell_type": "markdown",
      "metadata": {
        "id": "4wnhVBoLin1X"
      },
      "source": [
        "<table width='100%' ><tr><td bgcolor='green'></td></tr></table>\n",
        "\n",
        "## Example 5.1.P\n",
        "For this notebook, we will use the Yelp API to obtain data regarding the *Best Restaurants* in Winona, MN. \n",
        " \n",
        "The following search criteria will be used\n",
        "\n",
        "*   Locaton: Winona, MN\n",
        "*   Search Term: Best Restaurants\n",
        "*   Price: $, 1 dollar sign implies cheapest \n",
        "*   Sort by: Highest Rated\n",
        "\n",
        "Source:  https://www.yelp.com/search?find_desc=Best%20Restaurants&find_loc=Winona%2C%20MN%2055987&attrs=RestaurantsPriceRange2.1&sortby=rating \n",
        "\n",
        "<table width='100%' ><tr><td bgcolor='green'></td></tr></table>"
      ]
    },
    {
      "cell_type": "markdown",
      "metadata": {
        "id": "m1qjnWP4M9GR"
      },
      "source": [
        "## Search via Yelp"
      ]
    },
    {
      "cell_type": "markdown",
      "metadata": {
        "id": "1CrXZZXKNCxK"
      },
      "source": [
        "Consider the following search done by Yelp.  The specifications of this search include: Search Term = \"Best Restaurants\", Location = \"Winona, MN\", 1 Filter applied for \"$\" (i.e. cheapest), and Sort outcomes by \"Highest Rated\"."
      ]
    },
    {
      "cell_type": "markdown",
      "metadata": {
        "id": "uiFFCT0ErC3z"
      },
      "source": [
        "\n",
        "<p align='center'><img src=\"https://drive.google.com/uc?export=view&id=1PDxr6TCzzxZy0XA9Un8phz5tDnOSNDeI\" width='75%' height='75%'></p>"
      ]
    },
    {
      "cell_type": "markdown",
      "metadata": {
        "id": "vUyMkoVyMQ_R"
      },
      "source": [
        "The outcomes returned by Yelp are provided here.  Notice that the outcomes are *not* necessarily sorted by Highest Rating.  Beno's Deli is actually the highest rated is this list of three, but is not listed on top.  I would imagine that Yelp takes into consideration the number of reviews when determining \"best\".  For example, a restraurant with an overall rating of 5 based on two reviews should probably be rated lower than a restraurant with an overall rating of 4.5 based on several hundred reviews."
      ]
    },
    {
      "cell_type": "markdown",
      "metadata": {
        "id": "RsJnkBPTMe0H"
      },
      "source": [
        "<p align='center'><img src=\"https://drive.google.com/uc?export=view&id=1-T6QQlQKJaylbfdcLdLaMaM94Ripo7Pv\" width='50%' height='50%'></p>"
      ]
    },
    {
      "cell_type": "markdown",
      "metadata": {
        "id": "yAL7_9xaMikv"
      },
      "source": [
        "<strong>Goal</strong>:  To obtain a list that is truely sorted by Rating."
      ]
    },
    {
      "cell_type": "markdown",
      "metadata": {
        "id": "OzkJWeqvMixe"
      },
      "source": [
        "<p align='center'><img src=\"https://drive.google.com/uc?export=view&id=12kJ8-apk2FSZyO3mMAg7hqxj5j0jfXLB\"></p>"
      ]
    },
    {
      "cell_type": "markdown",
      "metadata": {
        "id": "4E_YdrT8OuXr"
      },
      "source": [
        "## Setting up an Account at Yelp"
      ]
    },
    {
      "cell_type": "markdown",
      "metadata": {
        "id": "LxgRHb6NO2ia"
      },
      "source": [
        "Most often, the first step in using an API is to create an account with the organization that owns the API.  For this Notebook we will be using the Yelp APO; thus, an developer account will need to be created at Yelp. \n",
        "\n",
        "Yelp Developer Site: https://www.yelp.com/developers"
      ]
    },
    {
      "cell_type": "markdown",
      "metadata": {
        "id": "RmjSNJ8bPtfZ"
      },
      "source": [
        "The next step is to fill out the required form for your new \"app\".  In this class, we will not be creating an actual app, but this form is required in order to obtain a:\n",
        "\n",
        "*    <strong>Client ID</strong>: Unique identifier for yourself \n",
        "*    <strong> API Key</strong>: Unique identifier for your app\n",
        "\n",
        "These two identifiers are somewhat common when working with APIs."
      ]
    },
    {
      "cell_type": "markdown",
      "metadata": {
        "id": "YNmbmlWFO4tq"
      },
      "source": [
        "<p align='center'><img src=\"https://drive.google.com/uc?export=view&id=1wbn460BbsOUOF36sl1hYcVPLXiERlr-s\" width='50%' height='50%'></p>"
      ]
    },
    {
      "cell_type": "markdown",
      "metadata": {
        "id": "aekta2JwQu-z"
      },
      "source": [
        "## Setting up Python"
      ]
    },
    {
      "cell_type": "markdown",
      "metadata": {
        "id": "pEfFSXt-Q4qc"
      },
      "source": [
        "First, install pandas and np packages for working with data in Python."
      ]
    },
    {
      "cell_type": "code",
      "metadata": {
        "id": "TRSx0igyK-YS"
      },
      "source": [
        "import pandas as pd\n",
        "import numpy as np"
      ],
      "execution_count": 1,
      "outputs": []
    },
    {
      "cell_type": "markdown",
      "metadata": {
        "id": "BagcDsRwRELt"
      },
      "source": [
        "The <strong>YelpAPI</strong> package in Python requires the specificaiton of your Client ID and API Key.  Obtain the Client ID and API Key from the Yelp Developer site and copy and paste these strings here."
      ]
    },
    {
      "cell_type": "code",
      "metadata": {
        "id": "KvG-owGQn23k"
      },
      "source": [
        "#Setting up API Connection Information\n",
        "client_id = \"\"\n",
        "api_key = \"\""
      ],
      "execution_count": 5,
      "outputs": []
    },
    {
      "cell_type": "markdown",
      "metadata": {
        "id": "NCqfoRawoHUG"
      },
      "source": [
        "Next, download the YelpAPI package.\n",
        "\n",
        "Source:  https://github.com/gfairchild/yelpapi"
      ]
    },
    {
      "cell_type": "code",
      "metadata": {
        "colab": {
          "base_uri": "https://localhost:8080/"
        },
        "id": "owXOBZrRoHZl",
        "outputId": "ef44a538-7a86-48c4-eef3-49913f53c160"
      },
      "source": [
        "pip install yelpapi"
      ],
      "execution_count": 6,
      "outputs": [
        {
          "output_type": "stream",
          "text": [
            "Requirement already satisfied: yelpapi in /usr/local/lib/python3.7/dist-packages (2.4.0)\n",
            "Requirement already satisfied: requests in /usr/local/lib/python3.7/dist-packages (from yelpapi) (2.23.0)\n",
            "Requirement already satisfied: chardet<4,>=3.0.2 in /usr/local/lib/python3.7/dist-packages (from requests->yelpapi) (3.0.4)\n",
            "Requirement already satisfied: certifi>=2017.4.17 in /usr/local/lib/python3.7/dist-packages (from requests->yelpapi) (2020.12.5)\n",
            "Requirement already satisfied: urllib3!=1.25.0,!=1.25.1,<1.26,>=1.21.1 in /usr/local/lib/python3.7/dist-packages (from requests->yelpapi) (1.24.3)\n",
            "Requirement already satisfied: idna<3,>=2.5 in /usr/local/lib/python3.7/dist-packages (from requests->yelpapi) (2.10)\n"
          ],
          "name": "stdout"
        }
      ]
    },
    {
      "cell_type": "markdown",
      "metadata": {
        "id": "N88if_ogoMi9"
      },
      "source": [
        "Next, load the YelpAPI package into this Colab session."
      ]
    },
    {
      "cell_type": "code",
      "metadata": {
        "id": "pm6rnCpWoMqP"
      },
      "source": [
        "from yelpapi import YelpAPI"
      ],
      "execution_count": 8,
      "outputs": []
    },
    {
      "cell_type": "markdown",
      "metadata": {
        "id": "wjXrtkf6Snty"
      },
      "source": [
        "Next, the <strong>YelpAPI()</strong> function established a connection with the Yelp Fusion API.  Additional details regarding this fuction can be found on the github site referenced above. "
      ]
    },
    {
      "cell_type": "code",
      "metadata": {
        "id": "3J2cx3bSSn1L"
      },
      "source": [
        "yelp_api = YelpAPI(api_key)"
      ],
      "execution_count": 9,
      "outputs": []
    },
    {
      "cell_type": "markdown",
      "metadata": {
        "id": "6cI0niEFoQld"
      },
      "source": [
        "## Making an API Call"
      ]
    },
    {
      "cell_type": "markdown",
      "metadata": {
        "id": "iQiM6v_LUiZ2"
      },
      "source": [
        "A call to the API requires specification of a set of parameters.  Some of these parameters are required, e.g. location, and others are options, e.g. price.  The list of possible parameters can be found on the Yelp's documuntation page.\n",
        "\n",
        "Source: https://www.yelp.com/developers/documentation/v3/business_search"
      ]
    },
    {
      "cell_type": "markdown",
      "metadata": {
        "id": "-Y8VU90FUAr2"
      },
      "source": [
        "\n",
        "\n",
        "<p align='center'><img src=\"https://drive.google.com/uc?export=view&id=16r6KMKNbL2TxNXK5UXOZqFjNZJPl3qNK\" width='25%' height='25%'></p>"
      ]
    },
    {
      "cell_type": "markdown",
      "metadata": {
        "id": "Elx4Va_gVEWQ"
      },
      "source": [
        "The following specifications will be used for our first API call.\n",
        "\n",
        "\n",
        "*   <strong>Term</strong>: Best Restaurants\"\n",
        "*   <strong>Location</strong>: Winona, MN\n",
        "*   <strong>Search Limit</strong>: Use 50 -- the maximum possible.\n",
        "\n",
        "<strong>Comment</strong>:  If more than 50 outcomes are desired, the <strong>offset</strong> parameter can be used to obtain the *next* 50.\n",
        "\n"
      ]
    },
    {
      "cell_type": "code",
      "metadata": {
        "id": "mDRNS0LpoQsQ"
      },
      "source": [
        "term = 'Best Restaurants'\n",
        "location = 'Winona, MN'\n",
        "search_limit = 50\n",
        "\n",
        "response = yelp_api.search_query(term = term,\n",
        "                                 location = location,\n",
        "                                 limit = search_limit)"
      ],
      "execution_count": 10,
      "outputs": []
    },
    {
      "cell_type": "markdown",
      "metadata": {
        "id": "jB152HBnowF6"
      },
      "source": [
        "Let's take a look at what is returned by the Yelp API."
      ]
    },
    {
      "cell_type": "code",
      "metadata": {
        "id": "uv-BYGmkowOE"
      },
      "source": [
        "response"
      ],
      "execution_count": null,
      "outputs": []
    },
    {
      "cell_type": "markdown",
      "metadata": {
        "id": "73eNvvIwaD7X"
      },
      "source": [
        "## The API Outcomes"
      ]
    },
    {
      "cell_type": "markdown",
      "metadata": {
        "id": "qm3ek5ZxY7wL"
      },
      "source": [
        "Often, the <strong>JSON</strong> data format is used by APIs. A JSON data struture is much more flexible than a dataframe, e.g. JSON allows for *nested* data structures.  Most often a dataframe requires data to be in a tabluar format with clearly defined rows and columns.  A quick review of the information returned by the YelpAPI suggests that a dataframe is not the best way to store such informaiton. \n"
      ]
    },
    {
      "cell_type": "markdown",
      "metadata": {
        "id": "E6deZUDFYq7k"
      },
      "source": [
        "\n",
        "\n",
        "\n",
        "<p align='center'><img src=\"https://drive.google.com/uc?export=view&id=14L0_LhB2T3dARxTCY88ZUB6c5GcM23Cw\" width='75%' height='75%'></p>"
      ]
    },
    {
      "cell_type": "markdown",
      "metadata": {
        "id": "RTYIswUNV742"
      },
      "source": [
        "The YelpAPI has *automatically* converted the JSON data structure into a Python dictionary - a commonly used data struture within Python that allows for more struture than a dataframe."
      ]
    },
    {
      "cell_type": "code",
      "metadata": {
        "colab": {
          "base_uri": "https://localhost:8080/"
        },
        "id": "6giDqbXeV8Aa",
        "outputId": "f168540d-9796-4777-8d00-0f52c5479027"
      },
      "source": [
        "type(response)"
      ],
      "execution_count": 12,
      "outputs": [
        {
          "output_type": "execute_result",
          "data": {
            "text/plain": [
              "dict"
            ]
          },
          "metadata": {
            "tags": []
          },
          "execution_count": 12
        }
      ]
    },
    {
      "cell_type": "markdown",
      "metadata": {
        "id": "khXLKtZhpHC6"
      },
      "source": [
        "The following will convert some of the contents of the <strong>response</strong> dictionary into a pandas dataframe.  "
      ]
    },
    {
      "cell_type": "code",
      "metadata": {
        "id": "OGMogz8opHJz"
      },
      "source": [
        "cols = list(response['businesses'][0].keys())\n",
        "WinonaYelp = pd.DataFrame(columns=cols)\n",
        "\n",
        "for biz in response['businesses']:\n",
        "    WinonaYelp = WinonaYelp.append(biz, ignore_index=True)\n"
      ],
      "execution_count": 16,
      "outputs": []
    },
    {
      "cell_type": "markdown",
      "metadata": {
        "id": "WhitFM0JpJ_-"
      },
      "source": [
        "Taking a look at this newly created dataframe."
      ]
    },
    {
      "cell_type": "code",
      "metadata": {
        "colab": {
          "base_uri": "https://localhost:8080/",
          "height": 266
        },
        "id": "1JZ2Oh2ypKGl",
        "outputId": "16bf8786-09a3-46b6-b3ea-e88f9ea45512"
      },
      "source": [
        "WinonaYelp.head(2)\n"
      ],
      "execution_count": 20,
      "outputs": [
        {
          "output_type": "execute_result",
          "data": {
            "text/html": [
              "<div>\n",
              "<style scoped>\n",
              "    .dataframe tbody tr th:only-of-type {\n",
              "        vertical-align: middle;\n",
              "    }\n",
              "\n",
              "    .dataframe tbody tr th {\n",
              "        vertical-align: top;\n",
              "    }\n",
              "\n",
              "    .dataframe thead th {\n",
              "        text-align: right;\n",
              "    }\n",
              "</style>\n",
              "<table border=\"1\" class=\"dataframe\">\n",
              "  <thead>\n",
              "    <tr style=\"text-align: right;\">\n",
              "      <th></th>\n",
              "      <th>id</th>\n",
              "      <th>alias</th>\n",
              "      <th>name</th>\n",
              "      <th>image_url</th>\n",
              "      <th>is_closed</th>\n",
              "      <th>url</th>\n",
              "      <th>review_count</th>\n",
              "      <th>categories</th>\n",
              "      <th>rating</th>\n",
              "      <th>coordinates</th>\n",
              "      <th>transactions</th>\n",
              "      <th>price</th>\n",
              "      <th>location</th>\n",
              "      <th>phone</th>\n",
              "      <th>display_phone</th>\n",
              "      <th>distance</th>\n",
              "    </tr>\n",
              "  </thead>\n",
              "  <tbody>\n",
              "    <tr>\n",
              "      <th>0</th>\n",
              "      <td>b7AuH8sAf0IDs6ZR8sPAtg</td>\n",
              "      <td>the-boat-house-winona</td>\n",
              "      <td>The Boat House</td>\n",
              "      <td>https://s3-media3.fl.yelpcdn.com/bphoto/JCi5Is...</td>\n",
              "      <td>False</td>\n",
              "      <td>https://www.yelp.com/biz/the-boat-house-winona...</td>\n",
              "      <td>87</td>\n",
              "      <td>[{'alias': 'newamerican', 'title': 'American (...</td>\n",
              "      <td>3.5</td>\n",
              "      <td>{'latitude': 44.0550145, 'longitude': -91.6381...</td>\n",
              "      <td>[]</td>\n",
              "      <td>$$</td>\n",
              "      <td>{'address1': '2 Johnson St', 'address2': '', '...</td>\n",
              "      <td>+15074746550</td>\n",
              "      <td>(507) 474-6550</td>\n",
              "      <td>1786.461266</td>\n",
              "    </tr>\n",
              "    <tr>\n",
              "      <th>1</th>\n",
              "      <td>G2ptcgOx5e9usmxW38OoOw</td>\n",
              "      <td>hillside-fish-house-marshland-2</td>\n",
              "      <td>Hillside Fish House</td>\n",
              "      <td>https://s3-media3.fl.yelpcdn.com/bphoto/IBZ-vV...</td>\n",
              "      <td>False</td>\n",
              "      <td>https://www.yelp.com/biz/hillside-fish-house-m...</td>\n",
              "      <td>34</td>\n",
              "      <td>[{'alias': 'wine_bars', 'title': 'Wine Bars'},...</td>\n",
              "      <td>4.0</td>\n",
              "      <td>{'latitude': 44.07125, 'longitude': -91.55721}</td>\n",
              "      <td>[]</td>\n",
              "      <td>$$</td>\n",
              "      <td>{'address1': 'W124 State Rd 35 54', 'address2'...</td>\n",
              "      <td>+16086876141</td>\n",
              "      <td>(608) 687-6141</td>\n",
              "      <td>8487.767680</td>\n",
              "    </tr>\n",
              "  </tbody>\n",
              "</table>\n",
              "</div>"
            ],
            "text/plain": [
              "                       id  ...     distance\n",
              "0  b7AuH8sAf0IDs6ZR8sPAtg  ...  1786.461266\n",
              "1  G2ptcgOx5e9usmxW38OoOw  ...  8487.767680\n",
              "\n",
              "[2 rows x 16 columns]"
            ]
          },
          "metadata": {
            "tags": []
          },
          "execution_count": 20
        }
      ]
    },
    {
      "cell_type": "markdown",
      "metadata": {
        "id": "mGfZDO6ieEzN"
      },
      "source": [
        "<strong>Note</strong>:  Not all of the contents will be converted into seperate fields. For example, the contents of the categories, coordinates, and location fields have not yet be exploded into seperate columns."
      ]
    },
    {
      "cell_type": "markdown",
      "metadata": {
        "id": "3Y8Z4JMEpmVs"
      },
      "source": [
        "## Using dfply Package to Manipulate the Dataframe"
      ]
    },
    {
      "cell_type": "code",
      "metadata": {
        "colab": {
          "base_uri": "https://localhost:8080/"
        },
        "id": "W4JHKQlQpmcw",
        "outputId": "0e428310-0f76-4463-d020-98c7ea8a650e"
      },
      "source": [
        "pip install dfply"
      ],
      "execution_count": 21,
      "outputs": [
        {
          "output_type": "stream",
          "text": [
            "Collecting dfply\n",
            "\u001b[?25l  Downloading https://files.pythonhosted.org/packages/53/91/18ab48c64661252dadff685f8ddbc6f456302923918f488714ee2345d49b/dfply-0.3.3-py3-none-any.whl (612kB)\n",
            "\r\u001b[K     |▌                               | 10kB 19.6MB/s eta 0:00:01\r\u001b[K     |█                               | 20kB 27.2MB/s eta 0:00:01\r\u001b[K     |█▋                              | 30kB 20.7MB/s eta 0:00:01\r\u001b[K     |██▏                             | 40kB 16.8MB/s eta 0:00:01\r\u001b[K     |██▊                             | 51kB 15.3MB/s eta 0:00:01\r\u001b[K     |███▏                            | 61kB 15.7MB/s eta 0:00:01\r\u001b[K     |███▊                            | 71kB 13.5MB/s eta 0:00:01\r\u001b[K     |████▎                           | 81kB 14.6MB/s eta 0:00:01\r\u001b[K     |████▉                           | 92kB 14.4MB/s eta 0:00:01\r\u001b[K     |█████▍                          | 102kB 15.6MB/s eta 0:00:01\r\u001b[K     |█████▉                          | 112kB 15.6MB/s eta 0:00:01\r\u001b[K     |██████▍                         | 122kB 15.6MB/s eta 0:00:01\r\u001b[K     |███████                         | 133kB 15.6MB/s eta 0:00:01\r\u001b[K     |███████▌                        | 143kB 15.6MB/s eta 0:00:01\r\u001b[K     |████████                        | 153kB 15.6MB/s eta 0:00:01\r\u001b[K     |████████▋                       | 163kB 15.6MB/s eta 0:00:01\r\u001b[K     |█████████                       | 174kB 15.6MB/s eta 0:00:01\r\u001b[K     |█████████▋                      | 184kB 15.6MB/s eta 0:00:01\r\u001b[K     |██████████▏                     | 194kB 15.6MB/s eta 0:00:01\r\u001b[K     |██████████▊                     | 204kB 15.6MB/s eta 0:00:01\r\u001b[K     |███████████▎                    | 215kB 15.6MB/s eta 0:00:01\r\u001b[K     |███████████▊                    | 225kB 15.6MB/s eta 0:00:01\r\u001b[K     |████████████▎                   | 235kB 15.6MB/s eta 0:00:01\r\u001b[K     |████████████▉                   | 245kB 15.6MB/s eta 0:00:01\r\u001b[K     |█████████████▍                  | 256kB 15.6MB/s eta 0:00:01\r\u001b[K     |██████████████                  | 266kB 15.6MB/s eta 0:00:01\r\u001b[K     |██████████████▌                 | 276kB 15.6MB/s eta 0:00:01\r\u001b[K     |███████████████                 | 286kB 15.6MB/s eta 0:00:01\r\u001b[K     |███████████████▌                | 296kB 15.6MB/s eta 0:00:01\r\u001b[K     |████████████████                | 307kB 15.6MB/s eta 0:00:01\r\u001b[K     |████████████████▋               | 317kB 15.6MB/s eta 0:00:01\r\u001b[K     |█████████████████▏              | 327kB 15.6MB/s eta 0:00:01\r\u001b[K     |█████████████████▋              | 337kB 15.6MB/s eta 0:00:01\r\u001b[K     |██████████████████▏             | 348kB 15.6MB/s eta 0:00:01\r\u001b[K     |██████████████████▊             | 358kB 15.6MB/s eta 0:00:01\r\u001b[K     |███████████████████▎            | 368kB 15.6MB/s eta 0:00:01\r\u001b[K     |███████████████████▉            | 378kB 15.6MB/s eta 0:00:01\r\u001b[K     |████████████████████▎           | 389kB 15.6MB/s eta 0:00:01\r\u001b[K     |████████████████████▉           | 399kB 15.6MB/s eta 0:00:01\r\u001b[K     |█████████████████████▍          | 409kB 15.6MB/s eta 0:00:01\r\u001b[K     |██████████████████████          | 419kB 15.6MB/s eta 0:00:01\r\u001b[K     |██████████████████████▌         | 430kB 15.6MB/s eta 0:00:01\r\u001b[K     |███████████████████████         | 440kB 15.6MB/s eta 0:00:01\r\u001b[K     |███████████████████████▌        | 450kB 15.6MB/s eta 0:00:01\r\u001b[K     |████████████████████████        | 460kB 15.6MB/s eta 0:00:01\r\u001b[K     |████████████████████████▋       | 471kB 15.6MB/s eta 0:00:01\r\u001b[K     |█████████████████████████▏      | 481kB 15.6MB/s eta 0:00:01\r\u001b[K     |█████████████████████████▊      | 491kB 15.6MB/s eta 0:00:01\r\u001b[K     |██████████████████████████▏     | 501kB 15.6MB/s eta 0:00:01\r\u001b[K     |██████████████████████████▊     | 512kB 15.6MB/s eta 0:00:01\r\u001b[K     |███████████████████████████▎    | 522kB 15.6MB/s eta 0:00:01\r\u001b[K     |███████████████████████████▉    | 532kB 15.6MB/s eta 0:00:01\r\u001b[K     |████████████████████████████▍   | 542kB 15.6MB/s eta 0:00:01\r\u001b[K     |█████████████████████████████   | 552kB 15.6MB/s eta 0:00:01\r\u001b[K     |█████████████████████████████▍  | 563kB 15.6MB/s eta 0:00:01\r\u001b[K     |██████████████████████████████  | 573kB 15.6MB/s eta 0:00:01\r\u001b[K     |██████████████████████████████▌ | 583kB 15.6MB/s eta 0:00:01\r\u001b[K     |███████████████████████████████ | 593kB 15.6MB/s eta 0:00:01\r\u001b[K     |███████████████████████████████▋| 604kB 15.6MB/s eta 0:00:01\r\u001b[K     |████████████████████████████████| 614kB 15.6MB/s \n",
            "\u001b[?25hRequirement already satisfied: numpy in /usr/local/lib/python3.7/dist-packages (from dfply) (1.19.5)\n",
            "Requirement already satisfied: pandas in /usr/local/lib/python3.7/dist-packages (from dfply) (1.1.5)\n",
            "Requirement already satisfied: python-dateutil>=2.7.3 in /usr/local/lib/python3.7/dist-packages (from pandas->dfply) (2.8.1)\n",
            "Requirement already satisfied: pytz>=2017.2 in /usr/local/lib/python3.7/dist-packages (from pandas->dfply) (2018.9)\n",
            "Requirement already satisfied: six>=1.5 in /usr/local/lib/python3.7/dist-packages (from python-dateutil>=2.7.3->pandas->dfply) (1.15.0)\n",
            "Installing collected packages: dfply\n",
            "Successfully installed dfply-0.3.3\n"
          ],
          "name": "stdout"
        }
      ]
    },
    {
      "cell_type": "code",
      "metadata": {
        "id": "SvW9URqGpylG"
      },
      "source": [
        "from dfply import *"
      ],
      "execution_count": 22,
      "outputs": []
    },
    {
      "cell_type": "markdown",
      "metadata": {
        "id": "VTOWMDvDp1aM"
      },
      "source": [
        "The following actions will take place on this dataframe.\n",
        "\n",
        "\n",
        "*   filter: filter on price == $, i.e. only keep cheapest restaurants \n",
        "*   arrange: sort the list by rating, and also by the number of reviews\n",
        "*   filter: only keep restaurants that have 10 or more reviews\n",
        "\n"
      ]
    },
    {
      "cell_type": "code",
      "metadata": {
        "colab": {
          "base_uri": "https://localhost:8080/",
          "height": 266
        },
        "id": "CjtS44VcpgZH",
        "outputId": "9af31884-f6d0-4670-a710-a474e1975af4"
      },
      "source": [
        "WinonaList = (\n",
        "                 WinonaYelp\n",
        "                 >> filter_by(X.price == '$')\n",
        "                 >> arrange(desc(X.rating), desc(X.review_count))\n",
        "                 >> filter_by(X.review_count >= 10) \n",
        "             )\n",
        "\n",
        "#Checking the dataframe\n",
        "WinonaList.head(2)"
      ],
      "execution_count": 28,
      "outputs": [
        {
          "output_type": "execute_result",
          "data": {
            "text/html": [
              "<div>\n",
              "<style scoped>\n",
              "    .dataframe tbody tr th:only-of-type {\n",
              "        vertical-align: middle;\n",
              "    }\n",
              "\n",
              "    .dataframe tbody tr th {\n",
              "        vertical-align: top;\n",
              "    }\n",
              "\n",
              "    .dataframe thead th {\n",
              "        text-align: right;\n",
              "    }\n",
              "</style>\n",
              "<table border=\"1\" class=\"dataframe\">\n",
              "  <thead>\n",
              "    <tr style=\"text-align: right;\">\n",
              "      <th></th>\n",
              "      <th>id</th>\n",
              "      <th>alias</th>\n",
              "      <th>name</th>\n",
              "      <th>image_url</th>\n",
              "      <th>is_closed</th>\n",
              "      <th>url</th>\n",
              "      <th>review_count</th>\n",
              "      <th>categories</th>\n",
              "      <th>rating</th>\n",
              "      <th>coordinates</th>\n",
              "      <th>transactions</th>\n",
              "      <th>price</th>\n",
              "      <th>location</th>\n",
              "      <th>phone</th>\n",
              "      <th>display_phone</th>\n",
              "      <th>distance</th>\n",
              "    </tr>\n",
              "  </thead>\n",
              "  <tbody>\n",
              "    <tr>\n",
              "      <th>10</th>\n",
              "      <td>wRT7U5srhCDek5N-GDROKw</td>\n",
              "      <td>garden-of-eatin-galesville</td>\n",
              "      <td>Garden of Eatin'</td>\n",
              "      <td>https://s3-media1.fl.yelpcdn.com/bphoto/sHQ8rm...</td>\n",
              "      <td>False</td>\n",
              "      <td>https://www.yelp.com/biz/garden-of-eatin-gales...</td>\n",
              "      <td>24</td>\n",
              "      <td>[{'alias': 'diners', 'title': 'Diners'}, {'ali...</td>\n",
              "      <td>5.0</td>\n",
              "      <td>{'latitude': 44.0823135375977, 'longitude': -9...</td>\n",
              "      <td>[]</td>\n",
              "      <td>$</td>\n",
              "      <td>{'address1': '19847 E Gale Ave', 'address2': '...</td>\n",
              "      <td>+16085824366</td>\n",
              "      <td>(608) 582-4366</td>\n",
              "      <td>25142.137259</td>\n",
              "    </tr>\n",
              "    <tr>\n",
              "      <th>4</th>\n",
              "      <td>0OAoruhVskDUJiGFzksE-w</td>\n",
              "      <td>river-cafe-trempealeau</td>\n",
              "      <td>River Cafe</td>\n",
              "      <td>https://s3-media4.fl.yelpcdn.com/bphoto/8m2yDp...</td>\n",
              "      <td>False</td>\n",
              "      <td>https://www.yelp.com/biz/river-cafe-trempealea...</td>\n",
              "      <td>13</td>\n",
              "      <td>[{'alias': 'tradamerican', 'title': 'American ...</td>\n",
              "      <td>5.0</td>\n",
              "      <td>{'latitude': 44.003788, 'longitude': -91.4309464}</td>\n",
              "      <td>[]</td>\n",
              "      <td>$</td>\n",
              "      <td>{'address1': '23991 3rd St', 'address2': None,...</td>\n",
              "      <td>+16085345055</td>\n",
              "      <td>(608) 534-5055</td>\n",
              "      <td>19142.237095</td>\n",
              "    </tr>\n",
              "  </tbody>\n",
              "</table>\n",
              "</div>"
            ],
            "text/plain": [
              "                        id  ...      distance\n",
              "10  wRT7U5srhCDek5N-GDROKw  ...  25142.137259\n",
              "4   0OAoruhVskDUJiGFzksE-w  ...  19142.237095\n",
              "\n",
              "[2 rows x 16 columns]"
            ]
          },
          "metadata": {
            "tags": []
          },
          "execution_count": 28
        }
      ]
    },
    {
      "cell_type": "markdown",
      "metadata": {
        "id": "8K8Cl2ArsRSe"
      },
      "source": [
        "Using print() function to more easily see struture of the categories, coordinates, and location fields."
      ]
    },
    {
      "cell_type": "code",
      "metadata": {
        "colab": {
          "base_uri": "https://localhost:8080/"
        },
        "id": "cjkdzokjhK1d",
        "outputId": "0df63788-3759-4b3e-dec9-788b0f7e0526"
      },
      "source": [
        "print(WinonaList.to_string(index=False))"
      ],
      "execution_count": 29,
      "outputs": [
        {
          "output_type": "stream",
          "text": [
            "                     id                                   alias                      name                                                             image_url is_closed                                                                                                                                                                                                  url review_count                                                                                                                                                                  categories  rating                                                     coordinates transactions price                                                                                                                                                                                                                    location         phone   display_phone      distance\n",
            " wRT7U5srhCDek5N-GDROKw              garden-of-eatin-galesville          Garden of Eatin'  https://s3-media1.fl.yelpcdn.com/bphoto/sHQ8rmp_fjziFExW09OaeA/o.jpg     False              https://www.yelp.com/biz/garden-of-eatin-galesville?adjust_creative=tQHcscph1lXYv7njNRZyuA&utm_campaign=yelp_api_v3&utm_medium=api_v3_business_search&utm_source=tQHcscph1lXYv7njNRZyuA           24                                                                      [{'alias': 'diners', 'title': 'Diners'}, {'alias': 'breakfast_brunch', 'title': 'Breakfast & Brunch'}]     5.0  {'latitude': 44.0823135375977, 'longitude': -91.3483123779297}           []     $                {'address1': '19847 E Gale Ave', 'address2': '', 'address3': '', 'city': 'Galesville', 'zip_code': '54630', 'country': 'US', 'state': 'WI', 'display_address': ['19847 E Gale Ave', 'Galesville, WI 54630']}  +16085824366  (608) 582-4366  25142.137259\n",
            " 0OAoruhVskDUJiGFzksE-w                  river-cafe-trempealeau                River Cafe  https://s3-media4.fl.yelpcdn.com/bphoto/8m2yDpY8u068z_QuaCfocQ/o.jpg     False                  https://www.yelp.com/biz/river-cafe-trempealeau?adjust_creative=tQHcscph1lXYv7njNRZyuA&utm_campaign=yelp_api_v3&utm_medium=api_v3_business_search&utm_source=tQHcscph1lXYv7njNRZyuA           13      [{'alias': 'tradamerican', 'title': 'American (Traditional)'}, {'alias': 'british', 'title': 'British'}, {'alias': 'breakfast_brunch', 'title': 'Breakfast & Brunch'}]     5.0               {'latitude': 44.003788, 'longitude': -91.4309464}           []     $                    {'address1': '23991 3rd St', 'address2': None, 'address3': '', 'city': 'Trempealeau', 'zip_code': '54661', 'country': 'US', 'state': 'WI', 'display_address': ['23991 3rd St', 'Trempealeau, WI 54661']}  +16085345055  (608) 534-5055  19142.237095\n",
            " 7jOFqIp-3x1Ury6Z8byfTQ         northend-pub-and-grill-cochrane      NorthEnd Pub & Grill  https://s3-media4.fl.yelpcdn.com/bphoto/x5jzKROTvdqMEGDwlsc0ag/o.jpg     False         https://www.yelp.com/biz/northend-pub-and-grill-cochrane?adjust_creative=tQHcscph1lXYv7njNRZyuA&utm_campaign=yelp_api_v3&utm_medium=api_v3_business_search&utm_source=tQHcscph1lXYv7njNRZyuA           13                                                                          [{'alias': 'tradamerican', 'title': 'American (Traditional)'}, {'alias': 'pubs', 'title': 'Pubs'}]     5.0              {'latitude': 44.2282404, 'longitude': -91.8367112}           []     $                          {'address1': '214 N Main St', 'address2': '', 'address3': '', 'city': 'Cochrane', 'zip_code': '54622', 'country': 'US', 'state': 'WI', 'display_address': ['214 N Main St', 'Cochrane, WI 54622']}  +16082483773  (608) 248-3773  24050.436392\n",
            " OmeDf51MKhRL06asuA2ghg                 the-root-note-la-crosse             The Root Note  https://s3-media1.fl.yelpcdn.com/bphoto/cwneYErRutv50ta9nO-ZQQ/o.jpg     False                 https://www.yelp.com/biz/the-root-note-la-crosse?adjust_creative=tQHcscph1lXYv7njNRZyuA&utm_campaign=yelp_api_v3&utm_medium=api_v3_business_search&utm_source=tQHcscph1lXYv7njNRZyuA           81                             [{'alias': 'musicvenues', 'title': 'Music Venues'}, {'alias': 'coffee', 'title': 'Coffee & Tea'}, {'alias': 'creperies', 'title': 'Creperies'}]     4.5                {'latitude': 43.811847, 'longitude': -91.251341}   [delivery]     $                          {'address1': '115 4th St S', 'address2': '', 'address3': '', 'city': 'La Crosse', 'zip_code': '54601', 'country': 'US', 'state': 'WI', 'display_address': ['115 4th St S', 'La Crosse, WI 54601']}  +16087827668  (608) 782-7668  42317.274677\n",
            " zTp9yCR-7e5XULkzPE3emQ  river-rats-bar-and-grill-french-island  River Rats Bar and Grill  https://s3-media1.fl.yelpcdn.com/bphoto/ur6FHniaamTFaNDZXFdpRw/o.jpg     False  https://www.yelp.com/biz/river-rats-bar-and-grill-french-island?adjust_creative=tQHcscph1lXYv7njNRZyuA&utm_campaign=yelp_api_v3&utm_medium=api_v3_business_search&utm_source=tQHcscph1lXYv7njNRZyuA           31                        [{'alias': 'newamerican', 'title': 'American (New)'}, {'alias': 'burgers', 'title': 'Burgers'}, {'alias': 'cocktailbars', 'title': 'Cocktail Bars'}]     4.5                  {'latitude': 43.84216, 'longitude': -91.26489}   [delivery]     $  {'address1': '1311 La Crescent Pl', 'address2': None, 'address3': '', 'city': 'French Island', 'zip_code': '54603', 'country': 'US', 'state': 'WI', 'display_address': ['1311 La Crescent Pl', 'French Island, WI 54603']}  +16087847287  (608) 784-7287  39377.964443\n",
            " sBcZCadAbJQZCMpKd-ABxg                       benos-deli-winona               Beno's Deli  https://s3-media1.fl.yelpcdn.com/bphoto/snAzXC5xLgybMzV8NxGqyw/o.jpg     False                       https://www.yelp.com/biz/benos-deli-winona?adjust_creative=tQHcscph1lXYv7njNRZyuA&utm_campaign=yelp_api_v3&utm_medium=api_v3_business_search&utm_source=tQHcscph1lXYv7njNRZyuA           20                                                                                      [{'alias': 'delis', 'title': 'Delis'}, {'alias': 'sandwiches', 'title': 'Sandwiches'}]     4.5  {'latitude': 44.0512248959073, 'longitude': -91.6358360902651}           []     $                                  {'address1': '78 E 4th St', 'address2': '', 'address3': '', 'city': 'Winona', 'zip_code': '55987', 'country': 'US', 'state': 'MN', 'display_address': ['78 E 4th St', 'Winona, MN 55987']}  +15074522761  (507) 452-2761   1964.272494\n",
            " i6N3jl_2YIW-tcWno4-M6w           brewskies-bar-and-grill-utica    Brewskie's Bar & Grill  https://s3-media4.fl.yelpcdn.com/bphoto/llnczwefqAYUUsHOLKP0Tw/o.jpg     False           https://www.yelp.com/biz/brewskies-bar-and-grill-utica?adjust_creative=tQHcscph1lXYv7njNRZyuA&utm_campaign=yelp_api_v3&utm_medium=api_v3_business_search&utm_source=tQHcscph1lXYv7njNRZyuA           18                                    [{'alias': 'bars', 'title': 'Bars'}, {'alias': 'tradamerican', 'title': 'American (Traditional)'}, {'alias': 'pizza', 'title': 'Pizza'}]     4.5  {'latitude': 43.9760665893555, 'longitude': -91.9548187255859}           []     $                                {'address1': '110 E Main St', 'address2': '', 'address3': '', 'city': 'Utica', 'zip_code': '55979', 'country': 'US', 'state': 'MN', 'display_address': ['110 E Main St', 'Utica, MN 55979']}  +15079323485  (507) 932-3485  25049.947237\n",
            " z2EFHabLvswzzL8MkPwmKA                the-acoustic-cafe-winona         The Acoustic Cafe  https://s3-media1.fl.yelpcdn.com/bphoto/0yG-DARmJJGYlUK8pgBnHw/o.jpg     False                https://www.yelp.com/biz/the-acoustic-cafe-winona?adjust_creative=tQHcscph1lXYv7njNRZyuA&utm_campaign=yelp_api_v3&utm_medium=api_v3_business_search&utm_source=tQHcscph1lXYv7njNRZyuA           73                                                                              [{'alias': 'sandwiches', 'title': 'Sandwiches'}, {'alias': 'coffee', 'title': 'Coffee & Tea'}]     4.0                {'latitude': 44.0531999, 'longitude': -91.63477}           []     $                                {'address1': '77 Lafayette', 'address2': '', 'address3': '', 'city': 'Winona', 'zip_code': '55987', 'country': 'US', 'state': 'MN', 'display_address': ['77 Lafayette', 'Winona, MN 55987']}  +15074530394  (507) 453-0394   2043.073238\n",
            " e8BdbLKSh7_zefJ9T885VQ               lakeview-drive-inn-winona        Lakeview Drive Inn  https://s3-media2.fl.yelpcdn.com/bphoto/PrdhUUSXIQnrHHhH-uxUHQ/o.jpg     False               https://www.yelp.com/biz/lakeview-drive-inn-winona?adjust_creative=tQHcscph1lXYv7njNRZyuA&utm_campaign=yelp_api_v3&utm_medium=api_v3_business_search&utm_source=tQHcscph1lXYv7njNRZyuA           40                                                                    [{'alias': 'burgers', 'title': 'Burgers'}, {'alias': 'tradamerican', 'title': 'American (Traditional)'}]     4.0  {'latitude': 44.0388107299805, 'longitude': -91.6262054443359}           []     $                          {'address1': '610 E Sarnia St', 'address2': '', 'address3': '', 'city': 'Winona', 'zip_code': '55987', 'country': 'US', 'state': 'MN', 'display_address': ['610 E Sarnia St', 'Winona, MN 55987']}  +15074543723  (507) 454-3723   3133.942904\n",
            " 2HtSOQ4vjcuzXrYxBSxG6w                        pier-4-cafe-alma               Pier 4 Cafe  https://s3-media3.fl.yelpcdn.com/bphoto/w_h-vMCB-TdxctOAWIGYYA/o.jpg     False                        https://www.yelp.com/biz/pier-4-cafe-alma?adjust_creative=tQHcscph1lXYv7njNRZyuA&utm_campaign=yelp_api_v3&utm_medium=api_v3_business_search&utm_source=tQHcscph1lXYv7njNRZyuA           25                                                                                                                                     [{'alias': 'bbq', 'title': 'Barbeque'}]     4.0                  {'latitude': 44.32672, 'longitude': -91.91887}           []     $                                  {'address1': '600 N Main St', 'address2': '', 'address3': '', 'city': 'Alma', 'zip_code': '54610', 'country': 'US', 'state': 'WI', 'display_address': ['600 N Main St', 'Alma, WI 54610']}  +16086854964  (608) 685-4964  36782.106044\n",
            " Bjy7zCpcJzyXLiIj6hyG5w        golden-frog-saloon-fountain-city        Golden Frog Saloon  https://s3-media3.fl.yelpcdn.com/bphoto/IjH6sAyNQzUWCX2XUWggNQ/o.jpg     False        https://www.yelp.com/biz/golden-frog-saloon-fountain-city?adjust_creative=tQHcscph1lXYv7njNRZyuA&utm_campaign=yelp_api_v3&utm_medium=api_v3_business_search&utm_source=tQHcscph1lXYv7njNRZyuA           22                                                                   [{'alias': 'tradamerican', 'title': 'American (Traditional)'}, {'alias': 'beerbar', 'title': 'Beer Bar'}]     4.0                {'latitude': 44.13178, 'longitude': -91.7188199}           []     $              {'address1': '112 N Shore Dr', 'address2': '', 'address3': '', 'city': 'Fountain City', 'zip_code': '54629', 'country': 'US', 'state': 'WI', 'display_address': ['112 N Shore Dr', 'Fountain City, WI 54629']}  +16086873335  (608) 687-3335   9940.401662\n",
            " eRXR71QMchz1IkBp47U_OA                         cha-chis-winona                  Cha Chis  https://s3-media3.fl.yelpcdn.com/bphoto/xZ3N7OnViWM3N99yRWX2SA/o.jpg     False                         https://www.yelp.com/biz/cha-chis-winona?adjust_creative=tQHcscph1lXYv7njNRZyuA&utm_campaign=yelp_api_v3&utm_medium=api_v3_business_search&utm_source=tQHcscph1lXYv7njNRZyuA           13                                                                                                                                  [{'alias': 'mexican', 'title': 'Mexican'}]     4.0                {'latitude': 44.051355, 'longitude': -91.633745}           []     $                                {'address1': '155 E 3rd St', 'address2': '', 'address3': '', 'city': 'Winona', 'zip_code': '55987', 'country': 'US', 'state': 'MN', 'display_address': ['155 E 3rd St', 'Winona, MN 55987']}  +15074747177  (507) 474-7177   2129.527082\n",
            " bkAqQhk6Ylc8OkjyLWf6RQ                     bubs-brewing-winona             Bub's Brewing  https://s3-media2.fl.yelpcdn.com/bphoto/nTZdfHlcWGLE_As6F1Lckg/o.jpg     False                     https://www.yelp.com/biz/bubs-brewing-winona?adjust_creative=tQHcscph1lXYv7njNRZyuA&utm_campaign=yelp_api_v3&utm_medium=api_v3_business_search&utm_source=tQHcscph1lXYv7njNRZyuA           60                                                                                              [{'alias': 'burgers', 'title': 'Burgers'}, {'alias': 'bars', 'title': 'Bars'}]     3.5  {'latitude': 44.0509452819824, 'longitude': -91.6364822387695}           []     $                                  {'address1': '65 E 4th St', 'address2': '', 'address3': '', 'city': 'Winona', 'zip_code': '55987', 'country': 'US', 'state': 'MN', 'display_address': ['65 E 4th St', 'Winona, MN 55987']}  +15074573121  (507) 457-3121   1914.113279\n",
            " nXLtko08rnGvaPiL0YkF7A          winona-sandwich-company-winona   Winona Sandwich Company  https://s3-media4.fl.yelpcdn.com/bphoto/ntWfgRkiOW5ZomQ1e9WzQA/o.jpg     False          https://www.yelp.com/biz/winona-sandwich-company-winona?adjust_creative=tQHcscph1lXYv7njNRZyuA&utm_campaign=yelp_api_v3&utm_medium=api_v3_business_search&utm_source=tQHcscph1lXYv7njNRZyuA           37                                                                                                                            [{'alias': 'sandwiches', 'title': 'Sandwiches'}]     3.5                  {'latitude': 44.04518, 'longitude': -91.64845}           []     $                                  {'address1': '619 Huff St', 'address2': '', 'address3': '', 'city': 'Winona', 'zip_code': '55987', 'country': 'US', 'state': 'MN', 'display_address': ['619 Huff St', 'Winona, MN 55987']}  +15074521170  (507) 452-1170   1272.943496\n",
            " F-7twobErWESAIHjdtgR7Q        the-grill-at-signatures-winona-3   The Grill at Signatures  https://s3-media4.fl.yelpcdn.com/bphoto/sBuQQsov3ErlCKOc0xcN1A/o.jpg     False        https://www.yelp.com/biz/the-grill-at-signatures-winona-3?adjust_creative=tQHcscph1lXYv7njNRZyuA&utm_campaign=yelp_api_v3&utm_medium=api_v3_business_search&utm_source=tQHcscph1lXYv7njNRZyuA           12                                                                                                                         [{'alias': 'comfortfood', 'title': 'Comfort Food'}]     3.5              {'latitude': 44.0072089, 'longitude': -91.6082568}           []     $                {'address1': '22852 County Road 17', 'address2': '', 'address3': '', 'city': 'Winona', 'zip_code': '55987', 'country': 'US', 'state': 'MN', 'display_address': ['22852 County Road 17', 'Winona, MN 55987']}  +15074543767  (507) 454-3767   6680.139005\n",
            " VTsjePuuqiiweWG3FTRAyw           roccos-pub-and-pizza-winona-2       Rocco's Pub & Pizza  https://s3-media1.fl.yelpcdn.com/bphoto/pjaUxDKFn4hxkNhCxwKwBA/o.jpg     False           https://www.yelp.com/biz/roccos-pub-and-pizza-winona-2?adjust_creative=tQHcscph1lXYv7njNRZyuA&utm_campaign=yelp_api_v3&utm_medium=api_v3_business_search&utm_source=tQHcscph1lXYv7njNRZyuA           11                                                                                                                                      [{'alias': 'pizza', 'title': 'Pizza'}]     3.5                {'latitude': 44.069297, 'longitude': -91.707905}           []     $                              {'address1': '5242 W 6th St', 'address2': '', 'address3': '', 'city': 'Winona', 'zip_code': '55987', 'country': 'US', 'state': 'MN', 'display_address': ['5242 W 6th St', 'Winona, MN 55987']}  +15074545911  (507) 454-5911   4221.892200\n",
            " VUfE04D56gzruEZwKx4cfg         winona-family-restaurant-winona  Winona Family Restaurant  https://s3-media4.fl.yelpcdn.com/bphoto/lxYd9Z-HtWlfRX9UqlUl-w/o.jpg     False         https://www.yelp.com/biz/winona-family-restaurant-winona?adjust_creative=tQHcscph1lXYv7njNRZyuA&utm_campaign=yelp_api_v3&utm_medium=api_v3_business_search&utm_source=tQHcscph1lXYv7njNRZyuA           25  [{'alias': 'tradamerican', 'title': 'American (Traditional)'}, {'alias': 'coffee', 'title': 'Coffee & Tea'}, {'alias': 'breakfast_brunch', 'title': 'Breakfast & Brunch'}]     3.0  {'latitude': 44.0494439411684, 'longitude': -91.6807715807369}           []     $                          {'address1': '1611 Service Dr', 'address2': '', 'address3': '', 'city': 'Winona', 'zip_code': '55987', 'country': 'US', 'state': 'MN', 'display_address': ['1611 Service Dr', 'Winona, MN 55987']}  +15074545104  (507) 454-5104   1679.019148\n",
            " pvTW9B1k7JjfxAghBsHWog      wellingtons-pub-and-grill-winona-2  Wellington's Pub & Grill  https://s3-media2.fl.yelpcdn.com/bphoto/-WHeuR45tzAWs11YwdAjQw/o.jpg     False      https://www.yelp.com/biz/wellingtons-pub-and-grill-winona-2?adjust_creative=tQHcscph1lXYv7njNRZyuA&utm_campaign=yelp_api_v3&utm_medium=api_v3_business_search&utm_source=tQHcscph1lXYv7njNRZyuA           17                                              [{'alias': 'pubs', 'title': 'Pubs'}, {'alias': 'burgers', 'title': 'Burgers'}, {'alias': 'sandwiches', 'title': 'Sandwiches'}]     3.0               {'latitude': 44.0470378, 'longitude': -91.675783}           []     $                      {'address1': '1429 W Service Dr', 'address2': '', 'address3': '', 'city': 'Winona', 'zip_code': '55987', 'country': 'US', 'state': 'MN', 'display_address': ['1429 W Service Dr', 'Winona, MN 55987']}  +15074522103  (507) 452-2103   1457.417010\n"
          ],
          "name": "stdout"
        }
      ]
    },
    {
      "cell_type": "markdown",
      "metadata": {
        "id": "04Pdu0R_hBDG"
      },
      "source": [
        "The existing dataframe needs to be modified to include only locations in <strong>Winona, MN</strong>.  Furthermore, the display_address field will be used to create an connection with the Google Map API."
      ]
    },
    {
      "cell_type": "markdown",
      "metadata": {
        "id": "8du9mKChhBNZ"
      },
      "source": [
        "<p align='center'><img src=\"https://drive.google.com/uc?export=view&id=1E7Gxp0nb2l4mt5iYAREAf1ozWJXHSU_m\" width='75%' height='75%'></p>"
      ]
    },
    {
      "cell_type": "markdown",
      "metadata": {
        "id": "OmCriaUuh-iV"
      },
      "source": [
        "The following json_normalize() function is used to seperate the location field into seperate columns."
      ]
    },
    {
      "cell_type": "code",
      "metadata": {
        "id": "NwOZb1WtsRaV"
      },
      "source": [
        "WinonaList_NormalizeLocation = pd.json_normalize(WinonaList['location'])"
      ],
      "execution_count": 30,
      "outputs": []
    },
    {
      "cell_type": "markdown",
      "metadata": {
        "id": "b0oqU57IwmeC"
      },
      "source": [
        "<strong>Note</strong>:  The following snipit of code to accomplish that same -- pd.DataFrame(WinonaList['location'].tolist())"
      ]
    },
    {
      "cell_type": "code",
      "metadata": {
        "colab": {
          "base_uri": "https://localhost:8080/",
          "height": 588
        },
        "id": "Q4RAYJx-v9TE",
        "outputId": "d5d1e975-7a26-4a3d-ac13-dfee04669121"
      },
      "source": [
        "WinonaList_NormalizeLocation"
      ],
      "execution_count": 31,
      "outputs": [
        {
          "output_type": "execute_result",
          "data": {
            "text/html": [
              "<div>\n",
              "<style scoped>\n",
              "    .dataframe tbody tr th:only-of-type {\n",
              "        vertical-align: middle;\n",
              "    }\n",
              "\n",
              "    .dataframe tbody tr th {\n",
              "        vertical-align: top;\n",
              "    }\n",
              "\n",
              "    .dataframe thead th {\n",
              "        text-align: right;\n",
              "    }\n",
              "</style>\n",
              "<table border=\"1\" class=\"dataframe\">\n",
              "  <thead>\n",
              "    <tr style=\"text-align: right;\">\n",
              "      <th></th>\n",
              "      <th>address1</th>\n",
              "      <th>address2</th>\n",
              "      <th>address3</th>\n",
              "      <th>city</th>\n",
              "      <th>zip_code</th>\n",
              "      <th>country</th>\n",
              "      <th>state</th>\n",
              "      <th>display_address</th>\n",
              "    </tr>\n",
              "  </thead>\n",
              "  <tbody>\n",
              "    <tr>\n",
              "      <th>0</th>\n",
              "      <td>19847 E Gale Ave</td>\n",
              "      <td></td>\n",
              "      <td></td>\n",
              "      <td>Galesville</td>\n",
              "      <td>54630</td>\n",
              "      <td>US</td>\n",
              "      <td>WI</td>\n",
              "      <td>[19847 E Gale Ave, Galesville, WI 54630]</td>\n",
              "    </tr>\n",
              "    <tr>\n",
              "      <th>1</th>\n",
              "      <td>23991 3rd St</td>\n",
              "      <td>None</td>\n",
              "      <td></td>\n",
              "      <td>Trempealeau</td>\n",
              "      <td>54661</td>\n",
              "      <td>US</td>\n",
              "      <td>WI</td>\n",
              "      <td>[23991 3rd St, Trempealeau, WI 54661]</td>\n",
              "    </tr>\n",
              "    <tr>\n",
              "      <th>2</th>\n",
              "      <td>214 N Main St</td>\n",
              "      <td></td>\n",
              "      <td></td>\n",
              "      <td>Cochrane</td>\n",
              "      <td>54622</td>\n",
              "      <td>US</td>\n",
              "      <td>WI</td>\n",
              "      <td>[214 N Main St, Cochrane, WI 54622]</td>\n",
              "    </tr>\n",
              "    <tr>\n",
              "      <th>3</th>\n",
              "      <td>115 4th St S</td>\n",
              "      <td></td>\n",
              "      <td></td>\n",
              "      <td>La Crosse</td>\n",
              "      <td>54601</td>\n",
              "      <td>US</td>\n",
              "      <td>WI</td>\n",
              "      <td>[115 4th St S, La Crosse, WI 54601]</td>\n",
              "    </tr>\n",
              "    <tr>\n",
              "      <th>4</th>\n",
              "      <td>1311 La Crescent Pl</td>\n",
              "      <td>None</td>\n",
              "      <td></td>\n",
              "      <td>French Island</td>\n",
              "      <td>54603</td>\n",
              "      <td>US</td>\n",
              "      <td>WI</td>\n",
              "      <td>[1311 La Crescent Pl, French Island, WI 54603]</td>\n",
              "    </tr>\n",
              "    <tr>\n",
              "      <th>5</th>\n",
              "      <td>78 E 4th St</td>\n",
              "      <td></td>\n",
              "      <td></td>\n",
              "      <td>Winona</td>\n",
              "      <td>55987</td>\n",
              "      <td>US</td>\n",
              "      <td>MN</td>\n",
              "      <td>[78 E 4th St, Winona, MN 55987]</td>\n",
              "    </tr>\n",
              "    <tr>\n",
              "      <th>6</th>\n",
              "      <td>110 E Main St</td>\n",
              "      <td></td>\n",
              "      <td></td>\n",
              "      <td>Utica</td>\n",
              "      <td>55979</td>\n",
              "      <td>US</td>\n",
              "      <td>MN</td>\n",
              "      <td>[110 E Main St, Utica, MN 55979]</td>\n",
              "    </tr>\n",
              "    <tr>\n",
              "      <th>7</th>\n",
              "      <td>77 Lafayette</td>\n",
              "      <td></td>\n",
              "      <td></td>\n",
              "      <td>Winona</td>\n",
              "      <td>55987</td>\n",
              "      <td>US</td>\n",
              "      <td>MN</td>\n",
              "      <td>[77 Lafayette, Winona, MN 55987]</td>\n",
              "    </tr>\n",
              "    <tr>\n",
              "      <th>8</th>\n",
              "      <td>610 E Sarnia St</td>\n",
              "      <td></td>\n",
              "      <td></td>\n",
              "      <td>Winona</td>\n",
              "      <td>55987</td>\n",
              "      <td>US</td>\n",
              "      <td>MN</td>\n",
              "      <td>[610 E Sarnia St, Winona, MN 55987]</td>\n",
              "    </tr>\n",
              "    <tr>\n",
              "      <th>9</th>\n",
              "      <td>600 N Main St</td>\n",
              "      <td></td>\n",
              "      <td></td>\n",
              "      <td>Alma</td>\n",
              "      <td>54610</td>\n",
              "      <td>US</td>\n",
              "      <td>WI</td>\n",
              "      <td>[600 N Main St, Alma, WI 54610]</td>\n",
              "    </tr>\n",
              "    <tr>\n",
              "      <th>10</th>\n",
              "      <td>112 N Shore Dr</td>\n",
              "      <td></td>\n",
              "      <td></td>\n",
              "      <td>Fountain City</td>\n",
              "      <td>54629</td>\n",
              "      <td>US</td>\n",
              "      <td>WI</td>\n",
              "      <td>[112 N Shore Dr, Fountain City, WI 54629]</td>\n",
              "    </tr>\n",
              "    <tr>\n",
              "      <th>11</th>\n",
              "      <td>155 E 3rd St</td>\n",
              "      <td></td>\n",
              "      <td></td>\n",
              "      <td>Winona</td>\n",
              "      <td>55987</td>\n",
              "      <td>US</td>\n",
              "      <td>MN</td>\n",
              "      <td>[155 E 3rd St, Winona, MN 55987]</td>\n",
              "    </tr>\n",
              "    <tr>\n",
              "      <th>12</th>\n",
              "      <td>65 E 4th St</td>\n",
              "      <td></td>\n",
              "      <td></td>\n",
              "      <td>Winona</td>\n",
              "      <td>55987</td>\n",
              "      <td>US</td>\n",
              "      <td>MN</td>\n",
              "      <td>[65 E 4th St, Winona, MN 55987]</td>\n",
              "    </tr>\n",
              "    <tr>\n",
              "      <th>13</th>\n",
              "      <td>619 Huff St</td>\n",
              "      <td></td>\n",
              "      <td></td>\n",
              "      <td>Winona</td>\n",
              "      <td>55987</td>\n",
              "      <td>US</td>\n",
              "      <td>MN</td>\n",
              "      <td>[619 Huff St, Winona, MN 55987]</td>\n",
              "    </tr>\n",
              "    <tr>\n",
              "      <th>14</th>\n",
              "      <td>22852 County Road 17</td>\n",
              "      <td></td>\n",
              "      <td></td>\n",
              "      <td>Winona</td>\n",
              "      <td>55987</td>\n",
              "      <td>US</td>\n",
              "      <td>MN</td>\n",
              "      <td>[22852 County Road 17, Winona, MN 55987]</td>\n",
              "    </tr>\n",
              "    <tr>\n",
              "      <th>15</th>\n",
              "      <td>5242 W 6th St</td>\n",
              "      <td></td>\n",
              "      <td></td>\n",
              "      <td>Winona</td>\n",
              "      <td>55987</td>\n",
              "      <td>US</td>\n",
              "      <td>MN</td>\n",
              "      <td>[5242 W 6th St, Winona, MN 55987]</td>\n",
              "    </tr>\n",
              "    <tr>\n",
              "      <th>16</th>\n",
              "      <td>1611 Service Dr</td>\n",
              "      <td></td>\n",
              "      <td></td>\n",
              "      <td>Winona</td>\n",
              "      <td>55987</td>\n",
              "      <td>US</td>\n",
              "      <td>MN</td>\n",
              "      <td>[1611 Service Dr, Winona, MN 55987]</td>\n",
              "    </tr>\n",
              "    <tr>\n",
              "      <th>17</th>\n",
              "      <td>1429 W Service Dr</td>\n",
              "      <td></td>\n",
              "      <td></td>\n",
              "      <td>Winona</td>\n",
              "      <td>55987</td>\n",
              "      <td>US</td>\n",
              "      <td>MN</td>\n",
              "      <td>[1429 W Service Dr, Winona, MN 55987]</td>\n",
              "    </tr>\n",
              "  </tbody>\n",
              "</table>\n",
              "</div>"
            ],
            "text/plain": [
              "                address1  ...                                 display_address\n",
              "0       19847 E Gale Ave  ...        [19847 E Gale Ave, Galesville, WI 54630]\n",
              "1           23991 3rd St  ...           [23991 3rd St, Trempealeau, WI 54661]\n",
              "2          214 N Main St  ...             [214 N Main St, Cochrane, WI 54622]\n",
              "3           115 4th St S  ...             [115 4th St S, La Crosse, WI 54601]\n",
              "4    1311 La Crescent Pl  ...  [1311 La Crescent Pl, French Island, WI 54603]\n",
              "5            78 E 4th St  ...                 [78 E 4th St, Winona, MN 55987]\n",
              "6          110 E Main St  ...                [110 E Main St, Utica, MN 55979]\n",
              "7           77 Lafayette  ...                [77 Lafayette, Winona, MN 55987]\n",
              "8        610 E Sarnia St  ...             [610 E Sarnia St, Winona, MN 55987]\n",
              "9          600 N Main St  ...                 [600 N Main St, Alma, WI 54610]\n",
              "10        112 N Shore Dr  ...       [112 N Shore Dr, Fountain City, WI 54629]\n",
              "11          155 E 3rd St  ...                [155 E 3rd St, Winona, MN 55987]\n",
              "12           65 E 4th St  ...                 [65 E 4th St, Winona, MN 55987]\n",
              "13           619 Huff St  ...                 [619 Huff St, Winona, MN 55987]\n",
              "14  22852 County Road 17  ...        [22852 County Road 17, Winona, MN 55987]\n",
              "15         5242 W 6th St  ...               [5242 W 6th St, Winona, MN 55987]\n",
              "16       1611 Service Dr  ...             [1611 Service Dr, Winona, MN 55987]\n",
              "17     1429 W Service Dr  ...           [1429 W Service Dr, Winona, MN 55987]\n",
              "\n",
              "[18 rows x 8 columns]"
            ]
          },
          "metadata": {
            "tags": []
          },
          "execution_count": 31
        }
      ]
    },
    {
      "cell_type": "markdown",
      "metadata": {
        "id": "h780_uMWxUaz"
      },
      "source": [
        "Next, the contents of the WinonaList_NormalizeLocation dataframe will need to be joined to WinonaList dataframe from above (that contains all the other columns).\n",
        "\n",
        "The inherent <strong>index</strong> will be as the *key* for this simple join.  The index for the WinonaList_NormalizeLocation dataframe goes from 0 to 17.  The index in the WinonaList dataframe will reset to go from 0 to 17.  The current index in the WinonaList is from before the filters being applied above."
      ]
    },
    {
      "cell_type": "code",
      "metadata": {
        "id": "JOdofpA6xUhT"
      },
      "source": [
        "WinonaList = WinonaList.reset_index(drop=True)"
      ],
      "execution_count": 32,
      "outputs": []
    },
    {
      "cell_type": "markdown",
      "metadata": {
        "id": "NicsB17ayYpz"
      },
      "source": [
        "Check to make sure reindexing worked for the WinonaList dataframe."
      ]
    },
    {
      "cell_type": "code",
      "metadata": {
        "id": "5t6XvKWGyYw2",
        "colab": {
          "base_uri": "https://localhost:8080/",
          "height": 266
        },
        "outputId": "caf1dc03-d404-428b-86ce-d986e2079ca1"
      },
      "source": [
        "WinonaList.head(2)"
      ],
      "execution_count": 34,
      "outputs": [
        {
          "output_type": "execute_result",
          "data": {
            "text/html": [
              "<div>\n",
              "<style scoped>\n",
              "    .dataframe tbody tr th:only-of-type {\n",
              "        vertical-align: middle;\n",
              "    }\n",
              "\n",
              "    .dataframe tbody tr th {\n",
              "        vertical-align: top;\n",
              "    }\n",
              "\n",
              "    .dataframe thead th {\n",
              "        text-align: right;\n",
              "    }\n",
              "</style>\n",
              "<table border=\"1\" class=\"dataframe\">\n",
              "  <thead>\n",
              "    <tr style=\"text-align: right;\">\n",
              "      <th></th>\n",
              "      <th>id</th>\n",
              "      <th>alias</th>\n",
              "      <th>name</th>\n",
              "      <th>image_url</th>\n",
              "      <th>is_closed</th>\n",
              "      <th>url</th>\n",
              "      <th>review_count</th>\n",
              "      <th>categories</th>\n",
              "      <th>rating</th>\n",
              "      <th>coordinates</th>\n",
              "      <th>transactions</th>\n",
              "      <th>price</th>\n",
              "      <th>location</th>\n",
              "      <th>phone</th>\n",
              "      <th>display_phone</th>\n",
              "      <th>distance</th>\n",
              "    </tr>\n",
              "  </thead>\n",
              "  <tbody>\n",
              "    <tr>\n",
              "      <th>0</th>\n",
              "      <td>wRT7U5srhCDek5N-GDROKw</td>\n",
              "      <td>garden-of-eatin-galesville</td>\n",
              "      <td>Garden of Eatin'</td>\n",
              "      <td>https://s3-media1.fl.yelpcdn.com/bphoto/sHQ8rm...</td>\n",
              "      <td>False</td>\n",
              "      <td>https://www.yelp.com/biz/garden-of-eatin-gales...</td>\n",
              "      <td>24</td>\n",
              "      <td>[{'alias': 'diners', 'title': 'Diners'}, {'ali...</td>\n",
              "      <td>5.0</td>\n",
              "      <td>{'latitude': 44.0823135375977, 'longitude': -9...</td>\n",
              "      <td>[]</td>\n",
              "      <td>$</td>\n",
              "      <td>{'address1': '19847 E Gale Ave', 'address2': '...</td>\n",
              "      <td>+16085824366</td>\n",
              "      <td>(608) 582-4366</td>\n",
              "      <td>25142.137259</td>\n",
              "    </tr>\n",
              "    <tr>\n",
              "      <th>1</th>\n",
              "      <td>0OAoruhVskDUJiGFzksE-w</td>\n",
              "      <td>river-cafe-trempealeau</td>\n",
              "      <td>River Cafe</td>\n",
              "      <td>https://s3-media4.fl.yelpcdn.com/bphoto/8m2yDp...</td>\n",
              "      <td>False</td>\n",
              "      <td>https://www.yelp.com/biz/river-cafe-trempealea...</td>\n",
              "      <td>13</td>\n",
              "      <td>[{'alias': 'tradamerican', 'title': 'American ...</td>\n",
              "      <td>5.0</td>\n",
              "      <td>{'latitude': 44.003788, 'longitude': -91.4309464}</td>\n",
              "      <td>[]</td>\n",
              "      <td>$</td>\n",
              "      <td>{'address1': '23991 3rd St', 'address2': None,...</td>\n",
              "      <td>+16085345055</td>\n",
              "      <td>(608) 534-5055</td>\n",
              "      <td>19142.237095</td>\n",
              "    </tr>\n",
              "  </tbody>\n",
              "</table>\n",
              "</div>"
            ],
            "text/plain": [
              "                       id  ...      distance\n",
              "0  wRT7U5srhCDek5N-GDROKw  ...  25142.137259\n",
              "1  0OAoruhVskDUJiGFzksE-w  ...  19142.237095\n",
              "\n",
              "[2 rows x 16 columns]"
            ]
          },
          "metadata": {
            "tags": []
          },
          "execution_count": 34
        }
      ]
    },
    {
      "cell_type": "markdown",
      "metadata": {
        "id": "H70K6dpbyGxk"
      },
      "source": [
        "Complete the simple join."
      ]
    },
    {
      "cell_type": "code",
      "metadata": {
        "id": "743fU956yG4n"
      },
      "source": [
        "WinonaList_WithLocation = WinonaList.join(WinonaList_NormalizeLocation)"
      ],
      "execution_count": 38,
      "outputs": []
    },
    {
      "cell_type": "markdown",
      "metadata": {
        "id": "C-5LKEHJj8rB"
      },
      "source": [
        "Taking a look at the dataframe after the JOIN."
      ]
    },
    {
      "cell_type": "code",
      "metadata": {
        "colab": {
          "base_uri": "https://localhost:8080/",
          "height": 266
        },
        "id": "C5NtB-99j8yg",
        "outputId": "629af1ae-8684-4e23-f48d-89a3cfc15428"
      },
      "source": [
        "WinonaList_WithLocation.head(2)"
      ],
      "execution_count": 39,
      "outputs": [
        {
          "output_type": "execute_result",
          "data": {
            "text/html": [
              "<div>\n",
              "<style scoped>\n",
              "    .dataframe tbody tr th:only-of-type {\n",
              "        vertical-align: middle;\n",
              "    }\n",
              "\n",
              "    .dataframe tbody tr th {\n",
              "        vertical-align: top;\n",
              "    }\n",
              "\n",
              "    .dataframe thead th {\n",
              "        text-align: right;\n",
              "    }\n",
              "</style>\n",
              "<table border=\"1\" class=\"dataframe\">\n",
              "  <thead>\n",
              "    <tr style=\"text-align: right;\">\n",
              "      <th></th>\n",
              "      <th>id</th>\n",
              "      <th>alias</th>\n",
              "      <th>name</th>\n",
              "      <th>image_url</th>\n",
              "      <th>is_closed</th>\n",
              "      <th>url</th>\n",
              "      <th>review_count</th>\n",
              "      <th>categories</th>\n",
              "      <th>rating</th>\n",
              "      <th>coordinates</th>\n",
              "      <th>transactions</th>\n",
              "      <th>price</th>\n",
              "      <th>location</th>\n",
              "      <th>phone</th>\n",
              "      <th>display_phone</th>\n",
              "      <th>distance</th>\n",
              "      <th>address1</th>\n",
              "      <th>address2</th>\n",
              "      <th>address3</th>\n",
              "      <th>city</th>\n",
              "      <th>zip_code</th>\n",
              "      <th>country</th>\n",
              "      <th>state</th>\n",
              "      <th>display_address</th>\n",
              "    </tr>\n",
              "  </thead>\n",
              "  <tbody>\n",
              "    <tr>\n",
              "      <th>0</th>\n",
              "      <td>wRT7U5srhCDek5N-GDROKw</td>\n",
              "      <td>garden-of-eatin-galesville</td>\n",
              "      <td>Garden of Eatin'</td>\n",
              "      <td>https://s3-media1.fl.yelpcdn.com/bphoto/sHQ8rm...</td>\n",
              "      <td>False</td>\n",
              "      <td>https://www.yelp.com/biz/garden-of-eatin-gales...</td>\n",
              "      <td>24</td>\n",
              "      <td>[{'alias': 'diners', 'title': 'Diners'}, {'ali...</td>\n",
              "      <td>5.0</td>\n",
              "      <td>{'latitude': 44.0823135375977, 'longitude': -9...</td>\n",
              "      <td>[]</td>\n",
              "      <td>$</td>\n",
              "      <td>{'address1': '19847 E Gale Ave', 'address2': '...</td>\n",
              "      <td>+16085824366</td>\n",
              "      <td>(608) 582-4366</td>\n",
              "      <td>25142.137259</td>\n",
              "      <td>19847 E Gale Ave</td>\n",
              "      <td></td>\n",
              "      <td></td>\n",
              "      <td>Galesville</td>\n",
              "      <td>54630</td>\n",
              "      <td>US</td>\n",
              "      <td>WI</td>\n",
              "      <td>[19847 E Gale Ave, Galesville, WI 54630]</td>\n",
              "    </tr>\n",
              "    <tr>\n",
              "      <th>1</th>\n",
              "      <td>0OAoruhVskDUJiGFzksE-w</td>\n",
              "      <td>river-cafe-trempealeau</td>\n",
              "      <td>River Cafe</td>\n",
              "      <td>https://s3-media4.fl.yelpcdn.com/bphoto/8m2yDp...</td>\n",
              "      <td>False</td>\n",
              "      <td>https://www.yelp.com/biz/river-cafe-trempealea...</td>\n",
              "      <td>13</td>\n",
              "      <td>[{'alias': 'tradamerican', 'title': 'American ...</td>\n",
              "      <td>5.0</td>\n",
              "      <td>{'latitude': 44.003788, 'longitude': -91.4309464}</td>\n",
              "      <td>[]</td>\n",
              "      <td>$</td>\n",
              "      <td>{'address1': '23991 3rd St', 'address2': None,...</td>\n",
              "      <td>+16085345055</td>\n",
              "      <td>(608) 534-5055</td>\n",
              "      <td>19142.237095</td>\n",
              "      <td>23991 3rd St</td>\n",
              "      <td>None</td>\n",
              "      <td></td>\n",
              "      <td>Trempealeau</td>\n",
              "      <td>54661</td>\n",
              "      <td>US</td>\n",
              "      <td>WI</td>\n",
              "      <td>[23991 3rd St, Trempealeau, WI 54661]</td>\n",
              "    </tr>\n",
              "  </tbody>\n",
              "</table>\n",
              "</div>"
            ],
            "text/plain": [
              "                       id  ...                           display_address\n",
              "0  wRT7U5srhCDek5N-GDROKw  ...  [19847 E Gale Ave, Galesville, WI 54630]\n",
              "1  0OAoruhVskDUJiGFzksE-w  ...     [23991 3rd St, Trempealeau, WI 54661]\n",
              "\n",
              "[2 rows x 24 columns]"
            ]
          },
          "metadata": {
            "tags": []
          },
          "execution_count": 39
        }
      ]
    },
    {
      "cell_type": "markdown",
      "metadata": {
        "id": "e-5_xfmRyLq1"
      },
      "source": [
        "Next, <strong>keep</strong> only restaurant locations in Winona."
      ]
    },
    {
      "cell_type": "code",
      "metadata": {
        "id": "JGhKd4gdyLzr"
      },
      "source": [
        "WinonaList_WithLocation_OnlyWinona = (\n",
        "                          WinonaList_WithLocation\n",
        "                          >> filter_by(X.city == \"Winona\")\n",
        "                          >> select(X.name, X.image_url, X.review_count, X.rating, X.display_address)\n",
        "                       )\n",
        "\n",
        "WinonaList_WithLocation_OnlyWinona = WinonaList_WithLocation_OnlyWinona.reset_index(drop=True)"
      ],
      "execution_count": 42,
      "outputs": []
    },
    {
      "cell_type": "markdown",
      "metadata": {
        "id": "gnvGRIb44uLp"
      },
      "source": [
        "More modifications will be done to the <strong>image_url</strong> field and the <strong>display_adress</strong> field that will be used to connect to the Google Maps API.\n",
        "\n",
        "*  \\<img src=https://s3-media1.fl.yelpcdn.com/bphoto/snAzXC5xLgybMzV8NxGqyw/o.jpg width=\"100px\" height=\"100px\"\\>\n",
        "\n",
        "*   \\<a href=\"https://www.google.com/maps/place/78+E+4th+St+Winona,+MN+55987\" target=\"_blank\">Map</a\\>\n",
        "\n",
        "*   A new field, named rank, will be used to rank the restrauants from 1 on up."
      ]
    },
    {
      "cell_type": "code",
      "metadata": {
        "colab": {
          "base_uri": "https://localhost:8080/"
        },
        "id": "0sEwAiNO4uS3",
        "outputId": "31784a3e-8da7-4d3d-972c-2b5c3c9cad00"
      },
      "source": [
        "WinonaList_WithLocation_OnlyWinona_PicMap = (\n",
        "                          WinonaList_WithLocation_OnlyWinona\n",
        "                          >> mutate(pic = \n",
        "                                          '<img src=\"' \n",
        "                                           + X.image_url \n",
        "                                           + '\" width=\"100px\" height=\"100px\">'\n",
        "                                    )\n",
        "                          >> mutate(mapurl =\n",
        "                                         '<a href=\"https://www.google.com/maps/place/'\n",
        "                                          + X.display_address.str.join(sep=' ').str.replace(' ','+')\n",
        "                                          + '\" target=\"_blank\">Map</a>'\n",
        "                                    )\n",
        "                          >> select(X.name, X.review_count, X.rating, X.pic, X.mapurl)\n",
        "\n",
        "                       )\n",
        "#Create a vector from 1 to n -- used for ranks\n",
        "WinonaList_WithLocation_OnlyWinona_PicMap['rank'] = 1 + np.arange(len(WinonaList_WithLocation_OnlyWinona_PicMap))\n",
        "\n",
        "#Move the selected column to left-most column\n",
        "WinonaList_WithLocation_OnlyWinona_PicMap.insert(0,'rank',WinonaList_WithLocation_OnlyWinona_PicMap.pop('rank'))\n",
        "\n",
        "print(WinonaList_WithLocation_OnlyWinona_PicMap.to_string(index=False))\n"
      ],
      "execution_count": 44,
      "outputs": [
        {
          "output_type": "stream",
          "text": [
            " rank                      name review_count  rating                                                                                                            pic                                                                                                     mapurl\n",
            "    1               Beno's Deli           20     4.5  <img src=\"https://s3-media1.fl.yelpcdn.com/bphoto/snAzXC5xLgybMzV8NxGqyw/o.jpg\" width=\"100px\" height=\"100px\">           <a href=\"https://www.google.com/maps/place/78+E+4th+St+Winona,+MN+55987\" target=\"_blank\">Map</a>\n",
            "    2         The Acoustic Cafe           73     4.0  <img src=\"https://s3-media1.fl.yelpcdn.com/bphoto/0yG-DARmJJGYlUK8pgBnHw/o.jpg\" width=\"100px\" height=\"100px\">          <a href=\"https://www.google.com/maps/place/77+Lafayette+Winona,+MN+55987\" target=\"_blank\">Map</a>\n",
            "    3        Lakeview Drive Inn           40     4.0  <img src=\"https://s3-media2.fl.yelpcdn.com/bphoto/PrdhUUSXIQnrHHhH-uxUHQ/o.jpg\" width=\"100px\" height=\"100px\">       <a href=\"https://www.google.com/maps/place/610+E+Sarnia+St+Winona,+MN+55987\" target=\"_blank\">Map</a>\n",
            "    4                  Cha Chis           13     4.0  <img src=\"https://s3-media3.fl.yelpcdn.com/bphoto/xZ3N7OnViWM3N99yRWX2SA/o.jpg\" width=\"100px\" height=\"100px\">          <a href=\"https://www.google.com/maps/place/155+E+3rd+St+Winona,+MN+55987\" target=\"_blank\">Map</a>\n",
            "    5             Bub's Brewing           60     3.5  <img src=\"https://s3-media2.fl.yelpcdn.com/bphoto/nTZdfHlcWGLE_As6F1Lckg/o.jpg\" width=\"100px\" height=\"100px\">           <a href=\"https://www.google.com/maps/place/65+E+4th+St+Winona,+MN+55987\" target=\"_blank\">Map</a>\n",
            "    6   Winona Sandwich Company           37     3.5  <img src=\"https://s3-media4.fl.yelpcdn.com/bphoto/ntWfgRkiOW5ZomQ1e9WzQA/o.jpg\" width=\"100px\" height=\"100px\">           <a href=\"https://www.google.com/maps/place/619+Huff+St+Winona,+MN+55987\" target=\"_blank\">Map</a>\n",
            "    7   The Grill at Signatures           12     3.5  <img src=\"https://s3-media4.fl.yelpcdn.com/bphoto/sBuQQsov3ErlCKOc0xcN1A/o.jpg\" width=\"100px\" height=\"100px\">  <a href=\"https://www.google.com/maps/place/22852+County+Road+17+Winona,+MN+55987\" target=\"_blank\">Map</a>\n",
            "    8       Rocco's Pub & Pizza           11     3.5  <img src=\"https://s3-media1.fl.yelpcdn.com/bphoto/pjaUxDKFn4hxkNhCxwKwBA/o.jpg\" width=\"100px\" height=\"100px\">         <a href=\"https://www.google.com/maps/place/5242+W+6th+St+Winona,+MN+55987\" target=\"_blank\">Map</a>\n",
            "    9  Winona Family Restaurant           25     3.0  <img src=\"https://s3-media4.fl.yelpcdn.com/bphoto/lxYd9Z-HtWlfRX9UqlUl-w/o.jpg\" width=\"100px\" height=\"100px\">       <a href=\"https://www.google.com/maps/place/1611+Service+Dr+Winona,+MN+55987\" target=\"_blank\">Map</a>\n",
            "   10  Wellington's Pub & Grill           17     3.0  <img src=\"https://s3-media2.fl.yelpcdn.com/bphoto/-WHeuR45tzAWs11YwdAjQw/o.jpg\" width=\"100px\" height=\"100px\">     <a href=\"https://www.google.com/maps/place/1429+W+Service+Dr+Winona,+MN+55987\" target=\"_blank\">Map</a>\n"
          ],
          "name": "stdout"
        }
      ]
    },
    {
      "cell_type": "markdown",
      "metadata": {
        "id": "12O89EM71MAQ"
      },
      "source": [
        "Next, this dataframe will be converted into an HTML table."
      ]
    },
    {
      "cell_type": "code",
      "metadata": {
        "id": "YljqU1wY1MIV"
      },
      "source": [
        "Winona_HTMLFile = WinonaList_WithLocation_OnlyWinona_PicMap.to_html(index=False)"
      ],
      "execution_count": 46,
      "outputs": []
    },
    {
      "cell_type": "markdown",
      "metadata": {
        "id": "wGm5Dg782kTo"
      },
      "source": [
        "Looking the output returned from conversion."
      ]
    },
    {
      "cell_type": "code",
      "metadata": {
        "id": "d16rmMxjMB3A",
        "colab": {
          "base_uri": "https://localhost:8080/",
          "height": 126
        },
        "outputId": "95a0628a-973a-4620-a5dc-3844b915fd30"
      },
      "source": [
        "Winona_HTMLFile"
      ],
      "execution_count": 47,
      "outputs": [
        {
          "output_type": "execute_result",
          "data": {
            "application/vnd.google.colaboratory.intrinsic+json": {
              "type": "string"
            },
            "text/plain": [
              "'<table border=\"1\" class=\"dataframe\">\\n  <thead>\\n    <tr style=\"text-align: right;\">\\n      <th>rank</th>\\n      <th>name</th>\\n      <th>review_count</th>\\n      <th>rating</th>\\n      <th>pic</th>\\n      <th>mapurl</th>\\n    </tr>\\n  </thead>\\n  <tbody>\\n    <tr>\\n      <td>1</td>\\n      <td>Beno\\'s Deli</td>\\n      <td>20</td>\\n      <td>4.5</td>\\n      <td>&lt;img src=\"https://s3-media1.fl.yelpcdn.com/bphoto/snAzXC5xLgybMzV8NxGqyw/o.jpg\" width=\"100px\" height=\"100px\"&gt;</td>\\n      <td>&lt;a href=\"https://www.google.com/maps/place/78+E+4th+St+Winona,+MN+55987\" target=\"_blank\"&gt;Map&lt;/a&gt;</td>\\n    </tr>\\n    <tr>\\n      <td>2</td>\\n      <td>The Acoustic Cafe</td>\\n      <td>73</td>\\n      <td>4.0</td>\\n      <td>&lt;img src=\"https://s3-media1.fl.yelpcdn.com/bphoto/0yG-DARmJJGYlUK8pgBnHw/o.jpg\" width=\"100px\" height=\"100px\"&gt;</td>\\n      <td>&lt;a href=\"https://www.google.com/maps/place/77+Lafayette+Winona,+MN+55987\" target=\"_blank\"&gt;Map&lt;/a&gt;</td>\\n    </tr>\\n    <tr>\\n      <td>3</td>\\n      <td>Lakeview Drive Inn</td>\\n      <td>40</td>\\n      <td>4.0</td>\\n      <td>&lt;img src=\"https://s3-media2.fl.yelpcdn.com/bphoto/PrdhUUSXIQnrHHhH-uxUHQ/o.jpg\" width=\"100px\" height=\"100px\"&gt;</td>\\n      <td>&lt;a href=\"https://www.google.com/maps/place/610+E+Sarnia+St+Winona,+MN+55987\" target=\"_blank\"&gt;Map&lt;/a&gt;</td>\\n    </tr>\\n    <tr>\\n      <td>4</td>\\n      <td>Cha Chis</td>\\n      <td>13</td>\\n      <td>4.0</td>\\n      <td>&lt;img src=\"https://s3-media3.fl.yelpcdn.com/bphoto/xZ3N7OnViWM3N99yRWX2SA/o.jpg\" width=\"100px\" height=\"100px\"&gt;</td>\\n      <td>&lt;a href=\"https://www.google.com/maps/place/155+E+3rd+St+Winona,+MN+55987\" target=\"_blank\"&gt;Map&lt;/a&gt;</td>\\n    </tr>\\n    <tr>\\n      <td>5</td>\\n      <td>Bub\\'s Brewing</td>\\n      <td>60</td>\\n      <td>3.5</td>\\n      <td>&lt;img src=\"https://s3-media2.fl.yelpcdn.com/bphoto/nTZdfHlcWGLE_As6F1Lckg/o.jpg\" width=\"100px\" height=\"100px\"&gt;</td>\\n      <td>&lt;a href=\"https://www.google.com/maps/place/65+E+4th+St+Winona,+MN+55987\" target=\"_blank\"&gt;Map&lt;/a&gt;</td>\\n    </tr>\\n    <tr>\\n      <td>6</td>\\n      <td>Winona Sandwich Company</td>\\n      <td>37</td>\\n      <td>3.5</td>\\n      <td>&lt;img src=\"https://s3-media4.fl.yelpcdn.com/bphoto/ntWfgRkiOW5ZomQ1e9WzQA/o.jpg\" width=\"100px\" height=\"100px\"&gt;</td>\\n      <td>&lt;a href=\"https://www.google.com/maps/place/619+Huff+St+Winona,+MN+55987\" target=\"_blank\"&gt;Map&lt;/a&gt;</td>\\n    </tr>\\n    <tr>\\n      <td>7</td>\\n      <td>The Grill at Signatures</td>\\n      <td>12</td>\\n      <td>3.5</td>\\n      <td>&lt;img src=\"https://s3-media4.fl.yelpcdn.com/bphoto/sBuQQsov3ErlCKOc0xcN1A/o.jpg\" width=\"100px\" height=\"100px\"&gt;</td>\\n      <td>&lt;a href=\"https://www.google.com/maps/place/22852+County+Road+17+Winona,+MN+55987\" target=\"_blank\"&gt;Map&lt;/a&gt;</td>\\n    </tr>\\n    <tr>\\n      <td>8</td>\\n      <td>Rocco\\'s Pub &amp; Pizza</td>\\n      <td>11</td>\\n      <td>3.5</td>\\n      <td>&lt;img src=\"https://s3-media1.fl.yelpcdn.com/bphoto/pjaUxDKFn4hxkNhCxwKwBA/o.jpg\" width=\"100px\" height=\"100px\"&gt;</td>\\n      <td>&lt;a href=\"https://www.google.com/maps/place/5242+W+6th+St+Winona,+MN+55987\" target=\"_blank\"&gt;Map&lt;/a&gt;</td>\\n    </tr>\\n    <tr>\\n      <td>9</td>\\n      <td>Winona Family Restaurant</td>\\n      <td>25</td>\\n      <td>3.0</td>\\n      <td>&lt;img src=\"https://s3-media4.fl.yelpcdn.com/bphoto/lxYd9Z-HtWlfRX9UqlUl-w/o.jpg\" width=\"100px\" height=\"100px\"&gt;</td>\\n      <td>&lt;a href=\"https://www.google.com/maps/place/1611+Service+Dr+Winona,+MN+55987\" target=\"_blank\"&gt;Map&lt;/a&gt;</td>\\n    </tr>\\n    <tr>\\n      <td>10</td>\\n      <td>Wellington\\'s Pub &amp; Grill</td>\\n      <td>17</td>\\n      <td>3.0</td>\\n      <td>&lt;img src=\"https://s3-media2.fl.yelpcdn.com/bphoto/-WHeuR45tzAWs11YwdAjQw/o.jpg\" width=\"100px\" height=\"100px\"&gt;</td>\\n      <td>&lt;a href=\"https://www.google.com/maps/place/1429+W+Service+Dr+Winona,+MN+55987\" target=\"_blank\"&gt;Map&lt;/a&gt;</td>\\n    </tr>\\n  </tbody>\\n</table>'"
            ]
          },
          "metadata": {
            "tags": []
          },
          "execution_count": 47
        }
      ]
    },
    {
      "cell_type": "markdown",
      "metadata": {
        "id": "cHV-IA0gn9vl"
      },
      "source": [
        "Instead of pushing the HTML converted table to the screen, let's push this contents into a HTML file."
      ]
    },
    {
      "cell_type": "code",
      "metadata": {
        "id": "Qe5UdlCw2kaL"
      },
      "source": [
        "text_file = open(\"sample_data/index.html\", \"w\")\n",
        "text_file.write(WinonaList_WithLocation_OnlyWinona_PicMap.to_html(index=False))\n",
        "text_file.close()"
      ],
      "execution_count": 48,
      "outputs": []
    },
    {
      "cell_type": "markdown",
      "metadata": {
        "id": "2tZV8BX8Bvpl"
      },
      "source": [
        "Adding <strong>\\<html\\><strong> to beginning of file."
      ]
    },
    {
      "cell_type": "code",
      "metadata": {
        "id": "bccETNnTBvvj"
      },
      "source": [
        "!sed -i '1i \\<html>\\' /content/sample_data/index.html"
      ],
      "execution_count": null,
      "outputs": []
    },
    {
      "cell_type": "markdown",
      "metadata": {
        "id": "2VRLyFSZDxMa"
      },
      "source": [
        "Next, adding <strong>\\<body\\></strong> on the 2nd line."
      ]
    },
    {
      "cell_type": "code",
      "metadata": {
        "id": "Ba109vC-I4a4"
      },
      "source": [
        "!sed -i '2i \\<body>\\' /content/sample_data/index.html"
      ],
      "execution_count": null,
      "outputs": []
    },
    {
      "cell_type": "markdown",
      "metadata": {
        "id": "TdscOkwKI8HH"
      },
      "source": [
        "Next, need to put \\<\\body\\> and \\<\\html\\> tags at end of HTML file."
      ]
    },
    {
      "cell_type": "code",
      "metadata": {
        "id": "Xc6no-inLCLF"
      },
      "source": [
        "!sed -i '$ a </body>' /content/sample_data/index.html\n",
        "!sed -i '$ a </html>' /content/sample_data/index.html"
      ],
      "execution_count": 49,
      "outputs": []
    },
    {
      "cell_type": "markdown",
      "metadata": {
        "id": "9W_cSUGvLny0"
      },
      "source": [
        "Clean up some issues with the HTML conversion..."
      ]
    },
    {
      "cell_type": "code",
      "metadata": {
        "id": "25qjZeUqyBfS"
      },
      "source": [
        "!sed -i 's/&lt;/</g' /content/sample_data/index.html"
      ],
      "execution_count": 50,
      "outputs": []
    },
    {
      "cell_type": "markdown",
      "metadata": {
        "id": "tiHkNf_AynRA"
      },
      "source": [
        "Similarly for end tags..."
      ]
    },
    {
      "cell_type": "code",
      "metadata": {
        "id": "DmstsaPhzAv3"
      },
      "source": [
        "!sed -i 's/&gt;/>/g' /content/sample_data/index.html"
      ],
      "execution_count": 51,
      "outputs": []
    },
    {
      "cell_type": "markdown",
      "metadata": {
        "id": "w9A1UV-LzF_P"
      },
      "source": [
        "Next, center align the contents of the header row."
      ]
    },
    {
      "cell_type": "code",
      "metadata": {
        "id": "V9AiVTuB6Zwz"
      },
      "source": [
        "!sed -i 's/text-align: right;/text-align: center;/' /content/sample_data/index.html"
      ],
      "execution_count": 52,
      "outputs": []
    },
    {
      "cell_type": "markdown",
      "metadata": {
        "id": "Tob5iaLR6sPF"
      },
      "source": [
        "Making the table headers slighly larger and removing pic and mapurl names all together."
      ]
    },
    {
      "cell_type": "code",
      "metadata": {
        "id": "5NIXKqsI7jUK"
      },
      "source": [
        "!sed -i 's/rank/<font size=\"+1\"\\>Rank<\\/font>/' /content/sample_data/index.html\n",
        "!sed -i 's/name/<font size=\"+1\"\\>Restaurant<br>Name<\\/font>/' /content/sample_data/index.html\n",
        "!sed -i 's/review_count/<font size=\"+1\"\\># of <br>Reviews<\\/font>/' /content/sample_data/index.html\n",
        "!sed -i 's/rating/<font size=\"+1\"\\>Rating<\\/font>/' /content/sample_data/index.html\n",
        "!sed -i 's/pic/<font size=\"+1\"\\>\\&nbsp;<\\/font>/' /content/sample_data/index.html\n",
        "!sed -i 's/mapurl/<font size=\"+1\"\\>\\&nbsp;<\\/font>/' /content/sample_data/index.html\n",
        "\n"
      ],
      "execution_count": 54,
      "outputs": []
    },
    {
      "cell_type": "markdown",
      "metadata": {
        "id": "HzC9UsPupJB-"
      },
      "source": [
        "Next, specify that the contents of the table be centered..."
      ]
    },
    {
      "cell_type": "code",
      "metadata": {
        "id": "74hP7tl3pJKW"
      },
      "source": [
        "!sed -i 's/<tbody>/<tbody style=\"text-align: center;\">/' /content/sample_data/index.html"
      ],
      "execution_count": null,
      "outputs": []
    },
    {
      "cell_type": "markdown",
      "metadata": {
        "id": "ZX_QFvOU_D0-"
      },
      "source": [
        "Taking a look at a final version of this file..."
      ]
    },
    {
      "cell_type": "code",
      "metadata": {
        "id": "BVHQYVJ1_EBf",
        "colab": {
          "base_uri": "https://localhost:8080/"
        },
        "outputId": "206fab43-e95f-443c-9242-4520c17dbfc2"
      },
      "source": [
        "!cat /content/sample_data/index.html"
      ],
      "execution_count": 55,
      "outputs": [
        {
          "output_type": "stream",
          "text": [
            "<table border=\"1\" class=\"dataframe\">\n",
            "  <thead>\n",
            "    <tr style=\"text-align: center;\">\n",
            "      <th><font size=\"+1\">Rank</font></th>\n",
            "      <th><font size=\"+1\">Restaurant<br>Name</font></th>\n",
            "      <th><font size=\"+1\"># of <br>Reviews</font></th>\n",
            "      <th><font size=\"+1\">Rating</font></th>\n",
            "      <th><font size=\"+1\">&nbsp;</font></th>\n",
            "      <th><font size=\"+1\">&nbsp;</font></th>\n",
            "    </tr>\n",
            "  </thead>\n",
            "  <tbody style=\"text-align: center;\">\n",
            "    <tr>\n",
            "      <td>1</td>\n",
            "      <td>Beno's Deli</td>\n",
            "      <td>20</td>\n",
            "      <td>4.5</td>\n",
            "      <td><img src=\"https://s3-media1.fl.yelpcdn.com/bphoto/snAzXC5xLgybMzV8NxGqyw/o.jpg\" width=\"100px\" height=\"100px\"></td>\n",
            "      <td><a href=\"https://www.google.com/maps/place/78+E+4th+St+Winona,+MN+55987\" target=\"_blank\">Map</a></td>\n",
            "    </tr>\n",
            "    <tr>\n",
            "      <td>2</td>\n",
            "      <td>The Acoustic Cafe</td>\n",
            "      <td>73</td>\n",
            "      <td>4.0</td>\n",
            "      <td><img src=\"https://s3-media1.fl.yelpcdn.com/bphoto/0yG-DARmJJGYlUK8pgBnHw/o.jpg\" width=\"100px\" height=\"100px\"></td>\n",
            "      <td><a href=\"https://www.google.com/maps/place/77+Lafayette+Winona,+MN+55987\" target=\"_blank\">Map</a></td>\n",
            "    </tr>\n",
            "    <tr>\n",
            "      <td>3</td>\n",
            "      <td>Lakeview Drive Inn</td>\n",
            "      <td>40</td>\n",
            "      <td>4.0</td>\n",
            "      <td><img src=\"https://s3-media2.fl.yelpcdn.com/bphoto/PrdhUUSXIQnrHHhH-uxUHQ/o.jpg\" width=\"100px\" height=\"100px\"></td>\n",
            "      <td><a href=\"https://www.google.com/maps/place/610+E+Sarnia+St+Winona,+MN+55987\" target=\"_blank\">Map</a></td>\n",
            "    </tr>\n",
            "    <tr>\n",
            "      <td>4</td>\n",
            "      <td>Cha Chis</td>\n",
            "      <td>13</td>\n",
            "      <td>4.0</td>\n",
            "      <td><img src=\"https://s3-media3.fl.yelpcdn.com/bphoto/xZ3N7OnViWM3N99yRWX2SA/o.jpg\" width=\"100px\" height=\"100px\"></td>\n",
            "      <td><a href=\"https://www.google.com/maps/place/155+E+3rd+St+Winona,+MN+55987\" target=\"_blank\">Map</a></td>\n",
            "    </tr>\n",
            "    <tr>\n",
            "      <td>5</td>\n",
            "      <td>Bub's Brewing</td>\n",
            "      <td>60</td>\n",
            "      <td>3.5</td>\n",
            "      <td><img src=\"https://s3-media2.fl.yelpcdn.com/bphoto/nTZdfHlcWGLE_As6F1Lckg/o.jpg\" width=\"100px\" height=\"100px\"></td>\n",
            "      <td><a href=\"https://www.google.com/maps/place/65+E+4th+St+Winona,+MN+55987\" target=\"_blank\">Map</a></td>\n",
            "    </tr>\n",
            "    <tr>\n",
            "      <td>6</td>\n",
            "      <td>Winona Sandwich Company</td>\n",
            "      <td>37</td>\n",
            "      <td>3.5</td>\n",
            "      <td><img src=\"https://s3-media4.fl.yelpcdn.com/bphoto/ntWfgRkiOW5ZomQ1e9WzQA/o.jpg\" width=\"100px\" height=\"100px\"></td>\n",
            "      <td><a href=\"https://www.google.com/maps/place/619+Huff+St+Winona,+MN+55987\" target=\"_blank\">Map</a></td>\n",
            "    </tr>\n",
            "    <tr>\n",
            "      <td>7</td>\n",
            "      <td>The Grill at Signatures</td>\n",
            "      <td>12</td>\n",
            "      <td>3.5</td>\n",
            "      <td><img src=\"https://s3-media4.fl.yelpcdn.com/bphoto/sBuQQsov3ErlCKOc0xcN1A/o.jpg\" width=\"100px\" height=\"100px\"></td>\n",
            "      <td><a href=\"https://www.google.com/maps/place/22852+County+Road+17+Winona,+MN+55987\" target=\"_blank\">Map</a></td>\n",
            "    </tr>\n",
            "    <tr>\n",
            "      <td>8</td>\n",
            "      <td>Rocco's Pub &amp; Pizza</td>\n",
            "      <td>11</td>\n",
            "      <td>3.5</td>\n",
            "      <td><img src=\"https://s3-media1.fl.yelpcdn.com/bphoto/pjaUxDKFn4hxkNhCxwKwBA/o.jpg\" width=\"100px\" height=\"100px\"></td>\n",
            "      <td><a href=\"https://www.google.com/maps/place/5242+W+6th+St+Winona,+MN+55987\" target=\"_blank\">Map</a></td>\n",
            "    </tr>\n",
            "    <tr>\n",
            "      <td>9</td>\n",
            "      <td>Winona Family Restaurant</td>\n",
            "      <td>25</td>\n",
            "      <td>3.0</td>\n",
            "      <td><img src=\"https://s3-media4.fl.yelpcdn.com/bphoto/lxYd9Z-HtWlfRX9UqlUl-w/o.jpg\" width=\"100px\" height=\"100px\"></td>\n",
            "      <td><a href=\"https://www.google.com/maps/place/1611+Service+Dr+Winona,+MN+55987\" target=\"_blank\">Map</a></td>\n",
            "    </tr>\n",
            "    <tr>\n",
            "      <td>10</td>\n",
            "      <td>Wellington's Pub &amp; Grill</td>\n",
            "      <td>17</td>\n",
            "      <td>3.0</td>\n",
            "      <td><img src=\"https://s3-media2.fl.yelpcdn.com/bphoto/-WHeuR45tzAWs11YwdAjQw/o.jpg\" width=\"100px\" height=\"100px\"></td>\n",
            "      <td><a href=\"https://www.google.com/maps/place/1429+W+Service+Dr+Winona,+MN+55987\" target=\"_blank\">Map</a></td>\n",
            "    </tr>\n",
            "  </tbody>\n",
            "</table>\n",
            "</body>\n",
            "</html>\n"
          ],
          "name": "stdout"
        }
      ]
    }
  ]
}