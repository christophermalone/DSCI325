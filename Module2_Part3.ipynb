{
  "nbformat": 4,
  "nbformat_minor": 0,
  "metadata": {
    "colab": {
      "name": "Module2_Part3.ipynb",
      "provenance": [],
      "authorship_tag": "ABX9TyPo+3LO5dWyddu9/Qxz7Xtd",
      "include_colab_link": true
    },
    "kernelspec": {
      "name": "python3",
      "display_name": "Python 3"
    }
  },
  "cells": [
    {
      "cell_type": "markdown",
      "metadata": {
        "id": "view-in-github",
        "colab_type": "text"
      },
      "source": [
        "<a href=\"https://colab.research.google.com/github/christophermalone/DSCI325/blob/main/Module2_Part3.ipynb\" target=\"_parent\"><img src=\"https://colab.research.google.com/assets/colab-badge.svg\" alt=\"Open In Colab\"/></a>"
      ]
    },
    {
      "cell_type": "markdown",
      "metadata": {
        "id": "zQXd5cZ9SMmv"
      },
      "source": [
        "# Module 2 | Part 3: Pre-Processing Multiple Data Files"
      ]
    },
    {
      "cell_type": "markdown",
      "metadata": {
        "id": "F5v4zW5-EvjX"
      },
      "source": [
        "This notebook will discuss processes for the pre-processing of multiple data files.  BASH is a language that can be used to process a collection or series of commands that can be used for processing multiple data files.  The collection of commands are often referred to as a (shell) script. \r\n",
        "\r\n",
        "BASH Wiki Page: https://en.wikipedia.org/wiki/Bash_(Unix_shell) "
      ]
    },
    {
      "cell_type": "markdown",
      "metadata": {
        "id": "cHFbYOB8JK4u"
      },
      "source": [
        "<table width='100%' ><tr><td bgcolor='green'></td></tr></table>\r\n",
        "\r\n",
        "### Example 2.3.1\r\n",
        "For this example, data from a well established bike rental company in New York City will be used.  The goal of this investigation is to compare the number of bike rentals near Central Park for tourists on summer holidays (Memorial Day, Independence Day, and Labor Day) over the last three years (2018/2019/2020).\r\n",
        "\r\n",
        "*   Only <strong>Customers</strong>, i.e. tourists, should be used in this investigation.\r\n",
        "*   Only rentals from bike stations near <strong>Central Park</strong> should be used in this investigation, i.e. bike rentals whose station name includes the words Central Park\r\n",
        "\r\n",
        "\r\n",
        "\r\n",
        "<p align='center'>\r\n",
        "<table border='1'>\r\n",
        "<tr>\r\n",
        "  <td bgcolor='lightgrey' align='center'><font size=\"2\">Holiday</font></td>\r\n",
        "  <td bgcolor='lightgrey' align='center'><font size=\"2\">2018</font></td>\r\n",
        "  <td bgcolor='lightgrey' align='center'><font size=\"2\">2019</font></td>\r\n",
        "  <td bgcolor='lightgrey' align='center'><font size=\"2\">2020</font></td>\r\n",
        "</tr>\r\n",
        "<tr>\r\n",
        "  <td align='center'><font size=\"2\">Memorial<br>Day</font></td>\r\n",
        "  <td align='center'><font size=\"2\">May 28</font></td>\r\n",
        "  <td align='center'><font size=\"2\">May 27</font></td>\r\n",
        "  <td align='center'><font size=\"2\">May 25</font></td>\r\n",
        "</tr>\r\n",
        "<tr>\r\n",
        "  <td align='center'><font size=\"2\">Independence<br>Day</font></td>\r\n",
        "  <td align='center'><font size=\"2\">July 4</font></td>\r\n",
        "  <td align='center'><font size=\"2\">July 4</font></td>\r\n",
        "  <td align='center'><font size=\"2\">July 4</font></td>\r\n",
        "</tr>\r\n",
        "<tr>\r\n",
        "  <td align='center'><font size=\"2\">Labor<br>Day</font></td>\r\n",
        "  <td align='center'><font size=\"2\">Sept 3</font></td>\r\n",
        "  <td align='center'><font size=\"2\">Sept 2</font></td>\r\n",
        "  <td align='center'><font size=\"2\">Sept 7</font></td>\r\n",
        "</tr>\r\n",
        "\r\n",
        "</table>\r\n",
        "</p>\r\n",
        "\r\n",
        " \r\n",
        "<i>CitiBike Web site</i>: https://www.citibikenyc.com/system-data\r\n",
        "<br><i>Data Source</i>: https://s3.amazonaws.com/tripdata/index.html \r\n",
        "\r\n",
        "<table width='100%' ><tr><td bgcolor='green'></td></tr></table>"
      ]
    },
    {
      "cell_type": "markdown",
      "metadata": {
        "id": "Pu1vBrNBJDnN"
      },
      "source": [
        "A graph analogous to the one shown here is the desired output from this investigation.\r\n",
        "\r\n",
        "<p align='center'><img src=\"https://drive.google.com/uc?export=view&id=1tqb7um1SF7maIrBwp5ybMTMilwDwI4rw\"></p>"
      ]
    },
    {
      "cell_type": "markdown",
      "metadata": {
        "id": "8_8JrHrvKGt4"
      },
      "source": [
        "## Pre-Processing with BASH - Downloading Files"
      ]
    },
    {
      "cell_type": "markdown",
      "metadata": {
        "id": "ksGFL2kZKLKl"
      },
      "source": [
        "BASH can be used to run a set of commands for the processing of data.  The series of commands are placed into a script or shell script.  The following code will create a file called Download_CitiBikeData.sh.  Each command here uses the wget function to download files from the internet.  The echo command simply instructs BASH to write the contents contained within quoted string to the file being created.  Notice that this series of commands are bracketed with the {} so that all echo lines are written to file."
      ]
    },
    {
      "cell_type": "code",
      "metadata": {
        "id": "uK0is1NqSHaL"
      },
      "source": [
        "#Create a file that contains a set of commands to download file\r\n",
        "%%bash\r\n",
        "{  \r\n",
        " echo 'wget -O  /content/sample_data/May2018.zip https://s3.amazonaws.com/tripdata/201805-citibike-tripdata.csv.zip'\r\n",
        " echo 'wget -O  /content/sample_data/July2018.zip https://s3.amazonaws.com/tripdata/201807-citibike-tripdata.csv.zip'\r\n",
        " echo 'wget -O /content/sample_data/September2018.zip https://s3.amazonaws.com/tripdata/201809-citibike-tripdata.csv.zip' \r\n",
        " echo 'wget -O  /content/sample_data/May2019.zip https://s3.amazonaws.com/tripdata/201905-citibike-tripdata.csv.zip'\r\n",
        " echo 'wget -O  /content/sample_data/July2019.zip https://s3.amazonaws.com/tripdata/201907-citibike-tripdata.csv.zip'\r\n",
        " echo 'wget -O /content/sample_data/September2019.zip https://s3.amazonaws.com/tripdata/201909-citibike-tripdata.csv.zip'\r\n",
        " echo 'wget -O  /content/sample_data/May2020.zip https://s3.amazonaws.com/tripdata/202005-citibike-tripdata.csv.zip'\r\n",
        " echo 'wget -O  /content/sample_data/July2020.zip https://s3.amazonaws.com/tripdata/202007-citibike-tripdata.csv.zip'\r\n",
        " echo 'wget -O /content/sample_data/September2020.zip https://s3.amazonaws.com/tripdata/202009-citibike-tripdata.csv.zip'\r\n",
        " } > Download_CitiBikeData.sh"
      ],
      "execution_count": 1,
      "outputs": []
    },
    {
      "cell_type": "markdown",
      "metadata": {
        "id": "XAK0EgbSNSH8"
      },
      "source": [
        "Next, verify that the contents of the file is correct."
      ]
    },
    {
      "cell_type": "code",
      "metadata": {
        "colab": {
          "base_uri": "https://localhost:8080/"
        },
        "id": "iePj9IEsi6WO",
        "outputId": "378cce49-0882-4e30-830b-da5a7fa3e3eb"
      },
      "source": [
        "!head -n 10 /content/Download_CitiBikeData.sh"
      ],
      "execution_count": 2,
      "outputs": [
        {
          "output_type": "stream",
          "text": [
            "wget -O  /content/sample_data/May2018.zip https://s3.amazonaws.com/tripdata/201805-citibike-tripdata.csv.zip\n",
            "wget -O  /content/sample_data/July2018.zip https://s3.amazonaws.com/tripdata/201807-citibike-tripdata.csv.zip\n",
            "wget -O /content/sample_data/September2018.zip https://s3.amazonaws.com/tripdata/201809-citibike-tripdata.csv.zip\n",
            "wget -O  /content/sample_data/May2019.zip https://s3.amazonaws.com/tripdata/201905-citibike-tripdata.csv.zip\n",
            "wget -O  /content/sample_data/July2019.zip https://s3.amazonaws.com/tripdata/201907-citibike-tripdata.csv.zip\n",
            "wget -O /content/sample_data/September2019.zip https://s3.amazonaws.com/tripdata/201909-citibike-tripdata.csv.zip\n",
            "wget -O  /content/sample_data/May2020.zip https://s3.amazonaws.com/tripdata/202005-citibike-tripdata.csv.zip\n",
            "wget -O  /content/sample_data/July2020.zip https://s3.amazonaws.com/tripdata/202007-citibike-tripdata.csv.zip\n",
            "wget -O /content/sample_data/September2020.zip https://s3.amazonaws.com/tripdata/202009-citibike-tripdata.csv.zip\n"
          ],
          "name": "stdout"
        }
      ]
    },
    {
      "cell_type": "code",
      "metadata": {
        "id": "wTaq9jQJGoiv",
        "colab": {
          "base_uri": "https://localhost:8080/"
        },
        "outputId": "7419c183-a911-4754-9cac-e014fec1fedd"
      },
      "source": [
        "#Verify that the file exists in the /content/ folder!ls /content/\r\n",
        "!ls /content/"
      ],
      "execution_count": 4,
      "outputs": [
        {
          "output_type": "stream",
          "text": [
            "Download_CitiBikeData.sh  sample_data\n"
          ],
          "name": "stdout"
        }
      ]
    },
    {
      "cell_type": "markdown",
      "metadata": {
        "id": "1GaG0yBLNka7"
      },
      "source": [
        "The following code block will run (or execute) the lines of code within the script file.   "
      ]
    },
    {
      "cell_type": "code",
      "metadata": {
        "id": "8p0xSWJSG5e2"
      },
      "source": [
        "%%bash\r\n",
        "bash Download_CitiBikeData.sh"
      ],
      "execution_count": null,
      "outputs": []
    },
    {
      "cell_type": "markdown",
      "metadata": {
        "id": "TiJqbe3eNv0g"
      },
      "source": [
        "Again, let us verify that the wget commands within the script file were sucessfully executed.  There should be several *.zip files -- one for each year and summer holiday."
      ]
    },
    {
      "cell_type": "code",
      "metadata": {
        "colab": {
          "base_uri": "https://localhost:8080/"
        },
        "id": "UGPvLlo5G8iO",
        "outputId": "69b342b8-2ba2-45c2-c55a-e72665cdfa02"
      },
      "source": [
        "#View the contents in the content folder\r\n",
        "!ls /content/sample_data/"
      ],
      "execution_count": 6,
      "outputs": [
        {
          "output_type": "stream",
          "text": [
            "July2018.zip  July2020.zip  May2019.zip  September2018.zip  September2020.zip\n",
            "July2019.zip  May2018.zip   May2020.zip  September2019.zip\n"
          ],
          "name": "stdout"
        }
      ]
    },
    {
      "cell_type": "markdown",
      "metadata": {
        "id": "gzqF-HVnTs-m"
      },
      "source": [
        "## Pre-Processing with BASH - Unzipping Files"
      ]
    },
    {
      "cell_type": "markdown",
      "metadata": {
        "id": "XkA3SSLgOE5d"
      },
      "source": [
        "The next step in the process is to create another script file that contains the commands needed to unzip each of the downloaded files.  Here, the name of the script file is Unzip_CitiBikeData.sh."
      ]
    },
    {
      "cell_type": "code",
      "metadata": {
        "id": "tJdYkcrlHVCp"
      },
      "source": [
        "%%bash\r\n",
        "{   \r\n",
        " echo 'unzip -o /content/sample_data/May2018.zip -d \"/content/sample_data\"'\r\n",
        " echo 'unzip -o /content/sample_data/July2018.zip -d \"/content/sample_data\"'\r\n",
        " echo 'unzip -o /content/sample_data/September2018.zip -d \"/content/sample_data\"'\r\n",
        " echo 'unzip -o /content/sample_data/May2019.zip -d \"/content/sample_data\"'\r\n",
        " echo 'unzip -o /content/sample_data/July2019.zip -d \"/content/sample_data\"'\r\n",
        " echo 'unzip -o /content/sample_data/September2019.zip -d \"/content/sample_data\"'\r\n",
        " echo 'unzip -o /content/sample_data/May2020.zip -d \"/content/sample_data\"'\r\n",
        " echo 'unzip -o /content/sample_data/July2020.zip -d \"/content/sample_data\"'\r\n",
        " echo 'unzip -o /content/sample_data/September2020.zip -d \"/content/sample_data\"'\r\n",
        " } > Unzip_CitiBikeData.sh"
      ],
      "execution_count": 7,
      "outputs": []
    },
    {
      "cell_type": "markdown",
      "metadata": {
        "id": "wNkAodPFOPno"
      },
      "source": [
        "Verify that the contents of the Unzip_CitiBikeData shell file is correct."
      ]
    },
    {
      "cell_type": "code",
      "metadata": {
        "colab": {
          "base_uri": "https://localhost:8080/"
        },
        "id": "PePnO_vDjCbt",
        "outputId": "f4932589-fde0-4833-97ee-c2101533aa93"
      },
      "source": [
        "!head -n 10 /content/Unzip_CitiBikeData.sh"
      ],
      "execution_count": 8,
      "outputs": [
        {
          "output_type": "stream",
          "text": [
            "unzip -o /content/sample_data/May2018.zip -d \"/content/sample_data\"\n",
            "unzip -o /content/sample_data/July2018.zip -d \"/content/sample_data\"\n",
            "unzip -o /content/sample_data/September2018.zip -d \"/content/sample_data\"\n",
            "unzip -o /content/sample_data/May2019.zip -d \"/content/sample_data\"\n",
            "unzip -o /content/sample_data/July2019.zip -d \"/content/sample_data\"\n",
            "unzip -o /content/sample_data/September2019.zip -d \"/content/sample_data\"\n",
            "unzip -o /content/sample_data/May2020.zip -d \"/content/sample_data\"\n",
            "unzip -o /content/sample_data/July2020.zip -d \"/content/sample_data\"\n",
            "unzip -o /content/sample_data/September2020.zip -d \"/content/sample_data\"\n"
          ],
          "name": "stdout"
        }
      ]
    },
    {
      "cell_type": "markdown",
      "metadata": {
        "id": "mcUhk-EbUB8o"
      },
      "source": [
        "After a script file has been created to unzip each file, execute the lines of code using the following command."
      ]
    },
    {
      "cell_type": "code",
      "metadata": {
        "id": "_KFsjvhoT9wc"
      },
      "source": [
        "%%bash\r\n",
        "bash Unzip_CitiBikeData.sh"
      ],
      "execution_count": null,
      "outputs": []
    },
    {
      "cell_type": "markdown",
      "metadata": {
        "id": "u8cLg1aAOqua"
      },
      "source": [
        "Once again, verify that each has been sucessfully unzipped."
      ]
    },
    {
      "cell_type": "code",
      "metadata": {
        "colab": {
          "base_uri": "https://localhost:8080/"
        },
        "id": "8mvitKPBUGQN",
        "outputId": "ee76b753-7e63-4517-b47e-7baecb3e7897"
      },
      "source": [
        "#View the contents in the content folder\r\n",
        "!ls -l /content/sample_data/"
      ],
      "execution_count": 10,
      "outputs": [
        {
          "output_type": "stream",
          "text": [
            "total 4127572\n",
            "-rw-r--r-- 1 root root 346788777 Sep  6  2018 201805-citibike-tripdata.csv\n",
            "-rw-r--r-- 1 root root 364208046 Sep  6  2018 201807-citibike-tripdata.csv\n",
            "-rw-r--r-- 1 root root 357819814 Oct  3  2018 201809-citibike-tripdata.csv\n",
            "-rw-r--r-- 1 root root 367008111 Jun 11  2019 201905-citibike-tripdata.csv\n",
            "-rw-r--r-- 1 root root 415266713 Aug  5  2019 201907-citibike-tripdata.csv\n",
            "-rw-r--r-- 1 root root 464421401 Oct 11  2019 201909-citibike-tripdata.csv\n",
            "-rw-r--r-- 1 root root 283682921 Jun  5  2020 202005-citibike-tripdata.csv\n",
            "-rw-r--r-- 1 root root 399626762 Aug 12 01:42 202007-citibike-tripdata.csv\n",
            "-rw-r--r-- 1 root root 472984200 Oct 13 19:23 202009-citibike-tripdata.csv\n",
            "-rw-r--r-- 1 root root  63141848 Sep  6  2018 July2018.zip\n",
            "-rw-r--r-- 1 root root  93359147 Aug  5  2019 July2019.zip\n",
            "-rw-r--r-- 1 root root  94091098 Aug 12 02:13 July2020.zip\n",
            "-rw-r--r-- 1 root root  60398070 Sep  6  2018 May2018.zip\n",
            "-rw-r--r-- 1 root root  82176801 Jun 11  2019 May2019.zip\n",
            "-rw-r--r-- 1 root root  65378700 Jun  5  2020 May2020.zip\n",
            "-rw-r--r-- 1 root root  80091394 Oct  3  2018 September2018.zip\n",
            "-rw-r--r-- 1 root root 104185546 Oct 11  2019 September2019.zip\n",
            "-rw-r--r-- 1 root root 111931985 Oct 13 19:55 September2020.zip\n"
          ],
          "name": "stdout"
        }
      ]
    },
    {
      "cell_type": "markdown",
      "metadata": {
        "id": "FwWTGhmqOzOI"
      },
      "source": [
        "## Pre-Processing of Data Files - GREP"
      ]
    },
    {
      "cell_type": "markdown",
      "metadata": {
        "id": "jOuS4id2UwAl"
      },
      "source": [
        "The following command can be used to get the number of lines across all *.csv files."
      ]
    },
    {
      "cell_type": "code",
      "metadata": {
        "colab": {
          "base_uri": "https://localhost:8080/"
        },
        "id": "s7iBqb22UyIi",
        "outputId": "095bd952-75dc-4305-ca90-c7696f569db6"
      },
      "source": [
        "!awk 'END{ print NR }' /content/sample_data/*.csv"
      ],
      "execution_count": 11,
      "outputs": [
        {
          "output_type": "stream",
          "text": [
            "18248678\n"
          ],
          "name": "stdout"
        }
      ]
    },
    {
      "cell_type": "markdown",
      "metadata": {
        "id": "QNnOXYYcPMYc"
      },
      "source": [
        "An alternative to AWK is the use the <strong>!wc</strong> utility function.  The word count function has an -l option (the letter l, not 1) that can be used to count lines in a file.  This alternative is faster than AWK and it provides more details."
      ]
    },
    {
      "cell_type": "code",
      "metadata": {
        "colab": {
          "base_uri": "https://localhost:8080/"
        },
        "id": "MPxBLQtiQV0v",
        "outputId": "8c412077-29dd-4e57-c31b-3855842cb5da"
      },
      "source": [
        "!wc -l /content/sample_data/*.csv"
      ],
      "execution_count": 12,
      "outputs": [
        {
          "output_type": "stream",
          "text": [
            "   1824711 /content/sample_data/201805-citibike-tripdata.csv\n",
            "   1913626 /content/sample_data/201807-citibike-tripdata.csv\n",
            "   1877885 /content/sample_data/201809-citibike-tripdata.csv\n",
            "   1924564 /content/sample_data/201905-citibike-tripdata.csv\n",
            "   2181065 /content/sample_data/201907-citibike-tripdata.csv\n",
            "   2444901 /content/sample_data/201909-citibike-tripdata.csv\n",
            "   1487891 /content/sample_data/202005-citibike-tripdata.csv\n",
            "   2105809 /content/sample_data/202007-citibike-tripdata.csv\n",
            "   2488226 /content/sample_data/202009-citibike-tripdata.csv\n",
            "  18248678 total\n"
          ],
          "name": "stdout"
        }
      ]
    },
    {
      "cell_type": "markdown",
      "metadata": {
        "id": "JR2eu-41Vord"
      },
      "source": [
        "GREP is yet another command-line procedure for searching plain-text in data files that match a partipular expression.  GREP uses regular expression syntax when doing its searching. \r\n",
        "\r\n",
        "Wiki Entry for GREP: https://en.wikipedia.org/wiki/Grep "
      ]
    },
    {
      "cell_type": "markdown",
      "metadata": {
        "id": "uKR2LCKZQOcZ"
      },
      "source": [
        "The following <strong>!grep</strong> command will find all rows for which the word Customer is present.  The output from this search will be placed into a file named Customer.csv in the /content/sample_data/ folder."
      ]
    },
    {
      "cell_type": "code",
      "metadata": {
        "id": "6PdYrvMUQ-3W"
      },
      "source": [
        "!grep 'Customer' /content/sample_data/*.csv > /content/sample_data/Customer.csv"
      ],
      "execution_count": 13,
      "outputs": []
    },
    {
      "cell_type": "markdown",
      "metadata": {
        "id": "Q-U-Ue4oWTYF"
      },
      "source": [
        "Next, get all the lines in Customer.csv file that have <strong>Central Park</strong> contained in either in the Start Station or End Station fields."
      ]
    },
    {
      "cell_type": "code",
      "metadata": {
        "id": "KJA83eOcWXbH"
      },
      "source": [
        "!grep 'Central Park' /content/sample_data/Customer.csv > /content/sample_data/Customer_CentralPark.csv"
      ],
      "execution_count": 14,
      "outputs": []
    },
    {
      "cell_type": "markdown",
      "metadata": {
        "id": "YaBrVzX9RZnA"
      },
      "source": [
        "A check of the number of records in the Customer_CentralPark.csv file. "
      ]
    },
    {
      "cell_type": "code",
      "metadata": {
        "colab": {
          "base_uri": "https://localhost:8080/"
        },
        "id": "eTxs-ho5WYBj",
        "outputId": "f5908ca9-060a-4342-fc53-bac140156633"
      },
      "source": [
        "!wc -l /content/sample_data/Customer_CentralPark.csv"
      ],
      "execution_count": 15,
      "outputs": [
        {
          "output_type": "stream",
          "text": [
            "358715 /content/sample_data/Customer_CentralPark.csv\n"
          ],
          "name": "stdout"
        }
      ]
    },
    {
      "cell_type": "markdown",
      "metadata": {
        "id": "3_WH4c0iXS1i"
      },
      "source": [
        "The two-step processing done above using !grep can be done with in a single step.  The syntax for the grep command must be modified so that a logicial <strong>AND</strong> is implemented.  This is accomplished through the use of the .* syntax."
      ]
    },
    {
      "cell_type": "code",
      "metadata": {
        "id": "ztVuBVe5XYxC"
      },
      "source": [
        "#Using the AND syntax with grep\r\n",
        "!grep 'Central Park.*Customer' /content/sample_data/*.csv > /content/sample_data/Customer_CentralPark_v2.csv"
      ],
      "execution_count": 16,
      "outputs": []
    },
    {
      "cell_type": "markdown",
      "metadata": {
        "id": "bCLAr2ubSfXq"
      },
      "source": [
        "Verify that the grep functions was successfully executed by retrieving the number of records in this version."
      ]
    },
    {
      "cell_type": "code",
      "metadata": {
        "colab": {
          "base_uri": "https://localhost:8080/"
        },
        "id": "soIZ5brpXnTr",
        "outputId": "bcd51885-7a5f-4075-d8ad-5f88fd139c55"
      },
      "source": [
        "!wc -l /content/sample_data/Customer_CentralPark_v2.csv"
      ],
      "execution_count": 18,
      "outputs": [
        {
          "output_type": "stream",
          "text": [
            "1076145 /content/sample_data/Customer_CentralPark_v2.csv\n"
          ],
          "name": "stdout"
        }
      ]
    },
    {
      "cell_type": "markdown",
      "metadata": {
        "id": "-UYCccHHSk3i"
      },
      "source": [
        "<strong>Note</strong>: Notice that this version contains *too many* lines (the number of records do *not* match the grep command that was done above).  This happened because the *.csv wildcard inadvertly included more than just the original data files.  The grep command should only be run on the orginal data files; thus, the wildcard must be modified."
      ]
    },
    {
      "cell_type": "code",
      "metadata": {
        "colab": {
          "base_uri": "https://localhost:8080/"
        },
        "id": "znc0pi-zYZbD",
        "outputId": "5406278c-f29f-4bcc-cea7-978fd18e33a5"
      },
      "source": [
        "!ls -l /content/sample_data/"
      ],
      "execution_count": 19,
      "outputs": [
        {
          "output_type": "stream",
          "text": [
            "total 5353544\n",
            "-rw-r--r-- 1 root root 346788777 Sep  6  2018 201805-citibike-tripdata.csv\n",
            "-rw-r--r-- 1 root root 364208046 Sep  6  2018 201807-citibike-tripdata.csv\n",
            "-rw-r--r-- 1 root root 357819814 Oct  3  2018 201809-citibike-tripdata.csv\n",
            "-rw-r--r-- 1 root root 367008111 Jun 11  2019 201905-citibike-tripdata.csv\n",
            "-rw-r--r-- 1 root root 415266713 Aug  5  2019 201907-citibike-tripdata.csv\n",
            "-rw-r--r-- 1 root root 464421401 Oct 11  2019 201909-citibike-tripdata.csv\n",
            "-rw-r--r-- 1 root root 283682921 Jun  5  2020 202005-citibike-tripdata.csv\n",
            "-rw-r--r-- 1 root root 399626762 Aug 12 01:42 202007-citibike-tripdata.csv\n",
            "-rw-r--r-- 1 root root 472984200 Oct 13 19:23 202009-citibike-tripdata.csv\n",
            "-rw-r--r-- 1 root root  89576977 Feb  3 17:37 Customer_CentralPark.csv\n",
            "-rw-r--r-- 1 root root 297428131 Feb  3 17:37 Customer_CentralPark_v2.csv\n",
            "-rw-r--r-- 1 root root 868379340 Feb  3 17:36 Customer.csv\n",
            "-rw-r--r-- 1 root root  63141848 Sep  6  2018 July2018.zip\n",
            "-rw-r--r-- 1 root root  93359147 Aug  5  2019 July2019.zip\n",
            "-rw-r--r-- 1 root root  94091098 Aug 12 02:13 July2020.zip\n",
            "-rw-r--r-- 1 root root  60398070 Sep  6  2018 May2018.zip\n",
            "-rw-r--r-- 1 root root  82176801 Jun 11  2019 May2019.zip\n",
            "-rw-r--r-- 1 root root  65378700 Jun  5  2020 May2020.zip\n",
            "-rw-r--r-- 1 root root  80091394 Oct  3  2018 September2018.zip\n",
            "-rw-r--r-- 1 root root 104185546 Oct 11  2019 September2019.zip\n",
            "-rw-r--r-- 1 root root 111931985 Oct 13 19:55 September2020.zip\n"
          ],
          "name": "stdout"
        }
      ]
    },
    {
      "cell_type": "markdown",
      "metadata": {
        "id": "QX2uEsHsSuo0"
      },
      "source": [
        "The following modification to the wildcard will resolve this issue."
      ]
    },
    {
      "cell_type": "code",
      "metadata": {
        "id": "sCVQsqXzk4ox"
      },
      "source": [
        "!grep 'Central Park.*Customer' /content/sample_data/*-tripdata.csv > /content/sample_data/Customer_CentralPark_v2.csv"
      ],
      "execution_count": 20,
      "outputs": []
    },
    {
      "cell_type": "markdown",
      "metadata": {
        "id": "0gisLlL_TFOd"
      },
      "source": [
        "Verify that the contents of this file matches that of what was done in the two-step process of filtering down to Customers and station locations near Central Park."
      ]
    },
    {
      "cell_type": "code",
      "metadata": {
        "colab": {
          "base_uri": "https://localhost:8080/"
        },
        "id": "bZ1svE42k_P2",
        "outputId": "5c10557b-450f-49b5-b8b2-9a58389cdfbe"
      },
      "source": [
        "!wc -l /content/sample_data/Customer_CentralPark_v2.csv"
      ],
      "execution_count": 21,
      "outputs": [
        {
          "output_type": "stream",
          "text": [
            "358715 /content/sample_data/Customer_CentralPark_v2.csv\n"
          ],
          "name": "stdout"
        }
      ]
    },
    {
      "cell_type": "markdown",
      "metadata": {
        "id": "jJq41lVWTSNt"
      },
      "source": [
        "Notice that the files are the same size which may provide evidence that the contents of the two file match.  A more formal method to compare two files is to use the !diff command."
      ]
    },
    {
      "cell_type": "code",
      "metadata": {
        "colab": {
          "base_uri": "https://localhost:8080/"
        },
        "id": "pki_iC1tX4JZ",
        "outputId": "e2be0eb8-43cc-44a6-b0c2-5b471785fb08"
      },
      "source": [
        "!ls -l /content/sample_data/Customer_CentralPark*"
      ],
      "execution_count": null,
      "outputs": [
        {
          "output_type": "stream",
          "text": [
            "-rw-r--r-- 1 root root 19513970 Feb  2 22:14 /content/sample_data/Customer_CentralPark.csv\n",
            "-rw-r--r-- 1 root root 19513970 Feb  2 22:14 /content/sample_data/Customer_CentralPark_v2.csv\n"
          ],
          "name": "stdout"
        }
      ]
    },
    {
      "cell_type": "markdown",
      "metadata": {
        "id": "2EQK2bQExK8C"
      },
      "source": [
        "<table width='100%' ><tr><td bgcolor='orange'></td></tr></table>\r\n",
        "\r\n",
        "### Aside -- Formally comparing two files with !diff"
      ]
    },
    {
      "cell_type": "markdown",
      "metadata": {
        "id": "i1FXMpC3eDrL"
      },
      "source": [
        "The </strong>!diff</strong> command is a formal method to compare the contents of two different files.  The output returned here is empty, which is good, as this indicates that the two files match exactly.\r\n"
      ]
    },
    {
      "cell_type": "code",
      "metadata": {
        "id": "xmE4-fbHZD6k"
      },
      "source": [
        "!diff /content/sample_data/Customer_CentralPark_v2.csv /content/sample_data/Customer_CentralPark.csv"
      ],
      "execution_count": 22,
      "outputs": []
    },
    {
      "cell_type": "markdown",
      "metadata": {
        "id": "QEmbCizLxS11"
      },
      "source": [
        "<table width='100%' ><tr><td bgcolor='orange'></td></tr></table>"
      ]
    },
    {
      "cell_type": "markdown",
      "metadata": {
        "id": "m-xc_Qmtyt3e"
      },
      "source": [
        "### Using GREP to Get the Desired Dates\r\n"
      ]
    },
    {
      "cell_type": "markdown",
      "metadata": {
        "id": "3D5RpJ9qefWk"
      },
      "source": [
        "The Customer_CentralPark.csv file contains bike rentals from customers who either initated or returned a bike from a station whose name includes Central Park. \r\n",
        "\r\n",
        "The next task is to select only the rentals from the desired dates.  The following code will be used to extract the July 04 dates."
      ]
    },
    {
      "cell_type": "code",
      "metadata": {
        "colab": {
          "base_uri": "https://localhost:8080/"
        },
        "id": "5LM-6es6ee9r",
        "outputId": "06dc622a-f65d-4c49-8dc0-2fb14fe1bf8a"
      },
      "source": [
        "!grep '-07-04' /content/sample_data/Customer_CentralPark.csv > /content/sample_data/Customer_CentralPark_Holidays.csv"
      ],
      "execution_count": 23,
      "outputs": [
        {
          "output_type": "stream",
          "text": [
            "grep: invalid option -- '-'\n",
            "Usage: grep [OPTION]... PATTERN [FILE]...\n",
            "Try 'grep --help' for more information.\n"
          ],
          "name": "stdout"
        }
      ]
    },
    {
      "cell_type": "markdown",
      "metadata": {
        "id": "L8yrYRWcT0xB"
      },
      "source": [
        "The initial dash is causing problems as GREP thinks this is an actual commnand and not the dash character. At times, it is necessary to <strong>escapulate</strong> a character in grep.  This is done using the backslash as is shown below."
      ]
    },
    {
      "cell_type": "code",
      "metadata": {
        "id": "-64YXnsZlkvn"
      },
      "source": [
        "!grep '\\-07-04' /content/sample_data/Customer_CentralPark.csv > /content/sample_data/Customer_CentralPark_Holidays.csv"
      ],
      "execution_count": 24,
      "outputs": []
    },
    {
      "cell_type": "markdown",
      "metadata": {
        "id": "fFN-npBpUAQW"
      },
      "source": [
        "Let us check how many rentals we have for the fourth of July across all three years."
      ]
    },
    {
      "cell_type": "code",
      "metadata": {
        "colab": {
          "base_uri": "https://localhost:8080/"
        },
        "id": "N6vcSi1qhhKY",
        "outputId": "27444490-dbd4-415a-96c9-c43b078d18bb"
      },
      "source": [
        "!wc -l /content/sample_data/Customer_CentralPark_Holidays.csv"
      ],
      "execution_count": 25,
      "outputs": [
        {
          "output_type": "stream",
          "text": [
            "6074 /content/sample_data/Customer_CentralPark_Holidays.csv\n"
          ],
          "name": "stdout"
        }
      ]
    },
    {
      "cell_type": "markdown",
      "metadata": {
        "id": "dp-bFOwUULpA"
      },
      "source": [
        "Next, the grep command is modified to filter out bike rentals from May 28, 2018."
      ]
    },
    {
      "cell_type": "code",
      "metadata": {
        "id": "QMhvPqM1lxUw"
      },
      "source": [
        "!grep '2018-05-28' /content/sample_data/Customer_CentralPark.csv > /content/sample_data/Customer_CentralPark_Holidays.csv"
      ],
      "execution_count": 26,
      "outputs": []
    },
    {
      "cell_type": "markdown",
      "metadata": {
        "id": "wEAkLEzLURDI"
      },
      "source": [
        "Again, a simple count of the records in this file."
      ]
    },
    {
      "cell_type": "code",
      "metadata": {
        "colab": {
          "base_uri": "https://localhost:8080/"
        },
        "id": "66NODJB3l3Yx",
        "outputId": "7f1c29dc-8f11-487f-f877-5059752e700c"
      },
      "source": [
        "!wc -l /content/sample_data/Customer_CentralPark_Holidays.csv"
      ],
      "execution_count": 27,
      "outputs": [
        {
          "output_type": "stream",
          "text": [
            "2048 /content/sample_data/Customer_CentralPark_Holidays.csv\n"
          ],
          "name": "stdout"
        }
      ]
    },
    {
      "cell_type": "markdown",
      "metadata": {
        "id": "GlhOsJ0AUVud"
      },
      "source": [
        "A logical <strong>OR</strong> will be needed in order to select more than one date in the search through the data file.  The vertical bar , i.e. | , is used to represent OR in grep.  The following will search the Customer_CentralPark.csv and filter out rentals that occured on July 4th (of any year) OR rentals from May 28, 2018."
      ]
    },
    {
      "cell_type": "code",
      "metadata": {
        "id": "MOhZbLU2l53L"
      },
      "source": [
        "!grep -E '\\-07-04|2018-05-28' /content/sample_data/Customer_CentralPark.csv > /content/sample_data/Customer_CentralPark_Holidays.csv"
      ],
      "execution_count": 28,
      "outputs": []
    },
    {
      "cell_type": "markdown",
      "metadata": {
        "id": "qxedBTn20xyp"
      },
      "source": [
        "Let us verify that the grep command was successful. The <strong>!shuf</strong> command randomly suffles the rows within a file.  The -n 20 options tells shuf to show a random selection of 20 rows.  "
      ]
    },
    {
      "cell_type": "code",
      "metadata": {
        "id": "gokgOjbb030X"
      },
      "source": [
        "!tail -n 20 /content/sample_data/Customer_CentralPark_Holidays.csv "
      ],
      "execution_count": null,
      "outputs": []
    },
    {
      "cell_type": "markdown",
      "metadata": {
        "id": "-W4LHRrWUnvX"
      },
      "source": [
        "The following extension of the grep command will be used to get all the bike rentals for each of the summer holidays across the three years."
      ]
    },
    {
      "cell_type": "code",
      "metadata": {
        "id": "_wIW7YJWmMGC"
      },
      "source": [
        "!grep -E '\\-07-04|2018-05-28|2019-05-27|2020-05-25|2018-09-03|2019-09-02|2020-09-07' /content/sample_data/Customer_CentralPark.csv > /content/sample_data/Customer_CentralPark_Holidays.csv"
      ],
      "execution_count": 30,
      "outputs": []
    },
    {
      "cell_type": "code",
      "metadata": {
        "colab": {
          "base_uri": "https://localhost:8080/"
        },
        "id": "dPqP9BMLmOKx",
        "outputId": "af9cd04e-23bd-4fe2-bbd9-bd10e2349d90"
      },
      "source": [
        "#Verify the nubmer of lines in this file\r\n",
        "!wc -l /content/sample_data/Customer_CentralPark_Holidays.csv"
      ],
      "execution_count": 31,
      "outputs": [
        {
          "output_type": "stream",
          "text": [
            "19724 /content/sample_data/Customer_CentralPark_Holidays.csv\n"
          ],
          "name": "stdout"
        }
      ]
    },
    {
      "cell_type": "markdown",
      "metadata": {
        "id": "POdMsiFao8HA"
      },
      "source": [
        "Again, a random selection of rows to verify condidtions have been meet.  Here 50 rows are being randomly selected from this data file."
      ]
    },
    {
      "cell_type": "code",
      "metadata": {
        "id": "j11VsZxamg8X"
      },
      "source": [
        "!shuf -n 50 /content/sample_data/Customer_CentralPark_Holidays.csv "
      ],
      "execution_count": null,
      "outputs": []
    },
    {
      "cell_type": "markdown",
      "metadata": {
        "id": "9ahm_fVY2eqM"
      },
      "source": [
        "### Getting a Header"
      ]
    },
    {
      "cell_type": "markdown",
      "metadata": {
        "id": "_W6IOXH_2nQD"
      },
      "source": [
        "Even though the original data files have a row that contains the field names, this informaiton was lost through the use of the grep command.  There are two options regarding adding a header.\r\n",
        "\r\n",
        "\r\n",
        "1.   Use SED and create a header from scratch, or\r\n",
        "2.   Steal the header from one of the original data files\r\n",
        "\r\n",
        "Option #2 will be used here.  The following command takes the 1st line from one of the original data files and puts these variable names into a filed named Header.csv.\r\n"
      ]
    },
    {
      "cell_type": "code",
      "metadata": {
        "id": "w47HLP1nriST"
      },
      "source": [
        "!head -n 1 /content/sample_data/201805-citibike-tripdata.csv > /content/sample_data/Header.csv"
      ],
      "execution_count": 33,
      "outputs": []
    },
    {
      "cell_type": "markdown",
      "metadata": {
        "id": "MqOgFh50rqk1"
      },
      "source": [
        "Next, verify tha the header has been successfully save into this file."
      ]
    },
    {
      "cell_type": "code",
      "metadata": {
        "colab": {
          "base_uri": "https://localhost:8080/"
        },
        "id": "4ywu-R0wrsI8",
        "outputId": "7e9289b8-c7f1-4e08-f2de-a49274cfad5d"
      },
      "source": [
        "!cat /content/sample_data/Header.csv "
      ],
      "execution_count": 34,
      "outputs": [
        {
          "output_type": "stream",
          "text": [
            "\"tripduration\",\"starttime\",\"stoptime\",\"start station id\",\"start station name\",\"start station latitude\",\"start station longitude\",\"end station id\",\"end station name\",\"end station latitude\",\"end station longitude\",\"bikeid\",\"usertype\",\"birth year\",\"gender\"\n"
          ],
          "name": "stdout"
        }
      ]
    },
    {
      "cell_type": "markdown",
      "metadata": {
        "id": "TPDihnsftt7G"
      },
      "source": [
        "R does not play well with spaces in the variable names. Thus, let's use SED to replace all spaces in field names with an underscore.  The -i option indicates that in-place editing will be used, i.e. the contents will be saved into the current file. "
      ]
    },
    {
      "cell_type": "code",
      "metadata": {
        "id": "IFiE8EbhtuDd"
      },
      "source": [
        "!sed -i '1s/ /_/g' /content/sample_data/Header.csv "
      ],
      "execution_count": 35,
      "outputs": []
    },
    {
      "cell_type": "markdown",
      "metadata": {
        "id": "RCVGXx9t3v_l"
      },
      "source": [
        "Verify that the sed command above successfully replaced the spaces with an underscore character."
      ]
    },
    {
      "cell_type": "code",
      "metadata": {
        "colab": {
          "base_uri": "https://localhost:8080/"
        },
        "id": "15tfviV9uAGX",
        "outputId": "b0730dd0-fc3c-425f-d50c-d133f7533e35"
      },
      "source": [
        "!cat /content/sample_data/Header.csv "
      ],
      "execution_count": 36,
      "outputs": [
        {
          "output_type": "stream",
          "text": [
            "\"tripduration\",\"starttime\",\"stoptime\",\"start_station_id\",\"start_station_name\",\"start_station_latitude\",\"start_station_longitude\",\"end_station_id\",\"end_station_name\",\"end_station_latitude\",\"end_station_longitude\",\"bikeid\",\"usertype\",\"birth_year\",\"gender\"\n"
          ],
          "name": "stdout"
        }
      ]
    },
    {
      "cell_type": "markdown",
      "metadata": {
        "id": "WqiRTd8qsAo3"
      },
      "source": [
        "The <strong>!cat</strong> command allows the contents of two or more files to be appended together.  The first file is placed at the top, the next file is appended below the first, etc.  Here, the header should be placed at the top, followed by the contents of the data file. "
      ]
    },
    {
      "cell_type": "code",
      "metadata": {
        "id": "DBOf_hJFsC5N"
      },
      "source": [
        "!cat /content/sample_data/Header.csv /content/sample_data/Customer_CentralPark_Holidays.csv > /content/sample_data/Customer_CentralPark_Holidays_withHeader.csv "
      ],
      "execution_count": 37,
      "outputs": []
    },
    {
      "cell_type": "markdown",
      "metadata": {
        "id": "lEl9dGsksTBW"
      },
      "source": [
        "Use head to make sure the two files were properly appended together. "
      ]
    },
    {
      "cell_type": "code",
      "metadata": {
        "colab": {
          "base_uri": "https://localhost:8080/"
        },
        "id": "gw9C-ELdsUgx",
        "outputId": "273a0bcc-423c-4282-dc52-fcca6ab02366"
      },
      "source": [
        "!head /content/sample_data/Customer_CentralPark_Holidays_withHeader.csv"
      ],
      "execution_count": 38,
      "outputs": [
        {
          "output_type": "stream",
          "text": [
            "\"tripduration\",\"starttime\",\"stoptime\",\"start_station_id\",\"start_station_name\",\"start_station_latitude\",\"start_station_longitude\",\"end_station_id\",\"end_station_name\",\"end_station_latitude\",\"end_station_longitude\",\"bikeid\",\"usertype\",\"birth_year\",\"gender\"\n",
            "/content/sample_data/201805-citibike-tripdata.csv:1850,\"2018-05-28 12:59:49.5320\",\"2018-05-28 13:30:40.0560\",72,\"W 52 St & 11 Ave\",40.76727216,-73.99392888,2006,\"Central Park S & 6 Ave\",40.76590936,-73.97634151,30028,\"Customer\",1969,0\n",
            "/content/sample_data/201805-citibike-tripdata.csv:1513,\"2018-05-28 13:27:45.5860\",\"2018-05-28 13:52:58.9950\",72,\"W 52 St & 11 Ave\",40.76727216,-73.99392888,3226,\"W 82 St & Central Park West\",40.78275,-73.97137,17715,\"Customer\",1969,0\n",
            "/content/sample_data/201805-citibike-tripdata.csv:1485,\"2018-05-28 13:28:06.1480\",\"2018-05-28 13:52:51.9910\",72,\"W 52 St & 11 Ave\",40.76727216,-73.99392888,3226,\"W 82 St & Central Park West\",40.78275,-73.97137,21809,\"Customer\",1969,0\n",
            "/content/sample_data/201805-citibike-tripdata.csv:2274,\"2018-05-28 14:44:56.0750\",\"2018-05-28 15:22:50.7010\",128,\"MacDougal St & Prince St\",40.72710258,-74.00297088,2006,\"Central Park S & 6 Ave\",40.76590936,-73.97634151,28536,\"Customer\",1995,1\n",
            "/content/sample_data/201805-citibike-tripdata.csv:2268,\"2018-05-28 14:45:01.5460\",\"2018-05-28 15:22:49.7980\",128,\"MacDougal St & Prince St\",40.72710258,-74.00297088,2006,\"Central Park S & 6 Ave\",40.76590936,-73.97634151,28122,\"Customer\",1995,1\n",
            "/content/sample_data/201805-citibike-tripdata.csv:1449,\"2018-05-28 13:27:07.6770\",\"2018-05-28 13:51:16.8360\",167,\"E 39 St & 3 Ave\",40.7489006,-73.97604882,2006,\"Central Park S & 6 Ave\",40.76590936,-73.97634151,15404,\"Customer\",1969,0\n",
            "/content/sample_data/201805-citibike-tripdata.csv:1246,\"2018-05-28 00:28:54.3860\",\"2018-05-28 00:49:40.4280\",173,\"Broadway & W 49 St\",40.76068327096592,-73.9845272898674,3320,\"Central Park West & W 100 St\",40.79406660818552,-73.96286845207214,28077,\"Customer\",1969,0\n",
            "/content/sample_data/201805-citibike-tripdata.csv:733,\"2018-05-28 12:16:45.3380\",\"2018-05-28 12:28:58.3690\",173,\"Broadway & W 49 St\",40.76068327096592,-73.9845272898674,281,\"Grand Army Plaza & Central Park S\",40.7643971,-73.97371465,29632,\"Customer\",1969,0\n",
            "/content/sample_data/201805-citibike-tripdata.csv:647,\"2018-05-28 12:18:03.5980\",\"2018-05-28 12:28:51.5770\",173,\"Broadway & W 49 St\",40.76068327096592,-73.9845272898674,281,\"Grand Army Plaza & Central Park S\",40.7643971,-73.97371465,24985,\"Customer\",1969,0\n"
          ],
          "name": "stdout"
        }
      ]
    },
    {
      "cell_type": "markdown",
      "metadata": {
        "id": "7pp44TL5qZrJ"
      },
      "source": [
        "## Reading data into R"
      ]
    },
    {
      "cell_type": "markdown",
      "metadata": {
        "id": "OXX9Hxpt4iZU"
      },
      "source": [
        "This is a iPython Notebook; thus, set up R Magic so that R can be run in subsequent code blocks."
      ]
    },
    {
      "cell_type": "code",
      "metadata": {
        "colab": {
          "base_uri": "https://localhost:8080/"
        },
        "id": "sPExDhbcqaEU",
        "outputId": "ec35166b-5f06-4e83-c613-49be62bb9b6b"
      },
      "source": [
        "%load_ext rpy2.ipython"
      ],
      "execution_count": 39,
      "outputs": [
        {
          "output_type": "stream",
          "text": [
            "/usr/local/lib/python3.6/dist-packages/rpy2/robjects/pandas2ri.py:14: FutureWarning: pandas.core.index is deprecated and will be removed in a future version.  The public classes are available in the top-level namespace.\n",
            "  from pandas.core.index import Index as PandasIndex\n",
            "/usr/local/lib/python3.6/dist-packages/rpy2/robjects/pandas2ri.py:34: UserWarning: pandas >= 1.0 is not supported.\n",
            "  warnings.warn('pandas >= 1.0 is not supported.')\n"
          ],
          "name": "stderr"
        }
      ]
    },
    {
      "cell_type": "markdown",
      "metadata": {
        "id": "8QJi4sP5tPDH"
      },
      "source": [
        "The tidyverse package will be used for the managment of the data.frame and plotting in R."
      ]
    },
    {
      "cell_type": "code",
      "metadata": {
        "id": "nUZbp7x-tPQQ"
      },
      "source": [
        "%%R\r\n",
        "library(tidyverse)"
      ],
      "execution_count": null,
      "outputs": []
    },
    {
      "cell_type": "code",
      "metadata": {
        "colab": {
          "base_uri": "https://localhost:8080/"
        },
        "id": "Z2cj7iglqePh",
        "outputId": "f1a70057-d3ae-43d9-c560-644f7b2180a6"
      },
      "source": [
        "#Read the *.csv file into R; provide names for each field as well\r\n",
        "%%R\r\n",
        "\r\n",
        "NYC_Holidays_CitiBikeRentals <- read_csv('/content/sample_data/Customer_CentralPark_Holidays_withHeader.csv')"
      ],
      "execution_count": 41,
      "outputs": [
        {
          "output_type": "stream",
          "text": [
            "R[write to console]: \n",
            "── Column specification ────────────────────────────────────────────────────────\n",
            "cols(\n",
            "  tripduration = col_character(),\n",
            "  starttime = col_datetime(format = \"\"),\n",
            "  stoptime = col_datetime(format = \"\"),\n",
            "  start_station_id = col_double(),\n",
            "  start_station_name = col_character(),\n",
            "  start_station_latitude = col_double(),\n",
            "  start_station_longitude = col_double(),\n",
            "  end_station_id = col_double(),\n",
            "  end_station_name = col_character(),\n",
            "  end_station_latitude = col_double(),\n",
            "  end_station_longitude = col_double(),\n",
            "  bikeid = col_double(),\n",
            "  usertype = col_character(),\n",
            "  birth_year = col_double(),\n",
            "  gender = col_double()\n",
            ")\n",
            "\n",
            "\n"
          ],
          "name": "stderr"
        }
      ]
    },
    {
      "cell_type": "markdown",
      "metadata": {
        "id": "h-dZtNe6tAD1"
      },
      "source": [
        "Next, consider the structure of the data.frame read in by the read_csv() function from the tidyverse package in R.  Note that the startime and stoptime are designated as date fields (not strings).  The POSIXct is a special specification for dates.  R (and other software packages) will take advantage of this structure when manipulating date fields. "
      ]
    },
    {
      "cell_type": "code",
      "metadata": {
        "colab": {
          "base_uri": "https://localhost:8080/"
        },
        "id": "8w5XwDc9tArI",
        "outputId": "8f3949a7-d629-4530-d6c8-641b25b2ca63"
      },
      "source": [
        "%%R\r\n",
        "str(NYC_Holidays_CitiBikeRentals)"
      ],
      "execution_count": 42,
      "outputs": [
        {
          "output_type": "stream",
          "text": [
            "spec_tbl_df [19,724 × 15] (S3: spec_tbl_df/tbl_df/tbl/data.frame)\n",
            " $ tripduration           : chr [1:19724] \"/content/sample_data/201805-citibike-tripdata.csv:1850\" \"/content/sample_data/201805-citibike-tripdata.csv:1513\" \"/content/sample_data/201805-citibike-tripdata.csv:1485\" \"/content/sample_data/201805-citibike-tripdata.csv:2274\" ...\n",
            " $ starttime              : POSIXct[1:19724], format: \"2018-05-28 12:59:49\" \"2018-05-28 13:27:45\" ...\n",
            " $ stoptime               : POSIXct[1:19724], format: \"2018-05-28 13:30:40\" \"2018-05-28 13:52:58\" ...\n",
            " $ start_station_id       : num [1:19724] 72 72 72 128 128 167 173 173 173 173 ...\n",
            " $ start_station_name     : chr [1:19724] \"W 52 St & 11 Ave\" \"W 52 St & 11 Ave\" \"W 52 St & 11 Ave\" \"MacDougal St & Prince St\" ...\n",
            " $ start_station_latitude : num [1:19724] 40.8 40.8 40.8 40.7 40.7 ...\n",
            " $ start_station_longitude: num [1:19724] -74 -74 -74 -74 -74 ...\n",
            " $ end_station_id         : num [1:19724] 2006 3226 3226 2006 2006 ...\n",
            " $ end_station_name       : chr [1:19724] \"Central Park S & 6 Ave\" \"W 82 St & Central Park West\" \"W 82 St & Central Park West\" \"Central Park S & 6 Ave\" ...\n",
            " $ end_station_latitude   : num [1:19724] 40.8 40.8 40.8 40.8 40.8 ...\n",
            " $ end_station_longitude  : num [1:19724] -74 -74 -74 -74 -74 ...\n",
            " $ bikeid                 : num [1:19724] 30028 17715 21809 28536 28122 ...\n",
            " $ usertype               : chr [1:19724] \"Customer\" \"Customer\" \"Customer\" \"Customer\" ...\n",
            " $ birth_year             : num [1:19724] 1969 1969 1969 1995 1995 ...\n",
            " $ gender                 : num [1:19724] 0 0 0 1 1 0 0 0 0 0 ...\n",
            " - attr(*, \"spec\")=\n",
            "  .. cols(\n",
            "  ..   tripduration = col_character(),\n",
            "  ..   starttime = col_datetime(format = \"\"),\n",
            "  ..   stoptime = col_datetime(format = \"\"),\n",
            "  ..   start_station_id = col_double(),\n",
            "  ..   start_station_name = col_character(),\n",
            "  ..   start_station_latitude = col_double(),\n",
            "  ..   start_station_longitude = col_double(),\n",
            "  ..   end_station_id = col_double(),\n",
            "  ..   end_station_name = col_character(),\n",
            "  ..   end_station_latitude = col_double(),\n",
            "  ..   end_station_longitude = col_double(),\n",
            "  ..   bikeid = col_double(),\n",
            "  ..   usertype = col_character(),\n",
            "  ..   birth_year = col_double(),\n",
            "  ..   gender = col_double()\n",
            "  .. )\n"
          ],
          "name": "stdout"
        }
      ]
    },
    {
      "cell_type": "markdown",
      "metadata": {
        "id": "NVQrskwwvRBV"
      },
      "source": [
        "Consider the use of the <strong>format()</strong> function in R.  The following can be used to obtain the Year and Month from the startime field in R.  The output returned from the format() function are placed into new fields in the NYC_Holidays_CitiBikeRentals data.frame."
      ]
    },
    {
      "cell_type": "code",
      "metadata": {
        "id": "LBzHDKglvRPV"
      },
      "source": [
        "%%R\r\n",
        "\r\n",
        "NYC_Holidays_CitiBikeRentals$Year <- format(NYC_Holidays_CitiBikeRentals$starttime, format=\"%Y\")\r\n",
        "NYC_Holidays_CitiBikeRentals$Month <- format(NYC_Holidays_CitiBikeRentals$starttime, format=\"%m\")\r\n",
        "\r\n",
        "cat(\"\\n\")\r\n",
        "cat(\"\\n\")\r\n",
        "cat(\"Notice the addition of the two new fields in this data.frame, i.e. Year and Month\\n\\n\")\r\n",
        "str(NYC_Holidays_CitiBikeRentals)"
      ],
      "execution_count": null,
      "outputs": []
    },
    {
      "cell_type": "markdown",
      "metadata": {
        "id": "x67WtX_AAvC_"
      },
      "source": [
        "Let us review the contents of columns 2 and 13 through 17 for the first few rows of the resulting data.frame."
      ]
    },
    {
      "cell_type": "code",
      "metadata": {
        "colab": {
          "base_uri": "https://localhost:8080/"
        },
        "id": "QADMi_XsA3Fs",
        "outputId": "32557814-2337-4d9f-aaeb-600c238c8e77"
      },
      "source": [
        "#The followoing variation of the head command can be used to show only specific columns of a data.frame.\r\n",
        "%%R\r\n",
        "\r\n",
        "head(NYC_Holidays_CitiBikeRentals[,c(2,13:17)])"
      ],
      "execution_count": 57,
      "outputs": [
        {
          "output_type": "stream",
          "text": [
            "# A tibble: 6 x 6\n",
            "  starttime           usertype birth_year gender Year  Month\n",
            "  <dttm>              <chr>         <dbl>  <dbl> <chr> <chr>\n",
            "1 2018-05-28 12:59:49 Customer       1969      0 2018  05   \n",
            "2 2018-05-28 13:27:45 Customer       1969      0 2018  05   \n",
            "3 2018-05-28 13:28:06 Customer       1969      0 2018  05   \n",
            "4 2018-05-28 14:44:56 Customer       1995      1 2018  05   \n",
            "5 2018-05-28 14:45:01 Customer       1995      1 2018  05   \n",
            "6 2018-05-28 13:27:07 Customer       1969      0 2018  05   \n"
          ],
          "name": "stdout"
        }
      ]
    },
    {
      "cell_type": "markdown",
      "metadata": {
        "id": "537GXROqBQNZ"
      },
      "source": [
        "<strong>Questions</strong>:  \r\n",
        "\r\n",
        "1. Consider the use of the format() function above, change the %Y to %y.  How does this influence the output returned by this function?  Discuss.\r\n",
        "2. Again, consider the use of the format() function above, change the %M to %m.  How does thsi influence the output returned by this function?  Discuss."
      ]
    },
    {
      "cell_type": "markdown",
      "metadata": {
        "id": "qRko1Pbsxs7J"
      },
      "source": [
        "## Getting the Necessary Counts"
      ]
    },
    {
      "cell_type": "markdown",
      "metadata": {
        "id": "VHKOurtI6SGk"
      },
      "source": [
        "The following sequnce of R commands will compute a count for each summer holiday for each of the three years.  Make note of the bracketing, i.e. (), which is anologous to the bracketing used in the BASH code above. "
      ]
    },
    {
      "cell_type": "code",
      "metadata": {
        "colab": {
          "base_uri": "https://localhost:8080/"
        },
        "id": "F1DRVj7cxtC2",
        "outputId": "01b4444e-f969-43a8-f4dc-755459d82591"
      },
      "source": [
        "%%R\r\n",
        "\r\n",
        "( NYC_Holidays_CitiBikeRentals\r\n",
        "  %>% group_by(Year, Month)\r\n",
        "  %>% summarise(Count = n())\r\n",
        ") -> NYC_Holidays_CitiBikeRentals_Counts"
      ],
      "execution_count": 58,
      "outputs": [
        {
          "output_type": "stream",
          "text": [
            "R[write to console]: `summarise()` has grouped output by 'Year'. You can override using the `.groups` argument.\n",
            "\n"
          ],
          "name": "stderr"
        }
      ]
    },
    {
      "cell_type": "markdown",
      "metadata": {
        "id": "faxexpJa7G59"
      },
      "source": [
        "Taking a look at the contents of the resulting data.frame from the sequence of dplyr commands above."
      ]
    },
    {
      "cell_type": "code",
      "metadata": {
        "colab": {
          "base_uri": "https://localhost:8080/"
        },
        "id": "p71HiiCHyldA",
        "outputId": "a261aa1b-c452-4def-9ddd-06e2dafbf62e"
      },
      "source": [
        "%%R\r\n",
        "NYC_Holidays_CitiBikeRentals_Counts"
      ],
      "execution_count": 60,
      "outputs": [
        {
          "output_type": "stream",
          "text": [
            "# A tibble: 9 x 3\n",
            "# Groups:   Year [3]\n",
            "  Year  Month Count\n",
            "  <chr> <chr> <int>\n",
            "1 2018  05     2048\n",
            "2 2018  07     1750\n",
            "3 2018  09     2362\n",
            "4 2019  05     3236\n",
            "5 2019  07     2220\n",
            "6 2019  09      970\n",
            "7 2020  05     2472\n",
            "8 2020  07     2104\n",
            "9 2020  09     2562\n"
          ],
          "name": "stdout"
        }
      ]
    },
    {
      "cell_type": "markdown",
      "metadata": {
        "id": "qKovQ0Bry3HC"
      },
      "source": [
        "## Creating the Graph"
      ]
    },
    {
      "cell_type": "markdown",
      "metadata": {
        "id": "h278oZux7Xps"
      },
      "source": [
        "The <strong>ggplot()</strong> function in R is the most common plotting routine currently being implemented in R.  The following ggplot() code will be used to create a side-by-side bar graph of the counts.\r\n",
        "\r\n",
        "<strong>Note</strong>: The \"+\" symbol is the pipping character in ggplot and is used to chain commands together.  The piping character in ggplot must be placed at the end of the line."
      ]
    },
    {
      "cell_type": "markdown",
      "metadata": {
        "id": "fa7J9Dg8C1s3"
      },
      "source": [
        "The following code accomplishes the following:\r\n",
        "\r\n",
        "\r\n",
        "1.   Line 3 specifies that the data from the NYC_Holidays_CitiBikeRentals_Counts data.frame should be used for plotting\r\n",
        "2.   Line 4 provides the specifications for the plot, e.g. what is the x-axis, y-axis, etc.\r\n",
        "3.  Line 5 specifies that a columns are to be used; the 'dodge' indicates that a side-by-side column graph should constructed\r\n",
        "4.  The last specifes that type of theme to be used\r\n",
        "\r\n"
      ]
    },
    {
      "cell_type": "code",
      "metadata": {
        "colab": {
          "base_uri": "https://localhost:8080/",
          "height": 497
        },
        "id": "rVPcSbPvy3O6",
        "outputId": "3ba29b00-d192-482c-8094-c2964d91c1fc"
      },
      "source": [
        "%%R\r\n",
        "\r\n",
        "NYC_Holidays_CitiBikeRentals_Counts %>%\r\n",
        " ggplot(aes(x = Month, y = Count, fill=Year)) + \r\n",
        "  geom_col(position='dodge') +\r\n",
        "  theme_light()  #the theme_light simply reduces the default background created by ggplot"
      ],
      "execution_count": 61,
      "outputs": [
        {
          "output_type": "display_data",
          "data": {
            "image/png": "[encoded data removed]"
          },
          "metadata": {
            "tags": []
          }
        }
      ]
    },
    {
      "cell_type": "markdown",
      "metadata": {
        "id": "sb7DiE9-0GI9"
      },
      "source": [
        "The following use of the mutate() function allows for the recoding of months into the actual names of the Holidays."
      ]
    },
    {
      "cell_type": "code",
      "metadata": {
        "colab": {
          "base_uri": "https://localhost:8080/"
        },
        "id": "wr5dlfn00GTt",
        "outputId": "2cd5a9c9-fb07-4ec5-eb99-edf7f38f4d86"
      },
      "source": [
        "%%R\r\n",
        "(\r\n",
        "NYC_Holidays_CitiBikeRentals_Counts\r\n",
        " %>% mutate(Holiday = case_when(Month == \"05\" ~ \"Memorial Day\", Month == \"07\" ~ \"Independence Day\", Month == \"09\" ~ \"Labor Day\"))\r\n",
        ") -> NYC_Holidays_CitiBikeRentals_Counts\r\n",
        "\r\n",
        "head(NYC_Holidays_CitiBikeRentals_Counts)"
      ],
      "execution_count": 62,
      "outputs": [
        {
          "output_type": "stream",
          "text": [
            "# A tibble: 6 x 4\n",
            "# Groups:   Year [2]\n",
            "  Year  Month Count Holiday         \n",
            "  <chr> <chr> <int> <chr>           \n",
            "1 2018  05     2048 Memorial Day    \n",
            "2 2018  07     1750 Independence Day\n",
            "3 2018  09     2362 Labor Day       \n",
            "4 2019  05     3236 Memorial Day    \n",
            "5 2019  07     2220 Independence Day\n",
            "6 2019  09      970 Labor Day       \n"
          ],
          "name": "stdout"
        }
      ]
    },
    {
      "cell_type": "markdown",
      "metadata": {
        "id": "AWVQtceq1JEq"
      },
      "source": [
        "Here, the side-by-side column graph is recreating using the Holiday variable instead of months."
      ]
    },
    {
      "cell_type": "code",
      "metadata": {
        "colab": {
          "base_uri": "https://localhost:8080/",
          "height": 497
        },
        "id": "SoDPWbKa1JMe",
        "outputId": "2c8fed3c-69f0-4181-ec38-e36f5413faba"
      },
      "source": [
        "%%R\r\n",
        "\r\n",
        "NYC_Holidays_CitiBikeRentals_Counts %>%\r\n",
        " ggplot(aes(x = Holiday, y = Count, fill=Year)) +\r\n",
        "  geom_col(position='dodge') +\r\n",
        "  theme_light()  \r\n",
        "  "
      ],
      "execution_count": 63,
      "outputs": [
        {
          "output_type": "display_data",
          "data": {
            "image/png": "[encoded data removed]"
          },
          "metadata": {
            "tags": []
          }
        }
      ]
    },
    {
      "cell_type": "markdown",
      "metadata": {
        "id": "Tx0MwUF22nkR"
      },
      "source": [
        "Conider the addition of Line 4.  The fct_relevel() function allows the factor levels of Holiday to be arranaged in a particular order.  Notice above, the order in which the factor levels were plotted was alphabetical.  "
      ]
    },
    {
      "cell_type": "code",
      "metadata": {
        "colab": {
          "base_uri": "https://localhost:8080/",
          "height": 497
        },
        "id": "LK_8InxK2nqT",
        "outputId": "320ae020-0213-4466-dec3-cc1aace4767c"
      },
      "source": [
        "%%R\r\n",
        "\r\n",
        "NYC_Holidays_CitiBikeRentals_Counts %>%\r\n",
        " mutate(Holiday = fct_relevel(Holiday, c(\"Memorial Day\",\"Independence Day\",\"Labor Day\"))) %>%\r\n",
        " ggplot(aes(x = Holiday, y = Count, fill=Year)) +\r\n",
        "  geom_col(position='dodge') +\r\n",
        "  theme_light() \r\n",
        "  "
      ],
      "execution_count": 66,
      "outputs": [
        {
          "output_type": "display_data",
          "data": {
            "image/png": "[encoded data removed]"
          },
          "metadata": {
            "tags": []
          }
        }
      ]
    },
    {
      "cell_type": "markdown",
      "metadata": {
        "id": "IDcEg_Vc62-w"
      },
      "source": [
        "The following code includes several additional specifications for the side-by-side column graph created by ggplot()."
      ]
    },
    {
      "cell_type": "code",
      "metadata": {
        "colab": {
          "base_uri": "https://localhost:8080/",
          "height": 497
        },
        "id": "O-cxQgW963Ir",
        "outputId": "553380b6-ed9e-4910-cda4-4fe6aaaeecaf"
      },
      "source": [
        "%%R\r\n",
        "\r\n",
        "NYC_Holidays_CitiBikeRentals_Counts %>%\r\n",
        "  mutate(Holiday = fct_relevel(Holiday, c(\"Memorial Day\",\"Independence Day\",\"Labor Day\"))) %>%\r\n",
        "  ggplot(aes(x = Year, y = Count,fill=Month)) +\r\n",
        "    geom_col(position='dodge')  +\r\n",
        "    facet_grid(~Holiday,         # Makes panels for the Holidays\r\n",
        "             switch = \"x\") +     # Puts the panel labels on the x-axis                         \r\n",
        "    ggtitle(\"NYC CikiBike Rentals for Summer Holidays\") +  #Give the plot a title\r\n",
        "    theme(legend.position = \"none\",           # Do not print a legend for the plot\r\n",
        "          panel.background = element_blank(),   # Remove the background in the panels\r\n",
        "          panel.border = element_rect(color=\"black\",fill=NA),  # Put the borders back on the panels \r\n",
        "          strip.placement = \"outside\",                       # Place facet labels outside x axis labels\r\n",
        "          strip.background = element_rect(fill = \"white\"),   # Make the background for facet labels white\r\n",
        "          axis.title = element_blank(),                      # Do not include the labels on the axes\r\n",
        "          plot.title = element_text(hjust = 0.5)             # Center the ggplot title\r\n",
        "          ) \r\n"
      ],
      "execution_count": 68,
      "outputs": [
        {
          "output_type": "display_data",
          "data": {
            "image/png": "[encoded data removed]"
          },
          "metadata": {
            "tags": []
          }
        }
      ]
    },
    {
      "cell_type": "markdown",
      "metadata": {
        "id": "fBfOikSVFsq5"
      },
      "source": [
        "## Task: Answer the following questions\r\n",
        "\r\n",
        "1. How do the bike rentals for 2020 compare to previous years? Discuss.\r\n",
        "2. Consider the following additions to the specifications with the theme() function.  Briefly explain the effect of these specfications on the plot returned.\r\n",
        "<ul>\r\n",
        "  <li>panel.spacing.x = unit(2,\"lines)</li>\r\n",
        "  <li>panel.grid.major.y = element_line(\"lightgray\",0.5)</li>\r\n",
        "</ul>\r\n",
        "<ul>\r\n",
        "Add these specifications within the theme() function below.  Make sure to add commas to the end of each line so separate the parameters in the theme() function -- except for the last line.\r\n",
        "</ul>\r\n",
        "\r\n",
        "3.  Certainly weather events are likely to impact the nubmer of bike rentals on any particular day.  Past weather information for a day/location can be obtained at Weather Underground.  Consider the weather for Labor Day 2019.  How might the weather on this day in New York City negatively impact the number of bike rentals.  Discuss. \r\n",
        "\r\n",
        " Weather Underground Link:  <a href=\"https://www.wunderground.com/history/daily/us/ny/new-york-city/KLGA/date/2019-9-2\">https://www.wunderground.com/history/daily/us/ny/new-york-city/KLGA/date/2019-9-2</a>\r\n",
        "</ul>\r\n"
      ]
    }
  ]
}