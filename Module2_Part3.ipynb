{
  "nbformat": 4,
  "nbformat_minor": 0,
  "metadata": {
    "colab": {
      "name": "Module2_Part3.ipynb",
      "provenance": [],
      "authorship_tag": "ABX9TyOJAlOcJGTkbM+UDR2c9Cmm",
      "include_colab_link": true
    },
    "kernelspec": {
      "name": "python3",
      "display_name": "Python 3"
    }
  },
  "cells": [
    {
      "cell_type": "markdown",
      "metadata": {
        "id": "view-in-github",
        "colab_type": "text"
      },
      "source": [
        "<a href=\"https://colab.research.google.com/github/christophermalone/DSCI325/blob/main/Module2_Part3.ipynb\" target=\"_parent\"><img src=\"https://colab.research.google.com/assets/colab-badge.svg\" alt=\"Open In Colab\"/></a>"
      ]
    },
    {
      "cell_type": "markdown",
      "metadata": {
        "id": "ueU5p-Zd0XdV"
      },
      "source": [
        "asdfasdf"
      ]
    },
    {
      "cell_type": "code",
      "metadata": {
        "colab": {
          "base_uri": "https://localhost:8080/"
        },
        "id": "U3IrELZd00q1",
        "outputId": "c8c29787-4cc8-44d2-8399-7d66dadb2cc3"
      },
      "source": [
        "%%bash\r\n",
        "curl -0 https://s3.amazonaws.com/tripdata/202006-citibike-tripdata.csv.zip"
      ],
      "execution_count": 5,
      "outputs": [
        {
          "output_type": "stream",
          "text": [
            "IOPub data rate exceeded.\n",
            "The notebook server will temporarily stop sending output\n",
            "to the client in order to avoid crashing it.\n",
            "To change this limit, set the config variable\n",
            "`--NotebookApp.iopub_data_rate_limit`.\n",
            "\n",
            "Current values:\n",
            "NotebookApp.iopub_data_rate_limit=1000000.0 (bytes/sec)\n",
            "NotebookApp.rate_limit_window=3.0 (secs)\n",
            "\n",
            "  % Total    % Received % Xferd  Average Speed   Time    Time     Time  Current\n",
            "                                 Dload  Upload   Total   Spent    Left  Speed\n",
            "100 79.5M  100 79.5M    0     0  48.6M      0  0:00:01  0:00:01 --:--:-- 48.6M\n"
          ],
          "name": "stderr"
        }
      ]
    },
    {
      "cell_type": "code",
      "metadata": {
        "colab": {
          "base_uri": "https://localhost:8080/"
        },
        "id": "eq349VGd21cC",
        "outputId": "44016cdb-712a-4c3f-efdc-19d167859c73"
      },
      "source": [
        "!wget -O /content/sample_data/June2006.zip https://s3.amazonaws.com/tripdata/202006-citibike-tripdata.csv.zip"
      ],
      "execution_count": 6,
      "outputs": [
        {
          "output_type": "stream",
          "text": [
            "--2021-02-01 23:10:23--  https://s3.amazonaws.com/tripdata/202006-citibike-tripdata.csv.zip\n",
            "Resolving s3.amazonaws.com (s3.amazonaws.com)... 52.217.101.62\n",
            "Connecting to s3.amazonaws.com (s3.amazonaws.com)|52.217.101.62|:443... connected.\n",
            "HTTP request sent, awaiting response... 200 OK\n",
            "Length: 83399305 (80M) [application/zip]\n",
            "Saving to: ‘/content/sample_data/June2006.zip’\n",
            "\n",
            "/content/sample_dat 100%[===================>]  79.54M  97.4MB/s    in 0.8s    \n",
            "\n",
            "2021-02-01 23:10:24 (97.4 MB/s) - ‘/content/sample_data/June2006.zip’ saved [83399305/83399305]\n",
            "\n"
          ],
          "name": "stdout"
        }
      ]
    },
    {
      "cell_type": "code",
      "metadata": {
        "colab": {
          "base_uri": "https://localhost:8080/"
        },
        "id": "VfDN5oAx8iY6",
        "outputId": "1f451348-98b2-4777-d50e-1c42e6e70250"
      },
      "source": [
        "%%bash\r\n",
        "\r\n",
        "bash /content/download_curl.sh"
      ],
      "execution_count": 44,
      "outputs": [
        {
          "output_type": "stream",
          "text": [
            "  % Total    % Received % Xferd  Average Speed   Time    Time     Time  Current\n",
            "                                 Dload  Upload   Total   Spent    Left  Speed\n",
            "\r  0     0    0     0    0     0      0      0 --:--:-- --:--:-- --:--:--     0\r 63 79.5M   63 50.1M    0     0  80.1M      0 --:--:-- --:--:-- --:--:-- 80.0M\r100 79.5M  100 79.5M    0     0  87.4M      0 --:--:-- --:--:-- --:--:-- 87.3M\n",
            "  % Total    % Received % Xferd  Average Speed   Time    Time     Time  Current\n",
            "                                 Dload  Upload   Total   Spent    Left  Speed\n",
            "\r  0     0    0     0    0     0      0      0 --:--:-- --:--:-- --:--:--     0\r 64 89.7M   64 58.1M    0     0  82.4M      0  0:00:01 --:--:--  0:00:01 82.3M\r100 89.7M  100 89.7M    0     0  83.5M      0  0:00:01  0:00:01 --:--:-- 83.5M\n"
          ],
          "name": "stderr"
        }
      ]
    },
    {
      "cell_type": "code",
      "metadata": {
        "colab": {
          "base_uri": "https://localhost:8080/"
        },
        "id": "cpX0czEW8m4R",
        "outputId": "a30c5e30-df52-48f0-fc9c-c47c95ecdb70"
      },
      "source": [
        "!ls -l /content/sample_data/"
      ],
      "execution_count": 45,
      "outputs": [
        {
          "output_type": "stream",
          "text": [
            "total 173336\n",
            "-rw-r--r-- 1 root root 94091098 Feb  1 23:54  July2020.zip\n",
            "-rw-r--r-- 1 root root 83399305 Feb  1 23:54 'June2020.zip'$'\\r'\n"
          ],
          "name": "stdout"
        }
      ]
    },
    {
      "cell_type": "code",
      "metadata": {
        "id": "HSHFxF8-BTgk"
      },
      "source": [
        "%%bash\r\n",
        "\r\n",
        "bash /content/download.sh"
      ],
      "execution_count": null,
      "outputs": []
    },
    {
      "cell_type": "code",
      "metadata": {
        "colab": {
          "base_uri": "https://localhost:8080/"
        },
        "id": "yvsVHZRvBT4j",
        "outputId": "0dca0442-344e-452a-e87f-a70bf001d8dd"
      },
      "source": [
        "!ls -l /content/sample_data/"
      ],
      "execution_count": 47,
      "outputs": [
        {
          "output_type": "stream",
          "text": [
            "total 275152\n",
            "-rw-r--r-- 1 root root 104256804 Sep  4 19:37  August2020_wget.zip\n",
            "-rw-r--r-- 1 root root         0 Feb  1 23:55  July2020_wget.zip\n",
            "-rw-r--r-- 1 root root  94091098 Feb  1 23:54  July2020.zip\n",
            "-rw-r--r-- 1 root root         0 Feb  1 23:55  June2020_wget.zip\n",
            "-rw-r--r-- 1 root root  83399305 Feb  1 23:54 'June2020.zip'$'\\r'\n"
          ],
          "name": "stdout"
        }
      ]
    },
    {
      "cell_type": "code",
      "metadata": {
        "id": "tSGxKNVKDNGI"
      },
      "source": [
        "%%bash\r\n",
        "{   \r\n",
        "echo 'curl -O https://s3.amazonaws.com/tripdata/202006-citibike-tripdata.csv.zip > /content/sample_data/June2020.zip'\r\n",
        "echo 'curl -O https://s3.amazonaws.com/tripdata/202007-citibike-tripdata.csv.zip > /content/sample_data/July2020.zip'\r\n",
        "echo 'curl -O https://s3.amazonaws.com/tripdata/202008-citibike-tripdata.csv.zip > /content/sample_data/August2020.zip'\r\n",
        " } > Download_CitiBike.sh"
      ],
      "execution_count": 68,
      "outputs": []
    },
    {
      "cell_type": "code",
      "metadata": {
        "colab": {
          "base_uri": "https://localhost:8080/"
        },
        "id": "jSZ8rm7mFCva",
        "outputId": "81d3f8f3-0baf-4abd-b1ec-972b27aa98f7"
      },
      "source": [
        "!ls -l /content/"
      ],
      "execution_count": 69,
      "outputs": [
        {
          "output_type": "stream",
          "text": [
            "total 8\n",
            "-rw-r--r-- 1 root root  335 Feb  2 00:14 Download_CitiBike.sh\n",
            "drwxr-xr-x 1 root root 4096 Feb  2 00:12 sample_data\n"
          ],
          "name": "stdout"
        }
      ]
    },
    {
      "cell_type": "code",
      "metadata": {
        "colab": {
          "base_uri": "https://localhost:8080/"
        },
        "id": "1wAnLi8eEU0d",
        "outputId": "8a6780a5-287f-444a-91c8-80c1e5b2252a"
      },
      "source": [
        "%%bash\r\n",
        "\r\n",
        "bash '/content/Download_CitiBike.sh'"
      ],
      "execution_count": 70,
      "outputs": [
        {
          "output_type": "stream",
          "text": [
            "  % Total    % Received % Xferd  Average Speed   Time    Time     Time  Current\n",
            "                                 Dload  Upload   Total   Spent    Left  Speed\n",
            "\r  0     0    0     0    0     0      0      0 --:--:-- --:--:-- --:--:--     0\r 32 79.5M   32 25.7M    0     0  52.9M      0  0:00:01 --:--:--  0:00:01 52.8M\r100 79.5M  100 79.5M    0     0  70.3M      0  0:00:01  0:00:01 --:--:-- 70.3M\n",
            "  % Total    % Received % Xferd  Average Speed   Time    Time     Time  Current\n",
            "                                 Dload  Upload   Total   Spent    Left  Speed\n",
            "\r  0     0    0     0    0     0      0      0 --:--:-- --:--:-- --:--:--     0\r 15 89.7M   15 13.5M    0     0  39.5M      0  0:00:02 --:--:--  0:00:02 39.4M\r 98 89.7M   98 88.2M    0     0  65.5M      0  0:00:01  0:00:01 --:--:-- 65.5M\r100 89.7M  100 89.7M    0     0  66.1M      0  0:00:01  0:00:01 --:--:-- 66.1M\n",
            "  % Total    % Received % Xferd  Average Speed   Time    Time     Time  Current\n",
            "                                 Dload  Upload   Total   Spent    Left  Speed\n",
            "\r  0     0    0     0    0     0      0      0 --:--:-- --:--:-- --:--:--     0\r 49 99.4M   49 49.1M    0     0  50.4M      0  0:00:01 --:--:--  0:00:01 50.3M\r100 99.4M  100 99.4M    0     0  59.0M      0  0:00:01  0:00:01 --:--:-- 59.0M\n"
          ],
          "name": "stderr"
        }
      ]
    },
    {
      "cell_type": "code",
      "metadata": {
        "colab": {
          "base_uri": "https://localhost:8080/"
        },
        "id": "rhcXZMz1F86e",
        "outputId": "6d7fa9ce-006a-4cb1-ad10-2c66b9d143bf"
      },
      "source": [
        "!ls -l /content/"
      ],
      "execution_count": 71,
      "outputs": [
        {
          "output_type": "stream",
          "text": [
            "total 275160\n",
            "-rw-r--r-- 1 root root  83399305 Feb  2 00:14 202006-citibike-tripdata.csv.zip\n",
            "-rw-r--r-- 1 root root  94091098 Feb  2 00:15 202007-citibike-tripdata.csv.zip\n",
            "-rw-r--r-- 1 root root 104256804 Feb  2 00:15 202008-citibike-tripdata.csv.zip\n",
            "-rw-r--r-- 1 root root       335 Feb  2 00:14 Download_CitiBike.sh\n",
            "drwxr-xr-x 1 root root      4096 Feb  2 00:12 sample_data\n"
          ],
          "name": "stdout"
        }
      ]
    },
    {
      "cell_type": "code",
      "metadata": {
        "colab": {
          "base_uri": "https://localhost:8080/"
        },
        "id": "wTaq9jQJGoiv",
        "outputId": "5b638837-22a6-4a38-8ee5-764f3d30c430"
      },
      "source": [
        "!ls /content/sample_data"
      ],
      "execution_count": 76,
      "outputs": [
        {
          "output_type": "stream",
          "text": [
            "August2020.zip\tJuly2020.zip  June2020.zip\n"
          ],
          "name": "stdout"
        }
      ]
    },
    {
      "cell_type": "code",
      "metadata": {
        "id": "8p0xSWJSG5e2"
      },
      "source": [
        "!cd sample_data"
      ],
      "execution_count": 77,
      "outputs": []
    },
    {
      "cell_type": "code",
      "metadata": {
        "colab": {
          "base_uri": "https://localhost:8080/"
        },
        "id": "UGPvLlo5G8iO",
        "outputId": "413174bc-f10c-419f-e662-f94f7603bd6d"
      },
      "source": [
        "%cd sample_data/"
      ],
      "execution_count": 80,
      "outputs": [
        {
          "output_type": "stream",
          "text": [
            "/content/sample_data\n"
          ],
          "name": "stdout"
        }
      ]
    },
    {
      "cell_type": "code",
      "metadata": {
        "colab": {
          "base_uri": "https://localhost:8080/"
        },
        "id": "tJdYkcrlHVCp",
        "outputId": "226da97a-3659-47c8-be1e-a779905175a3"
      },
      "source": [
        "unzip "
      ],
      "execution_count": 81,
      "outputs": [
        {
          "output_type": "stream",
          "text": [
            "/content/sample_data\n"
          ],
          "name": "stdout"
        }
      ]
    },
    {
      "cell_type": "code",
      "metadata": {
        "colab": {
          "base_uri": "https://localhost:8080/"
        },
        "id": "lPeAZKbFGLQr",
        "outputId": "9e3708fd-e5fd-40e9-f5bb-6f3bf958e42d"
      },
      "source": [
        "%%bash\r\n",
        "\r\n",
        "for filename in '2020*-citiibike-tripdata.csv.zip'\r\n",
        " do\r\n",
        "   unzip $filename\r\n",
        " done"
      ],
      "execution_count": 83,
      "outputs": [
        {
          "output_type": "stream",
          "text": [
            "unzip:  cannot find or open 2020*-citiibike-tripdata.csv.zip, 2020*-citiibike-tripdata.csv.zip.zip or 2020*-citiibike-tripdata.csv.zip.ZIP.\n",
            "\n",
            "No zipfiles found.\n"
          ],
          "name": "stderr"
        }
      ]
    },
    {
      "cell_type": "code",
      "metadata": {
        "colab": {
          "base_uri": "https://localhost:8080/"
        },
        "id": "R8f4UG7lIr9K",
        "outputId": "724732c1-f88d-40cd-e6ae-f71740e73208"
      },
      "source": [
        "!ls -l"
      ],
      "execution_count": 89,
      "outputs": [
        {
          "output_type": "stream",
          "text": [
            "total 0\n",
            "-rw-r--r-- 1 root root 0 Feb  2 00:15 August2020.zip\n",
            "-rw-r--r-- 1 root root 0 Feb  2 00:14 July2020.zip\n",
            "-rw-r--r-- 1 root root 0 Feb  2 00:14 June2020.zip\n"
          ],
          "name": "stdout"
        }
      ]
    },
    {
      "cell_type": "code",
      "metadata": {
        "colab": {
          "base_uri": "https://localhost:8080/"
        },
        "id": "ERU3erOvIu1Q",
        "outputId": "b9074743-f39b-4f82-db57-052ce81f58f6"
      },
      "source": [
        "%%bash\r\n",
        "\r\n",
        "unzip '/content/sample_data/June2020.zip'"
      ],
      "execution_count": 98,
      "outputs": [
        {
          "output_type": "stream",
          "text": [
            "Archive:  /content/sample_data/June2020.zip\n"
          ],
          "name": "stdout"
        },
        {
          "output_type": "stream",
          "text": [
            "  End-of-central-directory signature not found.  Either this file is not\n",
            "  a zipfile, or it constitutes one disk of a multi-part archive.  In the\n",
            "  latter case the central directory and zipfile comment will be found on\n",
            "  the last disk(s) of this archive.\n",
            "unzip:  cannot find zipfile directory in one of /content/sample_data/June2020.zip or\n",
            "        /content/sample_data/June2020.zip.zip, and cannot find /content/sample_data/June2020.zip.ZIP, period.\n"
          ],
          "name": "stderr"
        }
      ]
    },
    {
      "cell_type": "code",
      "metadata": {
        "colab": {
          "base_uri": "https://localhost:8080/"
        },
        "id": "BkrTX89iKjpL",
        "outputId": "1ceb845f-4c9b-4161-f580-6cf189d1a9f5"
      },
      "source": [
        "%cd /content/"
      ],
      "execution_count": 108,
      "outputs": [
        {
          "output_type": "stream",
          "text": [
            "/content\n"
          ],
          "name": "stdout"
        }
      ]
    },
    {
      "cell_type": "code",
      "metadata": {
        "colab": {
          "base_uri": "https://localhost:8080/"
        },
        "id": "er789FNIKodK",
        "outputId": "0f90729f-1cda-43fc-948b-7c943e5b6956"
      },
      "source": [
        "!pwd\r\n",
        "!ls -l"
      ],
      "execution_count": 110,
      "outputs": [
        {
          "output_type": "stream",
          "text": [
            "/content\n",
            "total 8\n",
            "-rw-r--r-- 1 root root  335 Feb  2 00:14 Download_CitiBike.sh\n",
            "drwxr-xr-x 1 root root 4096 Feb  2 00:34 sample_data\n"
          ],
          "name": "stdout"
        }
      ]
    },
    {
      "cell_type": "code",
      "metadata": {
        "id": "6JGBO30OKFLx"
      },
      "source": [
        "%%bash\r\n",
        "{   \r\n",
        "echo 'wget -O  /content/sample_data/June2020.zip https://s3.amazonaws.com/tripdata/202006-citibike-tripdata.csv.zip'\r\n",
        "echo 'wget -O  /content/sample_data/July2020.zip https://s3.amazonaws.com/tripdata/202007-citibike-tripdata.csv.zip'\r\n",
        "echo 'wget -O /content/sample_data/August2020.zip https://s3.amazonaws.com/tripdata/202008-citibike-tripdata.csv.zip'\r\n",
        " } > Download_CitiBike_wget.sh"
      ],
      "execution_count": 112,
      "outputs": []
    },
    {
      "cell_type": "code",
      "metadata": {
        "id": "uIkaT0gNK6_a"
      },
      "source": [
        "%%bash\r\n",
        "\r\n",
        "bash '/content/Download_CitiBike_wget.sh'"
      ],
      "execution_count": null,
      "outputs": []
    },
    {
      "cell_type": "code",
      "metadata": {
        "colab": {
          "base_uri": "https://localhost:8080/"
        },
        "id": "DuaNC_hsLDJa",
        "outputId": "e02189c6-737e-4ba3-833c-3226b7eeab00"
      },
      "source": [
        "!ls -l /content/sample_data"
      ],
      "execution_count": 114,
      "outputs": [
        {
          "output_type": "stream",
          "text": [
            "total 275152\n",
            "-rw-r--r-- 1 root root 104256804 Sep  4 19:37 August2020.zip\n",
            "-rw-r--r-- 1 root root  94091098 Aug 12 02:13 July2020.zip\n",
            "-rw-r--r-- 1 root root  83399305 Jul  6  2020 June2020.zip\n"
          ],
          "name": "stdout"
        }
      ]
    },
    {
      "cell_type": "code",
      "metadata": {
        "colab": {
          "base_uri": "https://localhost:8080/"
        },
        "id": "nVulAGVrLIfk",
        "outputId": "b68ca624-c0d7-4af6-fc5b-d4f3263e2177"
      },
      "source": [
        "%%bash\r\n",
        "\r\n",
        "unzip /content/sample_data/June2020.zip"
      ],
      "execution_count": 115,
      "outputs": [
        {
          "output_type": "stream",
          "text": [
            "Archive:  /content/sample_data/June2020.zip\n",
            "  inflating: 202006-citibike-tripdata.csv  \n",
            "   creating: __MACOSX/\n",
            "  inflating: __MACOSX/._202006-citibike-tripdata.csv  \n"
          ],
          "name": "stdout"
        }
      ]
    },
    {
      "cell_type": "code",
      "metadata": {
        "colab": {
          "base_uri": "https://localhost:8080/"
        },
        "id": "Idl5yn0QLRu8",
        "outputId": "02ddcffa-78fd-42d0-cc4b-71fa778f3ba0"
      },
      "source": [
        "!ls -l '/content/sample_data'"
      ],
      "execution_count": 117,
      "outputs": [
        {
          "output_type": "stream",
          "text": [
            "total 275152\n",
            "-rw-r--r-- 1 root root 104256804 Sep  4 19:37 August2020.zip\n",
            "-rw-r--r-- 1 root root  94091098 Aug 12 02:13 July2020.zip\n",
            "-rw-r--r-- 1 root root  83399305 Jul  6  2020 June2020.zip\n"
          ],
          "name": "stdout"
        }
      ]
    },
    {
      "cell_type": "code",
      "metadata": {
        "colab": {
          "base_uri": "https://localhost:8080/"
        },
        "id": "hYUAPg0ZL7CL",
        "outputId": "8516b9ce-415c-4702-9ec4-4fc6abba3456"
      },
      "source": [
        "%%bash\r\n",
        "#unzip /path/to/archive.zip \"in/archive/folder/*\" -d \"/path/to/unzip/to\"\r\n",
        "unzip /content/sample_data/June2020.zip -d \"/content/sample_data\""
      ],
      "execution_count": 119,
      "outputs": [
        {
          "output_type": "stream",
          "text": [
            "Archive:  /content/sample_data/June2020.zip\n",
            "  inflating: /content/sample_data/202006-citibike-tripdata.csv  \n",
            "   creating: /content/sample_data/__MACOSX/\n",
            "  inflating: /content/sample_data/__MACOSX/._202006-citibike-tripdata.csv  \n"
          ],
          "name": "stdout"
        }
      ]
    },
    {
      "cell_type": "code",
      "metadata": {
        "colab": {
          "base_uri": "https://localhost:8080/"
        },
        "id": "QalYNKZpNihF",
        "outputId": "fe716332-515f-450c-fc14-94256e2bd2a6"
      },
      "source": [
        "%%bash\r\n",
        "unzip -o /content/sample_data/June2020.zip -d \"/content/sample_data\"\r\n"
      ],
      "execution_count": 124,
      "outputs": [
        {
          "output_type": "stream",
          "text": [
            "Archive:  /content/sample_data/June2020.zip\n",
            "  inflating: /content/sample_data/202006-citibike-tripdata.csv  \n",
            "  inflating: /content/sample_data/__MACOSX/._202006-citibike-tripdata.csv  \n"
          ],
          "name": "stdout"
        }
      ]
    },
    {
      "cell_type": "code",
      "metadata": {
        "colab": {
          "base_uri": "https://localhost:8080/"
        },
        "id": "ugBBh7H5OM6V",
        "outputId": "4f2511ad-2017-4264-d873-9ee647e81c9f"
      },
      "source": [
        "!ls -l *.sh"
      ],
      "execution_count": 127,
      "outputs": [
        {
          "output_type": "stream",
          "text": [
            "-rw-r--r-- 1 root root 335 Feb  2 00:14 Download_CitiBike.sh\n",
            "-rw-r--r-- 1 root root 331 Feb  2 00:36 Download_CitiBike_wget.sh\n"
          ],
          "name": "stdout"
        }
      ]
    },
    {
      "cell_type": "code",
      "metadata": {
        "id": "fP2L8mlNOzNp"
      },
      "source": [
        "%%bash\r\n",
        "{   \r\n",
        "echo 'unzip -o /content/sample_data/June2020.zip -d \"/content/sample_data\"'\r\n",
        "echo 'unzip -o /content/sample_data/July2020.zip -d \"/content/sample_data\"'\r\n",
        "echo 'unzip -o /content/sample_data/August2020.zip -d \"/content/sample_data\"'\r\n",
        " } > Download_CitiBike_Unzip.sh"
      ],
      "execution_count": 128,
      "outputs": []
    },
    {
      "cell_type": "code",
      "metadata": {
        "colab": {
          "base_uri": "https://localhost:8080/"
        },
        "id": "QSvYNBb6PC0I",
        "outputId": "fbcb20e5-43a6-4e78-d81d-6d903b8dd353"
      },
      "source": [
        "%%bash\r\n",
        "\r\n",
        "bash Download_CitiBike_Unzip.sh"
      ],
      "execution_count": 137,
      "outputs": [
        {
          "output_type": "stream",
          "text": [
            "Archive:  /content/sample_data/June2020.zip\n",
            "  inflating: /content/sample_data/202006-citibike-tripdata.csv  \n",
            "  inflating: /content/sample_data/__MACOSX/._202006-citibike-tripdata.csv  \n",
            "Archive:  /content/sample_data/July2020.zip\n",
            "  inflating: /content/sample_data/202007-citibike-tripdata.csv  \n",
            "Archive:  /content/sample_data/August2020.zip\n",
            "  inflating: /content/sample_data/202008-citibike-tripdata.csv  \n"
          ],
          "name": "stdout"
        }
      ]
    },
    {
      "cell_type": "code",
      "metadata": {
        "colab": {
          "base_uri": "https://localhost:8080/"
        },
        "id": "MPxBLQtiQV0v",
        "outputId": "7365e943-4a9a-4003-f813-f8fd2583f141"
      },
      "source": [
        "!wc -l /content/sample_data/*.csv"
      ],
      "execution_count": 139,
      "outputs": [
        {
          "output_type": "stream",
          "text": [
            "   1882274 /content/sample_data/202006-citibike-tripdata.csv\n",
            "   2105809 /content/sample_data/202007-citibike-tripdata.csv\n",
            "   2329515 /content/sample_data/202008-citibike-tripdata.csv\n",
            "   6317598 total\n"
          ],
          "name": "stdout"
        }
      ]
    },
    {
      "cell_type": "code",
      "metadata": {
        "colab": {
          "base_uri": "https://localhost:8080/"
        },
        "id": "N48ASm1aQo8l",
        "outputId": "8c18cec5-8c36-45a0-b66d-3974ee16adbe"
      },
      "source": [
        "!awk 'END{ print NR }' /content/sample_data/*.csv"
      ],
      "execution_count": 143,
      "outputs": [
        {
          "output_type": "stream",
          "text": [
            "6317598\n"
          ],
          "name": "stdout"
        }
      ]
    },
    {
      "cell_type": "code",
      "metadata": {
        "id": "6PdYrvMUQ-3W"
      },
      "source": [
        "!grep '2020-06-01\\|2020-07-04' /content/sample_data/*.csv > /content/sample_data/temp.txt"
      ],
      "execution_count": 149,
      "outputs": []
    }
  ]
}