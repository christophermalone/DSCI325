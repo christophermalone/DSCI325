{
  "nbformat": 4,
  "nbformat_minor": 0,
  "metadata": {
    "colab": {
      "name": "Task1_Spring2022.ipynb",
      "provenance": [],
      "collapsed_sections": [],
      "authorship_tag": "ABX9TyMsdvrnutpgefWqtemzM9ir",
      "include_colab_link": true
    },
    "kernelspec": {
      "name": "python3",
      "display_name": "Python 3"
    }
  },
  "cells": [
    {
      "cell_type": "markdown",
      "metadata": {
        "id": "view-in-github",
        "colab_type": "text"
      },
      "source": [
        "<a href=\"https://colab.research.google.com/github/christophermalone/DSCI325/blob/main/Task1_Spring2022.ipynb\" target=\"_parent\"><img src=\"https://colab.research.google.com/assets/colab-badge.svg\" alt=\"Open In Colab\"/></a>"
      ]
    },
    {
      "cell_type": "markdown",
      "metadata": {
        "id": "R05cYFVzZm7R"
      },
      "source": [
        "# Task #1 - Spring 2022"
      ]
    },
    {
      "cell_type": "markdown",
      "source": [
        "##   Task:  Complete the following for the AtHospital File\n",
        "\n",
        "1.   Clean-up the hosptial data file, e.g. remove footer info, remove initial tabs on each line, etc.\n",
        "2.   Convert the file from tab deliminated to comma deliminated\n",
        "3.   Add an appropriate header to label each field\n",
        "4.   Read the AtHospital data into R using read.csv()\n",
        "5.   Specify that StateCode is indeed a string containing the preceeding 0s and that Year as been specified as an interger"
      ],
      "metadata": {
        "id": "UGzDyDYKl15O"
      }
    },
    {
      "cell_type": "markdown",
      "source": [
        "\n",
        "\n",
        "---\n",
        "\n"
      ],
      "metadata": {
        "id": "znHfKCzLmPDd"
      }
    },
    {
      "cell_type": "markdown",
      "source": [
        "System level commands can be run using an !, e.g. !head can be used to see the first few lines of a file."
      ],
      "metadata": {
        "id": "Jn_XjlGNnGdm"
      }
    },
    {
      "cell_type": "code",
      "source": [
        "#Using a system level head command\n",
        "!head /content/sample_data/AtHome_Births_StateLevel.txt"
      ],
      "metadata": {
        "id": "eeecj1zMnGl9"
      },
      "execution_count": null,
      "outputs": []
    },
    {
      "cell_type": "markdown",
      "metadata": {
        "id": "uene2kuQOdm5"
      },
      "source": [
        "This an iPython Notebook; thus, to run R commands, R Magic will need to be implemented. "
      ]
    },
    {
      "cell_type": "code",
      "metadata": {
        "colab": {
          "base_uri": "https://localhost:8080/"
        },
        "id": "Qy4TRHBVOel6",
        "outputId": "c9e982f4-c90c-49a1-c934-354e19155750"
      },
      "source": [
        "%load_ext rpy2.ipython"
      ],
      "execution_count": null,
      "outputs": [
        {
          "output_type": "stream",
          "name": "stdout",
          "text": [
            "The rpy2.ipython extension is already loaded. To reload it, use:\n",
            "  %reload_ext rpy2.ipython\n"
          ]
        }
      ]
    },
    {
      "cell_type": "markdown",
      "source": [
        "The following command can be used to read in a csv file using base R."
      ],
      "metadata": {
        "id": "HC2AWyHnsadk"
      }
    },
    {
      "cell_type": "code",
      "metadata": {
        "id": "bXzY8diJO60r"
      },
      "source": [
        "%%R\n",
        "\n",
        "AtHome <- read.csv('/content/sample_data/AtHome_Births_StateLevel_v5.txt')"
      ],
      "execution_count": null,
      "outputs": []
    }
  ]
}