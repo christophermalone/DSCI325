{
  "nbformat": 4,
  "nbformat_minor": 0,
  "metadata": {
    "colab": {
      "name": "Module3_Part2R.ipynb",
      "provenance": [],
      "collapsed_sections": [],
      "toc_visible": true,
      "authorship_tag": "ABX9TyO3gD/zDkuYTZ0L1A4rCcoW",
      "include_colab_link": true
    },
    "kernelspec": {
      "name": "ir",
      "display_name": "R"
    }
  },
  "cells": [
    {
      "cell_type": "markdown",
      "metadata": {
        "id": "view-in-github",
        "colab_type": "text"
      },
      "source": [
        "<a href=\"https://colab.research.google.com/github/christophermalone/DSCI325/blob/main/Module3_Part2R.ipynb\" target=\"_parent\"><img src=\"https://colab.research.google.com/assets/colab-badge.svg\" alt=\"Open In Colab\"/></a>"
      ]
    },
    {
      "cell_type": "markdown",
      "metadata": {
        "id": "j1cZH6CYQg3J"
      },
      "source": [
        "# Module 3 | Part 2 R: Data Verb - FILTER()"
      ]
    },
    {
      "cell_type": "markdown",
      "metadata": {
        "id": "e0COIR2BTaog"
      },
      "source": [
        "<table width='100%' ><tr><td bgcolor='green'></td></tr></table>\r\n",
        "\r\n",
        "### Example 3.2.R\r\n",
        "For this notebook, we will consider airline data from the Bureau of Transportation.  Using the form provided on their website, one is able to obtain a variety of information around flight delays.\r\n",
        " \r\n",
        "\r\n",
        "The following 17 fields will be considered here:\r\n",
        "\r\n",
        "*   Day Information: DAY_OF_MONTH, DAY_OF_WEEK\r\n",
        "*   Origin Information: ORIGIN, ORIGIN_STATE\r\n",
        "*   Destination Information: DEST, DEST_STATE\r\n",
        "*   Departure Information: DEP_TIME, DEP_DELAY, DEP_DELAY15, \r\n",
        "*   Arrival Information: ARR_TIME, ARR_DELAY, ARR_DEL15, \r\n",
        "*   Reason for Delay: CARRIER_DELAY, WEATHER_DELAY, SECURITY_DELAY, LATE_AIRCRAFT_DELAY\r\n",
        "\r\n",
        "\r\n",
        "<br>Data Source:  https://www.transtats.bts.gov/DL_SelectFields.asp?gnoyr_VQ=FGJ&QO_fu146_anzr=b0-gvzr\r\n",
        "\r\n",
        "<table width='100%' ><tr><td bgcolor='green'></td></tr></table>\r\n"
      ]
    },
    {
      "cell_type": "markdown",
      "metadata": {
        "id": "D5p08j6fmxBE"
      },
      "source": [
        "To begin, the <strong>tidyverse</strong> package will be used throughout this notebook; thus, load this package."
      ]
    },
    {
      "cell_type": "code",
      "metadata": {
        "colab": {
          "base_uri": "https://localhost:8080/"
        },
        "id": "EhTTm3o1RHsJ",
        "outputId": "cbe2baf3-31bb-4fd6-dd68-584060c88df9"
      },
      "source": [
        "library(tidyverse)"
      ],
      "execution_count": null,
      "outputs": [
        {
          "output_type": "stream",
          "text": [
            "── \u001b[1mAttaching packages\u001b[22m ─────────────────────────────────────── tidyverse 1.3.0 ──\n",
            "\n",
            "\u001b[32m✔\u001b[39m \u001b[34mggplot2\u001b[39m 3.3.3     \u001b[32m✔\u001b[39m \u001b[34mpurrr  \u001b[39m 0.3.4\n",
            "\u001b[32m✔\u001b[39m \u001b[34mtibble \u001b[39m 3.0.6     \u001b[32m✔\u001b[39m \u001b[34mstringr\u001b[39m 1.4.0\n",
            "\u001b[32m✔\u001b[39m \u001b[34mtidyr  \u001b[39m 1.1.2     \u001b[32m✔\u001b[39m \u001b[34mforcats\u001b[39m 0.5.1\n",
            "\u001b[32m✔\u001b[39m \u001b[34mreadr  \u001b[39m 1.4.0     \n",
            "\n",
            "── \u001b[1mConflicts\u001b[22m ────────────────────────────────────────── tidyverse_conflicts() ──\n",
            "\u001b[31m✖\u001b[39m \u001b[34mdplyr\u001b[39m::\u001b[32mfilter()\u001b[39m masks \u001b[34mstats\u001b[39m::filter()\n",
            "\u001b[31m✖\u001b[39m \u001b[34mdplyr\u001b[39m::\u001b[32mlag()\u001b[39m    masks \u001b[34mstats\u001b[39m::lag()\n",
            "\n"
          ],
          "name": "stderr"
        }
      ]
    },
    {
      "cell_type": "markdown",
      "metadata": {
        "id": "c-jtBTwRRH8R"
      },
      "source": [
        "Next, read the Ontime_Reporting.csv file into R."
      ]
    },
    {
      "cell_type": "code",
      "metadata": {
        "id": "TOmPueZDRIYi"
      },
      "source": [
        "Ontime<-read_csv('/content/sample_data/Ontime_Reporting.csv')"
      ],
      "execution_count": null,
      "outputs": []
    },
    {
      "cell_type": "markdown",
      "metadata": {
        "id": "JffoevRBSgbe"
      },
      "source": [
        "Next, use dim() to get the number of rows and columns and the head() function to see the first few rows of this dataframe."
      ]
    },
    {
      "cell_type": "code",
      "metadata": {
        "colab": {
          "base_uri": "https://localhost:8080/",
          "height": 367
        },
        "id": "VTtGcaH3Sgg8",
        "outputId": "803aa512-3e9a-4f3a-ff78-e4ba2c490158"
      },
      "source": [
        "#Getting the dimension of the dataframe and taking a look at a few rows.\r\n",
        " \r\n",
        " cat(\"The dimension of the Ontime dataframe is: \\n\")\r\n",
        "   dim(Ontime)\r\n",
        " \r\n",
        " cat(\"\\n\")\r\n",
        " \r\n",
        " cat(\"A printout of the Ontime dataframe:\\n\")\r\n",
        "   head(Ontime)\r\n",
        "   "
      ],
      "execution_count": null,
      "outputs": [
        {
          "output_type": "stream",
          "text": [
            "The dimension of the Ontime dataframe is: \n"
          ],
          "name": "stdout"
        },
        {
          "output_type": "display_data",
          "data": {
            "text/plain": [
              "[1] 371357     17"
            ],
            "text/latex": "\\begin{enumerate*}\n\\item 371357\n\\item 17\n\\end{enumerate*}\n",
            "text/markdown": "1. 371357\n2. 17\n\n\n",
            "text/html": [
              "<style>\n",
              ".list-inline {list-style: none; margin:0; padding: 0}\n",
              ".list-inline>li {display: inline-block}\n",
              ".list-inline>li:not(:last-child)::after {content: \"\\00b7\"; padding: 0 .5ex}\n",
              "</style>\n",
              "<ol class=list-inline><li>371357</li><li>17</li></ol>\n"
            ]
          },
          "metadata": {
            "tags": []
          }
        },
        {
          "output_type": "stream",
          "text": [
            "\n",
            "A printout of the Ontime dataframe:\n"
          ],
          "name": "stdout"
        },
        {
          "output_type": "display_data",
          "data": {
            "text/plain": [
              "  DAY_OF_MONTH DAY_OF_WEEK ORIGIN ORIGIN_STATE DEST DEST_STATE DEP_TIME\n",
              "1 1            2           CLT    NC           MCO  FL         1252    \n",
              "2 1            2           MCO    FL           CLT  NC         1525    \n",
              "3 1            2           DFW    TX           MCO  FL          840    \n",
              "4 1            2           MCO    FL           DFW  TX         1328    \n",
              "5 1            2           EWR    NJ           DFW  TX          604    \n",
              "6 1            2           MEM    TN           CLT  NC          952    \n",
              "  DEP_DELAY DEP_DEL15 ARR_TIME ARR_DELAY ARR_DEL15 CARRIER_DELAY WEATHER_DELAY\n",
              "1  -7       0         1421     -19       0         NA            NA           \n",
              "2 -11       0         1701     -20       0         NA            NA           \n",
              "3  -5       0         1200     -13       0         NA            NA           \n",
              "4  -5       0         1530      -5       0         NA            NA           \n",
              "5  -6       0          835     -47       0         NA            NA           \n",
              "6  19       1         1225       8       0         NA            NA           \n",
              "  NAS_DELAY SECURITY_DELAY LATE_AIRCRAFT_DELAY\n",
              "1 NA        NA             NA                 \n",
              "2 NA        NA             NA                 \n",
              "3 NA        NA             NA                 \n",
              "4 NA        NA             NA                 \n",
              "5 NA        NA             NA                 \n",
              "6 NA        NA             NA                 "
            ],
            "text/latex": "A tibble: 6 × 17\n\\begin{tabular}{lllllllllllllllll}\n DAY\\_OF\\_MONTH & DAY\\_OF\\_WEEK & ORIGIN & ORIGIN\\_STATE & DEST & DEST\\_STATE & DEP\\_TIME & DEP\\_DELAY & DEP\\_DEL15 & ARR\\_TIME & ARR\\_DELAY & ARR\\_DEL15 & CARRIER\\_DELAY & WEATHER\\_DELAY & NAS\\_DELAY & SECURITY\\_DELAY & LATE\\_AIRCRAFT\\_DELAY\\\\\n <dbl> & <dbl> & <chr> & <chr> & <chr> & <chr> & <dbl> & <dbl> & <dbl> & <dbl> & <dbl> & <dbl> & <dbl> & <dbl> & <dbl> & <dbl> & <dbl>\\\\\n\\hline\n\t 1 & 2 & CLT & NC & MCO & FL & 1252 &  -7 & 0 & 1421 & -19 & 0 & NA & NA & NA & NA & NA\\\\\n\t 1 & 2 & MCO & FL & CLT & NC & 1525 & -11 & 0 & 1701 & -20 & 0 & NA & NA & NA & NA & NA\\\\\n\t 1 & 2 & DFW & TX & MCO & FL &  840 &  -5 & 0 & 1200 & -13 & 0 & NA & NA & NA & NA & NA\\\\\n\t 1 & 2 & MCO & FL & DFW & TX & 1328 &  -5 & 0 & 1530 &  -5 & 0 & NA & NA & NA & NA & NA\\\\\n\t 1 & 2 & EWR & NJ & DFW & TX &  604 &  -6 & 0 &  835 & -47 & 0 & NA & NA & NA & NA & NA\\\\\n\t 1 & 2 & MEM & TN & CLT & NC &  952 &  19 & 1 & 1225 &   8 & 0 & NA & NA & NA & NA & NA\\\\\n\\end{tabular}\n",
            "text/markdown": "\nA tibble: 6 × 17\n\n| DAY_OF_MONTH &lt;dbl&gt; | DAY_OF_WEEK &lt;dbl&gt; | ORIGIN &lt;chr&gt; | ORIGIN_STATE &lt;chr&gt; | DEST &lt;chr&gt; | DEST_STATE &lt;chr&gt; | DEP_TIME &lt;dbl&gt; | DEP_DELAY &lt;dbl&gt; | DEP_DEL15 &lt;dbl&gt; | ARR_TIME &lt;dbl&gt; | ARR_DELAY &lt;dbl&gt; | ARR_DEL15 &lt;dbl&gt; | CARRIER_DELAY &lt;dbl&gt; | WEATHER_DELAY &lt;dbl&gt; | NAS_DELAY &lt;dbl&gt; | SECURITY_DELAY &lt;dbl&gt; | LATE_AIRCRAFT_DELAY &lt;dbl&gt; |\n|---|---|---|---|---|---|---|---|---|---|---|---|---|---|---|---|---|\n| 1 | 2 | CLT | NC | MCO | FL | 1252 |  -7 | 0 | 1421 | -19 | 0 | NA | NA | NA | NA | NA |\n| 1 | 2 | MCO | FL | CLT | NC | 1525 | -11 | 0 | 1701 | -20 | 0 | NA | NA | NA | NA | NA |\n| 1 | 2 | DFW | TX | MCO | FL |  840 |  -5 | 0 | 1200 | -13 | 0 | NA | NA | NA | NA | NA |\n| 1 | 2 | MCO | FL | DFW | TX | 1328 |  -5 | 0 | 1530 |  -5 | 0 | NA | NA | NA | NA | NA |\n| 1 | 2 | EWR | NJ | DFW | TX |  604 |  -6 | 0 |  835 | -47 | 0 | NA | NA | NA | NA | NA |\n| 1 | 2 | MEM | TN | CLT | NC |  952 |  19 | 1 | 1225 |   8 | 0 | NA | NA | NA | NA | NA |\n\n",
            "text/html": [
              "<table class=\"dataframe\">\n",
              "<caption>A tibble: 6 × 17</caption>\n",
              "<thead>\n",
              "\t<tr><th scope=col>DAY_OF_MONTH</th><th scope=col>DAY_OF_WEEK</th><th scope=col>ORIGIN</th><th scope=col>ORIGIN_STATE</th><th scope=col>DEST</th><th scope=col>DEST_STATE</th><th scope=col>DEP_TIME</th><th scope=col>DEP_DELAY</th><th scope=col>DEP_DEL15</th><th scope=col>ARR_TIME</th><th scope=col>ARR_DELAY</th><th scope=col>ARR_DEL15</th><th scope=col>CARRIER_DELAY</th><th scope=col>WEATHER_DELAY</th><th scope=col>NAS_DELAY</th><th scope=col>SECURITY_DELAY</th><th scope=col>LATE_AIRCRAFT_DELAY</th></tr>\n",
              "\t<tr><th scope=col>&lt;dbl&gt;</th><th scope=col>&lt;dbl&gt;</th><th scope=col>&lt;chr&gt;</th><th scope=col>&lt;chr&gt;</th><th scope=col>&lt;chr&gt;</th><th scope=col>&lt;chr&gt;</th><th scope=col>&lt;dbl&gt;</th><th scope=col>&lt;dbl&gt;</th><th scope=col>&lt;dbl&gt;</th><th scope=col>&lt;dbl&gt;</th><th scope=col>&lt;dbl&gt;</th><th scope=col>&lt;dbl&gt;</th><th scope=col>&lt;dbl&gt;</th><th scope=col>&lt;dbl&gt;</th><th scope=col>&lt;dbl&gt;</th><th scope=col>&lt;dbl&gt;</th><th scope=col>&lt;dbl&gt;</th></tr>\n",
              "</thead>\n",
              "<tbody>\n",
              "\t<tr><td>1</td><td>2</td><td>CLT</td><td>NC</td><td>MCO</td><td>FL</td><td>1252</td><td> -7</td><td>0</td><td>1421</td><td>-19</td><td>0</td><td>NA</td><td>NA</td><td>NA</td><td>NA</td><td>NA</td></tr>\n",
              "\t<tr><td>1</td><td>2</td><td>MCO</td><td>FL</td><td>CLT</td><td>NC</td><td>1525</td><td>-11</td><td>0</td><td>1701</td><td>-20</td><td>0</td><td>NA</td><td>NA</td><td>NA</td><td>NA</td><td>NA</td></tr>\n",
              "\t<tr><td>1</td><td>2</td><td>DFW</td><td>TX</td><td>MCO</td><td>FL</td><td> 840</td><td> -5</td><td>0</td><td>1200</td><td>-13</td><td>0</td><td>NA</td><td>NA</td><td>NA</td><td>NA</td><td>NA</td></tr>\n",
              "\t<tr><td>1</td><td>2</td><td>MCO</td><td>FL</td><td>DFW</td><td>TX</td><td>1328</td><td> -5</td><td>0</td><td>1530</td><td> -5</td><td>0</td><td>NA</td><td>NA</td><td>NA</td><td>NA</td><td>NA</td></tr>\n",
              "\t<tr><td>1</td><td>2</td><td>EWR</td><td>NJ</td><td>DFW</td><td>TX</td><td> 604</td><td> -6</td><td>0</td><td> 835</td><td>-47</td><td>0</td><td>NA</td><td>NA</td><td>NA</td><td>NA</td><td>NA</td></tr>\n",
              "\t<tr><td>1</td><td>2</td><td>MEM</td><td>TN</td><td>CLT</td><td>NC</td><td> 952</td><td> 19</td><td>1</td><td>1225</td><td>  8</td><td>0</td><td>NA</td><td>NA</td><td>NA</td><td>NA</td><td>NA</td></tr>\n",
              "</tbody>\n",
              "</table>\n"
            ]
          },
          "metadata": {
            "tags": []
          }
        }
      ]
    },
    {
      "cell_type": "markdown",
      "metadata": {
        "id": "LZi9i1boSuvd"
      },
      "source": [
        "# Filter Actions on Strings"
      ]
    },
    {
      "cell_type": "markdown",
      "metadata": {
        "id": "usJlOVdCcelK"
      },
      "source": [
        "To begin, suppose the goal is to obtain only flights whose ORIGIN airport was Rochester, MN.  The airport code for Rochester, MN is <strong>RST</strong>.\r\n",
        "\r\n",
        "<p align='center'><img src=\"https://drive.google.com/uc?export=view&id=1cZ49YcqPChfiBZP0Hq7Ahzxn4Sg3ktG-\" width='25%' height='25%'></p>"
      ]
    },
    {
      "cell_type": "code",
      "metadata": {
        "id": "oxpEfhFZSu2N"
      },
      "source": [
        "#Getting only flights that left RST\r\n",
        "(\r\n",
        "  Ontime\r\n",
        "  %>% filter(ORIGIN == \"RST\")\r\n",
        "\r\n",
        ") -> RST\r\n"
      ],
      "execution_count": null,
      "outputs": []
    },
    {
      "cell_type": "markdown",
      "metadata": {
        "id": "IMGqdfMBq5ac"
      },
      "source": [
        "Looking at the dimension and a few rows of the RST dataframe."
      ]
    },
    {
      "cell_type": "code",
      "metadata": {
        "colab": {
          "base_uri": "https://localhost:8080/",
          "height": 367
        },
        "id": "vM9pbOCQq5h4",
        "outputId": "b5fd6aab-f0a0-4dcd-8976-d5a189553f5d"
      },
      "source": [
        "#Getting the dimension of the dataframe and taking a look at a few rows.\r\n",
        " \r\n",
        " cat(\"The dimension of the RST dataframe is: \\n\")\r\n",
        "   dim(RST)\r\n",
        " \r\n",
        " cat(\"\\n\")\r\n",
        " \r\n",
        " cat(\"A printout of the RST dataframe:\\n\")\r\n",
        "   head(RST)\r\n",
        "   "
      ],
      "execution_count": 75,
      "outputs": [
        {
          "output_type": "stream",
          "text": [
            "The dimension of the RST dataframe is: \n"
          ],
          "name": "stdout"
        },
        {
          "output_type": "display_data",
          "data": {
            "text/plain": [
              "[1] 238  17"
            ],
            "text/latex": "\\begin{enumerate*}\n\\item 238\n\\item 17\n\\end{enumerate*}\n",
            "text/markdown": "1. 238\n2. 17\n\n\n",
            "text/html": [
              "<style>\n",
              ".list-inline {list-style: none; margin:0; padding: 0}\n",
              ".list-inline>li {display: inline-block}\n",
              ".list-inline>li:not(:last-child)::after {content: \"\\00b7\"; padding: 0 .5ex}\n",
              "</style>\n",
              "<ol class=list-inline><li>238</li><li>17</li></ol>\n"
            ]
          },
          "metadata": {
            "tags": []
          }
        },
        {
          "output_type": "stream",
          "text": [
            "\n",
            "A printout of the RST dataframe:\n"
          ],
          "name": "stdout"
        },
        {
          "output_type": "display_data",
          "data": {
            "text/plain": [
              "  DAY_OF_MONTH DAY_OF_WEEK ORIGIN ORIGIN_STATE DEST DEST_STATE DEP_TIME\n",
              "1 1            2           RST    MN           DEN  CO         1104    \n",
              "2 1            2           RST    MN           ORD  IL         1715    \n",
              "3 1            2           RST    MN           ORD  IL          620    \n",
              "4 1            2           RST    MN           MSP  MN          604    \n",
              "5 1            2           RST    MN           MSP  MN         1155    \n",
              "6 1            2           RST    MN           MSP  MN         1754    \n",
              "  DEP_DELAY DEP_DEL15 ARR_TIME ARR_DELAY ARR_DEL15 CARRIER_DELAY WEATHER_DELAY\n",
              "1 -11       0         1213     -33       0         NA            NA           \n",
              "2 -10       0         1828     -22       0         NA            NA           \n",
              "3 -10       0          747     -10       0         NA            NA           \n",
              "4 -11       0          648     -33       0         NA            NA           \n",
              "5  -5       0         1239     -15       0         NA            NA           \n",
              "6  -5       0         1844     -19       0         NA            NA           \n",
              "  NAS_DELAY SECURITY_DELAY LATE_AIRCRAFT_DELAY\n",
              "1 NA        NA             NA                 \n",
              "2 NA        NA             NA                 \n",
              "3 NA        NA             NA                 \n",
              "4 NA        NA             NA                 \n",
              "5 NA        NA             NA                 \n",
              "6 NA        NA             NA                 "
            ],
            "text/latex": "A tibble: 6 × 17\n\\begin{tabular}{lllllllllllllllll}\n DAY\\_OF\\_MONTH & DAY\\_OF\\_WEEK & ORIGIN & ORIGIN\\_STATE & DEST & DEST\\_STATE & DEP\\_TIME & DEP\\_DELAY & DEP\\_DEL15 & ARR\\_TIME & ARR\\_DELAY & ARR\\_DEL15 & CARRIER\\_DELAY & WEATHER\\_DELAY & NAS\\_DELAY & SECURITY\\_DELAY & LATE\\_AIRCRAFT\\_DELAY\\\\\n <dbl> & <dbl> & <chr> & <chr> & <chr> & <chr> & <dbl> & <dbl> & <dbl> & <dbl> & <dbl> & <dbl> & <dbl> & <dbl> & <dbl> & <dbl> & <dbl>\\\\\n\\hline\n\t 1 & 2 & RST & MN & DEN & CO & 1104 & -11 & 0 & 1213 & -33 & 0 & NA & NA & NA & NA & NA\\\\\n\t 1 & 2 & RST & MN & ORD & IL & 1715 & -10 & 0 & 1828 & -22 & 0 & NA & NA & NA & NA & NA\\\\\n\t 1 & 2 & RST & MN & ORD & IL &  620 & -10 & 0 &  747 & -10 & 0 & NA & NA & NA & NA & NA\\\\\n\t 1 & 2 & RST & MN & MSP & MN &  604 & -11 & 0 &  648 & -33 & 0 & NA & NA & NA & NA & NA\\\\\n\t 1 & 2 & RST & MN & MSP & MN & 1155 &  -5 & 0 & 1239 & -15 & 0 & NA & NA & NA & NA & NA\\\\\n\t 1 & 2 & RST & MN & MSP & MN & 1754 &  -5 & 0 & 1844 & -19 & 0 & NA & NA & NA & NA & NA\\\\\n\\end{tabular}\n",
            "text/markdown": "\nA tibble: 6 × 17\n\n| DAY_OF_MONTH &lt;dbl&gt; | DAY_OF_WEEK &lt;dbl&gt; | ORIGIN &lt;chr&gt; | ORIGIN_STATE &lt;chr&gt; | DEST &lt;chr&gt; | DEST_STATE &lt;chr&gt; | DEP_TIME &lt;dbl&gt; | DEP_DELAY &lt;dbl&gt; | DEP_DEL15 &lt;dbl&gt; | ARR_TIME &lt;dbl&gt; | ARR_DELAY &lt;dbl&gt; | ARR_DEL15 &lt;dbl&gt; | CARRIER_DELAY &lt;dbl&gt; | WEATHER_DELAY &lt;dbl&gt; | NAS_DELAY &lt;dbl&gt; | SECURITY_DELAY &lt;dbl&gt; | LATE_AIRCRAFT_DELAY &lt;dbl&gt; |\n|---|---|---|---|---|---|---|---|---|---|---|---|---|---|---|---|---|\n| 1 | 2 | RST | MN | DEN | CO | 1104 | -11 | 0 | 1213 | -33 | 0 | NA | NA | NA | NA | NA |\n| 1 | 2 | RST | MN | ORD | IL | 1715 | -10 | 0 | 1828 | -22 | 0 | NA | NA | NA | NA | NA |\n| 1 | 2 | RST | MN | ORD | IL |  620 | -10 | 0 |  747 | -10 | 0 | NA | NA | NA | NA | NA |\n| 1 | 2 | RST | MN | MSP | MN |  604 | -11 | 0 |  648 | -33 | 0 | NA | NA | NA | NA | NA |\n| 1 | 2 | RST | MN | MSP | MN | 1155 |  -5 | 0 | 1239 | -15 | 0 | NA | NA | NA | NA | NA |\n| 1 | 2 | RST | MN | MSP | MN | 1754 |  -5 | 0 | 1844 | -19 | 0 | NA | NA | NA | NA | NA |\n\n",
            "text/html": [
              "<table class=\"dataframe\">\n",
              "<caption>A tibble: 6 × 17</caption>\n",
              "<thead>\n",
              "\t<tr><th scope=col>DAY_OF_MONTH</th><th scope=col>DAY_OF_WEEK</th><th scope=col>ORIGIN</th><th scope=col>ORIGIN_STATE</th><th scope=col>DEST</th><th scope=col>DEST_STATE</th><th scope=col>DEP_TIME</th><th scope=col>DEP_DELAY</th><th scope=col>DEP_DEL15</th><th scope=col>ARR_TIME</th><th scope=col>ARR_DELAY</th><th scope=col>ARR_DEL15</th><th scope=col>CARRIER_DELAY</th><th scope=col>WEATHER_DELAY</th><th scope=col>NAS_DELAY</th><th scope=col>SECURITY_DELAY</th><th scope=col>LATE_AIRCRAFT_DELAY</th></tr>\n",
              "\t<tr><th scope=col>&lt;dbl&gt;</th><th scope=col>&lt;dbl&gt;</th><th scope=col>&lt;chr&gt;</th><th scope=col>&lt;chr&gt;</th><th scope=col>&lt;chr&gt;</th><th scope=col>&lt;chr&gt;</th><th scope=col>&lt;dbl&gt;</th><th scope=col>&lt;dbl&gt;</th><th scope=col>&lt;dbl&gt;</th><th scope=col>&lt;dbl&gt;</th><th scope=col>&lt;dbl&gt;</th><th scope=col>&lt;dbl&gt;</th><th scope=col>&lt;dbl&gt;</th><th scope=col>&lt;dbl&gt;</th><th scope=col>&lt;dbl&gt;</th><th scope=col>&lt;dbl&gt;</th><th scope=col>&lt;dbl&gt;</th></tr>\n",
              "</thead>\n",
              "<tbody>\n",
              "\t<tr><td>1</td><td>2</td><td>RST</td><td>MN</td><td>DEN</td><td>CO</td><td>1104</td><td>-11</td><td>0</td><td>1213</td><td>-33</td><td>0</td><td>NA</td><td>NA</td><td>NA</td><td>NA</td><td>NA</td></tr>\n",
              "\t<tr><td>1</td><td>2</td><td>RST</td><td>MN</td><td>ORD</td><td>IL</td><td>1715</td><td>-10</td><td>0</td><td>1828</td><td>-22</td><td>0</td><td>NA</td><td>NA</td><td>NA</td><td>NA</td><td>NA</td></tr>\n",
              "\t<tr><td>1</td><td>2</td><td>RST</td><td>MN</td><td>ORD</td><td>IL</td><td> 620</td><td>-10</td><td>0</td><td> 747</td><td>-10</td><td>0</td><td>NA</td><td>NA</td><td>NA</td><td>NA</td><td>NA</td></tr>\n",
              "\t<tr><td>1</td><td>2</td><td>RST</td><td>MN</td><td>MSP</td><td>MN</td><td> 604</td><td>-11</td><td>0</td><td> 648</td><td>-33</td><td>0</td><td>NA</td><td>NA</td><td>NA</td><td>NA</td><td>NA</td></tr>\n",
              "\t<tr><td>1</td><td>2</td><td>RST</td><td>MN</td><td>MSP</td><td>MN</td><td>1155</td><td> -5</td><td>0</td><td>1239</td><td>-15</td><td>0</td><td>NA</td><td>NA</td><td>NA</td><td>NA</td><td>NA</td></tr>\n",
              "\t<tr><td>1</td><td>2</td><td>RST</td><td>MN</td><td>MSP</td><td>MN</td><td>1754</td><td> -5</td><td>0</td><td>1844</td><td>-19</td><td>0</td><td>NA</td><td>NA</td><td>NA</td><td>NA</td><td>NA</td></tr>\n",
              "</tbody>\n",
              "</table>\n"
            ]
          },
          "metadata": {
            "tags": []
          }
        }
      ]
    },
    {
      "cell_type": "markdown",
      "metadata": {
        "id": "Pmi5_a1XUWhp"
      },
      "source": [
        "Next, let us collect the rows where the ORIGIN airport is RST and the destination airport is MSP, i.e. Minneapolis, MN.\r\n",
        "\r\n",
        "<p align='center'><img src=\"https://drive.google.com/uc?export=view&id=1c142gdrEPwS_j09pqK1x8kpQjYDYSs47\" width='25%' height='25%'></p>"
      ]
    },
    {
      "cell_type": "code",
      "metadata": {
        "id": "7B0ykBf5UWpe"
      },
      "source": [
        "#Getting desired rows\r\n",
        "(\r\n",
        "  Ontime\r\n",
        "  %>% filter(ORIGIN == \"RST\", DEST == \"MSP\")\r\n",
        "\r\n",
        ") -> RST_to_MSP\r\n"
      ],
      "execution_count": 76,
      "outputs": []
    },
    {
      "cell_type": "markdown",
      "metadata": {
        "id": "GNBDQuyEU4Bj"
      },
      "source": [
        "Looking at the dimension and a few rows of the RST_to_MSP dataframe."
      ]
    },
    {
      "cell_type": "code",
      "metadata": {
        "colab": {
          "base_uri": "https://localhost:8080/",
          "height": 367
        },
        "id": "Cw__AJCxU4Iv",
        "outputId": "acea339f-5045-4cf0-ca7b-15c880572bd1"
      },
      "source": [
        "#Getting the dimension of the dataframe and taking a look at a few rows.\r\n",
        " \r\n",
        " cat(\"The dimension of the RST_to_MSP dataframe is: \\n\")\r\n",
        "   dim(RST_to_MSP)\r\n",
        " \r\n",
        " cat(\"\\n\")\r\n",
        " \r\n",
        " cat(\"A printout of the RST_to_MSP dataframe:\\n\")\r\n",
        "   head(RST_to_MSP)\r\n"
      ],
      "execution_count": 80,
      "outputs": [
        {
          "output_type": "stream",
          "text": [
            "The dimension of the RST_to_MSP dataframe is: \n"
          ],
          "name": "stdout"
        },
        {
          "output_type": "display_data",
          "data": {
            "text/plain": [
              "[1] 118  17"
            ],
            "text/latex": "\\begin{enumerate*}\n\\item 118\n\\item 17\n\\end{enumerate*}\n",
            "text/markdown": "1. 118\n2. 17\n\n\n",
            "text/html": [
              "<style>\n",
              ".list-inline {list-style: none; margin:0; padding: 0}\n",
              ".list-inline>li {display: inline-block}\n",
              ".list-inline>li:not(:last-child)::after {content: \"\\00b7\"; padding: 0 .5ex}\n",
              "</style>\n",
              "<ol class=list-inline><li>118</li><li>17</li></ol>\n"
            ]
          },
          "metadata": {
            "tags": []
          }
        },
        {
          "output_type": "stream",
          "text": [
            "\n",
            "A printout of the RST_to_MSP dataframe:\n"
          ],
          "name": "stdout"
        },
        {
          "output_type": "display_data",
          "data": {
            "text/plain": [
              "  DAY_OF_MONTH DAY_OF_WEEK ORIGIN ORIGIN_STATE DEST DEST_STATE DEP_TIME\n",
              "1 1            2           RST    MN           MSP  MN          604    \n",
              "2 1            2           RST    MN           MSP  MN         1155    \n",
              "3 1            2           RST    MN           MSP  MN         1754    \n",
              "4 1            2           RST    MN           MSP  MN         1540    \n",
              "5 2            3           RST    MN           MSP  MN          606    \n",
              "6 2            3           RST    MN           MSP  MN         1149    \n",
              "  DEP_DELAY DEP_DEL15 ARR_TIME ARR_DELAY ARR_DEL15 CARRIER_DELAY WEATHER_DELAY\n",
              "1 -11       0          648     -33       0         NA            NA           \n",
              "2  -5       0         1239     -15       0         NA            NA           \n",
              "3  -5       0         1844     -19       0         NA            NA           \n",
              "4  -5       0         1628     -13       0         NA            NA           \n",
              "5  -9       0          658     -23       0         NA            NA           \n",
              "6 -10       0         1224     -29       0         NA            NA           \n",
              "  NAS_DELAY SECURITY_DELAY LATE_AIRCRAFT_DELAY\n",
              "1 NA        NA             NA                 \n",
              "2 NA        NA             NA                 \n",
              "3 NA        NA             NA                 \n",
              "4 NA        NA             NA                 \n",
              "5 NA        NA             NA                 \n",
              "6 NA        NA             NA                 "
            ],
            "text/latex": "A tibble: 6 × 17\n\\begin{tabular}{lllllllllllllllll}\n DAY\\_OF\\_MONTH & DAY\\_OF\\_WEEK & ORIGIN & ORIGIN\\_STATE & DEST & DEST\\_STATE & DEP\\_TIME & DEP\\_DELAY & DEP\\_DEL15 & ARR\\_TIME & ARR\\_DELAY & ARR\\_DEL15 & CARRIER\\_DELAY & WEATHER\\_DELAY & NAS\\_DELAY & SECURITY\\_DELAY & LATE\\_AIRCRAFT\\_DELAY\\\\\n <dbl> & <dbl> & <chr> & <chr> & <chr> & <chr> & <dbl> & <dbl> & <dbl> & <dbl> & <dbl> & <dbl> & <dbl> & <dbl> & <dbl> & <dbl> & <dbl>\\\\\n\\hline\n\t 1 & 2 & RST & MN & MSP & MN &  604 & -11 & 0 &  648 & -33 & 0 & NA & NA & NA & NA & NA\\\\\n\t 1 & 2 & RST & MN & MSP & MN & 1155 &  -5 & 0 & 1239 & -15 & 0 & NA & NA & NA & NA & NA\\\\\n\t 1 & 2 & RST & MN & MSP & MN & 1754 &  -5 & 0 & 1844 & -19 & 0 & NA & NA & NA & NA & NA\\\\\n\t 1 & 2 & RST & MN & MSP & MN & 1540 &  -5 & 0 & 1628 & -13 & 0 & NA & NA & NA & NA & NA\\\\\n\t 2 & 3 & RST & MN & MSP & MN &  606 &  -9 & 0 &  658 & -23 & 0 & NA & NA & NA & NA & NA\\\\\n\t 2 & 3 & RST & MN & MSP & MN & 1149 & -10 & 0 & 1224 & -29 & 0 & NA & NA & NA & NA & NA\\\\\n\\end{tabular}\n",
            "text/markdown": "\nA tibble: 6 × 17\n\n| DAY_OF_MONTH &lt;dbl&gt; | DAY_OF_WEEK &lt;dbl&gt; | ORIGIN &lt;chr&gt; | ORIGIN_STATE &lt;chr&gt; | DEST &lt;chr&gt; | DEST_STATE &lt;chr&gt; | DEP_TIME &lt;dbl&gt; | DEP_DELAY &lt;dbl&gt; | DEP_DEL15 &lt;dbl&gt; | ARR_TIME &lt;dbl&gt; | ARR_DELAY &lt;dbl&gt; | ARR_DEL15 &lt;dbl&gt; | CARRIER_DELAY &lt;dbl&gt; | WEATHER_DELAY &lt;dbl&gt; | NAS_DELAY &lt;dbl&gt; | SECURITY_DELAY &lt;dbl&gt; | LATE_AIRCRAFT_DELAY &lt;dbl&gt; |\n|---|---|---|---|---|---|---|---|---|---|---|---|---|---|---|---|---|\n| 1 | 2 | RST | MN | MSP | MN |  604 | -11 | 0 |  648 | -33 | 0 | NA | NA | NA | NA | NA |\n| 1 | 2 | RST | MN | MSP | MN | 1155 |  -5 | 0 | 1239 | -15 | 0 | NA | NA | NA | NA | NA |\n| 1 | 2 | RST | MN | MSP | MN | 1754 |  -5 | 0 | 1844 | -19 | 0 | NA | NA | NA | NA | NA |\n| 1 | 2 | RST | MN | MSP | MN | 1540 |  -5 | 0 | 1628 | -13 | 0 | NA | NA | NA | NA | NA |\n| 2 | 3 | RST | MN | MSP | MN |  606 |  -9 | 0 |  658 | -23 | 0 | NA | NA | NA | NA | NA |\n| 2 | 3 | RST | MN | MSP | MN | 1149 | -10 | 0 | 1224 | -29 | 0 | NA | NA | NA | NA | NA |\n\n",
            "text/html": [
              "<table class=\"dataframe\">\n",
              "<caption>A tibble: 6 × 17</caption>\n",
              "<thead>\n",
              "\t<tr><th scope=col>DAY_OF_MONTH</th><th scope=col>DAY_OF_WEEK</th><th scope=col>ORIGIN</th><th scope=col>ORIGIN_STATE</th><th scope=col>DEST</th><th scope=col>DEST_STATE</th><th scope=col>DEP_TIME</th><th scope=col>DEP_DELAY</th><th scope=col>DEP_DEL15</th><th scope=col>ARR_TIME</th><th scope=col>ARR_DELAY</th><th scope=col>ARR_DEL15</th><th scope=col>CARRIER_DELAY</th><th scope=col>WEATHER_DELAY</th><th scope=col>NAS_DELAY</th><th scope=col>SECURITY_DELAY</th><th scope=col>LATE_AIRCRAFT_DELAY</th></tr>\n",
              "\t<tr><th scope=col>&lt;dbl&gt;</th><th scope=col>&lt;dbl&gt;</th><th scope=col>&lt;chr&gt;</th><th scope=col>&lt;chr&gt;</th><th scope=col>&lt;chr&gt;</th><th scope=col>&lt;chr&gt;</th><th scope=col>&lt;dbl&gt;</th><th scope=col>&lt;dbl&gt;</th><th scope=col>&lt;dbl&gt;</th><th scope=col>&lt;dbl&gt;</th><th scope=col>&lt;dbl&gt;</th><th scope=col>&lt;dbl&gt;</th><th scope=col>&lt;dbl&gt;</th><th scope=col>&lt;dbl&gt;</th><th scope=col>&lt;dbl&gt;</th><th scope=col>&lt;dbl&gt;</th><th scope=col>&lt;dbl&gt;</th></tr>\n",
              "</thead>\n",
              "<tbody>\n",
              "\t<tr><td>1</td><td>2</td><td>RST</td><td>MN</td><td>MSP</td><td>MN</td><td> 604</td><td>-11</td><td>0</td><td> 648</td><td>-33</td><td>0</td><td>NA</td><td>NA</td><td>NA</td><td>NA</td><td>NA</td></tr>\n",
              "\t<tr><td>1</td><td>2</td><td>RST</td><td>MN</td><td>MSP</td><td>MN</td><td>1155</td><td> -5</td><td>0</td><td>1239</td><td>-15</td><td>0</td><td>NA</td><td>NA</td><td>NA</td><td>NA</td><td>NA</td></tr>\n",
              "\t<tr><td>1</td><td>2</td><td>RST</td><td>MN</td><td>MSP</td><td>MN</td><td>1754</td><td> -5</td><td>0</td><td>1844</td><td>-19</td><td>0</td><td>NA</td><td>NA</td><td>NA</td><td>NA</td><td>NA</td></tr>\n",
              "\t<tr><td>1</td><td>2</td><td>RST</td><td>MN</td><td>MSP</td><td>MN</td><td>1540</td><td> -5</td><td>0</td><td>1628</td><td>-13</td><td>0</td><td>NA</td><td>NA</td><td>NA</td><td>NA</td><td>NA</td></tr>\n",
              "\t<tr><td>2</td><td>3</td><td>RST</td><td>MN</td><td>MSP</td><td>MN</td><td> 606</td><td> -9</td><td>0</td><td> 658</td><td>-23</td><td>0</td><td>NA</td><td>NA</td><td>NA</td><td>NA</td><td>NA</td></tr>\n",
              "\t<tr><td>2</td><td>3</td><td>RST</td><td>MN</td><td>MSP</td><td>MN</td><td>1149</td><td>-10</td><td>0</td><td>1224</td><td>-29</td><td>0</td><td>NA</td><td>NA</td><td>NA</td><td>NA</td><td>NA</td></tr>\n",
              "</tbody>\n",
              "</table>\n"
            ]
          },
          "metadata": {
            "tags": []
          }
        }
      ]
    },
    {
      "cell_type": "markdown",
      "metadata": {
        "id": "HXBhXzNPVPJn"
      },
      "source": [
        "Next, let us collect the rows where the ORIGIN airport is RST or the ORIGIN airport is DLH, i.e. Duluth, MN.\r\n",
        "\r\n",
        "<p align='center'><img src=\"https://drive.google.com/uc?export=view&id=1zQzTj9PJkooEfkkaioffNW1O49Cocy7Y\" width='25%' height='25%'></p>\r\n",
        "\r\n",
        "\r\n"
      ]
    },
    {
      "cell_type": "code",
      "metadata": {
        "id": "2oSid1ULVPRQ"
      },
      "source": [
        "#Getting desired rows\r\n",
        "(\r\n",
        "  Ontime\r\n",
        "  %>% filter(ORIGIN == \"RST\" | ORIGIN == \"DLH\")\r\n",
        "\r\n",
        ") -> RST_or_DLH"
      ],
      "execution_count": 78,
      "outputs": []
    },
    {
      "cell_type": "markdown",
      "metadata": {
        "id": "XH6_uIduVcgp"
      },
      "source": [
        "Looking at the dimension and a few rows of the RST_to_MSP dataframe."
      ]
    },
    {
      "cell_type": "code",
      "metadata": {
        "colab": {
          "base_uri": "https://localhost:8080/",
          "height": 367
        },
        "id": "laPYmEJIVcnI",
        "outputId": "9f54cfe9-e255-481d-e0aa-9c5555b07cec"
      },
      "source": [
        "#Getting the dimension of the dataframe and taking a look at a few rows.\r\n",
        " \r\n",
        " cat(\"The dimension of the RST_or_DLH dataframe is: \\n\")\r\n",
        "   dim(RST_or_DLH)\r\n",
        " \r\n",
        " cat(\"\\n\")\r\n",
        " \r\n",
        " cat(\"A printout of the RST_or_DLH dataframe:\\n\")\r\n",
        "   head(RST_or_DLH)"
      ],
      "execution_count": 79,
      "outputs": [
        {
          "output_type": "stream",
          "text": [
            "The dimension of the RST dataframe is: \n"
          ],
          "name": "stdout"
        },
        {
          "output_type": "display_data",
          "data": {
            "text/plain": [
              "[1] 359  17"
            ],
            "text/latex": "\\begin{enumerate*}\n\\item 359\n\\item 17\n\\end{enumerate*}\n",
            "text/markdown": "1. 359\n2. 17\n\n\n",
            "text/html": [
              "<style>\n",
              ".list-inline {list-style: none; margin:0; padding: 0}\n",
              ".list-inline>li {display: inline-block}\n",
              ".list-inline>li:not(:last-child)::after {content: \"\\00b7\"; padding: 0 .5ex}\n",
              "</style>\n",
              "<ol class=list-inline><li>359</li><li>17</li></ol>\n"
            ]
          },
          "metadata": {
            "tags": []
          }
        },
        {
          "output_type": "stream",
          "text": [
            "\n",
            "A printout of the RST dataframe:\n"
          ],
          "name": "stdout"
        },
        {
          "output_type": "display_data",
          "data": {
            "text/plain": [
              "  DAY_OF_MONTH DAY_OF_WEEK ORIGIN ORIGIN_STATE DEST DEST_STATE DEP_TIME\n",
              "1 1            2           RST    MN           DEN  CO         1104    \n",
              "2 1            2           RST    MN           ORD  IL         1715    \n",
              "3 1            2           RST    MN           ORD  IL          620    \n",
              "4 1            2           RST    MN           MSP  MN          604    \n",
              "5 1            2           DLH    MN           MSP  MN         1602    \n",
              "6 1            2           DLH    MN           MSP  MN          554    \n",
              "  DEP_DELAY DEP_DEL15 ARR_TIME ARR_DELAY ARR_DEL15 CARRIER_DELAY WEATHER_DELAY\n",
              "1 -11       0         1213     -33       0         NA            NA           \n",
              "2 -10       0         1828     -22       0         NA            NA           \n",
              "3 -10       0          747     -10       0         NA            NA           \n",
              "4 -11       0          648     -33       0         NA            NA           \n",
              "5  -6       0         1651     -27       0         NA            NA           \n",
              "6  -6       0          644     -27       0         NA            NA           \n",
              "  NAS_DELAY SECURITY_DELAY LATE_AIRCRAFT_DELAY\n",
              "1 NA        NA             NA                 \n",
              "2 NA        NA             NA                 \n",
              "3 NA        NA             NA                 \n",
              "4 NA        NA             NA                 \n",
              "5 NA        NA             NA                 \n",
              "6 NA        NA             NA                 "
            ],
            "text/latex": "A tibble: 6 × 17\n\\begin{tabular}{lllllllllllllllll}\n DAY\\_OF\\_MONTH & DAY\\_OF\\_WEEK & ORIGIN & ORIGIN\\_STATE & DEST & DEST\\_STATE & DEP\\_TIME & DEP\\_DELAY & DEP\\_DEL15 & ARR\\_TIME & ARR\\_DELAY & ARR\\_DEL15 & CARRIER\\_DELAY & WEATHER\\_DELAY & NAS\\_DELAY & SECURITY\\_DELAY & LATE\\_AIRCRAFT\\_DELAY\\\\\n <dbl> & <dbl> & <chr> & <chr> & <chr> & <chr> & <dbl> & <dbl> & <dbl> & <dbl> & <dbl> & <dbl> & <dbl> & <dbl> & <dbl> & <dbl> & <dbl>\\\\\n\\hline\n\t 1 & 2 & RST & MN & DEN & CO & 1104 & -11 & 0 & 1213 & -33 & 0 & NA & NA & NA & NA & NA\\\\\n\t 1 & 2 & RST & MN & ORD & IL & 1715 & -10 & 0 & 1828 & -22 & 0 & NA & NA & NA & NA & NA\\\\\n\t 1 & 2 & RST & MN & ORD & IL &  620 & -10 & 0 &  747 & -10 & 0 & NA & NA & NA & NA & NA\\\\\n\t 1 & 2 & RST & MN & MSP & MN &  604 & -11 & 0 &  648 & -33 & 0 & NA & NA & NA & NA & NA\\\\\n\t 1 & 2 & DLH & MN & MSP & MN & 1602 &  -6 & 0 & 1651 & -27 & 0 & NA & NA & NA & NA & NA\\\\\n\t 1 & 2 & DLH & MN & MSP & MN &  554 &  -6 & 0 &  644 & -27 & 0 & NA & NA & NA & NA & NA\\\\\n\\end{tabular}\n",
            "text/markdown": "\nA tibble: 6 × 17\n\n| DAY_OF_MONTH &lt;dbl&gt; | DAY_OF_WEEK &lt;dbl&gt; | ORIGIN &lt;chr&gt; | ORIGIN_STATE &lt;chr&gt; | DEST &lt;chr&gt; | DEST_STATE &lt;chr&gt; | DEP_TIME &lt;dbl&gt; | DEP_DELAY &lt;dbl&gt; | DEP_DEL15 &lt;dbl&gt; | ARR_TIME &lt;dbl&gt; | ARR_DELAY &lt;dbl&gt; | ARR_DEL15 &lt;dbl&gt; | CARRIER_DELAY &lt;dbl&gt; | WEATHER_DELAY &lt;dbl&gt; | NAS_DELAY &lt;dbl&gt; | SECURITY_DELAY &lt;dbl&gt; | LATE_AIRCRAFT_DELAY &lt;dbl&gt; |\n|---|---|---|---|---|---|---|---|---|---|---|---|---|---|---|---|---|\n| 1 | 2 | RST | MN | DEN | CO | 1104 | -11 | 0 | 1213 | -33 | 0 | NA | NA | NA | NA | NA |\n| 1 | 2 | RST | MN | ORD | IL | 1715 | -10 | 0 | 1828 | -22 | 0 | NA | NA | NA | NA | NA |\n| 1 | 2 | RST | MN | ORD | IL |  620 | -10 | 0 |  747 | -10 | 0 | NA | NA | NA | NA | NA |\n| 1 | 2 | RST | MN | MSP | MN |  604 | -11 | 0 |  648 | -33 | 0 | NA | NA | NA | NA | NA |\n| 1 | 2 | DLH | MN | MSP | MN | 1602 |  -6 | 0 | 1651 | -27 | 0 | NA | NA | NA | NA | NA |\n| 1 | 2 | DLH | MN | MSP | MN |  554 |  -6 | 0 |  644 | -27 | 0 | NA | NA | NA | NA | NA |\n\n",
            "text/html": [
              "<table class=\"dataframe\">\n",
              "<caption>A tibble: 6 × 17</caption>\n",
              "<thead>\n",
              "\t<tr><th scope=col>DAY_OF_MONTH</th><th scope=col>DAY_OF_WEEK</th><th scope=col>ORIGIN</th><th scope=col>ORIGIN_STATE</th><th scope=col>DEST</th><th scope=col>DEST_STATE</th><th scope=col>DEP_TIME</th><th scope=col>DEP_DELAY</th><th scope=col>DEP_DEL15</th><th scope=col>ARR_TIME</th><th scope=col>ARR_DELAY</th><th scope=col>ARR_DEL15</th><th scope=col>CARRIER_DELAY</th><th scope=col>WEATHER_DELAY</th><th scope=col>NAS_DELAY</th><th scope=col>SECURITY_DELAY</th><th scope=col>LATE_AIRCRAFT_DELAY</th></tr>\n",
              "\t<tr><th scope=col>&lt;dbl&gt;</th><th scope=col>&lt;dbl&gt;</th><th scope=col>&lt;chr&gt;</th><th scope=col>&lt;chr&gt;</th><th scope=col>&lt;chr&gt;</th><th scope=col>&lt;chr&gt;</th><th scope=col>&lt;dbl&gt;</th><th scope=col>&lt;dbl&gt;</th><th scope=col>&lt;dbl&gt;</th><th scope=col>&lt;dbl&gt;</th><th scope=col>&lt;dbl&gt;</th><th scope=col>&lt;dbl&gt;</th><th scope=col>&lt;dbl&gt;</th><th scope=col>&lt;dbl&gt;</th><th scope=col>&lt;dbl&gt;</th><th scope=col>&lt;dbl&gt;</th><th scope=col>&lt;dbl&gt;</th></tr>\n",
              "</thead>\n",
              "<tbody>\n",
              "\t<tr><td>1</td><td>2</td><td>RST</td><td>MN</td><td>DEN</td><td>CO</td><td>1104</td><td>-11</td><td>0</td><td>1213</td><td>-33</td><td>0</td><td>NA</td><td>NA</td><td>NA</td><td>NA</td><td>NA</td></tr>\n",
              "\t<tr><td>1</td><td>2</td><td>RST</td><td>MN</td><td>ORD</td><td>IL</td><td>1715</td><td>-10</td><td>0</td><td>1828</td><td>-22</td><td>0</td><td>NA</td><td>NA</td><td>NA</td><td>NA</td><td>NA</td></tr>\n",
              "\t<tr><td>1</td><td>2</td><td>RST</td><td>MN</td><td>ORD</td><td>IL</td><td> 620</td><td>-10</td><td>0</td><td> 747</td><td>-10</td><td>0</td><td>NA</td><td>NA</td><td>NA</td><td>NA</td><td>NA</td></tr>\n",
              "\t<tr><td>1</td><td>2</td><td>RST</td><td>MN</td><td>MSP</td><td>MN</td><td> 604</td><td>-11</td><td>0</td><td> 648</td><td>-33</td><td>0</td><td>NA</td><td>NA</td><td>NA</td><td>NA</td><td>NA</td></tr>\n",
              "\t<tr><td>1</td><td>2</td><td>DLH</td><td>MN</td><td>MSP</td><td>MN</td><td>1602</td><td> -6</td><td>0</td><td>1651</td><td>-27</td><td>0</td><td>NA</td><td>NA</td><td>NA</td><td>NA</td><td>NA</td></tr>\n",
              "\t<tr><td>1</td><td>2</td><td>DLH</td><td>MN</td><td>MSP</td><td>MN</td><td> 554</td><td> -6</td><td>0</td><td> 644</td><td>-27</td><td>0</td><td>NA</td><td>NA</td><td>NA</td><td>NA</td><td>NA</td></tr>\n",
              "</tbody>\n",
              "</table>\n"
            ]
          },
          "metadata": {
            "tags": []
          }
        }
      ]
    },
    {
      "cell_type": "markdown",
      "metadata": {
        "id": "ykP3XkffVucA"
      },
      "source": [
        "Next, let us collect the rows where the ORIGIN airport is RST or the ORIGIN airport is DLH, i.e. Duluth, MN and the destination is MSP.\r\n",
        "\r\n",
        "\r\n",
        "Requested Rows: (ORIGIN is RST OR DLH) AND (DEST is MSP)"
      ]
    },
    {
      "cell_type": "code",
      "metadata": {
        "colab": {
          "base_uri": "https://localhost:8080/",
          "height": 787
        },
        "id": "PF2QNO_lVuky",
        "outputId": "079d52d2-2851-46a2-96c8-51d47be2dfda"
      },
      "source": [
        "#Getting desired rows\r\n",
        "(\r\n",
        "  Ontime\r\n",
        "  %>% filter(ORIGIN == \"RST\" | ORIGIN == \"DLH\")\r\n",
        "  %>% filter(DEST == \"MSP\")\r\n",
        ") -> RST_or_DLH_to_MSP\r\n",
        "\r\n",
        "\r\n",
        "cat(\"The dimension of the RST_or_DLH_to_MSP dataframe is: \\n\")\r\n",
        "   dim(RST_or_DLH_to_MSP)\r\n",
        " cat(\"\\n\")\r\n",
        " cat(\"A printout of the RST_or_DLH_to_MSP dataframe:\\n\")\r\n",
        "   head(RST_or_DLH_to_MSP,20)\r\n"
      ],
      "execution_count": 81,
      "outputs": [
        {
          "output_type": "stream",
          "text": [
            "The dimension of the RST_or_DLH_to_MSP dataframe is: \n"
          ],
          "name": "stdout"
        },
        {
          "output_type": "display_data",
          "data": {
            "text/plain": [
              "[1] 239  17"
            ],
            "text/latex": "\\begin{enumerate*}\n\\item 239\n\\item 17\n\\end{enumerate*}\n",
            "text/markdown": "1. 239\n2. 17\n\n\n",
            "text/html": [
              "<style>\n",
              ".list-inline {list-style: none; margin:0; padding: 0}\n",
              ".list-inline>li {display: inline-block}\n",
              ".list-inline>li:not(:last-child)::after {content: \"\\00b7\"; padding: 0 .5ex}\n",
              "</style>\n",
              "<ol class=list-inline><li>239</li><li>17</li></ol>\n"
            ]
          },
          "metadata": {
            "tags": []
          }
        },
        {
          "output_type": "stream",
          "text": [
            "\n",
            "A printout of the RST_or_DLH_to_MSP dataframe:\n"
          ],
          "name": "stdout"
        },
        {
          "output_type": "display_data",
          "data": {
            "text/plain": [
              "   DAY_OF_MONTH DAY_OF_WEEK ORIGIN ORIGIN_STATE DEST DEST_STATE DEP_TIME\n",
              "1  1            2           RST    MN           MSP  MN          604    \n",
              "2  1            2           DLH    MN           MSP  MN         1602    \n",
              "3  1            2           DLH    MN           MSP  MN          554    \n",
              "4  1            2           DLH    MN           MSP  MN         1331    \n",
              "5  1            2           RST    MN           MSP  MN         1155    \n",
              "6  1            2           DLH    MN           MSP  MN         1750    \n",
              "7  1            2           DLH    MN           MSP  MN         1046    \n",
              "8  1            2           RST    MN           MSP  MN         1754    \n",
              "9  1            2           RST    MN           MSP  MN         1540    \n",
              "10 2            3           RST    MN           MSP  MN          606    \n",
              "11 2            3           DLH    MN           MSP  MN         1223    \n",
              "12 2            3           DLH    MN           MSP  MN         1525    \n",
              "13 2            3           DLH    MN           MSP  MN          552    \n",
              "14 2            3           RST    MN           MSP  MN         1149    \n",
              "15 2            3           DLH    MN           MSP  MN         1750    \n",
              "16 2            3           RST    MN           MSP  MN         1754    \n",
              "17 2            3           RST    MN           MSP  MN         1540    \n",
              "18 3            4           RST    MN           MSP  MN          610    \n",
              "19 3            4           DLH    MN           MSP  MN         1219    \n",
              "20 3            4           DLH    MN           MSP  MN         1526    \n",
              "   DEP_DELAY DEP_DEL15 ARR_TIME ARR_DELAY ARR_DEL15 CARRIER_DELAY WEATHER_DELAY\n",
              "1  -11       0          648     -33       0         NA            NA           \n",
              "2   -6       0         1651     -27       0         NA            NA           \n",
              "3   -6       0          644     -27       0         NA            NA           \n",
              "4   31       1         1416      12       0         NA            NA           \n",
              "5   -5       0         1239     -15       0         NA            NA           \n",
              "6  -10       0         1853     -18       0         NA            NA           \n",
              "7   -6       0         1128     -32       0         NA            NA           \n",
              "8   -5       0         1844     -19       0         NA            NA           \n",
              "9   -5       0         1628     -13       0         NA            NA           \n",
              "10  -9       0          658     -23       0         NA            NA           \n",
              "11  -7       0         1307     -32       0         NA            NA           \n",
              "12 -10       0         1613     -32       0         NA            NA           \n",
              "13  -8       0          704     -10       0         NA            NA           \n",
              "14 -10       0         1224     -29       0         NA            NA           \n",
              "15 -10       0         1849     -21       0         NA            NA           \n",
              "16  -5       0         1837     -26       0         NA            NA           \n",
              "17  -5       0         1623     -17       0         NA            NA           \n",
              "18  -5       0          706     -14       0         NA            NA           \n",
              "19 -11       0         1310     -29       0         NA            NA           \n",
              "20  -9       0         1612     -33       0         NA            NA           \n",
              "   NAS_DELAY SECURITY_DELAY LATE_AIRCRAFT_DELAY\n",
              "1  NA        NA             NA                 \n",
              "2  NA        NA             NA                 \n",
              "3  NA        NA             NA                 \n",
              "4  NA        NA             NA                 \n",
              "5  NA        NA             NA                 \n",
              "6  NA        NA             NA                 \n",
              "7  NA        NA             NA                 \n",
              "8  NA        NA             NA                 \n",
              "9  NA        NA             NA                 \n",
              "10 NA        NA             NA                 \n",
              "11 NA        NA             NA                 \n",
              "12 NA        NA             NA                 \n",
              "13 NA        NA             NA                 \n",
              "14 NA        NA             NA                 \n",
              "15 NA        NA             NA                 \n",
              "16 NA        NA             NA                 \n",
              "17 NA        NA             NA                 \n",
              "18 NA        NA             NA                 \n",
              "19 NA        NA             NA                 \n",
              "20 NA        NA             NA                 "
            ],
            "text/latex": "A tibble: 20 × 17\n\\begin{tabular}{lllllllllllllllll}\n DAY\\_OF\\_MONTH & DAY\\_OF\\_WEEK & ORIGIN & ORIGIN\\_STATE & DEST & DEST\\_STATE & DEP\\_TIME & DEP\\_DELAY & DEP\\_DEL15 & ARR\\_TIME & ARR\\_DELAY & ARR\\_DEL15 & CARRIER\\_DELAY & WEATHER\\_DELAY & NAS\\_DELAY & SECURITY\\_DELAY & LATE\\_AIRCRAFT\\_DELAY\\\\\n <dbl> & <dbl> & <chr> & <chr> & <chr> & <chr> & <dbl> & <dbl> & <dbl> & <dbl> & <dbl> & <dbl> & <dbl> & <dbl> & <dbl> & <dbl> & <dbl>\\\\\n\\hline\n\t 1 & 2 & RST & MN & MSP & MN &  604 & -11 & 0 &  648 & -33 & 0 & NA & NA & NA & NA & NA\\\\\n\t 1 & 2 & DLH & MN & MSP & MN & 1602 &  -6 & 0 & 1651 & -27 & 0 & NA & NA & NA & NA & NA\\\\\n\t 1 & 2 & DLH & MN & MSP & MN &  554 &  -6 & 0 &  644 & -27 & 0 & NA & NA & NA & NA & NA\\\\\n\t 1 & 2 & DLH & MN & MSP & MN & 1331 &  31 & 1 & 1416 &  12 & 0 & NA & NA & NA & NA & NA\\\\\n\t 1 & 2 & RST & MN & MSP & MN & 1155 &  -5 & 0 & 1239 & -15 & 0 & NA & NA & NA & NA & NA\\\\\n\t 1 & 2 & DLH & MN & MSP & MN & 1750 & -10 & 0 & 1853 & -18 & 0 & NA & NA & NA & NA & NA\\\\\n\t 1 & 2 & DLH & MN & MSP & MN & 1046 &  -6 & 0 & 1128 & -32 & 0 & NA & NA & NA & NA & NA\\\\\n\t 1 & 2 & RST & MN & MSP & MN & 1754 &  -5 & 0 & 1844 & -19 & 0 & NA & NA & NA & NA & NA\\\\\n\t 1 & 2 & RST & MN & MSP & MN & 1540 &  -5 & 0 & 1628 & -13 & 0 & NA & NA & NA & NA & NA\\\\\n\t 2 & 3 & RST & MN & MSP & MN &  606 &  -9 & 0 &  658 & -23 & 0 & NA & NA & NA & NA & NA\\\\\n\t 2 & 3 & DLH & MN & MSP & MN & 1223 &  -7 & 0 & 1307 & -32 & 0 & NA & NA & NA & NA & NA\\\\\n\t 2 & 3 & DLH & MN & MSP & MN & 1525 & -10 & 0 & 1613 & -32 & 0 & NA & NA & NA & NA & NA\\\\\n\t 2 & 3 & DLH & MN & MSP & MN &  552 &  -8 & 0 &  704 & -10 & 0 & NA & NA & NA & NA & NA\\\\\n\t 2 & 3 & RST & MN & MSP & MN & 1149 & -10 & 0 & 1224 & -29 & 0 & NA & NA & NA & NA & NA\\\\\n\t 2 & 3 & DLH & MN & MSP & MN & 1750 & -10 & 0 & 1849 & -21 & 0 & NA & NA & NA & NA & NA\\\\\n\t 2 & 3 & RST & MN & MSP & MN & 1754 &  -5 & 0 & 1837 & -26 & 0 & NA & NA & NA & NA & NA\\\\\n\t 2 & 3 & RST & MN & MSP & MN & 1540 &  -5 & 0 & 1623 & -17 & 0 & NA & NA & NA & NA & NA\\\\\n\t 3 & 4 & RST & MN & MSP & MN &  610 &  -5 & 0 &  706 & -14 & 0 & NA & NA & NA & NA & NA\\\\\n\t 3 & 4 & DLH & MN & MSP & MN & 1219 & -11 & 0 & 1310 & -29 & 0 & NA & NA & NA & NA & NA\\\\\n\t 3 & 4 & DLH & MN & MSP & MN & 1526 &  -9 & 0 & 1612 & -33 & 0 & NA & NA & NA & NA & NA\\\\\n\\end{tabular}\n",
            "text/markdown": "\nA tibble: 20 × 17\n\n| DAY_OF_MONTH &lt;dbl&gt; | DAY_OF_WEEK &lt;dbl&gt; | ORIGIN &lt;chr&gt; | ORIGIN_STATE &lt;chr&gt; | DEST &lt;chr&gt; | DEST_STATE &lt;chr&gt; | DEP_TIME &lt;dbl&gt; | DEP_DELAY &lt;dbl&gt; | DEP_DEL15 &lt;dbl&gt; | ARR_TIME &lt;dbl&gt; | ARR_DELAY &lt;dbl&gt; | ARR_DEL15 &lt;dbl&gt; | CARRIER_DELAY &lt;dbl&gt; | WEATHER_DELAY &lt;dbl&gt; | NAS_DELAY &lt;dbl&gt; | SECURITY_DELAY &lt;dbl&gt; | LATE_AIRCRAFT_DELAY &lt;dbl&gt; |\n|---|---|---|---|---|---|---|---|---|---|---|---|---|---|---|---|---|\n| 1 | 2 | RST | MN | MSP | MN |  604 | -11 | 0 |  648 | -33 | 0 | NA | NA | NA | NA | NA |\n| 1 | 2 | DLH | MN | MSP | MN | 1602 |  -6 | 0 | 1651 | -27 | 0 | NA | NA | NA | NA | NA |\n| 1 | 2 | DLH | MN | MSP | MN |  554 |  -6 | 0 |  644 | -27 | 0 | NA | NA | NA | NA | NA |\n| 1 | 2 | DLH | MN | MSP | MN | 1331 |  31 | 1 | 1416 |  12 | 0 | NA | NA | NA | NA | NA |\n| 1 | 2 | RST | MN | MSP | MN | 1155 |  -5 | 0 | 1239 | -15 | 0 | NA | NA | NA | NA | NA |\n| 1 | 2 | DLH | MN | MSP | MN | 1750 | -10 | 0 | 1853 | -18 | 0 | NA | NA | NA | NA | NA |\n| 1 | 2 | DLH | MN | MSP | MN | 1046 |  -6 | 0 | 1128 | -32 | 0 | NA | NA | NA | NA | NA |\n| 1 | 2 | RST | MN | MSP | MN | 1754 |  -5 | 0 | 1844 | -19 | 0 | NA | NA | NA | NA | NA |\n| 1 | 2 | RST | MN | MSP | MN | 1540 |  -5 | 0 | 1628 | -13 | 0 | NA | NA | NA | NA | NA |\n| 2 | 3 | RST | MN | MSP | MN |  606 |  -9 | 0 |  658 | -23 | 0 | NA | NA | NA | NA | NA |\n| 2 | 3 | DLH | MN | MSP | MN | 1223 |  -7 | 0 | 1307 | -32 | 0 | NA | NA | NA | NA | NA |\n| 2 | 3 | DLH | MN | MSP | MN | 1525 | -10 | 0 | 1613 | -32 | 0 | NA | NA | NA | NA | NA |\n| 2 | 3 | DLH | MN | MSP | MN |  552 |  -8 | 0 |  704 | -10 | 0 | NA | NA | NA | NA | NA |\n| 2 | 3 | RST | MN | MSP | MN | 1149 | -10 | 0 | 1224 | -29 | 0 | NA | NA | NA | NA | NA |\n| 2 | 3 | DLH | MN | MSP | MN | 1750 | -10 | 0 | 1849 | -21 | 0 | NA | NA | NA | NA | NA |\n| 2 | 3 | RST | MN | MSP | MN | 1754 |  -5 | 0 | 1837 | -26 | 0 | NA | NA | NA | NA | NA |\n| 2 | 3 | RST | MN | MSP | MN | 1540 |  -5 | 0 | 1623 | -17 | 0 | NA | NA | NA | NA | NA |\n| 3 | 4 | RST | MN | MSP | MN |  610 |  -5 | 0 |  706 | -14 | 0 | NA | NA | NA | NA | NA |\n| 3 | 4 | DLH | MN | MSP | MN | 1219 | -11 | 0 | 1310 | -29 | 0 | NA | NA | NA | NA | NA |\n| 3 | 4 | DLH | MN | MSP | MN | 1526 |  -9 | 0 | 1612 | -33 | 0 | NA | NA | NA | NA | NA |\n\n",
            "text/html": [
              "<table class=\"dataframe\">\n",
              "<caption>A tibble: 20 × 17</caption>\n",
              "<thead>\n",
              "\t<tr><th scope=col>DAY_OF_MONTH</th><th scope=col>DAY_OF_WEEK</th><th scope=col>ORIGIN</th><th scope=col>ORIGIN_STATE</th><th scope=col>DEST</th><th scope=col>DEST_STATE</th><th scope=col>DEP_TIME</th><th scope=col>DEP_DELAY</th><th scope=col>DEP_DEL15</th><th scope=col>ARR_TIME</th><th scope=col>ARR_DELAY</th><th scope=col>ARR_DEL15</th><th scope=col>CARRIER_DELAY</th><th scope=col>WEATHER_DELAY</th><th scope=col>NAS_DELAY</th><th scope=col>SECURITY_DELAY</th><th scope=col>LATE_AIRCRAFT_DELAY</th></tr>\n",
              "\t<tr><th scope=col>&lt;dbl&gt;</th><th scope=col>&lt;dbl&gt;</th><th scope=col>&lt;chr&gt;</th><th scope=col>&lt;chr&gt;</th><th scope=col>&lt;chr&gt;</th><th scope=col>&lt;chr&gt;</th><th scope=col>&lt;dbl&gt;</th><th scope=col>&lt;dbl&gt;</th><th scope=col>&lt;dbl&gt;</th><th scope=col>&lt;dbl&gt;</th><th scope=col>&lt;dbl&gt;</th><th scope=col>&lt;dbl&gt;</th><th scope=col>&lt;dbl&gt;</th><th scope=col>&lt;dbl&gt;</th><th scope=col>&lt;dbl&gt;</th><th scope=col>&lt;dbl&gt;</th><th scope=col>&lt;dbl&gt;</th></tr>\n",
              "</thead>\n",
              "<tbody>\n",
              "\t<tr><td>1</td><td>2</td><td>RST</td><td>MN</td><td>MSP</td><td>MN</td><td> 604</td><td>-11</td><td>0</td><td> 648</td><td>-33</td><td>0</td><td>NA</td><td>NA</td><td>NA</td><td>NA</td><td>NA</td></tr>\n",
              "\t<tr><td>1</td><td>2</td><td>DLH</td><td>MN</td><td>MSP</td><td>MN</td><td>1602</td><td> -6</td><td>0</td><td>1651</td><td>-27</td><td>0</td><td>NA</td><td>NA</td><td>NA</td><td>NA</td><td>NA</td></tr>\n",
              "\t<tr><td>1</td><td>2</td><td>DLH</td><td>MN</td><td>MSP</td><td>MN</td><td> 554</td><td> -6</td><td>0</td><td> 644</td><td>-27</td><td>0</td><td>NA</td><td>NA</td><td>NA</td><td>NA</td><td>NA</td></tr>\n",
              "\t<tr><td>1</td><td>2</td><td>DLH</td><td>MN</td><td>MSP</td><td>MN</td><td>1331</td><td> 31</td><td>1</td><td>1416</td><td> 12</td><td>0</td><td>NA</td><td>NA</td><td>NA</td><td>NA</td><td>NA</td></tr>\n",
              "\t<tr><td>1</td><td>2</td><td>RST</td><td>MN</td><td>MSP</td><td>MN</td><td>1155</td><td> -5</td><td>0</td><td>1239</td><td>-15</td><td>0</td><td>NA</td><td>NA</td><td>NA</td><td>NA</td><td>NA</td></tr>\n",
              "\t<tr><td>1</td><td>2</td><td>DLH</td><td>MN</td><td>MSP</td><td>MN</td><td>1750</td><td>-10</td><td>0</td><td>1853</td><td>-18</td><td>0</td><td>NA</td><td>NA</td><td>NA</td><td>NA</td><td>NA</td></tr>\n",
              "\t<tr><td>1</td><td>2</td><td>DLH</td><td>MN</td><td>MSP</td><td>MN</td><td>1046</td><td> -6</td><td>0</td><td>1128</td><td>-32</td><td>0</td><td>NA</td><td>NA</td><td>NA</td><td>NA</td><td>NA</td></tr>\n",
              "\t<tr><td>1</td><td>2</td><td>RST</td><td>MN</td><td>MSP</td><td>MN</td><td>1754</td><td> -5</td><td>0</td><td>1844</td><td>-19</td><td>0</td><td>NA</td><td>NA</td><td>NA</td><td>NA</td><td>NA</td></tr>\n",
              "\t<tr><td>1</td><td>2</td><td>RST</td><td>MN</td><td>MSP</td><td>MN</td><td>1540</td><td> -5</td><td>0</td><td>1628</td><td>-13</td><td>0</td><td>NA</td><td>NA</td><td>NA</td><td>NA</td><td>NA</td></tr>\n",
              "\t<tr><td>2</td><td>3</td><td>RST</td><td>MN</td><td>MSP</td><td>MN</td><td> 606</td><td> -9</td><td>0</td><td> 658</td><td>-23</td><td>0</td><td>NA</td><td>NA</td><td>NA</td><td>NA</td><td>NA</td></tr>\n",
              "\t<tr><td>2</td><td>3</td><td>DLH</td><td>MN</td><td>MSP</td><td>MN</td><td>1223</td><td> -7</td><td>0</td><td>1307</td><td>-32</td><td>0</td><td>NA</td><td>NA</td><td>NA</td><td>NA</td><td>NA</td></tr>\n",
              "\t<tr><td>2</td><td>3</td><td>DLH</td><td>MN</td><td>MSP</td><td>MN</td><td>1525</td><td>-10</td><td>0</td><td>1613</td><td>-32</td><td>0</td><td>NA</td><td>NA</td><td>NA</td><td>NA</td><td>NA</td></tr>\n",
              "\t<tr><td>2</td><td>3</td><td>DLH</td><td>MN</td><td>MSP</td><td>MN</td><td> 552</td><td> -8</td><td>0</td><td> 704</td><td>-10</td><td>0</td><td>NA</td><td>NA</td><td>NA</td><td>NA</td><td>NA</td></tr>\n",
              "\t<tr><td>2</td><td>3</td><td>RST</td><td>MN</td><td>MSP</td><td>MN</td><td>1149</td><td>-10</td><td>0</td><td>1224</td><td>-29</td><td>0</td><td>NA</td><td>NA</td><td>NA</td><td>NA</td><td>NA</td></tr>\n",
              "\t<tr><td>2</td><td>3</td><td>DLH</td><td>MN</td><td>MSP</td><td>MN</td><td>1750</td><td>-10</td><td>0</td><td>1849</td><td>-21</td><td>0</td><td>NA</td><td>NA</td><td>NA</td><td>NA</td><td>NA</td></tr>\n",
              "\t<tr><td>2</td><td>3</td><td>RST</td><td>MN</td><td>MSP</td><td>MN</td><td>1754</td><td> -5</td><td>0</td><td>1837</td><td>-26</td><td>0</td><td>NA</td><td>NA</td><td>NA</td><td>NA</td><td>NA</td></tr>\n",
              "\t<tr><td>2</td><td>3</td><td>RST</td><td>MN</td><td>MSP</td><td>MN</td><td>1540</td><td> -5</td><td>0</td><td>1623</td><td>-17</td><td>0</td><td>NA</td><td>NA</td><td>NA</td><td>NA</td><td>NA</td></tr>\n",
              "\t<tr><td>3</td><td>4</td><td>RST</td><td>MN</td><td>MSP</td><td>MN</td><td> 610</td><td> -5</td><td>0</td><td> 706</td><td>-14</td><td>0</td><td>NA</td><td>NA</td><td>NA</td><td>NA</td><td>NA</td></tr>\n",
              "\t<tr><td>3</td><td>4</td><td>DLH</td><td>MN</td><td>MSP</td><td>MN</td><td>1219</td><td>-11</td><td>0</td><td>1310</td><td>-29</td><td>0</td><td>NA</td><td>NA</td><td>NA</td><td>NA</td><td>NA</td></tr>\n",
              "\t<tr><td>3</td><td>4</td><td>DLH</td><td>MN</td><td>MSP</td><td>MN</td><td>1526</td><td> -9</td><td>0</td><td>1612</td><td>-33</td><td>0</td><td>NA</td><td>NA</td><td>NA</td><td>NA</td><td>NA</td></tr>\n",
              "</tbody>\n",
              "</table>\n"
            ]
          },
          "metadata": {
            "tags": []
          }
        }
      ]
    },
    {
      "cell_type": "markdown",
      "metadata": {
        "id": "Tr-ZHTz4WcwS"
      },
      "source": [
        "Next, let us collect the rows where the ORIGIN airport is anywhere in MN and destination is MSP.\r\n",
        "\r\n"
      ]
    },
    {
      "cell_type": "code",
      "metadata": {
        "colab": {
          "base_uri": "https://localhost:8080/",
          "height": 787
        },
        "id": "-deAfezEWc5Q",
        "outputId": "66afd2f0-9df6-4672-8310-5bed7c8aeb5a"
      },
      "source": [
        "#Getting desired rows\r\n",
        "(\r\n",
        "  Ontime\r\n",
        "  %>% filter(ORIGIN_STATE == \"MN\")\r\n",
        "  %>% filter(DEST == \"MSP\")\r\n",
        ") -> MN_to_MSP\r\n",
        "\r\n",
        "cat(\"The dimension of the MN_to_MSP dataframe is: \\n\")\r\n",
        "   dim(MN_to_MSP)\r\n",
        "cat(\"\\n\")\r\n",
        "cat(\"A printout of the MN_to_MSP dataframe:\\n\")\r\n",
        "   head(MN_to_MSP,20)"
      ],
      "execution_count": 82,
      "outputs": [
        {
          "output_type": "stream",
          "text": [
            "The dimension of the MN_to_MSP dataframe is: \n"
          ],
          "name": "stdout"
        },
        {
          "output_type": "display_data",
          "data": {
            "text/plain": [
              "[1] 460  17"
            ],
            "text/latex": "\\begin{enumerate*}\n\\item 460\n\\item 17\n\\end{enumerate*}\n",
            "text/markdown": "1. 460\n2. 17\n\n\n",
            "text/html": [
              "<style>\n",
              ".list-inline {list-style: none; margin:0; padding: 0}\n",
              ".list-inline>li {display: inline-block}\n",
              ".list-inline>li:not(:last-child)::after {content: \"\\00b7\"; padding: 0 .5ex}\n",
              "</style>\n",
              "<ol class=list-inline><li>460</li><li>17</li></ol>\n"
            ]
          },
          "metadata": {
            "tags": []
          }
        },
        {
          "output_type": "stream",
          "text": [
            "\n",
            "A printout of the MN_to_MSP dataframe:\n"
          ],
          "name": "stdout"
        },
        {
          "output_type": "display_data",
          "data": {
            "text/plain": [
              "   DAY_OF_MONTH DAY_OF_WEEK ORIGIN ORIGIN_STATE DEST DEST_STATE DEP_TIME\n",
              "1  1            2           INL    MN           MSP  MN         1540    \n",
              "2  1            2           HIB    MN           MSP  MN          615    \n",
              "3  1            2           BJI    MN           MSP  MN          603    \n",
              "4  1            2           BJI    MN           MSP  MN         1302    \n",
              "5  1            2           BRD    MN           MSP  MN          613    \n",
              "6  1            2           RST    MN           MSP  MN          604    \n",
              "7  1            2           DLH    MN           MSP  MN         1602    \n",
              "8  1            2           DLH    MN           MSP  MN          554    \n",
              "9  1            2           DLH    MN           MSP  MN         1331    \n",
              "10 1            2           RST    MN           MSP  MN         1155    \n",
              "11 1            2           DLH    MN           MSP  MN         1750    \n",
              "12 1            2           DLH    MN           MSP  MN         1046    \n",
              "13 1            2           RST    MN           MSP  MN         1754    \n",
              "14 1            2           RST    MN           MSP  MN         1540    \n",
              "15 2            3           INL    MN           MSP  MN         1729    \n",
              "16 2            3           INL    MN           MSP  MN         1048    \n",
              "17 2            3           BRD    MN           MSP  MN         1753    \n",
              "18 2            3           HIB    MN           MSP  MN          606    \n",
              "19 2            3           BJI    MN           MSP  MN          615    \n",
              "20 2            3           BJI    MN           MSP  MN         1305    \n",
              "   DEP_DELAY DEP_DEL15 ARR_TIME ARR_DELAY ARR_DEL15 CARRIER_DELAY WEATHER_DELAY\n",
              "1   -5       0         1632     -27       0         NA            NA           \n",
              "2    0       0          716      -4       0         NA            NA           \n",
              "3  -12       0          702     -17       0         NA            NA           \n",
              "4   -8       0         1348     -24       0         NA            NA           \n",
              "5   -2       0          649     -20       0         NA            NA           \n",
              "6  -11       0          648     -33       0         NA            NA           \n",
              "7   -6       0         1651     -27       0         NA            NA           \n",
              "8   -6       0          644     -27       0         NA            NA           \n",
              "9   31       1         1416      12       0         NA            NA           \n",
              "10  -5       0         1239     -15       0         NA            NA           \n",
              "11 -10       0         1853     -18       0         NA            NA           \n",
              "12  -6       0         1128     -32       0         NA            NA           \n",
              "13  -5       0         1844     -19       0         NA            NA           \n",
              "14  -5       0         1628     -13       0         NA            NA           \n",
              "15 -21       0         1846     -20       0         NA            NA           \n",
              "16  -7       0         1200      -7       0         NA            NA           \n",
              "17  -2       0         1832     -18       0         NA            NA           \n",
              "18  -9       0          705     -15       0         NA            NA           \n",
              "19   0       0          712      -7       0         NA            NA           \n",
              "20  -5       0         1353     -19       0         NA            NA           \n",
              "   NAS_DELAY SECURITY_DELAY LATE_AIRCRAFT_DELAY\n",
              "1  NA        NA             NA                 \n",
              "2  NA        NA             NA                 \n",
              "3  NA        NA             NA                 \n",
              "4  NA        NA             NA                 \n",
              "5  NA        NA             NA                 \n",
              "6  NA        NA             NA                 \n",
              "7  NA        NA             NA                 \n",
              "8  NA        NA             NA                 \n",
              "9  NA        NA             NA                 \n",
              "10 NA        NA             NA                 \n",
              "11 NA        NA             NA                 \n",
              "12 NA        NA             NA                 \n",
              "13 NA        NA             NA                 \n",
              "14 NA        NA             NA                 \n",
              "15 NA        NA             NA                 \n",
              "16 NA        NA             NA                 \n",
              "17 NA        NA             NA                 \n",
              "18 NA        NA             NA                 \n",
              "19 NA        NA             NA                 \n",
              "20 NA        NA             NA                 "
            ],
            "text/latex": "A tibble: 20 × 17\n\\begin{tabular}{lllllllllllllllll}\n DAY\\_OF\\_MONTH & DAY\\_OF\\_WEEK & ORIGIN & ORIGIN\\_STATE & DEST & DEST\\_STATE & DEP\\_TIME & DEP\\_DELAY & DEP\\_DEL15 & ARR\\_TIME & ARR\\_DELAY & ARR\\_DEL15 & CARRIER\\_DELAY & WEATHER\\_DELAY & NAS\\_DELAY & SECURITY\\_DELAY & LATE\\_AIRCRAFT\\_DELAY\\\\\n <dbl> & <dbl> & <chr> & <chr> & <chr> & <chr> & <dbl> & <dbl> & <dbl> & <dbl> & <dbl> & <dbl> & <dbl> & <dbl> & <dbl> & <dbl> & <dbl>\\\\\n\\hline\n\t 1 & 2 & INL & MN & MSP & MN & 1540 &  -5 & 0 & 1632 & -27 & 0 & NA & NA & NA & NA & NA\\\\\n\t 1 & 2 & HIB & MN & MSP & MN &  615 &   0 & 0 &  716 &  -4 & 0 & NA & NA & NA & NA & NA\\\\\n\t 1 & 2 & BJI & MN & MSP & MN &  603 & -12 & 0 &  702 & -17 & 0 & NA & NA & NA & NA & NA\\\\\n\t 1 & 2 & BJI & MN & MSP & MN & 1302 &  -8 & 0 & 1348 & -24 & 0 & NA & NA & NA & NA & NA\\\\\n\t 1 & 2 & BRD & MN & MSP & MN &  613 &  -2 & 0 &  649 & -20 & 0 & NA & NA & NA & NA & NA\\\\\n\t 1 & 2 & RST & MN & MSP & MN &  604 & -11 & 0 &  648 & -33 & 0 & NA & NA & NA & NA & NA\\\\\n\t 1 & 2 & DLH & MN & MSP & MN & 1602 &  -6 & 0 & 1651 & -27 & 0 & NA & NA & NA & NA & NA\\\\\n\t 1 & 2 & DLH & MN & MSP & MN &  554 &  -6 & 0 &  644 & -27 & 0 & NA & NA & NA & NA & NA\\\\\n\t 1 & 2 & DLH & MN & MSP & MN & 1331 &  31 & 1 & 1416 &  12 & 0 & NA & NA & NA & NA & NA\\\\\n\t 1 & 2 & RST & MN & MSP & MN & 1155 &  -5 & 0 & 1239 & -15 & 0 & NA & NA & NA & NA & NA\\\\\n\t 1 & 2 & DLH & MN & MSP & MN & 1750 & -10 & 0 & 1853 & -18 & 0 & NA & NA & NA & NA & NA\\\\\n\t 1 & 2 & DLH & MN & MSP & MN & 1046 &  -6 & 0 & 1128 & -32 & 0 & NA & NA & NA & NA & NA\\\\\n\t 1 & 2 & RST & MN & MSP & MN & 1754 &  -5 & 0 & 1844 & -19 & 0 & NA & NA & NA & NA & NA\\\\\n\t 1 & 2 & RST & MN & MSP & MN & 1540 &  -5 & 0 & 1628 & -13 & 0 & NA & NA & NA & NA & NA\\\\\n\t 2 & 3 & INL & MN & MSP & MN & 1729 & -21 & 0 & 1846 & -20 & 0 & NA & NA & NA & NA & NA\\\\\n\t 2 & 3 & INL & MN & MSP & MN & 1048 &  -7 & 0 & 1200 &  -7 & 0 & NA & NA & NA & NA & NA\\\\\n\t 2 & 3 & BRD & MN & MSP & MN & 1753 &  -2 & 0 & 1832 & -18 & 0 & NA & NA & NA & NA & NA\\\\\n\t 2 & 3 & HIB & MN & MSP & MN &  606 &  -9 & 0 &  705 & -15 & 0 & NA & NA & NA & NA & NA\\\\\n\t 2 & 3 & BJI & MN & MSP & MN &  615 &   0 & 0 &  712 &  -7 & 0 & NA & NA & NA & NA & NA\\\\\n\t 2 & 3 & BJI & MN & MSP & MN & 1305 &  -5 & 0 & 1353 & -19 & 0 & NA & NA & NA & NA & NA\\\\\n\\end{tabular}\n",
            "text/markdown": "\nA tibble: 20 × 17\n\n| DAY_OF_MONTH &lt;dbl&gt; | DAY_OF_WEEK &lt;dbl&gt; | ORIGIN &lt;chr&gt; | ORIGIN_STATE &lt;chr&gt; | DEST &lt;chr&gt; | DEST_STATE &lt;chr&gt; | DEP_TIME &lt;dbl&gt; | DEP_DELAY &lt;dbl&gt; | DEP_DEL15 &lt;dbl&gt; | ARR_TIME &lt;dbl&gt; | ARR_DELAY &lt;dbl&gt; | ARR_DEL15 &lt;dbl&gt; | CARRIER_DELAY &lt;dbl&gt; | WEATHER_DELAY &lt;dbl&gt; | NAS_DELAY &lt;dbl&gt; | SECURITY_DELAY &lt;dbl&gt; | LATE_AIRCRAFT_DELAY &lt;dbl&gt; |\n|---|---|---|---|---|---|---|---|---|---|---|---|---|---|---|---|---|\n| 1 | 2 | INL | MN | MSP | MN | 1540 |  -5 | 0 | 1632 | -27 | 0 | NA | NA | NA | NA | NA |\n| 1 | 2 | HIB | MN | MSP | MN |  615 |   0 | 0 |  716 |  -4 | 0 | NA | NA | NA | NA | NA |\n| 1 | 2 | BJI | MN | MSP | MN |  603 | -12 | 0 |  702 | -17 | 0 | NA | NA | NA | NA | NA |\n| 1 | 2 | BJI | MN | MSP | MN | 1302 |  -8 | 0 | 1348 | -24 | 0 | NA | NA | NA | NA | NA |\n| 1 | 2 | BRD | MN | MSP | MN |  613 |  -2 | 0 |  649 | -20 | 0 | NA | NA | NA | NA | NA |\n| 1 | 2 | RST | MN | MSP | MN |  604 | -11 | 0 |  648 | -33 | 0 | NA | NA | NA | NA | NA |\n| 1 | 2 | DLH | MN | MSP | MN | 1602 |  -6 | 0 | 1651 | -27 | 0 | NA | NA | NA | NA | NA |\n| 1 | 2 | DLH | MN | MSP | MN |  554 |  -6 | 0 |  644 | -27 | 0 | NA | NA | NA | NA | NA |\n| 1 | 2 | DLH | MN | MSP | MN | 1331 |  31 | 1 | 1416 |  12 | 0 | NA | NA | NA | NA | NA |\n| 1 | 2 | RST | MN | MSP | MN | 1155 |  -5 | 0 | 1239 | -15 | 0 | NA | NA | NA | NA | NA |\n| 1 | 2 | DLH | MN | MSP | MN | 1750 | -10 | 0 | 1853 | -18 | 0 | NA | NA | NA | NA | NA |\n| 1 | 2 | DLH | MN | MSP | MN | 1046 |  -6 | 0 | 1128 | -32 | 0 | NA | NA | NA | NA | NA |\n| 1 | 2 | RST | MN | MSP | MN | 1754 |  -5 | 0 | 1844 | -19 | 0 | NA | NA | NA | NA | NA |\n| 1 | 2 | RST | MN | MSP | MN | 1540 |  -5 | 0 | 1628 | -13 | 0 | NA | NA | NA | NA | NA |\n| 2 | 3 | INL | MN | MSP | MN | 1729 | -21 | 0 | 1846 | -20 | 0 | NA | NA | NA | NA | NA |\n| 2 | 3 | INL | MN | MSP | MN | 1048 |  -7 | 0 | 1200 |  -7 | 0 | NA | NA | NA | NA | NA |\n| 2 | 3 | BRD | MN | MSP | MN | 1753 |  -2 | 0 | 1832 | -18 | 0 | NA | NA | NA | NA | NA |\n| 2 | 3 | HIB | MN | MSP | MN |  606 |  -9 | 0 |  705 | -15 | 0 | NA | NA | NA | NA | NA |\n| 2 | 3 | BJI | MN | MSP | MN |  615 |   0 | 0 |  712 |  -7 | 0 | NA | NA | NA | NA | NA |\n| 2 | 3 | BJI | MN | MSP | MN | 1305 |  -5 | 0 | 1353 | -19 | 0 | NA | NA | NA | NA | NA |\n\n",
            "text/html": [
              "<table class=\"dataframe\">\n",
              "<caption>A tibble: 20 × 17</caption>\n",
              "<thead>\n",
              "\t<tr><th scope=col>DAY_OF_MONTH</th><th scope=col>DAY_OF_WEEK</th><th scope=col>ORIGIN</th><th scope=col>ORIGIN_STATE</th><th scope=col>DEST</th><th scope=col>DEST_STATE</th><th scope=col>DEP_TIME</th><th scope=col>DEP_DELAY</th><th scope=col>DEP_DEL15</th><th scope=col>ARR_TIME</th><th scope=col>ARR_DELAY</th><th scope=col>ARR_DEL15</th><th scope=col>CARRIER_DELAY</th><th scope=col>WEATHER_DELAY</th><th scope=col>NAS_DELAY</th><th scope=col>SECURITY_DELAY</th><th scope=col>LATE_AIRCRAFT_DELAY</th></tr>\n",
              "\t<tr><th scope=col>&lt;dbl&gt;</th><th scope=col>&lt;dbl&gt;</th><th scope=col>&lt;chr&gt;</th><th scope=col>&lt;chr&gt;</th><th scope=col>&lt;chr&gt;</th><th scope=col>&lt;chr&gt;</th><th scope=col>&lt;dbl&gt;</th><th scope=col>&lt;dbl&gt;</th><th scope=col>&lt;dbl&gt;</th><th scope=col>&lt;dbl&gt;</th><th scope=col>&lt;dbl&gt;</th><th scope=col>&lt;dbl&gt;</th><th scope=col>&lt;dbl&gt;</th><th scope=col>&lt;dbl&gt;</th><th scope=col>&lt;dbl&gt;</th><th scope=col>&lt;dbl&gt;</th><th scope=col>&lt;dbl&gt;</th></tr>\n",
              "</thead>\n",
              "<tbody>\n",
              "\t<tr><td>1</td><td>2</td><td>INL</td><td>MN</td><td>MSP</td><td>MN</td><td>1540</td><td> -5</td><td>0</td><td>1632</td><td>-27</td><td>0</td><td>NA</td><td>NA</td><td>NA</td><td>NA</td><td>NA</td></tr>\n",
              "\t<tr><td>1</td><td>2</td><td>HIB</td><td>MN</td><td>MSP</td><td>MN</td><td> 615</td><td>  0</td><td>0</td><td> 716</td><td> -4</td><td>0</td><td>NA</td><td>NA</td><td>NA</td><td>NA</td><td>NA</td></tr>\n",
              "\t<tr><td>1</td><td>2</td><td>BJI</td><td>MN</td><td>MSP</td><td>MN</td><td> 603</td><td>-12</td><td>0</td><td> 702</td><td>-17</td><td>0</td><td>NA</td><td>NA</td><td>NA</td><td>NA</td><td>NA</td></tr>\n",
              "\t<tr><td>1</td><td>2</td><td>BJI</td><td>MN</td><td>MSP</td><td>MN</td><td>1302</td><td> -8</td><td>0</td><td>1348</td><td>-24</td><td>0</td><td>NA</td><td>NA</td><td>NA</td><td>NA</td><td>NA</td></tr>\n",
              "\t<tr><td>1</td><td>2</td><td>BRD</td><td>MN</td><td>MSP</td><td>MN</td><td> 613</td><td> -2</td><td>0</td><td> 649</td><td>-20</td><td>0</td><td>NA</td><td>NA</td><td>NA</td><td>NA</td><td>NA</td></tr>\n",
              "\t<tr><td>1</td><td>2</td><td>RST</td><td>MN</td><td>MSP</td><td>MN</td><td> 604</td><td>-11</td><td>0</td><td> 648</td><td>-33</td><td>0</td><td>NA</td><td>NA</td><td>NA</td><td>NA</td><td>NA</td></tr>\n",
              "\t<tr><td>1</td><td>2</td><td>DLH</td><td>MN</td><td>MSP</td><td>MN</td><td>1602</td><td> -6</td><td>0</td><td>1651</td><td>-27</td><td>0</td><td>NA</td><td>NA</td><td>NA</td><td>NA</td><td>NA</td></tr>\n",
              "\t<tr><td>1</td><td>2</td><td>DLH</td><td>MN</td><td>MSP</td><td>MN</td><td> 554</td><td> -6</td><td>0</td><td> 644</td><td>-27</td><td>0</td><td>NA</td><td>NA</td><td>NA</td><td>NA</td><td>NA</td></tr>\n",
              "\t<tr><td>1</td><td>2</td><td>DLH</td><td>MN</td><td>MSP</td><td>MN</td><td>1331</td><td> 31</td><td>1</td><td>1416</td><td> 12</td><td>0</td><td>NA</td><td>NA</td><td>NA</td><td>NA</td><td>NA</td></tr>\n",
              "\t<tr><td>1</td><td>2</td><td>RST</td><td>MN</td><td>MSP</td><td>MN</td><td>1155</td><td> -5</td><td>0</td><td>1239</td><td>-15</td><td>0</td><td>NA</td><td>NA</td><td>NA</td><td>NA</td><td>NA</td></tr>\n",
              "\t<tr><td>1</td><td>2</td><td>DLH</td><td>MN</td><td>MSP</td><td>MN</td><td>1750</td><td>-10</td><td>0</td><td>1853</td><td>-18</td><td>0</td><td>NA</td><td>NA</td><td>NA</td><td>NA</td><td>NA</td></tr>\n",
              "\t<tr><td>1</td><td>2</td><td>DLH</td><td>MN</td><td>MSP</td><td>MN</td><td>1046</td><td> -6</td><td>0</td><td>1128</td><td>-32</td><td>0</td><td>NA</td><td>NA</td><td>NA</td><td>NA</td><td>NA</td></tr>\n",
              "\t<tr><td>1</td><td>2</td><td>RST</td><td>MN</td><td>MSP</td><td>MN</td><td>1754</td><td> -5</td><td>0</td><td>1844</td><td>-19</td><td>0</td><td>NA</td><td>NA</td><td>NA</td><td>NA</td><td>NA</td></tr>\n",
              "\t<tr><td>1</td><td>2</td><td>RST</td><td>MN</td><td>MSP</td><td>MN</td><td>1540</td><td> -5</td><td>0</td><td>1628</td><td>-13</td><td>0</td><td>NA</td><td>NA</td><td>NA</td><td>NA</td><td>NA</td></tr>\n",
              "\t<tr><td>2</td><td>3</td><td>INL</td><td>MN</td><td>MSP</td><td>MN</td><td>1729</td><td>-21</td><td>0</td><td>1846</td><td>-20</td><td>0</td><td>NA</td><td>NA</td><td>NA</td><td>NA</td><td>NA</td></tr>\n",
              "\t<tr><td>2</td><td>3</td><td>INL</td><td>MN</td><td>MSP</td><td>MN</td><td>1048</td><td> -7</td><td>0</td><td>1200</td><td> -7</td><td>0</td><td>NA</td><td>NA</td><td>NA</td><td>NA</td><td>NA</td></tr>\n",
              "\t<tr><td>2</td><td>3</td><td>BRD</td><td>MN</td><td>MSP</td><td>MN</td><td>1753</td><td> -2</td><td>0</td><td>1832</td><td>-18</td><td>0</td><td>NA</td><td>NA</td><td>NA</td><td>NA</td><td>NA</td></tr>\n",
              "\t<tr><td>2</td><td>3</td><td>HIB</td><td>MN</td><td>MSP</td><td>MN</td><td> 606</td><td> -9</td><td>0</td><td> 705</td><td>-15</td><td>0</td><td>NA</td><td>NA</td><td>NA</td><td>NA</td><td>NA</td></tr>\n",
              "\t<tr><td>2</td><td>3</td><td>BJI</td><td>MN</td><td>MSP</td><td>MN</td><td> 615</td><td>  0</td><td>0</td><td> 712</td><td> -7</td><td>0</td><td>NA</td><td>NA</td><td>NA</td><td>NA</td><td>NA</td></tr>\n",
              "\t<tr><td>2</td><td>3</td><td>BJI</td><td>MN</td><td>MSP</td><td>MN</td><td>1305</td><td> -5</td><td>0</td><td>1353</td><td>-19</td><td>0</td><td>NA</td><td>NA</td><td>NA</td><td>NA</td><td>NA</td></tr>\n",
              "</tbody>\n",
              "</table>\n"
            ]
          },
          "metadata": {
            "tags": []
          }
        }
      ]
    },
    {
      "cell_type": "markdown",
      "metadata": {
        "id": "PjJKlYq2XM2S"
      },
      "source": [
        "Question:  What happens to departures from MSP and arrivals to MSP?"
      ]
    },
    {
      "cell_type": "code",
      "metadata": {
        "colab": {
          "base_uri": "https://localhost:8080/",
          "height": 313
        },
        "id": "6meDt7JAXM8_",
        "outputId": "252db185-7e0e-4042-e368-5c2d8d2fa4e7"
      },
      "source": [
        "#Getting desired rows\r\n",
        "(\r\n",
        "  Ontime\r\n",
        "  %>% filter(ORIGIN_STATE == \"MN\")\r\n",
        ") -> MN\r\n",
        "\r\n",
        "dim(MN)"
      ],
      "execution_count": null,
      "outputs": [
        {
          "output_type": "display_data",
          "data": {
            "text/plain": [
              "[1] 9371   17"
            ],
            "text/latex": "\\begin{enumerate*}\n\\item 9371\n\\item 17\n\\end{enumerate*}\n",
            "text/markdown": "1. 9371\n2. 17\n\n\n",
            "text/html": [
              "<style>\n",
              ".list-inline {list-style: none; margin:0; padding: 0}\n",
              ".list-inline>li {display: inline-block}\n",
              ".list-inline>li:not(:last-child)::after {content: \"\\00b7\"; padding: 0 .5ex}\n",
              "</style>\n",
              "<ol class=list-inline><li>9371</li><li>17</li></ol>\n"
            ]
          },
          "metadata": {
            "tags": []
          }
        },
        {
          "output_type": "display_data",
          "data": {
            "text/plain": [
              "  DAY_OF_MONTH DAY_OF_WEEK ORIGIN ORIGIN_STATE DEST DEST_STATE DEP_TIME\n",
              "1 1            2           MSP    MN           DFW  TX         1634    \n",
              "2 1            2           MSP    MN           CLT  NC         1342    \n",
              "3 1            2           MSP    MN           DFW  TX          616    \n",
              "4 1            2           MSP    MN           CLT  NC          635    \n",
              "5 1            2           MSP    MN           PHX  AZ         1105    \n",
              "6 1            2           MSP    MN           PHX  AZ         1531    \n",
              "  DEP_DELAY DEP_DEL15 ARR_TIME ARR_DELAY ARR_DEL15 CARRIER_DELAY WEATHER_DELAY\n",
              "1 31        1         1857      11       0         NA            NA           \n",
              "2 -4        0         1711      -8       0         NA            NA           \n",
              "3  1        0          856     -20       0         NA            NA           \n",
              "4 -6        0         1032       2       0         NA            NA           \n",
              "5 -5        0         1324     -16       0         NA            NA           \n",
              "6 -9        0         1745     -27       0         NA            NA           \n",
              "  NAS_DELAY SECURITY_DELAY LATE_AIRCRAFT_DELAY\n",
              "1 NA        NA             NA                 \n",
              "2 NA        NA             NA                 \n",
              "3 NA        NA             NA                 \n",
              "4 NA        NA             NA                 \n",
              "5 NA        NA             NA                 \n",
              "6 NA        NA             NA                 "
            ],
            "text/latex": "A tibble: 6 × 17\n\\begin{tabular}{lllllllllllllllll}\n DAY\\_OF\\_MONTH & DAY\\_OF\\_WEEK & ORIGIN & ORIGIN\\_STATE & DEST & DEST\\_STATE & DEP\\_TIME & DEP\\_DELAY & DEP\\_DEL15 & ARR\\_TIME & ARR\\_DELAY & ARR\\_DEL15 & CARRIER\\_DELAY & WEATHER\\_DELAY & NAS\\_DELAY & SECURITY\\_DELAY & LATE\\_AIRCRAFT\\_DELAY\\\\\n <dbl> & <dbl> & <chr> & <chr> & <chr> & <chr> & <dbl> & <dbl> & <dbl> & <dbl> & <dbl> & <dbl> & <dbl> & <dbl> & <dbl> & <dbl> & <dbl>\\\\\n\\hline\n\t 1 & 2 & MSP & MN & DFW & TX & 1634 & 31 & 1 & 1857 &  11 & 0 & NA & NA & NA & NA & NA\\\\\n\t 1 & 2 & MSP & MN & CLT & NC & 1342 & -4 & 0 & 1711 &  -8 & 0 & NA & NA & NA & NA & NA\\\\\n\t 1 & 2 & MSP & MN & DFW & TX &  616 &  1 & 0 &  856 & -20 & 0 & NA & NA & NA & NA & NA\\\\\n\t 1 & 2 & MSP & MN & CLT & NC &  635 & -6 & 0 & 1032 &   2 & 0 & NA & NA & NA & NA & NA\\\\\n\t 1 & 2 & MSP & MN & PHX & AZ & 1105 & -5 & 0 & 1324 & -16 & 0 & NA & NA & NA & NA & NA\\\\\n\t 1 & 2 & MSP & MN & PHX & AZ & 1531 & -9 & 0 & 1745 & -27 & 0 & NA & NA & NA & NA & NA\\\\\n\\end{tabular}\n",
            "text/markdown": "\nA tibble: 6 × 17\n\n| DAY_OF_MONTH &lt;dbl&gt; | DAY_OF_WEEK &lt;dbl&gt; | ORIGIN &lt;chr&gt; | ORIGIN_STATE &lt;chr&gt; | DEST &lt;chr&gt; | DEST_STATE &lt;chr&gt; | DEP_TIME &lt;dbl&gt; | DEP_DELAY &lt;dbl&gt; | DEP_DEL15 &lt;dbl&gt; | ARR_TIME &lt;dbl&gt; | ARR_DELAY &lt;dbl&gt; | ARR_DEL15 &lt;dbl&gt; | CARRIER_DELAY &lt;dbl&gt; | WEATHER_DELAY &lt;dbl&gt; | NAS_DELAY &lt;dbl&gt; | SECURITY_DELAY &lt;dbl&gt; | LATE_AIRCRAFT_DELAY &lt;dbl&gt; |\n|---|---|---|---|---|---|---|---|---|---|---|---|---|---|---|---|---|\n| 1 | 2 | MSP | MN | DFW | TX | 1634 | 31 | 1 | 1857 |  11 | 0 | NA | NA | NA | NA | NA |\n| 1 | 2 | MSP | MN | CLT | NC | 1342 | -4 | 0 | 1711 |  -8 | 0 | NA | NA | NA | NA | NA |\n| 1 | 2 | MSP | MN | DFW | TX |  616 |  1 | 0 |  856 | -20 | 0 | NA | NA | NA | NA | NA |\n| 1 | 2 | MSP | MN | CLT | NC |  635 | -6 | 0 | 1032 |   2 | 0 | NA | NA | NA | NA | NA |\n| 1 | 2 | MSP | MN | PHX | AZ | 1105 | -5 | 0 | 1324 | -16 | 0 | NA | NA | NA | NA | NA |\n| 1 | 2 | MSP | MN | PHX | AZ | 1531 | -9 | 0 | 1745 | -27 | 0 | NA | NA | NA | NA | NA |\n\n",
            "text/html": [
              "<table class=\"dataframe\">\n",
              "<caption>A tibble: 6 × 17</caption>\n",
              "<thead>\n",
              "\t<tr><th scope=col>DAY_OF_MONTH</th><th scope=col>DAY_OF_WEEK</th><th scope=col>ORIGIN</th><th scope=col>ORIGIN_STATE</th><th scope=col>DEST</th><th scope=col>DEST_STATE</th><th scope=col>DEP_TIME</th><th scope=col>DEP_DELAY</th><th scope=col>DEP_DEL15</th><th scope=col>ARR_TIME</th><th scope=col>ARR_DELAY</th><th scope=col>ARR_DEL15</th><th scope=col>CARRIER_DELAY</th><th scope=col>WEATHER_DELAY</th><th scope=col>NAS_DELAY</th><th scope=col>SECURITY_DELAY</th><th scope=col>LATE_AIRCRAFT_DELAY</th></tr>\n",
              "\t<tr><th scope=col>&lt;dbl&gt;</th><th scope=col>&lt;dbl&gt;</th><th scope=col>&lt;chr&gt;</th><th scope=col>&lt;chr&gt;</th><th scope=col>&lt;chr&gt;</th><th scope=col>&lt;chr&gt;</th><th scope=col>&lt;dbl&gt;</th><th scope=col>&lt;dbl&gt;</th><th scope=col>&lt;dbl&gt;</th><th scope=col>&lt;dbl&gt;</th><th scope=col>&lt;dbl&gt;</th><th scope=col>&lt;dbl&gt;</th><th scope=col>&lt;dbl&gt;</th><th scope=col>&lt;dbl&gt;</th><th scope=col>&lt;dbl&gt;</th><th scope=col>&lt;dbl&gt;</th><th scope=col>&lt;dbl&gt;</th></tr>\n",
              "</thead>\n",
              "<tbody>\n",
              "\t<tr><td>1</td><td>2</td><td>MSP</td><td>MN</td><td>DFW</td><td>TX</td><td>1634</td><td>31</td><td>1</td><td>1857</td><td> 11</td><td>0</td><td>NA</td><td>NA</td><td>NA</td><td>NA</td><td>NA</td></tr>\n",
              "\t<tr><td>1</td><td>2</td><td>MSP</td><td>MN</td><td>CLT</td><td>NC</td><td>1342</td><td>-4</td><td>0</td><td>1711</td><td> -8</td><td>0</td><td>NA</td><td>NA</td><td>NA</td><td>NA</td><td>NA</td></tr>\n",
              "\t<tr><td>1</td><td>2</td><td>MSP</td><td>MN</td><td>DFW</td><td>TX</td><td> 616</td><td> 1</td><td>0</td><td> 856</td><td>-20</td><td>0</td><td>NA</td><td>NA</td><td>NA</td><td>NA</td><td>NA</td></tr>\n",
              "\t<tr><td>1</td><td>2</td><td>MSP</td><td>MN</td><td>CLT</td><td>NC</td><td> 635</td><td>-6</td><td>0</td><td>1032</td><td>  2</td><td>0</td><td>NA</td><td>NA</td><td>NA</td><td>NA</td><td>NA</td></tr>\n",
              "\t<tr><td>1</td><td>2</td><td>MSP</td><td>MN</td><td>PHX</td><td>AZ</td><td>1105</td><td>-5</td><td>0</td><td>1324</td><td>-16</td><td>0</td><td>NA</td><td>NA</td><td>NA</td><td>NA</td><td>NA</td></tr>\n",
              "\t<tr><td>1</td><td>2</td><td>MSP</td><td>MN</td><td>PHX</td><td>AZ</td><td>1531</td><td>-9</td><td>0</td><td>1745</td><td>-27</td><td>0</td><td>NA</td><td>NA</td><td>NA</td><td>NA</td><td>NA</td></tr>\n",
              "</tbody>\n",
              "</table>\n"
            ]
          },
          "metadata": {
            "tags": []
          }
        }
      ]
    },
    {
      "cell_type": "markdown",
      "metadata": {
        "id": "DIBgGeULYOsf"
      },
      "source": [
        "Next, let us consider the various airports across MN.  \r\n",
        "\r\n",
        "\r\n",
        "*   How many are there?\r\n",
        "*   Where are they located?\r\n",
        "\r\n"
      ]
    },
    {
      "cell_type": "code",
      "metadata": {
        "colab": {
          "base_uri": "https://localhost:8080/",
          "height": 335
        },
        "id": "MId8-OTPYOyw",
        "outputId": "6c566e4b-e9f0-4ef4-801a-8b03d1da30c4"
      },
      "source": [
        "#Airports across MN\r\n",
        "(\r\n",
        "  Ontime\r\n",
        "  %>% filter(ORIGIN_STATE == \"MN\")\r\n",
        "  %>% group_by(ORIGIN)\r\n",
        "  %>% summarise(Count=n())\r\n",
        " ) "
      ],
      "execution_count": 83,
      "outputs": [
        {
          "output_type": "display_data",
          "data": {
            "text/plain": [
              "  ORIGIN Count\n",
              "1 BJI      62 \n",
              "2 BRD      53 \n",
              "3 DLH     121 \n",
              "4 HIB      53 \n",
              "5 INL      53 \n",
              "6 MSP    8778 \n",
              "7 RST     238 \n",
              "8 STC      13 "
            ],
            "text/latex": "A tibble: 8 × 2\n\\begin{tabular}{r|ll}\n  & ORIGIN & Count\\\\\n  & <chr> & <int>\\\\\n\\hline\n\t1 & BJI &   62\\\\\n\t2 & BRD &   53\\\\\n\t3 & DLH &  121\\\\\n\t4 & HIB &   53\\\\\n\t5 & INL &   53\\\\\n\t6 & MSP & 8778\\\\\n\t7 & RST &  238\\\\\n\t8 & STC &   13\\\\\n\\end{tabular}\n",
            "text/markdown": "\nA tibble: 8 × 2\n\n| <!--/--> | ORIGIN &lt;chr&gt; | Count &lt;int&gt; |\n|---|---|---|\n| 1 | BJI |   62 |\n| 2 | BRD |   53 |\n| 3 | DLH |  121 |\n| 4 | HIB |   53 |\n| 5 | INL |   53 |\n| 6 | MSP | 8778 |\n| 7 | RST |  238 |\n| 8 | STC |   13 |\n\n",
            "text/html": [
              "<table class=\"dataframe\">\n",
              "<caption>A tibble: 8 × 2</caption>\n",
              "<thead>\n",
              "\t<tr><th></th><th scope=col>ORIGIN</th><th scope=col>Count</th></tr>\n",
              "\t<tr><th></th><th scope=col>&lt;chr&gt;</th><th scope=col>&lt;int&gt;</th></tr>\n",
              "</thead>\n",
              "<tbody>\n",
              "\t<tr><th scope=row>1</th><td>BJI</td><td>  62</td></tr>\n",
              "\t<tr><th scope=row>2</th><td>BRD</td><td>  53</td></tr>\n",
              "\t<tr><th scope=row>3</th><td>DLH</td><td> 121</td></tr>\n",
              "\t<tr><th scope=row>4</th><td>HIB</td><td>  53</td></tr>\n",
              "\t<tr><th scope=row>5</th><td>INL</td><td>  53</td></tr>\n",
              "\t<tr><th scope=row>6</th><td>MSP</td><td>8778</td></tr>\n",
              "\t<tr><th scope=row>7</th><td>RST</td><td> 238</td></tr>\n",
              "\t<tr><th scope=row>8</th><td>STC</td><td>  13</td></tr>\n",
              "</tbody>\n",
              "</table>\n"
            ]
          },
          "metadata": {
            "tags": []
          }
        }
      ]
    },
    {
      "cell_type": "markdown",
      "metadata": {
        "id": "aAwWE-RKcvxs"
      },
      "source": [
        "Another way to identify the various airports is to use the <strong>distinct()</strong> function."
      ]
    },
    {
      "cell_type": "code",
      "metadata": {
        "colab": {
          "base_uri": "https://localhost:8080/",
          "height": 353
        },
        "id": "pwkIr8jwcv5h",
        "outputId": "3af36b15-0fd2-47c2-a131-08882be44691"
      },
      "source": [
        "#Getting only RST\r\n",
        "(\r\n",
        "  Ontime\r\n",
        "  %>% filter(ORIGIN_STATE == \"MN\")\r\n",
        "  %>% distinct(ORIGIN)\r\n",
        " ) "
      ],
      "execution_count": 84,
      "outputs": [
        {
          "output_type": "display_data",
          "data": {
            "text/plain": [
              "  ORIGIN\n",
              "1 MSP   \n",
              "2 RST   \n",
              "3 INL   \n",
              "4 HIB   \n",
              "5 BJI   \n",
              "6 BRD   \n",
              "7 DLH   \n",
              "8 STC   "
            ],
            "text/latex": "A tibble: 8 × 1\n\\begin{tabular}{l}\n ORIGIN\\\\\n <chr>\\\\\n\\hline\n\t MSP\\\\\n\t RST\\\\\n\t INL\\\\\n\t HIB\\\\\n\t BJI\\\\\n\t BRD\\\\\n\t DLH\\\\\n\t STC\\\\\n\\end{tabular}\n",
            "text/markdown": "\nA tibble: 8 × 1\n\n| ORIGIN &lt;chr&gt; |\n|---|\n| MSP |\n| RST |\n| INL |\n| HIB |\n| BJI |\n| BRD |\n| DLH |\n| STC |\n\n",
            "text/html": [
              "<table class=\"dataframe\">\n",
              "<caption>A tibble: 8 × 1</caption>\n",
              "<thead>\n",
              "\t<tr><th scope=col>ORIGIN</th></tr>\n",
              "\t<tr><th scope=col>&lt;chr&gt;</th></tr>\n",
              "</thead>\n",
              "<tbody>\n",
              "\t<tr><td>MSP</td></tr>\n",
              "\t<tr><td>RST</td></tr>\n",
              "\t<tr><td>INL</td></tr>\n",
              "\t<tr><td>HIB</td></tr>\n",
              "\t<tr><td>BJI</td></tr>\n",
              "\t<tr><td>BRD</td></tr>\n",
              "\t<tr><td>DLH</td></tr>\n",
              "\t<tr><td>STC</td></tr>\n",
              "</tbody>\n",
              "</table>\n"
            ]
          },
          "metadata": {
            "tags": []
          }
        }
      ]
    },
    {
      "cell_type": "markdown",
      "metadata": {
        "id": "M-Ra1HgKaKCd"
      },
      "source": [
        "Next, let us collect the rows where the ORIGIN airport is in MN and purposely exclude MSP.  This will be done here with a sequence of <strong>OR</strong> statements.\r\n",
        "\r\n",
        "\r\n",
        "\r\n",
        "\r\n",
        "<p align='center'><img src=\"https://drive.google.com/uc?export=view&id=1hMSS_XOgk5izrSa1PNvKSiWkM62c9xMn\" width='25%' height='25%'></p>"
      ]
    },
    {
      "cell_type": "code",
      "metadata": {
        "colab": {
          "base_uri": "https://localhost:8080/",
          "height": 53
        },
        "id": "KagJpa2oaKJn",
        "outputId": "f4f6a964-1802-4616-dfce-4235cbe01abd"
      },
      "source": [
        "#Getting the desired rows\r\n",
        "(\r\n",
        "  Ontime\r\n",
        "  %>% filter(ORIGIN == \"BJI\" | ORIGIN == \"BRD\" | ORIGIN == \"DLH\" | ORIGIN == \"HIB\" | ORIGIN == \"INL\" | ORIGIN == \"RST\" | ORIGIN == \"STC\"  )\r\n",
        " ) -> MN\r\n",
        "\r\n",
        "cat(\"The dimension of the MN dataframe is: \\n\")\r\n",
        "   dim(MN)\r\n"
      ],
      "execution_count": 90,
      "outputs": [
        {
          "output_type": "stream",
          "text": [
            "The dimension of the MN dataframe is: \n"
          ],
          "name": "stdout"
        },
        {
          "output_type": "display_data",
          "data": {
            "text/plain": [
              "[1] 593  17"
            ],
            "text/latex": "\\begin{enumerate*}\n\\item 593\n\\item 17\n\\end{enumerate*}\n",
            "text/markdown": "1. 593\n2. 17\n\n\n",
            "text/html": [
              "<style>\n",
              ".list-inline {list-style: none; margin:0; padding: 0}\n",
              ".list-inline>li {display: inline-block}\n",
              ".list-inline>li:not(:last-child)::after {content: \"\\00b7\"; padding: 0 .5ex}\n",
              "</style>\n",
              "<ol class=list-inline><li>593</li><li>17</li></ol>\n"
            ]
          },
          "metadata": {
            "tags": []
          }
        }
      ]
    },
    {
      "cell_type": "markdown",
      "metadata": {
        "id": "JzRvdJRYbOvF"
      },
      "source": [
        "Next, let us collect the rows where the ORIGIN airport is in MN and purposely exclude MSP.  This code will use the the <strong>IN()</strong> option instead of a sequence of OR statements."
      ]
    },
    {
      "cell_type": "code",
      "metadata": {
        "colab": {
          "base_uri": "https://localhost:8080/",
          "height": 71
        },
        "id": "l7yBYQvibO2D",
        "outputId": "94ddf06c-cc23-4108-b815-83d71f764330"
      },
      "source": [
        "#Getting the desired rows\r\n",
        "(\r\n",
        "  Ontime\r\n",
        "  %>% filter(ORIGIN %in% c(\"BJI\", \"BRD\", \"DLH\", \"HIB\",\"INL\", \"RST\", \"STC\") )\r\n",
        " ) -> MN\r\n",
        "\r\n",
        "cat(\"The dimension of the MN dataframe is: \\n\")\r\n",
        "   dim(MN)\r\n",
        "cat(\"\\n\")\r\n",
        "\r\n"
      ],
      "execution_count": 91,
      "outputs": [
        {
          "output_type": "stream",
          "text": [
            "The dimension of the MN dataframe is: \n"
          ],
          "name": "stdout"
        },
        {
          "output_type": "display_data",
          "data": {
            "text/plain": [
              "[1] 593  17"
            ],
            "text/latex": "\\begin{enumerate*}\n\\item 593\n\\item 17\n\\end{enumerate*}\n",
            "text/markdown": "1. 593\n2. 17\n\n\n",
            "text/html": [
              "<style>\n",
              ".list-inline {list-style: none; margin:0; padding: 0}\n",
              ".list-inline>li {display: inline-block}\n",
              ".list-inline>li:not(:last-child)::after {content: \"\\00b7\"; padding: 0 .5ex}\n",
              "</style>\n",
              "<ol class=list-inline><li>593</li><li>17</li></ol>\n"
            ]
          },
          "metadata": {
            "tags": []
          }
        },
        {
          "output_type": "stream",
          "text": [
            "\n"
          ],
          "name": "stdout"
        }
      ]
    },
    {
      "cell_type": "markdown",
      "metadata": {
        "id": "kwLkrgKIbg9p"
      },
      "source": [
        "One more iteration for ORIGIN airport is in MN and purposely exclude MSP.  This code will use the the <strong>!=()</strong>, i.e. not equal, option instead of a sequence of OR statements or IN() option."
      ]
    },
    {
      "cell_type": "code",
      "metadata": {
        "colab": {
          "base_uri": "https://localhost:8080/",
          "height": 71
        },
        "id": "RDj14IzubhEn",
        "outputId": "798d85b4-8d15-4b10-cdec-6629fafb35b1"
      },
      "source": [
        "#Getting only RST\r\n",
        "(\r\n",
        "  Ontime\r\n",
        "  %>% filter(ORIGIN_STATE == \"MN\")\r\n",
        "  %>% filter(ORIGIN != \"MSP\")\r\n",
        " ) -> MN\r\n",
        "\r\n",
        "cat(\"The dimension of the MN dataframe is: \\n\")\r\n",
        "   dim(MN)\r\n",
        "cat(\"\\n\")"
      ],
      "execution_count": 92,
      "outputs": [
        {
          "output_type": "stream",
          "text": [
            "The dimension of the MN dataframe is: \n"
          ],
          "name": "stdout"
        },
        {
          "output_type": "display_data",
          "data": {
            "text/plain": [
              "[1] 593  17"
            ],
            "text/latex": "\\begin{enumerate*}\n\\item 593\n\\item 17\n\\end{enumerate*}\n",
            "text/markdown": "1. 593\n2. 17\n\n\n",
            "text/html": [
              "<style>\n",
              ".list-inline {list-style: none; margin:0; padding: 0}\n",
              ".list-inline>li {display: inline-block}\n",
              ".list-inline>li:not(:last-child)::after {content: \"\\00b7\"; padding: 0 .5ex}\n",
              "</style>\n",
              "<ol class=list-inline><li>593</li><li>17</li></ol>\n"
            ]
          },
          "metadata": {
            "tags": []
          }
        },
        {
          "output_type": "stream",
          "text": [
            "\n"
          ],
          "name": "stdout"
        }
      ]
    },
    {
      "cell_type": "markdown",
      "metadata": {
        "id": "hIpAYOPCcWpW"
      },
      "source": [
        "# Filter Action with NA"
      ]
    },
    {
      "cell_type": "markdown",
      "metadata": {
        "id": "Bk1kac2teONW"
      },
      "source": [
        "The following code is used to <strong>drop all </strong> missing from a dataframe."
      ]
    },
    {
      "cell_type": "code",
      "metadata": {
        "colab": {
          "base_uri": "https://localhost:8080/",
          "height": 313
        },
        "id": "KSCGq4LacWww",
        "outputId": "ed7fe7e3-c8c9-4b24-81a0-44ad8eaf3b53"
      },
      "source": [
        "#Getting desired rows\r\n",
        "(\r\n",
        "  Ontime\r\n",
        "  %>% filter(ORIGIN == \"RST\")\r\n",
        "  %>% drop_na() \r\n",
        " ) -> RST_NoNA\r\n",
        "\r\n",
        " dim(RST_NoNA)\r\n",
        " head(RST_NoNA)\r\n"
      ],
      "execution_count": 94,
      "outputs": [
        {
          "output_type": "display_data",
          "data": {
            "text/plain": [
              "[1] 20 17"
            ],
            "text/latex": "\\begin{enumerate*}\n\\item 20\n\\item 17\n\\end{enumerate*}\n",
            "text/markdown": "1. 20\n2. 17\n\n\n",
            "text/html": [
              "<style>\n",
              ".list-inline {list-style: none; margin:0; padding: 0}\n",
              ".list-inline>li {display: inline-block}\n",
              ".list-inline>li:not(:last-child)::after {content: \"\\00b7\"; padding: 0 .5ex}\n",
              "</style>\n",
              "<ol class=list-inline><li>20</li><li>17</li></ol>\n"
            ]
          },
          "metadata": {
            "tags": []
          }
        },
        {
          "output_type": "display_data",
          "data": {
            "text/plain": [
              "  DAY_OF_MONTH DAY_OF_WEEK ORIGIN ORIGIN_STATE DEST DEST_STATE DEP_TIME\n",
              "1  2           3           RST    MN           DEN  CO         1327    \n",
              "2 12           6           RST    MN           ORD  IL          703    \n",
              "3 13           7           RST    MN           DEN  CO         1205    \n",
              "4 16           3           RST    MN           DEN  CO         1550    \n",
              "5 16           3           RST    MN           ORD  IL          752    \n",
              "6 17           4           RST    MN           MSP  MN          907    \n",
              "  DEP_DELAY DEP_DEL15 ARR_TIME ARR_DELAY ARR_DEL15 CARRIER_DELAY WEATHER_DELAY\n",
              "1 132       1         1415      89       1          89           0            \n",
              "2  33       1          817      20       1          20           0            \n",
              "3  50       1         1329      43       1          43           0            \n",
              "4 275       1         1648     242       1         242           0            \n",
              "5  82       1          906      69       1          69           0            \n",
              "6 172       1          955     155       1         138           0            \n",
              "  NAS_DELAY SECURITY_DELAY LATE_AIRCRAFT_DELAY\n",
              "1 0         0               0                 \n",
              "2 0         0               0                 \n",
              "3 0         0               0                 \n",
              "4 0         0               0                 \n",
              "5 0         0               0                 \n",
              "6 0         0              17                 "
            ],
            "text/latex": "A tibble: 6 × 17\n\\begin{tabular}{lllllllllllllllll}\n DAY\\_OF\\_MONTH & DAY\\_OF\\_WEEK & ORIGIN & ORIGIN\\_STATE & DEST & DEST\\_STATE & DEP\\_TIME & DEP\\_DELAY & DEP\\_DEL15 & ARR\\_TIME & ARR\\_DELAY & ARR\\_DEL15 & CARRIER\\_DELAY & WEATHER\\_DELAY & NAS\\_DELAY & SECURITY\\_DELAY & LATE\\_AIRCRAFT\\_DELAY\\\\\n <dbl> & <dbl> & <chr> & <chr> & <chr> & <chr> & <dbl> & <dbl> & <dbl> & <dbl> & <dbl> & <dbl> & <dbl> & <dbl> & <dbl> & <dbl> & <dbl>\\\\\n\\hline\n\t  2 & 3 & RST & MN & DEN & CO & 1327 & 132 & 1 & 1415 &  89 & 1 &  89 & 0 & 0 & 0 &  0\\\\\n\t 12 & 6 & RST & MN & ORD & IL &  703 &  33 & 1 &  817 &  20 & 1 &  20 & 0 & 0 & 0 &  0\\\\\n\t 13 & 7 & RST & MN & DEN & CO & 1205 &  50 & 1 & 1329 &  43 & 1 &  43 & 0 & 0 & 0 &  0\\\\\n\t 16 & 3 & RST & MN & DEN & CO & 1550 & 275 & 1 & 1648 & 242 & 1 & 242 & 0 & 0 & 0 &  0\\\\\n\t 16 & 3 & RST & MN & ORD & IL &  752 &  82 & 1 &  906 &  69 & 1 &  69 & 0 & 0 & 0 &  0\\\\\n\t 17 & 4 & RST & MN & MSP & MN &  907 & 172 & 1 &  955 & 155 & 1 & 138 & 0 & 0 & 0 & 17\\\\\n\\end{tabular}\n",
            "text/markdown": "\nA tibble: 6 × 17\n\n| DAY_OF_MONTH &lt;dbl&gt; | DAY_OF_WEEK &lt;dbl&gt; | ORIGIN &lt;chr&gt; | ORIGIN_STATE &lt;chr&gt; | DEST &lt;chr&gt; | DEST_STATE &lt;chr&gt; | DEP_TIME &lt;dbl&gt; | DEP_DELAY &lt;dbl&gt; | DEP_DEL15 &lt;dbl&gt; | ARR_TIME &lt;dbl&gt; | ARR_DELAY &lt;dbl&gt; | ARR_DEL15 &lt;dbl&gt; | CARRIER_DELAY &lt;dbl&gt; | WEATHER_DELAY &lt;dbl&gt; | NAS_DELAY &lt;dbl&gt; | SECURITY_DELAY &lt;dbl&gt; | LATE_AIRCRAFT_DELAY &lt;dbl&gt; |\n|---|---|---|---|---|---|---|---|---|---|---|---|---|---|---|---|---|\n|  2 | 3 | RST | MN | DEN | CO | 1327 | 132 | 1 | 1415 |  89 | 1 |  89 | 0 | 0 | 0 |  0 |\n| 12 | 6 | RST | MN | ORD | IL |  703 |  33 | 1 |  817 |  20 | 1 |  20 | 0 | 0 | 0 |  0 |\n| 13 | 7 | RST | MN | DEN | CO | 1205 |  50 | 1 | 1329 |  43 | 1 |  43 | 0 | 0 | 0 |  0 |\n| 16 | 3 | RST | MN | DEN | CO | 1550 | 275 | 1 | 1648 | 242 | 1 | 242 | 0 | 0 | 0 |  0 |\n| 16 | 3 | RST | MN | ORD | IL |  752 |  82 | 1 |  906 |  69 | 1 |  69 | 0 | 0 | 0 |  0 |\n| 17 | 4 | RST | MN | MSP | MN |  907 | 172 | 1 |  955 | 155 | 1 | 138 | 0 | 0 | 0 | 17 |\n\n",
            "text/html": [
              "<table class=\"dataframe\">\n",
              "<caption>A tibble: 6 × 17</caption>\n",
              "<thead>\n",
              "\t<tr><th scope=col>DAY_OF_MONTH</th><th scope=col>DAY_OF_WEEK</th><th scope=col>ORIGIN</th><th scope=col>ORIGIN_STATE</th><th scope=col>DEST</th><th scope=col>DEST_STATE</th><th scope=col>DEP_TIME</th><th scope=col>DEP_DELAY</th><th scope=col>DEP_DEL15</th><th scope=col>ARR_TIME</th><th scope=col>ARR_DELAY</th><th scope=col>ARR_DEL15</th><th scope=col>CARRIER_DELAY</th><th scope=col>WEATHER_DELAY</th><th scope=col>NAS_DELAY</th><th scope=col>SECURITY_DELAY</th><th scope=col>LATE_AIRCRAFT_DELAY</th></tr>\n",
              "\t<tr><th scope=col>&lt;dbl&gt;</th><th scope=col>&lt;dbl&gt;</th><th scope=col>&lt;chr&gt;</th><th scope=col>&lt;chr&gt;</th><th scope=col>&lt;chr&gt;</th><th scope=col>&lt;chr&gt;</th><th scope=col>&lt;dbl&gt;</th><th scope=col>&lt;dbl&gt;</th><th scope=col>&lt;dbl&gt;</th><th scope=col>&lt;dbl&gt;</th><th scope=col>&lt;dbl&gt;</th><th scope=col>&lt;dbl&gt;</th><th scope=col>&lt;dbl&gt;</th><th scope=col>&lt;dbl&gt;</th><th scope=col>&lt;dbl&gt;</th><th scope=col>&lt;dbl&gt;</th><th scope=col>&lt;dbl&gt;</th></tr>\n",
              "</thead>\n",
              "<tbody>\n",
              "\t<tr><td> 2</td><td>3</td><td>RST</td><td>MN</td><td>DEN</td><td>CO</td><td>1327</td><td>132</td><td>1</td><td>1415</td><td> 89</td><td>1</td><td> 89</td><td>0</td><td>0</td><td>0</td><td> 0</td></tr>\n",
              "\t<tr><td>12</td><td>6</td><td>RST</td><td>MN</td><td>ORD</td><td>IL</td><td> 703</td><td> 33</td><td>1</td><td> 817</td><td> 20</td><td>1</td><td> 20</td><td>0</td><td>0</td><td>0</td><td> 0</td></tr>\n",
              "\t<tr><td>13</td><td>7</td><td>RST</td><td>MN</td><td>DEN</td><td>CO</td><td>1205</td><td> 50</td><td>1</td><td>1329</td><td> 43</td><td>1</td><td> 43</td><td>0</td><td>0</td><td>0</td><td> 0</td></tr>\n",
              "\t<tr><td>16</td><td>3</td><td>RST</td><td>MN</td><td>DEN</td><td>CO</td><td>1550</td><td>275</td><td>1</td><td>1648</td><td>242</td><td>1</td><td>242</td><td>0</td><td>0</td><td>0</td><td> 0</td></tr>\n",
              "\t<tr><td>16</td><td>3</td><td>RST</td><td>MN</td><td>ORD</td><td>IL</td><td> 752</td><td> 82</td><td>1</td><td> 906</td><td> 69</td><td>1</td><td> 69</td><td>0</td><td>0</td><td>0</td><td> 0</td></tr>\n",
              "\t<tr><td>17</td><td>4</td><td>RST</td><td>MN</td><td>MSP</td><td>MN</td><td> 907</td><td>172</td><td>1</td><td> 955</td><td>155</td><td>1</td><td>138</td><td>0</td><td>0</td><td>0</td><td>17</td></tr>\n",
              "</tbody>\n",
              "</table>\n"
            ]
          },
          "metadata": {
            "tags": []
          }
        }
      ]
    },
    {
      "cell_type": "markdown",
      "metadata": {
        "id": "zRFsh1QreUf-"
      },
      "source": [
        "The following variation will exclude only NAs for the variable CARRIER_DELAY."
      ]
    },
    {
      "cell_type": "code",
      "metadata": {
        "id": "ITGmz07AeUo8"
      },
      "source": [
        "#Getting the desired rows\r\n",
        "(\r\n",
        "  Ontime\r\n",
        "  %>% filter(ORIGIN == \"RST\")\r\n",
        "  %>% drop_na(CARRIER_DELAY\t) \r\n",
        " ) -> RST_NoNA_Carrier\r\n",
        "\r\n",
        " dim(RST_NoNA_Carrier)\r\n",
        " head(RST_NoNA_Carrier,25)"
      ],
      "execution_count": null,
      "outputs": []
    },
    {
      "cell_type": "markdown",
      "metadata": {
        "id": "gKPglj_cfG6O"
      },
      "source": [
        "# Filter Action on Numbers\r\n"
      ]
    },
    {
      "cell_type": "markdown",
      "metadata": {
        "id": "nhcEQkY5fLjO"
      },
      "source": [
        "Consider again the RST dataframe for which there was a delay."
      ]
    },
    {
      "cell_type": "code",
      "metadata": {
        "colab": {
          "base_uri": "https://localhost:8080/",
          "height": 715
        },
        "id": "SvBf9yawfvaH",
        "outputId": "1a8e24de-4000-4931-9ee2-2b313bb32756"
      },
      "source": [
        " head(RST_NoNA_Carrier,25)"
      ],
      "execution_count": null,
      "outputs": [
        {
          "output_type": "display_data",
          "data": {
            "text/plain": [
              "   DAY_OF_MONTH DAY_OF_WEEK ORIGIN ORIGIN_STATE DEST DEST_STATE DEP_TIME\n",
              "1   2           3           RST    MN           DEN  CO         1327    \n",
              "2  12           6           RST    MN           ORD  IL          703    \n",
              "3  13           7           RST    MN           DEN  CO         1205    \n",
              "4  16           3           RST    MN           DEN  CO         1550    \n",
              "5  16           3           RST    MN           ORD  IL          752    \n",
              "6  17           4           RST    MN           MSP  MN          907    \n",
              "7  17           4           RST    MN           MSP  MN         1840    \n",
              "8  19           6           RST    MN           MSP  MN         1423    \n",
              "9  23           3           RST    MN           ORD  IL         1326    \n",
              "10 24           4           RST    MN           ORD  IL         1848    \n",
              "11 24           4           RST    MN           ORD  IL          941    \n",
              "12 24           4           RST    MN           MSP  MN          610    \n",
              "13 24           4           RST    MN           MSP  MN         1235    \n",
              "14 25           5           RST    MN           DEN  CO         1928    \n",
              "15 28           1           RST    MN           MSP  MN          839    \n",
              "16 28           1           RST    MN           MSP  MN         1855    \n",
              "17 29           2           RST    MN           DEN  CO         1349    \n",
              "18 29           2           RST    MN           MSP  MN         1830    \n",
              "19 29           2           RST    MN           MSP  MN         1550    \n",
              "20 30           3           RST    MN           MSP  MN         1243    \n",
              "   DEP_DELAY DEP_DEL15 ARR_TIME ARR_DELAY ARR_DEL15 CARRIER_DELAY WEATHER_DELAY\n",
              "1   132      1         1415       89      1          89              0         \n",
              "2    33      1          817       20      1          20              0         \n",
              "3    50      1         1329       43      1          43              0         \n",
              "4   275      1         1648      242      1         242              0         \n",
              "5    82      1          906       69      1          69              0         \n",
              "6   172      1          955      155      1         138              0         \n",
              "7    41      1         1932       30      1           0              0         \n",
              "8   144      1         1508      136      1           0              0         \n",
              "9  1200      1         1430     1175      1           0           1175         \n",
              "10   82      1         1959       64      1           0             64         \n",
              "11  191      1         1050      164      1           0            164         \n",
              "12   -5      0          743       22      1           0              0         \n",
              "13   36      1         1312       20      1           4              0         \n",
              "14  483      1         2129      512      1         512              0         \n",
              "15  144      1          933      132      1           0              0         \n",
              "16   56      1         1939       36      1           0              0         \n",
              "17  144      1         1536      159      1           0              0         \n",
              "18   31      1         1938       35      1           0              9         \n",
              "19    5      0         1711       31      1           0              0         \n",
              "20   44      1         1354       62      1           0              0         \n",
              "   NAS_DELAY SECURITY_DELAY LATE_AIRCRAFT_DELAY\n",
              "1   0        0                0                \n",
              "2   0        0                0                \n",
              "3   0        0                0                \n",
              "4   0        0                0                \n",
              "5   0        0                0                \n",
              "6   0        0               17                \n",
              "7   0        0               30                \n",
              "8   0        0              136                \n",
              "9   0        0                0                \n",
              "10  0        0                0                \n",
              "11  0        0                0                \n",
              "12 22        0                0                \n",
              "13  0        0               16                \n",
              "14  0        0                0                \n",
              "15  0        0              132                \n",
              "16  0        0               36                \n",
              "17  0        0              159                \n",
              "18  4        0               22                \n",
              "19 31        0                0                \n",
              "20 18        0               44                "
            ],
            "text/latex": "A tibble: 20 × 17\n\\begin{tabular}{lllllllllllllllll}\n DAY\\_OF\\_MONTH & DAY\\_OF\\_WEEK & ORIGIN & ORIGIN\\_STATE & DEST & DEST\\_STATE & DEP\\_TIME & DEP\\_DELAY & DEP\\_DEL15 & ARR\\_TIME & ARR\\_DELAY & ARR\\_DEL15 & CARRIER\\_DELAY & WEATHER\\_DELAY & NAS\\_DELAY & SECURITY\\_DELAY & LATE\\_AIRCRAFT\\_DELAY\\\\\n <dbl> & <dbl> & <chr> & <chr> & <chr> & <chr> & <dbl> & <dbl> & <dbl> & <dbl> & <dbl> & <dbl> & <dbl> & <dbl> & <dbl> & <dbl> & <dbl>\\\\\n\\hline\n\t  2 & 3 & RST & MN & DEN & CO & 1327 &  132 & 1 & 1415 &   89 & 1 &  89 &    0 &  0 & 0 &   0\\\\\n\t 12 & 6 & RST & MN & ORD & IL &  703 &   33 & 1 &  817 &   20 & 1 &  20 &    0 &  0 & 0 &   0\\\\\n\t 13 & 7 & RST & MN & DEN & CO & 1205 &   50 & 1 & 1329 &   43 & 1 &  43 &    0 &  0 & 0 &   0\\\\\n\t 16 & 3 & RST & MN & DEN & CO & 1550 &  275 & 1 & 1648 &  242 & 1 & 242 &    0 &  0 & 0 &   0\\\\\n\t 16 & 3 & RST & MN & ORD & IL &  752 &   82 & 1 &  906 &   69 & 1 &  69 &    0 &  0 & 0 &   0\\\\\n\t 17 & 4 & RST & MN & MSP & MN &  907 &  172 & 1 &  955 &  155 & 1 & 138 &    0 &  0 & 0 &  17\\\\\n\t 17 & 4 & RST & MN & MSP & MN & 1840 &   41 & 1 & 1932 &   30 & 1 &   0 &    0 &  0 & 0 &  30\\\\\n\t 19 & 6 & RST & MN & MSP & MN & 1423 &  144 & 1 & 1508 &  136 & 1 &   0 &    0 &  0 & 0 & 136\\\\\n\t 23 & 3 & RST & MN & ORD & IL & 1326 & 1200 & 1 & 1430 & 1175 & 1 &   0 & 1175 &  0 & 0 &   0\\\\\n\t 24 & 4 & RST & MN & ORD & IL & 1848 &   82 & 1 & 1959 &   64 & 1 &   0 &   64 &  0 & 0 &   0\\\\\n\t 24 & 4 & RST & MN & ORD & IL &  941 &  191 & 1 & 1050 &  164 & 1 &   0 &  164 &  0 & 0 &   0\\\\\n\t 24 & 4 & RST & MN & MSP & MN &  610 &   -5 & 0 &  743 &   22 & 1 &   0 &    0 & 22 & 0 &   0\\\\\n\t 24 & 4 & RST & MN & MSP & MN & 1235 &   36 & 1 & 1312 &   20 & 1 &   4 &    0 &  0 & 0 &  16\\\\\n\t 25 & 5 & RST & MN & DEN & CO & 1928 &  483 & 1 & 2129 &  512 & 1 & 512 &    0 &  0 & 0 &   0\\\\\n\t 28 & 1 & RST & MN & MSP & MN &  839 &  144 & 1 &  933 &  132 & 1 &   0 &    0 &  0 & 0 & 132\\\\\n\t 28 & 1 & RST & MN & MSP & MN & 1855 &   56 & 1 & 1939 &   36 & 1 &   0 &    0 &  0 & 0 &  36\\\\\n\t 29 & 2 & RST & MN & DEN & CO & 1349 &  144 & 1 & 1536 &  159 & 1 &   0 &    0 &  0 & 0 & 159\\\\\n\t 29 & 2 & RST & MN & MSP & MN & 1830 &   31 & 1 & 1938 &   35 & 1 &   0 &    9 &  4 & 0 &  22\\\\\n\t 29 & 2 & RST & MN & MSP & MN & 1550 &    5 & 0 & 1711 &   31 & 1 &   0 &    0 & 31 & 0 &   0\\\\\n\t 30 & 3 & RST & MN & MSP & MN & 1243 &   44 & 1 & 1354 &   62 & 1 &   0 &    0 & 18 & 0 &  44\\\\\n\\end{tabular}\n",
            "text/markdown": "\nA tibble: 20 × 17\n\n| DAY_OF_MONTH &lt;dbl&gt; | DAY_OF_WEEK &lt;dbl&gt; | ORIGIN &lt;chr&gt; | ORIGIN_STATE &lt;chr&gt; | DEST &lt;chr&gt; | DEST_STATE &lt;chr&gt; | DEP_TIME &lt;dbl&gt; | DEP_DELAY &lt;dbl&gt; | DEP_DEL15 &lt;dbl&gt; | ARR_TIME &lt;dbl&gt; | ARR_DELAY &lt;dbl&gt; | ARR_DEL15 &lt;dbl&gt; | CARRIER_DELAY &lt;dbl&gt; | WEATHER_DELAY &lt;dbl&gt; | NAS_DELAY &lt;dbl&gt; | SECURITY_DELAY &lt;dbl&gt; | LATE_AIRCRAFT_DELAY &lt;dbl&gt; |\n|---|---|---|---|---|---|---|---|---|---|---|---|---|---|---|---|---|\n|  2 | 3 | RST | MN | DEN | CO | 1327 |  132 | 1 | 1415 |   89 | 1 |  89 |    0 |  0 | 0 |   0 |\n| 12 | 6 | RST | MN | ORD | IL |  703 |   33 | 1 |  817 |   20 | 1 |  20 |    0 |  0 | 0 |   0 |\n| 13 | 7 | RST | MN | DEN | CO | 1205 |   50 | 1 | 1329 |   43 | 1 |  43 |    0 |  0 | 0 |   0 |\n| 16 | 3 | RST | MN | DEN | CO | 1550 |  275 | 1 | 1648 |  242 | 1 | 242 |    0 |  0 | 0 |   0 |\n| 16 | 3 | RST | MN | ORD | IL |  752 |   82 | 1 |  906 |   69 | 1 |  69 |    0 |  0 | 0 |   0 |\n| 17 | 4 | RST | MN | MSP | MN |  907 |  172 | 1 |  955 |  155 | 1 | 138 |    0 |  0 | 0 |  17 |\n| 17 | 4 | RST | MN | MSP | MN | 1840 |   41 | 1 | 1932 |   30 | 1 |   0 |    0 |  0 | 0 |  30 |\n| 19 | 6 | RST | MN | MSP | MN | 1423 |  144 | 1 | 1508 |  136 | 1 |   0 |    0 |  0 | 0 | 136 |\n| 23 | 3 | RST | MN | ORD | IL | 1326 | 1200 | 1 | 1430 | 1175 | 1 |   0 | 1175 |  0 | 0 |   0 |\n| 24 | 4 | RST | MN | ORD | IL | 1848 |   82 | 1 | 1959 |   64 | 1 |   0 |   64 |  0 | 0 |   0 |\n| 24 | 4 | RST | MN | ORD | IL |  941 |  191 | 1 | 1050 |  164 | 1 |   0 |  164 |  0 | 0 |   0 |\n| 24 | 4 | RST | MN | MSP | MN |  610 |   -5 | 0 |  743 |   22 | 1 |   0 |    0 | 22 | 0 |   0 |\n| 24 | 4 | RST | MN | MSP | MN | 1235 |   36 | 1 | 1312 |   20 | 1 |   4 |    0 |  0 | 0 |  16 |\n| 25 | 5 | RST | MN | DEN | CO | 1928 |  483 | 1 | 2129 |  512 | 1 | 512 |    0 |  0 | 0 |   0 |\n| 28 | 1 | RST | MN | MSP | MN |  839 |  144 | 1 |  933 |  132 | 1 |   0 |    0 |  0 | 0 | 132 |\n| 28 | 1 | RST | MN | MSP | MN | 1855 |   56 | 1 | 1939 |   36 | 1 |   0 |    0 |  0 | 0 |  36 |\n| 29 | 2 | RST | MN | DEN | CO | 1349 |  144 | 1 | 1536 |  159 | 1 |   0 |    0 |  0 | 0 | 159 |\n| 29 | 2 | RST | MN | MSP | MN | 1830 |   31 | 1 | 1938 |   35 | 1 |   0 |    9 |  4 | 0 |  22 |\n| 29 | 2 | RST | MN | MSP | MN | 1550 |    5 | 0 | 1711 |   31 | 1 |   0 |    0 | 31 | 0 |   0 |\n| 30 | 3 | RST | MN | MSP | MN | 1243 |   44 | 1 | 1354 |   62 | 1 |   0 |    0 | 18 | 0 |  44 |\n\n",
            "text/html": [
              "<table class=\"dataframe\">\n",
              "<caption>A tibble: 20 × 17</caption>\n",
              "<thead>\n",
              "\t<tr><th scope=col>DAY_OF_MONTH</th><th scope=col>DAY_OF_WEEK</th><th scope=col>ORIGIN</th><th scope=col>ORIGIN_STATE</th><th scope=col>DEST</th><th scope=col>DEST_STATE</th><th scope=col>DEP_TIME</th><th scope=col>DEP_DELAY</th><th scope=col>DEP_DEL15</th><th scope=col>ARR_TIME</th><th scope=col>ARR_DELAY</th><th scope=col>ARR_DEL15</th><th scope=col>CARRIER_DELAY</th><th scope=col>WEATHER_DELAY</th><th scope=col>NAS_DELAY</th><th scope=col>SECURITY_DELAY</th><th scope=col>LATE_AIRCRAFT_DELAY</th></tr>\n",
              "\t<tr><th scope=col>&lt;dbl&gt;</th><th scope=col>&lt;dbl&gt;</th><th scope=col>&lt;chr&gt;</th><th scope=col>&lt;chr&gt;</th><th scope=col>&lt;chr&gt;</th><th scope=col>&lt;chr&gt;</th><th scope=col>&lt;dbl&gt;</th><th scope=col>&lt;dbl&gt;</th><th scope=col>&lt;dbl&gt;</th><th scope=col>&lt;dbl&gt;</th><th scope=col>&lt;dbl&gt;</th><th scope=col>&lt;dbl&gt;</th><th scope=col>&lt;dbl&gt;</th><th scope=col>&lt;dbl&gt;</th><th scope=col>&lt;dbl&gt;</th><th scope=col>&lt;dbl&gt;</th><th scope=col>&lt;dbl&gt;</th></tr>\n",
              "</thead>\n",
              "<tbody>\n",
              "\t<tr><td> 2</td><td>3</td><td>RST</td><td>MN</td><td>DEN</td><td>CO</td><td>1327</td><td> 132</td><td>1</td><td>1415</td><td>  89</td><td>1</td><td> 89</td><td>   0</td><td> 0</td><td>0</td><td>  0</td></tr>\n",
              "\t<tr><td>12</td><td>6</td><td>RST</td><td>MN</td><td>ORD</td><td>IL</td><td> 703</td><td>  33</td><td>1</td><td> 817</td><td>  20</td><td>1</td><td> 20</td><td>   0</td><td> 0</td><td>0</td><td>  0</td></tr>\n",
              "\t<tr><td>13</td><td>7</td><td>RST</td><td>MN</td><td>DEN</td><td>CO</td><td>1205</td><td>  50</td><td>1</td><td>1329</td><td>  43</td><td>1</td><td> 43</td><td>   0</td><td> 0</td><td>0</td><td>  0</td></tr>\n",
              "\t<tr><td>16</td><td>3</td><td>RST</td><td>MN</td><td>DEN</td><td>CO</td><td>1550</td><td> 275</td><td>1</td><td>1648</td><td> 242</td><td>1</td><td>242</td><td>   0</td><td> 0</td><td>0</td><td>  0</td></tr>\n",
              "\t<tr><td>16</td><td>3</td><td>RST</td><td>MN</td><td>ORD</td><td>IL</td><td> 752</td><td>  82</td><td>1</td><td> 906</td><td>  69</td><td>1</td><td> 69</td><td>   0</td><td> 0</td><td>0</td><td>  0</td></tr>\n",
              "\t<tr><td>17</td><td>4</td><td>RST</td><td>MN</td><td>MSP</td><td>MN</td><td> 907</td><td> 172</td><td>1</td><td> 955</td><td> 155</td><td>1</td><td>138</td><td>   0</td><td> 0</td><td>0</td><td> 17</td></tr>\n",
              "\t<tr><td>17</td><td>4</td><td>RST</td><td>MN</td><td>MSP</td><td>MN</td><td>1840</td><td>  41</td><td>1</td><td>1932</td><td>  30</td><td>1</td><td>  0</td><td>   0</td><td> 0</td><td>0</td><td> 30</td></tr>\n",
              "\t<tr><td>19</td><td>6</td><td>RST</td><td>MN</td><td>MSP</td><td>MN</td><td>1423</td><td> 144</td><td>1</td><td>1508</td><td> 136</td><td>1</td><td>  0</td><td>   0</td><td> 0</td><td>0</td><td>136</td></tr>\n",
              "\t<tr><td>23</td><td>3</td><td>RST</td><td>MN</td><td>ORD</td><td>IL</td><td>1326</td><td>1200</td><td>1</td><td>1430</td><td>1175</td><td>1</td><td>  0</td><td>1175</td><td> 0</td><td>0</td><td>  0</td></tr>\n",
              "\t<tr><td>24</td><td>4</td><td>RST</td><td>MN</td><td>ORD</td><td>IL</td><td>1848</td><td>  82</td><td>1</td><td>1959</td><td>  64</td><td>1</td><td>  0</td><td>  64</td><td> 0</td><td>0</td><td>  0</td></tr>\n",
              "\t<tr><td>24</td><td>4</td><td>RST</td><td>MN</td><td>ORD</td><td>IL</td><td> 941</td><td> 191</td><td>1</td><td>1050</td><td> 164</td><td>1</td><td>  0</td><td> 164</td><td> 0</td><td>0</td><td>  0</td></tr>\n",
              "\t<tr><td>24</td><td>4</td><td>RST</td><td>MN</td><td>MSP</td><td>MN</td><td> 610</td><td>  -5</td><td>0</td><td> 743</td><td>  22</td><td>1</td><td>  0</td><td>   0</td><td>22</td><td>0</td><td>  0</td></tr>\n",
              "\t<tr><td>24</td><td>4</td><td>RST</td><td>MN</td><td>MSP</td><td>MN</td><td>1235</td><td>  36</td><td>1</td><td>1312</td><td>  20</td><td>1</td><td>  4</td><td>   0</td><td> 0</td><td>0</td><td> 16</td></tr>\n",
              "\t<tr><td>25</td><td>5</td><td>RST</td><td>MN</td><td>DEN</td><td>CO</td><td>1928</td><td> 483</td><td>1</td><td>2129</td><td> 512</td><td>1</td><td>512</td><td>   0</td><td> 0</td><td>0</td><td>  0</td></tr>\n",
              "\t<tr><td>28</td><td>1</td><td>RST</td><td>MN</td><td>MSP</td><td>MN</td><td> 839</td><td> 144</td><td>1</td><td> 933</td><td> 132</td><td>1</td><td>  0</td><td>   0</td><td> 0</td><td>0</td><td>132</td></tr>\n",
              "\t<tr><td>28</td><td>1</td><td>RST</td><td>MN</td><td>MSP</td><td>MN</td><td>1855</td><td>  56</td><td>1</td><td>1939</td><td>  36</td><td>1</td><td>  0</td><td>   0</td><td> 0</td><td>0</td><td> 36</td></tr>\n",
              "\t<tr><td>29</td><td>2</td><td>RST</td><td>MN</td><td>DEN</td><td>CO</td><td>1349</td><td> 144</td><td>1</td><td>1536</td><td> 159</td><td>1</td><td>  0</td><td>   0</td><td> 0</td><td>0</td><td>159</td></tr>\n",
              "\t<tr><td>29</td><td>2</td><td>RST</td><td>MN</td><td>MSP</td><td>MN</td><td>1830</td><td>  31</td><td>1</td><td>1938</td><td>  35</td><td>1</td><td>  0</td><td>   9</td><td> 4</td><td>0</td><td> 22</td></tr>\n",
              "\t<tr><td>29</td><td>2</td><td>RST</td><td>MN</td><td>MSP</td><td>MN</td><td>1550</td><td>   5</td><td>0</td><td>1711</td><td>  31</td><td>1</td><td>  0</td><td>   0</td><td>31</td><td>0</td><td>  0</td></tr>\n",
              "\t<tr><td>30</td><td>3</td><td>RST</td><td>MN</td><td>MSP</td><td>MN</td><td>1243</td><td>  44</td><td>1</td><td>1354</td><td>  62</td><td>1</td><td>  0</td><td>   0</td><td>18</td><td>0</td><td> 44</td></tr>\n",
              "</tbody>\n",
              "</table>\n"
            ]
          },
          "metadata": {
            "tags": []
          }
        }
      ]
    },
    {
      "cell_type": "markdown",
      "metadata": {
        "id": "gcyHpeCdfyzs"
      },
      "source": [
        "The average carrier delay can be computed as follows.\r\n",
        "\r\n",
        "$Average \\space Carrier \\space Delay = \\frac{89+20+43+242+69+138+4+512}{8} = 139.625$"
      ]
    },
    {
      "cell_type": "code",
      "metadata": {
        "colab": {
          "base_uri": "https://localhost:8080/",
          "height": 125
        },
        "id": "nDbZLYhDfHEg",
        "outputId": "8df2057a-fab3-49d8-9128-fa5abad5f323"
      },
      "source": [
        "#Getting the average\r\n",
        "(\r\n",
        "  Ontime\r\n",
        "  %>% filter(ORIGIN == \"RST\")\r\n",
        "  %>% drop_na()\r\n",
        "  %>% summarize(Avg_Carrier_Delay = mean(CARRIER_DELAY)) \r\n",
        " ) \r\n"
      ],
      "execution_count": 96,
      "outputs": [
        {
          "output_type": "display_data",
          "data": {
            "text/plain": [
              "  Avg_Carrier_Delay\n",
              "1 55.85            "
            ],
            "text/latex": "A tibble: 1 × 1\n\\begin{tabular}{l}\n Avg\\_Carrier\\_Delay\\\\\n <dbl>\\\\\n\\hline\n\t 55.85\\\\\n\\end{tabular}\n",
            "text/markdown": "\nA tibble: 1 × 1\n\n| Avg_Carrier_Delay &lt;dbl&gt; |\n|---|\n| 55.85 |\n\n",
            "text/html": [
              "<table class=\"dataframe\">\n",
              "<caption>A tibble: 1 × 1</caption>\n",
              "<thead>\n",
              "\t<tr><th scope=col>Avg_Carrier_Delay</th></tr>\n",
              "\t<tr><th scope=col>&lt;dbl&gt;</th></tr>\n",
              "</thead>\n",
              "<tbody>\n",
              "\t<tr><td>55.85</td></tr>\n",
              "</tbody>\n",
              "</table>\n"
            ]
          },
          "metadata": {
            "tags": []
          }
        }
      ]
    },
    {
      "cell_type": "markdown",
      "metadata": {
        "id": "nVbFzY9tgePI"
      },
      "source": [
        "Question: Why do these average calcuations not agree?  "
      ]
    },
    {
      "cell_type": "code",
      "metadata": {
        "colab": {
          "base_uri": "https://localhost:8080/",
          "height": 125
        },
        "id": "9CmpRgX7geWO",
        "outputId": "7435d0f5-c718-421b-995a-108e3de09afc"
      },
      "source": [
        "#Fixing the problem...\r\n",
        "(\r\n",
        "  Ontime\r\n",
        "  %>% filter(ORIGIN == \"RST\")\r\n",
        "  %>% drop_na()\r\n",
        "  %>% filter(CARRIER_DELAY > 0)\r\n",
        "  %>% summarize(Avg_Carrier_Delay = mean(CARRIER_DELAY)) \r\n",
        " ) \r\n"
      ],
      "execution_count": 97,
      "outputs": [
        {
          "output_type": "display_data",
          "data": {
            "text/plain": [
              "  Avg_Carrier_Delay\n",
              "1 139.625          "
            ],
            "text/latex": "A tibble: 1 × 1\n\\begin{tabular}{l}\n Avg\\_Carrier\\_Delay\\\\\n <dbl>\\\\\n\\hline\n\t 139.625\\\\\n\\end{tabular}\n",
            "text/markdown": "\nA tibble: 1 × 1\n\n| Avg_Carrier_Delay &lt;dbl&gt; |\n|---|\n| 139.625 |\n\n",
            "text/html": [
              "<table class=\"dataframe\">\n",
              "<caption>A tibble: 1 × 1</caption>\n",
              "<thead>\n",
              "\t<tr><th scope=col>Avg_Carrier_Delay</th></tr>\n",
              "\t<tr><th scope=col>&lt;dbl&gt;</th></tr>\n",
              "</thead>\n",
              "<tbody>\n",
              "\t<tr><td>139.625</td></tr>\n",
              "</tbody>\n",
              "</table>\n"
            ]
          },
          "metadata": {
            "tags": []
          }
        }
      ]
    },
    {
      "cell_type": "markdown",
      "metadata": {
        "id": "mx51TRCzgoXl"
      },
      "source": [
        "Question:  What does the followign code do?  "
      ]
    },
    {
      "cell_type": "code",
      "metadata": {
        "colab": {
          "base_uri": "https://localhost:8080/",
          "height": 493
        },
        "id": "BPOa9ajkgogG",
        "outputId": "fbdc372e-c035-4a3e-da04-b04fc7a8429a"
      },
      "source": [
        "#Getting only RST\r\n",
        "(\r\n",
        "  Ontime\r\n",
        "  %>% filter(ORIGIN == \"RST\")\r\n",
        "  %>% drop_na()\r\n",
        "  %>% filter(CARRIER_DELAY == 0)\r\n",
        " ) -> RST_NoNA_CarrierDelay_is_0\r\n",
        "\r\n",
        "dim(RST_NoNA_CarrierDelay_is_0)\r\n",
        "head(RST_NoNA_CarrierDelay_is_0,12)"
      ],
      "execution_count": null,
      "outputs": [
        {
          "output_type": "display_data",
          "data": {
            "text/plain": [
              "[1] 12 17"
            ],
            "text/latex": "\\begin{enumerate*}\n\\item 12\n\\item 17\n\\end{enumerate*}\n",
            "text/markdown": "1. 12\n2. 17\n\n\n",
            "text/html": [
              "<style>\n",
              ".list-inline {list-style: none; margin:0; padding: 0}\n",
              ".list-inline>li {display: inline-block}\n",
              ".list-inline>li:not(:last-child)::after {content: \"\\00b7\"; padding: 0 .5ex}\n",
              "</style>\n",
              "<ol class=list-inline><li>12</li><li>17</li></ol>\n"
            ]
          },
          "metadata": {
            "tags": []
          }
        },
        {
          "output_type": "display_data",
          "data": {
            "text/plain": [
              "   DAY_OF_MONTH DAY_OF_WEEK ORIGIN ORIGIN_STATE DEST DEST_STATE DEP_TIME\n",
              "1  17           4           RST    MN           MSP  MN         1840    \n",
              "2  19           6           RST    MN           MSP  MN         1423    \n",
              "3  23           3           RST    MN           ORD  IL         1326    \n",
              "4  24           4           RST    MN           ORD  IL         1848    \n",
              "5  24           4           RST    MN           ORD  IL          941    \n",
              "6  24           4           RST    MN           MSP  MN          610    \n",
              "7  28           1           RST    MN           MSP  MN          839    \n",
              "8  28           1           RST    MN           MSP  MN         1855    \n",
              "9  29           2           RST    MN           DEN  CO         1349    \n",
              "10 29           2           RST    MN           MSP  MN         1830    \n",
              "11 29           2           RST    MN           MSP  MN         1550    \n",
              "12 30           3           RST    MN           MSP  MN         1243    \n",
              "   DEP_DELAY DEP_DEL15 ARR_TIME ARR_DELAY ARR_DEL15 CARRIER_DELAY WEATHER_DELAY\n",
              "1    41      1         1932       30      1         0                0         \n",
              "2   144      1         1508      136      1         0                0         \n",
              "3  1200      1         1430     1175      1         0             1175         \n",
              "4    82      1         1959       64      1         0               64         \n",
              "5   191      1         1050      164      1         0              164         \n",
              "6    -5      0          743       22      1         0                0         \n",
              "7   144      1          933      132      1         0                0         \n",
              "8    56      1         1939       36      1         0                0         \n",
              "9   144      1         1536      159      1         0                0         \n",
              "10   31      1         1938       35      1         0                9         \n",
              "11    5      0         1711       31      1         0                0         \n",
              "12   44      1         1354       62      1         0                0         \n",
              "   NAS_DELAY SECURITY_DELAY LATE_AIRCRAFT_DELAY\n",
              "1   0        0               30                \n",
              "2   0        0              136                \n",
              "3   0        0                0                \n",
              "4   0        0                0                \n",
              "5   0        0                0                \n",
              "6  22        0                0                \n",
              "7   0        0              132                \n",
              "8   0        0               36                \n",
              "9   0        0              159                \n",
              "10  4        0               22                \n",
              "11 31        0                0                \n",
              "12 18        0               44                "
            ],
            "text/latex": "A tibble: 12 × 17\n\\begin{tabular}{lllllllllllllllll}\n DAY\\_OF\\_MONTH & DAY\\_OF\\_WEEK & ORIGIN & ORIGIN\\_STATE & DEST & DEST\\_STATE & DEP\\_TIME & DEP\\_DELAY & DEP\\_DEL15 & ARR\\_TIME & ARR\\_DELAY & ARR\\_DEL15 & CARRIER\\_DELAY & WEATHER\\_DELAY & NAS\\_DELAY & SECURITY\\_DELAY & LATE\\_AIRCRAFT\\_DELAY\\\\\n <dbl> & <dbl> & <chr> & <chr> & <chr> & <chr> & <dbl> & <dbl> & <dbl> & <dbl> & <dbl> & <dbl> & <dbl> & <dbl> & <dbl> & <dbl> & <dbl>\\\\\n\\hline\n\t 17 & 4 & RST & MN & MSP & MN & 1840 &   41 & 1 & 1932 &   30 & 1 & 0 &    0 &  0 & 0 &  30\\\\\n\t 19 & 6 & RST & MN & MSP & MN & 1423 &  144 & 1 & 1508 &  136 & 1 & 0 &    0 &  0 & 0 & 136\\\\\n\t 23 & 3 & RST & MN & ORD & IL & 1326 & 1200 & 1 & 1430 & 1175 & 1 & 0 & 1175 &  0 & 0 &   0\\\\\n\t 24 & 4 & RST & MN & ORD & IL & 1848 &   82 & 1 & 1959 &   64 & 1 & 0 &   64 &  0 & 0 &   0\\\\\n\t 24 & 4 & RST & MN & ORD & IL &  941 &  191 & 1 & 1050 &  164 & 1 & 0 &  164 &  0 & 0 &   0\\\\\n\t 24 & 4 & RST & MN & MSP & MN &  610 &   -5 & 0 &  743 &   22 & 1 & 0 &    0 & 22 & 0 &   0\\\\\n\t 28 & 1 & RST & MN & MSP & MN &  839 &  144 & 1 &  933 &  132 & 1 & 0 &    0 &  0 & 0 & 132\\\\\n\t 28 & 1 & RST & MN & MSP & MN & 1855 &   56 & 1 & 1939 &   36 & 1 & 0 &    0 &  0 & 0 &  36\\\\\n\t 29 & 2 & RST & MN & DEN & CO & 1349 &  144 & 1 & 1536 &  159 & 1 & 0 &    0 &  0 & 0 & 159\\\\\n\t 29 & 2 & RST & MN & MSP & MN & 1830 &   31 & 1 & 1938 &   35 & 1 & 0 &    9 &  4 & 0 &  22\\\\\n\t 29 & 2 & RST & MN & MSP & MN & 1550 &    5 & 0 & 1711 &   31 & 1 & 0 &    0 & 31 & 0 &   0\\\\\n\t 30 & 3 & RST & MN & MSP & MN & 1243 &   44 & 1 & 1354 &   62 & 1 & 0 &    0 & 18 & 0 &  44\\\\\n\\end{tabular}\n",
            "text/markdown": "\nA tibble: 12 × 17\n\n| DAY_OF_MONTH &lt;dbl&gt; | DAY_OF_WEEK &lt;dbl&gt; | ORIGIN &lt;chr&gt; | ORIGIN_STATE &lt;chr&gt; | DEST &lt;chr&gt; | DEST_STATE &lt;chr&gt; | DEP_TIME &lt;dbl&gt; | DEP_DELAY &lt;dbl&gt; | DEP_DEL15 &lt;dbl&gt; | ARR_TIME &lt;dbl&gt; | ARR_DELAY &lt;dbl&gt; | ARR_DEL15 &lt;dbl&gt; | CARRIER_DELAY &lt;dbl&gt; | WEATHER_DELAY &lt;dbl&gt; | NAS_DELAY &lt;dbl&gt; | SECURITY_DELAY &lt;dbl&gt; | LATE_AIRCRAFT_DELAY &lt;dbl&gt; |\n|---|---|---|---|---|---|---|---|---|---|---|---|---|---|---|---|---|\n| 17 | 4 | RST | MN | MSP | MN | 1840 |   41 | 1 | 1932 |   30 | 1 | 0 |    0 |  0 | 0 |  30 |\n| 19 | 6 | RST | MN | MSP | MN | 1423 |  144 | 1 | 1508 |  136 | 1 | 0 |    0 |  0 | 0 | 136 |\n| 23 | 3 | RST | MN | ORD | IL | 1326 | 1200 | 1 | 1430 | 1175 | 1 | 0 | 1175 |  0 | 0 |   0 |\n| 24 | 4 | RST | MN | ORD | IL | 1848 |   82 | 1 | 1959 |   64 | 1 | 0 |   64 |  0 | 0 |   0 |\n| 24 | 4 | RST | MN | ORD | IL |  941 |  191 | 1 | 1050 |  164 | 1 | 0 |  164 |  0 | 0 |   0 |\n| 24 | 4 | RST | MN | MSP | MN |  610 |   -5 | 0 |  743 |   22 | 1 | 0 |    0 | 22 | 0 |   0 |\n| 28 | 1 | RST | MN | MSP | MN |  839 |  144 | 1 |  933 |  132 | 1 | 0 |    0 |  0 | 0 | 132 |\n| 28 | 1 | RST | MN | MSP | MN | 1855 |   56 | 1 | 1939 |   36 | 1 | 0 |    0 |  0 | 0 |  36 |\n| 29 | 2 | RST | MN | DEN | CO | 1349 |  144 | 1 | 1536 |  159 | 1 | 0 |    0 |  0 | 0 | 159 |\n| 29 | 2 | RST | MN | MSP | MN | 1830 |   31 | 1 | 1938 |   35 | 1 | 0 |    9 |  4 | 0 |  22 |\n| 29 | 2 | RST | MN | MSP | MN | 1550 |    5 | 0 | 1711 |   31 | 1 | 0 |    0 | 31 | 0 |   0 |\n| 30 | 3 | RST | MN | MSP | MN | 1243 |   44 | 1 | 1354 |   62 | 1 | 0 |    0 | 18 | 0 |  44 |\n\n",
            "text/html": [
              "<table class=\"dataframe\">\n",
              "<caption>A tibble: 12 × 17</caption>\n",
              "<thead>\n",
              "\t<tr><th scope=col>DAY_OF_MONTH</th><th scope=col>DAY_OF_WEEK</th><th scope=col>ORIGIN</th><th scope=col>ORIGIN_STATE</th><th scope=col>DEST</th><th scope=col>DEST_STATE</th><th scope=col>DEP_TIME</th><th scope=col>DEP_DELAY</th><th scope=col>DEP_DEL15</th><th scope=col>ARR_TIME</th><th scope=col>ARR_DELAY</th><th scope=col>ARR_DEL15</th><th scope=col>CARRIER_DELAY</th><th scope=col>WEATHER_DELAY</th><th scope=col>NAS_DELAY</th><th scope=col>SECURITY_DELAY</th><th scope=col>LATE_AIRCRAFT_DELAY</th></tr>\n",
              "\t<tr><th scope=col>&lt;dbl&gt;</th><th scope=col>&lt;dbl&gt;</th><th scope=col>&lt;chr&gt;</th><th scope=col>&lt;chr&gt;</th><th scope=col>&lt;chr&gt;</th><th scope=col>&lt;chr&gt;</th><th scope=col>&lt;dbl&gt;</th><th scope=col>&lt;dbl&gt;</th><th scope=col>&lt;dbl&gt;</th><th scope=col>&lt;dbl&gt;</th><th scope=col>&lt;dbl&gt;</th><th scope=col>&lt;dbl&gt;</th><th scope=col>&lt;dbl&gt;</th><th scope=col>&lt;dbl&gt;</th><th scope=col>&lt;dbl&gt;</th><th scope=col>&lt;dbl&gt;</th><th scope=col>&lt;dbl&gt;</th></tr>\n",
              "</thead>\n",
              "<tbody>\n",
              "\t<tr><td>17</td><td>4</td><td>RST</td><td>MN</td><td>MSP</td><td>MN</td><td>1840</td><td>  41</td><td>1</td><td>1932</td><td>  30</td><td>1</td><td>0</td><td>   0</td><td> 0</td><td>0</td><td> 30</td></tr>\n",
              "\t<tr><td>19</td><td>6</td><td>RST</td><td>MN</td><td>MSP</td><td>MN</td><td>1423</td><td> 144</td><td>1</td><td>1508</td><td> 136</td><td>1</td><td>0</td><td>   0</td><td> 0</td><td>0</td><td>136</td></tr>\n",
              "\t<tr><td>23</td><td>3</td><td>RST</td><td>MN</td><td>ORD</td><td>IL</td><td>1326</td><td>1200</td><td>1</td><td>1430</td><td>1175</td><td>1</td><td>0</td><td>1175</td><td> 0</td><td>0</td><td>  0</td></tr>\n",
              "\t<tr><td>24</td><td>4</td><td>RST</td><td>MN</td><td>ORD</td><td>IL</td><td>1848</td><td>  82</td><td>1</td><td>1959</td><td>  64</td><td>1</td><td>0</td><td>  64</td><td> 0</td><td>0</td><td>  0</td></tr>\n",
              "\t<tr><td>24</td><td>4</td><td>RST</td><td>MN</td><td>ORD</td><td>IL</td><td> 941</td><td> 191</td><td>1</td><td>1050</td><td> 164</td><td>1</td><td>0</td><td> 164</td><td> 0</td><td>0</td><td>  0</td></tr>\n",
              "\t<tr><td>24</td><td>4</td><td>RST</td><td>MN</td><td>MSP</td><td>MN</td><td> 610</td><td>  -5</td><td>0</td><td> 743</td><td>  22</td><td>1</td><td>0</td><td>   0</td><td>22</td><td>0</td><td>  0</td></tr>\n",
              "\t<tr><td>28</td><td>1</td><td>RST</td><td>MN</td><td>MSP</td><td>MN</td><td> 839</td><td> 144</td><td>1</td><td> 933</td><td> 132</td><td>1</td><td>0</td><td>   0</td><td> 0</td><td>0</td><td>132</td></tr>\n",
              "\t<tr><td>28</td><td>1</td><td>RST</td><td>MN</td><td>MSP</td><td>MN</td><td>1855</td><td>  56</td><td>1</td><td>1939</td><td>  36</td><td>1</td><td>0</td><td>   0</td><td> 0</td><td>0</td><td> 36</td></tr>\n",
              "\t<tr><td>29</td><td>2</td><td>RST</td><td>MN</td><td>DEN</td><td>CO</td><td>1349</td><td> 144</td><td>1</td><td>1536</td><td> 159</td><td>1</td><td>0</td><td>   0</td><td> 0</td><td>0</td><td>159</td></tr>\n",
              "\t<tr><td>29</td><td>2</td><td>RST</td><td>MN</td><td>MSP</td><td>MN</td><td>1830</td><td>  31</td><td>1</td><td>1938</td><td>  35</td><td>1</td><td>0</td><td>   9</td><td> 4</td><td>0</td><td> 22</td></tr>\n",
              "\t<tr><td>29</td><td>2</td><td>RST</td><td>MN</td><td>MSP</td><td>MN</td><td>1550</td><td>   5</td><td>0</td><td>1711</td><td>  31</td><td>1</td><td>0</td><td>   0</td><td>31</td><td>0</td><td>  0</td></tr>\n",
              "\t<tr><td>30</td><td>3</td><td>RST</td><td>MN</td><td>MSP</td><td>MN</td><td>1243</td><td>  44</td><td>1</td><td>1354</td><td>  62</td><td>1</td><td>0</td><td>   0</td><td>18</td><td>0</td><td> 44</td></tr>\n",
              "</tbody>\n",
              "</table>\n"
            ]
          },
          "metadata": {
            "tags": []
          }
        }
      ]
    },
    {
      "cell_type": "markdown",
      "metadata": {
        "id": "oMK2w1NhhUw3"
      },
      "source": [
        "Question:  What does the followign code do?  "
      ]
    },
    {
      "cell_type": "code",
      "metadata": {
        "colab": {
          "base_uri": "https://localhost:8080/",
          "height": 133
        },
        "id": "TK1fQ29EhU3f",
        "outputId": "7cbcc67c-0d8c-41a6-bf6e-bcb3971faf32"
      },
      "source": [
        "#Getting only RST\r\n",
        "(\r\n",
        "  Ontime\r\n",
        "  %>% filter(ORIGIN == \"RST\")\r\n",
        "  %>% drop_na()\r\n",
        "  %>% filter(CARRIER_DELAY > 0, WEATHER_DELAY > 0)\r\n",
        " ) -> RST_NoNA_CarrierDelay_Above0_and_WeatherDelay_Above0\r\n",
        "\r\n",
        "dim(RST_NoNA_CarrierDelay_Above0_and_WeatherDelay_Above0)\r\n",
        "head(RST_NoNA_CarrierDelay_Above0_and_WeatherDelay_Above0,12)"
      ],
      "execution_count": null,
      "outputs": [
        {
          "output_type": "display_data",
          "data": {
            "text/plain": [
              "[1]  0 17"
            ],
            "text/latex": "\\begin{enumerate*}\n\\item 0\n\\item 17\n\\end{enumerate*}\n",
            "text/markdown": "1. 0\n2. 17\n\n\n",
            "text/html": [
              "<style>\n",
              ".list-inline {list-style: none; margin:0; padding: 0}\n",
              ".list-inline>li {display: inline-block}\n",
              ".list-inline>li:not(:last-child)::after {content: \"\\00b7\"; padding: 0 .5ex}\n",
              "</style>\n",
              "<ol class=list-inline><li>0</li><li>17</li></ol>\n"
            ]
          },
          "metadata": {
            "tags": []
          }
        },
        {
          "output_type": "display_data",
          "data": {
            "text/plain": [
              "     DAY_OF_MONTH DAY_OF_WEEK ORIGIN ORIGIN_STATE DEST DEST_STATE DEP_TIME\n",
              "     DEP_DELAY DEP_DEL15 ARR_TIME ARR_DELAY ARR_DEL15 CARRIER_DELAY\n",
              "     WEATHER_DELAY NAS_DELAY SECURITY_DELAY LATE_AIRCRAFT_DELAY"
            ],
            "text/latex": "A tibble: 0 × 17\n\\begin{tabular}{lllllllllllllllll}\n DAY\\_OF\\_MONTH & DAY\\_OF\\_WEEK & ORIGIN & ORIGIN\\_STATE & DEST & DEST\\_STATE & DEP\\_TIME & DEP\\_DELAY & DEP\\_DEL15 & ARR\\_TIME & ARR\\_DELAY & ARR\\_DEL15 & CARRIER\\_DELAY & WEATHER\\_DELAY & NAS\\_DELAY & SECURITY\\_DELAY & LATE\\_AIRCRAFT\\_DELAY\\\\\n <dbl> & <dbl> & <chr> & <chr> & <chr> & <chr> & <dbl> & <dbl> & <dbl> & <dbl> & <dbl> & <dbl> & <dbl> & <dbl> & <dbl> & <dbl> & <dbl>\\\\\n\\hline\n\\end{tabular}\n",
            "text/markdown": "\nA tibble: 0 × 17\n\n| DAY_OF_MONTH &lt;dbl&gt; | DAY_OF_WEEK &lt;dbl&gt; | ORIGIN &lt;chr&gt; | ORIGIN_STATE &lt;chr&gt; | DEST &lt;chr&gt; | DEST_STATE &lt;chr&gt; | DEP_TIME &lt;dbl&gt; | DEP_DELAY &lt;dbl&gt; | DEP_DEL15 &lt;dbl&gt; | ARR_TIME &lt;dbl&gt; | ARR_DELAY &lt;dbl&gt; | ARR_DEL15 &lt;dbl&gt; | CARRIER_DELAY &lt;dbl&gt; | WEATHER_DELAY &lt;dbl&gt; | NAS_DELAY &lt;dbl&gt; | SECURITY_DELAY &lt;dbl&gt; | LATE_AIRCRAFT_DELAY &lt;dbl&gt; |\n|---|---|---|---|---|---|---|---|---|---|---|---|---|---|---|---|---|\n\n",
            "text/html": [
              "<table class=\"dataframe\">\n",
              "<caption>A tibble: 0 × 17</caption>\n",
              "<thead>\n",
              "\t<tr><th scope=col>DAY_OF_MONTH</th><th scope=col>DAY_OF_WEEK</th><th scope=col>ORIGIN</th><th scope=col>ORIGIN_STATE</th><th scope=col>DEST</th><th scope=col>DEST_STATE</th><th scope=col>DEP_TIME</th><th scope=col>DEP_DELAY</th><th scope=col>DEP_DEL15</th><th scope=col>ARR_TIME</th><th scope=col>ARR_DELAY</th><th scope=col>ARR_DEL15</th><th scope=col>CARRIER_DELAY</th><th scope=col>WEATHER_DELAY</th><th scope=col>NAS_DELAY</th><th scope=col>SECURITY_DELAY</th><th scope=col>LATE_AIRCRAFT_DELAY</th></tr>\n",
              "\t<tr><th scope=col>&lt;dbl&gt;</th><th scope=col>&lt;dbl&gt;</th><th scope=col>&lt;chr&gt;</th><th scope=col>&lt;chr&gt;</th><th scope=col>&lt;chr&gt;</th><th scope=col>&lt;chr&gt;</th><th scope=col>&lt;dbl&gt;</th><th scope=col>&lt;dbl&gt;</th><th scope=col>&lt;dbl&gt;</th><th scope=col>&lt;dbl&gt;</th><th scope=col>&lt;dbl&gt;</th><th scope=col>&lt;dbl&gt;</th><th scope=col>&lt;dbl&gt;</th><th scope=col>&lt;dbl&gt;</th><th scope=col>&lt;dbl&gt;</th><th scope=col>&lt;dbl&gt;</th><th scope=col>&lt;dbl&gt;</th></tr>\n",
              "</thead>\n",
              "<tbody>\n",
              "</tbody>\n",
              "</table>\n"
            ]
          },
          "metadata": {
            "tags": []
          }
        }
      ]
    },
    {
      "cell_type": "markdown",
      "metadata": {
        "id": "T8LJvBxBh7Bo"
      },
      "source": [
        "Question:  What does the followign code do?  "
      ]
    },
    {
      "cell_type": "code",
      "metadata": {
        "colab": {
          "base_uri": "https://localhost:8080/",
          "height": 493
        },
        "id": "65cZtMiRh7JC",
        "outputId": "3ada528c-a3b3-46c2-910f-daa7545d824c"
      },
      "source": [
        "#Getting only RST\r\n",
        "(\r\n",
        "  Ontime\r\n",
        "  %>% filter(ORIGIN == \"RST\")\r\n",
        "  %>% drop_na()\r\n",
        "  %>% filter(CARRIER_DELAY > 0 | WEATHER_DELAY > 0)\r\n",
        " ) -> RST_NoNA_CarrierDelay_Above0_or_WeatherDelay_Above0\r\n",
        "\r\n",
        "dim(RST_NoNA_CarrierDelay_Above0_or_WeatherDelay_Above0)\r\n",
        "head(RST_NoNA_CarrierDelay_Above0_or_WeatherDelay_Above0,12)"
      ],
      "execution_count": null,
      "outputs": [
        {
          "output_type": "display_data",
          "data": {
            "text/plain": [
              "[1] 12 17"
            ],
            "text/latex": "\\begin{enumerate*}\n\\item 12\n\\item 17\n\\end{enumerate*}\n",
            "text/markdown": "1. 12\n2. 17\n\n\n",
            "text/html": [
              "<style>\n",
              ".list-inline {list-style: none; margin:0; padding: 0}\n",
              ".list-inline>li {display: inline-block}\n",
              ".list-inline>li:not(:last-child)::after {content: \"\\00b7\"; padding: 0 .5ex}\n",
              "</style>\n",
              "<ol class=list-inline><li>12</li><li>17</li></ol>\n"
            ]
          },
          "metadata": {
            "tags": []
          }
        },
        {
          "output_type": "display_data",
          "data": {
            "text/plain": [
              "   DAY_OF_MONTH DAY_OF_WEEK ORIGIN ORIGIN_STATE DEST DEST_STATE DEP_TIME\n",
              "1   2           3           RST    MN           DEN  CO         1327    \n",
              "2  12           6           RST    MN           ORD  IL          703    \n",
              "3  13           7           RST    MN           DEN  CO         1205    \n",
              "4  16           3           RST    MN           DEN  CO         1550    \n",
              "5  16           3           RST    MN           ORD  IL          752    \n",
              "6  17           4           RST    MN           MSP  MN          907    \n",
              "7  23           3           RST    MN           ORD  IL         1326    \n",
              "8  24           4           RST    MN           ORD  IL         1848    \n",
              "9  24           4           RST    MN           ORD  IL          941    \n",
              "10 24           4           RST    MN           MSP  MN         1235    \n",
              "11 25           5           RST    MN           DEN  CO         1928    \n",
              "12 29           2           RST    MN           MSP  MN         1830    \n",
              "   DEP_DELAY DEP_DEL15 ARR_TIME ARR_DELAY ARR_DEL15 CARRIER_DELAY WEATHER_DELAY\n",
              "1   132      1         1415       89      1          89              0         \n",
              "2    33      1          817       20      1          20              0         \n",
              "3    50      1         1329       43      1          43              0         \n",
              "4   275      1         1648      242      1         242              0         \n",
              "5    82      1          906       69      1          69              0         \n",
              "6   172      1          955      155      1         138              0         \n",
              "7  1200      1         1430     1175      1           0           1175         \n",
              "8    82      1         1959       64      1           0             64         \n",
              "9   191      1         1050      164      1           0            164         \n",
              "10   36      1         1312       20      1           4              0         \n",
              "11  483      1         2129      512      1         512              0         \n",
              "12   31      1         1938       35      1           0              9         \n",
              "   NAS_DELAY SECURITY_DELAY LATE_AIRCRAFT_DELAY\n",
              "1  0         0               0                 \n",
              "2  0         0               0                 \n",
              "3  0         0               0                 \n",
              "4  0         0               0                 \n",
              "5  0         0               0                 \n",
              "6  0         0              17                 \n",
              "7  0         0               0                 \n",
              "8  0         0               0                 \n",
              "9  0         0               0                 \n",
              "10 0         0              16                 \n",
              "11 0         0               0                 \n",
              "12 4         0              22                 "
            ],
            "text/latex": "A tibble: 12 × 17\n\\begin{tabular}{lllllllllllllllll}\n DAY\\_OF\\_MONTH & DAY\\_OF\\_WEEK & ORIGIN & ORIGIN\\_STATE & DEST & DEST\\_STATE & DEP\\_TIME & DEP\\_DELAY & DEP\\_DEL15 & ARR\\_TIME & ARR\\_DELAY & ARR\\_DEL15 & CARRIER\\_DELAY & WEATHER\\_DELAY & NAS\\_DELAY & SECURITY\\_DELAY & LATE\\_AIRCRAFT\\_DELAY\\\\\n <dbl> & <dbl> & <chr> & <chr> & <chr> & <chr> & <dbl> & <dbl> & <dbl> & <dbl> & <dbl> & <dbl> & <dbl> & <dbl> & <dbl> & <dbl> & <dbl>\\\\\n\\hline\n\t  2 & 3 & RST & MN & DEN & CO & 1327 &  132 & 1 & 1415 &   89 & 1 &  89 &    0 & 0 & 0 &  0\\\\\n\t 12 & 6 & RST & MN & ORD & IL &  703 &   33 & 1 &  817 &   20 & 1 &  20 &    0 & 0 & 0 &  0\\\\\n\t 13 & 7 & RST & MN & DEN & CO & 1205 &   50 & 1 & 1329 &   43 & 1 &  43 &    0 & 0 & 0 &  0\\\\\n\t 16 & 3 & RST & MN & DEN & CO & 1550 &  275 & 1 & 1648 &  242 & 1 & 242 &    0 & 0 & 0 &  0\\\\\n\t 16 & 3 & RST & MN & ORD & IL &  752 &   82 & 1 &  906 &   69 & 1 &  69 &    0 & 0 & 0 &  0\\\\\n\t 17 & 4 & RST & MN & MSP & MN &  907 &  172 & 1 &  955 &  155 & 1 & 138 &    0 & 0 & 0 & 17\\\\\n\t 23 & 3 & RST & MN & ORD & IL & 1326 & 1200 & 1 & 1430 & 1175 & 1 &   0 & 1175 & 0 & 0 &  0\\\\\n\t 24 & 4 & RST & MN & ORD & IL & 1848 &   82 & 1 & 1959 &   64 & 1 &   0 &   64 & 0 & 0 &  0\\\\\n\t 24 & 4 & RST & MN & ORD & IL &  941 &  191 & 1 & 1050 &  164 & 1 &   0 &  164 & 0 & 0 &  0\\\\\n\t 24 & 4 & RST & MN & MSP & MN & 1235 &   36 & 1 & 1312 &   20 & 1 &   4 &    0 & 0 & 0 & 16\\\\\n\t 25 & 5 & RST & MN & DEN & CO & 1928 &  483 & 1 & 2129 &  512 & 1 & 512 &    0 & 0 & 0 &  0\\\\\n\t 29 & 2 & RST & MN & MSP & MN & 1830 &   31 & 1 & 1938 &   35 & 1 &   0 &    9 & 4 & 0 & 22\\\\\n\\end{tabular}\n",
            "text/markdown": "\nA tibble: 12 × 17\n\n| DAY_OF_MONTH &lt;dbl&gt; | DAY_OF_WEEK &lt;dbl&gt; | ORIGIN &lt;chr&gt; | ORIGIN_STATE &lt;chr&gt; | DEST &lt;chr&gt; | DEST_STATE &lt;chr&gt; | DEP_TIME &lt;dbl&gt; | DEP_DELAY &lt;dbl&gt; | DEP_DEL15 &lt;dbl&gt; | ARR_TIME &lt;dbl&gt; | ARR_DELAY &lt;dbl&gt; | ARR_DEL15 &lt;dbl&gt; | CARRIER_DELAY &lt;dbl&gt; | WEATHER_DELAY &lt;dbl&gt; | NAS_DELAY &lt;dbl&gt; | SECURITY_DELAY &lt;dbl&gt; | LATE_AIRCRAFT_DELAY &lt;dbl&gt; |\n|---|---|---|---|---|---|---|---|---|---|---|---|---|---|---|---|---|\n|  2 | 3 | RST | MN | DEN | CO | 1327 |  132 | 1 | 1415 |   89 | 1 |  89 |    0 | 0 | 0 |  0 |\n| 12 | 6 | RST | MN | ORD | IL |  703 |   33 | 1 |  817 |   20 | 1 |  20 |    0 | 0 | 0 |  0 |\n| 13 | 7 | RST | MN | DEN | CO | 1205 |   50 | 1 | 1329 |   43 | 1 |  43 |    0 | 0 | 0 |  0 |\n| 16 | 3 | RST | MN | DEN | CO | 1550 |  275 | 1 | 1648 |  242 | 1 | 242 |    0 | 0 | 0 |  0 |\n| 16 | 3 | RST | MN | ORD | IL |  752 |   82 | 1 |  906 |   69 | 1 |  69 |    0 | 0 | 0 |  0 |\n| 17 | 4 | RST | MN | MSP | MN |  907 |  172 | 1 |  955 |  155 | 1 | 138 |    0 | 0 | 0 | 17 |\n| 23 | 3 | RST | MN | ORD | IL | 1326 | 1200 | 1 | 1430 | 1175 | 1 |   0 | 1175 | 0 | 0 |  0 |\n| 24 | 4 | RST | MN | ORD | IL | 1848 |   82 | 1 | 1959 |   64 | 1 |   0 |   64 | 0 | 0 |  0 |\n| 24 | 4 | RST | MN | ORD | IL |  941 |  191 | 1 | 1050 |  164 | 1 |   0 |  164 | 0 | 0 |  0 |\n| 24 | 4 | RST | MN | MSP | MN | 1235 |   36 | 1 | 1312 |   20 | 1 |   4 |    0 | 0 | 0 | 16 |\n| 25 | 5 | RST | MN | DEN | CO | 1928 |  483 | 1 | 2129 |  512 | 1 | 512 |    0 | 0 | 0 |  0 |\n| 29 | 2 | RST | MN | MSP | MN | 1830 |   31 | 1 | 1938 |   35 | 1 |   0 |    9 | 4 | 0 | 22 |\n\n",
            "text/html": [
              "<table class=\"dataframe\">\n",
              "<caption>A tibble: 12 × 17</caption>\n",
              "<thead>\n",
              "\t<tr><th scope=col>DAY_OF_MONTH</th><th scope=col>DAY_OF_WEEK</th><th scope=col>ORIGIN</th><th scope=col>ORIGIN_STATE</th><th scope=col>DEST</th><th scope=col>DEST_STATE</th><th scope=col>DEP_TIME</th><th scope=col>DEP_DELAY</th><th scope=col>DEP_DEL15</th><th scope=col>ARR_TIME</th><th scope=col>ARR_DELAY</th><th scope=col>ARR_DEL15</th><th scope=col>CARRIER_DELAY</th><th scope=col>WEATHER_DELAY</th><th scope=col>NAS_DELAY</th><th scope=col>SECURITY_DELAY</th><th scope=col>LATE_AIRCRAFT_DELAY</th></tr>\n",
              "\t<tr><th scope=col>&lt;dbl&gt;</th><th scope=col>&lt;dbl&gt;</th><th scope=col>&lt;chr&gt;</th><th scope=col>&lt;chr&gt;</th><th scope=col>&lt;chr&gt;</th><th scope=col>&lt;chr&gt;</th><th scope=col>&lt;dbl&gt;</th><th scope=col>&lt;dbl&gt;</th><th scope=col>&lt;dbl&gt;</th><th scope=col>&lt;dbl&gt;</th><th scope=col>&lt;dbl&gt;</th><th scope=col>&lt;dbl&gt;</th><th scope=col>&lt;dbl&gt;</th><th scope=col>&lt;dbl&gt;</th><th scope=col>&lt;dbl&gt;</th><th scope=col>&lt;dbl&gt;</th><th scope=col>&lt;dbl&gt;</th></tr>\n",
              "</thead>\n",
              "<tbody>\n",
              "\t<tr><td> 2</td><td>3</td><td>RST</td><td>MN</td><td>DEN</td><td>CO</td><td>1327</td><td> 132</td><td>1</td><td>1415</td><td>  89</td><td>1</td><td> 89</td><td>   0</td><td>0</td><td>0</td><td> 0</td></tr>\n",
              "\t<tr><td>12</td><td>6</td><td>RST</td><td>MN</td><td>ORD</td><td>IL</td><td> 703</td><td>  33</td><td>1</td><td> 817</td><td>  20</td><td>1</td><td> 20</td><td>   0</td><td>0</td><td>0</td><td> 0</td></tr>\n",
              "\t<tr><td>13</td><td>7</td><td>RST</td><td>MN</td><td>DEN</td><td>CO</td><td>1205</td><td>  50</td><td>1</td><td>1329</td><td>  43</td><td>1</td><td> 43</td><td>   0</td><td>0</td><td>0</td><td> 0</td></tr>\n",
              "\t<tr><td>16</td><td>3</td><td>RST</td><td>MN</td><td>DEN</td><td>CO</td><td>1550</td><td> 275</td><td>1</td><td>1648</td><td> 242</td><td>1</td><td>242</td><td>   0</td><td>0</td><td>0</td><td> 0</td></tr>\n",
              "\t<tr><td>16</td><td>3</td><td>RST</td><td>MN</td><td>ORD</td><td>IL</td><td> 752</td><td>  82</td><td>1</td><td> 906</td><td>  69</td><td>1</td><td> 69</td><td>   0</td><td>0</td><td>0</td><td> 0</td></tr>\n",
              "\t<tr><td>17</td><td>4</td><td>RST</td><td>MN</td><td>MSP</td><td>MN</td><td> 907</td><td> 172</td><td>1</td><td> 955</td><td> 155</td><td>1</td><td>138</td><td>   0</td><td>0</td><td>0</td><td>17</td></tr>\n",
              "\t<tr><td>23</td><td>3</td><td>RST</td><td>MN</td><td>ORD</td><td>IL</td><td>1326</td><td>1200</td><td>1</td><td>1430</td><td>1175</td><td>1</td><td>  0</td><td>1175</td><td>0</td><td>0</td><td> 0</td></tr>\n",
              "\t<tr><td>24</td><td>4</td><td>RST</td><td>MN</td><td>ORD</td><td>IL</td><td>1848</td><td>  82</td><td>1</td><td>1959</td><td>  64</td><td>1</td><td>  0</td><td>  64</td><td>0</td><td>0</td><td> 0</td></tr>\n",
              "\t<tr><td>24</td><td>4</td><td>RST</td><td>MN</td><td>ORD</td><td>IL</td><td> 941</td><td> 191</td><td>1</td><td>1050</td><td> 164</td><td>1</td><td>  0</td><td> 164</td><td>0</td><td>0</td><td> 0</td></tr>\n",
              "\t<tr><td>24</td><td>4</td><td>RST</td><td>MN</td><td>MSP</td><td>MN</td><td>1235</td><td>  36</td><td>1</td><td>1312</td><td>  20</td><td>1</td><td>  4</td><td>   0</td><td>0</td><td>0</td><td>16</td></tr>\n",
              "\t<tr><td>25</td><td>5</td><td>RST</td><td>MN</td><td>DEN</td><td>CO</td><td>1928</td><td> 483</td><td>1</td><td>2129</td><td> 512</td><td>1</td><td>512</td><td>   0</td><td>0</td><td>0</td><td> 0</td></tr>\n",
              "\t<tr><td>29</td><td>2</td><td>RST</td><td>MN</td><td>MSP</td><td>MN</td><td>1830</td><td>  31</td><td>1</td><td>1938</td><td>  35</td><td>1</td><td>  0</td><td>   9</td><td>4</td><td>0</td><td>22</td></tr>\n",
              "</tbody>\n",
              "</table>\n"
            ]
          },
          "metadata": {
            "tags": []
          }
        }
      ]
    }
  ]
}