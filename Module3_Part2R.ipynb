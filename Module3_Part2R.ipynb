{
  "nbformat": 4,
  "nbformat_minor": 0,
  "metadata": {
    "colab": {
      "name": "Module3_Part2R.ipynb",
      "provenance": [],
      "collapsed_sections": [],
      "authorship_tag": "ABX9TyPY91E7ldmgnC2LioCFyElR",
      "include_colab_link": true
    },
    "kernelspec": {
      "name": "ir",
      "display_name": "R"
    }
  },
  "cells": [
    {
      "cell_type": "markdown",
      "metadata": {
        "id": "view-in-github",
        "colab_type": "text"
      },
      "source": [
        "<a href=\"https://colab.research.google.com/github/christophermalone/DSCI325/blob/main/Module3_Part2R.ipynb\" target=\"_parent\"><img src=\"https://colab.research.google.com/assets/colab-badge.svg\" alt=\"Open In Colab\"/></a>"
      ]
    },
    {
      "cell_type": "markdown",
      "metadata": {
        "id": "j1cZH6CYQg3J"
      },
      "source": [
        "# Module 3 | Part 2 R: Data Verb - FILTER()\n"
      ]
    },
    {
      "cell_type": "markdown",
      "metadata": {
        "id": "e0COIR2BTaog"
      },
      "source": [
        "<table width='100%' ><tr><td bgcolor='green'></td></tr></table>\n",
        "\n",
        "### Example 3.2.R\n",
        "For this notebook, we will consider airline data from the Bureau of Transportation.  Using the form provided on their website, one is able to obtain a variety of information around flight delays.  Obtain the following information for the most recent month avaliable (Nov 2021 here). \n",
        "\n",
        "The following 18 fields will be considered here:\n",
        "\n",
        "*   Day Information: DAY_OF_MONTH, DAY_OF_WEEK\n",
        "*   Origin Information: ORIGIN, ORIGIN_STATE\n",
        "*   Destination Information: DEST, DEST_STATE\n",
        "*   Departure Information: DEP_TIME, DEP_DELAY, DEP_DELAY15, \n",
        "*   Arrival Information: ARR_TIME, ARR_DELAY, ARR_DEL15, \n",
        "*   Cause for Delay: CARRIER_DELAY, WEATHER_DELAY, NAS_DELAY, SECURITY_DELAY, LATE_AIRCRAFT_DELAY\n",
        "\n",
        "\n",
        "<br>Data Source:  https://www.transtats.bts.gov/DL_SelectFields.asp?gnoyr_VQ=FGJ&QO_fu146_anzr=b0-gvzr\n",
        "\n",
        "<table width='100%' ><tr><td bgcolor='green'></td></tr></table>\n"
      ]
    },
    {
      "cell_type": "markdown",
      "metadata": {
        "id": "D5p08j6fmxBE"
      },
      "source": [
        "To begin, the <strong>tidyverse</strong> package will be used throughout this notebook; thus, load this package."
      ]
    },
    {
      "cell_type": "code",
      "metadata": {
        "id": "EhTTm3o1RHsJ"
      },
      "source": [
        "library(tidyverse)"
      ],
      "execution_count": 5,
      "outputs": []
    },
    {
      "cell_type": "markdown",
      "metadata": {
        "id": "c-jtBTwRRH8R"
      },
      "source": [
        "Next, read the Ontime_Reporting.csv file into R.\n",
        "\n",
        "\n"
      ]
    },
    {
      "cell_type": "code",
      "metadata": {
        "id": "TOmPueZDRIYi",
        "colab": {
          "base_uri": "https://localhost:8080/"
        },
        "outputId": "9e1d2b46-7a87-4dc8-8a16-a473c883e64f"
      },
      "source": [
        "Ontime<-read_csv('/content/sample_data/Ontime_Reporting.csv')"
      ],
      "execution_count": 38,
      "outputs": [
        {
          "output_type": "stream",
          "name": "stderr",
          "text": [
            "New names:\n",
            "* `` -> ...18\n",
            "\n",
            "\u001b[1mRows: \u001b[22m\u001b[34m547559\u001b[39m \u001b[1mColumns: \u001b[22m\u001b[34m18\u001b[39m\n",
            "\u001b[36m──\u001b[39m \u001b[1mColumn specification\u001b[22m \u001b[36m────────────────────────────────────────────────────────\u001b[39m\n",
            "\u001b[1mDelimiter:\u001b[22m \",\"\n",
            "\u001b[31mchr\u001b[39m  (6): ORIGIN, ORIGIN_STATE_ABR, DEST, DEST_STATE_ABR, DEP_TIME, ARR_TIME\n",
            "\u001b[32mdbl\u001b[39m (11): DAY_OF_MONTH, DAY_OF_WEEK, DEP_DELAY, DEP_DEL15, ARR_DELAY, ARR_DE...\n",
            "\u001b[33mlgl\u001b[39m  (1): ...18\n",
            "\n",
            "\u001b[36mℹ\u001b[39m Use \u001b[30m\u001b[47m\u001b[30m\u001b[47m`spec()`\u001b[47m\u001b[30m\u001b[49m\u001b[39m to retrieve the full column specification for this data.\n",
            "\u001b[36mℹ\u001b[39m Specify the column types or set \u001b[30m\u001b[47m\u001b[30m\u001b[47m`show_col_types = FALSE`\u001b[47m\u001b[30m\u001b[49m\u001b[39m to quiet this message.\n"
          ]
        }
      ]
    },
    {
      "cell_type": "markdown",
      "metadata": {
        "id": "JffoevRBSgbe"
      },
      "source": [
        "Next, use dim() to get the number of rows and columns and the head() function to see the first few rows of this dataframe."
      ]
    },
    {
      "cell_type": "code",
      "metadata": {
        "colab": {
          "base_uri": "https://localhost:8080/",
          "height": 375
        },
        "id": "VTtGcaH3Sgg8",
        "outputId": "9e56676b-937e-492e-b58b-1c0deebf38cf"
      },
      "source": [
        "#Getting the dimension of the dataframe and taking a look at a few rows.\n",
        " \n",
        " cat(\"The dimension of the Ontime dataframe is: \\n\")\n",
        "   dim(Ontime)\n",
        " \n",
        " cat(\"\\n\")\n",
        " \n",
        " cat(\"A printout of the Ontime dataframe:\\n\")\n",
        "   head(Ontime)\n",
        "   "
      ],
      "execution_count": 7,
      "outputs": [
        {
          "output_type": "stream",
          "name": "stdout",
          "text": [
            "The dimension of the Ontime dataframe is: \n"
          ]
        },
        {
          "output_type": "display_data",
          "data": {
            "text/plain": [
              "[1] 547559     18"
            ],
            "text/latex": "\\begin{enumerate*}\n\\item 547559\n\\item 18\n\\end{enumerate*}\n",
            "text/markdown": "1. 547559\n2. 18\n\n\n",
            "text/html": [
              "<style>\n",
              ".list-inline {list-style: none; margin:0; padding: 0}\n",
              ".list-inline>li {display: inline-block}\n",
              ".list-inline>li:not(:last-child)::after {content: \"\\00b7\"; padding: 0 .5ex}\n",
              "</style>\n",
              "<ol class=list-inline><li>547559</li><li>18</li></ol>\n"
            ]
          },
          "metadata": {}
        },
        {
          "output_type": "stream",
          "name": "stdout",
          "text": [
            "\n",
            "A printout of the Ontime dataframe:\n"
          ]
        },
        {
          "output_type": "display_data",
          "data": {
            "text/plain": [
              "  DAY_OF_MONTH DAY_OF_WEEK ORIGIN ORIGIN_STATE_ABR DEST DEST_STATE_ABR DEP_TIME\n",
              "1 1            1           BDL    CT               IAD  VA             1938    \n",
              "2 1            1           LGA    NY               IAH  TX             1927    \n",
              "3 1            1           MIA    FL               IAD  VA             0842    \n",
              "4 1            1           DTW    MI               IAH  TX             1301    \n",
              "5 1            1           DFW    TX               IAD  VA             0743    \n",
              "6 1            1           SDF    KY               IAH  TX             1833    \n",
              "  DEP_DELAY DEP_DEL15 ARR_TIME ARR_DELAY ARR_DEL15 CARRIER_DELAY WEATHER_DELAY\n",
              "1 -7        0         2143      25       1          0             0           \n",
              "2  7        0         2233     -10       0         NA            NA           \n",
              "3 -3        0         1125     -12       0         NA            NA           \n",
              "4  1        0         1503     -22       0         NA            NA           \n",
              "5 -2        0         1130      -9       0         NA            NA           \n",
              "6  0        0         2004      -4       0         NA            NA           \n",
              "  NAS_DELAY SECURITY_DELAY LATE_AIRCRAFT_DELAY ...18\n",
              "1 25         0              0                  NA   \n",
              "2 NA        NA             NA                  NA   \n",
              "3 NA        NA             NA                  NA   \n",
              "4 NA        NA             NA                  NA   \n",
              "5 NA        NA             NA                  NA   \n",
              "6 NA        NA             NA                  NA   "
            ],
            "text/latex": "A tibble: 6 × 18\n\\begin{tabular}{llllllllllllllllll}\n DAY\\_OF\\_MONTH & DAY\\_OF\\_WEEK & ORIGIN & ORIGIN\\_STATE\\_ABR & DEST & DEST\\_STATE\\_ABR & DEP\\_TIME & DEP\\_DELAY & DEP\\_DEL15 & ARR\\_TIME & ARR\\_DELAY & ARR\\_DEL15 & CARRIER\\_DELAY & WEATHER\\_DELAY & NAS\\_DELAY & SECURITY\\_DELAY & LATE\\_AIRCRAFT\\_DELAY & ...18\\\\\n <dbl> & <dbl> & <chr> & <chr> & <chr> & <chr> & <chr> & <dbl> & <dbl> & <chr> & <dbl> & <dbl> & <dbl> & <dbl> & <dbl> & <dbl> & <dbl> & <lgl>\\\\\n\\hline\n\t 1 & 1 & BDL & CT & IAD & VA & 1938 & -7 & 0 & 2143 &  25 & 1 &  0 &  0 & 25 &  0 &  0 & NA\\\\\n\t 1 & 1 & LGA & NY & IAH & TX & 1927 &  7 & 0 & 2233 & -10 & 0 & NA & NA & NA & NA & NA & NA\\\\\n\t 1 & 1 & MIA & FL & IAD & VA & 0842 & -3 & 0 & 1125 & -12 & 0 & NA & NA & NA & NA & NA & NA\\\\\n\t 1 & 1 & DTW & MI & IAH & TX & 1301 &  1 & 0 & 1503 & -22 & 0 & NA & NA & NA & NA & NA & NA\\\\\n\t 1 & 1 & DFW & TX & IAD & VA & 0743 & -2 & 0 & 1130 &  -9 & 0 & NA & NA & NA & NA & NA & NA\\\\\n\t 1 & 1 & SDF & KY & IAH & TX & 1833 &  0 & 0 & 2004 &  -4 & 0 & NA & NA & NA & NA & NA & NA\\\\\n\\end{tabular}\n",
            "text/markdown": "\nA tibble: 6 × 18\n\n| DAY_OF_MONTH &lt;dbl&gt; | DAY_OF_WEEK &lt;dbl&gt; | ORIGIN &lt;chr&gt; | ORIGIN_STATE_ABR &lt;chr&gt; | DEST &lt;chr&gt; | DEST_STATE_ABR &lt;chr&gt; | DEP_TIME &lt;chr&gt; | DEP_DELAY &lt;dbl&gt; | DEP_DEL15 &lt;dbl&gt; | ARR_TIME &lt;chr&gt; | ARR_DELAY &lt;dbl&gt; | ARR_DEL15 &lt;dbl&gt; | CARRIER_DELAY &lt;dbl&gt; | WEATHER_DELAY &lt;dbl&gt; | NAS_DELAY &lt;dbl&gt; | SECURITY_DELAY &lt;dbl&gt; | LATE_AIRCRAFT_DELAY &lt;dbl&gt; | ...18 &lt;lgl&gt; |\n|---|---|---|---|---|---|---|---|---|---|---|---|---|---|---|---|---|---|\n| 1 | 1 | BDL | CT | IAD | VA | 1938 | -7 | 0 | 2143 |  25 | 1 |  0 |  0 | 25 |  0 |  0 | NA |\n| 1 | 1 | LGA | NY | IAH | TX | 1927 |  7 | 0 | 2233 | -10 | 0 | NA | NA | NA | NA | NA | NA |\n| 1 | 1 | MIA | FL | IAD | VA | 0842 | -3 | 0 | 1125 | -12 | 0 | NA | NA | NA | NA | NA | NA |\n| 1 | 1 | DTW | MI | IAH | TX | 1301 |  1 | 0 | 1503 | -22 | 0 | NA | NA | NA | NA | NA | NA |\n| 1 | 1 | DFW | TX | IAD | VA | 0743 | -2 | 0 | 1130 |  -9 | 0 | NA | NA | NA | NA | NA | NA |\n| 1 | 1 | SDF | KY | IAH | TX | 1833 |  0 | 0 | 2004 |  -4 | 0 | NA | NA | NA | NA | NA | NA |\n\n",
            "text/html": [
              "<table class=\"dataframe\">\n",
              "<caption>A tibble: 6 × 18</caption>\n",
              "<thead>\n",
              "\t<tr><th scope=col>DAY_OF_MONTH</th><th scope=col>DAY_OF_WEEK</th><th scope=col>ORIGIN</th><th scope=col>ORIGIN_STATE_ABR</th><th scope=col>DEST</th><th scope=col>DEST_STATE_ABR</th><th scope=col>DEP_TIME</th><th scope=col>DEP_DELAY</th><th scope=col>DEP_DEL15</th><th scope=col>ARR_TIME</th><th scope=col>ARR_DELAY</th><th scope=col>ARR_DEL15</th><th scope=col>CARRIER_DELAY</th><th scope=col>WEATHER_DELAY</th><th scope=col>NAS_DELAY</th><th scope=col>SECURITY_DELAY</th><th scope=col>LATE_AIRCRAFT_DELAY</th><th scope=col>...18</th></tr>\n",
              "\t<tr><th scope=col>&lt;dbl&gt;</th><th scope=col>&lt;dbl&gt;</th><th scope=col>&lt;chr&gt;</th><th scope=col>&lt;chr&gt;</th><th scope=col>&lt;chr&gt;</th><th scope=col>&lt;chr&gt;</th><th scope=col>&lt;chr&gt;</th><th scope=col>&lt;dbl&gt;</th><th scope=col>&lt;dbl&gt;</th><th scope=col>&lt;chr&gt;</th><th scope=col>&lt;dbl&gt;</th><th scope=col>&lt;dbl&gt;</th><th scope=col>&lt;dbl&gt;</th><th scope=col>&lt;dbl&gt;</th><th scope=col>&lt;dbl&gt;</th><th scope=col>&lt;dbl&gt;</th><th scope=col>&lt;dbl&gt;</th><th scope=col>&lt;lgl&gt;</th></tr>\n",
              "</thead>\n",
              "<tbody>\n",
              "\t<tr><td>1</td><td>1</td><td>BDL</td><td>CT</td><td>IAD</td><td>VA</td><td>1938</td><td>-7</td><td>0</td><td>2143</td><td> 25</td><td>1</td><td> 0</td><td> 0</td><td>25</td><td> 0</td><td> 0</td><td>NA</td></tr>\n",
              "\t<tr><td>1</td><td>1</td><td>LGA</td><td>NY</td><td>IAH</td><td>TX</td><td>1927</td><td> 7</td><td>0</td><td>2233</td><td>-10</td><td>0</td><td>NA</td><td>NA</td><td>NA</td><td>NA</td><td>NA</td><td>NA</td></tr>\n",
              "\t<tr><td>1</td><td>1</td><td>MIA</td><td>FL</td><td>IAD</td><td>VA</td><td>0842</td><td>-3</td><td>0</td><td>1125</td><td>-12</td><td>0</td><td>NA</td><td>NA</td><td>NA</td><td>NA</td><td>NA</td><td>NA</td></tr>\n",
              "\t<tr><td>1</td><td>1</td><td>DTW</td><td>MI</td><td>IAH</td><td>TX</td><td>1301</td><td> 1</td><td>0</td><td>1503</td><td>-22</td><td>0</td><td>NA</td><td>NA</td><td>NA</td><td>NA</td><td>NA</td><td>NA</td></tr>\n",
              "\t<tr><td>1</td><td>1</td><td>DFW</td><td>TX</td><td>IAD</td><td>VA</td><td>0743</td><td>-2</td><td>0</td><td>1130</td><td> -9</td><td>0</td><td>NA</td><td>NA</td><td>NA</td><td>NA</td><td>NA</td><td>NA</td></tr>\n",
              "\t<tr><td>1</td><td>1</td><td>SDF</td><td>KY</td><td>IAH</td><td>TX</td><td>1833</td><td> 0</td><td>0</td><td>2004</td><td> -4</td><td>0</td><td>NA</td><td>NA</td><td>NA</td><td>NA</td><td>NA</td><td>NA</td></tr>\n",
              "</tbody>\n",
              "</table>\n"
            ]
          },
          "metadata": {}
        }
      ]
    },
    {
      "cell_type": "code",
      "source": [
        "str(Ontime)"
      ],
      "metadata": {
        "colab": {
          "base_uri": "https://localhost:8080/"
        },
        "id": "Qzr7jAslJm2d",
        "outputId": "4f97b049-12f7-4045-ca74-fa498d73975e"
      },
      "execution_count": 36,
      "outputs": [
        {
          "output_type": "stream",
          "name": "stdout",
          "text": [
            "spec_tbl_df [547,559 × 18] (S3: spec_tbl_df/tbl_df/tbl/data.frame)\n",
            " $ DAY_OF_MONTH       : num [1:547559] 1 1 1 1 1 1 1 1 1 1 ...\n",
            " $ DAY_OF_WEEK        : num [1:547559] 1 1 1 1 1 1 1 1 1 1 ...\n",
            " $ ORIGIN             : chr [1:547559] \"BDL\" \"LGA\" \"MIA\" \"DTW\" ...\n",
            " $ ORIGIN_STATE_ABR   : chr [1:547559] \"CT\" \"NY\" \"FL\" \"MI\" ...\n",
            " $ DEST               : chr [1:547559] \"IAD\" \"IAH\" \"IAD\" \"IAH\" ...\n",
            " $ DEST_STATE_ABR     : chr [1:547559] \"VA\" \"TX\" \"VA\" \"TX\" ...\n",
            " $ DEP_TIME           : chr [1:547559] \"1938\" \"1927\" \"0842\" \"1301\" ...\n",
            " $ DEP_DELAY          : num [1:547559] -7 7 -3 1 -2 0 -1 -6 26 -5 ...\n",
            " $ DEP_DEL15          : num [1:547559] 0 0 0 0 0 0 0 0 1 0 ...\n",
            " $ ARR_TIME           : chr [1:547559] \"2143\" \"2233\" \"1125\" \"1503\" ...\n",
            " $ ARR_DELAY          : num [1:547559] 25 -10 -12 -22 -9 -4 -5 -14 9 -9 ...\n",
            " $ ARR_DEL15          : num [1:547559] 1 0 0 0 0 0 0 0 0 0 ...\n",
            " $ CARRIER_DELAY      : num [1:547559] 0 NA NA NA NA NA NA NA NA NA ...\n",
            " $ WEATHER_DELAY      : num [1:547559] 0 NA NA NA NA NA NA NA NA NA ...\n",
            " $ NAS_DELAY          : num [1:547559] 25 NA NA NA NA NA NA NA NA NA ...\n",
            " $ SECURITY_DELAY     : num [1:547559] 0 NA NA NA NA NA NA NA NA NA ...\n",
            " $ LATE_AIRCRAFT_DELAY: num [1:547559] 0 NA NA NA NA NA NA NA NA NA ...\n",
            " $ ...18              : logi [1:547559] NA NA NA NA NA NA ...\n",
            " - attr(*, \"spec\")=\n",
            "  .. cols(\n",
            "  ..   DAY_OF_MONTH = \u001b[32mcol_double()\u001b[39m,\n",
            "  ..   DAY_OF_WEEK = \u001b[32mcol_double()\u001b[39m,\n",
            "  ..   ORIGIN = \u001b[31mcol_character()\u001b[39m,\n",
            "  ..   ORIGIN_STATE_ABR = \u001b[31mcol_character()\u001b[39m,\n",
            "  ..   DEST = \u001b[31mcol_character()\u001b[39m,\n",
            "  ..   DEST_STATE_ABR = \u001b[31mcol_character()\u001b[39m,\n",
            "  ..   DEP_TIME = \u001b[31mcol_character()\u001b[39m,\n",
            "  ..   DEP_DELAY = \u001b[32mcol_double()\u001b[39m,\n",
            "  ..   DEP_DEL15 = \u001b[32mcol_double()\u001b[39m,\n",
            "  ..   ARR_TIME = \u001b[31mcol_character()\u001b[39m,\n",
            "  ..   ARR_DELAY = \u001b[32mcol_double()\u001b[39m,\n",
            "  ..   ARR_DEL15 = \u001b[32mcol_double()\u001b[39m,\n",
            "  ..   CARRIER_DELAY = \u001b[32mcol_double()\u001b[39m,\n",
            "  ..   WEATHER_DELAY = \u001b[32mcol_double()\u001b[39m,\n",
            "  ..   NAS_DELAY = \u001b[32mcol_double()\u001b[39m,\n",
            "  ..   SECURITY_DELAY = \u001b[32mcol_double()\u001b[39m,\n",
            "  ..   LATE_AIRCRAFT_DELAY = \u001b[32mcol_double()\u001b[39m,\n",
            "  ..   ...18 = \u001b[33mcol_logical()\u001b[39m\n",
            "  .. )\n",
            " - attr(*, \"problems\")=<externalptr> \n"
          ]
        }
      ]
    },
    {
      "cell_type": "markdown",
      "metadata": {
        "id": "LZi9i1boSuvd"
      },
      "source": [
        "# Filter Actions on Strings"
      ]
    },
    {
      "cell_type": "markdown",
      "metadata": {
        "id": "usJlOVdCcelK"
      },
      "source": [
        "To begin, suppose the goal is to obtain only flights whose ORIGIN airport was Rochester, MN.  The airport code for Rochester, MN is <strong>RST</strong>.\n",
        "\n",
        "<p align='center'><img src=\"https://drive.google.com/uc?export=view&id=1cZ49YcqPChfiBZP0Hq7Ahzxn4Sg3ktG-\" width='25%' height='25%'></p>"
      ]
    },
    {
      "cell_type": "code",
      "metadata": {
        "id": "oxpEfhFZSu2N"
      },
      "source": [
        "#Getting only flights that left RST\n",
        "(\n",
        "  Ontime\n",
        "  %>% filter(ORIGIN == \"RST\")\n",
        "\n",
        ") -> RST\n"
      ],
      "execution_count": 8,
      "outputs": []
    },
    {
      "cell_type": "markdown",
      "metadata": {
        "id": "IMGqdfMBq5ac"
      },
      "source": [
        "Looking at the dimension and a few rows of the RST dataframe."
      ]
    },
    {
      "cell_type": "code",
      "metadata": {
        "colab": {
          "base_uri": "https://localhost:8080/",
          "height": 375
        },
        "id": "vM9pbOCQq5h4",
        "outputId": "c293cc26-135e-4cb0-d8d9-cc09da60f8d8"
      },
      "source": [
        "#Getting the dimension of the dataframe and taking a look at a few rows.\n",
        " \n",
        " cat(\"The dimension of the RST dataframe is: \\n\")\n",
        "   dim(RST)\n",
        " \n",
        " cat(\"\\n\")\n",
        " \n",
        " cat(\"A printout of the RST dataframe:\\n\")\n",
        "   head(RST)\n",
        "   "
      ],
      "execution_count": 10,
      "outputs": [
        {
          "output_type": "stream",
          "name": "stdout",
          "text": [
            "The dimension of the RST dataframe is: \n"
          ]
        },
        {
          "output_type": "display_data",
          "data": {
            "text/plain": [
              "[1] 183  18"
            ],
            "text/latex": "\\begin{enumerate*}\n\\item 183\n\\item 18\n\\end{enumerate*}\n",
            "text/markdown": "1. 183\n2. 18\n\n\n",
            "text/html": [
              "<style>\n",
              ".list-inline {list-style: none; margin:0; padding: 0}\n",
              ".list-inline>li {display: inline-block}\n",
              ".list-inline>li:not(:last-child)::after {content: \"\\00b7\"; padding: 0 .5ex}\n",
              "</style>\n",
              "<ol class=list-inline><li>183</li><li>18</li></ol>\n"
            ]
          },
          "metadata": {}
        },
        {
          "output_type": "stream",
          "name": "stdout",
          "text": [
            "\n",
            "A printout of the RST dataframe:\n"
          ]
        },
        {
          "output_type": "display_data",
          "data": {
            "text/plain": [
              "  DAY_OF_MONTH DAY_OF_WEEK ORIGIN ORIGIN_STATE_ABR DEST DEST_STATE_ABR DEP_TIME\n",
              "1 1            1           RST    MN               ORD  IL             0917    \n",
              "2 1            1           RST    MN               ORD  IL             0718    \n",
              "3 1            1           RST    MN               ORD  IL             1651    \n",
              "4 1            1           RST    MN               MSP  MN             1725    \n",
              "5 1            1           RST    MN               MSP  MN             0555    \n",
              "6 1            1           RST    MN               MSP  MN             1024    \n",
              "  DEP_DELAY DEP_DEL15 ARR_TIME ARR_DELAY ARR_DEL15 CARRIER_DELAY WEATHER_DELAY\n",
              "1 -10       0         1021     -29       0         NA            NA           \n",
              "2  -7       0         0850       2       0         NA            NA           \n",
              "3  -9       0         1805     -21       0         NA            NA           \n",
              "4 -10       0         1817     -20       0         NA            NA           \n",
              "5  -5       0         0649      -9       0         NA            NA           \n",
              "6  -5       0         1115     -13       0         NA            NA           \n",
              "  NAS_DELAY SECURITY_DELAY LATE_AIRCRAFT_DELAY ...18\n",
              "1 NA        NA             NA                  NA   \n",
              "2 NA        NA             NA                  NA   \n",
              "3 NA        NA             NA                  NA   \n",
              "4 NA        NA             NA                  NA   \n",
              "5 NA        NA             NA                  NA   \n",
              "6 NA        NA             NA                  NA   "
            ],
            "text/latex": "A tibble: 6 × 18\n\\begin{tabular}{llllllllllllllllll}\n DAY\\_OF\\_MONTH & DAY\\_OF\\_WEEK & ORIGIN & ORIGIN\\_STATE\\_ABR & DEST & DEST\\_STATE\\_ABR & DEP\\_TIME & DEP\\_DELAY & DEP\\_DEL15 & ARR\\_TIME & ARR\\_DELAY & ARR\\_DEL15 & CARRIER\\_DELAY & WEATHER\\_DELAY & NAS\\_DELAY & SECURITY\\_DELAY & LATE\\_AIRCRAFT\\_DELAY & ...18\\\\\n <dbl> & <dbl> & <chr> & <chr> & <chr> & <chr> & <chr> & <dbl> & <dbl> & <chr> & <dbl> & <dbl> & <dbl> & <dbl> & <dbl> & <dbl> & <dbl> & <lgl>\\\\\n\\hline\n\t 1 & 1 & RST & MN & ORD & IL & 0917 & -10 & 0 & 1021 & -29 & 0 & NA & NA & NA & NA & NA & NA\\\\\n\t 1 & 1 & RST & MN & ORD & IL & 0718 &  -7 & 0 & 0850 &   2 & 0 & NA & NA & NA & NA & NA & NA\\\\\n\t 1 & 1 & RST & MN & ORD & IL & 1651 &  -9 & 0 & 1805 & -21 & 0 & NA & NA & NA & NA & NA & NA\\\\\n\t 1 & 1 & RST & MN & MSP & MN & 1725 & -10 & 0 & 1817 & -20 & 0 & NA & NA & NA & NA & NA & NA\\\\\n\t 1 & 1 & RST & MN & MSP & MN & 0555 &  -5 & 0 & 0649 &  -9 & 0 & NA & NA & NA & NA & NA & NA\\\\\n\t 1 & 1 & RST & MN & MSP & MN & 1024 &  -5 & 0 & 1115 & -13 & 0 & NA & NA & NA & NA & NA & NA\\\\\n\\end{tabular}\n",
            "text/markdown": "\nA tibble: 6 × 18\n\n| DAY_OF_MONTH &lt;dbl&gt; | DAY_OF_WEEK &lt;dbl&gt; | ORIGIN &lt;chr&gt; | ORIGIN_STATE_ABR &lt;chr&gt; | DEST &lt;chr&gt; | DEST_STATE_ABR &lt;chr&gt; | DEP_TIME &lt;chr&gt; | DEP_DELAY &lt;dbl&gt; | DEP_DEL15 &lt;dbl&gt; | ARR_TIME &lt;chr&gt; | ARR_DELAY &lt;dbl&gt; | ARR_DEL15 &lt;dbl&gt; | CARRIER_DELAY &lt;dbl&gt; | WEATHER_DELAY &lt;dbl&gt; | NAS_DELAY &lt;dbl&gt; | SECURITY_DELAY &lt;dbl&gt; | LATE_AIRCRAFT_DELAY &lt;dbl&gt; | ...18 &lt;lgl&gt; |\n|---|---|---|---|---|---|---|---|---|---|---|---|---|---|---|---|---|---|\n| 1 | 1 | RST | MN | ORD | IL | 0917 | -10 | 0 | 1021 | -29 | 0 | NA | NA | NA | NA | NA | NA |\n| 1 | 1 | RST | MN | ORD | IL | 0718 |  -7 | 0 | 0850 |   2 | 0 | NA | NA | NA | NA | NA | NA |\n| 1 | 1 | RST | MN | ORD | IL | 1651 |  -9 | 0 | 1805 | -21 | 0 | NA | NA | NA | NA | NA | NA |\n| 1 | 1 | RST | MN | MSP | MN | 1725 | -10 | 0 | 1817 | -20 | 0 | NA | NA | NA | NA | NA | NA |\n| 1 | 1 | RST | MN | MSP | MN | 0555 |  -5 | 0 | 0649 |  -9 | 0 | NA | NA | NA | NA | NA | NA |\n| 1 | 1 | RST | MN | MSP | MN | 1024 |  -5 | 0 | 1115 | -13 | 0 | NA | NA | NA | NA | NA | NA |\n\n",
            "text/html": [
              "<table class=\"dataframe\">\n",
              "<caption>A tibble: 6 × 18</caption>\n",
              "<thead>\n",
              "\t<tr><th scope=col>DAY_OF_MONTH</th><th scope=col>DAY_OF_WEEK</th><th scope=col>ORIGIN</th><th scope=col>ORIGIN_STATE_ABR</th><th scope=col>DEST</th><th scope=col>DEST_STATE_ABR</th><th scope=col>DEP_TIME</th><th scope=col>DEP_DELAY</th><th scope=col>DEP_DEL15</th><th scope=col>ARR_TIME</th><th scope=col>ARR_DELAY</th><th scope=col>ARR_DEL15</th><th scope=col>CARRIER_DELAY</th><th scope=col>WEATHER_DELAY</th><th scope=col>NAS_DELAY</th><th scope=col>SECURITY_DELAY</th><th scope=col>LATE_AIRCRAFT_DELAY</th><th scope=col>...18</th></tr>\n",
              "\t<tr><th scope=col>&lt;dbl&gt;</th><th scope=col>&lt;dbl&gt;</th><th scope=col>&lt;chr&gt;</th><th scope=col>&lt;chr&gt;</th><th scope=col>&lt;chr&gt;</th><th scope=col>&lt;chr&gt;</th><th scope=col>&lt;chr&gt;</th><th scope=col>&lt;dbl&gt;</th><th scope=col>&lt;dbl&gt;</th><th scope=col>&lt;chr&gt;</th><th scope=col>&lt;dbl&gt;</th><th scope=col>&lt;dbl&gt;</th><th scope=col>&lt;dbl&gt;</th><th scope=col>&lt;dbl&gt;</th><th scope=col>&lt;dbl&gt;</th><th scope=col>&lt;dbl&gt;</th><th scope=col>&lt;dbl&gt;</th><th scope=col>&lt;lgl&gt;</th></tr>\n",
              "</thead>\n",
              "<tbody>\n",
              "\t<tr><td>1</td><td>1</td><td>RST</td><td>MN</td><td>ORD</td><td>IL</td><td>0917</td><td>-10</td><td>0</td><td>1021</td><td>-29</td><td>0</td><td>NA</td><td>NA</td><td>NA</td><td>NA</td><td>NA</td><td>NA</td></tr>\n",
              "\t<tr><td>1</td><td>1</td><td>RST</td><td>MN</td><td>ORD</td><td>IL</td><td>0718</td><td> -7</td><td>0</td><td>0850</td><td>  2</td><td>0</td><td>NA</td><td>NA</td><td>NA</td><td>NA</td><td>NA</td><td>NA</td></tr>\n",
              "\t<tr><td>1</td><td>1</td><td>RST</td><td>MN</td><td>ORD</td><td>IL</td><td>1651</td><td> -9</td><td>0</td><td>1805</td><td>-21</td><td>0</td><td>NA</td><td>NA</td><td>NA</td><td>NA</td><td>NA</td><td>NA</td></tr>\n",
              "\t<tr><td>1</td><td>1</td><td>RST</td><td>MN</td><td>MSP</td><td>MN</td><td>1725</td><td>-10</td><td>0</td><td>1817</td><td>-20</td><td>0</td><td>NA</td><td>NA</td><td>NA</td><td>NA</td><td>NA</td><td>NA</td></tr>\n",
              "\t<tr><td>1</td><td>1</td><td>RST</td><td>MN</td><td>MSP</td><td>MN</td><td>0555</td><td> -5</td><td>0</td><td>0649</td><td> -9</td><td>0</td><td>NA</td><td>NA</td><td>NA</td><td>NA</td><td>NA</td><td>NA</td></tr>\n",
              "\t<tr><td>1</td><td>1</td><td>RST</td><td>MN</td><td>MSP</td><td>MN</td><td>1024</td><td> -5</td><td>0</td><td>1115</td><td>-13</td><td>0</td><td>NA</td><td>NA</td><td>NA</td><td>NA</td><td>NA</td><td>NA</td></tr>\n",
              "</tbody>\n",
              "</table>\n"
            ]
          },
          "metadata": {}
        }
      ]
    },
    {
      "cell_type": "markdown",
      "metadata": {
        "id": "Pmi5_a1XUWhp"
      },
      "source": [
        "Next, let us collect the rows where the ORIGIN airport is RST and the destination airport is MSP, i.e. Minneapolis, MN.\n",
        "\n",
        "<p align='center'><img src=\"https://drive.google.com/uc?export=view&id=1c142gdrEPwS_j09pqK1x8kpQjYDYSs47\" width='25%' height='25%'></p>"
      ]
    },
    {
      "cell_type": "code",
      "metadata": {
        "id": "7B0ykBf5UWpe"
      },
      "source": [
        "#Getting desired rows\n",
        "(\n",
        "  Ontime\n",
        "  %>% filter(ORIGIN == \"RST\", DEST == \"MSP\")\n",
        "\n",
        ") -> RST_to_MSP\n"
      ],
      "execution_count": 11,
      "outputs": []
    },
    {
      "cell_type": "markdown",
      "metadata": {
        "id": "GNBDQuyEU4Bj"
      },
      "source": [
        "Looking at the dimension and a few rows of the RST_to_MSP dataframe."
      ]
    },
    {
      "cell_type": "code",
      "metadata": {
        "colab": {
          "base_uri": "https://localhost:8080/",
          "height": 375
        },
        "id": "Cw__AJCxU4Iv",
        "outputId": "592d6f46-cdf0-4666-b8c3-272ad0662a6b"
      },
      "source": [
        "#Getting the dimension of the dataframe and taking a look at a few rows.\n",
        " \n",
        " cat(\"The dimension of the RST_to_MSP dataframe is: \\n\")\n",
        "   dim(RST_to_MSP)\n",
        " \n",
        " cat(\"\\n\")\n",
        " \n",
        " cat(\"A printout of the RST_to_MSP dataframe:\\n\")\n",
        "   head(RST_to_MSP)\n"
      ],
      "execution_count": 12,
      "outputs": [
        {
          "output_type": "stream",
          "name": "stdout",
          "text": [
            "The dimension of the RST_to_MSP dataframe is: \n"
          ]
        },
        {
          "output_type": "display_data",
          "data": {
            "text/plain": [
              "[1] 85 18"
            ],
            "text/latex": "\\begin{enumerate*}\n\\item 85\n\\item 18\n\\end{enumerate*}\n",
            "text/markdown": "1. 85\n2. 18\n\n\n",
            "text/html": [
              "<style>\n",
              ".list-inline {list-style: none; margin:0; padding: 0}\n",
              ".list-inline>li {display: inline-block}\n",
              ".list-inline>li:not(:last-child)::after {content: \"\\00b7\"; padding: 0 .5ex}\n",
              "</style>\n",
              "<ol class=list-inline><li>85</li><li>18</li></ol>\n"
            ]
          },
          "metadata": {}
        },
        {
          "output_type": "stream",
          "name": "stdout",
          "text": [
            "\n",
            "A printout of the RST_to_MSP dataframe:\n"
          ]
        },
        {
          "output_type": "display_data",
          "data": {
            "text/plain": [
              "  DAY_OF_MONTH DAY_OF_WEEK ORIGIN ORIGIN_STATE_ABR DEST DEST_STATE_ABR DEP_TIME\n",
              "1 1            1           RST    MN               MSP  MN             1725    \n",
              "2 1            1           RST    MN               MSP  MN             0555    \n",
              "3 1            1           RST    MN               MSP  MN             1024    \n",
              "4 2            2           RST    MN               MSP  MN             1723    \n",
              "5 2            2           RST    MN               MSP  MN             0556    \n",
              "6 2            2           RST    MN               MSP  MN             1024    \n",
              "  DEP_DELAY DEP_DEL15 ARR_TIME ARR_DELAY ARR_DEL15 CARRIER_DELAY WEATHER_DELAY\n",
              "1 -10       0         1817     -20       0         NA            NA           \n",
              "2  -5       0         0649      -9       0         NA            NA           \n",
              "3  -5       0         1115     -13       0         NA            NA           \n",
              "4 -12       0         1808     -29       0         NA            NA           \n",
              "5  -4       0         0646     -12       0         NA            NA           \n",
              "6  -5       0         1105     -23       0         NA            NA           \n",
              "  NAS_DELAY SECURITY_DELAY LATE_AIRCRAFT_DELAY ...18\n",
              "1 NA        NA             NA                  NA   \n",
              "2 NA        NA             NA                  NA   \n",
              "3 NA        NA             NA                  NA   \n",
              "4 NA        NA             NA                  NA   \n",
              "5 NA        NA             NA                  NA   \n",
              "6 NA        NA             NA                  NA   "
            ],
            "text/latex": "A tibble: 6 × 18\n\\begin{tabular}{llllllllllllllllll}\n DAY\\_OF\\_MONTH & DAY\\_OF\\_WEEK & ORIGIN & ORIGIN\\_STATE\\_ABR & DEST & DEST\\_STATE\\_ABR & DEP\\_TIME & DEP\\_DELAY & DEP\\_DEL15 & ARR\\_TIME & ARR\\_DELAY & ARR\\_DEL15 & CARRIER\\_DELAY & WEATHER\\_DELAY & NAS\\_DELAY & SECURITY\\_DELAY & LATE\\_AIRCRAFT\\_DELAY & ...18\\\\\n <dbl> & <dbl> & <chr> & <chr> & <chr> & <chr> & <chr> & <dbl> & <dbl> & <chr> & <dbl> & <dbl> & <dbl> & <dbl> & <dbl> & <dbl> & <dbl> & <lgl>\\\\\n\\hline\n\t 1 & 1 & RST & MN & MSP & MN & 1725 & -10 & 0 & 1817 & -20 & 0 & NA & NA & NA & NA & NA & NA\\\\\n\t 1 & 1 & RST & MN & MSP & MN & 0555 &  -5 & 0 & 0649 &  -9 & 0 & NA & NA & NA & NA & NA & NA\\\\\n\t 1 & 1 & RST & MN & MSP & MN & 1024 &  -5 & 0 & 1115 & -13 & 0 & NA & NA & NA & NA & NA & NA\\\\\n\t 2 & 2 & RST & MN & MSP & MN & 1723 & -12 & 0 & 1808 & -29 & 0 & NA & NA & NA & NA & NA & NA\\\\\n\t 2 & 2 & RST & MN & MSP & MN & 0556 &  -4 & 0 & 0646 & -12 & 0 & NA & NA & NA & NA & NA & NA\\\\\n\t 2 & 2 & RST & MN & MSP & MN & 1024 &  -5 & 0 & 1105 & -23 & 0 & NA & NA & NA & NA & NA & NA\\\\\n\\end{tabular}\n",
            "text/markdown": "\nA tibble: 6 × 18\n\n| DAY_OF_MONTH &lt;dbl&gt; | DAY_OF_WEEK &lt;dbl&gt; | ORIGIN &lt;chr&gt; | ORIGIN_STATE_ABR &lt;chr&gt; | DEST &lt;chr&gt; | DEST_STATE_ABR &lt;chr&gt; | DEP_TIME &lt;chr&gt; | DEP_DELAY &lt;dbl&gt; | DEP_DEL15 &lt;dbl&gt; | ARR_TIME &lt;chr&gt; | ARR_DELAY &lt;dbl&gt; | ARR_DEL15 &lt;dbl&gt; | CARRIER_DELAY &lt;dbl&gt; | WEATHER_DELAY &lt;dbl&gt; | NAS_DELAY &lt;dbl&gt; | SECURITY_DELAY &lt;dbl&gt; | LATE_AIRCRAFT_DELAY &lt;dbl&gt; | ...18 &lt;lgl&gt; |\n|---|---|---|---|---|---|---|---|---|---|---|---|---|---|---|---|---|---|\n| 1 | 1 | RST | MN | MSP | MN | 1725 | -10 | 0 | 1817 | -20 | 0 | NA | NA | NA | NA | NA | NA |\n| 1 | 1 | RST | MN | MSP | MN | 0555 |  -5 | 0 | 0649 |  -9 | 0 | NA | NA | NA | NA | NA | NA |\n| 1 | 1 | RST | MN | MSP | MN | 1024 |  -5 | 0 | 1115 | -13 | 0 | NA | NA | NA | NA | NA | NA |\n| 2 | 2 | RST | MN | MSP | MN | 1723 | -12 | 0 | 1808 | -29 | 0 | NA | NA | NA | NA | NA | NA |\n| 2 | 2 | RST | MN | MSP | MN | 0556 |  -4 | 0 | 0646 | -12 | 0 | NA | NA | NA | NA | NA | NA |\n| 2 | 2 | RST | MN | MSP | MN | 1024 |  -5 | 0 | 1105 | -23 | 0 | NA | NA | NA | NA | NA | NA |\n\n",
            "text/html": [
              "<table class=\"dataframe\">\n",
              "<caption>A tibble: 6 × 18</caption>\n",
              "<thead>\n",
              "\t<tr><th scope=col>DAY_OF_MONTH</th><th scope=col>DAY_OF_WEEK</th><th scope=col>ORIGIN</th><th scope=col>ORIGIN_STATE_ABR</th><th scope=col>DEST</th><th scope=col>DEST_STATE_ABR</th><th scope=col>DEP_TIME</th><th scope=col>DEP_DELAY</th><th scope=col>DEP_DEL15</th><th scope=col>ARR_TIME</th><th scope=col>ARR_DELAY</th><th scope=col>ARR_DEL15</th><th scope=col>CARRIER_DELAY</th><th scope=col>WEATHER_DELAY</th><th scope=col>NAS_DELAY</th><th scope=col>SECURITY_DELAY</th><th scope=col>LATE_AIRCRAFT_DELAY</th><th scope=col>...18</th></tr>\n",
              "\t<tr><th scope=col>&lt;dbl&gt;</th><th scope=col>&lt;dbl&gt;</th><th scope=col>&lt;chr&gt;</th><th scope=col>&lt;chr&gt;</th><th scope=col>&lt;chr&gt;</th><th scope=col>&lt;chr&gt;</th><th scope=col>&lt;chr&gt;</th><th scope=col>&lt;dbl&gt;</th><th scope=col>&lt;dbl&gt;</th><th scope=col>&lt;chr&gt;</th><th scope=col>&lt;dbl&gt;</th><th scope=col>&lt;dbl&gt;</th><th scope=col>&lt;dbl&gt;</th><th scope=col>&lt;dbl&gt;</th><th scope=col>&lt;dbl&gt;</th><th scope=col>&lt;dbl&gt;</th><th scope=col>&lt;dbl&gt;</th><th scope=col>&lt;lgl&gt;</th></tr>\n",
              "</thead>\n",
              "<tbody>\n",
              "\t<tr><td>1</td><td>1</td><td>RST</td><td>MN</td><td>MSP</td><td>MN</td><td>1725</td><td>-10</td><td>0</td><td>1817</td><td>-20</td><td>0</td><td>NA</td><td>NA</td><td>NA</td><td>NA</td><td>NA</td><td>NA</td></tr>\n",
              "\t<tr><td>1</td><td>1</td><td>RST</td><td>MN</td><td>MSP</td><td>MN</td><td>0555</td><td> -5</td><td>0</td><td>0649</td><td> -9</td><td>0</td><td>NA</td><td>NA</td><td>NA</td><td>NA</td><td>NA</td><td>NA</td></tr>\n",
              "\t<tr><td>1</td><td>1</td><td>RST</td><td>MN</td><td>MSP</td><td>MN</td><td>1024</td><td> -5</td><td>0</td><td>1115</td><td>-13</td><td>0</td><td>NA</td><td>NA</td><td>NA</td><td>NA</td><td>NA</td><td>NA</td></tr>\n",
              "\t<tr><td>2</td><td>2</td><td>RST</td><td>MN</td><td>MSP</td><td>MN</td><td>1723</td><td>-12</td><td>0</td><td>1808</td><td>-29</td><td>0</td><td>NA</td><td>NA</td><td>NA</td><td>NA</td><td>NA</td><td>NA</td></tr>\n",
              "\t<tr><td>2</td><td>2</td><td>RST</td><td>MN</td><td>MSP</td><td>MN</td><td>0556</td><td> -4</td><td>0</td><td>0646</td><td>-12</td><td>0</td><td>NA</td><td>NA</td><td>NA</td><td>NA</td><td>NA</td><td>NA</td></tr>\n",
              "\t<tr><td>2</td><td>2</td><td>RST</td><td>MN</td><td>MSP</td><td>MN</td><td>1024</td><td> -5</td><td>0</td><td>1105</td><td>-23</td><td>0</td><td>NA</td><td>NA</td><td>NA</td><td>NA</td><td>NA</td><td>NA</td></tr>\n",
              "</tbody>\n",
              "</table>\n"
            ]
          },
          "metadata": {}
        }
      ]
    },
    {
      "cell_type": "markdown",
      "metadata": {
        "id": "HXBhXzNPVPJn"
      },
      "source": [
        "Next, let us collect the rows where the ORIGIN airport is RST or the ORIGIN airport is DLH, i.e. Duluth, MN.\n",
        "\n",
        "<p align='center'><img src=\"https://drive.google.com/uc?export=view&id=1zQzTj9PJkooEfkkaioffNW1O49Cocy7Y\" width='25%' height='25%'></p>\n",
        "\n",
        "\n"
      ]
    },
    {
      "cell_type": "code",
      "metadata": {
        "id": "2oSid1ULVPRQ"
      },
      "source": [
        "#Getting desired rows\n",
        "(\n",
        "  Ontime\n",
        "  %>% filter(ORIGIN == \"RST\" | ORIGIN == \"DLH\")\n",
        "\n",
        ") -> RST_or_DLH"
      ],
      "execution_count": 13,
      "outputs": []
    },
    {
      "cell_type": "markdown",
      "metadata": {
        "id": "XH6_uIduVcgp"
      },
      "source": [
        "Looking at the dimension and a few rows of the RST_to_MSP dataframe."
      ]
    },
    {
      "cell_type": "code",
      "metadata": {
        "colab": {
          "base_uri": "https://localhost:8080/",
          "height": 375
        },
        "id": "laPYmEJIVcnI",
        "outputId": "14c166ae-b1bc-4805-9a4c-4f1ea2c18431"
      },
      "source": [
        "#Getting the dimension of the dataframe and taking a look at a few rows.\n",
        " \n",
        " cat(\"The dimension of the RST_or_DLH dataframe is: \\n\")\n",
        "   dim(RST_or_DLH)\n",
        " \n",
        " cat(\"\\n\")\n",
        " \n",
        " cat(\"A printout of the RST_or_DLH dataframe:\\n\")\n",
        "   head(RST_or_DLH)"
      ],
      "execution_count": 15,
      "outputs": [
        {
          "output_type": "stream",
          "name": "stdout",
          "text": [
            "The dimension of the RST_or_DLH dataframe is: \n"
          ]
        },
        {
          "output_type": "display_data",
          "data": {
            "text/plain": [
              "[1] 329  18"
            ],
            "text/latex": "\\begin{enumerate*}\n\\item 329\n\\item 18\n\\end{enumerate*}\n",
            "text/markdown": "1. 329\n2. 18\n\n\n",
            "text/html": [
              "<style>\n",
              ".list-inline {list-style: none; margin:0; padding: 0}\n",
              ".list-inline>li {display: inline-block}\n",
              ".list-inline>li:not(:last-child)::after {content: \"\\00b7\"; padding: 0 .5ex}\n",
              "</style>\n",
              "<ol class=list-inline><li>329</li><li>18</li></ol>\n"
            ]
          },
          "metadata": {}
        },
        {
          "output_type": "stream",
          "name": "stdout",
          "text": [
            "\n",
            "A printout of the RST_or_DLH dataframe:\n"
          ]
        },
        {
          "output_type": "display_data",
          "data": {
            "text/plain": [
              "  DAY_OF_MONTH DAY_OF_WEEK ORIGIN ORIGIN_STATE_ABR DEST DEST_STATE_ABR DEP_TIME\n",
              "1 1            1           RST    MN               ORD  IL             0917    \n",
              "2 1            1           RST    MN               ORD  IL             0718    \n",
              "3 1            1           RST    MN               ORD  IL             1651    \n",
              "4 1            1           RST    MN               MSP  MN             1725    \n",
              "5 1            1           DLH    MN               MSP  MN             1926    \n",
              "6 1            1           RST    MN               MSP  MN             0555    \n",
              "  DEP_DELAY DEP_DEL15 ARR_TIME ARR_DELAY ARR_DEL15 CARRIER_DELAY WEATHER_DELAY\n",
              "1 -10       0         1021     -29       0         NA            NA           \n",
              "2  -7       0         0850       2       0         NA            NA           \n",
              "3  -9       0         1805     -21       0         NA            NA           \n",
              "4 -10       0         1817     -20       0         NA            NA           \n",
              "5  -5       0         2025     -10       0         NA            NA           \n",
              "6  -5       0         0649      -9       0         NA            NA           \n",
              "  NAS_DELAY SECURITY_DELAY LATE_AIRCRAFT_DELAY ...18\n",
              "1 NA        NA             NA                  NA   \n",
              "2 NA        NA             NA                  NA   \n",
              "3 NA        NA             NA                  NA   \n",
              "4 NA        NA             NA                  NA   \n",
              "5 NA        NA             NA                  NA   \n",
              "6 NA        NA             NA                  NA   "
            ],
            "text/latex": "A tibble: 6 × 18\n\\begin{tabular}{llllllllllllllllll}\n DAY\\_OF\\_MONTH & DAY\\_OF\\_WEEK & ORIGIN & ORIGIN\\_STATE\\_ABR & DEST & DEST\\_STATE\\_ABR & DEP\\_TIME & DEP\\_DELAY & DEP\\_DEL15 & ARR\\_TIME & ARR\\_DELAY & ARR\\_DEL15 & CARRIER\\_DELAY & WEATHER\\_DELAY & NAS\\_DELAY & SECURITY\\_DELAY & LATE\\_AIRCRAFT\\_DELAY & ...18\\\\\n <dbl> & <dbl> & <chr> & <chr> & <chr> & <chr> & <chr> & <dbl> & <dbl> & <chr> & <dbl> & <dbl> & <dbl> & <dbl> & <dbl> & <dbl> & <dbl> & <lgl>\\\\\n\\hline\n\t 1 & 1 & RST & MN & ORD & IL & 0917 & -10 & 0 & 1021 & -29 & 0 & NA & NA & NA & NA & NA & NA\\\\\n\t 1 & 1 & RST & MN & ORD & IL & 0718 &  -7 & 0 & 0850 &   2 & 0 & NA & NA & NA & NA & NA & NA\\\\\n\t 1 & 1 & RST & MN & ORD & IL & 1651 &  -9 & 0 & 1805 & -21 & 0 & NA & NA & NA & NA & NA & NA\\\\\n\t 1 & 1 & RST & MN & MSP & MN & 1725 & -10 & 0 & 1817 & -20 & 0 & NA & NA & NA & NA & NA & NA\\\\\n\t 1 & 1 & DLH & MN & MSP & MN & 1926 &  -5 & 0 & 2025 & -10 & 0 & NA & NA & NA & NA & NA & NA\\\\\n\t 1 & 1 & RST & MN & MSP & MN & 0555 &  -5 & 0 & 0649 &  -9 & 0 & NA & NA & NA & NA & NA & NA\\\\\n\\end{tabular}\n",
            "text/markdown": "\nA tibble: 6 × 18\n\n| DAY_OF_MONTH &lt;dbl&gt; | DAY_OF_WEEK &lt;dbl&gt; | ORIGIN &lt;chr&gt; | ORIGIN_STATE_ABR &lt;chr&gt; | DEST &lt;chr&gt; | DEST_STATE_ABR &lt;chr&gt; | DEP_TIME &lt;chr&gt; | DEP_DELAY &lt;dbl&gt; | DEP_DEL15 &lt;dbl&gt; | ARR_TIME &lt;chr&gt; | ARR_DELAY &lt;dbl&gt; | ARR_DEL15 &lt;dbl&gt; | CARRIER_DELAY &lt;dbl&gt; | WEATHER_DELAY &lt;dbl&gt; | NAS_DELAY &lt;dbl&gt; | SECURITY_DELAY &lt;dbl&gt; | LATE_AIRCRAFT_DELAY &lt;dbl&gt; | ...18 &lt;lgl&gt; |\n|---|---|---|---|---|---|---|---|---|---|---|---|---|---|---|---|---|---|\n| 1 | 1 | RST | MN | ORD | IL | 0917 | -10 | 0 | 1021 | -29 | 0 | NA | NA | NA | NA | NA | NA |\n| 1 | 1 | RST | MN | ORD | IL | 0718 |  -7 | 0 | 0850 |   2 | 0 | NA | NA | NA | NA | NA | NA |\n| 1 | 1 | RST | MN | ORD | IL | 1651 |  -9 | 0 | 1805 | -21 | 0 | NA | NA | NA | NA | NA | NA |\n| 1 | 1 | RST | MN | MSP | MN | 1725 | -10 | 0 | 1817 | -20 | 0 | NA | NA | NA | NA | NA | NA |\n| 1 | 1 | DLH | MN | MSP | MN | 1926 |  -5 | 0 | 2025 | -10 | 0 | NA | NA | NA | NA | NA | NA |\n| 1 | 1 | RST | MN | MSP | MN | 0555 |  -5 | 0 | 0649 |  -9 | 0 | NA | NA | NA | NA | NA | NA |\n\n",
            "text/html": [
              "<table class=\"dataframe\">\n",
              "<caption>A tibble: 6 × 18</caption>\n",
              "<thead>\n",
              "\t<tr><th scope=col>DAY_OF_MONTH</th><th scope=col>DAY_OF_WEEK</th><th scope=col>ORIGIN</th><th scope=col>ORIGIN_STATE_ABR</th><th scope=col>DEST</th><th scope=col>DEST_STATE_ABR</th><th scope=col>DEP_TIME</th><th scope=col>DEP_DELAY</th><th scope=col>DEP_DEL15</th><th scope=col>ARR_TIME</th><th scope=col>ARR_DELAY</th><th scope=col>ARR_DEL15</th><th scope=col>CARRIER_DELAY</th><th scope=col>WEATHER_DELAY</th><th scope=col>NAS_DELAY</th><th scope=col>SECURITY_DELAY</th><th scope=col>LATE_AIRCRAFT_DELAY</th><th scope=col>...18</th></tr>\n",
              "\t<tr><th scope=col>&lt;dbl&gt;</th><th scope=col>&lt;dbl&gt;</th><th scope=col>&lt;chr&gt;</th><th scope=col>&lt;chr&gt;</th><th scope=col>&lt;chr&gt;</th><th scope=col>&lt;chr&gt;</th><th scope=col>&lt;chr&gt;</th><th scope=col>&lt;dbl&gt;</th><th scope=col>&lt;dbl&gt;</th><th scope=col>&lt;chr&gt;</th><th scope=col>&lt;dbl&gt;</th><th scope=col>&lt;dbl&gt;</th><th scope=col>&lt;dbl&gt;</th><th scope=col>&lt;dbl&gt;</th><th scope=col>&lt;dbl&gt;</th><th scope=col>&lt;dbl&gt;</th><th scope=col>&lt;dbl&gt;</th><th scope=col>&lt;lgl&gt;</th></tr>\n",
              "</thead>\n",
              "<tbody>\n",
              "\t<tr><td>1</td><td>1</td><td>RST</td><td>MN</td><td>ORD</td><td>IL</td><td>0917</td><td>-10</td><td>0</td><td>1021</td><td>-29</td><td>0</td><td>NA</td><td>NA</td><td>NA</td><td>NA</td><td>NA</td><td>NA</td></tr>\n",
              "\t<tr><td>1</td><td>1</td><td>RST</td><td>MN</td><td>ORD</td><td>IL</td><td>0718</td><td> -7</td><td>0</td><td>0850</td><td>  2</td><td>0</td><td>NA</td><td>NA</td><td>NA</td><td>NA</td><td>NA</td><td>NA</td></tr>\n",
              "\t<tr><td>1</td><td>1</td><td>RST</td><td>MN</td><td>ORD</td><td>IL</td><td>1651</td><td> -9</td><td>0</td><td>1805</td><td>-21</td><td>0</td><td>NA</td><td>NA</td><td>NA</td><td>NA</td><td>NA</td><td>NA</td></tr>\n",
              "\t<tr><td>1</td><td>1</td><td>RST</td><td>MN</td><td>MSP</td><td>MN</td><td>1725</td><td>-10</td><td>0</td><td>1817</td><td>-20</td><td>0</td><td>NA</td><td>NA</td><td>NA</td><td>NA</td><td>NA</td><td>NA</td></tr>\n",
              "\t<tr><td>1</td><td>1</td><td>DLH</td><td>MN</td><td>MSP</td><td>MN</td><td>1926</td><td> -5</td><td>0</td><td>2025</td><td>-10</td><td>0</td><td>NA</td><td>NA</td><td>NA</td><td>NA</td><td>NA</td><td>NA</td></tr>\n",
              "\t<tr><td>1</td><td>1</td><td>RST</td><td>MN</td><td>MSP</td><td>MN</td><td>0555</td><td> -5</td><td>0</td><td>0649</td><td> -9</td><td>0</td><td>NA</td><td>NA</td><td>NA</td><td>NA</td><td>NA</td><td>NA</td></tr>\n",
              "</tbody>\n",
              "</table>\n"
            ]
          },
          "metadata": {}
        }
      ]
    },
    {
      "cell_type": "markdown",
      "metadata": {
        "id": "ykP3XkffVucA"
      },
      "source": [
        "Next, let us collect the rows where the ORIGIN airport is RST or the ORIGIN airport is DLH, i.e. Duluth, MN and the destination is MSP.\n",
        "\n",
        "\n",
        "Requested Rows: (ORIGIN is RST OR DLH) AND (DEST is MSP)"
      ]
    },
    {
      "cell_type": "code",
      "metadata": {
        "colab": {
          "base_uri": "https://localhost:8080/",
          "height": 815
        },
        "id": "PF2QNO_lVuky",
        "outputId": "861136ae-38e7-4fbe-ea57-34f10755f327"
      },
      "source": [
        "#Getting desired rows\n",
        "(\n",
        "  Ontime\n",
        "  %>% filter(ORIGIN == \"RST\" | ORIGIN == \"DLH\")\n",
        "  %>% filter(DEST == \"MSP\")\n",
        ") -> RST_or_DLH_to_MSP\n",
        "\n",
        "\n",
        "cat(\"The dimension of the RST_or_DLH_to_MSP dataframe is: \\n\")\n",
        "   dim(RST_or_DLH_to_MSP)\n",
        " cat(\"\\n\")\n",
        " cat(\"A printout of the RST_or_DLH_to_MSP dataframe:\\n\")\n",
        "   head(RST_or_DLH_to_MSP,20)\n"
      ],
      "execution_count": 16,
      "outputs": [
        {
          "output_type": "stream",
          "name": "stdout",
          "text": [
            "The dimension of the RST_or_DLH_to_MSP dataframe is: \n"
          ]
        },
        {
          "output_type": "display_data",
          "data": {
            "text/plain": [
              "[1] 231  18"
            ],
            "text/latex": "\\begin{enumerate*}\n\\item 231\n\\item 18\n\\end{enumerate*}\n",
            "text/markdown": "1. 231\n2. 18\n\n\n",
            "text/html": [
              "<style>\n",
              ".list-inline {list-style: none; margin:0; padding: 0}\n",
              ".list-inline>li {display: inline-block}\n",
              ".list-inline>li:not(:last-child)::after {content: \"\\00b7\"; padding: 0 .5ex}\n",
              "</style>\n",
              "<ol class=list-inline><li>231</li><li>18</li></ol>\n"
            ]
          },
          "metadata": {}
        },
        {
          "output_type": "stream",
          "name": "stdout",
          "text": [
            "\n",
            "A printout of the RST_or_DLH_to_MSP dataframe:\n"
          ]
        },
        {
          "output_type": "display_data",
          "data": {
            "text/plain": [
              "   DAY_OF_MONTH DAY_OF_WEEK ORIGIN ORIGIN_STATE_ABR DEST DEST_STATE_ABR\n",
              "1  1            1           RST    MN               MSP  MN            \n",
              "2  1            1           DLH    MN               MSP  MN            \n",
              "3  1            1           RST    MN               MSP  MN            \n",
              "4  1            1           RST    MN               MSP  MN            \n",
              "5  1            1           DLH    MN               MSP  MN            \n",
              "6  1            1           DLH    MN               MSP  MN            \n",
              "7  1            1           DLH    MN               MSP  MN            \n",
              "8  1            1           DLH    MN               MSP  MN            \n",
              "9  2            2           DLH    MN               MSP  MN            \n",
              "10 2            2           DLH    MN               MSP  MN            \n",
              "11 2            2           RST    MN               MSP  MN            \n",
              "12 2            2           DLH    MN               MSP  MN            \n",
              "13 2            2           RST    MN               MSP  MN            \n",
              "14 2            2           RST    MN               MSP  MN            \n",
              "15 2            2           DLH    MN               MSP  MN            \n",
              "16 2            2           DLH    MN               MSP  MN            \n",
              "17 3            3           RST    MN               MSP  MN            \n",
              "18 3            3           DLH    MN               MSP  MN            \n",
              "19 3            3           RST    MN               MSP  MN            \n",
              "20 3            3           RST    MN               MSP  MN            \n",
              "   DEP_TIME DEP_DELAY DEP_DEL15 ARR_TIME ARR_DELAY ARR_DEL15 CARRIER_DELAY\n",
              "1  1725     -10       0         1817     -20       0         NA           \n",
              "2  1926      -5       0         2025     -10       0         NA           \n",
              "3  0555      -5       0         0649      -9       0         NA           \n",
              "4  1024      -5       0         1115     -13       0         NA           \n",
              "5  1720     -10       0         1815     -26       0         NA           \n",
              "6  1348       0       0         1449       4       0         NA           \n",
              "7  0600       0       0         0705       5       0         NA           \n",
              "8  0936       2       0         1026     -13       0         NA           \n",
              "9  0929      -5       0         1026     -13       0         NA           \n",
              "10 0559      -1       0         0653      -7       0         NA           \n",
              "11 1723     -12       0         1808     -29       0         NA           \n",
              "12 1921     -10       0         2019     -16       0         NA           \n",
              "13 0556      -4       0         0646     -12       0         NA           \n",
              "14 1024      -5       0         1105     -23       0         NA           \n",
              "15 1720     -10       0         1812     -29       0         NA           \n",
              "16 1332     -16       0         1434     -11       0         NA           \n",
              "17 1726      -9       0         1819     -18       0         NA           \n",
              "18 1935       4       0         2026      -9       0         NA           \n",
              "19 0555      -5       0         0706       8       0         NA           \n",
              "20 1024      -5       0         1107     -21       0         NA           \n",
              "   WEATHER_DELAY NAS_DELAY SECURITY_DELAY LATE_AIRCRAFT_DELAY ...18\n",
              "1  NA            NA        NA             NA                  NA   \n",
              "2  NA            NA        NA             NA                  NA   \n",
              "3  NA            NA        NA             NA                  NA   \n",
              "4  NA            NA        NA             NA                  NA   \n",
              "5  NA            NA        NA             NA                  NA   \n",
              "6  NA            NA        NA             NA                  NA   \n",
              "7  NA            NA        NA             NA                  NA   \n",
              "8  NA            NA        NA             NA                  NA   \n",
              "9  NA            NA        NA             NA                  NA   \n",
              "10 NA            NA        NA             NA                  NA   \n",
              "11 NA            NA        NA             NA                  NA   \n",
              "12 NA            NA        NA             NA                  NA   \n",
              "13 NA            NA        NA             NA                  NA   \n",
              "14 NA            NA        NA             NA                  NA   \n",
              "15 NA            NA        NA             NA                  NA   \n",
              "16 NA            NA        NA             NA                  NA   \n",
              "17 NA            NA        NA             NA                  NA   \n",
              "18 NA            NA        NA             NA                  NA   \n",
              "19 NA            NA        NA             NA                  NA   \n",
              "20 NA            NA        NA             NA                  NA   "
            ],
            "text/latex": "A tibble: 20 × 18\n\\begin{tabular}{llllllllllllllllll}\n DAY\\_OF\\_MONTH & DAY\\_OF\\_WEEK & ORIGIN & ORIGIN\\_STATE\\_ABR & DEST & DEST\\_STATE\\_ABR & DEP\\_TIME & DEP\\_DELAY & DEP\\_DEL15 & ARR\\_TIME & ARR\\_DELAY & ARR\\_DEL15 & CARRIER\\_DELAY & WEATHER\\_DELAY & NAS\\_DELAY & SECURITY\\_DELAY & LATE\\_AIRCRAFT\\_DELAY & ...18\\\\\n <dbl> & <dbl> & <chr> & <chr> & <chr> & <chr> & <chr> & <dbl> & <dbl> & <chr> & <dbl> & <dbl> & <dbl> & <dbl> & <dbl> & <dbl> & <dbl> & <lgl>\\\\\n\\hline\n\t 1 & 1 & RST & MN & MSP & MN & 1725 & -10 & 0 & 1817 & -20 & 0 & NA & NA & NA & NA & NA & NA\\\\\n\t 1 & 1 & DLH & MN & MSP & MN & 1926 &  -5 & 0 & 2025 & -10 & 0 & NA & NA & NA & NA & NA & NA\\\\\n\t 1 & 1 & RST & MN & MSP & MN & 0555 &  -5 & 0 & 0649 &  -9 & 0 & NA & NA & NA & NA & NA & NA\\\\\n\t 1 & 1 & RST & MN & MSP & MN & 1024 &  -5 & 0 & 1115 & -13 & 0 & NA & NA & NA & NA & NA & NA\\\\\n\t 1 & 1 & DLH & MN & MSP & MN & 1720 & -10 & 0 & 1815 & -26 & 0 & NA & NA & NA & NA & NA & NA\\\\\n\t 1 & 1 & DLH & MN & MSP & MN & 1348 &   0 & 0 & 1449 &   4 & 0 & NA & NA & NA & NA & NA & NA\\\\\n\t 1 & 1 & DLH & MN & MSP & MN & 0600 &   0 & 0 & 0705 &   5 & 0 & NA & NA & NA & NA & NA & NA\\\\\n\t 1 & 1 & DLH & MN & MSP & MN & 0936 &   2 & 0 & 1026 & -13 & 0 & NA & NA & NA & NA & NA & NA\\\\\n\t 2 & 2 & DLH & MN & MSP & MN & 0929 &  -5 & 0 & 1026 & -13 & 0 & NA & NA & NA & NA & NA & NA\\\\\n\t 2 & 2 & DLH & MN & MSP & MN & 0559 &  -1 & 0 & 0653 &  -7 & 0 & NA & NA & NA & NA & NA & NA\\\\\n\t 2 & 2 & RST & MN & MSP & MN & 1723 & -12 & 0 & 1808 & -29 & 0 & NA & NA & NA & NA & NA & NA\\\\\n\t 2 & 2 & DLH & MN & MSP & MN & 1921 & -10 & 0 & 2019 & -16 & 0 & NA & NA & NA & NA & NA & NA\\\\\n\t 2 & 2 & RST & MN & MSP & MN & 0556 &  -4 & 0 & 0646 & -12 & 0 & NA & NA & NA & NA & NA & NA\\\\\n\t 2 & 2 & RST & MN & MSP & MN & 1024 &  -5 & 0 & 1105 & -23 & 0 & NA & NA & NA & NA & NA & NA\\\\\n\t 2 & 2 & DLH & MN & MSP & MN & 1720 & -10 & 0 & 1812 & -29 & 0 & NA & NA & NA & NA & NA & NA\\\\\n\t 2 & 2 & DLH & MN & MSP & MN & 1332 & -16 & 0 & 1434 & -11 & 0 & NA & NA & NA & NA & NA & NA\\\\\n\t 3 & 3 & RST & MN & MSP & MN & 1726 &  -9 & 0 & 1819 & -18 & 0 & NA & NA & NA & NA & NA & NA\\\\\n\t 3 & 3 & DLH & MN & MSP & MN & 1935 &   4 & 0 & 2026 &  -9 & 0 & NA & NA & NA & NA & NA & NA\\\\\n\t 3 & 3 & RST & MN & MSP & MN & 0555 &  -5 & 0 & 0706 &   8 & 0 & NA & NA & NA & NA & NA & NA\\\\\n\t 3 & 3 & RST & MN & MSP & MN & 1024 &  -5 & 0 & 1107 & -21 & 0 & NA & NA & NA & NA & NA & NA\\\\\n\\end{tabular}\n",
            "text/markdown": "\nA tibble: 20 × 18\n\n| DAY_OF_MONTH &lt;dbl&gt; | DAY_OF_WEEK &lt;dbl&gt; | ORIGIN &lt;chr&gt; | ORIGIN_STATE_ABR &lt;chr&gt; | DEST &lt;chr&gt; | DEST_STATE_ABR &lt;chr&gt; | DEP_TIME &lt;chr&gt; | DEP_DELAY &lt;dbl&gt; | DEP_DEL15 &lt;dbl&gt; | ARR_TIME &lt;chr&gt; | ARR_DELAY &lt;dbl&gt; | ARR_DEL15 &lt;dbl&gt; | CARRIER_DELAY &lt;dbl&gt; | WEATHER_DELAY &lt;dbl&gt; | NAS_DELAY &lt;dbl&gt; | SECURITY_DELAY &lt;dbl&gt; | LATE_AIRCRAFT_DELAY &lt;dbl&gt; | ...18 &lt;lgl&gt; |\n|---|---|---|---|---|---|---|---|---|---|---|---|---|---|---|---|---|---|\n| 1 | 1 | RST | MN | MSP | MN | 1725 | -10 | 0 | 1817 | -20 | 0 | NA | NA | NA | NA | NA | NA |\n| 1 | 1 | DLH | MN | MSP | MN | 1926 |  -5 | 0 | 2025 | -10 | 0 | NA | NA | NA | NA | NA | NA |\n| 1 | 1 | RST | MN | MSP | MN | 0555 |  -5 | 0 | 0649 |  -9 | 0 | NA | NA | NA | NA | NA | NA |\n| 1 | 1 | RST | MN | MSP | MN | 1024 |  -5 | 0 | 1115 | -13 | 0 | NA | NA | NA | NA | NA | NA |\n| 1 | 1 | DLH | MN | MSP | MN | 1720 | -10 | 0 | 1815 | -26 | 0 | NA | NA | NA | NA | NA | NA |\n| 1 | 1 | DLH | MN | MSP | MN | 1348 |   0 | 0 | 1449 |   4 | 0 | NA | NA | NA | NA | NA | NA |\n| 1 | 1 | DLH | MN | MSP | MN | 0600 |   0 | 0 | 0705 |   5 | 0 | NA | NA | NA | NA | NA | NA |\n| 1 | 1 | DLH | MN | MSP | MN | 0936 |   2 | 0 | 1026 | -13 | 0 | NA | NA | NA | NA | NA | NA |\n| 2 | 2 | DLH | MN | MSP | MN | 0929 |  -5 | 0 | 1026 | -13 | 0 | NA | NA | NA | NA | NA | NA |\n| 2 | 2 | DLH | MN | MSP | MN | 0559 |  -1 | 0 | 0653 |  -7 | 0 | NA | NA | NA | NA | NA | NA |\n| 2 | 2 | RST | MN | MSP | MN | 1723 | -12 | 0 | 1808 | -29 | 0 | NA | NA | NA | NA | NA | NA |\n| 2 | 2 | DLH | MN | MSP | MN | 1921 | -10 | 0 | 2019 | -16 | 0 | NA | NA | NA | NA | NA | NA |\n| 2 | 2 | RST | MN | MSP | MN | 0556 |  -4 | 0 | 0646 | -12 | 0 | NA | NA | NA | NA | NA | NA |\n| 2 | 2 | RST | MN | MSP | MN | 1024 |  -5 | 0 | 1105 | -23 | 0 | NA | NA | NA | NA | NA | NA |\n| 2 | 2 | DLH | MN | MSP | MN | 1720 | -10 | 0 | 1812 | -29 | 0 | NA | NA | NA | NA | NA | NA |\n| 2 | 2 | DLH | MN | MSP | MN | 1332 | -16 | 0 | 1434 | -11 | 0 | NA | NA | NA | NA | NA | NA |\n| 3 | 3 | RST | MN | MSP | MN | 1726 |  -9 | 0 | 1819 | -18 | 0 | NA | NA | NA | NA | NA | NA |\n| 3 | 3 | DLH | MN | MSP | MN | 1935 |   4 | 0 | 2026 |  -9 | 0 | NA | NA | NA | NA | NA | NA |\n| 3 | 3 | RST | MN | MSP | MN | 0555 |  -5 | 0 | 0706 |   8 | 0 | NA | NA | NA | NA | NA | NA |\n| 3 | 3 | RST | MN | MSP | MN | 1024 |  -5 | 0 | 1107 | -21 | 0 | NA | NA | NA | NA | NA | NA |\n\n",
            "text/html": [
              "<table class=\"dataframe\">\n",
              "<caption>A tibble: 20 × 18</caption>\n",
              "<thead>\n",
              "\t<tr><th scope=col>DAY_OF_MONTH</th><th scope=col>DAY_OF_WEEK</th><th scope=col>ORIGIN</th><th scope=col>ORIGIN_STATE_ABR</th><th scope=col>DEST</th><th scope=col>DEST_STATE_ABR</th><th scope=col>DEP_TIME</th><th scope=col>DEP_DELAY</th><th scope=col>DEP_DEL15</th><th scope=col>ARR_TIME</th><th scope=col>ARR_DELAY</th><th scope=col>ARR_DEL15</th><th scope=col>CARRIER_DELAY</th><th scope=col>WEATHER_DELAY</th><th scope=col>NAS_DELAY</th><th scope=col>SECURITY_DELAY</th><th scope=col>LATE_AIRCRAFT_DELAY</th><th scope=col>...18</th></tr>\n",
              "\t<tr><th scope=col>&lt;dbl&gt;</th><th scope=col>&lt;dbl&gt;</th><th scope=col>&lt;chr&gt;</th><th scope=col>&lt;chr&gt;</th><th scope=col>&lt;chr&gt;</th><th scope=col>&lt;chr&gt;</th><th scope=col>&lt;chr&gt;</th><th scope=col>&lt;dbl&gt;</th><th scope=col>&lt;dbl&gt;</th><th scope=col>&lt;chr&gt;</th><th scope=col>&lt;dbl&gt;</th><th scope=col>&lt;dbl&gt;</th><th scope=col>&lt;dbl&gt;</th><th scope=col>&lt;dbl&gt;</th><th scope=col>&lt;dbl&gt;</th><th scope=col>&lt;dbl&gt;</th><th scope=col>&lt;dbl&gt;</th><th scope=col>&lt;lgl&gt;</th></tr>\n",
              "</thead>\n",
              "<tbody>\n",
              "\t<tr><td>1</td><td>1</td><td>RST</td><td>MN</td><td>MSP</td><td>MN</td><td>1725</td><td>-10</td><td>0</td><td>1817</td><td>-20</td><td>0</td><td>NA</td><td>NA</td><td>NA</td><td>NA</td><td>NA</td><td>NA</td></tr>\n",
              "\t<tr><td>1</td><td>1</td><td>DLH</td><td>MN</td><td>MSP</td><td>MN</td><td>1926</td><td> -5</td><td>0</td><td>2025</td><td>-10</td><td>0</td><td>NA</td><td>NA</td><td>NA</td><td>NA</td><td>NA</td><td>NA</td></tr>\n",
              "\t<tr><td>1</td><td>1</td><td>RST</td><td>MN</td><td>MSP</td><td>MN</td><td>0555</td><td> -5</td><td>0</td><td>0649</td><td> -9</td><td>0</td><td>NA</td><td>NA</td><td>NA</td><td>NA</td><td>NA</td><td>NA</td></tr>\n",
              "\t<tr><td>1</td><td>1</td><td>RST</td><td>MN</td><td>MSP</td><td>MN</td><td>1024</td><td> -5</td><td>0</td><td>1115</td><td>-13</td><td>0</td><td>NA</td><td>NA</td><td>NA</td><td>NA</td><td>NA</td><td>NA</td></tr>\n",
              "\t<tr><td>1</td><td>1</td><td>DLH</td><td>MN</td><td>MSP</td><td>MN</td><td>1720</td><td>-10</td><td>0</td><td>1815</td><td>-26</td><td>0</td><td>NA</td><td>NA</td><td>NA</td><td>NA</td><td>NA</td><td>NA</td></tr>\n",
              "\t<tr><td>1</td><td>1</td><td>DLH</td><td>MN</td><td>MSP</td><td>MN</td><td>1348</td><td>  0</td><td>0</td><td>1449</td><td>  4</td><td>0</td><td>NA</td><td>NA</td><td>NA</td><td>NA</td><td>NA</td><td>NA</td></tr>\n",
              "\t<tr><td>1</td><td>1</td><td>DLH</td><td>MN</td><td>MSP</td><td>MN</td><td>0600</td><td>  0</td><td>0</td><td>0705</td><td>  5</td><td>0</td><td>NA</td><td>NA</td><td>NA</td><td>NA</td><td>NA</td><td>NA</td></tr>\n",
              "\t<tr><td>1</td><td>1</td><td>DLH</td><td>MN</td><td>MSP</td><td>MN</td><td>0936</td><td>  2</td><td>0</td><td>1026</td><td>-13</td><td>0</td><td>NA</td><td>NA</td><td>NA</td><td>NA</td><td>NA</td><td>NA</td></tr>\n",
              "\t<tr><td>2</td><td>2</td><td>DLH</td><td>MN</td><td>MSP</td><td>MN</td><td>0929</td><td> -5</td><td>0</td><td>1026</td><td>-13</td><td>0</td><td>NA</td><td>NA</td><td>NA</td><td>NA</td><td>NA</td><td>NA</td></tr>\n",
              "\t<tr><td>2</td><td>2</td><td>DLH</td><td>MN</td><td>MSP</td><td>MN</td><td>0559</td><td> -1</td><td>0</td><td>0653</td><td> -7</td><td>0</td><td>NA</td><td>NA</td><td>NA</td><td>NA</td><td>NA</td><td>NA</td></tr>\n",
              "\t<tr><td>2</td><td>2</td><td>RST</td><td>MN</td><td>MSP</td><td>MN</td><td>1723</td><td>-12</td><td>0</td><td>1808</td><td>-29</td><td>0</td><td>NA</td><td>NA</td><td>NA</td><td>NA</td><td>NA</td><td>NA</td></tr>\n",
              "\t<tr><td>2</td><td>2</td><td>DLH</td><td>MN</td><td>MSP</td><td>MN</td><td>1921</td><td>-10</td><td>0</td><td>2019</td><td>-16</td><td>0</td><td>NA</td><td>NA</td><td>NA</td><td>NA</td><td>NA</td><td>NA</td></tr>\n",
              "\t<tr><td>2</td><td>2</td><td>RST</td><td>MN</td><td>MSP</td><td>MN</td><td>0556</td><td> -4</td><td>0</td><td>0646</td><td>-12</td><td>0</td><td>NA</td><td>NA</td><td>NA</td><td>NA</td><td>NA</td><td>NA</td></tr>\n",
              "\t<tr><td>2</td><td>2</td><td>RST</td><td>MN</td><td>MSP</td><td>MN</td><td>1024</td><td> -5</td><td>0</td><td>1105</td><td>-23</td><td>0</td><td>NA</td><td>NA</td><td>NA</td><td>NA</td><td>NA</td><td>NA</td></tr>\n",
              "\t<tr><td>2</td><td>2</td><td>DLH</td><td>MN</td><td>MSP</td><td>MN</td><td>1720</td><td>-10</td><td>0</td><td>1812</td><td>-29</td><td>0</td><td>NA</td><td>NA</td><td>NA</td><td>NA</td><td>NA</td><td>NA</td></tr>\n",
              "\t<tr><td>2</td><td>2</td><td>DLH</td><td>MN</td><td>MSP</td><td>MN</td><td>1332</td><td>-16</td><td>0</td><td>1434</td><td>-11</td><td>0</td><td>NA</td><td>NA</td><td>NA</td><td>NA</td><td>NA</td><td>NA</td></tr>\n",
              "\t<tr><td>3</td><td>3</td><td>RST</td><td>MN</td><td>MSP</td><td>MN</td><td>1726</td><td> -9</td><td>0</td><td>1819</td><td>-18</td><td>0</td><td>NA</td><td>NA</td><td>NA</td><td>NA</td><td>NA</td><td>NA</td></tr>\n",
              "\t<tr><td>3</td><td>3</td><td>DLH</td><td>MN</td><td>MSP</td><td>MN</td><td>1935</td><td>  4</td><td>0</td><td>2026</td><td> -9</td><td>0</td><td>NA</td><td>NA</td><td>NA</td><td>NA</td><td>NA</td><td>NA</td></tr>\n",
              "\t<tr><td>3</td><td>3</td><td>RST</td><td>MN</td><td>MSP</td><td>MN</td><td>0555</td><td> -5</td><td>0</td><td>0706</td><td>  8</td><td>0</td><td>NA</td><td>NA</td><td>NA</td><td>NA</td><td>NA</td><td>NA</td></tr>\n",
              "\t<tr><td>3</td><td>3</td><td>RST</td><td>MN</td><td>MSP</td><td>MN</td><td>1024</td><td> -5</td><td>0</td><td>1107</td><td>-21</td><td>0</td><td>NA</td><td>NA</td><td>NA</td><td>NA</td><td>NA</td><td>NA</td></tr>\n",
              "</tbody>\n",
              "</table>\n"
            ]
          },
          "metadata": {}
        }
      ]
    },
    {
      "cell_type": "markdown",
      "metadata": {
        "id": "Tr-ZHTz4WcwS"
      },
      "source": [
        "Next, let us collect the rows where the ORIGIN airport is anywhere in MN and destination is MSP.\n",
        "\n"
      ]
    },
    {
      "cell_type": "code",
      "metadata": {
        "colab": {
          "base_uri": "https://localhost:8080/",
          "height": 815
        },
        "id": "-deAfezEWc5Q",
        "outputId": "4a0c8fe4-42c3-47ee-f2eb-01d8048f92f5"
      },
      "source": [
        "#Getting desired rows\n",
        "(\n",
        "  Ontime\n",
        "  %>% filter(ORIGIN_STATE_ABR == \"MN\")\n",
        "  %>% filter(DEST == \"MSP\")\n",
        ") -> MN_to_MSP\n",
        "\n",
        "cat(\"The dimension of the MN_to_MSP dataframe is: \\n\")\n",
        "   dim(MN_to_MSP)\n",
        "cat(\"\\n\")\n",
        "cat(\"A printout of the MN_to_MSP dataframe:\\n\")\n",
        "   head(MN_to_MSP,20)"
      ],
      "execution_count": 19,
      "outputs": [
        {
          "output_type": "stream",
          "name": "stdout",
          "text": [
            "The dimension of the MN_to_MSP dataframe is: \n"
          ]
        },
        {
          "output_type": "display_data",
          "data": {
            "text/plain": [
              "[1] 441  18"
            ],
            "text/latex": "\\begin{enumerate*}\n\\item 441\n\\item 18\n\\end{enumerate*}\n",
            "text/markdown": "1. 441\n2. 18\n\n\n",
            "text/html": [
              "<style>\n",
              ".list-inline {list-style: none; margin:0; padding: 0}\n",
              ".list-inline>li {display: inline-block}\n",
              ".list-inline>li:not(:last-child)::after {content: \"\\00b7\"; padding: 0 .5ex}\n",
              "</style>\n",
              "<ol class=list-inline><li>441</li><li>18</li></ol>\n"
            ]
          },
          "metadata": {}
        },
        {
          "output_type": "stream",
          "name": "stdout",
          "text": [
            "\n",
            "A printout of the MN_to_MSP dataframe:\n"
          ]
        },
        {
          "output_type": "display_data",
          "data": {
            "text/plain": [
              "   DAY_OF_MONTH DAY_OF_WEEK ORIGIN ORIGIN_STATE_ABR DEST DEST_STATE_ABR\n",
              "1  1            1           RST    MN               MSP  MN            \n",
              "2  1            1           DLH    MN               MSP  MN            \n",
              "3  1            1           RST    MN               MSP  MN            \n",
              "4  1            1           RST    MN               MSP  MN            \n",
              "5  1            1           DLH    MN               MSP  MN            \n",
              "6  1            1           DLH    MN               MSP  MN            \n",
              "7  1            1           DLH    MN               MSP  MN            \n",
              "8  1            1           INL    MN               MSP  MN            \n",
              "9  1            1           BRD    MN               MSP  MN            \n",
              "10 1            1           HIB    MN               MSP  MN            \n",
              "11 1            1           BJI    MN               MSP  MN            \n",
              "12 1            1           BJI    MN               MSP  MN            \n",
              "13 1            1           INL    MN               MSP  MN            \n",
              "14 1            1           BRD    MN               MSP  MN            \n",
              "15 1            1           HIB    MN               MSP  MN            \n",
              "16 1            1           DLH    MN               MSP  MN            \n",
              "17 2            2           DLH    MN               MSP  MN            \n",
              "18 2            2           DLH    MN               MSP  MN            \n",
              "19 2            2           HIB    MN               MSP  MN            \n",
              "20 2            2           BJI    MN               MSP  MN            \n",
              "   DEP_TIME DEP_DELAY DEP_DEL15 ARR_TIME ARR_DELAY ARR_DEL15 CARRIER_DELAY\n",
              "1  1725     -10       0         1817     -20       0         NA           \n",
              "2  1926      -5       0         2025     -10       0         NA           \n",
              "3  0555      -5       0         0649      -9       0         NA           \n",
              "4  1024      -5       0         1115     -13       0         NA           \n",
              "5  1720     -10       0         1815     -26       0         NA           \n",
              "6  1348       0       0         1449       4       0         NA           \n",
              "7  0600       0       0         0705       5       0         NA           \n",
              "8  1221      90       1         1325      84       1         84           \n",
              "9  1345     -12       0         1443      -7       0         NA           \n",
              "10 0653      -7       0         0741     -24       0         NA           \n",
              "11 0812      -3       0         0908     -10       0         NA           \n",
              "12 1442      -8       0         1548      -4       0         NA           \n",
              "13 1726       2       0         1848      10       0         NA           \n",
              "14 0600       0       0         0644     -13       0         NA           \n",
              "15 1030      -4       0         1117     -18       0         NA           \n",
              "16 0936       2       0         1026     -13       0         NA           \n",
              "17 0929      -5       0         1026     -13       0         NA           \n",
              "18 0559      -1       0         0653      -7       0         NA           \n",
              "19 0659      -1       0         0745     -20       0         NA           \n",
              "20 0809      -6       0         0912      -6       0         NA           \n",
              "   WEATHER_DELAY NAS_DELAY SECURITY_DELAY LATE_AIRCRAFT_DELAY ...18\n",
              "1  NA            NA        NA             NA                  NA   \n",
              "2  NA            NA        NA             NA                  NA   \n",
              "3  NA            NA        NA             NA                  NA   \n",
              "4  NA            NA        NA             NA                  NA   \n",
              "5  NA            NA        NA             NA                  NA   \n",
              "6  NA            NA        NA             NA                  NA   \n",
              "7  NA            NA        NA             NA                  NA   \n",
              "8   0             0         0              0                  NA   \n",
              "9  NA            NA        NA             NA                  NA   \n",
              "10 NA            NA        NA             NA                  NA   \n",
              "11 NA            NA        NA             NA                  NA   \n",
              "12 NA            NA        NA             NA                  NA   \n",
              "13 NA            NA        NA             NA                  NA   \n",
              "14 NA            NA        NA             NA                  NA   \n",
              "15 NA            NA        NA             NA                  NA   \n",
              "16 NA            NA        NA             NA                  NA   \n",
              "17 NA            NA        NA             NA                  NA   \n",
              "18 NA            NA        NA             NA                  NA   \n",
              "19 NA            NA        NA             NA                  NA   \n",
              "20 NA            NA        NA             NA                  NA   "
            ],
            "text/latex": "A tibble: 20 × 18\n\\begin{tabular}{llllllllllllllllll}\n DAY\\_OF\\_MONTH & DAY\\_OF\\_WEEK & ORIGIN & ORIGIN\\_STATE\\_ABR & DEST & DEST\\_STATE\\_ABR & DEP\\_TIME & DEP\\_DELAY & DEP\\_DEL15 & ARR\\_TIME & ARR\\_DELAY & ARR\\_DEL15 & CARRIER\\_DELAY & WEATHER\\_DELAY & NAS\\_DELAY & SECURITY\\_DELAY & LATE\\_AIRCRAFT\\_DELAY & ...18\\\\\n <dbl> & <dbl> & <chr> & <chr> & <chr> & <chr> & <chr> & <dbl> & <dbl> & <chr> & <dbl> & <dbl> & <dbl> & <dbl> & <dbl> & <dbl> & <dbl> & <lgl>\\\\\n\\hline\n\t 1 & 1 & RST & MN & MSP & MN & 1725 & -10 & 0 & 1817 & -20 & 0 & NA & NA & NA & NA & NA & NA\\\\\n\t 1 & 1 & DLH & MN & MSP & MN & 1926 &  -5 & 0 & 2025 & -10 & 0 & NA & NA & NA & NA & NA & NA\\\\\n\t 1 & 1 & RST & MN & MSP & MN & 0555 &  -5 & 0 & 0649 &  -9 & 0 & NA & NA & NA & NA & NA & NA\\\\\n\t 1 & 1 & RST & MN & MSP & MN & 1024 &  -5 & 0 & 1115 & -13 & 0 & NA & NA & NA & NA & NA & NA\\\\\n\t 1 & 1 & DLH & MN & MSP & MN & 1720 & -10 & 0 & 1815 & -26 & 0 & NA & NA & NA & NA & NA & NA\\\\\n\t 1 & 1 & DLH & MN & MSP & MN & 1348 &   0 & 0 & 1449 &   4 & 0 & NA & NA & NA & NA & NA & NA\\\\\n\t 1 & 1 & DLH & MN & MSP & MN & 0600 &   0 & 0 & 0705 &   5 & 0 & NA & NA & NA & NA & NA & NA\\\\\n\t 1 & 1 & INL & MN & MSP & MN & 1221 &  90 & 1 & 1325 &  84 & 1 & 84 &  0 &  0 &  0 &  0 & NA\\\\\n\t 1 & 1 & BRD & MN & MSP & MN & 1345 & -12 & 0 & 1443 &  -7 & 0 & NA & NA & NA & NA & NA & NA\\\\\n\t 1 & 1 & HIB & MN & MSP & MN & 0653 &  -7 & 0 & 0741 & -24 & 0 & NA & NA & NA & NA & NA & NA\\\\\n\t 1 & 1 & BJI & MN & MSP & MN & 0812 &  -3 & 0 & 0908 & -10 & 0 & NA & NA & NA & NA & NA & NA\\\\\n\t 1 & 1 & BJI & MN & MSP & MN & 1442 &  -8 & 0 & 1548 &  -4 & 0 & NA & NA & NA & NA & NA & NA\\\\\n\t 1 & 1 & INL & MN & MSP & MN & 1726 &   2 & 0 & 1848 &  10 & 0 & NA & NA & NA & NA & NA & NA\\\\\n\t 1 & 1 & BRD & MN & MSP & MN & 0600 &   0 & 0 & 0644 & -13 & 0 & NA & NA & NA & NA & NA & NA\\\\\n\t 1 & 1 & HIB & MN & MSP & MN & 1030 &  -4 & 0 & 1117 & -18 & 0 & NA & NA & NA & NA & NA & NA\\\\\n\t 1 & 1 & DLH & MN & MSP & MN & 0936 &   2 & 0 & 1026 & -13 & 0 & NA & NA & NA & NA & NA & NA\\\\\n\t 2 & 2 & DLH & MN & MSP & MN & 0929 &  -5 & 0 & 1026 & -13 & 0 & NA & NA & NA & NA & NA & NA\\\\\n\t 2 & 2 & DLH & MN & MSP & MN & 0559 &  -1 & 0 & 0653 &  -7 & 0 & NA & NA & NA & NA & NA & NA\\\\\n\t 2 & 2 & HIB & MN & MSP & MN & 0659 &  -1 & 0 & 0745 & -20 & 0 & NA & NA & NA & NA & NA & NA\\\\\n\t 2 & 2 & BJI & MN & MSP & MN & 0809 &  -6 & 0 & 0912 &  -6 & 0 & NA & NA & NA & NA & NA & NA\\\\\n\\end{tabular}\n",
            "text/markdown": "\nA tibble: 20 × 18\n\n| DAY_OF_MONTH &lt;dbl&gt; | DAY_OF_WEEK &lt;dbl&gt; | ORIGIN &lt;chr&gt; | ORIGIN_STATE_ABR &lt;chr&gt; | DEST &lt;chr&gt; | DEST_STATE_ABR &lt;chr&gt; | DEP_TIME &lt;chr&gt; | DEP_DELAY &lt;dbl&gt; | DEP_DEL15 &lt;dbl&gt; | ARR_TIME &lt;chr&gt; | ARR_DELAY &lt;dbl&gt; | ARR_DEL15 &lt;dbl&gt; | CARRIER_DELAY &lt;dbl&gt; | WEATHER_DELAY &lt;dbl&gt; | NAS_DELAY &lt;dbl&gt; | SECURITY_DELAY &lt;dbl&gt; | LATE_AIRCRAFT_DELAY &lt;dbl&gt; | ...18 &lt;lgl&gt; |\n|---|---|---|---|---|---|---|---|---|---|---|---|---|---|---|---|---|---|\n| 1 | 1 | RST | MN | MSP | MN | 1725 | -10 | 0 | 1817 | -20 | 0 | NA | NA | NA | NA | NA | NA |\n| 1 | 1 | DLH | MN | MSP | MN | 1926 |  -5 | 0 | 2025 | -10 | 0 | NA | NA | NA | NA | NA | NA |\n| 1 | 1 | RST | MN | MSP | MN | 0555 |  -5 | 0 | 0649 |  -9 | 0 | NA | NA | NA | NA | NA | NA |\n| 1 | 1 | RST | MN | MSP | MN | 1024 |  -5 | 0 | 1115 | -13 | 0 | NA | NA | NA | NA | NA | NA |\n| 1 | 1 | DLH | MN | MSP | MN | 1720 | -10 | 0 | 1815 | -26 | 0 | NA | NA | NA | NA | NA | NA |\n| 1 | 1 | DLH | MN | MSP | MN | 1348 |   0 | 0 | 1449 |   4 | 0 | NA | NA | NA | NA | NA | NA |\n| 1 | 1 | DLH | MN | MSP | MN | 0600 |   0 | 0 | 0705 |   5 | 0 | NA | NA | NA | NA | NA | NA |\n| 1 | 1 | INL | MN | MSP | MN | 1221 |  90 | 1 | 1325 |  84 | 1 | 84 |  0 |  0 |  0 |  0 | NA |\n| 1 | 1 | BRD | MN | MSP | MN | 1345 | -12 | 0 | 1443 |  -7 | 0 | NA | NA | NA | NA | NA | NA |\n| 1 | 1 | HIB | MN | MSP | MN | 0653 |  -7 | 0 | 0741 | -24 | 0 | NA | NA | NA | NA | NA | NA |\n| 1 | 1 | BJI | MN | MSP | MN | 0812 |  -3 | 0 | 0908 | -10 | 0 | NA | NA | NA | NA | NA | NA |\n| 1 | 1 | BJI | MN | MSP | MN | 1442 |  -8 | 0 | 1548 |  -4 | 0 | NA | NA | NA | NA | NA | NA |\n| 1 | 1 | INL | MN | MSP | MN | 1726 |   2 | 0 | 1848 |  10 | 0 | NA | NA | NA | NA | NA | NA |\n| 1 | 1 | BRD | MN | MSP | MN | 0600 |   0 | 0 | 0644 | -13 | 0 | NA | NA | NA | NA | NA | NA |\n| 1 | 1 | HIB | MN | MSP | MN | 1030 |  -4 | 0 | 1117 | -18 | 0 | NA | NA | NA | NA | NA | NA |\n| 1 | 1 | DLH | MN | MSP | MN | 0936 |   2 | 0 | 1026 | -13 | 0 | NA | NA | NA | NA | NA | NA |\n| 2 | 2 | DLH | MN | MSP | MN | 0929 |  -5 | 0 | 1026 | -13 | 0 | NA | NA | NA | NA | NA | NA |\n| 2 | 2 | DLH | MN | MSP | MN | 0559 |  -1 | 0 | 0653 |  -7 | 0 | NA | NA | NA | NA | NA | NA |\n| 2 | 2 | HIB | MN | MSP | MN | 0659 |  -1 | 0 | 0745 | -20 | 0 | NA | NA | NA | NA | NA | NA |\n| 2 | 2 | BJI | MN | MSP | MN | 0809 |  -6 | 0 | 0912 |  -6 | 0 | NA | NA | NA | NA | NA | NA |\n\n",
            "text/html": [
              "<table class=\"dataframe\">\n",
              "<caption>A tibble: 20 × 18</caption>\n",
              "<thead>\n",
              "\t<tr><th scope=col>DAY_OF_MONTH</th><th scope=col>DAY_OF_WEEK</th><th scope=col>ORIGIN</th><th scope=col>ORIGIN_STATE_ABR</th><th scope=col>DEST</th><th scope=col>DEST_STATE_ABR</th><th scope=col>DEP_TIME</th><th scope=col>DEP_DELAY</th><th scope=col>DEP_DEL15</th><th scope=col>ARR_TIME</th><th scope=col>ARR_DELAY</th><th scope=col>ARR_DEL15</th><th scope=col>CARRIER_DELAY</th><th scope=col>WEATHER_DELAY</th><th scope=col>NAS_DELAY</th><th scope=col>SECURITY_DELAY</th><th scope=col>LATE_AIRCRAFT_DELAY</th><th scope=col>...18</th></tr>\n",
              "\t<tr><th scope=col>&lt;dbl&gt;</th><th scope=col>&lt;dbl&gt;</th><th scope=col>&lt;chr&gt;</th><th scope=col>&lt;chr&gt;</th><th scope=col>&lt;chr&gt;</th><th scope=col>&lt;chr&gt;</th><th scope=col>&lt;chr&gt;</th><th scope=col>&lt;dbl&gt;</th><th scope=col>&lt;dbl&gt;</th><th scope=col>&lt;chr&gt;</th><th scope=col>&lt;dbl&gt;</th><th scope=col>&lt;dbl&gt;</th><th scope=col>&lt;dbl&gt;</th><th scope=col>&lt;dbl&gt;</th><th scope=col>&lt;dbl&gt;</th><th scope=col>&lt;dbl&gt;</th><th scope=col>&lt;dbl&gt;</th><th scope=col>&lt;lgl&gt;</th></tr>\n",
              "</thead>\n",
              "<tbody>\n",
              "\t<tr><td>1</td><td>1</td><td>RST</td><td>MN</td><td>MSP</td><td>MN</td><td>1725</td><td>-10</td><td>0</td><td>1817</td><td>-20</td><td>0</td><td>NA</td><td>NA</td><td>NA</td><td>NA</td><td>NA</td><td>NA</td></tr>\n",
              "\t<tr><td>1</td><td>1</td><td>DLH</td><td>MN</td><td>MSP</td><td>MN</td><td>1926</td><td> -5</td><td>0</td><td>2025</td><td>-10</td><td>0</td><td>NA</td><td>NA</td><td>NA</td><td>NA</td><td>NA</td><td>NA</td></tr>\n",
              "\t<tr><td>1</td><td>1</td><td>RST</td><td>MN</td><td>MSP</td><td>MN</td><td>0555</td><td> -5</td><td>0</td><td>0649</td><td> -9</td><td>0</td><td>NA</td><td>NA</td><td>NA</td><td>NA</td><td>NA</td><td>NA</td></tr>\n",
              "\t<tr><td>1</td><td>1</td><td>RST</td><td>MN</td><td>MSP</td><td>MN</td><td>1024</td><td> -5</td><td>0</td><td>1115</td><td>-13</td><td>0</td><td>NA</td><td>NA</td><td>NA</td><td>NA</td><td>NA</td><td>NA</td></tr>\n",
              "\t<tr><td>1</td><td>1</td><td>DLH</td><td>MN</td><td>MSP</td><td>MN</td><td>1720</td><td>-10</td><td>0</td><td>1815</td><td>-26</td><td>0</td><td>NA</td><td>NA</td><td>NA</td><td>NA</td><td>NA</td><td>NA</td></tr>\n",
              "\t<tr><td>1</td><td>1</td><td>DLH</td><td>MN</td><td>MSP</td><td>MN</td><td>1348</td><td>  0</td><td>0</td><td>1449</td><td>  4</td><td>0</td><td>NA</td><td>NA</td><td>NA</td><td>NA</td><td>NA</td><td>NA</td></tr>\n",
              "\t<tr><td>1</td><td>1</td><td>DLH</td><td>MN</td><td>MSP</td><td>MN</td><td>0600</td><td>  0</td><td>0</td><td>0705</td><td>  5</td><td>0</td><td>NA</td><td>NA</td><td>NA</td><td>NA</td><td>NA</td><td>NA</td></tr>\n",
              "\t<tr><td>1</td><td>1</td><td>INL</td><td>MN</td><td>MSP</td><td>MN</td><td>1221</td><td> 90</td><td>1</td><td>1325</td><td> 84</td><td>1</td><td>84</td><td> 0</td><td> 0</td><td> 0</td><td> 0</td><td>NA</td></tr>\n",
              "\t<tr><td>1</td><td>1</td><td>BRD</td><td>MN</td><td>MSP</td><td>MN</td><td>1345</td><td>-12</td><td>0</td><td>1443</td><td> -7</td><td>0</td><td>NA</td><td>NA</td><td>NA</td><td>NA</td><td>NA</td><td>NA</td></tr>\n",
              "\t<tr><td>1</td><td>1</td><td>HIB</td><td>MN</td><td>MSP</td><td>MN</td><td>0653</td><td> -7</td><td>0</td><td>0741</td><td>-24</td><td>0</td><td>NA</td><td>NA</td><td>NA</td><td>NA</td><td>NA</td><td>NA</td></tr>\n",
              "\t<tr><td>1</td><td>1</td><td>BJI</td><td>MN</td><td>MSP</td><td>MN</td><td>0812</td><td> -3</td><td>0</td><td>0908</td><td>-10</td><td>0</td><td>NA</td><td>NA</td><td>NA</td><td>NA</td><td>NA</td><td>NA</td></tr>\n",
              "\t<tr><td>1</td><td>1</td><td>BJI</td><td>MN</td><td>MSP</td><td>MN</td><td>1442</td><td> -8</td><td>0</td><td>1548</td><td> -4</td><td>0</td><td>NA</td><td>NA</td><td>NA</td><td>NA</td><td>NA</td><td>NA</td></tr>\n",
              "\t<tr><td>1</td><td>1</td><td>INL</td><td>MN</td><td>MSP</td><td>MN</td><td>1726</td><td>  2</td><td>0</td><td>1848</td><td> 10</td><td>0</td><td>NA</td><td>NA</td><td>NA</td><td>NA</td><td>NA</td><td>NA</td></tr>\n",
              "\t<tr><td>1</td><td>1</td><td>BRD</td><td>MN</td><td>MSP</td><td>MN</td><td>0600</td><td>  0</td><td>0</td><td>0644</td><td>-13</td><td>0</td><td>NA</td><td>NA</td><td>NA</td><td>NA</td><td>NA</td><td>NA</td></tr>\n",
              "\t<tr><td>1</td><td>1</td><td>HIB</td><td>MN</td><td>MSP</td><td>MN</td><td>1030</td><td> -4</td><td>0</td><td>1117</td><td>-18</td><td>0</td><td>NA</td><td>NA</td><td>NA</td><td>NA</td><td>NA</td><td>NA</td></tr>\n",
              "\t<tr><td>1</td><td>1</td><td>DLH</td><td>MN</td><td>MSP</td><td>MN</td><td>0936</td><td>  2</td><td>0</td><td>1026</td><td>-13</td><td>0</td><td>NA</td><td>NA</td><td>NA</td><td>NA</td><td>NA</td><td>NA</td></tr>\n",
              "\t<tr><td>2</td><td>2</td><td>DLH</td><td>MN</td><td>MSP</td><td>MN</td><td>0929</td><td> -5</td><td>0</td><td>1026</td><td>-13</td><td>0</td><td>NA</td><td>NA</td><td>NA</td><td>NA</td><td>NA</td><td>NA</td></tr>\n",
              "\t<tr><td>2</td><td>2</td><td>DLH</td><td>MN</td><td>MSP</td><td>MN</td><td>0559</td><td> -1</td><td>0</td><td>0653</td><td> -7</td><td>0</td><td>NA</td><td>NA</td><td>NA</td><td>NA</td><td>NA</td><td>NA</td></tr>\n",
              "\t<tr><td>2</td><td>2</td><td>HIB</td><td>MN</td><td>MSP</td><td>MN</td><td>0659</td><td> -1</td><td>0</td><td>0745</td><td>-20</td><td>0</td><td>NA</td><td>NA</td><td>NA</td><td>NA</td><td>NA</td><td>NA</td></tr>\n",
              "\t<tr><td>2</td><td>2</td><td>BJI</td><td>MN</td><td>MSP</td><td>MN</td><td>0809</td><td> -6</td><td>0</td><td>0912</td><td> -6</td><td>0</td><td>NA</td><td>NA</td><td>NA</td><td>NA</td><td>NA</td><td>NA</td></tr>\n",
              "</tbody>\n",
              "</table>\n"
            ]
          },
          "metadata": {}
        }
      ]
    },
    {
      "cell_type": "markdown",
      "metadata": {
        "id": "PjJKlYq2XM2S"
      },
      "source": [
        "Question:  What happens to departures from MSP and arrivals to MSP?"
      ]
    },
    {
      "cell_type": "code",
      "metadata": {
        "colab": {
          "base_uri": "https://localhost:8080/",
          "height": 35
        },
        "id": "6meDt7JAXM8_",
        "outputId": "a57ea871-9e77-4149-ed2d-87cc0af08413"
      },
      "source": [
        "#Getting desired rows\n",
        "(\n",
        "  Ontime\n",
        "  %>% filter(ORIGIN == \"MSP\")\n",
        "  %>% filter(DEST == \"MSP\")\n",
        ") -> MN\n",
        "\n",
        "dim(MN)"
      ],
      "execution_count": 23,
      "outputs": [
        {
          "output_type": "display_data",
          "data": {
            "text/plain": [
              "[1]  0 18"
            ],
            "text/latex": "\\begin{enumerate*}\n\\item 0\n\\item 18\n\\end{enumerate*}\n",
            "text/markdown": "1. 0\n2. 18\n\n\n",
            "text/html": [
              "<style>\n",
              ".list-inline {list-style: none; margin:0; padding: 0}\n",
              ".list-inline>li {display: inline-block}\n",
              ".list-inline>li:not(:last-child)::after {content: \"\\00b7\"; padding: 0 .5ex}\n",
              "</style>\n",
              "<ol class=list-inline><li>0</li><li>18</li></ol>\n"
            ]
          },
          "metadata": {}
        }
      ]
    },
    {
      "cell_type": "markdown",
      "metadata": {
        "id": "DIBgGeULYOsf"
      },
      "source": [
        "Next, let us consider the various airports across MN.  \n",
        "\n",
        "\n",
        "*   How many are there?\n",
        "*   Where are they located?\n",
        "\n"
      ]
    },
    {
      "cell_type": "code",
      "metadata": {
        "colab": {
          "base_uri": "https://localhost:8080/",
          "height": 349
        },
        "id": "MId8-OTPYOyw",
        "outputId": "24886d18-26d9-4623-e6ba-a279e78f4380"
      },
      "source": [
        "#Airports across MN\n",
        "(\n",
        "  Ontime\n",
        "  %>% filter(ORIGIN_STATE_ABR == \"MN\")\n",
        "  %>% group_by(ORIGIN)\n",
        "  %>% summarise(Count=n())\n",
        " ) "
      ],
      "execution_count": 24,
      "outputs": [
        {
          "output_type": "display_data",
          "data": {
            "text/plain": [
              "  ORIGIN Count\n",
              "1 BJI       60\n",
              "2 BRD       50\n",
              "3 DLH      146\n",
              "4 HIB       50\n",
              "5 INL       50\n",
              "6 MSP    10372\n",
              "7 RST      183\n",
              "8 STC        8"
            ],
            "text/latex": "A tibble: 8 × 2\n\\begin{tabular}{ll}\n ORIGIN & Count\\\\\n <chr> & <int>\\\\\n\\hline\n\t BJI &    60\\\\\n\t BRD &    50\\\\\n\t DLH &   146\\\\\n\t HIB &    50\\\\\n\t INL &    50\\\\\n\t MSP & 10372\\\\\n\t RST &   183\\\\\n\t STC &     8\\\\\n\\end{tabular}\n",
            "text/markdown": "\nA tibble: 8 × 2\n\n| ORIGIN &lt;chr&gt; | Count &lt;int&gt; |\n|---|---|\n| BJI |    60 |\n| BRD |    50 |\n| DLH |   146 |\n| HIB |    50 |\n| INL |    50 |\n| MSP | 10372 |\n| RST |   183 |\n| STC |     8 |\n\n",
            "text/html": [
              "<table class=\"dataframe\">\n",
              "<caption>A tibble: 8 × 2</caption>\n",
              "<thead>\n",
              "\t<tr><th scope=col>ORIGIN</th><th scope=col>Count</th></tr>\n",
              "\t<tr><th scope=col>&lt;chr&gt;</th><th scope=col>&lt;int&gt;</th></tr>\n",
              "</thead>\n",
              "<tbody>\n",
              "\t<tr><td>BJI</td><td>   60</td></tr>\n",
              "\t<tr><td>BRD</td><td>   50</td></tr>\n",
              "\t<tr><td>DLH</td><td>  146</td></tr>\n",
              "\t<tr><td>HIB</td><td>   50</td></tr>\n",
              "\t<tr><td>INL</td><td>   50</td></tr>\n",
              "\t<tr><td>MSP</td><td>10372</td></tr>\n",
              "\t<tr><td>RST</td><td>  183</td></tr>\n",
              "\t<tr><td>STC</td><td>    8</td></tr>\n",
              "</tbody>\n",
              "</table>\n"
            ]
          },
          "metadata": {}
        }
      ]
    },
    {
      "cell_type": "markdown",
      "metadata": {
        "id": "aAwWE-RKcvxs"
      },
      "source": [
        "Another way to identify the various airports is to use the <strong>distinct()</strong> function."
      ]
    },
    {
      "cell_type": "code",
      "metadata": {
        "colab": {
          "base_uri": "https://localhost:8080/",
          "height": 366
        },
        "id": "pwkIr8jwcv5h",
        "outputId": "621937f3-fdad-421f-d718-f3c5c94e4687"
      },
      "source": [
        "#Getting only RST\n",
        "(\n",
        "  Ontime\n",
        "  %>% filter(ORIGIN_STATE_ABR == \"MN\")\n",
        "  %>% distinct(ORIGIN)\n",
        " ) "
      ],
      "execution_count": 25,
      "outputs": [
        {
          "output_type": "display_data",
          "data": {
            "text/plain": [
              "  ORIGIN\n",
              "1 MSP   \n",
              "2 RST   \n",
              "3 DLH   \n",
              "4 INL   \n",
              "5 BRD   \n",
              "6 HIB   \n",
              "7 BJI   \n",
              "8 STC   "
            ],
            "text/latex": "A tibble: 8 × 1\n\\begin{tabular}{l}\n ORIGIN\\\\\n <chr>\\\\\n\\hline\n\t MSP\\\\\n\t RST\\\\\n\t DLH\\\\\n\t INL\\\\\n\t BRD\\\\\n\t HIB\\\\\n\t BJI\\\\\n\t STC\\\\\n\\end{tabular}\n",
            "text/markdown": "\nA tibble: 8 × 1\n\n| ORIGIN &lt;chr&gt; |\n|---|\n| MSP |\n| RST |\n| DLH |\n| INL |\n| BRD |\n| HIB |\n| BJI |\n| STC |\n\n",
            "text/html": [
              "<table class=\"dataframe\">\n",
              "<caption>A tibble: 8 × 1</caption>\n",
              "<thead>\n",
              "\t<tr><th scope=col>ORIGIN</th></tr>\n",
              "\t<tr><th scope=col>&lt;chr&gt;</th></tr>\n",
              "</thead>\n",
              "<tbody>\n",
              "\t<tr><td>MSP</td></tr>\n",
              "\t<tr><td>RST</td></tr>\n",
              "\t<tr><td>DLH</td></tr>\n",
              "\t<tr><td>INL</td></tr>\n",
              "\t<tr><td>BRD</td></tr>\n",
              "\t<tr><td>HIB</td></tr>\n",
              "\t<tr><td>BJI</td></tr>\n",
              "\t<tr><td>STC</td></tr>\n",
              "</tbody>\n",
              "</table>\n"
            ]
          },
          "metadata": {}
        }
      ]
    },
    {
      "cell_type": "markdown",
      "metadata": {
        "id": "M-Ra1HgKaKCd"
      },
      "source": [
        "Next, let us collect the rows where the ORIGIN airport is in MN and purposely exclude MSP.  This will be done here with a sequence of <strong>OR</strong> statements.\n",
        "\n",
        "\n",
        "\n",
        "\n",
        "<p align='center'><img src=\"https://drive.google.com/uc?export=view&id=1hMSS_XOgk5izrSa1PNvKSiWkM62c9xMn\" width='25%' height='25%'></p>"
      ]
    },
    {
      "cell_type": "code",
      "metadata": {
        "colab": {
          "base_uri": "https://localhost:8080/",
          "height": 52
        },
        "id": "KagJpa2oaKJn",
        "outputId": "cc37a341-5052-45db-82dd-c48ef0bc9909"
      },
      "source": [
        "#Getting the desired rows\n",
        "(\n",
        "  Ontime\n",
        "  %>% filter(ORIGIN == \"BJI\" | ORIGIN == \"BRD\" | ORIGIN == \"DLH\" | ORIGIN == \"HIB\" | ORIGIN == \"INL\" | ORIGIN == \"RST\" | ORIGIN == \"STC\"  )\n",
        " ) -> MN\n",
        "\n",
        "cat(\"The dimension of the MN dataframe is: \\n\")\n",
        "   dim(MN)\n"
      ],
      "execution_count": 27,
      "outputs": [
        {
          "output_type": "stream",
          "name": "stdout",
          "text": [
            "The dimension of the MN dataframe is: \n"
          ]
        },
        {
          "output_type": "display_data",
          "data": {
            "text/plain": [
              "[1] 547  18"
            ],
            "text/latex": "\\begin{enumerate*}\n\\item 547\n\\item 18\n\\end{enumerate*}\n",
            "text/markdown": "1. 547\n2. 18\n\n\n",
            "text/html": [
              "<style>\n",
              ".list-inline {list-style: none; margin:0; padding: 0}\n",
              ".list-inline>li {display: inline-block}\n",
              ".list-inline>li:not(:last-child)::after {content: \"\\00b7\"; padding: 0 .5ex}\n",
              "</style>\n",
              "<ol class=list-inline><li>547</li><li>18</li></ol>\n"
            ]
          },
          "metadata": {}
        }
      ]
    },
    {
      "cell_type": "markdown",
      "metadata": {
        "id": "JzRvdJRYbOvF"
      },
      "source": [
        "Next, let us collect the rows where the ORIGIN airport is in MN and purposely exclude MSP.  This code will use the the <strong>IN()</strong> option instead of a sequence of OR statements."
      ]
    },
    {
      "cell_type": "code",
      "metadata": {
        "colab": {
          "base_uri": "https://localhost:8080/",
          "height": 69
        },
        "id": "l7yBYQvibO2D",
        "outputId": "5402d0eb-005f-419d-c79d-a366137617c1"
      },
      "source": [
        "#Getting the desired rows\n",
        "(\n",
        "  Ontime\n",
        "  %>% filter(ORIGIN %in% c(\"BJI\", \"BRD\", \"DLH\", \"HIB\",\"INL\", \"RST\", \"STC\") )\n",
        " ) -> MN\n",
        "\n",
        "cat(\"The dimension of the MN dataframe is: \\n\")\n",
        "   dim(MN)\n",
        "cat(\"\\n\")\n",
        "\n"
      ],
      "execution_count": 57,
      "outputs": [
        {
          "output_type": "stream",
          "name": "stdout",
          "text": [
            "The dimension of the MN dataframe is: \n"
          ]
        },
        {
          "output_type": "display_data",
          "data": {
            "text/plain": [
              "[1] 547  18"
            ],
            "text/latex": "\\begin{enumerate*}\n\\item 547\n\\item 18\n\\end{enumerate*}\n",
            "text/markdown": "1. 547\n2. 18\n\n\n",
            "text/html": [
              "<style>\n",
              ".list-inline {list-style: none; margin:0; padding: 0}\n",
              ".list-inline>li {display: inline-block}\n",
              ".list-inline>li:not(:last-child)::after {content: \"\\00b7\"; padding: 0 .5ex}\n",
              "</style>\n",
              "<ol class=list-inline><li>547</li><li>18</li></ol>\n"
            ]
          },
          "metadata": {}
        },
        {
          "output_type": "stream",
          "name": "stdout",
          "text": [
            "\n"
          ]
        }
      ]
    },
    {
      "cell_type": "markdown",
      "metadata": {
        "id": "kwLkrgKIbg9p"
      },
      "source": [
        "One more iteration for ORIGIN airport is in MN and purposely exclude MSP.  This code will use the the <strong>!=()</strong>, i.e. not equal, option instead of a sequence of OR statements or IN() option."
      ]
    },
    {
      "cell_type": "code",
      "metadata": {
        "colab": {
          "base_uri": "https://localhost:8080/",
          "height": 69
        },
        "id": "RDj14IzubhEn",
        "outputId": "c3270cef-13b4-4ccf-f0dc-48ef418d5ec7"
      },
      "source": [
        "#Getting only RST\n",
        "(\n",
        "  Ontime\n",
        "  %>% filter(ORIGIN_STATE_ABR == \"MN\")\n",
        "  %>% filter(ORIGIN != \"MSP\")\n",
        " ) -> MN\n",
        "\n",
        "cat(\"The dimension of the MN dataframe is: \\n\")\n",
        "   dim(MN)\n",
        "cat(\"\\n\")"
      ],
      "execution_count": 58,
      "outputs": [
        {
          "output_type": "stream",
          "name": "stdout",
          "text": [
            "The dimension of the MN dataframe is: \n"
          ]
        },
        {
          "output_type": "display_data",
          "data": {
            "text/plain": [
              "[1] 547  18"
            ],
            "text/latex": "\\begin{enumerate*}\n\\item 547\n\\item 18\n\\end{enumerate*}\n",
            "text/markdown": "1. 547\n2. 18\n\n\n",
            "text/html": [
              "<style>\n",
              ".list-inline {list-style: none; margin:0; padding: 0}\n",
              ".list-inline>li {display: inline-block}\n",
              ".list-inline>li:not(:last-child)::after {content: \"\\00b7\"; padding: 0 .5ex}\n",
              "</style>\n",
              "<ol class=list-inline><li>547</li><li>18</li></ol>\n"
            ]
          },
          "metadata": {}
        },
        {
          "output_type": "stream",
          "name": "stdout",
          "text": [
            "\n"
          ]
        }
      ]
    },
    {
      "cell_type": "markdown",
      "metadata": {
        "id": "hIpAYOPCcWpW"
      },
      "source": [
        "# Filter Action with NA"
      ]
    },
    {
      "cell_type": "markdown",
      "metadata": {
        "id": "Bk1kac2teONW"
      },
      "source": [
        "\n",
        "\n",
        "The following code is used to <strong>drop all </strong> missing from a dataframe."
      ]
    },
    {
      "cell_type": "code",
      "metadata": {
        "colab": {
          "base_uri": "https://localhost:8080/",
          "height": 135
        },
        "id": "KSCGq4LacWww",
        "outputId": "e211915b-03c2-405d-8759-3c713c22fa89"
      },
      "source": [
        "#Getting desired rows\n",
        "(\n",
        "  Ontime\n",
        "  %>% filter(ORIGIN == \"RST\")\n",
        "  %>% drop_na() \n",
        " ) -> RST_NoNA\n",
        "\n",
        " dim(RST_NoNA)\n",
        " head(RST_NoNA)\n"
      ],
      "execution_count": 59,
      "outputs": [
        {
          "output_type": "display_data",
          "data": {
            "text/plain": [
              "[1]  0 18"
            ],
            "text/latex": "\\begin{enumerate*}\n\\item 0\n\\item 18\n\\end{enumerate*}\n",
            "text/markdown": "1. 0\n2. 18\n\n\n",
            "text/html": [
              "<style>\n",
              ".list-inline {list-style: none; margin:0; padding: 0}\n",
              ".list-inline>li {display: inline-block}\n",
              ".list-inline>li:not(:last-child)::after {content: \"\\00b7\"; padding: 0 .5ex}\n",
              "</style>\n",
              "<ol class=list-inline><li>0</li><li>18</li></ol>\n"
            ]
          },
          "metadata": {}
        },
        {
          "output_type": "display_data",
          "data": {
            "text/plain": [
              "     DAY_OF_MONTH DAY_OF_WEEK ORIGIN ORIGIN_STATE_ABR DEST DEST_STATE_ABR\n",
              "     DEP_TIME DEP_DELAY DEP_DEL15 ARR_TIME ARR_DELAY ARR_DEL15 CARRIER_DELAY\n",
              "     WEATHER_DELAY NAS_DELAY SECURITY_DELAY LATE_AIRCRAFT_DELAY ...18"
            ],
            "text/latex": "A tibble: 0 × 18\n\\begin{tabular}{llllllllllllllllll}\n DAY\\_OF\\_MONTH & DAY\\_OF\\_WEEK & ORIGIN & ORIGIN\\_STATE\\_ABR & DEST & DEST\\_STATE\\_ABR & DEP\\_TIME & DEP\\_DELAY & DEP\\_DEL15 & ARR\\_TIME & ARR\\_DELAY & ARR\\_DEL15 & CARRIER\\_DELAY & WEATHER\\_DELAY & NAS\\_DELAY & SECURITY\\_DELAY & LATE\\_AIRCRAFT\\_DELAY & ...18\\\\\n <dbl> & <dbl> & <chr> & <chr> & <chr> & <chr> & <chr> & <dbl> & <dbl> & <chr> & <dbl> & <dbl> & <dbl> & <dbl> & <dbl> & <dbl> & <dbl> & <lgl>\\\\\n\\hline\n\\end{tabular}\n",
            "text/markdown": "\nA tibble: 0 × 18\n\n| DAY_OF_MONTH &lt;dbl&gt; | DAY_OF_WEEK &lt;dbl&gt; | ORIGIN &lt;chr&gt; | ORIGIN_STATE_ABR &lt;chr&gt; | DEST &lt;chr&gt; | DEST_STATE_ABR &lt;chr&gt; | DEP_TIME &lt;chr&gt; | DEP_DELAY &lt;dbl&gt; | DEP_DEL15 &lt;dbl&gt; | ARR_TIME &lt;chr&gt; | ARR_DELAY &lt;dbl&gt; | ARR_DEL15 &lt;dbl&gt; | CARRIER_DELAY &lt;dbl&gt; | WEATHER_DELAY &lt;dbl&gt; | NAS_DELAY &lt;dbl&gt; | SECURITY_DELAY &lt;dbl&gt; | LATE_AIRCRAFT_DELAY &lt;dbl&gt; | ...18 &lt;lgl&gt; |\n|---|---|---|---|---|---|---|---|---|---|---|---|---|---|---|---|---|---|\n\n",
            "text/html": [
              "<table class=\"dataframe\">\n",
              "<caption>A tibble: 0 × 18</caption>\n",
              "<thead>\n",
              "\t<tr><th scope=col>DAY_OF_MONTH</th><th scope=col>DAY_OF_WEEK</th><th scope=col>ORIGIN</th><th scope=col>ORIGIN_STATE_ABR</th><th scope=col>DEST</th><th scope=col>DEST_STATE_ABR</th><th scope=col>DEP_TIME</th><th scope=col>DEP_DELAY</th><th scope=col>DEP_DEL15</th><th scope=col>ARR_TIME</th><th scope=col>ARR_DELAY</th><th scope=col>ARR_DEL15</th><th scope=col>CARRIER_DELAY</th><th scope=col>WEATHER_DELAY</th><th scope=col>NAS_DELAY</th><th scope=col>SECURITY_DELAY</th><th scope=col>LATE_AIRCRAFT_DELAY</th><th scope=col>...18</th></tr>\n",
              "\t<tr><th scope=col>&lt;dbl&gt;</th><th scope=col>&lt;dbl&gt;</th><th scope=col>&lt;chr&gt;</th><th scope=col>&lt;chr&gt;</th><th scope=col>&lt;chr&gt;</th><th scope=col>&lt;chr&gt;</th><th scope=col>&lt;chr&gt;</th><th scope=col>&lt;dbl&gt;</th><th scope=col>&lt;dbl&gt;</th><th scope=col>&lt;chr&gt;</th><th scope=col>&lt;dbl&gt;</th><th scope=col>&lt;dbl&gt;</th><th scope=col>&lt;dbl&gt;</th><th scope=col>&lt;dbl&gt;</th><th scope=col>&lt;dbl&gt;</th><th scope=col>&lt;dbl&gt;</th><th scope=col>&lt;dbl&gt;</th><th scope=col>&lt;lgl&gt;</th></tr>\n",
              "</thead>\n",
              "<tbody>\n",
              "</tbody>\n",
              "</table>\n"
            ]
          },
          "metadata": {}
        }
      ]
    },
    {
      "cell_type": "markdown",
      "metadata": {
        "id": "zRFsh1QreUf-"
      },
      "source": [
        "The following variation will exclude only NAs for the variable CARRIER_DELAY."
      ]
    },
    {
      "cell_type": "code",
      "metadata": {
        "id": "ITGmz07AeUo8",
        "colab": {
          "base_uri": "https://localhost:8080/",
          "height": 575
        },
        "outputId": "6a735f71-d475-4a99-a5fb-1f44a06bd7f6"
      },
      "source": [
        "#Getting the desired rows\n",
        "(\n",
        "  Ontime\n",
        "  %>% filter(ORIGIN == \"RST\")\n",
        "  %>% drop_na(CARRIER_DELAY\t) \n",
        " ) -> RST_NoNA_Carrier\n",
        "\n",
        " dim(RST_NoNA_Carrier)\n",
        " head(RST_NoNA_Carrier,25)"
      ],
      "execution_count": 60,
      "outputs": [
        {
          "output_type": "display_data",
          "data": {
            "text/plain": [
              "[1] 14 18"
            ],
            "text/latex": "\\begin{enumerate*}\n\\item 14\n\\item 18\n\\end{enumerate*}\n",
            "text/markdown": "1. 14\n2. 18\n\n\n",
            "text/html": [
              "<style>\n",
              ".list-inline {list-style: none; margin:0; padding: 0}\n",
              ".list-inline>li {display: inline-block}\n",
              ".list-inline>li:not(:last-child)::after {content: \"\\00b7\"; padding: 0 .5ex}\n",
              "</style>\n",
              "<ol class=list-inline><li>14</li><li>18</li></ol>\n"
            ]
          },
          "metadata": {}
        },
        {
          "output_type": "display_data",
          "data": {
            "text/plain": [
              "   DAY_OF_MONTH DAY_OF_WEEK ORIGIN ORIGIN_STATE_ABR DEST DEST_STATE_ABR\n",
              "1   4           4           RST    MN               ORD  IL            \n",
              "2   7           7           RST    MN               MSP  MN            \n",
              "3   9           2           RST    MN               ORD  IL            \n",
              "4  11           4           RST    MN               ATL  GA            \n",
              "5  12           5           RST    MN               MSP  MN            \n",
              "6  12           5           RST    MN               ORD  IL            \n",
              "7  13           6           RST    MN               MSP  MN            \n",
              "8  14           7           RST    MN               MSP  MN            \n",
              "9  14           7           RST    MN               MSP  MN            \n",
              "10 15           1           RST    MN               ORD  IL            \n",
              "11 15           1           RST    MN               MSP  MN            \n",
              "12 18           4           RST    MN               MSP  MN            \n",
              "13 18           4           RST    MN               MSP  MN            \n",
              "14 29           1           RST    MN               MSP  MN            \n",
              "   DEP_TIME DEP_DELAY DEP_DEL15 ARR_TIME ARR_DELAY ARR_DEL15 CARRIER_DELAY\n",
              "1  1618      93       1         1733      80       1           3          \n",
              "2  1911      76       1         1959      62       1          62          \n",
              "3  1516     299       1         1630     285       1         285          \n",
              "4  1644      -1       0         2028      30       1           0          \n",
              "5  0554      -6       0         0715      15       1          15          \n",
              "6  1009      -8       0         1215      30       1           0          \n",
              "7  1500     255       1         1549     247       1           0          \n",
              "8  1159      74       1         1249      67       1           0          \n",
              "9  1839      44       1         1923      26       1          26          \n",
              "10 1517      32       1         1630      17       1           2          \n",
              "11 1005     245       1         1046     226       1         226          \n",
              "12 1754      -1       0         1912      15       1          15          \n",
              "13 1101      16       1         1157      15       1           0          \n",
              "14 0639      39       1         0728      28       1          28          \n",
              "   WEATHER_DELAY NAS_DELAY SECURITY_DELAY LATE_AIRCRAFT_DELAY ...18\n",
              "1    0            0        0              77                  NA   \n",
              "2    0            0        0               0                  NA   \n",
              "3    0            0        0               0                  NA   \n",
              "4    0           30        0               0                  NA   \n",
              "5    0            0        0               0                  NA   \n",
              "6    0           30        0               0                  NA   \n",
              "7  247            0        0               0                  NA   \n",
              "8   67            0        0               0                  NA   \n",
              "9    0            0        0               0                  NA   \n",
              "10   0            0        0              15                  NA   \n",
              "11   0            0        0               0                  NA   \n",
              "12   0            0        0               0                  NA   \n",
              "13  15            0        0               0                  NA   \n",
              "14   0            0        0               0                  NA   "
            ],
            "text/latex": "A tibble: 14 × 18\n\\begin{tabular}{llllllllllllllllll}\n DAY\\_OF\\_MONTH & DAY\\_OF\\_WEEK & ORIGIN & ORIGIN\\_STATE\\_ABR & DEST & DEST\\_STATE\\_ABR & DEP\\_TIME & DEP\\_DELAY & DEP\\_DEL15 & ARR\\_TIME & ARR\\_DELAY & ARR\\_DEL15 & CARRIER\\_DELAY & WEATHER\\_DELAY & NAS\\_DELAY & SECURITY\\_DELAY & LATE\\_AIRCRAFT\\_DELAY & ...18\\\\\n <dbl> & <dbl> & <chr> & <chr> & <chr> & <chr> & <chr> & <dbl> & <dbl> & <chr> & <dbl> & <dbl> & <dbl> & <dbl> & <dbl> & <dbl> & <dbl> & <lgl>\\\\\n\\hline\n\t  4 & 4 & RST & MN & ORD & IL & 1618 &  93 & 1 & 1733 &  80 & 1 &   3 &   0 &  0 & 0 & 77 & NA\\\\\n\t  7 & 7 & RST & MN & MSP & MN & 1911 &  76 & 1 & 1959 &  62 & 1 &  62 &   0 &  0 & 0 &  0 & NA\\\\\n\t  9 & 2 & RST & MN & ORD & IL & 1516 & 299 & 1 & 1630 & 285 & 1 & 285 &   0 &  0 & 0 &  0 & NA\\\\\n\t 11 & 4 & RST & MN & ATL & GA & 1644 &  -1 & 0 & 2028 &  30 & 1 &   0 &   0 & 30 & 0 &  0 & NA\\\\\n\t 12 & 5 & RST & MN & MSP & MN & 0554 &  -6 & 0 & 0715 &  15 & 1 &  15 &   0 &  0 & 0 &  0 & NA\\\\\n\t 12 & 5 & RST & MN & ORD & IL & 1009 &  -8 & 0 & 1215 &  30 & 1 &   0 &   0 & 30 & 0 &  0 & NA\\\\\n\t 13 & 6 & RST & MN & MSP & MN & 1500 & 255 & 1 & 1549 & 247 & 1 &   0 & 247 &  0 & 0 &  0 & NA\\\\\n\t 14 & 7 & RST & MN & MSP & MN & 1159 &  74 & 1 & 1249 &  67 & 1 &   0 &  67 &  0 & 0 &  0 & NA\\\\\n\t 14 & 7 & RST & MN & MSP & MN & 1839 &  44 & 1 & 1923 &  26 & 1 &  26 &   0 &  0 & 0 &  0 & NA\\\\\n\t 15 & 1 & RST & MN & ORD & IL & 1517 &  32 & 1 & 1630 &  17 & 1 &   2 &   0 &  0 & 0 & 15 & NA\\\\\n\t 15 & 1 & RST & MN & MSP & MN & 1005 & 245 & 1 & 1046 & 226 & 1 & 226 &   0 &  0 & 0 &  0 & NA\\\\\n\t 18 & 4 & RST & MN & MSP & MN & 1754 &  -1 & 0 & 1912 &  15 & 1 &  15 &   0 &  0 & 0 &  0 & NA\\\\\n\t 18 & 4 & RST & MN & MSP & MN & 1101 &  16 & 1 & 1157 &  15 & 1 &   0 &  15 &  0 & 0 &  0 & NA\\\\\n\t 29 & 1 & RST & MN & MSP & MN & 0639 &  39 & 1 & 0728 &  28 & 1 &  28 &   0 &  0 & 0 &  0 & NA\\\\\n\\end{tabular}\n",
            "text/markdown": "\nA tibble: 14 × 18\n\n| DAY_OF_MONTH &lt;dbl&gt; | DAY_OF_WEEK &lt;dbl&gt; | ORIGIN &lt;chr&gt; | ORIGIN_STATE_ABR &lt;chr&gt; | DEST &lt;chr&gt; | DEST_STATE_ABR &lt;chr&gt; | DEP_TIME &lt;chr&gt; | DEP_DELAY &lt;dbl&gt; | DEP_DEL15 &lt;dbl&gt; | ARR_TIME &lt;chr&gt; | ARR_DELAY &lt;dbl&gt; | ARR_DEL15 &lt;dbl&gt; | CARRIER_DELAY &lt;dbl&gt; | WEATHER_DELAY &lt;dbl&gt; | NAS_DELAY &lt;dbl&gt; | SECURITY_DELAY &lt;dbl&gt; | LATE_AIRCRAFT_DELAY &lt;dbl&gt; | ...18 &lt;lgl&gt; |\n|---|---|---|---|---|---|---|---|---|---|---|---|---|---|---|---|---|---|\n|  4 | 4 | RST | MN | ORD | IL | 1618 |  93 | 1 | 1733 |  80 | 1 |   3 |   0 |  0 | 0 | 77 | NA |\n|  7 | 7 | RST | MN | MSP | MN | 1911 |  76 | 1 | 1959 |  62 | 1 |  62 |   0 |  0 | 0 |  0 | NA |\n|  9 | 2 | RST | MN | ORD | IL | 1516 | 299 | 1 | 1630 | 285 | 1 | 285 |   0 |  0 | 0 |  0 | NA |\n| 11 | 4 | RST | MN | ATL | GA | 1644 |  -1 | 0 | 2028 |  30 | 1 |   0 |   0 | 30 | 0 |  0 | NA |\n| 12 | 5 | RST | MN | MSP | MN | 0554 |  -6 | 0 | 0715 |  15 | 1 |  15 |   0 |  0 | 0 |  0 | NA |\n| 12 | 5 | RST | MN | ORD | IL | 1009 |  -8 | 0 | 1215 |  30 | 1 |   0 |   0 | 30 | 0 |  0 | NA |\n| 13 | 6 | RST | MN | MSP | MN | 1500 | 255 | 1 | 1549 | 247 | 1 |   0 | 247 |  0 | 0 |  0 | NA |\n| 14 | 7 | RST | MN | MSP | MN | 1159 |  74 | 1 | 1249 |  67 | 1 |   0 |  67 |  0 | 0 |  0 | NA |\n| 14 | 7 | RST | MN | MSP | MN | 1839 |  44 | 1 | 1923 |  26 | 1 |  26 |   0 |  0 | 0 |  0 | NA |\n| 15 | 1 | RST | MN | ORD | IL | 1517 |  32 | 1 | 1630 |  17 | 1 |   2 |   0 |  0 | 0 | 15 | NA |\n| 15 | 1 | RST | MN | MSP | MN | 1005 | 245 | 1 | 1046 | 226 | 1 | 226 |   0 |  0 | 0 |  0 | NA |\n| 18 | 4 | RST | MN | MSP | MN | 1754 |  -1 | 0 | 1912 |  15 | 1 |  15 |   0 |  0 | 0 |  0 | NA |\n| 18 | 4 | RST | MN | MSP | MN | 1101 |  16 | 1 | 1157 |  15 | 1 |   0 |  15 |  0 | 0 |  0 | NA |\n| 29 | 1 | RST | MN | MSP | MN | 0639 |  39 | 1 | 0728 |  28 | 1 |  28 |   0 |  0 | 0 |  0 | NA |\n\n",
            "text/html": [
              "<table class=\"dataframe\">\n",
              "<caption>A tibble: 14 × 18</caption>\n",
              "<thead>\n",
              "\t<tr><th scope=col>DAY_OF_MONTH</th><th scope=col>DAY_OF_WEEK</th><th scope=col>ORIGIN</th><th scope=col>ORIGIN_STATE_ABR</th><th scope=col>DEST</th><th scope=col>DEST_STATE_ABR</th><th scope=col>DEP_TIME</th><th scope=col>DEP_DELAY</th><th scope=col>DEP_DEL15</th><th scope=col>ARR_TIME</th><th scope=col>ARR_DELAY</th><th scope=col>ARR_DEL15</th><th scope=col>CARRIER_DELAY</th><th scope=col>WEATHER_DELAY</th><th scope=col>NAS_DELAY</th><th scope=col>SECURITY_DELAY</th><th scope=col>LATE_AIRCRAFT_DELAY</th><th scope=col>...18</th></tr>\n",
              "\t<tr><th scope=col>&lt;dbl&gt;</th><th scope=col>&lt;dbl&gt;</th><th scope=col>&lt;chr&gt;</th><th scope=col>&lt;chr&gt;</th><th scope=col>&lt;chr&gt;</th><th scope=col>&lt;chr&gt;</th><th scope=col>&lt;chr&gt;</th><th scope=col>&lt;dbl&gt;</th><th scope=col>&lt;dbl&gt;</th><th scope=col>&lt;chr&gt;</th><th scope=col>&lt;dbl&gt;</th><th scope=col>&lt;dbl&gt;</th><th scope=col>&lt;dbl&gt;</th><th scope=col>&lt;dbl&gt;</th><th scope=col>&lt;dbl&gt;</th><th scope=col>&lt;dbl&gt;</th><th scope=col>&lt;dbl&gt;</th><th scope=col>&lt;lgl&gt;</th></tr>\n",
              "</thead>\n",
              "<tbody>\n",
              "\t<tr><td> 4</td><td>4</td><td>RST</td><td>MN</td><td>ORD</td><td>IL</td><td>1618</td><td> 93</td><td>1</td><td>1733</td><td> 80</td><td>1</td><td>  3</td><td>  0</td><td> 0</td><td>0</td><td>77</td><td>NA</td></tr>\n",
              "\t<tr><td> 7</td><td>7</td><td>RST</td><td>MN</td><td>MSP</td><td>MN</td><td>1911</td><td> 76</td><td>1</td><td>1959</td><td> 62</td><td>1</td><td> 62</td><td>  0</td><td> 0</td><td>0</td><td> 0</td><td>NA</td></tr>\n",
              "\t<tr><td> 9</td><td>2</td><td>RST</td><td>MN</td><td>ORD</td><td>IL</td><td>1516</td><td>299</td><td>1</td><td>1630</td><td>285</td><td>1</td><td>285</td><td>  0</td><td> 0</td><td>0</td><td> 0</td><td>NA</td></tr>\n",
              "\t<tr><td>11</td><td>4</td><td>RST</td><td>MN</td><td>ATL</td><td>GA</td><td>1644</td><td> -1</td><td>0</td><td>2028</td><td> 30</td><td>1</td><td>  0</td><td>  0</td><td>30</td><td>0</td><td> 0</td><td>NA</td></tr>\n",
              "\t<tr><td>12</td><td>5</td><td>RST</td><td>MN</td><td>MSP</td><td>MN</td><td>0554</td><td> -6</td><td>0</td><td>0715</td><td> 15</td><td>1</td><td> 15</td><td>  0</td><td> 0</td><td>0</td><td> 0</td><td>NA</td></tr>\n",
              "\t<tr><td>12</td><td>5</td><td>RST</td><td>MN</td><td>ORD</td><td>IL</td><td>1009</td><td> -8</td><td>0</td><td>1215</td><td> 30</td><td>1</td><td>  0</td><td>  0</td><td>30</td><td>0</td><td> 0</td><td>NA</td></tr>\n",
              "\t<tr><td>13</td><td>6</td><td>RST</td><td>MN</td><td>MSP</td><td>MN</td><td>1500</td><td>255</td><td>1</td><td>1549</td><td>247</td><td>1</td><td>  0</td><td>247</td><td> 0</td><td>0</td><td> 0</td><td>NA</td></tr>\n",
              "\t<tr><td>14</td><td>7</td><td>RST</td><td>MN</td><td>MSP</td><td>MN</td><td>1159</td><td> 74</td><td>1</td><td>1249</td><td> 67</td><td>1</td><td>  0</td><td> 67</td><td> 0</td><td>0</td><td> 0</td><td>NA</td></tr>\n",
              "\t<tr><td>14</td><td>7</td><td>RST</td><td>MN</td><td>MSP</td><td>MN</td><td>1839</td><td> 44</td><td>1</td><td>1923</td><td> 26</td><td>1</td><td> 26</td><td>  0</td><td> 0</td><td>0</td><td> 0</td><td>NA</td></tr>\n",
              "\t<tr><td>15</td><td>1</td><td>RST</td><td>MN</td><td>ORD</td><td>IL</td><td>1517</td><td> 32</td><td>1</td><td>1630</td><td> 17</td><td>1</td><td>  2</td><td>  0</td><td> 0</td><td>0</td><td>15</td><td>NA</td></tr>\n",
              "\t<tr><td>15</td><td>1</td><td>RST</td><td>MN</td><td>MSP</td><td>MN</td><td>1005</td><td>245</td><td>1</td><td>1046</td><td>226</td><td>1</td><td>226</td><td>  0</td><td> 0</td><td>0</td><td> 0</td><td>NA</td></tr>\n",
              "\t<tr><td>18</td><td>4</td><td>RST</td><td>MN</td><td>MSP</td><td>MN</td><td>1754</td><td> -1</td><td>0</td><td>1912</td><td> 15</td><td>1</td><td> 15</td><td>  0</td><td> 0</td><td>0</td><td> 0</td><td>NA</td></tr>\n",
              "\t<tr><td>18</td><td>4</td><td>RST</td><td>MN</td><td>MSP</td><td>MN</td><td>1101</td><td> 16</td><td>1</td><td>1157</td><td> 15</td><td>1</td><td>  0</td><td> 15</td><td> 0</td><td>0</td><td> 0</td><td>NA</td></tr>\n",
              "\t<tr><td>29</td><td>1</td><td>RST</td><td>MN</td><td>MSP</td><td>MN</td><td>0639</td><td> 39</td><td>1</td><td>0728</td><td> 28</td><td>1</td><td> 28</td><td>  0</td><td> 0</td><td>0</td><td> 0</td><td>NA</td></tr>\n",
              "</tbody>\n",
              "</table>\n"
            ]
          },
          "metadata": {}
        }
      ]
    },
    {
      "cell_type": "markdown",
      "metadata": {
        "id": "gKPglj_cfG6O"
      },
      "source": [
        "# Filter Action on Numbers\n"
      ]
    },
    {
      "cell_type": "markdown",
      "metadata": {
        "id": "nhcEQkY5fLjO"
      },
      "source": [
        "Consider again the RST dataframe for which there was a delay."
      ]
    },
    {
      "cell_type": "code",
      "metadata": {
        "colab": {
          "base_uri": "https://localhost:8080/",
          "height": 557
        },
        "id": "SvBf9yawfvaH",
        "outputId": "2f06caee-74ec-4a8f-bafa-77bffbcbdcca"
      },
      "source": [
        " head(RST_NoNA_Carrier,25)"
      ],
      "execution_count": 61,
      "outputs": [
        {
          "output_type": "display_data",
          "data": {
            "text/plain": [
              "   DAY_OF_MONTH DAY_OF_WEEK ORIGIN ORIGIN_STATE_ABR DEST DEST_STATE_ABR\n",
              "1   4           4           RST    MN               ORD  IL            \n",
              "2   7           7           RST    MN               MSP  MN            \n",
              "3   9           2           RST    MN               ORD  IL            \n",
              "4  11           4           RST    MN               ATL  GA            \n",
              "5  12           5           RST    MN               MSP  MN            \n",
              "6  12           5           RST    MN               ORD  IL            \n",
              "7  13           6           RST    MN               MSP  MN            \n",
              "8  14           7           RST    MN               MSP  MN            \n",
              "9  14           7           RST    MN               MSP  MN            \n",
              "10 15           1           RST    MN               ORD  IL            \n",
              "11 15           1           RST    MN               MSP  MN            \n",
              "12 18           4           RST    MN               MSP  MN            \n",
              "13 18           4           RST    MN               MSP  MN            \n",
              "14 29           1           RST    MN               MSP  MN            \n",
              "   DEP_TIME DEP_DELAY DEP_DEL15 ARR_TIME ARR_DELAY ARR_DEL15 CARRIER_DELAY\n",
              "1  1618      93       1         1733      80       1           3          \n",
              "2  1911      76       1         1959      62       1          62          \n",
              "3  1516     299       1         1630     285       1         285          \n",
              "4  1644      -1       0         2028      30       1           0          \n",
              "5  0554      -6       0         0715      15       1          15          \n",
              "6  1009      -8       0         1215      30       1           0          \n",
              "7  1500     255       1         1549     247       1           0          \n",
              "8  1159      74       1         1249      67       1           0          \n",
              "9  1839      44       1         1923      26       1          26          \n",
              "10 1517      32       1         1630      17       1           2          \n",
              "11 1005     245       1         1046     226       1         226          \n",
              "12 1754      -1       0         1912      15       1          15          \n",
              "13 1101      16       1         1157      15       1           0          \n",
              "14 0639      39       1         0728      28       1          28          \n",
              "   WEATHER_DELAY NAS_DELAY SECURITY_DELAY LATE_AIRCRAFT_DELAY ...18\n",
              "1    0            0        0              77                  NA   \n",
              "2    0            0        0               0                  NA   \n",
              "3    0            0        0               0                  NA   \n",
              "4    0           30        0               0                  NA   \n",
              "5    0            0        0               0                  NA   \n",
              "6    0           30        0               0                  NA   \n",
              "7  247            0        0               0                  NA   \n",
              "8   67            0        0               0                  NA   \n",
              "9    0            0        0               0                  NA   \n",
              "10   0            0        0              15                  NA   \n",
              "11   0            0        0               0                  NA   \n",
              "12   0            0        0               0                  NA   \n",
              "13  15            0        0               0                  NA   \n",
              "14   0            0        0               0                  NA   "
            ],
            "text/latex": "A tibble: 14 × 18\n\\begin{tabular}{llllllllllllllllll}\n DAY\\_OF\\_MONTH & DAY\\_OF\\_WEEK & ORIGIN & ORIGIN\\_STATE\\_ABR & DEST & DEST\\_STATE\\_ABR & DEP\\_TIME & DEP\\_DELAY & DEP\\_DEL15 & ARR\\_TIME & ARR\\_DELAY & ARR\\_DEL15 & CARRIER\\_DELAY & WEATHER\\_DELAY & NAS\\_DELAY & SECURITY\\_DELAY & LATE\\_AIRCRAFT\\_DELAY & ...18\\\\\n <dbl> & <dbl> & <chr> & <chr> & <chr> & <chr> & <chr> & <dbl> & <dbl> & <chr> & <dbl> & <dbl> & <dbl> & <dbl> & <dbl> & <dbl> & <dbl> & <lgl>\\\\\n\\hline\n\t  4 & 4 & RST & MN & ORD & IL & 1618 &  93 & 1 & 1733 &  80 & 1 &   3 &   0 &  0 & 0 & 77 & NA\\\\\n\t  7 & 7 & RST & MN & MSP & MN & 1911 &  76 & 1 & 1959 &  62 & 1 &  62 &   0 &  0 & 0 &  0 & NA\\\\\n\t  9 & 2 & RST & MN & ORD & IL & 1516 & 299 & 1 & 1630 & 285 & 1 & 285 &   0 &  0 & 0 &  0 & NA\\\\\n\t 11 & 4 & RST & MN & ATL & GA & 1644 &  -1 & 0 & 2028 &  30 & 1 &   0 &   0 & 30 & 0 &  0 & NA\\\\\n\t 12 & 5 & RST & MN & MSP & MN & 0554 &  -6 & 0 & 0715 &  15 & 1 &  15 &   0 &  0 & 0 &  0 & NA\\\\\n\t 12 & 5 & RST & MN & ORD & IL & 1009 &  -8 & 0 & 1215 &  30 & 1 &   0 &   0 & 30 & 0 &  0 & NA\\\\\n\t 13 & 6 & RST & MN & MSP & MN & 1500 & 255 & 1 & 1549 & 247 & 1 &   0 & 247 &  0 & 0 &  0 & NA\\\\\n\t 14 & 7 & RST & MN & MSP & MN & 1159 &  74 & 1 & 1249 &  67 & 1 &   0 &  67 &  0 & 0 &  0 & NA\\\\\n\t 14 & 7 & RST & MN & MSP & MN & 1839 &  44 & 1 & 1923 &  26 & 1 &  26 &   0 &  0 & 0 &  0 & NA\\\\\n\t 15 & 1 & RST & MN & ORD & IL & 1517 &  32 & 1 & 1630 &  17 & 1 &   2 &   0 &  0 & 0 & 15 & NA\\\\\n\t 15 & 1 & RST & MN & MSP & MN & 1005 & 245 & 1 & 1046 & 226 & 1 & 226 &   0 &  0 & 0 &  0 & NA\\\\\n\t 18 & 4 & RST & MN & MSP & MN & 1754 &  -1 & 0 & 1912 &  15 & 1 &  15 &   0 &  0 & 0 &  0 & NA\\\\\n\t 18 & 4 & RST & MN & MSP & MN & 1101 &  16 & 1 & 1157 &  15 & 1 &   0 &  15 &  0 & 0 &  0 & NA\\\\\n\t 29 & 1 & RST & MN & MSP & MN & 0639 &  39 & 1 & 0728 &  28 & 1 &  28 &   0 &  0 & 0 &  0 & NA\\\\\n\\end{tabular}\n",
            "text/markdown": "\nA tibble: 14 × 18\n\n| DAY_OF_MONTH &lt;dbl&gt; | DAY_OF_WEEK &lt;dbl&gt; | ORIGIN &lt;chr&gt; | ORIGIN_STATE_ABR &lt;chr&gt; | DEST &lt;chr&gt; | DEST_STATE_ABR &lt;chr&gt; | DEP_TIME &lt;chr&gt; | DEP_DELAY &lt;dbl&gt; | DEP_DEL15 &lt;dbl&gt; | ARR_TIME &lt;chr&gt; | ARR_DELAY &lt;dbl&gt; | ARR_DEL15 &lt;dbl&gt; | CARRIER_DELAY &lt;dbl&gt; | WEATHER_DELAY &lt;dbl&gt; | NAS_DELAY &lt;dbl&gt; | SECURITY_DELAY &lt;dbl&gt; | LATE_AIRCRAFT_DELAY &lt;dbl&gt; | ...18 &lt;lgl&gt; |\n|---|---|---|---|---|---|---|---|---|---|---|---|---|---|---|---|---|---|\n|  4 | 4 | RST | MN | ORD | IL | 1618 |  93 | 1 | 1733 |  80 | 1 |   3 |   0 |  0 | 0 | 77 | NA |\n|  7 | 7 | RST | MN | MSP | MN | 1911 |  76 | 1 | 1959 |  62 | 1 |  62 |   0 |  0 | 0 |  0 | NA |\n|  9 | 2 | RST | MN | ORD | IL | 1516 | 299 | 1 | 1630 | 285 | 1 | 285 |   0 |  0 | 0 |  0 | NA |\n| 11 | 4 | RST | MN | ATL | GA | 1644 |  -1 | 0 | 2028 |  30 | 1 |   0 |   0 | 30 | 0 |  0 | NA |\n| 12 | 5 | RST | MN | MSP | MN | 0554 |  -6 | 0 | 0715 |  15 | 1 |  15 |   0 |  0 | 0 |  0 | NA |\n| 12 | 5 | RST | MN | ORD | IL | 1009 |  -8 | 0 | 1215 |  30 | 1 |   0 |   0 | 30 | 0 |  0 | NA |\n| 13 | 6 | RST | MN | MSP | MN | 1500 | 255 | 1 | 1549 | 247 | 1 |   0 | 247 |  0 | 0 |  0 | NA |\n| 14 | 7 | RST | MN | MSP | MN | 1159 |  74 | 1 | 1249 |  67 | 1 |   0 |  67 |  0 | 0 |  0 | NA |\n| 14 | 7 | RST | MN | MSP | MN | 1839 |  44 | 1 | 1923 |  26 | 1 |  26 |   0 |  0 | 0 |  0 | NA |\n| 15 | 1 | RST | MN | ORD | IL | 1517 |  32 | 1 | 1630 |  17 | 1 |   2 |   0 |  0 | 0 | 15 | NA |\n| 15 | 1 | RST | MN | MSP | MN | 1005 | 245 | 1 | 1046 | 226 | 1 | 226 |   0 |  0 | 0 |  0 | NA |\n| 18 | 4 | RST | MN | MSP | MN | 1754 |  -1 | 0 | 1912 |  15 | 1 |  15 |   0 |  0 | 0 |  0 | NA |\n| 18 | 4 | RST | MN | MSP | MN | 1101 |  16 | 1 | 1157 |  15 | 1 |   0 |  15 |  0 | 0 |  0 | NA |\n| 29 | 1 | RST | MN | MSP | MN | 0639 |  39 | 1 | 0728 |  28 | 1 |  28 |   0 |  0 | 0 |  0 | NA |\n\n",
            "text/html": [
              "<table class=\"dataframe\">\n",
              "<caption>A tibble: 14 × 18</caption>\n",
              "<thead>\n",
              "\t<tr><th scope=col>DAY_OF_MONTH</th><th scope=col>DAY_OF_WEEK</th><th scope=col>ORIGIN</th><th scope=col>ORIGIN_STATE_ABR</th><th scope=col>DEST</th><th scope=col>DEST_STATE_ABR</th><th scope=col>DEP_TIME</th><th scope=col>DEP_DELAY</th><th scope=col>DEP_DEL15</th><th scope=col>ARR_TIME</th><th scope=col>ARR_DELAY</th><th scope=col>ARR_DEL15</th><th scope=col>CARRIER_DELAY</th><th scope=col>WEATHER_DELAY</th><th scope=col>NAS_DELAY</th><th scope=col>SECURITY_DELAY</th><th scope=col>LATE_AIRCRAFT_DELAY</th><th scope=col>...18</th></tr>\n",
              "\t<tr><th scope=col>&lt;dbl&gt;</th><th scope=col>&lt;dbl&gt;</th><th scope=col>&lt;chr&gt;</th><th scope=col>&lt;chr&gt;</th><th scope=col>&lt;chr&gt;</th><th scope=col>&lt;chr&gt;</th><th scope=col>&lt;chr&gt;</th><th scope=col>&lt;dbl&gt;</th><th scope=col>&lt;dbl&gt;</th><th scope=col>&lt;chr&gt;</th><th scope=col>&lt;dbl&gt;</th><th scope=col>&lt;dbl&gt;</th><th scope=col>&lt;dbl&gt;</th><th scope=col>&lt;dbl&gt;</th><th scope=col>&lt;dbl&gt;</th><th scope=col>&lt;dbl&gt;</th><th scope=col>&lt;dbl&gt;</th><th scope=col>&lt;lgl&gt;</th></tr>\n",
              "</thead>\n",
              "<tbody>\n",
              "\t<tr><td> 4</td><td>4</td><td>RST</td><td>MN</td><td>ORD</td><td>IL</td><td>1618</td><td> 93</td><td>1</td><td>1733</td><td> 80</td><td>1</td><td>  3</td><td>  0</td><td> 0</td><td>0</td><td>77</td><td>NA</td></tr>\n",
              "\t<tr><td> 7</td><td>7</td><td>RST</td><td>MN</td><td>MSP</td><td>MN</td><td>1911</td><td> 76</td><td>1</td><td>1959</td><td> 62</td><td>1</td><td> 62</td><td>  0</td><td> 0</td><td>0</td><td> 0</td><td>NA</td></tr>\n",
              "\t<tr><td> 9</td><td>2</td><td>RST</td><td>MN</td><td>ORD</td><td>IL</td><td>1516</td><td>299</td><td>1</td><td>1630</td><td>285</td><td>1</td><td>285</td><td>  0</td><td> 0</td><td>0</td><td> 0</td><td>NA</td></tr>\n",
              "\t<tr><td>11</td><td>4</td><td>RST</td><td>MN</td><td>ATL</td><td>GA</td><td>1644</td><td> -1</td><td>0</td><td>2028</td><td> 30</td><td>1</td><td>  0</td><td>  0</td><td>30</td><td>0</td><td> 0</td><td>NA</td></tr>\n",
              "\t<tr><td>12</td><td>5</td><td>RST</td><td>MN</td><td>MSP</td><td>MN</td><td>0554</td><td> -6</td><td>0</td><td>0715</td><td> 15</td><td>1</td><td> 15</td><td>  0</td><td> 0</td><td>0</td><td> 0</td><td>NA</td></tr>\n",
              "\t<tr><td>12</td><td>5</td><td>RST</td><td>MN</td><td>ORD</td><td>IL</td><td>1009</td><td> -8</td><td>0</td><td>1215</td><td> 30</td><td>1</td><td>  0</td><td>  0</td><td>30</td><td>0</td><td> 0</td><td>NA</td></tr>\n",
              "\t<tr><td>13</td><td>6</td><td>RST</td><td>MN</td><td>MSP</td><td>MN</td><td>1500</td><td>255</td><td>1</td><td>1549</td><td>247</td><td>1</td><td>  0</td><td>247</td><td> 0</td><td>0</td><td> 0</td><td>NA</td></tr>\n",
              "\t<tr><td>14</td><td>7</td><td>RST</td><td>MN</td><td>MSP</td><td>MN</td><td>1159</td><td> 74</td><td>1</td><td>1249</td><td> 67</td><td>1</td><td>  0</td><td> 67</td><td> 0</td><td>0</td><td> 0</td><td>NA</td></tr>\n",
              "\t<tr><td>14</td><td>7</td><td>RST</td><td>MN</td><td>MSP</td><td>MN</td><td>1839</td><td> 44</td><td>1</td><td>1923</td><td> 26</td><td>1</td><td> 26</td><td>  0</td><td> 0</td><td>0</td><td> 0</td><td>NA</td></tr>\n",
              "\t<tr><td>15</td><td>1</td><td>RST</td><td>MN</td><td>ORD</td><td>IL</td><td>1517</td><td> 32</td><td>1</td><td>1630</td><td> 17</td><td>1</td><td>  2</td><td>  0</td><td> 0</td><td>0</td><td>15</td><td>NA</td></tr>\n",
              "\t<tr><td>15</td><td>1</td><td>RST</td><td>MN</td><td>MSP</td><td>MN</td><td>1005</td><td>245</td><td>1</td><td>1046</td><td>226</td><td>1</td><td>226</td><td>  0</td><td> 0</td><td>0</td><td> 0</td><td>NA</td></tr>\n",
              "\t<tr><td>18</td><td>4</td><td>RST</td><td>MN</td><td>MSP</td><td>MN</td><td>1754</td><td> -1</td><td>0</td><td>1912</td><td> 15</td><td>1</td><td> 15</td><td>  0</td><td> 0</td><td>0</td><td> 0</td><td>NA</td></tr>\n",
              "\t<tr><td>18</td><td>4</td><td>RST</td><td>MN</td><td>MSP</td><td>MN</td><td>1101</td><td> 16</td><td>1</td><td>1157</td><td> 15</td><td>1</td><td>  0</td><td> 15</td><td> 0</td><td>0</td><td> 0</td><td>NA</td></tr>\n",
              "\t<tr><td>29</td><td>1</td><td>RST</td><td>MN</td><td>MSP</td><td>MN</td><td>0639</td><td> 39</td><td>1</td><td>0728</td><td> 28</td><td>1</td><td> 28</td><td>  0</td><td> 0</td><td>0</td><td> 0</td><td>NA</td></tr>\n",
              "</tbody>\n",
              "</table>\n"
            ]
          },
          "metadata": {}
        }
      ]
    },
    {
      "cell_type": "markdown",
      "metadata": {
        "id": "gcyHpeCdfyzs"
      },
      "source": [
        "The average carrier delay can be computed as follows.\n"
      ]
    },
    {
      "cell_type": "code",
      "metadata": {
        "colab": {
          "base_uri": "https://localhost:8080/",
          "height": 129
        },
        "id": "nDbZLYhDfHEg",
        "outputId": "d699d33b-5d58-4110-b9c5-555248f3052d"
      },
      "source": [
        "#Getting the average\n",
        "(\n",
        "  Ontime\n",
        "  %>% filter(ORIGIN == \"RST\")\n",
        "  %>% drop_na(CARRIER_DELAY)\n",
        "  %>% summarize(Avg_Carrier_Delay = mean(CARRIER_DELAY)) \n",
        " ) \n"
      ],
      "execution_count": 63,
      "outputs": [
        {
          "output_type": "display_data",
          "data": {
            "text/plain": [
              "  Avg_Carrier_Delay\n",
              "1 47.28571         "
            ],
            "text/latex": "A tibble: 1 × 1\n\\begin{tabular}{l}\n Avg\\_Carrier\\_Delay\\\\\n <dbl>\\\\\n\\hline\n\t 47.28571\\\\\n\\end{tabular}\n",
            "text/markdown": "\nA tibble: 1 × 1\n\n| Avg_Carrier_Delay &lt;dbl&gt; |\n|---|\n| 47.28571 |\n\n",
            "text/html": [
              "<table class=\"dataframe\">\n",
              "<caption>A tibble: 1 × 1</caption>\n",
              "<thead>\n",
              "\t<tr><th scope=col>Avg_Carrier_Delay</th></tr>\n",
              "\t<tr><th scope=col>&lt;dbl&gt;</th></tr>\n",
              "</thead>\n",
              "<tbody>\n",
              "\t<tr><td>47.28571</td></tr>\n",
              "</tbody>\n",
              "</table>\n"
            ]
          },
          "metadata": {}
        }
      ]
    },
    {
      "cell_type": "markdown",
      "metadata": {
        "id": "nVbFzY9tgePI"
      },
      "source": [
        "Question: Why do these average calcuations not agree?  "
      ]
    },
    {
      "cell_type": "code",
      "metadata": {
        "colab": {
          "base_uri": "https://localhost:8080/",
          "height": 129
        },
        "id": "9CmpRgX7geWO",
        "outputId": "01258405-eb98-4a8f-afa3-622b88529df9"
      },
      "source": [
        "#Fixing the problem...\n",
        "(\n",
        "  Ontime\n",
        "  %>% filter(ORIGIN == \"RST\")\n",
        "  %>% drop_na(CARRIER_DELAY)\n",
        "  %>% filter(CARRIER_DELAY > 0)\n",
        "  %>% summarize(Avg_Carrier_Delay = mean(CARRIER_DELAY)) \n",
        " ) \n"
      ],
      "execution_count": 64,
      "outputs": [
        {
          "output_type": "display_data",
          "data": {
            "text/plain": [
              "  Avg_Carrier_Delay\n",
              "1 73.55556         "
            ],
            "text/latex": "A tibble: 1 × 1\n\\begin{tabular}{l}\n Avg\\_Carrier\\_Delay\\\\\n <dbl>\\\\\n\\hline\n\t 73.55556\\\\\n\\end{tabular}\n",
            "text/markdown": "\nA tibble: 1 × 1\n\n| Avg_Carrier_Delay &lt;dbl&gt; |\n|---|\n| 73.55556 |\n\n",
            "text/html": [
              "<table class=\"dataframe\">\n",
              "<caption>A tibble: 1 × 1</caption>\n",
              "<thead>\n",
              "\t<tr><th scope=col>Avg_Carrier_Delay</th></tr>\n",
              "\t<tr><th scope=col>&lt;dbl&gt;</th></tr>\n",
              "</thead>\n",
              "<tbody>\n",
              "\t<tr><td>73.55556</td></tr>\n",
              "</tbody>\n",
              "</table>\n"
            ]
          },
          "metadata": {}
        }
      ]
    },
    {
      "cell_type": "markdown",
      "metadata": {
        "id": "mx51TRCzgoXl"
      },
      "source": [
        "Question:  What does the followign code do?  "
      ]
    },
    {
      "cell_type": "code",
      "metadata": {
        "colab": {
          "base_uri": "https://localhost:8080/",
          "height": 292
        },
        "id": "BPOa9ajkgogG",
        "outputId": "2c42fbcb-49c2-43bd-9cbe-0267e411d4fa"
      },
      "source": [
        "#Getting only RST\n",
        "(\n",
        "  Ontime\n",
        "  %>% filter(ORIGIN == \"RST\")\n",
        "  %>% drop_na(CARRIER_DELAY)\n",
        "  %>% filter(CARRIER_DELAY == 0)\n",
        " ) -> RST_NoNA_CarrierDelay_is_0\n",
        "\n",
        "dim(RST_NoNA_CarrierDelay_is_0)\n",
        "head(RST_NoNA_CarrierDelay_is_0,12)"
      ],
      "execution_count": 65,
      "outputs": [
        {
          "output_type": "display_data",
          "data": {
            "text/plain": [
              "[1]  5 18"
            ],
            "text/latex": "\\begin{enumerate*}\n\\item 5\n\\item 18\n\\end{enumerate*}\n",
            "text/markdown": "1. 5\n2. 18\n\n\n",
            "text/html": [
              "<style>\n",
              ".list-inline {list-style: none; margin:0; padding: 0}\n",
              ".list-inline>li {display: inline-block}\n",
              ".list-inline>li:not(:last-child)::after {content: \"\\00b7\"; padding: 0 .5ex}\n",
              "</style>\n",
              "<ol class=list-inline><li>5</li><li>18</li></ol>\n"
            ]
          },
          "metadata": {}
        },
        {
          "output_type": "display_data",
          "data": {
            "text/plain": [
              "  DAY_OF_MONTH DAY_OF_WEEK ORIGIN ORIGIN_STATE_ABR DEST DEST_STATE_ABR DEP_TIME\n",
              "1 11           4           RST    MN               ATL  GA             1644    \n",
              "2 12           5           RST    MN               ORD  IL             1009    \n",
              "3 13           6           RST    MN               MSP  MN             1500    \n",
              "4 14           7           RST    MN               MSP  MN             1159    \n",
              "5 18           4           RST    MN               MSP  MN             1101    \n",
              "  DEP_DELAY DEP_DEL15 ARR_TIME ARR_DELAY ARR_DEL15 CARRIER_DELAY WEATHER_DELAY\n",
              "1  -1       0         2028      30       1         0               0          \n",
              "2  -8       0         1215      30       1         0               0          \n",
              "3 255       1         1549     247       1         0             247          \n",
              "4  74       1         1249      67       1         0              67          \n",
              "5  16       1         1157      15       1         0              15          \n",
              "  NAS_DELAY SECURITY_DELAY LATE_AIRCRAFT_DELAY ...18\n",
              "1 30        0              0                   NA   \n",
              "2 30        0              0                   NA   \n",
              "3  0        0              0                   NA   \n",
              "4  0        0              0                   NA   \n",
              "5  0        0              0                   NA   "
            ],
            "text/latex": "A tibble: 5 × 18\n\\begin{tabular}{llllllllllllllllll}\n DAY\\_OF\\_MONTH & DAY\\_OF\\_WEEK & ORIGIN & ORIGIN\\_STATE\\_ABR & DEST & DEST\\_STATE\\_ABR & DEP\\_TIME & DEP\\_DELAY & DEP\\_DEL15 & ARR\\_TIME & ARR\\_DELAY & ARR\\_DEL15 & CARRIER\\_DELAY & WEATHER\\_DELAY & NAS\\_DELAY & SECURITY\\_DELAY & LATE\\_AIRCRAFT\\_DELAY & ...18\\\\\n <dbl> & <dbl> & <chr> & <chr> & <chr> & <chr> & <chr> & <dbl> & <dbl> & <chr> & <dbl> & <dbl> & <dbl> & <dbl> & <dbl> & <dbl> & <dbl> & <lgl>\\\\\n\\hline\n\t 11 & 4 & RST & MN & ATL & GA & 1644 &  -1 & 0 & 2028 &  30 & 1 & 0 &   0 & 30 & 0 & 0 & NA\\\\\n\t 12 & 5 & RST & MN & ORD & IL & 1009 &  -8 & 0 & 1215 &  30 & 1 & 0 &   0 & 30 & 0 & 0 & NA\\\\\n\t 13 & 6 & RST & MN & MSP & MN & 1500 & 255 & 1 & 1549 & 247 & 1 & 0 & 247 &  0 & 0 & 0 & NA\\\\\n\t 14 & 7 & RST & MN & MSP & MN & 1159 &  74 & 1 & 1249 &  67 & 1 & 0 &  67 &  0 & 0 & 0 & NA\\\\\n\t 18 & 4 & RST & MN & MSP & MN & 1101 &  16 & 1 & 1157 &  15 & 1 & 0 &  15 &  0 & 0 & 0 & NA\\\\\n\\end{tabular}\n",
            "text/markdown": "\nA tibble: 5 × 18\n\n| DAY_OF_MONTH &lt;dbl&gt; | DAY_OF_WEEK &lt;dbl&gt; | ORIGIN &lt;chr&gt; | ORIGIN_STATE_ABR &lt;chr&gt; | DEST &lt;chr&gt; | DEST_STATE_ABR &lt;chr&gt; | DEP_TIME &lt;chr&gt; | DEP_DELAY &lt;dbl&gt; | DEP_DEL15 &lt;dbl&gt; | ARR_TIME &lt;chr&gt; | ARR_DELAY &lt;dbl&gt; | ARR_DEL15 &lt;dbl&gt; | CARRIER_DELAY &lt;dbl&gt; | WEATHER_DELAY &lt;dbl&gt; | NAS_DELAY &lt;dbl&gt; | SECURITY_DELAY &lt;dbl&gt; | LATE_AIRCRAFT_DELAY &lt;dbl&gt; | ...18 &lt;lgl&gt; |\n|---|---|---|---|---|---|---|---|---|---|---|---|---|---|---|---|---|---|\n| 11 | 4 | RST | MN | ATL | GA | 1644 |  -1 | 0 | 2028 |  30 | 1 | 0 |   0 | 30 | 0 | 0 | NA |\n| 12 | 5 | RST | MN | ORD | IL | 1009 |  -8 | 0 | 1215 |  30 | 1 | 0 |   0 | 30 | 0 | 0 | NA |\n| 13 | 6 | RST | MN | MSP | MN | 1500 | 255 | 1 | 1549 | 247 | 1 | 0 | 247 |  0 | 0 | 0 | NA |\n| 14 | 7 | RST | MN | MSP | MN | 1159 |  74 | 1 | 1249 |  67 | 1 | 0 |  67 |  0 | 0 | 0 | NA |\n| 18 | 4 | RST | MN | MSP | MN | 1101 |  16 | 1 | 1157 |  15 | 1 | 0 |  15 |  0 | 0 | 0 | NA |\n\n",
            "text/html": [
              "<table class=\"dataframe\">\n",
              "<caption>A tibble: 5 × 18</caption>\n",
              "<thead>\n",
              "\t<tr><th scope=col>DAY_OF_MONTH</th><th scope=col>DAY_OF_WEEK</th><th scope=col>ORIGIN</th><th scope=col>ORIGIN_STATE_ABR</th><th scope=col>DEST</th><th scope=col>DEST_STATE_ABR</th><th scope=col>DEP_TIME</th><th scope=col>DEP_DELAY</th><th scope=col>DEP_DEL15</th><th scope=col>ARR_TIME</th><th scope=col>ARR_DELAY</th><th scope=col>ARR_DEL15</th><th scope=col>CARRIER_DELAY</th><th scope=col>WEATHER_DELAY</th><th scope=col>NAS_DELAY</th><th scope=col>SECURITY_DELAY</th><th scope=col>LATE_AIRCRAFT_DELAY</th><th scope=col>...18</th></tr>\n",
              "\t<tr><th scope=col>&lt;dbl&gt;</th><th scope=col>&lt;dbl&gt;</th><th scope=col>&lt;chr&gt;</th><th scope=col>&lt;chr&gt;</th><th scope=col>&lt;chr&gt;</th><th scope=col>&lt;chr&gt;</th><th scope=col>&lt;chr&gt;</th><th scope=col>&lt;dbl&gt;</th><th scope=col>&lt;dbl&gt;</th><th scope=col>&lt;chr&gt;</th><th scope=col>&lt;dbl&gt;</th><th scope=col>&lt;dbl&gt;</th><th scope=col>&lt;dbl&gt;</th><th scope=col>&lt;dbl&gt;</th><th scope=col>&lt;dbl&gt;</th><th scope=col>&lt;dbl&gt;</th><th scope=col>&lt;dbl&gt;</th><th scope=col>&lt;lgl&gt;</th></tr>\n",
              "</thead>\n",
              "<tbody>\n",
              "\t<tr><td>11</td><td>4</td><td>RST</td><td>MN</td><td>ATL</td><td>GA</td><td>1644</td><td> -1</td><td>0</td><td>2028</td><td> 30</td><td>1</td><td>0</td><td>  0</td><td>30</td><td>0</td><td>0</td><td>NA</td></tr>\n",
              "\t<tr><td>12</td><td>5</td><td>RST</td><td>MN</td><td>ORD</td><td>IL</td><td>1009</td><td> -8</td><td>0</td><td>1215</td><td> 30</td><td>1</td><td>0</td><td>  0</td><td>30</td><td>0</td><td>0</td><td>NA</td></tr>\n",
              "\t<tr><td>13</td><td>6</td><td>RST</td><td>MN</td><td>MSP</td><td>MN</td><td>1500</td><td>255</td><td>1</td><td>1549</td><td>247</td><td>1</td><td>0</td><td>247</td><td> 0</td><td>0</td><td>0</td><td>NA</td></tr>\n",
              "\t<tr><td>14</td><td>7</td><td>RST</td><td>MN</td><td>MSP</td><td>MN</td><td>1159</td><td> 74</td><td>1</td><td>1249</td><td> 67</td><td>1</td><td>0</td><td> 67</td><td> 0</td><td>0</td><td>0</td><td>NA</td></tr>\n",
              "\t<tr><td>18</td><td>4</td><td>RST</td><td>MN</td><td>MSP</td><td>MN</td><td>1101</td><td> 16</td><td>1</td><td>1157</td><td> 15</td><td>1</td><td>0</td><td> 15</td><td> 0</td><td>0</td><td>0</td><td>NA</td></tr>\n",
              "</tbody>\n",
              "</table>\n"
            ]
          },
          "metadata": {}
        }
      ]
    },
    {
      "cell_type": "markdown",
      "metadata": {
        "id": "oMK2w1NhhUw3"
      },
      "source": [
        "Question:  What does the followign code do?  "
      ]
    },
    {
      "cell_type": "code",
      "metadata": {
        "colab": {
          "base_uri": "https://localhost:8080/",
          "height": 135
        },
        "id": "TK1fQ29EhU3f",
        "outputId": "41151f46-1e8e-45cd-91da-8be7aa1bb990"
      },
      "source": [
        "#Getting only RST\n",
        "(\n",
        "  Ontime\n",
        "  %>% filter(ORIGIN == \"RST\")\n",
        "  %>% drop_na(CARRIER_DELAY)\n",
        "  %>% filter(CARRIER_DELAY > 0, WEATHER_DELAY > 0)\n",
        " ) -> RST_NoNA_CarrierDelay_Above0_and_WeatherDelay_Above0\n",
        "\n",
        "dim(RST_NoNA_CarrierDelay_Above0_and_WeatherDelay_Above0)\n",
        "head(RST_NoNA_CarrierDelay_Above0_and_WeatherDelay_Above0,12)"
      ],
      "execution_count": 68,
      "outputs": [
        {
          "output_type": "display_data",
          "data": {
            "text/plain": [
              "[1]  0 18"
            ],
            "text/latex": "\\begin{enumerate*}\n\\item 0\n\\item 18\n\\end{enumerate*}\n",
            "text/markdown": "1. 0\n2. 18\n\n\n",
            "text/html": [
              "<style>\n",
              ".list-inline {list-style: none; margin:0; padding: 0}\n",
              ".list-inline>li {display: inline-block}\n",
              ".list-inline>li:not(:last-child)::after {content: \"\\00b7\"; padding: 0 .5ex}\n",
              "</style>\n",
              "<ol class=list-inline><li>0</li><li>18</li></ol>\n"
            ]
          },
          "metadata": {}
        },
        {
          "output_type": "display_data",
          "data": {
            "text/plain": [
              "     DAY_OF_MONTH DAY_OF_WEEK ORIGIN ORIGIN_STATE_ABR DEST DEST_STATE_ABR\n",
              "     DEP_TIME DEP_DELAY DEP_DEL15 ARR_TIME ARR_DELAY ARR_DEL15 CARRIER_DELAY\n",
              "     WEATHER_DELAY NAS_DELAY SECURITY_DELAY LATE_AIRCRAFT_DELAY ...18"
            ],
            "text/latex": "A tibble: 0 × 18\n\\begin{tabular}{llllllllllllllllll}\n DAY\\_OF\\_MONTH & DAY\\_OF\\_WEEK & ORIGIN & ORIGIN\\_STATE\\_ABR & DEST & DEST\\_STATE\\_ABR & DEP\\_TIME & DEP\\_DELAY & DEP\\_DEL15 & ARR\\_TIME & ARR\\_DELAY & ARR\\_DEL15 & CARRIER\\_DELAY & WEATHER\\_DELAY & NAS\\_DELAY & SECURITY\\_DELAY & LATE\\_AIRCRAFT\\_DELAY & ...18\\\\\n <dbl> & <dbl> & <chr> & <chr> & <chr> & <chr> & <chr> & <dbl> & <dbl> & <chr> & <dbl> & <dbl> & <dbl> & <dbl> & <dbl> & <dbl> & <dbl> & <lgl>\\\\\n\\hline\n\\end{tabular}\n",
            "text/markdown": "\nA tibble: 0 × 18\n\n| DAY_OF_MONTH &lt;dbl&gt; | DAY_OF_WEEK &lt;dbl&gt; | ORIGIN &lt;chr&gt; | ORIGIN_STATE_ABR &lt;chr&gt; | DEST &lt;chr&gt; | DEST_STATE_ABR &lt;chr&gt; | DEP_TIME &lt;chr&gt; | DEP_DELAY &lt;dbl&gt; | DEP_DEL15 &lt;dbl&gt; | ARR_TIME &lt;chr&gt; | ARR_DELAY &lt;dbl&gt; | ARR_DEL15 &lt;dbl&gt; | CARRIER_DELAY &lt;dbl&gt; | WEATHER_DELAY &lt;dbl&gt; | NAS_DELAY &lt;dbl&gt; | SECURITY_DELAY &lt;dbl&gt; | LATE_AIRCRAFT_DELAY &lt;dbl&gt; | ...18 &lt;lgl&gt; |\n|---|---|---|---|---|---|---|---|---|---|---|---|---|---|---|---|---|---|\n\n",
            "text/html": [
              "<table class=\"dataframe\">\n",
              "<caption>A tibble: 0 × 18</caption>\n",
              "<thead>\n",
              "\t<tr><th scope=col>DAY_OF_MONTH</th><th scope=col>DAY_OF_WEEK</th><th scope=col>ORIGIN</th><th scope=col>ORIGIN_STATE_ABR</th><th scope=col>DEST</th><th scope=col>DEST_STATE_ABR</th><th scope=col>DEP_TIME</th><th scope=col>DEP_DELAY</th><th scope=col>DEP_DEL15</th><th scope=col>ARR_TIME</th><th scope=col>ARR_DELAY</th><th scope=col>ARR_DEL15</th><th scope=col>CARRIER_DELAY</th><th scope=col>WEATHER_DELAY</th><th scope=col>NAS_DELAY</th><th scope=col>SECURITY_DELAY</th><th scope=col>LATE_AIRCRAFT_DELAY</th><th scope=col>...18</th></tr>\n",
              "\t<tr><th scope=col>&lt;dbl&gt;</th><th scope=col>&lt;dbl&gt;</th><th scope=col>&lt;chr&gt;</th><th scope=col>&lt;chr&gt;</th><th scope=col>&lt;chr&gt;</th><th scope=col>&lt;chr&gt;</th><th scope=col>&lt;chr&gt;</th><th scope=col>&lt;dbl&gt;</th><th scope=col>&lt;dbl&gt;</th><th scope=col>&lt;chr&gt;</th><th scope=col>&lt;dbl&gt;</th><th scope=col>&lt;dbl&gt;</th><th scope=col>&lt;dbl&gt;</th><th scope=col>&lt;dbl&gt;</th><th scope=col>&lt;dbl&gt;</th><th scope=col>&lt;dbl&gt;</th><th scope=col>&lt;dbl&gt;</th><th scope=col>&lt;lgl&gt;</th></tr>\n",
              "</thead>\n",
              "<tbody>\n",
              "</tbody>\n",
              "</table>\n"
            ]
          },
          "metadata": {}
        }
      ]
    },
    {
      "cell_type": "markdown",
      "metadata": {
        "id": "T8LJvBxBh7Bo"
      },
      "source": [
        "Question:  What does the followign code do?  "
      ]
    },
    {
      "cell_type": "code",
      "metadata": {
        "colab": {
          "base_uri": "https://localhost:8080/",
          "height": 512
        },
        "id": "65cZtMiRh7JC",
        "outputId": "d1f73fb3-c8aa-4ee7-f651-3cd3871a2563"
      },
      "source": [
        "#Getting only RST\n",
        "(\n",
        "  Ontime\n",
        "  %>% filter(ORIGIN == \"RST\")\n",
        "  %>% drop_na(CARRIER_DELAY)\n",
        "  %>% filter(CARRIER_DELAY > 0 | WEATHER_DELAY > 0)\n",
        " ) -> RST_NoNA_CarrierDelay_Above0_or_WeatherDelay_Above0\n",
        "\n",
        "dim(RST_NoNA_CarrierDelay_Above0_or_WeatherDelay_Above0)\n",
        "head(RST_NoNA_CarrierDelay_Above0_or_WeatherDelay_Above0,12)"
      ],
      "execution_count": 69,
      "outputs": [
        {
          "output_type": "display_data",
          "data": {
            "text/plain": [
              "[1] 12 18"
            ],
            "text/latex": "\\begin{enumerate*}\n\\item 12\n\\item 18\n\\end{enumerate*}\n",
            "text/markdown": "1. 12\n2. 18\n\n\n",
            "text/html": [
              "<style>\n",
              ".list-inline {list-style: none; margin:0; padding: 0}\n",
              ".list-inline>li {display: inline-block}\n",
              ".list-inline>li:not(:last-child)::after {content: \"\\00b7\"; padding: 0 .5ex}\n",
              "</style>\n",
              "<ol class=list-inline><li>12</li><li>18</li></ol>\n"
            ]
          },
          "metadata": {}
        },
        {
          "output_type": "display_data",
          "data": {
            "text/plain": [
              "   DAY_OF_MONTH DAY_OF_WEEK ORIGIN ORIGIN_STATE_ABR DEST DEST_STATE_ABR\n",
              "1   4           4           RST    MN               ORD  IL            \n",
              "2   7           7           RST    MN               MSP  MN            \n",
              "3   9           2           RST    MN               ORD  IL            \n",
              "4  12           5           RST    MN               MSP  MN            \n",
              "5  13           6           RST    MN               MSP  MN            \n",
              "6  14           7           RST    MN               MSP  MN            \n",
              "7  14           7           RST    MN               MSP  MN            \n",
              "8  15           1           RST    MN               ORD  IL            \n",
              "9  15           1           RST    MN               MSP  MN            \n",
              "10 18           4           RST    MN               MSP  MN            \n",
              "11 18           4           RST    MN               MSP  MN            \n",
              "12 29           1           RST    MN               MSP  MN            \n",
              "   DEP_TIME DEP_DELAY DEP_DEL15 ARR_TIME ARR_DELAY ARR_DEL15 CARRIER_DELAY\n",
              "1  1618      93       1         1733      80       1           3          \n",
              "2  1911      76       1         1959      62       1          62          \n",
              "3  1516     299       1         1630     285       1         285          \n",
              "4  0554      -6       0         0715      15       1          15          \n",
              "5  1500     255       1         1549     247       1           0          \n",
              "6  1159      74       1         1249      67       1           0          \n",
              "7  1839      44       1         1923      26       1          26          \n",
              "8  1517      32       1         1630      17       1           2          \n",
              "9  1005     245       1         1046     226       1         226          \n",
              "10 1754      -1       0         1912      15       1          15          \n",
              "11 1101      16       1         1157      15       1           0          \n",
              "12 0639      39       1         0728      28       1          28          \n",
              "   WEATHER_DELAY NAS_DELAY SECURITY_DELAY LATE_AIRCRAFT_DELAY ...18\n",
              "1    0           0         0              77                  NA   \n",
              "2    0           0         0               0                  NA   \n",
              "3    0           0         0               0                  NA   \n",
              "4    0           0         0               0                  NA   \n",
              "5  247           0         0               0                  NA   \n",
              "6   67           0         0               0                  NA   \n",
              "7    0           0         0               0                  NA   \n",
              "8    0           0         0              15                  NA   \n",
              "9    0           0         0               0                  NA   \n",
              "10   0           0         0               0                  NA   \n",
              "11  15           0         0               0                  NA   \n",
              "12   0           0         0               0                  NA   "
            ],
            "text/latex": "A tibble: 12 × 18\n\\begin{tabular}{llllllllllllllllll}\n DAY\\_OF\\_MONTH & DAY\\_OF\\_WEEK & ORIGIN & ORIGIN\\_STATE\\_ABR & DEST & DEST\\_STATE\\_ABR & DEP\\_TIME & DEP\\_DELAY & DEP\\_DEL15 & ARR\\_TIME & ARR\\_DELAY & ARR\\_DEL15 & CARRIER\\_DELAY & WEATHER\\_DELAY & NAS\\_DELAY & SECURITY\\_DELAY & LATE\\_AIRCRAFT\\_DELAY & ...18\\\\\n <dbl> & <dbl> & <chr> & <chr> & <chr> & <chr> & <chr> & <dbl> & <dbl> & <chr> & <dbl> & <dbl> & <dbl> & <dbl> & <dbl> & <dbl> & <dbl> & <lgl>\\\\\n\\hline\n\t  4 & 4 & RST & MN & ORD & IL & 1618 &  93 & 1 & 1733 &  80 & 1 &   3 &   0 & 0 & 0 & 77 & NA\\\\\n\t  7 & 7 & RST & MN & MSP & MN & 1911 &  76 & 1 & 1959 &  62 & 1 &  62 &   0 & 0 & 0 &  0 & NA\\\\\n\t  9 & 2 & RST & MN & ORD & IL & 1516 & 299 & 1 & 1630 & 285 & 1 & 285 &   0 & 0 & 0 &  0 & NA\\\\\n\t 12 & 5 & RST & MN & MSP & MN & 0554 &  -6 & 0 & 0715 &  15 & 1 &  15 &   0 & 0 & 0 &  0 & NA\\\\\n\t 13 & 6 & RST & MN & MSP & MN & 1500 & 255 & 1 & 1549 & 247 & 1 &   0 & 247 & 0 & 0 &  0 & NA\\\\\n\t 14 & 7 & RST & MN & MSP & MN & 1159 &  74 & 1 & 1249 &  67 & 1 &   0 &  67 & 0 & 0 &  0 & NA\\\\\n\t 14 & 7 & RST & MN & MSP & MN & 1839 &  44 & 1 & 1923 &  26 & 1 &  26 &   0 & 0 & 0 &  0 & NA\\\\\n\t 15 & 1 & RST & MN & ORD & IL & 1517 &  32 & 1 & 1630 &  17 & 1 &   2 &   0 & 0 & 0 & 15 & NA\\\\\n\t 15 & 1 & RST & MN & MSP & MN & 1005 & 245 & 1 & 1046 & 226 & 1 & 226 &   0 & 0 & 0 &  0 & NA\\\\\n\t 18 & 4 & RST & MN & MSP & MN & 1754 &  -1 & 0 & 1912 &  15 & 1 &  15 &   0 & 0 & 0 &  0 & NA\\\\\n\t 18 & 4 & RST & MN & MSP & MN & 1101 &  16 & 1 & 1157 &  15 & 1 &   0 &  15 & 0 & 0 &  0 & NA\\\\\n\t 29 & 1 & RST & MN & MSP & MN & 0639 &  39 & 1 & 0728 &  28 & 1 &  28 &   0 & 0 & 0 &  0 & NA\\\\\n\\end{tabular}\n",
            "text/markdown": "\nA tibble: 12 × 18\n\n| DAY_OF_MONTH &lt;dbl&gt; | DAY_OF_WEEK &lt;dbl&gt; | ORIGIN &lt;chr&gt; | ORIGIN_STATE_ABR &lt;chr&gt; | DEST &lt;chr&gt; | DEST_STATE_ABR &lt;chr&gt; | DEP_TIME &lt;chr&gt; | DEP_DELAY &lt;dbl&gt; | DEP_DEL15 &lt;dbl&gt; | ARR_TIME &lt;chr&gt; | ARR_DELAY &lt;dbl&gt; | ARR_DEL15 &lt;dbl&gt; | CARRIER_DELAY &lt;dbl&gt; | WEATHER_DELAY &lt;dbl&gt; | NAS_DELAY &lt;dbl&gt; | SECURITY_DELAY &lt;dbl&gt; | LATE_AIRCRAFT_DELAY &lt;dbl&gt; | ...18 &lt;lgl&gt; |\n|---|---|---|---|---|---|---|---|---|---|---|---|---|---|---|---|---|---|\n|  4 | 4 | RST | MN | ORD | IL | 1618 |  93 | 1 | 1733 |  80 | 1 |   3 |   0 | 0 | 0 | 77 | NA |\n|  7 | 7 | RST | MN | MSP | MN | 1911 |  76 | 1 | 1959 |  62 | 1 |  62 |   0 | 0 | 0 |  0 | NA |\n|  9 | 2 | RST | MN | ORD | IL | 1516 | 299 | 1 | 1630 | 285 | 1 | 285 |   0 | 0 | 0 |  0 | NA |\n| 12 | 5 | RST | MN | MSP | MN | 0554 |  -6 | 0 | 0715 |  15 | 1 |  15 |   0 | 0 | 0 |  0 | NA |\n| 13 | 6 | RST | MN | MSP | MN | 1500 | 255 | 1 | 1549 | 247 | 1 |   0 | 247 | 0 | 0 |  0 | NA |\n| 14 | 7 | RST | MN | MSP | MN | 1159 |  74 | 1 | 1249 |  67 | 1 |   0 |  67 | 0 | 0 |  0 | NA |\n| 14 | 7 | RST | MN | MSP | MN | 1839 |  44 | 1 | 1923 |  26 | 1 |  26 |   0 | 0 | 0 |  0 | NA |\n| 15 | 1 | RST | MN | ORD | IL | 1517 |  32 | 1 | 1630 |  17 | 1 |   2 |   0 | 0 | 0 | 15 | NA |\n| 15 | 1 | RST | MN | MSP | MN | 1005 | 245 | 1 | 1046 | 226 | 1 | 226 |   0 | 0 | 0 |  0 | NA |\n| 18 | 4 | RST | MN | MSP | MN | 1754 |  -1 | 0 | 1912 |  15 | 1 |  15 |   0 | 0 | 0 |  0 | NA |\n| 18 | 4 | RST | MN | MSP | MN | 1101 |  16 | 1 | 1157 |  15 | 1 |   0 |  15 | 0 | 0 |  0 | NA |\n| 29 | 1 | RST | MN | MSP | MN | 0639 |  39 | 1 | 0728 |  28 | 1 |  28 |   0 | 0 | 0 |  0 | NA |\n\n",
            "text/html": [
              "<table class=\"dataframe\">\n",
              "<caption>A tibble: 12 × 18</caption>\n",
              "<thead>\n",
              "\t<tr><th scope=col>DAY_OF_MONTH</th><th scope=col>DAY_OF_WEEK</th><th scope=col>ORIGIN</th><th scope=col>ORIGIN_STATE_ABR</th><th scope=col>DEST</th><th scope=col>DEST_STATE_ABR</th><th scope=col>DEP_TIME</th><th scope=col>DEP_DELAY</th><th scope=col>DEP_DEL15</th><th scope=col>ARR_TIME</th><th scope=col>ARR_DELAY</th><th scope=col>ARR_DEL15</th><th scope=col>CARRIER_DELAY</th><th scope=col>WEATHER_DELAY</th><th scope=col>NAS_DELAY</th><th scope=col>SECURITY_DELAY</th><th scope=col>LATE_AIRCRAFT_DELAY</th><th scope=col>...18</th></tr>\n",
              "\t<tr><th scope=col>&lt;dbl&gt;</th><th scope=col>&lt;dbl&gt;</th><th scope=col>&lt;chr&gt;</th><th scope=col>&lt;chr&gt;</th><th scope=col>&lt;chr&gt;</th><th scope=col>&lt;chr&gt;</th><th scope=col>&lt;chr&gt;</th><th scope=col>&lt;dbl&gt;</th><th scope=col>&lt;dbl&gt;</th><th scope=col>&lt;chr&gt;</th><th scope=col>&lt;dbl&gt;</th><th scope=col>&lt;dbl&gt;</th><th scope=col>&lt;dbl&gt;</th><th scope=col>&lt;dbl&gt;</th><th scope=col>&lt;dbl&gt;</th><th scope=col>&lt;dbl&gt;</th><th scope=col>&lt;dbl&gt;</th><th scope=col>&lt;lgl&gt;</th></tr>\n",
              "</thead>\n",
              "<tbody>\n",
              "\t<tr><td> 4</td><td>4</td><td>RST</td><td>MN</td><td>ORD</td><td>IL</td><td>1618</td><td> 93</td><td>1</td><td>1733</td><td> 80</td><td>1</td><td>  3</td><td>  0</td><td>0</td><td>0</td><td>77</td><td>NA</td></tr>\n",
              "\t<tr><td> 7</td><td>7</td><td>RST</td><td>MN</td><td>MSP</td><td>MN</td><td>1911</td><td> 76</td><td>1</td><td>1959</td><td> 62</td><td>1</td><td> 62</td><td>  0</td><td>0</td><td>0</td><td> 0</td><td>NA</td></tr>\n",
              "\t<tr><td> 9</td><td>2</td><td>RST</td><td>MN</td><td>ORD</td><td>IL</td><td>1516</td><td>299</td><td>1</td><td>1630</td><td>285</td><td>1</td><td>285</td><td>  0</td><td>0</td><td>0</td><td> 0</td><td>NA</td></tr>\n",
              "\t<tr><td>12</td><td>5</td><td>RST</td><td>MN</td><td>MSP</td><td>MN</td><td>0554</td><td> -6</td><td>0</td><td>0715</td><td> 15</td><td>1</td><td> 15</td><td>  0</td><td>0</td><td>0</td><td> 0</td><td>NA</td></tr>\n",
              "\t<tr><td>13</td><td>6</td><td>RST</td><td>MN</td><td>MSP</td><td>MN</td><td>1500</td><td>255</td><td>1</td><td>1549</td><td>247</td><td>1</td><td>  0</td><td>247</td><td>0</td><td>0</td><td> 0</td><td>NA</td></tr>\n",
              "\t<tr><td>14</td><td>7</td><td>RST</td><td>MN</td><td>MSP</td><td>MN</td><td>1159</td><td> 74</td><td>1</td><td>1249</td><td> 67</td><td>1</td><td>  0</td><td> 67</td><td>0</td><td>0</td><td> 0</td><td>NA</td></tr>\n",
              "\t<tr><td>14</td><td>7</td><td>RST</td><td>MN</td><td>MSP</td><td>MN</td><td>1839</td><td> 44</td><td>1</td><td>1923</td><td> 26</td><td>1</td><td> 26</td><td>  0</td><td>0</td><td>0</td><td> 0</td><td>NA</td></tr>\n",
              "\t<tr><td>15</td><td>1</td><td>RST</td><td>MN</td><td>ORD</td><td>IL</td><td>1517</td><td> 32</td><td>1</td><td>1630</td><td> 17</td><td>1</td><td>  2</td><td>  0</td><td>0</td><td>0</td><td>15</td><td>NA</td></tr>\n",
              "\t<tr><td>15</td><td>1</td><td>RST</td><td>MN</td><td>MSP</td><td>MN</td><td>1005</td><td>245</td><td>1</td><td>1046</td><td>226</td><td>1</td><td>226</td><td>  0</td><td>0</td><td>0</td><td> 0</td><td>NA</td></tr>\n",
              "\t<tr><td>18</td><td>4</td><td>RST</td><td>MN</td><td>MSP</td><td>MN</td><td>1754</td><td> -1</td><td>0</td><td>1912</td><td> 15</td><td>1</td><td> 15</td><td>  0</td><td>0</td><td>0</td><td> 0</td><td>NA</td></tr>\n",
              "\t<tr><td>18</td><td>4</td><td>RST</td><td>MN</td><td>MSP</td><td>MN</td><td>1101</td><td> 16</td><td>1</td><td>1157</td><td> 15</td><td>1</td><td>  0</td><td> 15</td><td>0</td><td>0</td><td> 0</td><td>NA</td></tr>\n",
              "\t<tr><td>29</td><td>1</td><td>RST</td><td>MN</td><td>MSP</td><td>MN</td><td>0639</td><td> 39</td><td>1</td><td>0728</td><td> 28</td><td>1</td><td> 28</td><td>  0</td><td>0</td><td>0</td><td> 0</td><td>NA</td></tr>\n",
              "</tbody>\n",
              "</table>\n"
            ]
          },
          "metadata": {}
        }
      ]
    },
    {
      "cell_type": "markdown",
      "source": [
        "\n",
        "\n",
        "---\n",
        "\n",
        "\n",
        "\n",
        "---\n",
        "End of Document\n"
      ],
      "metadata": {
        "id": "TBKOAWFvEa3K"
      }
    }
  ]
}