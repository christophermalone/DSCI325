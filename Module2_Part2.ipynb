{
  "nbformat": 4,
  "nbformat_minor": 0,
  "metadata": {
    "colab": {
      "name": "Module2_Part2.ipynb",
      "provenance": [],
      "collapsed_sections": [],
      "authorship_tag": "ABX9TyPniQ1ylZ1n/7edpc2Qcs1O",
      "include_colab_link": true
    },
    "kernelspec": {
      "name": "python3",
      "display_name": "Python 3"
    }
  },
  "cells": [
    {
      "cell_type": "markdown",
      "metadata": {
        "id": "view-in-github",
        "colab_type": "text"
      },
      "source": [
        "<a href=\"https://colab.research.google.com/github/christophermalone/DSCI325/blob/main/Module2_Part2.ipynb\" target=\"_parent\"><img src=\"https://colab.research.google.com/assets/colab-badge.svg\" alt=\"Open In Colab\"/></a>"
      ]
    },
    {
      "cell_type": "markdown",
      "metadata": {
        "id": "MXucbhDft3-d"
      },
      "source": [
        "# Module 2 | Part 2: Pre-processing of Data Files - Part II"
      ]
    },
    {
      "cell_type": "markdown",
      "metadata": {
        "id": "b8gqhUgX0Weu"
      },
      "source": [
        "The notebook will cover additional tasks regarding the pre-processing of a data file.  The command line stream editor SED will be used in this notebook.  SED was introduced in Module 2 | Part 1."
      ]
    },
    {
      "cell_type": "markdown",
      "metadata": {
        "id": "fOB1BNkWuTGu"
      },
      "source": [
        "<table width='100%' ><tr><td bgcolor='green'></td></tr></table>\n",
        "\n",
        "### Example 2.2.1\n",
        "\n",
        "This example uses data regarding the location and contact information for most Ski Areas/Resorts in North America. The data file was obtained from the Point-of-Interest website. \n",
        "\n",
        "<i>Data Source</i>: http://www.poi-factory.com/\n",
        "\n",
        "<table width='100%' ><tr><td bgcolor='green'></td></tr></table>"
      ]
    },
    {
      "cell_type": "markdown",
      "metadata": {
        "id": "xks0BRQPucpE"
      },
      "source": [
        "These two data files have been saved into the following folder in Colab.\n",
        "\n",
        "<p align='center'><img src=\"https://drive.google.com/uc?export=view&id=1w5maZ6u0yuR6ZIfVw40JUlziNzBFx0wi\"></p>"
      ]
    },
    {
      "cell_type": "code",
      "metadata": {
        "colab": {
          "base_uri": "https://localhost:8080/"
        },
        "id": "g7Adyj1txvGe",
        "outputId": "4080855b-64a5-4e62-aabe-9dde3a6e6b42"
      },
      "source": [
        "#Taking a look at first few lines of data file\n",
        "!head /content/sample_data/Ski_Areas_NorthAmerica.csv"
      ],
      "execution_count": 1,
      "outputs": [
        {
          "output_type": "stream",
          "name": "stdout",
          "text": [
            "-114.215597,51.08296,\"Canada Olympic Park-Calgary,AB - Snow Conditions: Call  (403) 247-5452\",\"88 Canada Olympic Road SW, Calgary,AB\"\r\n",
            "-113.682207,52.304426,\"Canyon Ski Area-Red Deer,AB - Snow Conditions: Call  (403) 346-7003\",\"Site 8 Box 26 RR 2 Lcd 1, Red Deer,AB\"\r\n",
            "-114.413802,49.31866,\"Castle Mountain-Pincher Creek,AB - Snow Conditions: Call  (403) 543-4500\",\"Box 610 Pincher Creek,  Banff National Park,AB\"\r\n",
            "-113.475781,53.53452,\"Drumheller Valley Ski Club-Drumheller,AB - Snow Conditions: Call  (403) 823-2277\",\"1695 6th Ave SW, Drumheller,AB\"\r\n",
            "-113.479045,53.53365,\"Edmonton Ski Club-Edmonton,AB - Snow Conditions: Call  (780) 465-0852\",\"9613 96 Ave NW, Edmonton,AB\"\r\n",
            "-118.604365,55.994589,\"Fairview Ski Hill-Fairview,AB - Snow Conditions: Call  (780) 835-4725\",\"PO Box 618, Fairview,AB\"\r\n",
            "-115.194227,50.818108,\"Fortress Mountain-Fortress Mountain,AB - Snow Conditions: Call  (403) 591-7108\",\"1 Fortress Mountain Rd, Kananaskis,AB\"\r\n",
            "-110.26036,49.656765,\"Hidden Valley-Cypress Hills Provincial Park,AB - Snow Conditions: Call  (403) 893-3961\",\"3314 17 Ave SW, Medicine Hat,AB\"\r\n",
            "-110.019178,54.440092,\"Kinosoo Ridge-Cold Lake Provincial Park,AB - Snow Conditions: Call  (780) 594-5564\",\"PO Box 390 Stn Main, Cold Lake, AB\"\r\n",
            "-118.082383,52.800994,\"Marmot Basin-Jasper,AB - Snow Conditions: Call  (780) 852-3816\",\"1 Marmot Basin Road, Jasper,AB\"\r\n"
          ]
        }
      ]
    },
    {
      "cell_type": "markdown",
      "metadata": {
        "id": "DXHKNMu209og"
      },
      "source": [
        "The following are relevent regarding the task of reading in this data.\n",
        "\n",
        "\n",
        "1.   This is a comma separated values file, i.e. four fields are seperated by commas\n",
        "2.   Some fields contain commas; which are not to be confused by commas that are used to seperate the fields\n",
        "3.   Quotes are used to assist with the specification of a field in this situation -- this is somewhat common\n",
        "\n"
      ]
    },
    {
      "cell_type": "markdown",
      "metadata": {
        "id": "zjgzqaA7RUGr"
      },
      "source": [
        "Let us consider Line #1.  The commas highligted here deliniate the four fields.\n",
        "\n",
        "<p align='center'><img src=\"https://drive.google.com/uc?export=view&id=18iLlYT6M-aN10dvZ2LCBkiDzbp3CQun_\"></p>\n"
      ]
    },
    {
      "cell_type": "markdown",
      "metadata": {
        "id": "Ji4Zf1YURVZj"
      },
      "source": [
        "Commas within a field are ignored because the quotes are being used to assist in the specification of the field.\n",
        "<p align='center'><img src=\"https://drive.google.com/uc?export=view&id=1P2vL-OWNxKEj8Ls1mwkeZjuJmgKfnaJx\"></p>\n"
      ]
    },
    {
      "cell_type": "markdown",
      "metadata": {
        "id": "ZfMsgCln3tEz"
      },
      "source": [
        "##  Reading the inital data file into R"
      ]
    },
    {
      "cell_type": "markdown",
      "metadata": {
        "id": "KhWZKf4h1m-W"
      },
      "source": [
        "To begin, let us read this data file into R.  Once again, this is an iPython Notebook, so R Magic will be used in each code block to run the R commands."
      ]
    },
    {
      "cell_type": "code",
      "metadata": {
        "id": "6Os6sbWtx7ya"
      },
      "source": [
        "%load_ext rpy2.ipython"
      ],
      "execution_count": 2,
      "outputs": []
    },
    {
      "cell_type": "code",
      "metadata": {
        "colab": {
          "base_uri": "https://localhost:8080/"
        },
        "id": "ivS8N28Nyxm8",
        "outputId": "3e8011b9-997f-4fe6-da62-ba39939f02ab"
      },
      "source": [
        "#Read the *.csv file into R; provide names for each field as well\n",
        "%%R\n",
        "\n",
        "SkiAreas <- read.csv('/content/sample_data/Ski_Areas_NorthAmerica.csv',header=FALSE)\n",
        "names(SkiAreas) <- c(\"Longitude\", \"Latitude\", \"SkiResort\", \"PostalAddress\")\n",
        "\n",
        "#View the data.frame\n",
        "head(SkiAreas)"
      ],
      "execution_count": 3,
      "outputs": [
        {
          "output_type": "stream",
          "name": "stdout",
          "text": [
            "  Longitude Latitude\n",
            "1 -114.2156 51.08296\n",
            "2 -113.6822 52.30443\n",
            "3 -114.4138 49.31866\n",
            "4 -113.4758 53.53452\n",
            "5 -113.4790 53.53365\n",
            "6 -118.6044 55.99459\n",
            "                                                                         SkiResort\n",
            "1           Canada Olympic Park-Calgary,AB - Snow Conditions: Call  (403) 247-5452\n",
            "2              Canyon Ski Area-Red Deer,AB - Snow Conditions: Call  (403) 346-7003\n",
            "3         Castle Mountain-Pincher Creek,AB - Snow Conditions: Call  (403) 543-4500\n",
            "4 Drumheller Valley Ski Club-Drumheller,AB - Snow Conditions: Call  (403) 823-2277\n",
            "5            Edmonton Ski Club-Edmonton,AB - Snow Conditions: Call  (780) 465-0852\n",
            "6            Fairview Ski Hill-Fairview,AB - Snow Conditions: Call  (780) 835-4725\n",
            "                                   PostalAddress\n",
            "1          88 Canada Olympic Road SW, Calgary,AB\n",
            "2          Site 8 Box 26 RR 2 Lcd 1, Red Deer,AB\n",
            "3 Box 610 Pincher Creek,  Banff National Park,AB\n",
            "4                 1695 6th Ave SW, Drumheller,AB\n",
            "5                    9613 96 Ave NW, Edmonton,AB\n",
            "6                        PO Box 618, Fairview,AB\n"
          ]
        }
      ]
    },
    {
      "cell_type": "markdown",
      "metadata": {
        "id": "okYqwGog37LQ"
      },
      "source": [
        "Review the contents of the data.frame printed above. Notice that the commas within the quoted string are retained when this *.csv file is read into R; however, the commas between the fields are used to deliniate the four fields in this data file."
      ]
    },
    {
      "cell_type": "markdown",
      "metadata": {
        "id": "zLdEyiH530EL"
      },
      "source": [
        "## Pre-Processing of the Data File"
      ]
    },
    {
      "cell_type": "markdown",
      "metadata": {
        "id": "BjVs-V9q4f3V"
      },
      "source": [
        "<strong>Goal:</strong> Suppose the goal is to read-in **only** the following information from the existing data file.\n",
        "\n",
        "1.   Longitude\n",
        "2.   Latitude\n",
        "3.   Phone Number\n",
        "\n"
      ]
    },
    {
      "cell_type": "markdown",
      "metadata": {
        "id": "DylQxROh42fO"
      },
      "source": [
        "Consider once again the structure of each line in this text file."
      ]
    },
    {
      "cell_type": "code",
      "metadata": {
        "colab": {
          "base_uri": "https://localhost:8080/"
        },
        "id": "zDsUGwOx41vo",
        "outputId": "9b98c282-63fd-4bec-b8d3-d2823c4802d3"
      },
      "source": [
        "!head /content/sample_data/Ski_Areas_NorthAmerica.csv"
      ],
      "execution_count": 4,
      "outputs": [
        {
          "output_type": "stream",
          "name": "stdout",
          "text": [
            "-114.215597,51.08296,\"Canada Olympic Park-Calgary,AB - Snow Conditions: Call  (403) 247-5452\",\"88 Canada Olympic Road SW, Calgary,AB\"\r\n",
            "-113.682207,52.304426,\"Canyon Ski Area-Red Deer,AB - Snow Conditions: Call  (403) 346-7003\",\"Site 8 Box 26 RR 2 Lcd 1, Red Deer,AB\"\r\n",
            "-114.413802,49.31866,\"Castle Mountain-Pincher Creek,AB - Snow Conditions: Call  (403) 543-4500\",\"Box 610 Pincher Creek,  Banff National Park,AB\"\r\n",
            "-113.475781,53.53452,\"Drumheller Valley Ski Club-Drumheller,AB - Snow Conditions: Call  (403) 823-2277\",\"1695 6th Ave SW, Drumheller,AB\"\r\n",
            "-113.479045,53.53365,\"Edmonton Ski Club-Edmonton,AB - Snow Conditions: Call  (780) 465-0852\",\"9613 96 Ave NW, Edmonton,AB\"\r\n",
            "-118.604365,55.994589,\"Fairview Ski Hill-Fairview,AB - Snow Conditions: Call  (780) 835-4725\",\"PO Box 618, Fairview,AB\"\r\n",
            "-115.194227,50.818108,\"Fortress Mountain-Fortress Mountain,AB - Snow Conditions: Call  (403) 591-7108\",\"1 Fortress Mountain Rd, Kananaskis,AB\"\r\n",
            "-110.26036,49.656765,\"Hidden Valley-Cypress Hills Provincial Park,AB - Snow Conditions: Call  (403) 893-3961\",\"3314 17 Ave SW, Medicine Hat,AB\"\r\n",
            "-110.019178,54.440092,\"Kinosoo Ridge-Cold Lake Provincial Park,AB - Snow Conditions: Call  (780) 594-5564\",\"PO Box 390 Stn Main, Cold Lake, AB\"\r\n",
            "-118.082383,52.800994,\"Marmot Basin-Jasper,AB - Snow Conditions: Call  (780) 852-3816\",\"1 Marmot Basin Road, Jasper,AB\"\r\n"
          ]
        }
      ]
    },
    {
      "cell_type": "markdown",
      "metadata": {
        "id": "omCBcAZW5ol6"
      },
      "source": [
        "The <strong>!cat</strong> command can be used to make a copy of the orginial text file."
      ]
    },
    {
      "cell_type": "code",
      "metadata": {
        "id": "x-pqmmcqt9Jc"
      },
      "source": [
        "!cat /content/sample_data/Ski_Areas_NorthAmerica.csv > /content/sample_data/Ski_Areas_NorthAmerica_v2.csv"
      ],
      "execution_count": 5,
      "outputs": []
    },
    {
      "cell_type": "markdown",
      "metadata": {
        "id": "olGDXbdr5yyX"
      },
      "source": [
        "Verify that a copy was created and put into the same directory."
      ]
    },
    {
      "cell_type": "code",
      "metadata": {
        "colab": {
          "base_uri": "https://localhost:8080/"
        },
        "id": "zwp2055i5vTQ",
        "outputId": "d5e3cae7-6fc6-45f8-d8bc-2d7ec675fc18"
      },
      "source": [
        "!ls /content/sample_data/"
      ],
      "execution_count": 8,
      "outputs": [
        {
          "output_type": "stream",
          "name": "stdout",
          "text": [
            "Ski_Areas_NorthAmerica.csv  Ski_Areas_NorthAmerica_v2.csv\n"
          ]
        }
      ]
    },
    {
      "cell_type": "markdown",
      "metadata": {
        "id": "E_3bl81J57UI"
      },
      "source": [
        "The following sed command will accomplish the following:\n",
        "\n",
        "\n",
        "1.   Conduct a search\n",
        "2.   Find the first double quote, i.e. \"\n",
        "3.   Continue the search until you find Call__ , i.e. Call followed by two spaces\n",
        "4.   Replace string found with nothing\n",
        "\n",
        "\n",
        "\n",
        "<p align='center'><img src=\"https://drive.google.com/uc?export=view&id=1BZ1FCe3NAwYtVwQtIASuse8m_GUpuWNo\"></p>\n",
        "\n",
        "\n"
      ]
    },
    {
      "cell_type": "code",
      "metadata": {
        "id": "5WGu-v_i5Zf3"
      },
      "source": [
        "#The following sed command will reduce the contents of the third field\n",
        "!sed 's/\".*Call  //' /content/sample_data/Ski_Areas_NorthAmerica_v2.csv > /content/sample_data/Ski_Areas_NorthAmerica_v3.csv"
      ],
      "execution_count": 9,
      "outputs": []
    },
    {
      "cell_type": "code",
      "metadata": {
        "colab": {
          "base_uri": "https://localhost:8080/"
        },
        "id": "xwH88-2g8Amm",
        "outputId": "37956464-739e-47e0-99f9-bc903ba96d2b"
      },
      "source": [
        "#Looking at the resulting output from this sed search and replace\n",
        "!head /content/sample_data/Ski_Areas_NorthAmerica_v3.csv"
      ],
      "execution_count": 10,
      "outputs": [
        {
          "output_type": "stream",
          "name": "stdout",
          "text": [
            "-114.215597,51.08296,(403) 247-5452\",\"88 Canada Olympic Road SW, Calgary,AB\"\r\n",
            "-113.682207,52.304426,(403) 346-7003\",\"Site 8 Box 26 RR 2 Lcd 1, Red Deer,AB\"\r\n",
            "-114.413802,49.31866,(403) 543-4500\",\"Box 610 Pincher Creek,  Banff National Park,AB\"\r\n",
            "-113.475781,53.53452,(403) 823-2277\",\"1695 6th Ave SW, Drumheller,AB\"\r\n",
            "-113.479045,53.53365,(780) 465-0852\",\"9613 96 Ave NW, Edmonton,AB\"\r\n",
            "-118.604365,55.994589,(780) 835-4725\",\"PO Box 618, Fairview,AB\"\r\n",
            "-115.194227,50.818108,(403) 591-7108\",\"1 Fortress Mountain Rd, Kananaskis,AB\"\r\n",
            "-110.26036,49.656765,(403) 893-3961\",\"3314 17 Ave SW, Medicine Hat,AB\"\r\n",
            "-110.019178,54.440092,(780) 594-5564\",\"PO Box 390 Stn Main, Cold Lake, AB\"\r\n",
            "-118.082383,52.800994,(780) 852-3816\",\"1 Marmot Basin Road, Jasper,AB\"\r\n"
          ]
        }
      ]
    },
    {
      "cell_type": "markdown",
      "metadata": {
        "id": "tZvMfIkEZgyv"
      },
      "source": [
        "Next, the following sed command will accomplish the following:\n",
        "\n",
        "\n",
        "1.   Conduct a search\n",
        "2.   Find the first double quote, i.e. \"\n",
        "3.   Continue the search until the end-of-line\n",
        "4.   Replace string found with nothing\n",
        "\n",
        "\n",
        "\n",
        "<p align='center'><img src=\"https://drive.google.com/uc?export=view&id=1gu6bw2Xd-Ia-09JROnEHBHR_csYJYDHq\"></p>\n"
      ]
    },
    {
      "cell_type": "markdown",
      "metadata": {
        "id": "YYQPaIANeTfN"
      },
      "source": [
        "<strong>Comment:</strong>  A $ is used to identify the end of a line in sed  and a ^ is used to identify the beginning of a line in sed."
      ]
    },
    {
      "cell_type": "code",
      "metadata": {
        "id": "D1HEOIqk8ngE"
      },
      "source": [
        "#The following sed command will find-and-replace the end of each line\n",
        "!sed 's/\".*$//' /content/sample_data/Ski_Areas_NorthAmerica_v3.csv > /content/sample_data/Ski_Areas_NorthAmerica_v4.csv"
      ],
      "execution_count": 11,
      "outputs": []
    },
    {
      "cell_type": "code",
      "metadata": {
        "colab": {
          "base_uri": "https://localhost:8080/"
        },
        "id": "4TxytVCQ86FV",
        "outputId": "fbc95a1f-f67c-49c4-cec2-dca762526140"
      },
      "source": [
        "#Looking at the resulting output from this sed search and replace\n",
        "!head /content/sample_data/Ski_Areas_NorthAmerica_v4.csv"
      ],
      "execution_count": 12,
      "outputs": [
        {
          "output_type": "stream",
          "name": "stdout",
          "text": [
            "-114.215597,51.08296,(403) 247-5452\n",
            "-113.682207,52.304426,(403) 346-7003\n",
            "-114.413802,49.31866,(403) 543-4500\n",
            "-113.475781,53.53452,(403) 823-2277\n",
            "-113.479045,53.53365,(780) 465-0852\n",
            "-118.604365,55.994589,(780) 835-4725\n",
            "-115.194227,50.818108,(403) 591-7108\n",
            "-110.26036,49.656765,(403) 893-3961\n",
            "-110.019178,54.440092,(780) 594-5564\n",
            "-118.082383,52.800994,(780) 852-3816\n"
          ]
        }
      ]
    },
    {
      "cell_type": "markdown",
      "metadata": {
        "id": "Ssz3EWs_aPXH"
      },
      "source": [
        "<table width='100%' ><tr><td bgcolor='orange'></td></tr></table>\n",
        "\n",
        "## Aside -- Getting the State/Providence from each line\n",
        "\n"
      ]
    },
    {
      "cell_type": "code",
      "metadata": {
        "colab": {
          "base_uri": "https://localhost:8080/"
        },
        "id": "Nw2WqJMPan62",
        "outputId": "7661cc68-bb3f-47b9-cb49-08dae1564c5f"
      },
      "source": [
        "#Contents of original data file\n",
        "!head /content/sample_data/Ski_Areas_NorthAmerica.csv"
      ],
      "execution_count": 13,
      "outputs": [
        {
          "output_type": "stream",
          "name": "stdout",
          "text": [
            "-114.215597,51.08296,\"Canada Olympic Park-Calgary,AB - Snow Conditions: Call  (403) 247-5452\",\"88 Canada Olympic Road SW, Calgary,AB\"\r\n",
            "-113.682207,52.304426,\"Canyon Ski Area-Red Deer,AB - Snow Conditions: Call  (403) 346-7003\",\"Site 8 Box 26 RR 2 Lcd 1, Red Deer,AB\"\r\n",
            "-114.413802,49.31866,\"Castle Mountain-Pincher Creek,AB - Snow Conditions: Call  (403) 543-4500\",\"Box 610 Pincher Creek,  Banff National Park,AB\"\r\n",
            "-113.475781,53.53452,\"Drumheller Valley Ski Club-Drumheller,AB - Snow Conditions: Call  (403) 823-2277\",\"1695 6th Ave SW, Drumheller,AB\"\r\n",
            "-113.479045,53.53365,\"Edmonton Ski Club-Edmonton,AB - Snow Conditions: Call  (780) 465-0852\",\"9613 96 Ave NW, Edmonton,AB\"\r\n",
            "-118.604365,55.994589,\"Fairview Ski Hill-Fairview,AB - Snow Conditions: Call  (780) 835-4725\",\"PO Box 618, Fairview,AB\"\r\n",
            "-115.194227,50.818108,\"Fortress Mountain-Fortress Mountain,AB - Snow Conditions: Call  (403) 591-7108\",\"1 Fortress Mountain Rd, Kananaskis,AB\"\r\n",
            "-110.26036,49.656765,\"Hidden Valley-Cypress Hills Provincial Park,AB - Snow Conditions: Call  (403) 893-3961\",\"3314 17 Ave SW, Medicine Hat,AB\"\r\n",
            "-110.019178,54.440092,\"Kinosoo Ridge-Cold Lake Provincial Park,AB - Snow Conditions: Call  (780) 594-5564\",\"PO Box 390 Stn Main, Cold Lake, AB\"\r\n",
            "-118.082383,52.800994,\"Marmot Basin-Jasper,AB - Snow Conditions: Call  (780) 852-3816\",\"1 Marmot Basin Road, Jasper,AB\"\r\n"
          ]
        }
      ]
    },
    {
      "cell_type": "markdown",
      "metadata": {
        "id": "vF8sk38aazH6"
      },
      "source": [
        "The State/Providence appears to be last two characters on each line (when the quote is ignored).  The more powerful AWK command line stream editor will be used to pull off the State/Providence abbreviations from each line.  \n",
        "\n",
        "\n",
        "1.   {print ...} print the contents\n",
        "2.   $0 specifies each line\n",
        "3.   substr(*line*, *starting position*, *number of characters*)\n",
        "4.   \\> push contents being printed into a text file\n",
        "\n"
      ]
    },
    {
      "cell_type": "code",
      "metadata": {
        "id": "uvifxmTEbHqQ"
      },
      "source": [
        "#Pull off the State/Providence abbreviation from each line; \n",
        "!awk '{print substr($0,length($0)-3,2)}' /content/sample_data/Ski_Areas_NorthAmerica.csv > /content/sample_data/SkiAreas_NorthAmerica_States.csv"
      ],
      "execution_count": 14,
      "outputs": []
    },
    {
      "cell_type": "code",
      "metadata": {
        "id": "k8MbuKyic2r_",
        "colab": {
          "base_uri": "https://localhost:8080/"
        },
        "outputId": "85d45cb4-4a2d-4d55-bc83-86419b83dbff"
      },
      "source": [
        "#Review of top/bottom few lines\n",
        "!head /content/sample_data/SkiAreas_NorthAmerica_States.csv\n",
        "\n",
        "!tail /content/sample_data/SkiAreas_NorthAmerica_States.csv"
      ],
      "execution_count": 15,
      "outputs": [
        {
          "output_type": "stream",
          "name": "stdout",
          "text": [
            "AB\n",
            "AB\n",
            "AB\n",
            "AB\n",
            "AB\n",
            "AB\n",
            "AB\n",
            "AB\n",
            "AB\n",
            "AB\n",
            "WI\n",
            "WY\n",
            "WY\n",
            "WY\n",
            "WY\n",
            "WY\n",
            "WY\n",
            "WY\n",
            "WY\n",
            "WY\n"
          ]
        }
      ]
    },
    {
      "cell_type": "markdown",
      "metadata": {
        "id": "mNMwt1LJdTVt"
      },
      "source": [
        "<table width='100%' ><tr><td bgcolor='orange'></td></tr></table>\n",
        "\n"
      ]
    },
    {
      "cell_type": "markdown",
      "metadata": {
        "id": "F9J-NAEwZkmk"
      },
      "source": [
        "## Reading the Pre-Processed Data File into R"
      ]
    },
    {
      "cell_type": "markdown",
      "metadata": {
        "id": "QdsFw6Nyde-j"
      },
      "source": [
        "The following snip-if of R code will readin the pre-processed data file.  The file is lacking field names; therefore these have been added to this data.frame."
      ]
    },
    {
      "cell_type": "code",
      "metadata": {
        "colab": {
          "base_uri": "https://localhost:8080/"
        },
        "id": "07NlwqUf9aR-",
        "outputId": "812d7905-bc8f-4d4b-a33f-c9ae602f0db4"
      },
      "source": [
        "#Read the *.csv file into R; provide names for each field as well\n",
        "%%R\n",
        "\n",
        "SkiAreas <- read.csv('/content/sample_data/Ski_Areas_NorthAmerica_v4.csv',header=FALSE)\n",
        "names(SkiAreas) <- c(\"Longitude\", \"Latitude\", \"Phone\")\n",
        "\n",
        "#View the structure and head of the data.frame\n",
        "str(SkiAreas)\n",
        " cat('\\n')\n",
        " cat('The contents of the SkiArea data.frame:')\n",
        " cat('\\n\\n')\n",
        "head(SkiAreas)"
      ],
      "execution_count": 16,
      "outputs": [
        {
          "output_type": "stream",
          "name": "stdout",
          "text": [
            "'data.frame':\t580 obs. of  3 variables:\n",
            " $ Longitude: num  -114 -114 -114 -113 -113 ...\n",
            " $ Latitude : num  51.1 52.3 49.3 53.5 53.5 ...\n",
            " $ Phone    : chr  \"(403) 247-5452\" \"(403) 346-7003\" \"(403) 543-4500\" \"(403) 823-2277\" ...\n",
            "\n",
            "The contents of the SkiArea data.frame:\n",
            "\n",
            "  Longitude Latitude          Phone\n",
            "1 -114.2156 51.08296 (403) 247-5452\n",
            "2 -113.6822 52.30443 (403) 346-7003\n",
            "3 -114.4138 49.31866 (403) 543-4500\n",
            "4 -113.4758 53.53452 (403) 823-2277\n",
            "5 -113.4790 53.53365 (780) 465-0852\n",
            "6 -118.6044 55.99459 (780) 835-4725\n"
          ]
        }
      ]
    },
    {
      "cell_type": "markdown",
      "metadata": {
        "id": "jBrcHDx-EV-1"
      },
      "source": [
        "### Simple String Manipulation using Base R"
      ]
    },
    {
      "cell_type": "markdown",
      "metadata": {
        "id": "Ifj8G7GHDF7N"
      },
      "source": [
        "There are commands to manipulate strings in Base R.  For example, strsplit() function can be used to split a string.  The split= parameter specifies the character for which the split will be done upon.\n",
        "\n",
        "Notice that the structure of the output returned by strsplit() function is three-dimensional table which is atypical in practice."
      ]
    },
    {
      "cell_type": "code",
      "metadata": {
        "colab": {
          "base_uri": "https://localhost:8080/"
        },
        "id": "Uw1wboftBdaQ",
        "outputId": "2eaad2cc-7d4b-4a40-b473-44abc126cd37"
      },
      "source": [
        "%%R\n",
        "\n",
        "strsplit(SkiAreas$Phone,split='[(]')[1:3]"
      ],
      "execution_count": null,
      "outputs": [
        {
          "output_type": "stream",
          "text": [
            "[[1]]\n",
            "[1] \"\"              \"403) 247-5452\"\n",
            "\n",
            "[[2]]\n",
            "[1] \"\"              \"403) 346-7003\"\n",
            "\n",
            "[[3]]\n",
            "[1] \"\"              \"403) 543-4500\"\n",
            "\n"
          ],
          "name": "stdout"
        }
      ]
    },
    {
      "cell_type": "markdown",
      "metadata": {
        "id": "WBOj6A1tfzAf"
      },
      "source": [
        "The structure of the output returned from the strsplit() function in Base R is not optimal.\n",
        "\n",
        "<p align='center'><img src=\"https://drive.google.com/uc?export=view&id=1-epyvMbfUNyZ1NG-GxM4G0ZGBr_MRt-k\"></p>"
      ]
    },
    {
      "cell_type": "markdown",
      "metadata": {
        "id": "uNCSOdMHECTi"
      },
      "source": [
        "The unlist() function in R can be used to collapse a higher dimensional table into a vector in R; however, there will need to be additional manipulation of this vector in order to retain only the area code from each ski resort."
      ]
    },
    {
      "cell_type": "code",
      "metadata": {
        "colab": {
          "base_uri": "https://localhost:8080/"
        },
        "id": "1aUODoNDC-W6",
        "outputId": "4bdaed33-0070-4bbe-80cc-4e7edd7cf35c"
      },
      "source": [
        "%%R\n",
        "\n",
        "unlist(strsplit(SkiAreas$Phone,split='[(]'))[1:6]"
      ],
      "execution_count": null,
      "outputs": [
        {
          "output_type": "stream",
          "text": [
            "[1] \"\"              \"403) 247-5452\" \"\"              \"403) 346-7003\"\n",
            "[5] \"\"              \"403) 543-4500\"\n"
          ],
          "name": "stdout"
        }
      ]
    },
    {
      "cell_type": "markdown",
      "metadata": {
        "id": "GxSwv-HuEheK"
      },
      "source": [
        "### Simple String Manipulation using TidyVerse\n",
        "\n",
        "The string manipulation functions in the tidyverse package are more robust than the functions in base R."
      ]
    },
    {
      "cell_type": "code",
      "metadata": {
        "id": "pQKOCo7gElpI"
      },
      "source": [
        "#Load the tidyverse package in R\n",
        "%%R\n",
        "\n",
        "library(tidyverse)"
      ],
      "execution_count": null,
      "outputs": []
    },
    {
      "cell_type": "markdown",
      "metadata": {
        "id": "vwKqjcxFgz4C"
      },
      "source": [
        "The seperate() function in tidyverse will be used for the task of separating out the area code.  \n",
        "\n",
        "1.   data= | data.frame to work with\n",
        "2.   col= | which column in data.frame do you want to separate\n",
        "3.   into= | name the new columns\n",
        "4.   sep=[...] | identify what character(s) will be used to separate the desired column\n",
        "\n"
      ]
    },
    {
      "cell_type": "code",
      "metadata": {
        "colab": {
          "base_uri": "https://localhost:8080/"
        },
        "id": "VxbfhfkwhDQ0",
        "outputId": "ecedafe8-1fc0-4f7a-ab95-f2e1a0b0f8ac"
      },
      "source": [
        "%%R\n",
        "\n",
        "head(separate(data=SkiAreas, col=Phone, into=c(\"Col1\", \"Col2\", \"Col3\"), sep=\"[()]\"))"
      ],
      "execution_count": 22,
      "outputs": [
        {
          "output_type": "stream",
          "name": "stdout",
          "text": [
            "  Longitude Latitude Col1 Col2      Col3\n",
            "1 -114.2156 51.08296       403  247-5452\n",
            "2 -113.6822 52.30443       403  346-7003\n",
            "3 -114.4138 49.31866       403  543-4500\n",
            "4 -113.4758 53.53452       403  823-2277\n",
            "5 -113.4790 53.53365       780  465-0852\n",
            "6 -118.6044 55.99459       780  835-4725\n"
          ]
        }
      ]
    },
    {
      "cell_type": "markdown",
      "metadata": {
        "id": "i4ahL206imIP"
      },
      "source": [
        "The following is more common dplyr processing of this command.\n",
        "\n",
        "\n",
        "1.   Identify data.frame\n",
        "2.   %>% is aking to > and pushes the output along head in the chain/pipe\n",
        "3.   Output at end of chain is being put into a new data.frame named SkiAreas_withAreaCode\n",
        "\n"
      ]
    },
    {
      "cell_type": "code",
      "metadata": {
        "colab": {
          "base_uri": "https://localhost:8080/"
        },
        "id": "_mZ56zEzE-Pk",
        "outputId": "c164530a-f9ac-4158-9364-81eddd90ead9"
      },
      "source": [
        "%%R\n",
        "\n",
        "(SkiAreas \n",
        "      %>% separate(col=Phone, into=c(NA, \"AreaCode\", NA), sep = \"[()]\") \n",
        ") -> SkiAreas_withAreaCode\n",
        "\n",
        "str(SkiAreas_withAreaCode)\n",
        "cat('\\n')\n",
        "head(SkiAreas_withAreaCode)"
      ],
      "execution_count": 23,
      "outputs": [
        {
          "output_type": "stream",
          "name": "stdout",
          "text": [
            "'data.frame':\t580 obs. of  3 variables:\n",
            " $ Longitude: num  -114 -114 -114 -113 -113 ...\n",
            " $ Latitude : num  51.1 52.3 49.3 53.5 53.5 ...\n",
            " $ AreaCode : chr  \"403\" \"403\" \"403\" \"403\" ...\n",
            "\n",
            "  Longitude Latitude AreaCode\n",
            "1 -114.2156 51.08296      403\n",
            "2 -113.6822 52.30443      403\n",
            "3 -114.4138 49.31866      403\n",
            "4 -113.4758 53.53452      403\n",
            "5 -113.4790 53.53365      780\n",
            "6 -118.6044 55.99459      780\n"
          ]
        }
      ]
    },
    {
      "cell_type": "markdown",
      "metadata": {
        "id": "zLlHnpSmjS9v"
      },
      "source": [
        "The following lines of code accomplish the following:\n",
        "\n",
        "1.   group_by initates a grouping variable so that counts will be done by AreaCode\n",
        "2.   summarize() function computes a count/tally for each AreaCode\n",
        "3.   arrange() sort the list in descending order\n",
        "4.   head() returns the top 6 in the list\n",
        "\n"
      ]
    },
    {
      "cell_type": "code",
      "metadata": {
        "colab": {
          "base_uri": "https://localhost:8080/"
        },
        "id": "mrHmOKv1GTCw",
        "outputId": "e29c1fae-b6ec-4f3b-ec29-d66b6866257d"
      },
      "source": [
        "%%R\n",
        "\n",
        "(SkiAreas_withAreaCode \n",
        "  %>% group_by(AreaCode)\n",
        "  %>% summarise(Count = n())\n",
        "  %>% arrange(desc(Count))\n",
        "  %>% head()\n",
        ")"
      ],
      "execution_count": 24,
      "outputs": [
        {
          "output_type": "stream",
          "name": "stdout",
          "text": [
            "# A tibble: 6 × 2\n",
            "  AreaCode Count\n",
            "  <chr>    <int>\n",
            "1 800         52\n",
            "2 603         20\n",
            "3 970         20\n",
            "4 207         18\n",
            "5 802         18\n",
            "6 406         17\n"
          ]
        }
      ]
    },
    {
      "cell_type": "markdown",
      "metadata": {
        "id": "GH79Ruv9jdQf"
      },
      "source": [
        "Consider the following changes to the chain of dplyr commands\n",
        "1.   Only the top 10 area codes used\n",
        "2.   Specify a link for each area code"
      ]
    },
    {
      "cell_type": "code",
      "metadata": {
        "colab": {
          "base_uri": "https://localhost:8080/"
        },
        "id": "I2wTdXt1J0GA",
        "outputId": "1e8fa2bf-7f37-40ab-855f-138cb135d3aa"
      },
      "source": [
        "%%R\n",
        "\n",
        "(SkiAreas_withAreaCode \n",
        "  %>% group_by(AreaCode)\n",
        "  %>% summarise(Count = n())\n",
        "  %>% arrange(desc(Count))\n",
        "  %>% head(10)\n",
        "  %>% mutate(Link=paste(\"https://en.wikipedia.org/wiki/Area_code_\",AreaCode,sep=''))\n",
        ")"
      ],
      "execution_count": 25,
      "outputs": [
        {
          "output_type": "stream",
          "name": "stdout",
          "text": [
            "# A tibble: 10 × 3\n",
            "   AreaCode Count Link                                       \n",
            "   <chr>    <int> <chr>                                      \n",
            " 1 800         52 https://en.wikipedia.org/wiki/Area_code_800\n",
            " 2 603         20 https://en.wikipedia.org/wiki/Area_code_603\n",
            " 3 970         20 https://en.wikipedia.org/wiki/Area_code_970\n",
            " 4 207         18 https://en.wikipedia.org/wiki/Area_code_207\n",
            " 5 802         18 https://en.wikipedia.org/wiki/Area_code_802\n",
            " 6 406         17 https://en.wikipedia.org/wiki/Area_code_406\n",
            " 7 888         17 https://en.wikipedia.org/wiki/Area_code_888\n",
            " 8 530         14 https://en.wikipedia.org/wiki/Area_code_530\n",
            " 9 877         14 https://en.wikipedia.org/wiki/Area_code_877\n",
            "10 208         13 https://en.wikipedia.org/wiki/Area_code_208\n"
          ]
        }
      ]
    },
    {
      "cell_type": "markdown",
      "metadata": {
        "id": "ipfMKm3nje1-"
      },
      "source": [
        "Finally, use the ifelse() function to ignore the AreaCode=800 when constructing hyperlinks.\n"
      ]
    },
    {
      "cell_type": "code",
      "metadata": {
        "colab": {
          "base_uri": "https://localhost:8080/"
        },
        "id": "_tquxQCbMSRj",
        "outputId": "a8f6fcdd-af79-43c5-b24e-18c0821015b6"
      },
      "source": [
        "%%R\n",
        "\n",
        "(SkiAreas_withAreaCode \n",
        "  %>% group_by(AreaCode)\n",
        "  %>% summarise(Count = n())\n",
        "  %>% arrange(desc(Count))\n",
        "  %>% head(10)\n",
        "  %>% mutate(Link=ifelse(AreaCode=='800',\"NA\",paste(\"https://en.wikipedia.org/wiki/Area_code_\",AreaCode, sep='')))\n",
        ") "
      ],
      "execution_count": 26,
      "outputs": [
        {
          "output_type": "stream",
          "name": "stdout",
          "text": [
            "# A tibble: 10 × 3\n",
            "   AreaCode Count Link                                       \n",
            "   <chr>    <int> <chr>                                      \n",
            " 1 800         52 NA                                         \n",
            " 2 603         20 https://en.wikipedia.org/wiki/Area_code_603\n",
            " 3 970         20 https://en.wikipedia.org/wiki/Area_code_970\n",
            " 4 207         18 https://en.wikipedia.org/wiki/Area_code_207\n",
            " 5 802         18 https://en.wikipedia.org/wiki/Area_code_802\n",
            " 6 406         17 https://en.wikipedia.org/wiki/Area_code_406\n",
            " 7 888         17 https://en.wikipedia.org/wiki/Area_code_888\n",
            " 8 530         14 https://en.wikipedia.org/wiki/Area_code_530\n",
            " 9 877         14 https://en.wikipedia.org/wiki/Area_code_877\n",
            "10 208         13 https://en.wikipedia.org/wiki/Area_code_208\n"
          ]
        }
      ]
    },
    {
      "cell_type": "markdown",
      "metadata": {
        "id": "4iBO1yo3EIax"
      },
      "source": [
        "# Task: Answer the following questions.\n",
        "\n",
        "1.   Consider the following snip-it of code executed by dplyr above.  How would flip-flopping line #6 and #7 change the output?  Discuss.\n"
      ]
    },
    {
      "cell_type": "markdown",
      "metadata": {
        "id": "Vex30btKEeJS"
      },
      "source": [
        "<p align='center'><img src=\"https://drive.google.com/uc?export=view&id=1JEm3NRSA6rFs9jnpRiVCjB9IgVZQlCIA\"></p>"
      ]
    },
    {
      "cell_type": "markdown",
      "metadata": {
        "id": "eRzxDlTxFRBu"
      },
      "source": [
        "\n",
        "2.   Consider the following line of code, line #8 from the code above and it's corresponding output.  Modify this line of code so that AreaCode = 800, 888, and 877 all have NA as these are not real area codes, but used for toll-free numbers.\n",
        "\n",
        "<strong>Hint:</strong> There is an %in% syntax that is commonly used for strings.  The other option would be to modify the condition with or, i.e. the | syntax. \n",
        "<br>\n",
        "<p align='center'><img src=\"https://drive.google.com/uc?export=view&id=1gD5fdid290HU6MgzIg9df23aB1vgOzOT\"></p>\n",
        "\n",
        "<p align='center'><img src=\"https://drive.google.com/uc?export=view&id=1WXpg_70ILWeRZjl8mjSE0mVqgzNbFaec\"></p>\n",
        "\n",
        "<p align='center'><img src=\"https://drive.google.com/uc?export=view&id=16iSHZCVOuOpgIyXe01QsQwVaIjwi-KVw\"></p>\n"
      ]
    },
    {
      "cell_type": "markdown",
      "metadata": {
        "id": "kHCujK1-JIoq"
      },
      "source": [
        "3.   The process followed above was to pre-process the data file to include longitude, latitude, and Phone.  This data was then read into R and R was used to further seperate the string to obtain the area code.  Suppose sed was used instead to separate out the area code.  How would the search & replace work in sed to achieve this?  Discuss.  \n"
      ]
    },
    {
      "cell_type": "markdown",
      "metadata": {
        "id": "7hXFII_JEAVp"
      },
      "source": [
        "\n",
        "<p align='center'><img src=\"https://drive.google.com/uc?export=view&id=1FWjwi21pZ8fS-WxWYJxjFGWD_qeUWJHV\"></p>\n"
      ]
    }
  ]
}