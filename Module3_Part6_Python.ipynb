{
  "nbformat": 4,
  "nbformat_minor": 0,
  "metadata": {
    "colab": {
      "name": "Module3_Part6_Python",
      "provenance": [],
      "collapsed_sections": [],
      "include_colab_link": true
    },
    "kernelspec": {
      "display_name": "Python 3",
      "name": "python3"
    }
  },
  "cells": [
    {
      "cell_type": "markdown",
      "metadata": {
        "id": "view-in-github",
        "colab_type": "text"
      },
      "source": [
        "<a href=\"https://colab.research.google.com/github/christophermalone/DSCI325/blob/main/Module3_Part6_Python.ipynb\" target=\"_parent\"><img src=\"https://colab.research.google.com/assets/colab-badge.svg\" alt=\"Open In Colab\"/></a>"
      ]
    },
    {
      "cell_type": "markdown",
      "metadata": {
        "id": "70S3wd9iDFkx"
      },
      "source": [
        "# Module 3 - Part 6 Python: Data Verb - OUTER JOIN"
      ]
    },
    {
      "cell_type": "markdown",
      "metadata": {
        "id": "fBOunxvciu1l"
      },
      "source": [
        "The following python packages will be used for this notebook."
      ]
    },
    {
      "cell_type": "code",
      "metadata": {
        "id": "eHmOBnlcDFr_"
      },
      "source": [
        "import pandas as pd\n",
        "import numpy as np"
      ],
      "execution_count": 3,
      "outputs": []
    },
    {
      "cell_type": "markdown",
      "metadata": {
        "id": "4wnhVBoLin1X"
      },
      "source": [
        "<table width='100%' ><tr><td bgcolor='green'></td></tr></table>\n",
        "\n",
        "### Example 3.6.P\n",
        "For this notebook, we will consider data from a study on stress and workplace violence. This survey was done at a large healthcare facility. \n",
        "*    Initial Outcomes were collected\n",
        "*    An wellness campaign was introduced with the goal of reducing stress and workplace violence\n",
        "*    Outcomes were collected a second time after the week long awareness campaign was completed\n",
        "*   Each employee was asked to complete both the pre and post surveys.  An unique Survey ID was provided in the email sent to each employee\n",
        "\n",
        "\n",
        "<ul>\n",
        "  <li><strong>Survey Link</strong>: https://forms.gle/urzhGs7QobquQYst9 </li>\n",
        "<br>\n",
        "  <li><strong>Survey Questions</strong></li>\n",
        "\n",
        "<table>\n",
        "  <tr>\n",
        "    <td align='center' bgcolor='lightgray'><strong>Question ID</strong></td>\n",
        "    <td align='center' bgcolor='lightgray'><strong>Question</strong></td>\n",
        "    <td align='center' bgcolor='lightgray'><strong>Part</strong></td>\n",
        "    <td align='center' bgcolor='lightgray'><strong>Section</strong></td>\n",
        "    <td align='center' bgcolor='lightgray'><strong>Statement</strong></td>\n",
        "  </tr>\n",
        "<tr><td align='center'>Q1_1</td><td align='center'>1</td><td align='center'>1</td><td align='left'>Support from Supervisor</td><td align='left'>How often do you get the support you need from your immediate supervisor?</td></tr>\n",
        "<tr><td align='center'>Q2_1</td><td align='center'>2</td><td align='center'>1</td><td align='left'>Support from Supervisor</td><td align='left'>To what extent would you say your immediate supervisor is good at solving conflicts?</td></tr>\n",
        "<tr><td align='center'>Q2_2</td><td align='center'>2</td><td align='center'>2</td><td align='left'>Support from Supervisor</td><td align='left'>To what extent would you say your immediate supervisor is good at solving problems?</td></tr>\n",
        "<tr><td align='center'>Q2_3</td><td align='center'>2</td><td align='center'>3</td><td align='left'>Support from Supervisor</td><td align='left'>To what extent would you say your immediate supervisor is good at providing a respectful work environment?</td></tr>\n",
        "<tr><td align='center'>Q3_1</td><td align='center'>3</td><td align='center'>1</td><td align='left'>Stress</td><td align='left'>How often have you found it hard to go to sleep?</td></tr>\n",
        "<tr><td align='center'>Q3_2</td><td align='center'>3</td><td align='center'>2</td><td align='left'>Stress</td><td align='left'>How often have you woken up early and not been able to go back to sleep?</td></tr>\n",
        "<tr><td align='center'>Q3_3</td><td align='center'>3</td><td align='center'>3</td><td align='left'>Stress</td><td align='left'>How often have you felt worn out?</td></tr>\n",
        "<tr><td align='center'>Q3_4</td><td align='center'>3</td><td align='center'>4</td><td align='left'>Stress</td><td align='left'>How often have you felt physically exhausted?</td></tr>\n",
        "<tr><td align='center'>Q3_5</td><td align='center'>3</td><td align='center'>5</td><td align='left'>Stress</td><td align='left'>How often have you felt tired?</td></tr>\n",
        "<tr><td align='center'>Q3_6</td><td align='center'>3</td><td align='center'>6</td><td align='left'>Stress</td><td align='left'>How often have you felt irritable?</td></tr>\n",
        "<tr><td align='center'>Q3_7</td><td align='center'>3</td><td align='center'>7</td><td align='left'>Stress</td><td align='left'>How often have you felt tense?</td></tr>\n",
        "<tr><td align='center'>Q3_8</td><td align='center'>3</td><td align='center'>8</td><td align='left'>Stress</td><td align='left'>How often have you had a stomach ache?</td></tr>\n",
        "<tr><td align='center'>Q3_9</td><td align='center'>3</td><td align='center'>9</td><td align='left'>Stress</td><td align='left'>How often have you had a headache?</td></tr>\n",
        "<tr><td align='center'>Q3_10</td><td align='center'>3</td><td align='center'>10</td><td align='left'>Stress</td><td align='left'>How often have you had tension in your muscles?</td></tr>\n",
        "<tr><td align='center'>Q3_11</td><td align='center'>3</td><td align='center'>11</td><td align='left'>Stress</td><td align='left'>How often have you found it difficult to think clearly?</td></tr>\n",
        "<tr><td align='center'>Q3_12</td><td align='center'>3</td><td align='center'>12</td><td align='left'>Stress</td><td align='left'>How often have you had difficulty in making decisions?</td></tr>\n",
        "<tr><td align='center'>Q3_13</td><td align='center'>3</td><td align='center'>13</td><td align='left'>Stress</td><td align='left'>How often have you had difficulty in remembering things?</td></tr>\n",
        "<tr><td align='center'>Q3_14</td><td align='center'>3</td><td align='center'>14</td><td align='left'>Stress</td><td align='left'>How often have have you felt sad?</td></tr>\n",
        "<tr><td align='center'>Q3_15</td><td align='center'>3</td><td align='center'>15</td><td align='left'>Stress</td><td align='left'>How often have you lacked interest in everyday things?</td></tr>\n",
        "<tr><td align='center'>Q4_1</td><td align='center'>4</td><td align='center'>1</td><td align='left'>Workplace Violence</td><td align='left'>Have you been exposed to slander at your workplace over the past six months?</td></tr>\n",
        "<tr><td align='center'>Q4_2</td><td align='center'>4</td><td align='center'>2</td><td align='left'>Workplace Violence</td><td align='left'>Have you been involved in personal conflicts at your workplace over the past six months?</td></tr>\n",
        "<tr><td align='center'>Q4_3</td><td align='center'>4</td><td align='center'>3</td><td align='left'>Workplace Violence</td><td align='left'>Have you been exposed to bullying at your workplace over the past six months?</td></tr>\n",
        "<tr><td align='center'>Q4_4</td><td align='center'>4</td><td align='center'>4</td><td align='left'>Workplace Violence</td><td align='left'>Have you been exposed to undesired sexual attention at your workplace over the past six months?</td></tr>\n",
        "<tr><td align='center'>Q4_5</td><td align='center'>4</td><td align='center'>5</td><td align='left'>Workplace Violence</td><td align='left'>Have you been exposed to physical violence at your workplace over the past six months?</td></tr>\n",
        "</table>\n",
        "\n",
        "<br><br>\n",
        "\n",
        "\n",
        "  <li><strong>Scoring of Questions</strong></li>\n",
        "\n",
        "\n",
        "<table>\n",
        "  <tr>\n",
        "    <td align='center' bgcolor='lightgray'><strong>Question</strong></td>\n",
        "    <td align='center' bgcolor='lightgray'><strong>Response</strong></td>\n",
        "    <td align='center' bgcolor='lightgray'><strong>Q_Response</strong></td>\n",
        "    <td align='center' bgcolor='lightgray'><strong>Score</strong></td>\n",
        "  </tr>\n",
        "<tr><td align='center'>Q1</td><td align='left'>Always</td><td align='left'>Q1_Always</td><td align='center'>5</td></tr>\n",
        "<tr><td align='center'>Q1</td><td align='left'>Often</td><td align='left'>Q1_Often</td><td align='center'>4</td></tr>\n",
        "<tr><td align='center'>Q1</td><td align='left'>Sometimes</td><td align='left'>Q1_Sometimes</td><td align='center'>3</td></tr>\n",
        "<tr><td align='center'>Q1</td><td align='left'>Seldom</td><td align='left'>Q1_Seldom</td><td align='center'>2</td></tr>\n",
        "<tr><td align='center'>Q1</td><td align='left'>Hardly Ever</td><td align='left'>Q1_Hardly Ever</td><td align='center'>1</td></tr>\n",
        "<tr><td align='center'>Q1</td><td align='left'>I do not have a supervisor</td><td align='left'>Q1_I do not have a supervisor</td><td align='center'>NaN</td></tr>\n",
        "<tr><td align='center'>Q2</td><td align='left'>To a very large extent</td><td align='left'>Q2_To a very large extent</td><td align='center'>5</td></tr>\n",
        "<tr><td align='center'>Q2</td><td align='left'>To a large extent</td><td align='left'>Q2_To a large extent</td><td align='center'>4</td></tr>\n",
        "<tr><td align='center'>Q2</td><td align='left'>Somewhat</td><td align='left'>Q2_Somewhat</td><td align='center'>3</td></tr>\n",
        "<tr><td align='center'>Q2</td><td align='left'>To a small extent</td><td align='left'>Q2_To a small extent</td><td align='center'>2</td></tr>\n",
        "<tr><td align='center'>Q2</td><td align='left'>To a very small extent</td><td align='left'>Q2_To a very small extent</td><td align='center'>1</td></tr>\n",
        "<tr><td align='center'>Q2</td><td align='left'>I do not have a supervisor</td><td align='left'>Q2_I do not have a supervisor</td><td align='center'>NaN</td></tr>\n",
        "<tr><td align='center'>Q3</td><td align='left'>All of the time</td><td align='left'>Q3_All of the time</td><td align='center'>5</td></tr>\n",
        "<tr><td align='center'>Q3</td><td align='left'>A large part of the time</td><td align='left'>Q3_A large part of the time</td><td align='center'>4</td></tr>\n",
        "<tr><td align='center'>Q3</td><td align='left'>Part of the time</td><td align='left'>Q3_Part of the time</td><td align='center'>3</td></tr>\n",
        "<tr><td align='center'>Q3</td><td align='left'>A small part of the time</td><td align='left'>Q3_A small part of the time</td><td align='center'>2</td></tr>\n",
        "<tr><td align='center'>Q3</td><td align='left'>A very small part of the time</td><td align='left'>Q3_A very small part of the time</td><td align='center'>1</td></tr>\n",
        "<tr><td align='center'>Q3</td><td align='left'>Not at all</td><td align='left'>Q3_Not at all</td><td align='center'>0</td></tr>\n",
        "<tr><td align='center'>Q4_1</td><td align='left'>Yes</td><td align='left'>Q4_1_Yes</td><td align='center'>1</td></tr>\n",
        "<tr><td align='center'>Q4_1</td><td align='left'>No</td><td align='left'>Q4_1_No</td><td align='center'>0</td></tr>\n",
        "<tr><td align='center'>Q4_2</td><td align='left'>Yes</td><td align='left'>Q4_2_Yes</td><td align='center'>1</td></tr>\n",
        "<tr><td align='center'>Q4_2</td><td align='left'>No</td><td align='left'>Q4_2_No</td><td align='center'>0</td></tr>\n",
        "<tr><td align='center'>Q4_3</td><td align='left'>Yes</td><td align='left'>Q4_3_Yes</td><td align='center'>1</td></tr>\n",
        "<tr><td align='center'>Q4_3</td><td align='left'>No</td><td align='left'>Q4_3_No</td><td align='center'>0</td></tr>\n",
        "<tr><td align='center'>Q4_4</td><td align='left'>Yes</td><td align='left'>Q4_4_Yes</td><td align='center'>2</td></tr>\n",
        "<tr><td align='center'>Q4_4</td><td align='left'>No</td><td align='left'>Q4_4_No</td><td align='center'>0</td></tr>\n",
        "<tr><td align='center'>Q4_5</td><td align='left'>Yes</td><td align='left'>Q4_5_Yes</td><td align='center'>2</td></tr>\n",
        "<tr><td align='center'>Q4_5</td><td align='left'>No</td><td align='left'>Q4_5_No</td><td align='center'>0</td></tr>\n",
        "</table>\n",
        "</ul>\n",
        "<br><br>\n",
        "\n",
        "<table width='100%' ><tr><td bgcolor='green'></td></tr></table>"
      ]
    },
    {
      "cell_type": "markdown",
      "metadata": {
        "id": "Obd8HpB5ywMe"
      },
      "source": [
        "The following data files are needed for this notebook.\n",
        "\n",
        "<p align='center'><img src=\"https://drive.google.com/uc?export=view&id=17nj1gL7oLIzeJTiKVAd5qG0g5wXw2LCx\"></p>"
      ]
    },
    {
      "cell_type": "markdown",
      "metadata": {
        "id": "uJZ2zZrqki2O"
      },
      "source": [
        "### Aside: Google Sheet Style Output in Colab\n",
        "\n",
        "<table width='100%' ><tr><td bgcolor='orange'></td></tr></table>\n",
        "\n",
        "The following extension can be used to preview data via a Google Sheet structure inside of Colab."
      ]
    },
    {
      "cell_type": "code",
      "metadata": {
        "id": "Nqvi_ms3EOKs",
        "colab": {
          "base_uri": "https://localhost:8080/"
        },
        "outputId": "ca376f04-1ae4-4aa2-9846-76cf9c75d750"
      },
      "source": [
        "%load_ext google.colab.data_table"
      ],
      "execution_count": 10,
      "outputs": [
        {
          "output_type": "stream",
          "text": [
            "The google.colab.data_table extension is already loaded. To reload it, use:\n",
            "  %reload_ext google.colab.data_table\n"
          ],
          "name": "stdout"
        }
      ]
    },
    {
      "cell_type": "markdown",
      "metadata": {
        "id": "BS2PLv4bEloI"
      },
      "source": [
        "The following command can be used to unload this extension from this session of Colab."
      ]
    },
    {
      "cell_type": "code",
      "metadata": {
        "id": "KfB1Mfv5Elwk",
        "colab": {
          "base_uri": "https://localhost:8080/"
        },
        "outputId": "be1f062b-100b-4938-d07d-bf16f24db68e"
      },
      "source": [
        "%unload_ext google.colab.data_table"
      ],
      "execution_count": 24,
      "outputs": [
        {
          "output_type": "stream",
          "text": [
            "The google.colab.data_table extension is not loaded.\n"
          ],
          "name": "stdout"
        }
      ]
    },
    {
      "cell_type": "markdown",
      "metadata": {
        "id": "ZItOBRGBk4hd"
      },
      "source": [
        "<table width='100%' ><tr><td bgcolor='orange'></td></tr></table>"
      ]
    },
    {
      "cell_type": "markdown",
      "metadata": {
        "id": "FqYo-63eEE-D"
      },
      "source": [
        "## Brute Force Approach to Recode Pre"
      ]
    },
    {
      "cell_type": "markdown",
      "metadata": {
        "id": "Np7ksDnMliNu"
      },
      "source": [
        "We will make extensive use of the <strong>dfply</strong> package in our analysis."
      ]
    },
    {
      "cell_type": "code",
      "metadata": {
        "colab": {
          "base_uri": "https://localhost:8080/"
        },
        "id": "-QiqsoUmEFGz",
        "outputId": "ae868643-9619-4e59-df2b-b695cb7347be"
      },
      "source": [
        "pip install dfply"
      ],
      "execution_count": 25,
      "outputs": [
        {
          "output_type": "stream",
          "text": [
            "Requirement already satisfied: dfply in /usr/local/lib/python3.7/dist-packages (0.3.3)\n",
            "Requirement already satisfied: pandas in /usr/local/lib/python3.7/dist-packages (from dfply) (1.1.5)\n",
            "Requirement already satisfied: numpy in /usr/local/lib/python3.7/dist-packages (from dfply) (1.19.5)\n",
            "Requirement already satisfied: python-dateutil>=2.7.3 in /usr/local/lib/python3.7/dist-packages (from pandas->dfply) (2.8.1)\n",
            "Requirement already satisfied: pytz>=2017.2 in /usr/local/lib/python3.7/dist-packages (from pandas->dfply) (2018.9)\n",
            "Requirement already satisfied: six>=1.5 in /usr/local/lib/python3.7/dist-packages (from python-dateutil>=2.7.3->pandas->dfply) (1.15.0)\n"
          ],
          "name": "stdout"
        }
      ]
    },
    {
      "cell_type": "markdown",
      "metadata": {
        "id": "uWyQuXL2ZMl8"
      },
      "source": [
        "Next, import the dfply package into this session of Colab."
      ]
    },
    {
      "cell_type": "code",
      "metadata": {
        "id": "NchNX9iDZMu5"
      },
      "source": [
        "from dfply import *"
      ],
      "execution_count": 26,
      "outputs": []
    },
    {
      "cell_type": "markdown",
      "metadata": {
        "id": "n2H7Jm_K6I4Z"
      },
      "source": [
        "To begin, read-in the Pre data - data collected before the wellness campaign was initiated."
      ]
    },
    {
      "cell_type": "code",
      "metadata": {
        "id": "F2xYGaRw6I_i"
      },
      "source": [
        "Pre = pd.read_csv(\"/content/sample_data/PreSurveys.csv\") "
      ],
      "execution_count": 27,
      "outputs": []
    },
    {
      "cell_type": "markdown",
      "metadata": {
        "id": "L3jeSP3j6Mo0"
      },
      "source": [
        "Takign a quick look at the number of rows and columns in the Pre data."
      ]
    },
    {
      "cell_type": "code",
      "metadata": {
        "colab": {
          "base_uri": "https://localhost:8080/"
        },
        "id": "BbNtph3Z6MwP",
        "outputId": "e9324649-0ebc-485f-e132-3f4e02d7ce9d"
      },
      "source": [
        "Pre.shape"
      ],
      "execution_count": 28,
      "outputs": [
        {
          "output_type": "execute_result",
          "data": {
            "text/plain": [
              "(1255, 27)"
            ]
          },
          "metadata": {
            "tags": []
          },
          "execution_count": 28
        }
      ]
    },
    {
      "cell_type": "markdown",
      "metadata": {
        "id": "xJBrwERq7j1B"
      },
      "source": [
        "The following snipit of code prints the dataframe in a tabular format."
      ]
    },
    {
      "cell_type": "code",
      "metadata": {
        "colab": {
          "base_uri": "https://localhost:8080/"
        },
        "id": "xwFbY8827kAO",
        "outputId": "1885abaf-ed66-4d42-a458-2c5c0a64cbac"
      },
      "source": [
        "#Pretty Table...\n",
        "print(Pre.to_string(index=False, max_rows=10))"
      ],
      "execution_count": 22,
      "outputs": [
        {
          "output_type": "stream",
          "text": [
            " RowID     Date  surveyLinkID                        Q1_1                        Q2_1                        Q2_2                        Q2_3                      Q3_1                      Q3_2                      Q3_3                      Q3_4                      Q3_5                      Q3_6                      Q3_7                      Q3_8                      Q3_9                     Q3_10                     Q3_11                     Q3_12                     Q3_13                     Q3_14                     Q3_15 Q4_1 Q4_2 Q4_3 Q4_4 Q4_5\n",
            "     1  2/10/21  VRYHEBJPSQBG                   Sometimes      To a very small extent           To a large extent                    Somewhat  A small part of the time  A small part of the time  A small part of the time  A large part of the time          Part of the time  A large part of the time          Part of the time          Part of the time          Part of the time  A large part of the time          Part of the time  A large part of the time  A small part of the time          Part of the time  A large part of the time  Yes  Yes  Yes   No   No\n",
            "     2  2/10/21  GNSIGOXQBCXM                   Sometimes                    Somewhat           To a large extent                    Somewhat          Part of the time          Part of the time  A small part of the time  A large part of the time          Part of the time          Part of the time          Part of the time  A large part of the time          Part of the time  A small part of the time          Part of the time  A large part of the time  A small part of the time  A large part of the time  A large part of the time   No   No  Yes  Yes   No\n",
            "     3  2/10/21  XGXMSAAEUYUC                      Seldom           To a small extent      To a very large extent      To a very large extent  A large part of the time          Part of the time  A large part of the time  A large part of the time          Part of the time  A large part of the time  A large part of the time  A large part of the time          Part of the time  A large part of the time  A large part of the time  A large part of the time  A large part of the time  A large part of the time  A large part of the time   No   No   No  Yes  Yes\n",
            "     4  2/10/21  HTSURSVFKMAR                   Sometimes           To a large extent           To a large extent                    Somewhat  A small part of the time  A large part of the time  A small part of the time  A small part of the time                Not at all                Not at all  A small part of the time          Part of the time  A small part of the time  A small part of the time                Not at all                Not at all          Part of the time  A small part of the time          Part of the time   No   No   No   No   No\n",
            "     5  2/10/21  EFHWQFAWLUEY                      Seldom           To a small extent                    Somewhat                    Somewhat  A large part of the time  A large part of the time  A small part of the time  A large part of the time  A large part of the time  A small part of the time  A small part of the time                Not at all  A small part of the time  A small part of the time          Part of the time          Part of the time  A small part of the time  A large part of the time          Part of the time  Yes   No  Yes   No   No\n",
            "...         ...           ...                         ...                         ...                         ...                         ...                       ...                       ...                       ...                       ...                       ...                       ...                       ...                       ...                       ...                       ...                       ...                       ...                       ...                       ...                       ...  ...  ...  ...  ...  ...\n",
            "  1251   3/9/21  TLRSUEVRUEWK                   Sometimes           To a large extent           To a large extent                    Somewhat  A small part of the time  A large part of the time                Not at all  A small part of the time  A small part of the time  A small part of the time          Part of the time  A small part of the time  A large part of the time  A small part of the time                Not at all                Not at all  A small part of the time  A large part of the time                Not at all   No   No   No   No   No\n",
            "  1252   3/9/21  RRNKLCQLIWPT                       Often           To a large extent           To a small extent           To a small extent  A large part of the time  A large part of the time          Part of the time  A large part of the time           All of the time          Part of the time          Part of the time  A small part of the time  A large part of the time           All of the time  A large part of the time  A large part of the time  A large part of the time           All of the time          Part of the time   No  Yes  Yes  Yes   No\n",
            "  1253   3/9/21  FFFSOUWSFSWA                      Seldom      To a very large extent                    Somewhat           To a large extent          Part of the time                Not at all          Part of the time                Not at all  A small part of the time          Part of the time          Part of the time          Part of the time  A small part of the time                Not at all  A large part of the time          Part of the time  A small part of the time                Not at all  A small part of the time   No  Yes   No   No   No\n",
            "  1254   3/9/21  QYSIUBDVXSXW  I do not have a supervisor  I do not have a supervisor  I do not have a supervisor  I do not have a supervisor  A small part of the time          Part of the time                Not at all  A small part of the time  A small part of the time                Not at all          Part of the time  A large part of the time                Not at all          Part of the time          Part of the time          Part of the time  A large part of the time          Part of the time  A small part of the time  Yes   No   No   No   No\n",
            "  1255   3/9/21  WEMIMWXLRMBW                   Sometimes           To a large extent                    Somewhat      To a very large extent          Part of the time  A small part of the time                Not at all  A small part of the time  A small part of the time          Part of the time  A small part of the time          Part of the time  A small part of the time  A large part of the time          Part of the time          Part of the time                Not at all  A small part of the time          Part of the time   No   No   No   No   No\n"
          ],
          "name": "stdout"
        }
      ]
    },
    {
      "cell_type": "markdown",
      "metadata": {
        "id": "v513O6oWhYOO"
      },
      "source": [
        "### Recode Question #1 Outcomes to Numeric"
      ]
    },
    {
      "cell_type": "markdown",
      "metadata": {
        "id": "Lttga8GjmECM"
      },
      "source": [
        "Consider Question #1 and the possible responses from Question #1.\n",
        "\n",
        "<table>\n",
        "<tr>\n",
        "  <td align=\"left\" colspan=\"7\"><strong>Question #1</strong>: How often do you get the support you need from your immediate supervisor?</td>\n",
        "</tr>\n",
        "<tr>\n",
        "  <td align=\"right\"><strong>Response:</strong></td>\n",
        "  <td align=\"center\">Always</td>\n",
        "  <td align=\"center\">Often</td>\n",
        "  <td align=\"center\">Sometimes</td>\n",
        "  <td align=\"center\">Seldom</td>\n",
        "  <td align=\"center\">Hardly Ever</td>\n",
        "  <td align=\"center\">I do not <br>have a supervisor</td>\n",
        "</tr>\n",
        "<tr>\n",
        "  <td align=\"right\"><strong>Score:</strong></td>\n",
        "  <td align=\"center\">5</td>\n",
        "  <td align=\"center\">4</td>\n",
        "  <td align=\"center\">3</td>\n",
        "  <td align=\"center\">2</td>\n",
        "  <td align=\"center\">1</td>  \n",
        "  <td align=\"center\">NaN</td>  \n",
        "  \n",
        "</tr>\n",
        "\n",
        "</table>\n"
      ]
    },
    {
      "cell_type": "markdown",
      "metadata": {
        "id": "A2AcQC9999Pa"
      },
      "source": [
        "The following snipit of code can be used to recode the responses so that scores can be computed."
      ]
    },
    {
      "cell_type": "code",
      "metadata": {
        "colab": {
          "base_uri": "https://localhost:8080/"
        },
        "id": "mJYIrDgZmEJs",
        "outputId": "8b1c6f78-1d45-412a-beee-4b0053648f95"
      },
      "source": [
        "Pre_Updated = (\n",
        "                 Pre\n",
        "                 >> mutate(Q1_1_Numeric = case_when(\n",
        "                                                      [X.Q1_1 == 'Always', 5.0],\n",
        "                                                      [X.Q1_1 == 'Often', 4.0],\n",
        "                                                      [X.Q1_1 == 'Sometimes', 3.0],\n",
        "                                                      [X.Q1_1 == 'Seldom', 2.0],\n",
        "                                                      [X.Q1_1 == 'Hardly Ever', 1.0],\n",
        "                                                      [X.Q1_1 == 'I do not have a supervisor', float(\"NaN\")]\n",
        "                                                   )\n",
        "                          )\n",
        "               )\n",
        "\n",
        "print(Pre_Updated.to_string(index=False, max_rows=10))"
      ],
      "execution_count": 30,
      "outputs": [
        {
          "output_type": "stream",
          "text": [
            " RowID     Date  surveyLinkID                        Q1_1                        Q2_1                        Q2_2                        Q2_3                      Q3_1                      Q3_2                      Q3_3                      Q3_4                      Q3_5                      Q3_6                      Q3_7                      Q3_8                      Q3_9                     Q3_10                     Q3_11                     Q3_12                     Q3_13                     Q3_14                     Q3_15 Q4_1 Q4_2 Q4_3 Q4_4 Q4_5  Q1_1_Numeric\n",
            "     1  2/10/21  VRYHEBJPSQBG                   Sometimes      To a very small extent           To a large extent                    Somewhat  A small part of the time  A small part of the time  A small part of the time  A large part of the time          Part of the time  A large part of the time          Part of the time          Part of the time          Part of the time  A large part of the time          Part of the time  A large part of the time  A small part of the time          Part of the time  A large part of the time  Yes  Yes  Yes   No   No           3.0\n",
            "     2  2/10/21  GNSIGOXQBCXM                   Sometimes                    Somewhat           To a large extent                    Somewhat          Part of the time          Part of the time  A small part of the time  A large part of the time          Part of the time          Part of the time          Part of the time  A large part of the time          Part of the time  A small part of the time          Part of the time  A large part of the time  A small part of the time  A large part of the time  A large part of the time   No   No  Yes  Yes   No           3.0\n",
            "     3  2/10/21  XGXMSAAEUYUC                      Seldom           To a small extent      To a very large extent      To a very large extent  A large part of the time          Part of the time  A large part of the time  A large part of the time          Part of the time  A large part of the time  A large part of the time  A large part of the time          Part of the time  A large part of the time  A large part of the time  A large part of the time  A large part of the time  A large part of the time  A large part of the time   No   No   No  Yes  Yes           2.0\n",
            "     4  2/10/21  HTSURSVFKMAR                   Sometimes           To a large extent           To a large extent                    Somewhat  A small part of the time  A large part of the time  A small part of the time  A small part of the time                Not at all                Not at all  A small part of the time          Part of the time  A small part of the time  A small part of the time                Not at all                Not at all          Part of the time  A small part of the time          Part of the time   No   No   No   No   No           3.0\n",
            "     5  2/10/21  EFHWQFAWLUEY                      Seldom           To a small extent                    Somewhat                    Somewhat  A large part of the time  A large part of the time  A small part of the time  A large part of the time  A large part of the time  A small part of the time  A small part of the time                Not at all  A small part of the time  A small part of the time          Part of the time          Part of the time  A small part of the time  A large part of the time          Part of the time  Yes   No  Yes   No   No           2.0\n",
            "...         ...           ...                         ...                         ...                         ...                         ...                       ...                       ...                       ...                       ...                       ...                       ...                       ...                       ...                       ...                       ...                       ...                       ...                       ...                       ...                       ...  ...  ...  ...  ...  ...           ...\n",
            "  1251   3/9/21  TLRSUEVRUEWK                   Sometimes           To a large extent           To a large extent                    Somewhat  A small part of the time  A large part of the time                Not at all  A small part of the time  A small part of the time  A small part of the time          Part of the time  A small part of the time  A large part of the time  A small part of the time                Not at all                Not at all  A small part of the time  A large part of the time                Not at all   No   No   No   No   No           3.0\n",
            "  1252   3/9/21  RRNKLCQLIWPT                       Often           To a large extent           To a small extent           To a small extent  A large part of the time  A large part of the time          Part of the time  A large part of the time           All of the time          Part of the time          Part of the time  A small part of the time  A large part of the time           All of the time  A large part of the time  A large part of the time  A large part of the time           All of the time          Part of the time   No  Yes  Yes  Yes   No           4.0\n",
            "  1253   3/9/21  FFFSOUWSFSWA                      Seldom      To a very large extent                    Somewhat           To a large extent          Part of the time                Not at all          Part of the time                Not at all  A small part of the time          Part of the time          Part of the time          Part of the time  A small part of the time                Not at all  A large part of the time          Part of the time  A small part of the time                Not at all  A small part of the time   No  Yes   No   No   No           2.0\n",
            "  1254   3/9/21  QYSIUBDVXSXW  I do not have a supervisor  I do not have a supervisor  I do not have a supervisor  I do not have a supervisor  A small part of the time          Part of the time                Not at all  A small part of the time  A small part of the time                Not at all          Part of the time  A large part of the time                Not at all          Part of the time          Part of the time          Part of the time  A large part of the time          Part of the time  A small part of the time  Yes   No   No   No   No           NaN\n",
            "  1255   3/9/21  WEMIMWXLRMBW                   Sometimes           To a large extent                    Somewhat      To a very large extent          Part of the time  A small part of the time                Not at all  A small part of the time  A small part of the time          Part of the time  A small part of the time          Part of the time  A small part of the time  A large part of the time          Part of the time          Part of the time                Not at all  A small part of the time          Part of the time   No   No   No   No   No           3.0\n"
          ],
          "name": "stdout"
        }
      ]
    },
    {
      "cell_type": "markdown",
      "metadata": {
        "id": "UK7dzzMHHvlK"
      },
      "source": [
        "###  Recode Question #2 Outcomes to Numeric"
      ]
    },
    {
      "cell_type": "markdown",
      "metadata": {
        "id": "5opPHejEH81G"
      },
      "source": [
        "Next, consider the recoding that must be done for Question #2.  Question #2 had 3 parts and the recoding must be done on each part.  The possible responses are the same for the 3 parts.\n",
        "\n",
        "<table>\n",
        "<tr>\n",
        "  <td align=\"left\" colspan=\"7\"><strong>Question #2 - 1</strong>: To what extent would you say your immediate supervisor is good at solving conflicts?\n",
        "  </td>\n",
        "</tr>\n",
        "<tr>\n",
        "  <td align=\"left\" colspan=\"7\">\n",
        "<strong>Question #2 - 2</strong>: To what extent would you say your immediate supervisor is good at solving problems?\n",
        "  </td>\n",
        "</tr>\n",
        "<tr>\n",
        "  <td align=\"left\" colspan=\"7\">\n",
        "<strong>Question #2 - 3</strong>: To what extent would you say your immediate supervisor is good at providing a respectful work environment?</td>\n",
        "</tr>\n",
        "<tr>\n",
        "  <td align=\"right\"><strong>Responses:</strong></td>\n",
        "  <td align=\"center\">To a very larg extent</td>\n",
        "  <td align=\"center\">To a large extent</td>\n",
        "  <td align=\"center\">Somewhat</td>\n",
        "  <td align=\"center\">To a small extent</td>\n",
        "  <td align=\"center\">To a very small extent</td>\n",
        "  <td align=\"center\">I do not <br>have a supervisor</td>\n",
        "</tr>\n",
        "<tr>\n",
        "  <td align=\"right\"><strong>Score:</strong></td>\n",
        "  <td align=\"center\">5</td>\n",
        "  <td align=\"center\">4</td>\n",
        "  <td align=\"center\">3</td>\n",
        "  <td align=\"center\">2</td>\n",
        "  <td align=\"center\">1</td>  \n",
        "  <td align=\"center\">NaN</td>  \n",
        "  \n",
        "</tr>\n",
        "\n",
        "</table>\n"
      ]
    },
    {
      "cell_type": "markdown",
      "metadata": {
        "id": "0Omv1s4c-iNi"
      },
      "source": [
        "The following snipit of code can be used to recode the responses so that scores can be computed for Question #2."
      ]
    },
    {
      "cell_type": "code",
      "metadata": {
        "colab": {
          "base_uri": "https://localhost:8080/"
        },
        "id": "lDN1Wxv6HvvP",
        "outputId": "61949ddd-8bda-41e4-d18d-acbbf32eca91"
      },
      "source": [
        "Pre_Updated = (\n",
        "                 Pre_Updated\n",
        "                 >> mutate(Q2_1_Numeric = case_when(\n",
        "                                                      [X.Q2_1 == 'To a very large extent', 5.0],\n",
        "                                                      [X.Q2_1 == 'To a large extent', 4.0],\n",
        "                                                      [X.Q2_1 == 'Somewhat', 3.0],\n",
        "                                                      [X.Q2_1 == 'To a small extent', 2.0],\n",
        "                                                      [X.Q2_1 == 'To a very small extent', 1.0],\n",
        "                                                      [X.Q2_1 == 'I do not have a supervisor', float(\"NaN\")]\n",
        "                                                   )\n",
        "                          )\n",
        "                  >> mutate(Q2_2_Numeric = case_when(\n",
        "                                                      [X.Q2_2 == 'To a very large extent', 5.0],\n",
        "                                                      [X.Q2_2 == 'To a large extent', 4.0],\n",
        "                                                      [X.Q2_2 == 'Somewhat', 3.0],\n",
        "                                                      [X.Q2_2 == 'To a small extent', 2.0],\n",
        "                                                      [X.Q2_2 == 'To a very small extent', 1.0],\n",
        "                                                      [X.Q2_2 == 'I do not have a supervisor', float(\"NaN\")]\n",
        "                                                   )\n",
        "                          )\n",
        "                  >> mutate(Q2_3_Numeric = case_when(\n",
        "                                                      [X.Q2_3 == 'To a very large extent', 5.0],\n",
        "                                                      [X.Q2_3 == 'To a large extent', 4.0],\n",
        "                                                      [X.Q2_3 == 'Somewhat', 3.0],\n",
        "                                                      [X.Q2_3 == 'To a small extent', 2.0],\n",
        "                                                      [X.Q2_3 == 'To a very small extent', 1.0],\n",
        "                                                      [X.Q2_3 == 'I do not have a supervisor', float(\"NaN\")]\n",
        "                                                   )\n",
        "                          )\n",
        "\n",
        "               )\n",
        "print(Pre_Updated.to_string(index=False, max_rows=10))"
      ],
      "execution_count": 31,
      "outputs": [
        {
          "output_type": "stream",
          "text": [
            " RowID     Date  surveyLinkID                        Q1_1                        Q2_1                        Q2_2                        Q2_3                      Q3_1                      Q3_2                      Q3_3                      Q3_4                      Q3_5                      Q3_6                      Q3_7                      Q3_8                      Q3_9                     Q3_10                     Q3_11                     Q3_12                     Q3_13                     Q3_14                     Q3_15 Q4_1 Q4_2 Q4_3 Q4_4 Q4_5  Q1_1_Numeric  Q2_1_Numeric  Q2_2_Numeric  Q2_3_Numeric\n",
            "     1  2/10/21  VRYHEBJPSQBG                   Sometimes      To a very small extent           To a large extent                    Somewhat  A small part of the time  A small part of the time  A small part of the time  A large part of the time          Part of the time  A large part of the time          Part of the time          Part of the time          Part of the time  A large part of the time          Part of the time  A large part of the time  A small part of the time          Part of the time  A large part of the time  Yes  Yes  Yes   No   No           3.0           1.0           4.0           3.0\n",
            "     2  2/10/21  GNSIGOXQBCXM                   Sometimes                    Somewhat           To a large extent                    Somewhat          Part of the time          Part of the time  A small part of the time  A large part of the time          Part of the time          Part of the time          Part of the time  A large part of the time          Part of the time  A small part of the time          Part of the time  A large part of the time  A small part of the time  A large part of the time  A large part of the time   No   No  Yes  Yes   No           3.0           3.0           4.0           3.0\n",
            "     3  2/10/21  XGXMSAAEUYUC                      Seldom           To a small extent      To a very large extent      To a very large extent  A large part of the time          Part of the time  A large part of the time  A large part of the time          Part of the time  A large part of the time  A large part of the time  A large part of the time          Part of the time  A large part of the time  A large part of the time  A large part of the time  A large part of the time  A large part of the time  A large part of the time   No   No   No  Yes  Yes           2.0           2.0           5.0           5.0\n",
            "     4  2/10/21  HTSURSVFKMAR                   Sometimes           To a large extent           To a large extent                    Somewhat  A small part of the time  A large part of the time  A small part of the time  A small part of the time                Not at all                Not at all  A small part of the time          Part of the time  A small part of the time  A small part of the time                Not at all                Not at all          Part of the time  A small part of the time          Part of the time   No   No   No   No   No           3.0           4.0           4.0           3.0\n",
            "     5  2/10/21  EFHWQFAWLUEY                      Seldom           To a small extent                    Somewhat                    Somewhat  A large part of the time  A large part of the time  A small part of the time  A large part of the time  A large part of the time  A small part of the time  A small part of the time                Not at all  A small part of the time  A small part of the time          Part of the time          Part of the time  A small part of the time  A large part of the time          Part of the time  Yes   No  Yes   No   No           2.0           2.0           3.0           3.0\n",
            "...         ...           ...                         ...                         ...                         ...                         ...                       ...                       ...                       ...                       ...                       ...                       ...                       ...                       ...                       ...                       ...                       ...                       ...                       ...                       ...                       ...  ...  ...  ...  ...  ...           ...           ...           ...           ...\n",
            "  1251   3/9/21  TLRSUEVRUEWK                   Sometimes           To a large extent           To a large extent                    Somewhat  A small part of the time  A large part of the time                Not at all  A small part of the time  A small part of the time  A small part of the time          Part of the time  A small part of the time  A large part of the time  A small part of the time                Not at all                Not at all  A small part of the time  A large part of the time                Not at all   No   No   No   No   No           3.0           4.0           4.0           3.0\n",
            "  1252   3/9/21  RRNKLCQLIWPT                       Often           To a large extent           To a small extent           To a small extent  A large part of the time  A large part of the time          Part of the time  A large part of the time           All of the time          Part of the time          Part of the time  A small part of the time  A large part of the time           All of the time  A large part of the time  A large part of the time  A large part of the time           All of the time          Part of the time   No  Yes  Yes  Yes   No           4.0           4.0           2.0           2.0\n",
            "  1253   3/9/21  FFFSOUWSFSWA                      Seldom      To a very large extent                    Somewhat           To a large extent          Part of the time                Not at all          Part of the time                Not at all  A small part of the time          Part of the time          Part of the time          Part of the time  A small part of the time                Not at all  A large part of the time          Part of the time  A small part of the time                Not at all  A small part of the time   No  Yes   No   No   No           2.0           5.0           3.0           4.0\n",
            "  1254   3/9/21  QYSIUBDVXSXW  I do not have a supervisor  I do not have a supervisor  I do not have a supervisor  I do not have a supervisor  A small part of the time          Part of the time                Not at all  A small part of the time  A small part of the time                Not at all          Part of the time  A large part of the time                Not at all          Part of the time          Part of the time          Part of the time  A large part of the time          Part of the time  A small part of the time  Yes   No   No   No   No           NaN           NaN           NaN           NaN\n",
            "  1255   3/9/21  WEMIMWXLRMBW                   Sometimes           To a large extent                    Somewhat      To a very large extent          Part of the time  A small part of the time                Not at all  A small part of the time  A small part of the time          Part of the time  A small part of the time          Part of the time  A small part of the time  A large part of the time          Part of the time          Part of the time                Not at all  A small part of the time          Part of the time   No   No   No   No   No           3.0           4.0           3.0           5.0\n"
          ],
          "name": "stdout"
        }
      ]
    },
    {
      "cell_type": "markdown",
      "metadata": {
        "id": "AsaxqXiWPCxs"
      },
      "source": [
        "### Overall Score for Support from Supervisor"
      ]
    },
    {
      "cell_type": "markdown",
      "metadata": {
        "id": "vO2EAkCm-ydR"
      },
      "source": [
        "Once scores for Question #1 and Question #2 have been obtained, these scores can be used to obtain an Overall Score for Support.  "
      ]
    },
    {
      "cell_type": "code",
      "metadata": {
        "colab": {
          "base_uri": "https://localhost:8080/"
        },
        "id": "G26cCK7IPC7j",
        "outputId": "da2089f9-49a3-4b37-cb18-28e3ece0dbc0"
      },
      "source": [
        "Pre_Updated = (\n",
        "                 Pre_Updated\n",
        "                 >> mutate(SupportScore = X.Q1_1_Numeric + X.Q2_1_Numeric + X.Q2_2_Numeric + X.Q2_3_Numeric)\n",
        "              )\n",
        "print(Pre_Updated.to_string(index=False, max_rows=10))"
      ],
      "execution_count": 32,
      "outputs": [
        {
          "output_type": "stream",
          "text": [
            " RowID     Date  surveyLinkID                        Q1_1                        Q2_1                        Q2_2                        Q2_3                      Q3_1                      Q3_2                      Q3_3                      Q3_4                      Q3_5                      Q3_6                      Q3_7                      Q3_8                      Q3_9                     Q3_10                     Q3_11                     Q3_12                     Q3_13                     Q3_14                     Q3_15 Q4_1 Q4_2 Q4_3 Q4_4 Q4_5  Q1_1_Numeric  Q2_1_Numeric  Q2_2_Numeric  Q2_3_Numeric  SupportScore\n",
            "     1  2/10/21  VRYHEBJPSQBG                   Sometimes      To a very small extent           To a large extent                    Somewhat  A small part of the time  A small part of the time  A small part of the time  A large part of the time          Part of the time  A large part of the time          Part of the time          Part of the time          Part of the time  A large part of the time          Part of the time  A large part of the time  A small part of the time          Part of the time  A large part of the time  Yes  Yes  Yes   No   No           3.0           1.0           4.0           3.0          11.0\n",
            "     2  2/10/21  GNSIGOXQBCXM                   Sometimes                    Somewhat           To a large extent                    Somewhat          Part of the time          Part of the time  A small part of the time  A large part of the time          Part of the time          Part of the time          Part of the time  A large part of the time          Part of the time  A small part of the time          Part of the time  A large part of the time  A small part of the time  A large part of the time  A large part of the time   No   No  Yes  Yes   No           3.0           3.0           4.0           3.0          13.0\n",
            "     3  2/10/21  XGXMSAAEUYUC                      Seldom           To a small extent      To a very large extent      To a very large extent  A large part of the time          Part of the time  A large part of the time  A large part of the time          Part of the time  A large part of the time  A large part of the time  A large part of the time          Part of the time  A large part of the time  A large part of the time  A large part of the time  A large part of the time  A large part of the time  A large part of the time   No   No   No  Yes  Yes           2.0           2.0           5.0           5.0          14.0\n",
            "     4  2/10/21  HTSURSVFKMAR                   Sometimes           To a large extent           To a large extent                    Somewhat  A small part of the time  A large part of the time  A small part of the time  A small part of the time                Not at all                Not at all  A small part of the time          Part of the time  A small part of the time  A small part of the time                Not at all                Not at all          Part of the time  A small part of the time          Part of the time   No   No   No   No   No           3.0           4.0           4.0           3.0          14.0\n",
            "     5  2/10/21  EFHWQFAWLUEY                      Seldom           To a small extent                    Somewhat                    Somewhat  A large part of the time  A large part of the time  A small part of the time  A large part of the time  A large part of the time  A small part of the time  A small part of the time                Not at all  A small part of the time  A small part of the time          Part of the time          Part of the time  A small part of the time  A large part of the time          Part of the time  Yes   No  Yes   No   No           2.0           2.0           3.0           3.0          10.0\n",
            "...         ...           ...                         ...                         ...                         ...                         ...                       ...                       ...                       ...                       ...                       ...                       ...                       ...                       ...                       ...                       ...                       ...                       ...                       ...                       ...                       ...  ...  ...  ...  ...  ...           ...           ...           ...           ...           ...\n",
            "  1251   3/9/21  TLRSUEVRUEWK                   Sometimes           To a large extent           To a large extent                    Somewhat  A small part of the time  A large part of the time                Not at all  A small part of the time  A small part of the time  A small part of the time          Part of the time  A small part of the time  A large part of the time  A small part of the time                Not at all                Not at all  A small part of the time  A large part of the time                Not at all   No   No   No   No   No           3.0           4.0           4.0           3.0          14.0\n",
            "  1252   3/9/21  RRNKLCQLIWPT                       Often           To a large extent           To a small extent           To a small extent  A large part of the time  A large part of the time          Part of the time  A large part of the time           All of the time          Part of the time          Part of the time  A small part of the time  A large part of the time           All of the time  A large part of the time  A large part of the time  A large part of the time           All of the time          Part of the time   No  Yes  Yes  Yes   No           4.0           4.0           2.0           2.0          12.0\n",
            "  1253   3/9/21  FFFSOUWSFSWA                      Seldom      To a very large extent                    Somewhat           To a large extent          Part of the time                Not at all          Part of the time                Not at all  A small part of the time          Part of the time          Part of the time          Part of the time  A small part of the time                Not at all  A large part of the time          Part of the time  A small part of the time                Not at all  A small part of the time   No  Yes   No   No   No           2.0           5.0           3.0           4.0          14.0\n",
            "  1254   3/9/21  QYSIUBDVXSXW  I do not have a supervisor  I do not have a supervisor  I do not have a supervisor  I do not have a supervisor  A small part of the time          Part of the time                Not at all  A small part of the time  A small part of the time                Not at all          Part of the time  A large part of the time                Not at all          Part of the time          Part of the time          Part of the time  A large part of the time          Part of the time  A small part of the time  Yes   No   No   No   No           NaN           NaN           NaN           NaN           NaN\n",
            "  1255   3/9/21  WEMIMWXLRMBW                   Sometimes           To a large extent                    Somewhat      To a very large extent          Part of the time  A small part of the time                Not at all  A small part of the time  A small part of the time          Part of the time  A small part of the time          Part of the time  A small part of the time  A large part of the time          Part of the time          Part of the time                Not at all  A small part of the time          Part of the time   No   No   No   No   No           3.0           4.0           3.0           5.0          15.0\n"
          ],
          "name": "stdout"
        }
      ]
    },
    {
      "cell_type": "markdown",
      "metadata": {
        "id": "dML_nJaYT14v"
      },
      "source": [
        "### Basic Summaries for Support from Supervisor"
      ]
    },
    {
      "cell_type": "markdown",
      "metadata": {
        "id": "hCjN03iAQk9a"
      },
      "source": [
        "The following snipit can be used to obtain the average Support Score for the  Pre outcomes and round the result."
      ]
    },
    {
      "cell_type": "code",
      "metadata": {
        "colab": {
          "base_uri": "https://localhost:8080/"
        },
        "id": "VEustQ6FQlKc",
        "outputId": "06be0ea7-7331-469e-8e65-a49b2e385959"
      },
      "source": [
        "round(Pre_Updated.SupportScore.mean(),1)"
      ],
      "execution_count": 33,
      "outputs": [
        {
          "output_type": "execute_result",
          "data": {
            "text/plain": [
              "13.1"
            ]
          },
          "metadata": {
            "tags": []
          },
          "execution_count": 33
        }
      ]
    },
    {
      "cell_type": "markdown",
      "metadata": {
        "id": "pQ8zIXECRvkA"
      },
      "source": [
        "The <strong>seaborn</strong> graphics package can be used to obtain a histogram of these Overall Support Score for the Pre outcomes. The <strong>histplot()</strong> function is used to construct a simple histogram."
      ]
    },
    {
      "cell_type": "code",
      "metadata": {
        "colab": {
          "base_uri": "https://localhost:8080/",
          "height": 288
        },
        "id": "-5K71nsCRvvz",
        "outputId": "c6fe121e-3ee7-4246-869b-6927ee3954dd"
      },
      "source": [
        "import seaborn as sns\n",
        "sns.set_theme(style=\"whitegrid\")\n",
        "\n",
        "histplot = sns.histplot(x=\"SupportScore\", discrete=True, data=Pre_Updated)"
      ],
      "execution_count": null,
      "outputs": [
        {
          "output_type": "display_data",
          "data": {
            "image/png": "[encoded data removed]",
            "text/plain": [
              "<Figure size 432x288 with 1 Axes>"
            ]
          },
          "metadata": {
            "tags": []
          }
        }
      ]
    },
    {
      "cell_type": "markdown",
      "metadata": {
        "id": "no1dvaKqTM4w"
      },
      "source": [
        "## Using a JOIN to Recode Pre Outcomes"
      ]
    },
    {
      "cell_type": "markdown",
      "metadata": {
        "id": "WgMATRSe_09D"
      },
      "source": [
        "The mutate() and case_when() methodology for recoding does **not** scale.  For example, consider the recoding that needs to be done for Stress section.  The stress question has 15 parts and thus 15 mutate() and case_when() statements will need to be coded.  Furthermore, if the scoring of questions varies or changes, your code will need to be rewritten!  Overall, the brute force approach done above is *not* desirable.\n",
        "\n",
        "In this section, we will consider a more scalable and efficient apporach to obtain the necessary recoding."
      ]
    },
    {
      "cell_type": "code",
      "metadata": {
        "id": "TiefovCPTNKV"
      },
      "source": [
        "Pre = pd.read_csv(\"/content/sample_data/PreSurveys.csv\") "
      ],
      "execution_count": 34,
      "outputs": []
    },
    {
      "cell_type": "markdown",
      "metadata": {
        "id": "xLjtyB0EURHh"
      },
      "source": [
        "Taking a look at the orginal dataframe."
      ]
    },
    {
      "cell_type": "code",
      "metadata": {
        "colab": {
          "base_uri": "https://localhost:8080/"
        },
        "id": "6DY_vLrxURZw",
        "outputId": "3f2568a5-3eff-44af-bbe8-2ad962fc35c5"
      },
      "source": [
        "Pre.shape"
      ],
      "execution_count": 35,
      "outputs": [
        {
          "output_type": "execute_result",
          "data": {
            "text/plain": [
              "(1255, 27)"
            ]
          },
          "metadata": {
            "tags": []
          },
          "execution_count": 35
        }
      ]
    },
    {
      "cell_type": "markdown",
      "metadata": {
        "id": "NuiAQ_cyEqfW"
      },
      "source": [
        "The recoding process requires that our data is put into a <strong>long</strong> format.  That is, the responses from the various questions will be stacked into a single column."
      ]
    },
    {
      "cell_type": "markdown",
      "metadata": {
        "id": "edlN7KWIErMh"
      },
      "source": [
        "First, identify the columns to be stacked.\n",
        "<p align='center'><img src=\"https://drive.google.com/uc?export=view&id=18Jm33fZcixpFBBKiO8cR8adeNLzwPsz6\" width=\"50%\" height=\"50%\"></p>\n",
        "\n",
        "Next step is to complete the stacking of the response columns.\n",
        "<p align='center'><img src=\"https://drive.google.com/uc?export=view&id=1UUlaAzqWGcybD13H6Faf3X45FA68zy6v\" width=\"30%\" height=\"30%\"></p>\n",
        "\n",
        "Finally, a <strong>new</strong> field is necessary to identify which qustion each response is from.\n",
        "\n",
        "<p align='center'><img src=\"https://drive.google.com/uc?export=view&id=143KEH8HPwYIGpN-HW1y8MFkANjbNEon8\" width=\"25%\" height=\"25%\"></p>\n",
        "\n",
        "\n",
        "\n"
      ]
    },
    {
      "cell_type": "markdown",
      "metadata": {
        "id": "L3zMLMdOGP6H"
      },
      "source": [
        "### Putting Pre Data into Long Format"
      ]
    },
    {
      "cell_type": "markdown",
      "metadata": {
        "id": "fU5xts-XUaS-"
      },
      "source": [
        "The data can be put into the <strong>long</strong> format using the <strong>gather()</strong> function. Here, we will <strong>gather</strong> all the response columns into a single column.  When conducting this gather, a field to identify the questions will need to be included to separate the responses from one question from another."
      ]
    },
    {
      "cell_type": "code",
      "metadata": {
        "colab": {
          "base_uri": "https://localhost:8080/"
        },
        "id": "-Y6R6KkJUacX",
        "outputId": "dff5e71b-7d5a-4f3f-c331-5857a5c7f5a9"
      },
      "source": [
        "Pre_Stacked = (\n",
        "                Pre\n",
        "               >> gather('Question_SubQuestion', 'Response',[X.Q1_1,\n",
        "                                                 X.Q2_1,X.Q2_2,X.Q2_3,\n",
        "                                                 X.Q3_1,X.Q3_2,X.Q3_3,X.Q3_4,X.Q3_5,X.Q3_6,X.Q3_7,X.Q3_8,X.Q3_9,X.Q3_10,X.Q3_11,X.Q3_12,X.Q3_13,X.Q3_14,X.Q3_15,\n",
        "                                                 X.Q4_1,X.Q4_2,X.Q4_3,X.Q4_4,X.Q4_5\n",
        "                                                 ])\n",
        "              )\n",
        "print(Pre_Stacked.to_string(index=False, max_rows=10))\n"
      ],
      "execution_count": 36,
      "outputs": [
        {
          "output_type": "stream",
          "text": [
            " RowID     Date  surveyLinkID Question_SubQuestion   Response\n",
            "     1  2/10/21  VRYHEBJPSQBG                 Q1_1  Sometimes\n",
            "     2  2/10/21  GNSIGOXQBCXM                 Q1_1  Sometimes\n",
            "     3  2/10/21  XGXMSAAEUYUC                 Q1_1     Seldom\n",
            "     4  2/10/21  HTSURSVFKMAR                 Q1_1  Sometimes\n",
            "     5  2/10/21  EFHWQFAWLUEY                 Q1_1     Seldom\n",
            "...         ...           ...                  ...        ...\n",
            "  1251   3/9/21  TLRSUEVRUEWK                 Q4_5         No\n",
            "  1252   3/9/21  RRNKLCQLIWPT                 Q4_5         No\n",
            "  1253   3/9/21  FFFSOUWSFSWA                 Q4_5         No\n",
            "  1254   3/9/21  QYSIUBDVXSXW                 Q4_5         No\n",
            "  1255   3/9/21  WEMIMWXLRMBW                 Q4_5         No\n"
          ],
          "name": "stdout"
        }
      ]
    },
    {
      "cell_type": "markdown",
      "metadata": {
        "id": "GHcNewmCZYVD"
      },
      "source": [
        "Next, use the <strong>str.split()</strong> function to split the Question_SubQuestion variable apart.  The is needed for the future JOIN."
      ]
    },
    {
      "cell_type": "code",
      "metadata": {
        "colab": {
          "base_uri": "https://localhost:8080/"
        },
        "id": "DODm-MWBZYfq",
        "outputId": "899d087f-854d-4cd3-b5dd-ae6ad227545e"
      },
      "source": [
        "Pre_Stacked_Updated = (\n",
        "                        Pre_Stacked\n",
        "                        >> mutate(Question = (X.Question_SubQuestion\n",
        "                                               .str.split(\"_\")\n",
        "                                               .str[0]\n",
        "                                             )\n",
        "                                 )\n",
        "                      )\n",
        "print(Pre_Stacked_Updated.to_string(index=False, max_rows=10))"
      ],
      "execution_count": 37,
      "outputs": [
        {
          "output_type": "stream",
          "text": [
            " RowID     Date  surveyLinkID Question_SubQuestion   Response Question\n",
            "     1  2/10/21  VRYHEBJPSQBG                 Q1_1  Sometimes       Q1\n",
            "     2  2/10/21  GNSIGOXQBCXM                 Q1_1  Sometimes       Q1\n",
            "     3  2/10/21  XGXMSAAEUYUC                 Q1_1     Seldom       Q1\n",
            "     4  2/10/21  HTSURSVFKMAR                 Q1_1  Sometimes       Q1\n",
            "     5  2/10/21  EFHWQFAWLUEY                 Q1_1     Seldom       Q1\n",
            "...         ...           ...                  ...        ...      ...\n",
            "  1251   3/9/21  TLRSUEVRUEWK                 Q4_5         No       Q4\n",
            "  1252   3/9/21  RRNKLCQLIWPT                 Q4_5         No       Q4\n",
            "  1253   3/9/21  FFFSOUWSFSWA                 Q4_5         No       Q4\n",
            "  1254   3/9/21  QYSIUBDVXSXW                 Q4_5         No       Q4\n",
            "  1255   3/9/21  WEMIMWXLRMBW                 Q4_5         No       Q4\n"
          ],
          "name": "stdout"
        }
      ]
    },
    {
      "cell_type": "markdown",
      "metadata": {
        "id": "W_i00Q6Tb_-D"
      },
      "source": [
        "The recoding / scoring for Q4 requires that the sub question be included because some parts of Q4 have a score of 1 for Yes and other parts have a score of 2 for Yes. The following code that fixes the issues with Q4 and retains the subquestion portion as needed."
      ]
    },
    {
      "cell_type": "code",
      "metadata": {
        "colab": {
          "base_uri": "https://localhost:8080/"
        },
        "id": "H8s_gRYScAJU",
        "outputId": "c72e1c97-9188-4ae4-f6ab-83fadfc279f7"
      },
      "source": [
        "Pre_Stacked_Updated = (\n",
        "                        Pre_Stacked_Updated\n",
        "                        >> mutate(QuestionFix = if_else( X.Question_SubQuestion.str.split(\"_\").str[0] == \"Q4\",\n",
        "                                                        X.Question_SubQuestion,\n",
        "                                                        X.Question_SubQuestion.str.split(\"_\").str[0]   \n",
        "                                                    )\n",
        "                                 )\n",
        "                      )\n",
        "print(Pre_Stacked_Updated.to_string(index=False, max_rows=10))"
      ],
      "execution_count": 38,
      "outputs": [
        {
          "output_type": "stream",
          "text": [
            " RowID     Date  surveyLinkID Question_SubQuestion   Response Question QuestionFix\n",
            "     1  2/10/21  VRYHEBJPSQBG                 Q1_1  Sometimes       Q1          Q1\n",
            "     2  2/10/21  GNSIGOXQBCXM                 Q1_1  Sometimes       Q1          Q1\n",
            "     3  2/10/21  XGXMSAAEUYUC                 Q1_1     Seldom       Q1          Q1\n",
            "     4  2/10/21  HTSURSVFKMAR                 Q1_1  Sometimes       Q1          Q1\n",
            "     5  2/10/21  EFHWQFAWLUEY                 Q1_1     Seldom       Q1          Q1\n",
            "...         ...           ...                  ...        ...      ...         ...\n",
            "  1251   3/9/21  TLRSUEVRUEWK                 Q4_5         No       Q4        Q4_5\n",
            "  1252   3/9/21  RRNKLCQLIWPT                 Q4_5         No       Q4        Q4_5\n",
            "  1253   3/9/21  FFFSOUWSFSWA                 Q4_5         No       Q4        Q4_5\n",
            "  1254   3/9/21  QYSIUBDVXSXW                 Q4_5         No       Q4        Q4_5\n",
            "  1255   3/9/21  WEMIMWXLRMBW                 Q4_5         No       Q4        Q4_5\n"
          ],
          "name": "stdout"
        }
      ]
    },
    {
      "cell_type": "markdown",
      "metadata": {
        "id": "47dbeO9InJqq"
      },
      "source": [
        "The last befor the JOIN is to concatenate the Question and Response fields into a single column.  This new field will be the <strong>key</strong> for the JOIN and should match the <sttong>key</strong> in the Question Scoring data."
      ]
    },
    {
      "cell_type": "code",
      "metadata": {
        "colab": {
          "base_uri": "https://localhost:8080/"
        },
        "id": "35-rZ3WfihLS",
        "outputId": "58989b2c-5c74-4fc1-c9a3-101b196c42e3"
      },
      "source": [
        "Pre_Stacked_Updated = (\n",
        "                        Pre_Stacked_Updated\n",
        "                        >> mutate(Q_Response = X.QuestionFix + '_' + X.Response)\n",
        "                      )\n",
        "print(Pre_Stacked_Updated.to_string(index=False, max_rows=10))"
      ],
      "execution_count": 39,
      "outputs": [
        {
          "output_type": "stream",
          "text": [
            " RowID     Date  surveyLinkID Question_SubQuestion   Response Question QuestionFix    Q_Response\n",
            "     1  2/10/21  VRYHEBJPSQBG                 Q1_1  Sometimes       Q1          Q1  Q1_Sometimes\n",
            "     2  2/10/21  GNSIGOXQBCXM                 Q1_1  Sometimes       Q1          Q1  Q1_Sometimes\n",
            "     3  2/10/21  XGXMSAAEUYUC                 Q1_1     Seldom       Q1          Q1     Q1_Seldom\n",
            "     4  2/10/21  HTSURSVFKMAR                 Q1_1  Sometimes       Q1          Q1  Q1_Sometimes\n",
            "     5  2/10/21  EFHWQFAWLUEY                 Q1_1     Seldom       Q1          Q1     Q1_Seldom\n",
            "...         ...           ...                  ...        ...      ...         ...           ...\n",
            "  1251   3/9/21  TLRSUEVRUEWK                 Q4_5         No       Q4        Q4_5       Q4_5_No\n",
            "  1252   3/9/21  RRNKLCQLIWPT                 Q4_5         No       Q4        Q4_5       Q4_5_No\n",
            "  1253   3/9/21  FFFSOUWSFSWA                 Q4_5         No       Q4        Q4_5       Q4_5_No\n",
            "  1254   3/9/21  QYSIUBDVXSXW                 Q4_5         No       Q4        Q4_5       Q4_5_No\n",
            "  1255   3/9/21  WEMIMWXLRMBW                 Q4_5         No       Q4        Q4_5       Q4_5_No\n"
          ],
          "name": "stdout"
        }
      ]
    },
    {
      "cell_type": "markdown",
      "metadata": {
        "id": "aLyJSSDIpAFw"
      },
      "source": [
        "### Read-in the Question Scoring Table"
      ]
    },
    {
      "cell_type": "code",
      "metadata": {
        "id": "0USFCXr8pAOb"
      },
      "source": [
        "Question_Scoring = pd.read_csv(\"/content/sample_data/Question_Scoring.csv\") "
      ],
      "execution_count": 40,
      "outputs": []
    },
    {
      "cell_type": "markdown",
      "metadata": {
        "id": "kYtnWj81pKQH"
      },
      "source": [
        "Making sure the Question Scoring table was read in correctly."
      ]
    },
    {
      "cell_type": "code",
      "metadata": {
        "colab": {
          "base_uri": "https://localhost:8080/"
        },
        "id": "j9KugcZGpKZW",
        "outputId": "4017187e-5b95-4475-bf2a-6950bb7e5804"
      },
      "source": [
        "print(Question_Scoring.to_string(index=False))"
      ],
      "execution_count": 41,
      "outputs": [
        {
          "output_type": "stream",
          "text": [
            "Question                       Response                        Q_Response  Score\n",
            "      Q1                         Always                         Q1_Always    5.0\n",
            "      Q1                          Often                          Q1_Often    4.0\n",
            "      Q1                      Sometimes                      Q1_Sometimes    3.0\n",
            "      Q1                         Seldom                         Q1_Seldom    2.0\n",
            "      Q1                    Hardly Ever                    Q1_Hardly Ever    1.0\n",
            "      Q1     I do not have a supervisor     Q1_I do not have a supervisor    NaN\n",
            "      Q2         To a very large extent         Q2_To a very large extent    5.0\n",
            "      Q2              To a large extent              Q2_To a large extent    4.0\n",
            "      Q2                       Somewhat                       Q2_Somewhat    3.0\n",
            "      Q2              To a small extent              Q2_To a small extent    2.0\n",
            "      Q2         To a very small extent         Q2_To a very small extent    1.0\n",
            "      Q2     I do not have a supervisor     Q2_I do not have a supervisor    NaN\n",
            "      Q3                All of the time                Q3_All of the time    5.0\n",
            "      Q3       A large part of the time       Q3_A large part of the time    4.0\n",
            "      Q3               Part of the time               Q3_Part of the time    3.0\n",
            "      Q3       A small part of the time       Q3_A small part of the time    2.0\n",
            "      Q3  A very small part of the time  Q3_A very small part of the time    1.0\n",
            "      Q3                     Not at all                     Q3_Not at all    0.0\n",
            "    Q4_1                            Yes                          Q4_1_Yes    1.0\n",
            "    Q4_1                             No                           Q4_1_No    0.0\n",
            "    Q4_2                            Yes                          Q4_2_Yes    1.0\n",
            "    Q4_2                             No                           Q4_2_No    0.0\n",
            "    Q4_3                            Yes                          Q4_3_Yes    1.0\n",
            "    Q4_3                             No                           Q4_3_No    0.0\n",
            "    Q4_4                            Yes                          Q4_4_Yes    2.0\n",
            "    Q4_4                             No                           Q4_4_No    0.0\n",
            "    Q4_5                            Yes                          Q4_5_Yes    2.0\n",
            "    Q4_5                             No                           Q4_5_No    0.0\n"
          ],
          "name": "stdout"
        }
      ]
    },
    {
      "cell_type": "markdown",
      "metadata": {
        "id": "m9SLjCUGpVCH"
      },
      "source": [
        "### JOIN:  Pre + Question_Scoring"
      ]
    },
    {
      "cell_type": "markdown",
      "metadata": {
        "id": "CiwsdTi_ItgB"
      },
      "source": [
        "Next, we will complete the JOIN between the Pre outcomes and scoring information from the Question Scoring data.  The code includes a SELECT() and rename() to tidy up the results from the JOIN."
      ]
    },
    {
      "cell_type": "code",
      "metadata": {
        "colab": {
          "base_uri": "https://localhost:8080/"
        },
        "id": "O1073aEIpVJw",
        "outputId": "d5dc6e9f-942d-4779-8398-3ecbf72756aa"
      },
      "source": [
        "Pre_Stacked_withScores = (\n",
        "                            Pre_Stacked_Updated\n",
        "                            >> left_join(Question_Scoring, by='Q_Response')\n",
        "                            >> select(X.RowID, X.surveyLinkID,X.Question_SubQuestion,X.Response_x,X.Question_x,X.QuestionFix,X.Q_Response,X.Score)\n",
        "                            >> rename(Response = X.Response_x,Question = X.Question_x)\n",
        "                          )\n",
        "print(Pre_Stacked_withScores.to_string(index=False, max_rows=10))"
      ],
      "execution_count": 95,
      "outputs": [
        {
          "output_type": "stream",
          "text": [
            " RowID  surveyLinkID Question_SubQuestion   Response Question QuestionFix    Q_Response  Score\n",
            "     1  VRYHEBJPSQBG                 Q1_1  Sometimes       Q1          Q1  Q1_Sometimes    3.0\n",
            "     2  GNSIGOXQBCXM                 Q1_1  Sometimes       Q1          Q1  Q1_Sometimes    3.0\n",
            "     3  XGXMSAAEUYUC                 Q1_1     Seldom       Q1          Q1     Q1_Seldom    2.0\n",
            "     4  HTSURSVFKMAR                 Q1_1  Sometimes       Q1          Q1  Q1_Sometimes    3.0\n",
            "     5  EFHWQFAWLUEY                 Q1_1     Seldom       Q1          Q1     Q1_Seldom    2.0\n",
            "...              ...                  ...        ...      ...         ...           ...    ...\n",
            "  1251  TLRSUEVRUEWK                 Q4_5         No       Q4        Q4_5       Q4_5_No    0.0\n",
            "  1252  RRNKLCQLIWPT                 Q4_5         No       Q4        Q4_5       Q4_5_No    0.0\n",
            "  1253  FFFSOUWSFSWA                 Q4_5         No       Q4        Q4_5       Q4_5_No    0.0\n",
            "  1254  QYSIUBDVXSXW                 Q4_5         No       Q4        Q4_5       Q4_5_No    0.0\n",
            "  1255  WEMIMWXLRMBW                 Q4_5         No       Q4        Q4_5       Q4_5_No    0.0\n"
          ],
          "name": "stdout"
        }
      ]
    },
    {
      "cell_type": "markdown",
      "metadata": {
        "id": "PeXMz_D3J-5G"
      },
      "source": [
        "The overall score for Support from Supervisor requires scores from Q1 and Q2 to be combined.  Thus, the same label will need to be used in the group_by() statement in order to combine these scores."
      ]
    },
    {
      "cell_type": "code",
      "metadata": {
        "colab": {
          "base_uri": "https://localhost:8080/"
        },
        "id": "t9TNb7Y_J_Bm",
        "outputId": "eb488999-f9a4-4265-861c-fef048f3f4e0"
      },
      "source": [
        "Pre_Stacked_withScores = (\n",
        "                            Pre_Stacked_withScores\n",
        "                            >> mutate(Question2 = case_when(\n",
        "                                                              [X.Question == \"Q1\", \"Q12\"],\n",
        "                                                              [X.Question == \"Q2\", \"Q12\"],\n",
        "                                                              [X.Question == \"Q3\", \"Q3\"],\n",
        "                                                              [X.Question == \"Q4\", \"Q4\"]                                                             \n",
        "                                                           )\n",
        "                                     )\n",
        "                        )\n",
        "print(Pre_Stacked_withScores.to_string(index=False, max_rows=10))"
      ],
      "execution_count": 96,
      "outputs": [
        {
          "output_type": "stream",
          "text": [
            " RowID  surveyLinkID Question_SubQuestion   Response Question QuestionFix    Q_Response  Score Question2\n",
            "     1  VRYHEBJPSQBG                 Q1_1  Sometimes       Q1          Q1  Q1_Sometimes    3.0       Q12\n",
            "     2  GNSIGOXQBCXM                 Q1_1  Sometimes       Q1          Q1  Q1_Sometimes    3.0       Q12\n",
            "     3  XGXMSAAEUYUC                 Q1_1     Seldom       Q1          Q1     Q1_Seldom    2.0       Q12\n",
            "     4  HTSURSVFKMAR                 Q1_1  Sometimes       Q1          Q1  Q1_Sometimes    3.0       Q12\n",
            "     5  EFHWQFAWLUEY                 Q1_1     Seldom       Q1          Q1     Q1_Seldom    2.0       Q12\n",
            "...              ...                  ...        ...      ...         ...           ...    ...       ...\n",
            "  1251  TLRSUEVRUEWK                 Q4_5         No       Q4        Q4_5       Q4_5_No    0.0        Q4\n",
            "  1252  RRNKLCQLIWPT                 Q4_5         No       Q4        Q4_5       Q4_5_No    0.0        Q4\n",
            "  1253  FFFSOUWSFSWA                 Q4_5         No       Q4        Q4_5       Q4_5_No    0.0        Q4\n",
            "  1254  QYSIUBDVXSXW                 Q4_5         No       Q4        Q4_5       Q4_5_No    0.0        Q4\n",
            "  1255  WEMIMWXLRMBW                 Q4_5         No       Q4        Q4_5       Q4_5_No    0.0        Q4\n"
          ],
          "name": "stdout"
        }
      ]
    },
    {
      "cell_type": "markdown",
      "metadata": {
        "id": "IdwNBsp_O_za"
      },
      "source": [
        "Finally, tidy the dataframe up a little."
      ]
    },
    {
      "cell_type": "code",
      "metadata": {
        "colab": {
          "base_uri": "https://localhost:8080/"
        },
        "id": "6eJ57lslO_79",
        "outputId": "bba85672-9d16-4a10-ceec-b0971ab9316e"
      },
      "source": [
        "Pre_Stacked_withScores = (\n",
        "                            Pre_Stacked_withScores\n",
        "                            >> select(X.RowID, X.surveyLinkID, X.Question2, X.Score)\n",
        "                            >> rename(Question = X.Question2)\n",
        "                          )\n",
        "print(Pre_Stacked_withScores.to_string(index=False, max_rows=10))"
      ],
      "execution_count": 97,
      "outputs": [
        {
          "output_type": "stream",
          "text": [
            " RowID  surveyLinkID Question  Score\n",
            "     1  VRYHEBJPSQBG      Q12    3.0\n",
            "     2  GNSIGOXQBCXM      Q12    3.0\n",
            "     3  XGXMSAAEUYUC      Q12    2.0\n",
            "     4  HTSURSVFKMAR      Q12    3.0\n",
            "     5  EFHWQFAWLUEY      Q12    2.0\n",
            "...              ...      ...    ...\n",
            "  1251  TLRSUEVRUEWK       Q4    0.0\n",
            "  1252  RRNKLCQLIWPT       Q4    0.0\n",
            "  1253  FFFSOUWSFSWA       Q4    0.0\n",
            "  1254  QYSIUBDVXSXW       Q4    0.0\n",
            "  1255  WEMIMWXLRMBW       Q4    0.0\n"
          ],
          "name": "stdout"
        }
      ]
    },
    {
      "cell_type": "markdown",
      "metadata": {
        "id": "_FISQPjQ11D1"
      },
      "source": [
        "### Getting the Overall Scores for Pre"
      ]
    },
    {
      "cell_type": "markdown",
      "metadata": {
        "id": "mLOQLmC5v6pe"
      },
      "source": [
        "For each person, get an overall score:\n",
        "\n",
        "*  Support from Supervisor (Q1 & Q2 - 3 parts)\n",
        "*  Stress (Q3 - 15 parts)\n",
        "*  Workplace Violence (Q4 - 5 parts) \n"
      ]
    },
    {
      "cell_type": "code",
      "metadata": {
        "colab": {
          "base_uri": "https://localhost:8080/"
        },
        "id": "1S8ydmuxv6yy",
        "outputId": "424a4d7e-4428-42dd-b381-3917b6cea4ae"
      },
      "source": [
        "Pre_Scores = (\n",
        "              Pre_Stacked_withScores\n",
        "              >> group_by(X.surveyLinkID,X.Question)\n",
        "              >> summarize(Score = X.Score.sum())\n",
        "              )\n",
        "print(Pre_Scores.to_string(index=False, max_rows=10))"
      ],
      "execution_count": 99,
      "outputs": [
        {
          "output_type": "stream",
          "text": [
            "Question  surveyLinkID  Score\n",
            "     Q12  ABASIQJSRFGA   12.0\n",
            "      Q3  ABASIQJSRFGA   17.0\n",
            "      Q4  ABASIQJSRFGA    0.0\n",
            "     Q12  ABEPJDQHOQDM   14.0\n",
            "      Q3  ABEPJDQHOQDM   37.0\n",
            "...                ...    ...\n",
            "      Q3  YXTLUBNNQVIX   38.0\n",
            "      Q4  YXTLUBNNQVIX    2.0\n",
            "     Q12  YYXUAMCEAQNT   15.0\n",
            "      Q3  YYXUAMCEAQNT   21.0\n",
            "      Q4  YYXUAMCEAQNT    0.0\n"
          ],
          "name": "stdout"
        }
      ]
    },
    {
      "cell_type": "markdown",
      "metadata": {
        "id": "QWDahUZzxfFY"
      },
      "source": [
        "Finally, use <strong>seperate</strong> to put back the scores from each section into individual columns."
      ]
    },
    {
      "cell_type": "code",
      "metadata": {
        "colab": {
          "base_uri": "https://localhost:8080/"
        },
        "id": "Vp9JVysnxfOe",
        "outputId": "a44baa4a-be36-4481-be75-745754753ff7"
      },
      "source": [
        "Pre_Scores_Wide = (\n",
        "                    Pre_Scores\n",
        "                    >> mutate(Time_Question = \"Pre_\" + X.Question)\n",
        "                    >> select(~X.Question) \n",
        "                    >> spread(X.Time_Question, X.Score)      \n",
        "\n",
        "                 )\n",
        "\n",
        "print(Pre_Scores_Wide.to_string(index=False, max_rows=10))"
      ],
      "execution_count": 101,
      "outputs": [
        {
          "output_type": "stream",
          "text": [
            " surveyLinkID  Pre_Q12  Pre_Q3  Pre_Q4\n",
            " ABASIQJSRFGA     12.0    17.0     0.0\n",
            " ABEPJDQHOQDM     14.0    37.0     3.0\n",
            " ABTVNASQBFMK      0.0    54.0     4.0\n",
            " ACIMNUQCAQTG     12.0    51.0     3.0\n",
            " ACIQVRFTUDDV     15.0    47.0     4.0\n",
            "...                ...     ...     ...\n",
            " YWXEBJPNHDXC     20.0    31.0     1.0\n",
            " YXKDSKVXXPCR     17.0    35.0     1.0\n",
            " YXNJUCBDETYC     16.0    43.0     2.0\n",
            " YXTLUBNNQVIX     16.0    38.0     2.0\n",
            " YYXUAMCEAQNT     15.0    21.0     0.0\n"
          ],
          "name": "stdout"
        }
      ]
    },
    {
      "cell_type": "markdown",
      "metadata": {
        "id": "l2e7977J2eyx"
      },
      "source": [
        "## Using a JOIN to Recode Post Outcomes"
      ]
    },
    {
      "cell_type": "markdown",
      "metadata": {
        "id": "jSqPdHYtRAL1"
      },
      "source": [
        "First, read-in the Post outcomes."
      ]
    },
    {
      "cell_type": "code",
      "metadata": {
        "id": "WwPCY1i72e70"
      },
      "source": [
        "Post = pd.read_csv(\"/content/sample_data/PostSurveys.csv\") "
      ],
      "execution_count": 103,
      "outputs": []
    },
    {
      "cell_type": "markdown",
      "metadata": {
        "id": "IZIxv3Ip2qfw"
      },
      "source": [
        "Looking at the original Post dataframe."
      ]
    },
    {
      "cell_type": "code",
      "metadata": {
        "colab": {
          "base_uri": "https://localhost:8080/"
        },
        "id": "08Oumj552qqK",
        "outputId": "f2e7f740-e4c4-46ea-88b6-7ae6fd168095"
      },
      "source": [
        "print(Post.to_string(index=False, max_rows=10))"
      ],
      "execution_count": 104,
      "outputs": [
        {
          "output_type": "stream",
          "text": [
            " RowID       Date  surveyLinkID         Q1_1                    Q2_1                    Q2_2                    Q2_3                      Q3_1                      Q3_2                      Q3_3                      Q3_4                      Q3_5                      Q3_6                      Q3_7                      Q3_8                      Q3_9                     Q3_10                     Q3_11                     Q3_12                     Q3_13                     Q3_14                     Q3_15 Q4_1 Q4_2 Q4_3 Q4_4 Q4_5\n",
            "     1  3/18/2021  VRYHEBJPSQBG       Always       To a large extent  To a very large extent  To a very large extent  A small part of the time                Not at all  A small part of the time          Part of the time                Not at all                Not at all  A small part of the time                Not at all  A small part of the time          Part of the time                Not at all                Not at all                Not at all          Part of the time  A small part of the time   No   No   No   No   No\n",
            "     2  3/18/2021  GNSIGOXQBCXM        Often  To a very small extent       To a large extent       To a small extent  A small part of the time  A large part of the time  A large part of the time          Part of the time          Part of the time  A large part of the time  A large part of the time  A small part of the time          Part of the time          Part of the time  A large part of the time          Part of the time  A small part of the time           All of the time          Part of the time  Yes  Yes  Yes   No   No\n",
            "     3  3/18/2021  HTSURSVFKMAR    Sometimes  To a very large extent                Somewhat                Somewhat  A small part of the time  A small part of the time                Not at all          Part of the time                Not at all                Not at all  A small part of the time  A small part of the time          Part of the time  A small part of the time                Not at all          Part of the time  A small part of the time          Part of the time  A small part of the time  Yes   No   No   No   No\n",
            "     4  3/18/2021  MHQOJTTAUVSL       Always                Somewhat  To a very large extent  To a very large extent  A small part of the time  A large part of the time                Not at all  A small part of the time          Part of the time  A small part of the time          Part of the time                Not at all          Part of the time          Part of the time          Part of the time                Not at all  A large part of the time                Not at all  A small part of the time   No   No   No   No   No\n",
            "     5  3/18/2021  EFHWQFAWLUEY    Sometimes  To a very large extent       To a large extent       To a large extent  A large part of the time  A large part of the time  A small part of the time          Part of the time  A large part of the time          Part of the time  A small part of the time          Part of the time  A small part of the time  A large part of the time  A small part of the time          Part of the time  A small part of the time  A large part of the time  A large part of the time   No   No   No  Yes   No\n",
            "...           ...           ...          ...                     ...                     ...                     ...                       ...                       ...                       ...                       ...                       ...                       ...                       ...                       ...                       ...                       ...                       ...                       ...                       ...                       ...                       ...  ...  ...  ...  ...  ...\n",
            "   919  4/17/2021  IEFCTGBUUIEH        Often                Somewhat                Somewhat                Somewhat  A small part of the time          Part of the time                Not at all                Not at all                Not at all          Part of the time  A large part of the time                Not at all                Not at all                Not at all  A small part of the time          Part of the time  A small part of the time          Part of the time  A small part of the time   No   No  Yes   No   No\n",
            "   920  4/17/2021  TLRSUEVRUEWK       Always       To a small extent                Somewhat                Somewhat  A large part of the time  A small part of the time          Part of the time          Part of the time                Not at all  A large part of the time  A large part of the time  A large part of the time          Part of the time  A large part of the time  A small part of the time  A large part of the time                Not at all          Part of the time  A small part of the time   No  Yes  Yes   No   No\n",
            "   921  4/17/2021  RRNKLCQLIWPT    Sometimes                Somewhat                Somewhat  To a very large extent          Part of the time  A large part of the time  A large part of the time  A small part of the time  A small part of the time          Part of the time          Part of the time          Part of the time  A large part of the time  A small part of the time  A small part of the time  A large part of the time  A large part of the time           All of the time  A large part of the time   No   No  Yes  Yes   No\n",
            "   922  4/17/2021  FFFSOUWSFSWA    Sometimes       To a large extent                Somewhat  To a very large extent          Part of the time          Part of the time  A small part of the time  A large part of the time  A large part of the time  A small part of the time  A small part of the time  A small part of the time  A small part of the time  A small part of the time  A small part of the time  A small part of the time  A small part of the time  A small part of the time          Part of the time   No   No   No  Yes   No\n",
            "   923  4/17/2021  WEMIMWXLRMBW  Hardly Ever                Somewhat       To a small extent       To a large extent  A small part of the time          Part of the time          Part of the time  A large part of the time  A large part of the time  A large part of the time  A large part of the time          Part of the time  A large part of the time  A small part of the time          Part of the time          Part of the time          Part of the time          Part of the time          Part of the time  Yes  Yes  Yes   No   No\n"
          ],
          "name": "stdout"
        }
      ]
    },
    {
      "cell_type": "markdown",
      "metadata": {
        "id": "B0wk2r0w2q3O"
      },
      "source": [
        "First step is to use <strong>gather()</strong> to stack the responses into a single column."
      ]
    },
    {
      "cell_type": "code",
      "metadata": {
        "colab": {
          "base_uri": "https://localhost:8080/"
        },
        "id": "xT7wujRy2rML",
        "outputId": "68592da9-d3d7-4a6d-9a8d-36cf988f8f74"
      },
      "source": [
        "Post_Stacked = (\n",
        "                Post\n",
        "               >> gather('Question_SubQuestion', 'Response',[X.Q1_1,\n",
        "                                                 X.Q2_1,X.Q2_2,X.Q2_3,\n",
        "                                                 X.Q3_1,X.Q3_2,X.Q3_3,X.Q3_4,X.Q3_5,X.Q3_6,X.Q3_7,X.Q3_8,X.Q3_9,X.Q3_10,X.Q3_11,X.Q3_12,X.Q3_13,X.Q3_14,X.Q3_15,\n",
        "                                                 X.Q4_1,X.Q4_2,X.Q4_3,X.Q4_4,X.Q4_5\n",
        "                                                 ])\n",
        "              )\n",
        "print(Post_Stacked.to_string(index=False, max_rows=10))"
      ],
      "execution_count": 105,
      "outputs": [
        {
          "output_type": "stream",
          "text": [
            " RowID       Date  surveyLinkID Question_SubQuestion   Response\n",
            "     1  3/18/2021  VRYHEBJPSQBG                 Q1_1     Always\n",
            "     2  3/18/2021  GNSIGOXQBCXM                 Q1_1      Often\n",
            "     3  3/18/2021  HTSURSVFKMAR                 Q1_1  Sometimes\n",
            "     4  3/18/2021  MHQOJTTAUVSL                 Q1_1     Always\n",
            "     5  3/18/2021  EFHWQFAWLUEY                 Q1_1  Sometimes\n",
            "...           ...           ...                  ...        ...\n",
            "   919  4/17/2021  IEFCTGBUUIEH                 Q4_5         No\n",
            "   920  4/17/2021  TLRSUEVRUEWK                 Q4_5         No\n",
            "   921  4/17/2021  RRNKLCQLIWPT                 Q4_5         No\n",
            "   922  4/17/2021  FFFSOUWSFSWA                 Q4_5         No\n",
            "   923  4/17/2021  WEMIMWXLRMBW                 Q4_5         No\n"
          ],
          "name": "stdout"
        }
      ]
    },
    {
      "cell_type": "markdown",
      "metadata": {
        "id": "XQc3KArD3EWw"
      },
      "source": [
        "Next, create the Question and QuestionFix fields to prepare for the upcoming JOIN with the Question Scoring table."
      ]
    },
    {
      "cell_type": "code",
      "metadata": {
        "colab": {
          "base_uri": "https://localhost:8080/"
        },
        "id": "qJxYcoWx3EgB",
        "outputId": "d7b51dcb-f01b-4436-e1b1-54513eec86e9"
      },
      "source": [
        "Post_Stacked_Updated = (\n",
        "                        Post_Stacked\n",
        "                        >> mutate(Question = (X.Question_SubQuestion\n",
        "                                               .str.split(\"_\")\n",
        "                                               .str[0]\n",
        "                                             )\n",
        "                                 )\n",
        "                        >> mutate(QuestionFix = if_else( X.Question_SubQuestion.str.split(\"_\").str[0] == \"Q4\",\n",
        "                                                        X.Question_SubQuestion,\n",
        "                                                        X.Question_SubQuestion.str.split(\"_\").str[0]   \n",
        "                                                    )\n",
        "                                 )\n",
        "                        >> mutate(Q_Response = X.QuestionFix + '_' + X.Response)\n",
        "                      )\n",
        "print(Post_Stacked_Updated.to_string(index=False, max_rows=10))"
      ],
      "execution_count": 106,
      "outputs": [
        {
          "output_type": "stream",
          "text": [
            " RowID       Date  surveyLinkID Question_SubQuestion   Response Question QuestionFix    Q_Response\n",
            "     1  3/18/2021  VRYHEBJPSQBG                 Q1_1     Always       Q1          Q1     Q1_Always\n",
            "     2  3/18/2021  GNSIGOXQBCXM                 Q1_1      Often       Q1          Q1      Q1_Often\n",
            "     3  3/18/2021  HTSURSVFKMAR                 Q1_1  Sometimes       Q1          Q1  Q1_Sometimes\n",
            "     4  3/18/2021  MHQOJTTAUVSL                 Q1_1     Always       Q1          Q1     Q1_Always\n",
            "     5  3/18/2021  EFHWQFAWLUEY                 Q1_1  Sometimes       Q1          Q1  Q1_Sometimes\n",
            "...           ...           ...                  ...        ...      ...         ...           ...\n",
            "   919  4/17/2021  IEFCTGBUUIEH                 Q4_5         No       Q4        Q4_5       Q4_5_No\n",
            "   920  4/17/2021  TLRSUEVRUEWK                 Q4_5         No       Q4        Q4_5       Q4_5_No\n",
            "   921  4/17/2021  RRNKLCQLIWPT                 Q4_5         No       Q4        Q4_5       Q4_5_No\n",
            "   922  4/17/2021  FFFSOUWSFSWA                 Q4_5         No       Q4        Q4_5       Q4_5_No\n",
            "   923  4/17/2021  WEMIMWXLRMBW                 Q4_5         No       Q4        Q4_5       Q4_5_No\n"
          ],
          "name": "stdout"
        }
      ]
    },
    {
      "cell_type": "markdown",
      "metadata": {
        "id": "bt-p34Dh31g1"
      },
      "source": [
        "Next, complete the JOIN with the Question Scoring table."
      ]
    },
    {
      "cell_type": "code",
      "metadata": {
        "colab": {
          "base_uri": "https://localhost:8080/"
        },
        "id": "CejkPNxe31ps",
        "outputId": "bc8dd077-6a0f-4ce7-9f0c-650993292e9a"
      },
      "source": [
        "Post_Stacked_withScores = (\n",
        "                            Post_Stacked_Updated\n",
        "                            >> left_join(Question_Scoring, by='Q_Response')\n",
        "                            >> select(X.RowID, X.surveyLinkID,X.Question_SubQuestion,X.Response_x,X.Question_x,X.QuestionFix,X.Q_Response,X.Score)\n",
        "                            >> rename(Response = X.Response_x,Question = X.Question_x)\n",
        "                          )\n",
        "print(Post_Stacked_withScores.to_string(index=False, max_rows=10))"
      ],
      "execution_count": 114,
      "outputs": [
        {
          "output_type": "stream",
          "text": [
            " RowID  surveyLinkID Question_SubQuestion   Response Question QuestionFix    Q_Response  Score\n",
            "     1  VRYHEBJPSQBG                 Q1_1     Always       Q1          Q1     Q1_Always    5.0\n",
            "     2  GNSIGOXQBCXM                 Q1_1      Often       Q1          Q1      Q1_Often    4.0\n",
            "     3  HTSURSVFKMAR                 Q1_1  Sometimes       Q1          Q1  Q1_Sometimes    3.0\n",
            "     4  MHQOJTTAUVSL                 Q1_1     Always       Q1          Q1     Q1_Always    5.0\n",
            "     5  EFHWQFAWLUEY                 Q1_1  Sometimes       Q1          Q1  Q1_Sometimes    3.0\n",
            "...              ...                  ...        ...      ...         ...           ...    ...\n",
            "   919  IEFCTGBUUIEH                 Q4_5         No       Q4        Q4_5       Q4_5_No    0.0\n",
            "   920  TLRSUEVRUEWK                 Q4_5         No       Q4        Q4_5       Q4_5_No    0.0\n",
            "   921  RRNKLCQLIWPT                 Q4_5         No       Q4        Q4_5       Q4_5_No    0.0\n",
            "   922  FFFSOUWSFSWA                 Q4_5         No       Q4        Q4_5       Q4_5_No    0.0\n",
            "   923  WEMIMWXLRMBW                 Q4_5         No       Q4        Q4_5       Q4_5_No    0.0\n"
          ],
          "name": "stdout"
        }
      ]
    },
    {
      "cell_type": "markdown",
      "metadata": {
        "id": "E_rn1cYCSOem"
      },
      "source": [
        "Once again, need to create a new field that identifies that Q1 and Q2 should be combined when obtaining the Support from Supervisor score."
      ]
    },
    {
      "cell_type": "code",
      "metadata": {
        "colab": {
          "base_uri": "https://localhost:8080/"
        },
        "id": "8vqoAL5hSNWm",
        "outputId": "aaea6b50-0393-49f7-ffdd-4f0c964576d2"
      },
      "source": [
        "Post_Stacked_withScores = (\n",
        "                            Post_Stacked_withScores\n",
        "                            >> mutate(Question2 = case_when(\n",
        "                                                              [X.Question == \"Q1\", \"Q12\"],\n",
        "                                                              [X.Question == \"Q2\", \"Q12\"],\n",
        "                                                              [X.Question == \"Q3\", \"Q3\"],\n",
        "                                                              [X.Question == \"Q4\", \"Q4\"]                                                             \n",
        "                                                           )\n",
        "                                     )\n",
        "                          )\n",
        "Post_Stacked_withScores = (\n",
        "                            Post_Stacked_withScores\n",
        "                            >> select(X.RowID, X.surveyLinkID, X.Question2, X.Score)\n",
        "                            >> rename(Question = X.Question2)\n",
        "                          )\n",
        "\n",
        "print(Post_Stacked_withScores.to_string(index=False, max_rows=10))"
      ],
      "execution_count": 115,
      "outputs": [
        {
          "output_type": "stream",
          "text": [
            " RowID  surveyLinkID Question  Score\n",
            "     1  VRYHEBJPSQBG      Q12    5.0\n",
            "     2  GNSIGOXQBCXM      Q12    4.0\n",
            "     3  HTSURSVFKMAR      Q12    3.0\n",
            "     4  MHQOJTTAUVSL      Q12    5.0\n",
            "     5  EFHWQFAWLUEY      Q12    3.0\n",
            "...              ...      ...    ...\n",
            "   919  IEFCTGBUUIEH       Q4    0.0\n",
            "   920  TLRSUEVRUEWK       Q4    0.0\n",
            "   921  RRNKLCQLIWPT       Q4    0.0\n",
            "   922  FFFSOUWSFSWA       Q4    0.0\n",
            "   923  WEMIMWXLRMBW       Q4    0.0\n"
          ],
          "name": "stdout"
        }
      ]
    },
    {
      "cell_type": "markdown",
      "metadata": {
        "id": "ICQoEqIc4cHi"
      },
      "source": [
        "Getting the Overall Score for Post and creating a wide version of the dataframe."
      ]
    },
    {
      "cell_type": "code",
      "metadata": {
        "colab": {
          "base_uri": "https://localhost:8080/"
        },
        "id": "3BFRJZb04cQ1",
        "outputId": "4e46609a-93d0-4d22-da0c-44093778355d"
      },
      "source": [
        "Post_Scores_Wide = (\n",
        "              Post_Stacked_withScores\n",
        "              >> group_by(X.surveyLinkID,X.Question)\n",
        "              >> summarize(Score = X.Score.sum())\n",
        "              >> mutate(Time_Question = \"Post_\" + X.Question)\n",
        "              >> select(~X.Question) \n",
        "              >> spread(X.Time_Question, X.Score)  \n",
        "              )\n",
        "print(Post_Stacked_withScores.to_string(index=False, max_rows=10))"
      ],
      "execution_count": 117,
      "outputs": [
        {
          "output_type": "stream",
          "text": [
            " RowID  surveyLinkID Question  Score\n",
            "     1  VRYHEBJPSQBG      Q12    5.0\n",
            "     2  GNSIGOXQBCXM      Q12    4.0\n",
            "     3  HTSURSVFKMAR      Q12    3.0\n",
            "     4  MHQOJTTAUVSL      Q12    5.0\n",
            "     5  EFHWQFAWLUEY      Q12    3.0\n",
            "...              ...      ...    ...\n",
            "   919  IEFCTGBUUIEH       Q4    0.0\n",
            "   920  TLRSUEVRUEWK       Q4    0.0\n",
            "   921  RRNKLCQLIWPT       Q4    0.0\n",
            "   922  FFFSOUWSFSWA       Q4    0.0\n",
            "   923  WEMIMWXLRMBW       Q4    0.0\n"
          ],
          "name": "stdout"
        }
      ]
    },
    {
      "cell_type": "markdown",
      "metadata": {
        "id": "fN2ll24L49ND"
      },
      "source": [
        "## JOIN:  Pre + Post"
      ]
    },
    {
      "cell_type": "markdown",
      "metadata": {
        "id": "8_NZtF5pUxya"
      },
      "source": [
        "An <strong>OUTER JOIN</strong> implies that outcomes from either table are to be included in the final table.  In contract, an INNER JOIN implies that only outcomes that exist in both tables are to be included in the final table."
      ]
    },
    {
      "cell_type": "markdown",
      "metadata": {
        "id": "hS4ACClAUzFU"
      },
      "source": [
        "The two separate tables -- Pre and Post.\n",
        "<p align='center'><img src=\"https://drive.google.com/uc?export=view&id=1oFpEh212uKiHNWeJIvdibF2gHgP-X76G\" width=\"50%\" height=\"50%\"></p>\n",
        "\n",
        "The JOIN should include <strong>all</strong> outcomes -- outcomes from either table. \n",
        "<p align='center'><img src=\"https://drive.google.com/uc?export=view&id=1OmmUbz5q-NQjiDLYYws0lwLFQKryM1t7\" width=\"50%\" height=\"50%\"></p>\n",
        "\n"
      ]
    },
    {
      "cell_type": "markdown",
      "metadata": {
        "id": "mVtV9I6q5FLx"
      },
      "source": [
        "The <strong>outer_join()</strong> function from the <strong>dfply</strong> package is used here to complete the <strong>OUTER JOIN</strong>. "
      ]
    },
    {
      "cell_type": "code",
      "metadata": {
        "colab": {
          "base_uri": "https://localhost:8080/"
        },
        "id": "3cOHKsxA49ZX",
        "outputId": "f157958d-0b73-4b87-c1b1-6f6779234a40"
      },
      "source": [
        "All_Scores = (\n",
        "              Pre_Scores_Wide\n",
        "              >> outer_join(Post_Scores_Wide, by=\"surveyLinkID\")\n",
        "            )\n",
        "\n",
        "print(All_Scores.to_string(index=False, max_rows=10))"
      ],
      "execution_count": 119,
      "outputs": [
        {
          "output_type": "stream",
          "text": [
            " surveyLinkID  Pre_Q12  Pre_Q3  Pre_Q4  Post_Q12  Post_Q3  Post_Q4\n",
            " ABASIQJSRFGA     12.0    17.0     0.0      17.0     27.0      1.0\n",
            " ABEPJDQHOQDM     14.0    37.0     3.0      16.0     35.0      2.0\n",
            " ABTVNASQBFMK      0.0    54.0     4.0      16.0     39.0      2.0\n",
            " ACIMNUQCAQTG     12.0    51.0     3.0      17.0     19.0      0.0\n",
            " ACIQVRFTUDDV     15.0    47.0     4.0       NaN      NaN      NaN\n",
            "...                ...     ...     ...       ...      ...      ...\n",
            " XSYUSOAOPPVK      NaN     NaN     NaN      17.0     23.0      0.0\n",
            " YHOVLHIFATDY      NaN     NaN     NaN      14.0     28.0      1.0\n",
            " YLXISPMWISGE      NaN     NaN     NaN      17.0     32.0      1.0\n",
            " YPKAJDBHLNXT      NaN     NaN     NaN      12.0     53.0      4.0\n",
            " YVEBGQLWCLRC      NaN     NaN     NaN      14.0     42.0      2.0\n"
          ],
          "name": "stdout"
        }
      ]
    },
    {
      "cell_type": "markdown",
      "metadata": {
        "id": "vb3mNQ236aMN"
      },
      "source": [
        "## Computing Change Scores"
      ]
    },
    {
      "cell_type": "markdown",
      "metadata": {
        "id": "oLRCKzOo6f6p"
      },
      "source": [
        "Next, compute the change scores as appropriate. \n",
        "\n",
        "<p align=\"center\">\n",
        "<font size=\"+2\">Change Score = Post - Pre</font>\n",
        "</p>"
      ]
    },
    {
      "cell_type": "code",
      "metadata": {
        "colab": {
          "base_uri": "https://localhost:8080/"
        },
        "id": "m-tKEEoP6aVv",
        "outputId": "d3047c9b-06f6-4029-c07f-7d55c8f7c9f1"
      },
      "source": [
        "All_Scores = (\n",
        "                All_Scores\n",
        "                >> mutate(Change_Q12 = X.Post_Q12 - X.Pre_Q12,\n",
        "                          Change_Q3 = X.Post_Q3 - X.Pre_Q3,\n",
        "                          Change_Q4 = X.Post_Q4 - X.Pre_Q4\n",
        "                         )\n",
        "            )\n",
        "print(All_Scores.to_string(index=False, max_rows=10))\n"
      ],
      "execution_count": 120,
      "outputs": [
        {
          "output_type": "stream",
          "text": [
            " surveyLinkID  Pre_Q12  Pre_Q3  Pre_Q4  Post_Q12  Post_Q3  Post_Q4  Change_Q12  Change_Q3  Change_Q4\n",
            " ABASIQJSRFGA     12.0    17.0     0.0      17.0     27.0      1.0         5.0       10.0        1.0\n",
            " ABEPJDQHOQDM     14.0    37.0     3.0      16.0     35.0      2.0         2.0       -2.0       -1.0\n",
            " ABTVNASQBFMK      0.0    54.0     4.0      16.0     39.0      2.0        16.0      -15.0       -2.0\n",
            " ACIMNUQCAQTG     12.0    51.0     3.0      17.0     19.0      0.0         5.0      -32.0       -3.0\n",
            " ACIQVRFTUDDV     15.0    47.0     4.0       NaN      NaN      NaN         NaN        NaN        NaN\n",
            "...                ...     ...     ...       ...      ...      ...         ...        ...        ...\n",
            " XSYUSOAOPPVK      NaN     NaN     NaN      17.0     23.0      0.0         NaN        NaN        NaN\n",
            " YHOVLHIFATDY      NaN     NaN     NaN      14.0     28.0      1.0         NaN        NaN        NaN\n",
            " YLXISPMWISGE      NaN     NaN     NaN      17.0     32.0      1.0         NaN        NaN        NaN\n",
            " YPKAJDBHLNXT      NaN     NaN     NaN      12.0     53.0      4.0         NaN        NaN        NaN\n",
            " YVEBGQLWCLRC      NaN     NaN     NaN      14.0     42.0      2.0         NaN        NaN        NaN\n"
          ],
          "name": "stdout"
        }
      ]
    },
    {
      "cell_type": "markdown",
      "metadata": {
        "id": "Xnu8f9Pc7-_V"
      },
      "source": [
        "Getting the average change score for each section (Support from Supervisor, Stress, and Workplace Violence)."
      ]
    },
    {
      "cell_type": "code",
      "metadata": {
        "colab": {
          "base_uri": "https://localhost:8080/",
          "height": 138
        },
        "id": "vEGbIhwZ9vRm",
        "outputId": "9cce3554-2407-475f-f426-8acc0873bb89"
      },
      "source": [
        "(\n",
        "    All_Scores\n",
        "    >> select(X.Change_Q12, X.Change_Q3, X.Change_Q4)\n",
        "    >> gather('Question', 'Score', [X.Change_Q12,X.Change_Q3,X.Change_Q4])\n",
        "    >> group_by(X.Question)\n",
        "    >> summarize(Mean = X.Score.mean())\n",
        ")"
      ],
      "execution_count": 127,
      "outputs": [
        {
          "output_type": "execute_result",
          "data": {
            "text/html": [
              "<div>\n",
              "<style scoped>\n",
              "    .dataframe tbody tr th:only-of-type {\n",
              "        vertical-align: middle;\n",
              "    }\n",
              "\n",
              "    .dataframe tbody tr th {\n",
              "        vertical-align: top;\n",
              "    }\n",
              "\n",
              "    .dataframe thead th {\n",
              "        text-align: right;\n",
              "    }\n",
              "</style>\n",
              "<table border=\"1\" class=\"dataframe\">\n",
              "  <thead>\n",
              "    <tr style=\"text-align: right;\">\n",
              "      <th></th>\n",
              "      <th>Question</th>\n",
              "      <th>Mean</th>\n",
              "    </tr>\n",
              "  </thead>\n",
              "  <tbody>\n",
              "    <tr>\n",
              "      <th>0</th>\n",
              "      <td>Change_Q12</td>\n",
              "      <td>1.233990</td>\n",
              "    </tr>\n",
              "    <tr>\n",
              "      <th>1</th>\n",
              "      <td>Change_Q3</td>\n",
              "      <td>-4.592365</td>\n",
              "    </tr>\n",
              "    <tr>\n",
              "      <th>2</th>\n",
              "      <td>Change_Q4</td>\n",
              "      <td>-0.732759</td>\n",
              "    </tr>\n",
              "  </tbody>\n",
              "</table>\n",
              "</div>"
            ],
            "text/plain": [
              "     Question      Mean\n",
              "0  Change_Q12  1.233990\n",
              "1   Change_Q3 -4.592365\n",
              "2   Change_Q4 -0.732759"
            ]
          },
          "metadata": {
            "tags": []
          },
          "execution_count": 127
        }
      ]
    },
    {
      "cell_type": "markdown",
      "metadata": {
        "id": "rH1AP_W3EZvV"
      },
      "source": [
        "A histogram of the change scores for Stress."
      ]
    },
    {
      "cell_type": "code",
      "metadata": {
        "colab": {
          "base_uri": "https://localhost:8080/",
          "height": 285
        },
        "id": "lOROMe9AEZ81",
        "outputId": "76a7f6e3-9912-4b5d-bdc0-9b32146704fe"
      },
      "source": [
        "#Histogram of Change Scores\n",
        "histplot = sns.histplot(x=\"Change_Q3\", discrete=True, data=All_Scores)"
      ],
      "execution_count": 126,
      "outputs": [
        {
          "output_type": "display_data",
          "data": {
            "image/png": "[encoded data removed]",
            "text/plain": [
              "<Figure size 432x288 with 1 Axes>"
            ]
          },
          "metadata": {
            "tags": []
          }
        }
      ]
    },
    {
      "cell_type": "markdown",
      "metadata": {
        "id": "fILxKnWb_EgS"
      },
      "source": [
        "Next, consider a scatterplot of the Pre and Post Outcomes for Stress."
      ]
    },
    {
      "cell_type": "code",
      "metadata": {
        "colab": {
          "base_uri": "https://localhost:8080/",
          "height": 289
        },
        "id": "NSklN5Hx_Eua",
        "outputId": "7529eed1-d4d1-494a-dd0f-98faf1b381ff"
      },
      "source": [
        "import matplotlib.pyplot as plt\n",
        "\n",
        "xyplot = sns.scatterplot(x=\"Pre_Q3\", y=\"Post_Q3\", data=All_Scores)\n",
        "\n",
        "# control x and y limits\n",
        "plt.ylim(0, 70)\n",
        "plt.xlim(0, 70)\n",
        "\n",
        "#Adding a Y=X line.\n",
        "plt.plot([0, 70], [0, 70], linewidth=2)\n",
        "\n",
        "plt.show()\n"
      ],
      "execution_count": 131,
      "outputs": [
        {
          "output_type": "display_data",
          "data": {
            "image/png": "[encoded data removed]",
            "text/plain": [
              "<Figure size 432x288 with 1 Axes>"
            ]
          },
          "metadata": {
            "tags": []
          }
        }
      ]
    },
    {
      "cell_type": "markdown",
      "metadata": {
        "id": "RLzXHIkyaRzD"
      },
      "source": [
        "Getting the correlation between Pre and Post for stress."
      ]
    },
    {
      "cell_type": "code",
      "metadata": {
        "colab": {
          "base_uri": "https://localhost:8080/"
        },
        "id": "0mCws6k7aR7k",
        "outputId": "74c0902a-dd4f-490b-f089-f910fc169aea"
      },
      "source": [
        "round(All_Scores.Pre_Q3.corr(All_Scores.Post_Q3),3)"
      ],
      "execution_count": 132,
      "outputs": [
        {
          "output_type": "execute_result",
          "data": {
            "text/plain": [
              "0.116"
            ]
          },
          "metadata": {
            "tags": []
          },
          "execution_count": 132
        }
      ]
    },
    {
      "cell_type": "markdown",
      "metadata": {
        "id": "RUbKhjVoElze"
      },
      "source": [
        "Next, histogram of the change scores for Q4, i.e. Workplace Violence."
      ]
    },
    {
      "cell_type": "code",
      "metadata": {
        "colab": {
          "base_uri": "https://localhost:8080/",
          "height": 285
        },
        "id": "XMZAK_JKEl9p",
        "outputId": "972bdff3-1b06-4ed8-984d-d79a0b10da1b"
      },
      "source": [
        "#Histogram of Change Scores for Violence\n",
        "histplot = sns.histplot(x=\"Change_Q4\", discrete=True, data=All_Scores)"
      ],
      "execution_count": null,
      "outputs": [
        {
          "output_type": "display_data",
          "data": {
            "image/png": "[encoded data removed]",
            "text/plain": [
              "<Figure size 432x288 with 1 Axes>"
            ]
          },
          "metadata": {
            "tags": []
          }
        }
      ]
    },
    {
      "cell_type": "markdown",
      "metadata": {
        "id": "z4W2ZYRcDVAT"
      },
      "source": [
        ""
      ]
    },
    {
      "cell_type": "code",
      "metadata": {
        "colab": {
          "base_uri": "https://localhost:8080/",
          "height": 285
        },
        "id": "8vm9OPv-DVJP",
        "outputId": "de550784-f805-4fe1-ec88-48368a7bc21b"
      },
      "source": [
        "\n",
        "xyplot = sns.scatterplot(x=\"Pre_Q4\", y=\"Post_Q4\", data=All_Scores)\n",
        "\n",
        "# control x and y limits\n",
        "plt.ylim(0.5, 7.25)\n",
        "plt.xlim(0.5, 7.25)\n",
        "\n",
        "plt.plot([0, 8], [0, 8], linewidth=2)\n",
        "\n",
        "plt.show()"
      ],
      "execution_count": null,
      "outputs": [
        {
          "output_type": "display_data",
          "data": {
            "image/png": "[encoded data removed]",
            "text/plain": [
              "<Figure size 432x288 with 1 Axes>"
            ]
          },
          "metadata": {
            "tags": []
          }
        }
      ]
    },
    {
      "cell_type": "markdown",
      "metadata": {
        "id": "UutPBHg3AmMM"
      },
      "source": [
        "More plots --- how about scatterplot for Pre and Post Stress conditioned on Pre Score for Q12...  Ugly..."
      ]
    },
    {
      "cell_type": "code",
      "metadata": {
        "colab": {
          "base_uri": "https://localhost:8080/",
          "height": 101
        },
        "id": "Hplb_VoFAmVS",
        "outputId": "05e50f41-62d0-45b6-c687-faab5be0381e"
      },
      "source": [
        "sns.relplot(\n",
        "    data=All_Scores, x=\"Pre_Q3\", y=\"Post_Q3\",\n",
        "    col=\"Pre_Q12\", \n",
        "    kind=\"scatter\"\n",
        ")"
      ],
      "execution_count": 129,
      "outputs": [
        {
          "output_type": "execute_result",
          "data": {
            "text/plain": [
              "<seaborn.axisgrid.FacetGrid at 0x7f0252875250>"
            ]
          },
          "metadata": {
            "tags": []
          },
          "execution_count": 129
        },
        {
          "output_type": "display_data",
          "data": {
            "image/png": "[encoded data removed]",
            "text/plain": [
              "<Figure size 6120x360 with 17 Axes>"
            ]
          },
          "metadata": {
            "tags": []
          }
        }
      ]
    }
  ]
}