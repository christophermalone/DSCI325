{
  "nbformat": 4,
  "nbformat_minor": 0,
  "metadata": {
    "colab": {
      "name": "Module3_Part3_SQL.ipynb",
      "provenance": [],
      "collapsed_sections": [],
      "toc_visible": true,
      "authorship_tag": "ABX9TyMUBrt8nlDjf3Jy0obOy4u2",
      "include_colab_link": true
    },
    "kernelspec": {
      "name": "python3",
      "display_name": "Python 3"
    }
  },
  "cells": [
    {
      "cell_type": "markdown",
      "metadata": {
        "id": "view-in-github",
        "colab_type": "text"
      },
      "source": [
        "<a href=\"https://colab.research.google.com/github/christophermalone/DSCI325/blob/main/Module3_Part3_SQL.ipynb\" target=\"_parent\"><img src=\"https://colab.research.google.com/assets/colab-badge.svg\" alt=\"Open In Colab\"/></a>"
      ]
    },
    {
      "cell_type": "markdown",
      "metadata": {
        "id": "vsKS8UWN9bil"
      },
      "source": [
        "# Module 3 | Part 3 | SQL : MUTATE() Actions in SQL"
      ]
    },
    {
      "cell_type": "markdown",
      "metadata": {
        "id": "Q15v4Jwh9sEj"
      },
      "source": [
        "<table width='100%' ><tr><td bgcolor='green'></td></tr></table>\n",
        "\n",
        "### Example 3.3.1 SQL\n",
        "For this notebook, consider the Nursing Home Provider dataset.  The datasets is published by the Centers for Medicare and Medicade Services.\n",
        "\n",
        "<table>\n",
        "<tr>\n",
        "<td colspan=\"2\" align='center'>Fields in Dataset</td>\n",
        "</tr>\n",
        "<tr>\n",
        "<td valign='top' align='left'>\n",
        "1: FPN (Federal Provider Number)<br>\n",
        "2: ProviderName<br>\n",
        "3: ProviderAddress<br>\n",
        "4: ProviderCounty<br>\n",
        "5: OwnershipType<br><br>\n",
        "6: NumberBeds<br>\n",
        "7: AverageResidentsperDay<br><br>\n",
        "8: ProviderInHospital<br>\n",
        "9: BusinessName<br>\n",
        "10: ContinuingCareRetirementCommunity<br><br>\n",
        "11: HealthInspection_MoreThan2YearsAgo<br>\n",
        "12: Overall_Rating<br>\n",
        "13: HealthInspection_Rating<br>\n",
        "14: QM_Rating<br>\n",
        "15: LongStayQM_Rating<br>\n",
        "16: ShortStayQM_Rating<br>\n",
        "17: Staffing_Rating<br>\n",
        "18: RNStaffing_Rating<br>\n",
        "</td>\n",
        "<td valign='top' align='left'>\n",
        "19: NurseAideStaffing_Hours<br>\n",
        "20: LPNStaffing_Hours<br>\n",
        "21: RNStaffing_Hours<br>\n",
        "22: LicensedStaffing_Hours<br>\n",
        "23: TotalNurseStaffing_Hours<br>\n",
        "24: PhysicalTherapistStaffing_Hours<br><br>\n",
        "25: RatingCycle1_Date<br>\n",
        "26: RatingCycle1_HealthDeficiencyScore<br>\n",
        "27: RatingCycle2_Date<br>\n",
        "28: RatingCycle2_HealthDeficiencyScore<br>\n",
        "29: RatingCycle3_Date<br>\n",
        "30: RatingCycle3_HealthDeficiencyScore<br><br>\n",
        "31: NumberofFines<br>\n",
        "32: TotalAmountFines<br>\n",
        "</td>\n",
        "</tr>\n",
        "</table>\n",
        "\n",
        " \n",
        "<br>Original Data Source: https://data.cms.gov/provider-data/search?theme=Nursing%20homes%20including%20rehab%20services\n",
        "\n",
        "<table width='100%' ><tr><td bgcolor='green'></td></tr></table>"
      ]
    },
    {
      "cell_type": "markdown",
      "metadata": {
        "id": "6qZ9RfX1VdCG"
      },
      "source": [
        "## Making a Connection"
      ]
    },
    {
      "cell_type": "markdown",
      "metadata": {
        "id": "9QeIjJKEVeAS"
      },
      "source": [
        "Here, an SQLite3 package will be used to connect to the desired database."
      ]
    },
    {
      "cell_type": "code",
      "metadata": {
        "id": "q_1d5VWYVdJi"
      },
      "source": [
        "import pandas as pd\n",
        "import sqlite3"
      ],
      "execution_count": null,
      "outputs": []
    },
    {
      "cell_type": "markdown",
      "metadata": {
        "id": "NLRyiOcexe3P"
      },
      "source": [
        "# Getting Table Names and Structure"
      ]
    },
    {
      "cell_type": "markdown",
      "metadata": {
        "id": "Zs4lzulXVpCL"
      },
      "source": [
        "Doing an initial query to identify the table within this database."
      ]
    },
    {
      "cell_type": "code",
      "metadata": {
        "id": "jxWGFn5LVpIu",
        "colab": {
          "base_uri": "https://localhost:8080/",
          "height": 78
        },
        "outputId": "0e0c96d7-24d0-4482-c0b9-fd66c9ca8696"
      },
      "source": [
        "#Making a connection\n",
        "connect_db = sqlite3.connect(\"/content/sample_data/NursingHomes.db\")\n",
        "\n",
        "#SQL Statement\n",
        "df = pd.read_sql_query(\n",
        "                        \"SELECT name FROM sqlite_master WHERE type='table'\"\n",
        "                          , connect_db)\n",
        "#Closing the connection\n",
        "connect_db.close()\n",
        "\n",
        "#Using pandas to show output\n",
        "df.head()"
      ],
      "execution_count": null,
      "outputs": [
        {
          "output_type": "execute_result",
          "data": {
            "text/html": [
              "<div>\n",
              "<style scoped>\n",
              "    .dataframe tbody tr th:only-of-type {\n",
              "        vertical-align: middle;\n",
              "    }\n",
              "\n",
              "    .dataframe tbody tr th {\n",
              "        vertical-align: top;\n",
              "    }\n",
              "\n",
              "    .dataframe thead th {\n",
              "        text-align: right;\n",
              "    }\n",
              "</style>\n",
              "<table border=\"1\" class=\"dataframe\">\n",
              "  <thead>\n",
              "    <tr style=\"text-align: right;\">\n",
              "      <th></th>\n",
              "      <th>name</th>\n",
              "    </tr>\n",
              "  </thead>\n",
              "  <tbody>\n",
              "    <tr>\n",
              "      <th>0</th>\n",
              "      <td>Providers</td>\n",
              "    </tr>\n",
              "  </tbody>\n",
              "</table>\n",
              "</div>"
            ],
            "text/plain": [
              "        name\n",
              "0  Providers"
            ]
          },
          "metadata": {
            "tags": []
          },
          "execution_count": 2
        }
      ]
    },
    {
      "cell_type": "markdown",
      "metadata": {
        "id": "E0ysvGoaxPuK"
      },
      "source": [
        "Next, getting the structure of the the <strong>Providers</strong> table."
      ]
    },
    {
      "cell_type": "code",
      "metadata": {
        "colab": {
          "base_uri": "https://localhost:8080/",
          "height": 1000
        },
        "id": "BX-wsH1dxP1A",
        "outputId": "7669d9a5-3ad5-4373-d465-ba765d4c52ba"
      },
      "source": [
        "#Making a connection\n",
        "connect_db = sqlite3.connect(\"/content/sample_data/NursingHomes.db\")\n",
        "\n",
        "#SQL Statement\n",
        "df = pd.read_sql_query(\n",
        "                        \"PRAGMA table_info(Providers)\"\n",
        "                          , connect_db)\n",
        "#Closing the connection\n",
        "connect_db.close()\n",
        "\n",
        "#Using pandas to show output\n",
        "df.head(50)"
      ],
      "execution_count": null,
      "outputs": [
        {
          "output_type": "execute_result",
          "data": {
            "text/html": [
              "<div>\n",
              "<style scoped>\n",
              "    .dataframe tbody tr th:only-of-type {\n",
              "        vertical-align: middle;\n",
              "    }\n",
              "\n",
              "    .dataframe tbody tr th {\n",
              "        vertical-align: top;\n",
              "    }\n",
              "\n",
              "    .dataframe thead th {\n",
              "        text-align: right;\n",
              "    }\n",
              "</style>\n",
              "<table border=\"1\" class=\"dataframe\">\n",
              "  <thead>\n",
              "    <tr style=\"text-align: right;\">\n",
              "      <th></th>\n",
              "      <th>cid</th>\n",
              "      <th>name</th>\n",
              "      <th>type</th>\n",
              "      <th>notnull</th>\n",
              "      <th>dflt_value</th>\n",
              "      <th>pk</th>\n",
              "    </tr>\n",
              "  </thead>\n",
              "  <tbody>\n",
              "    <tr>\n",
              "      <th>0</th>\n",
              "      <td>0</td>\n",
              "      <td>FPN</td>\n",
              "      <td>VARCHAR (20)</td>\n",
              "      <td>0</td>\n",
              "      <td>None</td>\n",
              "      <td>1</td>\n",
              "    </tr>\n",
              "    <tr>\n",
              "      <th>1</th>\n",
              "      <td>1</td>\n",
              "      <td>ProviderName</td>\n",
              "      <td>VARCHAR (200)</td>\n",
              "      <td>0</td>\n",
              "      <td>None</td>\n",
              "      <td>0</td>\n",
              "    </tr>\n",
              "    <tr>\n",
              "      <th>2</th>\n",
              "      <td>2</td>\n",
              "      <td>ProviderAddress</td>\n",
              "      <td>VARCHAR (200)</td>\n",
              "      <td>0</td>\n",
              "      <td>None</td>\n",
              "      <td>0</td>\n",
              "    </tr>\n",
              "    <tr>\n",
              "      <th>3</th>\n",
              "      <td>3</td>\n",
              "      <td>ProviderCounty</td>\n",
              "      <td>VARCHAR (200)</td>\n",
              "      <td>0</td>\n",
              "      <td>None</td>\n",
              "      <td>0</td>\n",
              "    </tr>\n",
              "    <tr>\n",
              "      <th>4</th>\n",
              "      <td>4</td>\n",
              "      <td>OwnershipType</td>\n",
              "      <td>VARCHAR (200)</td>\n",
              "      <td>0</td>\n",
              "      <td>None</td>\n",
              "      <td>0</td>\n",
              "    </tr>\n",
              "    <tr>\n",
              "      <th>5</th>\n",
              "      <td>5</td>\n",
              "      <td>NumberBeds</td>\n",
              "      <td>INTEGER (10)</td>\n",
              "      <td>0</td>\n",
              "      <td>None</td>\n",
              "      <td>0</td>\n",
              "    </tr>\n",
              "    <tr>\n",
              "      <th>6</th>\n",
              "      <td>6</td>\n",
              "      <td>AverageResidentsperDay</td>\n",
              "      <td>DOUBLE (20)</td>\n",
              "      <td>0</td>\n",
              "      <td>None</td>\n",
              "      <td>0</td>\n",
              "    </tr>\n",
              "    <tr>\n",
              "      <th>7</th>\n",
              "      <td>7</td>\n",
              "      <td>ProviderInHospital</td>\n",
              "      <td>VARCHAR (200)</td>\n",
              "      <td>0</td>\n",
              "      <td>None</td>\n",
              "      <td>0</td>\n",
              "    </tr>\n",
              "    <tr>\n",
              "      <th>8</th>\n",
              "      <td>8</td>\n",
              "      <td>BusinessName</td>\n",
              "      <td>VARCHAR (200)</td>\n",
              "      <td>0</td>\n",
              "      <td>None</td>\n",
              "      <td>0</td>\n",
              "    </tr>\n",
              "    <tr>\n",
              "      <th>9</th>\n",
              "      <td>9</td>\n",
              "      <td>ContinuingCareRetirementCommunity</td>\n",
              "      <td>VARCHAR (200)</td>\n",
              "      <td>0</td>\n",
              "      <td>None</td>\n",
              "      <td>0</td>\n",
              "    </tr>\n",
              "    <tr>\n",
              "      <th>10</th>\n",
              "      <td>10</td>\n",
              "      <td>HealthInspection_MoreThan2YearsAgo</td>\n",
              "      <td>VARCHAR (20)</td>\n",
              "      <td>0</td>\n",
              "      <td>None</td>\n",
              "      <td>0</td>\n",
              "    </tr>\n",
              "    <tr>\n",
              "      <th>11</th>\n",
              "      <td>11</td>\n",
              "      <td>Overall_Rating</td>\n",
              "      <td>INTEGER (20)</td>\n",
              "      <td>0</td>\n",
              "      <td>None</td>\n",
              "      <td>0</td>\n",
              "    </tr>\n",
              "    <tr>\n",
              "      <th>12</th>\n",
              "      <td>12</td>\n",
              "      <td>HealthInspection_Rating</td>\n",
              "      <td>INTEGER (20)</td>\n",
              "      <td>0</td>\n",
              "      <td>None</td>\n",
              "      <td>0</td>\n",
              "    </tr>\n",
              "    <tr>\n",
              "      <th>13</th>\n",
              "      <td>13</td>\n",
              "      <td>QM_Rating</td>\n",
              "      <td>INTEGER (20)</td>\n",
              "      <td>0</td>\n",
              "      <td>None</td>\n",
              "      <td>0</td>\n",
              "    </tr>\n",
              "    <tr>\n",
              "      <th>14</th>\n",
              "      <td>14</td>\n",
              "      <td>LongStayQM_Rating</td>\n",
              "      <td>INTEGER (20)</td>\n",
              "      <td>0</td>\n",
              "      <td>None</td>\n",
              "      <td>0</td>\n",
              "    </tr>\n",
              "    <tr>\n",
              "      <th>15</th>\n",
              "      <td>15</td>\n",
              "      <td>ShortStayQM_Rating</td>\n",
              "      <td>INTEGER (20)</td>\n",
              "      <td>0</td>\n",
              "      <td>None</td>\n",
              "      <td>0</td>\n",
              "    </tr>\n",
              "    <tr>\n",
              "      <th>16</th>\n",
              "      <td>16</td>\n",
              "      <td>Staffing_Rating</td>\n",
              "      <td>INTEGER (20)</td>\n",
              "      <td>0</td>\n",
              "      <td>None</td>\n",
              "      <td>0</td>\n",
              "    </tr>\n",
              "    <tr>\n",
              "      <th>17</th>\n",
              "      <td>17</td>\n",
              "      <td>RNStaffing_Rating</td>\n",
              "      <td>INTEGER (20)</td>\n",
              "      <td>0</td>\n",
              "      <td>None</td>\n",
              "      <td>0</td>\n",
              "    </tr>\n",
              "    <tr>\n",
              "      <th>18</th>\n",
              "      <td>18</td>\n",
              "      <td>NurseAideStaffing_Hours</td>\n",
              "      <td>DOUBLE (20)</td>\n",
              "      <td>0</td>\n",
              "      <td>None</td>\n",
              "      <td>0</td>\n",
              "    </tr>\n",
              "    <tr>\n",
              "      <th>19</th>\n",
              "      <td>19</td>\n",
              "      <td>LPNStaffing_Hours</td>\n",
              "      <td>DOUBLE (20)</td>\n",
              "      <td>0</td>\n",
              "      <td>None</td>\n",
              "      <td>0</td>\n",
              "    </tr>\n",
              "    <tr>\n",
              "      <th>20</th>\n",
              "      <td>20</td>\n",
              "      <td>RNStaffing_Hours</td>\n",
              "      <td>DOUBLE (20)</td>\n",
              "      <td>0</td>\n",
              "      <td>None</td>\n",
              "      <td>0</td>\n",
              "    </tr>\n",
              "    <tr>\n",
              "      <th>21</th>\n",
              "      <td>21</td>\n",
              "      <td>LicensedStaffing_Hours</td>\n",
              "      <td>DOUBLE (20)</td>\n",
              "      <td>0</td>\n",
              "      <td>None</td>\n",
              "      <td>0</td>\n",
              "    </tr>\n",
              "    <tr>\n",
              "      <th>22</th>\n",
              "      <td>22</td>\n",
              "      <td>TotalNurseStaffing_Hours</td>\n",
              "      <td>DOUBLE (20)</td>\n",
              "      <td>0</td>\n",
              "      <td>None</td>\n",
              "      <td>0</td>\n",
              "    </tr>\n",
              "    <tr>\n",
              "      <th>23</th>\n",
              "      <td>23</td>\n",
              "      <td>PhysicalTherapistStaffing_Hours</td>\n",
              "      <td>DOUBLE (20)</td>\n",
              "      <td>0</td>\n",
              "      <td>None</td>\n",
              "      <td>0</td>\n",
              "    </tr>\n",
              "    <tr>\n",
              "      <th>24</th>\n",
              "      <td>24</td>\n",
              "      <td>RatingCycle1_Date</td>\n",
              "      <td>DATETIME (20)</td>\n",
              "      <td>0</td>\n",
              "      <td>None</td>\n",
              "      <td>0</td>\n",
              "    </tr>\n",
              "    <tr>\n",
              "      <th>25</th>\n",
              "      <td>25</td>\n",
              "      <td>RatingCycle1_HealthDeficiencyScore</td>\n",
              "      <td>INTEGER (20)</td>\n",
              "      <td>0</td>\n",
              "      <td>None</td>\n",
              "      <td>0</td>\n",
              "    </tr>\n",
              "    <tr>\n",
              "      <th>26</th>\n",
              "      <td>26</td>\n",
              "      <td>RatingCycle2_Date</td>\n",
              "      <td>DATETIME (20)</td>\n",
              "      <td>0</td>\n",
              "      <td>None</td>\n",
              "      <td>0</td>\n",
              "    </tr>\n",
              "    <tr>\n",
              "      <th>27</th>\n",
              "      <td>27</td>\n",
              "      <td>RatingCycle2_HealthDeficiencyScore</td>\n",
              "      <td>INTEGER (20)</td>\n",
              "      <td>0</td>\n",
              "      <td>None</td>\n",
              "      <td>0</td>\n",
              "    </tr>\n",
              "    <tr>\n",
              "      <th>28</th>\n",
              "      <td>28</td>\n",
              "      <td>RatingCycle3_Date</td>\n",
              "      <td>DATETIME (20)</td>\n",
              "      <td>0</td>\n",
              "      <td>None</td>\n",
              "      <td>0</td>\n",
              "    </tr>\n",
              "    <tr>\n",
              "      <th>29</th>\n",
              "      <td>29</td>\n",
              "      <td>RatingCycle3_HealthDeficiencyScore</td>\n",
              "      <td>INTEGER (20)</td>\n",
              "      <td>0</td>\n",
              "      <td>None</td>\n",
              "      <td>0</td>\n",
              "    </tr>\n",
              "    <tr>\n",
              "      <th>30</th>\n",
              "      <td>30</td>\n",
              "      <td>NumberofFines</td>\n",
              "      <td>INTEGER (20)</td>\n",
              "      <td>0</td>\n",
              "      <td>None</td>\n",
              "      <td>0</td>\n",
              "    </tr>\n",
              "    <tr>\n",
              "      <th>31</th>\n",
              "      <td>31</td>\n",
              "      <td>TotalAmountFines</td>\n",
              "      <td>DOUBLE (50)</td>\n",
              "      <td>0</td>\n",
              "      <td>None</td>\n",
              "      <td>0</td>\n",
              "    </tr>\n",
              "  </tbody>\n",
              "</table>\n",
              "</div>"
            ],
            "text/plain": [
              "    cid                                name  ... dflt_value  pk\n",
              "0     0                                 FPN  ...       None   1\n",
              "1     1                        ProviderName  ...       None   0\n",
              "2     2                     ProviderAddress  ...       None   0\n",
              "3     3                      ProviderCounty  ...       None   0\n",
              "4     4                       OwnershipType  ...       None   0\n",
              "5     5                          NumberBeds  ...       None   0\n",
              "6     6              AverageResidentsperDay  ...       None   0\n",
              "7     7                  ProviderInHospital  ...       None   0\n",
              "8     8                        BusinessName  ...       None   0\n",
              "9     9   ContinuingCareRetirementCommunity  ...       None   0\n",
              "10   10  HealthInspection_MoreThan2YearsAgo  ...       None   0\n",
              "11   11                      Overall_Rating  ...       None   0\n",
              "12   12             HealthInspection_Rating  ...       None   0\n",
              "13   13                           QM_Rating  ...       None   0\n",
              "14   14                   LongStayQM_Rating  ...       None   0\n",
              "15   15                  ShortStayQM_Rating  ...       None   0\n",
              "16   16                     Staffing_Rating  ...       None   0\n",
              "17   17                   RNStaffing_Rating  ...       None   0\n",
              "18   18             NurseAideStaffing_Hours  ...       None   0\n",
              "19   19                   LPNStaffing_Hours  ...       None   0\n",
              "20   20                    RNStaffing_Hours  ...       None   0\n",
              "21   21              LicensedStaffing_Hours  ...       None   0\n",
              "22   22            TotalNurseStaffing_Hours  ...       None   0\n",
              "23   23     PhysicalTherapistStaffing_Hours  ...       None   0\n",
              "24   24                   RatingCycle1_Date  ...       None   0\n",
              "25   25  RatingCycle1_HealthDeficiencyScore  ...       None   0\n",
              "26   26                   RatingCycle2_Date  ...       None   0\n",
              "27   27  RatingCycle2_HealthDeficiencyScore  ...       None   0\n",
              "28   28                   RatingCycle3_Date  ...       None   0\n",
              "29   29  RatingCycle3_HealthDeficiencyScore  ...       None   0\n",
              "30   30                       NumberofFines  ...       None   0\n",
              "31   31                    TotalAmountFines  ...       None   0\n",
              "\n",
              "[32 rows x 6 columns]"
            ]
          },
          "metadata": {
            "tags": []
          },
          "execution_count": 3
        }
      ]
    },
    {
      "cell_type": "markdown",
      "metadata": {
        "id": "D5p1RJXJamTs"
      },
      "source": [
        "# Create New Field - Numeric"
      ]
    },
    {
      "cell_type": "markdown",
      "metadata": {
        "id": "wOO4oBTnZfN_"
      },
      "source": [
        "To begin, let's compute the Capacity of each nursing home in the database.\n",
        "\n",
        "$$Capacity = \\frac{Average \\space Residents \\space per \\space Day}{Number \\space of \\space Beds}$$\n",
        "\n",
        "<strong>Note:</strong> The triple quote, i.e. \"\"\", in Python permits code to be written over multiple lines.  This will be used here to make the code more readable."
      ]
    },
    {
      "cell_type": "code",
      "metadata": {
        "colab": {
          "base_uri": "https://localhost:8080/",
          "height": 198
        },
        "id": "tT2fsiNCyBzo",
        "outputId": "7435b333-f6b2-440c-cfd8-48fc6ce09be5"
      },
      "source": [
        "#Making a connection\n",
        "connect_db = sqlite3.connect(\"/content/sample_data/NursingHomes.db\")\n",
        "\n",
        "#SQL Statement\n",
        "df = pd.read_sql_query(\"\"\"\n",
        "                          SELECT ProviderName, \n",
        "                                 (AverageResidentsperDay/NumberBeds) AS Capacity \n",
        "                          FROM Providers\n",
        "                       \"\"\"\n",
        "                          , connect_db)\n",
        "                       \n",
        "#Closing the connection\n",
        "connect_db.close()\n",
        "\n",
        "#Using pandas to show output\n",
        "df.head()"
      ],
      "execution_count": null,
      "outputs": [
        {
          "output_type": "execute_result",
          "data": {
            "text/html": [
              "<div>\n",
              "<style scoped>\n",
              "    .dataframe tbody tr th:only-of-type {\n",
              "        vertical-align: middle;\n",
              "    }\n",
              "\n",
              "    .dataframe tbody tr th {\n",
              "        vertical-align: top;\n",
              "    }\n",
              "\n",
              "    .dataframe thead th {\n",
              "        text-align: right;\n",
              "    }\n",
              "</style>\n",
              "<table border=\"1\" class=\"dataframe\">\n",
              "  <thead>\n",
              "    <tr style=\"text-align: right;\">\n",
              "      <th></th>\n",
              "      <th>ProviderName</th>\n",
              "      <th>Capacity</th>\n",
              "    </tr>\n",
              "  </thead>\n",
              "  <tbody>\n",
              "    <tr>\n",
              "      <th>0</th>\n",
              "      <td>BURNS NURSING HOME, INC.</td>\n",
              "      <td>0.908772</td>\n",
              "    </tr>\n",
              "    <tr>\n",
              "      <th>1</th>\n",
              "      <td>COOSA VALLEY HEALTHCARE CENTER</td>\n",
              "      <td>0.848235</td>\n",
              "    </tr>\n",
              "    <tr>\n",
              "      <th>2</th>\n",
              "      <td>HIGHLANDS HEALTH AND REHAB</td>\n",
              "      <td>0.826000</td>\n",
              "    </tr>\n",
              "    <tr>\n",
              "      <th>3</th>\n",
              "      <td>EASTVIEW REHABILITATION &amp; HEALTHCARE CENTER</td>\n",
              "      <td>0.780435</td>\n",
              "    </tr>\n",
              "    <tr>\n",
              "      <th>4</th>\n",
              "      <td>PLANTATION MANOR NURSING HOME</td>\n",
              "      <td>0.813592</td>\n",
              "    </tr>\n",
              "  </tbody>\n",
              "</table>\n",
              "</div>"
            ],
            "text/plain": [
              "                                  ProviderName  Capacity\n",
              "0                     BURNS NURSING HOME, INC.  0.908772\n",
              "1               COOSA VALLEY HEALTHCARE CENTER  0.848235\n",
              "2                   HIGHLANDS HEALTH AND REHAB  0.826000\n",
              "3  EASTVIEW REHABILITATION & HEALTHCARE CENTER  0.780435\n",
              "4                PLANTATION MANOR NURSING HOME  0.813592"
            ]
          },
          "metadata": {
            "tags": []
          },
          "execution_count": 4
        }
      ]
    },
    {
      "cell_type": "markdown",
      "metadata": {
        "id": "FYipf4_s2P1H"
      },
      "source": [
        "Next, consider the use of <strong>ORDER BY</strong> which can be used to sort the outcomes from the SELECT statement.  The <strong>DESC</strong> option for ORDER BY will sort the Capacity values in descending order."
      ]
    },
    {
      "cell_type": "code",
      "metadata": {
        "colab": {
          "base_uri": "https://localhost:8080/",
          "height": 198
        },
        "id": "BuijsBZt2P9t",
        "outputId": "1dd492d7-cc46-453f-96be-91accc9a672a"
      },
      "source": [
        "#Making a connection\n",
        "connect_db = sqlite3.connect(\"/content/sample_data/NursingHomes.db\")\n",
        "\n",
        "#SQL Statement\n",
        "df = pd.read_sql_query(\"\"\"\n",
        "                          SELECT ProviderName, \n",
        "                                 (AverageResidentsperDay/NumberBeds) AS Capacity \n",
        "                          FROM Providers\n",
        "                          ORDER BY Capacity DESC\n",
        "                       \"\"\"\n",
        "                          , connect_db)\n",
        "                       \n",
        "#Closing the connection\n",
        "connect_db.close()\n",
        "\n",
        "#Using pandas to show output\n",
        "df.head()"
      ],
      "execution_count": null,
      "outputs": [
        {
          "output_type": "execute_result",
          "data": {
            "text/html": [
              "<div>\n",
              "<style scoped>\n",
              "    .dataframe tbody tr th:only-of-type {\n",
              "        vertical-align: middle;\n",
              "    }\n",
              "\n",
              "    .dataframe tbody tr th {\n",
              "        vertical-align: top;\n",
              "    }\n",
              "\n",
              "    .dataframe thead th {\n",
              "        text-align: right;\n",
              "    }\n",
              "</style>\n",
              "<table border=\"1\" class=\"dataframe\">\n",
              "  <thead>\n",
              "    <tr style=\"text-align: right;\">\n",
              "      <th></th>\n",
              "      <th>ProviderName</th>\n",
              "      <th>Capacity</th>\n",
              "    </tr>\n",
              "  </thead>\n",
              "  <tbody>\n",
              "    <tr>\n",
              "      <th>0</th>\n",
              "      <td>THE CENTER AT GRANDE</td>\n",
              "      <td>10.650000</td>\n",
              "    </tr>\n",
              "    <tr>\n",
              "      <th>1</th>\n",
              "      <td>MARYLAND GARDENS CARE CENTER</td>\n",
              "      <td>5.187500</td>\n",
              "    </tr>\n",
              "    <tr>\n",
              "      <th>2</th>\n",
              "      <td>COLUSA MEDICAL CENTER - SNF</td>\n",
              "      <td>4.266667</td>\n",
              "    </tr>\n",
              "    <tr>\n",
              "      <th>3</th>\n",
              "      <td>WOONSOCKET HEALTH CENTRE</td>\n",
              "      <td>3.980769</td>\n",
              "    </tr>\n",
              "    <tr>\n",
              "      <th>4</th>\n",
              "      <td>WARE MEMORIAL CARE CENTER</td>\n",
              "      <td>3.216000</td>\n",
              "    </tr>\n",
              "  </tbody>\n",
              "</table>\n",
              "</div>"
            ],
            "text/plain": [
              "                   ProviderName   Capacity\n",
              "0          THE CENTER AT GRANDE  10.650000\n",
              "1  MARYLAND GARDENS CARE CENTER   5.187500\n",
              "2   COLUSA MEDICAL CENTER - SNF   4.266667\n",
              "3      WOONSOCKET HEALTH CENTRE   3.980769\n",
              "4     WARE MEMORIAL CARE CENTER   3.216000"
            ]
          },
          "metadata": {
            "tags": []
          },
          "execution_count": 39
        }
      ]
    },
    {
      "cell_type": "markdown",
      "metadata": {
        "id": "AsOqz9ORzwcZ"
      },
      "source": [
        "A Capacity value over 1 indicates the nursing home has a capacity larger than 100%.  A WHERE statement can be used to filter out such nursing homes.  \n",
        "\n",
        "<strong>Note:</strong>  At times, SQL requires statements in a particular order.  Here, the WHERE statements must come before the ORDER BY statement."
      ]
    },
    {
      "cell_type": "code",
      "metadata": {
        "colab": {
          "base_uri": "https://localhost:8080/",
          "height": 348
        },
        "id": "3JobBL4X4slD",
        "outputId": "c55a5064-11af-4e2d-8220-7a9764a74153"
      },
      "source": [
        "#Making a connection\n",
        "connect_db = sqlite3.connect(\"/content/sample_data/NursingHomes.db\")\n",
        "\n",
        "#SQL Statement\n",
        "df = pd.read_sql_query(\"\"\"\n",
        "                          SELECT ProviderName, \n",
        "                                 (AverageResidentsperDay/NumberBeds) AS Capacity \n",
        "                          FROM Providers\n",
        "                          WHERE Capacity <= 1\n",
        "                          ORDER BY Capacity DESC\n",
        "                       \"\"\"\n",
        "                          , connect_db)\n",
        "                       \n",
        "#Closing the connection\n",
        "connect_db.close()\n",
        "\n",
        "#Using pandas to show output\n",
        "df.head(10)"
      ],
      "execution_count": null,
      "outputs": [
        {
          "output_type": "execute_result",
          "data": {
            "text/html": [
              "<div>\n",
              "<style scoped>\n",
              "    .dataframe tbody tr th:only-of-type {\n",
              "        vertical-align: middle;\n",
              "    }\n",
              "\n",
              "    .dataframe tbody tr th {\n",
              "        vertical-align: top;\n",
              "    }\n",
              "\n",
              "    .dataframe thead th {\n",
              "        text-align: right;\n",
              "    }\n",
              "</style>\n",
              "<table border=\"1\" class=\"dataframe\">\n",
              "  <thead>\n",
              "    <tr style=\"text-align: right;\">\n",
              "      <th></th>\n",
              "      <th>ProviderName</th>\n",
              "      <th>Capacity</th>\n",
              "    </tr>\n",
              "  </thead>\n",
              "  <tbody>\n",
              "    <tr>\n",
              "      <th>0</th>\n",
              "      <td>HAVASU REGIONAL MEDICAL CENTER</td>\n",
              "      <td>1.000000</td>\n",
              "    </tr>\n",
              "    <tr>\n",
              "      <th>1</th>\n",
              "      <td>THE ROYAL HOME</td>\n",
              "      <td>1.000000</td>\n",
              "    </tr>\n",
              "    <tr>\n",
              "      <th>2</th>\n",
              "      <td>PALO ALTO COUNTY HOSPITAL</td>\n",
              "      <td>1.000000</td>\n",
              "    </tr>\n",
              "    <tr>\n",
              "      <th>3</th>\n",
              "      <td>THE STEVEN AND ALEXANDRA COHEN PED L T C PAVILION</td>\n",
              "      <td>1.000000</td>\n",
              "    </tr>\n",
              "    <tr>\n",
              "      <th>4</th>\n",
              "      <td>SUMMIT SQUARE</td>\n",
              "      <td>1.000000</td>\n",
              "    </tr>\n",
              "    <tr>\n",
              "      <th>5</th>\n",
              "      <td>MILETREE CENTER</td>\n",
              "      <td>1.000000</td>\n",
              "    </tr>\n",
              "    <tr>\n",
              "      <th>6</th>\n",
              "      <td>AMERICAN RIVER CENTER</td>\n",
              "      <td>1.000000</td>\n",
              "    </tr>\n",
              "    <tr>\n",
              "      <th>7</th>\n",
              "      <td>PARKLANE WEST HEALTHCARE CENTER</td>\n",
              "      <td>0.997561</td>\n",
              "    </tr>\n",
              "    <tr>\n",
              "      <th>8</th>\n",
              "      <td>HEALTHCARE CENTER OF JACKSONVILLE</td>\n",
              "      <td>0.997500</td>\n",
              "    </tr>\n",
              "    <tr>\n",
              "      <th>9</th>\n",
              "      <td>PORTAGEPOINTE</td>\n",
              "      <td>0.996667</td>\n",
              "    </tr>\n",
              "  </tbody>\n",
              "</table>\n",
              "</div>"
            ],
            "text/plain": [
              "                                        ProviderName  Capacity\n",
              "0                     HAVASU REGIONAL MEDICAL CENTER  1.000000\n",
              "1                                     THE ROYAL HOME  1.000000\n",
              "2                          PALO ALTO COUNTY HOSPITAL  1.000000\n",
              "3  THE STEVEN AND ALEXANDRA COHEN PED L T C PAVILION  1.000000\n",
              "4                                      SUMMIT SQUARE  1.000000\n",
              "5                                    MILETREE CENTER  1.000000\n",
              "6                              AMERICAN RIVER CENTER  1.000000\n",
              "7                    PARKLANE WEST HEALTHCARE CENTER  0.997561\n",
              "8                  HEALTHCARE CENTER OF JACKSONVILLE  0.997500\n",
              "9                                      PORTAGEPOINTE  0.996667"
            ]
          },
          "metadata": {
            "tags": []
          },
          "execution_count": 42
        }
      ]
    },
    {
      "cell_type": "markdown",
      "metadata": {
        "id": "eEjLgzbn48qi"
      },
      "source": [
        "# CONCATENATE, CAST, and ROUND in SQL"
      ]
    },
    {
      "cell_type": "markdown",
      "metadata": {
        "id": "GlHh3hYi5W3x"
      },
      "source": [
        "Consider the following use of the ROUND() and CAST() functions, and the concatenate utility to express the output as a percentage.\n",
        "\n",
        "\n",
        "1.   ROUND(); can be used to round a number to a specific number of decimals\n",
        "2.   CAST(); can be used to change the data type; this is necessary as the concatenate utility requires a string variable\n",
        "3.   ||; SQLite does not support CONCAT() function, but instead uses the || syntax to piece together a set of strings into a larger string.\n",
        "\n"
      ]
    },
    {
      "cell_type": "code",
      "metadata": {
        "colab": {
          "base_uri": "https://localhost:8080/",
          "height": 198
        },
        "id": "wc1Uq_c1zwkM",
        "outputId": "971decc3-5793-462b-b4bd-2fed52621385"
      },
      "source": [
        "#Making a connection\n",
        "connect_db = sqlite3.connect(\"/content/sample_data/NursingHomes.db\")\n",
        "\n",
        "#SQL Statement\n",
        "df = pd.read_sql_query(\"\"\"\n",
        "                          SELECT ProviderName, \n",
        "                                 ( CAST(ROUND(100*(AverageResidentsperDay/NumberBeds),1) AS VARCHAR) || '%' ) AS Capacity \n",
        "                          FROM Providers\n",
        "                       \"\"\"\n",
        "                          , connect_db)\n",
        "                       \n",
        "#Closing the connection\n",
        "connect_db.close()\n",
        "\n",
        "#Using pandas to show output\n",
        "df.head()"
      ],
      "execution_count": null,
      "outputs": [
        {
          "output_type": "execute_result",
          "data": {
            "text/html": [
              "<div>\n",
              "<style scoped>\n",
              "    .dataframe tbody tr th:only-of-type {\n",
              "        vertical-align: middle;\n",
              "    }\n",
              "\n",
              "    .dataframe tbody tr th {\n",
              "        vertical-align: top;\n",
              "    }\n",
              "\n",
              "    .dataframe thead th {\n",
              "        text-align: right;\n",
              "    }\n",
              "</style>\n",
              "<table border=\"1\" class=\"dataframe\">\n",
              "  <thead>\n",
              "    <tr style=\"text-align: right;\">\n",
              "      <th></th>\n",
              "      <th>ProviderName</th>\n",
              "      <th>Capacity</th>\n",
              "    </tr>\n",
              "  </thead>\n",
              "  <tbody>\n",
              "    <tr>\n",
              "      <th>0</th>\n",
              "      <td>BURNS NURSING HOME, INC.</td>\n",
              "      <td>90.9%</td>\n",
              "    </tr>\n",
              "    <tr>\n",
              "      <th>1</th>\n",
              "      <td>COOSA VALLEY HEALTHCARE CENTER</td>\n",
              "      <td>84.8%</td>\n",
              "    </tr>\n",
              "    <tr>\n",
              "      <th>2</th>\n",
              "      <td>HIGHLANDS HEALTH AND REHAB</td>\n",
              "      <td>82.6%</td>\n",
              "    </tr>\n",
              "    <tr>\n",
              "      <th>3</th>\n",
              "      <td>EASTVIEW REHABILITATION &amp; HEALTHCARE CENTER</td>\n",
              "      <td>78.0%</td>\n",
              "    </tr>\n",
              "    <tr>\n",
              "      <th>4</th>\n",
              "      <td>PLANTATION MANOR NURSING HOME</td>\n",
              "      <td>81.4%</td>\n",
              "    </tr>\n",
              "  </tbody>\n",
              "</table>\n",
              "</div>"
            ],
            "text/plain": [
              "                                  ProviderName Capacity\n",
              "0                     BURNS NURSING HOME, INC.    90.9%\n",
              "1               COOSA VALLEY HEALTHCARE CENTER    84.8%\n",
              "2                   HIGHLANDS HEALTH AND REHAB    82.6%\n",
              "3  EASTVIEW REHABILITATION & HEALTHCARE CENTER    78.0%\n",
              "4                PLANTATION MANOR NURSING HOME    81.4%"
            ]
          },
          "metadata": {
            "tags": []
          },
          "execution_count": 43
        }
      ]
    },
    {
      "cell_type": "markdown",
      "metadata": {
        "id": "g7dml2fm6cVr"
      },
      "source": [
        "Suppose an ORDER BY statement is included to sort the capacities from largest to smallest."
      ]
    },
    {
      "cell_type": "code",
      "metadata": {
        "colab": {
          "base_uri": "https://localhost:8080/",
          "height": 198
        },
        "id": "bNZtxoqv6ccU",
        "outputId": "ec94f856-944e-43f7-e955-d38ebd1df4c0"
      },
      "source": [
        "#Making a connection\n",
        "connect_db = sqlite3.connect(\"/content/sample_data/NursingHomes.db\")\n",
        "\n",
        "#SQL Statement\n",
        "df = pd.read_sql_query(\"\"\"\n",
        "                          SELECT ProviderName, \n",
        "                                 ( CAST(ROUND(100*(AverageResidentsperDay/NumberBeds),1) AS VARCHAR) || '%' ) AS Capacity \n",
        "                          FROM Providers\n",
        "                          ORDER BY Capacity DESC\n",
        "                       \"\"\"\n",
        "                          , connect_db)\n",
        "                       \n",
        "#Closing the connection\n",
        "connect_db.close()\n",
        "\n",
        "#Using pandas to show output\n",
        "df.tail()"
      ],
      "execution_count": null,
      "outputs": [
        {
          "output_type": "execute_result",
          "data": {
            "text/html": [
              "<div>\n",
              "<style scoped>\n",
              "    .dataframe tbody tr th:only-of-type {\n",
              "        vertical-align: middle;\n",
              "    }\n",
              "\n",
              "    .dataframe tbody tr th {\n",
              "        vertical-align: top;\n",
              "    }\n",
              "\n",
              "    .dataframe thead th {\n",
              "        text-align: right;\n",
              "    }\n",
              "</style>\n",
              "<table border=\"1\" class=\"dataframe\">\n",
              "  <thead>\n",
              "    <tr style=\"text-align: right;\">\n",
              "      <th></th>\n",
              "      <th>ProviderName</th>\n",
              "      <th>Capacity</th>\n",
              "    </tr>\n",
              "  </thead>\n",
              "  <tbody>\n",
              "    <tr>\n",
              "      <th>15326</th>\n",
              "      <td>THE CENTER AT PARMER</td>\n",
              "      <td>0.0%</td>\n",
              "    </tr>\n",
              "    <tr>\n",
              "      <th>15327</th>\n",
              "      <td>CEDAR HOLLOW REHABILITATION CENTER</td>\n",
              "      <td>0.0%</td>\n",
              "    </tr>\n",
              "    <tr>\n",
              "      <th>15328</th>\n",
              "      <td>THE LEGACY MIDTOWN PARK</td>\n",
              "      <td>0.0%</td>\n",
              "    </tr>\n",
              "    <tr>\n",
              "      <th>15329</th>\n",
              "      <td>SYLVAN SHORES HEALTH AND WELLNESS</td>\n",
              "      <td>0.0%</td>\n",
              "    </tr>\n",
              "    <tr>\n",
              "      <th>15330</th>\n",
              "      <td>METHODIST TRANSITIONAL CARE CENTER-DESOTO LLC</td>\n",
              "      <td>0.0%</td>\n",
              "    </tr>\n",
              "  </tbody>\n",
              "</table>\n",
              "</div>"
            ],
            "text/plain": [
              "                                        ProviderName Capacity\n",
              "15326                           THE CENTER AT PARMER     0.0%\n",
              "15327             CEDAR HOLLOW REHABILITATION CENTER     0.0%\n",
              "15328                        THE LEGACY MIDTOWN PARK     0.0%\n",
              "15329              SYLVAN SHORES HEALTH AND WELLNESS     0.0%\n",
              "15330  METHODIST TRANSITIONAL CARE CENTER-DESOTO LLC     0.0%"
            ]
          },
          "metadata": {
            "tags": []
          },
          "execution_count": 57
        }
      ]
    },
    {
      "cell_type": "markdown",
      "metadata": {
        "id": "iIdomG2P-QQN"
      },
      "source": [
        "The output above is **not** correctly sorted -- or is it?  The data type for Capacity is a string; thus, sorting is indeed being done correctly in SQL.\n",
        "\n",
        "<table>\n",
        "<tr>\n",
        "<td align=\"center\">Values</td><td align=\"center\">Values <br>AS String</td>\n",
        "<td align=\"center\"></td><td align=\"center\">Sort <br>WHEN String</td><td align=\"center\">Sort <br>WHEN Numeric</td>\n",
        "</tr>\n",
        "<td align=\"right\">\n",
        "<font size=\"+2\">\n",
        "99.6%<br>\n",
        "0.0%<br>\n",
        "1065.0%<br>\n",
        "518.8%<br>\n",
        "</font>\n",
        "</td>\n",
        "<td align=\"left\">\n",
        "<font size=\"+2\">\n",
        "\"99.6%\"<br>\n",
        "\"0.0%\"<br>\n",
        "\"1065.0%\"<br>\n",
        "\"518.8%\"<br>\n",
        "</font>\n",
        "</td>\n",
        "<td align=\"left\">&nbsp;</td>\n",
        "\n",
        "<td align=\"left\">\n",
        "<font size=\"+2\">\n",
        "\"<u>0</u>.0%\"<br>\n",
        "\"<u>1</u>065.0%\"<br>\n",
        "\"<u>5</u>18.8%\"<br>\n",
        "\"<u>9</u>9.6%\"<br>\n",
        "</font>\n",
        "</td>\n",
        "<td align=\"right\">\n",
        "<font size=\"+2\">\n",
        "0.0%<br>\n",
        "99.6%<br>\n",
        "518.8%<br>\n",
        "1065.0%<br>\n",
        "</font>\n",
        "</td>\n",
        "</tr>\n",
        "</table>"
      ]
    },
    {
      "cell_type": "markdown",
      "metadata": {
        "id": "JfzFMlk16rwj"
      },
      "source": [
        "To alleviate this issue, modify the SQL statement as follows.  Notice that the ORDER BY statement uses the numeric quantity to completing the sorting."
      ]
    },
    {
      "cell_type": "code",
      "metadata": {
        "colab": {
          "base_uri": "https://localhost:8080/",
          "height": 198
        },
        "id": "maKfxybu6r4b",
        "outputId": "3c8b5d8a-3cce-4cb6-9959-07eacd649757"
      },
      "source": [
        "#Making a connection\n",
        "connect_db = sqlite3.connect(\"/content/sample_data/NursingHomes.db\")\n",
        "\n",
        "#SQL Statement\n",
        "NursingHomes_Capacity = pd.read_sql_query(\"\"\"\n",
        "                          SELECT ProviderName, \n",
        "                                 AverageResidentsperDay/NumberBeds AS Capacity_Numeric,\n",
        "                                 ( CAST(ROUND(100*(AverageResidentsperDay/NumberBeds),1) AS VARCHAR) || '%' ) AS Capacity \n",
        "                          FROM Providers\n",
        "                          ORDER BY Capacity_Numeric DESC\n",
        "                       \"\"\"\n",
        "                          , connect_db)\n",
        "                       \n",
        "#Closing the connection\n",
        "connect_db.close()\n",
        "\n",
        "#Using pandas to show output\n",
        "NursingHomes_Capacity.head()"
      ],
      "execution_count": null,
      "outputs": [
        {
          "output_type": "execute_result",
          "data": {
            "text/html": [
              "<div>\n",
              "<style scoped>\n",
              "    .dataframe tbody tr th:only-of-type {\n",
              "        vertical-align: middle;\n",
              "    }\n",
              "\n",
              "    .dataframe tbody tr th {\n",
              "        vertical-align: top;\n",
              "    }\n",
              "\n",
              "    .dataframe thead th {\n",
              "        text-align: right;\n",
              "    }\n",
              "</style>\n",
              "<table border=\"1\" class=\"dataframe\">\n",
              "  <thead>\n",
              "    <tr style=\"text-align: right;\">\n",
              "      <th></th>\n",
              "      <th>ProviderName</th>\n",
              "      <th>Capacity_Numeric</th>\n",
              "      <th>Capacity</th>\n",
              "    </tr>\n",
              "  </thead>\n",
              "  <tbody>\n",
              "    <tr>\n",
              "      <th>0</th>\n",
              "      <td>THE CENTER AT GRANDE</td>\n",
              "      <td>10.650000</td>\n",
              "      <td>1065.0%</td>\n",
              "    </tr>\n",
              "    <tr>\n",
              "      <th>1</th>\n",
              "      <td>MARYLAND GARDENS CARE CENTER</td>\n",
              "      <td>5.187500</td>\n",
              "      <td>518.8%</td>\n",
              "    </tr>\n",
              "    <tr>\n",
              "      <th>2</th>\n",
              "      <td>COLUSA MEDICAL CENTER - SNF</td>\n",
              "      <td>4.266667</td>\n",
              "      <td>426.7%</td>\n",
              "    </tr>\n",
              "    <tr>\n",
              "      <th>3</th>\n",
              "      <td>WOONSOCKET HEALTH CENTRE</td>\n",
              "      <td>3.980769</td>\n",
              "      <td>398.1%</td>\n",
              "    </tr>\n",
              "    <tr>\n",
              "      <th>4</th>\n",
              "      <td>WARE MEMORIAL CARE CENTER</td>\n",
              "      <td>3.216000</td>\n",
              "      <td>321.6%</td>\n",
              "    </tr>\n",
              "  </tbody>\n",
              "</table>\n",
              "</div>"
            ],
            "text/plain": [
              "                   ProviderName  Capacity_Numeric Capacity\n",
              "0          THE CENTER AT GRANDE         10.650000  1065.0%\n",
              "1  MARYLAND GARDENS CARE CENTER          5.187500   518.8%\n",
              "2   COLUSA MEDICAL CENTER - SNF          4.266667   426.7%\n",
              "3      WOONSOCKET HEALTH CENTRE          3.980769   398.1%\n",
              "4     WARE MEMORIAL CARE CENTER          3.216000   321.6%"
            ]
          },
          "metadata": {
            "tags": []
          },
          "execution_count": 79
        }
      ]
    },
    {
      "cell_type": "markdown",
      "metadata": {
        "id": "ic7vDT0QJsD5"
      },
      "source": [
        "## Using dfply to manage data frame"
      ]
    },
    {
      "cell_type": "markdown",
      "metadata": {
        "id": "0vUd2NqEHZj0"
      },
      "source": [
        "The object returned by the code above is a Python data frame.  Thus, Python can be used to manipulate this data frame.  For example, <strong>dfply</strong> can be used to select the only the ProviderName and Capacity from this data frame.\n",
        "\n",
        "\n",
        "<p align='center'><img src=\"https://drive.google.com/uc?export=view&id=1z9aXcrBX7zBa8vmKZLLa2W2tyLvK63fF\" width='75%' height='75%'></p>"
      ]
    },
    {
      "cell_type": "markdown",
      "metadata": {
        "id": "SwkgF2Ye8oz5"
      },
      "source": [
        "Loading <strong>dfply</strong> to this instance of Colab."
      ]
    },
    {
      "cell_type": "code",
      "metadata": {
        "colab": {
          "base_uri": "https://localhost:8080/"
        },
        "id": "pFLTNONU8o8f",
        "outputId": "de7b932f-4ec5-4193-bc1f-224f31a0b55a"
      },
      "source": [
        "pip install dfply"
      ],
      "execution_count": null,
      "outputs": [
        {
          "output_type": "stream",
          "text": [
            "Requirement already satisfied: dfply in /usr/local/lib/python3.7/dist-packages (0.3.3)\n",
            "Requirement already satisfied: numpy in /usr/local/lib/python3.7/dist-packages (from dfply) (1.19.5)\n",
            "Requirement already satisfied: pandas in /usr/local/lib/python3.7/dist-packages (from dfply) (1.1.5)\n",
            "Requirement already satisfied: pytz>=2017.2 in /usr/local/lib/python3.7/dist-packages (from pandas->dfply) (2018.9)\n",
            "Requirement already satisfied: python-dateutil>=2.7.3 in /usr/local/lib/python3.7/dist-packages (from pandas->dfply) (2.8.1)\n",
            "Requirement already satisfied: six>=1.5 in /usr/local/lib/python3.7/dist-packages (from python-dateutil>=2.7.3->pandas->dfply) (1.15.0)\n"
          ],
          "name": "stdout"
        }
      ]
    },
    {
      "cell_type": "markdown",
      "metadata": {
        "id": "mCB4cqRy8t43"
      },
      "source": [
        "Next, importing the package into this instance of Colab."
      ]
    },
    {
      "cell_type": "code",
      "metadata": {
        "id": "jf8ZyrBp8uAe"
      },
      "source": [
        "from dfply import *"
      ],
      "execution_count": null,
      "outputs": []
    },
    {
      "cell_type": "markdown",
      "metadata": {
        "id": "WjP0WPVd85H1"
      },
      "source": [
        "Using the dfply package to <strong>select()</strong> only the desired columns."
      ]
    },
    {
      "cell_type": "code",
      "metadata": {
        "colab": {
          "base_uri": "https://localhost:8080/",
          "height": 198
        },
        "id": "FB5R3Ekw85Q1",
        "outputId": "dcede29e-eaf0-4ce6-ae59-1c107cdfe8cd"
      },
      "source": [
        "#Piping in dfply and using select() to grab first two columns.\n",
        "NursingHomes_Capacity_Updated = (\n",
        "             NursingHomes_Capacity\n",
        "             >> select(X.ProviderName, X.Capacity)\n",
        "             #>> select(~X.Capacity_Numeric)  # Use this version if data frame has several columns to be included\n",
        "           )\n",
        "NursingHomes_Capacity_Updated.head()"
      ],
      "execution_count": null,
      "outputs": [
        {
          "output_type": "execute_result",
          "data": {
            "text/html": [
              "<div>\n",
              "<style scoped>\n",
              "    .dataframe tbody tr th:only-of-type {\n",
              "        vertical-align: middle;\n",
              "    }\n",
              "\n",
              "    .dataframe tbody tr th {\n",
              "        vertical-align: top;\n",
              "    }\n",
              "\n",
              "    .dataframe thead th {\n",
              "        text-align: right;\n",
              "    }\n",
              "</style>\n",
              "<table border=\"1\" class=\"dataframe\">\n",
              "  <thead>\n",
              "    <tr style=\"text-align: right;\">\n",
              "      <th></th>\n",
              "      <th>ProviderName</th>\n",
              "      <th>Capacity</th>\n",
              "    </tr>\n",
              "  </thead>\n",
              "  <tbody>\n",
              "    <tr>\n",
              "      <th>0</th>\n",
              "      <td>THE CENTER AT GRANDE</td>\n",
              "      <td>1065.0%</td>\n",
              "    </tr>\n",
              "    <tr>\n",
              "      <th>1</th>\n",
              "      <td>MARYLAND GARDENS CARE CENTER</td>\n",
              "      <td>518.8%</td>\n",
              "    </tr>\n",
              "    <tr>\n",
              "      <th>2</th>\n",
              "      <td>COLUSA MEDICAL CENTER - SNF</td>\n",
              "      <td>426.7%</td>\n",
              "    </tr>\n",
              "    <tr>\n",
              "      <th>3</th>\n",
              "      <td>WOONSOCKET HEALTH CENTRE</td>\n",
              "      <td>398.1%</td>\n",
              "    </tr>\n",
              "    <tr>\n",
              "      <th>4</th>\n",
              "      <td>WARE MEMORIAL CARE CENTER</td>\n",
              "      <td>321.6%</td>\n",
              "    </tr>\n",
              "  </tbody>\n",
              "</table>\n",
              "</div>"
            ],
            "text/plain": [
              "                   ProviderName Capacity\n",
              "0          THE CENTER AT GRANDE  1065.0%\n",
              "1  MARYLAND GARDENS CARE CENTER   518.8%\n",
              "2   COLUSA MEDICAL CENTER - SNF   426.7%\n",
              "3      WOONSOCKET HEALTH CENTRE   398.1%\n",
              "4     WARE MEMORIAL CARE CENTER   321.6%"
            ]
          },
          "metadata": {
            "tags": []
          },
          "execution_count": 84
        }
      ]
    },
    {
      "cell_type": "markdown",
      "metadata": {
        "id": "uQ3E1meYJzBV"
      },
      "source": [
        "## Using a Subquery to manage data frame"
      ]
    },
    {
      "cell_type": "markdown",
      "metadata": {
        "id": "IfwfWI_HLzac"
      },
      "source": [
        "A subquery in SQL is simply a query within another query.  Subqueries are powerful ways to manipulate data tables that result from a SQL query.  Suqueries **do not** change the structure of the data tables within the database; but simply allow for the managment of data before the outcomes are pushed out to the user."
      ]
    },
    {
      "cell_type": "markdown",
      "metadata": {
        "id": "wznApzCDJ8Q8"
      },
      "source": [
        "When reading / interpreting SQL code that contain subqueries, it is important to read the statement from the <i>inside</i> to the <i>outside</i>. Consider the SQL statement that was used above.\n",
        "\n",
        "<font size=\"-1\" color=\"red\">\n",
        "SELECT ProviderName,<br>\n",
        "&nbsp;&nbsp;&nbsp;&nbsp;&nbsp;&nbsp;&nbsp;&nbsp;&nbsp;&nbsp;&nbsp;&nbsp;&nbsp;&nbsp;&nbsp;AverageResidentsperDay/NumberBeds AS Capacity_Numeric,<br>\n",
        "&nbsp;&nbsp;&nbsp;&nbsp;&nbsp;&nbsp;&nbsp;&nbsp;&nbsp;&nbsp;&nbsp;&nbsp;&nbsp;&nbsp;&nbsp;( CAST(ROUND(100*(AverageResidentsperDay/NumberBeds),1) AS VARCHAR) || '%' ) AS Capacity <br>\n",
        "                            FROM Providers<br>\n",
        "                            ORDER BY Capacity_Numeric DESC\n",
        "</font>"
      ]
    },
    {
      "cell_type": "markdown",
      "metadata": {
        "id": "dMe-3JIZJ83E"
      },
      "source": [
        "The resulting output from this query is an SQL table.\n",
        "\n",
        "<p align='center'><img src=\"https://drive.google.com/uc?export=view&id=1CwL_UaqOuFRd6JtHO1R0vtHqxqlKZbst\" width='50%' height='50%'></p>\n"
      ]
    },
    {
      "cell_type": "markdown",
      "metadata": {
        "id": "fHJHhfWtDlQ0"
      },
      "source": [
        "Now,  let us add a <font color=\"green\"><strong>second SQL query</strong></font> that will be used to manage the SQL table returned by the <font color=\"red\">first SQL query</font>.\n",
        "\n",
        "<font size=\"-1\" color=\"green\">\n",
        "SELECT ProviderName, Capacity <br>\n",
        "&nbsp;&nbsp;&nbsp;FROM<br>\n",
        "&nbsp;&nbsp;&nbsp;(<br>\n",
        "<font size=\"-1\" color=\"red\">\n",
        "&nbsp;&nbsp;&nbsp;&nbsp;&nbsp;&nbsp;SELECT ProviderName,<br>\n",
        "&nbsp;&nbsp;&nbsp;&nbsp;&nbsp;&nbsp;&nbsp;&nbsp;&nbsp;&nbsp;&nbsp;&nbsp;&nbsp;&nbsp;&nbsp;&nbsp;&nbsp;&nbsp;AverageResidentsperDay/NumberBeds AS Capacity_Numeric,<br>\n",
        "&nbsp;&nbsp;&nbsp;&nbsp;&nbsp;&nbsp;&nbsp;&nbsp;&nbsp;&nbsp;&nbsp;&nbsp;&nbsp;&nbsp;&nbsp;&nbsp;&nbsp;&nbsp;( CAST(ROUND(100*(AverageResidentsperDay/NumberBeds),1) AS VARCHAR) || '%' ) AS Capacity <br>\n",
        "&nbsp;&nbsp;&nbsp;&nbsp;&nbsp;&nbsp;                            FROM Providers<br>\n",
        " &nbsp;&nbsp;&nbsp;&nbsp;&nbsp;&nbsp;                           ORDER BY Capacity_Numeric DESC\n",
        "</font>\n",
        "<br>\n",
        "&nbsp;&nbsp;&nbsp;)\n",
        "</font>\n"
      ]
    },
    {
      "cell_type": "markdown",
      "metadata": {
        "id": "9VP6b7vSLH-4"
      },
      "source": [
        "Visually, the <font color=\"green\"><strong>second SQL query</strong></font> is simply selecting the desired columns from the SQL table returned from the <font color=\"red\">first SQL query</font>.\n",
        "\n",
        "<p align='center'><img src=\"https://drive.google.com/uc?export=view&id=1vevXHsihJ544Svf7-ghpOSHrvdx87lmL\" width='50%' height='50%'></p>\n"
      ]
    },
    {
      "cell_type": "markdown",
      "metadata": {
        "id": "_1E1Gds8PeNF"
      },
      "source": [
        "Putting the pieces together in SQL."
      ]
    },
    {
      "cell_type": "code",
      "metadata": {
        "colab": {
          "base_uri": "https://localhost:8080/",
          "height": 198
        },
        "id": "xedn2rA6DlaJ",
        "outputId": "658ac4d2-014a-4c3e-c5d7-49008afbfe4c"
      },
      "source": [
        "#Making a connection\n",
        "connect_db = sqlite3.connect(\"/content/sample_data/NursingHomes.db\")\n",
        "\n",
        "#SQL Statement\n",
        "NursingHomes_Capacity = pd.read_sql_query(\"\"\"\n",
        "                          SELECT ProviderName, Capacity FROM\n",
        "                           (\n",
        "                            SELECT ProviderName, \n",
        "                                 AverageResidentsperDay/NumberBeds AS Capacity_Numeric,\n",
        "                                 ( CAST(ROUND(100*(AverageResidentsperDay/NumberBeds),1) AS VARCHAR) || '%' ) AS Capacity \n",
        "                            FROM Providers\n",
        "                            ORDER BY Capacity_Numeric DESC\n",
        "                           )\n",
        "                       \"\"\"\n",
        "                          , connect_db)\n",
        "                       \n",
        "#Closing the connection\n",
        "connect_db.close()\n",
        "\n",
        "#Using pandas to show output\n",
        "NursingHomes_Capacity.head()"
      ],
      "execution_count": null,
      "outputs": [
        {
          "output_type": "execute_result",
          "data": {
            "text/html": [
              "<div>\n",
              "<style scoped>\n",
              "    .dataframe tbody tr th:only-of-type {\n",
              "        vertical-align: middle;\n",
              "    }\n",
              "\n",
              "    .dataframe tbody tr th {\n",
              "        vertical-align: top;\n",
              "    }\n",
              "\n",
              "    .dataframe thead th {\n",
              "        text-align: right;\n",
              "    }\n",
              "</style>\n",
              "<table border=\"1\" class=\"dataframe\">\n",
              "  <thead>\n",
              "    <tr style=\"text-align: right;\">\n",
              "      <th></th>\n",
              "      <th>ProviderName</th>\n",
              "      <th>Capacity</th>\n",
              "    </tr>\n",
              "  </thead>\n",
              "  <tbody>\n",
              "    <tr>\n",
              "      <th>0</th>\n",
              "      <td>THE CENTER AT GRANDE</td>\n",
              "      <td>1065.0%</td>\n",
              "    </tr>\n",
              "    <tr>\n",
              "      <th>1</th>\n",
              "      <td>MARYLAND GARDENS CARE CENTER</td>\n",
              "      <td>518.8%</td>\n",
              "    </tr>\n",
              "    <tr>\n",
              "      <th>2</th>\n",
              "      <td>COLUSA MEDICAL CENTER - SNF</td>\n",
              "      <td>426.7%</td>\n",
              "    </tr>\n",
              "    <tr>\n",
              "      <th>3</th>\n",
              "      <td>WOONSOCKET HEALTH CENTRE</td>\n",
              "      <td>398.1%</td>\n",
              "    </tr>\n",
              "    <tr>\n",
              "      <th>4</th>\n",
              "      <td>WARE MEMORIAL CARE CENTER</td>\n",
              "      <td>321.6%</td>\n",
              "    </tr>\n",
              "  </tbody>\n",
              "</table>\n",
              "</div>"
            ],
            "text/plain": [
              "                   ProviderName Capacity\n",
              "0          THE CENTER AT GRANDE  1065.0%\n",
              "1  MARYLAND GARDENS CARE CENTER   518.8%\n",
              "2   COLUSA MEDICAL CENTER - SNF   426.7%\n",
              "3      WOONSOCKET HEALTH CENTRE   398.1%\n",
              "4     WARE MEMORIAL CARE CENTER   321.6%"
            ]
          },
          "metadata": {
            "tags": []
          },
          "execution_count": 65
        }
      ]
    },
    {
      "cell_type": "markdown",
      "metadata": {
        "id": "fDq_JLuJKKsu"
      },
      "source": [
        "Next, consider the following code that computes the Average Fine Amount for each nursing home in the database."
      ]
    },
    {
      "cell_type": "code",
      "metadata": {
        "colab": {
          "base_uri": "https://localhost:8080/",
          "height": 348
        },
        "id": "KBiSwO1NQWdp",
        "outputId": "2ece13e2-0a56-4365-c3e8-fe4b4e39588f"
      },
      "source": [
        "#Making a connection\n",
        "connect_db = sqlite3.connect(\"/content/sample_data/NursingHomes.db\")\n",
        "\n",
        "#SQL Statement\n",
        "df = pd.read_sql_query(\"\"\"\n",
        "                          SELECT ProviderName, \n",
        "                                 (TotalAmountFines/NumberofFines) AS 'Average Fine Amount' \n",
        "                          FROM Providers\n",
        "\n",
        "                       \"\"\"\n",
        "                          , connect_db)\n",
        "                       \n",
        "#Closing the connection\n",
        "connect_db.close()\n",
        "\n",
        "#Using pandas to show output\n",
        "df.head(10)"
      ],
      "execution_count": null,
      "outputs": [
        {
          "output_type": "execute_result",
          "data": {
            "text/html": [
              "<div>\n",
              "<style scoped>\n",
              "    .dataframe tbody tr th:only-of-type {\n",
              "        vertical-align: middle;\n",
              "    }\n",
              "\n",
              "    .dataframe tbody tr th {\n",
              "        vertical-align: top;\n",
              "    }\n",
              "\n",
              "    .dataframe thead th {\n",
              "        text-align: right;\n",
              "    }\n",
              "</style>\n",
              "<table border=\"1\" class=\"dataframe\">\n",
              "  <thead>\n",
              "    <tr style=\"text-align: right;\">\n",
              "      <th></th>\n",
              "      <th>ProviderName</th>\n",
              "      <th>Average Fine Amount</th>\n",
              "    </tr>\n",
              "  </thead>\n",
              "  <tbody>\n",
              "    <tr>\n",
              "      <th>0</th>\n",
              "      <td>BURNS NURSING HOME, INC.</td>\n",
              "      <td>NaN</td>\n",
              "    </tr>\n",
              "    <tr>\n",
              "      <th>1</th>\n",
              "      <td>COOSA VALLEY HEALTHCARE CENTER</td>\n",
              "      <td>650.0</td>\n",
              "    </tr>\n",
              "    <tr>\n",
              "      <th>2</th>\n",
              "      <td>HIGHLANDS HEALTH AND REHAB</td>\n",
              "      <td>NaN</td>\n",
              "    </tr>\n",
              "    <tr>\n",
              "      <th>3</th>\n",
              "      <td>EASTVIEW REHABILITATION &amp; HEALTHCARE CENTER</td>\n",
              "      <td>NaN</td>\n",
              "    </tr>\n",
              "    <tr>\n",
              "      <th>4</th>\n",
              "      <td>PLANTATION MANOR NURSING HOME</td>\n",
              "      <td>14805.5</td>\n",
              "    </tr>\n",
              "    <tr>\n",
              "      <th>5</th>\n",
              "      <td>ATHENS HEALTH AND REHABILITATION LLC</td>\n",
              "      <td>NaN</td>\n",
              "    </tr>\n",
              "    <tr>\n",
              "      <th>6</th>\n",
              "      <td>MERRY WOOD LODGE</td>\n",
              "      <td>78677.0</td>\n",
              "    </tr>\n",
              "    <tr>\n",
              "      <th>7</th>\n",
              "      <td>HATLEY HEALTH CARE INC</td>\n",
              "      <td>NaN</td>\n",
              "    </tr>\n",
              "    <tr>\n",
              "      <th>8</th>\n",
              "      <td>SENIOR REHAB &amp; RECOVERY AT LIMESTONE HEALTH FA...</td>\n",
              "      <td>NaN</td>\n",
              "    </tr>\n",
              "    <tr>\n",
              "      <th>9</th>\n",
              "      <td>WETUMPKA HEALTH AND REHABILITATION, LLC</td>\n",
              "      <td>NaN</td>\n",
              "    </tr>\n",
              "  </tbody>\n",
              "</table>\n",
              "</div>"
            ],
            "text/plain": [
              "                                        ProviderName  Average Fine Amount\n",
              "0                           BURNS NURSING HOME, INC.                  NaN\n",
              "1                     COOSA VALLEY HEALTHCARE CENTER                650.0\n",
              "2                         HIGHLANDS HEALTH AND REHAB                  NaN\n",
              "3        EASTVIEW REHABILITATION & HEALTHCARE CENTER                  NaN\n",
              "4                      PLANTATION MANOR NURSING HOME              14805.5\n",
              "5               ATHENS HEALTH AND REHABILITATION LLC                  NaN\n",
              "6                                   MERRY WOOD LODGE              78677.0\n",
              "7                             HATLEY HEALTH CARE INC                  NaN\n",
              "8  SENIOR REHAB & RECOVERY AT LIMESTONE HEALTH FA...                  NaN\n",
              "9            WETUMPKA HEALTH AND REHABILITATION, LLC                  NaN"
            ]
          },
          "metadata": {
            "tags": []
          },
          "execution_count": 5
        }
      ]
    },
    {
      "cell_type": "markdown",
      "metadata": {
        "id": "WfYfIl2kQ5XH"
      },
      "source": [
        "The 'Average Fine Amount' cannot be computed because in many situations the NumberofFines = 0.  In this situation the <strong>CASE WHEN</strong> statement can be used to alleviate this issue. \n",
        "\n",
        "$$AverageFine = \\Bigg\\{ \\begin{array} \\tiny{\\frac{\\mbox{Total Amount of Fines}}{\\mbox{Number of Fines}}} & when & \\mbox{Number of Fines} > 0\\\\\n",
        "0 &  when & \\mbox{Number of Fines} = 0\n",
        "\\end{array}$$"
      ]
    },
    {
      "cell_type": "code",
      "metadata": {
        "colab": {
          "base_uri": "https://localhost:8080/",
          "height": 348
        },
        "id": "SD5fDTwgQ5hB",
        "outputId": "926c68fd-b4dd-4fed-e178-e71e19845ec2"
      },
      "source": [
        "#Making a connection\n",
        "connect_db = sqlite3.connect(\"/content/sample_data/NursingHomes.db\")\n",
        "\n",
        "#SQL Statement\n",
        "df = pd.read_sql_query(\"\"\"\n",
        "                          SELECT ProviderName, \n",
        "                                 CASE\n",
        "                                     WHEN NumberofFines > 0 THEN  (TotalAmountFines/NumberofFines)\n",
        "                                     ELSE 0\n",
        "                                 END AS 'Average Fine Amount' \n",
        "                          FROM Providers\n",
        "                       \"\"\"\n",
        "                          , connect_db)\n",
        "                       \n",
        "#Closing the connection\n",
        "connect_db.close()\n",
        "\n",
        "#Using pandas to show output\n",
        "df.head(10)"
      ],
      "execution_count": null,
      "outputs": [
        {
          "output_type": "execute_result",
          "data": {
            "text/html": [
              "<div>\n",
              "<style scoped>\n",
              "    .dataframe tbody tr th:only-of-type {\n",
              "        vertical-align: middle;\n",
              "    }\n",
              "\n",
              "    .dataframe tbody tr th {\n",
              "        vertical-align: top;\n",
              "    }\n",
              "\n",
              "    .dataframe thead th {\n",
              "        text-align: right;\n",
              "    }\n",
              "</style>\n",
              "<table border=\"1\" class=\"dataframe\">\n",
              "  <thead>\n",
              "    <tr style=\"text-align: right;\">\n",
              "      <th></th>\n",
              "      <th>ProviderName</th>\n",
              "      <th>Average Fine Amount</th>\n",
              "    </tr>\n",
              "  </thead>\n",
              "  <tbody>\n",
              "    <tr>\n",
              "      <th>0</th>\n",
              "      <td>BURNS NURSING HOME, INC.</td>\n",
              "      <td>0.0</td>\n",
              "    </tr>\n",
              "    <tr>\n",
              "      <th>1</th>\n",
              "      <td>COOSA VALLEY HEALTHCARE CENTER</td>\n",
              "      <td>650.0</td>\n",
              "    </tr>\n",
              "    <tr>\n",
              "      <th>2</th>\n",
              "      <td>HIGHLANDS HEALTH AND REHAB</td>\n",
              "      <td>0.0</td>\n",
              "    </tr>\n",
              "    <tr>\n",
              "      <th>3</th>\n",
              "      <td>EASTVIEW REHABILITATION &amp; HEALTHCARE CENTER</td>\n",
              "      <td>0.0</td>\n",
              "    </tr>\n",
              "    <tr>\n",
              "      <th>4</th>\n",
              "      <td>PLANTATION MANOR NURSING HOME</td>\n",
              "      <td>14805.5</td>\n",
              "    </tr>\n",
              "    <tr>\n",
              "      <th>5</th>\n",
              "      <td>ATHENS HEALTH AND REHABILITATION LLC</td>\n",
              "      <td>0.0</td>\n",
              "    </tr>\n",
              "    <tr>\n",
              "      <th>6</th>\n",
              "      <td>MERRY WOOD LODGE</td>\n",
              "      <td>78677.0</td>\n",
              "    </tr>\n",
              "    <tr>\n",
              "      <th>7</th>\n",
              "      <td>HATLEY HEALTH CARE INC</td>\n",
              "      <td>0.0</td>\n",
              "    </tr>\n",
              "    <tr>\n",
              "      <th>8</th>\n",
              "      <td>SENIOR REHAB &amp; RECOVERY AT LIMESTONE HEALTH FA...</td>\n",
              "      <td>0.0</td>\n",
              "    </tr>\n",
              "    <tr>\n",
              "      <th>9</th>\n",
              "      <td>WETUMPKA HEALTH AND REHABILITATION, LLC</td>\n",
              "      <td>0.0</td>\n",
              "    </tr>\n",
              "  </tbody>\n",
              "</table>\n",
              "</div>"
            ],
            "text/plain": [
              "                                        ProviderName  Average Fine Amount\n",
              "0                           BURNS NURSING HOME, INC.                  0.0\n",
              "1                     COOSA VALLEY HEALTHCARE CENTER                650.0\n",
              "2                         HIGHLANDS HEALTH AND REHAB                  0.0\n",
              "3        EASTVIEW REHABILITATION & HEALTHCARE CENTER                  0.0\n",
              "4                      PLANTATION MANOR NURSING HOME              14805.5\n",
              "5               ATHENS HEALTH AND REHABILITATION LLC                  0.0\n",
              "6                                   MERRY WOOD LODGE              78677.0\n",
              "7                             HATLEY HEALTH CARE INC                  0.0\n",
              "8  SENIOR REHAB & RECOVERY AT LIMESTONE HEALTH FA...                  0.0\n",
              "9            WETUMPKA HEALTH AND REHABILITATION, LLC                  0.0"
            ]
          },
          "metadata": {
            "tags": []
          },
          "execution_count": 6
        }
      ]
    },
    {
      "cell_type": "markdown",
      "metadata": {
        "id": "eoxOm_XsqJMW"
      },
      "source": [
        "# Create New Field - STRING"
      ]
    },
    {
      "cell_type": "markdown",
      "metadata": {
        "id": "aMoPlVQ8mRpj"
      },
      "source": [
        "There are a set of string functions that can be used in SQL.  SQLite contains a smaller subset of these string functions.  A description of commonly used string function in SQLite is provided on the following website.\n",
        "\n",
        "Common SQLite String Functions: https://www.sqlitetutorial.net/sqlite-string-functions/ "
      ]
    },
    {
      "cell_type": "markdown",
      "metadata": {
        "id": "OIA3NpXamps_"
      },
      "source": [
        "### Getting Last Two Characters in a String"
      ]
    },
    {
      "cell_type": "markdown",
      "metadata": {
        "id": "0QGL3Wu3sGTB"
      },
      "source": [
        "The <strong>SUBSTR</strong> statement in SQL can be used to obtain a subset of a string.  Similar to R/Python, the negative index can be used to start from the right-end of the string.\n",
        "\n",
        "<p align=\"center\">\n",
        "<font size=\"+2\">\n",
        "SUBSTR( <i>string</i>, start = ____, length = ____)\n",
        "</font>\n",
        "</p>\n",
        "\n",
        "To obtain the State field, we will apply the SUBSTR() function to the ProviderCounty field.  Consider the following setup for the SUBSTR() function.\n",
        "\n",
        "<p align='center'><img src=\"https://drive.google.com/uc?export=view&id=1E9rTKKAFIskDOcCJbPunrVE6QLFfwaMh\" width='50%' height='50%'></p>\n",
        "\n",
        "<strong>Note:</strong>:  If there is any chance of a phymtom space at the end of the string, the TRIM() function should be used before applying the SUBSTR() function.\n"
      ]
    },
    {
      "cell_type": "code",
      "metadata": {
        "colab": {
          "base_uri": "https://localhost:8080/",
          "height": 348
        },
        "id": "dd3ijTvbRM-N",
        "outputId": "709d4aac-942f-4f42-ee49-f953e1a189a3"
      },
      "source": [
        "#Making a connection\n",
        "connect_db = sqlite3.connect(\"/content/sample_data/NursingHomes.db\")\n",
        "\n",
        "#SQL Statement\n",
        "df = pd.read_sql_query(\"\"\"\n",
        "                          SELECT SUM(TotalAmountFines) AS TotalFines , SUBSTR(ProviderCounty, -2, 2) AS State\n",
        "                          FROM Providers\n",
        "                          GROUP BY State\n",
        "                          ORDER BY TotalFines DESC\n",
        "                       \"\"\"\n",
        "                          , connect_db)\n",
        "                       \n",
        "#Closing the connection\n",
        "connect_db.close()\n",
        "\n",
        "#Using pandas to show output\n",
        "df.head(10)"
      ],
      "execution_count": null,
      "outputs": [
        {
          "output_type": "execute_result",
          "data": {
            "text/html": [
              "<div>\n",
              "<style scoped>\n",
              "    .dataframe tbody tr th:only-of-type {\n",
              "        vertical-align: middle;\n",
              "    }\n",
              "\n",
              "    .dataframe tbody tr th {\n",
              "        vertical-align: top;\n",
              "    }\n",
              "\n",
              "    .dataframe thead th {\n",
              "        text-align: right;\n",
              "    }\n",
              "</style>\n",
              "<table border=\"1\" class=\"dataframe\">\n",
              "  <thead>\n",
              "    <tr style=\"text-align: right;\">\n",
              "      <th></th>\n",
              "      <th>TotalFines</th>\n",
              "      <th>State</th>\n",
              "    </tr>\n",
              "  </thead>\n",
              "  <tbody>\n",
              "    <tr>\n",
              "      <th>0</th>\n",
              "      <td>13788843.0</td>\n",
              "      <td>FL</td>\n",
              "    </tr>\n",
              "    <tr>\n",
              "      <th>1</th>\n",
              "      <td>13530114.0</td>\n",
              "      <td>NC</td>\n",
              "    </tr>\n",
              "    <tr>\n",
              "      <th>2</th>\n",
              "      <td>12768677.0</td>\n",
              "      <td>TX</td>\n",
              "    </tr>\n",
              "    <tr>\n",
              "      <th>3</th>\n",
              "      <td>11070843.0</td>\n",
              "      <td>MI</td>\n",
              "    </tr>\n",
              "    <tr>\n",
              "      <th>4</th>\n",
              "      <td>10420372.0</td>\n",
              "      <td>KY</td>\n",
              "    </tr>\n",
              "    <tr>\n",
              "      <th>5</th>\n",
              "      <td>7866628.0</td>\n",
              "      <td>PA</td>\n",
              "    </tr>\n",
              "    <tr>\n",
              "      <th>6</th>\n",
              "      <td>7235688.0</td>\n",
              "      <td>IN</td>\n",
              "    </tr>\n",
              "    <tr>\n",
              "      <th>7</th>\n",
              "      <td>6575031.0</td>\n",
              "      <td>GA</td>\n",
              "    </tr>\n",
              "    <tr>\n",
              "      <th>8</th>\n",
              "      <td>6527641.0</td>\n",
              "      <td>OH</td>\n",
              "    </tr>\n",
              "    <tr>\n",
              "      <th>9</th>\n",
              "      <td>6429331.0</td>\n",
              "      <td>MA</td>\n",
              "    </tr>\n",
              "  </tbody>\n",
              "</table>\n",
              "</div>"
            ],
            "text/plain": [
              "   TotalFines State\n",
              "0  13788843.0    FL\n",
              "1  13530114.0    NC\n",
              "2  12768677.0    TX\n",
              "3  11070843.0    MI\n",
              "4  10420372.0    KY\n",
              "5   7866628.0    PA\n",
              "6   7235688.0    IN\n",
              "7   6575031.0    GA\n",
              "8   6527641.0    OH\n",
              "9   6429331.0    MA"
            ]
          },
          "metadata": {
            "tags": []
          },
          "execution_count": 7
        }
      ]
    },
    {
      "cell_type": "markdown",
      "metadata": {
        "id": "LZr6nK-Xmxsb"
      },
      "source": [
        "### Splitting a String"
      ]
    },
    {
      "cell_type": "markdown",
      "metadata": {
        "id": "o28Cz1Xsl4VE"
      },
      "source": [
        "<strong>Goal</strong>: Create the following table.\n",
        "<p align='center'><img src=\"https://drive.google.com/uc?export=view&id=15buSnJMlQD6QMqH8DmCfBO3ilaxrtg9D\" width='25%' height='25%'></p>\n",
        "\n",
        "\n",
        "\n"
      ]
    },
    {
      "cell_type": "markdown",
      "metadata": {
        "id": "c8TycVi03DuC"
      },
      "source": [
        "The necessary steps to accompish the goal:\n",
        "\n",
        "\n",
        "1.   Split the OwnershipType apart on the dash; retain the contents to the left of the dash\n",
        "2.   Create a field called ForProfit; accomplish this by recoding the ProfitType; For Profit -> \"Yes\", Non profit -> \"No\", and Government -> \"No\"\n",
        "3.   Obtain SUM(Fines) for each ForProfit type\n",
        "4.   Format as necessary\n",
        "\n"
      ]
    },
    {
      "cell_type": "markdown",
      "metadata": {
        "id": "5LRUIly44NuW"
      },
      "source": [
        "### Step #1: Split OwnershipType apart on dash"
      ]
    },
    {
      "cell_type": "code",
      "metadata": {
        "colab": {
          "base_uri": "https://localhost:8080/",
          "height": 198
        },
        "id": "UuAas69x18Ho",
        "outputId": "c9c93f3d-bcf5-450c-ac21-21be4a41d2b6"
      },
      "source": [
        "#Making a connection\n",
        "connect_db = sqlite3.connect(\"/content/sample_data/NursingHomes.db\")\n",
        "\n",
        "#SQL Statement\n",
        "df = pd.read_sql_query(\"\"\"\n",
        "                       SELECT OwnershipType, TRIM( SUBSTR(OwnershipType, 1, INSTR(OwnershipType,\"-\")-2) ) AS ProfitType, TotalAmountFines\n",
        "                       FROM Providers\n",
        "                       \"\"\"\n",
        "                          , connect_db)\n",
        "                       \n",
        "#Closing the connection\n",
        "connect_db.close()\n",
        "\n",
        "#Using pandas to show output\n",
        "df.head()"
      ],
      "execution_count": null,
      "outputs": [
        {
          "output_type": "execute_result",
          "data": {
            "text/html": [
              "<div>\n",
              "<style scoped>\n",
              "    .dataframe tbody tr th:only-of-type {\n",
              "        vertical-align: middle;\n",
              "    }\n",
              "\n",
              "    .dataframe tbody tr th {\n",
              "        vertical-align: top;\n",
              "    }\n",
              "\n",
              "    .dataframe thead th {\n",
              "        text-align: right;\n",
              "    }\n",
              "</style>\n",
              "<table border=\"1\" class=\"dataframe\">\n",
              "  <thead>\n",
              "    <tr style=\"text-align: right;\">\n",
              "      <th></th>\n",
              "      <th>OwnershipType</th>\n",
              "      <th>ProfitType</th>\n",
              "      <th>TotalAmountFines</th>\n",
              "    </tr>\n",
              "  </thead>\n",
              "  <tbody>\n",
              "    <tr>\n",
              "      <th>0</th>\n",
              "      <td>For profit - Corporation</td>\n",
              "      <td>For profit</td>\n",
              "      <td>0.0</td>\n",
              "    </tr>\n",
              "    <tr>\n",
              "      <th>1</th>\n",
              "      <td>For profit - Corporation</td>\n",
              "      <td>For profit</td>\n",
              "      <td>650.0</td>\n",
              "    </tr>\n",
              "    <tr>\n",
              "      <th>2</th>\n",
              "      <td>Government - County</td>\n",
              "      <td>Government</td>\n",
              "      <td>0.0</td>\n",
              "    </tr>\n",
              "    <tr>\n",
              "      <th>3</th>\n",
              "      <td>For profit - Individual</td>\n",
              "      <td>For profit</td>\n",
              "      <td>0.0</td>\n",
              "    </tr>\n",
              "    <tr>\n",
              "      <th>4</th>\n",
              "      <td>For profit - Individual</td>\n",
              "      <td>For profit</td>\n",
              "      <td>29611.0</td>\n",
              "    </tr>\n",
              "  </tbody>\n",
              "</table>\n",
              "</div>"
            ],
            "text/plain": [
              "              OwnershipType  ProfitType  TotalAmountFines\n",
              "0  For profit - Corporation  For profit               0.0\n",
              "1  For profit - Corporation  For profit             650.0\n",
              "2       Government - County  Government               0.0\n",
              "3   For profit - Individual  For profit               0.0\n",
              "4   For profit - Individual  For profit           29611.0"
            ]
          },
          "metadata": {
            "tags": []
          },
          "execution_count": 66
        }
      ]
    },
    {
      "cell_type": "markdown",
      "metadata": {
        "id": "Lt0IR8HC4fMI"
      },
      "source": [
        "### Step #2: Create new ForProfit field"
      ]
    },
    {
      "cell_type": "code",
      "metadata": {
        "colab": {
          "base_uri": "https://localhost:8080/",
          "height": 198
        },
        "id": "qKVpbsUS4K5Z",
        "outputId": "cb57a07f-5fa8-4609-e307-38d377202a72"
      },
      "source": [
        "#Making a connection\n",
        "connect_db = sqlite3.connect(\"/content/sample_data/NursingHomes.db\")\n",
        "\n",
        "#SQL Statement\n",
        "df = pd.read_sql_query(\"\"\"\n",
        "                           SELECT ProfitType, \n",
        "                                   CASE\n",
        "                                      WHEN ProfitType == 'For profit' THEN 'Yes'\n",
        "                                      ELSE 'No'\n",
        "                                   END AS ForProfit \n",
        "                                  \n",
        "                            FROM\n",
        "                                (\n",
        "                                  SELECT OwnershipType, TRIM( SUBSTR(OwnershipType, 1, INSTR(OwnershipType,\"-\")-2) ) AS ProfitType, TotalAmountFines\n",
        "                                  FROM Providers\n",
        "                                )\n",
        "                           \n",
        "                       \"\"\"\n",
        "                          , connect_db)\n",
        "                       \n",
        "#Closing the connection\n",
        "connect_db.close()\n",
        "\n",
        "#Using pandas to show output\n",
        "df.head()"
      ],
      "execution_count": null,
      "outputs": [
        {
          "output_type": "execute_result",
          "data": {
            "text/html": [
              "<div>\n",
              "<style scoped>\n",
              "    .dataframe tbody tr th:only-of-type {\n",
              "        vertical-align: middle;\n",
              "    }\n",
              "\n",
              "    .dataframe tbody tr th {\n",
              "        vertical-align: top;\n",
              "    }\n",
              "\n",
              "    .dataframe thead th {\n",
              "        text-align: right;\n",
              "    }\n",
              "</style>\n",
              "<table border=\"1\" class=\"dataframe\">\n",
              "  <thead>\n",
              "    <tr style=\"text-align: right;\">\n",
              "      <th></th>\n",
              "      <th>ProfitType</th>\n",
              "      <th>ForProfit</th>\n",
              "    </tr>\n",
              "  </thead>\n",
              "  <tbody>\n",
              "    <tr>\n",
              "      <th>0</th>\n",
              "      <td>For profit</td>\n",
              "      <td>Yes</td>\n",
              "    </tr>\n",
              "    <tr>\n",
              "      <th>1</th>\n",
              "      <td>For profit</td>\n",
              "      <td>Yes</td>\n",
              "    </tr>\n",
              "    <tr>\n",
              "      <th>2</th>\n",
              "      <td>Government</td>\n",
              "      <td>No</td>\n",
              "    </tr>\n",
              "    <tr>\n",
              "      <th>3</th>\n",
              "      <td>For profit</td>\n",
              "      <td>Yes</td>\n",
              "    </tr>\n",
              "    <tr>\n",
              "      <th>4</th>\n",
              "      <td>For profit</td>\n",
              "      <td>Yes</td>\n",
              "    </tr>\n",
              "  </tbody>\n",
              "</table>\n",
              "</div>"
            ],
            "text/plain": [
              "   ProfitType ForProfit\n",
              "0  For profit       Yes\n",
              "1  For profit       Yes\n",
              "2  Government        No\n",
              "3  For profit       Yes\n",
              "4  For profit       Yes"
            ]
          },
          "metadata": {
            "tags": []
          },
          "execution_count": 69
        }
      ]
    },
    {
      "cell_type": "markdown",
      "metadata": {
        "id": "VH8CEP0O4jWr"
      },
      "source": [
        "### Step #3 Obtain SUM(Fines) for each ForProfit level"
      ]
    },
    {
      "cell_type": "code",
      "metadata": {
        "colab": {
          "base_uri": "https://localhost:8080/",
          "height": 108
        },
        "id": "xoQJmrCL4jiZ",
        "outputId": "3831c268-3c1f-41b0-9b30-758a791c1d51"
      },
      "source": [
        "#Making a connection\n",
        "connect_db = sqlite3.connect(\"/content/sample_data/NursingHomes.db\")\n",
        "\n",
        "#SQL Statement\n",
        "df = pd.read_sql_query(\"\"\"\n",
        "                            SELECT ProfitType, \n",
        "                                   CASE\n",
        "                                      WHEN ProfitType == 'For profit' THEN 'Yes'\n",
        "                                      ELSE 'No'\n",
        "                                   END AS ForProfit, \n",
        "                                   SUM(TotalAmountFines) as TotalFines\n",
        "                            FROM\n",
        "                                (\n",
        "                                  SELECT OwnershipType, TRIM( SUBSTR(OwnershipType, 1, INSTR(OwnershipType,\"-\")-2) ) AS ProfitType, TotalAmountFines\n",
        "                                  FROM Providers\n",
        "                                )\n",
        "                            GROUP BY ForProfit\n",
        "                       \"\"\"\n",
        "                          , connect_db)\n",
        "                       \n",
        "#Closing the connection\n",
        "connect_db.close()\n",
        "\n",
        "#Using pandas to show output\n",
        "df.head()"
      ],
      "execution_count": null,
      "outputs": [
        {
          "output_type": "execute_result",
          "data": {
            "text/html": [
              "<div>\n",
              "<style scoped>\n",
              "    .dataframe tbody tr th:only-of-type {\n",
              "        vertical-align: middle;\n",
              "    }\n",
              "\n",
              "    .dataframe tbody tr th {\n",
              "        vertical-align: top;\n",
              "    }\n",
              "\n",
              "    .dataframe thead th {\n",
              "        text-align: right;\n",
              "    }\n",
              "</style>\n",
              "<table border=\"1\" class=\"dataframe\">\n",
              "  <thead>\n",
              "    <tr style=\"text-align: right;\">\n",
              "      <th></th>\n",
              "      <th>ProfitType</th>\n",
              "      <th>ForProfit</th>\n",
              "      <th>TotalFines</th>\n",
              "    </tr>\n",
              "  </thead>\n",
              "  <tbody>\n",
              "    <tr>\n",
              "      <th>0</th>\n",
              "      <td>Non profit</td>\n",
              "      <td>No</td>\n",
              "      <td>39193285.0</td>\n",
              "    </tr>\n",
              "    <tr>\n",
              "      <th>1</th>\n",
              "      <td>For profit</td>\n",
              "      <td>Yes</td>\n",
              "      <td>146612871.0</td>\n",
              "    </tr>\n",
              "  </tbody>\n",
              "</table>\n",
              "</div>"
            ],
            "text/plain": [
              "   ProfitType ForProfit   TotalFines\n",
              "0  Non profit        No   39193285.0\n",
              "1  For profit       Yes  146612871.0"
            ]
          },
          "metadata": {
            "tags": []
          },
          "execution_count": 71
        }
      ]
    },
    {
      "cell_type": "markdown",
      "metadata": {
        "id": "hj4gAA5Z5KAo"
      },
      "source": [
        "### Format Output for Dollars"
      ]
    },
    {
      "cell_type": "code",
      "metadata": {
        "colab": {
          "base_uri": "https://localhost:8080/",
          "height": 108
        },
        "id": "c-snrRz-5KJ7",
        "outputId": "c6f932ba-3d2b-4acb-c874-01dca2e0982a"
      },
      "source": [
        "#Making a connection\n",
        "connect_db = sqlite3.connect(\"/content/sample_data/NursingHomes.db\")\n",
        "\n",
        "#SQL Statement\n",
        "df = pd.read_sql_query(\"\"\"\n",
        "                          SELECT ForProfit AS 'For Profit Org?', '$' || CAST( CAST(TotalFines AS INT) AS VARCHAR)  AS 'Total Fines' \n",
        "                          FROM\n",
        "                          (\n",
        "                            SELECT ProfitType, \n",
        "                                   CASE\n",
        "                                      WHEN ProfitType == 'For profit' THEN 'Yes'\n",
        "                                      ELSE 'No'\n",
        "                                   END AS ForProfit, \n",
        "                                   SUM(TotalAmountFines) as TotalFines\n",
        "                            FROM\n",
        "                                (\n",
        "                                  SELECT OwnershipType, TRIM( SUBSTR(OwnershipType, 1, INSTR(OwnershipType,\"-\")-2) ) AS ProfitType, TotalAmountFines\n",
        "                                  FROM Providers\n",
        "                                )\n",
        "                            GROUP BY ForProfit\n",
        "                           )\n",
        "\n",
        "                       \"\"\"\n",
        "                          , connect_db)\n",
        "                       \n",
        "#Closing the connection\n",
        "connect_db.close()\n",
        "\n",
        "#Using pandas to show output\n",
        "df.head()"
      ],
      "execution_count": null,
      "outputs": [
        {
          "output_type": "execute_result",
          "data": {
            "text/html": [
              "<div>\n",
              "<style scoped>\n",
              "    .dataframe tbody tr th:only-of-type {\n",
              "        vertical-align: middle;\n",
              "    }\n",
              "\n",
              "    .dataframe tbody tr th {\n",
              "        vertical-align: top;\n",
              "    }\n",
              "\n",
              "    .dataframe thead th {\n",
              "        text-align: right;\n",
              "    }\n",
              "</style>\n",
              "<table border=\"1\" class=\"dataframe\">\n",
              "  <thead>\n",
              "    <tr style=\"text-align: right;\">\n",
              "      <th></th>\n",
              "      <th>For Profit Org?</th>\n",
              "      <th>Total Fines</th>\n",
              "    </tr>\n",
              "  </thead>\n",
              "  <tbody>\n",
              "    <tr>\n",
              "      <th>0</th>\n",
              "      <td>No</td>\n",
              "      <td>$39193285</td>\n",
              "    </tr>\n",
              "    <tr>\n",
              "      <th>1</th>\n",
              "      <td>Yes</td>\n",
              "      <td>$146612871</td>\n",
              "    </tr>\n",
              "  </tbody>\n",
              "</table>\n",
              "</div>"
            ],
            "text/plain": [
              "  For Profit Org? Total Fines\n",
              "0              No   $39193285\n",
              "1             Yes  $146612871"
            ]
          },
          "metadata": {
            "tags": []
          },
          "execution_count": 78
        }
      ]
    },
    {
      "cell_type": "markdown",
      "metadata": {
        "id": "akEmHuM06AI7"
      },
      "source": [
        "<strong>Questions</strong>:\n",
        "\n",
        "\n",
        "1.   What is the purpose of the TRIM() function on Line 17 in the code chunk above?\n",
        "\n",
        "2.   Rewrite the CASE statement without the use of ELSE.  That is, specify an outcome for each ProfitType level separately.\n",
        "\n",
        "3.   Remove the inner CAST() on Line 6.  What is the effect of removing this on the desired output?\n",
        "\n",
        "4.   Remove the outer CAST() on Line 6.  What is the effect of removing this on the desired output?   The concatenate operator, i.e. '||', only works on strings.  What is SQL doing when the outer CAST() is removed?  Discuss briefly.\n",
        "\n"
      ]
    },
    {
      "cell_type": "markdown",
      "metadata": {
        "id": "GIsYaWOhtrMB"
      },
      "source": [
        "<table width='100%' ><tr><td bgcolor='orange'></td></tr></table>\n",
        "\n",
        "## Aside -- Using a system level print() function to obtain desired formatting"
      ]
    },
    {
      "cell_type": "markdown",
      "metadata": {
        "id": "d_l1j04576Qu"
      },
      "source": [
        "The <strong>printf()</strong> function is a system level print function that allows formatting to be done.  The formatting structure is passed through as a string in the first argument of this function.\n",
        "\n",
        "\n",
        "1.   Desired format structure is passed as the first argument in printf() function.\n",
        "2.   The % is used to define the start of the desired format\n",
        "3.   The , says use a comma to seperate the value\n",
        "4.   The i says use an interger format for the value\n",
        "\n"
      ]
    },
    {
      "cell_type": "code",
      "metadata": {
        "colab": {
          "base_uri": "https://localhost:8080/",
          "height": 108
        },
        "id": "dG17y53LtrUM",
        "outputId": "430a03ad-6fa0-44c2-f98b-0a3e79ee24ad"
      },
      "source": [
        "#Making a connection\n",
        "connect_db = sqlite3.connect(\"/content/sample_data/NursingHomes.db\")\n",
        "\n",
        "#SQL Statement\n",
        "df = pd.read_sql_query(\"\"\"\n",
        "                          SELECT ForProfit AS 'For Profit', printf('$%,i', TotalFines) AS 'Total Fines' \n",
        "                          FROM\n",
        "                          (\n",
        "                            SELECT ProfitType, \n",
        "                                 CASE\n",
        "                                    WHEN ProfitType == 'For profit' THEN 'Yes'\n",
        "                                    ELSE 'No'\n",
        "                                  END AS ForProfit, \n",
        "                                 SUM(TotalAmountFines) as TotalFines\n",
        "                            FROM\n",
        "                                (\n",
        "                                  SELECT OwnershipType, TRIM( SUBSTR(OwnershipType, 1, INSTR(OwnershipType,\"-\")-2) ) AS ProfitType, TotalAmountFines\n",
        "                                  FROM Providers\n",
        "                               )\n",
        "                            GROUP BY ForProfit\n",
        "                           )\n",
        "\n",
        "                       \"\"\"\n",
        "                          , connect_db)\n",
        "                       \n",
        "#Closing the connection\n",
        "connect_db.close()\n",
        "\n",
        "#Using pandas to show output\n",
        "df.head()"
      ],
      "execution_count": null,
      "outputs": [
        {
          "output_type": "execute_result",
          "data": {
            "text/html": [
              "<div>\n",
              "<style scoped>\n",
              "    .dataframe tbody tr th:only-of-type {\n",
              "        vertical-align: middle;\n",
              "    }\n",
              "\n",
              "    .dataframe tbody tr th {\n",
              "        vertical-align: top;\n",
              "    }\n",
              "\n",
              "    .dataframe thead th {\n",
              "        text-align: right;\n",
              "    }\n",
              "</style>\n",
              "<table border=\"1\" class=\"dataframe\">\n",
              "  <thead>\n",
              "    <tr style=\"text-align: right;\">\n",
              "      <th></th>\n",
              "      <th>For Profit</th>\n",
              "      <th>Total Fines</th>\n",
              "    </tr>\n",
              "  </thead>\n",
              "  <tbody>\n",
              "    <tr>\n",
              "      <th>0</th>\n",
              "      <td>No</td>\n",
              "      <td>$39,193,285</td>\n",
              "    </tr>\n",
              "    <tr>\n",
              "      <th>1</th>\n",
              "      <td>Yes</td>\n",
              "      <td>$146,612,871</td>\n",
              "    </tr>\n",
              "  </tbody>\n",
              "</table>\n",
              "</div>"
            ],
            "text/plain": [
              "  For Profit   Total Fines\n",
              "0         No   $39,193,285\n",
              "1        Yes  $146,612,871"
            ]
          },
          "metadata": {
            "tags": []
          },
          "execution_count": 64
        }
      ]
    },
    {
      "cell_type": "markdown",
      "metadata": {
        "id": "j0COuld370_5"
      },
      "source": [
        "<table width='100%' ><tr><td bgcolor='orange'></td></tr></table>\n",
        "\n",
        "\n",
        "\n",
        "---\n",
        "\n",
        "---\n",
        "\n",
        "\n",
        "\n",
        "\n",
        "\n",
        "\n",
        "\n"
      ]
    },
    {
      "cell_type": "markdown",
      "metadata": {
        "id": "5oVWctyc86Hv"
      },
      "source": [
        "<strong>Task</strong>\n",
        "\n",
        "Obtain the following table of counts for the number nursing homes in MN that are corporations and not corporations. \n",
        "\n",
        "<p align='center'><img src=\"https://drive.google.com/uc?export=view&id=1Wl_JNHduz3Vo0rEeI5e0k4y8VLzVhNRx\" width='25%' height='25%'></p>\n",
        "\n",
        "Recall, the CorporationType is obtained from the right-hand side of the OwnershipType after splitting. In addition, use the following table for the definition of Corporation.\n",
        "\n",
        "<table>\n",
        "<tr>\n",
        "<td align=\"center\">CorporationType</td>\n",
        "<td align=\"center\">Corporation</td>\n",
        "</tr>\n",
        "<tr>\n",
        " <td align=\"center\"><font size=\"+1\">Corporation</font></td>\n",
        " <td align=\"center\"><font size=\"+1\">Yes</font></td>\n",
        "</tr>\n",
        "<tr>\n",
        " <td align=\"center\"><font size=\"+1\">Limited Liability company</font></td>\n",
        "  <td align=\"center\"><font size=\"+1\">Yes</font></td>\n",
        "</tr>\n",
        "\n",
        "<tr>\n",
        " <td align=\"center\"><font size=\"+1\">County</font></td>\n",
        " <td align=\"center\" rowspan=\"10\"><font size=\"+1\">No</font></td>\n",
        "</tr>\n",
        "<tr>\n",
        " <td align=\"center\"><font size=\"+1\">Individual</font></td>\n",
        " \n",
        "</tr>\n",
        "\n",
        "<tr>\n",
        " <td align=\"center\"><font size=\"+1\">Other</font></td>\n",
        "\n",
        "</tr>\n",
        "<tr>\n",
        " <td align=\"center\"><font size=\"+1\">Partnership</font></td>\n",
        "\n",
        "</tr>\n",
        "<tr>\n",
        " <td align=\"center\"><font size=\"+1\">City</font></td>\n",
        "\n",
        "</tr>\n",
        "<tr>\n",
        " <td align=\"center\"><font size=\"+1\">Church related</font></td>\n",
        " \n",
        "</tr>\n",
        "<tr>\n",
        " <td align=\"center\"><font size=\"+1\">City/county</font></td>\n",
        "\n",
        "</tr>\n",
        "<tr>\n",
        " <td align=\"center\"><font size=\"+1\">Federal</font></td>\n",
        " \n",
        "</tr>\n",
        "<tr>\n",
        " <td align=\"center\"><font size=\"+1\">State</font></td>\n",
        " \n",
        "</tr>\n",
        "<tr>\n",
        " <td align=\"center\"><font size=\"+1\">Hospital district</font></td>\n",
        " \n",
        "</tr>\n",
        "</table>"
      ]
    },
    {
      "cell_type": "code",
      "metadata": {
        "id": "X6W4KS29_ltx"
      },
      "source": [
        ""
      ],
      "execution_count": null,
      "outputs": []
    }
  ]
}