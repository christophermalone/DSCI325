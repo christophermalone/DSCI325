{
  "nbformat": 4,
  "nbformat_minor": 0,
  "metadata": {
    "colab": {
      "name": "Module3_Part3_SQL.ipynb",
      "provenance": [],
      "toc_visible": true,
      "authorship_tag": "ABX9TyMHLUwXYwZ2pSVGwuzzQ3Vz",
      "include_colab_link": true
    },
    "kernelspec": {
      "name": "python3",
      "display_name": "Python 3"
    }
  },
  "cells": [
    {
      "cell_type": "markdown",
      "metadata": {
        "id": "view-in-github",
        "colab_type": "text"
      },
      "source": [
        "<a href=\"https://colab.research.google.com/github/christophermalone/DSCI325/blob/main/Module3_Part3_SQL.ipynb\" target=\"_parent\"><img src=\"https://colab.research.google.com/assets/colab-badge.svg\" alt=\"Open In Colab\"/></a>"
      ]
    },
    {
      "cell_type": "markdown",
      "metadata": {
        "id": "vsKS8UWN9bil"
      },
      "source": [
        "# Module 3 | Part 3 | SQL : MUTATE() Actions in SQL"
      ]
    },
    {
      "cell_type": "markdown",
      "metadata": {
        "id": "Q15v4Jwh9sEj"
      },
      "source": [
        "<table width='100%' ><tr><td bgcolor='green'></td></tr></table>\r\n",
        "\r\n",
        "### Example 3.3.1 SQL\r\n",
        "For this notebook, consider the Nursing Home Provider dataset.  The datasets is published by the Centers for Medicare and Medicade Services.\r\n",
        "\r\n",
        "<table>\r\n",
        "<tr>\r\n",
        "<td colspan=\"2\" align='center'>Fields in Dataset</td>\r\n",
        "</tr>\r\n",
        "<tr>\r\n",
        "<td valign='top' align='left'>\r\n",
        "1: FPN (Federal Provider Number)<br>\r\n",
        "2: ProviderName<br>\r\n",
        "3: ProviderAddress<br>\r\n",
        "4: ProviderCounty<br>\r\n",
        "5: OwnershipType<br><br>\r\n",
        "6: NumberBeds<br>\r\n",
        "7: AverageResidentsperDay<br><br>\r\n",
        "8: ProviderInHospital<br>\r\n",
        "9: BusinessName<br>\r\n",
        "10: ContinuingCareRetirementCommunity<br><br>\r\n",
        "11: HealthInspection_MoreThan2YearsAgo<br>\r\n",
        "12: Overall_Rating<br>\r\n",
        "13: HealthInspection_Rating<br>\r\n",
        "14: QM_Rating<br>\r\n",
        "15: LongStayQM_Rating<br>\r\n",
        "16: ShortStayQM_Rating<br>\r\n",
        "17: Staffing_Rating<br>\r\n",
        "18: RNStaffing_Rating<br>\r\n",
        "</td>\r\n",
        "<td valign='top' align='left'>\r\n",
        "19: NurseAideStaffing_Hours<br>\r\n",
        "20: LPNStaffing_Hours<br>\r\n",
        "21: RNStaffing_Hours<br>\r\n",
        "22: LicensedStaffing_Hours<br>\r\n",
        "23: TotalNurseStaffing_Hours<br>\r\n",
        "24: PhysicalTherapistStaffing_Hours<br><br>\r\n",
        "25: RatingCycle1_Date<br>\r\n",
        "26: RatingCycle1_HealthDeficiencyScore<br>\r\n",
        "27: RatingCycle2_Date<br>\r\n",
        "28: RatingCycle2_HealthDeficiencyScore<br>\r\n",
        "29: RatingCycle3_Date<br>\r\n",
        "30: RatingCycle3_HealthDeficiencyScore<br><br>\r\n",
        "31: NumberofFines<br>\r\n",
        "32: TotalAmountFines<br>\r\n",
        "</td>\r\n",
        "</tr>\r\n",
        "</table>\r\n",
        "\r\n",
        " \r\n",
        "<br>Original Data Source: https://data.cms.gov/provider-data/search?theme=Nursing%20homes%20including%20rehab%20services\r\n",
        "\r\n",
        "<table width='100%' ><tr><td bgcolor='green'></td></tr></table>"
      ]
    },
    {
      "cell_type": "markdown",
      "metadata": {
        "id": "6qZ9RfX1VdCG"
      },
      "source": [
        "## Making a Connection"
      ]
    },
    {
      "cell_type": "markdown",
      "metadata": {
        "id": "9QeIjJKEVeAS"
      },
      "source": [
        "Here, an SQLite3 package will be used to connect to the desired database."
      ]
    },
    {
      "cell_type": "code",
      "metadata": {
        "id": "q_1d5VWYVdJi"
      },
      "source": [
        "import pandas as pd\r\n",
        "import sqlite3"
      ],
      "execution_count": 2,
      "outputs": []
    },
    {
      "cell_type": "markdown",
      "metadata": {
        "id": "NLRyiOcexe3P"
      },
      "source": [
        "# Getting Table Names and Structure"
      ]
    },
    {
      "cell_type": "markdown",
      "metadata": {
        "id": "Zs4lzulXVpCL"
      },
      "source": [
        "Doing an initial query to identify the table within this database."
      ]
    },
    {
      "cell_type": "code",
      "metadata": {
        "id": "jxWGFn5LVpIu",
        "colab": {
          "base_uri": "https://localhost:8080/",
          "height": 78
        },
        "outputId": "2d2fffe5-7d5e-484d-ecdd-6a7e2e58182d"
      },
      "source": [
        "#Making a connection\r\n",
        "connect_db = sqlite3.connect(\"/content/sample_data/NursingHomes.db\")\r\n",
        "\r\n",
        "#SQL Statement\r\n",
        "df = pd.read_sql_query(\r\n",
        "                        \"SELECT name FROM sqlite_master WHERE type='table'\"\r\n",
        "                          , connect_db)\r\n",
        "#Closing the connection\r\n",
        "connect_db.close()\r\n",
        "\r\n",
        "#Using pandas to show output\r\n",
        "df.head()"
      ],
      "execution_count": 5,
      "outputs": [
        {
          "output_type": "execute_result",
          "data": {
            "text/html": [
              "<div>\n",
              "<style scoped>\n",
              "    .dataframe tbody tr th:only-of-type {\n",
              "        vertical-align: middle;\n",
              "    }\n",
              "\n",
              "    .dataframe tbody tr th {\n",
              "        vertical-align: top;\n",
              "    }\n",
              "\n",
              "    .dataframe thead th {\n",
              "        text-align: right;\n",
              "    }\n",
              "</style>\n",
              "<table border=\"1\" class=\"dataframe\">\n",
              "  <thead>\n",
              "    <tr style=\"text-align: right;\">\n",
              "      <th></th>\n",
              "      <th>name</th>\n",
              "    </tr>\n",
              "  </thead>\n",
              "  <tbody>\n",
              "    <tr>\n",
              "      <th>0</th>\n",
              "      <td>Providers</td>\n",
              "    </tr>\n",
              "  </tbody>\n",
              "</table>\n",
              "</div>"
            ],
            "text/plain": [
              "        name\n",
              "0  Providers"
            ]
          },
          "metadata": {
            "tags": []
          },
          "execution_count": 5
        }
      ]
    },
    {
      "cell_type": "markdown",
      "metadata": {
        "id": "E0ysvGoaxPuK"
      },
      "source": [
        "Next, getting the structure of the the <strong>Providers</strong> table."
      ]
    },
    {
      "cell_type": "code",
      "metadata": {
        "colab": {
          "base_uri": "https://localhost:8080/",
          "height": 1000
        },
        "id": "BX-wsH1dxP1A",
        "outputId": "81bb7b32-5994-4a41-bddb-2b6d29f51a61"
      },
      "source": [
        "#Makign a connection\r\n",
        "connect_db = sqlite3.connect(\"/content/sample_data/NursingHomes.db\")\r\n",
        "\r\n",
        "#SQL Statement\r\n",
        "df = pd.read_sql_query(\r\n",
        "                        \"PRAGMA table_info(Providers)\"\r\n",
        "                          , connect_db)\r\n",
        "#Closing the connection\r\n",
        "connect_db.close()\r\n",
        "\r\n",
        "#Using pandas to show output\r\n",
        "df.head(50)"
      ],
      "execution_count": 9,
      "outputs": [
        {
          "output_type": "execute_result",
          "data": {
            "text/html": [
              "<div>\n",
              "<style scoped>\n",
              "    .dataframe tbody tr th:only-of-type {\n",
              "        vertical-align: middle;\n",
              "    }\n",
              "\n",
              "    .dataframe tbody tr th {\n",
              "        vertical-align: top;\n",
              "    }\n",
              "\n",
              "    .dataframe thead th {\n",
              "        text-align: right;\n",
              "    }\n",
              "</style>\n",
              "<table border=\"1\" class=\"dataframe\">\n",
              "  <thead>\n",
              "    <tr style=\"text-align: right;\">\n",
              "      <th></th>\n",
              "      <th>cid</th>\n",
              "      <th>name</th>\n",
              "      <th>type</th>\n",
              "      <th>notnull</th>\n",
              "      <th>dflt_value</th>\n",
              "      <th>pk</th>\n",
              "    </tr>\n",
              "  </thead>\n",
              "  <tbody>\n",
              "    <tr>\n",
              "      <th>0</th>\n",
              "      <td>0</td>\n",
              "      <td>FPN</td>\n",
              "      <td>VARCHAR (20)</td>\n",
              "      <td>0</td>\n",
              "      <td>None</td>\n",
              "      <td>1</td>\n",
              "    </tr>\n",
              "    <tr>\n",
              "      <th>1</th>\n",
              "      <td>1</td>\n",
              "      <td>ProviderName</td>\n",
              "      <td>VARCHAR (200)</td>\n",
              "      <td>0</td>\n",
              "      <td>None</td>\n",
              "      <td>0</td>\n",
              "    </tr>\n",
              "    <tr>\n",
              "      <th>2</th>\n",
              "      <td>2</td>\n",
              "      <td>ProviderAddress</td>\n",
              "      <td>VARCHAR (200)</td>\n",
              "      <td>0</td>\n",
              "      <td>None</td>\n",
              "      <td>0</td>\n",
              "    </tr>\n",
              "    <tr>\n",
              "      <th>3</th>\n",
              "      <td>3</td>\n",
              "      <td>ProviderCounty</td>\n",
              "      <td>VARCHAR (200)</td>\n",
              "      <td>0</td>\n",
              "      <td>None</td>\n",
              "      <td>0</td>\n",
              "    </tr>\n",
              "    <tr>\n",
              "      <th>4</th>\n",
              "      <td>4</td>\n",
              "      <td>OwnershipType</td>\n",
              "      <td>VARCHAR (200)</td>\n",
              "      <td>0</td>\n",
              "      <td>None</td>\n",
              "      <td>0</td>\n",
              "    </tr>\n",
              "    <tr>\n",
              "      <th>5</th>\n",
              "      <td>5</td>\n",
              "      <td>NumberBeds</td>\n",
              "      <td>INTEGER (10)</td>\n",
              "      <td>0</td>\n",
              "      <td>None</td>\n",
              "      <td>0</td>\n",
              "    </tr>\n",
              "    <tr>\n",
              "      <th>6</th>\n",
              "      <td>6</td>\n",
              "      <td>AverageResidentsperDay</td>\n",
              "      <td>DOUBLE (20)</td>\n",
              "      <td>0</td>\n",
              "      <td>None</td>\n",
              "      <td>0</td>\n",
              "    </tr>\n",
              "    <tr>\n",
              "      <th>7</th>\n",
              "      <td>7</td>\n",
              "      <td>ProviderInHospital</td>\n",
              "      <td>VARCHAR (200)</td>\n",
              "      <td>0</td>\n",
              "      <td>None</td>\n",
              "      <td>0</td>\n",
              "    </tr>\n",
              "    <tr>\n",
              "      <th>8</th>\n",
              "      <td>8</td>\n",
              "      <td>BusinessName</td>\n",
              "      <td>VARCHAR (200)</td>\n",
              "      <td>0</td>\n",
              "      <td>None</td>\n",
              "      <td>0</td>\n",
              "    </tr>\n",
              "    <tr>\n",
              "      <th>9</th>\n",
              "      <td>9</td>\n",
              "      <td>ContinuingCareRetirementCommunity</td>\n",
              "      <td>VARCHAR (200)</td>\n",
              "      <td>0</td>\n",
              "      <td>None</td>\n",
              "      <td>0</td>\n",
              "    </tr>\n",
              "    <tr>\n",
              "      <th>10</th>\n",
              "      <td>10</td>\n",
              "      <td>HealthInspection_MoreThan2YearsAgo</td>\n",
              "      <td>VARCHAR (20)</td>\n",
              "      <td>0</td>\n",
              "      <td>None</td>\n",
              "      <td>0</td>\n",
              "    </tr>\n",
              "    <tr>\n",
              "      <th>11</th>\n",
              "      <td>11</td>\n",
              "      <td>Overall_Rating</td>\n",
              "      <td>INTEGER (20)</td>\n",
              "      <td>0</td>\n",
              "      <td>None</td>\n",
              "      <td>0</td>\n",
              "    </tr>\n",
              "    <tr>\n",
              "      <th>12</th>\n",
              "      <td>12</td>\n",
              "      <td>HealthInspection_Rating</td>\n",
              "      <td>INTEGER (20)</td>\n",
              "      <td>0</td>\n",
              "      <td>None</td>\n",
              "      <td>0</td>\n",
              "    </tr>\n",
              "    <tr>\n",
              "      <th>13</th>\n",
              "      <td>13</td>\n",
              "      <td>QM_Rating</td>\n",
              "      <td>INTEGER (20)</td>\n",
              "      <td>0</td>\n",
              "      <td>None</td>\n",
              "      <td>0</td>\n",
              "    </tr>\n",
              "    <tr>\n",
              "      <th>14</th>\n",
              "      <td>14</td>\n",
              "      <td>LongStayQM_Rating</td>\n",
              "      <td>INTEGER (20)</td>\n",
              "      <td>0</td>\n",
              "      <td>None</td>\n",
              "      <td>0</td>\n",
              "    </tr>\n",
              "    <tr>\n",
              "      <th>15</th>\n",
              "      <td>15</td>\n",
              "      <td>ShortStayQM_Rating</td>\n",
              "      <td>INTEGER (20)</td>\n",
              "      <td>0</td>\n",
              "      <td>None</td>\n",
              "      <td>0</td>\n",
              "    </tr>\n",
              "    <tr>\n",
              "      <th>16</th>\n",
              "      <td>16</td>\n",
              "      <td>Staffing_Rating</td>\n",
              "      <td>INTEGER (20)</td>\n",
              "      <td>0</td>\n",
              "      <td>None</td>\n",
              "      <td>0</td>\n",
              "    </tr>\n",
              "    <tr>\n",
              "      <th>17</th>\n",
              "      <td>17</td>\n",
              "      <td>RNStaffing_Rating</td>\n",
              "      <td>INTEGER (20)</td>\n",
              "      <td>0</td>\n",
              "      <td>None</td>\n",
              "      <td>0</td>\n",
              "    </tr>\n",
              "    <tr>\n",
              "      <th>18</th>\n",
              "      <td>18</td>\n",
              "      <td>NurseAideStaffing_Hours</td>\n",
              "      <td>DOUBLE (20)</td>\n",
              "      <td>0</td>\n",
              "      <td>None</td>\n",
              "      <td>0</td>\n",
              "    </tr>\n",
              "    <tr>\n",
              "      <th>19</th>\n",
              "      <td>19</td>\n",
              "      <td>LPNStaffing_Hours</td>\n",
              "      <td>DOUBLE (20)</td>\n",
              "      <td>0</td>\n",
              "      <td>None</td>\n",
              "      <td>0</td>\n",
              "    </tr>\n",
              "    <tr>\n",
              "      <th>20</th>\n",
              "      <td>20</td>\n",
              "      <td>RNStaffing_Hours</td>\n",
              "      <td>DOUBLE (20)</td>\n",
              "      <td>0</td>\n",
              "      <td>None</td>\n",
              "      <td>0</td>\n",
              "    </tr>\n",
              "    <tr>\n",
              "      <th>21</th>\n",
              "      <td>21</td>\n",
              "      <td>LicensedStaffing_Hours</td>\n",
              "      <td>DOUBLE (20)</td>\n",
              "      <td>0</td>\n",
              "      <td>None</td>\n",
              "      <td>0</td>\n",
              "    </tr>\n",
              "    <tr>\n",
              "      <th>22</th>\n",
              "      <td>22</td>\n",
              "      <td>TotalNurseStaffing_Hours</td>\n",
              "      <td>DOUBLE (20)</td>\n",
              "      <td>0</td>\n",
              "      <td>None</td>\n",
              "      <td>0</td>\n",
              "    </tr>\n",
              "    <tr>\n",
              "      <th>23</th>\n",
              "      <td>23</td>\n",
              "      <td>PhysicalTherapistStaffing_Hours</td>\n",
              "      <td>DOUBLE (20)</td>\n",
              "      <td>0</td>\n",
              "      <td>None</td>\n",
              "      <td>0</td>\n",
              "    </tr>\n",
              "    <tr>\n",
              "      <th>24</th>\n",
              "      <td>24</td>\n",
              "      <td>RatingCycle1_Date</td>\n",
              "      <td>DATETIME (20)</td>\n",
              "      <td>0</td>\n",
              "      <td>None</td>\n",
              "      <td>0</td>\n",
              "    </tr>\n",
              "    <tr>\n",
              "      <th>25</th>\n",
              "      <td>25</td>\n",
              "      <td>RatingCycle1_HealthDeficiencyScore</td>\n",
              "      <td>INTEGER (20)</td>\n",
              "      <td>0</td>\n",
              "      <td>None</td>\n",
              "      <td>0</td>\n",
              "    </tr>\n",
              "    <tr>\n",
              "      <th>26</th>\n",
              "      <td>26</td>\n",
              "      <td>RatingCycle2_Date</td>\n",
              "      <td>DATETIME (20)</td>\n",
              "      <td>0</td>\n",
              "      <td>None</td>\n",
              "      <td>0</td>\n",
              "    </tr>\n",
              "    <tr>\n",
              "      <th>27</th>\n",
              "      <td>27</td>\n",
              "      <td>RatingCycle2_HealthDeficiencyScore</td>\n",
              "      <td>INTEGER (20)</td>\n",
              "      <td>0</td>\n",
              "      <td>None</td>\n",
              "      <td>0</td>\n",
              "    </tr>\n",
              "    <tr>\n",
              "      <th>28</th>\n",
              "      <td>28</td>\n",
              "      <td>RatingCycle3_Date</td>\n",
              "      <td>DATETIME (20)</td>\n",
              "      <td>0</td>\n",
              "      <td>None</td>\n",
              "      <td>0</td>\n",
              "    </tr>\n",
              "    <tr>\n",
              "      <th>29</th>\n",
              "      <td>29</td>\n",
              "      <td>RatingCycle3_HealthDeficiencyScore</td>\n",
              "      <td>INTEGER (20)</td>\n",
              "      <td>0</td>\n",
              "      <td>None</td>\n",
              "      <td>0</td>\n",
              "    </tr>\n",
              "    <tr>\n",
              "      <th>30</th>\n",
              "      <td>30</td>\n",
              "      <td>NumberofFines</td>\n",
              "      <td>INTEGER (20)</td>\n",
              "      <td>0</td>\n",
              "      <td>None</td>\n",
              "      <td>0</td>\n",
              "    </tr>\n",
              "    <tr>\n",
              "      <th>31</th>\n",
              "      <td>31</td>\n",
              "      <td>TotalAmountFines</td>\n",
              "      <td>DOUBLE (50)</td>\n",
              "      <td>0</td>\n",
              "      <td>None</td>\n",
              "      <td>0</td>\n",
              "    </tr>\n",
              "  </tbody>\n",
              "</table>\n",
              "</div>"
            ],
            "text/plain": [
              "    cid                                name  ... dflt_value  pk\n",
              "0     0                                 FPN  ...       None   1\n",
              "1     1                        ProviderName  ...       None   0\n",
              "2     2                     ProviderAddress  ...       None   0\n",
              "3     3                      ProviderCounty  ...       None   0\n",
              "4     4                       OwnershipType  ...       None   0\n",
              "5     5                          NumberBeds  ...       None   0\n",
              "6     6              AverageResidentsperDay  ...       None   0\n",
              "7     7                  ProviderInHospital  ...       None   0\n",
              "8     8                        BusinessName  ...       None   0\n",
              "9     9   ContinuingCareRetirementCommunity  ...       None   0\n",
              "10   10  HealthInspection_MoreThan2YearsAgo  ...       None   0\n",
              "11   11                      Overall_Rating  ...       None   0\n",
              "12   12             HealthInspection_Rating  ...       None   0\n",
              "13   13                           QM_Rating  ...       None   0\n",
              "14   14                   LongStayQM_Rating  ...       None   0\n",
              "15   15                  ShortStayQM_Rating  ...       None   0\n",
              "16   16                     Staffing_Rating  ...       None   0\n",
              "17   17                   RNStaffing_Rating  ...       None   0\n",
              "18   18             NurseAideStaffing_Hours  ...       None   0\n",
              "19   19                   LPNStaffing_Hours  ...       None   0\n",
              "20   20                    RNStaffing_Hours  ...       None   0\n",
              "21   21              LicensedStaffing_Hours  ...       None   0\n",
              "22   22            TotalNurseStaffing_Hours  ...       None   0\n",
              "23   23     PhysicalTherapistStaffing_Hours  ...       None   0\n",
              "24   24                   RatingCycle1_Date  ...       None   0\n",
              "25   25  RatingCycle1_HealthDeficiencyScore  ...       None   0\n",
              "26   26                   RatingCycle2_Date  ...       None   0\n",
              "27   27  RatingCycle2_HealthDeficiencyScore  ...       None   0\n",
              "28   28                   RatingCycle3_Date  ...       None   0\n",
              "29   29  RatingCycle3_HealthDeficiencyScore  ...       None   0\n",
              "30   30                       NumberofFines  ...       None   0\n",
              "31   31                    TotalAmountFines  ...       None   0\n",
              "\n",
              "[32 rows x 6 columns]"
            ]
          },
          "metadata": {
            "tags": []
          },
          "execution_count": 9
        }
      ]
    },
    {
      "cell_type": "markdown",
      "metadata": {
        "id": "D5p1RJXJamTs"
      },
      "source": [
        "# Create New Field - Numeric"
      ]
    },
    {
      "cell_type": "markdown",
      "metadata": {
        "id": "wOO4oBTnZfN_"
      },
      "source": [
        "To begin, let's compute the Capacity of each nursing home in the database.\r\n",
        "\r\n",
        "$$Capacity = \\frac{Average \\space Residents \\space per \\space Day}{Number \\space of \\space Beds}$$\r\n",
        "\r\n",
        "<strong>Note:</strong> The triple quote, i.e. \"\"\", in Python permits code to be written over multiple lines.  This will be used here to make the code more readable."
      ]
    },
    {
      "cell_type": "code",
      "metadata": {
        "colab": {
          "base_uri": "https://localhost:8080/",
          "height": 198
        },
        "id": "tT2fsiNCyBzo",
        "outputId": "7fd20728-3050-4a53-d4bc-206278348de0"
      },
      "source": [
        "#Makign a connection\r\n",
        "connect_db = sqlite3.connect(\"/content/sample_data/NursingHomes.db\")\r\n",
        "\r\n",
        "#SQL Statement\r\n",
        "df = pd.read_sql_query(\"\"\"\r\n",
        "                          SELECT ProviderName, \r\n",
        "                                 (AverageResidentsperDay/NumberBeds) AS Capacity \r\n",
        "                          FROM Providers\r\n",
        "                       \"\"\"\r\n",
        "                          , connect_db)\r\n",
        "                       \r\n",
        "#Closing the connection\r\n",
        "connect_db.close()\r\n",
        "\r\n",
        "#Using pandas to show output\r\n",
        "df.head()"
      ],
      "execution_count": 22,
      "outputs": [
        {
          "output_type": "execute_result",
          "data": {
            "text/html": [
              "<div>\n",
              "<style scoped>\n",
              "    .dataframe tbody tr th:only-of-type {\n",
              "        vertical-align: middle;\n",
              "    }\n",
              "\n",
              "    .dataframe tbody tr th {\n",
              "        vertical-align: top;\n",
              "    }\n",
              "\n",
              "    .dataframe thead th {\n",
              "        text-align: right;\n",
              "    }\n",
              "</style>\n",
              "<table border=\"1\" class=\"dataframe\">\n",
              "  <thead>\n",
              "    <tr style=\"text-align: right;\">\n",
              "      <th></th>\n",
              "      <th>ProviderName</th>\n",
              "      <th>Capacity</th>\n",
              "    </tr>\n",
              "  </thead>\n",
              "  <tbody>\n",
              "    <tr>\n",
              "      <th>0</th>\n",
              "      <td>BURNS NURSING HOME, INC.</td>\n",
              "      <td>0.908772</td>\n",
              "    </tr>\n",
              "    <tr>\n",
              "      <th>1</th>\n",
              "      <td>COOSA VALLEY HEALTHCARE CENTER</td>\n",
              "      <td>0.848235</td>\n",
              "    </tr>\n",
              "    <tr>\n",
              "      <th>2</th>\n",
              "      <td>HIGHLANDS HEALTH AND REHAB</td>\n",
              "      <td>0.826000</td>\n",
              "    </tr>\n",
              "    <tr>\n",
              "      <th>3</th>\n",
              "      <td>EASTVIEW REHABILITATION &amp; HEALTHCARE CENTER</td>\n",
              "      <td>0.780435</td>\n",
              "    </tr>\n",
              "    <tr>\n",
              "      <th>4</th>\n",
              "      <td>PLANTATION MANOR NURSING HOME</td>\n",
              "      <td>0.813592</td>\n",
              "    </tr>\n",
              "  </tbody>\n",
              "</table>\n",
              "</div>"
            ],
            "text/plain": [
              "                                  ProviderName  Capacity\n",
              "0                     BURNS NURSING HOME, INC.  0.908772\n",
              "1               COOSA VALLEY HEALTHCARE CENTER  0.848235\n",
              "2                   HIGHLANDS HEALTH AND REHAB  0.826000\n",
              "3  EASTVIEW REHABILITATION & HEALTHCARE CENTER  0.780435\n",
              "4                PLANTATION MANOR NURSING HOME  0.813592"
            ]
          },
          "metadata": {
            "tags": []
          },
          "execution_count": 22
        }
      ]
    },
    {
      "cell_type": "markdown",
      "metadata": {
        "id": "FYipf4_s2P1H"
      },
      "source": [
        "Next, consider the use of <strong>ORDER BY</strong> which can be used to sort the outcomes from the SELECT statement.  The <strong>DESC</strong> option for ORDER BY will sort the Capacity values in descending order."
      ]
    },
    {
      "cell_type": "code",
      "metadata": {
        "colab": {
          "base_uri": "https://localhost:8080/",
          "height": 198
        },
        "id": "BuijsBZt2P9t",
        "outputId": "1dd492d7-cc46-453f-96be-91accc9a672a"
      },
      "source": [
        "#Makign a connection\r\n",
        "connect_db = sqlite3.connect(\"/content/sample_data/NursingHomes.db\")\r\n",
        "\r\n",
        "#SQL Statement\r\n",
        "df = pd.read_sql_query(\"\"\"\r\n",
        "                          SELECT ProviderName, \r\n",
        "                                 (AverageResidentsperDay/NumberBeds) AS Capacity \r\n",
        "                          FROM Providers\r\n",
        "                          ORDER BY Capacity DESC\r\n",
        "                       \"\"\"\r\n",
        "                          , connect_db)\r\n",
        "                       \r\n",
        "#Closing the connection\r\n",
        "connect_db.close()\r\n",
        "\r\n",
        "#Using pandas to show output\r\n",
        "df.head()"
      ],
      "execution_count": 39,
      "outputs": [
        {
          "output_type": "execute_result",
          "data": {
            "text/html": [
              "<div>\n",
              "<style scoped>\n",
              "    .dataframe tbody tr th:only-of-type {\n",
              "        vertical-align: middle;\n",
              "    }\n",
              "\n",
              "    .dataframe tbody tr th {\n",
              "        vertical-align: top;\n",
              "    }\n",
              "\n",
              "    .dataframe thead th {\n",
              "        text-align: right;\n",
              "    }\n",
              "</style>\n",
              "<table border=\"1\" class=\"dataframe\">\n",
              "  <thead>\n",
              "    <tr style=\"text-align: right;\">\n",
              "      <th></th>\n",
              "      <th>ProviderName</th>\n",
              "      <th>Capacity</th>\n",
              "    </tr>\n",
              "  </thead>\n",
              "  <tbody>\n",
              "    <tr>\n",
              "      <th>0</th>\n",
              "      <td>THE CENTER AT GRANDE</td>\n",
              "      <td>10.650000</td>\n",
              "    </tr>\n",
              "    <tr>\n",
              "      <th>1</th>\n",
              "      <td>MARYLAND GARDENS CARE CENTER</td>\n",
              "      <td>5.187500</td>\n",
              "    </tr>\n",
              "    <tr>\n",
              "      <th>2</th>\n",
              "      <td>COLUSA MEDICAL CENTER - SNF</td>\n",
              "      <td>4.266667</td>\n",
              "    </tr>\n",
              "    <tr>\n",
              "      <th>3</th>\n",
              "      <td>WOONSOCKET HEALTH CENTRE</td>\n",
              "      <td>3.980769</td>\n",
              "    </tr>\n",
              "    <tr>\n",
              "      <th>4</th>\n",
              "      <td>WARE MEMORIAL CARE CENTER</td>\n",
              "      <td>3.216000</td>\n",
              "    </tr>\n",
              "  </tbody>\n",
              "</table>\n",
              "</div>"
            ],
            "text/plain": [
              "                   ProviderName   Capacity\n",
              "0          THE CENTER AT GRANDE  10.650000\n",
              "1  MARYLAND GARDENS CARE CENTER   5.187500\n",
              "2   COLUSA MEDICAL CENTER - SNF   4.266667\n",
              "3      WOONSOCKET HEALTH CENTRE   3.980769\n",
              "4     WARE MEMORIAL CARE CENTER   3.216000"
            ]
          },
          "metadata": {
            "tags": []
          },
          "execution_count": 39
        }
      ]
    },
    {
      "cell_type": "markdown",
      "metadata": {
        "id": "AsOqz9ORzwcZ"
      },
      "source": [
        "A Capacity value over 1 indicates the nursing home has a capacity larger than 100%.  A WHERE statement can be used to filter out such nursing homes.  \r\n",
        "\r\n",
        "<strong>Note:</strong>  At times, SQL requires statements in a particular order.  Here, the WHERE statements must come before the ORDER BY statement."
      ]
    },
    {
      "cell_type": "code",
      "metadata": {
        "colab": {
          "base_uri": "https://localhost:8080/",
          "height": 348
        },
        "id": "3JobBL4X4slD",
        "outputId": "c55a5064-11af-4e2d-8220-7a9764a74153"
      },
      "source": [
        "#Makign a connection\r\n",
        "connect_db = sqlite3.connect(\"/content/sample_data/NursingHomes.db\")\r\n",
        "\r\n",
        "#SQL Statement\r\n",
        "df = pd.read_sql_query(\"\"\"\r\n",
        "                          SELECT ProviderName, \r\n",
        "                                 (AverageResidentsperDay/NumberBeds) AS Capacity \r\n",
        "                          FROM Providers\r\n",
        "                          WHERE Capacity <= 1\r\n",
        "                          ORDER BY Capacity DESC\r\n",
        "                       \"\"\"\r\n",
        "                          , connect_db)\r\n",
        "                       \r\n",
        "#Closing the connection\r\n",
        "connect_db.close()\r\n",
        "\r\n",
        "#Using pandas to show output\r\n",
        "df.head(10)"
      ],
      "execution_count": 42,
      "outputs": [
        {
          "output_type": "execute_result",
          "data": {
            "text/html": [
              "<div>\n",
              "<style scoped>\n",
              "    .dataframe tbody tr th:only-of-type {\n",
              "        vertical-align: middle;\n",
              "    }\n",
              "\n",
              "    .dataframe tbody tr th {\n",
              "        vertical-align: top;\n",
              "    }\n",
              "\n",
              "    .dataframe thead th {\n",
              "        text-align: right;\n",
              "    }\n",
              "</style>\n",
              "<table border=\"1\" class=\"dataframe\">\n",
              "  <thead>\n",
              "    <tr style=\"text-align: right;\">\n",
              "      <th></th>\n",
              "      <th>ProviderName</th>\n",
              "      <th>Capacity</th>\n",
              "    </tr>\n",
              "  </thead>\n",
              "  <tbody>\n",
              "    <tr>\n",
              "      <th>0</th>\n",
              "      <td>HAVASU REGIONAL MEDICAL CENTER</td>\n",
              "      <td>1.000000</td>\n",
              "    </tr>\n",
              "    <tr>\n",
              "      <th>1</th>\n",
              "      <td>THE ROYAL HOME</td>\n",
              "      <td>1.000000</td>\n",
              "    </tr>\n",
              "    <tr>\n",
              "      <th>2</th>\n",
              "      <td>PALO ALTO COUNTY HOSPITAL</td>\n",
              "      <td>1.000000</td>\n",
              "    </tr>\n",
              "    <tr>\n",
              "      <th>3</th>\n",
              "      <td>THE STEVEN AND ALEXANDRA COHEN PED L T C PAVILION</td>\n",
              "      <td>1.000000</td>\n",
              "    </tr>\n",
              "    <tr>\n",
              "      <th>4</th>\n",
              "      <td>SUMMIT SQUARE</td>\n",
              "      <td>1.000000</td>\n",
              "    </tr>\n",
              "    <tr>\n",
              "      <th>5</th>\n",
              "      <td>MILETREE CENTER</td>\n",
              "      <td>1.000000</td>\n",
              "    </tr>\n",
              "    <tr>\n",
              "      <th>6</th>\n",
              "      <td>AMERICAN RIVER CENTER</td>\n",
              "      <td>1.000000</td>\n",
              "    </tr>\n",
              "    <tr>\n",
              "      <th>7</th>\n",
              "      <td>PARKLANE WEST HEALTHCARE CENTER</td>\n",
              "      <td>0.997561</td>\n",
              "    </tr>\n",
              "    <tr>\n",
              "      <th>8</th>\n",
              "      <td>HEALTHCARE CENTER OF JACKSONVILLE</td>\n",
              "      <td>0.997500</td>\n",
              "    </tr>\n",
              "    <tr>\n",
              "      <th>9</th>\n",
              "      <td>PORTAGEPOINTE</td>\n",
              "      <td>0.996667</td>\n",
              "    </tr>\n",
              "  </tbody>\n",
              "</table>\n",
              "</div>"
            ],
            "text/plain": [
              "                                        ProviderName  Capacity\n",
              "0                     HAVASU REGIONAL MEDICAL CENTER  1.000000\n",
              "1                                     THE ROYAL HOME  1.000000\n",
              "2                          PALO ALTO COUNTY HOSPITAL  1.000000\n",
              "3  THE STEVEN AND ALEXANDRA COHEN PED L T C PAVILION  1.000000\n",
              "4                                      SUMMIT SQUARE  1.000000\n",
              "5                                    MILETREE CENTER  1.000000\n",
              "6                              AMERICAN RIVER CENTER  1.000000\n",
              "7                    PARKLANE WEST HEALTHCARE CENTER  0.997561\n",
              "8                  HEALTHCARE CENTER OF JACKSONVILLE  0.997500\n",
              "9                                      PORTAGEPOINTE  0.996667"
            ]
          },
          "metadata": {
            "tags": []
          },
          "execution_count": 42
        }
      ]
    },
    {
      "cell_type": "markdown",
      "metadata": {
        "id": "eEjLgzbn48qi"
      },
      "source": [
        "# CONCATENATE, CAST, and ROUND in SQL"
      ]
    },
    {
      "cell_type": "markdown",
      "metadata": {
        "id": "GlHh3hYi5W3x"
      },
      "source": [
        "Consider the following use of the ROUND() and CAST() functions, and the concatenate utility to express the output as a percentage.\r\n",
        "\r\n",
        "\r\n",
        "1.   ROUND(); can be used to round a number to a specific number of decimals\r\n",
        "2.   CAST(); can be used to change the data type; this is necessary as the concatenate utility requires a string variable\r\n",
        "3.   ||; SQLite does not support CONCAT() function, but instead uses the || syntax to piece together a set of strings into a larger string.\r\n",
        "\r\n"
      ]
    },
    {
      "cell_type": "code",
      "metadata": {
        "colab": {
          "base_uri": "https://localhost:8080/",
          "height": 198
        },
        "id": "wc1Uq_c1zwkM",
        "outputId": "971decc3-5793-462b-b4bd-2fed52621385"
      },
      "source": [
        "#Makign a connection\r\n",
        "connect_db = sqlite3.connect(\"/content/sample_data/NursingHomes.db\")\r\n",
        "\r\n",
        "#SQL Statement\r\n",
        "df = pd.read_sql_query(\"\"\"\r\n",
        "                          SELECT ProviderName, \r\n",
        "                                 ( CAST(ROUND(100*(AverageResidentsperDay/NumberBeds),1) AS VARCHAR) || '%' ) AS Capacity \r\n",
        "                          FROM Providers\r\n",
        "                       \"\"\"\r\n",
        "                          , connect_db)\r\n",
        "                       \r\n",
        "#Closing the connection\r\n",
        "connect_db.close()\r\n",
        "\r\n",
        "#Using pandas to show output\r\n",
        "df.head()"
      ],
      "execution_count": 43,
      "outputs": [
        {
          "output_type": "execute_result",
          "data": {
            "text/html": [
              "<div>\n",
              "<style scoped>\n",
              "    .dataframe tbody tr th:only-of-type {\n",
              "        vertical-align: middle;\n",
              "    }\n",
              "\n",
              "    .dataframe tbody tr th {\n",
              "        vertical-align: top;\n",
              "    }\n",
              "\n",
              "    .dataframe thead th {\n",
              "        text-align: right;\n",
              "    }\n",
              "</style>\n",
              "<table border=\"1\" class=\"dataframe\">\n",
              "  <thead>\n",
              "    <tr style=\"text-align: right;\">\n",
              "      <th></th>\n",
              "      <th>ProviderName</th>\n",
              "      <th>Capacity</th>\n",
              "    </tr>\n",
              "  </thead>\n",
              "  <tbody>\n",
              "    <tr>\n",
              "      <th>0</th>\n",
              "      <td>BURNS NURSING HOME, INC.</td>\n",
              "      <td>90.9%</td>\n",
              "    </tr>\n",
              "    <tr>\n",
              "      <th>1</th>\n",
              "      <td>COOSA VALLEY HEALTHCARE CENTER</td>\n",
              "      <td>84.8%</td>\n",
              "    </tr>\n",
              "    <tr>\n",
              "      <th>2</th>\n",
              "      <td>HIGHLANDS HEALTH AND REHAB</td>\n",
              "      <td>82.6%</td>\n",
              "    </tr>\n",
              "    <tr>\n",
              "      <th>3</th>\n",
              "      <td>EASTVIEW REHABILITATION &amp; HEALTHCARE CENTER</td>\n",
              "      <td>78.0%</td>\n",
              "    </tr>\n",
              "    <tr>\n",
              "      <th>4</th>\n",
              "      <td>PLANTATION MANOR NURSING HOME</td>\n",
              "      <td>81.4%</td>\n",
              "    </tr>\n",
              "  </tbody>\n",
              "</table>\n",
              "</div>"
            ],
            "text/plain": [
              "                                  ProviderName Capacity\n",
              "0                     BURNS NURSING HOME, INC.    90.9%\n",
              "1               COOSA VALLEY HEALTHCARE CENTER    84.8%\n",
              "2                   HIGHLANDS HEALTH AND REHAB    82.6%\n",
              "3  EASTVIEW REHABILITATION & HEALTHCARE CENTER    78.0%\n",
              "4                PLANTATION MANOR NURSING HOME    81.4%"
            ]
          },
          "metadata": {
            "tags": []
          },
          "execution_count": 43
        }
      ]
    },
    {
      "cell_type": "markdown",
      "metadata": {
        "id": "g7dml2fm6cVr"
      },
      "source": [
        "Suppose an ORDER BY statement is included to sort the capacities from largest to smallest."
      ]
    },
    {
      "cell_type": "code",
      "metadata": {
        "colab": {
          "base_uri": "https://localhost:8080/",
          "height": 198
        },
        "id": "bNZtxoqv6ccU",
        "outputId": "ec94f856-944e-43f7-e955-d38ebd1df4c0"
      },
      "source": [
        "#Makign a connection\r\n",
        "connect_db = sqlite3.connect(\"/content/sample_data/NursingHomes.db\")\r\n",
        "\r\n",
        "#SQL Statement\r\n",
        "df = pd.read_sql_query(\"\"\"\r\n",
        "                          SELECT ProviderName, \r\n",
        "                                 ( CAST(ROUND(100*(AverageResidentsperDay/NumberBeds),1) AS VARCHAR) || '%' ) AS Capacity \r\n",
        "                          FROM Providers\r\n",
        "                          ORDER BY Capacity DESC\r\n",
        "                       \"\"\"\r\n",
        "                          , connect_db)\r\n",
        "                       \r\n",
        "#Closing the connection\r\n",
        "connect_db.close()\r\n",
        "\r\n",
        "#Using pandas to show output\r\n",
        "df.tail()"
      ],
      "execution_count": 57,
      "outputs": [
        {
          "output_type": "execute_result",
          "data": {
            "text/html": [
              "<div>\n",
              "<style scoped>\n",
              "    .dataframe tbody tr th:only-of-type {\n",
              "        vertical-align: middle;\n",
              "    }\n",
              "\n",
              "    .dataframe tbody tr th {\n",
              "        vertical-align: top;\n",
              "    }\n",
              "\n",
              "    .dataframe thead th {\n",
              "        text-align: right;\n",
              "    }\n",
              "</style>\n",
              "<table border=\"1\" class=\"dataframe\">\n",
              "  <thead>\n",
              "    <tr style=\"text-align: right;\">\n",
              "      <th></th>\n",
              "      <th>ProviderName</th>\n",
              "      <th>Capacity</th>\n",
              "    </tr>\n",
              "  </thead>\n",
              "  <tbody>\n",
              "    <tr>\n",
              "      <th>15326</th>\n",
              "      <td>THE CENTER AT PARMER</td>\n",
              "      <td>0.0%</td>\n",
              "    </tr>\n",
              "    <tr>\n",
              "      <th>15327</th>\n",
              "      <td>CEDAR HOLLOW REHABILITATION CENTER</td>\n",
              "      <td>0.0%</td>\n",
              "    </tr>\n",
              "    <tr>\n",
              "      <th>15328</th>\n",
              "      <td>THE LEGACY MIDTOWN PARK</td>\n",
              "      <td>0.0%</td>\n",
              "    </tr>\n",
              "    <tr>\n",
              "      <th>15329</th>\n",
              "      <td>SYLVAN SHORES HEALTH AND WELLNESS</td>\n",
              "      <td>0.0%</td>\n",
              "    </tr>\n",
              "    <tr>\n",
              "      <th>15330</th>\n",
              "      <td>METHODIST TRANSITIONAL CARE CENTER-DESOTO LLC</td>\n",
              "      <td>0.0%</td>\n",
              "    </tr>\n",
              "  </tbody>\n",
              "</table>\n",
              "</div>"
            ],
            "text/plain": [
              "                                        ProviderName Capacity\n",
              "15326                           THE CENTER AT PARMER     0.0%\n",
              "15327             CEDAR HOLLOW REHABILITATION CENTER     0.0%\n",
              "15328                        THE LEGACY MIDTOWN PARK     0.0%\n",
              "15329              SYLVAN SHORES HEALTH AND WELLNESS     0.0%\n",
              "15330  METHODIST TRANSITIONAL CARE CENTER-DESOTO LLC     0.0%"
            ]
          },
          "metadata": {
            "tags": []
          },
          "execution_count": 57
        }
      ]
    },
    {
      "cell_type": "markdown",
      "metadata": {
        "id": "iIdomG2P-QQN"
      },
      "source": [
        "The output above is **not** correctly sorted -- or is it?  The data type for Capacity is a string; thus, sorting is indeed being done correctly in SQL.\r\n",
        "\r\n",
        "<table>\r\n",
        "<tr>\r\n",
        "<td align=\"center\">Values</td><td align=\"center\">Values <br>AS String</td>\r\n",
        "<td align=\"center\"></td><td align=\"center\">Sort <br>WHEN String</td><td align=\"center\">Sort <br>WHEN Numeric</td>\r\n",
        "</tr>\r\n",
        "<td align=\"right\">\r\n",
        "<font size=\"+2\">\r\n",
        "99.6%<br>\r\n",
        "0.0%<br>\r\n",
        "1065.0%<br>\r\n",
        "518.8%<br>\r\n",
        "</font>\r\n",
        "</td>\r\n",
        "<td align=\"left\">\r\n",
        "<font size=\"+2\">\r\n",
        "\"99.6%\"<br>\r\n",
        "\"0.0%\"<br>\r\n",
        "\"1065.0%\"<br>\r\n",
        "\"518.8%\"<br>\r\n",
        "</font>\r\n",
        "</td>\r\n",
        "<td align=\"left\">&nbsp;</td>\r\n",
        "\r\n",
        "<td align=\"left\">\r\n",
        "<font size=\"+2\">\r\n",
        "\"<u>0</u>.0%\"<br>\r\n",
        "\"<u>1</u>065.0%\"<br>\r\n",
        "\"<u>5</u>18.8%\"<br>\r\n",
        "\"<u>9</u>9.6%\"<br>\r\n",
        "</font>\r\n",
        "</td>\r\n",
        "<td align=\"right\">\r\n",
        "<font size=\"+2\">\r\n",
        "0.0%<br>\r\n",
        "99.6%<br>\r\n",
        "518.8%<br>\r\n",
        "1065.0%<br>\r\n",
        "</font>\r\n",
        "</td>\r\n",
        "</tr>\r\n",
        "</table>"
      ]
    },
    {
      "cell_type": "markdown",
      "metadata": {
        "id": "JfzFMlk16rwj"
      },
      "source": [
        "To alleviate this issue, modify the SQL statement as follows.  Notice that the ORDER BY statement uses the numeric quantity to completing the sorting."
      ]
    },
    {
      "cell_type": "code",
      "metadata": {
        "colab": {
          "base_uri": "https://localhost:8080/",
          "height": 198
        },
        "id": "maKfxybu6r4b",
        "outputId": "3c8b5d8a-3cce-4cb6-9959-07eacd649757"
      },
      "source": [
        "#Makign a connection\r\n",
        "connect_db = sqlite3.connect(\"/content/sample_data/NursingHomes.db\")\r\n",
        "\r\n",
        "#SQL Statement\r\n",
        "NursingHomes_Capacity = pd.read_sql_query(\"\"\"\r\n",
        "                          SELECT ProviderName, \r\n",
        "                                 AverageResidentsperDay/NumberBeds AS Capacity_Numeric,\r\n",
        "                                 ( CAST(ROUND(100*(AverageResidentsperDay/NumberBeds),1) AS VARCHAR) || '%' ) AS Capacity \r\n",
        "                          FROM Providers\r\n",
        "                          ORDER BY Capacity_Numeric DESC\r\n",
        "                       \"\"\"\r\n",
        "                          , connect_db)\r\n",
        "                       \r\n",
        "#Closing the connection\r\n",
        "connect_db.close()\r\n",
        "\r\n",
        "#Using pandas to show output\r\n",
        "NursingHomes_Capacity.head()"
      ],
      "execution_count": 79,
      "outputs": [
        {
          "output_type": "execute_result",
          "data": {
            "text/html": [
              "<div>\n",
              "<style scoped>\n",
              "    .dataframe tbody tr th:only-of-type {\n",
              "        vertical-align: middle;\n",
              "    }\n",
              "\n",
              "    .dataframe tbody tr th {\n",
              "        vertical-align: top;\n",
              "    }\n",
              "\n",
              "    .dataframe thead th {\n",
              "        text-align: right;\n",
              "    }\n",
              "</style>\n",
              "<table border=\"1\" class=\"dataframe\">\n",
              "  <thead>\n",
              "    <tr style=\"text-align: right;\">\n",
              "      <th></th>\n",
              "      <th>ProviderName</th>\n",
              "      <th>Capacity_Numeric</th>\n",
              "      <th>Capacity</th>\n",
              "    </tr>\n",
              "  </thead>\n",
              "  <tbody>\n",
              "    <tr>\n",
              "      <th>0</th>\n",
              "      <td>THE CENTER AT GRANDE</td>\n",
              "      <td>10.650000</td>\n",
              "      <td>1065.0%</td>\n",
              "    </tr>\n",
              "    <tr>\n",
              "      <th>1</th>\n",
              "      <td>MARYLAND GARDENS CARE CENTER</td>\n",
              "      <td>5.187500</td>\n",
              "      <td>518.8%</td>\n",
              "    </tr>\n",
              "    <tr>\n",
              "      <th>2</th>\n",
              "      <td>COLUSA MEDICAL CENTER - SNF</td>\n",
              "      <td>4.266667</td>\n",
              "      <td>426.7%</td>\n",
              "    </tr>\n",
              "    <tr>\n",
              "      <th>3</th>\n",
              "      <td>WOONSOCKET HEALTH CENTRE</td>\n",
              "      <td>3.980769</td>\n",
              "      <td>398.1%</td>\n",
              "    </tr>\n",
              "    <tr>\n",
              "      <th>4</th>\n",
              "      <td>WARE MEMORIAL CARE CENTER</td>\n",
              "      <td>3.216000</td>\n",
              "      <td>321.6%</td>\n",
              "    </tr>\n",
              "  </tbody>\n",
              "</table>\n",
              "</div>"
            ],
            "text/plain": [
              "                   ProviderName  Capacity_Numeric Capacity\n",
              "0          THE CENTER AT GRANDE         10.650000  1065.0%\n",
              "1  MARYLAND GARDENS CARE CENTER          5.187500   518.8%\n",
              "2   COLUSA MEDICAL CENTER - SNF          4.266667   426.7%\n",
              "3      WOONSOCKET HEALTH CENTRE          3.980769   398.1%\n",
              "4     WARE MEMORIAL CARE CENTER          3.216000   321.6%"
            ]
          },
          "metadata": {
            "tags": []
          },
          "execution_count": 79
        }
      ]
    },
    {
      "cell_type": "markdown",
      "metadata": {
        "id": "ic7vDT0QJsD5"
      },
      "source": [
        "## Using dfply to manage data frame"
      ]
    },
    {
      "cell_type": "markdown",
      "metadata": {
        "id": "0vUd2NqEHZj0"
      },
      "source": [
        "The object returned by the code above is a Python data frame.  Thus, Python can be used to manipulate this data frame.  For example, <strong>dfply</strong> can be used to select the only the ProviderName and Capacity from this data frame.\r\n",
        "\r\n",
        "\r\n",
        "<p align='center'><img src=\"https://drive.google.com/uc?export=view&id=1z9aXcrBX7zBa8vmKZLLa2W2tyLvK63fF\" width='75%' height='75%'></p>"
      ]
    },
    {
      "cell_type": "markdown",
      "metadata": {
        "id": "SwkgF2Ye8oz5"
      },
      "source": [
        "Loading <strong>dfply</strong> to this instance of Colab."
      ]
    },
    {
      "cell_type": "code",
      "metadata": {
        "colab": {
          "base_uri": "https://localhost:8080/"
        },
        "id": "pFLTNONU8o8f",
        "outputId": "de7b932f-4ec5-4193-bc1f-224f31a0b55a"
      },
      "source": [
        "pip install dfply"
      ],
      "execution_count": 53,
      "outputs": [
        {
          "output_type": "stream",
          "text": [
            "Requirement already satisfied: dfply in /usr/local/lib/python3.7/dist-packages (0.3.3)\n",
            "Requirement already satisfied: numpy in /usr/local/lib/python3.7/dist-packages (from dfply) (1.19.5)\n",
            "Requirement already satisfied: pandas in /usr/local/lib/python3.7/dist-packages (from dfply) (1.1.5)\n",
            "Requirement already satisfied: pytz>=2017.2 in /usr/local/lib/python3.7/dist-packages (from pandas->dfply) (2018.9)\n",
            "Requirement already satisfied: python-dateutil>=2.7.3 in /usr/local/lib/python3.7/dist-packages (from pandas->dfply) (2.8.1)\n",
            "Requirement already satisfied: six>=1.5 in /usr/local/lib/python3.7/dist-packages (from python-dateutil>=2.7.3->pandas->dfply) (1.15.0)\n"
          ],
          "name": "stdout"
        }
      ]
    },
    {
      "cell_type": "markdown",
      "metadata": {
        "id": "mCB4cqRy8t43"
      },
      "source": [
        "Next, importing the package into this instance of Colab."
      ]
    },
    {
      "cell_type": "code",
      "metadata": {
        "id": "jf8ZyrBp8uAe"
      },
      "source": [
        "from dfply import *"
      ],
      "execution_count": 50,
      "outputs": []
    },
    {
      "cell_type": "markdown",
      "metadata": {
        "id": "WjP0WPVd85H1"
      },
      "source": [
        "Using the dfply package to <strong>select()</strong> only the desired columns."
      ]
    },
    {
      "cell_type": "code",
      "metadata": {
        "colab": {
          "base_uri": "https://localhost:8080/",
          "height": 198
        },
        "id": "FB5R3Ekw85Q1",
        "outputId": "dcede29e-eaf0-4ce6-ae59-1c107cdfe8cd"
      },
      "source": [
        "#Piping in dfply and using select() to grab first two columns.\r\n",
        "NursingHomes_Capacity_Updated = (\r\n",
        "             NursingHomes_Capacity\r\n",
        "             >> select(X.ProviderName, X.Capacity)\r\n",
        "             #>> select(~X.Capacity_Numeric)  # Use this version if data frame has several columns to be included\r\n",
        "           )\r\n",
        "NursingHomes_Capacity_Updated.head()"
      ],
      "execution_count": 84,
      "outputs": [
        {
          "output_type": "execute_result",
          "data": {
            "text/html": [
              "<div>\n",
              "<style scoped>\n",
              "    .dataframe tbody tr th:only-of-type {\n",
              "        vertical-align: middle;\n",
              "    }\n",
              "\n",
              "    .dataframe tbody tr th {\n",
              "        vertical-align: top;\n",
              "    }\n",
              "\n",
              "    .dataframe thead th {\n",
              "        text-align: right;\n",
              "    }\n",
              "</style>\n",
              "<table border=\"1\" class=\"dataframe\">\n",
              "  <thead>\n",
              "    <tr style=\"text-align: right;\">\n",
              "      <th></th>\n",
              "      <th>ProviderName</th>\n",
              "      <th>Capacity</th>\n",
              "    </tr>\n",
              "  </thead>\n",
              "  <tbody>\n",
              "    <tr>\n",
              "      <th>0</th>\n",
              "      <td>THE CENTER AT GRANDE</td>\n",
              "      <td>1065.0%</td>\n",
              "    </tr>\n",
              "    <tr>\n",
              "      <th>1</th>\n",
              "      <td>MARYLAND GARDENS CARE CENTER</td>\n",
              "      <td>518.8%</td>\n",
              "    </tr>\n",
              "    <tr>\n",
              "      <th>2</th>\n",
              "      <td>COLUSA MEDICAL CENTER - SNF</td>\n",
              "      <td>426.7%</td>\n",
              "    </tr>\n",
              "    <tr>\n",
              "      <th>3</th>\n",
              "      <td>WOONSOCKET HEALTH CENTRE</td>\n",
              "      <td>398.1%</td>\n",
              "    </tr>\n",
              "    <tr>\n",
              "      <th>4</th>\n",
              "      <td>WARE MEMORIAL CARE CENTER</td>\n",
              "      <td>321.6%</td>\n",
              "    </tr>\n",
              "  </tbody>\n",
              "</table>\n",
              "</div>"
            ],
            "text/plain": [
              "                   ProviderName Capacity\n",
              "0          THE CENTER AT GRANDE  1065.0%\n",
              "1  MARYLAND GARDENS CARE CENTER   518.8%\n",
              "2   COLUSA MEDICAL CENTER - SNF   426.7%\n",
              "3      WOONSOCKET HEALTH CENTRE   398.1%\n",
              "4     WARE MEMORIAL CARE CENTER   321.6%"
            ]
          },
          "metadata": {
            "tags": []
          },
          "execution_count": 84
        }
      ]
    },
    {
      "cell_type": "markdown",
      "metadata": {
        "id": "uQ3E1meYJzBV"
      },
      "source": [
        "## Using a Subquery to manage data frame"
      ]
    },
    {
      "cell_type": "markdown",
      "metadata": {
        "id": "IfwfWI_HLzac"
      },
      "source": [
        "A subquery in SQL is simply a query within another query.  Subqueries are powerful ways to manipulate data tables that result from a SQL query.  Suqueries **do not** change the structure of the data tables within the database; but simply allow for the managment of data before the outcomes are pushed out to the user."
      ]
    },
    {
      "cell_type": "markdown",
      "metadata": {
        "id": "wznApzCDJ8Q8"
      },
      "source": [
        "When reading / interpreting SQL code that contain subqueries, it is important to read the statement from the <i>inside</i> to the <i>outside</i>. Consider the SQL statement that was used above.\r\n",
        "\r\n",
        "<font size=\"-1\" color=\"red\">\r\n",
        "SELECT ProviderName,<br>\r\n",
        "&nbsp;&nbsp;&nbsp;&nbsp;&nbsp;&nbsp;&nbsp;&nbsp;&nbsp;&nbsp;&nbsp;&nbsp;&nbsp;&nbsp;&nbsp;AverageResidentsperDay/NumberBeds AS Capacity_Numeric,<br>\r\n",
        "&nbsp;&nbsp;&nbsp;&nbsp;&nbsp;&nbsp;&nbsp;&nbsp;&nbsp;&nbsp;&nbsp;&nbsp;&nbsp;&nbsp;&nbsp;( CAST(ROUND(100*(AverageResidentsperDay/NumberBeds),1) AS VARCHAR) || '%' ) AS Capacity <br>\r\n",
        "                            FROM Providers<br>\r\n",
        "                            ORDER BY Capacity_Numeric DESC\r\n",
        "</font>"
      ]
    },
    {
      "cell_type": "markdown",
      "metadata": {
        "id": "dMe-3JIZJ83E"
      },
      "source": [
        "The resulting output from this query is an SQL table.\r\n",
        "\r\n",
        "<p align='center'><img src=\"https://drive.google.com/uc?export=view&id=1CwL_UaqOuFRd6JtHO1R0vtHqxqlKZbst\" width='50%' height='50%'></p>\r\n"
      ]
    },
    {
      "cell_type": "markdown",
      "metadata": {
        "id": "fHJHhfWtDlQ0"
      },
      "source": [
        "Now,  let us add a <font color=\"green\"><strong>second SQL query</strong></font> that will be used to manage the SQL table returned by the <font color=\"red\">first SQL query</font>.\r\n",
        "\r\n",
        "<font size=\"-1\" color=\"green\">\r\n",
        "SELECT ProviderName, Capacity <br>\r\n",
        "&nbsp;&nbsp;&nbsp;FROM<br>\r\n",
        "&nbsp;&nbsp;&nbsp;(<br>\r\n",
        "<font size=\"-1\" color=\"red\">\r\n",
        "&nbsp;&nbsp;&nbsp;&nbsp;&nbsp;&nbsp;SELECT ProviderName,<br>\r\n",
        "&nbsp;&nbsp;&nbsp;&nbsp;&nbsp;&nbsp;&nbsp;&nbsp;&nbsp;&nbsp;&nbsp;&nbsp;&nbsp;&nbsp;&nbsp;&nbsp;&nbsp;&nbsp;AverageResidentsperDay/NumberBeds AS Capacity_Numeric,<br>\r\n",
        "&nbsp;&nbsp;&nbsp;&nbsp;&nbsp;&nbsp;&nbsp;&nbsp;&nbsp;&nbsp;&nbsp;&nbsp;&nbsp;&nbsp;&nbsp;&nbsp;&nbsp;&nbsp;( CAST(ROUND(100*(AverageResidentsperDay/NumberBeds),1) AS VARCHAR) || '%' ) AS Capacity <br>\r\n",
        "&nbsp;&nbsp;&nbsp;&nbsp;&nbsp;&nbsp;                            FROM Providers<br>\r\n",
        " &nbsp;&nbsp;&nbsp;&nbsp;&nbsp;&nbsp;                           ORDER BY Capacity_Numeric DESC\r\n",
        "</font>\r\n",
        "<br>\r\n",
        "&nbsp;&nbsp;&nbsp;)\r\n",
        "</font>\r\n"
      ]
    },
    {
      "cell_type": "markdown",
      "metadata": {
        "id": "9VP6b7vSLH-4"
      },
      "source": [
        "Visually, the <font color=\"green\"><strong>second SQL query</strong></font> is simply selecting the desired columns from the SQL table returned from the <font color=\"red\">first SQL query</font>.\r\n",
        "\r\n",
        "<p align='center'><img src=\"https://drive.google.com/uc?export=view&id=1vevXHsihJ544Svf7-ghpOSHrvdx87lmL\" width='50%' height='50%'></p>\r\n"
      ]
    },
    {
      "cell_type": "markdown",
      "metadata": {
        "id": "_1E1Gds8PeNF"
      },
      "source": [
        "Putting the pieces together in SQL."
      ]
    },
    {
      "cell_type": "code",
      "metadata": {
        "colab": {
          "base_uri": "https://localhost:8080/",
          "height": 198
        },
        "id": "xedn2rA6DlaJ",
        "outputId": "658ac4d2-014a-4c3e-c5d7-49008afbfe4c"
      },
      "source": [
        "#Makign a connection\r\n",
        "connect_db = sqlite3.connect(\"/content/sample_data/NursingHomes.db\")\r\n",
        "\r\n",
        "#SQL Statement\r\n",
        "NursingHomes_Capacity = pd.read_sql_query(\"\"\"\r\n",
        "                          SELECT ProviderName, Capacity FROM\r\n",
        "                           (\r\n",
        "                            SELECT ProviderName, \r\n",
        "                                 AverageResidentsperDay/NumberBeds AS Capacity_Numeric,\r\n",
        "                                 ( CAST(ROUND(100*(AverageResidentsperDay/NumberBeds),1) AS VARCHAR) || '%' ) AS Capacity \r\n",
        "                            FROM Providers\r\n",
        "                            ORDER BY Capacity_Numeric DESC\r\n",
        "                           )\r\n",
        "                       \"\"\"\r\n",
        "                          , connect_db)\r\n",
        "                       \r\n",
        "#Closing the connection\r\n",
        "connect_db.close()\r\n",
        "\r\n",
        "#Using pandas to show output\r\n",
        "NursingHomes_Capacity.head()"
      ],
      "execution_count": 65,
      "outputs": [
        {
          "output_type": "execute_result",
          "data": {
            "text/html": [
              "<div>\n",
              "<style scoped>\n",
              "    .dataframe tbody tr th:only-of-type {\n",
              "        vertical-align: middle;\n",
              "    }\n",
              "\n",
              "    .dataframe tbody tr th {\n",
              "        vertical-align: top;\n",
              "    }\n",
              "\n",
              "    .dataframe thead th {\n",
              "        text-align: right;\n",
              "    }\n",
              "</style>\n",
              "<table border=\"1\" class=\"dataframe\">\n",
              "  <thead>\n",
              "    <tr style=\"text-align: right;\">\n",
              "      <th></th>\n",
              "      <th>ProviderName</th>\n",
              "      <th>Capacity</th>\n",
              "    </tr>\n",
              "  </thead>\n",
              "  <tbody>\n",
              "    <tr>\n",
              "      <th>0</th>\n",
              "      <td>THE CENTER AT GRANDE</td>\n",
              "      <td>1065.0%</td>\n",
              "    </tr>\n",
              "    <tr>\n",
              "      <th>1</th>\n",
              "      <td>MARYLAND GARDENS CARE CENTER</td>\n",
              "      <td>518.8%</td>\n",
              "    </tr>\n",
              "    <tr>\n",
              "      <th>2</th>\n",
              "      <td>COLUSA MEDICAL CENTER - SNF</td>\n",
              "      <td>426.7%</td>\n",
              "    </tr>\n",
              "    <tr>\n",
              "      <th>3</th>\n",
              "      <td>WOONSOCKET HEALTH CENTRE</td>\n",
              "      <td>398.1%</td>\n",
              "    </tr>\n",
              "    <tr>\n",
              "      <th>4</th>\n",
              "      <td>WARE MEMORIAL CARE CENTER</td>\n",
              "      <td>321.6%</td>\n",
              "    </tr>\n",
              "  </tbody>\n",
              "</table>\n",
              "</div>"
            ],
            "text/plain": [
              "                   ProviderName Capacity\n",
              "0          THE CENTER AT GRANDE  1065.0%\n",
              "1  MARYLAND GARDENS CARE CENTER   518.8%\n",
              "2   COLUSA MEDICAL CENTER - SNF   426.7%\n",
              "3      WOONSOCKET HEALTH CENTRE   398.1%\n",
              "4     WARE MEMORIAL CARE CENTER   321.6%"
            ]
          },
          "metadata": {
            "tags": []
          },
          "execution_count": 65
        }
      ]
    },
    {
      "cell_type": "markdown",
      "metadata": {
        "id": "fDq_JLuJKKsu"
      },
      "source": [
        "Next, consider the following code that computes the Average Fine Amount for each nursing home in the database."
      ]
    },
    {
      "cell_type": "code",
      "metadata": {
        "colab": {
          "base_uri": "https://localhost:8080/",
          "height": 348
        },
        "id": "KBiSwO1NQWdp",
        "outputId": "4ea52a81-b5cd-4d39-b3e4-e498b45f15f6"
      },
      "source": [
        "#Makign a connection\r\n",
        "connect_db = sqlite3.connect(\"/content/sample_data/NursingHomes.db\")\r\n",
        "\r\n",
        "#SQL Statement\r\n",
        "df = pd.read_sql_query(\"\"\"\r\n",
        "                          SELECT ProviderName, \r\n",
        "                                 (TotalAmountFines/NumberofFines) AS 'Average Fine Amount' \r\n",
        "                          FROM Providers\r\n",
        "\r\n",
        "                       \"\"\"\r\n",
        "                          , connect_db)\r\n",
        "                       \r\n",
        "#Closing the connection\r\n",
        "connect_db.close()\r\n",
        "\r\n",
        "#Using pandas to show output\r\n",
        "df.head(10)"
      ],
      "execution_count": 89,
      "outputs": [
        {
          "output_type": "execute_result",
          "data": {
            "text/html": [
              "<div>\n",
              "<style scoped>\n",
              "    .dataframe tbody tr th:only-of-type {\n",
              "        vertical-align: middle;\n",
              "    }\n",
              "\n",
              "    .dataframe tbody tr th {\n",
              "        vertical-align: top;\n",
              "    }\n",
              "\n",
              "    .dataframe thead th {\n",
              "        text-align: right;\n",
              "    }\n",
              "</style>\n",
              "<table border=\"1\" class=\"dataframe\">\n",
              "  <thead>\n",
              "    <tr style=\"text-align: right;\">\n",
              "      <th></th>\n",
              "      <th>ProviderName</th>\n",
              "      <th>Average Fine Amount</th>\n",
              "    </tr>\n",
              "  </thead>\n",
              "  <tbody>\n",
              "    <tr>\n",
              "      <th>0</th>\n",
              "      <td>BURNS NURSING HOME, INC.</td>\n",
              "      <td>NaN</td>\n",
              "    </tr>\n",
              "    <tr>\n",
              "      <th>1</th>\n",
              "      <td>COOSA VALLEY HEALTHCARE CENTER</td>\n",
              "      <td>650.0</td>\n",
              "    </tr>\n",
              "    <tr>\n",
              "      <th>2</th>\n",
              "      <td>HIGHLANDS HEALTH AND REHAB</td>\n",
              "      <td>NaN</td>\n",
              "    </tr>\n",
              "    <tr>\n",
              "      <th>3</th>\n",
              "      <td>EASTVIEW REHABILITATION &amp; HEALTHCARE CENTER</td>\n",
              "      <td>NaN</td>\n",
              "    </tr>\n",
              "    <tr>\n",
              "      <th>4</th>\n",
              "      <td>PLANTATION MANOR NURSING HOME</td>\n",
              "      <td>14805.5</td>\n",
              "    </tr>\n",
              "    <tr>\n",
              "      <th>5</th>\n",
              "      <td>ATHENS HEALTH AND REHABILITATION LLC</td>\n",
              "      <td>NaN</td>\n",
              "    </tr>\n",
              "    <tr>\n",
              "      <th>6</th>\n",
              "      <td>MERRY WOOD LODGE</td>\n",
              "      <td>78677.0</td>\n",
              "    </tr>\n",
              "    <tr>\n",
              "      <th>7</th>\n",
              "      <td>HATLEY HEALTH CARE INC</td>\n",
              "      <td>NaN</td>\n",
              "    </tr>\n",
              "    <tr>\n",
              "      <th>8</th>\n",
              "      <td>SENIOR REHAB &amp; RECOVERY AT LIMESTONE HEALTH FA...</td>\n",
              "      <td>NaN</td>\n",
              "    </tr>\n",
              "    <tr>\n",
              "      <th>9</th>\n",
              "      <td>WETUMPKA HEALTH AND REHABILITATION, LLC</td>\n",
              "      <td>NaN</td>\n",
              "    </tr>\n",
              "  </tbody>\n",
              "</table>\n",
              "</div>"
            ],
            "text/plain": [
              "                                        ProviderName  Average Fine Amount\n",
              "0                           BURNS NURSING HOME, INC.                  NaN\n",
              "1                     COOSA VALLEY HEALTHCARE CENTER                650.0\n",
              "2                         HIGHLANDS HEALTH AND REHAB                  NaN\n",
              "3        EASTVIEW REHABILITATION & HEALTHCARE CENTER                  NaN\n",
              "4                      PLANTATION MANOR NURSING HOME              14805.5\n",
              "5               ATHENS HEALTH AND REHABILITATION LLC                  NaN\n",
              "6                                   MERRY WOOD LODGE              78677.0\n",
              "7                             HATLEY HEALTH CARE INC                  NaN\n",
              "8  SENIOR REHAB & RECOVERY AT LIMESTONE HEALTH FA...                  NaN\n",
              "9            WETUMPKA HEALTH AND REHABILITATION, LLC                  NaN"
            ]
          },
          "metadata": {
            "tags": []
          },
          "execution_count": 89
        }
      ]
    },
    {
      "cell_type": "markdown",
      "metadata": {
        "id": "WfYfIl2kQ5XH"
      },
      "source": [
        "The 'Average Fine Amount' cannot be computed because in many situations the NumberofFines = 0.  In this situation the <strong>CASE WHEN</strong> statement can be used to alleviate this issue. \r\n",
        "\r\n",
        "$$AverageFine = \\Bigg\\{ \\begin{array} \\tiny{\\frac{\\mbox{Total Amount of Fines}}{\\mbox{Number of Fines}}} & when & \\mbox{Number of Fines} > 0\\\\\r\n",
        "0 &  when & \\mbox{Number of Fines} = 0\r\n",
        "\\end{array}$$"
      ]
    },
    {
      "cell_type": "code",
      "metadata": {
        "colab": {
          "base_uri": "https://localhost:8080/",
          "height": 348
        },
        "id": "SD5fDTwgQ5hB",
        "outputId": "8c2a04a1-9fa3-49e3-9bd8-e1007aa9e3ee"
      },
      "source": [
        "#Makign a connection\r\n",
        "connect_db = sqlite3.connect(\"/content/sample_data/NursingHomes.db\")\r\n",
        "\r\n",
        "#SQL Statement\r\n",
        "df = pd.read_sql_query(\"\"\"\r\n",
        "                          SELECT ProviderName, \r\n",
        "                                 CASE\r\n",
        "                                     WHEN NumberofFines > 0 THEN  (TotalAmountFines/NumberofFines)\r\n",
        "                                     ELSE 0\r\n",
        "                                 END AS 'Average Fine Amount' \r\n",
        "                          FROM Providers\r\n",
        "                       \"\"\"\r\n",
        "                          , connect_db)\r\n",
        "                       \r\n",
        "#Closing the connection\r\n",
        "connect_db.close()\r\n",
        "\r\n",
        "#Using pandas to show output\r\n",
        "df.head(10)"
      ],
      "execution_count": 86,
      "outputs": [
        {
          "output_type": "execute_result",
          "data": {
            "text/html": [
              "<div>\n",
              "<style scoped>\n",
              "    .dataframe tbody tr th:only-of-type {\n",
              "        vertical-align: middle;\n",
              "    }\n",
              "\n",
              "    .dataframe tbody tr th {\n",
              "        vertical-align: top;\n",
              "    }\n",
              "\n",
              "    .dataframe thead th {\n",
              "        text-align: right;\n",
              "    }\n",
              "</style>\n",
              "<table border=\"1\" class=\"dataframe\">\n",
              "  <thead>\n",
              "    <tr style=\"text-align: right;\">\n",
              "      <th></th>\n",
              "      <th>ProviderName</th>\n",
              "      <th>Average Fine Amount</th>\n",
              "    </tr>\n",
              "  </thead>\n",
              "  <tbody>\n",
              "    <tr>\n",
              "      <th>0</th>\n",
              "      <td>BURNS NURSING HOME, INC.</td>\n",
              "      <td>0.0</td>\n",
              "    </tr>\n",
              "    <tr>\n",
              "      <th>1</th>\n",
              "      <td>COOSA VALLEY HEALTHCARE CENTER</td>\n",
              "      <td>650.0</td>\n",
              "    </tr>\n",
              "    <tr>\n",
              "      <th>2</th>\n",
              "      <td>HIGHLANDS HEALTH AND REHAB</td>\n",
              "      <td>0.0</td>\n",
              "    </tr>\n",
              "    <tr>\n",
              "      <th>3</th>\n",
              "      <td>EASTVIEW REHABILITATION &amp; HEALTHCARE CENTER</td>\n",
              "      <td>0.0</td>\n",
              "    </tr>\n",
              "    <tr>\n",
              "      <th>4</th>\n",
              "      <td>PLANTATION MANOR NURSING HOME</td>\n",
              "      <td>14805.5</td>\n",
              "    </tr>\n",
              "    <tr>\n",
              "      <th>5</th>\n",
              "      <td>ATHENS HEALTH AND REHABILITATION LLC</td>\n",
              "      <td>0.0</td>\n",
              "    </tr>\n",
              "    <tr>\n",
              "      <th>6</th>\n",
              "      <td>MERRY WOOD LODGE</td>\n",
              "      <td>78677.0</td>\n",
              "    </tr>\n",
              "    <tr>\n",
              "      <th>7</th>\n",
              "      <td>HATLEY HEALTH CARE INC</td>\n",
              "      <td>0.0</td>\n",
              "    </tr>\n",
              "    <tr>\n",
              "      <th>8</th>\n",
              "      <td>SENIOR REHAB &amp; RECOVERY AT LIMESTONE HEALTH FA...</td>\n",
              "      <td>0.0</td>\n",
              "    </tr>\n",
              "    <tr>\n",
              "      <th>9</th>\n",
              "      <td>WETUMPKA HEALTH AND REHABILITATION, LLC</td>\n",
              "      <td>0.0</td>\n",
              "    </tr>\n",
              "  </tbody>\n",
              "</table>\n",
              "</div>"
            ],
            "text/plain": [
              "                                        ProviderName  Average Fine Amount\n",
              "0                           BURNS NURSING HOME, INC.                  0.0\n",
              "1                     COOSA VALLEY HEALTHCARE CENTER                650.0\n",
              "2                         HIGHLANDS HEALTH AND REHAB                  0.0\n",
              "3        EASTVIEW REHABILITATION & HEALTHCARE CENTER                  0.0\n",
              "4                      PLANTATION MANOR NURSING HOME              14805.5\n",
              "5               ATHENS HEALTH AND REHABILITATION LLC                  0.0\n",
              "6                                   MERRY WOOD LODGE              78677.0\n",
              "7                             HATLEY HEALTH CARE INC                  0.0\n",
              "8  SENIOR REHAB & RECOVERY AT LIMESTONE HEALTH FA...                  0.0\n",
              "9            WETUMPKA HEALTH AND REHABILITATION, LLC                  0.0"
            ]
          },
          "metadata": {
            "tags": []
          },
          "execution_count": 86
        }
      ]
    },
    {
      "cell_type": "markdown",
      "metadata": {
        "id": "eoxOm_XsqJMW"
      },
      "source": [
        "# Create New Field - STRING"
      ]
    },
    {
      "cell_type": "markdown",
      "metadata": {
        "id": "0QGL3Wu3sGTB"
      },
      "source": [
        "The <strong>SUBSTR</strong> statement in SQL can be used to obtain a subset of a string.  Similar to R/Python, the negative index can be used to start from the right-end of the string.\r\n",
        "\r\n",
        "<p align=\"center\">\r\n",
        "<font size=\"+2\">\r\n",
        "SUBSTR( <i>string</i>, start = ____, length = ____)\r\n",
        "</font>\r\n",
        "</p>"
      ]
    },
    {
      "cell_type": "code",
      "metadata": {
        "colab": {
          "base_uri": "https://localhost:8080/",
          "height": 348
        },
        "id": "dd3ijTvbRM-N",
        "outputId": "ae886a21-4950-489d-8ea6-d08d892b305d"
      },
      "source": [
        "#Makign a connection\r\n",
        "connect_db = sqlite3.connect(\"/content/sample_data/NursingHomes.db\")\r\n",
        "\r\n",
        "#SQL Statement\r\n",
        "df = pd.read_sql_query(\"\"\"\r\n",
        "                          SELECT SUM(TotalAmountFines) AS TotalFines , SUBSTR(ProviderCounty, -2, 2) AS State\r\n",
        "                          FROM Providers\r\n",
        "                          GROUP BY State\r\n",
        "                          ORDER BY TotalFines DESC\r\n",
        "                       \"\"\"\r\n",
        "                          , connect_db)\r\n",
        "                       \r\n",
        "#Closing the connection\r\n",
        "connect_db.close()\r\n",
        "\r\n",
        "#Using pandas to show output\r\n",
        "df.head(10)"
      ],
      "execution_count": 101,
      "outputs": [
        {
          "output_type": "execute_result",
          "data": {
            "text/html": [
              "<div>\n",
              "<style scoped>\n",
              "    .dataframe tbody tr th:only-of-type {\n",
              "        vertical-align: middle;\n",
              "    }\n",
              "\n",
              "    .dataframe tbody tr th {\n",
              "        vertical-align: top;\n",
              "    }\n",
              "\n",
              "    .dataframe thead th {\n",
              "        text-align: right;\n",
              "    }\n",
              "</style>\n",
              "<table border=\"1\" class=\"dataframe\">\n",
              "  <thead>\n",
              "    <tr style=\"text-align: right;\">\n",
              "      <th></th>\n",
              "      <th>TotalFines</th>\n",
              "      <th>State</th>\n",
              "    </tr>\n",
              "  </thead>\n",
              "  <tbody>\n",
              "    <tr>\n",
              "      <th>0</th>\n",
              "      <td>13788843.0</td>\n",
              "      <td>FL</td>\n",
              "    </tr>\n",
              "    <tr>\n",
              "      <th>1</th>\n",
              "      <td>13530114.0</td>\n",
              "      <td>NC</td>\n",
              "    </tr>\n",
              "    <tr>\n",
              "      <th>2</th>\n",
              "      <td>12768677.0</td>\n",
              "      <td>TX</td>\n",
              "    </tr>\n",
              "    <tr>\n",
              "      <th>3</th>\n",
              "      <td>11070843.0</td>\n",
              "      <td>MI</td>\n",
              "    </tr>\n",
              "    <tr>\n",
              "      <th>4</th>\n",
              "      <td>10420372.0</td>\n",
              "      <td>KY</td>\n",
              "    </tr>\n",
              "    <tr>\n",
              "      <th>5</th>\n",
              "      <td>7866628.0</td>\n",
              "      <td>PA</td>\n",
              "    </tr>\n",
              "    <tr>\n",
              "      <th>6</th>\n",
              "      <td>7235688.0</td>\n",
              "      <td>IN</td>\n",
              "    </tr>\n",
              "    <tr>\n",
              "      <th>7</th>\n",
              "      <td>6575031.0</td>\n",
              "      <td>GA</td>\n",
              "    </tr>\n",
              "    <tr>\n",
              "      <th>8</th>\n",
              "      <td>6527641.0</td>\n",
              "      <td>OH</td>\n",
              "    </tr>\n",
              "    <tr>\n",
              "      <th>9</th>\n",
              "      <td>6429331.0</td>\n",
              "      <td>MA</td>\n",
              "    </tr>\n",
              "  </tbody>\n",
              "</table>\n",
              "</div>"
            ],
            "text/plain": [
              "   TotalFines State\n",
              "0  13788843.0    FL\n",
              "1  13530114.0    NC\n",
              "2  12768677.0    TX\n",
              "3  11070843.0    MI\n",
              "4  10420372.0    KY\n",
              "5   7866628.0    PA\n",
              "6   7235688.0    IN\n",
              "7   6575031.0    GA\n",
              "8   6527641.0    OH\n",
              "9   6429331.0    MA"
            ]
          },
          "metadata": {
            "tags": []
          },
          "execution_count": 101
        }
      ]
    },
    {
      "cell_type": "code",
      "metadata": {
        "id": "hh2oK7NzswbT"
      },
      "source": [
        ""
      ],
      "execution_count": null,
      "outputs": []
    }
  ]
}