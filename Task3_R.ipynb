{
  "nbformat": 4,
  "nbformat_minor": 0,
  "metadata": {
    "colab": {
      "name": "Task3_R.ipynb",
      "provenance": [],
      "collapsed_sections": [],
      "authorship_tag": "ABX9TyNK1X/YYtAc9HFpkKfuTE/4",
      "include_colab_link": true
    },
    "kernelspec": {
      "name": "ir",
      "display_name": "R"
    }
  },
  "cells": [
    {
      "cell_type": "markdown",
      "metadata": {
        "id": "view-in-github",
        "colab_type": "text"
      },
      "source": [
        "<a href=\"https://colab.research.google.com/github/christophermalone/DSCI325/blob/main/Task3_R.ipynb\" target=\"_parent\"><img src=\"https://colab.research.google.com/assets/colab-badge.svg\" alt=\"Open In Colab\"/></a>"
      ]
    },
    {
      "cell_type": "markdown",
      "metadata": {
        "id": "ZQx7oVt6gPHg"
      },
      "source": [
        "# Task #3 - R:  CFPB Complaints Database in R\r\n",
        "Points: 15\r\n",
        "\r\n",
        "Due: Thrusday, Mar 11; 11:59PM"
      ]
    },
    {
      "cell_type": "markdown",
      "metadata": {
        "id": "OK2eYqWlotW-"
      },
      "source": [
        "\r\n",
        "\r\n",
        "---\r\n"
      ]
    },
    {
      "cell_type": "markdown",
      "metadata": {
        "id": "nkMWsigZgpkz"
      },
      "source": [
        "For this assignment, we will be working with the Consumer Financial Protection Bureau Complaints database.  The database contains complaints submitted by consumers against financial companies.  For example, a complaint against a credit card company can be submitted here.\r\n",
        "\r\n",
        "\r\n",
        "\r\n",
        "*   Data Source: https://www.consumerfinance.gov/data-research/consumer-complaints/\r\n",
        "*   Field Reference: https://cfpb.github.io/api/ccdb/fields.html\r\n",
        "\r\n",
        "\r\n",
        "The data files for this task are provided in the Task 3 folder in OneDrive.  \r\n",
        "\r\n",
        "*   [[ Link ]](https://mnscu-my.sharepoint.com/:f:/r/personal/aq7839yd_minnstate_edu/Documents/DSCI325?csf=1&web=1&e=tmR0W4) Complaints.csv: Complaints that have been filed after Jan 1, 2019\r\n",
        "*   [[ Link ]](https://mnscu-my.sharepoint.com/:f:/r/personal/aq7839yd_minnstate_edu/Documents/DSCI325?csf=1&web=1&e=tmR0W4) Population.csv: Population by zip code\r\n",
        "*   [[ Link ]](https://mnscu-my.sharepoint.com/:f:/r/personal/aq7839yd_minnstate_edu/Documents/DSCI325?csf=1&web=1&e=tmR0W4) Complaints.db: A database file containing both of the above files\r\n"
      ]
    },
    {
      "cell_type": "markdown",
      "metadata": {
        "id": "2gvLMdJjoosQ"
      },
      "source": [
        "\r\n",
        "\r\n",
        "---\r\n",
        "\r\n",
        "\r\n",
        "\r\n",
        "\r\n"
      ]
    },
    {
      "cell_type": "markdown",
      "metadata": {
        "id": "wh4VAGFjozye"
      },
      "source": [
        "<strong>Task Requirements</strong>"
      ]
    },
    {
      "cell_type": "markdown",
      "metadata": {
        "id": "HzPqQ3-wo3AO"
      },
      "source": [
        "Answer the following questions for this task.  Most of these questions should be answered using the FILTER() verb.  For some, you will need to use SELECT() and #3 and #4 will make use of group_by(), summarize(), and arrange().\r\n",
        "\r\n",
        "\r\n",
        "1.   How many complaints were filed in MN?\r\n",
        "2.   How many complaints in MN had Product = Mortgage?\r\n",
        "3.   What are the most common issues with complaints in MN with Product = *Mortgage*?\r\n",
        "4.   What are the most common issues with complaints in MN with Product = *Vehicle loan or lease* ?  In what ways does this list of issues differ from the list for mortages?  Discuss.\r\n",
        "5.   A friend of mine is considering refinancing their mortgage.  The bank she is working with is ASSOCIATED BANC-CORP.  How many complaints does this bank have for mortgages?\r\n",
        "6.  Consider again mortgage complaints for ASSOCIATED BANC-CORP.  Proivde a dataframe that includes the actual narrative for the complaint and the banks response and action taken.  That is, the dataframe should include only the following columns: Consumer Narrative, Company Response, and Company Action.\r\n",
        "7. Consider the entire complaints database.  How many of the complaints did not include a narrative by the consumer?\r\n",
        "8. COVID caused many people to lose their jobs. As a result the government took quick action soon after the pandemic started to limit the number of people that would forced out of their homes due to late mortgage payments. Determine how many compliants use the term foreclose or foreclosure in their narrative. Only include complaints received after say, April 1, 2020 as the CARES Act was passed in late March 2020.\r\n",
        "<strong>Note</strong>: I used the grepl() function to search for these terms within the narrative.\r\n",
        "9. Repeat #8, but also include the term forclosure in your search. This is simply a misspelling of our key search term.  Did this change the number of complaints returned?   Why might this be problematic in practice?  Discuss.\r\n",
        "\r\n"
      ]
    },
    {
      "cell_type": "markdown",
      "metadata": {
        "id": "TYZdbH8C0mrS"
      },
      "source": [
        "<strong>Turn In</strong>\r\n",
        "\r\n",
        "\r\n",
        "\r\n",
        "1.   A Google Colab document that includes all your code used to answer each question.\r\n",
        "2.   Clearly provide answers (and discussions when requested) to all questions. \r\n",
        "\r\n"
      ]
    }
  ]
}