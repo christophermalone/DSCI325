{
  "nbformat": 4,
  "nbformat_minor": 0,
  "metadata": {
    "colab": {
      "name": "Module3_Part1_Python.ipynb",
      "provenance": [],
      "toc_visible": true,
      "authorship_tag": "ABX9TyPLKkRSDMnbyqKGI16tE94W",
      "include_colab_link": true
    },
    "kernelspec": {
      "name": "python3",
      "display_name": "Python 3"
    }
  },
  "cells": [
    {
      "cell_type": "markdown",
      "metadata": {
        "id": "view-in-github",
        "colab_type": "text"
      },
      "source": [
        "<a href=\"https://colab.research.google.com/github/christophermalone/DSCI325/blob/main/Module3_Part1_Python.ipynb\" target=\"_parent\"><img src=\"https://colab.research.google.com/assets/colab-badge.svg\" alt=\"Open In Colab\"/></a>"
      ]
    },
    {
      "cell_type": "markdown",
      "metadata": {
        "id": "ZTENuMzNtZtg"
      },
      "source": [
        "# Module 3 | Part 1 | Python: SELECT()\r\n",
        "\r\n",
        "This notebook will discuss the use of the SELECT() data verb in Python.\r\n"
      ]
    },
    {
      "cell_type": "markdown",
      "metadata": {
        "id": "3TRW1byehZ_q"
      },
      "source": [
        "<table width='100%' ><tr><td bgcolor='green'></td></tr></table>\r\n",
        "\r\n",
        "### Example 3.1.1P\r\n",
        "Consider the employement rates of various countries around the world. This data is presented for each quarter over a three year period. \r\n",
        "\r\n",
        "\r\n",
        "*   Q1: January - March\r\n",
        "*   Q2: April - June\r\n",
        "*   Q3: July - September\r\n",
        "*   Q4: October - December\r\n",
        "\r\n",
        "\r\n",
        " \r\n",
        "<br>Original Data Source: https://stats.oecd.org/Index.aspx?DatasetCode=STLABOUR#\r\n",
        "\r\n",
        "<table width='100%' ><tr><td bgcolor='green'></td></tr></table>"
      ]
    },
    {
      "cell_type": "markdown",
      "metadata": {
        "id": "E2VZ2c8AhorB"
      },
      "source": [
        "\r\n",
        "\r\n",
        "A snipit of the <strong>OECD_EmploymentRates</strong> data set is provided here.\r\n",
        "\r\n",
        "<strong>Note</strong>: In Python, the column (and row) numbers start with 0 (not 1).\r\n",
        "\r\n",
        "<p align='center'><img src=\"https://drive.google.com/uc?export=view&id=16gPBcOT8HEw4TrTrBHiToPqPMAta5ujp\"></p>"
      ]
    },
    {
      "cell_type": "markdown",
      "metadata": {
        "id": "5ccKLHxZt-sT"
      },
      "source": [
        "Currently, the most common Python package for the management and manuipulation of data is pandas.\r\n",
        "\r\n",
        "The followin command will import this package.  Partiuclar functions within pandas are invoked through a chaining of names.  The local name for the pandas suite of functions is <strong>pd</strong> here."
      ]
    },
    {
      "cell_type": "code",
      "metadata": {
        "id": "KkQhIHK9t7Qx"
      },
      "source": [
        "import pandas as pd"
      ],
      "execution_count": 7,
      "outputs": []
    },
    {
      "cell_type": "markdown",
      "metadata": {
        "id": "l7MOGhvfwfnS"
      },
      "source": [
        "Now, to invoke the <strong>read_csv()</strong> function within the pandas package, the following syntax is used <strong>pd.read_csv()</strong>.  The name of the dataframe being read into Python is EmploymentData."
      ]
    },
    {
      "cell_type": "code",
      "metadata": {
        "id": "zTEtyIHTwgmD"
      },
      "source": [
        "EmploymentRates = pd.read_csv(\"/content/sample_data/OECD_EmploymentRates.csv\") "
      ],
      "execution_count": 8,
      "outputs": []
    },
    {
      "cell_type": "markdown",
      "metadata": {
        "id": "yl1UgVGpwqzi"
      },
      "source": [
        "To view the first few lines of the EmploymentRates dataframe, the following command is used."
      ]
    },
    {
      "cell_type": "code",
      "metadata": {
        "colab": {
          "base_uri": "https://localhost:8080/",
          "height": 197
        },
        "id": "YEPK2fUAwq7S",
        "outputId": "74211ccc-412b-4d29-da70-d1a1b71d0315"
      },
      "source": [
        "EmploymentRates.head()"
      ],
      "execution_count": 9,
      "outputs": [
        {
          "output_type": "execute_result",
          "data": {
            "text/html": [
              "<div>\n",
              "<style scoped>\n",
              "    .dataframe tbody tr th:only-of-type {\n",
              "        vertical-align: middle;\n",
              "    }\n",
              "\n",
              "    .dataframe tbody tr th {\n",
              "        vertical-align: top;\n",
              "    }\n",
              "\n",
              "    .dataframe thead th {\n",
              "        text-align: right;\n",
              "    }\n",
              "</style>\n",
              "<table border=\"1\" class=\"dataframe\">\n",
              "  <thead>\n",
              "    <tr style=\"text-align: right;\">\n",
              "      <th></th>\n",
              "      <th>Country</th>\n",
              "      <th>WorldRegion</th>\n",
              "      <th>Q1_Year1</th>\n",
              "      <th>Q2_Year1</th>\n",
              "      <th>Q3_Year1</th>\n",
              "      <th>Q4_Year1</th>\n",
              "      <th>Q1_Year2</th>\n",
              "      <th>Q2_Year2</th>\n",
              "      <th>Q3_Year2</th>\n",
              "      <th>Q4_Year2</th>\n",
              "      <th>Q1_Year3</th>\n",
              "      <th>Q2_Year3</th>\n",
              "      <th>Q3_Year3</th>\n",
              "      <th>Q4_Year3</th>\n",
              "    </tr>\n",
              "  </thead>\n",
              "  <tbody>\n",
              "    <tr>\n",
              "      <th>0</th>\n",
              "      <td>Australia</td>\n",
              "      <td>Oceania</td>\n",
              "      <td>73.7</td>\n",
              "      <td>73.6</td>\n",
              "      <td>73.7</td>\n",
              "      <td>74.0</td>\n",
              "      <td>74.1</td>\n",
              "      <td>74.2</td>\n",
              "      <td>74.4</td>\n",
              "      <td>74.4</td>\n",
              "      <td>74.6</td>\n",
              "      <td>70.5</td>\n",
              "      <td>72.0</td>\n",
              "      <td>73.5</td>\n",
              "    </tr>\n",
              "    <tr>\n",
              "      <th>1</th>\n",
              "      <td>Austria</td>\n",
              "      <td>Europe</td>\n",
              "      <td>72.8</td>\n",
              "      <td>73.1</td>\n",
              "      <td>73.1</td>\n",
              "      <td>73.1</td>\n",
              "      <td>73.5</td>\n",
              "      <td>73.6</td>\n",
              "      <td>73.5</td>\n",
              "      <td>73.6</td>\n",
              "      <td>73.2</td>\n",
              "      <td>71.4</td>\n",
              "      <td>72.7</td>\n",
              "      <td>NaN</td>\n",
              "    </tr>\n",
              "    <tr>\n",
              "      <th>2</th>\n",
              "      <td>Belgium</td>\n",
              "      <td>Europe</td>\n",
              "      <td>64.1</td>\n",
              "      <td>63.9</td>\n",
              "      <td>64.8</td>\n",
              "      <td>65.1</td>\n",
              "      <td>64.7</td>\n",
              "      <td>65.7</td>\n",
              "      <td>65.6</td>\n",
              "      <td>65.1</td>\n",
              "      <td>65.3</td>\n",
              "      <td>64.5</td>\n",
              "      <td>64.9</td>\n",
              "      <td>NaN</td>\n",
              "    </tr>\n",
              "    <tr>\n",
              "      <th>3</th>\n",
              "      <td>Canada</td>\n",
              "      <td>North America</td>\n",
              "      <td>73.4</td>\n",
              "      <td>73.4</td>\n",
              "      <td>73.6</td>\n",
              "      <td>73.8</td>\n",
              "      <td>73.9</td>\n",
              "      <td>74.2</td>\n",
              "      <td>74.2</td>\n",
              "      <td>74.1</td>\n",
              "      <td>73.0</td>\n",
              "      <td>64.7</td>\n",
              "      <td>70.2</td>\n",
              "      <td>72.0</td>\n",
              "    </tr>\n",
              "    <tr>\n",
              "      <th>4</th>\n",
              "      <td>Chile</td>\n",
              "      <td>South/Central America</td>\n",
              "      <td>64.3</td>\n",
              "      <td>64.3</td>\n",
              "      <td>63.7</td>\n",
              "      <td>64.0</td>\n",
              "      <td>63.8</td>\n",
              "      <td>64.2</td>\n",
              "      <td>64.4</td>\n",
              "      <td>63.9</td>\n",
              "      <td>63.3</td>\n",
              "      <td>51.2</td>\n",
              "      <td>52.6</td>\n",
              "      <td>56.3</td>\n",
              "    </tr>\n",
              "  </tbody>\n",
              "</table>\n",
              "</div>"
            ],
            "text/plain": [
              "     Country            WorldRegion  Q1_Year1  ...  Q2_Year3  Q3_Year3  Q4_Year3\n",
              "0  Australia                Oceania      73.7  ...      70.5      72.0      73.5\n",
              "1    Austria                 Europe      72.8  ...      71.4      72.7       NaN\n",
              "2    Belgium                 Europe      64.1  ...      64.5      64.9       NaN\n",
              "3     Canada          North America      73.4  ...      64.7      70.2      72.0\n",
              "4      Chile  South/Central America      64.3  ...      51.2      52.6      56.3\n",
              "\n",
              "[5 rows x 14 columns]"
            ]
          },
          "metadata": {
            "tags": []
          },
          "execution_count": 9
        }
      ]
    },
    {
      "cell_type": "markdown",
      "metadata": {
        "id": "5iyj3Z1Pxp_d"
      },
      "source": [
        "## Base Python"
      ]
    },
    {
      "cell_type": "markdown",
      "metadata": {
        "id": "A0D2379mjjZD"
      },
      "source": [
        "The iloc, short for index location, can be used to specify paricular columns (and rows)."
      ]
    },
    {
      "cell_type": "markdown",
      "metadata": {
        "id": "yBts0_cekHrf"
      },
      "source": [
        "\r\n",
        "\r\n",
        "<p align='center'><img src=\"https://drive.google.com/uc?export=view&id=1YCwYxCvEEX3J-UPX5IcRULy33xTZYTZk\"></p>"
      ]
    },
    {
      "cell_type": "markdown",
      "metadata": {
        "id": "MXYKwKackQIz"
      },
      "source": [
        "The following can be used to get the first 6 columns of the EmploymentData dataframe. The : is a placeholder and specifies that *all* rows should be included.\r\n",
        "\r\n",
        "<strong>Note:</strong>: The columns retrieved are columns 0 through 5 here."
      ]
    },
    {
      "cell_type": "code",
      "metadata": {
        "id": "DKwlq9xQxqQd"
      },
      "source": [
        "EmploymentRates.iloc[:,0:6]"
      ],
      "execution_count": null,
      "outputs": []
    },
    {
      "cell_type": "markdown",
      "metadata": {
        "id": "NOhrSw46lpaE"
      },
      "source": [
        "The following variation can be used to select columns be name (instead of position)."
      ]
    },
    {
      "cell_type": "code",
      "metadata": {
        "id": "87OAUiocw_R2"
      },
      "source": [
        "Year1Data = EmploymentRates[[\"Q1_Year1\",\"Q2_Year1\",\"Q3_Year1\",\"Q4_Year1\"]]"
      ],
      "execution_count": 14,
      "outputs": []
    },
    {
      "cell_type": "markdown",
      "metadata": {
        "id": "TbWmw0OPxRWc"
      },
      "source": [
        "Using the head() function to look at the first few rows of this dataframe."
      ]
    },
    {
      "cell_type": "code",
      "metadata": {
        "id": "dZo7WBAMxReO"
      },
      "source": [
        "Year1Data.head(15)"
      ],
      "execution_count": null,
      "outputs": []
    },
    {
      "cell_type": "markdown",
      "metadata": {
        "id": "HFooAdHzzjtA"
      },
      "source": [
        "## dfply package"
      ]
    },
    {
      "cell_type": "markdown",
      "metadata": {
        "id": "7Yoys_c3mOhH"
      },
      "source": [
        "The following <strong>pip</strong> command is used to download the code for a python package called dfply.  The dfply package is akin to dplyr in R."
      ]
    },
    {
      "cell_type": "code",
      "metadata": {
        "colab": {
          "base_uri": "https://localhost:8080/"
        },
        "id": "NFA8cCbxzjyh",
        "outputId": "87b25057-6626-4ac2-d1f1-a81feab90a78"
      },
      "source": [
        "pip install dfply"
      ],
      "execution_count": 16,
      "outputs": [
        {
          "output_type": "stream",
          "text": [
            "Collecting dfply\n",
            "\u001b[?25l  Downloading https://files.pythonhosted.org/packages/53/91/18ab48c64661252dadff685f8ddbc6f456302923918f488714ee2345d49b/dfply-0.3.3-py3-none-any.whl (612kB)\n",
            "\r\u001b[K     |▌                               | 10kB 14.6MB/s eta 0:00:01\r\u001b[K     |█                               | 20kB 20.0MB/s eta 0:00:01\r\u001b[K     |█▋                              | 30kB 13.1MB/s eta 0:00:01\r\u001b[K     |██▏                             | 40kB 9.3MB/s eta 0:00:01\r\u001b[K     |██▊                             | 51kB 8.3MB/s eta 0:00:01\r\u001b[K     |███▏                            | 61kB 8.9MB/s eta 0:00:01\r\u001b[K     |███▊                            | 71kB 8.4MB/s eta 0:00:01\r\u001b[K     |████▎                           | 81kB 9.3MB/s eta 0:00:01\r\u001b[K     |████▉                           | 92kB 8.4MB/s eta 0:00:01\r\u001b[K     |█████▍                          | 102kB 7.9MB/s eta 0:00:01\r\u001b[K     |█████▉                          | 112kB 7.9MB/s eta 0:00:01\r\u001b[K     |██████▍                         | 122kB 7.9MB/s eta 0:00:01\r\u001b[K     |███████                         | 133kB 7.9MB/s eta 0:00:01\r\u001b[K     |███████▌                        | 143kB 7.9MB/s eta 0:00:01\r\u001b[K     |████████                        | 153kB 7.9MB/s eta 0:00:01\r\u001b[K     |████████▋                       | 163kB 7.9MB/s eta 0:00:01\r\u001b[K     |█████████                       | 174kB 7.9MB/s eta 0:00:01\r\u001b[K     |█████████▋                      | 184kB 7.9MB/s eta 0:00:01\r\u001b[K     |██████████▏                     | 194kB 7.9MB/s eta 0:00:01\r\u001b[K     |██████████▊                     | 204kB 7.9MB/s eta 0:00:01\r\u001b[K     |███████████▎                    | 215kB 7.9MB/s eta 0:00:01\r\u001b[K     |███████████▊                    | 225kB 7.9MB/s eta 0:00:01\r\u001b[K     |████████████▎                   | 235kB 7.9MB/s eta 0:00:01\r\u001b[K     |████████████▉                   | 245kB 7.9MB/s eta 0:00:01\r\u001b[K     |█████████████▍                  | 256kB 7.9MB/s eta 0:00:01\r\u001b[K     |██████████████                  | 266kB 7.9MB/s eta 0:00:01\r\u001b[K     |██████████████▌                 | 276kB 7.9MB/s eta 0:00:01\r\u001b[K     |███████████████                 | 286kB 7.9MB/s eta 0:00:01\r\u001b[K     |███████████████▌                | 296kB 7.9MB/s eta 0:00:01\r\u001b[K     |████████████████                | 307kB 7.9MB/s eta 0:00:01\r\u001b[K     |████████████████▋               | 317kB 7.9MB/s eta 0:00:01\r\u001b[K     |█████████████████▏              | 327kB 7.9MB/s eta 0:00:01\r\u001b[K     |█████████████████▋              | 337kB 7.9MB/s eta 0:00:01\r\u001b[K     |██████████████████▏             | 348kB 7.9MB/s eta 0:00:01\r\u001b[K     |██████████████████▊             | 358kB 7.9MB/s eta 0:00:01\r\u001b[K     |███████████████████▎            | 368kB 7.9MB/s eta 0:00:01\r\u001b[K     |███████████████████▉            | 378kB 7.9MB/s eta 0:00:01\r\u001b[K     |████████████████████▎           | 389kB 7.9MB/s eta 0:00:01\r\u001b[K     |████████████████████▉           | 399kB 7.9MB/s eta 0:00:01\r\u001b[K     |█████████████████████▍          | 409kB 7.9MB/s eta 0:00:01\r\u001b[K     |██████████████████████          | 419kB 7.9MB/s eta 0:00:01\r\u001b[K     |██████████████████████▌         | 430kB 7.9MB/s eta 0:00:01\r\u001b[K     |███████████████████████         | 440kB 7.9MB/s eta 0:00:01\r\u001b[K     |███████████████████████▌        | 450kB 7.9MB/s eta 0:00:01\r\u001b[K     |████████████████████████        | 460kB 7.9MB/s eta 0:00:01\r\u001b[K     |████████████████████████▋       | 471kB 7.9MB/s eta 0:00:01\r\u001b[K     |█████████████████████████▏      | 481kB 7.9MB/s eta 0:00:01\r\u001b[K     |█████████████████████████▊      | 491kB 7.9MB/s eta 0:00:01\r\u001b[K     |██████████████████████████▏     | 501kB 7.9MB/s eta 0:00:01\r\u001b[K     |██████████████████████████▊     | 512kB 7.9MB/s eta 0:00:01\r\u001b[K     |███████████████████████████▎    | 522kB 7.9MB/s eta 0:00:01\r\u001b[K     |███████████████████████████▉    | 532kB 7.9MB/s eta 0:00:01\r\u001b[K     |████████████████████████████▍   | 542kB 7.9MB/s eta 0:00:01\r\u001b[K     |█████████████████████████████   | 552kB 7.9MB/s eta 0:00:01\r\u001b[K     |█████████████████████████████▍  | 563kB 7.9MB/s eta 0:00:01\r\u001b[K     |██████████████████████████████  | 573kB 7.9MB/s eta 0:00:01\r\u001b[K     |██████████████████████████████▌ | 583kB 7.9MB/s eta 0:00:01\r\u001b[K     |███████████████████████████████ | 593kB 7.9MB/s eta 0:00:01\r\u001b[K     |███████████████████████████████▋| 604kB 7.9MB/s eta 0:00:01\r\u001b[K     |████████████████████████████████| 614kB 7.9MB/s \n",
            "\u001b[?25hRequirement already satisfied: pandas in /usr/local/lib/python3.6/dist-packages (from dfply) (1.1.5)\n",
            "Requirement already satisfied: numpy in /usr/local/lib/python3.6/dist-packages (from dfply) (1.19.5)\n",
            "Requirement already satisfied: pytz>=2017.2 in /usr/local/lib/python3.6/dist-packages (from pandas->dfply) (2018.9)\n",
            "Requirement already satisfied: python-dateutil>=2.7.3 in /usr/local/lib/python3.6/dist-packages (from pandas->dfply) (2.8.1)\n",
            "Requirement already satisfied: six>=1.5 in /usr/local/lib/python3.6/dist-packages (from python-dateutil>=2.7.3->pandas->dfply) (1.15.0)\n",
            "Installing collected packages: dfply\n",
            "Successfully installed dfply-0.3.3\n"
          ],
          "name": "stdout"
        }
      ]
    },
    {
      "cell_type": "markdown",
      "metadata": {
        "id": "QC1KIfrVzpMq"
      },
      "source": [
        "The dfply code has been downloaded, not import this code into the current iPython Notebook.  A name is not be specifed hear for the dfply package."
      ]
    },
    {
      "cell_type": "code",
      "metadata": {
        "id": "0HVm-b1yzpTg"
      },
      "source": [
        "from dfply import *"
      ],
      "execution_count": 18,
      "outputs": []
    },
    {
      "cell_type": "markdown",
      "metadata": {
        "id": "qTXF34YFzt3o"
      },
      "source": [
        "Using the select() function within the dfply package to select the Country and WorldRegion fieds.  Consider the following specifictions in this code.\r\n",
        "\r\n",
        "\r\n",
        "*   Piping in dfply is accomplished using >>\r\n",
        "*   The open and closed parentheses are used to group the sequence of commands\r\n",
        "*   The X. is used to generically identify the dataframe being passed into the select() function.\r\n",
        "*   The name of the returned dataframe is mysubet \r\n",
        "\r\n"
      ]
    },
    {
      "cell_type": "code",
      "metadata": {
        "id": "UZYRZUFszt-L"
      },
      "source": [
        "#Piping in dfply and using select() to grab first two columns.\r\n",
        "mysubset = (\r\n",
        "             EmploymentRates\r\n",
        "             >> select(X.Country,X.WorldRegion)\r\n",
        "           )"
      ],
      "execution_count": 20,
      "outputs": []
    },
    {
      "cell_type": "markdown",
      "metadata": {
        "id": "okA_3p-Rz--f"
      },
      "source": [
        "Verify that the desired output is correct."
      ]
    },
    {
      "cell_type": "code",
      "metadata": {
        "colab": {
          "base_uri": "https://localhost:8080/",
          "height": 197
        },
        "id": "1pytOYyQz_GP",
        "outputId": "2ecb76a0-131a-4bb6-dc41-f8ac3d7d6488"
      },
      "source": [
        "mysubset.head()"
      ],
      "execution_count": 23,
      "outputs": [
        {
          "output_type": "execute_result",
          "data": {
            "text/html": [
              "<div>\n",
              "<style scoped>\n",
              "    .dataframe tbody tr th:only-of-type {\n",
              "        vertical-align: middle;\n",
              "    }\n",
              "\n",
              "    .dataframe tbody tr th {\n",
              "        vertical-align: top;\n",
              "    }\n",
              "\n",
              "    .dataframe thead th {\n",
              "        text-align: right;\n",
              "    }\n",
              "</style>\n",
              "<table border=\"1\" class=\"dataframe\">\n",
              "  <thead>\n",
              "    <tr style=\"text-align: right;\">\n",
              "      <th></th>\n",
              "      <th>Country</th>\n",
              "      <th>WorldRegion</th>\n",
              "    </tr>\n",
              "  </thead>\n",
              "  <tbody>\n",
              "    <tr>\n",
              "      <th>0</th>\n",
              "      <td>Australia</td>\n",
              "      <td>Oceania</td>\n",
              "    </tr>\n",
              "    <tr>\n",
              "      <th>1</th>\n",
              "      <td>Austria</td>\n",
              "      <td>Europe</td>\n",
              "    </tr>\n",
              "    <tr>\n",
              "      <th>2</th>\n",
              "      <td>Belgium</td>\n",
              "      <td>Europe</td>\n",
              "    </tr>\n",
              "    <tr>\n",
              "      <th>3</th>\n",
              "      <td>Canada</td>\n",
              "      <td>North America</td>\n",
              "    </tr>\n",
              "    <tr>\n",
              "      <th>4</th>\n",
              "      <td>Chile</td>\n",
              "      <td>South/Central America</td>\n",
              "    </tr>\n",
              "  </tbody>\n",
              "</table>\n",
              "</div>"
            ],
            "text/plain": [
              "     Country            WorldRegion\n",
              "0  Australia                Oceania\n",
              "1    Austria                 Europe\n",
              "2    Belgium                 Europe\n",
              "3     Canada          North America\n",
              "4      Chile  South/Central America"
            ]
          },
          "metadata": {
            "tags": []
          },
          "execution_count": 23
        }
      ]
    },
    {
      "cell_type": "markdown",
      "metadata": {
        "id": "k4A-hDbbpJAZ"
      },
      "source": [
        "Similar to other languages, there exists a <strong>negation</strong> argument.  The ~ character is used for negation."
      ]
    },
    {
      "cell_type": "code",
      "metadata": {
        "colab": {
          "base_uri": "https://localhost:8080/",
          "height": 197
        },
        "id": "gBJBFXTWpJKY",
        "outputId": "d2911785-7d07-4e44-c07d-6f3bccbea080"
      },
      "source": [
        "#Using ~ as a negation in the selection\r\n",
        "mysubset = (\r\n",
        "             EmploymentRates\r\n",
        "             >> select(~X.WorldRegion)\r\n",
        "           )\r\n",
        "\r\n",
        "mysubset.head()"
      ],
      "execution_count": 35,
      "outputs": [
        {
          "output_type": "execute_result",
          "data": {
            "text/html": [
              "<div>\n",
              "<style scoped>\n",
              "    .dataframe tbody tr th:only-of-type {\n",
              "        vertical-align: middle;\n",
              "    }\n",
              "\n",
              "    .dataframe tbody tr th {\n",
              "        vertical-align: top;\n",
              "    }\n",
              "\n",
              "    .dataframe thead th {\n",
              "        text-align: right;\n",
              "    }\n",
              "</style>\n",
              "<table border=\"1\" class=\"dataframe\">\n",
              "  <thead>\n",
              "    <tr style=\"text-align: right;\">\n",
              "      <th></th>\n",
              "      <th>Country</th>\n",
              "      <th>Q1_Year1</th>\n",
              "      <th>Q2_Year1</th>\n",
              "      <th>Q3_Year1</th>\n",
              "      <th>Q4_Year1</th>\n",
              "      <th>Q1_Year2</th>\n",
              "      <th>Q2_Year2</th>\n",
              "      <th>Q3_Year2</th>\n",
              "      <th>Q4_Year2</th>\n",
              "      <th>Q1_Year3</th>\n",
              "      <th>Q2_Year3</th>\n",
              "      <th>Q3_Year3</th>\n",
              "      <th>Q4_Year3</th>\n",
              "    </tr>\n",
              "  </thead>\n",
              "  <tbody>\n",
              "    <tr>\n",
              "      <th>0</th>\n",
              "      <td>Australia</td>\n",
              "      <td>73.7</td>\n",
              "      <td>73.6</td>\n",
              "      <td>73.7</td>\n",
              "      <td>74.0</td>\n",
              "      <td>74.1</td>\n",
              "      <td>74.2</td>\n",
              "      <td>74.4</td>\n",
              "      <td>74.4</td>\n",
              "      <td>74.6</td>\n",
              "      <td>70.5</td>\n",
              "      <td>72.0</td>\n",
              "      <td>73.5</td>\n",
              "    </tr>\n",
              "    <tr>\n",
              "      <th>1</th>\n",
              "      <td>Austria</td>\n",
              "      <td>72.8</td>\n",
              "      <td>73.1</td>\n",
              "      <td>73.1</td>\n",
              "      <td>73.1</td>\n",
              "      <td>73.5</td>\n",
              "      <td>73.6</td>\n",
              "      <td>73.5</td>\n",
              "      <td>73.6</td>\n",
              "      <td>73.2</td>\n",
              "      <td>71.4</td>\n",
              "      <td>72.7</td>\n",
              "      <td>NaN</td>\n",
              "    </tr>\n",
              "    <tr>\n",
              "      <th>2</th>\n",
              "      <td>Belgium</td>\n",
              "      <td>64.1</td>\n",
              "      <td>63.9</td>\n",
              "      <td>64.8</td>\n",
              "      <td>65.1</td>\n",
              "      <td>64.7</td>\n",
              "      <td>65.7</td>\n",
              "      <td>65.6</td>\n",
              "      <td>65.1</td>\n",
              "      <td>65.3</td>\n",
              "      <td>64.5</td>\n",
              "      <td>64.9</td>\n",
              "      <td>NaN</td>\n",
              "    </tr>\n",
              "    <tr>\n",
              "      <th>3</th>\n",
              "      <td>Canada</td>\n",
              "      <td>73.4</td>\n",
              "      <td>73.4</td>\n",
              "      <td>73.6</td>\n",
              "      <td>73.8</td>\n",
              "      <td>73.9</td>\n",
              "      <td>74.2</td>\n",
              "      <td>74.2</td>\n",
              "      <td>74.1</td>\n",
              "      <td>73.0</td>\n",
              "      <td>64.7</td>\n",
              "      <td>70.2</td>\n",
              "      <td>72.0</td>\n",
              "    </tr>\n",
              "    <tr>\n",
              "      <th>4</th>\n",
              "      <td>Chile</td>\n",
              "      <td>64.3</td>\n",
              "      <td>64.3</td>\n",
              "      <td>63.7</td>\n",
              "      <td>64.0</td>\n",
              "      <td>63.8</td>\n",
              "      <td>64.2</td>\n",
              "      <td>64.4</td>\n",
              "      <td>63.9</td>\n",
              "      <td>63.3</td>\n",
              "      <td>51.2</td>\n",
              "      <td>52.6</td>\n",
              "      <td>56.3</td>\n",
              "    </tr>\n",
              "  </tbody>\n",
              "</table>\n",
              "</div>"
            ],
            "text/plain": [
              "     Country  Q1_Year1  Q2_Year1  ...  Q2_Year3  Q3_Year3  Q4_Year3\n",
              "0  Australia      73.7      73.6  ...      70.5      72.0      73.5\n",
              "1    Austria      72.8      73.1  ...      71.4      72.7       NaN\n",
              "2    Belgium      64.1      63.9  ...      64.5      64.9       NaN\n",
              "3     Canada      73.4      73.4  ...      64.7      70.2      72.0\n",
              "4      Chile      64.3      64.3  ...      51.2      52.6      56.3\n",
              "\n",
              "[5 rows x 13 columns]"
            ]
          },
          "metadata": {
            "tags": []
          },
          "execution_count": 35
        }
      ]
    },
    {
      "cell_type": "markdown",
      "metadata": {
        "id": "A0XXkr_GnbpG"
      },
      "source": [
        "Similar to dplyr, there exist <strong>helper</strong> functions such as contains() to match particular patterns in the field names.  The following will return: Country, WorldRegion, and any columns whose name contains Year1."
      ]
    },
    {
      "cell_type": "code",
      "metadata": {
        "colab": {
          "base_uri": "https://localhost:8080/",
          "height": 197
        },
        "id": "2vklX8_RnbwU",
        "outputId": "6eb850e4-af85-4bd6-fdbb-69c2d72aa181"
      },
      "source": [
        "#Using contains() function inside select()\r\n",
        "mysubset = (\r\n",
        "          EmploymentRates \r\n",
        "          >> select(X.Country,X.WorldRegion,contains(\"Year1\"))\r\n",
        ")\r\n",
        "\r\n",
        "mysubset.head()"
      ],
      "execution_count": 39,
      "outputs": [
        {
          "output_type": "execute_result",
          "data": {
            "text/html": [
              "<div>\n",
              "<style scoped>\n",
              "    .dataframe tbody tr th:only-of-type {\n",
              "        vertical-align: middle;\n",
              "    }\n",
              "\n",
              "    .dataframe tbody tr th {\n",
              "        vertical-align: top;\n",
              "    }\n",
              "\n",
              "    .dataframe thead th {\n",
              "        text-align: right;\n",
              "    }\n",
              "</style>\n",
              "<table border=\"1\" class=\"dataframe\">\n",
              "  <thead>\n",
              "    <tr style=\"text-align: right;\">\n",
              "      <th></th>\n",
              "      <th>Country</th>\n",
              "      <th>WorldRegion</th>\n",
              "      <th>Q1_Year1</th>\n",
              "      <th>Q2_Year1</th>\n",
              "      <th>Q3_Year1</th>\n",
              "      <th>Q4_Year1</th>\n",
              "    </tr>\n",
              "  </thead>\n",
              "  <tbody>\n",
              "    <tr>\n",
              "      <th>0</th>\n",
              "      <td>Australia</td>\n",
              "      <td>Oceania</td>\n",
              "      <td>73.7</td>\n",
              "      <td>73.6</td>\n",
              "      <td>73.7</td>\n",
              "      <td>74.0</td>\n",
              "    </tr>\n",
              "    <tr>\n",
              "      <th>1</th>\n",
              "      <td>Austria</td>\n",
              "      <td>Europe</td>\n",
              "      <td>72.8</td>\n",
              "      <td>73.1</td>\n",
              "      <td>73.1</td>\n",
              "      <td>73.1</td>\n",
              "    </tr>\n",
              "    <tr>\n",
              "      <th>2</th>\n",
              "      <td>Belgium</td>\n",
              "      <td>Europe</td>\n",
              "      <td>64.1</td>\n",
              "      <td>63.9</td>\n",
              "      <td>64.8</td>\n",
              "      <td>65.1</td>\n",
              "    </tr>\n",
              "    <tr>\n",
              "      <th>3</th>\n",
              "      <td>Canada</td>\n",
              "      <td>North America</td>\n",
              "      <td>73.4</td>\n",
              "      <td>73.4</td>\n",
              "      <td>73.6</td>\n",
              "      <td>73.8</td>\n",
              "    </tr>\n",
              "    <tr>\n",
              "      <th>4</th>\n",
              "      <td>Chile</td>\n",
              "      <td>South/Central America</td>\n",
              "      <td>64.3</td>\n",
              "      <td>64.3</td>\n",
              "      <td>63.7</td>\n",
              "      <td>64.0</td>\n",
              "    </tr>\n",
              "  </tbody>\n",
              "</table>\n",
              "</div>"
            ],
            "text/plain": [
              "     Country            WorldRegion  Q1_Year1  Q2_Year1  Q3_Year1  Q4_Year1\n",
              "0  Australia                Oceania      73.7      73.6      73.7      74.0\n",
              "1    Austria                 Europe      72.8      73.1      73.1      73.1\n",
              "2    Belgium                 Europe      64.1      63.9      64.8      65.1\n",
              "3     Canada          North America      73.4      73.4      73.6      73.8\n",
              "4      Chile  South/Central America      64.3      64.3      63.7      64.0"
            ]
          },
          "metadata": {
            "tags": []
          },
          "execution_count": 39
        }
      ]
    },
    {
      "cell_type": "markdown",
      "metadata": {
        "id": "TaaNEWRGpyWb"
      },
      "source": [
        "\r\n",
        "\r\n",
        "---\r\n",
        "\r\n"
      ]
    },
    {
      "cell_type": "markdown",
      "metadata": {
        "id": "3PpL-xx0p0w7"
      },
      "source": [
        "<strong>Questions</strong>:\r\n",
        "\r\n",
        "\r\n",
        "1.   Investigation whether or not dfply has a starts_with() function.  If so, modify the code above to select Country, WorldRegion, and columns that start with Q1.\r\n",
        "2.   The df.info() command is similar to the str() command in R.  Figure out how to use the .info() function to investigate the structure of the mysubset dataframe in the code above.\r\n",
        "\r\n"
      ]
    }
  ]
}