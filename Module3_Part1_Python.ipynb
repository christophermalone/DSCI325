{
  "nbformat": 4,
  "nbformat_minor": 0,
  "metadata": {
    "colab": {
      "name": "Module3_Part1_Python.ipynb",
      "provenance": [],
      "authorship_tag": "ABX9TyPFUw1SB4nxGNQ5GtjdKrhD",
      "include_colab_link": true
    },
    "kernelspec": {
      "name": "python3",
      "display_name": "Python 3"
    }
  },
  "cells": [
    {
      "cell_type": "markdown",
      "metadata": {
        "id": "view-in-github",
        "colab_type": "text"
      },
      "source": [
        "<a href=\"https://colab.research.google.com/github/christophermalone/DSCI325/blob/main/Module3_Part1_Python.ipynb\" target=\"_parent\"><img src=\"https://colab.research.google.com/assets/colab-badge.svg\" alt=\"Open In Colab\"/></a>"
      ]
    },
    {
      "cell_type": "markdown",
      "metadata": {
        "id": "ZTENuMzNtZtg"
      },
      "source": [
        "# Module 3 | Part 1 | Python: SELECT()\n",
        "\n",
        "This notebook will discuss the use of the SELECT() data verb in Python.\n"
      ]
    },
    {
      "cell_type": "markdown",
      "metadata": {
        "id": "3TRW1byehZ_q"
      },
      "source": [
        "<table width='100%' ><tr><td bgcolor='green'></td></tr></table>\n",
        "\n",
        "### Example 3.1.1P\n",
        "Consider the employement rates of various countries around the world. This data is presented for each quarter over a three year period. \n",
        "\n",
        "\n",
        "*   Q1: January - March\n",
        "*   Q2: April - June\n",
        "*   Q3: July - September\n",
        "*   Q4: October - December\n",
        "\n",
        "\n",
        " \n",
        "<br>Original Data Source: https://stats.oecd.org/Index.aspx?DatasetCode=STLABOUR#\n",
        "\n",
        "<table width='100%' ><tr><td bgcolor='green'></td></tr></table>"
      ]
    },
    {
      "cell_type": "markdown",
      "metadata": {
        "id": "E2VZ2c8AhorB"
      },
      "source": [
        "\n",
        "\n",
        "A snipit of the <strong>OECD_EmploymentRates</strong> data set is provided here.\n",
        "\n",
        "<strong>Note</strong>: In Python, the column (and row) numbers start with 0 (not 1).\n",
        "\n",
        "<p align='center'><img src=\"https://drive.google.com/uc?export=view&id=16gPBcOT8HEw4TrTrBHiToPqPMAta5ujp\"></p>"
      ]
    },
    {
      "cell_type": "markdown",
      "metadata": {
        "id": "5ccKLHxZt-sT"
      },
      "source": [
        "Currently, the most common Python package for the management and manuipulation of data is pandas.\n",
        "\n",
        "The followin command will import this package.  Partiuclar functions within pandas are invoked through a chaining of names.  The local name for the pandas suite of functions is <strong>pd</strong> here."
      ]
    },
    {
      "cell_type": "code",
      "metadata": {
        "id": "KkQhIHK9t7Qx"
      },
      "source": [
        "import pandas as pd"
      ],
      "execution_count": 1,
      "outputs": []
    },
    {
      "cell_type": "markdown",
      "metadata": {
        "id": "l7MOGhvfwfnS"
      },
      "source": [
        "Now, to invoke the <strong>read_csv()</strong> function within the pandas package, the following syntax is used <strong>pd.read_csv()</strong>.  The name of the dataframe being read into Python is EmploymentData."
      ]
    },
    {
      "cell_type": "code",
      "metadata": {
        "id": "zTEtyIHTwgmD"
      },
      "source": [
        " EmploymentRates = pd.read_csv(\"/content/sample_data/OECD_EmploymentRates.csv\") "
      ],
      "execution_count": 3,
      "outputs": []
    },
    {
      "cell_type": "markdown",
      "metadata": {
        "id": "yl1UgVGpwqzi"
      },
      "source": [
        "To view the first few lines of the EmploymentRates dataframe, the following command is used."
      ]
    },
    {
      "cell_type": "code",
      "metadata": {
        "colab": {
          "base_uri": "https://localhost:8080/",
          "height": 206
        },
        "id": "YEPK2fUAwq7S",
        "outputId": "bba3e546-3364-49d1-c298-cd0656d09a54"
      },
      "source": [
        "EmploymentRates.head()"
      ],
      "execution_count": 4,
      "outputs": [
        {
          "output_type": "execute_result",
          "data": {
            "text/html": [
              "\n",
              "  <div id=\"df-f405ae63-d367-441b-9210-5d9bbaf9e9b2\">\n",
              "    <div class=\"colab-df-container\">\n",
              "      <div>\n",
              "<style scoped>\n",
              "    .dataframe tbody tr th:only-of-type {\n",
              "        vertical-align: middle;\n",
              "    }\n",
              "\n",
              "    .dataframe tbody tr th {\n",
              "        vertical-align: top;\n",
              "    }\n",
              "\n",
              "    .dataframe thead th {\n",
              "        text-align: right;\n",
              "    }\n",
              "</style>\n",
              "<table border=\"1\" class=\"dataframe\">\n",
              "  <thead>\n",
              "    <tr style=\"text-align: right;\">\n",
              "      <th></th>\n",
              "      <th>Country</th>\n",
              "      <th>WorldRegion</th>\n",
              "      <th>Q1_Year1</th>\n",
              "      <th>Q2_Year1</th>\n",
              "      <th>Q3_Year1</th>\n",
              "      <th>Q4_Year1</th>\n",
              "      <th>Q1_Year2</th>\n",
              "      <th>Q2_Year2</th>\n",
              "      <th>Q3_Year2</th>\n",
              "      <th>Q4_Year2</th>\n",
              "      <th>Q1_Year3</th>\n",
              "      <th>Q2_Year3</th>\n",
              "      <th>Q3_Year3</th>\n",
              "      <th>Q4_Year3</th>\n",
              "    </tr>\n",
              "  </thead>\n",
              "  <tbody>\n",
              "    <tr>\n",
              "      <th>0</th>\n",
              "      <td>Australia</td>\n",
              "      <td>Oceania</td>\n",
              "      <td>73.7</td>\n",
              "      <td>73.6</td>\n",
              "      <td>73.7</td>\n",
              "      <td>74.0</td>\n",
              "      <td>74.1</td>\n",
              "      <td>74.2</td>\n",
              "      <td>74.4</td>\n",
              "      <td>74.4</td>\n",
              "      <td>74.6</td>\n",
              "      <td>70.5</td>\n",
              "      <td>72.0</td>\n",
              "      <td>73.5</td>\n",
              "    </tr>\n",
              "    <tr>\n",
              "      <th>1</th>\n",
              "      <td>Austria</td>\n",
              "      <td>Europe</td>\n",
              "      <td>72.8</td>\n",
              "      <td>73.1</td>\n",
              "      <td>73.1</td>\n",
              "      <td>73.1</td>\n",
              "      <td>73.5</td>\n",
              "      <td>73.6</td>\n",
              "      <td>73.5</td>\n",
              "      <td>73.6</td>\n",
              "      <td>73.2</td>\n",
              "      <td>71.4</td>\n",
              "      <td>72.7</td>\n",
              "      <td>NaN</td>\n",
              "    </tr>\n",
              "    <tr>\n",
              "      <th>2</th>\n",
              "      <td>Belgium</td>\n",
              "      <td>Europe</td>\n",
              "      <td>64.1</td>\n",
              "      <td>63.9</td>\n",
              "      <td>64.8</td>\n",
              "      <td>65.1</td>\n",
              "      <td>64.7</td>\n",
              "      <td>65.7</td>\n",
              "      <td>65.6</td>\n",
              "      <td>65.1</td>\n",
              "      <td>65.3</td>\n",
              "      <td>64.5</td>\n",
              "      <td>64.9</td>\n",
              "      <td>NaN</td>\n",
              "    </tr>\n",
              "    <tr>\n",
              "      <th>3</th>\n",
              "      <td>Canada</td>\n",
              "      <td>North America</td>\n",
              "      <td>73.4</td>\n",
              "      <td>73.4</td>\n",
              "      <td>73.6</td>\n",
              "      <td>73.8</td>\n",
              "      <td>73.9</td>\n",
              "      <td>74.2</td>\n",
              "      <td>74.2</td>\n",
              "      <td>74.1</td>\n",
              "      <td>73.0</td>\n",
              "      <td>64.7</td>\n",
              "      <td>70.2</td>\n",
              "      <td>72.0</td>\n",
              "    </tr>\n",
              "    <tr>\n",
              "      <th>4</th>\n",
              "      <td>Chile</td>\n",
              "      <td>South/Central America</td>\n",
              "      <td>64.3</td>\n",
              "      <td>64.3</td>\n",
              "      <td>63.7</td>\n",
              "      <td>64.0</td>\n",
              "      <td>63.8</td>\n",
              "      <td>64.2</td>\n",
              "      <td>64.4</td>\n",
              "      <td>63.9</td>\n",
              "      <td>63.3</td>\n",
              "      <td>51.2</td>\n",
              "      <td>52.6</td>\n",
              "      <td>56.3</td>\n",
              "    </tr>\n",
              "  </tbody>\n",
              "</table>\n",
              "</div>\n",
              "      <button class=\"colab-df-convert\" onclick=\"convertToInteractive('df-f405ae63-d367-441b-9210-5d9bbaf9e9b2')\"\n",
              "              title=\"Convert this dataframe to an interactive table.\"\n",
              "              style=\"display:none;\">\n",
              "        \n",
              "  <svg xmlns=\"http://www.w3.org/2000/svg\" height=\"24px\"viewBox=\"0 0 24 24\"\n",
              "       width=\"24px\">\n",
              "    <path d=\"M0 0h24v24H0V0z\" fill=\"none\"/>\n",
              "    <path d=\"M18.56 5.44l.94 2.06.94-2.06 2.06-.94-2.06-.94-.94-2.06-.94 2.06-2.06.94zm-11 1L8.5 8.5l.94-2.06 2.06-.94-2.06-.94L8.5 2.5l-.94 2.06-2.06.94zm10 10l.94 2.06.94-2.06 2.06-.94-2.06-.94-.94-2.06-.94 2.06-2.06.94z\"/><path d=\"M17.41 7.96l-1.37-1.37c-.4-.4-.92-.59-1.43-.59-.52 0-1.04.2-1.43.59L10.3 9.45l-7.72 7.72c-.78.78-.78 2.05 0 2.83L4 21.41c.39.39.9.59 1.41.59.51 0 1.02-.2 1.41-.59l7.78-7.78 2.81-2.81c.8-.78.8-2.07 0-2.86zM5.41 20L4 18.59l7.72-7.72 1.47 1.35L5.41 20z\"/>\n",
              "  </svg>\n",
              "      </button>\n",
              "      \n",
              "  <style>\n",
              "    .colab-df-container {\n",
              "      display:flex;\n",
              "      flex-wrap:wrap;\n",
              "      gap: 12px;\n",
              "    }\n",
              "\n",
              "    .colab-df-convert {\n",
              "      background-color: #E8F0FE;\n",
              "      border: none;\n",
              "      border-radius: 50%;\n",
              "      cursor: pointer;\n",
              "      display: none;\n",
              "      fill: #1967D2;\n",
              "      height: 32px;\n",
              "      padding: 0 0 0 0;\n",
              "      width: 32px;\n",
              "    }\n",
              "\n",
              "    .colab-df-convert:hover {\n",
              "      background-color: #E2EBFA;\n",
              "      box-shadow: 0px 1px 2px rgba(60, 64, 67, 0.3), 0px 1px 3px 1px rgba(60, 64, 67, 0.15);\n",
              "      fill: #174EA6;\n",
              "    }\n",
              "\n",
              "    [theme=dark] .colab-df-convert {\n",
              "      background-color: #3B4455;\n",
              "      fill: #D2E3FC;\n",
              "    }\n",
              "\n",
              "    [theme=dark] .colab-df-convert:hover {\n",
              "      background-color: #434B5C;\n",
              "      box-shadow: 0px 1px 3px 1px rgba(0, 0, 0, 0.15);\n",
              "      filter: drop-shadow(0px 1px 2px rgba(0, 0, 0, 0.3));\n",
              "      fill: #FFFFFF;\n",
              "    }\n",
              "  </style>\n",
              "\n",
              "      <script>\n",
              "        const buttonEl =\n",
              "          document.querySelector('#df-f405ae63-d367-441b-9210-5d9bbaf9e9b2 button.colab-df-convert');\n",
              "        buttonEl.style.display =\n",
              "          google.colab.kernel.accessAllowed ? 'block' : 'none';\n",
              "\n",
              "        async function convertToInteractive(key) {\n",
              "          const element = document.querySelector('#df-f405ae63-d367-441b-9210-5d9bbaf9e9b2');\n",
              "          const dataTable =\n",
              "            await google.colab.kernel.invokeFunction('convertToInteractive',\n",
              "                                                     [key], {});\n",
              "          if (!dataTable) return;\n",
              "\n",
              "          const docLinkHtml = 'Like what you see? Visit the ' +\n",
              "            '<a target=\"_blank\" href=https://colab.research.google.com/notebooks/data_table.ipynb>data table notebook</a>'\n",
              "            + ' to learn more about interactive tables.';\n",
              "          element.innerHTML = '';\n",
              "          dataTable['output_type'] = 'display_data';\n",
              "          await google.colab.output.renderOutput(dataTable, element);\n",
              "          const docLink = document.createElement('div');\n",
              "          docLink.innerHTML = docLinkHtml;\n",
              "          element.appendChild(docLink);\n",
              "        }\n",
              "      </script>\n",
              "    </div>\n",
              "  </div>\n",
              "  "
            ],
            "text/plain": [
              "     Country            WorldRegion  Q1_Year1  ...  Q2_Year3  Q3_Year3  Q4_Year3\n",
              "0  Australia                Oceania      73.7  ...      70.5      72.0      73.5\n",
              "1    Austria                 Europe      72.8  ...      71.4      72.7       NaN\n",
              "2    Belgium                 Europe      64.1  ...      64.5      64.9       NaN\n",
              "3     Canada          North America      73.4  ...      64.7      70.2      72.0\n",
              "4      Chile  South/Central America      64.3  ...      51.2      52.6      56.3\n",
              "\n",
              "[5 rows x 14 columns]"
            ]
          },
          "metadata": {},
          "execution_count": 4
        }
      ]
    },
    {
      "cell_type": "markdown",
      "metadata": {
        "id": "5iyj3Z1Pxp_d"
      },
      "source": [
        "## Base Python"
      ]
    },
    {
      "cell_type": "markdown",
      "metadata": {
        "id": "A0D2379mjjZD"
      },
      "source": [
        "The iloc, short for index location, can be used to specify paricular columns (and rows)."
      ]
    },
    {
      "cell_type": "markdown",
      "metadata": {
        "id": "yBts0_cekHrf"
      },
      "source": [
        "\n",
        "\n",
        "<p align='center'><img src=\"https://drive.google.com/uc?export=view&id=1YCwYxCvEEX3J-UPX5IcRULy33xTZYTZk\"></p>"
      ]
    },
    {
      "cell_type": "markdown",
      "metadata": {
        "id": "MXYKwKackQIz"
      },
      "source": [
        "The following can be used to get the first 6 columns of the EmploymentData dataframe. The : is a placeholder and specifies that *all* rows should be included.\n",
        "\n",
        "<strong>Note:</strong>: The columns retrieved are columns 0 through 5 here."
      ]
    },
    {
      "cell_type": "code",
      "metadata": {
        "id": "DKwlq9xQxqQd"
      },
      "source": [
        "EmploymentRates.iloc[:,0:6]"
      ],
      "execution_count": null,
      "outputs": []
    },
    {
      "cell_type": "markdown",
      "metadata": {
        "id": "NOhrSw46lpaE"
      },
      "source": [
        "The following variation can be used to select columns be name (instead of position)."
      ]
    },
    {
      "cell_type": "code",
      "metadata": {
        "id": "87OAUiocw_R2"
      },
      "source": [
        "Year1Data = EmploymentRates[[\"Q1_Year1\",\"Q2_Year1\",\"Q3_Year1\",\"Q4_Year1\"]]"
      ],
      "execution_count": 6,
      "outputs": []
    },
    {
      "cell_type": "markdown",
      "metadata": {
        "id": "TbWmw0OPxRWc"
      },
      "source": [
        "Using the head() function to look at the first few rows of this dataframe."
      ]
    },
    {
      "cell_type": "code",
      "metadata": {
        "id": "dZo7WBAMxReO"
      },
      "source": [
        "Year1Data.head(15)"
      ],
      "execution_count": null,
      "outputs": []
    },
    {
      "cell_type": "markdown",
      "metadata": {
        "id": "HFooAdHzzjtA"
      },
      "source": [
        "## dfply package"
      ]
    },
    {
      "cell_type": "markdown",
      "metadata": {
        "id": "7Yoys_c3mOhH"
      },
      "source": [
        "The following <strong>pip</strong> command is used to download the code for a python package called dfply.  The dfply package is akin to dplyr in R."
      ]
    },
    {
      "cell_type": "code",
      "metadata": {
        "colab": {
          "base_uri": "https://localhost:8080/"
        },
        "id": "NFA8cCbxzjyh",
        "outputId": "46371685-e1da-4b43-914b-2543dacead71"
      },
      "source": [
        "pip install dfply"
      ],
      "execution_count": 10,
      "outputs": [
        {
          "output_type": "stream",
          "name": "stdout",
          "text": [
            "Collecting dfply\n",
            "  Downloading dfply-0.3.3-py3-none-any.whl (612 kB)\n",
            "\u001b[?25l\r\u001b[K     |▌                               | 10 kB 36.7 MB/s eta 0:00:01\r\u001b[K     |█                               | 20 kB 10.8 MB/s eta 0:00:01\r\u001b[K     |█▋                              | 30 kB 9.2 MB/s eta 0:00:01\r\u001b[K     |██▏                             | 40 kB 8.5 MB/s eta 0:00:01\r\u001b[K     |██▊                             | 51 kB 5.0 MB/s eta 0:00:01\r\u001b[K     |███▏                            | 61 kB 5.5 MB/s eta 0:00:01\r\u001b[K     |███▊                            | 71 kB 5.5 MB/s eta 0:00:01\r\u001b[K     |████▎                           | 81 kB 6.1 MB/s eta 0:00:01\r\u001b[K     |████▉                           | 92 kB 4.7 MB/s eta 0:00:01\r\u001b[K     |█████▍                          | 102 kB 5.2 MB/s eta 0:00:01\r\u001b[K     |█████▉                          | 112 kB 5.2 MB/s eta 0:00:01\r\u001b[K     |██████▍                         | 122 kB 5.2 MB/s eta 0:00:01\r\u001b[K     |███████                         | 133 kB 5.2 MB/s eta 0:00:01\r\u001b[K     |███████▌                        | 143 kB 5.2 MB/s eta 0:00:01\r\u001b[K     |████████                        | 153 kB 5.2 MB/s eta 0:00:01\r\u001b[K     |████████▋                       | 163 kB 5.2 MB/s eta 0:00:01\r\u001b[K     |█████████                       | 174 kB 5.2 MB/s eta 0:00:01\r\u001b[K     |█████████▋                      | 184 kB 5.2 MB/s eta 0:00:01\r\u001b[K     |██████████▏                     | 194 kB 5.2 MB/s eta 0:00:01\r\u001b[K     |██████████▊                     | 204 kB 5.2 MB/s eta 0:00:01\r\u001b[K     |███████████▎                    | 215 kB 5.2 MB/s eta 0:00:01\r\u001b[K     |███████████▊                    | 225 kB 5.2 MB/s eta 0:00:01\r\u001b[K     |████████████▎                   | 235 kB 5.2 MB/s eta 0:00:01\r\u001b[K     |████████████▉                   | 245 kB 5.2 MB/s eta 0:00:01\r\u001b[K     |█████████████▍                  | 256 kB 5.2 MB/s eta 0:00:01\r\u001b[K     |██████████████                  | 266 kB 5.2 MB/s eta 0:00:01\r\u001b[K     |██████████████▌                 | 276 kB 5.2 MB/s eta 0:00:01\r\u001b[K     |███████████████                 | 286 kB 5.2 MB/s eta 0:00:01\r\u001b[K     |███████████████▌                | 296 kB 5.2 MB/s eta 0:00:01\r\u001b[K     |████████████████                | 307 kB 5.2 MB/s eta 0:00:01\r\u001b[K     |████████████████▋               | 317 kB 5.2 MB/s eta 0:00:01\r\u001b[K     |█████████████████▏              | 327 kB 5.2 MB/s eta 0:00:01\r\u001b[K     |█████████████████▋              | 337 kB 5.2 MB/s eta 0:00:01\r\u001b[K     |██████████████████▏             | 348 kB 5.2 MB/s eta 0:00:01\r\u001b[K     |██████████████████▊             | 358 kB 5.2 MB/s eta 0:00:01\r\u001b[K     |███████████████████▎            | 368 kB 5.2 MB/s eta 0:00:01\r\u001b[K     |███████████████████▉            | 378 kB 5.2 MB/s eta 0:00:01\r\u001b[K     |████████████████████▎           | 389 kB 5.2 MB/s eta 0:00:01\r\u001b[K     |████████████████████▉           | 399 kB 5.2 MB/s eta 0:00:01\r\u001b[K     |█████████████████████▍          | 409 kB 5.2 MB/s eta 0:00:01\r\u001b[K     |██████████████████████          | 419 kB 5.2 MB/s eta 0:00:01\r\u001b[K     |██████████████████████▌         | 430 kB 5.2 MB/s eta 0:00:01\r\u001b[K     |███████████████████████         | 440 kB 5.2 MB/s eta 0:00:01\r\u001b[K     |███████████████████████▌        | 450 kB 5.2 MB/s eta 0:00:01\r\u001b[K     |████████████████████████        | 460 kB 5.2 MB/s eta 0:00:01\r\u001b[K     |████████████████████████▋       | 471 kB 5.2 MB/s eta 0:00:01\r\u001b[K     |█████████████████████████▏      | 481 kB 5.2 MB/s eta 0:00:01\r\u001b[K     |█████████████████████████▊      | 491 kB 5.2 MB/s eta 0:00:01\r\u001b[K     |██████████████████████████▏     | 501 kB 5.2 MB/s eta 0:00:01\r\u001b[K     |██████████████████████████▊     | 512 kB 5.2 MB/s eta 0:00:01\r\u001b[K     |███████████████████████████▎    | 522 kB 5.2 MB/s eta 0:00:01\r\u001b[K     |███████████████████████████▉    | 532 kB 5.2 MB/s eta 0:00:01\r\u001b[K     |████████████████████████████▍   | 542 kB 5.2 MB/s eta 0:00:01\r\u001b[K     |█████████████████████████████   | 552 kB 5.2 MB/s eta 0:00:01\r\u001b[K     |█████████████████████████████▍  | 563 kB 5.2 MB/s eta 0:00:01\r\u001b[K     |██████████████████████████████  | 573 kB 5.2 MB/s eta 0:00:01\r\u001b[K     |██████████████████████████████▌ | 583 kB 5.2 MB/s eta 0:00:01\r\u001b[K     |███████████████████████████████ | 593 kB 5.2 MB/s eta 0:00:01\r\u001b[K     |███████████████████████████████▋| 604 kB 5.2 MB/s eta 0:00:01\r\u001b[K     |████████████████████████████████| 612 kB 5.2 MB/s \n",
            "\u001b[?25hRequirement already satisfied: numpy in /usr/local/lib/python3.7/dist-packages (from dfply) (1.19.5)\n",
            "Requirement already satisfied: pandas in /usr/local/lib/python3.7/dist-packages (from dfply) (1.3.5)\n",
            "Requirement already satisfied: python-dateutil>=2.7.3 in /usr/local/lib/python3.7/dist-packages (from pandas->dfply) (2.8.2)\n",
            "Requirement already satisfied: pytz>=2017.3 in /usr/local/lib/python3.7/dist-packages (from pandas->dfply) (2018.9)\n",
            "Requirement already satisfied: six>=1.5 in /usr/local/lib/python3.7/dist-packages (from python-dateutil>=2.7.3->pandas->dfply) (1.15.0)\n",
            "Installing collected packages: dfply\n",
            "Successfully installed dfply-0.3.3\n"
          ]
        }
      ]
    },
    {
      "cell_type": "markdown",
      "metadata": {
        "id": "QC1KIfrVzpMq"
      },
      "source": [
        "The dfply code has been downloaded, not import this code into the current iPython Notebook.  A name is not be specifed hear for the dfply package."
      ]
    },
    {
      "cell_type": "code",
      "metadata": {
        "id": "0HVm-b1yzpTg"
      },
      "source": [
        "from dfply import *"
      ],
      "execution_count": 11,
      "outputs": []
    },
    {
      "cell_type": "markdown",
      "metadata": {
        "id": "qTXF34YFzt3o"
      },
      "source": [
        "Using the select() function within the dfply package to select the Country and WorldRegion fieds.  Consider the following specifictions in this code.\n",
        "\n",
        "\n",
        "*   Piping in dfply is accomplished using >>\n",
        "*   The open and closed parentheses are used to group the sequence of commands\n",
        "*   The X. is used to generically identify the dataframe being passed into the select() function.\n",
        "*   The name of the returned dataframe is mysubet \n",
        "\n"
      ]
    },
    {
      "cell_type": "code",
      "metadata": {
        "id": "UZYRZUFszt-L"
      },
      "source": [
        "#Piping in dfply and using select() to grab first two columns.\n",
        "mysubset = (\n",
        "             EmploymentRates\n",
        "             >> select(X.Country,X.WorldRegion)\n",
        "           )"
      ],
      "execution_count": 12,
      "outputs": []
    },
    {
      "cell_type": "markdown",
      "metadata": {
        "id": "okA_3p-Rz--f"
      },
      "source": [
        "Verify that the desired output is correct."
      ]
    },
    {
      "cell_type": "code",
      "metadata": {
        "colab": {
          "base_uri": "https://localhost:8080/",
          "height": 206
        },
        "id": "1pytOYyQz_GP",
        "outputId": "80b5e549-cf3b-4c1b-fbc8-90a05dcaa195"
      },
      "source": [
        "mysubset.head()"
      ],
      "execution_count": 13,
      "outputs": [
        {
          "output_type": "execute_result",
          "data": {
            "text/html": [
              "\n",
              "  <div id=\"df-457fafdf-e34f-4a81-b062-e222257e00a6\">\n",
              "    <div class=\"colab-df-container\">\n",
              "      <div>\n",
              "<style scoped>\n",
              "    .dataframe tbody tr th:only-of-type {\n",
              "        vertical-align: middle;\n",
              "    }\n",
              "\n",
              "    .dataframe tbody tr th {\n",
              "        vertical-align: top;\n",
              "    }\n",
              "\n",
              "    .dataframe thead th {\n",
              "        text-align: right;\n",
              "    }\n",
              "</style>\n",
              "<table border=\"1\" class=\"dataframe\">\n",
              "  <thead>\n",
              "    <tr style=\"text-align: right;\">\n",
              "      <th></th>\n",
              "      <th>Country</th>\n",
              "      <th>WorldRegion</th>\n",
              "    </tr>\n",
              "  </thead>\n",
              "  <tbody>\n",
              "    <tr>\n",
              "      <th>0</th>\n",
              "      <td>Australia</td>\n",
              "      <td>Oceania</td>\n",
              "    </tr>\n",
              "    <tr>\n",
              "      <th>1</th>\n",
              "      <td>Austria</td>\n",
              "      <td>Europe</td>\n",
              "    </tr>\n",
              "    <tr>\n",
              "      <th>2</th>\n",
              "      <td>Belgium</td>\n",
              "      <td>Europe</td>\n",
              "    </tr>\n",
              "    <tr>\n",
              "      <th>3</th>\n",
              "      <td>Canada</td>\n",
              "      <td>North America</td>\n",
              "    </tr>\n",
              "    <tr>\n",
              "      <th>4</th>\n",
              "      <td>Chile</td>\n",
              "      <td>South/Central America</td>\n",
              "    </tr>\n",
              "  </tbody>\n",
              "</table>\n",
              "</div>\n",
              "      <button class=\"colab-df-convert\" onclick=\"convertToInteractive('df-457fafdf-e34f-4a81-b062-e222257e00a6')\"\n",
              "              title=\"Convert this dataframe to an interactive table.\"\n",
              "              style=\"display:none;\">\n",
              "        \n",
              "  <svg xmlns=\"http://www.w3.org/2000/svg\" height=\"24px\"viewBox=\"0 0 24 24\"\n",
              "       width=\"24px\">\n",
              "    <path d=\"M0 0h24v24H0V0z\" fill=\"none\"/>\n",
              "    <path d=\"M18.56 5.44l.94 2.06.94-2.06 2.06-.94-2.06-.94-.94-2.06-.94 2.06-2.06.94zm-11 1L8.5 8.5l.94-2.06 2.06-.94-2.06-.94L8.5 2.5l-.94 2.06-2.06.94zm10 10l.94 2.06.94-2.06 2.06-.94-2.06-.94-.94-2.06-.94 2.06-2.06.94z\"/><path d=\"M17.41 7.96l-1.37-1.37c-.4-.4-.92-.59-1.43-.59-.52 0-1.04.2-1.43.59L10.3 9.45l-7.72 7.72c-.78.78-.78 2.05 0 2.83L4 21.41c.39.39.9.59 1.41.59.51 0 1.02-.2 1.41-.59l7.78-7.78 2.81-2.81c.8-.78.8-2.07 0-2.86zM5.41 20L4 18.59l7.72-7.72 1.47 1.35L5.41 20z\"/>\n",
              "  </svg>\n",
              "      </button>\n",
              "      \n",
              "  <style>\n",
              "    .colab-df-container {\n",
              "      display:flex;\n",
              "      flex-wrap:wrap;\n",
              "      gap: 12px;\n",
              "    }\n",
              "\n",
              "    .colab-df-convert {\n",
              "      background-color: #E8F0FE;\n",
              "      border: none;\n",
              "      border-radius: 50%;\n",
              "      cursor: pointer;\n",
              "      display: none;\n",
              "      fill: #1967D2;\n",
              "      height: 32px;\n",
              "      padding: 0 0 0 0;\n",
              "      width: 32px;\n",
              "    }\n",
              "\n",
              "    .colab-df-convert:hover {\n",
              "      background-color: #E2EBFA;\n",
              "      box-shadow: 0px 1px 2px rgba(60, 64, 67, 0.3), 0px 1px 3px 1px rgba(60, 64, 67, 0.15);\n",
              "      fill: #174EA6;\n",
              "    }\n",
              "\n",
              "    [theme=dark] .colab-df-convert {\n",
              "      background-color: #3B4455;\n",
              "      fill: #D2E3FC;\n",
              "    }\n",
              "\n",
              "    [theme=dark] .colab-df-convert:hover {\n",
              "      background-color: #434B5C;\n",
              "      box-shadow: 0px 1px 3px 1px rgba(0, 0, 0, 0.15);\n",
              "      filter: drop-shadow(0px 1px 2px rgba(0, 0, 0, 0.3));\n",
              "      fill: #FFFFFF;\n",
              "    }\n",
              "  </style>\n",
              "\n",
              "      <script>\n",
              "        const buttonEl =\n",
              "          document.querySelector('#df-457fafdf-e34f-4a81-b062-e222257e00a6 button.colab-df-convert');\n",
              "        buttonEl.style.display =\n",
              "          google.colab.kernel.accessAllowed ? 'block' : 'none';\n",
              "\n",
              "        async function convertToInteractive(key) {\n",
              "          const element = document.querySelector('#df-457fafdf-e34f-4a81-b062-e222257e00a6');\n",
              "          const dataTable =\n",
              "            await google.colab.kernel.invokeFunction('convertToInteractive',\n",
              "                                                     [key], {});\n",
              "          if (!dataTable) return;\n",
              "\n",
              "          const docLinkHtml = 'Like what you see? Visit the ' +\n",
              "            '<a target=\"_blank\" href=https://colab.research.google.com/notebooks/data_table.ipynb>data table notebook</a>'\n",
              "            + ' to learn more about interactive tables.';\n",
              "          element.innerHTML = '';\n",
              "          dataTable['output_type'] = 'display_data';\n",
              "          await google.colab.output.renderOutput(dataTable, element);\n",
              "          const docLink = document.createElement('div');\n",
              "          docLink.innerHTML = docLinkHtml;\n",
              "          element.appendChild(docLink);\n",
              "        }\n",
              "      </script>\n",
              "    </div>\n",
              "  </div>\n",
              "  "
            ],
            "text/plain": [
              "     Country            WorldRegion\n",
              "0  Australia                Oceania\n",
              "1    Austria                 Europe\n",
              "2    Belgium                 Europe\n",
              "3     Canada          North America\n",
              "4      Chile  South/Central America"
            ]
          },
          "metadata": {},
          "execution_count": 13
        }
      ]
    },
    {
      "cell_type": "markdown",
      "metadata": {
        "id": "k4A-hDbbpJAZ"
      },
      "source": [
        "Similar to other languages, there exists a <strong>negation</strong> argument.  The ~ character is used for negation."
      ]
    },
    {
      "cell_type": "code",
      "metadata": {
        "id": "gBJBFXTWpJKY"
      },
      "source": [
        "#Using ~ as a negation in the selection\n",
        "mysubset = (\n",
        "             EmploymentRates\n",
        "             >> select(~X.WorldRegion)\n",
        "           )\n",
        "\n",
        "mysubset.head()"
      ],
      "execution_count": null,
      "outputs": []
    },
    {
      "cell_type": "markdown",
      "metadata": {
        "id": "A0XXkr_GnbpG"
      },
      "source": [
        "Similar to dplyr, there exist <strong>helper</strong> functions such as contains() to match particular patterns in the field names.  The following will return: Country, WorldRegion, and any columns whose name contains Year1."
      ]
    },
    {
      "cell_type": "code",
      "metadata": {
        "colab": {
          "base_uri": "https://localhost:8080/",
          "height": 206
        },
        "id": "2vklX8_RnbwU",
        "outputId": "b4d35208-f70d-43ba-ad48-073eddbecf73"
      },
      "source": [
        "#Using contains() function inside select()\n",
        "mysubset = (\n",
        "          EmploymentRates \n",
        "          >> select(X.Country,X.WorldRegion,contains(\"Year1\"))\n",
        ")\n",
        "\n",
        "mysubset.head()"
      ],
      "execution_count": 15,
      "outputs": [
        {
          "output_type": "execute_result",
          "data": {
            "text/html": [
              "\n",
              "  <div id=\"df-6d83f606-dafe-4177-a4bc-0e81153a82ad\">\n",
              "    <div class=\"colab-df-container\">\n",
              "      <div>\n",
              "<style scoped>\n",
              "    .dataframe tbody tr th:only-of-type {\n",
              "        vertical-align: middle;\n",
              "    }\n",
              "\n",
              "    .dataframe tbody tr th {\n",
              "        vertical-align: top;\n",
              "    }\n",
              "\n",
              "    .dataframe thead th {\n",
              "        text-align: right;\n",
              "    }\n",
              "</style>\n",
              "<table border=\"1\" class=\"dataframe\">\n",
              "  <thead>\n",
              "    <tr style=\"text-align: right;\">\n",
              "      <th></th>\n",
              "      <th>Country</th>\n",
              "      <th>WorldRegion</th>\n",
              "      <th>Q1_Year1</th>\n",
              "      <th>Q2_Year1</th>\n",
              "      <th>Q3_Year1</th>\n",
              "      <th>Q4_Year1</th>\n",
              "    </tr>\n",
              "  </thead>\n",
              "  <tbody>\n",
              "    <tr>\n",
              "      <th>0</th>\n",
              "      <td>Australia</td>\n",
              "      <td>Oceania</td>\n",
              "      <td>73.7</td>\n",
              "      <td>73.6</td>\n",
              "      <td>73.7</td>\n",
              "      <td>74.0</td>\n",
              "    </tr>\n",
              "    <tr>\n",
              "      <th>1</th>\n",
              "      <td>Austria</td>\n",
              "      <td>Europe</td>\n",
              "      <td>72.8</td>\n",
              "      <td>73.1</td>\n",
              "      <td>73.1</td>\n",
              "      <td>73.1</td>\n",
              "    </tr>\n",
              "    <tr>\n",
              "      <th>2</th>\n",
              "      <td>Belgium</td>\n",
              "      <td>Europe</td>\n",
              "      <td>64.1</td>\n",
              "      <td>63.9</td>\n",
              "      <td>64.8</td>\n",
              "      <td>65.1</td>\n",
              "    </tr>\n",
              "    <tr>\n",
              "      <th>3</th>\n",
              "      <td>Canada</td>\n",
              "      <td>North America</td>\n",
              "      <td>73.4</td>\n",
              "      <td>73.4</td>\n",
              "      <td>73.6</td>\n",
              "      <td>73.8</td>\n",
              "    </tr>\n",
              "    <tr>\n",
              "      <th>4</th>\n",
              "      <td>Chile</td>\n",
              "      <td>South/Central America</td>\n",
              "      <td>64.3</td>\n",
              "      <td>64.3</td>\n",
              "      <td>63.7</td>\n",
              "      <td>64.0</td>\n",
              "    </tr>\n",
              "  </tbody>\n",
              "</table>\n",
              "</div>\n",
              "      <button class=\"colab-df-convert\" onclick=\"convertToInteractive('df-6d83f606-dafe-4177-a4bc-0e81153a82ad')\"\n",
              "              title=\"Convert this dataframe to an interactive table.\"\n",
              "              style=\"display:none;\">\n",
              "        \n",
              "  <svg xmlns=\"http://www.w3.org/2000/svg\" height=\"24px\"viewBox=\"0 0 24 24\"\n",
              "       width=\"24px\">\n",
              "    <path d=\"M0 0h24v24H0V0z\" fill=\"none\"/>\n",
              "    <path d=\"M18.56 5.44l.94 2.06.94-2.06 2.06-.94-2.06-.94-.94-2.06-.94 2.06-2.06.94zm-11 1L8.5 8.5l.94-2.06 2.06-.94-2.06-.94L8.5 2.5l-.94 2.06-2.06.94zm10 10l.94 2.06.94-2.06 2.06-.94-2.06-.94-.94-2.06-.94 2.06-2.06.94z\"/><path d=\"M17.41 7.96l-1.37-1.37c-.4-.4-.92-.59-1.43-.59-.52 0-1.04.2-1.43.59L10.3 9.45l-7.72 7.72c-.78.78-.78 2.05 0 2.83L4 21.41c.39.39.9.59 1.41.59.51 0 1.02-.2 1.41-.59l7.78-7.78 2.81-2.81c.8-.78.8-2.07 0-2.86zM5.41 20L4 18.59l7.72-7.72 1.47 1.35L5.41 20z\"/>\n",
              "  </svg>\n",
              "      </button>\n",
              "      \n",
              "  <style>\n",
              "    .colab-df-container {\n",
              "      display:flex;\n",
              "      flex-wrap:wrap;\n",
              "      gap: 12px;\n",
              "    }\n",
              "\n",
              "    .colab-df-convert {\n",
              "      background-color: #E8F0FE;\n",
              "      border: none;\n",
              "      border-radius: 50%;\n",
              "      cursor: pointer;\n",
              "      display: none;\n",
              "      fill: #1967D2;\n",
              "      height: 32px;\n",
              "      padding: 0 0 0 0;\n",
              "      width: 32px;\n",
              "    }\n",
              "\n",
              "    .colab-df-convert:hover {\n",
              "      background-color: #E2EBFA;\n",
              "      box-shadow: 0px 1px 2px rgba(60, 64, 67, 0.3), 0px 1px 3px 1px rgba(60, 64, 67, 0.15);\n",
              "      fill: #174EA6;\n",
              "    }\n",
              "\n",
              "    [theme=dark] .colab-df-convert {\n",
              "      background-color: #3B4455;\n",
              "      fill: #D2E3FC;\n",
              "    }\n",
              "\n",
              "    [theme=dark] .colab-df-convert:hover {\n",
              "      background-color: #434B5C;\n",
              "      box-shadow: 0px 1px 3px 1px rgba(0, 0, 0, 0.15);\n",
              "      filter: drop-shadow(0px 1px 2px rgba(0, 0, 0, 0.3));\n",
              "      fill: #FFFFFF;\n",
              "    }\n",
              "  </style>\n",
              "\n",
              "      <script>\n",
              "        const buttonEl =\n",
              "          document.querySelector('#df-6d83f606-dafe-4177-a4bc-0e81153a82ad button.colab-df-convert');\n",
              "        buttonEl.style.display =\n",
              "          google.colab.kernel.accessAllowed ? 'block' : 'none';\n",
              "\n",
              "        async function convertToInteractive(key) {\n",
              "          const element = document.querySelector('#df-6d83f606-dafe-4177-a4bc-0e81153a82ad');\n",
              "          const dataTable =\n",
              "            await google.colab.kernel.invokeFunction('convertToInteractive',\n",
              "                                                     [key], {});\n",
              "          if (!dataTable) return;\n",
              "\n",
              "          const docLinkHtml = 'Like what you see? Visit the ' +\n",
              "            '<a target=\"_blank\" href=https://colab.research.google.com/notebooks/data_table.ipynb>data table notebook</a>'\n",
              "            + ' to learn more about interactive tables.';\n",
              "          element.innerHTML = '';\n",
              "          dataTable['output_type'] = 'display_data';\n",
              "          await google.colab.output.renderOutput(dataTable, element);\n",
              "          const docLink = document.createElement('div');\n",
              "          docLink.innerHTML = docLinkHtml;\n",
              "          element.appendChild(docLink);\n",
              "        }\n",
              "      </script>\n",
              "    </div>\n",
              "  </div>\n",
              "  "
            ],
            "text/plain": [
              "     Country            WorldRegion  Q1_Year1  Q2_Year1  Q3_Year1  Q4_Year1\n",
              "0  Australia                Oceania      73.7      73.6      73.7      74.0\n",
              "1    Austria                 Europe      72.8      73.1      73.1      73.1\n",
              "2    Belgium                 Europe      64.1      63.9      64.8      65.1\n",
              "3     Canada          North America      73.4      73.4      73.6      73.8\n",
              "4      Chile  South/Central America      64.3      64.3      63.7      64.0"
            ]
          },
          "metadata": {},
          "execution_count": 15
        }
      ]
    },
    {
      "cell_type": "markdown",
      "metadata": {
        "id": "TaaNEWRGpyWb"
      },
      "source": [
        "\n",
        "\n",
        "---\n",
        "\n"
      ]
    },
    {
      "cell_type": "markdown",
      "metadata": {
        "id": "3PpL-xx0p0w7"
      },
      "source": [
        "<strong>Questions</strong>:\n",
        "\n",
        "\n",
        "1.   Investigation whether or not dfply has a starts_with() function.  If so, modify the code above to select Country, WorldRegion, and columns that start with Q1.\n",
        "2.   The df.info() method is similar to the str() command in R.  Figure out how to use the .info() method to investigate the structure of the mysubset dataframe in the code above.\n",
        "\n"
      ]
    }
  ]
}