{
  "nbformat": 4,
  "nbformat_minor": 0,
  "metadata": {
    "colab": {
      "name": "Task3_Spring2022.ipynb",
      "provenance": [],
      "authorship_tag": "ABX9TyMmRQ+bv8q0V2K0s2zthrXB",
      "include_colab_link": true
    },
    "kernelspec": {
      "name": "python3",
      "display_name": "Python 3"
    }
  },
  "cells": [
    {
      "cell_type": "markdown",
      "metadata": {
        "id": "view-in-github",
        "colab_type": "text"
      },
      "source": [
        "<a href=\"https://colab.research.google.com/github/christophermalone/DSCI325/blob/main/Task3_Spring2022.ipynb\" target=\"_parent\"><img src=\"https://colab.research.google.com/assets/colab-badge.svg\" alt=\"Open In Colab\"/></a>"
      ]
    },
    {
      "cell_type": "markdown",
      "metadata": {
        "id": "zQXd5cZ9SMmv"
      },
      "source": [
        "# Task #3 - Spring 2022"
      ]
    },
    {
      "cell_type": "markdown",
      "metadata": {
        "id": "Pu1vBrNBJDnN"
      },
      "source": [
        "Task #3: Objectives\n",
        "\n",
        "\n",
        "\n",
        "Obtain the most recent Hospice - Provider Data (CSV) from the following website.\n",
        "\n",
        "\n",
        "> Data Source:  https://data.cms.gov/provider-data/search?theme=Hospice%20care\n",
        "\n",
        "\n",
        "\n",
        "Using Python along with any necessary packages, e.g. pandas / dfply /etc, answer the following questions.  Most of these questions should be answered using the FILTER() verb.  For some, you will need to use SELECT().  Most question ask about a count, the .shape() method can be used to obtain these counts.\n",
        "\n",
        "1.  Filter down to just State = MN.  How many rows are in the resulting data.frame? \n",
        "\n",
        "2.   Consider the data.frame given by the code you wrote for Part 1.  What does Row #19 represent?  What does Row #20 represent?  Discuss.\n",
        "\n",
        "3.   Modify your Filter code from Part 1 to obtain the number of facilities in MN that are contained in this dataset.  How many unique facilities are in MN?\n",
        "\n",
        "4.   How many hospice care facilites in MN provide routine home care?  i.e. have Provided Routine Home Care and other levels of care = Yes?  \n",
        "\n",
        "5.   What proportion of hospice care facilites in MN provide routine home care?  Compute.\n",
        "\n",
        "6.   Suppose my family is considering putting a family member into a hospice facility.  We'd like to restrict our search to facilities that have an Average Daily Census < 75.  How many facilities in MN meet this criteria?\n",
        "\n",
        "7.  Consider problem #6 again, but this time only consider counties in southeastern MN, i.e. facilities in Houston County, Fillmore County, Mower County, Winona County, Olmstead County, Dodge County, Wabasha County, and Goodhue County.  How many facilities are availabie for my family in Southeastern MN?\n",
        "\n",
        "8. Create a data.frame of the facilities identified in problem #7.  The data.frame should only include contact information for the facility, i.e. name/address/city/phone.  Finally, sort this list from smallest average daily census to largest.\n",
        "\n"
      ]
    },
    {
      "cell_type": "markdown",
      "source": [
        "\n",
        "\n",
        "---\n",
        "\n",
        "\n",
        "\n",
        "---\n",
        "\n"
      ],
      "metadata": {
        "id": "ZMNvfx-ZBHB_"
      }
    },
    {
      "cell_type": "code",
      "source": [
        "# Your code starts here..."
      ],
      "metadata": {
        "id": "7FX0QELXBJBN"
      },
      "execution_count": null,
      "outputs": []
    }
  ]
}