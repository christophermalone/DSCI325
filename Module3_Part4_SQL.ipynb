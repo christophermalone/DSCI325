{
  "nbformat": 4,
  "nbformat_minor": 0,
  "metadata": {
    "colab": {
      "name": "Module3_Part4_SQL.ipynb",
      "provenance": [],
      "collapsed_sections": [],
      "toc_visible": true,
      "authorship_tag": "ABX9TyPxJOoCkPFVPLgTXfJ1SpKS",
      "include_colab_link": true
    },
    "kernelspec": {
      "name": "python3",
      "display_name": "Python 3"
    }
  },
  "cells": [
    {
      "cell_type": "markdown",
      "metadata": {
        "id": "view-in-github",
        "colab_type": "text"
      },
      "source": [
        "<a href=\"https://colab.research.google.com/github/christophermalone/DSCI325/blob/main/Module3_Part4_SQL.ipynb\" target=\"_parent\"><img src=\"https://colab.research.google.com/assets/colab-badge.svg\" alt=\"Open In Colab\"/></a>"
      ]
    },
    {
      "cell_type": "markdown",
      "metadata": {
        "id": "vsKS8UWN9bil"
      },
      "source": [
        "# Module 3 | Part 4 | SQL : Aggregate() Actions in SQL"
      ]
    },
    {
      "cell_type": "markdown",
      "metadata": {
        "id": "Q15v4Jwh9sEj"
      },
      "source": [
        "<table width='100%' ><tr><td bgcolor='green'></td></tr></table>\n",
        "\n",
        "### Example 3.4.P\n",
        "For this notebook, we will consider data from a pizza place. The following fields are provided in this data.  This data was collected over 2 years -- one dataset for each year.\n",
        " \n",
        "The following 7 fields will be considered here:\n",
        "\n",
        "*   LocatonID: Unique ID for each pizza store location\n",
        "*   DeliveryType: Direct (Store completed the delivery) or SubContract (Delivery was subcontracted out)\n",
        "*   SameZip: Was the delivery address in the same zipcode as the location?\n",
        "*   Type: Descriptor for how order was obtained (In-Person, Phone / App, Corporate, OtherLocation)\n",
        "*   Minutes: Minutes to process order and deliver pizza \n",
        "*   Comments:  When Minutes over 1 hour, comments are required.\n",
        "\n",
        "\n",
        "<table width='100%' ><tr><td bgcolor='green'></td></tr></table>"
      ]
    },
    {
      "cell_type": "markdown",
      "metadata": {
        "id": "6qZ9RfX1VdCG"
      },
      "source": [
        "## Making a Connection"
      ]
    },
    {
      "cell_type": "markdown",
      "metadata": {
        "id": "9QeIjJKEVeAS"
      },
      "source": [
        "Here, an SQLite3 package will be used to connect to the desired database."
      ]
    },
    {
      "cell_type": "code",
      "metadata": {
        "id": "q_1d5VWYVdJi"
      },
      "source": [
        "import pandas as pd\n",
        "import sqlite3"
      ],
      "execution_count": 1,
      "outputs": []
    },
    {
      "cell_type": "markdown",
      "metadata": {
        "id": "NLRyiOcexe3P"
      },
      "source": [
        "# Getting Table Names and Structure"
      ]
    },
    {
      "cell_type": "markdown",
      "metadata": {
        "id": "Zs4lzulXVpCL"
      },
      "source": [
        "Doing an initial query to identify the table within this database."
      ]
    },
    {
      "cell_type": "code",
      "metadata": {
        "id": "jxWGFn5LVpIu",
        "colab": {
          "base_uri": "https://localhost:8080/",
          "height": 138
        },
        "outputId": "601f2ae6-e755-45b5-aa69-b5e26c17a498"
      },
      "source": [
        "#Making a connection\n",
        "connect_db = sqlite3.connect(\"/content/sample_data/PizzaDelivery.db\")\n",
        "\n",
        "#SQL Statement\n",
        "df = pd.read_sql_query(\n",
        "                        \"SELECT name FROM sqlite_master WHERE type='table'\"\n",
        "                          , connect_db)\n",
        "#Closing the connection\n",
        "connect_db.close()\n",
        "\n",
        "#Using pandas to show output\n",
        "df.head()"
      ],
      "execution_count": 27,
      "outputs": [
        {
          "output_type": "execute_result",
          "data": {
            "text/html": [
              "<div>\n",
              "<style scoped>\n",
              "    .dataframe tbody tr th:only-of-type {\n",
              "        vertical-align: middle;\n",
              "    }\n",
              "\n",
              "    .dataframe tbody tr th {\n",
              "        vertical-align: top;\n",
              "    }\n",
              "\n",
              "    .dataframe thead th {\n",
              "        text-align: right;\n",
              "    }\n",
              "</style>\n",
              "<table border=\"1\" class=\"dataframe\">\n",
              "  <thead>\n",
              "    <tr style=\"text-align: right;\">\n",
              "      <th></th>\n",
              "      <th>name</th>\n",
              "    </tr>\n",
              "  </thead>\n",
              "  <tbody>\n",
              "    <tr>\n",
              "      <th>0</th>\n",
              "      <td>sqlite_sequence</td>\n",
              "    </tr>\n",
              "    <tr>\n",
              "      <th>1</th>\n",
              "      <td>PizzaDelivery2019</td>\n",
              "    </tr>\n",
              "    <tr>\n",
              "      <th>2</th>\n",
              "      <td>PizzaDelivery2020</td>\n",
              "    </tr>\n",
              "  </tbody>\n",
              "</table>\n",
              "</div>"
            ],
            "text/plain": [
              "                name\n",
              "0    sqlite_sequence\n",
              "1  PizzaDelivery2019\n",
              "2  PizzaDelivery2020"
            ]
          },
          "metadata": {
            "tags": []
          },
          "execution_count": 27
        }
      ]
    },
    {
      "cell_type": "markdown",
      "metadata": {
        "id": "E0ysvGoaxPuK"
      },
      "source": [
        "Next, getting the structure of the the <strong>PizzaDelivery2019</strong> table."
      ]
    },
    {
      "cell_type": "code",
      "metadata": {
        "colab": {
          "base_uri": "https://localhost:8080/",
          "height": 258
        },
        "id": "BX-wsH1dxP1A",
        "outputId": "f8513354-8e33-4f16-a5eb-392865d123d8"
      },
      "source": [
        "#Making a connection\n",
        "connect_db = sqlite3.connect(\"/content/sample_data/PizzaDelivery.db\")\n",
        "\n",
        "#SQL Statement\n",
        "df = pd.read_sql_query(\n",
        "                        \"PRAGMA table_info(PizzaDelivery2019)\"\n",
        "                          , connect_db)\n",
        "#Closing the connection\n",
        "connect_db.close()\n",
        "\n",
        "#Using pandas to show output\n",
        "df.head(10)"
      ],
      "execution_count": 28,
      "outputs": [
        {
          "output_type": "execute_result",
          "data": {
            "text/html": [
              "<div>\n",
              "<style scoped>\n",
              "    .dataframe tbody tr th:only-of-type {\n",
              "        vertical-align: middle;\n",
              "    }\n",
              "\n",
              "    .dataframe tbody tr th {\n",
              "        vertical-align: top;\n",
              "    }\n",
              "\n",
              "    .dataframe thead th {\n",
              "        text-align: right;\n",
              "    }\n",
              "</style>\n",
              "<table border=\"1\" class=\"dataframe\">\n",
              "  <thead>\n",
              "    <tr style=\"text-align: right;\">\n",
              "      <th></th>\n",
              "      <th>cid</th>\n",
              "      <th>name</th>\n",
              "      <th>type</th>\n",
              "      <th>notnull</th>\n",
              "      <th>dflt_value</th>\n",
              "      <th>pk</th>\n",
              "    </tr>\n",
              "  </thead>\n",
              "  <tbody>\n",
              "    <tr>\n",
              "      <th>0</th>\n",
              "      <td>0</td>\n",
              "      <td>TableID</td>\n",
              "      <td>INTEGER</td>\n",
              "      <td>0</td>\n",
              "      <td>None</td>\n",
              "      <td>1</td>\n",
              "    </tr>\n",
              "    <tr>\n",
              "      <th>1</th>\n",
              "      <td>1</td>\n",
              "      <td>LocationID</td>\n",
              "      <td>VARCHAR</td>\n",
              "      <td>0</td>\n",
              "      <td>None</td>\n",
              "      <td>0</td>\n",
              "    </tr>\n",
              "    <tr>\n",
              "      <th>2</th>\n",
              "      <td>2</td>\n",
              "      <td>DeliveryType</td>\n",
              "      <td>VARCHAR</td>\n",
              "      <td>0</td>\n",
              "      <td>None</td>\n",
              "      <td>0</td>\n",
              "    </tr>\n",
              "    <tr>\n",
              "      <th>3</th>\n",
              "      <td>3</td>\n",
              "      <td>SameZip</td>\n",
              "      <td>VARCHAR</td>\n",
              "      <td>0</td>\n",
              "      <td>None</td>\n",
              "      <td>0</td>\n",
              "    </tr>\n",
              "    <tr>\n",
              "      <th>4</th>\n",
              "      <td>4</td>\n",
              "      <td>Type</td>\n",
              "      <td>VARCHAR</td>\n",
              "      <td>0</td>\n",
              "      <td>None</td>\n",
              "      <td>0</td>\n",
              "    </tr>\n",
              "    <tr>\n",
              "      <th>5</th>\n",
              "      <td>5</td>\n",
              "      <td>Minutes</td>\n",
              "      <td>DOUBLE</td>\n",
              "      <td>0</td>\n",
              "      <td>None</td>\n",
              "      <td>0</td>\n",
              "    </tr>\n",
              "    <tr>\n",
              "      <th>6</th>\n",
              "      <td>6</td>\n",
              "      <td>Comments</td>\n",
              "      <td>VARCHAR</td>\n",
              "      <td>0</td>\n",
              "      <td>None</td>\n",
              "      <td>0</td>\n",
              "    </tr>\n",
              "  </tbody>\n",
              "</table>\n",
              "</div>"
            ],
            "text/plain": [
              "   cid          name     type  notnull dflt_value  pk\n",
              "0    0       TableID  INTEGER        0       None   1\n",
              "1    1    LocationID  VARCHAR        0       None   0\n",
              "2    2  DeliveryType  VARCHAR        0       None   0\n",
              "3    3       SameZip  VARCHAR        0       None   0\n",
              "4    4          Type  VARCHAR        0       None   0\n",
              "5    5       Minutes   DOUBLE        0       None   0\n",
              "6    6      Comments  VARCHAR        0       None   0"
            ]
          },
          "metadata": {
            "tags": []
          },
          "execution_count": 28
        }
      ]
    },
    {
      "cell_type": "markdown",
      "metadata": {
        "id": "woYwDOYWM_47"
      },
      "source": [
        "Next, getting the structure of the the <strong>PizzaDelivery2020</strong> table."
      ]
    },
    {
      "cell_type": "code",
      "metadata": {
        "colab": {
          "base_uri": "https://localhost:8080/",
          "height": 288
        },
        "id": "FuHeoZNbNABS",
        "outputId": "77ab3549-259e-45a6-d523-9b83eda26d24"
      },
      "source": [
        "#Making a connection\n",
        "connect_db = sqlite3.connect(\"/content/sample_data/PizzaDelivery.db\")\n",
        "\n",
        "#SQL Statement\n",
        "df = pd.read_sql_query(\n",
        "                        \"PRAGMA table_info(PizzaDelivery2020)\"\n",
        "                          , connect_db)\n",
        "#Closing the connection\n",
        "connect_db.close()\n",
        "\n",
        "#Using pandas to show output\n",
        "df.head(10)"
      ],
      "execution_count": 29,
      "outputs": [
        {
          "output_type": "execute_result",
          "data": {
            "text/html": [
              "<div>\n",
              "<style scoped>\n",
              "    .dataframe tbody tr th:only-of-type {\n",
              "        vertical-align: middle;\n",
              "    }\n",
              "\n",
              "    .dataframe tbody tr th {\n",
              "        vertical-align: top;\n",
              "    }\n",
              "\n",
              "    .dataframe thead th {\n",
              "        text-align: right;\n",
              "    }\n",
              "</style>\n",
              "<table border=\"1\" class=\"dataframe\">\n",
              "  <thead>\n",
              "    <tr style=\"text-align: right;\">\n",
              "      <th></th>\n",
              "      <th>cid</th>\n",
              "      <th>name</th>\n",
              "      <th>type</th>\n",
              "      <th>notnull</th>\n",
              "      <th>dflt_value</th>\n",
              "      <th>pk</th>\n",
              "    </tr>\n",
              "  </thead>\n",
              "  <tbody>\n",
              "    <tr>\n",
              "      <th>0</th>\n",
              "      <td>0</td>\n",
              "      <td>TableID</td>\n",
              "      <td>INTEGER</td>\n",
              "      <td>0</td>\n",
              "      <td>None</td>\n",
              "      <td>1</td>\n",
              "    </tr>\n",
              "    <tr>\n",
              "      <th>1</th>\n",
              "      <td>1</td>\n",
              "      <td>LocationID</td>\n",
              "      <td>VARCHAR</td>\n",
              "      <td>0</td>\n",
              "      <td>None</td>\n",
              "      <td>0</td>\n",
              "    </tr>\n",
              "    <tr>\n",
              "      <th>2</th>\n",
              "      <td>2</td>\n",
              "      <td>DeliveryType</td>\n",
              "      <td>VARCHAR</td>\n",
              "      <td>0</td>\n",
              "      <td>None</td>\n",
              "      <td>0</td>\n",
              "    </tr>\n",
              "    <tr>\n",
              "      <th>3</th>\n",
              "      <td>3</td>\n",
              "      <td>SameZip</td>\n",
              "      <td>VARCHAR</td>\n",
              "      <td>0</td>\n",
              "      <td>None</td>\n",
              "      <td>0</td>\n",
              "    </tr>\n",
              "    <tr>\n",
              "      <th>4</th>\n",
              "      <td>4</td>\n",
              "      <td>Type</td>\n",
              "      <td>VARCHAR</td>\n",
              "      <td>0</td>\n",
              "      <td>None</td>\n",
              "      <td>0</td>\n",
              "    </tr>\n",
              "    <tr>\n",
              "      <th>5</th>\n",
              "      <td>5</td>\n",
              "      <td>Quantity</td>\n",
              "      <td>INTEGER</td>\n",
              "      <td>0</td>\n",
              "      <td>None</td>\n",
              "      <td>0</td>\n",
              "    </tr>\n",
              "    <tr>\n",
              "      <th>6</th>\n",
              "      <td>6</td>\n",
              "      <td>Minutes</td>\n",
              "      <td>DOUBLE</td>\n",
              "      <td>0</td>\n",
              "      <td>None</td>\n",
              "      <td>0</td>\n",
              "    </tr>\n",
              "    <tr>\n",
              "      <th>7</th>\n",
              "      <td>7</td>\n",
              "      <td>Comments</td>\n",
              "      <td>VARCHAR</td>\n",
              "      <td>0</td>\n",
              "      <td>None</td>\n",
              "      <td>0</td>\n",
              "    </tr>\n",
              "  </tbody>\n",
              "</table>\n",
              "</div>"
            ],
            "text/plain": [
              "   cid          name     type  notnull dflt_value  pk\n",
              "0    0       TableID  INTEGER        0       None   1\n",
              "1    1    LocationID  VARCHAR        0       None   0\n",
              "2    2  DeliveryType  VARCHAR        0       None   0\n",
              "3    3       SameZip  VARCHAR        0       None   0\n",
              "4    4          Type  VARCHAR        0       None   0\n",
              "5    5      Quantity  INTEGER        0       None   0\n",
              "6    6       Minutes   DOUBLE        0       None   0\n",
              "7    7      Comments  VARCHAR        0       None   0"
            ]
          },
          "metadata": {
            "tags": []
          },
          "execution_count": 29
        }
      ]
    },
    {
      "cell_type": "markdown",
      "metadata": {
        "id": "D5p1RJXJamTs"
      },
      "source": [
        "# Basic Summaries"
      ]
    },
    {
      "cell_type": "markdown",
      "metadata": {
        "id": "wOO4oBTnZfN_"
      },
      "source": [
        "To begin, suppose the goal is to obtain the average delivery time across all deliveries."
      ]
    },
    {
      "cell_type": "code",
      "metadata": {
        "colab": {
          "base_uri": "https://localhost:8080/",
          "height": 78
        },
        "id": "tT2fsiNCyBzo",
        "outputId": "90d5cc83-e028-4c0d-8f0a-924ff7b70233"
      },
      "source": [
        "#Making a connection\n",
        "connect_db = sqlite3.connect(\"/content/sample_data/PizzaDelivery.db\")\n",
        "\n",
        "#SQL Statement\n",
        "df = pd.read_sql_query(\"\"\"\n",
        "                          SELECT AVG(Minutes) AS 'Avg Delivery Time' \n",
        "                          FROM PizzaDelivery2019\n",
        "                       \"\"\"\n",
        "                          , connect_db)\n",
        "                       \n",
        "#Closing the connection\n",
        "connect_db.close()\n",
        "\n",
        "#Using pandas to show output\n",
        "df.head()"
      ],
      "execution_count": 7,
      "outputs": [
        {
          "output_type": "execute_result",
          "data": {
            "text/html": [
              "<div>\n",
              "<style scoped>\n",
              "    .dataframe tbody tr th:only-of-type {\n",
              "        vertical-align: middle;\n",
              "    }\n",
              "\n",
              "    .dataframe tbody tr th {\n",
              "        vertical-align: top;\n",
              "    }\n",
              "\n",
              "    .dataframe thead th {\n",
              "        text-align: right;\n",
              "    }\n",
              "</style>\n",
              "<table border=\"1\" class=\"dataframe\">\n",
              "  <thead>\n",
              "    <tr style=\"text-align: right;\">\n",
              "      <th></th>\n",
              "      <th>Avg Delivery Time</th>\n",
              "    </tr>\n",
              "  </thead>\n",
              "  <tbody>\n",
              "    <tr>\n",
              "      <th>0</th>\n",
              "      <td>9.624701</td>\n",
              "    </tr>\n",
              "  </tbody>\n",
              "</table>\n",
              "</div>"
            ],
            "text/plain": [
              "   Avg Delivery Time\n",
              "0           9.624701"
            ]
          },
          "metadata": {
            "tags": []
          },
          "execution_count": 7
        }
      ]
    },
    {
      "cell_type": "markdown",
      "metadata": {
        "id": "ZExxa2Y-N279"
      },
      "source": [
        "Next, get the average delivery time for each delivery type."
      ]
    },
    {
      "cell_type": "code",
      "metadata": {
        "colab": {
          "base_uri": "https://localhost:8080/",
          "height": 108
        },
        "id": "XdfhDBypN3El",
        "outputId": "12bea8fe-5c54-49b3-8d99-10adaccf0b4a"
      },
      "source": [
        "#Making a connection\n",
        "connect_db = sqlite3.connect(\"/content/sample_data/PizzaDelivery.db\")\n",
        "\n",
        "#SQL Statement\n",
        "df = pd.read_sql_query(\"\"\"\n",
        "                          SELECT AVG(Minutes) AS 'Avg Delivery Time' \n",
        "                          FROM PizzaDelivery2019\n",
        "                          GROUP BY DeliveryType\n",
        "                       \"\"\"\n",
        "                          , connect_db)\n",
        "                       \n",
        "#Closing the connection\n",
        "connect_db.close()\n",
        "\n",
        "#Using pandas to show output\n",
        "df.head()"
      ],
      "execution_count": 9,
      "outputs": [
        {
          "output_type": "execute_result",
          "data": {
            "text/html": [
              "<div>\n",
              "<style scoped>\n",
              "    .dataframe tbody tr th:only-of-type {\n",
              "        vertical-align: middle;\n",
              "    }\n",
              "\n",
              "    .dataframe tbody tr th {\n",
              "        vertical-align: top;\n",
              "    }\n",
              "\n",
              "    .dataframe thead th {\n",
              "        text-align: right;\n",
              "    }\n",
              "</style>\n",
              "<table border=\"1\" class=\"dataframe\">\n",
              "  <thead>\n",
              "    <tr style=\"text-align: right;\">\n",
              "      <th></th>\n",
              "      <th>Avg Delivery Time</th>\n",
              "    </tr>\n",
              "  </thead>\n",
              "  <tbody>\n",
              "    <tr>\n",
              "      <th>0</th>\n",
              "      <td>9.765571</td>\n",
              "    </tr>\n",
              "    <tr>\n",
              "      <th>1</th>\n",
              "      <td>8.130779</td>\n",
              "    </tr>\n",
              "  </tbody>\n",
              "</table>\n",
              "</div>"
            ],
            "text/plain": [
              "   Avg Delivery Time\n",
              "0           9.765571\n",
              "1           8.130779"
            ]
          },
          "metadata": {
            "tags": []
          },
          "execution_count": 9
        }
      ]
    },
    {
      "cell_type": "markdown",
      "metadata": {
        "id": "HR5wgEA6OLFY"
      },
      "source": [
        "Notice that the code above does not properly identify which row is for Direct and which is for SubContract.  This happened because DeliveryTyep was not selected in the initial SELECT statments. \n",
        "\n",
        "<strong>Note</strong>: The ROUND() function can be used to reduce the number of decimal places used in the output."
      ]
    },
    {
      "cell_type": "code",
      "metadata": {
        "colab": {
          "base_uri": "https://localhost:8080/",
          "height": 108
        },
        "id": "wIE0YIWaOLM_",
        "outputId": "53c18c17-8e7f-4ebe-ac9b-a62bf83a3e46"
      },
      "source": [
        "#Making a connection\n",
        "connect_db = sqlite3.connect(\"/content/sample_data/PizzaDelivery.db\")\n",
        "\n",
        "#SQL Statement\n",
        "df = pd.read_sql_query(\"\"\"\n",
        "                          SELECT DeliveryType, ROUND(AVG(Minutes),1) AS 'Avg Delivery Time'\n",
        "                          FROM PizzaDelivery2019\n",
        "                          GROUP BY DeliveryType\n",
        "                       \"\"\"\n",
        "                          , connect_db)\n",
        "                       \n",
        "#Closing the connection\n",
        "connect_db.close()\n",
        "\n",
        "#Using pandas to show output\n",
        "df.head()"
      ],
      "execution_count": 11,
      "outputs": [
        {
          "output_type": "execute_result",
          "data": {
            "text/html": [
              "<div>\n",
              "<style scoped>\n",
              "    .dataframe tbody tr th:only-of-type {\n",
              "        vertical-align: middle;\n",
              "    }\n",
              "\n",
              "    .dataframe tbody tr th {\n",
              "        vertical-align: top;\n",
              "    }\n",
              "\n",
              "    .dataframe thead th {\n",
              "        text-align: right;\n",
              "    }\n",
              "</style>\n",
              "<table border=\"1\" class=\"dataframe\">\n",
              "  <thead>\n",
              "    <tr style=\"text-align: right;\">\n",
              "      <th></th>\n",
              "      <th>DeliveryType</th>\n",
              "      <th>Avg Delivery Time</th>\n",
              "    </tr>\n",
              "  </thead>\n",
              "  <tbody>\n",
              "    <tr>\n",
              "      <th>0</th>\n",
              "      <td>Direct</td>\n",
              "      <td>9.8</td>\n",
              "    </tr>\n",
              "    <tr>\n",
              "      <th>1</th>\n",
              "      <td>SubContract</td>\n",
              "      <td>8.1</td>\n",
              "    </tr>\n",
              "  </tbody>\n",
              "</table>\n",
              "</div>"
            ],
            "text/plain": [
              "  DeliveryType  Avg Delivery Time\n",
              "0       Direct                9.8\n",
              "1  SubContract                8.1"
            ]
          },
          "metadata": {
            "tags": []
          },
          "execution_count": 11
        }
      ]
    },
    {
      "cell_type": "markdown",
      "metadata": {
        "id": "315yyXnaO9dR"
      },
      "source": [
        "The following will obtain the average delivery time across Delivery Type and Samezip.  \n",
        "\n",
        "<strong>Note</strong>:  The column order in the output is determined by the SELECT statment -- not the order in which they appear in the GROUP BY statement. (This is different than R and Python)."
      ]
    },
    {
      "cell_type": "code",
      "metadata": {
        "colab": {
          "base_uri": "https://localhost:8080/",
          "height": 168
        },
        "id": "eUgfO2iNO9lo",
        "outputId": "b771e1d8-efa7-43e9-dfce-c0ffeabf952b"
      },
      "source": [
        "#Making a connection\n",
        "connect_db = sqlite3.connect(\"/content/sample_data/PizzaDelivery.db\")\n",
        "\n",
        "#SQL Statement\n",
        "df = pd.read_sql_query(\"\"\"\n",
        "                          SELECT Samezip, DeliveryType, ROUND(AVG(Minutes),1) AS 'Avg Delivery Time'\n",
        "                          FROM PizzaDelivery2019\n",
        "                          GROUP BY Samezip, DeliveryType\n",
        "                       \"\"\"\n",
        "                          , connect_db)\n",
        "                       \n",
        "#Closing the connection\n",
        "connect_db.close()\n",
        "\n",
        "#Using pandas to show output\n",
        "df.head()"
      ],
      "execution_count": 13,
      "outputs": [
        {
          "output_type": "execute_result",
          "data": {
            "text/html": [
              "<div>\n",
              "<style scoped>\n",
              "    .dataframe tbody tr th:only-of-type {\n",
              "        vertical-align: middle;\n",
              "    }\n",
              "\n",
              "    .dataframe tbody tr th {\n",
              "        vertical-align: top;\n",
              "    }\n",
              "\n",
              "    .dataframe thead th {\n",
              "        text-align: right;\n",
              "    }\n",
              "</style>\n",
              "<table border=\"1\" class=\"dataframe\">\n",
              "  <thead>\n",
              "    <tr style=\"text-align: right;\">\n",
              "      <th></th>\n",
              "      <th>SameZip</th>\n",
              "      <th>DeliveryType</th>\n",
              "      <th>Avg Delivery Time</th>\n",
              "    </tr>\n",
              "  </thead>\n",
              "  <tbody>\n",
              "    <tr>\n",
              "      <th>0</th>\n",
              "      <td>No</td>\n",
              "      <td>Direct</td>\n",
              "      <td>9.4</td>\n",
              "    </tr>\n",
              "    <tr>\n",
              "      <th>1</th>\n",
              "      <td>No</td>\n",
              "      <td>SubContract</td>\n",
              "      <td>9.5</td>\n",
              "    </tr>\n",
              "    <tr>\n",
              "      <th>2</th>\n",
              "      <td>Yes</td>\n",
              "      <td>Direct</td>\n",
              "      <td>10.0</td>\n",
              "    </tr>\n",
              "    <tr>\n",
              "      <th>3</th>\n",
              "      <td>Yes</td>\n",
              "      <td>SubContract</td>\n",
              "      <td>6.3</td>\n",
              "    </tr>\n",
              "  </tbody>\n",
              "</table>\n",
              "</div>"
            ],
            "text/plain": [
              "  SameZip DeliveryType  Avg Delivery Time\n",
              "0      No       Direct                9.4\n",
              "1      No  SubContract                9.5\n",
              "2     Yes       Direct               10.0\n",
              "3     Yes  SubContract                6.3"
            ]
          },
          "metadata": {
            "tags": []
          },
          "execution_count": 13
        }
      ]
    },
    {
      "cell_type": "markdown",
      "metadata": {
        "id": "3yq7fvWYQNyA"
      },
      "source": [
        "The following extends the summaries across Type, Samezip, and Delivery Type."
      ]
    },
    {
      "cell_type": "code",
      "metadata": {
        "colab": {
          "base_uri": "https://localhost:8080/",
          "height": 528
        },
        "id": "rxYYaw-_QN54",
        "outputId": "ad277417-5372-4e14-814e-fff4cc5edfe5"
      },
      "source": [
        "#Making a connection\n",
        "connect_db = sqlite3.connect(\"/content/sample_data/PizzaDelivery.db\")\n",
        "\n",
        "#SQL Statement\n",
        "df = pd.read_sql_query(\"\"\"\n",
        "                          SELECT Type, Samezip, DeliveryType, ROUND(AVG(Minutes),1) AS 'Avg Delivery Time'\n",
        "                          FROM PizzaDelivery2019\n",
        "                          GROUP BY Type, Samezip, DeliveryType\n",
        "                       \"\"\"\n",
        "                          , connect_db)\n",
        "                       \n",
        "#Closing the connection\n",
        "connect_db.close()\n",
        "\n",
        "#Using pandas to show output\n",
        "df.head(16)"
      ],
      "execution_count": 14,
      "outputs": [
        {
          "output_type": "execute_result",
          "data": {
            "text/html": [
              "<div>\n",
              "<style scoped>\n",
              "    .dataframe tbody tr th:only-of-type {\n",
              "        vertical-align: middle;\n",
              "    }\n",
              "\n",
              "    .dataframe tbody tr th {\n",
              "        vertical-align: top;\n",
              "    }\n",
              "\n",
              "    .dataframe thead th {\n",
              "        text-align: right;\n",
              "    }\n",
              "</style>\n",
              "<table border=\"1\" class=\"dataframe\">\n",
              "  <thead>\n",
              "    <tr style=\"text-align: right;\">\n",
              "      <th></th>\n",
              "      <th>Type</th>\n",
              "      <th>SameZip</th>\n",
              "      <th>DeliveryType</th>\n",
              "      <th>Avg Delivery Time</th>\n",
              "    </tr>\n",
              "  </thead>\n",
              "  <tbody>\n",
              "    <tr>\n",
              "      <th>0</th>\n",
              "      <td>Corporate</td>\n",
              "      <td>No</td>\n",
              "      <td>Direct</td>\n",
              "      <td>11.6</td>\n",
              "    </tr>\n",
              "    <tr>\n",
              "      <th>1</th>\n",
              "      <td>Corporate</td>\n",
              "      <td>No</td>\n",
              "      <td>SubContract</td>\n",
              "      <td>11.9</td>\n",
              "    </tr>\n",
              "    <tr>\n",
              "      <th>2</th>\n",
              "      <td>Corporate</td>\n",
              "      <td>Yes</td>\n",
              "      <td>Direct</td>\n",
              "      <td>13.0</td>\n",
              "    </tr>\n",
              "    <tr>\n",
              "      <th>3</th>\n",
              "      <td>Corporate</td>\n",
              "      <td>Yes</td>\n",
              "      <td>SubContract</td>\n",
              "      <td>6.8</td>\n",
              "    </tr>\n",
              "    <tr>\n",
              "      <th>4</th>\n",
              "      <td>In-Person</td>\n",
              "      <td>No</td>\n",
              "      <td>Direct</td>\n",
              "      <td>5.4</td>\n",
              "    </tr>\n",
              "    <tr>\n",
              "      <th>5</th>\n",
              "      <td>In-Person</td>\n",
              "      <td>No</td>\n",
              "      <td>SubContract</td>\n",
              "      <td>5.3</td>\n",
              "    </tr>\n",
              "    <tr>\n",
              "      <th>6</th>\n",
              "      <td>In-Person</td>\n",
              "      <td>Yes</td>\n",
              "      <td>Direct</td>\n",
              "      <td>5.9</td>\n",
              "    </tr>\n",
              "    <tr>\n",
              "      <th>7</th>\n",
              "      <td>In-Person</td>\n",
              "      <td>Yes</td>\n",
              "      <td>SubContract</td>\n",
              "      <td>4.1</td>\n",
              "    </tr>\n",
              "    <tr>\n",
              "      <th>8</th>\n",
              "      <td>OtherLocation</td>\n",
              "      <td>No</td>\n",
              "      <td>Direct</td>\n",
              "      <td>17.6</td>\n",
              "    </tr>\n",
              "    <tr>\n",
              "      <th>9</th>\n",
              "      <td>OtherLocation</td>\n",
              "      <td>No</td>\n",
              "      <td>SubContract</td>\n",
              "      <td>16.5</td>\n",
              "    </tr>\n",
              "    <tr>\n",
              "      <th>10</th>\n",
              "      <td>OtherLocation</td>\n",
              "      <td>Yes</td>\n",
              "      <td>Direct</td>\n",
              "      <td>16.4</td>\n",
              "    </tr>\n",
              "    <tr>\n",
              "      <th>11</th>\n",
              "      <td>OtherLocation</td>\n",
              "      <td>Yes</td>\n",
              "      <td>SubContract</td>\n",
              "      <td>11.9</td>\n",
              "    </tr>\n",
              "    <tr>\n",
              "      <th>12</th>\n",
              "      <td>Phone / App</td>\n",
              "      <td>No</td>\n",
              "      <td>Direct</td>\n",
              "      <td>9.3</td>\n",
              "    </tr>\n",
              "    <tr>\n",
              "      <th>13</th>\n",
              "      <td>Phone / App</td>\n",
              "      <td>No</td>\n",
              "      <td>SubContract</td>\n",
              "      <td>10.1</td>\n",
              "    </tr>\n",
              "    <tr>\n",
              "      <th>14</th>\n",
              "      <td>Phone / App</td>\n",
              "      <td>Yes</td>\n",
              "      <td>Direct</td>\n",
              "      <td>9.5</td>\n",
              "    </tr>\n",
              "    <tr>\n",
              "      <th>15</th>\n",
              "      <td>Phone / App</td>\n",
              "      <td>Yes</td>\n",
              "      <td>SubContract</td>\n",
              "      <td>6.6</td>\n",
              "    </tr>\n",
              "  </tbody>\n",
              "</table>\n",
              "</div>"
            ],
            "text/plain": [
              "             Type SameZip DeliveryType  Avg Delivery Time\n",
              "0       Corporate      No       Direct               11.6\n",
              "1       Corporate      No  SubContract               11.9\n",
              "2       Corporate     Yes       Direct               13.0\n",
              "3       Corporate     Yes  SubContract                6.8\n",
              "4       In-Person      No       Direct                5.4\n",
              "5       In-Person      No  SubContract                5.3\n",
              "6       In-Person     Yes       Direct                5.9\n",
              "7       In-Person     Yes  SubContract                4.1\n",
              "8   OtherLocation      No       Direct               17.6\n",
              "9   OtherLocation      No  SubContract               16.5\n",
              "10  OtherLocation     Yes       Direct               16.4\n",
              "11  OtherLocation     Yes  SubContract               11.9\n",
              "12    Phone / App      No       Direct                9.3\n",
              "13    Phone / App      No  SubContract               10.1\n",
              "14    Phone / App     Yes       Direct                9.5\n",
              "15    Phone / App     Yes  SubContract                6.6"
            ]
          },
          "metadata": {
            "tags": []
          },
          "execution_count": 14
        }
      ]
    },
    {
      "cell_type": "markdown",
      "metadata": {
        "id": "n9emBhbOQwBP"
      },
      "source": [
        "The <strong>ORDER BY</strong> statement can be used to sort the rows."
      ]
    },
    {
      "cell_type": "code",
      "metadata": {
        "colab": {
          "base_uri": "https://localhost:8080/",
          "height": 528
        },
        "id": "la_RvKtiQwK2",
        "outputId": "4af7bfcd-21bf-4630-f147-0b262ffa2ad1"
      },
      "source": [
        "#Making a connection\n",
        "connect_db = sqlite3.connect(\"/content/sample_data/PizzaDelivery.db\")\n",
        "\n",
        "#SQL Statement\n",
        "df = pd.read_sql_query(\"\"\"\n",
        "                          SELECT Type, Samezip, DeliveryType, ROUND(AVG(Minutes),1) AS 'Avg Delivery Time'\n",
        "                          FROM PizzaDelivery2019\n",
        "                          GROUP BY Type, Samezip, DeliveryType\n",
        "                          ORDER BY DeliveryType, Samezip, Type\n",
        "                       \"\"\"\n",
        "                          , connect_db)\n",
        "                       \n",
        "#Closing the connection\n",
        "connect_db.close()\n",
        "\n",
        "#Using pandas to show output\n",
        "df.head(16)"
      ],
      "execution_count": 15,
      "outputs": [
        {
          "output_type": "execute_result",
          "data": {
            "text/html": [
              "<div>\n",
              "<style scoped>\n",
              "    .dataframe tbody tr th:only-of-type {\n",
              "        vertical-align: middle;\n",
              "    }\n",
              "\n",
              "    .dataframe tbody tr th {\n",
              "        vertical-align: top;\n",
              "    }\n",
              "\n",
              "    .dataframe thead th {\n",
              "        text-align: right;\n",
              "    }\n",
              "</style>\n",
              "<table border=\"1\" class=\"dataframe\">\n",
              "  <thead>\n",
              "    <tr style=\"text-align: right;\">\n",
              "      <th></th>\n",
              "      <th>Type</th>\n",
              "      <th>SameZip</th>\n",
              "      <th>DeliveryType</th>\n",
              "      <th>Avg Delivery Time</th>\n",
              "    </tr>\n",
              "  </thead>\n",
              "  <tbody>\n",
              "    <tr>\n",
              "      <th>0</th>\n",
              "      <td>Corporate</td>\n",
              "      <td>No</td>\n",
              "      <td>Direct</td>\n",
              "      <td>11.6</td>\n",
              "    </tr>\n",
              "    <tr>\n",
              "      <th>1</th>\n",
              "      <td>In-Person</td>\n",
              "      <td>No</td>\n",
              "      <td>Direct</td>\n",
              "      <td>5.4</td>\n",
              "    </tr>\n",
              "    <tr>\n",
              "      <th>2</th>\n",
              "      <td>OtherLocation</td>\n",
              "      <td>No</td>\n",
              "      <td>Direct</td>\n",
              "      <td>17.6</td>\n",
              "    </tr>\n",
              "    <tr>\n",
              "      <th>3</th>\n",
              "      <td>Phone / App</td>\n",
              "      <td>No</td>\n",
              "      <td>Direct</td>\n",
              "      <td>9.3</td>\n",
              "    </tr>\n",
              "    <tr>\n",
              "      <th>4</th>\n",
              "      <td>Corporate</td>\n",
              "      <td>Yes</td>\n",
              "      <td>Direct</td>\n",
              "      <td>13.0</td>\n",
              "    </tr>\n",
              "    <tr>\n",
              "      <th>5</th>\n",
              "      <td>In-Person</td>\n",
              "      <td>Yes</td>\n",
              "      <td>Direct</td>\n",
              "      <td>5.9</td>\n",
              "    </tr>\n",
              "    <tr>\n",
              "      <th>6</th>\n",
              "      <td>OtherLocation</td>\n",
              "      <td>Yes</td>\n",
              "      <td>Direct</td>\n",
              "      <td>16.4</td>\n",
              "    </tr>\n",
              "    <tr>\n",
              "      <th>7</th>\n",
              "      <td>Phone / App</td>\n",
              "      <td>Yes</td>\n",
              "      <td>Direct</td>\n",
              "      <td>9.5</td>\n",
              "    </tr>\n",
              "    <tr>\n",
              "      <th>8</th>\n",
              "      <td>Corporate</td>\n",
              "      <td>No</td>\n",
              "      <td>SubContract</td>\n",
              "      <td>11.9</td>\n",
              "    </tr>\n",
              "    <tr>\n",
              "      <th>9</th>\n",
              "      <td>In-Person</td>\n",
              "      <td>No</td>\n",
              "      <td>SubContract</td>\n",
              "      <td>5.3</td>\n",
              "    </tr>\n",
              "    <tr>\n",
              "      <th>10</th>\n",
              "      <td>OtherLocation</td>\n",
              "      <td>No</td>\n",
              "      <td>SubContract</td>\n",
              "      <td>16.5</td>\n",
              "    </tr>\n",
              "    <tr>\n",
              "      <th>11</th>\n",
              "      <td>Phone / App</td>\n",
              "      <td>No</td>\n",
              "      <td>SubContract</td>\n",
              "      <td>10.1</td>\n",
              "    </tr>\n",
              "    <tr>\n",
              "      <th>12</th>\n",
              "      <td>Corporate</td>\n",
              "      <td>Yes</td>\n",
              "      <td>SubContract</td>\n",
              "      <td>6.8</td>\n",
              "    </tr>\n",
              "    <tr>\n",
              "      <th>13</th>\n",
              "      <td>In-Person</td>\n",
              "      <td>Yes</td>\n",
              "      <td>SubContract</td>\n",
              "      <td>4.1</td>\n",
              "    </tr>\n",
              "    <tr>\n",
              "      <th>14</th>\n",
              "      <td>OtherLocation</td>\n",
              "      <td>Yes</td>\n",
              "      <td>SubContract</td>\n",
              "      <td>11.9</td>\n",
              "    </tr>\n",
              "    <tr>\n",
              "      <th>15</th>\n",
              "      <td>Phone / App</td>\n",
              "      <td>Yes</td>\n",
              "      <td>SubContract</td>\n",
              "      <td>6.6</td>\n",
              "    </tr>\n",
              "  </tbody>\n",
              "</table>\n",
              "</div>"
            ],
            "text/plain": [
              "             Type SameZip DeliveryType  Avg Delivery Time\n",
              "0       Corporate      No       Direct               11.6\n",
              "1       In-Person      No       Direct                5.4\n",
              "2   OtherLocation      No       Direct               17.6\n",
              "3     Phone / App      No       Direct                9.3\n",
              "4       Corporate     Yes       Direct               13.0\n",
              "5       In-Person     Yes       Direct                5.9\n",
              "6   OtherLocation     Yes       Direct               16.4\n",
              "7     Phone / App     Yes       Direct                9.5\n",
              "8       Corporate      No  SubContract               11.9\n",
              "9       In-Person      No  SubContract                5.3\n",
              "10  OtherLocation      No  SubContract               16.5\n",
              "11    Phone / App      No  SubContract               10.1\n",
              "12      Corporate     Yes  SubContract                6.8\n",
              "13      In-Person     Yes  SubContract                4.1\n",
              "14  OtherLocation     Yes  SubContract               11.9\n",
              "15    Phone / App     Yes  SubContract                6.6"
            ]
          },
          "metadata": {
            "tags": []
          },
          "execution_count": 15
        }
      ]
    },
    {
      "cell_type": "markdown",
      "metadata": {
        "id": "q5jzaKyusFVh"
      },
      "source": [
        "## Breaking apart a Column"
      ]
    },
    {
      "cell_type": "markdown",
      "metadata": {
        "id": "01HNOqq4tR2w"
      },
      "source": [
        "There is a <strong>PIVOT</strong> operation for SQL that is akin to the <strong>spread</strong> operation in Python / R.  However, PIVOT is not available in SQLite.\n",
        "\n",
        "The PIVOT operation can be done in SQLite by first getting the summary table (the table above), a second table that contains some of the desired the struture for the output table needs to be created.  Finally, a JOIN operation is then used to combine the information for these two tables to create the desired output table."
      ]
    },
    {
      "cell_type": "markdown",
      "metadata": {
        "id": "8bGRM4_fuNT-"
      },
      "source": [
        "## Getting a list of the comments"
      ]
    },
    {
      "cell_type": "markdown",
      "metadata": {
        "id": "GoN4nZmtuQGQ"
      },
      "source": [
        "The following can be used to obtain all comments for deliveries that took longer than 60 minutes."
      ]
    },
    {
      "cell_type": "code",
      "metadata": {
        "colab": {
          "base_uri": "https://localhost:8080/",
          "height": 768
        },
        "id": "EVEuHJGKuNa0",
        "outputId": "4f59b359-65cf-4ad6-fbf9-6b8e5c342601"
      },
      "source": [
        "#Making a connection\n",
        "connect_db = sqlite3.connect(\"/content/sample_data/PizzaDelivery.db\")\n",
        "\n",
        "#SQL Statement\n",
        "df = pd.read_sql_query(\"\"\"\n",
        "                          SELECT Comments \n",
        "                          FROM PizzaDelivery2019\n",
        "                          WHERE Minutes > 60\n",
        "                       \"\"\"\n",
        "                          , connect_db)\n",
        "                       \n",
        "#Closing the connection\n",
        "connect_db.close()\n",
        "\n",
        "#Using pandas to show output\n",
        "df.head(200)"
      ],
      "execution_count": 30,
      "outputs": [
        {
          "output_type": "execute_result",
          "data": {
            "text/html": [
              "<div>\n",
              "<style scoped>\n",
              "    .dataframe tbody tr th:only-of-type {\n",
              "        vertical-align: middle;\n",
              "    }\n",
              "\n",
              "    .dataframe tbody tr th {\n",
              "        vertical-align: top;\n",
              "    }\n",
              "\n",
              "    .dataframe thead th {\n",
              "        text-align: right;\n",
              "    }\n",
              "</style>\n",
              "<table border=\"1\" class=\"dataframe\">\n",
              "  <thead>\n",
              "    <tr style=\"text-align: right;\">\n",
              "      <th></th>\n",
              "      <th>Comments</th>\n",
              "    </tr>\n",
              "  </thead>\n",
              "  <tbody>\n",
              "    <tr>\n",
              "      <th>0</th>\n",
              "      <td>Customer Delayed;</td>\n",
              "    </tr>\n",
              "    <tr>\n",
              "      <th>1</th>\n",
              "      <td>Customer Delayed;</td>\n",
              "    </tr>\n",
              "    <tr>\n",
              "      <th>2</th>\n",
              "      <td>Changed Order;</td>\n",
              "    </tr>\n",
              "    <tr>\n",
              "      <th>3</th>\n",
              "      <td>Customer Delayed; Changed Order;</td>\n",
              "    </tr>\n",
              "    <tr>\n",
              "      <th>4</th>\n",
              "      <td>Changed Order;</td>\n",
              "    </tr>\n",
              "    <tr>\n",
              "      <th>5</th>\n",
              "      <td>Customer Delayed; Changed Order;</td>\n",
              "    </tr>\n",
              "    <tr>\n",
              "      <th>6</th>\n",
              "      <td>Changed Order;</td>\n",
              "    </tr>\n",
              "    <tr>\n",
              "      <th>7</th>\n",
              "      <td>Chained Delivery; Number = 3; Changed Order;</td>\n",
              "    </tr>\n",
              "    <tr>\n",
              "      <th>8</th>\n",
              "      <td>Customer Delayed; Changed Order;</td>\n",
              "    </tr>\n",
              "    <tr>\n",
              "      <th>9</th>\n",
              "      <td>Chained Delivery; Number = 6;</td>\n",
              "    </tr>\n",
              "    <tr>\n",
              "      <th>10</th>\n",
              "      <td>Chained Delivery; Number = 6;</td>\n",
              "    </tr>\n",
              "    <tr>\n",
              "      <th>11</th>\n",
              "      <td>Customer Delayed; Changed Order;</td>\n",
              "    </tr>\n",
              "    <tr>\n",
              "      <th>12</th>\n",
              "      <td>Chained Delivery; Number = 4; Changed Order;</td>\n",
              "    </tr>\n",
              "    <tr>\n",
              "      <th>13</th>\n",
              "      <td>Chained Delivery; Number = 4;</td>\n",
              "    </tr>\n",
              "    <tr>\n",
              "      <th>14</th>\n",
              "      <td>Changed Order; Wrong Address;</td>\n",
              "    </tr>\n",
              "    <tr>\n",
              "      <th>15</th>\n",
              "      <td>Changed Order; Wrong Address;</td>\n",
              "    </tr>\n",
              "    <tr>\n",
              "      <th>16</th>\n",
              "      <td>Chained Delivery; Number = 3; Changed Order; W...</td>\n",
              "    </tr>\n",
              "    <tr>\n",
              "      <th>17</th>\n",
              "      <td>Chained Delivery; Number = 3; Changed Order;</td>\n",
              "    </tr>\n",
              "    <tr>\n",
              "      <th>18</th>\n",
              "      <td>Chained Delivery; Number = 5; Wrong Address;</td>\n",
              "    </tr>\n",
              "    <tr>\n",
              "      <th>19</th>\n",
              "      <td>Chained Delivery; Number = 2; Changed Order; W...</td>\n",
              "    </tr>\n",
              "    <tr>\n",
              "      <th>20</th>\n",
              "      <td>Chained Delivery; Number = 4; Wrong Address;</td>\n",
              "    </tr>\n",
              "    <tr>\n",
              "      <th>21</th>\n",
              "      <td>Chained Delivery; Number = 5;</td>\n",
              "    </tr>\n",
              "    <tr>\n",
              "      <th>22</th>\n",
              "      <td>Chained Delivery; Number = 4; Changed Order;</td>\n",
              "    </tr>\n",
              "    <tr>\n",
              "      <th>23</th>\n",
              "      <td>Chained Delivery; Number = 4; Wrong Address;</td>\n",
              "    </tr>\n",
              "  </tbody>\n",
              "</table>\n",
              "</div>"
            ],
            "text/plain": [
              "                                             Comments\n",
              "0                                   Customer Delayed;\n",
              "1                                   Customer Delayed;\n",
              "2                                      Changed Order;\n",
              "3                    Customer Delayed; Changed Order;\n",
              "4                                      Changed Order;\n",
              "5                    Customer Delayed; Changed Order;\n",
              "6                                      Changed Order;\n",
              "7        Chained Delivery; Number = 3; Changed Order;\n",
              "8                    Customer Delayed; Changed Order;\n",
              "9                       Chained Delivery; Number = 6;\n",
              "10                      Chained Delivery; Number = 6;\n",
              "11                   Customer Delayed; Changed Order;\n",
              "12       Chained Delivery; Number = 4; Changed Order;\n",
              "13                     Chained Delivery; Number = 4; \n",
              "14                      Changed Order; Wrong Address;\n",
              "15                      Changed Order; Wrong Address;\n",
              "16  Chained Delivery; Number = 3; Changed Order; W...\n",
              "17       Chained Delivery; Number = 3; Changed Order;\n",
              "18       Chained Delivery; Number = 5; Wrong Address;\n",
              "19  Chained Delivery; Number = 2; Changed Order; W...\n",
              "20       Chained Delivery; Number = 4; Wrong Address;\n",
              "21                     Chained Delivery; Number = 5; \n",
              "22       Chained Delivery; Number = 4; Changed Order;\n",
              "23       Chained Delivery; Number = 4; Wrong Address;"
            ]
          },
          "metadata": {
            "tags": []
          },
          "execution_count": 30
        }
      ]
    },
    {
      "cell_type": "markdown",
      "metadata": {
        "id": "hPt_oY5KutUn"
      },
      "source": [
        "<font size=\"+2\"><strong>Issue</strong></font>\n",
        "\n",
        "A couple locations have <i>chained</i> a few of their deliveries.  This means that a sequence of deliveries were made at once.  Locations are not supposed to do this as this is against company policy.   The Number in the Comment field indicates how many deliveries were made in this sequence of deliveries."
      ]
    },
    {
      "cell_type": "markdown",
      "metadata": {
        "id": "ETQ3Z645vFg-"
      },
      "source": [
        "## Fixing the Issue"
      ]
    },
    {
      "cell_type": "markdown",
      "metadata": {
        "id": "TcpP00dcPsuR"
      },
      "source": [
        "The <strong>ADD COLUMN</strong> command can be used to add a column to an exsisting table.  The necessary structure for the new column should be provided.\n",
        "\n",
        "\n",
        "\n",
        "*   ADD COLUMN with no structure (BAD): ADD COLUMN Quantity\n",
        "*   ADD COLUMN with some structure specified (BETTER): ADD COLUMN Quantity INT DEFAULT 1\n",
        "\n",
        "\n",
        "\n",
        "\n"
      ]
    },
    {
      "cell_type": "code",
      "metadata": {
        "colab": {
          "base_uri": "https://localhost:8080/",
          "height": 413
        },
        "id": "cIHXcpt5vFoe",
        "outputId": "dfc17f7d-bdd1-4d03-f798-7ae9912aee1d"
      },
      "source": [
        "#Making a connection\n",
        "connect_db = sqlite3.connect(\"/content/sample_data/PizzaDelivery.db\")\n",
        "\n",
        "#SQL Statement\n",
        "df = pd.read_sql_query(\"\"\"\n",
        "                          ALTER TABLE PizzaDelivery2019\n",
        "                          ADD COLUMN Quantity;\n",
        "                       \"\"\"\n",
        "                          , connect_db)\n",
        "                       \n",
        "#Closing the connection\n",
        "connect_db.close()\n"
      ],
      "execution_count": 197,
      "outputs": [
        {
          "output_type": "error",
          "ename": "TypeError",
          "evalue": "ignored",
          "traceback": [
            "\u001b[0;31m---------------------------------------------------------------------------\u001b[0m",
            "\u001b[0;31mTypeError\u001b[0m                                 Traceback (most recent call last)",
            "\u001b[0;32m<ipython-input-197-d42ad593fd34>\u001b[0m in \u001b[0;36m<module>\u001b[0;34m()\u001b[0m\n\u001b[1;32m      7\u001b[0m                           \u001b[0mADD\u001b[0m \u001b[0mCOLUMN\u001b[0m \u001b[0mQuantity\u001b[0m\u001b[0;34m;\u001b[0m\u001b[0;34m\u001b[0m\u001b[0;34m\u001b[0m\u001b[0m\n\u001b[1;32m      8\u001b[0m                        \"\"\"\n\u001b[0;32m----> 9\u001b[0;31m                           , connect_db)\n\u001b[0m\u001b[1;32m     10\u001b[0m \u001b[0;34m\u001b[0m\u001b[0m\n\u001b[1;32m     11\u001b[0m \u001b[0;31m#Closing the connection\u001b[0m\u001b[0;34m\u001b[0m\u001b[0;34m\u001b[0m\u001b[0;34m\u001b[0m\u001b[0m\n",
            "\u001b[0;32m/usr/local/lib/python3.7/dist-packages/pandas/io/sql.py\u001b[0m in \u001b[0;36mread_sql_query\u001b[0;34m(sql, con, index_col, coerce_float, params, parse_dates, chunksize)\u001b[0m\n\u001b[1;32m    381\u001b[0m         \u001b[0mcoerce_float\u001b[0m\u001b[0;34m=\u001b[0m\u001b[0mcoerce_float\u001b[0m\u001b[0;34m,\u001b[0m\u001b[0;34m\u001b[0m\u001b[0;34m\u001b[0m\u001b[0m\n\u001b[1;32m    382\u001b[0m         \u001b[0mparse_dates\u001b[0m\u001b[0;34m=\u001b[0m\u001b[0mparse_dates\u001b[0m\u001b[0;34m,\u001b[0m\u001b[0;34m\u001b[0m\u001b[0;34m\u001b[0m\u001b[0m\n\u001b[0;32m--> 383\u001b[0;31m         \u001b[0mchunksize\u001b[0m\u001b[0;34m=\u001b[0m\u001b[0mchunksize\u001b[0m\u001b[0;34m,\u001b[0m\u001b[0;34m\u001b[0m\u001b[0;34m\u001b[0m\u001b[0m\n\u001b[0m\u001b[1;32m    384\u001b[0m     )\n\u001b[1;32m    385\u001b[0m \u001b[0;34m\u001b[0m\u001b[0m\n",
            "\u001b[0;32m/usr/local/lib/python3.7/dist-packages/pandas/io/sql.py\u001b[0m in \u001b[0;36mread_query\u001b[0;34m(self, sql, index_col, coerce_float, params, parse_dates, chunksize)\u001b[0m\n\u001b[1;32m   1726\u001b[0m         \u001b[0margs\u001b[0m \u001b[0;34m=\u001b[0m \u001b[0m_convert_params\u001b[0m\u001b[0;34m(\u001b[0m\u001b[0msql\u001b[0m\u001b[0;34m,\u001b[0m \u001b[0mparams\u001b[0m\u001b[0;34m)\u001b[0m\u001b[0;34m\u001b[0m\u001b[0;34m\u001b[0m\u001b[0m\n\u001b[1;32m   1727\u001b[0m         \u001b[0mcursor\u001b[0m \u001b[0;34m=\u001b[0m \u001b[0mself\u001b[0m\u001b[0;34m.\u001b[0m\u001b[0mexecute\u001b[0m\u001b[0;34m(\u001b[0m\u001b[0;34m*\u001b[0m\u001b[0margs\u001b[0m\u001b[0;34m)\u001b[0m\u001b[0;34m\u001b[0m\u001b[0;34m\u001b[0m\u001b[0m\n\u001b[0;32m-> 1728\u001b[0;31m         \u001b[0mcolumns\u001b[0m \u001b[0;34m=\u001b[0m \u001b[0;34m[\u001b[0m\u001b[0mcol_desc\u001b[0m\u001b[0;34m[\u001b[0m\u001b[0;36m0\u001b[0m\u001b[0;34m]\u001b[0m \u001b[0;32mfor\u001b[0m \u001b[0mcol_desc\u001b[0m \u001b[0;32min\u001b[0m \u001b[0mcursor\u001b[0m\u001b[0;34m.\u001b[0m\u001b[0mdescription\u001b[0m\u001b[0;34m]\u001b[0m\u001b[0;34m\u001b[0m\u001b[0;34m\u001b[0m\u001b[0m\n\u001b[0m\u001b[1;32m   1729\u001b[0m \u001b[0;34m\u001b[0m\u001b[0m\n\u001b[1;32m   1730\u001b[0m         \u001b[0;32mif\u001b[0m \u001b[0mchunksize\u001b[0m \u001b[0;32mis\u001b[0m \u001b[0;32mnot\u001b[0m \u001b[0;32mNone\u001b[0m\u001b[0;34m:\u001b[0m\u001b[0;34m\u001b[0m\u001b[0;34m\u001b[0m\u001b[0m\n",
            "\u001b[0;31mTypeError\u001b[0m: 'NoneType' object is not iterable"
          ]
        }
      ]
    },
    {
      "cell_type": "markdown",
      "metadata": {
        "id": "34Gg-gISQ-en"
      },
      "source": [
        "Taking a look at newly created column when Comments contain an \"=\" sign."
      ]
    },
    {
      "cell_type": "code",
      "metadata": {
        "colab": {
          "base_uri": "https://localhost:8080/",
          "height": 438
        },
        "id": "iSnklRbisFcu",
        "outputId": "935f536f-7403-4174-bd4d-4dfb290ec8fe"
      },
      "source": [
        "#Making a connection\n",
        "connect_db = sqlite3.connect(\"/content/sample_data/PizzaDelivery.db\")\n",
        "\n",
        "#SQL Statement\n",
        "df = pd.read_sql_query(\"\"\"\n",
        "                          SELECT Quantity, Comments \n",
        "                          FROM PizzaDelivery2019\n",
        "                          WHERE INSTR(Comments,\" = \") > 0\n",
        "                       \"\"\"\n",
        "                          , connect_db)\n",
        "                       \n",
        "#Closing the connection\n",
        "connect_db.close()\n",
        "\n",
        "#Using pandas to show output\n",
        "df.head(200)"
      ],
      "execution_count": 199,
      "outputs": [
        {
          "output_type": "execute_result",
          "data": {
            "text/html": [
              "<div>\n",
              "<style scoped>\n",
              "    .dataframe tbody tr th:only-of-type {\n",
              "        vertical-align: middle;\n",
              "    }\n",
              "\n",
              "    .dataframe tbody tr th {\n",
              "        vertical-align: top;\n",
              "    }\n",
              "\n",
              "    .dataframe thead th {\n",
              "        text-align: right;\n",
              "    }\n",
              "</style>\n",
              "<table border=\"1\" class=\"dataframe\">\n",
              "  <thead>\n",
              "    <tr style=\"text-align: right;\">\n",
              "      <th></th>\n",
              "      <th>Quantity</th>\n",
              "      <th>Comments</th>\n",
              "    </tr>\n",
              "  </thead>\n",
              "  <tbody>\n",
              "    <tr>\n",
              "      <th>0</th>\n",
              "      <td>None</td>\n",
              "      <td>Chained Delivery; Number = 3; Changed Order;</td>\n",
              "    </tr>\n",
              "    <tr>\n",
              "      <th>1</th>\n",
              "      <td>None</td>\n",
              "      <td>Chained Delivery; Number = 6;</td>\n",
              "    </tr>\n",
              "    <tr>\n",
              "      <th>2</th>\n",
              "      <td>None</td>\n",
              "      <td>Chained Delivery; Number = 6;</td>\n",
              "    </tr>\n",
              "    <tr>\n",
              "      <th>3</th>\n",
              "      <td>None</td>\n",
              "      <td>Chained Delivery; Number = 4; Changed Order;</td>\n",
              "    </tr>\n",
              "    <tr>\n",
              "      <th>4</th>\n",
              "      <td>None</td>\n",
              "      <td>Chained Delivery; Number = 4;</td>\n",
              "    </tr>\n",
              "    <tr>\n",
              "      <th>5</th>\n",
              "      <td>None</td>\n",
              "      <td>Chained Delivery; Number = 3; Changed Order; W...</td>\n",
              "    </tr>\n",
              "    <tr>\n",
              "      <th>6</th>\n",
              "      <td>None</td>\n",
              "      <td>Chained Delivery; Number = 3; Changed Order;</td>\n",
              "    </tr>\n",
              "    <tr>\n",
              "      <th>7</th>\n",
              "      <td>None</td>\n",
              "      <td>Chained Delivery; Number = 5; Wrong Address;</td>\n",
              "    </tr>\n",
              "    <tr>\n",
              "      <th>8</th>\n",
              "      <td>None</td>\n",
              "      <td>Chained Delivery; Number = 2; Changed Order; W...</td>\n",
              "    </tr>\n",
              "    <tr>\n",
              "      <th>9</th>\n",
              "      <td>None</td>\n",
              "      <td>Chained Delivery; Number = 4; Wrong Address;</td>\n",
              "    </tr>\n",
              "    <tr>\n",
              "      <th>10</th>\n",
              "      <td>None</td>\n",
              "      <td>Chained Delivery; Number = 5;</td>\n",
              "    </tr>\n",
              "    <tr>\n",
              "      <th>11</th>\n",
              "      <td>None</td>\n",
              "      <td>Chained Delivery; Number = 4; Changed Order;</td>\n",
              "    </tr>\n",
              "    <tr>\n",
              "      <th>12</th>\n",
              "      <td>None</td>\n",
              "      <td>Chained Delivery; Number = 4; Wrong Address;</td>\n",
              "    </tr>\n",
              "  </tbody>\n",
              "</table>\n",
              "</div>"
            ],
            "text/plain": [
              "   Quantity                                           Comments\n",
              "0      None       Chained Delivery; Number = 3; Changed Order;\n",
              "1      None                      Chained Delivery; Number = 6;\n",
              "2      None                      Chained Delivery; Number = 6;\n",
              "3      None       Chained Delivery; Number = 4; Changed Order;\n",
              "4      None                     Chained Delivery; Number = 4; \n",
              "5      None  Chained Delivery; Number = 3; Changed Order; W...\n",
              "6      None       Chained Delivery; Number = 3; Changed Order;\n",
              "7      None       Chained Delivery; Number = 5; Wrong Address;\n",
              "8      None  Chained Delivery; Number = 2; Changed Order; W...\n",
              "9      None       Chained Delivery; Number = 4; Wrong Address;\n",
              "10     None                     Chained Delivery; Number = 5; \n",
              "11     None       Chained Delivery; Number = 4; Changed Order;\n",
              "12     None       Chained Delivery; Number = 4; Wrong Address;"
            ]
          },
          "metadata": {
            "tags": []
          },
          "execution_count": 199
        }
      ]
    },
    {
      "cell_type": "markdown",
      "metadata": {
        "id": "IRJV_rU7RuV9"
      },
      "source": [
        ""
      ]
    },
    {
      "cell_type": "markdown",
      "metadata": {
        "id": "wz68YJqQRfze"
      },
      "source": [
        "## No DROP in SQLite\n",
        "\n",
        "<table width='100%'><tr><td bgcolor='orange'>&nbsp;</td></tr></table>"
      ]
    },
    {
      "cell_type": "markdown",
      "metadata": {
        "id": "EumjDeTxxrZ5"
      },
      "source": [
        "In most situations, a <strong>DROP</strong> statement could be used to remove an unwanted field.  However, DROP is not available in SQLite.  As a result, the following will be done here.\n",
        "\n",
        "1.  Make a copy of initial table -- without the column to be dropped.\n",
        "2.  Drop the initial table.\n",
        "3.  Rename the new table to have the same name as the initial table."
      ]
    },
    {
      "cell_type": "markdown",
      "metadata": {
        "id": "xLtkRGrzSEO-"
      },
      "source": [
        "Step #1: Make copy of initial table -- <strong>without</strong> the column to be removed, i.e Quantity."
      ]
    },
    {
      "cell_type": "code",
      "metadata": {
        "id": "AWFqPqj5xrgq"
      },
      "source": [
        "#Making a connection\n",
        "dbconnection = sqlite3.connect(\"/content/sample_data/PizzaDelivery.db\")\n",
        "\n",
        "#SQL Statement\n",
        "dbconnection.cursor().execute(\"\"\"\n",
        "                                CREATE TABLE PizzaDelivery2019_v2 AS \n",
        "                                SELECT TableID, LocationID, DeliveryType, SameZip, Type, Minutes, Comments\n",
        "                                FROM PizzaDelivery2019\n",
        "                              \"\"\"\n",
        "                      )\n",
        "                       \n",
        "#Closing the connection\n",
        "dbconnection.close()"
      ],
      "execution_count": 214,
      "outputs": []
    },
    {
      "cell_type": "markdown",
      "metadata": {
        "id": "JrIq1A4R1AxG"
      },
      "source": [
        "Before proceeding to Step 2, make sure the copy of the initial table was \n",
        "successfully created."
      ]
    },
    {
      "cell_type": "code",
      "metadata": {
        "id": "X6W4KS29_ltx",
        "colab": {
          "base_uri": "https://localhost:8080/",
          "height": 168
        },
        "outputId": "9713c249-9b1d-48c5-e207-672ad9e4ce84"
      },
      "source": [
        "#Making a connection\n",
        "dbconnection = sqlite3.connect(\"/content/sample_data/PizzaDelivery.db\")\n",
        "\n",
        "#SQL Statement\n",
        "df = pd.read_sql_query(\n",
        "                        \"SELECT name FROM sqlite_master WHERE type='table'\"\n",
        "                          , dbconnection)\n",
        "#Closing the connection\n",
        "dbconnection.close()\n",
        "\n",
        "#Using pandas to show output\n",
        "df.head()"
      ],
      "execution_count": 215,
      "outputs": [
        {
          "output_type": "execute_result",
          "data": {
            "text/html": [
              "<div>\n",
              "<style scoped>\n",
              "    .dataframe tbody tr th:only-of-type {\n",
              "        vertical-align: middle;\n",
              "    }\n",
              "\n",
              "    .dataframe tbody tr th {\n",
              "        vertical-align: top;\n",
              "    }\n",
              "\n",
              "    .dataframe thead th {\n",
              "        text-align: right;\n",
              "    }\n",
              "</style>\n",
              "<table border=\"1\" class=\"dataframe\">\n",
              "  <thead>\n",
              "    <tr style=\"text-align: right;\">\n",
              "      <th></th>\n",
              "      <th>name</th>\n",
              "    </tr>\n",
              "  </thead>\n",
              "  <tbody>\n",
              "    <tr>\n",
              "      <th>0</th>\n",
              "      <td>sqlite_sequence</td>\n",
              "    </tr>\n",
              "    <tr>\n",
              "      <th>1</th>\n",
              "      <td>PizzaDelivery2019</td>\n",
              "    </tr>\n",
              "    <tr>\n",
              "      <th>2</th>\n",
              "      <td>PizzaDelivery2020</td>\n",
              "    </tr>\n",
              "    <tr>\n",
              "      <th>3</th>\n",
              "      <td>PizzaDelivery2019_v2</td>\n",
              "    </tr>\n",
              "  </tbody>\n",
              "</table>\n",
              "</div>"
            ],
            "text/plain": [
              "                   name\n",
              "0       sqlite_sequence\n",
              "1     PizzaDelivery2019\n",
              "2     PizzaDelivery2020\n",
              "3  PizzaDelivery2019_v2"
            ]
          },
          "metadata": {
            "tags": []
          },
          "execution_count": 215
        }
      ]
    },
    {
      "cell_type": "markdown",
      "metadata": {
        "id": "ZdSd1PSW1HN9"
      },
      "source": [
        "Step #2: Drop the initial table"
      ]
    },
    {
      "cell_type": "code",
      "metadata": {
        "id": "8areI-UW1HVr"
      },
      "source": [
        "#Making a connection\n",
        "dbconnection = sqlite3.connect(\"/content/sample_data/PizzaDelivery.db\")\n",
        "\n",
        "#SQL Statement\n",
        "dbconnection.cursor().execute(\"\"\"\n",
        "                               DROP TABLE PizzaDelivery2019\n",
        "                              \"\"\"\n",
        "                      )\n",
        "                       \n",
        "#Closing the connection\n",
        "dbconnection.close()"
      ],
      "execution_count": 216,
      "outputs": []
    },
    {
      "cell_type": "markdown",
      "metadata": {
        "id": "rVww__Dj1QAM"
      },
      "source": [
        "Again, before proceeding to Step 3, make sure the initial table was dropped successfully."
      ]
    },
    {
      "cell_type": "code",
      "metadata": {
        "colab": {
          "base_uri": "https://localhost:8080/",
          "height": 138
        },
        "id": "QOPRUcsQ1QIM",
        "outputId": "c2462eff-b2ae-449d-dbfc-bd6c3de902b3"
      },
      "source": [
        "#Making a connection\n",
        "dbconnection = sqlite3.connect(\"/content/sample_data/PizzaDelivery.db\")\n",
        "\n",
        "#SQL Statement\n",
        "df = pd.read_sql_query(\n",
        "                        \"SELECT name FROM sqlite_master WHERE type='table'\"\n",
        "                          , dbconnection)\n",
        "#Closing the connection\n",
        "dbconnection.close()\n",
        "\n",
        "#Using pandas to show output\n",
        "df.head()"
      ],
      "execution_count": 217,
      "outputs": [
        {
          "output_type": "execute_result",
          "data": {
            "text/html": [
              "<div>\n",
              "<style scoped>\n",
              "    .dataframe tbody tr th:only-of-type {\n",
              "        vertical-align: middle;\n",
              "    }\n",
              "\n",
              "    .dataframe tbody tr th {\n",
              "        vertical-align: top;\n",
              "    }\n",
              "\n",
              "    .dataframe thead th {\n",
              "        text-align: right;\n",
              "    }\n",
              "</style>\n",
              "<table border=\"1\" class=\"dataframe\">\n",
              "  <thead>\n",
              "    <tr style=\"text-align: right;\">\n",
              "      <th></th>\n",
              "      <th>name</th>\n",
              "    </tr>\n",
              "  </thead>\n",
              "  <tbody>\n",
              "    <tr>\n",
              "      <th>0</th>\n",
              "      <td>sqlite_sequence</td>\n",
              "    </tr>\n",
              "    <tr>\n",
              "      <th>1</th>\n",
              "      <td>PizzaDelivery2020</td>\n",
              "    </tr>\n",
              "    <tr>\n",
              "      <th>2</th>\n",
              "      <td>PizzaDelivery2019_v2</td>\n",
              "    </tr>\n",
              "  </tbody>\n",
              "</table>\n",
              "</div>"
            ],
            "text/plain": [
              "                   name\n",
              "0       sqlite_sequence\n",
              "1     PizzaDelivery2020\n",
              "2  PizzaDelivery2019_v2"
            ]
          },
          "metadata": {
            "tags": []
          },
          "execution_count": 217
        }
      ]
    },
    {
      "cell_type": "markdown",
      "metadata": {
        "id": "5NHyANn01YVc"
      },
      "source": [
        "Step #3: Rename the copied table to have same name as orginial table."
      ]
    },
    {
      "cell_type": "code",
      "metadata": {
        "id": "QyvVjXNq1YcG"
      },
      "source": [
        "#Making a connection\n",
        "dbconnection = sqlite3.connect(\"/content/sample_data/PizzaDelivery.db\")\n",
        "\n",
        "#SQL Statement\n",
        "dbconnection.cursor().execute(\"\"\"\n",
        "                                 ALTER TABLE PizzaDelivery2019_v2 RENAME TO PizzaDelivery2019\n",
        "                              \"\"\"\n",
        "                      )\n",
        "                       \n",
        "#Closing the connection\n",
        "dbconnection.close()"
      ],
      "execution_count": 218,
      "outputs": []
    },
    {
      "cell_type": "markdown",
      "metadata": {
        "id": "JNudeDll1SVd"
      },
      "source": [
        "Verify that the rename was successful. The initial table is now back in its orginal form."
      ]
    },
    {
      "cell_type": "code",
      "metadata": {
        "colab": {
          "base_uri": "https://localhost:8080/",
          "height": 138
        },
        "id": "Bb4gRloi1Sd8",
        "outputId": "fa5b3c48-0da7-4d46-e506-41bf8da08bbe"
      },
      "source": [
        "#Making a connection\n",
        "dbconnection = sqlite3.connect(\"/content/sample_data/PizzaDelivery.db\")\n",
        "\n",
        "#SQL Statement\n",
        "df = pd.read_sql_query(\n",
        "                        \"SELECT name FROM sqlite_master WHERE type='table'\"\n",
        "                          , dbconnection)\n",
        "#Closing the connection\n",
        "dbconnection.close()\n",
        "\n",
        "#Using pandas to show output\n",
        "df.head()"
      ],
      "execution_count": 219,
      "outputs": [
        {
          "output_type": "execute_result",
          "data": {
            "text/html": [
              "<div>\n",
              "<style scoped>\n",
              "    .dataframe tbody tr th:only-of-type {\n",
              "        vertical-align: middle;\n",
              "    }\n",
              "\n",
              "    .dataframe tbody tr th {\n",
              "        vertical-align: top;\n",
              "    }\n",
              "\n",
              "    .dataframe thead th {\n",
              "        text-align: right;\n",
              "    }\n",
              "</style>\n",
              "<table border=\"1\" class=\"dataframe\">\n",
              "  <thead>\n",
              "    <tr style=\"text-align: right;\">\n",
              "      <th></th>\n",
              "      <th>name</th>\n",
              "    </tr>\n",
              "  </thead>\n",
              "  <tbody>\n",
              "    <tr>\n",
              "      <th>0</th>\n",
              "      <td>sqlite_sequence</td>\n",
              "    </tr>\n",
              "    <tr>\n",
              "      <th>1</th>\n",
              "      <td>PizzaDelivery2020</td>\n",
              "    </tr>\n",
              "    <tr>\n",
              "      <th>2</th>\n",
              "      <td>PizzaDelivery2019</td>\n",
              "    </tr>\n",
              "  </tbody>\n",
              "</table>\n",
              "</div>"
            ],
            "text/plain": [
              "                name\n",
              "0    sqlite_sequence\n",
              "1  PizzaDelivery2020\n",
              "2  PizzaDelivery2019"
            ]
          },
          "metadata": {
            "tags": []
          },
          "execution_count": 219
        }
      ]
    },
    {
      "cell_type": "markdown",
      "metadata": {
        "id": "d74v1gVt1pAn"
      },
      "source": [
        "A check that only the only variables of the orginal table exist in this table."
      ]
    },
    {
      "cell_type": "code",
      "metadata": {
        "colab": {
          "base_uri": "https://localhost:8080/",
          "height": 258
        },
        "id": "w1v-IK9-1pHz",
        "outputId": "cc7eeaf9-3ad7-4f17-d530-08ffd4a4e6d7"
      },
      "source": [
        "#Making a connection\n",
        "dbconnection = sqlite3.connect(\"/content/sample_data/PizzaDelivery.db\")\n",
        "\n",
        "#SQL Statement\n",
        "df = pd.read_sql_query(\n",
        "                        \"PRAGMA table_info(PizzaDelivery2019)\"\n",
        "                          , dbconnection)\n",
        "#Closing the connection\n",
        "dbconnection.close()\n",
        "\n",
        "#Using pandas to show output\n",
        "df.head(10)"
      ],
      "execution_count": 220,
      "outputs": [
        {
          "output_type": "execute_result",
          "data": {
            "text/html": [
              "<div>\n",
              "<style scoped>\n",
              "    .dataframe tbody tr th:only-of-type {\n",
              "        vertical-align: middle;\n",
              "    }\n",
              "\n",
              "    .dataframe tbody tr th {\n",
              "        vertical-align: top;\n",
              "    }\n",
              "\n",
              "    .dataframe thead th {\n",
              "        text-align: right;\n",
              "    }\n",
              "</style>\n",
              "<table border=\"1\" class=\"dataframe\">\n",
              "  <thead>\n",
              "    <tr style=\"text-align: right;\">\n",
              "      <th></th>\n",
              "      <th>cid</th>\n",
              "      <th>name</th>\n",
              "      <th>type</th>\n",
              "      <th>notnull</th>\n",
              "      <th>dflt_value</th>\n",
              "      <th>pk</th>\n",
              "    </tr>\n",
              "  </thead>\n",
              "  <tbody>\n",
              "    <tr>\n",
              "      <th>0</th>\n",
              "      <td>0</td>\n",
              "      <td>TableID</td>\n",
              "      <td>INT</td>\n",
              "      <td>0</td>\n",
              "      <td>None</td>\n",
              "      <td>0</td>\n",
              "    </tr>\n",
              "    <tr>\n",
              "      <th>1</th>\n",
              "      <td>1</td>\n",
              "      <td>LocationID</td>\n",
              "      <td>TEXT</td>\n",
              "      <td>0</td>\n",
              "      <td>None</td>\n",
              "      <td>0</td>\n",
              "    </tr>\n",
              "    <tr>\n",
              "      <th>2</th>\n",
              "      <td>2</td>\n",
              "      <td>DeliveryType</td>\n",
              "      <td>TEXT</td>\n",
              "      <td>0</td>\n",
              "      <td>None</td>\n",
              "      <td>0</td>\n",
              "    </tr>\n",
              "    <tr>\n",
              "      <th>3</th>\n",
              "      <td>3</td>\n",
              "      <td>SameZip</td>\n",
              "      <td>TEXT</td>\n",
              "      <td>0</td>\n",
              "      <td>None</td>\n",
              "      <td>0</td>\n",
              "    </tr>\n",
              "    <tr>\n",
              "      <th>4</th>\n",
              "      <td>4</td>\n",
              "      <td>Type</td>\n",
              "      <td>TEXT</td>\n",
              "      <td>0</td>\n",
              "      <td>None</td>\n",
              "      <td>0</td>\n",
              "    </tr>\n",
              "    <tr>\n",
              "      <th>5</th>\n",
              "      <td>5</td>\n",
              "      <td>Minutes</td>\n",
              "      <td>REAL</td>\n",
              "      <td>0</td>\n",
              "      <td>None</td>\n",
              "      <td>0</td>\n",
              "    </tr>\n",
              "    <tr>\n",
              "      <th>6</th>\n",
              "      <td>6</td>\n",
              "      <td>Comments</td>\n",
              "      <td>TEXT</td>\n",
              "      <td>0</td>\n",
              "      <td>None</td>\n",
              "      <td>0</td>\n",
              "    </tr>\n",
              "  </tbody>\n",
              "</table>\n",
              "</div>"
            ],
            "text/plain": [
              "   cid          name  type  notnull dflt_value  pk\n",
              "0    0       TableID   INT        0       None   0\n",
              "1    1    LocationID  TEXT        0       None   0\n",
              "2    2  DeliveryType  TEXT        0       None   0\n",
              "3    3       SameZip  TEXT        0       None   0\n",
              "4    4          Type  TEXT        0       None   0\n",
              "5    5       Minutes  REAL        0       None   0\n",
              "6    6      Comments  TEXT        0       None   0"
            ]
          },
          "metadata": {
            "tags": []
          },
          "execution_count": 220
        }
      ]
    },
    {
      "cell_type": "markdown",
      "metadata": {
        "id": "dj935tFiT-aC"
      },
      "source": [
        "<table width='100%'><tr><td bgcolor='orange'>&nbsp;</td></tr></table>"
      ]
    },
    {
      "cell_type": "markdown",
      "metadata": {
        "id": "ojO6VtGt8Uuo"
      },
      "source": [
        "## Specify Some Structure for ADD COLUMN Quantity"
      ]
    },
    {
      "cell_type": "markdown",
      "metadata": {
        "id": "GzgyXc-nUT1s"
      },
      "source": [
        "As stated above, it is a good idea to specify the necessary strutrue when adding a new column to a table with an database.  Here, the following specification is provided when adding the Quantity column.\n",
        "\n",
        "\n",
        "*   INT: specifies that the new field should have data type integer\n",
        "*   DEFAULT 1; specifies that the default value be set to 1\n",
        "\n"
      ]
    },
    {
      "cell_type": "code",
      "metadata": {
        "id": "K1xN2g38UHSl"
      },
      "source": [
        "#Making a connection\n",
        "connect_db = sqlite3.connect(\"/content/sample_data/PizzaDelivery.db\")\n",
        "\n",
        "#SQL Statement\n",
        "df = pd.read_sql_query(\"\"\"\n",
        "                          ALTER TABLE PizzaDelivery2019\n",
        "                          ADD COLUMN Quantity INT DEFAULT 1;\n",
        "                       \"\"\"\n",
        "                          , connect_db)\n",
        "                       \n",
        "#Closing the connection\n",
        "connect_db.close()"
      ],
      "execution_count": null,
      "outputs": []
    },
    {
      "cell_type": "markdown",
      "metadata": {
        "id": "rD6A-o0mVVaJ"
      },
      "source": [
        "The PRAGMA statement can be used on the table to verify the setting for the Quantity field."
      ]
    },
    {
      "cell_type": "code",
      "metadata": {
        "colab": {
          "base_uri": "https://localhost:8080/",
          "height": 288
        },
        "id": "Co2tZtG_VViE",
        "outputId": "bf10b9d3-eab2-42d7-c742-d80d4a4e9f27"
      },
      "source": [
        "#Making a connection\n",
        "connect_db = sqlite3.connect(\"/content/sample_data/PizzaDelivery.db\")\n",
        "\n",
        "#SQL Statement\n",
        "df = pd.read_sql_query(\n",
        "                        \"PRAGMA table_info(PizzaDelivery2019)\"\n",
        "                          , connect_db)\n",
        "#Closing the connection\n",
        "connect_db.close()\n",
        "\n",
        "#Using pandas to show output\n",
        "df.head(10)"
      ],
      "execution_count": 225,
      "outputs": [
        {
          "output_type": "execute_result",
          "data": {
            "text/html": [
              "<div>\n",
              "<style scoped>\n",
              "    .dataframe tbody tr th:only-of-type {\n",
              "        vertical-align: middle;\n",
              "    }\n",
              "\n",
              "    .dataframe tbody tr th {\n",
              "        vertical-align: top;\n",
              "    }\n",
              "\n",
              "    .dataframe thead th {\n",
              "        text-align: right;\n",
              "    }\n",
              "</style>\n",
              "<table border=\"1\" class=\"dataframe\">\n",
              "  <thead>\n",
              "    <tr style=\"text-align: right;\">\n",
              "      <th></th>\n",
              "      <th>cid</th>\n",
              "      <th>name</th>\n",
              "      <th>type</th>\n",
              "      <th>notnull</th>\n",
              "      <th>dflt_value</th>\n",
              "      <th>pk</th>\n",
              "    </tr>\n",
              "  </thead>\n",
              "  <tbody>\n",
              "    <tr>\n",
              "      <th>0</th>\n",
              "      <td>0</td>\n",
              "      <td>TableID</td>\n",
              "      <td>INT</td>\n",
              "      <td>0</td>\n",
              "      <td>None</td>\n",
              "      <td>0</td>\n",
              "    </tr>\n",
              "    <tr>\n",
              "      <th>1</th>\n",
              "      <td>1</td>\n",
              "      <td>LocationID</td>\n",
              "      <td>TEXT</td>\n",
              "      <td>0</td>\n",
              "      <td>None</td>\n",
              "      <td>0</td>\n",
              "    </tr>\n",
              "    <tr>\n",
              "      <th>2</th>\n",
              "      <td>2</td>\n",
              "      <td>DeliveryType</td>\n",
              "      <td>TEXT</td>\n",
              "      <td>0</td>\n",
              "      <td>None</td>\n",
              "      <td>0</td>\n",
              "    </tr>\n",
              "    <tr>\n",
              "      <th>3</th>\n",
              "      <td>3</td>\n",
              "      <td>SameZip</td>\n",
              "      <td>TEXT</td>\n",
              "      <td>0</td>\n",
              "      <td>None</td>\n",
              "      <td>0</td>\n",
              "    </tr>\n",
              "    <tr>\n",
              "      <th>4</th>\n",
              "      <td>4</td>\n",
              "      <td>Type</td>\n",
              "      <td>TEXT</td>\n",
              "      <td>0</td>\n",
              "      <td>None</td>\n",
              "      <td>0</td>\n",
              "    </tr>\n",
              "    <tr>\n",
              "      <th>5</th>\n",
              "      <td>5</td>\n",
              "      <td>Minutes</td>\n",
              "      <td>REAL</td>\n",
              "      <td>0</td>\n",
              "      <td>None</td>\n",
              "      <td>0</td>\n",
              "    </tr>\n",
              "    <tr>\n",
              "      <th>6</th>\n",
              "      <td>6</td>\n",
              "      <td>Comments</td>\n",
              "      <td>TEXT</td>\n",
              "      <td>0</td>\n",
              "      <td>None</td>\n",
              "      <td>0</td>\n",
              "    </tr>\n",
              "    <tr>\n",
              "      <th>7</th>\n",
              "      <td>7</td>\n",
              "      <td>Quantity</td>\n",
              "      <td>INT</td>\n",
              "      <td>0</td>\n",
              "      <td>1</td>\n",
              "      <td>0</td>\n",
              "    </tr>\n",
              "  </tbody>\n",
              "</table>\n",
              "</div>"
            ],
            "text/plain": [
              "   cid          name  type  notnull dflt_value  pk\n",
              "0    0       TableID   INT        0       None   0\n",
              "1    1    LocationID  TEXT        0       None   0\n",
              "2    2  DeliveryType  TEXT        0       None   0\n",
              "3    3       SameZip  TEXT        0       None   0\n",
              "4    4          Type  TEXT        0       None   0\n",
              "5    5       Minutes  REAL        0       None   0\n",
              "6    6      Comments  TEXT        0       None   0\n",
              "7    7      Quantity   INT        0          1   0"
            ]
          },
          "metadata": {
            "tags": []
          },
          "execution_count": 225
        }
      ]
    },
    {
      "cell_type": "markdown",
      "metadata": {
        "id": "jAz4fCY-Uzkr"
      },
      "source": [
        "Taking a look at the Quantity value for the rows that need to be updated."
      ]
    },
    {
      "cell_type": "code",
      "metadata": {
        "colab": {
          "base_uri": "https://localhost:8080/",
          "height": 438
        },
        "id": "8OfiAwcr8U21",
        "outputId": "e70f3de8-8478-41e2-caf1-8c43d88689c3"
      },
      "source": [
        "#Making a connection\n",
        "connect_db = sqlite3.connect(\"/content/sample_data/PizzaDelivery.db\")\n",
        "\n",
        "#SQL Statement\n",
        "df = pd.read_sql_query(\"\"\"\n",
        "                          SELECT TableID, Quantity, Comments \n",
        "                          FROM PizzaDelivery2019\n",
        "                          WHERE INSTR(Comments,\" = \") > 0\n",
        "                       \"\"\"\n",
        "                          , connect_db)\n",
        "                       \n",
        "#Closing the connection\n",
        "connect_db.close()\n",
        "\n",
        "#Using pandas to show output\n",
        "df.head(200)"
      ],
      "execution_count": 226,
      "outputs": [
        {
          "output_type": "execute_result",
          "data": {
            "text/html": [
              "<div>\n",
              "<style scoped>\n",
              "    .dataframe tbody tr th:only-of-type {\n",
              "        vertical-align: middle;\n",
              "    }\n",
              "\n",
              "    .dataframe tbody tr th {\n",
              "        vertical-align: top;\n",
              "    }\n",
              "\n",
              "    .dataframe thead th {\n",
              "        text-align: right;\n",
              "    }\n",
              "</style>\n",
              "<table border=\"1\" class=\"dataframe\">\n",
              "  <thead>\n",
              "    <tr style=\"text-align: right;\">\n",
              "      <th></th>\n",
              "      <th>TableID</th>\n",
              "      <th>Quantity</th>\n",
              "      <th>Comments</th>\n",
              "    </tr>\n",
              "  </thead>\n",
              "  <tbody>\n",
              "    <tr>\n",
              "      <th>0</th>\n",
              "      <td>6821</td>\n",
              "      <td>1</td>\n",
              "      <td>Chained Delivery; Number = 3; Changed Order;</td>\n",
              "    </tr>\n",
              "    <tr>\n",
              "      <th>1</th>\n",
              "      <td>6826</td>\n",
              "      <td>1</td>\n",
              "      <td>Chained Delivery; Number = 6;</td>\n",
              "    </tr>\n",
              "    <tr>\n",
              "      <th>2</th>\n",
              "      <td>6828</td>\n",
              "      <td>1</td>\n",
              "      <td>Chained Delivery; Number = 6;</td>\n",
              "    </tr>\n",
              "    <tr>\n",
              "      <th>3</th>\n",
              "      <td>6832</td>\n",
              "      <td>1</td>\n",
              "      <td>Chained Delivery; Number = 4; Changed Order;</td>\n",
              "    </tr>\n",
              "    <tr>\n",
              "      <th>4</th>\n",
              "      <td>6855</td>\n",
              "      <td>1</td>\n",
              "      <td>Chained Delivery; Number = 4;</td>\n",
              "    </tr>\n",
              "    <tr>\n",
              "      <th>5</th>\n",
              "      <td>7746</td>\n",
              "      <td>1</td>\n",
              "      <td>Chained Delivery; Number = 3; Changed Order; W...</td>\n",
              "    </tr>\n",
              "    <tr>\n",
              "      <th>6</th>\n",
              "      <td>7747</td>\n",
              "      <td>1</td>\n",
              "      <td>Chained Delivery; Number = 3; Changed Order;</td>\n",
              "    </tr>\n",
              "    <tr>\n",
              "      <th>7</th>\n",
              "      <td>7748</td>\n",
              "      <td>1</td>\n",
              "      <td>Chained Delivery; Number = 5; Wrong Address;</td>\n",
              "    </tr>\n",
              "    <tr>\n",
              "      <th>8</th>\n",
              "      <td>7749</td>\n",
              "      <td>1</td>\n",
              "      <td>Chained Delivery; Number = 2; Changed Order; W...</td>\n",
              "    </tr>\n",
              "    <tr>\n",
              "      <th>9</th>\n",
              "      <td>7752</td>\n",
              "      <td>1</td>\n",
              "      <td>Chained Delivery; Number = 4; Wrong Address;</td>\n",
              "    </tr>\n",
              "    <tr>\n",
              "      <th>10</th>\n",
              "      <td>7753</td>\n",
              "      <td>1</td>\n",
              "      <td>Chained Delivery; Number = 5;</td>\n",
              "    </tr>\n",
              "    <tr>\n",
              "      <th>11</th>\n",
              "      <td>7755</td>\n",
              "      <td>1</td>\n",
              "      <td>Chained Delivery; Number = 4; Changed Order;</td>\n",
              "    </tr>\n",
              "    <tr>\n",
              "      <th>12</th>\n",
              "      <td>7756</td>\n",
              "      <td>1</td>\n",
              "      <td>Chained Delivery; Number = 4; Wrong Address;</td>\n",
              "    </tr>\n",
              "  </tbody>\n",
              "</table>\n",
              "</div>"
            ],
            "text/plain": [
              "    TableID  Quantity                                           Comments\n",
              "0      6821         1       Chained Delivery; Number = 3; Changed Order;\n",
              "1      6826         1                      Chained Delivery; Number = 6;\n",
              "2      6828         1                      Chained Delivery; Number = 6;\n",
              "3      6832         1       Chained Delivery; Number = 4; Changed Order;\n",
              "4      6855         1                     Chained Delivery; Number = 4; \n",
              "5      7746         1  Chained Delivery; Number = 3; Changed Order; W...\n",
              "6      7747         1       Chained Delivery; Number = 3; Changed Order;\n",
              "7      7748         1       Chained Delivery; Number = 5; Wrong Address;\n",
              "8      7749         1  Chained Delivery; Number = 2; Changed Order; W...\n",
              "9      7752         1       Chained Delivery; Number = 4; Wrong Address;\n",
              "10     7753         1                     Chained Delivery; Number = 5; \n",
              "11     7755         1       Chained Delivery; Number = 4; Changed Order;\n",
              "12     7756         1       Chained Delivery; Number = 4; Wrong Address;"
            ]
          },
          "metadata": {
            "tags": []
          },
          "execution_count": 226
        }
      ]
    },
    {
      "cell_type": "markdown",
      "metadata": {
        "id": "vg4dJNHlVrgf"
      },
      "source": [
        "## Pulling out the Number value from the Comments\n",
        "\n",
        "The following set of commands successfully pulls out the Number from the Comments field when appropriate.  "
      ]
    },
    {
      "cell_type": "code",
      "metadata": {
        "colab": {
          "base_uri": "https://localhost:8080/",
          "height": 438
        },
        "id": "rW-STyZiAPRZ",
        "outputId": "2d4a199b-aed7-4245-fefd-b5926a2836a3"
      },
      "source": [
        "#Making a connection\n",
        "connect_db = sqlite3.connect(\"/content/sample_data/PizzaDelivery.db\")\n",
        "\n",
        "#SQL Statement\n",
        "df = pd.read_sql_query(\"\"\"\n",
        "                          SELECT TableID, Quantity, Comments,\n",
        "                                 CASE\n",
        "                                    WHEN INSTR(Comments,\" = \") > 0 THEN SUBSTR(Comments, INSTR(Comments,\" = \")+2,2)\n",
        "                                    ELSE 1\n",
        "                                  END AS Number \n",
        "                          FROM PizzaDelivery2019 \n",
        "                          WHERE INSTR(Comments,\" = \") > 0\n",
        "                       \"\"\"\n",
        "                          , connect_db)\n",
        "                      \n",
        "#Closing the connection\n",
        "connect_db.close()\n",
        "\n",
        "#Using pandas to show output\n",
        "df.head(200)"
      ],
      "execution_count": 132,
      "outputs": [
        {
          "output_type": "execute_result",
          "data": {
            "text/html": [
              "<div>\n",
              "<style scoped>\n",
              "    .dataframe tbody tr th:only-of-type {\n",
              "        vertical-align: middle;\n",
              "    }\n",
              "\n",
              "    .dataframe tbody tr th {\n",
              "        vertical-align: top;\n",
              "    }\n",
              "\n",
              "    .dataframe thead th {\n",
              "        text-align: right;\n",
              "    }\n",
              "</style>\n",
              "<table border=\"1\" class=\"dataframe\">\n",
              "  <thead>\n",
              "    <tr style=\"text-align: right;\">\n",
              "      <th></th>\n",
              "      <th>TableID</th>\n",
              "      <th>Quantity</th>\n",
              "      <th>Comments</th>\n",
              "      <th>Number</th>\n",
              "    </tr>\n",
              "  </thead>\n",
              "  <tbody>\n",
              "    <tr>\n",
              "      <th>0</th>\n",
              "      <td>6821</td>\n",
              "      <td>1</td>\n",
              "      <td>Chained Delivery; Number = 3; Changed Order;</td>\n",
              "      <td>3</td>\n",
              "    </tr>\n",
              "    <tr>\n",
              "      <th>1</th>\n",
              "      <td>6826</td>\n",
              "      <td>1</td>\n",
              "      <td>Chained Delivery; Number = 6;</td>\n",
              "      <td>6</td>\n",
              "    </tr>\n",
              "    <tr>\n",
              "      <th>2</th>\n",
              "      <td>6828</td>\n",
              "      <td>1</td>\n",
              "      <td>Chained Delivery; Number = 6;</td>\n",
              "      <td>6</td>\n",
              "    </tr>\n",
              "    <tr>\n",
              "      <th>3</th>\n",
              "      <td>6832</td>\n",
              "      <td>1</td>\n",
              "      <td>Chained Delivery; Number = 4; Changed Order;</td>\n",
              "      <td>4</td>\n",
              "    </tr>\n",
              "    <tr>\n",
              "      <th>4</th>\n",
              "      <td>6855</td>\n",
              "      <td>1</td>\n",
              "      <td>Chained Delivery; Number = 4;</td>\n",
              "      <td>4</td>\n",
              "    </tr>\n",
              "    <tr>\n",
              "      <th>5</th>\n",
              "      <td>7746</td>\n",
              "      <td>1</td>\n",
              "      <td>Chained Delivery; Number = 3; Changed Order; W...</td>\n",
              "      <td>3</td>\n",
              "    </tr>\n",
              "    <tr>\n",
              "      <th>6</th>\n",
              "      <td>7747</td>\n",
              "      <td>1</td>\n",
              "      <td>Chained Delivery; Number = 3; Changed Order;</td>\n",
              "      <td>3</td>\n",
              "    </tr>\n",
              "    <tr>\n",
              "      <th>7</th>\n",
              "      <td>7748</td>\n",
              "      <td>1</td>\n",
              "      <td>Chained Delivery; Number = 5; Wrong Address;</td>\n",
              "      <td>5</td>\n",
              "    </tr>\n",
              "    <tr>\n",
              "      <th>8</th>\n",
              "      <td>7749</td>\n",
              "      <td>1</td>\n",
              "      <td>Chained Delivery; Number = 2; Changed Order; W...</td>\n",
              "      <td>2</td>\n",
              "    </tr>\n",
              "    <tr>\n",
              "      <th>9</th>\n",
              "      <td>7752</td>\n",
              "      <td>1</td>\n",
              "      <td>Chained Delivery; Number = 4; Wrong Address;</td>\n",
              "      <td>4</td>\n",
              "    </tr>\n",
              "    <tr>\n",
              "      <th>10</th>\n",
              "      <td>7753</td>\n",
              "      <td>1</td>\n",
              "      <td>Chained Delivery; Number = 5;</td>\n",
              "      <td>5</td>\n",
              "    </tr>\n",
              "    <tr>\n",
              "      <th>11</th>\n",
              "      <td>7755</td>\n",
              "      <td>1</td>\n",
              "      <td>Chained Delivery; Number = 4; Changed Order;</td>\n",
              "      <td>4</td>\n",
              "    </tr>\n",
              "    <tr>\n",
              "      <th>12</th>\n",
              "      <td>7756</td>\n",
              "      <td>1</td>\n",
              "      <td>Chained Delivery; Number = 4; Wrong Address;</td>\n",
              "      <td>4</td>\n",
              "    </tr>\n",
              "  </tbody>\n",
              "</table>\n",
              "</div>"
            ],
            "text/plain": [
              "    TableID  Quantity                                           Comments Number\n",
              "0      6821         1       Chained Delivery; Number = 3; Changed Order;      3\n",
              "1      6826         1                      Chained Delivery; Number = 6;      6\n",
              "2      6828         1                      Chained Delivery; Number = 6;      6\n",
              "3      6832         1       Chained Delivery; Number = 4; Changed Order;      4\n",
              "4      6855         1                     Chained Delivery; Number = 4;       4\n",
              "5      7746         1  Chained Delivery; Number = 3; Changed Order; W...      3\n",
              "6      7747         1       Chained Delivery; Number = 3; Changed Order;      3\n",
              "7      7748         1       Chained Delivery; Number = 5; Wrong Address;      5\n",
              "8      7749         1  Chained Delivery; Number = 2; Changed Order; W...      2\n",
              "9      7752         1       Chained Delivery; Number = 4; Wrong Address;      4\n",
              "10     7753         1                     Chained Delivery; Number = 5;       5\n",
              "11     7755         1       Chained Delivery; Number = 4; Changed Order;      4\n",
              "12     7756         1       Chained Delivery; Number = 4; Wrong Address;      4"
            ]
          },
          "metadata": {
            "tags": []
          },
          "execution_count": 132
        }
      ]
    },
    {
      "cell_type": "markdown",
      "metadata": {
        "id": "6eUEc2o58kOV"
      },
      "source": [
        "A Python dataframe can be added as a table into our database using the <strong>to_sql</strong> function.\n",
        "\n",
        "<p align='center'><font size=\"+1\">df.to_sql(<i>'table name'</i>, <i>db_connection</i>, if_exists='replace')</font></p>\n",
        "\n",
        "Line #16 in the following code save the Python dataframe into a table called PDFix in the PizzaDelivery.db."
      ]
    },
    {
      "cell_type": "code",
      "metadata": {
        "id": "GKCIxv7a8kWI"
      },
      "source": [
        "#Making a connection\n",
        "dbconnection = sqlite3.connect(\"/content/sample_data/PizzaDelivery.db\")\n",
        "\n",
        "#SQL Statement\n",
        "df = pd.read_sql_query(\"\"\"\n",
        "                         SELECT TableID, Quantity, Comments,\n",
        "                                CASE\n",
        "                                   WHEN INSTR(Comments,\" = \") > 0 THEN SUBSTR(Comments, INSTR(Comments,\" = \")+2,2)\n",
        "                                   ELSE 1\n",
        "                                END AS Number \n",
        "                         FROM PizzaDelivery2019 \n",
        "                         WHERE INSTR(Comments,\" = \") > 0\n",
        "                        \"\"\"\n",
        "                        , dbconnection)\n",
        "                       \n",
        "df.to_sql('PDFix',dbconnection, if_exists='replace' )\n",
        "\n",
        "#Closing the connection\n",
        "dbconnection.close()\n",
        "                       \n",
        "\n"
      ],
      "execution_count": 229,
      "outputs": []
    },
    {
      "cell_type": "markdown",
      "metadata": {
        "id": "Wtzx0-6FKZrx"
      },
      "source": [
        "Check to see if table has been successfully added to the database."
      ]
    },
    {
      "cell_type": "code",
      "metadata": {
        "colab": {
          "base_uri": "https://localhost:8080/",
          "height": 168
        },
        "id": "FP0dTgWnKZz0",
        "outputId": "14fafa77-3825-4b8a-cf48-cb36ea4c9848"
      },
      "source": [
        "#Making a connection\n",
        "dbconnection = sqlite3.connect(\"/content/sample_data/PizzaDelivery.db\")\n",
        "\n",
        "#SQL Statement\n",
        "df = pd.read_sql_query(\n",
        "                        \"SELECT name FROM sqlite_master WHERE type='table'\"\n",
        "                          , dbconnection)\n",
        "#Closing the connection\n",
        "dbconnection.close()\n",
        "\n",
        "#Using pandas to show output\n",
        "df.head()"
      ],
      "execution_count": 230,
      "outputs": [
        {
          "output_type": "execute_result",
          "data": {
            "text/html": [
              "<div>\n",
              "<style scoped>\n",
              "    .dataframe tbody tr th:only-of-type {\n",
              "        vertical-align: middle;\n",
              "    }\n",
              "\n",
              "    .dataframe tbody tr th {\n",
              "        vertical-align: top;\n",
              "    }\n",
              "\n",
              "    .dataframe thead th {\n",
              "        text-align: right;\n",
              "    }\n",
              "</style>\n",
              "<table border=\"1\" class=\"dataframe\">\n",
              "  <thead>\n",
              "    <tr style=\"text-align: right;\">\n",
              "      <th></th>\n",
              "      <th>name</th>\n",
              "    </tr>\n",
              "  </thead>\n",
              "  <tbody>\n",
              "    <tr>\n",
              "      <th>0</th>\n",
              "      <td>sqlite_sequence</td>\n",
              "    </tr>\n",
              "    <tr>\n",
              "      <th>1</th>\n",
              "      <td>PizzaDelivery2020</td>\n",
              "    </tr>\n",
              "    <tr>\n",
              "      <th>2</th>\n",
              "      <td>PizzaDelivery2019</td>\n",
              "    </tr>\n",
              "    <tr>\n",
              "      <th>3</th>\n",
              "      <td>PDFix</td>\n",
              "    </tr>\n",
              "  </tbody>\n",
              "</table>\n",
              "</div>"
            ],
            "text/plain": [
              "                name\n",
              "0    sqlite_sequence\n",
              "1  PizzaDelivery2020\n",
              "2  PizzaDelivery2019\n",
              "3              PDFix"
            ]
          },
          "metadata": {
            "tags": []
          },
          "execution_count": 230
        }
      ]
    },
    {
      "cell_type": "markdown",
      "metadata": {
        "id": "Yd--cPEJMvDR"
      },
      "source": [
        "**THIS CODE IS NOT WORKING --- NOT SURE WHAT IS GOING ON...**"
      ]
    },
    {
      "cell_type": "code",
      "metadata": {
        "id": "uB-2_8-8MvLl"
      },
      "source": [
        "#Making a connection\n",
        "dbconnection = sqlite3.connect(\"/content/sample_data/PizzaDelivery.db\")\n",
        "\n",
        "#SQL Statement\n",
        "dbconnection.cursor().execute(\"\"\"\n",
        "                               UPDATE PizzaDelivery2019 SET Quantity=\n",
        "                                                                      (\n",
        "                                                                        SELECT Number\n",
        "                                                                        FROM PDFix\n",
        "                                                                        WHERE PDFix.TableID = PizzaDelivery2019.TableID\n",
        "                                                                      )  \n",
        "                              \"\"\"\n",
        "                              )\n",
        "                       \n",
        "#Closing the connection\n",
        "dbconnection.close()"
      ],
      "execution_count": 234,
      "outputs": []
    },
    {
      "cell_type": "markdown",
      "metadata": {
        "id": "ZrU-rp30XwWJ"
      },
      "source": [
        "**CANNOT GET A SIMPLE UPDATE CODE TO WORK**"
      ]
    },
    {
      "cell_type": "code",
      "metadata": {
        "id": "LfvaN6aHXweG"
      },
      "source": [
        "#Making a connection\n",
        "dbconnection = sqlite3.connect(\"/content/sample_data/PizzaDelivery.db\")\n",
        "\n",
        "#SQL Statement\n",
        "dbconnection.cursor().execute(\"\"\"\n",
        "                               UPDATE PizzaDelivery2019 SET Quantity= 3 WHERE TableID = 6821                              \"\"\"\n",
        "                             )\n",
        "                       \n",
        "#Closing the connection\n",
        "dbconnection.close()"
      ],
      "execution_count": 237,
      "outputs": []
    },
    {
      "cell_type": "markdown",
      "metadata": {
        "id": "Sg1v755tGz7l"
      },
      "source": [
        "Check to see if UPDATE code is working...  No ..."
      ]
    },
    {
      "cell_type": "code",
      "metadata": {
        "colab": {
          "base_uri": "https://localhost:8080/",
          "height": 438
        },
        "id": "JhyCNrxHG0DY",
        "outputId": "1a4ca0bd-6e3c-47f2-ec6e-22a6a0e4739b"
      },
      "source": [
        "#Making a connection\n",
        "connect_db = sqlite3.connect(\"/content/sample_data/PizzaDelivery.db\")\n",
        "\n",
        "#SQL Statement\n",
        "df = pd.read_sql_query(\"\"\"\n",
        "                          SELECT TableID, Quantity, Comments      \n",
        "                          FROM PizzaDelivery2019 \n",
        "                          WHERE INSTR(Comments,\" = \") > 0\n",
        "                       \"\"\"\n",
        "                          , connect_db)\n",
        "                      \n",
        "#Closing the connection\n",
        "connect_db.close()\n",
        "\n",
        "#Using pandas to show output\n",
        "df.head(200)"
      ],
      "execution_count": 238,
      "outputs": [
        {
          "output_type": "execute_result",
          "data": {
            "text/html": [
              "<div>\n",
              "<style scoped>\n",
              "    .dataframe tbody tr th:only-of-type {\n",
              "        vertical-align: middle;\n",
              "    }\n",
              "\n",
              "    .dataframe tbody tr th {\n",
              "        vertical-align: top;\n",
              "    }\n",
              "\n",
              "    .dataframe thead th {\n",
              "        text-align: right;\n",
              "    }\n",
              "</style>\n",
              "<table border=\"1\" class=\"dataframe\">\n",
              "  <thead>\n",
              "    <tr style=\"text-align: right;\">\n",
              "      <th></th>\n",
              "      <th>TableID</th>\n",
              "      <th>Quantity</th>\n",
              "      <th>Comments</th>\n",
              "    </tr>\n",
              "  </thead>\n",
              "  <tbody>\n",
              "    <tr>\n",
              "      <th>0</th>\n",
              "      <td>6821</td>\n",
              "      <td>1</td>\n",
              "      <td>Chained Delivery; Number = 3; Changed Order;</td>\n",
              "    </tr>\n",
              "    <tr>\n",
              "      <th>1</th>\n",
              "      <td>6826</td>\n",
              "      <td>1</td>\n",
              "      <td>Chained Delivery; Number = 6;</td>\n",
              "    </tr>\n",
              "    <tr>\n",
              "      <th>2</th>\n",
              "      <td>6828</td>\n",
              "      <td>1</td>\n",
              "      <td>Chained Delivery; Number = 6;</td>\n",
              "    </tr>\n",
              "    <tr>\n",
              "      <th>3</th>\n",
              "      <td>6832</td>\n",
              "      <td>1</td>\n",
              "      <td>Chained Delivery; Number = 4; Changed Order;</td>\n",
              "    </tr>\n",
              "    <tr>\n",
              "      <th>4</th>\n",
              "      <td>6855</td>\n",
              "      <td>1</td>\n",
              "      <td>Chained Delivery; Number = 4;</td>\n",
              "    </tr>\n",
              "    <tr>\n",
              "      <th>5</th>\n",
              "      <td>7746</td>\n",
              "      <td>1</td>\n",
              "      <td>Chained Delivery; Number = 3; Changed Order; W...</td>\n",
              "    </tr>\n",
              "    <tr>\n",
              "      <th>6</th>\n",
              "      <td>7747</td>\n",
              "      <td>1</td>\n",
              "      <td>Chained Delivery; Number = 3; Changed Order;</td>\n",
              "    </tr>\n",
              "    <tr>\n",
              "      <th>7</th>\n",
              "      <td>7748</td>\n",
              "      <td>1</td>\n",
              "      <td>Chained Delivery; Number = 5; Wrong Address;</td>\n",
              "    </tr>\n",
              "    <tr>\n",
              "      <th>8</th>\n",
              "      <td>7749</td>\n",
              "      <td>1</td>\n",
              "      <td>Chained Delivery; Number = 2; Changed Order; W...</td>\n",
              "    </tr>\n",
              "    <tr>\n",
              "      <th>9</th>\n",
              "      <td>7752</td>\n",
              "      <td>1</td>\n",
              "      <td>Chained Delivery; Number = 4; Wrong Address;</td>\n",
              "    </tr>\n",
              "    <tr>\n",
              "      <th>10</th>\n",
              "      <td>7753</td>\n",
              "      <td>1</td>\n",
              "      <td>Chained Delivery; Number = 5;</td>\n",
              "    </tr>\n",
              "    <tr>\n",
              "      <th>11</th>\n",
              "      <td>7755</td>\n",
              "      <td>1</td>\n",
              "      <td>Chained Delivery; Number = 4; Changed Order;</td>\n",
              "    </tr>\n",
              "    <tr>\n",
              "      <th>12</th>\n",
              "      <td>7756</td>\n",
              "      <td>1</td>\n",
              "      <td>Chained Delivery; Number = 4; Wrong Address;</td>\n",
              "    </tr>\n",
              "  </tbody>\n",
              "</table>\n",
              "</div>"
            ],
            "text/plain": [
              "    TableID  Quantity                                           Comments\n",
              "0      6821         1       Chained Delivery; Number = 3; Changed Order;\n",
              "1      6826         1                      Chained Delivery; Number = 6;\n",
              "2      6828         1                      Chained Delivery; Number = 6;\n",
              "3      6832         1       Chained Delivery; Number = 4; Changed Order;\n",
              "4      6855         1                     Chained Delivery; Number = 4; \n",
              "5      7746         1  Chained Delivery; Number = 3; Changed Order; W...\n",
              "6      7747         1       Chained Delivery; Number = 3; Changed Order;\n",
              "7      7748         1       Chained Delivery; Number = 5; Wrong Address;\n",
              "8      7749         1  Chained Delivery; Number = 2; Changed Order; W...\n",
              "9      7752         1       Chained Delivery; Number = 4; Wrong Address;\n",
              "10     7753         1                     Chained Delivery; Number = 5; \n",
              "11     7755         1       Chained Delivery; Number = 4; Changed Order;\n",
              "12     7756         1       Chained Delivery; Number = 4; Wrong Address;"
            ]
          },
          "metadata": {
            "tags": []
          },
          "execution_count": 238
        }
      ]
    },
    {
      "cell_type": "markdown",
      "metadata": {
        "id": "RBq1L8OO4gYt"
      },
      "source": [
        "\n",
        "\n",
        "---\n",
        "\n",
        "---\n",
        "\n",
        "---\n",
        "\n",
        "---\n",
        "\n",
        "\n",
        "\n",
        "\n",
        "\n",
        "\n",
        "\n"
      ]
    },
    {
      "cell_type": "markdown",
      "metadata": {
        "id": "jKpWPPizYVt0"
      },
      "source": [
        "## Getting Summaries Directly -- without updating database"
      ]
    },
    {
      "cell_type": "markdown",
      "metadata": {
        "id": "pq-QdtlNYjMV"
      },
      "source": [
        "The necessary summaries can be created <i>without</i> creating a new column in the table in the database.  The following code creates a new variable called Number which is used in the basic summaries, but not actually put into the database table."
      ]
    },
    {
      "cell_type": "code",
      "metadata": {
        "colab": {
          "base_uri": "https://localhost:8080/",
          "height": 528
        },
        "id": "METIpX714gfn",
        "outputId": "a5037664-6dfa-484f-abf5-e5172125869b"
      },
      "source": [
        "#Making a connection\n",
        "connect_db = sqlite3.connect(\"/content/sample_data/PizzaDelivery.db\")\n",
        "\n",
        "#SQL Statement\n",
        "df = pd.read_sql_query(\"\"\"\n",
        "\n",
        "                       SELECT Type, SameZip, DeliveryType, ROUND(SUM(Minutes)/SUM(Number),1) AS 'Avg Delivery Time'\n",
        "                       FROM\n",
        "                          (\n",
        "                            SELECT Type, SameZip, DeliveryType, Minutes, Comments,\n",
        "                                   CASE\n",
        "                                      WHEN INSTR(Comments,\" = \") > 0 THEN SUBSTR(Comments, INSTR(Comments,\" = \")+2,2)\n",
        "                                    ELSE 1\n",
        "                                  END AS Number\n",
        "                            FROM PizzaDelivery2019\n",
        "                            \n",
        "                          )\n",
        "                          GROUP BY Type, SameZip, DeliveryType\n",
        "                          ORDER BY DeliveryType, Samezip, Type\n",
        "                       \"\"\"\n",
        "                          , connect_db)\n",
        "                       \n",
        "#Closing the connection\n",
        "connect_db.close()\n",
        "\n",
        "#Using pandas to show output\n",
        "df.head(200)"
      ],
      "execution_count": 87,
      "outputs": [
        {
          "output_type": "execute_result",
          "data": {
            "text/html": [
              "<div>\n",
              "<style scoped>\n",
              "    .dataframe tbody tr th:only-of-type {\n",
              "        vertical-align: middle;\n",
              "    }\n",
              "\n",
              "    .dataframe tbody tr th {\n",
              "        vertical-align: top;\n",
              "    }\n",
              "\n",
              "    .dataframe thead th {\n",
              "        text-align: right;\n",
              "    }\n",
              "</style>\n",
              "<table border=\"1\" class=\"dataframe\">\n",
              "  <thead>\n",
              "    <tr style=\"text-align: right;\">\n",
              "      <th></th>\n",
              "      <th>Type</th>\n",
              "      <th>SameZip</th>\n",
              "      <th>DeliveryType</th>\n",
              "      <th>Avg Delivery Time</th>\n",
              "    </tr>\n",
              "  </thead>\n",
              "  <tbody>\n",
              "    <tr>\n",
              "      <th>0</th>\n",
              "      <td>Corporate</td>\n",
              "      <td>No</td>\n",
              "      <td>Direct</td>\n",
              "      <td>11.6</td>\n",
              "    </tr>\n",
              "    <tr>\n",
              "      <th>1</th>\n",
              "      <td>In-Person</td>\n",
              "      <td>No</td>\n",
              "      <td>Direct</td>\n",
              "      <td>5.4</td>\n",
              "    </tr>\n",
              "    <tr>\n",
              "      <th>2</th>\n",
              "      <td>OtherLocation</td>\n",
              "      <td>No</td>\n",
              "      <td>Direct</td>\n",
              "      <td>17.6</td>\n",
              "    </tr>\n",
              "    <tr>\n",
              "      <th>3</th>\n",
              "      <td>Phone / App</td>\n",
              "      <td>No</td>\n",
              "      <td>Direct</td>\n",
              "      <td>9.3</td>\n",
              "    </tr>\n",
              "    <tr>\n",
              "      <th>4</th>\n",
              "      <td>Corporate</td>\n",
              "      <td>Yes</td>\n",
              "      <td>Direct</td>\n",
              "      <td>12.9</td>\n",
              "    </tr>\n",
              "    <tr>\n",
              "      <th>5</th>\n",
              "      <td>In-Person</td>\n",
              "      <td>Yes</td>\n",
              "      <td>Direct</td>\n",
              "      <td>5.9</td>\n",
              "    </tr>\n",
              "    <tr>\n",
              "      <th>6</th>\n",
              "      <td>OtherLocation</td>\n",
              "      <td>Yes</td>\n",
              "      <td>Direct</td>\n",
              "      <td>16.1</td>\n",
              "    </tr>\n",
              "    <tr>\n",
              "      <th>7</th>\n",
              "      <td>Phone / App</td>\n",
              "      <td>Yes</td>\n",
              "      <td>Direct</td>\n",
              "      <td>9.4</td>\n",
              "    </tr>\n",
              "    <tr>\n",
              "      <th>8</th>\n",
              "      <td>Corporate</td>\n",
              "      <td>No</td>\n",
              "      <td>SubContract</td>\n",
              "      <td>11.9</td>\n",
              "    </tr>\n",
              "    <tr>\n",
              "      <th>9</th>\n",
              "      <td>In-Person</td>\n",
              "      <td>No</td>\n",
              "      <td>SubContract</td>\n",
              "      <td>5.3</td>\n",
              "    </tr>\n",
              "    <tr>\n",
              "      <th>10</th>\n",
              "      <td>OtherLocation</td>\n",
              "      <td>No</td>\n",
              "      <td>SubContract</td>\n",
              "      <td>16.5</td>\n",
              "    </tr>\n",
              "    <tr>\n",
              "      <th>11</th>\n",
              "      <td>Phone / App</td>\n",
              "      <td>No</td>\n",
              "      <td>SubContract</td>\n",
              "      <td>10.1</td>\n",
              "    </tr>\n",
              "    <tr>\n",
              "      <th>12</th>\n",
              "      <td>Corporate</td>\n",
              "      <td>Yes</td>\n",
              "      <td>SubContract</td>\n",
              "      <td>6.8</td>\n",
              "    </tr>\n",
              "    <tr>\n",
              "      <th>13</th>\n",
              "      <td>In-Person</td>\n",
              "      <td>Yes</td>\n",
              "      <td>SubContract</td>\n",
              "      <td>4.1</td>\n",
              "    </tr>\n",
              "    <tr>\n",
              "      <th>14</th>\n",
              "      <td>OtherLocation</td>\n",
              "      <td>Yes</td>\n",
              "      <td>SubContract</td>\n",
              "      <td>11.9</td>\n",
              "    </tr>\n",
              "    <tr>\n",
              "      <th>15</th>\n",
              "      <td>Phone / App</td>\n",
              "      <td>Yes</td>\n",
              "      <td>SubContract</td>\n",
              "      <td>6.6</td>\n",
              "    </tr>\n",
              "  </tbody>\n",
              "</table>\n",
              "</div>"
            ],
            "text/plain": [
              "             Type SameZip DeliveryType  Avg Delivery Time\n",
              "0       Corporate      No       Direct               11.6\n",
              "1       In-Person      No       Direct                5.4\n",
              "2   OtherLocation      No       Direct               17.6\n",
              "3     Phone / App      No       Direct                9.3\n",
              "4       Corporate     Yes       Direct               12.9\n",
              "5       In-Person     Yes       Direct                5.9\n",
              "6   OtherLocation     Yes       Direct               16.1\n",
              "7     Phone / App     Yes       Direct                9.4\n",
              "8       Corporate      No  SubContract               11.9\n",
              "9       In-Person      No  SubContract                5.3\n",
              "10  OtherLocation      No  SubContract               16.5\n",
              "11    Phone / App      No  SubContract               10.1\n",
              "12      Corporate     Yes  SubContract                6.8\n",
              "13      In-Person     Yes  SubContract                4.1\n",
              "14  OtherLocation     Yes  SubContract               11.9\n",
              "15    Phone / App     Yes  SubContract                6.6"
            ]
          },
          "metadata": {
            "tags": []
          },
          "execution_count": 87
        }
      ]
    },
    {
      "cell_type": "markdown",
      "metadata": {
        "id": "LobiJgsy49gE"
      },
      "source": [
        "## Analysis for 2020\n",
        "\n",
        "The analysis in SQL for 2020 is much easier as the Quanity column was placed into this data table upon the data collection form."
      ]
    },
    {
      "cell_type": "code",
      "metadata": {
        "colab": {
          "base_uri": "https://localhost:8080/",
          "height": 498
        },
        "id": "lhLakP4hZeDo",
        "outputId": "6d590574-4942-4fba-ab5f-d638604abbe9"
      },
      "source": [
        "#Making a connection\n",
        "connect_db = sqlite3.connect(\"/content/sample_data/PizzaDelivery.db\")\n",
        "\n",
        "#SQL Statement\n",
        "df = pd.read_sql_query(\"\"\"\n",
        "                          SELECT Type, Samezip, DeliveryType, ROUND(SUM(Minutes)/SUM(Quantity),1) AS 'Avg Delivery Time'\n",
        "                          FROM PizzaDelivery2020\n",
        "                          GROUP BY Type, Samezip, DeliveryType\n",
        "                          ORDER BY DeliveryType, Samezip, Type\n",
        "                       \"\"\"\n",
        "                          , connect_db)\n",
        "                       \n",
        "#Closing the connection\n",
        "connect_db.close()\n",
        "\n",
        "#Using pandas to show output\n",
        "df.head(16)"
      ],
      "execution_count": 240,
      "outputs": [
        {
          "output_type": "execute_result",
          "data": {
            "text/html": [
              "<div>\n",
              "<style scoped>\n",
              "    .dataframe tbody tr th:only-of-type {\n",
              "        vertical-align: middle;\n",
              "    }\n",
              "\n",
              "    .dataframe tbody tr th {\n",
              "        vertical-align: top;\n",
              "    }\n",
              "\n",
              "    .dataframe thead th {\n",
              "        text-align: right;\n",
              "    }\n",
              "</style>\n",
              "<table border=\"1\" class=\"dataframe\">\n",
              "  <thead>\n",
              "    <tr style=\"text-align: right;\">\n",
              "      <th></th>\n",
              "      <th>Type</th>\n",
              "      <th>SameZip</th>\n",
              "      <th>DeliveryType</th>\n",
              "      <th>Avg Delivery Time</th>\n",
              "    </tr>\n",
              "  </thead>\n",
              "  <tbody>\n",
              "    <tr>\n",
              "      <th>0</th>\n",
              "      <td>Corporate</td>\n",
              "      <td>No</td>\n",
              "      <td>Direct</td>\n",
              "      <td>17.1</td>\n",
              "    </tr>\n",
              "    <tr>\n",
              "      <th>1</th>\n",
              "      <td>In-Person</td>\n",
              "      <td>No</td>\n",
              "      <td>Direct</td>\n",
              "      <td>8.0</td>\n",
              "    </tr>\n",
              "    <tr>\n",
              "      <th>2</th>\n",
              "      <td>OtherLocation</td>\n",
              "      <td>No</td>\n",
              "      <td>Direct</td>\n",
              "      <td>25.0</td>\n",
              "    </tr>\n",
              "    <tr>\n",
              "      <th>3</th>\n",
              "      <td>Phone / App</td>\n",
              "      <td>No</td>\n",
              "      <td>Direct</td>\n",
              "      <td>15.1</td>\n",
              "    </tr>\n",
              "    <tr>\n",
              "      <th>4</th>\n",
              "      <td>Corporate</td>\n",
              "      <td>Yes</td>\n",
              "      <td>Direct</td>\n",
              "      <td>18.3</td>\n",
              "    </tr>\n",
              "    <tr>\n",
              "      <th>5</th>\n",
              "      <td>In-Person</td>\n",
              "      <td>Yes</td>\n",
              "      <td>Direct</td>\n",
              "      <td>9.4</td>\n",
              "    </tr>\n",
              "    <tr>\n",
              "      <th>6</th>\n",
              "      <td>OtherLocation</td>\n",
              "      <td>Yes</td>\n",
              "      <td>Direct</td>\n",
              "      <td>24.5</td>\n",
              "    </tr>\n",
              "    <tr>\n",
              "      <th>7</th>\n",
              "      <td>Phone / App</td>\n",
              "      <td>Yes</td>\n",
              "      <td>Direct</td>\n",
              "      <td>16.8</td>\n",
              "    </tr>\n",
              "    <tr>\n",
              "      <th>8</th>\n",
              "      <td>Corporate</td>\n",
              "      <td>No</td>\n",
              "      <td>Subcontract</td>\n",
              "      <td>7.0</td>\n",
              "    </tr>\n",
              "    <tr>\n",
              "      <th>9</th>\n",
              "      <td>In-Person</td>\n",
              "      <td>No</td>\n",
              "      <td>Subcontract</td>\n",
              "      <td>3.0</td>\n",
              "    </tr>\n",
              "    <tr>\n",
              "      <th>10</th>\n",
              "      <td>Phone / App</td>\n",
              "      <td>No</td>\n",
              "      <td>Subcontract</td>\n",
              "      <td>11.0</td>\n",
              "    </tr>\n",
              "    <tr>\n",
              "      <th>11</th>\n",
              "      <td>Corporate</td>\n",
              "      <td>Yes</td>\n",
              "      <td>Subcontract</td>\n",
              "      <td>33.6</td>\n",
              "    </tr>\n",
              "    <tr>\n",
              "      <th>12</th>\n",
              "      <td>In-Person</td>\n",
              "      <td>Yes</td>\n",
              "      <td>Subcontract</td>\n",
              "      <td>12.9</td>\n",
              "    </tr>\n",
              "    <tr>\n",
              "      <th>13</th>\n",
              "      <td>OtherLocation</td>\n",
              "      <td>Yes</td>\n",
              "      <td>Subcontract</td>\n",
              "      <td>26.5</td>\n",
              "    </tr>\n",
              "    <tr>\n",
              "      <th>14</th>\n",
              "      <td>Phone / App</td>\n",
              "      <td>Yes</td>\n",
              "      <td>Subcontract</td>\n",
              "      <td>15.6</td>\n",
              "    </tr>\n",
              "  </tbody>\n",
              "</table>\n",
              "</div>"
            ],
            "text/plain": [
              "             Type SameZip DeliveryType  Avg Delivery Time\n",
              "0       Corporate      No       Direct               17.1\n",
              "1       In-Person      No       Direct                8.0\n",
              "2   OtherLocation      No       Direct               25.0\n",
              "3     Phone / App      No       Direct               15.1\n",
              "4       Corporate     Yes       Direct               18.3\n",
              "5       In-Person     Yes       Direct                9.4\n",
              "6   OtherLocation     Yes       Direct               24.5\n",
              "7     Phone / App     Yes       Direct               16.8\n",
              "8       Corporate      No  Subcontract                7.0\n",
              "9       In-Person      No  Subcontract                3.0\n",
              "10    Phone / App      No  Subcontract               11.0\n",
              "11      Corporate     Yes  Subcontract               33.6\n",
              "12      In-Person     Yes  Subcontract               12.9\n",
              "13  OtherLocation     Yes  Subcontract               26.5\n",
              "14    Phone / App     Yes  Subcontract               15.6"
            ]
          },
          "metadata": {
            "tags": []
          },
          "execution_count": 240
        }
      ]
    },
    {
      "cell_type": "markdown",
      "metadata": {
        "id": "ZqsQNU3hagiu"
      },
      "source": [
        "Simple indicate that this data is for 2020 by adding a Year variable to this table."
      ]
    },
    {
      "cell_type": "code",
      "metadata": {
        "colab": {
          "base_uri": "https://localhost:8080/",
          "height": 498
        },
        "id": "nImNsMyuagqq",
        "outputId": "98946ac5-d4fc-46f9-867d-dbb29e75508d"
      },
      "source": [
        "#Making a connection\n",
        "connect_db = sqlite3.connect(\"/content/sample_data/PizzaDelivery.db\")\n",
        "\n",
        "#SQL Statement\n",
        "df = pd.read_sql_query(\"\"\"\n",
        "                          SELECT '2020' AS Year, Type, Samezip, DeliveryType, ROUND(SUM(Minutes)/SUM(Quantity),1) AS 'Avg Delivery Time'\n",
        "                          FROM PizzaDelivery2020\n",
        "                          GROUP BY Type, Samezip, DeliveryType\n",
        "                          ORDER BY DeliveryType, Samezip, Type\n",
        "                       \"\"\"\n",
        "                          , connect_db)\n",
        "                       \n",
        "#Closing the connection\n",
        "connect_db.close()\n",
        "\n",
        "#Using pandas to show output\n",
        "df.head(16)"
      ],
      "execution_count": 247,
      "outputs": [
        {
          "output_type": "execute_result",
          "data": {
            "text/html": [
              "<div>\n",
              "<style scoped>\n",
              "    .dataframe tbody tr th:only-of-type {\n",
              "        vertical-align: middle;\n",
              "    }\n",
              "\n",
              "    .dataframe tbody tr th {\n",
              "        vertical-align: top;\n",
              "    }\n",
              "\n",
              "    .dataframe thead th {\n",
              "        text-align: right;\n",
              "    }\n",
              "</style>\n",
              "<table border=\"1\" class=\"dataframe\">\n",
              "  <thead>\n",
              "    <tr style=\"text-align: right;\">\n",
              "      <th></th>\n",
              "      <th>Year</th>\n",
              "      <th>Type</th>\n",
              "      <th>SameZip</th>\n",
              "      <th>DeliveryType</th>\n",
              "      <th>Avg Delivery Time</th>\n",
              "    </tr>\n",
              "  </thead>\n",
              "  <tbody>\n",
              "    <tr>\n",
              "      <th>0</th>\n",
              "      <td>2020</td>\n",
              "      <td>Corporate</td>\n",
              "      <td>No</td>\n",
              "      <td>Direct</td>\n",
              "      <td>17.1</td>\n",
              "    </tr>\n",
              "    <tr>\n",
              "      <th>1</th>\n",
              "      <td>2020</td>\n",
              "      <td>In-Person</td>\n",
              "      <td>No</td>\n",
              "      <td>Direct</td>\n",
              "      <td>8.0</td>\n",
              "    </tr>\n",
              "    <tr>\n",
              "      <th>2</th>\n",
              "      <td>2020</td>\n",
              "      <td>OtherLocation</td>\n",
              "      <td>No</td>\n",
              "      <td>Direct</td>\n",
              "      <td>25.0</td>\n",
              "    </tr>\n",
              "    <tr>\n",
              "      <th>3</th>\n",
              "      <td>2020</td>\n",
              "      <td>Phone / App</td>\n",
              "      <td>No</td>\n",
              "      <td>Direct</td>\n",
              "      <td>15.1</td>\n",
              "    </tr>\n",
              "    <tr>\n",
              "      <th>4</th>\n",
              "      <td>2020</td>\n",
              "      <td>Corporate</td>\n",
              "      <td>Yes</td>\n",
              "      <td>Direct</td>\n",
              "      <td>18.3</td>\n",
              "    </tr>\n",
              "    <tr>\n",
              "      <th>5</th>\n",
              "      <td>2020</td>\n",
              "      <td>In-Person</td>\n",
              "      <td>Yes</td>\n",
              "      <td>Direct</td>\n",
              "      <td>9.4</td>\n",
              "    </tr>\n",
              "    <tr>\n",
              "      <th>6</th>\n",
              "      <td>2020</td>\n",
              "      <td>OtherLocation</td>\n",
              "      <td>Yes</td>\n",
              "      <td>Direct</td>\n",
              "      <td>24.5</td>\n",
              "    </tr>\n",
              "    <tr>\n",
              "      <th>7</th>\n",
              "      <td>2020</td>\n",
              "      <td>Phone / App</td>\n",
              "      <td>Yes</td>\n",
              "      <td>Direct</td>\n",
              "      <td>16.8</td>\n",
              "    </tr>\n",
              "    <tr>\n",
              "      <th>8</th>\n",
              "      <td>2020</td>\n",
              "      <td>Corporate</td>\n",
              "      <td>No</td>\n",
              "      <td>Subcontract</td>\n",
              "      <td>7.0</td>\n",
              "    </tr>\n",
              "    <tr>\n",
              "      <th>9</th>\n",
              "      <td>2020</td>\n",
              "      <td>In-Person</td>\n",
              "      <td>No</td>\n",
              "      <td>Subcontract</td>\n",
              "      <td>3.0</td>\n",
              "    </tr>\n",
              "    <tr>\n",
              "      <th>10</th>\n",
              "      <td>2020</td>\n",
              "      <td>Phone / App</td>\n",
              "      <td>No</td>\n",
              "      <td>Subcontract</td>\n",
              "      <td>11.0</td>\n",
              "    </tr>\n",
              "    <tr>\n",
              "      <th>11</th>\n",
              "      <td>2020</td>\n",
              "      <td>Corporate</td>\n",
              "      <td>Yes</td>\n",
              "      <td>Subcontract</td>\n",
              "      <td>33.6</td>\n",
              "    </tr>\n",
              "    <tr>\n",
              "      <th>12</th>\n",
              "      <td>2020</td>\n",
              "      <td>In-Person</td>\n",
              "      <td>Yes</td>\n",
              "      <td>Subcontract</td>\n",
              "      <td>12.9</td>\n",
              "    </tr>\n",
              "    <tr>\n",
              "      <th>13</th>\n",
              "      <td>2020</td>\n",
              "      <td>OtherLocation</td>\n",
              "      <td>Yes</td>\n",
              "      <td>Subcontract</td>\n",
              "      <td>26.5</td>\n",
              "    </tr>\n",
              "    <tr>\n",
              "      <th>14</th>\n",
              "      <td>2020</td>\n",
              "      <td>Phone / App</td>\n",
              "      <td>Yes</td>\n",
              "      <td>Subcontract</td>\n",
              "      <td>15.6</td>\n",
              "    </tr>\n",
              "  </tbody>\n",
              "</table>\n",
              "</div>"
            ],
            "text/plain": [
              "    Year           Type SameZip DeliveryType  Avg Delivery Time\n",
              "0   2020      Corporate      No       Direct               17.1\n",
              "1   2020      In-Person      No       Direct                8.0\n",
              "2   2020  OtherLocation      No       Direct               25.0\n",
              "3   2020    Phone / App      No       Direct               15.1\n",
              "4   2020      Corporate     Yes       Direct               18.3\n",
              "5   2020      In-Person     Yes       Direct                9.4\n",
              "6   2020  OtherLocation     Yes       Direct               24.5\n",
              "7   2020    Phone / App     Yes       Direct               16.8\n",
              "8   2020      Corporate      No  Subcontract                7.0\n",
              "9   2020      In-Person      No  Subcontract                3.0\n",
              "10  2020    Phone / App      No  Subcontract               11.0\n",
              "11  2020      Corporate     Yes  Subcontract               33.6\n",
              "12  2020      In-Person     Yes  Subcontract               12.9\n",
              "13  2020  OtherLocation     Yes  Subcontract               26.5\n",
              "14  2020    Phone / App     Yes  Subcontract               15.6"
            ]
          },
          "metadata": {
            "tags": []
          },
          "execution_count": 247
        }
      ]
    },
    {
      "cell_type": "markdown",
      "metadata": {
        "id": "I-XmJ6a1f4lS"
      },
      "source": [
        "## Append two dataframe together "
      ]
    },
    {
      "cell_type": "code",
      "metadata": {
        "colab": {
          "base_uri": "https://localhost:8080/",
          "height": 528
        },
        "id": "DEIpboB4f4tG",
        "outputId": "f8fe3d7e-37b8-4c6c-e1e9-ab68c3b1ba4a"
      },
      "source": [
        "#Making a connection\n",
        "connect_db = sqlite3.connect(\"/content/sample_data/PizzaDelivery.db\")\n",
        "\n",
        "#SQL Statement\n",
        "df_2019 = pd.read_sql_query(\"\"\"\n",
        "\n",
        "                       SELECT '2019' as Year, Type, SameZip, DeliveryType, ROUND(SUM(Minutes)/SUM(Number),1) AS 'Avg Delivery Time'\n",
        "                       FROM\n",
        "                          (\n",
        "                            SELECT Type, SameZip, DeliveryType, Minutes, Comments,\n",
        "                                   CASE\n",
        "                                      WHEN INSTR(Comments,\" = \") > 0 THEN SUBSTR(Comments, INSTR(Comments,\" = \")+2,2)\n",
        "                                    ELSE 1\n",
        "                                  END AS Number\n",
        "                            FROM PizzaDelivery2019\n",
        "                            \n",
        "                          )\n",
        "                          GROUP BY Type, SameZip, DeliveryType\n",
        "                          ORDER BY DeliveryType, Samezip, Type\n",
        "                       \"\"\"\n",
        "                          , connect_db)\n",
        "                       \n",
        "#Closing the connection\n",
        "connect_db.close()\n",
        "\n",
        "#Using pandas to show output\n",
        "df_2019.head(200)"
      ],
      "execution_count": 262,
      "outputs": [
        {
          "output_type": "execute_result",
          "data": {
            "text/html": [
              "<div>\n",
              "<style scoped>\n",
              "    .dataframe tbody tr th:only-of-type {\n",
              "        vertical-align: middle;\n",
              "    }\n",
              "\n",
              "    .dataframe tbody tr th {\n",
              "        vertical-align: top;\n",
              "    }\n",
              "\n",
              "    .dataframe thead th {\n",
              "        text-align: right;\n",
              "    }\n",
              "</style>\n",
              "<table border=\"1\" class=\"dataframe\">\n",
              "  <thead>\n",
              "    <tr style=\"text-align: right;\">\n",
              "      <th></th>\n",
              "      <th>Year</th>\n",
              "      <th>Type</th>\n",
              "      <th>SameZip</th>\n",
              "      <th>DeliveryType</th>\n",
              "      <th>Avg Delivery Time</th>\n",
              "    </tr>\n",
              "  </thead>\n",
              "  <tbody>\n",
              "    <tr>\n",
              "      <th>0</th>\n",
              "      <td>2019</td>\n",
              "      <td>Corporate</td>\n",
              "      <td>No</td>\n",
              "      <td>Direct</td>\n",
              "      <td>11.6</td>\n",
              "    </tr>\n",
              "    <tr>\n",
              "      <th>1</th>\n",
              "      <td>2019</td>\n",
              "      <td>In-Person</td>\n",
              "      <td>No</td>\n",
              "      <td>Direct</td>\n",
              "      <td>5.4</td>\n",
              "    </tr>\n",
              "    <tr>\n",
              "      <th>2</th>\n",
              "      <td>2019</td>\n",
              "      <td>OtherLocation</td>\n",
              "      <td>No</td>\n",
              "      <td>Direct</td>\n",
              "      <td>17.6</td>\n",
              "    </tr>\n",
              "    <tr>\n",
              "      <th>3</th>\n",
              "      <td>2019</td>\n",
              "      <td>Phone / App</td>\n",
              "      <td>No</td>\n",
              "      <td>Direct</td>\n",
              "      <td>9.3</td>\n",
              "    </tr>\n",
              "    <tr>\n",
              "      <th>4</th>\n",
              "      <td>2019</td>\n",
              "      <td>Corporate</td>\n",
              "      <td>Yes</td>\n",
              "      <td>Direct</td>\n",
              "      <td>12.9</td>\n",
              "    </tr>\n",
              "    <tr>\n",
              "      <th>5</th>\n",
              "      <td>2019</td>\n",
              "      <td>In-Person</td>\n",
              "      <td>Yes</td>\n",
              "      <td>Direct</td>\n",
              "      <td>5.9</td>\n",
              "    </tr>\n",
              "    <tr>\n",
              "      <th>6</th>\n",
              "      <td>2019</td>\n",
              "      <td>OtherLocation</td>\n",
              "      <td>Yes</td>\n",
              "      <td>Direct</td>\n",
              "      <td>16.1</td>\n",
              "    </tr>\n",
              "    <tr>\n",
              "      <th>7</th>\n",
              "      <td>2019</td>\n",
              "      <td>Phone / App</td>\n",
              "      <td>Yes</td>\n",
              "      <td>Direct</td>\n",
              "      <td>9.4</td>\n",
              "    </tr>\n",
              "    <tr>\n",
              "      <th>8</th>\n",
              "      <td>2019</td>\n",
              "      <td>Corporate</td>\n",
              "      <td>No</td>\n",
              "      <td>SubContract</td>\n",
              "      <td>11.9</td>\n",
              "    </tr>\n",
              "    <tr>\n",
              "      <th>9</th>\n",
              "      <td>2019</td>\n",
              "      <td>In-Person</td>\n",
              "      <td>No</td>\n",
              "      <td>SubContract</td>\n",
              "      <td>5.3</td>\n",
              "    </tr>\n",
              "    <tr>\n",
              "      <th>10</th>\n",
              "      <td>2019</td>\n",
              "      <td>OtherLocation</td>\n",
              "      <td>No</td>\n",
              "      <td>SubContract</td>\n",
              "      <td>16.5</td>\n",
              "    </tr>\n",
              "    <tr>\n",
              "      <th>11</th>\n",
              "      <td>2019</td>\n",
              "      <td>Phone / App</td>\n",
              "      <td>No</td>\n",
              "      <td>SubContract</td>\n",
              "      <td>10.1</td>\n",
              "    </tr>\n",
              "    <tr>\n",
              "      <th>12</th>\n",
              "      <td>2019</td>\n",
              "      <td>Corporate</td>\n",
              "      <td>Yes</td>\n",
              "      <td>SubContract</td>\n",
              "      <td>6.8</td>\n",
              "    </tr>\n",
              "    <tr>\n",
              "      <th>13</th>\n",
              "      <td>2019</td>\n",
              "      <td>In-Person</td>\n",
              "      <td>Yes</td>\n",
              "      <td>SubContract</td>\n",
              "      <td>4.1</td>\n",
              "    </tr>\n",
              "    <tr>\n",
              "      <th>14</th>\n",
              "      <td>2019</td>\n",
              "      <td>OtherLocation</td>\n",
              "      <td>Yes</td>\n",
              "      <td>SubContract</td>\n",
              "      <td>11.9</td>\n",
              "    </tr>\n",
              "    <tr>\n",
              "      <th>15</th>\n",
              "      <td>2019</td>\n",
              "      <td>Phone / App</td>\n",
              "      <td>Yes</td>\n",
              "      <td>SubContract</td>\n",
              "      <td>6.6</td>\n",
              "    </tr>\n",
              "  </tbody>\n",
              "</table>\n",
              "</div>"
            ],
            "text/plain": [
              "    Year           Type SameZip DeliveryType  Avg Delivery Time\n",
              "0   2019      Corporate      No       Direct               11.6\n",
              "1   2019      In-Person      No       Direct                5.4\n",
              "2   2019  OtherLocation      No       Direct               17.6\n",
              "3   2019    Phone / App      No       Direct                9.3\n",
              "4   2019      Corporate     Yes       Direct               12.9\n",
              "5   2019      In-Person     Yes       Direct                5.9\n",
              "6   2019  OtherLocation     Yes       Direct               16.1\n",
              "7   2019    Phone / App     Yes       Direct                9.4\n",
              "8   2019      Corporate      No  SubContract               11.9\n",
              "9   2019      In-Person      No  SubContract                5.3\n",
              "10  2019  OtherLocation      No  SubContract               16.5\n",
              "11  2019    Phone / App      No  SubContract               10.1\n",
              "12  2019      Corporate     Yes  SubContract                6.8\n",
              "13  2019      In-Person     Yes  SubContract                4.1\n",
              "14  2019  OtherLocation     Yes  SubContract               11.9\n",
              "15  2019    Phone / App     Yes  SubContract                6.6"
            ]
          },
          "metadata": {
            "tags": []
          },
          "execution_count": 262
        }
      ]
    },
    {
      "cell_type": "markdown",
      "metadata": {
        "id": "OJXSvTF2gGsN"
      },
      "source": [
        ""
      ]
    },
    {
      "cell_type": "code",
      "metadata": {
        "colab": {
          "base_uri": "https://localhost:8080/",
          "height": 498
        },
        "id": "ffYJtdQEgG0F",
        "outputId": "352daa58-c68c-4d4a-cb0a-318aec45dbef"
      },
      "source": [
        "#Making a connection\n",
        "connect_db = sqlite3.connect(\"/content/sample_data/PizzaDelivery.db\")\n",
        "\n",
        "#SQL Statement\n",
        "df_2020 = pd.read_sql_query(\"\"\"\n",
        "                          SELECT '2020' AS Year, Type, Samezip, DeliveryType, ROUND(SUM(Minutes)/SUM(Quantity),1) AS 'Avg Delivery Time'\n",
        "                          FROM PizzaDelivery2020\n",
        "                          GROUP BY Type, Samezip, DeliveryType\n",
        "                          ORDER BY DeliveryType, Samezip, Type\n",
        "                       \"\"\"\n",
        "                          , connect_db)\n",
        "                       \n",
        "#Closing the connection\n",
        "connect_db.close()\n",
        "\n",
        "#Using pandas to show output\n",
        "df_2020.head(16)"
      ],
      "execution_count": 263,
      "outputs": [
        {
          "output_type": "execute_result",
          "data": {
            "text/html": [
              "<div>\n",
              "<style scoped>\n",
              "    .dataframe tbody tr th:only-of-type {\n",
              "        vertical-align: middle;\n",
              "    }\n",
              "\n",
              "    .dataframe tbody tr th {\n",
              "        vertical-align: top;\n",
              "    }\n",
              "\n",
              "    .dataframe thead th {\n",
              "        text-align: right;\n",
              "    }\n",
              "</style>\n",
              "<table border=\"1\" class=\"dataframe\">\n",
              "  <thead>\n",
              "    <tr style=\"text-align: right;\">\n",
              "      <th></th>\n",
              "      <th>Year</th>\n",
              "      <th>Type</th>\n",
              "      <th>SameZip</th>\n",
              "      <th>DeliveryType</th>\n",
              "      <th>Avg Delivery Time</th>\n",
              "    </tr>\n",
              "  </thead>\n",
              "  <tbody>\n",
              "    <tr>\n",
              "      <th>0</th>\n",
              "      <td>2020</td>\n",
              "      <td>Corporate</td>\n",
              "      <td>No</td>\n",
              "      <td>Direct</td>\n",
              "      <td>17.1</td>\n",
              "    </tr>\n",
              "    <tr>\n",
              "      <th>1</th>\n",
              "      <td>2020</td>\n",
              "      <td>In-Person</td>\n",
              "      <td>No</td>\n",
              "      <td>Direct</td>\n",
              "      <td>8.0</td>\n",
              "    </tr>\n",
              "    <tr>\n",
              "      <th>2</th>\n",
              "      <td>2020</td>\n",
              "      <td>OtherLocation</td>\n",
              "      <td>No</td>\n",
              "      <td>Direct</td>\n",
              "      <td>25.0</td>\n",
              "    </tr>\n",
              "    <tr>\n",
              "      <th>3</th>\n",
              "      <td>2020</td>\n",
              "      <td>Phone / App</td>\n",
              "      <td>No</td>\n",
              "      <td>Direct</td>\n",
              "      <td>15.1</td>\n",
              "    </tr>\n",
              "    <tr>\n",
              "      <th>4</th>\n",
              "      <td>2020</td>\n",
              "      <td>Corporate</td>\n",
              "      <td>Yes</td>\n",
              "      <td>Direct</td>\n",
              "      <td>18.3</td>\n",
              "    </tr>\n",
              "    <tr>\n",
              "      <th>5</th>\n",
              "      <td>2020</td>\n",
              "      <td>In-Person</td>\n",
              "      <td>Yes</td>\n",
              "      <td>Direct</td>\n",
              "      <td>9.4</td>\n",
              "    </tr>\n",
              "    <tr>\n",
              "      <th>6</th>\n",
              "      <td>2020</td>\n",
              "      <td>OtherLocation</td>\n",
              "      <td>Yes</td>\n",
              "      <td>Direct</td>\n",
              "      <td>24.5</td>\n",
              "    </tr>\n",
              "    <tr>\n",
              "      <th>7</th>\n",
              "      <td>2020</td>\n",
              "      <td>Phone / App</td>\n",
              "      <td>Yes</td>\n",
              "      <td>Direct</td>\n",
              "      <td>16.8</td>\n",
              "    </tr>\n",
              "    <tr>\n",
              "      <th>8</th>\n",
              "      <td>2020</td>\n",
              "      <td>Corporate</td>\n",
              "      <td>No</td>\n",
              "      <td>Subcontract</td>\n",
              "      <td>7.0</td>\n",
              "    </tr>\n",
              "    <tr>\n",
              "      <th>9</th>\n",
              "      <td>2020</td>\n",
              "      <td>In-Person</td>\n",
              "      <td>No</td>\n",
              "      <td>Subcontract</td>\n",
              "      <td>3.0</td>\n",
              "    </tr>\n",
              "    <tr>\n",
              "      <th>10</th>\n",
              "      <td>2020</td>\n",
              "      <td>Phone / App</td>\n",
              "      <td>No</td>\n",
              "      <td>Subcontract</td>\n",
              "      <td>11.0</td>\n",
              "    </tr>\n",
              "    <tr>\n",
              "      <th>11</th>\n",
              "      <td>2020</td>\n",
              "      <td>Corporate</td>\n",
              "      <td>Yes</td>\n",
              "      <td>Subcontract</td>\n",
              "      <td>33.6</td>\n",
              "    </tr>\n",
              "    <tr>\n",
              "      <th>12</th>\n",
              "      <td>2020</td>\n",
              "      <td>In-Person</td>\n",
              "      <td>Yes</td>\n",
              "      <td>Subcontract</td>\n",
              "      <td>12.9</td>\n",
              "    </tr>\n",
              "    <tr>\n",
              "      <th>13</th>\n",
              "      <td>2020</td>\n",
              "      <td>OtherLocation</td>\n",
              "      <td>Yes</td>\n",
              "      <td>Subcontract</td>\n",
              "      <td>26.5</td>\n",
              "    </tr>\n",
              "    <tr>\n",
              "      <th>14</th>\n",
              "      <td>2020</td>\n",
              "      <td>Phone / App</td>\n",
              "      <td>Yes</td>\n",
              "      <td>Subcontract</td>\n",
              "      <td>15.6</td>\n",
              "    </tr>\n",
              "  </tbody>\n",
              "</table>\n",
              "</div>"
            ],
            "text/plain": [
              "    Year           Type SameZip DeliveryType  Avg Delivery Time\n",
              "0   2020      Corporate      No       Direct               17.1\n",
              "1   2020      In-Person      No       Direct                8.0\n",
              "2   2020  OtherLocation      No       Direct               25.0\n",
              "3   2020    Phone / App      No       Direct               15.1\n",
              "4   2020      Corporate     Yes       Direct               18.3\n",
              "5   2020      In-Person     Yes       Direct                9.4\n",
              "6   2020  OtherLocation     Yes       Direct               24.5\n",
              "7   2020    Phone / App     Yes       Direct               16.8\n",
              "8   2020      Corporate      No  Subcontract                7.0\n",
              "9   2020      In-Person      No  Subcontract                3.0\n",
              "10  2020    Phone / App      No  Subcontract               11.0\n",
              "11  2020      Corporate     Yes  Subcontract               33.6\n",
              "12  2020      In-Person     Yes  Subcontract               12.9\n",
              "13  2020  OtherLocation     Yes  Subcontract               26.5\n",
              "14  2020    Phone / App     Yes  Subcontract               15.6"
            ]
          },
          "metadata": {
            "tags": []
          },
          "execution_count": 263
        }
      ]
    },
    {
      "cell_type": "markdown",
      "metadata": {
        "id": "PUatc1DhgkTE"
      },
      "source": [
        ""
      ]
    },
    {
      "cell_type": "code",
      "metadata": {
        "colab": {
          "base_uri": "https://localhost:8080/"
        },
        "id": "sjA-MZDPgka9",
        "outputId": "8943ee7e-83ac-45cb-c1a9-0f333f6c9c1e"
      },
      "source": [
        "pip install dfply\n"
      ],
      "execution_count": 267,
      "outputs": [
        {
          "output_type": "stream",
          "text": [
            "Requirement already satisfied: dfply in /usr/local/lib/python3.7/dist-packages (0.3.3)\n",
            "Requirement already satisfied: pandas in /usr/local/lib/python3.7/dist-packages (from dfply) (1.1.5)\n",
            "Requirement already satisfied: numpy in /usr/local/lib/python3.7/dist-packages (from dfply) (1.19.5)\n",
            "Requirement already satisfied: python-dateutil>=2.7.3 in /usr/local/lib/python3.7/dist-packages (from pandas->dfply) (2.8.1)\n",
            "Requirement already satisfied: pytz>=2017.2 in /usr/local/lib/python3.7/dist-packages (from pandas->dfply) (2018.9)\n",
            "Requirement already satisfied: six>=1.5 in /usr/local/lib/python3.7/dist-packages (from python-dateutil>=2.7.3->pandas->dfply) (1.15.0)\n"
          ],
          "name": "stdout"
        }
      ]
    },
    {
      "cell_type": "markdown",
      "metadata": {
        "id": "sVh_qryfgths"
      },
      "source": [
        ""
      ]
    },
    {
      "cell_type": "code",
      "metadata": {
        "id": "8ISnRoDrgtp6"
      },
      "source": [
        "from dfply import *"
      ],
      "execution_count": 268,
      "outputs": []
    },
    {
      "cell_type": "markdown",
      "metadata": {
        "id": "yiLglXqngUKt"
      },
      "source": [
        ""
      ]
    },
    {
      "cell_type": "code",
      "metadata": {
        "colab": {
          "base_uri": "https://localhost:8080/"
        },
        "id": "d4UoSLhvgURS",
        "outputId": "0ecda11c-b1f3-4163-e2a9-08fd8ffa0ed2"
      },
      "source": [
        "Outcomes = (\n",
        "             df_2019\n",
        "              >> bind_rows(df_2020)\n",
        "           )\n",
        "\n",
        "Outcomes = Outcomes\n",
        "print(Outcomes.to_string(index=False))"
      ],
      "execution_count": 269,
      "outputs": [
        {
          "output_type": "stream",
          "text": [
            " Year           Type SameZip DeliveryType  Avg Delivery Time\n",
            " 2019      Corporate      No       Direct               11.6\n",
            " 2019      In-Person      No       Direct                5.4\n",
            " 2019  OtherLocation      No       Direct               17.6\n",
            " 2019    Phone / App      No       Direct                9.3\n",
            " 2019      Corporate     Yes       Direct               12.9\n",
            " 2019      In-Person     Yes       Direct                5.9\n",
            " 2019  OtherLocation     Yes       Direct               16.1\n",
            " 2019    Phone / App     Yes       Direct                9.4\n",
            " 2019      Corporate      No  SubContract               11.9\n",
            " 2019      In-Person      No  SubContract                5.3\n",
            " 2019  OtherLocation      No  SubContract               16.5\n",
            " 2019    Phone / App      No  SubContract               10.1\n",
            " 2019      Corporate     Yes  SubContract                6.8\n",
            " 2019      In-Person     Yes  SubContract                4.1\n",
            " 2019  OtherLocation     Yes  SubContract               11.9\n",
            " 2019    Phone / App     Yes  SubContract                6.6\n",
            " 2020      Corporate      No       Direct               17.1\n",
            " 2020      In-Person      No       Direct                8.0\n",
            " 2020  OtherLocation      No       Direct               25.0\n",
            " 2020    Phone / App      No       Direct               15.1\n",
            " 2020      Corporate     Yes       Direct               18.3\n",
            " 2020      In-Person     Yes       Direct                9.4\n",
            " 2020  OtherLocation     Yes       Direct               24.5\n",
            " 2020    Phone / App     Yes       Direct               16.8\n",
            " 2020      Corporate      No  Subcontract                7.0\n",
            " 2020      In-Person      No  Subcontract                3.0\n",
            " 2020    Phone / App      No  Subcontract               11.0\n",
            " 2020      Corporate     Yes  Subcontract               33.6\n",
            " 2020      In-Person     Yes  Subcontract               12.9\n",
            " 2020  OtherLocation     Yes  Subcontract               26.5\n",
            " 2020    Phone / App     Yes  Subcontract               15.6\n"
          ],
          "name": "stdout"
        }
      ]
    }
  ]
}