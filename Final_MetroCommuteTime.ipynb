{
  "nbformat": 4,
  "nbformat_minor": 0,
  "metadata": {
    "colab": {
      "name": "Final_MetroCommuteTime",
      "provenance": [],
      "collapsed_sections": [],
      "toc_visible": true,
      "include_colab_link": true
    },
    "kernelspec": {
      "display_name": "Python 3",
      "name": "python3"
    }
  },
  "cells": [
    {
      "cell_type": "markdown",
      "metadata": {
        "id": "view-in-github",
        "colab_type": "text"
      },
      "source": [
        "<a href=\"https://colab.research.google.com/github/christophermalone/DSCI325/blob/main/Final_MetroCommuteTime.ipynb\" target=\"_parent\"><img src=\"https://colab.research.google.com/assets/colab-badge.svg\" alt=\"Open In Colab\"/></a>"
      ]
    },
    {
      "cell_type": "markdown",
      "metadata": {
        "id": "fca_5dfoIdvU"
      },
      "source": [
        "# Final: Metro Commute Time in SQL\n"
      ]
    },
    {
      "cell_type": "markdown",
      "metadata": {
        "id": "CcGFZS0-Id5c"
      },
      "source": [
        "Import the following packages to be used for this notebook."
      ]
    },
    {
      "cell_type": "code",
      "metadata": {
        "id": "2HouEWkiIeNb"
      },
      "source": [
        "import pandas as pd\n",
        "import sqlite3"
      ],
      "execution_count": null,
      "outputs": []
    },
    {
      "cell_type": "markdown",
      "metadata": {
        "id": "Nm8XAgvrIlr0"
      },
      "source": [
        "Code Chunk #1:"
      ]
    },
    {
      "cell_type": "code",
      "metadata": {
        "id": "PuWu1mBTIlx1"
      },
      "source": [
        "#Making a connection\n",
        "connect_db = sqlite3.connect(\"/content/sample_data/MetroCommute.db\")\n",
        "\n",
        "#SQL Statement\n",
        "df = pd.read_sql_query(\n",
        "                        \"SELECT name FROM sqlite_master WHERE type='table'\"\n",
        "                          , connect_db)\n",
        "#Closing the connection\n",
        "connect_db.close()\n",
        "\n",
        "df.head()"
      ],
      "execution_count": null,
      "outputs": []
    },
    {
      "cell_type": "markdown",
      "metadata": {
        "id": "mRr-pDdTIxLt"
      },
      "source": [
        "Code Chunk #2:"
      ]
    },
    {
      "cell_type": "code",
      "metadata": {
        "id": "C-jCwrNTI7vX"
      },
      "source": [
        "#Making a connection\n",
        "connect_db = sqlite3.connect(\"/content/sample_data/MetroCommute.db\")\n",
        "\n",
        "#SQL Statement\n",
        "df = pd.read_sql_query(\n",
        "                        \"PRAGMA table_info(Census_LocationInfo)\"\n",
        "                          , connect_db)\n",
        "#Closing the connection\n",
        "connect_db.close()\n",
        "\n",
        "#Using pandas to show output\n",
        "df.head(10)"
      ],
      "execution_count": null,
      "outputs": []
    },
    {
      "cell_type": "markdown",
      "metadata": {
        "id": "txKpViWdJF6S"
      },
      "source": [
        "Code Chunk #3:"
      ]
    },
    {
      "cell_type": "code",
      "metadata": {
        "id": "-KBineSAJGBH"
      },
      "source": [
        "#Making a connection\n",
        "connect_db = sqlite3.connect(\"/content/sample_data/MetroCommute.db\")\n",
        "\n",
        "#SQL Statement\n",
        "df = pd.read_sql_query(\"\"\"\n",
        "                          SELECT Name\n",
        "                          FROM CitiesAndTowns\n",
        "                       \"\"\"\n",
        "                          , connect_db)\n",
        "                       \n",
        "#Closing the connection\n",
        "connect_db.close()\n",
        "\n",
        "#Using pandas to get shape\n",
        "df.shape"
      ],
      "execution_count": null,
      "outputs": []
    },
    {
      "cell_type": "markdown",
      "metadata": {
        "id": "bUUygoBZJW2a"
      },
      "source": [
        "Code Chunk #4:"
      ]
    },
    {
      "cell_type": "code",
      "metadata": {
        "id": "BDteENWCDbnq"
      },
      "source": [
        "#Making a connection\n",
        "connect_db = sqlite3.connect(\"/content/sample_data/MetroCommute.db\")\n",
        "\n",
        "#SQL Statement\n",
        "df = pd.read_sql_query(\"\"\" \n",
        "                                SELECT\n",
        "                                    GEOID, \n",
        "                                    NAME, \n",
        "                                    STATE,\n",
        "                                    LAND,\n",
        "                                    LATITUDE,\n",
        "                                    LONGITUDE,\n",
        "                                    TRIM(RTRIM(NAME, REPLACE(Name, ' ','')))||', '||STATE AS City\n",
        "                                FROM Census_LocationInfo\n",
        "                                WHERE City IN (SELECT Name FROM CitiesAndTowns)           \n",
        "                       \"\"\"\n",
        "                          , connect_db)\n",
        "                       \n",
        "#Closing the connection\n",
        "connect_db.close()\n",
        "\n",
        "#Using pandas to show output\n",
        "df.shape"
      ],
      "execution_count": null,
      "outputs": []
    },
    {
      "cell_type": "markdown",
      "metadata": {
        "id": "tU4-MU5RDcoH"
      },
      "source": [
        "Code Chunk #5:"
      ]
    },
    {
      "cell_type": "code",
      "metadata": {
        "id": "c0bg1hAzJW7r"
      },
      "source": [
        "#Making a connection\n",
        "connect_db = sqlite3.connect(\"/content/sample_data/MetroCommute.db\")\n",
        "\n",
        "#SQL Statement\n",
        "df = pd.read_sql_query(\"\"\"\n",
        "                            SELECT City, COUNT(City) AS COUNT\n",
        "                            FROM\n",
        "                              (\n",
        "                                SELECT\n",
        "                                    GEOID, \n",
        "                                    NAME, \n",
        "                                    STATE,\n",
        "                                    LAND,\n",
        "                                    LATITUDE,\n",
        "                                    LONGITUDE,\n",
        "                                    TRIM(RTRIM(NAME, REPLACE(Name, ' ','')))||', '||STATE AS City\n",
        "                                FROM Census_LocationInfo\n",
        "                                WHERE City IN (SELECT Name FROM CitiesAndTowns) \n",
        "                                \n",
        "                              )\n",
        "                              GROUP BY City\n",
        "                              ORDER BY COUNT DESC               \n",
        "                       \"\"\"\n",
        "                          , connect_db)\n",
        "                       \n",
        "#Closing the connection\n",
        "connect_db.close()\n",
        "\n",
        "#Using pandas to show output\n",
        "df.head()"
      ],
      "execution_count": null,
      "outputs": []
    },
    {
      "cell_type": "markdown",
      "metadata": {
        "id": "DFzeWgWaFYvG"
      },
      "source": [
        "Code Chunk #6:"
      ]
    },
    {
      "cell_type": "code",
      "metadata": {
        "id": "sE-9zoWrFY2m"
      },
      "source": [
        "#Making a connection\n",
        "connect_db = sqlite3.connect(\"/content/sample_data/MetroCommute.db\")\n",
        "\n",
        "#SQL Statement\n",
        "df = pd.read_sql_query(\"\"\"\n",
        "                          SELECT\n",
        "                            GEOID, \n",
        "                            NAME, \n",
        "                            STATE,\n",
        "                            LAND,\n",
        "                            LATITUDE,\n",
        "                            LONGITUDE,\n",
        "                            TRIM(RTRIM(NAME, REPLACE(Name, ' ','')))||', '||STATE AS City\n",
        "                        FROM Census_LocationInfo\n",
        "                        WHERE (NAME NOT LIKE '%CDP') AND (GEOID != '2756698') AND ( City IN (SELECT Name FROM CitiesAndTowns) )             \n",
        "                       \"\"\"\n",
        "                          , connect_db)\n",
        "                       \n",
        "#Closing the connection\n",
        "connect_db.close()\n",
        "\n",
        "#Using pandas to show output\n",
        "df.shape"
      ],
      "execution_count": null,
      "outputs": []
    },
    {
      "cell_type": "markdown",
      "metadata": {
        "id": "pJZfqG6ZYtA7"
      },
      "source": [
        "Code Chunk #7:"
      ]
    },
    {
      "cell_type": "code",
      "metadata": {
        "id": "4o9DcvOVPHSC"
      },
      "source": [
        "#Making a connection\n",
        "connect_db = sqlite3.connect(\"/content/sample_data/MetroCommute.db\")\n",
        "\n",
        "#SQL Statement\n",
        "df = pd.read_sql_query(\"\"\"\n",
        "                            SELECT\n",
        "                                 StateID, \n",
        "                                 PlaceID,\n",
        "                                 Population,\n",
        "                                 CommuteTime,\n",
        "                                 StateID||PlaceID AS GEOID\n",
        "                            FROM Census_CommuteTime\n",
        "                       \"\"\"\n",
        "                          , connect_db)\n",
        "                       \n",
        "#Closing the connection\n",
        "connect_db.close()\n",
        "\n",
        "#Using pandas to show output\n",
        "df.head()"
      ],
      "execution_count": null,
      "outputs": []
    },
    {
      "cell_type": "markdown",
      "metadata": {
        "id": "21zuDudSZhUN"
      },
      "source": [
        "Code Chunk #8:"
      ]
    },
    {
      "cell_type": "code",
      "metadata": {
        "id": "LNFtEQxDLfGO"
      },
      "source": [
        "#Making a connection\n",
        "connect_db = sqlite3.connect(\"/content/sample_data/MetroCommute.db\")\n",
        "\n",
        "#SQL Statement\n",
        "df = pd.read_sql_query(\"\"\"\n",
        "                            SELECT *                                 \n",
        "                            FROM \n",
        "                            (\n",
        "                               SELECT\n",
        "                                      GEOID,\n",
        "                                      NAME,\n",
        "                                      STATE, \n",
        "                                      LAND,\n",
        "                                      LATITUDE,\n",
        "                                      LONGITUDE,\n",
        "                                      TRIM(RTRIM(NAME, REPLACE(Name, ' ','')))||', '||STATE AS City\n",
        "                                FROM Census_LocationInfo\n",
        "                                WHERE (NAME NOT LIKE '%CDP') AND (GEOID != '2756698') AND ( City IN (SELECT Name FROM CitiesAndTowns) )  \n",
        "                            )\n",
        "                            LEFT JOIN (\n",
        "                                        SELECT\n",
        "                                          Population,\n",
        "                                          CommuteTime,\n",
        "                                          CommuteTimePT,\n",
        "                                          StateID||PlaceID AS GEOID\n",
        "                                      FROM Census_CommuteTime \n",
        "                                      )\n",
        "                            USING(GEOID) \n",
        "                       \"\"\"\n",
        "                          , connect_db)\n",
        "                       \n",
        "#Closing the connection\n",
        "connect_db.close()\n",
        "\n",
        "#Using pandas to show output\n",
        "df.head()"
      ],
      "execution_count": null,
      "outputs": []
    },
    {
      "cell_type": "markdown",
      "metadata": {
        "id": "-omI-GBTLfQB"
      },
      "source": [
        "Code Chunk #9"
      ]
    },
    {
      "cell_type": "code",
      "metadata": {
        "id": "wFdyKelmZhbu"
      },
      "source": [
        "#Making a connection\n",
        "connect_db = sqlite3.connect(\"/content/sample_data/MetroCommute.db\")\n",
        "\n",
        "#SQL Statement\n",
        "df = pd.read_sql_query(\"\"\"\n",
        "                            SELECT *, \n",
        "                                   CASE \n",
        "                                      WHEN                               THEN 'I'\n",
        "                                      WHEN                               THEN 'II'\n",
        "                                      WHEN                               THEN 'III'\n",
        "                                      WHEN                               THEN 'IV'\n",
        "                                    END AS Quadrant                                \n",
        "                            FROM \n",
        "                            (\n",
        "                               SELECT\n",
        "                                      GEOID, \n",
        "                                      NAME, \n",
        "                                      STATE,\n",
        "                                      LAND,\n",
        "                                      LATITUDE,\n",
        "                                      LONGITUDE,\n",
        "                                      TRIM(RTRIM(NAME, REPLACE(Name, ' ','')))||', '||STATE AS City\n",
        "                                FROM Census_LocationInfo\n",
        "                                WHERE City IN (SELECT Name FROM CitiesAndTowns)\n",
        "                            )\n",
        "                            LEFT JOIN (\n",
        "                                        SELECT\n",
        "                                          StateID, \n",
        "                                          PlaceID,\n",
        "                                          Population,\n",
        "                                          CommuteTime,\n",
        "                                          CommuteTimePT,\n",
        "                                          StateID||PlaceID AS GEOID\n",
        "                                      FROM Census_CommuteTime \n",
        "                                      )\n",
        "                            USING(GEOID) \n",
        "                       \"\"\"\n",
        "                          , connect_db)\n",
        "                       \n",
        "#Closing the connection\n",
        "connect_db.close()\n",
        "\n",
        "#Using pandas to show output\n",
        "df.head()"
      ],
      "execution_count": null,
      "outputs": []
    },
    {
      "cell_type": "markdown",
      "metadata": {
        "id": "iKkvYbK_P02Q"
      },
      "source": [
        "Code Chunk #10:"
      ]
    },
    {
      "cell_type": "code",
      "metadata": {
        "id": "IDLAuV2hP09g"
      },
      "source": [
        "#Making a connection\n",
        "connect_db = sqlite3.connect(\"/content/sample_data/MetroCommute.db\")\n",
        "\n",
        "#SQL Statement\n",
        "df = pd.read_sql_query(\"\"\"\n",
        "                            SELECT AVG(CommuteTimePT), \n",
        "                                   CASE \n",
        "                                      WHEN                               THEN 'I'\n",
        "                                      WHEN                               THEN 'II'\n",
        "                                      WHEN                               THEN 'III'\n",
        "                                      WHEN                               THEN 'IV'\n",
        "                                    END AS Quadrant                                \n",
        "                            FROM \n",
        "                            (\n",
        "                               SELECT\n",
        "                                      GEOID, \n",
        "                                      NAME, \n",
        "                                      STATE,\n",
        "                                      LAND,\n",
        "                                      LATITUDE,\n",
        "                                      LONGITUDE,\n",
        "                                      TRIM(RTRIM(NAME, REPLACE(Name, ' ','')))||', '||STATE AS City\n",
        "                                FROM Census_LocationInfo\n",
        "                                WHERE City IN (SELECT Name FROM CitiesAndTowns)\n",
        "                            )\n",
        "                            LEFT JOIN (\n",
        "                                        SELECT\n",
        "                                          StateID, \n",
        "                                          PlaceID,\n",
        "                                          Population,\n",
        "                                          CommuteTime,\n",
        "                                          CommuteTimePT,\n",
        "                                          StateID||PlaceID AS GEOID\n",
        "                                      FROM Census_CommuteTime \n",
        "                                      )\n",
        "                            USING(GEOID)\n",
        "                            WHERE CommuteTimePT > 0\n",
        "                            GROUP BY Quadrant\n",
        "                       \"\"\"\n",
        "                          , connect_db)\n",
        "                       \n",
        "#Closing the connection\n",
        "connect_db.close()\n",
        "\n",
        "#Using pandas to show output\n",
        "df"
      ],
      "execution_count": null,
      "outputs": []
    }
  ]
}