{
  "nbformat": 4,
  "nbformat_minor": 0,
  "metadata": {
    "colab": {
      "name": "Module3_Part3_R.ipynb",
      "provenance": [],
      "collapsed_sections": [],
      "toc_visible": true,
      "authorship_tag": "ABX9TyNlbiEcPLjmMA3bmuemaHNY",
      "include_colab_link": true
    },
    "kernelspec": {
      "name": "ir",
      "display_name": "R"
    }
  },
  "cells": [
    {
      "cell_type": "markdown",
      "metadata": {
        "id": "view-in-github",
        "colab_type": "text"
      },
      "source": [
        "<a href=\"https://colab.research.google.com/github/christophermalone/DSCI325/blob/main/Module3_Part3_R.ipynb\" target=\"_parent\"><img src=\"https://colab.research.google.com/assets/colab-badge.svg\" alt=\"Open In Colab\"/></a>"
      ]
    },
    {
      "cell_type": "markdown",
      "metadata": {
        "id": "qASiwL4ROcyk"
      },
      "source": [
        "# Module 3 | Part 3 | R : MUTATE()"
      ]
    },
    {
      "cell_type": "markdown",
      "metadata": {
        "id": "_8ilK1-fQtdf"
      },
      "source": [
        "This notebook will discuss the use of the MUTATE() data verb in R."
      ]
    },
    {
      "cell_type": "markdown",
      "metadata": {
        "id": "kNsHvvj9V3v7"
      },
      "source": [
        "<table width='100%' ><tr><td bgcolor='green'></td></tr></table>\r\n",
        "\r\n",
        "### Example 3.3.1R\r\n",
        "For this notebook, consider the Nursing Home Provider dataset.  The datasets is published by the Centers for Medicare and Medicade Services.\r\n",
        "\r\n",
        "<table>\r\n",
        "<tr>\r\n",
        "<td colspan=\"2\" align='center'>Fields in Dataset</td>\r\n",
        "</tr>\r\n",
        "<tr>\r\n",
        "<td valign='top' align='left'>\r\n",
        "1: FPN (Federal Provider Number)<br>\r\n",
        "2: ProviderName<br>\r\n",
        "3: ProviderAddress<br>\r\n",
        "4: ProviderCounty<br>\r\n",
        "5: OwnershipType<br><br>\r\n",
        "6: NumberBeds<br>\r\n",
        "7: AverageResidentsperDay<br><br>\r\n",
        "8: ProviderInHospital<br>\r\n",
        "9: BusinessName<br>\r\n",
        "10: ContinuingCareRetirementCommunity<br><br>\r\n",
        "11: HealthInspection_MoreThan2YearsAgo<br>\r\n",
        "12: Overall_Rating<br>\r\n",
        "13: HealthInspection_Rating<br>\r\n",
        "14: QM_Rating<br>\r\n",
        "15: LongStayQM_Rating<br>\r\n",
        "16: ShortStayQM_Rating<br>\r\n",
        "17: Staffing_Rating<br>\r\n",
        "18: RNStaffing_Rating<br>\r\n",
        "</td>\r\n",
        "<td valign='top' align='left'>\r\n",
        "19: NurseAideStaffing_Hours<br>\r\n",
        "20: LPNStaffing_Hours<br>\r\n",
        "21: RNStaffing_Hours<br>\r\n",
        "22: LicensedStaffing_Hours<br>\r\n",
        "23: TotalNurseStaffing_Hours<br>\r\n",
        "24: PhysicalTherapistStaffing_Hours<br><br>\r\n",
        "25: RatingCycle1_Date<br>\r\n",
        "26: RatingCycle1_HealthDeficiencyScore<br>\r\n",
        "27: RatingCycle2_Date<br>\r\n",
        "28: RatingCycle2_HealthDeficiencyScore<br>\r\n",
        "29: RatingCycle3_Date<br>\r\n",
        "30: RatingCycle3_HealthDeficiencyScore<br><br>\r\n",
        "31: NumberofFines<br>\r\n",
        "32: TotalAmountFines<br>\r\n",
        "</td>\r\n",
        "</tr>\r\n",
        "</table>\r\n",
        "\r\n",
        " \r\n",
        "<br>Original Data Source: https://data.cms.gov/provider-data/search?theme=Nursing%20homes%20including%20rehab%20services\r\n",
        "\r\n",
        "<table width='100%' ><tr><td bgcolor='green'></td></tr></table>"
      ]
    },
    {
      "cell_type": "markdown",
      "metadata": {
        "id": "RbdEx7oFV26d"
      },
      "source": [
        "Load the tidyverse() package."
      ]
    },
    {
      "cell_type": "code",
      "metadata": {
        "id": "n6EVJcicYubq"
      },
      "source": [
        "library(tidyverse)"
      ],
      "execution_count": 4,
      "outputs": []
    },
    {
      "cell_type": "markdown",
      "metadata": {
        "id": "4jWmamkmYxMf"
      },
      "source": [
        "Reading in the ProviderInfo.csv dataset using read_csv()."
      ]
    },
    {
      "cell_type": "code",
      "metadata": {
        "colab": {
          "base_uri": "https://localhost:8080/"
        },
        "id": "VrZ7SJGeYxTI",
        "outputId": "60e5aec9-a9cf-4221-e0c0-5c6e7f1381a5"
      },
      "source": [
        "NursingHomes <- read_csv(\"/content/sample_data/ProviderInfo.csv\")"
      ],
      "execution_count": 5,
      "outputs": [
        {
          "output_type": "stream",
          "text": [
            "\n",
            "\u001b[36m──\u001b[39m \u001b[1m\u001b[1mColumn specification\u001b[1m\u001b[22m \u001b[36m────────────────────────────────────────────────────────\u001b[39m\n",
            "cols(\n",
            "  .default = col_double(),\n",
            "  FPN = \u001b[31mcol_character()\u001b[39m,\n",
            "  ProviderName = \u001b[31mcol_character()\u001b[39m,\n",
            "  ProviderAddress = \u001b[31mcol_character()\u001b[39m,\n",
            "  ProviderCounty = \u001b[31mcol_character()\u001b[39m,\n",
            "  OwnershipType = \u001b[31mcol_character()\u001b[39m,\n",
            "  ProviderInHospital = \u001b[31mcol_character()\u001b[39m,\n",
            "  BusinessName = \u001b[31mcol_character()\u001b[39m,\n",
            "  ContinuingCareRetirementCommunity = \u001b[31mcol_character()\u001b[39m,\n",
            "  HealthInspection_MoreThan2YearsAgo = \u001b[31mcol_character()\u001b[39m,\n",
            "  RatingCycle1_Date = \u001b[31mcol_character()\u001b[39m,\n",
            "  RatingCycle1_HealthDeficiencyScore = \u001b[31mcol_character()\u001b[39m,\n",
            "  RatingCycle2_Date = \u001b[31mcol_character()\u001b[39m,\n",
            "  RatingCycle2_HealthDeficiencyScore = \u001b[31mcol_character()\u001b[39m,\n",
            "  RatingCycle3_Date = \u001b[31mcol_character()\u001b[39m,\n",
            "  RatingCycle3_HealthDeficiencyScore = \u001b[31mcol_character()\u001b[39m\n",
            ")\n",
            "\u001b[36mℹ\u001b[39m Use \u001b[30m\u001b[47m\u001b[30m\u001b[47m`spec()`\u001b[47m\u001b[30m\u001b[49m\u001b[39m for the full column specifications.\n",
            "\n",
            "\n"
          ],
          "name": "stderr"
        }
      ]
    },
    {
      "cell_type": "markdown",
      "metadata": {
        "id": "APOKwrRgZVwy"
      },
      "source": [
        ""
      ]
    },
    {
      "cell_type": "code",
      "metadata": {
        "colab": {
          "base_uri": "https://localhost:8080/",
          "height": 695
        },
        "id": "8tyeg1QCZV4M",
        "outputId": "c38833a9-6b41-4292-c0a1-e19d0da854aa"
      },
      "source": [
        "#Getting the dimension\r\n",
        "cat(\"The number of rows and columns in this dataframe is: \\n\")\r\n",
        "dim(NursingHomes)\r\n",
        "cat(\"\\n\")\r\n",
        "\r\n",
        "\r\n",
        "#Getting a list of all the field names\r\n",
        "cat(\"Field names in the Nursing Homes Dataset: \\n\")\r\n",
        "colnames(NursingHomes)\r\n",
        "\r\n",
        "#Seeing first few rows\r\n",
        "head(NursingHomes)\r\n"
      ],
      "execution_count": 6,
      "outputs": [
        {
          "output_type": "stream",
          "text": [
            "The number of rows and columns in this dataframe is: \n"
          ],
          "name": "stdout"
        },
        {
          "output_type": "display_data",
          "data": {
            "text/plain": [
              "[1] 15331    32"
            ],
            "text/latex": "\\begin{enumerate*}\n\\item 15331\n\\item 32\n\\end{enumerate*}\n",
            "text/markdown": "1. 15331\n2. 32\n\n\n",
            "text/html": [
              "<style>\n",
              ".list-inline {list-style: none; margin:0; padding: 0}\n",
              ".list-inline>li {display: inline-block}\n",
              ".list-inline>li:not(:last-child)::after {content: \"\\00b7\"; padding: 0 .5ex}\n",
              "</style>\n",
              "<ol class=list-inline><li>15331</li><li>32</li></ol>\n"
            ]
          },
          "metadata": {
            "tags": []
          }
        },
        {
          "output_type": "stream",
          "text": [
            "\n",
            "Field names in the Nursing Homes Dataset: \n"
          ],
          "name": "stdout"
        },
        {
          "output_type": "display_data",
          "data": {
            "text/plain": [
              " [1] \"FPN\"                                \"ProviderName\"                      \n",
              " [3] \"ProviderAddress\"                    \"ProviderCounty\"                    \n",
              " [5] \"OwnershipType\"                      \"NumberBeds\"                        \n",
              " [7] \"AverageResidentsperDay\"             \"ProviderInHospital\"                \n",
              " [9] \"BusinessName\"                       \"ContinuingCareRetirementCommunity\" \n",
              "[11] \"HealthInspection_MoreThan2YearsAgo\" \"Overall_Rating\"                    \n",
              "[13] \"HealthInspection_Rating\"            \"QM_Rating\"                         \n",
              "[15] \"LongStayQM_Rating\"                  \"ShortStayQM_Rating\"                \n",
              "[17] \"Staffing_Rating\"                    \"RNStaffing_Rating\"                 \n",
              "[19] \"NurseAideStaffing_Hours\"            \"LPNStaffing_Hours\"                 \n",
              "[21] \"RNStaffing_Hours\"                   \"LicensedStaffing_Hours\"            \n",
              "[23] \"TotalNurseStaffing_Hours\"           \"PhysicalTherapistStaffing_Hours\"   \n",
              "[25] \"RatingCycle1_Date\"                  \"RatingCycle1_HealthDeficiencyScore\"\n",
              "[27] \"RatingCycle2_Date\"                  \"RatingCycle2_HealthDeficiencyScore\"\n",
              "[29] \"RatingCycle3_Date\"                  \"RatingCycle3_HealthDeficiencyScore\"\n",
              "[31] \"NumberofFines\"                      \"TotalAmountFines\"                  "
            ],
            "text/latex": "\\begin{enumerate*}\n\\item 'FPN'\n\\item 'ProviderName'\n\\item 'ProviderAddress'\n\\item 'ProviderCounty'\n\\item 'OwnershipType'\n\\item 'NumberBeds'\n\\item 'AverageResidentsperDay'\n\\item 'ProviderInHospital'\n\\item 'BusinessName'\n\\item 'ContinuingCareRetirementCommunity'\n\\item 'HealthInspection\\_MoreThan2YearsAgo'\n\\item 'Overall\\_Rating'\n\\item 'HealthInspection\\_Rating'\n\\item 'QM\\_Rating'\n\\item 'LongStayQM\\_Rating'\n\\item 'ShortStayQM\\_Rating'\n\\item 'Staffing\\_Rating'\n\\item 'RNStaffing\\_Rating'\n\\item 'NurseAideStaffing\\_Hours'\n\\item 'LPNStaffing\\_Hours'\n\\item 'RNStaffing\\_Hours'\n\\item 'LicensedStaffing\\_Hours'\n\\item 'TotalNurseStaffing\\_Hours'\n\\item 'PhysicalTherapistStaffing\\_Hours'\n\\item 'RatingCycle1\\_Date'\n\\item 'RatingCycle1\\_HealthDeficiencyScore'\n\\item 'RatingCycle2\\_Date'\n\\item 'RatingCycle2\\_HealthDeficiencyScore'\n\\item 'RatingCycle3\\_Date'\n\\item 'RatingCycle3\\_HealthDeficiencyScore'\n\\item 'NumberofFines'\n\\item 'TotalAmountFines'\n\\end{enumerate*}\n",
            "text/markdown": "1. 'FPN'\n2. 'ProviderName'\n3. 'ProviderAddress'\n4. 'ProviderCounty'\n5. 'OwnershipType'\n6. 'NumberBeds'\n7. 'AverageResidentsperDay'\n8. 'ProviderInHospital'\n9. 'BusinessName'\n10. 'ContinuingCareRetirementCommunity'\n11. 'HealthInspection_MoreThan2YearsAgo'\n12. 'Overall_Rating'\n13. 'HealthInspection_Rating'\n14. 'QM_Rating'\n15. 'LongStayQM_Rating'\n16. 'ShortStayQM_Rating'\n17. 'Staffing_Rating'\n18. 'RNStaffing_Rating'\n19. 'NurseAideStaffing_Hours'\n20. 'LPNStaffing_Hours'\n21. 'RNStaffing_Hours'\n22. 'LicensedStaffing_Hours'\n23. 'TotalNurseStaffing_Hours'\n24. 'PhysicalTherapistStaffing_Hours'\n25. 'RatingCycle1_Date'\n26. 'RatingCycle1_HealthDeficiencyScore'\n27. 'RatingCycle2_Date'\n28. 'RatingCycle2_HealthDeficiencyScore'\n29. 'RatingCycle3_Date'\n30. 'RatingCycle3_HealthDeficiencyScore'\n31. 'NumberofFines'\n32. 'TotalAmountFines'\n\n\n",
            "text/html": [
              "<style>\n",
              ".list-inline {list-style: none; margin:0; padding: 0}\n",
              ".list-inline>li {display: inline-block}\n",
              ".list-inline>li:not(:last-child)::after {content: \"\\00b7\"; padding: 0 .5ex}\n",
              "</style>\n",
              "<ol class=list-inline><li>'FPN'</li><li>'ProviderName'</li><li>'ProviderAddress'</li><li>'ProviderCounty'</li><li>'OwnershipType'</li><li>'NumberBeds'</li><li>'AverageResidentsperDay'</li><li>'ProviderInHospital'</li><li>'BusinessName'</li><li>'ContinuingCareRetirementCommunity'</li><li>'HealthInspection_MoreThan2YearsAgo'</li><li>'Overall_Rating'</li><li>'HealthInspection_Rating'</li><li>'QM_Rating'</li><li>'LongStayQM_Rating'</li><li>'ShortStayQM_Rating'</li><li>'Staffing_Rating'</li><li>'RNStaffing_Rating'</li><li>'NurseAideStaffing_Hours'</li><li>'LPNStaffing_Hours'</li><li>'RNStaffing_Hours'</li><li>'LicensedStaffing_Hours'</li><li>'TotalNurseStaffing_Hours'</li><li>'PhysicalTherapistStaffing_Hours'</li><li>'RatingCycle1_Date'</li><li>'RatingCycle1_HealthDeficiencyScore'</li><li>'RatingCycle2_Date'</li><li>'RatingCycle2_HealthDeficiencyScore'</li><li>'RatingCycle3_Date'</li><li>'RatingCycle3_HealthDeficiencyScore'</li><li>'NumberofFines'</li><li>'TotalAmountFines'</li></ol>\n"
            ]
          },
          "metadata": {
            "tags": []
          }
        },
        {
          "output_type": "display_data",
          "data": {
            "text/plain": [
              "  FPN   ProviderName                               \n",
              "1 15009 BURNS NURSING HOME, INC.                   \n",
              "2 15010 COOSA VALLEY HEALTHCARE CENTER             \n",
              "3 15012 HIGHLANDS HEALTH AND REHAB                 \n",
              "4 15014 EASTVIEW REHABILITATION & HEALTHCARE CENTER\n",
              "5 15015 PLANTATION MANOR NURSING HOME              \n",
              "6 15016 ATHENS HEALTH AND REHABILITATION LLC       \n",
              "  ProviderAddress                               ProviderCounty      \n",
              "1 701 MONROE STREET NW,RUSSELLVILLE,AL,35653    Franklin County, AL \n",
              "2 260 WEST WALNUT STREET,SYLACAUGA,AL,35150     Talladega County, AL\n",
              "3 380 WOODS COVE ROAD,SCOTTSBORO,AL,35768       Jackson County, AL  \n",
              "4 7755 FOURTH AVENUE SOUTH,BIRMINGHAM,AL,35206  Jefferson County, AL\n",
              "5 6450 OLD TUSCALOOSA HIGHWAY,MC CALLA,AL,35111 Jefferson County, AL\n",
              "6 611 WEST MARKET STREET,ATHENS,AL,35611        Limestone County, AL\n",
              "  OwnershipType            NumberBeds AverageResidentsperDay ProviderInHospital\n",
              "1 For profit - Corporation  57         51.8                  N                 \n",
              "2 For profit - Corporation  85         72.1                  N                 \n",
              "3 Government - County       50         41.3                  Y                 \n",
              "4 For profit - Individual   92         71.8                  N                 \n",
              "5 For profit - Individual  103         83.8                  N                 \n",
              "6 For profit - Corporation 149        125.2                  N                 \n",
              "  BusinessName                         ContinuingCareRetirementCommunity ⋯\n",
              "1 BURNS NURSING HOME, INC.             N                                 ⋯\n",
              "2 COOSA VALLEY HEALTHCARE CENTER LLC   N                                 ⋯\n",
              "3 JACKSON COUNTY HEALTH CARE AUTHORITY N                                 ⋯\n",
              "4 BALL HEALTHCARE EASTVIEW INC         N                                 ⋯\n",
              "5 C & G HEALTHCARE SERVICES, INC.      N                                 ⋯\n",
              "6 ATHENS HEALTH AND REHABILITATION LLC N                                 ⋯\n",
              "  TotalNurseStaffing_Hours PhysicalTherapistStaffing_Hours RatingCycle1_Date\n",
              "1 4.31259                  0.00000                         8/21/2019        \n",
              "2 4.84021                  0.01271                         6/13/2019        \n",
              "3 4.76645                  0.05596                         6/6/2019         \n",
              "4 3.81920                  0.03246                         2/20/2020        \n",
              "5 3.39949                  0.01248                         3/5/2020         \n",
              "6 3.24110                  0.03716                         8/29/2019        \n",
              "  RatingCycle1_HealthDeficiencyScore RatingCycle2_Date\n",
              "1 8                                  8/1/2018         \n",
              "2 4                                  6/7/2018         \n",
              "3 20                                 5/3/2018         \n",
              "4 4                                  1/24/2019        \n",
              "5 20                                 5/2/2019         \n",
              "6 20                                 7/19/2018        \n",
              "  RatingCycle2_HealthDeficiencyScore RatingCycle3_Date\n",
              "1 4                                  6/22/2017        \n",
              "2 32                                 4/6/2017         \n",
              "3 40                                 3/16/2017        \n",
              "4 20                                 1/25/2018        \n",
              "5 4                                  4/19/2018        \n",
              "6 28                                 6/1/2017         \n",
              "  RatingCycle3_HealthDeficiencyScore NumberofFines TotalAmountFines\n",
              "1 0                                  0                 0           \n",
              "2 36                                 1               650           \n",
              "3 44                                 0                 0           \n",
              "4 24                                 0                 0           \n",
              "5 28                                 2             29611           \n",
              "6 20                                 0                 0           "
            ],
            "text/latex": "A tibble: 6 × 32\n\\begin{tabular}{lllllllllllllllllllll}\n FPN & ProviderName & ProviderAddress & ProviderCounty & OwnershipType & NumberBeds & AverageResidentsperDay & ProviderInHospital & BusinessName & ContinuingCareRetirementCommunity & ⋯ & TotalNurseStaffing\\_Hours & PhysicalTherapistStaffing\\_Hours & RatingCycle1\\_Date & RatingCycle1\\_HealthDeficiencyScore & RatingCycle2\\_Date & RatingCycle2\\_HealthDeficiencyScore & RatingCycle3\\_Date & RatingCycle3\\_HealthDeficiencyScore & NumberofFines & TotalAmountFines\\\\\n <chr> & <chr> & <chr> & <chr> & <chr> & <dbl> & <dbl> & <chr> & <chr> & <chr> & ⋯ & <dbl> & <dbl> & <chr> & <chr> & <chr> & <chr> & <chr> & <chr> & <dbl> & <dbl>\\\\\n\\hline\n\t 15009 & BURNS NURSING HOME, INC.                    & 701 MONROE STREET NW,RUSSELLVILLE,AL,35653    & Franklin County, AL  & For profit - Corporation &  57 &  51.8 & N & BURNS NURSING HOME, INC.             & N & ⋯ & 4.31259 & 0.00000 & 8/21/2019 & 8  & 8/1/2018  & 4  & 6/22/2017 & 0  & 0 &     0\\\\\n\t 15010 & COOSA VALLEY HEALTHCARE CENTER              & 260 WEST WALNUT STREET,SYLACAUGA,AL,35150     & Talladega County, AL & For profit - Corporation &  85 &  72.1 & N & COOSA VALLEY HEALTHCARE CENTER LLC   & N & ⋯ & 4.84021 & 0.01271 & 6/13/2019 & 4  & 6/7/2018  & 32 & 4/6/2017  & 36 & 1 &   650\\\\\n\t 15012 & HIGHLANDS HEALTH AND REHAB                  & 380 WOODS COVE ROAD,SCOTTSBORO,AL,35768       & Jackson County, AL   & Government - County      &  50 &  41.3 & Y & JACKSON COUNTY HEALTH CARE AUTHORITY & N & ⋯ & 4.76645 & 0.05596 & 6/6/2019  & 20 & 5/3/2018  & 40 & 3/16/2017 & 44 & 0 &     0\\\\\n\t 15014 & EASTVIEW REHABILITATION \\& HEALTHCARE CENTER & 7755 FOURTH AVENUE SOUTH,BIRMINGHAM,AL,35206  & Jefferson County, AL & For profit - Individual  &  92 &  71.8 & N & BALL HEALTHCARE EASTVIEW INC         & N & ⋯ & 3.81920 & 0.03246 & 2/20/2020 & 4  & 1/24/2019 & 20 & 1/25/2018 & 24 & 0 &     0\\\\\n\t 15015 & PLANTATION MANOR NURSING HOME               & 6450 OLD TUSCALOOSA HIGHWAY,MC CALLA,AL,35111 & Jefferson County, AL & For profit - Individual  & 103 &  83.8 & N & C \\& G HEALTHCARE SERVICES, INC.      & N & ⋯ & 3.39949 & 0.01248 & 3/5/2020  & 20 & 5/2/2019  & 4  & 4/19/2018 & 28 & 2 & 29611\\\\\n\t 15016 & ATHENS HEALTH AND REHABILITATION LLC        & 611 WEST MARKET STREET,ATHENS,AL,35611        & Limestone County, AL & For profit - Corporation & 149 & 125.2 & N & ATHENS HEALTH AND REHABILITATION LLC & N & ⋯ & 3.24110 & 0.03716 & 8/29/2019 & 20 & 7/19/2018 & 28 & 6/1/2017  & 20 & 0 &     0\\\\\n\\end{tabular}\n",
            "text/markdown": "\nA tibble: 6 × 32\n\n| FPN &lt;chr&gt; | ProviderName &lt;chr&gt; | ProviderAddress &lt;chr&gt; | ProviderCounty &lt;chr&gt; | OwnershipType &lt;chr&gt; | NumberBeds &lt;dbl&gt; | AverageResidentsperDay &lt;dbl&gt; | ProviderInHospital &lt;chr&gt; | BusinessName &lt;chr&gt; | ContinuingCareRetirementCommunity &lt;chr&gt; | ⋯ ⋯ | TotalNurseStaffing_Hours &lt;dbl&gt; | PhysicalTherapistStaffing_Hours &lt;dbl&gt; | RatingCycle1_Date &lt;chr&gt; | RatingCycle1_HealthDeficiencyScore &lt;chr&gt; | RatingCycle2_Date &lt;chr&gt; | RatingCycle2_HealthDeficiencyScore &lt;chr&gt; | RatingCycle3_Date &lt;chr&gt; | RatingCycle3_HealthDeficiencyScore &lt;chr&gt; | NumberofFines &lt;dbl&gt; | TotalAmountFines &lt;dbl&gt; |\n|---|---|---|---|---|---|---|---|---|---|---|---|---|---|---|---|---|---|---|---|---|\n| 15009 | BURNS NURSING HOME, INC.                    | 701 MONROE STREET NW,RUSSELLVILLE,AL,35653    | Franklin County, AL  | For profit - Corporation |  57 |  51.8 | N | BURNS NURSING HOME, INC.             | N | ⋯ | 4.31259 | 0.00000 | 8/21/2019 | 8  | 8/1/2018  | 4  | 6/22/2017 | 0  | 0 |     0 |\n| 15010 | COOSA VALLEY HEALTHCARE CENTER              | 260 WEST WALNUT STREET,SYLACAUGA,AL,35150     | Talladega County, AL | For profit - Corporation |  85 |  72.1 | N | COOSA VALLEY HEALTHCARE CENTER LLC   | N | ⋯ | 4.84021 | 0.01271 | 6/13/2019 | 4  | 6/7/2018  | 32 | 4/6/2017  | 36 | 1 |   650 |\n| 15012 | HIGHLANDS HEALTH AND REHAB                  | 380 WOODS COVE ROAD,SCOTTSBORO,AL,35768       | Jackson County, AL   | Government - County      |  50 |  41.3 | Y | JACKSON COUNTY HEALTH CARE AUTHORITY | N | ⋯ | 4.76645 | 0.05596 | 6/6/2019  | 20 | 5/3/2018  | 40 | 3/16/2017 | 44 | 0 |     0 |\n| 15014 | EASTVIEW REHABILITATION &amp; HEALTHCARE CENTER | 7755 FOURTH AVENUE SOUTH,BIRMINGHAM,AL,35206  | Jefferson County, AL | For profit - Individual  |  92 |  71.8 | N | BALL HEALTHCARE EASTVIEW INC         | N | ⋯ | 3.81920 | 0.03246 | 2/20/2020 | 4  | 1/24/2019 | 20 | 1/25/2018 | 24 | 0 |     0 |\n| 15015 | PLANTATION MANOR NURSING HOME               | 6450 OLD TUSCALOOSA HIGHWAY,MC CALLA,AL,35111 | Jefferson County, AL | For profit - Individual  | 103 |  83.8 | N | C &amp; G HEALTHCARE SERVICES, INC.      | N | ⋯ | 3.39949 | 0.01248 | 3/5/2020  | 20 | 5/2/2019  | 4  | 4/19/2018 | 28 | 2 | 29611 |\n| 15016 | ATHENS HEALTH AND REHABILITATION LLC        | 611 WEST MARKET STREET,ATHENS,AL,35611        | Limestone County, AL | For profit - Corporation | 149 | 125.2 | N | ATHENS HEALTH AND REHABILITATION LLC | N | ⋯ | 3.24110 | 0.03716 | 8/29/2019 | 20 | 7/19/2018 | 28 | 6/1/2017  | 20 | 0 |     0 |\n\n",
            "text/html": [
              "<table class=\"dataframe\">\n",
              "<caption>A tibble: 6 × 32</caption>\n",
              "<thead>\n",
              "\t<tr><th scope=col>FPN</th><th scope=col>ProviderName</th><th scope=col>ProviderAddress</th><th scope=col>ProviderCounty</th><th scope=col>OwnershipType</th><th scope=col>NumberBeds</th><th scope=col>AverageResidentsperDay</th><th scope=col>ProviderInHospital</th><th scope=col>BusinessName</th><th scope=col>ContinuingCareRetirementCommunity</th><th scope=col>⋯</th><th scope=col>TotalNurseStaffing_Hours</th><th scope=col>PhysicalTherapistStaffing_Hours</th><th scope=col>RatingCycle1_Date</th><th scope=col>RatingCycle1_HealthDeficiencyScore</th><th scope=col>RatingCycle2_Date</th><th scope=col>RatingCycle2_HealthDeficiencyScore</th><th scope=col>RatingCycle3_Date</th><th scope=col>RatingCycle3_HealthDeficiencyScore</th><th scope=col>NumberofFines</th><th scope=col>TotalAmountFines</th></tr>\n",
              "\t<tr><th scope=col>&lt;chr&gt;</th><th scope=col>&lt;chr&gt;</th><th scope=col>&lt;chr&gt;</th><th scope=col>&lt;chr&gt;</th><th scope=col>&lt;chr&gt;</th><th scope=col>&lt;dbl&gt;</th><th scope=col>&lt;dbl&gt;</th><th scope=col>&lt;chr&gt;</th><th scope=col>&lt;chr&gt;</th><th scope=col>&lt;chr&gt;</th><th scope=col>⋯</th><th scope=col>&lt;dbl&gt;</th><th scope=col>&lt;dbl&gt;</th><th scope=col>&lt;chr&gt;</th><th scope=col>&lt;chr&gt;</th><th scope=col>&lt;chr&gt;</th><th scope=col>&lt;chr&gt;</th><th scope=col>&lt;chr&gt;</th><th scope=col>&lt;chr&gt;</th><th scope=col>&lt;dbl&gt;</th><th scope=col>&lt;dbl&gt;</th></tr>\n",
              "</thead>\n",
              "<tbody>\n",
              "\t<tr><td>15009</td><td>BURNS NURSING HOME, INC.                   </td><td>701 MONROE STREET NW,RUSSELLVILLE,AL,35653   </td><td>Franklin County, AL </td><td>For profit - Corporation</td><td> 57</td><td> 51.8</td><td>N</td><td>BURNS NURSING HOME, INC.            </td><td>N</td><td>⋯</td><td>4.31259</td><td>0.00000</td><td>8/21/2019</td><td>8 </td><td>8/1/2018 </td><td>4 </td><td>6/22/2017</td><td>0 </td><td>0</td><td>    0</td></tr>\n",
              "\t<tr><td>15010</td><td>COOSA VALLEY HEALTHCARE CENTER             </td><td>260 WEST WALNUT STREET,SYLACAUGA,AL,35150    </td><td>Talladega County, AL</td><td>For profit - Corporation</td><td> 85</td><td> 72.1</td><td>N</td><td>COOSA VALLEY HEALTHCARE CENTER LLC  </td><td>N</td><td>⋯</td><td>4.84021</td><td>0.01271</td><td>6/13/2019</td><td>4 </td><td>6/7/2018 </td><td>32</td><td>4/6/2017 </td><td>36</td><td>1</td><td>  650</td></tr>\n",
              "\t<tr><td>15012</td><td>HIGHLANDS HEALTH AND REHAB                 </td><td>380 WOODS COVE ROAD,SCOTTSBORO,AL,35768      </td><td>Jackson County, AL  </td><td>Government - County     </td><td> 50</td><td> 41.3</td><td>Y</td><td>JACKSON COUNTY HEALTH CARE AUTHORITY</td><td>N</td><td>⋯</td><td>4.76645</td><td>0.05596</td><td>6/6/2019 </td><td>20</td><td>5/3/2018 </td><td>40</td><td>3/16/2017</td><td>44</td><td>0</td><td>    0</td></tr>\n",
              "\t<tr><td>15014</td><td>EASTVIEW REHABILITATION &amp; HEALTHCARE CENTER</td><td>7755 FOURTH AVENUE SOUTH,BIRMINGHAM,AL,35206 </td><td>Jefferson County, AL</td><td>For profit - Individual </td><td> 92</td><td> 71.8</td><td>N</td><td><span style=white-space:pre-wrap>BALL HEALTHCARE EASTVIEW INC        </span></td><td>N</td><td>⋯</td><td>3.81920</td><td>0.03246</td><td>2/20/2020</td><td>4 </td><td>1/24/2019</td><td>20</td><td>1/25/2018</td><td>24</td><td>0</td><td><span style=white-space:pre-wrap>    0</span></td></tr>\n",
              "\t<tr><td>15015</td><td><span style=white-space:pre-wrap>PLANTATION MANOR NURSING HOME              </span></td><td>6450 OLD TUSCALOOSA HIGHWAY,MC CALLA,AL,35111</td><td>Jefferson County, AL</td><td>For profit - Individual </td><td>103</td><td> 83.8</td><td>N</td><td><span style=white-space:pre-wrap>C &amp; G HEALTHCARE SERVICES, INC.     </span></td><td>N</td><td>⋯</td><td>3.39949</td><td>0.01248</td><td>3/5/2020 </td><td>20</td><td>5/2/2019 </td><td>4 </td><td>4/19/2018</td><td>28</td><td>2</td><td>29611</td></tr>\n",
              "\t<tr><td>15016</td><td>ATHENS HEALTH AND REHABILITATION LLC       </td><td>611 WEST MARKET STREET,ATHENS,AL,35611       </td><td>Limestone County, AL</td><td>For profit - Corporation</td><td>149</td><td>125.2</td><td>N</td><td>ATHENS HEALTH AND REHABILITATION LLC</td><td>N</td><td>⋯</td><td>3.24110</td><td>0.03716</td><td>8/29/2019</td><td>20</td><td>7/19/2018</td><td>28</td><td>6/1/2017 </td><td>20</td><td>0</td><td>    0</td></tr>\n",
              "</tbody>\n",
              "</table>\n"
            ]
          },
          "metadata": {
            "tags": []
          }
        }
      ]
    },
    {
      "cell_type": "markdown",
      "metadata": {
        "id": "9wNqeGVCaXtk"
      },
      "source": [
        "# Create New Field - Numeric"
      ]
    },
    {
      "cell_type": "markdown",
      "metadata": {
        "id": "goubZQxTbbbY"
      },
      "source": [
        "Nursing homes are most profitable when they have lots of residents, i.e. are near capacity.  Consider the following new field to be calculated for this data.\r\n",
        "\r\n",
        "$$Capacity = \\frac{Average \\space Residents \\space per \\space Day}{Number \\space of \\space Beds}$$\r\n",
        "\r\n",
        "The <strong>mutate()</strong> function in the <strong>dplyr</strong> package will can be used to complete this task.  The mutate() function has the following syntax."
      ]
    },
    {
      "cell_type": "code",
      "metadata": {
        "colab": {
          "base_uri": "https://localhost:8080/",
          "height": 555
        },
        "id": "8WLEv7vdaX0b",
        "outputId": "5c384140-5be1-4545-90ea-50b2bb9b7e38"
      },
      "source": [
        "(\r\n",
        "  NursingHomes\r\n",
        "  %>% mutate(Capacity = AverageResidentsperDay / NumberBeds)\r\n",
        "  %>% head()\r\n",
        ") "
      ],
      "execution_count": 7,
      "outputs": [
        {
          "output_type": "display_data",
          "data": {
            "text/plain": [
              "  FPN   ProviderName                               \n",
              "1 15009 BURNS NURSING HOME, INC.                   \n",
              "2 15010 COOSA VALLEY HEALTHCARE CENTER             \n",
              "3 15012 HIGHLANDS HEALTH AND REHAB                 \n",
              "4 15014 EASTVIEW REHABILITATION & HEALTHCARE CENTER\n",
              "5 15015 PLANTATION MANOR NURSING HOME              \n",
              "6 15016 ATHENS HEALTH AND REHABILITATION LLC       \n",
              "  ProviderAddress                               ProviderCounty      \n",
              "1 701 MONROE STREET NW,RUSSELLVILLE,AL,35653    Franklin County, AL \n",
              "2 260 WEST WALNUT STREET,SYLACAUGA,AL,35150     Talladega County, AL\n",
              "3 380 WOODS COVE ROAD,SCOTTSBORO,AL,35768       Jackson County, AL  \n",
              "4 7755 FOURTH AVENUE SOUTH,BIRMINGHAM,AL,35206  Jefferson County, AL\n",
              "5 6450 OLD TUSCALOOSA HIGHWAY,MC CALLA,AL,35111 Jefferson County, AL\n",
              "6 611 WEST MARKET STREET,ATHENS,AL,35611        Limestone County, AL\n",
              "  OwnershipType            NumberBeds AverageResidentsperDay ProviderInHospital\n",
              "1 For profit - Corporation  57         51.8                  N                 \n",
              "2 For profit - Corporation  85         72.1                  N                 \n",
              "3 Government - County       50         41.3                  Y                 \n",
              "4 For profit - Individual   92         71.8                  N                 \n",
              "5 For profit - Individual  103         83.8                  N                 \n",
              "6 For profit - Corporation 149        125.2                  N                 \n",
              "  BusinessName                         ContinuingCareRetirementCommunity ⋯\n",
              "1 BURNS NURSING HOME, INC.             N                                 ⋯\n",
              "2 COOSA VALLEY HEALTHCARE CENTER LLC   N                                 ⋯\n",
              "3 JACKSON COUNTY HEALTH CARE AUTHORITY N                                 ⋯\n",
              "4 BALL HEALTHCARE EASTVIEW INC         N                                 ⋯\n",
              "5 C & G HEALTHCARE SERVICES, INC.      N                                 ⋯\n",
              "6 ATHENS HEALTH AND REHABILITATION LLC N                                 ⋯\n",
              "  PhysicalTherapistStaffing_Hours RatingCycle1_Date\n",
              "1 0.00000                         8/21/2019        \n",
              "2 0.01271                         6/13/2019        \n",
              "3 0.05596                         6/6/2019         \n",
              "4 0.03246                         2/20/2020        \n",
              "5 0.01248                         3/5/2020         \n",
              "6 0.03716                         8/29/2019        \n",
              "  RatingCycle1_HealthDeficiencyScore RatingCycle2_Date\n",
              "1 8                                  8/1/2018         \n",
              "2 4                                  6/7/2018         \n",
              "3 20                                 5/3/2018         \n",
              "4 4                                  1/24/2019        \n",
              "5 20                                 5/2/2019         \n",
              "6 20                                 7/19/2018        \n",
              "  RatingCycle2_HealthDeficiencyScore RatingCycle3_Date\n",
              "1 4                                  6/22/2017        \n",
              "2 32                                 4/6/2017         \n",
              "3 40                                 3/16/2017        \n",
              "4 20                                 1/25/2018        \n",
              "5 4                                  4/19/2018        \n",
              "6 28                                 6/1/2017         \n",
              "  RatingCycle3_HealthDeficiencyScore NumberofFines TotalAmountFines Capacity \n",
              "1 0                                  0                 0            0.9087719\n",
              "2 36                                 1               650            0.8482353\n",
              "3 44                                 0                 0            0.8260000\n",
              "4 24                                 0                 0            0.7804348\n",
              "5 28                                 2             29611            0.8135922\n",
              "6 20                                 0                 0            0.8402685"
            ],
            "text/latex": "A tibble: 6 × 33\n\\begin{tabular}{lllllllllllllllllllll}\n FPN & ProviderName & ProviderAddress & ProviderCounty & OwnershipType & NumberBeds & AverageResidentsperDay & ProviderInHospital & BusinessName & ContinuingCareRetirementCommunity & ⋯ & PhysicalTherapistStaffing\\_Hours & RatingCycle1\\_Date & RatingCycle1\\_HealthDeficiencyScore & RatingCycle2\\_Date & RatingCycle2\\_HealthDeficiencyScore & RatingCycle3\\_Date & RatingCycle3\\_HealthDeficiencyScore & NumberofFines & TotalAmountFines & Capacity\\\\\n <chr> & <chr> & <chr> & <chr> & <chr> & <dbl> & <dbl> & <chr> & <chr> & <chr> & ⋯ & <dbl> & <chr> & <chr> & <chr> & <chr> & <chr> & <chr> & <dbl> & <dbl> & <dbl>\\\\\n\\hline\n\t 15009 & BURNS NURSING HOME, INC.                    & 701 MONROE STREET NW,RUSSELLVILLE,AL,35653    & Franklin County, AL  & For profit - Corporation &  57 &  51.8 & N & BURNS NURSING HOME, INC.             & N & ⋯ & 0.00000 & 8/21/2019 & 8  & 8/1/2018  & 4  & 6/22/2017 & 0  & 0 &     0 & 0.9087719\\\\\n\t 15010 & COOSA VALLEY HEALTHCARE CENTER              & 260 WEST WALNUT STREET,SYLACAUGA,AL,35150     & Talladega County, AL & For profit - Corporation &  85 &  72.1 & N & COOSA VALLEY HEALTHCARE CENTER LLC   & N & ⋯ & 0.01271 & 6/13/2019 & 4  & 6/7/2018  & 32 & 4/6/2017  & 36 & 1 &   650 & 0.8482353\\\\\n\t 15012 & HIGHLANDS HEALTH AND REHAB                  & 380 WOODS COVE ROAD,SCOTTSBORO,AL,35768       & Jackson County, AL   & Government - County      &  50 &  41.3 & Y & JACKSON COUNTY HEALTH CARE AUTHORITY & N & ⋯ & 0.05596 & 6/6/2019  & 20 & 5/3/2018  & 40 & 3/16/2017 & 44 & 0 &     0 & 0.8260000\\\\\n\t 15014 & EASTVIEW REHABILITATION \\& HEALTHCARE CENTER & 7755 FOURTH AVENUE SOUTH,BIRMINGHAM,AL,35206  & Jefferson County, AL & For profit - Individual  &  92 &  71.8 & N & BALL HEALTHCARE EASTVIEW INC         & N & ⋯ & 0.03246 & 2/20/2020 & 4  & 1/24/2019 & 20 & 1/25/2018 & 24 & 0 &     0 & 0.7804348\\\\\n\t 15015 & PLANTATION MANOR NURSING HOME               & 6450 OLD TUSCALOOSA HIGHWAY,MC CALLA,AL,35111 & Jefferson County, AL & For profit - Individual  & 103 &  83.8 & N & C \\& G HEALTHCARE SERVICES, INC.      & N & ⋯ & 0.01248 & 3/5/2020  & 20 & 5/2/2019  & 4  & 4/19/2018 & 28 & 2 & 29611 & 0.8135922\\\\\n\t 15016 & ATHENS HEALTH AND REHABILITATION LLC        & 611 WEST MARKET STREET,ATHENS,AL,35611        & Limestone County, AL & For profit - Corporation & 149 & 125.2 & N & ATHENS HEALTH AND REHABILITATION LLC & N & ⋯ & 0.03716 & 8/29/2019 & 20 & 7/19/2018 & 28 & 6/1/2017  & 20 & 0 &     0 & 0.8402685\\\\\n\\end{tabular}\n",
            "text/markdown": "\nA tibble: 6 × 33\n\n| FPN &lt;chr&gt; | ProviderName &lt;chr&gt; | ProviderAddress &lt;chr&gt; | ProviderCounty &lt;chr&gt; | OwnershipType &lt;chr&gt; | NumberBeds &lt;dbl&gt; | AverageResidentsperDay &lt;dbl&gt; | ProviderInHospital &lt;chr&gt; | BusinessName &lt;chr&gt; | ContinuingCareRetirementCommunity &lt;chr&gt; | ⋯ ⋯ | PhysicalTherapistStaffing_Hours &lt;dbl&gt; | RatingCycle1_Date &lt;chr&gt; | RatingCycle1_HealthDeficiencyScore &lt;chr&gt; | RatingCycle2_Date &lt;chr&gt; | RatingCycle2_HealthDeficiencyScore &lt;chr&gt; | RatingCycle3_Date &lt;chr&gt; | RatingCycle3_HealthDeficiencyScore &lt;chr&gt; | NumberofFines &lt;dbl&gt; | TotalAmountFines &lt;dbl&gt; | Capacity &lt;dbl&gt; |\n|---|---|---|---|---|---|---|---|---|---|---|---|---|---|---|---|---|---|---|---|---|\n| 15009 | BURNS NURSING HOME, INC.                    | 701 MONROE STREET NW,RUSSELLVILLE,AL,35653    | Franklin County, AL  | For profit - Corporation |  57 |  51.8 | N | BURNS NURSING HOME, INC.             | N | ⋯ | 0.00000 | 8/21/2019 | 8  | 8/1/2018  | 4  | 6/22/2017 | 0  | 0 |     0 | 0.9087719 |\n| 15010 | COOSA VALLEY HEALTHCARE CENTER              | 260 WEST WALNUT STREET,SYLACAUGA,AL,35150     | Talladega County, AL | For profit - Corporation |  85 |  72.1 | N | COOSA VALLEY HEALTHCARE CENTER LLC   | N | ⋯ | 0.01271 | 6/13/2019 | 4  | 6/7/2018  | 32 | 4/6/2017  | 36 | 1 |   650 | 0.8482353 |\n| 15012 | HIGHLANDS HEALTH AND REHAB                  | 380 WOODS COVE ROAD,SCOTTSBORO,AL,35768       | Jackson County, AL   | Government - County      |  50 |  41.3 | Y | JACKSON COUNTY HEALTH CARE AUTHORITY | N | ⋯ | 0.05596 | 6/6/2019  | 20 | 5/3/2018  | 40 | 3/16/2017 | 44 | 0 |     0 | 0.8260000 |\n| 15014 | EASTVIEW REHABILITATION &amp; HEALTHCARE CENTER | 7755 FOURTH AVENUE SOUTH,BIRMINGHAM,AL,35206  | Jefferson County, AL | For profit - Individual  |  92 |  71.8 | N | BALL HEALTHCARE EASTVIEW INC         | N | ⋯ | 0.03246 | 2/20/2020 | 4  | 1/24/2019 | 20 | 1/25/2018 | 24 | 0 |     0 | 0.7804348 |\n| 15015 | PLANTATION MANOR NURSING HOME               | 6450 OLD TUSCALOOSA HIGHWAY,MC CALLA,AL,35111 | Jefferson County, AL | For profit - Individual  | 103 |  83.8 | N | C &amp; G HEALTHCARE SERVICES, INC.      | N | ⋯ | 0.01248 | 3/5/2020  | 20 | 5/2/2019  | 4  | 4/19/2018 | 28 | 2 | 29611 | 0.8135922 |\n| 15016 | ATHENS HEALTH AND REHABILITATION LLC        | 611 WEST MARKET STREET,ATHENS,AL,35611        | Limestone County, AL | For profit - Corporation | 149 | 125.2 | N | ATHENS HEALTH AND REHABILITATION LLC | N | ⋯ | 0.03716 | 8/29/2019 | 20 | 7/19/2018 | 28 | 6/1/2017  | 20 | 0 |     0 | 0.8402685 |\n\n",
            "text/html": [
              "<table class=\"dataframe\">\n",
              "<caption>A tibble: 6 × 33</caption>\n",
              "<thead>\n",
              "\t<tr><th scope=col>FPN</th><th scope=col>ProviderName</th><th scope=col>ProviderAddress</th><th scope=col>ProviderCounty</th><th scope=col>OwnershipType</th><th scope=col>NumberBeds</th><th scope=col>AverageResidentsperDay</th><th scope=col>ProviderInHospital</th><th scope=col>BusinessName</th><th scope=col>ContinuingCareRetirementCommunity</th><th scope=col>⋯</th><th scope=col>PhysicalTherapistStaffing_Hours</th><th scope=col>RatingCycle1_Date</th><th scope=col>RatingCycle1_HealthDeficiencyScore</th><th scope=col>RatingCycle2_Date</th><th scope=col>RatingCycle2_HealthDeficiencyScore</th><th scope=col>RatingCycle3_Date</th><th scope=col>RatingCycle3_HealthDeficiencyScore</th><th scope=col>NumberofFines</th><th scope=col>TotalAmountFines</th><th scope=col>Capacity</th></tr>\n",
              "\t<tr><th scope=col>&lt;chr&gt;</th><th scope=col>&lt;chr&gt;</th><th scope=col>&lt;chr&gt;</th><th scope=col>&lt;chr&gt;</th><th scope=col>&lt;chr&gt;</th><th scope=col>&lt;dbl&gt;</th><th scope=col>&lt;dbl&gt;</th><th scope=col>&lt;chr&gt;</th><th scope=col>&lt;chr&gt;</th><th scope=col>&lt;chr&gt;</th><th scope=col>⋯</th><th scope=col>&lt;dbl&gt;</th><th scope=col>&lt;chr&gt;</th><th scope=col>&lt;chr&gt;</th><th scope=col>&lt;chr&gt;</th><th scope=col>&lt;chr&gt;</th><th scope=col>&lt;chr&gt;</th><th scope=col>&lt;chr&gt;</th><th scope=col>&lt;dbl&gt;</th><th scope=col>&lt;dbl&gt;</th><th scope=col>&lt;dbl&gt;</th></tr>\n",
              "</thead>\n",
              "<tbody>\n",
              "\t<tr><td>15009</td><td>BURNS NURSING HOME, INC.                   </td><td>701 MONROE STREET NW,RUSSELLVILLE,AL,35653   </td><td>Franklin County, AL </td><td>For profit - Corporation</td><td> 57</td><td> 51.8</td><td>N</td><td>BURNS NURSING HOME, INC.            </td><td>N</td><td>⋯</td><td>0.00000</td><td>8/21/2019</td><td>8 </td><td>8/1/2018 </td><td>4 </td><td>6/22/2017</td><td>0 </td><td>0</td><td>    0</td><td>0.9087719</td></tr>\n",
              "\t<tr><td>15010</td><td>COOSA VALLEY HEALTHCARE CENTER             </td><td>260 WEST WALNUT STREET,SYLACAUGA,AL,35150    </td><td>Talladega County, AL</td><td>For profit - Corporation</td><td> 85</td><td> 72.1</td><td>N</td><td>COOSA VALLEY HEALTHCARE CENTER LLC  </td><td>N</td><td>⋯</td><td>0.01271</td><td>6/13/2019</td><td>4 </td><td>6/7/2018 </td><td>32</td><td>4/6/2017 </td><td>36</td><td>1</td><td>  650</td><td>0.8482353</td></tr>\n",
              "\t<tr><td>15012</td><td>HIGHLANDS HEALTH AND REHAB                 </td><td>380 WOODS COVE ROAD,SCOTTSBORO,AL,35768      </td><td>Jackson County, AL  </td><td>Government - County     </td><td> 50</td><td> 41.3</td><td>Y</td><td>JACKSON COUNTY HEALTH CARE AUTHORITY</td><td>N</td><td>⋯</td><td>0.05596</td><td>6/6/2019 </td><td>20</td><td>5/3/2018 </td><td>40</td><td>3/16/2017</td><td>44</td><td>0</td><td>    0</td><td>0.8260000</td></tr>\n",
              "\t<tr><td>15014</td><td>EASTVIEW REHABILITATION &amp; HEALTHCARE CENTER</td><td>7755 FOURTH AVENUE SOUTH,BIRMINGHAM,AL,35206 </td><td>Jefferson County, AL</td><td>For profit - Individual </td><td> 92</td><td> 71.8</td><td>N</td><td><span style=white-space:pre-wrap>BALL HEALTHCARE EASTVIEW INC        </span></td><td>N</td><td>⋯</td><td>0.03246</td><td>2/20/2020</td><td>4 </td><td>1/24/2019</td><td>20</td><td>1/25/2018</td><td>24</td><td>0</td><td><span style=white-space:pre-wrap>    0</span></td><td>0.7804348</td></tr>\n",
              "\t<tr><td>15015</td><td><span style=white-space:pre-wrap>PLANTATION MANOR NURSING HOME              </span></td><td>6450 OLD TUSCALOOSA HIGHWAY,MC CALLA,AL,35111</td><td>Jefferson County, AL</td><td>For profit - Individual </td><td>103</td><td> 83.8</td><td>N</td><td><span style=white-space:pre-wrap>C &amp; G HEALTHCARE SERVICES, INC.     </span></td><td>N</td><td>⋯</td><td>0.01248</td><td>3/5/2020 </td><td>20</td><td>5/2/2019 </td><td>4 </td><td>4/19/2018</td><td>28</td><td>2</td><td>29611</td><td>0.8135922</td></tr>\n",
              "\t<tr><td>15016</td><td>ATHENS HEALTH AND REHABILITATION LLC       </td><td>611 WEST MARKET STREET,ATHENS,AL,35611       </td><td>Limestone County, AL</td><td>For profit - Corporation</td><td>149</td><td>125.2</td><td>N</td><td>ATHENS HEALTH AND REHABILITATION LLC</td><td>N</td><td>⋯</td><td>0.03716</td><td>8/29/2019</td><td>20</td><td>7/19/2018</td><td>28</td><td>6/1/2017 </td><td>20</td><td>0</td><td>    0</td><td>0.8402685</td></tr>\n",
              "</tbody>\n",
              "</table>\n"
            ]
          },
          "metadata": {
            "tags": []
          }
        }
      ]
    },
    {
      "cell_type": "markdown",
      "metadata": {
        "id": "vn7qE_Ypc3b3"
      },
      "source": [
        "<u>Question:</u>  Did this new field automatically get added to the NursingHomes dataframe (or did this just get printed to the screen)?\r\n",
        "\r\n",
        "<u>Answer:</u> Check the dimension of the dataframe.  The existing dataframe had 15331 rows x 32 columns."
      ]
    },
    {
      "cell_type": "code",
      "metadata": {
        "colab": {
          "base_uri": "https://localhost:8080/",
          "height": 140
        },
        "id": "P0YbHCPCc3je",
        "outputId": "fc7e665e-64b1-480d-db5d-87671d950338"
      },
      "source": [
        "#What is the dimension of the NursingHomes dataframe?\r\n",
        "dim(NursingHomes)\r\n",
        "\r\n",
        "cat(\"\\n\")\r\n",
        "cat(\"Field names: \\n\")\r\n",
        "colnames(NursingHomes)"
      ],
      "execution_count": 8,
      "outputs": [
        {
          "output_type": "display_data",
          "data": {
            "text/plain": [
              "[1] 15331    32"
            ],
            "text/latex": "\\begin{enumerate*}\n\\item 15331\n\\item 32\n\\end{enumerate*}\n",
            "text/markdown": "1. 15331\n2. 32\n\n\n",
            "text/html": [
              "<style>\n",
              ".list-inline {list-style: none; margin:0; padding: 0}\n",
              ".list-inline>li {display: inline-block}\n",
              ".list-inline>li:not(:last-child)::after {content: \"\\00b7\"; padding: 0 .5ex}\n",
              "</style>\n",
              "<ol class=list-inline><li>15331</li><li>32</li></ol>\n"
            ]
          },
          "metadata": {
            "tags": []
          }
        },
        {
          "output_type": "stream",
          "text": [
            "\n",
            "Field names: \n"
          ],
          "name": "stdout"
        },
        {
          "output_type": "display_data",
          "data": {
            "text/plain": [
              " [1] \"FPN\"                                \"ProviderName\"                      \n",
              " [3] \"ProviderAddress\"                    \"ProviderCounty\"                    \n",
              " [5] \"OwnershipType\"                      \"NumberBeds\"                        \n",
              " [7] \"AverageResidentsperDay\"             \"ProviderInHospital\"                \n",
              " [9] \"BusinessName\"                       \"ContinuingCareRetirementCommunity\" \n",
              "[11] \"HealthInspection_MoreThan2YearsAgo\" \"Overall_Rating\"                    \n",
              "[13] \"HealthInspection_Rating\"            \"QM_Rating\"                         \n",
              "[15] \"LongStayQM_Rating\"                  \"ShortStayQM_Rating\"                \n",
              "[17] \"Staffing_Rating\"                    \"RNStaffing_Rating\"                 \n",
              "[19] \"NurseAideStaffing_Hours\"            \"LPNStaffing_Hours\"                 \n",
              "[21] \"RNStaffing_Hours\"                   \"LicensedStaffing_Hours\"            \n",
              "[23] \"TotalNurseStaffing_Hours\"           \"PhysicalTherapistStaffing_Hours\"   \n",
              "[25] \"RatingCycle1_Date\"                  \"RatingCycle1_HealthDeficiencyScore\"\n",
              "[27] \"RatingCycle2_Date\"                  \"RatingCycle2_HealthDeficiencyScore\"\n",
              "[29] \"RatingCycle3_Date\"                  \"RatingCycle3_HealthDeficiencyScore\"\n",
              "[31] \"NumberofFines\"                      \"TotalAmountFines\"                  "
            ],
            "text/latex": "\\begin{enumerate*}\n\\item 'FPN'\n\\item 'ProviderName'\n\\item 'ProviderAddress'\n\\item 'ProviderCounty'\n\\item 'OwnershipType'\n\\item 'NumberBeds'\n\\item 'AverageResidentsperDay'\n\\item 'ProviderInHospital'\n\\item 'BusinessName'\n\\item 'ContinuingCareRetirementCommunity'\n\\item 'HealthInspection\\_MoreThan2YearsAgo'\n\\item 'Overall\\_Rating'\n\\item 'HealthInspection\\_Rating'\n\\item 'QM\\_Rating'\n\\item 'LongStayQM\\_Rating'\n\\item 'ShortStayQM\\_Rating'\n\\item 'Staffing\\_Rating'\n\\item 'RNStaffing\\_Rating'\n\\item 'NurseAideStaffing\\_Hours'\n\\item 'LPNStaffing\\_Hours'\n\\item 'RNStaffing\\_Hours'\n\\item 'LicensedStaffing\\_Hours'\n\\item 'TotalNurseStaffing\\_Hours'\n\\item 'PhysicalTherapistStaffing\\_Hours'\n\\item 'RatingCycle1\\_Date'\n\\item 'RatingCycle1\\_HealthDeficiencyScore'\n\\item 'RatingCycle2\\_Date'\n\\item 'RatingCycle2\\_HealthDeficiencyScore'\n\\item 'RatingCycle3\\_Date'\n\\item 'RatingCycle3\\_HealthDeficiencyScore'\n\\item 'NumberofFines'\n\\item 'TotalAmountFines'\n\\end{enumerate*}\n",
            "text/markdown": "1. 'FPN'\n2. 'ProviderName'\n3. 'ProviderAddress'\n4. 'ProviderCounty'\n5. 'OwnershipType'\n6. 'NumberBeds'\n7. 'AverageResidentsperDay'\n8. 'ProviderInHospital'\n9. 'BusinessName'\n10. 'ContinuingCareRetirementCommunity'\n11. 'HealthInspection_MoreThan2YearsAgo'\n12. 'Overall_Rating'\n13. 'HealthInspection_Rating'\n14. 'QM_Rating'\n15. 'LongStayQM_Rating'\n16. 'ShortStayQM_Rating'\n17. 'Staffing_Rating'\n18. 'RNStaffing_Rating'\n19. 'NurseAideStaffing_Hours'\n20. 'LPNStaffing_Hours'\n21. 'RNStaffing_Hours'\n22. 'LicensedStaffing_Hours'\n23. 'TotalNurseStaffing_Hours'\n24. 'PhysicalTherapistStaffing_Hours'\n25. 'RatingCycle1_Date'\n26. 'RatingCycle1_HealthDeficiencyScore'\n27. 'RatingCycle2_Date'\n28. 'RatingCycle2_HealthDeficiencyScore'\n29. 'RatingCycle3_Date'\n30. 'RatingCycle3_HealthDeficiencyScore'\n31. 'NumberofFines'\n32. 'TotalAmountFines'\n\n\n",
            "text/html": [
              "<style>\n",
              ".list-inline {list-style: none; margin:0; padding: 0}\n",
              ".list-inline>li {display: inline-block}\n",
              ".list-inline>li:not(:last-child)::after {content: \"\\00b7\"; padding: 0 .5ex}\n",
              "</style>\n",
              "<ol class=list-inline><li>'FPN'</li><li>'ProviderName'</li><li>'ProviderAddress'</li><li>'ProviderCounty'</li><li>'OwnershipType'</li><li>'NumberBeds'</li><li>'AverageResidentsperDay'</li><li>'ProviderInHospital'</li><li>'BusinessName'</li><li>'ContinuingCareRetirementCommunity'</li><li>'HealthInspection_MoreThan2YearsAgo'</li><li>'Overall_Rating'</li><li>'HealthInspection_Rating'</li><li>'QM_Rating'</li><li>'LongStayQM_Rating'</li><li>'ShortStayQM_Rating'</li><li>'Staffing_Rating'</li><li>'RNStaffing_Rating'</li><li>'NurseAideStaffing_Hours'</li><li>'LPNStaffing_Hours'</li><li>'RNStaffing_Hours'</li><li>'LicensedStaffing_Hours'</li><li>'TotalNurseStaffing_Hours'</li><li>'PhysicalTherapistStaffing_Hours'</li><li>'RatingCycle1_Date'</li><li>'RatingCycle1_HealthDeficiencyScore'</li><li>'RatingCycle2_Date'</li><li>'RatingCycle2_HealthDeficiencyScore'</li><li>'RatingCycle3_Date'</li><li>'RatingCycle3_HealthDeficiencyScore'</li><li>'NumberofFines'</li><li>'TotalAmountFines'</li></ol>\n"
            ]
          },
          "metadata": {
            "tags": []
          }
        }
      ]
    },
    {
      "cell_type": "markdown",
      "metadata": {
        "id": "fDgfpbKEgIV8"
      },
      "source": [
        "In the following snipit of code, the outcome for the sequnce of commands is pushed into the NursingHome dataframe.  This idea is equivalent to \"edit-in-place\" option in SED."
      ]
    },
    {
      "cell_type": "code",
      "metadata": {
        "id": "oT4R_ddlaAzB"
      },
      "source": [
        "(\r\n",
        "  NursingHomes\r\n",
        "  %>% mutate(Capacity = AverageResidentsperDay / NumberBeds)\r\n",
        "  #%>% head()\r\n",
        ") -> NursingHomes "
      ],
      "execution_count": 9,
      "outputs": []
    },
    {
      "cell_type": "code",
      "metadata": {
        "colab": {
          "base_uri": "https://localhost:8080/",
          "height": 157
        },
        "id": "NBvR1bAWeulS",
        "outputId": "13ca6918-df72-4518-b826-e9320e2efc00"
      },
      "source": [
        "#What is the dimension of the NursingHomes dataframe now?\r\n",
        "dim(NursingHomes)\r\n",
        "\r\n",
        "cat(\"\\n\")\r\n",
        "cat(\"Field names: \\n\")\r\n",
        "colnames(NursingHomes)"
      ],
      "execution_count": 10,
      "outputs": [
        {
          "output_type": "display_data",
          "data": {
            "text/plain": [
              "[1] 15331    33"
            ],
            "text/latex": "\\begin{enumerate*}\n\\item 15331\n\\item 33\n\\end{enumerate*}\n",
            "text/markdown": "1. 15331\n2. 33\n\n\n",
            "text/html": [
              "<style>\n",
              ".list-inline {list-style: none; margin:0; padding: 0}\n",
              ".list-inline>li {display: inline-block}\n",
              ".list-inline>li:not(:last-child)::after {content: \"\\00b7\"; padding: 0 .5ex}\n",
              "</style>\n",
              "<ol class=list-inline><li>15331</li><li>33</li></ol>\n"
            ]
          },
          "metadata": {
            "tags": []
          }
        },
        {
          "output_type": "stream",
          "text": [
            "\n",
            "Field names: \n"
          ],
          "name": "stdout"
        },
        {
          "output_type": "display_data",
          "data": {
            "text/plain": [
              " [1] \"FPN\"                                \"ProviderName\"                      \n",
              " [3] \"ProviderAddress\"                    \"ProviderCounty\"                    \n",
              " [5] \"OwnershipType\"                      \"NumberBeds\"                        \n",
              " [7] \"AverageResidentsperDay\"             \"ProviderInHospital\"                \n",
              " [9] \"BusinessName\"                       \"ContinuingCareRetirementCommunity\" \n",
              "[11] \"HealthInspection_MoreThan2YearsAgo\" \"Overall_Rating\"                    \n",
              "[13] \"HealthInspection_Rating\"            \"QM_Rating\"                         \n",
              "[15] \"LongStayQM_Rating\"                  \"ShortStayQM_Rating\"                \n",
              "[17] \"Staffing_Rating\"                    \"RNStaffing_Rating\"                 \n",
              "[19] \"NurseAideStaffing_Hours\"            \"LPNStaffing_Hours\"                 \n",
              "[21] \"RNStaffing_Hours\"                   \"LicensedStaffing_Hours\"            \n",
              "[23] \"TotalNurseStaffing_Hours\"           \"PhysicalTherapistStaffing_Hours\"   \n",
              "[25] \"RatingCycle1_Date\"                  \"RatingCycle1_HealthDeficiencyScore\"\n",
              "[27] \"RatingCycle2_Date\"                  \"RatingCycle2_HealthDeficiencyScore\"\n",
              "[29] \"RatingCycle3_Date\"                  \"RatingCycle3_HealthDeficiencyScore\"\n",
              "[31] \"NumberofFines\"                      \"TotalAmountFines\"                  \n",
              "[33] \"Capacity\"                          "
            ],
            "text/latex": "\\begin{enumerate*}\n\\item 'FPN'\n\\item 'ProviderName'\n\\item 'ProviderAddress'\n\\item 'ProviderCounty'\n\\item 'OwnershipType'\n\\item 'NumberBeds'\n\\item 'AverageResidentsperDay'\n\\item 'ProviderInHospital'\n\\item 'BusinessName'\n\\item 'ContinuingCareRetirementCommunity'\n\\item 'HealthInspection\\_MoreThan2YearsAgo'\n\\item 'Overall\\_Rating'\n\\item 'HealthInspection\\_Rating'\n\\item 'QM\\_Rating'\n\\item 'LongStayQM\\_Rating'\n\\item 'ShortStayQM\\_Rating'\n\\item 'Staffing\\_Rating'\n\\item 'RNStaffing\\_Rating'\n\\item 'NurseAideStaffing\\_Hours'\n\\item 'LPNStaffing\\_Hours'\n\\item 'RNStaffing\\_Hours'\n\\item 'LicensedStaffing\\_Hours'\n\\item 'TotalNurseStaffing\\_Hours'\n\\item 'PhysicalTherapistStaffing\\_Hours'\n\\item 'RatingCycle1\\_Date'\n\\item 'RatingCycle1\\_HealthDeficiencyScore'\n\\item 'RatingCycle2\\_Date'\n\\item 'RatingCycle2\\_HealthDeficiencyScore'\n\\item 'RatingCycle3\\_Date'\n\\item 'RatingCycle3\\_HealthDeficiencyScore'\n\\item 'NumberofFines'\n\\item 'TotalAmountFines'\n\\item 'Capacity'\n\\end{enumerate*}\n",
            "text/markdown": "1. 'FPN'\n2. 'ProviderName'\n3. 'ProviderAddress'\n4. 'ProviderCounty'\n5. 'OwnershipType'\n6. 'NumberBeds'\n7. 'AverageResidentsperDay'\n8. 'ProviderInHospital'\n9. 'BusinessName'\n10. 'ContinuingCareRetirementCommunity'\n11. 'HealthInspection_MoreThan2YearsAgo'\n12. 'Overall_Rating'\n13. 'HealthInspection_Rating'\n14. 'QM_Rating'\n15. 'LongStayQM_Rating'\n16. 'ShortStayQM_Rating'\n17. 'Staffing_Rating'\n18. 'RNStaffing_Rating'\n19. 'NurseAideStaffing_Hours'\n20. 'LPNStaffing_Hours'\n21. 'RNStaffing_Hours'\n22. 'LicensedStaffing_Hours'\n23. 'TotalNurseStaffing_Hours'\n24. 'PhysicalTherapistStaffing_Hours'\n25. 'RatingCycle1_Date'\n26. 'RatingCycle1_HealthDeficiencyScore'\n27. 'RatingCycle2_Date'\n28. 'RatingCycle2_HealthDeficiencyScore'\n29. 'RatingCycle3_Date'\n30. 'RatingCycle3_HealthDeficiencyScore'\n31. 'NumberofFines'\n32. 'TotalAmountFines'\n33. 'Capacity'\n\n\n",
            "text/html": [
              "<style>\n",
              ".list-inline {list-style: none; margin:0; padding: 0}\n",
              ".list-inline>li {display: inline-block}\n",
              ".list-inline>li:not(:last-child)::after {content: \"\\00b7\"; padding: 0 .5ex}\n",
              "</style>\n",
              "<ol class=list-inline><li>'FPN'</li><li>'ProviderName'</li><li>'ProviderAddress'</li><li>'ProviderCounty'</li><li>'OwnershipType'</li><li>'NumberBeds'</li><li>'AverageResidentsperDay'</li><li>'ProviderInHospital'</li><li>'BusinessName'</li><li>'ContinuingCareRetirementCommunity'</li><li>'HealthInspection_MoreThan2YearsAgo'</li><li>'Overall_Rating'</li><li>'HealthInspection_Rating'</li><li>'QM_Rating'</li><li>'LongStayQM_Rating'</li><li>'ShortStayQM_Rating'</li><li>'Staffing_Rating'</li><li>'RNStaffing_Rating'</li><li>'NurseAideStaffing_Hours'</li><li>'LPNStaffing_Hours'</li><li>'RNStaffing_Hours'</li><li>'LicensedStaffing_Hours'</li><li>'TotalNurseStaffing_Hours'</li><li>'PhysicalTherapistStaffing_Hours'</li><li>'RatingCycle1_Date'</li><li>'RatingCycle1_HealthDeficiencyScore'</li><li>'RatingCycle2_Date'</li><li>'RatingCycle2_HealthDeficiencyScore'</li><li>'RatingCycle3_Date'</li><li>'RatingCycle3_HealthDeficiencyScore'</li><li>'NumberofFines'</li><li>'TotalAmountFines'</li><li>'Capacity'</li></ol>\n"
            ]
          },
          "metadata": {
            "tags": []
          }
        }
      ]
    },
    {
      "cell_type": "markdown",
      "metadata": {
        "id": "eWCaTeE8hMhb"
      },
      "source": [
        "<u>Comment</u>: The Capacity quantity is not defined when the denominitor is zero.  Thus, before creating this new field, one should verify that all <i>Number of Beds</i> values are greater than 0. \r\n",
        "\r\n",
        "A more sound approach, would be to use the following definition of Capacity.\r\n",
        "\r\n",
        "\r\n",
        "$$Capacity = \\Bigg\\{ \\begin{array} \\tiny{\\frac{\\mbox{Average Residents per Day}}{\\mbox{Number of Beds}}} & when & \\mbox{Number of Beds} > 0\\\\\r\n",
        "NA &  when & \\mbox{Number of Beds} = 0\r\n",
        "\\end{array}$$\r\n",
        "\r\n"
      ]
    },
    {
      "cell_type": "code",
      "metadata": {
        "id": "HhNHInqbhMn_"
      },
      "source": [
        "(\r\n",
        "  NursingHomes\r\n",
        "  %>% mutate(Capacity = ifelse(NumberBeds > 0, AverageResidentsperDay / NumberBeds, NA) )\r\n",
        ") -> NursingHomes \r\n"
      ],
      "execution_count": 11,
      "outputs": []
    },
    {
      "cell_type": "markdown",
      "metadata": {
        "id": "Il0z3T4cpHsA"
      },
      "source": [
        "Taking a look at the output produced from the code above."
      ]
    },
    {
      "cell_type": "code",
      "metadata": {
        "colab": {
          "base_uri": "https://localhost:8080/",
          "height": 713
        },
        "id": "DuDIw3bfpHyD",
        "outputId": "53f54fd9-86b0-4e57-e63c-ee134be79c28"
      },
      "source": [
        "#What is the dimension of the NursingHomes dataframe now?\r\n",
        "dim(NursingHomes)\r\n",
        "\r\n",
        "cat(\"\\n\")\r\n",
        "cat(\"Field names: \\n\")\r\n",
        "colnames(NursingHomes)\r\n",
        "\r\n",
        "cat(\"First few rows: \\n\")\r\n",
        "head(NursingHomes)\r\n"
      ],
      "execution_count": 12,
      "outputs": [
        {
          "output_type": "display_data",
          "data": {
            "text/plain": [
              "[1] 15331    33"
            ],
            "text/latex": "\\begin{enumerate*}\n\\item 15331\n\\item 33\n\\end{enumerate*}\n",
            "text/markdown": "1. 15331\n2. 33\n\n\n",
            "text/html": [
              "<style>\n",
              ".list-inline {list-style: none; margin:0; padding: 0}\n",
              ".list-inline>li {display: inline-block}\n",
              ".list-inline>li:not(:last-child)::after {content: \"\\00b7\"; padding: 0 .5ex}\n",
              "</style>\n",
              "<ol class=list-inline><li>15331</li><li>33</li></ol>\n"
            ]
          },
          "metadata": {
            "tags": []
          }
        },
        {
          "output_type": "stream",
          "text": [
            "\n",
            "Field names: \n"
          ],
          "name": "stdout"
        },
        {
          "output_type": "display_data",
          "data": {
            "text/plain": [
              " [1] \"FPN\"                                \"ProviderName\"                      \n",
              " [3] \"ProviderAddress\"                    \"ProviderCounty\"                    \n",
              " [5] \"OwnershipType\"                      \"NumberBeds\"                        \n",
              " [7] \"AverageResidentsperDay\"             \"ProviderInHospital\"                \n",
              " [9] \"BusinessName\"                       \"ContinuingCareRetirementCommunity\" \n",
              "[11] \"HealthInspection_MoreThan2YearsAgo\" \"Overall_Rating\"                    \n",
              "[13] \"HealthInspection_Rating\"            \"QM_Rating\"                         \n",
              "[15] \"LongStayQM_Rating\"                  \"ShortStayQM_Rating\"                \n",
              "[17] \"Staffing_Rating\"                    \"RNStaffing_Rating\"                 \n",
              "[19] \"NurseAideStaffing_Hours\"            \"LPNStaffing_Hours\"                 \n",
              "[21] \"RNStaffing_Hours\"                   \"LicensedStaffing_Hours\"            \n",
              "[23] \"TotalNurseStaffing_Hours\"           \"PhysicalTherapistStaffing_Hours\"   \n",
              "[25] \"RatingCycle1_Date\"                  \"RatingCycle1_HealthDeficiencyScore\"\n",
              "[27] \"RatingCycle2_Date\"                  \"RatingCycle2_HealthDeficiencyScore\"\n",
              "[29] \"RatingCycle3_Date\"                  \"RatingCycle3_HealthDeficiencyScore\"\n",
              "[31] \"NumberofFines\"                      \"TotalAmountFines\"                  \n",
              "[33] \"Capacity\"                          "
            ],
            "text/latex": "\\begin{enumerate*}\n\\item 'FPN'\n\\item 'ProviderName'\n\\item 'ProviderAddress'\n\\item 'ProviderCounty'\n\\item 'OwnershipType'\n\\item 'NumberBeds'\n\\item 'AverageResidentsperDay'\n\\item 'ProviderInHospital'\n\\item 'BusinessName'\n\\item 'ContinuingCareRetirementCommunity'\n\\item 'HealthInspection\\_MoreThan2YearsAgo'\n\\item 'Overall\\_Rating'\n\\item 'HealthInspection\\_Rating'\n\\item 'QM\\_Rating'\n\\item 'LongStayQM\\_Rating'\n\\item 'ShortStayQM\\_Rating'\n\\item 'Staffing\\_Rating'\n\\item 'RNStaffing\\_Rating'\n\\item 'NurseAideStaffing\\_Hours'\n\\item 'LPNStaffing\\_Hours'\n\\item 'RNStaffing\\_Hours'\n\\item 'LicensedStaffing\\_Hours'\n\\item 'TotalNurseStaffing\\_Hours'\n\\item 'PhysicalTherapistStaffing\\_Hours'\n\\item 'RatingCycle1\\_Date'\n\\item 'RatingCycle1\\_HealthDeficiencyScore'\n\\item 'RatingCycle2\\_Date'\n\\item 'RatingCycle2\\_HealthDeficiencyScore'\n\\item 'RatingCycle3\\_Date'\n\\item 'RatingCycle3\\_HealthDeficiencyScore'\n\\item 'NumberofFines'\n\\item 'TotalAmountFines'\n\\item 'Capacity'\n\\end{enumerate*}\n",
            "text/markdown": "1. 'FPN'\n2. 'ProviderName'\n3. 'ProviderAddress'\n4. 'ProviderCounty'\n5. 'OwnershipType'\n6. 'NumberBeds'\n7. 'AverageResidentsperDay'\n8. 'ProviderInHospital'\n9. 'BusinessName'\n10. 'ContinuingCareRetirementCommunity'\n11. 'HealthInspection_MoreThan2YearsAgo'\n12. 'Overall_Rating'\n13. 'HealthInspection_Rating'\n14. 'QM_Rating'\n15. 'LongStayQM_Rating'\n16. 'ShortStayQM_Rating'\n17. 'Staffing_Rating'\n18. 'RNStaffing_Rating'\n19. 'NurseAideStaffing_Hours'\n20. 'LPNStaffing_Hours'\n21. 'RNStaffing_Hours'\n22. 'LicensedStaffing_Hours'\n23. 'TotalNurseStaffing_Hours'\n24. 'PhysicalTherapistStaffing_Hours'\n25. 'RatingCycle1_Date'\n26. 'RatingCycle1_HealthDeficiencyScore'\n27. 'RatingCycle2_Date'\n28. 'RatingCycle2_HealthDeficiencyScore'\n29. 'RatingCycle3_Date'\n30. 'RatingCycle3_HealthDeficiencyScore'\n31. 'NumberofFines'\n32. 'TotalAmountFines'\n33. 'Capacity'\n\n\n",
            "text/html": [
              "<style>\n",
              ".list-inline {list-style: none; margin:0; padding: 0}\n",
              ".list-inline>li {display: inline-block}\n",
              ".list-inline>li:not(:last-child)::after {content: \"\\00b7\"; padding: 0 .5ex}\n",
              "</style>\n",
              "<ol class=list-inline><li>'FPN'</li><li>'ProviderName'</li><li>'ProviderAddress'</li><li>'ProviderCounty'</li><li>'OwnershipType'</li><li>'NumberBeds'</li><li>'AverageResidentsperDay'</li><li>'ProviderInHospital'</li><li>'BusinessName'</li><li>'ContinuingCareRetirementCommunity'</li><li>'HealthInspection_MoreThan2YearsAgo'</li><li>'Overall_Rating'</li><li>'HealthInspection_Rating'</li><li>'QM_Rating'</li><li>'LongStayQM_Rating'</li><li>'ShortStayQM_Rating'</li><li>'Staffing_Rating'</li><li>'RNStaffing_Rating'</li><li>'NurseAideStaffing_Hours'</li><li>'LPNStaffing_Hours'</li><li>'RNStaffing_Hours'</li><li>'LicensedStaffing_Hours'</li><li>'TotalNurseStaffing_Hours'</li><li>'PhysicalTherapistStaffing_Hours'</li><li>'RatingCycle1_Date'</li><li>'RatingCycle1_HealthDeficiencyScore'</li><li>'RatingCycle2_Date'</li><li>'RatingCycle2_HealthDeficiencyScore'</li><li>'RatingCycle3_Date'</li><li>'RatingCycle3_HealthDeficiencyScore'</li><li>'NumberofFines'</li><li>'TotalAmountFines'</li><li>'Capacity'</li></ol>\n"
            ]
          },
          "metadata": {
            "tags": []
          }
        },
        {
          "output_type": "stream",
          "text": [
            "First few rows: \n"
          ],
          "name": "stdout"
        },
        {
          "output_type": "display_data",
          "data": {
            "text/plain": [
              "  FPN   ProviderName                               \n",
              "1 15009 BURNS NURSING HOME, INC.                   \n",
              "2 15010 COOSA VALLEY HEALTHCARE CENTER             \n",
              "3 15012 HIGHLANDS HEALTH AND REHAB                 \n",
              "4 15014 EASTVIEW REHABILITATION & HEALTHCARE CENTER\n",
              "5 15015 PLANTATION MANOR NURSING HOME              \n",
              "6 15016 ATHENS HEALTH AND REHABILITATION LLC       \n",
              "  ProviderAddress                               ProviderCounty      \n",
              "1 701 MONROE STREET NW,RUSSELLVILLE,AL,35653    Franklin County, AL \n",
              "2 260 WEST WALNUT STREET,SYLACAUGA,AL,35150     Talladega County, AL\n",
              "3 380 WOODS COVE ROAD,SCOTTSBORO,AL,35768       Jackson County, AL  \n",
              "4 7755 FOURTH AVENUE SOUTH,BIRMINGHAM,AL,35206  Jefferson County, AL\n",
              "5 6450 OLD TUSCALOOSA HIGHWAY,MC CALLA,AL,35111 Jefferson County, AL\n",
              "6 611 WEST MARKET STREET,ATHENS,AL,35611        Limestone County, AL\n",
              "  OwnershipType            NumberBeds AverageResidentsperDay ProviderInHospital\n",
              "1 For profit - Corporation  57         51.8                  N                 \n",
              "2 For profit - Corporation  85         72.1                  N                 \n",
              "3 Government - County       50         41.3                  Y                 \n",
              "4 For profit - Individual   92         71.8                  N                 \n",
              "5 For profit - Individual  103         83.8                  N                 \n",
              "6 For profit - Corporation 149        125.2                  N                 \n",
              "  BusinessName                         ContinuingCareRetirementCommunity ⋯\n",
              "1 BURNS NURSING HOME, INC.             N                                 ⋯\n",
              "2 COOSA VALLEY HEALTHCARE CENTER LLC   N                                 ⋯\n",
              "3 JACKSON COUNTY HEALTH CARE AUTHORITY N                                 ⋯\n",
              "4 BALL HEALTHCARE EASTVIEW INC         N                                 ⋯\n",
              "5 C & G HEALTHCARE SERVICES, INC.      N                                 ⋯\n",
              "6 ATHENS HEALTH AND REHABILITATION LLC N                                 ⋯\n",
              "  PhysicalTherapistStaffing_Hours RatingCycle1_Date\n",
              "1 0.00000                         8/21/2019        \n",
              "2 0.01271                         6/13/2019        \n",
              "3 0.05596                         6/6/2019         \n",
              "4 0.03246                         2/20/2020        \n",
              "5 0.01248                         3/5/2020         \n",
              "6 0.03716                         8/29/2019        \n",
              "  RatingCycle1_HealthDeficiencyScore RatingCycle2_Date\n",
              "1 8                                  8/1/2018         \n",
              "2 4                                  6/7/2018         \n",
              "3 20                                 5/3/2018         \n",
              "4 4                                  1/24/2019        \n",
              "5 20                                 5/2/2019         \n",
              "6 20                                 7/19/2018        \n",
              "  RatingCycle2_HealthDeficiencyScore RatingCycle3_Date\n",
              "1 4                                  6/22/2017        \n",
              "2 32                                 4/6/2017         \n",
              "3 40                                 3/16/2017        \n",
              "4 20                                 1/25/2018        \n",
              "5 4                                  4/19/2018        \n",
              "6 28                                 6/1/2017         \n",
              "  RatingCycle3_HealthDeficiencyScore NumberofFines TotalAmountFines Capacity \n",
              "1 0                                  0                 0            0.9087719\n",
              "2 36                                 1               650            0.8482353\n",
              "3 44                                 0                 0            0.8260000\n",
              "4 24                                 0                 0            0.7804348\n",
              "5 28                                 2             29611            0.8135922\n",
              "6 20                                 0                 0            0.8402685"
            ],
            "text/latex": "A tibble: 6 × 33\n\\begin{tabular}{lllllllllllllllllllll}\n FPN & ProviderName & ProviderAddress & ProviderCounty & OwnershipType & NumberBeds & AverageResidentsperDay & ProviderInHospital & BusinessName & ContinuingCareRetirementCommunity & ⋯ & PhysicalTherapistStaffing\\_Hours & RatingCycle1\\_Date & RatingCycle1\\_HealthDeficiencyScore & RatingCycle2\\_Date & RatingCycle2\\_HealthDeficiencyScore & RatingCycle3\\_Date & RatingCycle3\\_HealthDeficiencyScore & NumberofFines & TotalAmountFines & Capacity\\\\\n <chr> & <chr> & <chr> & <chr> & <chr> & <dbl> & <dbl> & <chr> & <chr> & <chr> & ⋯ & <dbl> & <chr> & <chr> & <chr> & <chr> & <chr> & <chr> & <dbl> & <dbl> & <dbl>\\\\\n\\hline\n\t 15009 & BURNS NURSING HOME, INC.                    & 701 MONROE STREET NW,RUSSELLVILLE,AL,35653    & Franklin County, AL  & For profit - Corporation &  57 &  51.8 & N & BURNS NURSING HOME, INC.             & N & ⋯ & 0.00000 & 8/21/2019 & 8  & 8/1/2018  & 4  & 6/22/2017 & 0  & 0 &     0 & 0.9087719\\\\\n\t 15010 & COOSA VALLEY HEALTHCARE CENTER              & 260 WEST WALNUT STREET,SYLACAUGA,AL,35150     & Talladega County, AL & For profit - Corporation &  85 &  72.1 & N & COOSA VALLEY HEALTHCARE CENTER LLC   & N & ⋯ & 0.01271 & 6/13/2019 & 4  & 6/7/2018  & 32 & 4/6/2017  & 36 & 1 &   650 & 0.8482353\\\\\n\t 15012 & HIGHLANDS HEALTH AND REHAB                  & 380 WOODS COVE ROAD,SCOTTSBORO,AL,35768       & Jackson County, AL   & Government - County      &  50 &  41.3 & Y & JACKSON COUNTY HEALTH CARE AUTHORITY & N & ⋯ & 0.05596 & 6/6/2019  & 20 & 5/3/2018  & 40 & 3/16/2017 & 44 & 0 &     0 & 0.8260000\\\\\n\t 15014 & EASTVIEW REHABILITATION \\& HEALTHCARE CENTER & 7755 FOURTH AVENUE SOUTH,BIRMINGHAM,AL,35206  & Jefferson County, AL & For profit - Individual  &  92 &  71.8 & N & BALL HEALTHCARE EASTVIEW INC         & N & ⋯ & 0.03246 & 2/20/2020 & 4  & 1/24/2019 & 20 & 1/25/2018 & 24 & 0 &     0 & 0.7804348\\\\\n\t 15015 & PLANTATION MANOR NURSING HOME               & 6450 OLD TUSCALOOSA HIGHWAY,MC CALLA,AL,35111 & Jefferson County, AL & For profit - Individual  & 103 &  83.8 & N & C \\& G HEALTHCARE SERVICES, INC.      & N & ⋯ & 0.01248 & 3/5/2020  & 20 & 5/2/2019  & 4  & 4/19/2018 & 28 & 2 & 29611 & 0.8135922\\\\\n\t 15016 & ATHENS HEALTH AND REHABILITATION LLC        & 611 WEST MARKET STREET,ATHENS,AL,35611        & Limestone County, AL & For profit - Corporation & 149 & 125.2 & N & ATHENS HEALTH AND REHABILITATION LLC & N & ⋯ & 0.03716 & 8/29/2019 & 20 & 7/19/2018 & 28 & 6/1/2017  & 20 & 0 &     0 & 0.8402685\\\\\n\\end{tabular}\n",
            "text/markdown": "\nA tibble: 6 × 33\n\n| FPN &lt;chr&gt; | ProviderName &lt;chr&gt; | ProviderAddress &lt;chr&gt; | ProviderCounty &lt;chr&gt; | OwnershipType &lt;chr&gt; | NumberBeds &lt;dbl&gt; | AverageResidentsperDay &lt;dbl&gt; | ProviderInHospital &lt;chr&gt; | BusinessName &lt;chr&gt; | ContinuingCareRetirementCommunity &lt;chr&gt; | ⋯ ⋯ | PhysicalTherapistStaffing_Hours &lt;dbl&gt; | RatingCycle1_Date &lt;chr&gt; | RatingCycle1_HealthDeficiencyScore &lt;chr&gt; | RatingCycle2_Date &lt;chr&gt; | RatingCycle2_HealthDeficiencyScore &lt;chr&gt; | RatingCycle3_Date &lt;chr&gt; | RatingCycle3_HealthDeficiencyScore &lt;chr&gt; | NumberofFines &lt;dbl&gt; | TotalAmountFines &lt;dbl&gt; | Capacity &lt;dbl&gt; |\n|---|---|---|---|---|---|---|---|---|---|---|---|---|---|---|---|---|---|---|---|---|\n| 15009 | BURNS NURSING HOME, INC.                    | 701 MONROE STREET NW,RUSSELLVILLE,AL,35653    | Franklin County, AL  | For profit - Corporation |  57 |  51.8 | N | BURNS NURSING HOME, INC.             | N | ⋯ | 0.00000 | 8/21/2019 | 8  | 8/1/2018  | 4  | 6/22/2017 | 0  | 0 |     0 | 0.9087719 |\n| 15010 | COOSA VALLEY HEALTHCARE CENTER              | 260 WEST WALNUT STREET,SYLACAUGA,AL,35150     | Talladega County, AL | For profit - Corporation |  85 |  72.1 | N | COOSA VALLEY HEALTHCARE CENTER LLC   | N | ⋯ | 0.01271 | 6/13/2019 | 4  | 6/7/2018  | 32 | 4/6/2017  | 36 | 1 |   650 | 0.8482353 |\n| 15012 | HIGHLANDS HEALTH AND REHAB                  | 380 WOODS COVE ROAD,SCOTTSBORO,AL,35768       | Jackson County, AL   | Government - County      |  50 |  41.3 | Y | JACKSON COUNTY HEALTH CARE AUTHORITY | N | ⋯ | 0.05596 | 6/6/2019  | 20 | 5/3/2018  | 40 | 3/16/2017 | 44 | 0 |     0 | 0.8260000 |\n| 15014 | EASTVIEW REHABILITATION &amp; HEALTHCARE CENTER | 7755 FOURTH AVENUE SOUTH,BIRMINGHAM,AL,35206  | Jefferson County, AL | For profit - Individual  |  92 |  71.8 | N | BALL HEALTHCARE EASTVIEW INC         | N | ⋯ | 0.03246 | 2/20/2020 | 4  | 1/24/2019 | 20 | 1/25/2018 | 24 | 0 |     0 | 0.7804348 |\n| 15015 | PLANTATION MANOR NURSING HOME               | 6450 OLD TUSCALOOSA HIGHWAY,MC CALLA,AL,35111 | Jefferson County, AL | For profit - Individual  | 103 |  83.8 | N | C &amp; G HEALTHCARE SERVICES, INC.      | N | ⋯ | 0.01248 | 3/5/2020  | 20 | 5/2/2019  | 4  | 4/19/2018 | 28 | 2 | 29611 | 0.8135922 |\n| 15016 | ATHENS HEALTH AND REHABILITATION LLC        | 611 WEST MARKET STREET,ATHENS,AL,35611        | Limestone County, AL | For profit - Corporation | 149 | 125.2 | N | ATHENS HEALTH AND REHABILITATION LLC | N | ⋯ | 0.03716 | 8/29/2019 | 20 | 7/19/2018 | 28 | 6/1/2017  | 20 | 0 |     0 | 0.8402685 |\n\n",
            "text/html": [
              "<table class=\"dataframe\">\n",
              "<caption>A tibble: 6 × 33</caption>\n",
              "<thead>\n",
              "\t<tr><th scope=col>FPN</th><th scope=col>ProviderName</th><th scope=col>ProviderAddress</th><th scope=col>ProviderCounty</th><th scope=col>OwnershipType</th><th scope=col>NumberBeds</th><th scope=col>AverageResidentsperDay</th><th scope=col>ProviderInHospital</th><th scope=col>BusinessName</th><th scope=col>ContinuingCareRetirementCommunity</th><th scope=col>⋯</th><th scope=col>PhysicalTherapistStaffing_Hours</th><th scope=col>RatingCycle1_Date</th><th scope=col>RatingCycle1_HealthDeficiencyScore</th><th scope=col>RatingCycle2_Date</th><th scope=col>RatingCycle2_HealthDeficiencyScore</th><th scope=col>RatingCycle3_Date</th><th scope=col>RatingCycle3_HealthDeficiencyScore</th><th scope=col>NumberofFines</th><th scope=col>TotalAmountFines</th><th scope=col>Capacity</th></tr>\n",
              "\t<tr><th scope=col>&lt;chr&gt;</th><th scope=col>&lt;chr&gt;</th><th scope=col>&lt;chr&gt;</th><th scope=col>&lt;chr&gt;</th><th scope=col>&lt;chr&gt;</th><th scope=col>&lt;dbl&gt;</th><th scope=col>&lt;dbl&gt;</th><th scope=col>&lt;chr&gt;</th><th scope=col>&lt;chr&gt;</th><th scope=col>&lt;chr&gt;</th><th scope=col>⋯</th><th scope=col>&lt;dbl&gt;</th><th scope=col>&lt;chr&gt;</th><th scope=col>&lt;chr&gt;</th><th scope=col>&lt;chr&gt;</th><th scope=col>&lt;chr&gt;</th><th scope=col>&lt;chr&gt;</th><th scope=col>&lt;chr&gt;</th><th scope=col>&lt;dbl&gt;</th><th scope=col>&lt;dbl&gt;</th><th scope=col>&lt;dbl&gt;</th></tr>\n",
              "</thead>\n",
              "<tbody>\n",
              "\t<tr><td>15009</td><td>BURNS NURSING HOME, INC.                   </td><td>701 MONROE STREET NW,RUSSELLVILLE,AL,35653   </td><td>Franklin County, AL </td><td>For profit - Corporation</td><td> 57</td><td> 51.8</td><td>N</td><td>BURNS NURSING HOME, INC.            </td><td>N</td><td>⋯</td><td>0.00000</td><td>8/21/2019</td><td>8 </td><td>8/1/2018 </td><td>4 </td><td>6/22/2017</td><td>0 </td><td>0</td><td>    0</td><td>0.9087719</td></tr>\n",
              "\t<tr><td>15010</td><td>COOSA VALLEY HEALTHCARE CENTER             </td><td>260 WEST WALNUT STREET,SYLACAUGA,AL,35150    </td><td>Talladega County, AL</td><td>For profit - Corporation</td><td> 85</td><td> 72.1</td><td>N</td><td>COOSA VALLEY HEALTHCARE CENTER LLC  </td><td>N</td><td>⋯</td><td>0.01271</td><td>6/13/2019</td><td>4 </td><td>6/7/2018 </td><td>32</td><td>4/6/2017 </td><td>36</td><td>1</td><td>  650</td><td>0.8482353</td></tr>\n",
              "\t<tr><td>15012</td><td>HIGHLANDS HEALTH AND REHAB                 </td><td>380 WOODS COVE ROAD,SCOTTSBORO,AL,35768      </td><td>Jackson County, AL  </td><td>Government - County     </td><td> 50</td><td> 41.3</td><td>Y</td><td>JACKSON COUNTY HEALTH CARE AUTHORITY</td><td>N</td><td>⋯</td><td>0.05596</td><td>6/6/2019 </td><td>20</td><td>5/3/2018 </td><td>40</td><td>3/16/2017</td><td>44</td><td>0</td><td>    0</td><td>0.8260000</td></tr>\n",
              "\t<tr><td>15014</td><td>EASTVIEW REHABILITATION &amp; HEALTHCARE CENTER</td><td>7755 FOURTH AVENUE SOUTH,BIRMINGHAM,AL,35206 </td><td>Jefferson County, AL</td><td>For profit - Individual </td><td> 92</td><td> 71.8</td><td>N</td><td><span style=white-space:pre-wrap>BALL HEALTHCARE EASTVIEW INC        </span></td><td>N</td><td>⋯</td><td>0.03246</td><td>2/20/2020</td><td>4 </td><td>1/24/2019</td><td>20</td><td>1/25/2018</td><td>24</td><td>0</td><td><span style=white-space:pre-wrap>    0</span></td><td>0.7804348</td></tr>\n",
              "\t<tr><td>15015</td><td><span style=white-space:pre-wrap>PLANTATION MANOR NURSING HOME              </span></td><td>6450 OLD TUSCALOOSA HIGHWAY,MC CALLA,AL,35111</td><td>Jefferson County, AL</td><td>For profit - Individual </td><td>103</td><td> 83.8</td><td>N</td><td><span style=white-space:pre-wrap>C &amp; G HEALTHCARE SERVICES, INC.     </span></td><td>N</td><td>⋯</td><td>0.01248</td><td>3/5/2020 </td><td>20</td><td>5/2/2019 </td><td>4 </td><td>4/19/2018</td><td>28</td><td>2</td><td>29611</td><td>0.8135922</td></tr>\n",
              "\t<tr><td>15016</td><td>ATHENS HEALTH AND REHABILITATION LLC       </td><td>611 WEST MARKET STREET,ATHENS,AL,35611       </td><td>Limestone County, AL</td><td>For profit - Corporation</td><td>149</td><td>125.2</td><td>N</td><td>ATHENS HEALTH AND REHABILITATION LLC</td><td>N</td><td>⋯</td><td>0.03716</td><td>8/29/2019</td><td>20</td><td>7/19/2018</td><td>28</td><td>6/1/2017 </td><td>20</td><td>0</td><td>    0</td><td>0.8402685</td></tr>\n",
              "</tbody>\n",
              "</table>\n"
            ]
          },
          "metadata": {
            "tags": []
          }
        }
      ]
    },
    {
      "cell_type": "markdown",
      "metadata": {
        "id": "VRYZa-vYrINB"
      },
      "source": [
        "\r\n",
        "\r\n",
        "---\r\n",
        "\r\n",
        "---\r\n",
        "\r\n",
        "\r\n",
        "\r\n"
      ]
    },
    {
      "cell_type": "markdown",
      "metadata": {
        "id": "0W-LuS2Tpmue"
      },
      "source": [
        "**Task #1**:  Consider the following code -- answer the questions that follow. \r\n"
      ]
    },
    {
      "cell_type": "code",
      "metadata": {
        "colab": {
          "base_uri": "https://localhost:8080/",
          "height": 35
        },
        "id": "oHdbnOEbrLVf",
        "outputId": "92674132-e8a6-4aaf-80d4-b7da8ac77f63"
      },
      "source": [
        "(\r\n",
        "  NursingHomes\r\n",
        "  %>% mutate(Capacity = ifelse(NumberBeds > 0, AverageResidentsperDay / NumberBeds, NA) )\r\n",
        "  %>% select(FPN, ProviderName, Capacity)\r\n",
        "  %>% arrange(desc(Capacity))\r\n",
        "  %>% filter(Capacity > 1)\r\n",
        "  %>% dim()\r\n",
        ")"
      ],
      "execution_count": 13,
      "outputs": [
        {
          "output_type": "display_data",
          "data": {
            "text/plain": [
              "[1] 100   3"
            ],
            "text/latex": "\\begin{enumerate*}\n\\item 100\n\\item 3\n\\end{enumerate*}\n",
            "text/markdown": "1. 100\n2. 3\n\n\n",
            "text/html": [
              "<style>\n",
              ".list-inline {list-style: none; margin:0; padding: 0}\n",
              ".list-inline>li {display: inline-block}\n",
              ".list-inline>li:not(:last-child)::after {content: \"\\00b7\"; padding: 0 .5ex}\n",
              "</style>\n",
              "<ol class=list-inline><li>100</li><li>3</li></ol>\n"
            ]
          },
          "metadata": {
            "tags": []
          }
        }
      ]
    },
    {
      "cell_type": "markdown",
      "metadata": {
        "id": "Dg-MtYgKrGZo"
      },
      "source": [
        "\r\n",
        "1.   What is the purpose of Line 4? Discusss"
      ]
    },
    {
      "cell_type": "markdown",
      "metadata": {
        "id": "N2j0nNO9q9jI"
      },
      "source": [
        "2.   What is the purpose of Line 5? Discuss"
      ]
    },
    {
      "cell_type": "markdown",
      "metadata": {
        "id": "mT1qbV07rBF2"
      },
      "source": [
        "3.   What is is the purpose of Line 6? Discuss"
      ]
    },
    {
      "cell_type": "markdown",
      "metadata": {
        "id": "Yf_gniYYrDC5"
      },
      "source": [
        "4.   What information is gained by running this code?  Discuss"
      ]
    },
    {
      "cell_type": "markdown",
      "metadata": {
        "id": "wQDgYsSvrOy3"
      },
      "source": [
        "\r\n",
        "\r\n",
        "---\r\n",
        "\r\n",
        "---\r\n",
        "\r\n",
        "\r\n",
        "\r\n"
      ]
    },
    {
      "cell_type": "markdown",
      "metadata": {
        "id": "1XQyfx7KrQ9_"
      },
      "source": [
        "**Task #2**:  Consider the following code -- answer the questions that follow. "
      ]
    },
    {
      "cell_type": "code",
      "metadata": {
        "colab": {
          "base_uri": "https://localhost:8080/",
          "height": 395
        },
        "id": "a7Q2hwpKrREv",
        "outputId": "6079ee87-fd40-4204-af16-0ef2536e1a99"
      },
      "source": [
        "(\r\n",
        "  NursingHomes\r\n",
        "  %>% mutate(Capacity = ifelse(NumberBeds > 0, 100*round(AverageResidentsperDay / NumberBeds,3), NA) )\r\n",
        "  %>% select(FPN, ProviderName, Capacity)\r\n",
        "  %>% arrange(desc(Capacity))\r\n",
        "  %>% filter(Capacity <= 100)\r\n",
        "  %>% mutate(Capacity = as.character(Capacity))\r\n",
        "  %>% mutate(Capacity = paste(Capacity, \"%\", sep=\"\"))\r\n",
        "  %>% head(10)\r\n",
        ")\r\n"
      ],
      "execution_count": 14,
      "outputs": [
        {
          "output_type": "display_data",
          "data": {
            "text/plain": [
              "   FPN    ProviderName                                      Capacity\n",
              "1  35287  HAVASU REGIONAL MEDICAL CENTER                    100%    \n",
              "2  05A192 THE ROYAL HOME                                    100%    \n",
              "3  16E668 PALO ALTO COUNTY HOSPITAL                         100%    \n",
              "4  335874 THE STEVEN AND ALEXANDRA COHEN PED L T C PAVILION 100%    \n",
              "5  495405 SUMMIT SQUARE                                     100%    \n",
              "6  515182 MILETREE CENTER                                   100%    \n",
              "7  555450 AMERICAN RIVER CENTER                             100%    \n",
              "8  105138 HEALTHCARE CENTER OF JACKSONVILLE                 99.8%   \n",
              "9  675509 PARKLANE WEST HEALTHCARE CENTER                   99.8%   \n",
              "10 235624 PORTAGEPOINTE                                     99.7%   "
            ],
            "text/latex": "A tibble: 10 × 3\n\\begin{tabular}{lll}\n FPN & ProviderName & Capacity\\\\\n <chr> & <chr> & <chr>\\\\\n\\hline\n\t 35287  & HAVASU REGIONAL MEDICAL CENTER                    & 100\\% \\\\\n\t 05A192 & THE ROYAL HOME                                    & 100\\% \\\\\n\t 16E668 & PALO ALTO COUNTY HOSPITAL                         & 100\\% \\\\\n\t 335874 & THE STEVEN AND ALEXANDRA COHEN PED L T C PAVILION & 100\\% \\\\\n\t 495405 & SUMMIT SQUARE                                     & 100\\% \\\\\n\t 515182 & MILETREE CENTER                                   & 100\\% \\\\\n\t 555450 & AMERICAN RIVER CENTER                             & 100\\% \\\\\n\t 105138 & HEALTHCARE CENTER OF JACKSONVILLE                 & 99.8\\%\\\\\n\t 675509 & PARKLANE WEST HEALTHCARE CENTER                   & 99.8\\%\\\\\n\t 235624 & PORTAGEPOINTE                                     & 99.7\\%\\\\\n\\end{tabular}\n",
            "text/markdown": "\nA tibble: 10 × 3\n\n| FPN &lt;chr&gt; | ProviderName &lt;chr&gt; | Capacity &lt;chr&gt; |\n|---|---|---|\n| 35287  | HAVASU REGIONAL MEDICAL CENTER                    | 100%  |\n| 05A192 | THE ROYAL HOME                                    | 100%  |\n| 16E668 | PALO ALTO COUNTY HOSPITAL                         | 100%  |\n| 335874 | THE STEVEN AND ALEXANDRA COHEN PED L T C PAVILION | 100%  |\n| 495405 | SUMMIT SQUARE                                     | 100%  |\n| 515182 | MILETREE CENTER                                   | 100%  |\n| 555450 | AMERICAN RIVER CENTER                             | 100%  |\n| 105138 | HEALTHCARE CENTER OF JACKSONVILLE                 | 99.8% |\n| 675509 | PARKLANE WEST HEALTHCARE CENTER                   | 99.8% |\n| 235624 | PORTAGEPOINTE                                     | 99.7% |\n\n",
            "text/html": [
              "<table class=\"dataframe\">\n",
              "<caption>A tibble: 10 × 3</caption>\n",
              "<thead>\n",
              "\t<tr><th scope=col>FPN</th><th scope=col>ProviderName</th><th scope=col>Capacity</th></tr>\n",
              "\t<tr><th scope=col>&lt;chr&gt;</th><th scope=col>&lt;chr&gt;</th><th scope=col>&lt;chr&gt;</th></tr>\n",
              "</thead>\n",
              "<tbody>\n",
              "\t<tr><td>35287 </td><td>HAVASU REGIONAL MEDICAL CENTER                   </td><td>100% </td></tr>\n",
              "\t<tr><td>05A192</td><td>THE ROYAL HOME                                   </td><td>100% </td></tr>\n",
              "\t<tr><td>16E668</td><td>PALO ALTO COUNTY HOSPITAL                        </td><td>100% </td></tr>\n",
              "\t<tr><td>335874</td><td>THE STEVEN AND ALEXANDRA COHEN PED L T C PAVILION</td><td>100% </td></tr>\n",
              "\t<tr><td>495405</td><td>SUMMIT SQUARE                                    </td><td>100% </td></tr>\n",
              "\t<tr><td>515182</td><td>MILETREE CENTER                                  </td><td>100% </td></tr>\n",
              "\t<tr><td>555450</td><td>AMERICAN RIVER CENTER                            </td><td>100% </td></tr>\n",
              "\t<tr><td>105138</td><td>HEALTHCARE CENTER OF JACKSONVILLE                </td><td>99.8%</td></tr>\n",
              "\t<tr><td>675509</td><td>PARKLANE WEST HEALTHCARE CENTER                  </td><td>99.8%</td></tr>\n",
              "\t<tr><td>235624</td><td>PORTAGEPOINTE                                    </td><td>99.7%</td></tr>\n",
              "</tbody>\n",
              "</table>\n"
            ]
          },
          "metadata": {
            "tags": []
          }
        }
      ]
    },
    {
      "cell_type": "markdown",
      "metadata": {
        "id": "dycUajHBr61W"
      },
      "source": [
        "1.   Change this code to output 20 nursing homes instead of the list provided here."
      ]
    },
    {
      "cell_type": "markdown",
      "metadata": {
        "id": "xfvn2pYKr63_"
      },
      "source": [
        "2.   What would happen if Line 7 were placed before Line 6?  How would this change effect Line 6?"
      ]
    },
    {
      "cell_type": "markdown",
      "metadata": {
        "id": "804yKRNHr66e"
      },
      "source": [
        "3.   Figure out how to save a csv file of this output. Put this csv file into the '/content/sample_data/' Colab folder."
      ]
    },
    {
      "cell_type": "markdown",
      "metadata": {
        "id": "p4FAXKcuvTUh"
      },
      "source": [
        "\r\n",
        "\r\n",
        "---\r\n",
        "\r\n",
        "---\r\n",
        "\r\n",
        "\r\n",
        "\r\n",
        "\r\n",
        "\r\n"
      ]
    },
    {
      "cell_type": "markdown",
      "metadata": {
        "id": "pHHy4G5BvXEf"
      },
      "source": [
        "Next, calculate the following quantity for each nursing home.\r\n",
        "\r\n",
        "$$ Average \\space Fine = \\frac{\\mbox{Total Amount of Fines}}{\\mbox{Number of Fines} }$$"
      ]
    },
    {
      "cell_type": "markdown",
      "metadata": {
        "id": "bafCzh5_wzwH"
      },
      "source": [
        "Before, proceeding one should check that this quantity can be computed for all nursing homes. If the Number of Fines is 0, then this quantity is not defined."
      ]
    },
    {
      "cell_type": "code",
      "metadata": {
        "id": "cC9Rml6ovXLv",
        "colab": {
          "base_uri": "https://localhost:8080/",
          "height": 1000
        },
        "outputId": "784daf65-6341-4fef-d32f-bb3ef4de6eda"
      },
      "source": [
        "#Getting a summary of all fields in R\r\n",
        "summary(NursingHomes)\r\n"
      ],
      "execution_count": 15,
      "outputs": [
        {
          "output_type": "display_data",
          "data": {
            "text/plain": [
              "     FPN            ProviderName       ProviderAddress    ProviderCounty    \n",
              " Length:15331       Length:15331       Length:15331       Length:15331      \n",
              " Class :character   Class :character   Class :character   Class :character  \n",
              " Mode  :character   Mode  :character   Mode  :character   Mode  :character  \n",
              "                                                                            \n",
              "                                                                            \n",
              "                                                                            \n",
              "                                                                            \n",
              " OwnershipType        NumberBeds     AverageResidentsperDay ProviderInHospital\n",
              " Length:15331       Min.   :   2.0   Min.   :  1.00         Length:15331      \n",
              " Class :character   1st Qu.:  65.0   1st Qu.: 45.70         Class :character  \n",
              " Mode  :character   Median :  99.0   Median : 68.60         Mode  :character  \n",
              "                    Mean   : 106.5   Mean   : 75.29                           \n",
              "                    3rd Qu.: 127.0   3rd Qu.: 93.30                           \n",
              "                    Max.   :1389.0   Max.   :716.30                           \n",
              "                                     NA's   :61                               \n",
              " BusinessName       ContinuingCareRetirementCommunity\n",
              " Length:15331       Length:15331                     \n",
              " Class :character   Class :character                 \n",
              " Mode  :character   Mode  :character                 \n",
              "                                                     \n",
              "                                                     \n",
              "                                                     \n",
              "                                                     \n",
              " HealthInspection_MoreThan2YearsAgo Overall_Rating  HealthInspection_Rating\n",
              " Length:15331                       Min.   :1.000   Min.   :1.000          \n",
              " Class :character                   1st Qu.:2.000   1st Qu.:2.000          \n",
              " Mode  :character                   Median :3.000   Median :3.000          \n",
              "                                    Mean   :3.273   Mean   :2.804          \n",
              "                                    3rd Qu.:5.000   3rd Qu.:4.000          \n",
              "                                    Max.   :5.000   Max.   :5.000          \n",
              "                                    NA's   :222     NA's   :222            \n",
              "   QM_Rating     LongStayQM_Rating ShortStayQM_Rating Staffing_Rating\n",
              " Min.   :1.000   Min.   :1.0       Min.   :1.000      Min.   :1.000  \n",
              " 1st Qu.:3.000   1st Qu.:3.0       1st Qu.:3.000      1st Qu.:2.000  \n",
              " Median :4.000   Median :4.0       Median :4.000      Median :3.000  \n",
              " Mean   :3.763   Mean   :3.7       Mean   :3.734      Mean   :3.267  \n",
              " 3rd Qu.:5.000   3rd Qu.:5.0       3rd Qu.:5.000      3rd Qu.:4.000  \n",
              " Max.   :5.000   Max.   :5.0       Max.   :5.000      Max.   :5.000  \n",
              " NA's   :243     NA's   :627       NA's   :2106       NA's   :1481   \n",
              " RNStaffing_Rating NurseAideStaffing_Hours LPNStaffing_Hours RNStaffing_Hours\n",
              " Min.   :1.000     Min.   :0.000           Min.   :0.0000    Min.   :0.0000  \n",
              " 1st Qu.:2.000     1st Qu.:1.924           1st Qu.:0.6712    1st Qu.:0.4486  \n",
              " Median :3.000     Median :2.256           Median :0.8990    Median :0.6358  \n",
              " Mean   :3.277     Mean   :2.333           Mean   :0.9217    Mean   :0.7544  \n",
              " 3rd Qu.:4.000     3rd Qu.:2.640           3rd Qu.:1.1286    3rd Qu.:0.8985  \n",
              " Max.   :5.000     Max.   :8.154           Max.   :4.7883    Max.   :7.6025  \n",
              " NA's   :1481      NA's   :618             NA's   :618       NA's   :618     \n",
              " LicensedStaffing_Hours TotalNurseStaffing_Hours\n",
              " Min.   :0.000          Min.   : 1.515          \n",
              " 1st Qu.:1.336          1st Qu.: 3.369          \n",
              " Median :1.556          Median : 3.836          \n",
              " Mean   :1.676          Mean   : 4.009          \n",
              " 3rd Qu.:1.839          3rd Qu.: 4.400          \n",
              " Max.   :8.856          Max.   :13.515          \n",
              " NA's   :618            NA's   :618             \n",
              " PhysicalTherapistStaffing_Hours RatingCycle1_Date \n",
              " Min.   :0.0000                  Length:15331      \n",
              " 1st Qu.:0.0231                  Class :character  \n",
              " Median :0.0562                  Mode  :character  \n",
              " Mean   :0.0765                                    \n",
              " 3rd Qu.:0.0964                                    \n",
              " Max.   :2.2588                                    \n",
              " NA's   :618                                       \n",
              " RatingCycle1_HealthDeficiencyScore RatingCycle2_Date \n",
              " Length:15331                       Length:15331      \n",
              " Class :character                   Class :character  \n",
              " Mode  :character                   Mode  :character  \n",
              "                                                      \n",
              "                                                      \n",
              "                                                      \n",
              "                                                      \n",
              " RatingCycle2_HealthDeficiencyScore RatingCycle3_Date \n",
              " Length:15331                       Length:15331      \n",
              " Class :character                   Class :character  \n",
              " Mode  :character                   Mode  :character  \n",
              "                                                      \n",
              "                                                      \n",
              "                                                      \n",
              "                                                      \n",
              " RatingCycle3_HealthDeficiencyScore NumberofFines    TotalAmountFines \n",
              " Length:15331                       Min.   :0.0000   Min.   :      0  \n",
              " Class :character                   1st Qu.:0.0000   1st Qu.:      0  \n",
              " Mode  :character                   Median :0.0000   Median :      0  \n",
              "                                    Mean   :0.4342   Mean   :  12120  \n",
              "                                    3rd Qu.:1.0000   3rd Qu.:   6500  \n",
              "                                    Max.   :9.0000   Max.   :1258368  \n",
              "                                                                      \n",
              "    Capacity       \n",
              " Min.   : 0.01215  \n",
              " 1st Qu.: 0.61797  \n",
              " Median : 0.73250  \n",
              " Mean   : 0.71714  \n",
              " 3rd Qu.: 0.82973  \n",
              " Max.   :10.65000  \n",
              " NA's   :61        "
            ]
          },
          "metadata": {
            "tags": []
          }
        }
      ]
    },
    {
      "cell_type": "code",
      "metadata": {
        "colab": {
          "base_uri": "https://localhost:8080/",
          "height": 54
        },
        "id": "-f0xIkPFucMa",
        "outputId": "ee0a1e93-fcf1-4b54-a0d0-022b10479a52"
      },
      "source": [
        "#Getting the summary for Number of Fines only\r\n",
        "summary(NursingHomes$NumberofFines)"
      ],
      "execution_count": 16,
      "outputs": [
        {
          "output_type": "display_data",
          "data": {
            "text/plain": [
              "   Min. 1st Qu.  Median    Mean 3rd Qu.    Max. \n",
              " 0.0000  0.0000  0.0000  0.4342  1.0000  9.0000 "
            ]
          },
          "metadata": {
            "tags": []
          }
        }
      ]
    },
    {
      "cell_type": "markdown",
      "metadata": {
        "id": "cMDWJMZsxNSg"
      },
      "source": [
        "Given that many of the nursing homes do not have any fines, the followign should be used for the calcuation of average fine amount.\r\n",
        "\r\n",
        "$$AverageFine = \\Bigg\\{ \\begin{array} \\tiny{\\frac{\\mbox{Total Amount of Fines}}{\\mbox{Number of Fines}}} & when & \\mbox{Number of Fines} > 0\\\\\r\n",
        "0 &  when & \\mbox{Number of Fines} = 0\r\n",
        "\\end{array}$$"
      ]
    },
    {
      "cell_type": "code",
      "metadata": {
        "colab": {
          "base_uri": "https://localhost:8080/",
          "height": 139
        },
        "id": "5iyDc2u0xa_5",
        "outputId": "424ce1ef-d006-4da1-aed1-b408b34d2d8f"
      },
      "source": [
        "(\r\n",
        "  NursingHomes\r\n",
        "  %>% mutate(AvgFine = ifelse(NumberofFines > 0, TotalAmountFines / NumberofFines, 0) )\r\n",
        ") -> NursingHomes\r\n",
        "\r\n",
        "#Making sure column was added\r\n",
        "dim(NursingHomes)\r\n",
        "cat(\"\\n\")\r\n",
        "colnames(NursingHomes)\r\n"
      ],
      "execution_count": 17,
      "outputs": [
        {
          "output_type": "display_data",
          "data": {
            "text/plain": [
              "[1] 15331    34"
            ],
            "text/latex": "\\begin{enumerate*}\n\\item 15331\n\\item 34\n\\end{enumerate*}\n",
            "text/markdown": "1. 15331\n2. 34\n\n\n",
            "text/html": [
              "<style>\n",
              ".list-inline {list-style: none; margin:0; padding: 0}\n",
              ".list-inline>li {display: inline-block}\n",
              ".list-inline>li:not(:last-child)::after {content: \"\\00b7\"; padding: 0 .5ex}\n",
              "</style>\n",
              "<ol class=list-inline><li>15331</li><li>34</li></ol>\n"
            ]
          },
          "metadata": {
            "tags": []
          }
        },
        {
          "output_type": "stream",
          "text": [
            "\n"
          ],
          "name": "stdout"
        },
        {
          "output_type": "display_data",
          "data": {
            "text/plain": [
              " [1] \"FPN\"                                \"ProviderName\"                      \n",
              " [3] \"ProviderAddress\"                    \"ProviderCounty\"                    \n",
              " [5] \"OwnershipType\"                      \"NumberBeds\"                        \n",
              " [7] \"AverageResidentsperDay\"             \"ProviderInHospital\"                \n",
              " [9] \"BusinessName\"                       \"ContinuingCareRetirementCommunity\" \n",
              "[11] \"HealthInspection_MoreThan2YearsAgo\" \"Overall_Rating\"                    \n",
              "[13] \"HealthInspection_Rating\"            \"QM_Rating\"                         \n",
              "[15] \"LongStayQM_Rating\"                  \"ShortStayQM_Rating\"                \n",
              "[17] \"Staffing_Rating\"                    \"RNStaffing_Rating\"                 \n",
              "[19] \"NurseAideStaffing_Hours\"            \"LPNStaffing_Hours\"                 \n",
              "[21] \"RNStaffing_Hours\"                   \"LicensedStaffing_Hours\"            \n",
              "[23] \"TotalNurseStaffing_Hours\"           \"PhysicalTherapistStaffing_Hours\"   \n",
              "[25] \"RatingCycle1_Date\"                  \"RatingCycle1_HealthDeficiencyScore\"\n",
              "[27] \"RatingCycle2_Date\"                  \"RatingCycle2_HealthDeficiencyScore\"\n",
              "[29] \"RatingCycle3_Date\"                  \"RatingCycle3_HealthDeficiencyScore\"\n",
              "[31] \"NumberofFines\"                      \"TotalAmountFines\"                  \n",
              "[33] \"Capacity\"                           \"AvgFine\"                           "
            ],
            "text/latex": "\\begin{enumerate*}\n\\item 'FPN'\n\\item 'ProviderName'\n\\item 'ProviderAddress'\n\\item 'ProviderCounty'\n\\item 'OwnershipType'\n\\item 'NumberBeds'\n\\item 'AverageResidentsperDay'\n\\item 'ProviderInHospital'\n\\item 'BusinessName'\n\\item 'ContinuingCareRetirementCommunity'\n\\item 'HealthInspection\\_MoreThan2YearsAgo'\n\\item 'Overall\\_Rating'\n\\item 'HealthInspection\\_Rating'\n\\item 'QM\\_Rating'\n\\item 'LongStayQM\\_Rating'\n\\item 'ShortStayQM\\_Rating'\n\\item 'Staffing\\_Rating'\n\\item 'RNStaffing\\_Rating'\n\\item 'NurseAideStaffing\\_Hours'\n\\item 'LPNStaffing\\_Hours'\n\\item 'RNStaffing\\_Hours'\n\\item 'LicensedStaffing\\_Hours'\n\\item 'TotalNurseStaffing\\_Hours'\n\\item 'PhysicalTherapistStaffing\\_Hours'\n\\item 'RatingCycle1\\_Date'\n\\item 'RatingCycle1\\_HealthDeficiencyScore'\n\\item 'RatingCycle2\\_Date'\n\\item 'RatingCycle2\\_HealthDeficiencyScore'\n\\item 'RatingCycle3\\_Date'\n\\item 'RatingCycle3\\_HealthDeficiencyScore'\n\\item 'NumberofFines'\n\\item 'TotalAmountFines'\n\\item 'Capacity'\n\\item 'AvgFine'\n\\end{enumerate*}\n",
            "text/markdown": "1. 'FPN'\n2. 'ProviderName'\n3. 'ProviderAddress'\n4. 'ProviderCounty'\n5. 'OwnershipType'\n6. 'NumberBeds'\n7. 'AverageResidentsperDay'\n8. 'ProviderInHospital'\n9. 'BusinessName'\n10. 'ContinuingCareRetirementCommunity'\n11. 'HealthInspection_MoreThan2YearsAgo'\n12. 'Overall_Rating'\n13. 'HealthInspection_Rating'\n14. 'QM_Rating'\n15. 'LongStayQM_Rating'\n16. 'ShortStayQM_Rating'\n17. 'Staffing_Rating'\n18. 'RNStaffing_Rating'\n19. 'NurseAideStaffing_Hours'\n20. 'LPNStaffing_Hours'\n21. 'RNStaffing_Hours'\n22. 'LicensedStaffing_Hours'\n23. 'TotalNurseStaffing_Hours'\n24. 'PhysicalTherapistStaffing_Hours'\n25. 'RatingCycle1_Date'\n26. 'RatingCycle1_HealthDeficiencyScore'\n27. 'RatingCycle2_Date'\n28. 'RatingCycle2_HealthDeficiencyScore'\n29. 'RatingCycle3_Date'\n30. 'RatingCycle3_HealthDeficiencyScore'\n31. 'NumberofFines'\n32. 'TotalAmountFines'\n33. 'Capacity'\n34. 'AvgFine'\n\n\n",
            "text/html": [
              "<style>\n",
              ".list-inline {list-style: none; margin:0; padding: 0}\n",
              ".list-inline>li {display: inline-block}\n",
              ".list-inline>li:not(:last-child)::after {content: \"\\00b7\"; padding: 0 .5ex}\n",
              "</style>\n",
              "<ol class=list-inline><li>'FPN'</li><li>'ProviderName'</li><li>'ProviderAddress'</li><li>'ProviderCounty'</li><li>'OwnershipType'</li><li>'NumberBeds'</li><li>'AverageResidentsperDay'</li><li>'ProviderInHospital'</li><li>'BusinessName'</li><li>'ContinuingCareRetirementCommunity'</li><li>'HealthInspection_MoreThan2YearsAgo'</li><li>'Overall_Rating'</li><li>'HealthInspection_Rating'</li><li>'QM_Rating'</li><li>'LongStayQM_Rating'</li><li>'ShortStayQM_Rating'</li><li>'Staffing_Rating'</li><li>'RNStaffing_Rating'</li><li>'NurseAideStaffing_Hours'</li><li>'LPNStaffing_Hours'</li><li>'RNStaffing_Hours'</li><li>'LicensedStaffing_Hours'</li><li>'TotalNurseStaffing_Hours'</li><li>'PhysicalTherapistStaffing_Hours'</li><li>'RatingCycle1_Date'</li><li>'RatingCycle1_HealthDeficiencyScore'</li><li>'RatingCycle2_Date'</li><li>'RatingCycle2_HealthDeficiencyScore'</li><li>'RatingCycle3_Date'</li><li>'RatingCycle3_HealthDeficiencyScore'</li><li>'NumberofFines'</li><li>'TotalAmountFines'</li><li>'Capacity'</li><li>'AvgFine'</li></ol>\n"
            ]
          },
          "metadata": {
            "tags": []
          }
        }
      ]
    },
    {
      "cell_type": "markdown",
      "metadata": {
        "id": "wlRejB61yX43"
      },
      "source": [
        "Next, consider the average (and median) for all nursing homes."
      ]
    },
    {
      "cell_type": "code",
      "metadata": {
        "colab": {
          "base_uri": "https://localhost:8080/",
          "height": 125
        },
        "id": "bxbsGvC7yYBX",
        "outputId": "3d813446-06b8-4317-d932-f74c025a8ef3"
      },
      "source": [
        "(\r\n",
        "  NursingHomes\r\n",
        "  %>% summarize('Average of Fines Overall' = mean(AvgFine), 'Median of Fines Overall' = median(AvgFine))\r\n",
        ")"
      ],
      "execution_count": 18,
      "outputs": [
        {
          "output_type": "display_data",
          "data": {
            "text/plain": [
              "  Average of Fines Overall Median of Fines Overall\n",
              "1 8334.139                 0                      "
            ],
            "text/latex": "A tibble: 1 × 2\n\\begin{tabular}{ll}\n Average of Fines Overall & Median of Fines Overall\\\\\n <dbl> & <dbl>\\\\\n\\hline\n\t 8334.139 & 0\\\\\n\\end{tabular}\n",
            "text/markdown": "\nA tibble: 1 × 2\n\n| Average of Fines Overall &lt;dbl&gt; | Median of Fines Overall &lt;dbl&gt; |\n|---|---|\n| 8334.139 | 0 |\n\n",
            "text/html": [
              "<table class=\"dataframe\">\n",
              "<caption>A tibble: 1 × 2</caption>\n",
              "<thead>\n",
              "\t<tr><th scope=col>Average of Fines Overall</th><th scope=col>Median of Fines Overall</th></tr>\n",
              "\t<tr><th scope=col>&lt;dbl&gt;</th><th scope=col>&lt;dbl&gt;</th></tr>\n",
              "</thead>\n",
              "<tbody>\n",
              "\t<tr><td>8334.139</td><td>0</td></tr>\n",
              "</tbody>\n",
              "</table>\n"
            ]
          },
          "metadata": {
            "tags": []
          }
        }
      ]
    },
    {
      "cell_type": "markdown",
      "metadata": {
        "id": "OvcS1_n3y7bt"
      },
      "source": [
        "Next, compute these quantites for Nursing Home that had a non-zero fine."
      ]
    },
    {
      "cell_type": "code",
      "metadata": {
        "colab": {
          "base_uri": "https://localhost:8080/",
          "height": 125
        },
        "id": "_uIG9mTZy7kF",
        "outputId": "a743d8be-1d8e-4612-d8ff-f645230366fd"
      },
      "source": [
        "(\r\n",
        "  NursingHomes\r\n",
        "  %>% filter(AvgFine > 0)\r\n",
        "  %>% summarize('Average of Fines Overall' = mean(AvgFine), 'Median of Fines Overall' = median(AvgFine))\r\n",
        ")"
      ],
      "execution_count": 19,
      "outputs": [
        {
          "output_type": "display_data",
          "data": {
            "text/plain": [
              "  Average of Fines Overall Median of Fines Overall\n",
              "1 27459.85                 11950                  "
            ],
            "text/latex": "A tibble: 1 × 2\n\\begin{tabular}{ll}\n Average of Fines Overall & Median of Fines Overall\\\\\n <dbl> & <dbl>\\\\\n\\hline\n\t 27459.85 & 11950\\\\\n\\end{tabular}\n",
            "text/markdown": "\nA tibble: 1 × 2\n\n| Average of Fines Overall &lt;dbl&gt; | Median of Fines Overall &lt;dbl&gt; |\n|---|---|\n| 27459.85 | 11950 |\n\n",
            "text/html": [
              "<table class=\"dataframe\">\n",
              "<caption>A tibble: 1 × 2</caption>\n",
              "<thead>\n",
              "\t<tr><th scope=col>Average of Fines Overall</th><th scope=col>Median of Fines Overall</th></tr>\n",
              "\t<tr><th scope=col>&lt;dbl&gt;</th><th scope=col>&lt;dbl&gt;</th></tr>\n",
              "</thead>\n",
              "<tbody>\n",
              "\t<tr><td>27459.85</td><td>11950</td></tr>\n",
              "</tbody>\n",
              "</table>\n"
            ]
          },
          "metadata": {
            "tags": []
          }
        }
      ]
    },
    {
      "cell_type": "markdown",
      "metadata": {
        "id": "DnfxqiQ8zZOx"
      },
      "source": [
        "# Create New Field - Character"
      ]
    },
    {
      "cell_type": "markdown",
      "metadata": {
        "id": "B1QvbjKJzcse"
      },
      "source": [
        "Next, suppose the desire is to get the average Overall_Rating for nursing homes in MN.  Notice that State is not currently a field."
      ]
    },
    {
      "cell_type": "code",
      "metadata": {
        "colab": {
          "base_uri": "https://localhost:8080/",
          "height": 104
        },
        "id": "iq-aUMw7zZXd",
        "outputId": "e6487cc6-287d-4886-e659-8a44b53c4a8d"
      },
      "source": [
        "colnames(NursingHomes)"
      ],
      "execution_count": 20,
      "outputs": [
        {
          "output_type": "display_data",
          "data": {
            "text/plain": [
              " [1] \"FPN\"                                \"ProviderName\"                      \n",
              " [3] \"ProviderAddress\"                    \"ProviderCounty\"                    \n",
              " [5] \"OwnershipType\"                      \"NumberBeds\"                        \n",
              " [7] \"AverageResidentsperDay\"             \"ProviderInHospital\"                \n",
              " [9] \"BusinessName\"                       \"ContinuingCareRetirementCommunity\" \n",
              "[11] \"HealthInspection_MoreThan2YearsAgo\" \"Overall_Rating\"                    \n",
              "[13] \"HealthInspection_Rating\"            \"QM_Rating\"                         \n",
              "[15] \"LongStayQM_Rating\"                  \"ShortStayQM_Rating\"                \n",
              "[17] \"Staffing_Rating\"                    \"RNStaffing_Rating\"                 \n",
              "[19] \"NurseAideStaffing_Hours\"            \"LPNStaffing_Hours\"                 \n",
              "[21] \"RNStaffing_Hours\"                   \"LicensedStaffing_Hours\"            \n",
              "[23] \"TotalNurseStaffing_Hours\"           \"PhysicalTherapistStaffing_Hours\"   \n",
              "[25] \"RatingCycle1_Date\"                  \"RatingCycle1_HealthDeficiencyScore\"\n",
              "[27] \"RatingCycle2_Date\"                  \"RatingCycle2_HealthDeficiencyScore\"\n",
              "[29] \"RatingCycle3_Date\"                  \"RatingCycle3_HealthDeficiencyScore\"\n",
              "[31] \"NumberofFines\"                      \"TotalAmountFines\"                  \n",
              "[33] \"Capacity\"                           \"AvgFine\"                           "
            ],
            "text/latex": "\\begin{enumerate*}\n\\item 'FPN'\n\\item 'ProviderName'\n\\item 'ProviderAddress'\n\\item 'ProviderCounty'\n\\item 'OwnershipType'\n\\item 'NumberBeds'\n\\item 'AverageResidentsperDay'\n\\item 'ProviderInHospital'\n\\item 'BusinessName'\n\\item 'ContinuingCareRetirementCommunity'\n\\item 'HealthInspection\\_MoreThan2YearsAgo'\n\\item 'Overall\\_Rating'\n\\item 'HealthInspection\\_Rating'\n\\item 'QM\\_Rating'\n\\item 'LongStayQM\\_Rating'\n\\item 'ShortStayQM\\_Rating'\n\\item 'Staffing\\_Rating'\n\\item 'RNStaffing\\_Rating'\n\\item 'NurseAideStaffing\\_Hours'\n\\item 'LPNStaffing\\_Hours'\n\\item 'RNStaffing\\_Hours'\n\\item 'LicensedStaffing\\_Hours'\n\\item 'TotalNurseStaffing\\_Hours'\n\\item 'PhysicalTherapistStaffing\\_Hours'\n\\item 'RatingCycle1\\_Date'\n\\item 'RatingCycle1\\_HealthDeficiencyScore'\n\\item 'RatingCycle2\\_Date'\n\\item 'RatingCycle2\\_HealthDeficiencyScore'\n\\item 'RatingCycle3\\_Date'\n\\item 'RatingCycle3\\_HealthDeficiencyScore'\n\\item 'NumberofFines'\n\\item 'TotalAmountFines'\n\\item 'Capacity'\n\\item 'AvgFine'\n\\end{enumerate*}\n",
            "text/markdown": "1. 'FPN'\n2. 'ProviderName'\n3. 'ProviderAddress'\n4. 'ProviderCounty'\n5. 'OwnershipType'\n6. 'NumberBeds'\n7. 'AverageResidentsperDay'\n8. 'ProviderInHospital'\n9. 'BusinessName'\n10. 'ContinuingCareRetirementCommunity'\n11. 'HealthInspection_MoreThan2YearsAgo'\n12. 'Overall_Rating'\n13. 'HealthInspection_Rating'\n14. 'QM_Rating'\n15. 'LongStayQM_Rating'\n16. 'ShortStayQM_Rating'\n17. 'Staffing_Rating'\n18. 'RNStaffing_Rating'\n19. 'NurseAideStaffing_Hours'\n20. 'LPNStaffing_Hours'\n21. 'RNStaffing_Hours'\n22. 'LicensedStaffing_Hours'\n23. 'TotalNurseStaffing_Hours'\n24. 'PhysicalTherapistStaffing_Hours'\n25. 'RatingCycle1_Date'\n26. 'RatingCycle1_HealthDeficiencyScore'\n27. 'RatingCycle2_Date'\n28. 'RatingCycle2_HealthDeficiencyScore'\n29. 'RatingCycle3_Date'\n30. 'RatingCycle3_HealthDeficiencyScore'\n31. 'NumberofFines'\n32. 'TotalAmountFines'\n33. 'Capacity'\n34. 'AvgFine'\n\n\n",
            "text/html": [
              "<style>\n",
              ".list-inline {list-style: none; margin:0; padding: 0}\n",
              ".list-inline>li {display: inline-block}\n",
              ".list-inline>li:not(:last-child)::after {content: \"\\00b7\"; padding: 0 .5ex}\n",
              "</style>\n",
              "<ol class=list-inline><li>'FPN'</li><li>'ProviderName'</li><li>'ProviderAddress'</li><li>'ProviderCounty'</li><li>'OwnershipType'</li><li>'NumberBeds'</li><li>'AverageResidentsperDay'</li><li>'ProviderInHospital'</li><li>'BusinessName'</li><li>'ContinuingCareRetirementCommunity'</li><li>'HealthInspection_MoreThan2YearsAgo'</li><li>'Overall_Rating'</li><li>'HealthInspection_Rating'</li><li>'QM_Rating'</li><li>'LongStayQM_Rating'</li><li>'ShortStayQM_Rating'</li><li>'Staffing_Rating'</li><li>'RNStaffing_Rating'</li><li>'NurseAideStaffing_Hours'</li><li>'LPNStaffing_Hours'</li><li>'RNStaffing_Hours'</li><li>'LicensedStaffing_Hours'</li><li>'TotalNurseStaffing_Hours'</li><li>'PhysicalTherapistStaffing_Hours'</li><li>'RatingCycle1_Date'</li><li>'RatingCycle1_HealthDeficiencyScore'</li><li>'RatingCycle2_Date'</li><li>'RatingCycle2_HealthDeficiencyScore'</li><li>'RatingCycle3_Date'</li><li>'RatingCycle3_HealthDeficiencyScore'</li><li>'NumberofFines'</li><li>'TotalAmountFines'</li><li>'Capacity'</li><li>'AvgFine'</li></ol>\n"
            ]
          },
          "metadata": {
            "tags": []
          }
        }
      ]
    },
    {
      "cell_type": "markdown",
      "metadata": {
        "id": "qFvggMXEzzG_"
      },
      "source": [
        "Realize that the State can be pulled off from the ProviderAddress or Provider County.  "
      ]
    },
    {
      "cell_type": "code",
      "metadata": {
        "colab": {
          "base_uri": "https://localhost:8080/",
          "height": 275
        },
        "id": "a6b5MCuezzOQ",
        "outputId": "018873be-7f9c-42a4-cb18-2a98f381abb1"
      },
      "source": [
        "(\r\n",
        "  NursingHomes\r\n",
        "  %>% select(ProviderAddress, ProviderCounty)\r\n",
        "  %>% head()\r\n",
        ")"
      ],
      "execution_count": 21,
      "outputs": [
        {
          "output_type": "display_data",
          "data": {
            "text/plain": [
              "  ProviderAddress                               ProviderCounty      \n",
              "1 701 MONROE STREET NW,RUSSELLVILLE,AL,35653    Franklin County, AL \n",
              "2 260 WEST WALNUT STREET,SYLACAUGA,AL,35150     Talladega County, AL\n",
              "3 380 WOODS COVE ROAD,SCOTTSBORO,AL,35768       Jackson County, AL  \n",
              "4 7755 FOURTH AVENUE SOUTH,BIRMINGHAM,AL,35206  Jefferson County, AL\n",
              "5 6450 OLD TUSCALOOSA HIGHWAY,MC CALLA,AL,35111 Jefferson County, AL\n",
              "6 611 WEST MARKET STREET,ATHENS,AL,35611        Limestone County, AL"
            ],
            "text/latex": "A tibble: 6 × 2\n\\begin{tabular}{ll}\n ProviderAddress & ProviderCounty\\\\\n <chr> & <chr>\\\\\n\\hline\n\t 701 MONROE STREET NW,RUSSELLVILLE,AL,35653    & Franklin County, AL \\\\\n\t 260 WEST WALNUT STREET,SYLACAUGA,AL,35150     & Talladega County, AL\\\\\n\t 380 WOODS COVE ROAD,SCOTTSBORO,AL,35768       & Jackson County, AL  \\\\\n\t 7755 FOURTH AVENUE SOUTH,BIRMINGHAM,AL,35206  & Jefferson County, AL\\\\\n\t 6450 OLD TUSCALOOSA HIGHWAY,MC CALLA,AL,35111 & Jefferson County, AL\\\\\n\t 611 WEST MARKET STREET,ATHENS,AL,35611        & Limestone County, AL\\\\\n\\end{tabular}\n",
            "text/markdown": "\nA tibble: 6 × 2\n\n| ProviderAddress &lt;chr&gt; | ProviderCounty &lt;chr&gt; |\n|---|---|\n| 701 MONROE STREET NW,RUSSELLVILLE,AL,35653    | Franklin County, AL  |\n| 260 WEST WALNUT STREET,SYLACAUGA,AL,35150     | Talladega County, AL |\n| 380 WOODS COVE ROAD,SCOTTSBORO,AL,35768       | Jackson County, AL   |\n| 7755 FOURTH AVENUE SOUTH,BIRMINGHAM,AL,35206  | Jefferson County, AL |\n| 6450 OLD TUSCALOOSA HIGHWAY,MC CALLA,AL,35111 | Jefferson County, AL |\n| 611 WEST MARKET STREET,ATHENS,AL,35611        | Limestone County, AL |\n\n",
            "text/html": [
              "<table class=\"dataframe\">\n",
              "<caption>A tibble: 6 × 2</caption>\n",
              "<thead>\n",
              "\t<tr><th scope=col>ProviderAddress</th><th scope=col>ProviderCounty</th></tr>\n",
              "\t<tr><th scope=col>&lt;chr&gt;</th><th scope=col>&lt;chr&gt;</th></tr>\n",
              "</thead>\n",
              "<tbody>\n",
              "\t<tr><td>701 MONROE STREET NW,RUSSELLVILLE,AL,35653   </td><td>Franklin County, AL </td></tr>\n",
              "\t<tr><td>260 WEST WALNUT STREET,SYLACAUGA,AL,35150    </td><td>Talladega County, AL</td></tr>\n",
              "\t<tr><td>380 WOODS COVE ROAD,SCOTTSBORO,AL,35768      </td><td>Jackson County, AL  </td></tr>\n",
              "\t<tr><td>7755 FOURTH AVENUE SOUTH,BIRMINGHAM,AL,35206 </td><td>Jefferson County, AL</td></tr>\n",
              "\t<tr><td>6450 OLD TUSCALOOSA HIGHWAY,MC CALLA,AL,35111</td><td>Jefferson County, AL</td></tr>\n",
              "\t<tr><td>611 WEST MARKET STREET,ATHENS,AL,35611       </td><td>Limestone County, AL</td></tr>\n",
              "</tbody>\n",
              "</table>\n"
            ]
          },
          "metadata": {
            "tags": []
          }
        }
      ]
    },
    {
      "cell_type": "markdown",
      "metadata": {
        "id": "lYVJBzJM0epe"
      },
      "source": [
        "To pull off elements of a string, we will use the <strong>str_sub</strong> function from the <strong>stringr</strong> pakcage. The stringr package is part of the <strong>tidyverse</strong> package.\r\n",
        "\r\n",
        "<p align='center'><img src=\"https://drive.google.com/uc?export=view&id=1gxaqqR7oxvPYQJYDiJDIMnwce_I_by_o\" width='75%' height='75%'></p>\r\n",
        "\r\n",
        "\r\n",
        "The syntax for the <strong>str_sub()</strong> function is\r\n",
        "\r\n",
        "\r\n",
        "<p align='center'>\r\n",
        "<font size='+2'>str_sub(<i>field name</i>, <i>start =</i> , <i>end =</i> )</font>\r\n",
        "</p>\r\n",
        "\r\n",
        "Note:  Negative indicies for <i>start</i> and <i>end</i> can be used to search a string <strong>backwards</strong>.\r\n"
      ]
    },
    {
      "cell_type": "code",
      "metadata": {
        "colab": {
          "base_uri": "https://localhost:8080/",
          "height": 104
        },
        "id": "IJASe83H0ewV",
        "outputId": "da17db4a-e8e1-4195-b4ca-8e90ad8308d9"
      },
      "source": [
        "(\r\n",
        " NursingHomes\r\n",
        " %>% mutate(State = str_sub(ProviderCounty, -2,-1) )\r\n",
        ") -> NursingHomes\r\n",
        "\r\n",
        "colnames(NursingHomes)\r\n"
      ],
      "execution_count": 22,
      "outputs": [
        {
          "output_type": "display_data",
          "data": {
            "text/plain": [
              " [1] \"FPN\"                                \"ProviderName\"                      \n",
              " [3] \"ProviderAddress\"                    \"ProviderCounty\"                    \n",
              " [5] \"OwnershipType\"                      \"NumberBeds\"                        \n",
              " [7] \"AverageResidentsperDay\"             \"ProviderInHospital\"                \n",
              " [9] \"BusinessName\"                       \"ContinuingCareRetirementCommunity\" \n",
              "[11] \"HealthInspection_MoreThan2YearsAgo\" \"Overall_Rating\"                    \n",
              "[13] \"HealthInspection_Rating\"            \"QM_Rating\"                         \n",
              "[15] \"LongStayQM_Rating\"                  \"ShortStayQM_Rating\"                \n",
              "[17] \"Staffing_Rating\"                    \"RNStaffing_Rating\"                 \n",
              "[19] \"NurseAideStaffing_Hours\"            \"LPNStaffing_Hours\"                 \n",
              "[21] \"RNStaffing_Hours\"                   \"LicensedStaffing_Hours\"            \n",
              "[23] \"TotalNurseStaffing_Hours\"           \"PhysicalTherapistStaffing_Hours\"   \n",
              "[25] \"RatingCycle1_Date\"                  \"RatingCycle1_HealthDeficiencyScore\"\n",
              "[27] \"RatingCycle2_Date\"                  \"RatingCycle2_HealthDeficiencyScore\"\n",
              "[29] \"RatingCycle3_Date\"                  \"RatingCycle3_HealthDeficiencyScore\"\n",
              "[31] \"NumberofFines\"                      \"TotalAmountFines\"                  \n",
              "[33] \"Capacity\"                           \"AvgFine\"                           \n",
              "[35] \"State\"                             "
            ],
            "text/latex": "\\begin{enumerate*}\n\\item 'FPN'\n\\item 'ProviderName'\n\\item 'ProviderAddress'\n\\item 'ProviderCounty'\n\\item 'OwnershipType'\n\\item 'NumberBeds'\n\\item 'AverageResidentsperDay'\n\\item 'ProviderInHospital'\n\\item 'BusinessName'\n\\item 'ContinuingCareRetirementCommunity'\n\\item 'HealthInspection\\_MoreThan2YearsAgo'\n\\item 'Overall\\_Rating'\n\\item 'HealthInspection\\_Rating'\n\\item 'QM\\_Rating'\n\\item 'LongStayQM\\_Rating'\n\\item 'ShortStayQM\\_Rating'\n\\item 'Staffing\\_Rating'\n\\item 'RNStaffing\\_Rating'\n\\item 'NurseAideStaffing\\_Hours'\n\\item 'LPNStaffing\\_Hours'\n\\item 'RNStaffing\\_Hours'\n\\item 'LicensedStaffing\\_Hours'\n\\item 'TotalNurseStaffing\\_Hours'\n\\item 'PhysicalTherapistStaffing\\_Hours'\n\\item 'RatingCycle1\\_Date'\n\\item 'RatingCycle1\\_HealthDeficiencyScore'\n\\item 'RatingCycle2\\_Date'\n\\item 'RatingCycle2\\_HealthDeficiencyScore'\n\\item 'RatingCycle3\\_Date'\n\\item 'RatingCycle3\\_HealthDeficiencyScore'\n\\item 'NumberofFines'\n\\item 'TotalAmountFines'\n\\item 'Capacity'\n\\item 'AvgFine'\n\\item 'State'\n\\end{enumerate*}\n",
            "text/markdown": "1. 'FPN'\n2. 'ProviderName'\n3. 'ProviderAddress'\n4. 'ProviderCounty'\n5. 'OwnershipType'\n6. 'NumberBeds'\n7. 'AverageResidentsperDay'\n8. 'ProviderInHospital'\n9. 'BusinessName'\n10. 'ContinuingCareRetirementCommunity'\n11. 'HealthInspection_MoreThan2YearsAgo'\n12. 'Overall_Rating'\n13. 'HealthInspection_Rating'\n14. 'QM_Rating'\n15. 'LongStayQM_Rating'\n16. 'ShortStayQM_Rating'\n17. 'Staffing_Rating'\n18. 'RNStaffing_Rating'\n19. 'NurseAideStaffing_Hours'\n20. 'LPNStaffing_Hours'\n21. 'RNStaffing_Hours'\n22. 'LicensedStaffing_Hours'\n23. 'TotalNurseStaffing_Hours'\n24. 'PhysicalTherapistStaffing_Hours'\n25. 'RatingCycle1_Date'\n26. 'RatingCycle1_HealthDeficiencyScore'\n27. 'RatingCycle2_Date'\n28. 'RatingCycle2_HealthDeficiencyScore'\n29. 'RatingCycle3_Date'\n30. 'RatingCycle3_HealthDeficiencyScore'\n31. 'NumberofFines'\n32. 'TotalAmountFines'\n33. 'Capacity'\n34. 'AvgFine'\n35. 'State'\n\n\n",
            "text/html": [
              "<style>\n",
              ".list-inline {list-style: none; margin:0; padding: 0}\n",
              ".list-inline>li {display: inline-block}\n",
              ".list-inline>li:not(:last-child)::after {content: \"\\00b7\"; padding: 0 .5ex}\n",
              "</style>\n",
              "<ol class=list-inline><li>'FPN'</li><li>'ProviderName'</li><li>'ProviderAddress'</li><li>'ProviderCounty'</li><li>'OwnershipType'</li><li>'NumberBeds'</li><li>'AverageResidentsperDay'</li><li>'ProviderInHospital'</li><li>'BusinessName'</li><li>'ContinuingCareRetirementCommunity'</li><li>'HealthInspection_MoreThan2YearsAgo'</li><li>'Overall_Rating'</li><li>'HealthInspection_Rating'</li><li>'QM_Rating'</li><li>'LongStayQM_Rating'</li><li>'ShortStayQM_Rating'</li><li>'Staffing_Rating'</li><li>'RNStaffing_Rating'</li><li>'NurseAideStaffing_Hours'</li><li>'LPNStaffing_Hours'</li><li>'RNStaffing_Hours'</li><li>'LicensedStaffing_Hours'</li><li>'TotalNurseStaffing_Hours'</li><li>'PhysicalTherapistStaffing_Hours'</li><li>'RatingCycle1_Date'</li><li>'RatingCycle1_HealthDeficiencyScore'</li><li>'RatingCycle2_Date'</li><li>'RatingCycle2_HealthDeficiencyScore'</li><li>'RatingCycle3_Date'</li><li>'RatingCycle3_HealthDeficiencyScore'</li><li>'NumberofFines'</li><li>'TotalAmountFines'</li><li>'Capacity'</li><li>'AvgFine'</li><li>'State'</li></ol>\n"
            ]
          },
          "metadata": {
            "tags": []
          }
        }
      ]
    },
    {
      "cell_type": "markdown",
      "metadata": {
        "id": "g369SGUT2jYq"
      },
      "source": [
        "Notice that R always appears to add the newly created column from mutate() to the far right side of the dataframe.  There exists a <strong>relocate()</strong> function that can be used to rearrange the order of the columns."
      ]
    },
    {
      "cell_type": "code",
      "metadata": {
        "colab": {
          "base_uri": "https://localhost:8080/",
          "height": 659
        },
        "id": "0g0cmXaF2jgQ",
        "outputId": "e124f7f5-4656-438f-a537-91283e2081df"
      },
      "source": [
        "(\r\n",
        " NursingHomes\r\n",
        " %>% relocate(State, .after = ProviderAddress )\r\n",
        ") -> NursingHomes\r\n",
        "\r\n",
        "colnames(NursingHomes)\r\n",
        "cat(\"\\n\")\r\n",
        "head(NursingHomes)"
      ],
      "execution_count": 23,
      "outputs": [
        {
          "output_type": "display_data",
          "data": {
            "text/plain": [
              " [1] \"FPN\"                                \"ProviderName\"                      \n",
              " [3] \"ProviderAddress\"                    \"State\"                             \n",
              " [5] \"ProviderCounty\"                     \"OwnershipType\"                     \n",
              " [7] \"NumberBeds\"                         \"AverageResidentsperDay\"            \n",
              " [9] \"ProviderInHospital\"                 \"BusinessName\"                      \n",
              "[11] \"ContinuingCareRetirementCommunity\"  \"HealthInspection_MoreThan2YearsAgo\"\n",
              "[13] \"Overall_Rating\"                     \"HealthInspection_Rating\"           \n",
              "[15] \"QM_Rating\"                          \"LongStayQM_Rating\"                 \n",
              "[17] \"ShortStayQM_Rating\"                 \"Staffing_Rating\"                   \n",
              "[19] \"RNStaffing_Rating\"                  \"NurseAideStaffing_Hours\"           \n",
              "[21] \"LPNStaffing_Hours\"                  \"RNStaffing_Hours\"                  \n",
              "[23] \"LicensedStaffing_Hours\"             \"TotalNurseStaffing_Hours\"          \n",
              "[25] \"PhysicalTherapistStaffing_Hours\"    \"RatingCycle1_Date\"                 \n",
              "[27] \"RatingCycle1_HealthDeficiencyScore\" \"RatingCycle2_Date\"                 \n",
              "[29] \"RatingCycle2_HealthDeficiencyScore\" \"RatingCycle3_Date\"                 \n",
              "[31] \"RatingCycle3_HealthDeficiencyScore\" \"NumberofFines\"                     \n",
              "[33] \"TotalAmountFines\"                   \"Capacity\"                          \n",
              "[35] \"AvgFine\"                           "
            ],
            "text/latex": "\\begin{enumerate*}\n\\item 'FPN'\n\\item 'ProviderName'\n\\item 'ProviderAddress'\n\\item 'State'\n\\item 'ProviderCounty'\n\\item 'OwnershipType'\n\\item 'NumberBeds'\n\\item 'AverageResidentsperDay'\n\\item 'ProviderInHospital'\n\\item 'BusinessName'\n\\item 'ContinuingCareRetirementCommunity'\n\\item 'HealthInspection\\_MoreThan2YearsAgo'\n\\item 'Overall\\_Rating'\n\\item 'HealthInspection\\_Rating'\n\\item 'QM\\_Rating'\n\\item 'LongStayQM\\_Rating'\n\\item 'ShortStayQM\\_Rating'\n\\item 'Staffing\\_Rating'\n\\item 'RNStaffing\\_Rating'\n\\item 'NurseAideStaffing\\_Hours'\n\\item 'LPNStaffing\\_Hours'\n\\item 'RNStaffing\\_Hours'\n\\item 'LicensedStaffing\\_Hours'\n\\item 'TotalNurseStaffing\\_Hours'\n\\item 'PhysicalTherapistStaffing\\_Hours'\n\\item 'RatingCycle1\\_Date'\n\\item 'RatingCycle1\\_HealthDeficiencyScore'\n\\item 'RatingCycle2\\_Date'\n\\item 'RatingCycle2\\_HealthDeficiencyScore'\n\\item 'RatingCycle3\\_Date'\n\\item 'RatingCycle3\\_HealthDeficiencyScore'\n\\item 'NumberofFines'\n\\item 'TotalAmountFines'\n\\item 'Capacity'\n\\item 'AvgFine'\n\\end{enumerate*}\n",
            "text/markdown": "1. 'FPN'\n2. 'ProviderName'\n3. 'ProviderAddress'\n4. 'State'\n5. 'ProviderCounty'\n6. 'OwnershipType'\n7. 'NumberBeds'\n8. 'AverageResidentsperDay'\n9. 'ProviderInHospital'\n10. 'BusinessName'\n11. 'ContinuingCareRetirementCommunity'\n12. 'HealthInspection_MoreThan2YearsAgo'\n13. 'Overall_Rating'\n14. 'HealthInspection_Rating'\n15. 'QM_Rating'\n16. 'LongStayQM_Rating'\n17. 'ShortStayQM_Rating'\n18. 'Staffing_Rating'\n19. 'RNStaffing_Rating'\n20. 'NurseAideStaffing_Hours'\n21. 'LPNStaffing_Hours'\n22. 'RNStaffing_Hours'\n23. 'LicensedStaffing_Hours'\n24. 'TotalNurseStaffing_Hours'\n25. 'PhysicalTherapistStaffing_Hours'\n26. 'RatingCycle1_Date'\n27. 'RatingCycle1_HealthDeficiencyScore'\n28. 'RatingCycle2_Date'\n29. 'RatingCycle2_HealthDeficiencyScore'\n30. 'RatingCycle3_Date'\n31. 'RatingCycle3_HealthDeficiencyScore'\n32. 'NumberofFines'\n33. 'TotalAmountFines'\n34. 'Capacity'\n35. 'AvgFine'\n\n\n",
            "text/html": [
              "<style>\n",
              ".list-inline {list-style: none; margin:0; padding: 0}\n",
              ".list-inline>li {display: inline-block}\n",
              ".list-inline>li:not(:last-child)::after {content: \"\\00b7\"; padding: 0 .5ex}\n",
              "</style>\n",
              "<ol class=list-inline><li>'FPN'</li><li>'ProviderName'</li><li>'ProviderAddress'</li><li>'State'</li><li>'ProviderCounty'</li><li>'OwnershipType'</li><li>'NumberBeds'</li><li>'AverageResidentsperDay'</li><li>'ProviderInHospital'</li><li>'BusinessName'</li><li>'ContinuingCareRetirementCommunity'</li><li>'HealthInspection_MoreThan2YearsAgo'</li><li>'Overall_Rating'</li><li>'HealthInspection_Rating'</li><li>'QM_Rating'</li><li>'LongStayQM_Rating'</li><li>'ShortStayQM_Rating'</li><li>'Staffing_Rating'</li><li>'RNStaffing_Rating'</li><li>'NurseAideStaffing_Hours'</li><li>'LPNStaffing_Hours'</li><li>'RNStaffing_Hours'</li><li>'LicensedStaffing_Hours'</li><li>'TotalNurseStaffing_Hours'</li><li>'PhysicalTherapistStaffing_Hours'</li><li>'RatingCycle1_Date'</li><li>'RatingCycle1_HealthDeficiencyScore'</li><li>'RatingCycle2_Date'</li><li>'RatingCycle2_HealthDeficiencyScore'</li><li>'RatingCycle3_Date'</li><li>'RatingCycle3_HealthDeficiencyScore'</li><li>'NumberofFines'</li><li>'TotalAmountFines'</li><li>'Capacity'</li><li>'AvgFine'</li></ol>\n"
            ]
          },
          "metadata": {
            "tags": []
          }
        },
        {
          "output_type": "stream",
          "text": [
            "\n"
          ],
          "name": "stdout"
        },
        {
          "output_type": "display_data",
          "data": {
            "text/plain": [
              "  FPN   ProviderName                               \n",
              "1 15009 BURNS NURSING HOME, INC.                   \n",
              "2 15010 COOSA VALLEY HEALTHCARE CENTER             \n",
              "3 15012 HIGHLANDS HEALTH AND REHAB                 \n",
              "4 15014 EASTVIEW REHABILITATION & HEALTHCARE CENTER\n",
              "5 15015 PLANTATION MANOR NURSING HOME              \n",
              "6 15016 ATHENS HEALTH AND REHABILITATION LLC       \n",
              "  ProviderAddress                               State ProviderCounty      \n",
              "1 701 MONROE STREET NW,RUSSELLVILLE,AL,35653    AL    Franklin County, AL \n",
              "2 260 WEST WALNUT STREET,SYLACAUGA,AL,35150     AL    Talladega County, AL\n",
              "3 380 WOODS COVE ROAD,SCOTTSBORO,AL,35768       AL    Jackson County, AL  \n",
              "4 7755 FOURTH AVENUE SOUTH,BIRMINGHAM,AL,35206  AL    Jefferson County, AL\n",
              "5 6450 OLD TUSCALOOSA HIGHWAY,MC CALLA,AL,35111 AL    Jefferson County, AL\n",
              "6 611 WEST MARKET STREET,ATHENS,AL,35611        AL    Limestone County, AL\n",
              "  OwnershipType            NumberBeds AverageResidentsperDay ProviderInHospital\n",
              "1 For profit - Corporation  57         51.8                  N                 \n",
              "2 For profit - Corporation  85         72.1                  N                 \n",
              "3 Government - County       50         41.3                  Y                 \n",
              "4 For profit - Individual   92         71.8                  N                 \n",
              "5 For profit - Individual  103         83.8                  N                 \n",
              "6 For profit - Corporation 149        125.2                  N                 \n",
              "  BusinessName                         ⋯ RatingCycle1_Date\n",
              "1 BURNS NURSING HOME, INC.             ⋯ 8/21/2019        \n",
              "2 COOSA VALLEY HEALTHCARE CENTER LLC   ⋯ 6/13/2019        \n",
              "3 JACKSON COUNTY HEALTH CARE AUTHORITY ⋯ 6/6/2019         \n",
              "4 BALL HEALTHCARE EASTVIEW INC         ⋯ 2/20/2020        \n",
              "5 C & G HEALTHCARE SERVICES, INC.      ⋯ 3/5/2020         \n",
              "6 ATHENS HEALTH AND REHABILITATION LLC ⋯ 8/29/2019        \n",
              "  RatingCycle1_HealthDeficiencyScore RatingCycle2_Date\n",
              "1 8                                  8/1/2018         \n",
              "2 4                                  6/7/2018         \n",
              "3 20                                 5/3/2018         \n",
              "4 4                                  1/24/2019        \n",
              "5 20                                 5/2/2019         \n",
              "6 20                                 7/19/2018        \n",
              "  RatingCycle2_HealthDeficiencyScore RatingCycle3_Date\n",
              "1 4                                  6/22/2017        \n",
              "2 32                                 4/6/2017         \n",
              "3 40                                 3/16/2017        \n",
              "4 20                                 1/25/2018        \n",
              "5 4                                  4/19/2018        \n",
              "6 28                                 6/1/2017         \n",
              "  RatingCycle3_HealthDeficiencyScore NumberofFines TotalAmountFines Capacity \n",
              "1 0                                  0                 0            0.9087719\n",
              "2 36                                 1               650            0.8482353\n",
              "3 44                                 0                 0            0.8260000\n",
              "4 24                                 0                 0            0.7804348\n",
              "5 28                                 2             29611            0.8135922\n",
              "6 20                                 0                 0            0.8402685\n",
              "  AvgFine\n",
              "1     0.0\n",
              "2   650.0\n",
              "3     0.0\n",
              "4     0.0\n",
              "5 14805.5\n",
              "6     0.0"
            ],
            "text/latex": "A tibble: 6 × 35\n\\begin{tabular}{lllllllllllllllllllll}\n FPN & ProviderName & ProviderAddress & State & ProviderCounty & OwnershipType & NumberBeds & AverageResidentsperDay & ProviderInHospital & BusinessName & ⋯ & RatingCycle1\\_Date & RatingCycle1\\_HealthDeficiencyScore & RatingCycle2\\_Date & RatingCycle2\\_HealthDeficiencyScore & RatingCycle3\\_Date & RatingCycle3\\_HealthDeficiencyScore & NumberofFines & TotalAmountFines & Capacity & AvgFine\\\\\n <chr> & <chr> & <chr> & <chr> & <chr> & <chr> & <dbl> & <dbl> & <chr> & <chr> & ⋯ & <chr> & <chr> & <chr> & <chr> & <chr> & <chr> & <dbl> & <dbl> & <dbl> & <dbl>\\\\\n\\hline\n\t 15009 & BURNS NURSING HOME, INC.                    & 701 MONROE STREET NW,RUSSELLVILLE,AL,35653    & AL & Franklin County, AL  & For profit - Corporation &  57 &  51.8 & N & BURNS NURSING HOME, INC.             & ⋯ & 8/21/2019 & 8  & 8/1/2018  & 4  & 6/22/2017 & 0  & 0 &     0 & 0.9087719 &     0.0\\\\\n\t 15010 & COOSA VALLEY HEALTHCARE CENTER              & 260 WEST WALNUT STREET,SYLACAUGA,AL,35150     & AL & Talladega County, AL & For profit - Corporation &  85 &  72.1 & N & COOSA VALLEY HEALTHCARE CENTER LLC   & ⋯ & 6/13/2019 & 4  & 6/7/2018  & 32 & 4/6/2017  & 36 & 1 &   650 & 0.8482353 &   650.0\\\\\n\t 15012 & HIGHLANDS HEALTH AND REHAB                  & 380 WOODS COVE ROAD,SCOTTSBORO,AL,35768       & AL & Jackson County, AL   & Government - County      &  50 &  41.3 & Y & JACKSON COUNTY HEALTH CARE AUTHORITY & ⋯ & 6/6/2019  & 20 & 5/3/2018  & 40 & 3/16/2017 & 44 & 0 &     0 & 0.8260000 &     0.0\\\\\n\t 15014 & EASTVIEW REHABILITATION \\& HEALTHCARE CENTER & 7755 FOURTH AVENUE SOUTH,BIRMINGHAM,AL,35206  & AL & Jefferson County, AL & For profit - Individual  &  92 &  71.8 & N & BALL HEALTHCARE EASTVIEW INC         & ⋯ & 2/20/2020 & 4  & 1/24/2019 & 20 & 1/25/2018 & 24 & 0 &     0 & 0.7804348 &     0.0\\\\\n\t 15015 & PLANTATION MANOR NURSING HOME               & 6450 OLD TUSCALOOSA HIGHWAY,MC CALLA,AL,35111 & AL & Jefferson County, AL & For profit - Individual  & 103 &  83.8 & N & C \\& G HEALTHCARE SERVICES, INC.      & ⋯ & 3/5/2020  & 20 & 5/2/2019  & 4  & 4/19/2018 & 28 & 2 & 29611 & 0.8135922 & 14805.5\\\\\n\t 15016 & ATHENS HEALTH AND REHABILITATION LLC        & 611 WEST MARKET STREET,ATHENS,AL,35611        & AL & Limestone County, AL & For profit - Corporation & 149 & 125.2 & N & ATHENS HEALTH AND REHABILITATION LLC & ⋯ & 8/29/2019 & 20 & 7/19/2018 & 28 & 6/1/2017  & 20 & 0 &     0 & 0.8402685 &     0.0\\\\\n\\end{tabular}\n",
            "text/markdown": "\nA tibble: 6 × 35\n\n| FPN &lt;chr&gt; | ProviderName &lt;chr&gt; | ProviderAddress &lt;chr&gt; | State &lt;chr&gt; | ProviderCounty &lt;chr&gt; | OwnershipType &lt;chr&gt; | NumberBeds &lt;dbl&gt; | AverageResidentsperDay &lt;dbl&gt; | ProviderInHospital &lt;chr&gt; | BusinessName &lt;chr&gt; | ⋯ ⋯ | RatingCycle1_Date &lt;chr&gt; | RatingCycle1_HealthDeficiencyScore &lt;chr&gt; | RatingCycle2_Date &lt;chr&gt; | RatingCycle2_HealthDeficiencyScore &lt;chr&gt; | RatingCycle3_Date &lt;chr&gt; | RatingCycle3_HealthDeficiencyScore &lt;chr&gt; | NumberofFines &lt;dbl&gt; | TotalAmountFines &lt;dbl&gt; | Capacity &lt;dbl&gt; | AvgFine &lt;dbl&gt; |\n|---|---|---|---|---|---|---|---|---|---|---|---|---|---|---|---|---|---|---|---|---|\n| 15009 | BURNS NURSING HOME, INC.                    | 701 MONROE STREET NW,RUSSELLVILLE,AL,35653    | AL | Franklin County, AL  | For profit - Corporation |  57 |  51.8 | N | BURNS NURSING HOME, INC.             | ⋯ | 8/21/2019 | 8  | 8/1/2018  | 4  | 6/22/2017 | 0  | 0 |     0 | 0.9087719 |     0.0 |\n| 15010 | COOSA VALLEY HEALTHCARE CENTER              | 260 WEST WALNUT STREET,SYLACAUGA,AL,35150     | AL | Talladega County, AL | For profit - Corporation |  85 |  72.1 | N | COOSA VALLEY HEALTHCARE CENTER LLC   | ⋯ | 6/13/2019 | 4  | 6/7/2018  | 32 | 4/6/2017  | 36 | 1 |   650 | 0.8482353 |   650.0 |\n| 15012 | HIGHLANDS HEALTH AND REHAB                  | 380 WOODS COVE ROAD,SCOTTSBORO,AL,35768       | AL | Jackson County, AL   | Government - County      |  50 |  41.3 | Y | JACKSON COUNTY HEALTH CARE AUTHORITY | ⋯ | 6/6/2019  | 20 | 5/3/2018  | 40 | 3/16/2017 | 44 | 0 |     0 | 0.8260000 |     0.0 |\n| 15014 | EASTVIEW REHABILITATION &amp; HEALTHCARE CENTER | 7755 FOURTH AVENUE SOUTH,BIRMINGHAM,AL,35206  | AL | Jefferson County, AL | For profit - Individual  |  92 |  71.8 | N | BALL HEALTHCARE EASTVIEW INC         | ⋯ | 2/20/2020 | 4  | 1/24/2019 | 20 | 1/25/2018 | 24 | 0 |     0 | 0.7804348 |     0.0 |\n| 15015 | PLANTATION MANOR NURSING HOME               | 6450 OLD TUSCALOOSA HIGHWAY,MC CALLA,AL,35111 | AL | Jefferson County, AL | For profit - Individual  | 103 |  83.8 | N | C &amp; G HEALTHCARE SERVICES, INC.      | ⋯ | 3/5/2020  | 20 | 5/2/2019  | 4  | 4/19/2018 | 28 | 2 | 29611 | 0.8135922 | 14805.5 |\n| 15016 | ATHENS HEALTH AND REHABILITATION LLC        | 611 WEST MARKET STREET,ATHENS,AL,35611        | AL | Limestone County, AL | For profit - Corporation | 149 | 125.2 | N | ATHENS HEALTH AND REHABILITATION LLC | ⋯ | 8/29/2019 | 20 | 7/19/2018 | 28 | 6/1/2017  | 20 | 0 |     0 | 0.8402685 |     0.0 |\n\n",
            "text/html": [
              "<table class=\"dataframe\">\n",
              "<caption>A tibble: 6 × 35</caption>\n",
              "<thead>\n",
              "\t<tr><th scope=col>FPN</th><th scope=col>ProviderName</th><th scope=col>ProviderAddress</th><th scope=col>State</th><th scope=col>ProviderCounty</th><th scope=col>OwnershipType</th><th scope=col>NumberBeds</th><th scope=col>AverageResidentsperDay</th><th scope=col>ProviderInHospital</th><th scope=col>BusinessName</th><th scope=col>⋯</th><th scope=col>RatingCycle1_Date</th><th scope=col>RatingCycle1_HealthDeficiencyScore</th><th scope=col>RatingCycle2_Date</th><th scope=col>RatingCycle2_HealthDeficiencyScore</th><th scope=col>RatingCycle3_Date</th><th scope=col>RatingCycle3_HealthDeficiencyScore</th><th scope=col>NumberofFines</th><th scope=col>TotalAmountFines</th><th scope=col>Capacity</th><th scope=col>AvgFine</th></tr>\n",
              "\t<tr><th scope=col>&lt;chr&gt;</th><th scope=col>&lt;chr&gt;</th><th scope=col>&lt;chr&gt;</th><th scope=col>&lt;chr&gt;</th><th scope=col>&lt;chr&gt;</th><th scope=col>&lt;chr&gt;</th><th scope=col>&lt;dbl&gt;</th><th scope=col>&lt;dbl&gt;</th><th scope=col>&lt;chr&gt;</th><th scope=col>&lt;chr&gt;</th><th scope=col>⋯</th><th scope=col>&lt;chr&gt;</th><th scope=col>&lt;chr&gt;</th><th scope=col>&lt;chr&gt;</th><th scope=col>&lt;chr&gt;</th><th scope=col>&lt;chr&gt;</th><th scope=col>&lt;chr&gt;</th><th scope=col>&lt;dbl&gt;</th><th scope=col>&lt;dbl&gt;</th><th scope=col>&lt;dbl&gt;</th><th scope=col>&lt;dbl&gt;</th></tr>\n",
              "</thead>\n",
              "<tbody>\n",
              "\t<tr><td>15009</td><td>BURNS NURSING HOME, INC.                   </td><td>701 MONROE STREET NW,RUSSELLVILLE,AL,35653   </td><td>AL</td><td>Franklin County, AL </td><td>For profit - Corporation</td><td> 57</td><td> 51.8</td><td>N</td><td>BURNS NURSING HOME, INC.            </td><td>⋯</td><td>8/21/2019</td><td>8 </td><td>8/1/2018 </td><td>4 </td><td>6/22/2017</td><td>0 </td><td>0</td><td>    0</td><td>0.9087719</td><td>    0.0</td></tr>\n",
              "\t<tr><td>15010</td><td>COOSA VALLEY HEALTHCARE CENTER             </td><td>260 WEST WALNUT STREET,SYLACAUGA,AL,35150    </td><td>AL</td><td>Talladega County, AL</td><td>For profit - Corporation</td><td> 85</td><td> 72.1</td><td>N</td><td>COOSA VALLEY HEALTHCARE CENTER LLC  </td><td>⋯</td><td>6/13/2019</td><td>4 </td><td>6/7/2018 </td><td>32</td><td>4/6/2017 </td><td>36</td><td>1</td><td>  650</td><td>0.8482353</td><td>  650.0</td></tr>\n",
              "\t<tr><td>15012</td><td>HIGHLANDS HEALTH AND REHAB                 </td><td>380 WOODS COVE ROAD,SCOTTSBORO,AL,35768      </td><td>AL</td><td>Jackson County, AL  </td><td>Government - County     </td><td> 50</td><td> 41.3</td><td>Y</td><td>JACKSON COUNTY HEALTH CARE AUTHORITY</td><td>⋯</td><td>6/6/2019 </td><td>20</td><td>5/3/2018 </td><td>40</td><td>3/16/2017</td><td>44</td><td>0</td><td>    0</td><td>0.8260000</td><td>    0.0</td></tr>\n",
              "\t<tr><td>15014</td><td>EASTVIEW REHABILITATION &amp; HEALTHCARE CENTER</td><td>7755 FOURTH AVENUE SOUTH,BIRMINGHAM,AL,35206 </td><td>AL</td><td>Jefferson County, AL</td><td>For profit - Individual </td><td> 92</td><td> 71.8</td><td>N</td><td><span style=white-space:pre-wrap>BALL HEALTHCARE EASTVIEW INC        </span></td><td>⋯</td><td>2/20/2020</td><td>4 </td><td>1/24/2019</td><td>20</td><td>1/25/2018</td><td>24</td><td>0</td><td><span style=white-space:pre-wrap>    0</span></td><td>0.7804348</td><td><span style=white-space:pre-wrap>    0.0</span></td></tr>\n",
              "\t<tr><td>15015</td><td><span style=white-space:pre-wrap>PLANTATION MANOR NURSING HOME              </span></td><td>6450 OLD TUSCALOOSA HIGHWAY,MC CALLA,AL,35111</td><td>AL</td><td>Jefferson County, AL</td><td>For profit - Individual </td><td>103</td><td> 83.8</td><td>N</td><td><span style=white-space:pre-wrap>C &amp; G HEALTHCARE SERVICES, INC.     </span></td><td>⋯</td><td>3/5/2020 </td><td>20</td><td>5/2/2019 </td><td>4 </td><td>4/19/2018</td><td>28</td><td>2</td><td>29611</td><td>0.8135922</td><td>14805.5</td></tr>\n",
              "\t<tr><td>15016</td><td>ATHENS HEALTH AND REHABILITATION LLC       </td><td>611 WEST MARKET STREET,ATHENS,AL,35611       </td><td>AL</td><td>Limestone County, AL</td><td>For profit - Corporation</td><td>149</td><td>125.2</td><td>N</td><td>ATHENS HEALTH AND REHABILITATION LLC</td><td>⋯</td><td>8/29/2019</td><td>20</td><td>7/19/2018</td><td>28</td><td>6/1/2017 </td><td>20</td><td>0</td><td>    0</td><td>0.8402685</td><td>    0.0</td></tr>\n",
              "</tbody>\n",
              "</table>\n"
            ]
          },
          "metadata": {
            "tags": []
          }
        }
      ]
    },
    {
      "cell_type": "markdown",
      "metadata": {
        "id": "X3C0-jK62794"
      },
      "source": [
        "Next, consider the code that provides a summary of the total amount of fines across the entrie state of MN and WI.  The <strong>message()</strong> function is unique to Colab and forces printing to the screen."
      ]
    },
    {
      "cell_type": "code",
      "metadata": {
        "id": "bUfIa8ha2-Lx",
        "colab": {
          "base_uri": "https://localhost:8080/",
          "height": 155
        },
        "outputId": "d86cd426-6e6d-426f-85f2-0255aa8bf0c4"
      },
      "source": [
        "(\r\n",
        " NursingHomes\r\n",
        " %>% filter(State == \"MN\" | State == \"WI\")\r\n",
        " %>% group_by(State)\r\n",
        " %>% summarize(TotalFines = sum(TotalAmountFines))\r\n",
        " ) -> MNandWI_Fines\r\n",
        "\r\n",
        "MNandWI_Fines\r\n",
        "\r\n",
        "#message(\"The total amount of fines for nursing homes in MN is \", MNandWI_Fines[1,2],\".\")\r\n",
        "#message(\"The total amount of fines for nursing homes is WI is \", MNandWI_Fines[2,2],\".\")\r\n",
        "\r\n",
        "\r\n"
      ],
      "execution_count": 24,
      "outputs": [
        {
          "output_type": "display_data",
          "data": {
            "text/plain": [
              "  State TotalFines\n",
              "1 MN    2033069   \n",
              "2 WI    3305504   "
            ],
            "text/latex": "A tibble: 2 × 2\n\\begin{tabular}{r|ll}\n  & State & TotalFines\\\\\n  & <chr> & <dbl>\\\\\n\\hline\n\t1 & MN & 2033069\\\\\n\t2 & WI & 3305504\\\\\n\\end{tabular}\n",
            "text/markdown": "\nA tibble: 2 × 2\n\n| <!--/--> | State &lt;chr&gt; | TotalFines &lt;dbl&gt; |\n|---|---|---|\n| 1 | MN | 2033069 |\n| 2 | WI | 3305504 |\n\n",
            "text/html": [
              "<table class=\"dataframe\">\n",
              "<caption>A tibble: 2 × 2</caption>\n",
              "<thead>\n",
              "\t<tr><th></th><th scope=col>State</th><th scope=col>TotalFines</th></tr>\n",
              "\t<tr><th></th><th scope=col>&lt;chr&gt;</th><th scope=col>&lt;dbl&gt;</th></tr>\n",
              "</thead>\n",
              "<tbody>\n",
              "\t<tr><th scope=row>1</th><td>MN</td><td>2033069</td></tr>\n",
              "\t<tr><th scope=row>2</th><td>WI</td><td>3305504</td></tr>\n",
              "</tbody>\n",
              "</table>\n"
            ]
          },
          "metadata": {
            "tags": []
          }
        }
      ]
    },
    {
      "cell_type": "markdown",
      "metadata": {
        "id": "bbnSizHMpgfK"
      },
      "source": [
        "Consider the <strong>dollar()</strong> function in the <strong>scales</strong> package.  The dollar() function will improve formatting in this situation.  "
      ]
    },
    {
      "cell_type": "code",
      "metadata": {
        "id": "rnpyfisXplmf",
        "colab": {
          "base_uri": "https://localhost:8080/"
        },
        "outputId": "f348e1ea-77c8-408d-94b4-408ce5abc08e"
      },
      "source": [
        "library(scales)"
      ],
      "execution_count": 25,
      "outputs": [
        {
          "output_type": "stream",
          "text": [
            "\n",
            "Attaching package: ‘scales’\n",
            "\n",
            "\n",
            "The following object is masked from ‘package:purrr’:\n",
            "\n",
            "    discard\n",
            "\n",
            "\n",
            "The following object is masked from ‘package:readr’:\n",
            "\n",
            "    col_factor\n",
            "\n",
            "\n"
          ],
          "name": "stderr"
        }
      ]
    },
    {
      "cell_type": "markdown",
      "metadata": {
        "id": "Smi5WV4fpo3v"
      },
      "source": [
        "The dollar() function must take a numeric data type.  In this situation, to remove the data frame structure, use either <strong>unlist()</strong> or <strong>as.numeric</strong>.  Each is used here."
      ]
    },
    {
      "cell_type": "code",
      "metadata": {
        "colab": {
          "base_uri": "https://localhost:8080/"
        },
        "id": "sM8YlzxHpo-H",
        "outputId": "8dec4a09-01a1-427f-a78b-e5d0e61b92de"
      },
      "source": [
        "(\r\n",
        " NursingHomes\r\n",
        " %>% filter(State == \"MN\" | State == \"WI\")\r\n",
        " %>% group_by(State)\r\n",
        " %>% summarize(TotalFines = sum(TotalAmountFines))\r\n",
        " ) -> MNandWI_Fines\r\n",
        "\r\n",
        "message(\"The total amount of fines for nursing homes in MN is \", dollar(unlist(MNandWI_Fines[1,2])),\".\")\r\n",
        "message(\"The total amount of fines for nursing homes is WI is \", dollar(as.numeric(MNandWI_Fines[2,2])),\".\")\r\n",
        "\r\n"
      ],
      "execution_count": 26,
      "outputs": [
        {
          "output_type": "stream",
          "text": [
            "The total amount of fines for nursing homes in MN is $2,033,069.\n",
            "\n",
            "The total amount of fines for nursing homes is WI is $3,305,504.\n",
            "\n"
          ],
          "name": "stderr"
        }
      ]
    },
    {
      "cell_type": "markdown",
      "metadata": {
        "id": "_fHhZGodjJB5"
      },
      "source": [
        "Next, let us consider summaries based on OwnershipType.  OwnershipType is a field that is compound in nature, i.e. contains two different bits of information seperated by a dash.    To pull this informaton apart, the <strong>str_split()</strong> will be used inside the mutate() function.\r\n"
      ]
    },
    {
      "cell_type": "code",
      "metadata": {
        "colab": {
          "base_uri": "https://localhost:8080/",
          "height": 275
        },
        "id": "0sE-xEqaUCxN",
        "outputId": "439aa647-c28a-4983-fdff-ba2588070fbf"
      },
      "source": [
        "(\r\n",
        " NursingHomes\r\n",
        " %>% select(OwnershipType)\r\n",
        " %>% head()\r\n",
        ")"
      ],
      "execution_count": 27,
      "outputs": [
        {
          "output_type": "display_data",
          "data": {
            "text/plain": [
              "  OwnershipType           \n",
              "1 For profit - Corporation\n",
              "2 For profit - Corporation\n",
              "3 Government - County     \n",
              "4 For profit - Individual \n",
              "5 For profit - Individual \n",
              "6 For profit - Corporation"
            ],
            "text/latex": "A tibble: 6 × 1\n\\begin{tabular}{l}\n OwnershipType\\\\\n <chr>\\\\\n\\hline\n\t For profit - Corporation\\\\\n\t For profit - Corporation\\\\\n\t Government - County     \\\\\n\t For profit - Individual \\\\\n\t For profit - Individual \\\\\n\t For profit - Corporation\\\\\n\\end{tabular}\n",
            "text/markdown": "\nA tibble: 6 × 1\n\n| OwnershipType &lt;chr&gt; |\n|---|\n| For profit - Corporation |\n| For profit - Corporation |\n| Government - County      |\n| For profit - Individual  |\n| For profit - Individual  |\n| For profit - Corporation |\n\n",
            "text/html": [
              "<table class=\"dataframe\">\n",
              "<caption>A tibble: 6 × 1</caption>\n",
              "<thead>\n",
              "\t<tr><th scope=col>OwnershipType</th></tr>\n",
              "\t<tr><th scope=col>&lt;chr&gt;</th></tr>\n",
              "</thead>\n",
              "<tbody>\n",
              "\t<tr><td>For profit - Corporation</td></tr>\n",
              "\t<tr><td>For profit - Corporation</td></tr>\n",
              "\t<tr><td>Government - County     </td></tr>\n",
              "\t<tr><td>For profit - Individual </td></tr>\n",
              "\t<tr><td>For profit - Individual </td></tr>\n",
              "\t<tr><td>For profit - Corporation</td></tr>\n",
              "</tbody>\n",
              "</table>\n"
            ]
          },
          "metadata": {
            "tags": []
          }
        }
      ]
    },
    {
      "cell_type": "markdown",
      "metadata": {
        "id": "ivXXeF0-URYC"
      },
      "source": [
        "The syntax for the <strong>str_split()</strong> function is provided here.\r\n",
        "\r\n",
        "<p align='center'>\r\n",
        "<font size='+2'>str_split(<i>field name</i>, <i>fixed( character )</i> , <i>n =   </i> )</font>\r\n",
        "</p>\r\n",
        "\r\n",
        "\r\n",
        "The output produced by the str_split() function is a list.  This list is contained <strong>within</strong> the dataframe. \r\n",
        "\r\n",
        "<p align='center'><img src=\"https://drive.google.com/uc?export=view&id=1ar07bxYXT2IbXD-Or-2gWyf6nTrDMT8S\" width='75%' height='75%'></p>"
      ]
    },
    {
      "cell_type": "code",
      "metadata": {
        "colab": {
          "base_uri": "https://localhost:8080/",
          "height": 555
        },
        "id": "tR-zv7PRtUB-",
        "outputId": "68965d55-b550-47f2-9785-a55ad1e924f2"
      },
      "source": [
        "(\r\n",
        " NursingHomes\r\n",
        " %>% mutate(OwnershipType_Split = str_split(OwnershipType, fixed(\"-\"),n=2))\r\n",
        ") -> NursingHomes_OwnershipSplit\r\n",
        "\r\n",
        "head(NursingHomes_OwnershipSplit)"
      ],
      "execution_count": 28,
      "outputs": [
        {
          "output_type": "display_data",
          "data": {
            "text/plain": [
              "  FPN   ProviderName                               \n",
              "1 15009 BURNS NURSING HOME, INC.                   \n",
              "2 15010 COOSA VALLEY HEALTHCARE CENTER             \n",
              "3 15012 HIGHLANDS HEALTH AND REHAB                 \n",
              "4 15014 EASTVIEW REHABILITATION & HEALTHCARE CENTER\n",
              "5 15015 PLANTATION MANOR NURSING HOME              \n",
              "6 15016 ATHENS HEALTH AND REHABILITATION LLC       \n",
              "  ProviderAddress                               State ProviderCounty      \n",
              "1 701 MONROE STREET NW,RUSSELLVILLE,AL,35653    AL    Franklin County, AL \n",
              "2 260 WEST WALNUT STREET,SYLACAUGA,AL,35150     AL    Talladega County, AL\n",
              "3 380 WOODS COVE ROAD,SCOTTSBORO,AL,35768       AL    Jackson County, AL  \n",
              "4 7755 FOURTH AVENUE SOUTH,BIRMINGHAM,AL,35206  AL    Jefferson County, AL\n",
              "5 6450 OLD TUSCALOOSA HIGHWAY,MC CALLA,AL,35111 AL    Jefferson County, AL\n",
              "6 611 WEST MARKET STREET,ATHENS,AL,35611        AL    Limestone County, AL\n",
              "  OwnershipType            NumberBeds AverageResidentsperDay ProviderInHospital\n",
              "1 For profit - Corporation  57         51.8                  N                 \n",
              "2 For profit - Corporation  85         72.1                  N                 \n",
              "3 Government - County       50         41.3                  Y                 \n",
              "4 For profit - Individual   92         71.8                  N                 \n",
              "5 For profit - Individual  103         83.8                  N                 \n",
              "6 For profit - Corporation 149        125.2                  N                 \n",
              "  BusinessName                         ⋯ RatingCycle1_HealthDeficiencyScore\n",
              "1 BURNS NURSING HOME, INC.             ⋯ 8                                 \n",
              "2 COOSA VALLEY HEALTHCARE CENTER LLC   ⋯ 4                                 \n",
              "3 JACKSON COUNTY HEALTH CARE AUTHORITY ⋯ 20                                \n",
              "4 BALL HEALTHCARE EASTVIEW INC         ⋯ 4                                 \n",
              "5 C & G HEALTHCARE SERVICES, INC.      ⋯ 20                                \n",
              "6 ATHENS HEALTH AND REHABILITATION LLC ⋯ 20                                \n",
              "  RatingCycle2_Date RatingCycle2_HealthDeficiencyScore RatingCycle3_Date\n",
              "1 8/1/2018          4                                  6/22/2017        \n",
              "2 6/7/2018          32                                 4/6/2017         \n",
              "3 5/3/2018          40                                 3/16/2017        \n",
              "4 1/24/2019         20                                 1/25/2018        \n",
              "5 5/2/2019          4                                  4/19/2018        \n",
              "6 7/19/2018         28                                 6/1/2017         \n",
              "  RatingCycle3_HealthDeficiencyScore NumberofFines TotalAmountFines Capacity \n",
              "1 0                                  0                 0            0.9087719\n",
              "2 36                                 1               650            0.8482353\n",
              "3 44                                 0                 0            0.8260000\n",
              "4 24                                 0                 0            0.7804348\n",
              "5 28                                 2             29611            0.8135922\n",
              "6 20                                 0                 0            0.8402685\n",
              "  AvgFine OwnershipType_Split       \n",
              "1     0.0 For profit  ,  Corporation\n",
              "2   650.0 For profit  ,  Corporation\n",
              "3     0.0 Government ,  County      \n",
              "4     0.0 For profit ,  Individual  \n",
              "5 14805.5 For profit ,  Individual  \n",
              "6     0.0 For profit  ,  Corporation"
            ],
            "text/latex": "A tibble: 6 × 36\n\\begin{tabular}{lllllllllllllllllllll}\n FPN & ProviderName & ProviderAddress & State & ProviderCounty & OwnershipType & NumberBeds & AverageResidentsperDay & ProviderInHospital & BusinessName & ⋯ & RatingCycle1\\_HealthDeficiencyScore & RatingCycle2\\_Date & RatingCycle2\\_HealthDeficiencyScore & RatingCycle3\\_Date & RatingCycle3\\_HealthDeficiencyScore & NumberofFines & TotalAmountFines & Capacity & AvgFine & OwnershipType\\_Split\\\\\n <chr> & <chr> & <chr> & <chr> & <chr> & <chr> & <dbl> & <dbl> & <chr> & <chr> & ⋯ & <chr> & <chr> & <chr> & <chr> & <chr> & <dbl> & <dbl> & <dbl> & <dbl> & <list>\\\\\n\\hline\n\t 15009 & BURNS NURSING HOME, INC.                    & 701 MONROE STREET NW,RUSSELLVILLE,AL,35653    & AL & Franklin County, AL  & For profit - Corporation &  57 &  51.8 & N & BURNS NURSING HOME, INC.             & ⋯ & 8  & 8/1/2018  & 4  & 6/22/2017 & 0  & 0 &     0 & 0.9087719 &     0.0 & For profit  ,  Corporation\\\\\n\t 15010 & COOSA VALLEY HEALTHCARE CENTER              & 260 WEST WALNUT STREET,SYLACAUGA,AL,35150     & AL & Talladega County, AL & For profit - Corporation &  85 &  72.1 & N & COOSA VALLEY HEALTHCARE CENTER LLC   & ⋯ & 4  & 6/7/2018  & 32 & 4/6/2017  & 36 & 1 &   650 & 0.8482353 &   650.0 & For profit  ,  Corporation\\\\\n\t 15012 & HIGHLANDS HEALTH AND REHAB                  & 380 WOODS COVE ROAD,SCOTTSBORO,AL,35768       & AL & Jackson County, AL   & Government - County      &  50 &  41.3 & Y & JACKSON COUNTY HEALTH CARE AUTHORITY & ⋯ & 20 & 5/3/2018  & 40 & 3/16/2017 & 44 & 0 &     0 & 0.8260000 &     0.0 & Government ,  County    \\\\\n\t 15014 & EASTVIEW REHABILITATION \\& HEALTHCARE CENTER & 7755 FOURTH AVENUE SOUTH,BIRMINGHAM,AL,35206  & AL & Jefferson County, AL & For profit - Individual  &  92 &  71.8 & N & BALL HEALTHCARE EASTVIEW INC         & ⋯ & 4  & 1/24/2019 & 20 & 1/25/2018 & 24 & 0 &     0 & 0.7804348 &     0.0 & For profit ,  Individual\\\\\n\t 15015 & PLANTATION MANOR NURSING HOME               & 6450 OLD TUSCALOOSA HIGHWAY,MC CALLA,AL,35111 & AL & Jefferson County, AL & For profit - Individual  & 103 &  83.8 & N & C \\& G HEALTHCARE SERVICES, INC.      & ⋯ & 20 & 5/2/2019  & 4  & 4/19/2018 & 28 & 2 & 29611 & 0.8135922 & 14805.5 & For profit ,  Individual\\\\\n\t 15016 & ATHENS HEALTH AND REHABILITATION LLC        & 611 WEST MARKET STREET,ATHENS,AL,35611        & AL & Limestone County, AL & For profit - Corporation & 149 & 125.2 & N & ATHENS HEALTH AND REHABILITATION LLC & ⋯ & 20 & 7/19/2018 & 28 & 6/1/2017  & 20 & 0 &     0 & 0.8402685 &     0.0 & For profit  ,  Corporation\\\\\n\\end{tabular}\n",
            "text/markdown": "\nA tibble: 6 × 36\n\n| FPN &lt;chr&gt; | ProviderName &lt;chr&gt; | ProviderAddress &lt;chr&gt; | State &lt;chr&gt; | ProviderCounty &lt;chr&gt; | OwnershipType &lt;chr&gt; | NumberBeds &lt;dbl&gt; | AverageResidentsperDay &lt;dbl&gt; | ProviderInHospital &lt;chr&gt; | BusinessName &lt;chr&gt; | ⋯ ⋯ | RatingCycle1_HealthDeficiencyScore &lt;chr&gt; | RatingCycle2_Date &lt;chr&gt; | RatingCycle2_HealthDeficiencyScore &lt;chr&gt; | RatingCycle3_Date &lt;chr&gt; | RatingCycle3_HealthDeficiencyScore &lt;chr&gt; | NumberofFines &lt;dbl&gt; | TotalAmountFines &lt;dbl&gt; | Capacity &lt;dbl&gt; | AvgFine &lt;dbl&gt; | OwnershipType_Split &lt;list&gt; |\n|---|---|---|---|---|---|---|---|---|---|---|---|---|---|---|---|---|---|---|---|---|\n| 15009 | BURNS NURSING HOME, INC.                    | 701 MONROE STREET NW,RUSSELLVILLE,AL,35653    | AL | Franklin County, AL  | For profit - Corporation |  57 |  51.8 | N | BURNS NURSING HOME, INC.             | ⋯ | 8  | 8/1/2018  | 4  | 6/22/2017 | 0  | 0 |     0 | 0.9087719 |     0.0 | For profit  ,  Corporation |\n| 15010 | COOSA VALLEY HEALTHCARE CENTER              | 260 WEST WALNUT STREET,SYLACAUGA,AL,35150     | AL | Talladega County, AL | For profit - Corporation |  85 |  72.1 | N | COOSA VALLEY HEALTHCARE CENTER LLC   | ⋯ | 4  | 6/7/2018  | 32 | 4/6/2017  | 36 | 1 |   650 | 0.8482353 |   650.0 | For profit  ,  Corporation |\n| 15012 | HIGHLANDS HEALTH AND REHAB                  | 380 WOODS COVE ROAD,SCOTTSBORO,AL,35768       | AL | Jackson County, AL   | Government - County      |  50 |  41.3 | Y | JACKSON COUNTY HEALTH CARE AUTHORITY | ⋯ | 20 | 5/3/2018  | 40 | 3/16/2017 | 44 | 0 |     0 | 0.8260000 |     0.0 | Government ,  County     |\n| 15014 | EASTVIEW REHABILITATION &amp; HEALTHCARE CENTER | 7755 FOURTH AVENUE SOUTH,BIRMINGHAM,AL,35206  | AL | Jefferson County, AL | For profit - Individual  |  92 |  71.8 | N | BALL HEALTHCARE EASTVIEW INC         | ⋯ | 4  | 1/24/2019 | 20 | 1/25/2018 | 24 | 0 |     0 | 0.7804348 |     0.0 | For profit ,  Individual |\n| 15015 | PLANTATION MANOR NURSING HOME               | 6450 OLD TUSCALOOSA HIGHWAY,MC CALLA,AL,35111 | AL | Jefferson County, AL | For profit - Individual  | 103 |  83.8 | N | C &amp; G HEALTHCARE SERVICES, INC.      | ⋯ | 20 | 5/2/2019  | 4  | 4/19/2018 | 28 | 2 | 29611 | 0.8135922 | 14805.5 | For profit ,  Individual |\n| 15016 | ATHENS HEALTH AND REHABILITATION LLC        | 611 WEST MARKET STREET,ATHENS,AL,35611        | AL | Limestone County, AL | For profit - Corporation | 149 | 125.2 | N | ATHENS HEALTH AND REHABILITATION LLC | ⋯ | 20 | 7/19/2018 | 28 | 6/1/2017  | 20 | 0 |     0 | 0.8402685 |     0.0 | For profit  ,  Corporation |\n\n",
            "text/html": [
              "<table class=\"dataframe\">\n",
              "<caption>A tibble: 6 × 36</caption>\n",
              "<thead>\n",
              "\t<tr><th scope=col>FPN</th><th scope=col>ProviderName</th><th scope=col>ProviderAddress</th><th scope=col>State</th><th scope=col>ProviderCounty</th><th scope=col>OwnershipType</th><th scope=col>NumberBeds</th><th scope=col>AverageResidentsperDay</th><th scope=col>ProviderInHospital</th><th scope=col>BusinessName</th><th scope=col>⋯</th><th scope=col>RatingCycle1_HealthDeficiencyScore</th><th scope=col>RatingCycle2_Date</th><th scope=col>RatingCycle2_HealthDeficiencyScore</th><th scope=col>RatingCycle3_Date</th><th scope=col>RatingCycle3_HealthDeficiencyScore</th><th scope=col>NumberofFines</th><th scope=col>TotalAmountFines</th><th scope=col>Capacity</th><th scope=col>AvgFine</th><th scope=col>OwnershipType_Split</th></tr>\n",
              "\t<tr><th scope=col>&lt;chr&gt;</th><th scope=col>&lt;chr&gt;</th><th scope=col>&lt;chr&gt;</th><th scope=col>&lt;chr&gt;</th><th scope=col>&lt;chr&gt;</th><th scope=col>&lt;chr&gt;</th><th scope=col>&lt;dbl&gt;</th><th scope=col>&lt;dbl&gt;</th><th scope=col>&lt;chr&gt;</th><th scope=col>&lt;chr&gt;</th><th scope=col>⋯</th><th scope=col>&lt;chr&gt;</th><th scope=col>&lt;chr&gt;</th><th scope=col>&lt;chr&gt;</th><th scope=col>&lt;chr&gt;</th><th scope=col>&lt;chr&gt;</th><th scope=col>&lt;dbl&gt;</th><th scope=col>&lt;dbl&gt;</th><th scope=col>&lt;dbl&gt;</th><th scope=col>&lt;dbl&gt;</th><th scope=col>&lt;list&gt;</th></tr>\n",
              "</thead>\n",
              "<tbody>\n",
              "\t<tr><td>15009</td><td>BURNS NURSING HOME, INC.                   </td><td>701 MONROE STREET NW,RUSSELLVILLE,AL,35653   </td><td>AL</td><td>Franklin County, AL </td><td>For profit - Corporation</td><td> 57</td><td> 51.8</td><td>N</td><td>BURNS NURSING HOME, INC.            </td><td>⋯</td><td>8 </td><td>8/1/2018 </td><td>4 </td><td>6/22/2017</td><td>0 </td><td>0</td><td>    0</td><td>0.9087719</td><td>    0.0</td><td>For profit  ,  Corporation</td></tr>\n",
              "\t<tr><td>15010</td><td>COOSA VALLEY HEALTHCARE CENTER             </td><td>260 WEST WALNUT STREET,SYLACAUGA,AL,35150    </td><td>AL</td><td>Talladega County, AL</td><td>For profit - Corporation</td><td> 85</td><td> 72.1</td><td>N</td><td>COOSA VALLEY HEALTHCARE CENTER LLC  </td><td>⋯</td><td>4 </td><td>6/7/2018 </td><td>32</td><td>4/6/2017 </td><td>36</td><td>1</td><td>  650</td><td>0.8482353</td><td>  650.0</td><td>For profit  ,  Corporation</td></tr>\n",
              "\t<tr><td>15012</td><td>HIGHLANDS HEALTH AND REHAB                 </td><td>380 WOODS COVE ROAD,SCOTTSBORO,AL,35768      </td><td>AL</td><td>Jackson County, AL  </td><td>Government - County     </td><td> 50</td><td> 41.3</td><td>Y</td><td>JACKSON COUNTY HEALTH CARE AUTHORITY</td><td>⋯</td><td>20</td><td>5/3/2018 </td><td>40</td><td>3/16/2017</td><td>44</td><td>0</td><td>    0</td><td>0.8260000</td><td>    0.0</td><td>Government ,  County    </td></tr>\n",
              "\t<tr><td>15014</td><td>EASTVIEW REHABILITATION &amp; HEALTHCARE CENTER</td><td>7755 FOURTH AVENUE SOUTH,BIRMINGHAM,AL,35206 </td><td>AL</td><td>Jefferson County, AL</td><td>For profit - Individual </td><td> 92</td><td> 71.8</td><td>N</td><td><span style=white-space:pre-wrap>BALL HEALTHCARE EASTVIEW INC        </span></td><td>⋯</td><td>4 </td><td>1/24/2019</td><td>20</td><td>1/25/2018</td><td>24</td><td>0</td><td><span style=white-space:pre-wrap>    0</span></td><td>0.7804348</td><td><span style=white-space:pre-wrap>    0.0</span></td><td><span style=white-space:pre-wrap>For profit ,  Individual</span></td></tr>\n",
              "\t<tr><td>15015</td><td><span style=white-space:pre-wrap>PLANTATION MANOR NURSING HOME              </span></td><td>6450 OLD TUSCALOOSA HIGHWAY,MC CALLA,AL,35111</td><td>AL</td><td>Jefferson County, AL</td><td>For profit - Individual </td><td>103</td><td> 83.8</td><td>N</td><td><span style=white-space:pre-wrap>C &amp; G HEALTHCARE SERVICES, INC.     </span></td><td>⋯</td><td>20</td><td>5/2/2019 </td><td>4 </td><td>4/19/2018</td><td>28</td><td>2</td><td>29611</td><td>0.8135922</td><td>14805.5</td><td><span style=white-space:pre-wrap>For profit ,  Individual</span></td></tr>\n",
              "\t<tr><td>15016</td><td>ATHENS HEALTH AND REHABILITATION LLC       </td><td>611 WEST MARKET STREET,ATHENS,AL,35611       </td><td>AL</td><td>Limestone County, AL</td><td>For profit - Corporation</td><td>149</td><td>125.2</td><td>N</td><td>ATHENS HEALTH AND REHABILITATION LLC</td><td>⋯</td><td>20</td><td>7/19/2018</td><td>28</td><td>6/1/2017 </td><td>20</td><td>0</td><td>    0</td><td>0.8402685</td><td>    0.0</td><td>For profit  ,  Corporation</td></tr>\n",
              "</tbody>\n",
              "</table>\n"
            ]
          },
          "metadata": {
            "tags": []
          }
        }
      ]
    },
    {
      "cell_type": "markdown",
      "metadata": {
        "id": "8px8ONOPPVKu"
      },
      "source": [
        "The following code will split the list created by str_split() into separate fields in the dataframe."
      ]
    },
    {
      "cell_type": "markdown",
      "metadata": {
        "id": "sCoxrOaOQY5i"
      },
      "source": [
        "<p align='center'><img src=\"https://drive.google.com/uc?export=view&id=1OHRxCGKU0AByLB-uum9iq6jgy4bbHP9p\" width='75%' height='75%'></p>"
      ]
    },
    {
      "cell_type": "code",
      "metadata": {
        "id": "5TS0QsJEQZBG"
      },
      "source": [
        "(\r\n",
        " NursingHomes\r\n",
        " %>% mutate(OwnershipType_Split = str_split(OwnershipType, fixed(\"-\"),n=2))\r\n",
        " %>% mutate(ProfitType = map_chr(OwnershipType_Split, 1), CorporationType = map_chr(OwnershipType_Split,2))\r\n",
        " ) -> NursingHomes_OwnershipSplit\r\n"
      ],
      "execution_count": 33,
      "outputs": []
    },
    {
      "cell_type": "markdown",
      "metadata": {
        "id": "3YdHJhTETS38"
      },
      "source": [
        "Next, identify the levels for ProfitType field."
      ]
    },
    {
      "cell_type": "code",
      "metadata": {
        "colab": {
          "base_uri": "https://localhost:8080/",
          "height": 185
        },
        "id": "XyV3uB2FTTBr",
        "outputId": "d4c0db50-66c3-4e3c-bf0a-27fac415a51b"
      },
      "source": [
        "(\r\n",
        " NursingHomes_OwnershipSplit\r\n",
        " %>% filter(State == \"MN\")\r\n",
        " %>% group_by(ProfitType)\r\n",
        " %>% summarize(TotalFines = sum(TotalAmountFines), Count = n())\r\n",
        " %>% mutate('Average Fine Amount' = dollar(TotalFines/Count))\r\n",
        ") "
      ],
      "execution_count": 34,
      "outputs": [
        {
          "output_type": "display_data",
          "data": {
            "text/plain": [
              "  ProfitType  TotalFines Count Average Fine Amount\n",
              "1 For profit   740538    114   $6,495.95          \n",
              "2 Government    90912     31   $2,932.65          \n",
              "3 Non profit  1201619    222   $5,412.70          "
            ],
            "text/latex": "A tibble: 3 × 4\n\\begin{tabular}{r|llll}\n  & ProfitType & TotalFines & Count & Average Fine Amount\\\\\n  & <chr> & <dbl> & <int> & <chr>\\\\\n\\hline\n\t1 & For profit  &  740538 & 114 & \\$6,495.95\\\\\n\t2 & Government  &   90912 &  31 & \\$2,932.65\\\\\n\t3 & Non profit  & 1201619 & 222 & \\$5,412.70\\\\\n\\end{tabular}\n",
            "text/markdown": "\nA tibble: 3 × 4\n\n| <!--/--> | ProfitType &lt;chr&gt; | TotalFines &lt;dbl&gt; | Count &lt;int&gt; | Average Fine Amount &lt;chr&gt; |\n|---|---|---|---|---|\n| 1 | For profit  |  740538 | 114 | $6,495.95 |\n| 2 | Government  |   90912 |  31 | $2,932.65 |\n| 3 | Non profit  | 1201619 | 222 | $5,412.70 |\n\n",
            "text/html": [
              "<table class=\"dataframe\">\n",
              "<caption>A tibble: 3 × 4</caption>\n",
              "<thead>\n",
              "\t<tr><th></th><th scope=col>ProfitType</th><th scope=col>TotalFines</th><th scope=col>Count</th><th scope=col>Average Fine Amount</th></tr>\n",
              "\t<tr><th></th><th scope=col>&lt;chr&gt;</th><th scope=col>&lt;dbl&gt;</th><th scope=col>&lt;int&gt;</th><th scope=col>&lt;chr&gt;</th></tr>\n",
              "</thead>\n",
              "<tbody>\n",
              "\t<tr><th scope=row>1</th><td>For profit </td><td> 740538</td><td>114</td><td>$6,495.95</td></tr>\n",
              "\t<tr><th scope=row>2</th><td>Government </td><td>  90912</td><td> 31</td><td>$2,932.65</td></tr>\n",
              "\t<tr><th scope=row>3</th><td>Non profit </td><td>1201619</td><td>222</td><td>$5,412.70</td></tr>\n",
              "</tbody>\n",
              "</table>\n"
            ]
          },
          "metadata": {
            "tags": []
          }
        }
      ]
    },
    {
      "cell_type": "markdown",
      "metadata": {
        "id": "9qYm2b0jTSUk"
      },
      "source": [
        "\r\n",
        "\r\n",
        "---\r\n",
        "\r\n",
        "---\r\n",
        "\r\n",
        "\r\n",
        "\r\n",
        "\r\n",
        "\r\n"
      ]
    },
    {
      "cell_type": "markdown",
      "metadata": {
        "id": "oBBv1ZqHTUJ8"
      },
      "source": [
        "Consider the <strong>case_when()</strong> function.  This is an extension to the <strong>ifelse()</strong> statement that allows for more than a single condition to be checked. It is true that ifelse() statements can be nested to allow for the checking of multiple conditions, but most encourage the use of the case_when() function in this situation.\r\n",
        "\r\n",
        "\r\n",
        "<table>\r\n",
        "<tr>\r\n",
        "<td align=\"center\">ProfitType</td>\r\n",
        "<td align=\"center\">For Profit</td>\r\n",
        "</tr>\r\n",
        "<tr>\r\n",
        " <td align=\"center\" bgcolor=\"black\"><font size=\"+1\" color=\"white\">For profit</font></td>\r\n",
        " <td align=\"center\"bgcolor=\"black\"><font size=\"+1\" color=\"white\">Yes</font></td>\r\n",
        "</tr>\r\n",
        "<tr>\r\n",
        " <td align=\"center\" bgcolor=\"lightgray\"><font size=\"+1\">Government</font></td>\r\n",
        " <td align=\"center\" rowspan=\"2\" bgcolor=\"lightgray\"><font size=\"+1\">No</font></td>\r\n",
        "</tr>\r\n",
        "<tr>\r\n",
        " <td align=\"center\" bgcolor=\"lightgray\"><font size=\"+1\">Non profit</font></td>\r\n",
        "</td>\r\n",
        "</table>\r\n",
        "\r\n"
      ]
    },
    {
      "cell_type": "code",
      "metadata": {
        "colab": {
          "base_uri": "https://localhost:8080/",
          "height": 275
        },
        "id": "xPq0Q2fiTZBc",
        "outputId": "db7655ce-a81a-4374-a83d-3aa7b4c4f2a6"
      },
      "source": [
        "(\r\n",
        " NursingHomes_OwnershipSplit\r\n",
        "  %>% mutate(ForProfit = \r\n",
        "                          case_when(\r\n",
        "                                    ProfitType == \"For profit\" ~ \"Yes\",\r\n",
        "                                    ProfitType == \"Government\" ~ \"No\",\r\n",
        "                                    ProfitType == \"Non profit\" ~ \"No\"\r\n",
        "                          )\r\n",
        "            )\r\n",
        "   %>% select(OwnershipType_Split, ProfitType, CorporationType, ForProfit)\r\n",
        " ) -> temp\r\n",
        "\r\n",
        "head(temp)"
      ],
      "execution_count": 54,
      "outputs": [
        {
          "output_type": "display_data",
          "data": {
            "text/plain": [
              "  OwnershipType_Split        ProfitType  CorporationType ForProfit\n",
              "1 For profit  ,  Corporation For profit   Corporation    NA       \n",
              "2 For profit  ,  Corporation For profit   Corporation    NA       \n",
              "3 Government ,  County       Government   County         NA       \n",
              "4 For profit ,  Individual   For profit   Individual     NA       \n",
              "5 For profit ,  Individual   For profit   Individual     NA       \n",
              "6 For profit  ,  Corporation For profit   Corporation    NA       "
            ],
            "text/latex": "A tibble: 6 × 4\n\\begin{tabular}{llll}\n OwnershipType\\_Split & ProfitType & CorporationType & ForProfit\\\\\n <list> & <chr> & <chr> & <chr>\\\\\n\\hline\n\t For profit  ,  Corporation & For profit  &  Corporation & NA\\\\\n\t For profit  ,  Corporation & For profit  &  Corporation & NA\\\\\n\t Government ,  County     & Government  &  County      & NA\\\\\n\t For profit ,  Individual & For profit  &  Individual  & NA\\\\\n\t For profit ,  Individual & For profit  &  Individual  & NA\\\\\n\t For profit  ,  Corporation & For profit  &  Corporation & NA\\\\\n\\end{tabular}\n",
            "text/markdown": "\nA tibble: 6 × 4\n\n| OwnershipType_Split &lt;list&gt; | ProfitType &lt;chr&gt; | CorporationType &lt;chr&gt; | ForProfit &lt;chr&gt; |\n|---|---|---|---|\n| For profit  ,  Corporation | For profit  |  Corporation | NA |\n| For profit  ,  Corporation | For profit  |  Corporation | NA |\n| Government ,  County     | Government  |  County      | NA |\n| For profit ,  Individual | For profit  |  Individual  | NA |\n| For profit ,  Individual | For profit  |  Individual  | NA |\n| For profit  ,  Corporation | For profit  |  Corporation | NA |\n\n",
            "text/html": [
              "<table class=\"dataframe\">\n",
              "<caption>A tibble: 6 × 4</caption>\n",
              "<thead>\n",
              "\t<tr><th scope=col>OwnershipType_Split</th><th scope=col>ProfitType</th><th scope=col>CorporationType</th><th scope=col>ForProfit</th></tr>\n",
              "\t<tr><th scope=col>&lt;list&gt;</th><th scope=col>&lt;chr&gt;</th><th scope=col>&lt;chr&gt;</th><th scope=col>&lt;chr&gt;</th></tr>\n",
              "</thead>\n",
              "<tbody>\n",
              "\t<tr><td>For profit  ,  Corporation</td><td>For profit </td><td> Corporation</td><td>NA</td></tr>\n",
              "\t<tr><td>For profit  ,  Corporation</td><td>For profit </td><td> Corporation</td><td>NA</td></tr>\n",
              "\t<tr><td>Government ,  County    </td><td>Government </td><td> County     </td><td>NA</td></tr>\n",
              "\t<tr><td>For profit ,  Individual</td><td>For profit </td><td> Individual </td><td>NA</td></tr>\n",
              "\t<tr><td>For profit ,  Individual</td><td>For profit </td><td> Individual </td><td>NA</td></tr>\n",
              "\t<tr><td>For profit  ,  Corporation</td><td>For profit </td><td> Corporation</td><td>NA</td></tr>\n",
              "</tbody>\n",
              "</table>\n"
            ]
          },
          "metadata": {
            "tags": []
          }
        }
      ]
    },
    {
      "cell_type": "markdown",
      "metadata": {
        "id": "_w58PXW4X1Ip"
      },
      "source": [
        "Unfornately, this does not work as the ForProfit column contains all NA values.\r\n",
        "\r\n",
        "<strong>Question</strong>: Why is this happening?<br>\r\n",
        "<strong>Answer</strong>: Most likely the issue is with the condition being checked.\r\n"
      ]
    },
    {
      "cell_type": "markdown",
      "metadata": {
        "id": "DtoMeHLJSAQ1"
      },
      "source": [
        "Let us consider the pantom spaces that are often present in strings!  Consider the following code that computes the length of each part of the string split above.  \r\n",
        "\r\n",
        "Notice that the string \"For profit\" has 10 characters, but the the string length function says there are 11 character present.  Thus, an additional character exists within the \"For profit\" string -- likely the actual string is \"For profit_\".  Regarding CorporationType, the actual string is likely \"_Corporation\" as this is the right side of the string split done above."
      ]
    },
    {
      "cell_type": "code",
      "metadata": {
        "colab": {
          "base_uri": "https://localhost:8080/",
          "height": 275
        },
        "id": "v4i4ZH1CSAZW",
        "outputId": "88f15e6b-62f5-4ae6-d261-49bee8d26951"
      },
      "source": [
        "(\r\n",
        " NursingHomes_OwnershipSplit\r\n",
        " %>% select(OwnershipType_Split, ProfitType, CorporationType)\r\n",
        " %>% mutate(ProfitTypeLen = str_length(ProfitType), CorporationTypeLen = str_length(CorporationType))\r\n",
        " ) -> temp\r\n",
        "\r\n",
        "head(temp)\r\n"
      ],
      "execution_count": 52,
      "outputs": [
        {
          "output_type": "display_data",
          "data": {
            "text/plain": [
              "  OwnershipType_Split        ProfitType  CorporationType ProfitTypeLen\n",
              "1 For profit  ,  Corporation For profit   Corporation    11           \n",
              "2 For profit  ,  Corporation For profit   Corporation    11           \n",
              "3 Government ,  County       Government   County         11           \n",
              "4 For profit ,  Individual   For profit   Individual     11           \n",
              "5 For profit ,  Individual   For profit   Individual     11           \n",
              "6 For profit  ,  Corporation For profit   Corporation    11           \n",
              "  CorporationTypeLen\n",
              "1 12                \n",
              "2 12                \n",
              "3  7                \n",
              "4 11                \n",
              "5 11                \n",
              "6 12                "
            ],
            "text/latex": "A tibble: 6 × 5\n\\begin{tabular}{lllll}\n OwnershipType\\_Split & ProfitType & CorporationType & ProfitTypeLen & CorporationTypeLen\\\\\n <list> & <chr> & <chr> & <int> & <int>\\\\\n\\hline\n\t For profit  ,  Corporation & For profit  &  Corporation & 11 & 12\\\\\n\t For profit  ,  Corporation & For profit  &  Corporation & 11 & 12\\\\\n\t Government ,  County     & Government  &  County      & 11 &  7\\\\\n\t For profit ,  Individual & For profit  &  Individual  & 11 & 11\\\\\n\t For profit ,  Individual & For profit  &  Individual  & 11 & 11\\\\\n\t For profit  ,  Corporation & For profit  &  Corporation & 11 & 12\\\\\n\\end{tabular}\n",
            "text/markdown": "\nA tibble: 6 × 5\n\n| OwnershipType_Split &lt;list&gt; | ProfitType &lt;chr&gt; | CorporationType &lt;chr&gt; | ProfitTypeLen &lt;int&gt; | CorporationTypeLen &lt;int&gt; |\n|---|---|---|---|---|\n| For profit  ,  Corporation | For profit  |  Corporation | 11 | 12 |\n| For profit  ,  Corporation | For profit  |  Corporation | 11 | 12 |\n| Government ,  County     | Government  |  County      | 11 |  7 |\n| For profit ,  Individual | For profit  |  Individual  | 11 | 11 |\n| For profit ,  Individual | For profit  |  Individual  | 11 | 11 |\n| For profit  ,  Corporation | For profit  |  Corporation | 11 | 12 |\n\n",
            "text/html": [
              "<table class=\"dataframe\">\n",
              "<caption>A tibble: 6 × 5</caption>\n",
              "<thead>\n",
              "\t<tr><th scope=col>OwnershipType_Split</th><th scope=col>ProfitType</th><th scope=col>CorporationType</th><th scope=col>ProfitTypeLen</th><th scope=col>CorporationTypeLen</th></tr>\n",
              "\t<tr><th scope=col>&lt;list&gt;</th><th scope=col>&lt;chr&gt;</th><th scope=col>&lt;chr&gt;</th><th scope=col>&lt;int&gt;</th><th scope=col>&lt;int&gt;</th></tr>\n",
              "</thead>\n",
              "<tbody>\n",
              "\t<tr><td>For profit  ,  Corporation</td><td>For profit </td><td> Corporation</td><td>11</td><td>12</td></tr>\n",
              "\t<tr><td>For profit  ,  Corporation</td><td>For profit </td><td> Corporation</td><td>11</td><td>12</td></tr>\n",
              "\t<tr><td>Government ,  County    </td><td>Government </td><td> County     </td><td>11</td><td> 7</td></tr>\n",
              "\t<tr><td>For profit ,  Individual</td><td>For profit </td><td> Individual </td><td>11</td><td>11</td></tr>\n",
              "\t<tr><td>For profit ,  Individual</td><td>For profit </td><td> Individual </td><td>11</td><td>11</td></tr>\n",
              "\t<tr><td>For profit  ,  Corporation</td><td>For profit </td><td> Corporation</td><td>11</td><td>12</td></tr>\n",
              "</tbody>\n",
              "</table>\n"
            ]
          },
          "metadata": {
            "tags": []
          }
        }
      ]
    },
    {
      "cell_type": "markdown",
      "metadata": {
        "id": "UsIQCDpTUMgz"
      },
      "source": [
        "The <strong>str_trim()</strong> function, called trim() in most languages, can be used to remove all empty spaces at the beginning and end of a string.  The trim() function typically does not remove spaces in the middle of a string.\r\n",
        "\r\n",
        "A alternative would be to use the str_replace() function.  The str_replace() could be used to replace all spaces with nothing; however, str_replace() would remove <strong>all</strong> spaces -- including the space between \"For\" and \"profit\" in the string \"For profit\", e.g. \"For profit\" would become \"Forprofit\" with str_replace()."
      ]
    },
    {
      "cell_type": "code",
      "metadata": {
        "colab": {
          "base_uri": "https://localhost:8080/",
          "height": 925
        },
        "id": "ls3PNGHeUMpy",
        "outputId": "cc9c6cb0-7a93-451e-f6bc-14be134e5295"
      },
      "source": [
        "(\r\n",
        " NursingHomes_OwnershipSplit\r\n",
        "  %>% mutate(ForProfit = \r\n",
        "                          case_when(\r\n",
        "                                    str_trim(ProfitType) == \"For profit\" ~ \"Yes\",\r\n",
        "                                    str_trim(ProfitType) == \"Government\" ~ \"No\",\r\n",
        "                                    str_trim(ProfitType) == \"Non profit\" ~ \"No\"\r\n",
        "                          )\r\n",
        "  \r\n",
        "            )\r\n",
        "   %>% select(OwnershipType_Split, ProfitType, CorporationType, ForProfit, State)\r\n",
        " ) -> temp\r\n",
        "\r\n",
        "head(temp, 20)\r\n",
        "\r\n",
        "#The ForProfit variable can now be used, e.g. count the number of For Profit and Non Profits in MN\r\n",
        "cat(\"\\n\")\r\n",
        "cat(\"\\n\")\r\n",
        "cat(\"\\n\")\r\n",
        "cat(\"Number of For Profit and and Non Profit Nursing Homes in MN.\\n\")\r\n",
        "cat(\"\\n\")\r\n",
        "(\r\n",
        " temp\r\n",
        " %>% filter(State == \"MN\")\r\n",
        " %>% group_by(ForProfit)\r\n",
        " %>% summarize(Count=n())\r\n",
        ")"
      ],
      "execution_count": 62,
      "outputs": [
        {
          "output_type": "display_data",
          "data": {
            "text/plain": [
              "   OwnershipType_Split                                    ProfitType \n",
              "1  For profit  ,  Corporation                             For profit \n",
              "2  For profit  ,  Corporation                             For profit \n",
              "3  Government ,  County                                   Government \n",
              "4  For profit ,  Individual                               For profit \n",
              "5  For profit ,  Individual                               For profit \n",
              "6  For profit  ,  Corporation                             For profit \n",
              "7  For profit  ,  Corporation                             For profit \n",
              "8  For profit  ,  Corporation                             For profit \n",
              "9  For profit  ,  Corporation                             For profit \n",
              "10 For profit  ,  Corporation                             For profit \n",
              "11 For profit  ,  Corporation                             For profit \n",
              "12 For profit  ,  Corporation                             For profit \n",
              "13 For profit  ,  Corporation                             For profit \n",
              "14 For profit  ,  Corporation                             For profit \n",
              "15 For profit                ,  Limited Liability company For profit \n",
              "16 For profit  ,  Corporation                             For profit \n",
              "17 For profit  ,  Corporation                             For profit \n",
              "18 For profit  ,  Corporation                             For profit \n",
              "19 For profit  ,  Corporation                             For profit \n",
              "20 Non profit ,  Other                                    Non profit \n",
              "   CorporationType            ForProfit State\n",
              "1   Corporation               Yes       AL   \n",
              "2   Corporation               Yes       AL   \n",
              "3   County                    No        AL   \n",
              "4   Individual                Yes       AL   \n",
              "5   Individual                Yes       AL   \n",
              "6   Corporation               Yes       AL   \n",
              "7   Corporation               Yes       AL   \n",
              "8   Corporation               Yes       AL   \n",
              "9   Corporation               Yes       AL   \n",
              "10  Corporation               Yes       AL   \n",
              "11  Corporation               Yes       AL   \n",
              "12  Corporation               Yes       AL   \n",
              "13  Corporation               Yes       AL   \n",
              "14  Corporation               Yes       AL   \n",
              "15  Limited Liability company Yes       AL   \n",
              "16  Corporation               Yes       AL   \n",
              "17  Corporation               Yes       AL   \n",
              "18  Corporation               Yes       AL   \n",
              "19  Corporation               Yes       AL   \n",
              "20  Other                     No        AL   "
            ],
            "text/latex": "A tibble: 20 × 5\n\\begin{tabular}{lllll}\n OwnershipType\\_Split & ProfitType & CorporationType & ForProfit & State\\\\\n <list> & <chr> & <chr> & <chr> & <chr>\\\\\n\\hline\n\t For profit  ,  Corporation & For profit  &  Corporation               & Yes & AL\\\\\n\t For profit  ,  Corporation & For profit  &  Corporation               & Yes & AL\\\\\n\t Government ,  County     & Government  &  County                    & No  & AL\\\\\n\t For profit ,  Individual & For profit  &  Individual                & Yes & AL\\\\\n\t For profit ,  Individual & For profit  &  Individual                & Yes & AL\\\\\n\t For profit  ,  Corporation & For profit  &  Corporation               & Yes & AL\\\\\n\t For profit  ,  Corporation & For profit  &  Corporation               & Yes & AL\\\\\n\t For profit  ,  Corporation & For profit  &  Corporation               & Yes & AL\\\\\n\t For profit  ,  Corporation & For profit  &  Corporation               & Yes & AL\\\\\n\t For profit  ,  Corporation & For profit  &  Corporation               & Yes & AL\\\\\n\t For profit  ,  Corporation & For profit  &  Corporation               & Yes & AL\\\\\n\t For profit  ,  Corporation & For profit  &  Corporation               & Yes & AL\\\\\n\t For profit  ,  Corporation & For profit  &  Corporation               & Yes & AL\\\\\n\t For profit  ,  Corporation & For profit  &  Corporation               & Yes & AL\\\\\n\t For profit                ,  Limited Liability company & For profit  &  Limited Liability company & Yes & AL\\\\\n\t For profit  ,  Corporation & For profit  &  Corporation               & Yes & AL\\\\\n\t For profit  ,  Corporation & For profit  &  Corporation               & Yes & AL\\\\\n\t For profit  ,  Corporation & For profit  &  Corporation               & Yes & AL\\\\\n\t For profit  ,  Corporation & For profit  &  Corporation               & Yes & AL\\\\\n\t Non profit ,  Other      & Non profit  &  Other                     & No  & AL\\\\\n\\end{tabular}\n",
            "text/markdown": "\nA tibble: 20 × 5\n\n| OwnershipType_Split &lt;list&gt; | ProfitType &lt;chr&gt; | CorporationType &lt;chr&gt; | ForProfit &lt;chr&gt; | State &lt;chr&gt; |\n|---|---|---|---|---|\n| For profit  ,  Corporation | For profit  |  Corporation               | Yes | AL |\n| For profit  ,  Corporation | For profit  |  Corporation               | Yes | AL |\n| Government ,  County     | Government  |  County                    | No  | AL |\n| For profit ,  Individual | For profit  |  Individual                | Yes | AL |\n| For profit ,  Individual | For profit  |  Individual                | Yes | AL |\n| For profit  ,  Corporation | For profit  |  Corporation               | Yes | AL |\n| For profit  ,  Corporation | For profit  |  Corporation               | Yes | AL |\n| For profit  ,  Corporation | For profit  |  Corporation               | Yes | AL |\n| For profit  ,  Corporation | For profit  |  Corporation               | Yes | AL |\n| For profit  ,  Corporation | For profit  |  Corporation               | Yes | AL |\n| For profit  ,  Corporation | For profit  |  Corporation               | Yes | AL |\n| For profit  ,  Corporation | For profit  |  Corporation               | Yes | AL |\n| For profit  ,  Corporation | For profit  |  Corporation               | Yes | AL |\n| For profit  ,  Corporation | For profit  |  Corporation               | Yes | AL |\n| For profit                ,  Limited Liability company | For profit  |  Limited Liability company | Yes | AL |\n| For profit  ,  Corporation | For profit  |  Corporation               | Yes | AL |\n| For profit  ,  Corporation | For profit  |  Corporation               | Yes | AL |\n| For profit  ,  Corporation | For profit  |  Corporation               | Yes | AL |\n| For profit  ,  Corporation | For profit  |  Corporation               | Yes | AL |\n| Non profit ,  Other      | Non profit  |  Other                     | No  | AL |\n\n",
            "text/html": [
              "<table class=\"dataframe\">\n",
              "<caption>A tibble: 20 × 5</caption>\n",
              "<thead>\n",
              "\t<tr><th scope=col>OwnershipType_Split</th><th scope=col>ProfitType</th><th scope=col>CorporationType</th><th scope=col>ForProfit</th><th scope=col>State</th></tr>\n",
              "\t<tr><th scope=col>&lt;list&gt;</th><th scope=col>&lt;chr&gt;</th><th scope=col>&lt;chr&gt;</th><th scope=col>&lt;chr&gt;</th><th scope=col>&lt;chr&gt;</th></tr>\n",
              "</thead>\n",
              "<tbody>\n",
              "\t<tr><td>For profit  ,  Corporation</td><td>For profit </td><td> Corporation              </td><td>Yes</td><td>AL</td></tr>\n",
              "\t<tr><td>For profit  ,  Corporation</td><td>For profit </td><td> Corporation              </td><td>Yes</td><td>AL</td></tr>\n",
              "\t<tr><td>Government ,  County    </td><td>Government </td><td> County                   </td><td>No </td><td>AL</td></tr>\n",
              "\t<tr><td>For profit ,  Individual</td><td>For profit </td><td> Individual               </td><td>Yes</td><td>AL</td></tr>\n",
              "\t<tr><td>For profit ,  Individual</td><td>For profit </td><td> Individual               </td><td>Yes</td><td>AL</td></tr>\n",
              "\t<tr><td>For profit  ,  Corporation</td><td>For profit </td><td> Corporation              </td><td>Yes</td><td>AL</td></tr>\n",
              "\t<tr><td>For profit  ,  Corporation</td><td>For profit </td><td> Corporation              </td><td>Yes</td><td>AL</td></tr>\n",
              "\t<tr><td>For profit  ,  Corporation</td><td>For profit </td><td> Corporation              </td><td>Yes</td><td>AL</td></tr>\n",
              "\t<tr><td>For profit  ,  Corporation</td><td>For profit </td><td> Corporation              </td><td>Yes</td><td>AL</td></tr>\n",
              "\t<tr><td>For profit  ,  Corporation</td><td>For profit </td><td> Corporation              </td><td>Yes</td><td>AL</td></tr>\n",
              "\t<tr><td>For profit  ,  Corporation</td><td>For profit </td><td> Corporation              </td><td>Yes</td><td>AL</td></tr>\n",
              "\t<tr><td>For profit  ,  Corporation</td><td>For profit </td><td> Corporation              </td><td>Yes</td><td>AL</td></tr>\n",
              "\t<tr><td>For profit  ,  Corporation</td><td>For profit </td><td> Corporation              </td><td>Yes</td><td>AL</td></tr>\n",
              "\t<tr><td>For profit  ,  Corporation</td><td>For profit </td><td> Corporation              </td><td>Yes</td><td>AL</td></tr>\n",
              "\t<tr><td>For profit                ,  Limited Liability company</td><td>For profit </td><td> Limited Liability company</td><td>Yes</td><td>AL</td></tr>\n",
              "\t<tr><td>For profit  ,  Corporation</td><td>For profit </td><td> Corporation              </td><td>Yes</td><td>AL</td></tr>\n",
              "\t<tr><td>For profit  ,  Corporation</td><td>For profit </td><td> Corporation              </td><td>Yes</td><td>AL</td></tr>\n",
              "\t<tr><td>For profit  ,  Corporation</td><td>For profit </td><td> Corporation              </td><td>Yes</td><td>AL</td></tr>\n",
              "\t<tr><td>For profit  ,  Corporation</td><td>For profit </td><td> Corporation              </td><td>Yes</td><td>AL</td></tr>\n",
              "\t<tr><td>Non profit ,  Other     </td><td>Non profit </td><td> Other                    </td><td>No </td><td>AL</td></tr>\n",
              "</tbody>\n",
              "</table>\n"
            ]
          },
          "metadata": {
            "tags": []
          }
        },
        {
          "output_type": "stream",
          "text": [
            "\n",
            "\n",
            "\n",
            "Number of For Profit and and Non Profit Nursing Homes in MN.\n",
            "\n"
          ],
          "name": "stdout"
        },
        {
          "output_type": "display_data",
          "data": {
            "text/plain": [
              "  ForProfit Count\n",
              "1 No        253  \n",
              "2 Yes       114  "
            ],
            "text/latex": "A tibble: 2 × 2\n\\begin{tabular}{r|ll}\n  & ForProfit & Count\\\\\n  & <chr> & <int>\\\\\n\\hline\n\t1 & No  & 253\\\\\n\t2 & Yes & 114\\\\\n\\end{tabular}\n",
            "text/markdown": "\nA tibble: 2 × 2\n\n| <!--/--> | ForProfit &lt;chr&gt; | Count &lt;int&gt; |\n|---|---|---|\n| 1 | No  | 253 |\n| 2 | Yes | 114 |\n\n",
            "text/html": [
              "<table class=\"dataframe\">\n",
              "<caption>A tibble: 2 × 2</caption>\n",
              "<thead>\n",
              "\t<tr><th></th><th scope=col>ForProfit</th><th scope=col>Count</th></tr>\n",
              "\t<tr><th></th><th scope=col>&lt;chr&gt;</th><th scope=col>&lt;int&gt;</th></tr>\n",
              "</thead>\n",
              "<tbody>\n",
              "\t<tr><th scope=row>1</th><td>No </td><td>253</td></tr>\n",
              "\t<tr><th scope=row>2</th><td>Yes</td><td>114</td></tr>\n",
              "</tbody>\n",
              "</table>\n"
            ]
          },
          "metadata": {
            "tags": []
          }
        }
      ]
    },
    {
      "cell_type": "markdown",
      "metadata": {
        "id": "7pQx4-3zef6q"
      },
      "source": [
        "Next, let us consider the various levels for Corporation Type."
      ]
    },
    {
      "cell_type": "code",
      "metadata": {
        "colab": {
          "base_uri": "https://localhost:8080/",
          "height": 455
        },
        "id": "QK5wdZaQegFY",
        "outputId": "126de647-9a14-4c33-9b36-7a8b46f29d1d"
      },
      "source": [
        "(\r\n",
        " NursingHomes_OwnershipSplit\r\n",
        "  %>% select(CorporationType)\r\n",
        "  %>% distinct(CorporationType)   \r\n",
        " ) -> temp\r\n",
        "\r\n",
        " head(temp, 15)"
      ],
      "execution_count": 68,
      "outputs": [
        {
          "output_type": "display_data",
          "data": {
            "text/plain": [
              "   CorporationType           \n",
              "1   Corporation              \n",
              "2   County                   \n",
              "3   Individual               \n",
              "4   Limited Liability company\n",
              "5   Other                    \n",
              "6   Partnership              \n",
              "7   City                     \n",
              "8   Church related           \n",
              "9   City/county              \n",
              "10  Federal                  \n",
              "11  State                    \n",
              "12  Hospital district        "
            ],
            "text/latex": "A tibble: 12 × 1\n\\begin{tabular}{l}\n CorporationType\\\\\n <chr>\\\\\n\\hline\n\t  Corporation              \\\\\n\t  County                   \\\\\n\t  Individual               \\\\\n\t  Limited Liability company\\\\\n\t  Other                    \\\\\n\t  Partnership              \\\\\n\t  City                     \\\\\n\t  Church related           \\\\\n\t  City/county              \\\\\n\t  Federal                  \\\\\n\t  State                    \\\\\n\t  Hospital district        \\\\\n\\end{tabular}\n",
            "text/markdown": "\nA tibble: 12 × 1\n\n| CorporationType &lt;chr&gt; |\n|---|\n|  Corporation               |\n|  County                    |\n|  Individual                |\n|  Limited Liability company |\n|  Other                     |\n|  Partnership               |\n|  City                      |\n|  Church related            |\n|  City/county               |\n|  Federal                   |\n|  State                     |\n|  Hospital district         |\n\n",
            "text/html": [
              "<table class=\"dataframe\">\n",
              "<caption>A tibble: 12 × 1</caption>\n",
              "<thead>\n",
              "\t<tr><th scope=col>CorporationType</th></tr>\n",
              "\t<tr><th scope=col>&lt;chr&gt;</th></tr>\n",
              "</thead>\n",
              "<tbody>\n",
              "\t<tr><td> Corporation              </td></tr>\n",
              "\t<tr><td> County                   </td></tr>\n",
              "\t<tr><td> Individual               </td></tr>\n",
              "\t<tr><td> Limited Liability company</td></tr>\n",
              "\t<tr><td> Other                    </td></tr>\n",
              "\t<tr><td> Partnership              </td></tr>\n",
              "\t<tr><td> City                     </td></tr>\n",
              "\t<tr><td> Church related           </td></tr>\n",
              "\t<tr><td> City/county              </td></tr>\n",
              "\t<tr><td> Federal                  </td></tr>\n",
              "\t<tr><td> State                    </td></tr>\n",
              "\t<tr><td> Hospital district        </td></tr>\n",
              "</tbody>\n",
              "</table>\n"
            ]
          },
          "metadata": {
            "tags": []
          }
        }
      ]
    },
    {
      "cell_type": "markdown",
      "metadata": {
        "id": "oAPbDZqThgOk"
      },
      "source": [
        "Consider the following recoding regarding the Corporation Type.\r\n",
        "\r\n",
        "<table>\r\n",
        "<tr>\r\n",
        "<td align=\"center\">CorporationType</td>\r\n",
        "<td align=\"center\">Corporation</td>\r\n",
        "</tr>\r\n",
        "<tr>\r\n",
        " <td align=\"center\"><font size=\"+1\">Corporation</font></td>\r\n",
        " <td align=\"center\"><font size=\"+1\">Yes</font></td>\r\n",
        "</tr>\r\n",
        "<tr>\r\n",
        " <td align=\"center\"><font size=\"+1\">Limited Liability company</font></td>\r\n",
        "  <td align=\"center\"><font size=\"+1\">Yes</font></td>\r\n",
        "</tr>\r\n",
        "\r\n",
        "<tr>\r\n",
        " <td align=\"center\"><font size=\"+1\">County</font></td>\r\n",
        " <td align=\"center\" rowspan=\"10\"><font size=\"+1\">No</font></td>\r\n",
        "</tr>\r\n",
        "<tr>\r\n",
        " <td align=\"center\"><font size=\"+1\">Individual</font></td>\r\n",
        " \r\n",
        "</tr>\r\n",
        "\r\n",
        "<tr>\r\n",
        " <td align=\"center\"><font size=\"+1\">Other</font></td>\r\n",
        "\r\n",
        "</tr>\r\n",
        "<tr>\r\n",
        " <td align=\"center\"><font size=\"+1\">Partnership</font></td>\r\n",
        "\r\n",
        "</tr>\r\n",
        "<tr>\r\n",
        " <td align=\"center\"><font size=\"+1\">City</font></td>\r\n",
        "\r\n",
        "</tr>\r\n",
        "<tr>\r\n",
        " <td align=\"center\"><font size=\"+1\">Church related</font></td>\r\n",
        " \r\n",
        "</tr>\r\n",
        "<tr>\r\n",
        " <td align=\"center\"><font size=\"+1\">City/county</font></td>\r\n",
        "\r\n",
        "</tr>\r\n",
        "<tr>\r\n",
        " <td align=\"center\"><font size=\"+1\">Federal</font></td>\r\n",
        " \r\n",
        "</tr>\r\n",
        "<tr>\r\n",
        " <td align=\"center\"><font size=\"+1\">State</font></td>\r\n",
        " \r\n",
        "</tr>\r\n",
        "<tr>\r\n",
        " <td align=\"center\"><font size=\"+1\">Hospital district</font></td>\r\n",
        " \r\n",
        "</tr>\r\n",
        "</table>"
      ]
    },
    {
      "cell_type": "markdown",
      "metadata": {
        "id": "FBY1BxOwmZZ3"
      },
      "source": [
        "A couple of comments regarding the use of the <strong>case_when()</strong> function.\r\n",
        "\r\n",
        "\r\n",
        "1.   The <strong>order</strong> of the logical statements matter, e.g. statements are considered from top-down.\r\n",
        "2.   If it is <strong>TRUE</strong> that <strong>none</strong> of the other conditions apply, the TRUE can be placed on the right-hand side of the ~ to consider all remaining situations.\r\n",
        "\r\n"
      ]
    },
    {
      "cell_type": "code",
      "metadata": {
        "colab": {
          "base_uri": "https://localhost:8080/",
          "height": 925
        },
        "id": "fY0GrlAqhgYa",
        "outputId": "4685dd8e-074d-472d-c8e3-239c4dbdd40c"
      },
      "source": [
        "(\r\n",
        " NursingHomes_OwnershipSplit\r\n",
        "  %>% mutate(Corporation = \r\n",
        "                          case_when(\r\n",
        "                                    str_trim(CorporationType) == \"Corporation\" ~ \"Yes\",\r\n",
        "                                    str_trim(CorporationType) == \"Limited Liability company\" ~ \"Yes\",\r\n",
        "                                    TRUE ~ \"No\"\r\n",
        "                          )\r\n",
        "  \r\n",
        "            )\r\n",
        "   %>% select(OwnershipType_Split, ProfitType, CorporationType, Corporation, State)\r\n",
        " ) -> temp\r\n",
        "\r\n",
        " head(temp,20)\r\n",
        "\r\n",
        " #The Corporation variable can now be used, e.g. count the number of Corporation type nursing homes in MN\r\n",
        "cat(\"\\n\")\r\n",
        "cat(\"\\n\")\r\n",
        "cat(\"\\n\")\r\n",
        "cat(\"Number of Corporation vs Other types Nursing Homes in MN.\\n\")\r\n",
        "cat(\"\\n\")\r\n",
        "(\r\n",
        " temp\r\n",
        " %>% filter(State == \"MN\")\r\n",
        " %>% group_by(Corporation)\r\n",
        " %>% summarize(Count=n())\r\n",
        ")"
      ],
      "execution_count": 73,
      "outputs": [
        {
          "output_type": "display_data",
          "data": {
            "text/plain": [
              "   OwnershipType_Split                                    ProfitType \n",
              "1  For profit  ,  Corporation                             For profit \n",
              "2  For profit  ,  Corporation                             For profit \n",
              "3  Government ,  County                                   Government \n",
              "4  For profit ,  Individual                               For profit \n",
              "5  For profit ,  Individual                               For profit \n",
              "6  For profit  ,  Corporation                             For profit \n",
              "7  For profit  ,  Corporation                             For profit \n",
              "8  For profit  ,  Corporation                             For profit \n",
              "9  For profit  ,  Corporation                             For profit \n",
              "10 For profit  ,  Corporation                             For profit \n",
              "11 For profit  ,  Corporation                             For profit \n",
              "12 For profit  ,  Corporation                             For profit \n",
              "13 For profit  ,  Corporation                             For profit \n",
              "14 For profit  ,  Corporation                             For profit \n",
              "15 For profit                ,  Limited Liability company For profit \n",
              "16 For profit  ,  Corporation                             For profit \n",
              "17 For profit  ,  Corporation                             For profit \n",
              "18 For profit  ,  Corporation                             For profit \n",
              "19 For profit  ,  Corporation                             For profit \n",
              "20 Non profit ,  Other                                    Non profit \n",
              "   CorporationType            Corporation State\n",
              "1   Corporation               Yes         AL   \n",
              "2   Corporation               Yes         AL   \n",
              "3   County                    No          AL   \n",
              "4   Individual                No          AL   \n",
              "5   Individual                No          AL   \n",
              "6   Corporation               Yes         AL   \n",
              "7   Corporation               Yes         AL   \n",
              "8   Corporation               Yes         AL   \n",
              "9   Corporation               Yes         AL   \n",
              "10  Corporation               Yes         AL   \n",
              "11  Corporation               Yes         AL   \n",
              "12  Corporation               Yes         AL   \n",
              "13  Corporation               Yes         AL   \n",
              "14  Corporation               Yes         AL   \n",
              "15  Limited Liability company Yes         AL   \n",
              "16  Corporation               Yes         AL   \n",
              "17  Corporation               Yes         AL   \n",
              "18  Corporation               Yes         AL   \n",
              "19  Corporation               Yes         AL   \n",
              "20  Other                     No          AL   "
            ],
            "text/latex": "A tibble: 20 × 5\n\\begin{tabular}{lllll}\n OwnershipType\\_Split & ProfitType & CorporationType & Corporation & State\\\\\n <list> & <chr> & <chr> & <chr> & <chr>\\\\\n\\hline\n\t For profit  ,  Corporation & For profit  &  Corporation               & Yes & AL\\\\\n\t For profit  ,  Corporation & For profit  &  Corporation               & Yes & AL\\\\\n\t Government ,  County     & Government  &  County                    & No  & AL\\\\\n\t For profit ,  Individual & For profit  &  Individual                & No  & AL\\\\\n\t For profit ,  Individual & For profit  &  Individual                & No  & AL\\\\\n\t For profit  ,  Corporation & For profit  &  Corporation               & Yes & AL\\\\\n\t For profit  ,  Corporation & For profit  &  Corporation               & Yes & AL\\\\\n\t For profit  ,  Corporation & For profit  &  Corporation               & Yes & AL\\\\\n\t For profit  ,  Corporation & For profit  &  Corporation               & Yes & AL\\\\\n\t For profit  ,  Corporation & For profit  &  Corporation               & Yes & AL\\\\\n\t For profit  ,  Corporation & For profit  &  Corporation               & Yes & AL\\\\\n\t For profit  ,  Corporation & For profit  &  Corporation               & Yes & AL\\\\\n\t For profit  ,  Corporation & For profit  &  Corporation               & Yes & AL\\\\\n\t For profit  ,  Corporation & For profit  &  Corporation               & Yes & AL\\\\\n\t For profit                ,  Limited Liability company & For profit  &  Limited Liability company & Yes & AL\\\\\n\t For profit  ,  Corporation & For profit  &  Corporation               & Yes & AL\\\\\n\t For profit  ,  Corporation & For profit  &  Corporation               & Yes & AL\\\\\n\t For profit  ,  Corporation & For profit  &  Corporation               & Yes & AL\\\\\n\t For profit  ,  Corporation & For profit  &  Corporation               & Yes & AL\\\\\n\t Non profit ,  Other      & Non profit  &  Other                     & No  & AL\\\\\n\\end{tabular}\n",
            "text/markdown": "\nA tibble: 20 × 5\n\n| OwnershipType_Split &lt;list&gt; | ProfitType &lt;chr&gt; | CorporationType &lt;chr&gt; | Corporation &lt;chr&gt; | State &lt;chr&gt; |\n|---|---|---|---|---|\n| For profit  ,  Corporation | For profit  |  Corporation               | Yes | AL |\n| For profit  ,  Corporation | For profit  |  Corporation               | Yes | AL |\n| Government ,  County     | Government  |  County                    | No  | AL |\n| For profit ,  Individual | For profit  |  Individual                | No  | AL |\n| For profit ,  Individual | For profit  |  Individual                | No  | AL |\n| For profit  ,  Corporation | For profit  |  Corporation               | Yes | AL |\n| For profit  ,  Corporation | For profit  |  Corporation               | Yes | AL |\n| For profit  ,  Corporation | For profit  |  Corporation               | Yes | AL |\n| For profit  ,  Corporation | For profit  |  Corporation               | Yes | AL |\n| For profit  ,  Corporation | For profit  |  Corporation               | Yes | AL |\n| For profit  ,  Corporation | For profit  |  Corporation               | Yes | AL |\n| For profit  ,  Corporation | For profit  |  Corporation               | Yes | AL |\n| For profit  ,  Corporation | For profit  |  Corporation               | Yes | AL |\n| For profit  ,  Corporation | For profit  |  Corporation               | Yes | AL |\n| For profit                ,  Limited Liability company | For profit  |  Limited Liability company | Yes | AL |\n| For profit  ,  Corporation | For profit  |  Corporation               | Yes | AL |\n| For profit  ,  Corporation | For profit  |  Corporation               | Yes | AL |\n| For profit  ,  Corporation | For profit  |  Corporation               | Yes | AL |\n| For profit  ,  Corporation | For profit  |  Corporation               | Yes | AL |\n| Non profit ,  Other      | Non profit  |  Other                     | No  | AL |\n\n",
            "text/html": [
              "<table class=\"dataframe\">\n",
              "<caption>A tibble: 20 × 5</caption>\n",
              "<thead>\n",
              "\t<tr><th scope=col>OwnershipType_Split</th><th scope=col>ProfitType</th><th scope=col>CorporationType</th><th scope=col>Corporation</th><th scope=col>State</th></tr>\n",
              "\t<tr><th scope=col>&lt;list&gt;</th><th scope=col>&lt;chr&gt;</th><th scope=col>&lt;chr&gt;</th><th scope=col>&lt;chr&gt;</th><th scope=col>&lt;chr&gt;</th></tr>\n",
              "</thead>\n",
              "<tbody>\n",
              "\t<tr><td>For profit  ,  Corporation</td><td>For profit </td><td> Corporation              </td><td>Yes</td><td>AL</td></tr>\n",
              "\t<tr><td>For profit  ,  Corporation</td><td>For profit </td><td> Corporation              </td><td>Yes</td><td>AL</td></tr>\n",
              "\t<tr><td>Government ,  County    </td><td>Government </td><td> County                   </td><td>No </td><td>AL</td></tr>\n",
              "\t<tr><td>For profit ,  Individual</td><td>For profit </td><td> Individual               </td><td>No </td><td>AL</td></tr>\n",
              "\t<tr><td>For profit ,  Individual</td><td>For profit </td><td> Individual               </td><td>No </td><td>AL</td></tr>\n",
              "\t<tr><td>For profit  ,  Corporation</td><td>For profit </td><td> Corporation              </td><td>Yes</td><td>AL</td></tr>\n",
              "\t<tr><td>For profit  ,  Corporation</td><td>For profit </td><td> Corporation              </td><td>Yes</td><td>AL</td></tr>\n",
              "\t<tr><td>For profit  ,  Corporation</td><td>For profit </td><td> Corporation              </td><td>Yes</td><td>AL</td></tr>\n",
              "\t<tr><td>For profit  ,  Corporation</td><td>For profit </td><td> Corporation              </td><td>Yes</td><td>AL</td></tr>\n",
              "\t<tr><td>For profit  ,  Corporation</td><td>For profit </td><td> Corporation              </td><td>Yes</td><td>AL</td></tr>\n",
              "\t<tr><td>For profit  ,  Corporation</td><td>For profit </td><td> Corporation              </td><td>Yes</td><td>AL</td></tr>\n",
              "\t<tr><td>For profit  ,  Corporation</td><td>For profit </td><td> Corporation              </td><td>Yes</td><td>AL</td></tr>\n",
              "\t<tr><td>For profit  ,  Corporation</td><td>For profit </td><td> Corporation              </td><td>Yes</td><td>AL</td></tr>\n",
              "\t<tr><td>For profit  ,  Corporation</td><td>For profit </td><td> Corporation              </td><td>Yes</td><td>AL</td></tr>\n",
              "\t<tr><td>For profit                ,  Limited Liability company</td><td>For profit </td><td> Limited Liability company</td><td>Yes</td><td>AL</td></tr>\n",
              "\t<tr><td>For profit  ,  Corporation</td><td>For profit </td><td> Corporation              </td><td>Yes</td><td>AL</td></tr>\n",
              "\t<tr><td>For profit  ,  Corporation</td><td>For profit </td><td> Corporation              </td><td>Yes</td><td>AL</td></tr>\n",
              "\t<tr><td>For profit  ,  Corporation</td><td>For profit </td><td> Corporation              </td><td>Yes</td><td>AL</td></tr>\n",
              "\t<tr><td>For profit  ,  Corporation</td><td>For profit </td><td> Corporation              </td><td>Yes</td><td>AL</td></tr>\n",
              "\t<tr><td>Non profit ,  Other     </td><td>Non profit </td><td> Other                    </td><td>No </td><td>AL</td></tr>\n",
              "</tbody>\n",
              "</table>\n"
            ]
          },
          "metadata": {
            "tags": []
          }
        },
        {
          "output_type": "stream",
          "text": [
            "\n",
            "\n",
            "\n",
            "Number of Corporation vs Other types Nursing Homes in MN.\n",
            "\n"
          ],
          "name": "stdout"
        },
        {
          "output_type": "display_data",
          "data": {
            "text/plain": [
              "  Corporation Count\n",
              "1 No          100  \n",
              "2 Yes         267  "
            ],
            "text/latex": "A tibble: 2 × 2\n\\begin{tabular}{r|ll}\n  & Corporation & Count\\\\\n  & <chr> & <int>\\\\\n\\hline\n\t1 & No  & 100\\\\\n\t2 & Yes & 267\\\\\n\\end{tabular}\n",
            "text/markdown": "\nA tibble: 2 × 2\n\n| <!--/--> | Corporation &lt;chr&gt; | Count &lt;int&gt; |\n|---|---|---|\n| 1 | No  | 100 |\n| 2 | Yes | 267 |\n\n",
            "text/html": [
              "<table class=\"dataframe\">\n",
              "<caption>A tibble: 2 × 2</caption>\n",
              "<thead>\n",
              "\t<tr><th></th><th scope=col>Corporation</th><th scope=col>Count</th></tr>\n",
              "\t<tr><th></th><th scope=col>&lt;chr&gt;</th><th scope=col>&lt;int&gt;</th></tr>\n",
              "</thead>\n",
              "<tbody>\n",
              "\t<tr><th scope=row>1</th><td>No </td><td>100</td></tr>\n",
              "\t<tr><th scope=row>2</th><td>Yes</td><td>267</td></tr>\n",
              "</tbody>\n",
              "</table>\n"
            ]
          },
          "metadata": {
            "tags": []
          }
        }
      ]
    },
    {
      "cell_type": "markdown",
      "metadata": {
        "id": "3dHqFoDbeP-i"
      },
      "source": [
        "\r\n",
        "\r\n",
        "---\r\n",
        "\r\n",
        "---\r\n",
        "\r\n",
        "\r\n",
        "\r\n",
        "\r\n",
        "\r\n"
      ]
    },
    {
      "cell_type": "markdown",
      "metadata": {
        "id": "MbHh3dz-aFQI"
      },
      "source": [
        "**Task #3**:  Use the str_split() function to retrieve the State from the ProviderAddress field. "
      ]
    },
    {
      "cell_type": "code",
      "metadata": {
        "colab": {
          "base_uri": "https://localhost:8080/",
          "height": 275
        },
        "id": "e6CaDffraNVZ",
        "outputId": "1af010c1-018f-44ec-fece-ec119e451908"
      },
      "source": [
        "(\r\n",
        " NursingHomes\r\n",
        " %>% select(ProviderAddress)\r\n",
        " %>% head()\r\n",
        ")"
      ],
      "execution_count": 32,
      "outputs": [
        {
          "output_type": "display_data",
          "data": {
            "text/plain": [
              "  ProviderAddress                              \n",
              "1 701 MONROE STREET NW,RUSSELLVILLE,AL,35653   \n",
              "2 260 WEST WALNUT STREET,SYLACAUGA,AL,35150    \n",
              "3 380 WOODS COVE ROAD,SCOTTSBORO,AL,35768      \n",
              "4 7755 FOURTH AVENUE SOUTH,BIRMINGHAM,AL,35206 \n",
              "5 6450 OLD TUSCALOOSA HIGHWAY,MC CALLA,AL,35111\n",
              "6 611 WEST MARKET STREET,ATHENS,AL,35611       "
            ],
            "text/latex": "A tibble: 6 × 1\n\\begin{tabular}{l}\n ProviderAddress\\\\\n <chr>\\\\\n\\hline\n\t 701 MONROE STREET NW,RUSSELLVILLE,AL,35653   \\\\\n\t 260 WEST WALNUT STREET,SYLACAUGA,AL,35150    \\\\\n\t 380 WOODS COVE ROAD,SCOTTSBORO,AL,35768      \\\\\n\t 7755 FOURTH AVENUE SOUTH,BIRMINGHAM,AL,35206 \\\\\n\t 6450 OLD TUSCALOOSA HIGHWAY,MC CALLA,AL,35111\\\\\n\t 611 WEST MARKET STREET,ATHENS,AL,35611       \\\\\n\\end{tabular}\n",
            "text/markdown": "\nA tibble: 6 × 1\n\n| ProviderAddress &lt;chr&gt; |\n|---|\n| 701 MONROE STREET NW,RUSSELLVILLE,AL,35653    |\n| 260 WEST WALNUT STREET,SYLACAUGA,AL,35150     |\n| 380 WOODS COVE ROAD,SCOTTSBORO,AL,35768       |\n| 7755 FOURTH AVENUE SOUTH,BIRMINGHAM,AL,35206  |\n| 6450 OLD TUSCALOOSA HIGHWAY,MC CALLA,AL,35111 |\n| 611 WEST MARKET STREET,ATHENS,AL,35611        |\n\n",
            "text/html": [
              "<table class=\"dataframe\">\n",
              "<caption>A tibble: 6 × 1</caption>\n",
              "<thead>\n",
              "\t<tr><th scope=col>ProviderAddress</th></tr>\n",
              "\t<tr><th scope=col>&lt;chr&gt;</th></tr>\n",
              "</thead>\n",
              "<tbody>\n",
              "\t<tr><td>701 MONROE STREET NW,RUSSELLVILLE,AL,35653   </td></tr>\n",
              "\t<tr><td>260 WEST WALNUT STREET,SYLACAUGA,AL,35150    </td></tr>\n",
              "\t<tr><td>380 WOODS COVE ROAD,SCOTTSBORO,AL,35768      </td></tr>\n",
              "\t<tr><td>7755 FOURTH AVENUE SOUTH,BIRMINGHAM,AL,35206 </td></tr>\n",
              "\t<tr><td>6450 OLD TUSCALOOSA HIGHWAY,MC CALLA,AL,35111</td></tr>\n",
              "\t<tr><td>611 WEST MARKET STREET,ATHENS,AL,35611       </td></tr>\n",
              "</tbody>\n",
              "</table>\n"
            ]
          },
          "metadata": {
            "tags": []
          }
        }
      ]
    }
  ]
}