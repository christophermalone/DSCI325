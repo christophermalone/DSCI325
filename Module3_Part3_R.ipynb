{
  "nbformat": 4,
  "nbformat_minor": 0,
  "metadata": {
    "colab": {
      "name": "Module3_Part3_R.ipynb",
      "provenance": [],
      "collapsed_sections": [],
      "authorship_tag": "ABX9TyO803a0PayxSSr90E0stZ8S",
      "include_colab_link": true
    },
    "kernelspec": {
      "name": "ir",
      "display_name": "R"
    }
  },
  "cells": [
    {
      "cell_type": "markdown",
      "metadata": {
        "id": "view-in-github",
        "colab_type": "text"
      },
      "source": [
        "<a href=\"https://colab.research.google.com/github/christophermalone/DSCI325/blob/main/Module3_Part3_R.ipynb\" target=\"_parent\"><img src=\"https://colab.research.google.com/assets/colab-badge.svg\" alt=\"Open In Colab\"/></a>"
      ]
    },
    {
      "cell_type": "markdown",
      "metadata": {
        "id": "qASiwL4ROcyk"
      },
      "source": [
        "# Module 3 | Part 3 | R : MUTATE()"
      ]
    },
    {
      "cell_type": "markdown",
      "metadata": {
        "id": "_8ilK1-fQtdf"
      },
      "source": [
        "This notebook will discuss the use of the MUTATE() data verb in R."
      ]
    },
    {
      "cell_type": "markdown",
      "metadata": {
        "id": "kNsHvvj9V3v7"
      },
      "source": [
        "<table width='100%' ><tr><td bgcolor='green'></td></tr></table>\n",
        "\n",
        "### Example 3.3.1R\n",
        "For this notebook, consider the Nursing Home Provider dataset.  The datasets is published by the Centers for Medicare and Medicade Services.\n",
        "\n",
        "<table>\n",
        "<tr>\n",
        "<td colspan=\"2\" align='center'>Fields in Dataset</td>\n",
        "</tr>\n",
        "<tr>\n",
        "<td valign='top' align='left'>\n",
        "1: FPN (Federal Provider Number)<br>\n",
        "2: ProviderName<br>\n",
        "3: ProviderAddress<br>\n",
        "4: ProviderCounty<br>\n",
        "5: OwnershipType<br><br>\n",
        "6: NumberBeds<br>\n",
        "7: AverageResidentsperDay<br><br>\n",
        "8: ProviderInHospital<br>\n",
        "9: BusinessName<br>\n",
        "10: ContinuingCareRetirementCommunity<br><br>\n",
        "11: HealthInspection_MoreThan2YearsAgo<br>\n",
        "12: Overall_Rating<br>\n",
        "13: HealthInspection_Rating<br>\n",
        "14: QM_Rating<br>\n",
        "15: LongStayQM_Rating<br>\n",
        "16: ShortStayQM_Rating<br>\n",
        "17: Staffing_Rating<br>\n",
        "18: RNStaffing_Rating<br>\n",
        "</td>\n",
        "<td valign='top' align='left'>\n",
        "19: NurseAideStaffing_Hours<br>\n",
        "20: LPNStaffing_Hours<br>\n",
        "21: RNStaffing_Hours<br>\n",
        "22: LicensedStaffing_Hours<br>\n",
        "23: TotalNurseStaffing_Hours<br>\n",
        "24. TotalNurseStaffing_Hours_Weekend<br>\n",
        "25. NursingStaff_Turnover<br>\n",
        "26: RatingCycle1_Date<br>\n",
        "27: RatingCycle1_HealthDeficiencyScore<br>\n",
        "28: RatingCycle2_Date<br>\n",
        "29: RatingCycle2_HealthDeficiencyScore<br>\n",
        "30: RatingCycle3_Date<br>\n",
        "31: RatingCycle3_HealthDeficiencyScore<br><br>\n",
        "32: NumberofFines<br>\n",
        "33: TotalAmountFines<br>\n",
        "</td>\n",
        "</tr>\n",
        "</table>\n",
        "\n",
        " \n",
        "<br>Original Data Source: https://data.cms.gov/provider-data/search?theme=Nursing%20homes%20including%20rehab%20services\n",
        "\n",
        "<table width='100%' ><tr><td bgcolor='green'></td></tr></table>"
      ]
    },
    {
      "cell_type": "markdown",
      "metadata": {
        "id": "RbdEx7oFV26d"
      },
      "source": [
        "Load the tidyverse() package."
      ]
    },
    {
      "cell_type": "code",
      "metadata": {
        "id": "n6EVJcicYubq",
        "colab": {
          "base_uri": "https://localhost:8080/"
        },
        "outputId": "776b3a99-67cd-4d05-e4f5-f92ef86506ee"
      },
      "source": [
        "library(tidyverse)"
      ],
      "execution_count": 1,
      "outputs": [
        {
          "output_type": "stream",
          "name": "stderr",
          "text": [
            "Warning message in system(\"timedatectl\", intern = TRUE):\n",
            "“running command 'timedatectl' had status 1”\n",
            "── \u001b[1mAttaching packages\u001b[22m ─────────────────────────────────────── tidyverse 1.3.1 ──\n",
            "\n",
            "\u001b[32m✔\u001b[39m \u001b[34mggplot2\u001b[39m 3.3.5     \u001b[32m✔\u001b[39m \u001b[34mpurrr  \u001b[39m 0.3.4\n",
            "\u001b[32m✔\u001b[39m \u001b[34mtibble \u001b[39m 3.1.6     \u001b[32m✔\u001b[39m \u001b[34mdplyr  \u001b[39m 1.0.8\n",
            "\u001b[32m✔\u001b[39m \u001b[34mtidyr  \u001b[39m 1.2.0     \u001b[32m✔\u001b[39m \u001b[34mstringr\u001b[39m 1.4.0\n",
            "\u001b[32m✔\u001b[39m \u001b[34mreadr  \u001b[39m 2.1.2     \u001b[32m✔\u001b[39m \u001b[34mforcats\u001b[39m 0.5.1\n",
            "\n",
            "── \u001b[1mConflicts\u001b[22m ────────────────────────────────────────── tidyverse_conflicts() ──\n",
            "\u001b[31m✖\u001b[39m \u001b[34mdplyr\u001b[39m::\u001b[32mfilter()\u001b[39m masks \u001b[34mstats\u001b[39m::filter()\n",
            "\u001b[31m✖\u001b[39m \u001b[34mdplyr\u001b[39m::\u001b[32mlag()\u001b[39m    masks \u001b[34mstats\u001b[39m::lag()\n",
            "\n"
          ]
        }
      ]
    },
    {
      "cell_type": "markdown",
      "metadata": {
        "id": "4jWmamkmYxMf"
      },
      "source": [
        "Reading in the ProviderInfo.csv dataset using read_csv()."
      ]
    },
    {
      "cell_type": "code",
      "metadata": {
        "colab": {
          "base_uri": "https://localhost:8080/"
        },
        "id": "VrZ7SJGeYxTI",
        "outputId": "9d1d6787-23c9-464d-c563-6b570464b71b"
      },
      "source": [
        "NursingHomes <- read_csv(\"/content/sample_data/ProviderInfo.csv\")"
      ],
      "execution_count": 2,
      "outputs": [
        {
          "output_type": "stream",
          "name": "stderr",
          "text": [
            "\u001b[1mRows: \u001b[22m\u001b[34m15224\u001b[39m \u001b[1mColumns: \u001b[22m\u001b[34m33\u001b[39m\n",
            "\u001b[36m──\u001b[39m \u001b[1mColumn specification\u001b[22m \u001b[36m────────────────────────────────────────────────────────\u001b[39m\n",
            "\u001b[1mDelimiter:\u001b[22m \",\"\n",
            "\u001b[31mchr\u001b[39m (15): FPN, ProviderName, ProviderAddress, ProviderCounty, OwnershipType,...\n",
            "\u001b[32mdbl\u001b[39m (18): NumberBeds, AverageResidentsperDay, OverallRating, HealthInspectio...\n",
            "\n",
            "\u001b[36mℹ\u001b[39m Use \u001b[30m\u001b[47m\u001b[30m\u001b[47m`spec()`\u001b[47m\u001b[30m\u001b[49m\u001b[39m to retrieve the full column specification for this data.\n",
            "\u001b[36mℹ\u001b[39m Specify the column types or set \u001b[30m\u001b[47m\u001b[30m\u001b[47m`show_col_types = FALSE`\u001b[47m\u001b[30m\u001b[49m\u001b[39m to quiet this message.\n"
          ]
        }
      ]
    },
    {
      "cell_type": "markdown",
      "metadata": {
        "id": "APOKwrRgZVwy"
      },
      "source": [
        "Getting some basic information about this dataset."
      ]
    },
    {
      "cell_type": "code",
      "metadata": {
        "colab": {
          "base_uri": "https://localhost:8080/",
          "height": 794
        },
        "id": "8tyeg1QCZV4M",
        "outputId": "b78bc58a-1bc3-4433-f9e8-991347232b3e"
      },
      "source": [
        "#Getting the dimension\n",
        "cat(\"The number of rows and columns in this dataframe is: \\n\")\n",
        "dim(NursingHomes)\n",
        "cat(\"\\n\")\n",
        "\n",
        "\n",
        "#Getting a list of all the field names\n",
        "cat(\"Field names in the Nursing Homes Dataset: \\n\")\n",
        "colnames(NursingHomes)\n",
        "\n",
        "#Seeing first few rows\n",
        "head(NursingHomes)\n"
      ],
      "execution_count": 3,
      "outputs": [
        {
          "output_type": "stream",
          "name": "stdout",
          "text": [
            "The number of rows and columns in this dataframe is: \n"
          ]
        },
        {
          "output_type": "display_data",
          "data": {
            "text/plain": [
              "[1] 15224    33"
            ],
            "text/latex": "\\begin{enumerate*}\n\\item 15224\n\\item 33\n\\end{enumerate*}\n",
            "text/markdown": "1. 15224\n2. 33\n\n\n",
            "text/html": [
              "<style>\n",
              ".list-inline {list-style: none; margin:0; padding: 0}\n",
              ".list-inline>li {display: inline-block}\n",
              ".list-inline>li:not(:last-child)::after {content: \"\\00b7\"; padding: 0 .5ex}\n",
              "</style>\n",
              "<ol class=list-inline><li>15224</li><li>33</li></ol>\n"
            ]
          },
          "metadata": {}
        },
        {
          "output_type": "stream",
          "name": "stdout",
          "text": [
            "\n",
            "Field names in the Nursing Homes Dataset: \n"
          ]
        },
        {
          "output_type": "display_data",
          "data": {
            "text/plain": [
              " [1] \"FPN\"                                \"ProviderName\"                      \n",
              " [3] \"ProviderAddress\"                    \"ProviderCounty\"                    \n",
              " [5] \"OwnershipType\"                      \"NumberBeds\"                        \n",
              " [7] \"AverageResidentsperDay\"             \"ProviderinHospital\"                \n",
              " [9] \"BusinessName\"                       \"ContinuingCareRetirementCommunity\" \n",
              "[11] \"HealthInspection_MoreThan2YearsAgo\" \"OverallRating\"                     \n",
              "[13] \"HealthInspection_Rating\"            \"QM_Rating\"                         \n",
              "[15] \"LongStayQM_Rating\"                  \"ShortStayQM_Rating\"                \n",
              "[17] \"Staffing_Rating\"                    \"RNStaffing_Rating\"                 \n",
              "[19] \"NurseAideStaffing_Hours\"            \"LPNStaffing_Hours\"                 \n",
              "[21] \"RNStaffing_Hours\"                   \"LicensedStaffing_Hours\"            \n",
              "[23] \"TotalNurseStaffing_Hours\"           \"TotalNurseStaffing_Hours_Weekend\"  \n",
              "[25] \"NursingStaff_Turnover\"              \"RatingCycle1_Date\"                 \n",
              "[27] \"RatingCycle1_HealthDeficiencyScore\" \"RatingCycle2_Date\"                 \n",
              "[29] \"RatingCycle2_HealthDeficiencyScore\" \"RatingCycle3_Date\"                 \n",
              "[31] \"RatingCycle3_HealthDeficiencyScore\" \"NumberofFines\"                     \n",
              "[33] \"TotalAmountFines\"                  "
            ],
            "text/latex": "\\begin{enumerate*}\n\\item 'FPN'\n\\item 'ProviderName'\n\\item 'ProviderAddress'\n\\item 'ProviderCounty'\n\\item 'OwnershipType'\n\\item 'NumberBeds'\n\\item 'AverageResidentsperDay'\n\\item 'ProviderinHospital'\n\\item 'BusinessName'\n\\item 'ContinuingCareRetirementCommunity'\n\\item 'HealthInspection\\_MoreThan2YearsAgo'\n\\item 'OverallRating'\n\\item 'HealthInspection\\_Rating'\n\\item 'QM\\_Rating'\n\\item 'LongStayQM\\_Rating'\n\\item 'ShortStayQM\\_Rating'\n\\item 'Staffing\\_Rating'\n\\item 'RNStaffing\\_Rating'\n\\item 'NurseAideStaffing\\_Hours'\n\\item 'LPNStaffing\\_Hours'\n\\item 'RNStaffing\\_Hours'\n\\item 'LicensedStaffing\\_Hours'\n\\item 'TotalNurseStaffing\\_Hours'\n\\item 'TotalNurseStaffing\\_Hours\\_Weekend'\n\\item 'NursingStaff\\_Turnover'\n\\item 'RatingCycle1\\_Date'\n\\item 'RatingCycle1\\_HealthDeficiencyScore'\n\\item 'RatingCycle2\\_Date'\n\\item 'RatingCycle2\\_HealthDeficiencyScore'\n\\item 'RatingCycle3\\_Date'\n\\item 'RatingCycle3\\_HealthDeficiencyScore'\n\\item 'NumberofFines'\n\\item 'TotalAmountFines'\n\\end{enumerate*}\n",
            "text/markdown": "1. 'FPN'\n2. 'ProviderName'\n3. 'ProviderAddress'\n4. 'ProviderCounty'\n5. 'OwnershipType'\n6. 'NumberBeds'\n7. 'AverageResidentsperDay'\n8. 'ProviderinHospital'\n9. 'BusinessName'\n10. 'ContinuingCareRetirementCommunity'\n11. 'HealthInspection_MoreThan2YearsAgo'\n12. 'OverallRating'\n13. 'HealthInspection_Rating'\n14. 'QM_Rating'\n15. 'LongStayQM_Rating'\n16. 'ShortStayQM_Rating'\n17. 'Staffing_Rating'\n18. 'RNStaffing_Rating'\n19. 'NurseAideStaffing_Hours'\n20. 'LPNStaffing_Hours'\n21. 'RNStaffing_Hours'\n22. 'LicensedStaffing_Hours'\n23. 'TotalNurseStaffing_Hours'\n24. 'TotalNurseStaffing_Hours_Weekend'\n25. 'NursingStaff_Turnover'\n26. 'RatingCycle1_Date'\n27. 'RatingCycle1_HealthDeficiencyScore'\n28. 'RatingCycle2_Date'\n29. 'RatingCycle2_HealthDeficiencyScore'\n30. 'RatingCycle3_Date'\n31. 'RatingCycle3_HealthDeficiencyScore'\n32. 'NumberofFines'\n33. 'TotalAmountFines'\n\n\n",
            "text/html": [
              "<style>\n",
              ".list-inline {list-style: none; margin:0; padding: 0}\n",
              ".list-inline>li {display: inline-block}\n",
              ".list-inline>li:not(:last-child)::after {content: \"\\00b7\"; padding: 0 .5ex}\n",
              "</style>\n",
              "<ol class=list-inline><li>'FPN'</li><li>'ProviderName'</li><li>'ProviderAddress'</li><li>'ProviderCounty'</li><li>'OwnershipType'</li><li>'NumberBeds'</li><li>'AverageResidentsperDay'</li><li>'ProviderinHospital'</li><li>'BusinessName'</li><li>'ContinuingCareRetirementCommunity'</li><li>'HealthInspection_MoreThan2YearsAgo'</li><li>'OverallRating'</li><li>'HealthInspection_Rating'</li><li>'QM_Rating'</li><li>'LongStayQM_Rating'</li><li>'ShortStayQM_Rating'</li><li>'Staffing_Rating'</li><li>'RNStaffing_Rating'</li><li>'NurseAideStaffing_Hours'</li><li>'LPNStaffing_Hours'</li><li>'RNStaffing_Hours'</li><li>'LicensedStaffing_Hours'</li><li>'TotalNurseStaffing_Hours'</li><li>'TotalNurseStaffing_Hours_Weekend'</li><li>'NursingStaff_Turnover'</li><li>'RatingCycle1_Date'</li><li>'RatingCycle1_HealthDeficiencyScore'</li><li>'RatingCycle2_Date'</li><li>'RatingCycle2_HealthDeficiencyScore'</li><li>'RatingCycle3_Date'</li><li>'RatingCycle3_HealthDeficiencyScore'</li><li>'NumberofFines'</li><li>'TotalAmountFines'</li></ol>\n"
            ]
          },
          "metadata": {}
        },
        {
          "output_type": "display_data",
          "data": {
            "text/plain": [
              "  FPN   ProviderName                               \n",
              "1 15009 BURNS NURSING HOME, INC.                   \n",
              "2 15010 COOSA VALLEY HEALTHCARE CENTER             \n",
              "3 15012 HIGHLANDS HEALTH AND REHAB                 \n",
              "4 15014 EASTVIEW REHABILITATION & HEALTHCARE CENTER\n",
              "5 15015 PLANTATION MANOR NURSING HOME              \n",
              "6 15016 ATHENS HEALTH AND REHABILITATION LLC       \n",
              "  ProviderAddress                                  ProviderCounty     \n",
              "1 701 MONROE STREET NW, RUSSELLVILLE, AL, 35653    FranklinCounty, AL \n",
              "2 260 WEST WALNUT STREET, SYLACAUGA, AL, 35150     TalladegaCounty, AL\n",
              "3 380 WOODS COVE ROAD, SCOTTSBORO, AL, 35768       JacksonCounty, AL  \n",
              "4 7755 FOURTH AVENUE SOUTH, BIRMINGHAM, AL, 35206  JeffersonCounty, AL\n",
              "5 6450 OLD TUSCALOOSA HIGHWAY, MC CALLA, AL, 35111 JeffersonCounty, AL\n",
              "6 611 WEST MARKET STREET, ATHENS, AL, 35611        LimestoneCounty, AL\n",
              "  OwnershipType            NumberBeds AverageResidentsperDay ProviderinHospital\n",
              "1 For profit - Corporation  57         53.2                  N                 \n",
              "2 For profit - Corporation  85         79.8                  N                 \n",
              "3 Government - County       50         39.9                  Y                 \n",
              "4 For profit - Individual   92         69.4                  N                 \n",
              "5 For profit - Individual  103         72.4                  N                 \n",
              "6 For profit - Corporation 149        119.1                  N                 \n",
              "  BusinessName                         ContinuingCareRetirementCommunity ⋯\n",
              "1 BURNS NURSING HOME, INC.             N                                 ⋯\n",
              "2 COOSA VALLEY HEALTHCARE CENTER LLC   N                                 ⋯\n",
              "3 JACKSON COUNTY HEALTH CARE AUTHORITY N                                 ⋯\n",
              "4 BALL HEALTHCARE EASTVIEW INC         N                                 ⋯\n",
              "5 C & G HEALTHCARE SERVICES, INC.      N                                 ⋯\n",
              "6 ATHENS HEALTH AND REHABILITATION LLC N                                 ⋯\n",
              "  TotalNurseStaffing_Hours_Weekend NursingStaff_Turnover RatingCycle1_Date\n",
              "1      NA                            NA                  8/21/2019        \n",
              "2 3.22221                          52.4                  6/13/2019        \n",
              "3      NA                            NA                  6/6/2019         \n",
              "4 2.81626                            NA                  2/20/2020        \n",
              "5 3.63016                          51.3                  3/5/2020         \n",
              "6 2.66442                          57.0                  8/29/2019        \n",
              "  RatingCycle1_HealthDeficiencyScore RatingCycle2_Date\n",
              "1 8                                  8/1/2018         \n",
              "2 4                                  6/7/2018         \n",
              "3 20                                 5/3/2018         \n",
              "4 4                                  1/24/2019        \n",
              "5 20                                 5/2/2019         \n",
              "6 20                                 7/19/2018        \n",
              "  RatingCycle2_HealthDeficiencyScore RatingCycle3_Date\n",
              "1 4                                  6/22/2017        \n",
              "2 32                                 4/6/2017         \n",
              "3 40                                 3/16/2017        \n",
              "4 20                                 1/25/2018        \n",
              "5 4                                  4/19/2018        \n",
              "6 24                                 6/1/2017         \n",
              "  RatingCycle3_HealthDeficiencyScore NumberofFines TotalAmountFines\n",
              "1 0                                  1              650            \n",
              "2 36                                 1              650            \n",
              "3 44                                 0                0            \n",
              "4 24                                 0                0            \n",
              "5 28                                 3             8333            \n",
              "6 24                                 0                0            "
            ],
            "text/latex": "A tibble: 6 × 33\n\\begin{tabular}{lllllllllllllllllllll}\n FPN & ProviderName & ProviderAddress & ProviderCounty & OwnershipType & NumberBeds & AverageResidentsperDay & ProviderinHospital & BusinessName & ContinuingCareRetirementCommunity & ⋯ & TotalNurseStaffing\\_Hours\\_Weekend & NursingStaff\\_Turnover & RatingCycle1\\_Date & RatingCycle1\\_HealthDeficiencyScore & RatingCycle2\\_Date & RatingCycle2\\_HealthDeficiencyScore & RatingCycle3\\_Date & RatingCycle3\\_HealthDeficiencyScore & NumberofFines & TotalAmountFines\\\\\n <chr> & <chr> & <chr> & <chr> & <chr> & <dbl> & <dbl> & <chr> & <chr> & <chr> & ⋯ & <dbl> & <dbl> & <chr> & <chr> & <chr> & <chr> & <chr> & <chr> & <dbl> & <dbl>\\\\\n\\hline\n\t 15009 & BURNS NURSING HOME, INC.                    & 701 MONROE STREET NW, RUSSELLVILLE, AL, 35653    & FranklinCounty, AL  & For profit - Corporation &  57 &  53.2 & N & BURNS NURSING HOME, INC.             & N & ⋯ &      NA &   NA & 8/21/2019 & 8  & 8/1/2018  & 4  & 6/22/2017 & 0  & 1 &  650\\\\\n\t 15010 & COOSA VALLEY HEALTHCARE CENTER              & 260 WEST WALNUT STREET, SYLACAUGA, AL, 35150     & TalladegaCounty, AL & For profit - Corporation &  85 &  79.8 & N & COOSA VALLEY HEALTHCARE CENTER LLC   & N & ⋯ & 3.22221 & 52.4 & 6/13/2019 & 4  & 6/7/2018  & 32 & 4/6/2017  & 36 & 1 &  650\\\\\n\t 15012 & HIGHLANDS HEALTH AND REHAB                  & 380 WOODS COVE ROAD, SCOTTSBORO, AL, 35768       & JacksonCounty, AL   & Government - County      &  50 &  39.9 & Y & JACKSON COUNTY HEALTH CARE AUTHORITY & N & ⋯ &      NA &   NA & 6/6/2019  & 20 & 5/3/2018  & 40 & 3/16/2017 & 44 & 0 &    0\\\\\n\t 15014 & EASTVIEW REHABILITATION \\& HEALTHCARE CENTER & 7755 FOURTH AVENUE SOUTH, BIRMINGHAM, AL, 35206  & JeffersonCounty, AL & For profit - Individual  &  92 &  69.4 & N & BALL HEALTHCARE EASTVIEW INC         & N & ⋯ & 2.81626 &   NA & 2/20/2020 & 4  & 1/24/2019 & 20 & 1/25/2018 & 24 & 0 &    0\\\\\n\t 15015 & PLANTATION MANOR NURSING HOME               & 6450 OLD TUSCALOOSA HIGHWAY, MC CALLA, AL, 35111 & JeffersonCounty, AL & For profit - Individual  & 103 &  72.4 & N & C \\& G HEALTHCARE SERVICES, INC.      & N & ⋯ & 3.63016 & 51.3 & 3/5/2020  & 20 & 5/2/2019  & 4  & 4/19/2018 & 28 & 3 & 8333\\\\\n\t 15016 & ATHENS HEALTH AND REHABILITATION LLC        & 611 WEST MARKET STREET, ATHENS, AL, 35611        & LimestoneCounty, AL & For profit - Corporation & 149 & 119.1 & N & ATHENS HEALTH AND REHABILITATION LLC & N & ⋯ & 2.66442 & 57.0 & 8/29/2019 & 20 & 7/19/2018 & 24 & 6/1/2017  & 24 & 0 &    0\\\\\n\\end{tabular}\n",
            "text/markdown": "\nA tibble: 6 × 33\n\n| FPN &lt;chr&gt; | ProviderName &lt;chr&gt; | ProviderAddress &lt;chr&gt; | ProviderCounty &lt;chr&gt; | OwnershipType &lt;chr&gt; | NumberBeds &lt;dbl&gt; | AverageResidentsperDay &lt;dbl&gt; | ProviderinHospital &lt;chr&gt; | BusinessName &lt;chr&gt; | ContinuingCareRetirementCommunity &lt;chr&gt; | ⋯ ⋯ | TotalNurseStaffing_Hours_Weekend &lt;dbl&gt; | NursingStaff_Turnover &lt;dbl&gt; | RatingCycle1_Date &lt;chr&gt; | RatingCycle1_HealthDeficiencyScore &lt;chr&gt; | RatingCycle2_Date &lt;chr&gt; | RatingCycle2_HealthDeficiencyScore &lt;chr&gt; | RatingCycle3_Date &lt;chr&gt; | RatingCycle3_HealthDeficiencyScore &lt;chr&gt; | NumberofFines &lt;dbl&gt; | TotalAmountFines &lt;dbl&gt; |\n|---|---|---|---|---|---|---|---|---|---|---|---|---|---|---|---|---|---|---|---|---|\n| 15009 | BURNS NURSING HOME, INC.                    | 701 MONROE STREET NW, RUSSELLVILLE, AL, 35653    | FranklinCounty, AL  | For profit - Corporation |  57 |  53.2 | N | BURNS NURSING HOME, INC.             | N | ⋯ |      NA |   NA | 8/21/2019 | 8  | 8/1/2018  | 4  | 6/22/2017 | 0  | 1 |  650 |\n| 15010 | COOSA VALLEY HEALTHCARE CENTER              | 260 WEST WALNUT STREET, SYLACAUGA, AL, 35150     | TalladegaCounty, AL | For profit - Corporation |  85 |  79.8 | N | COOSA VALLEY HEALTHCARE CENTER LLC   | N | ⋯ | 3.22221 | 52.4 | 6/13/2019 | 4  | 6/7/2018  | 32 | 4/6/2017  | 36 | 1 |  650 |\n| 15012 | HIGHLANDS HEALTH AND REHAB                  | 380 WOODS COVE ROAD, SCOTTSBORO, AL, 35768       | JacksonCounty, AL   | Government - County      |  50 |  39.9 | Y | JACKSON COUNTY HEALTH CARE AUTHORITY | N | ⋯ |      NA |   NA | 6/6/2019  | 20 | 5/3/2018  | 40 | 3/16/2017 | 44 | 0 |    0 |\n| 15014 | EASTVIEW REHABILITATION &amp; HEALTHCARE CENTER | 7755 FOURTH AVENUE SOUTH, BIRMINGHAM, AL, 35206  | JeffersonCounty, AL | For profit - Individual  |  92 |  69.4 | N | BALL HEALTHCARE EASTVIEW INC         | N | ⋯ | 2.81626 |   NA | 2/20/2020 | 4  | 1/24/2019 | 20 | 1/25/2018 | 24 | 0 |    0 |\n| 15015 | PLANTATION MANOR NURSING HOME               | 6450 OLD TUSCALOOSA HIGHWAY, MC CALLA, AL, 35111 | JeffersonCounty, AL | For profit - Individual  | 103 |  72.4 | N | C &amp; G HEALTHCARE SERVICES, INC.      | N | ⋯ | 3.63016 | 51.3 | 3/5/2020  | 20 | 5/2/2019  | 4  | 4/19/2018 | 28 | 3 | 8333 |\n| 15016 | ATHENS HEALTH AND REHABILITATION LLC        | 611 WEST MARKET STREET, ATHENS, AL, 35611        | LimestoneCounty, AL | For profit - Corporation | 149 | 119.1 | N | ATHENS HEALTH AND REHABILITATION LLC | N | ⋯ | 2.66442 | 57.0 | 8/29/2019 | 20 | 7/19/2018 | 24 | 6/1/2017  | 24 | 0 |    0 |\n\n",
            "text/html": [
              "<table class=\"dataframe\">\n",
              "<caption>A tibble: 6 × 33</caption>\n",
              "<thead>\n",
              "\t<tr><th scope=col>FPN</th><th scope=col>ProviderName</th><th scope=col>ProviderAddress</th><th scope=col>ProviderCounty</th><th scope=col>OwnershipType</th><th scope=col>NumberBeds</th><th scope=col>AverageResidentsperDay</th><th scope=col>ProviderinHospital</th><th scope=col>BusinessName</th><th scope=col>ContinuingCareRetirementCommunity</th><th scope=col>⋯</th><th scope=col>TotalNurseStaffing_Hours_Weekend</th><th scope=col>NursingStaff_Turnover</th><th scope=col>RatingCycle1_Date</th><th scope=col>RatingCycle1_HealthDeficiencyScore</th><th scope=col>RatingCycle2_Date</th><th scope=col>RatingCycle2_HealthDeficiencyScore</th><th scope=col>RatingCycle3_Date</th><th scope=col>RatingCycle3_HealthDeficiencyScore</th><th scope=col>NumberofFines</th><th scope=col>TotalAmountFines</th></tr>\n",
              "\t<tr><th scope=col>&lt;chr&gt;</th><th scope=col>&lt;chr&gt;</th><th scope=col>&lt;chr&gt;</th><th scope=col>&lt;chr&gt;</th><th scope=col>&lt;chr&gt;</th><th scope=col>&lt;dbl&gt;</th><th scope=col>&lt;dbl&gt;</th><th scope=col>&lt;chr&gt;</th><th scope=col>&lt;chr&gt;</th><th scope=col>&lt;chr&gt;</th><th scope=col>⋯</th><th scope=col>&lt;dbl&gt;</th><th scope=col>&lt;dbl&gt;</th><th scope=col>&lt;chr&gt;</th><th scope=col>&lt;chr&gt;</th><th scope=col>&lt;chr&gt;</th><th scope=col>&lt;chr&gt;</th><th scope=col>&lt;chr&gt;</th><th scope=col>&lt;chr&gt;</th><th scope=col>&lt;dbl&gt;</th><th scope=col>&lt;dbl&gt;</th></tr>\n",
              "</thead>\n",
              "<tbody>\n",
              "\t<tr><td>15009</td><td>BURNS NURSING HOME, INC.                   </td><td>701 MONROE STREET NW, RUSSELLVILLE, AL, 35653   </td><td>FranklinCounty, AL </td><td>For profit - Corporation</td><td> 57</td><td> 53.2</td><td>N</td><td>BURNS NURSING HOME, INC.            </td><td>N</td><td>⋯</td><td>     NA</td><td>  NA</td><td>8/21/2019</td><td>8 </td><td>8/1/2018 </td><td>4 </td><td>6/22/2017</td><td>0 </td><td>1</td><td> 650</td></tr>\n",
              "\t<tr><td>15010</td><td>COOSA VALLEY HEALTHCARE CENTER             </td><td>260 WEST WALNUT STREET, SYLACAUGA, AL, 35150    </td><td>TalladegaCounty, AL</td><td>For profit - Corporation</td><td> 85</td><td> 79.8</td><td>N</td><td>COOSA VALLEY HEALTHCARE CENTER LLC  </td><td>N</td><td>⋯</td><td>3.22221</td><td>52.4</td><td>6/13/2019</td><td>4 </td><td>6/7/2018 </td><td>32</td><td>4/6/2017 </td><td>36</td><td>1</td><td> 650</td></tr>\n",
              "\t<tr><td>15012</td><td>HIGHLANDS HEALTH AND REHAB                 </td><td>380 WOODS COVE ROAD, SCOTTSBORO, AL, 35768      </td><td>JacksonCounty, AL  </td><td>Government - County     </td><td> 50</td><td> 39.9</td><td>Y</td><td>JACKSON COUNTY HEALTH CARE AUTHORITY</td><td>N</td><td>⋯</td><td>     NA</td><td>  NA</td><td>6/6/2019 </td><td>20</td><td>5/3/2018 </td><td>40</td><td>3/16/2017</td><td>44</td><td>0</td><td>   0</td></tr>\n",
              "\t<tr><td>15014</td><td>EASTVIEW REHABILITATION &amp; HEALTHCARE CENTER</td><td>7755 FOURTH AVENUE SOUTH, BIRMINGHAM, AL, 35206 </td><td>JeffersonCounty, AL</td><td>For profit - Individual </td><td> 92</td><td> 69.4</td><td>N</td><td><span style=white-space:pre-wrap>BALL HEALTHCARE EASTVIEW INC        </span></td><td>N</td><td>⋯</td><td>2.81626</td><td><span style=white-space:pre-wrap>  NA</span></td><td>2/20/2020</td><td>4 </td><td>1/24/2019</td><td>20</td><td>1/25/2018</td><td>24</td><td>0</td><td><span style=white-space:pre-wrap>   0</span></td></tr>\n",
              "\t<tr><td>15015</td><td><span style=white-space:pre-wrap>PLANTATION MANOR NURSING HOME              </span></td><td>6450 OLD TUSCALOOSA HIGHWAY, MC CALLA, AL, 35111</td><td>JeffersonCounty, AL</td><td>For profit - Individual </td><td>103</td><td> 72.4</td><td>N</td><td><span style=white-space:pre-wrap>C &amp; G HEALTHCARE SERVICES, INC.     </span></td><td>N</td><td>⋯</td><td>3.63016</td><td>51.3</td><td>3/5/2020 </td><td>20</td><td>5/2/2019 </td><td>4 </td><td>4/19/2018</td><td>28</td><td>3</td><td>8333</td></tr>\n",
              "\t<tr><td>15016</td><td>ATHENS HEALTH AND REHABILITATION LLC       </td><td>611 WEST MARKET STREET, ATHENS, AL, 35611       </td><td>LimestoneCounty, AL</td><td>For profit - Corporation</td><td>149</td><td>119.1</td><td>N</td><td>ATHENS HEALTH AND REHABILITATION LLC</td><td>N</td><td>⋯</td><td>2.66442</td><td>57.0</td><td>8/29/2019</td><td>20</td><td>7/19/2018</td><td>24</td><td>6/1/2017 </td><td>24</td><td>0</td><td>   0</td></tr>\n",
              "</tbody>\n",
              "</table>\n"
            ]
          },
          "metadata": {}
        }
      ]
    },
    {
      "cell_type": "markdown",
      "metadata": {
        "id": "9wNqeGVCaXtk"
      },
      "source": [
        "# Create New Field - Numeric"
      ]
    },
    {
      "cell_type": "markdown",
      "metadata": {
        "id": "goubZQxTbbbY"
      },
      "source": [
        "Nursing homes are most profitable when they have lots of residents, i.e. are near capacity.  Consider the following new field to be calculated for this data.\n",
        "\n",
        "$$Capacity = \\frac{Average \\space Residents \\space per \\space Day}{Number \\space of \\space Beds}$$\n",
        "\n",
        "The <strong>mutate()</strong> function in the <strong>dplyr</strong> package will can be used to complete this task.  The mutate() function has the following syntax."
      ]
    },
    {
      "cell_type": "code",
      "metadata": {
        "colab": {
          "base_uri": "https://localhost:8080/",
          "height": 653
        },
        "id": "8WLEv7vdaX0b",
        "outputId": "2c1e709f-0b4a-4b88-a7cf-1f2527d5b16a"
      },
      "source": [
        "(\n",
        "  NursingHomes\n",
        "  %>% mutate(Capacity = AverageResidentsperDay / NumberBeds)\n",
        "  %>% head()\n",
        ") "
      ],
      "execution_count": 4,
      "outputs": [
        {
          "output_type": "display_data",
          "data": {
            "text/plain": [
              "  FPN   ProviderName                               \n",
              "1 15009 BURNS NURSING HOME, INC.                   \n",
              "2 15010 COOSA VALLEY HEALTHCARE CENTER             \n",
              "3 15012 HIGHLANDS HEALTH AND REHAB                 \n",
              "4 15014 EASTVIEW REHABILITATION & HEALTHCARE CENTER\n",
              "5 15015 PLANTATION MANOR NURSING HOME              \n",
              "6 15016 ATHENS HEALTH AND REHABILITATION LLC       \n",
              "  ProviderAddress                                  ProviderCounty     \n",
              "1 701 MONROE STREET NW, RUSSELLVILLE, AL, 35653    FranklinCounty, AL \n",
              "2 260 WEST WALNUT STREET, SYLACAUGA, AL, 35150     TalladegaCounty, AL\n",
              "3 380 WOODS COVE ROAD, SCOTTSBORO, AL, 35768       JacksonCounty, AL  \n",
              "4 7755 FOURTH AVENUE SOUTH, BIRMINGHAM, AL, 35206  JeffersonCounty, AL\n",
              "5 6450 OLD TUSCALOOSA HIGHWAY, MC CALLA, AL, 35111 JeffersonCounty, AL\n",
              "6 611 WEST MARKET STREET, ATHENS, AL, 35611        LimestoneCounty, AL\n",
              "  OwnershipType            NumberBeds AverageResidentsperDay ProviderinHospital\n",
              "1 For profit - Corporation  57         53.2                  N                 \n",
              "2 For profit - Corporation  85         79.8                  N                 \n",
              "3 Government - County       50         39.9                  Y                 \n",
              "4 For profit - Individual   92         69.4                  N                 \n",
              "5 For profit - Individual  103         72.4                  N                 \n",
              "6 For profit - Corporation 149        119.1                  N                 \n",
              "  BusinessName                         ContinuingCareRetirementCommunity ⋯\n",
              "1 BURNS NURSING HOME, INC.             N                                 ⋯\n",
              "2 COOSA VALLEY HEALTHCARE CENTER LLC   N                                 ⋯\n",
              "3 JACKSON COUNTY HEALTH CARE AUTHORITY N                                 ⋯\n",
              "4 BALL HEALTHCARE EASTVIEW INC         N                                 ⋯\n",
              "5 C & G HEALTHCARE SERVICES, INC.      N                                 ⋯\n",
              "6 ATHENS HEALTH AND REHABILITATION LLC N                                 ⋯\n",
              "  NursingStaff_Turnover RatingCycle1_Date RatingCycle1_HealthDeficiencyScore\n",
              "1   NA                  8/21/2019         8                                 \n",
              "2 52.4                  6/13/2019         4                                 \n",
              "3   NA                  6/6/2019          20                                \n",
              "4   NA                  2/20/2020         4                                 \n",
              "5 51.3                  3/5/2020          20                                \n",
              "6 57.0                  8/29/2019         20                                \n",
              "  RatingCycle2_Date RatingCycle2_HealthDeficiencyScore RatingCycle3_Date\n",
              "1 8/1/2018          4                                  6/22/2017        \n",
              "2 6/7/2018          32                                 4/6/2017         \n",
              "3 5/3/2018          40                                 3/16/2017        \n",
              "4 1/24/2019         20                                 1/25/2018        \n",
              "5 5/2/2019          4                                  4/19/2018        \n",
              "6 7/19/2018         24                                 6/1/2017         \n",
              "  RatingCycle3_HealthDeficiencyScore NumberofFines TotalAmountFines Capacity \n",
              "1 0                                  1              650             0.9333333\n",
              "2 36                                 1              650             0.9388235\n",
              "3 44                                 0                0             0.7980000\n",
              "4 24                                 0                0             0.7543478\n",
              "5 28                                 3             8333             0.7029126\n",
              "6 24                                 0                0             0.7993289"
            ],
            "text/latex": "A tibble: 6 × 34\n\\begin{tabular}{lllllllllllllllllllll}\n FPN & ProviderName & ProviderAddress & ProviderCounty & OwnershipType & NumberBeds & AverageResidentsperDay & ProviderinHospital & BusinessName & ContinuingCareRetirementCommunity & ⋯ & NursingStaff\\_Turnover & RatingCycle1\\_Date & RatingCycle1\\_HealthDeficiencyScore & RatingCycle2\\_Date & RatingCycle2\\_HealthDeficiencyScore & RatingCycle3\\_Date & RatingCycle3\\_HealthDeficiencyScore & NumberofFines & TotalAmountFines & Capacity\\\\\n <chr> & <chr> & <chr> & <chr> & <chr> & <dbl> & <dbl> & <chr> & <chr> & <chr> & ⋯ & <dbl> & <chr> & <chr> & <chr> & <chr> & <chr> & <chr> & <dbl> & <dbl> & <dbl>\\\\\n\\hline\n\t 15009 & BURNS NURSING HOME, INC.                    & 701 MONROE STREET NW, RUSSELLVILLE, AL, 35653    & FranklinCounty, AL  & For profit - Corporation &  57 &  53.2 & N & BURNS NURSING HOME, INC.             & N & ⋯ &   NA & 8/21/2019 & 8  & 8/1/2018  & 4  & 6/22/2017 & 0  & 1 &  650 & 0.9333333\\\\\n\t 15010 & COOSA VALLEY HEALTHCARE CENTER              & 260 WEST WALNUT STREET, SYLACAUGA, AL, 35150     & TalladegaCounty, AL & For profit - Corporation &  85 &  79.8 & N & COOSA VALLEY HEALTHCARE CENTER LLC   & N & ⋯ & 52.4 & 6/13/2019 & 4  & 6/7/2018  & 32 & 4/6/2017  & 36 & 1 &  650 & 0.9388235\\\\\n\t 15012 & HIGHLANDS HEALTH AND REHAB                  & 380 WOODS COVE ROAD, SCOTTSBORO, AL, 35768       & JacksonCounty, AL   & Government - County      &  50 &  39.9 & Y & JACKSON COUNTY HEALTH CARE AUTHORITY & N & ⋯ &   NA & 6/6/2019  & 20 & 5/3/2018  & 40 & 3/16/2017 & 44 & 0 &    0 & 0.7980000\\\\\n\t 15014 & EASTVIEW REHABILITATION \\& HEALTHCARE CENTER & 7755 FOURTH AVENUE SOUTH, BIRMINGHAM, AL, 35206  & JeffersonCounty, AL & For profit - Individual  &  92 &  69.4 & N & BALL HEALTHCARE EASTVIEW INC         & N & ⋯ &   NA & 2/20/2020 & 4  & 1/24/2019 & 20 & 1/25/2018 & 24 & 0 &    0 & 0.7543478\\\\\n\t 15015 & PLANTATION MANOR NURSING HOME               & 6450 OLD TUSCALOOSA HIGHWAY, MC CALLA, AL, 35111 & JeffersonCounty, AL & For profit - Individual  & 103 &  72.4 & N & C \\& G HEALTHCARE SERVICES, INC.      & N & ⋯ & 51.3 & 3/5/2020  & 20 & 5/2/2019  & 4  & 4/19/2018 & 28 & 3 & 8333 & 0.7029126\\\\\n\t 15016 & ATHENS HEALTH AND REHABILITATION LLC        & 611 WEST MARKET STREET, ATHENS, AL, 35611        & LimestoneCounty, AL & For profit - Corporation & 149 & 119.1 & N & ATHENS HEALTH AND REHABILITATION LLC & N & ⋯ & 57.0 & 8/29/2019 & 20 & 7/19/2018 & 24 & 6/1/2017  & 24 & 0 &    0 & 0.7993289\\\\\n\\end{tabular}\n",
            "text/markdown": "\nA tibble: 6 × 34\n\n| FPN &lt;chr&gt; | ProviderName &lt;chr&gt; | ProviderAddress &lt;chr&gt; | ProviderCounty &lt;chr&gt; | OwnershipType &lt;chr&gt; | NumberBeds &lt;dbl&gt; | AverageResidentsperDay &lt;dbl&gt; | ProviderinHospital &lt;chr&gt; | BusinessName &lt;chr&gt; | ContinuingCareRetirementCommunity &lt;chr&gt; | ⋯ ⋯ | NursingStaff_Turnover &lt;dbl&gt; | RatingCycle1_Date &lt;chr&gt; | RatingCycle1_HealthDeficiencyScore &lt;chr&gt; | RatingCycle2_Date &lt;chr&gt; | RatingCycle2_HealthDeficiencyScore &lt;chr&gt; | RatingCycle3_Date &lt;chr&gt; | RatingCycle3_HealthDeficiencyScore &lt;chr&gt; | NumberofFines &lt;dbl&gt; | TotalAmountFines &lt;dbl&gt; | Capacity &lt;dbl&gt; |\n|---|---|---|---|---|---|---|---|---|---|---|---|---|---|---|---|---|---|---|---|---|\n| 15009 | BURNS NURSING HOME, INC.                    | 701 MONROE STREET NW, RUSSELLVILLE, AL, 35653    | FranklinCounty, AL  | For profit - Corporation |  57 |  53.2 | N | BURNS NURSING HOME, INC.             | N | ⋯ |   NA | 8/21/2019 | 8  | 8/1/2018  | 4  | 6/22/2017 | 0  | 1 |  650 | 0.9333333 |\n| 15010 | COOSA VALLEY HEALTHCARE CENTER              | 260 WEST WALNUT STREET, SYLACAUGA, AL, 35150     | TalladegaCounty, AL | For profit - Corporation |  85 |  79.8 | N | COOSA VALLEY HEALTHCARE CENTER LLC   | N | ⋯ | 52.4 | 6/13/2019 | 4  | 6/7/2018  | 32 | 4/6/2017  | 36 | 1 |  650 | 0.9388235 |\n| 15012 | HIGHLANDS HEALTH AND REHAB                  | 380 WOODS COVE ROAD, SCOTTSBORO, AL, 35768       | JacksonCounty, AL   | Government - County      |  50 |  39.9 | Y | JACKSON COUNTY HEALTH CARE AUTHORITY | N | ⋯ |   NA | 6/6/2019  | 20 | 5/3/2018  | 40 | 3/16/2017 | 44 | 0 |    0 | 0.7980000 |\n| 15014 | EASTVIEW REHABILITATION &amp; HEALTHCARE CENTER | 7755 FOURTH AVENUE SOUTH, BIRMINGHAM, AL, 35206  | JeffersonCounty, AL | For profit - Individual  |  92 |  69.4 | N | BALL HEALTHCARE EASTVIEW INC         | N | ⋯ |   NA | 2/20/2020 | 4  | 1/24/2019 | 20 | 1/25/2018 | 24 | 0 |    0 | 0.7543478 |\n| 15015 | PLANTATION MANOR NURSING HOME               | 6450 OLD TUSCALOOSA HIGHWAY, MC CALLA, AL, 35111 | JeffersonCounty, AL | For profit - Individual  | 103 |  72.4 | N | C &amp; G HEALTHCARE SERVICES, INC.      | N | ⋯ | 51.3 | 3/5/2020  | 20 | 5/2/2019  | 4  | 4/19/2018 | 28 | 3 | 8333 | 0.7029126 |\n| 15016 | ATHENS HEALTH AND REHABILITATION LLC        | 611 WEST MARKET STREET, ATHENS, AL, 35611        | LimestoneCounty, AL | For profit - Corporation | 149 | 119.1 | N | ATHENS HEALTH AND REHABILITATION LLC | N | ⋯ | 57.0 | 8/29/2019 | 20 | 7/19/2018 | 24 | 6/1/2017  | 24 | 0 |    0 | 0.7993289 |\n\n",
            "text/html": [
              "<table class=\"dataframe\">\n",
              "<caption>A tibble: 6 × 34</caption>\n",
              "<thead>\n",
              "\t<tr><th scope=col>FPN</th><th scope=col>ProviderName</th><th scope=col>ProviderAddress</th><th scope=col>ProviderCounty</th><th scope=col>OwnershipType</th><th scope=col>NumberBeds</th><th scope=col>AverageResidentsperDay</th><th scope=col>ProviderinHospital</th><th scope=col>BusinessName</th><th scope=col>ContinuingCareRetirementCommunity</th><th scope=col>⋯</th><th scope=col>NursingStaff_Turnover</th><th scope=col>RatingCycle1_Date</th><th scope=col>RatingCycle1_HealthDeficiencyScore</th><th scope=col>RatingCycle2_Date</th><th scope=col>RatingCycle2_HealthDeficiencyScore</th><th scope=col>RatingCycle3_Date</th><th scope=col>RatingCycle3_HealthDeficiencyScore</th><th scope=col>NumberofFines</th><th scope=col>TotalAmountFines</th><th scope=col>Capacity</th></tr>\n",
              "\t<tr><th scope=col>&lt;chr&gt;</th><th scope=col>&lt;chr&gt;</th><th scope=col>&lt;chr&gt;</th><th scope=col>&lt;chr&gt;</th><th scope=col>&lt;chr&gt;</th><th scope=col>&lt;dbl&gt;</th><th scope=col>&lt;dbl&gt;</th><th scope=col>&lt;chr&gt;</th><th scope=col>&lt;chr&gt;</th><th scope=col>&lt;chr&gt;</th><th scope=col>⋯</th><th scope=col>&lt;dbl&gt;</th><th scope=col>&lt;chr&gt;</th><th scope=col>&lt;chr&gt;</th><th scope=col>&lt;chr&gt;</th><th scope=col>&lt;chr&gt;</th><th scope=col>&lt;chr&gt;</th><th scope=col>&lt;chr&gt;</th><th scope=col>&lt;dbl&gt;</th><th scope=col>&lt;dbl&gt;</th><th scope=col>&lt;dbl&gt;</th></tr>\n",
              "</thead>\n",
              "<tbody>\n",
              "\t<tr><td>15009</td><td>BURNS NURSING HOME, INC.                   </td><td>701 MONROE STREET NW, RUSSELLVILLE, AL, 35653   </td><td>FranklinCounty, AL </td><td>For profit - Corporation</td><td> 57</td><td> 53.2</td><td>N</td><td>BURNS NURSING HOME, INC.            </td><td>N</td><td>⋯</td><td>  NA</td><td>8/21/2019</td><td>8 </td><td>8/1/2018 </td><td>4 </td><td>6/22/2017</td><td>0 </td><td>1</td><td> 650</td><td>0.9333333</td></tr>\n",
              "\t<tr><td>15010</td><td>COOSA VALLEY HEALTHCARE CENTER             </td><td>260 WEST WALNUT STREET, SYLACAUGA, AL, 35150    </td><td>TalladegaCounty, AL</td><td>For profit - Corporation</td><td> 85</td><td> 79.8</td><td>N</td><td>COOSA VALLEY HEALTHCARE CENTER LLC  </td><td>N</td><td>⋯</td><td>52.4</td><td>6/13/2019</td><td>4 </td><td>6/7/2018 </td><td>32</td><td>4/6/2017 </td><td>36</td><td>1</td><td> 650</td><td>0.9388235</td></tr>\n",
              "\t<tr><td>15012</td><td>HIGHLANDS HEALTH AND REHAB                 </td><td>380 WOODS COVE ROAD, SCOTTSBORO, AL, 35768      </td><td>JacksonCounty, AL  </td><td>Government - County     </td><td> 50</td><td> 39.9</td><td>Y</td><td>JACKSON COUNTY HEALTH CARE AUTHORITY</td><td>N</td><td>⋯</td><td>  NA</td><td>6/6/2019 </td><td>20</td><td>5/3/2018 </td><td>40</td><td>3/16/2017</td><td>44</td><td>0</td><td>   0</td><td>0.7980000</td></tr>\n",
              "\t<tr><td>15014</td><td>EASTVIEW REHABILITATION &amp; HEALTHCARE CENTER</td><td>7755 FOURTH AVENUE SOUTH, BIRMINGHAM, AL, 35206 </td><td>JeffersonCounty, AL</td><td>For profit - Individual </td><td> 92</td><td> 69.4</td><td>N</td><td><span style=white-space:pre-wrap>BALL HEALTHCARE EASTVIEW INC        </span></td><td>N</td><td>⋯</td><td><span style=white-space:pre-wrap>  NA</span></td><td>2/20/2020</td><td>4 </td><td>1/24/2019</td><td>20</td><td>1/25/2018</td><td>24</td><td>0</td><td><span style=white-space:pre-wrap>   0</span></td><td>0.7543478</td></tr>\n",
              "\t<tr><td>15015</td><td><span style=white-space:pre-wrap>PLANTATION MANOR NURSING HOME              </span></td><td>6450 OLD TUSCALOOSA HIGHWAY, MC CALLA, AL, 35111</td><td>JeffersonCounty, AL</td><td>For profit - Individual </td><td>103</td><td> 72.4</td><td>N</td><td><span style=white-space:pre-wrap>C &amp; G HEALTHCARE SERVICES, INC.     </span></td><td>N</td><td>⋯</td><td>51.3</td><td>3/5/2020 </td><td>20</td><td>5/2/2019 </td><td>4 </td><td>4/19/2018</td><td>28</td><td>3</td><td>8333</td><td>0.7029126</td></tr>\n",
              "\t<tr><td>15016</td><td>ATHENS HEALTH AND REHABILITATION LLC       </td><td>611 WEST MARKET STREET, ATHENS, AL, 35611       </td><td>LimestoneCounty, AL</td><td>For profit - Corporation</td><td>149</td><td>119.1</td><td>N</td><td>ATHENS HEALTH AND REHABILITATION LLC</td><td>N</td><td>⋯</td><td>57.0</td><td>8/29/2019</td><td>20</td><td>7/19/2018</td><td>24</td><td>6/1/2017 </td><td>24</td><td>0</td><td>   0</td><td>0.7993289</td></tr>\n",
              "</tbody>\n",
              "</table>\n"
            ]
          },
          "metadata": {}
        }
      ]
    },
    {
      "cell_type": "markdown",
      "metadata": {
        "id": "vn7qE_Ypc3b3"
      },
      "source": [
        "<u>Question:</u>  Did this new field automatically get added to the NursingHomes dataframe (or did this just get printed to the screen)?\n",
        "\n",
        "<u>Answer:</u> Check the dimension of the dataframe.  The existing dataframe had 15331 rows x 32 columns."
      ]
    },
    {
      "cell_type": "code",
      "metadata": {
        "colab": {
          "base_uri": "https://localhost:8080/",
          "height": 139
        },
        "id": "P0YbHCPCc3je",
        "outputId": "9ba5b0a1-6a33-4b83-b1b2-ee5ef10a2daf"
      },
      "source": [
        "#What is the dimension of the NursingHomes dataframe?\n",
        "dim(NursingHomes)\n",
        "\n",
        "cat(\"\\n\")\n",
        "cat(\"Field names: \\n\")\n",
        "colnames(NursingHomes)"
      ],
      "execution_count": 5,
      "outputs": [
        {
          "output_type": "display_data",
          "data": {
            "text/plain": [
              "[1] 15224    33"
            ],
            "text/latex": "\\begin{enumerate*}\n\\item 15224\n\\item 33\n\\end{enumerate*}\n",
            "text/markdown": "1. 15224\n2. 33\n\n\n",
            "text/html": [
              "<style>\n",
              ".list-inline {list-style: none; margin:0; padding: 0}\n",
              ".list-inline>li {display: inline-block}\n",
              ".list-inline>li:not(:last-child)::after {content: \"\\00b7\"; padding: 0 .5ex}\n",
              "</style>\n",
              "<ol class=list-inline><li>15224</li><li>33</li></ol>\n"
            ]
          },
          "metadata": {}
        },
        {
          "output_type": "stream",
          "name": "stdout",
          "text": [
            "\n",
            "Field names: \n"
          ]
        },
        {
          "output_type": "display_data",
          "data": {
            "text/plain": [
              " [1] \"FPN\"                                \"ProviderName\"                      \n",
              " [3] \"ProviderAddress\"                    \"ProviderCounty\"                    \n",
              " [5] \"OwnershipType\"                      \"NumberBeds\"                        \n",
              " [7] \"AverageResidentsperDay\"             \"ProviderinHospital\"                \n",
              " [9] \"BusinessName\"                       \"ContinuingCareRetirementCommunity\" \n",
              "[11] \"HealthInspection_MoreThan2YearsAgo\" \"OverallRating\"                     \n",
              "[13] \"HealthInspection_Rating\"            \"QM_Rating\"                         \n",
              "[15] \"LongStayQM_Rating\"                  \"ShortStayQM_Rating\"                \n",
              "[17] \"Staffing_Rating\"                    \"RNStaffing_Rating\"                 \n",
              "[19] \"NurseAideStaffing_Hours\"            \"LPNStaffing_Hours\"                 \n",
              "[21] \"RNStaffing_Hours\"                   \"LicensedStaffing_Hours\"            \n",
              "[23] \"TotalNurseStaffing_Hours\"           \"TotalNurseStaffing_Hours_Weekend\"  \n",
              "[25] \"NursingStaff_Turnover\"              \"RatingCycle1_Date\"                 \n",
              "[27] \"RatingCycle1_HealthDeficiencyScore\" \"RatingCycle2_Date\"                 \n",
              "[29] \"RatingCycle2_HealthDeficiencyScore\" \"RatingCycle3_Date\"                 \n",
              "[31] \"RatingCycle3_HealthDeficiencyScore\" \"NumberofFines\"                     \n",
              "[33] \"TotalAmountFines\"                  "
            ],
            "text/latex": "\\begin{enumerate*}\n\\item 'FPN'\n\\item 'ProviderName'\n\\item 'ProviderAddress'\n\\item 'ProviderCounty'\n\\item 'OwnershipType'\n\\item 'NumberBeds'\n\\item 'AverageResidentsperDay'\n\\item 'ProviderinHospital'\n\\item 'BusinessName'\n\\item 'ContinuingCareRetirementCommunity'\n\\item 'HealthInspection\\_MoreThan2YearsAgo'\n\\item 'OverallRating'\n\\item 'HealthInspection\\_Rating'\n\\item 'QM\\_Rating'\n\\item 'LongStayQM\\_Rating'\n\\item 'ShortStayQM\\_Rating'\n\\item 'Staffing\\_Rating'\n\\item 'RNStaffing\\_Rating'\n\\item 'NurseAideStaffing\\_Hours'\n\\item 'LPNStaffing\\_Hours'\n\\item 'RNStaffing\\_Hours'\n\\item 'LicensedStaffing\\_Hours'\n\\item 'TotalNurseStaffing\\_Hours'\n\\item 'TotalNurseStaffing\\_Hours\\_Weekend'\n\\item 'NursingStaff\\_Turnover'\n\\item 'RatingCycle1\\_Date'\n\\item 'RatingCycle1\\_HealthDeficiencyScore'\n\\item 'RatingCycle2\\_Date'\n\\item 'RatingCycle2\\_HealthDeficiencyScore'\n\\item 'RatingCycle3\\_Date'\n\\item 'RatingCycle3\\_HealthDeficiencyScore'\n\\item 'NumberofFines'\n\\item 'TotalAmountFines'\n\\end{enumerate*}\n",
            "text/markdown": "1. 'FPN'\n2. 'ProviderName'\n3. 'ProviderAddress'\n4. 'ProviderCounty'\n5. 'OwnershipType'\n6. 'NumberBeds'\n7. 'AverageResidentsperDay'\n8. 'ProviderinHospital'\n9. 'BusinessName'\n10. 'ContinuingCareRetirementCommunity'\n11. 'HealthInspection_MoreThan2YearsAgo'\n12. 'OverallRating'\n13. 'HealthInspection_Rating'\n14. 'QM_Rating'\n15. 'LongStayQM_Rating'\n16. 'ShortStayQM_Rating'\n17. 'Staffing_Rating'\n18. 'RNStaffing_Rating'\n19. 'NurseAideStaffing_Hours'\n20. 'LPNStaffing_Hours'\n21. 'RNStaffing_Hours'\n22. 'LicensedStaffing_Hours'\n23. 'TotalNurseStaffing_Hours'\n24. 'TotalNurseStaffing_Hours_Weekend'\n25. 'NursingStaff_Turnover'\n26. 'RatingCycle1_Date'\n27. 'RatingCycle1_HealthDeficiencyScore'\n28. 'RatingCycle2_Date'\n29. 'RatingCycle2_HealthDeficiencyScore'\n30. 'RatingCycle3_Date'\n31. 'RatingCycle3_HealthDeficiencyScore'\n32. 'NumberofFines'\n33. 'TotalAmountFines'\n\n\n",
            "text/html": [
              "<style>\n",
              ".list-inline {list-style: none; margin:0; padding: 0}\n",
              ".list-inline>li {display: inline-block}\n",
              ".list-inline>li:not(:last-child)::after {content: \"\\00b7\"; padding: 0 .5ex}\n",
              "</style>\n",
              "<ol class=list-inline><li>'FPN'</li><li>'ProviderName'</li><li>'ProviderAddress'</li><li>'ProviderCounty'</li><li>'OwnershipType'</li><li>'NumberBeds'</li><li>'AverageResidentsperDay'</li><li>'ProviderinHospital'</li><li>'BusinessName'</li><li>'ContinuingCareRetirementCommunity'</li><li>'HealthInspection_MoreThan2YearsAgo'</li><li>'OverallRating'</li><li>'HealthInspection_Rating'</li><li>'QM_Rating'</li><li>'LongStayQM_Rating'</li><li>'ShortStayQM_Rating'</li><li>'Staffing_Rating'</li><li>'RNStaffing_Rating'</li><li>'NurseAideStaffing_Hours'</li><li>'LPNStaffing_Hours'</li><li>'RNStaffing_Hours'</li><li>'LicensedStaffing_Hours'</li><li>'TotalNurseStaffing_Hours'</li><li>'TotalNurseStaffing_Hours_Weekend'</li><li>'NursingStaff_Turnover'</li><li>'RatingCycle1_Date'</li><li>'RatingCycle1_HealthDeficiencyScore'</li><li>'RatingCycle2_Date'</li><li>'RatingCycle2_HealthDeficiencyScore'</li><li>'RatingCycle3_Date'</li><li>'RatingCycle3_HealthDeficiencyScore'</li><li>'NumberofFines'</li><li>'TotalAmountFines'</li></ol>\n"
            ]
          },
          "metadata": {}
        }
      ]
    },
    {
      "cell_type": "markdown",
      "metadata": {
        "id": "fDgfpbKEgIV8"
      },
      "source": [
        "In the following snipit of code, the outcome for the sequnce of commands is pushed into the NursingHome dataframe.  This idea is equivalent to \"edit-in-place\" option in SED."
      ]
    },
    {
      "cell_type": "code",
      "metadata": {
        "id": "oT4R_ddlaAzB"
      },
      "source": [
        "(\n",
        "  NursingHomes\n",
        "  %>% mutate(Capacity = AverageResidentsperDay / NumberBeds)\n",
        "  #%>% head()\n",
        ") -> NursingHomes "
      ],
      "execution_count": 6,
      "outputs": []
    },
    {
      "cell_type": "code",
      "metadata": {
        "colab": {
          "base_uri": "https://localhost:8080/",
          "height": 139
        },
        "id": "NBvR1bAWeulS",
        "outputId": "8c37878a-f876-47b8-8143-7a100fad3a8e"
      },
      "source": [
        "#What is the dimension of the NursingHomes dataframe now?\n",
        "dim(NursingHomes)\n",
        "\n",
        "cat(\"\\n\")\n",
        "cat(\"Field names: \\n\")\n",
        "colnames(NursingHomes)"
      ],
      "execution_count": 7,
      "outputs": [
        {
          "output_type": "display_data",
          "data": {
            "text/plain": [
              "[1] 15224    34"
            ],
            "text/latex": "\\begin{enumerate*}\n\\item 15224\n\\item 34\n\\end{enumerate*}\n",
            "text/markdown": "1. 15224\n2. 34\n\n\n",
            "text/html": [
              "<style>\n",
              ".list-inline {list-style: none; margin:0; padding: 0}\n",
              ".list-inline>li {display: inline-block}\n",
              ".list-inline>li:not(:last-child)::after {content: \"\\00b7\"; padding: 0 .5ex}\n",
              "</style>\n",
              "<ol class=list-inline><li>15224</li><li>34</li></ol>\n"
            ]
          },
          "metadata": {}
        },
        {
          "output_type": "stream",
          "name": "stdout",
          "text": [
            "\n",
            "Field names: \n"
          ]
        },
        {
          "output_type": "display_data",
          "data": {
            "text/plain": [
              " [1] \"FPN\"                                \"ProviderName\"                      \n",
              " [3] \"ProviderAddress\"                    \"ProviderCounty\"                    \n",
              " [5] \"OwnershipType\"                      \"NumberBeds\"                        \n",
              " [7] \"AverageResidentsperDay\"             \"ProviderinHospital\"                \n",
              " [9] \"BusinessName\"                       \"ContinuingCareRetirementCommunity\" \n",
              "[11] \"HealthInspection_MoreThan2YearsAgo\" \"OverallRating\"                     \n",
              "[13] \"HealthInspection_Rating\"            \"QM_Rating\"                         \n",
              "[15] \"LongStayQM_Rating\"                  \"ShortStayQM_Rating\"                \n",
              "[17] \"Staffing_Rating\"                    \"RNStaffing_Rating\"                 \n",
              "[19] \"NurseAideStaffing_Hours\"            \"LPNStaffing_Hours\"                 \n",
              "[21] \"RNStaffing_Hours\"                   \"LicensedStaffing_Hours\"            \n",
              "[23] \"TotalNurseStaffing_Hours\"           \"TotalNurseStaffing_Hours_Weekend\"  \n",
              "[25] \"NursingStaff_Turnover\"              \"RatingCycle1_Date\"                 \n",
              "[27] \"RatingCycle1_HealthDeficiencyScore\" \"RatingCycle2_Date\"                 \n",
              "[29] \"RatingCycle2_HealthDeficiencyScore\" \"RatingCycle3_Date\"                 \n",
              "[31] \"RatingCycle3_HealthDeficiencyScore\" \"NumberofFines\"                     \n",
              "[33] \"TotalAmountFines\"                   \"Capacity\"                          "
            ],
            "text/latex": "\\begin{enumerate*}\n\\item 'FPN'\n\\item 'ProviderName'\n\\item 'ProviderAddress'\n\\item 'ProviderCounty'\n\\item 'OwnershipType'\n\\item 'NumberBeds'\n\\item 'AverageResidentsperDay'\n\\item 'ProviderinHospital'\n\\item 'BusinessName'\n\\item 'ContinuingCareRetirementCommunity'\n\\item 'HealthInspection\\_MoreThan2YearsAgo'\n\\item 'OverallRating'\n\\item 'HealthInspection\\_Rating'\n\\item 'QM\\_Rating'\n\\item 'LongStayQM\\_Rating'\n\\item 'ShortStayQM\\_Rating'\n\\item 'Staffing\\_Rating'\n\\item 'RNStaffing\\_Rating'\n\\item 'NurseAideStaffing\\_Hours'\n\\item 'LPNStaffing\\_Hours'\n\\item 'RNStaffing\\_Hours'\n\\item 'LicensedStaffing\\_Hours'\n\\item 'TotalNurseStaffing\\_Hours'\n\\item 'TotalNurseStaffing\\_Hours\\_Weekend'\n\\item 'NursingStaff\\_Turnover'\n\\item 'RatingCycle1\\_Date'\n\\item 'RatingCycle1\\_HealthDeficiencyScore'\n\\item 'RatingCycle2\\_Date'\n\\item 'RatingCycle2\\_HealthDeficiencyScore'\n\\item 'RatingCycle3\\_Date'\n\\item 'RatingCycle3\\_HealthDeficiencyScore'\n\\item 'NumberofFines'\n\\item 'TotalAmountFines'\n\\item 'Capacity'\n\\end{enumerate*}\n",
            "text/markdown": "1. 'FPN'\n2. 'ProviderName'\n3. 'ProviderAddress'\n4. 'ProviderCounty'\n5. 'OwnershipType'\n6. 'NumberBeds'\n7. 'AverageResidentsperDay'\n8. 'ProviderinHospital'\n9. 'BusinessName'\n10. 'ContinuingCareRetirementCommunity'\n11. 'HealthInspection_MoreThan2YearsAgo'\n12. 'OverallRating'\n13. 'HealthInspection_Rating'\n14. 'QM_Rating'\n15. 'LongStayQM_Rating'\n16. 'ShortStayQM_Rating'\n17. 'Staffing_Rating'\n18. 'RNStaffing_Rating'\n19. 'NurseAideStaffing_Hours'\n20. 'LPNStaffing_Hours'\n21. 'RNStaffing_Hours'\n22. 'LicensedStaffing_Hours'\n23. 'TotalNurseStaffing_Hours'\n24. 'TotalNurseStaffing_Hours_Weekend'\n25. 'NursingStaff_Turnover'\n26. 'RatingCycle1_Date'\n27. 'RatingCycle1_HealthDeficiencyScore'\n28. 'RatingCycle2_Date'\n29. 'RatingCycle2_HealthDeficiencyScore'\n30. 'RatingCycle3_Date'\n31. 'RatingCycle3_HealthDeficiencyScore'\n32. 'NumberofFines'\n33. 'TotalAmountFines'\n34. 'Capacity'\n\n\n",
            "text/html": [
              "<style>\n",
              ".list-inline {list-style: none; margin:0; padding: 0}\n",
              ".list-inline>li {display: inline-block}\n",
              ".list-inline>li:not(:last-child)::after {content: \"\\00b7\"; padding: 0 .5ex}\n",
              "</style>\n",
              "<ol class=list-inline><li>'FPN'</li><li>'ProviderName'</li><li>'ProviderAddress'</li><li>'ProviderCounty'</li><li>'OwnershipType'</li><li>'NumberBeds'</li><li>'AverageResidentsperDay'</li><li>'ProviderinHospital'</li><li>'BusinessName'</li><li>'ContinuingCareRetirementCommunity'</li><li>'HealthInspection_MoreThan2YearsAgo'</li><li>'OverallRating'</li><li>'HealthInspection_Rating'</li><li>'QM_Rating'</li><li>'LongStayQM_Rating'</li><li>'ShortStayQM_Rating'</li><li>'Staffing_Rating'</li><li>'RNStaffing_Rating'</li><li>'NurseAideStaffing_Hours'</li><li>'LPNStaffing_Hours'</li><li>'RNStaffing_Hours'</li><li>'LicensedStaffing_Hours'</li><li>'TotalNurseStaffing_Hours'</li><li>'TotalNurseStaffing_Hours_Weekend'</li><li>'NursingStaff_Turnover'</li><li>'RatingCycle1_Date'</li><li>'RatingCycle1_HealthDeficiencyScore'</li><li>'RatingCycle2_Date'</li><li>'RatingCycle2_HealthDeficiencyScore'</li><li>'RatingCycle3_Date'</li><li>'RatingCycle3_HealthDeficiencyScore'</li><li>'NumberofFines'</li><li>'TotalAmountFines'</li><li>'Capacity'</li></ol>\n"
            ]
          },
          "metadata": {}
        }
      ]
    },
    {
      "cell_type": "markdown",
      "metadata": {
        "id": "eWCaTeE8hMhb"
      },
      "source": [
        "<u>Comment</u>: The Capacity quantity is not defined when the denominitor is zero.  Thus, before creating this new field, one should verify that all <i>Number of Beds</i> values are greater than 0. \n",
        "\n",
        "A more sound approach, would be to use the following definition of Capacity.\n",
        "\n",
        "\n",
        "$$Capacity = \\Bigg\\{ \\begin{array} \\tiny{\\frac{\\mbox{Average Residents per Day}}{\\mbox{Number of Beds}}} & when & \\mbox{Number of Beds} > 0\\\\\n",
        "NA &  when & \\mbox{Number of Beds} = 0\n",
        "\\end{array}$$\n",
        "\n"
      ]
    },
    {
      "cell_type": "code",
      "metadata": {
        "id": "HhNHInqbhMn_"
      },
      "source": [
        "(\n",
        "  NursingHomes\n",
        "  %>% mutate(Capacity = ifelse(NumberBeds > 0, AverageResidentsperDay / NumberBeds, NA) )\n",
        ") -> NursingHomes \n"
      ],
      "execution_count": 8,
      "outputs": []
    },
    {
      "cell_type": "markdown",
      "metadata": {
        "id": "Il0z3T4cpHsA"
      },
      "source": [
        "Taking a look at the output produced from the code above."
      ]
    },
    {
      "cell_type": "code",
      "metadata": {
        "colab": {
          "base_uri": "https://localhost:8080/",
          "height": 794
        },
        "id": "DuDIw3bfpHyD",
        "outputId": "f995d6ba-5283-49e6-db28-ced059abb8bf"
      },
      "source": [
        "#What is the dimension of the NursingHomes dataframe now?\n",
        "dim(NursingHomes)\n",
        "\n",
        "cat(\"\\n\")\n",
        "cat(\"Field names: \\n\")\n",
        "colnames(NursingHomes)\n",
        "\n",
        "cat(\"First few rows: \\n\")\n",
        "head(NursingHomes)\n"
      ],
      "execution_count": 9,
      "outputs": [
        {
          "output_type": "display_data",
          "data": {
            "text/plain": [
              "[1] 15224    34"
            ],
            "text/latex": "\\begin{enumerate*}\n\\item 15224\n\\item 34\n\\end{enumerate*}\n",
            "text/markdown": "1. 15224\n2. 34\n\n\n",
            "text/html": [
              "<style>\n",
              ".list-inline {list-style: none; margin:0; padding: 0}\n",
              ".list-inline>li {display: inline-block}\n",
              ".list-inline>li:not(:last-child)::after {content: \"\\00b7\"; padding: 0 .5ex}\n",
              "</style>\n",
              "<ol class=list-inline><li>15224</li><li>34</li></ol>\n"
            ]
          },
          "metadata": {}
        },
        {
          "output_type": "stream",
          "name": "stdout",
          "text": [
            "\n",
            "Field names: \n"
          ]
        },
        {
          "output_type": "display_data",
          "data": {
            "text/plain": [
              " [1] \"FPN\"                                \"ProviderName\"                      \n",
              " [3] \"ProviderAddress\"                    \"ProviderCounty\"                    \n",
              " [5] \"OwnershipType\"                      \"NumberBeds\"                        \n",
              " [7] \"AverageResidentsperDay\"             \"ProviderinHospital\"                \n",
              " [9] \"BusinessName\"                       \"ContinuingCareRetirementCommunity\" \n",
              "[11] \"HealthInspection_MoreThan2YearsAgo\" \"OverallRating\"                     \n",
              "[13] \"HealthInspection_Rating\"            \"QM_Rating\"                         \n",
              "[15] \"LongStayQM_Rating\"                  \"ShortStayQM_Rating\"                \n",
              "[17] \"Staffing_Rating\"                    \"RNStaffing_Rating\"                 \n",
              "[19] \"NurseAideStaffing_Hours\"            \"LPNStaffing_Hours\"                 \n",
              "[21] \"RNStaffing_Hours\"                   \"LicensedStaffing_Hours\"            \n",
              "[23] \"TotalNurseStaffing_Hours\"           \"TotalNurseStaffing_Hours_Weekend\"  \n",
              "[25] \"NursingStaff_Turnover\"              \"RatingCycle1_Date\"                 \n",
              "[27] \"RatingCycle1_HealthDeficiencyScore\" \"RatingCycle2_Date\"                 \n",
              "[29] \"RatingCycle2_HealthDeficiencyScore\" \"RatingCycle3_Date\"                 \n",
              "[31] \"RatingCycle3_HealthDeficiencyScore\" \"NumberofFines\"                     \n",
              "[33] \"TotalAmountFines\"                   \"Capacity\"                          "
            ],
            "text/latex": "\\begin{enumerate*}\n\\item 'FPN'\n\\item 'ProviderName'\n\\item 'ProviderAddress'\n\\item 'ProviderCounty'\n\\item 'OwnershipType'\n\\item 'NumberBeds'\n\\item 'AverageResidentsperDay'\n\\item 'ProviderinHospital'\n\\item 'BusinessName'\n\\item 'ContinuingCareRetirementCommunity'\n\\item 'HealthInspection\\_MoreThan2YearsAgo'\n\\item 'OverallRating'\n\\item 'HealthInspection\\_Rating'\n\\item 'QM\\_Rating'\n\\item 'LongStayQM\\_Rating'\n\\item 'ShortStayQM\\_Rating'\n\\item 'Staffing\\_Rating'\n\\item 'RNStaffing\\_Rating'\n\\item 'NurseAideStaffing\\_Hours'\n\\item 'LPNStaffing\\_Hours'\n\\item 'RNStaffing\\_Hours'\n\\item 'LicensedStaffing\\_Hours'\n\\item 'TotalNurseStaffing\\_Hours'\n\\item 'TotalNurseStaffing\\_Hours\\_Weekend'\n\\item 'NursingStaff\\_Turnover'\n\\item 'RatingCycle1\\_Date'\n\\item 'RatingCycle1\\_HealthDeficiencyScore'\n\\item 'RatingCycle2\\_Date'\n\\item 'RatingCycle2\\_HealthDeficiencyScore'\n\\item 'RatingCycle3\\_Date'\n\\item 'RatingCycle3\\_HealthDeficiencyScore'\n\\item 'NumberofFines'\n\\item 'TotalAmountFines'\n\\item 'Capacity'\n\\end{enumerate*}\n",
            "text/markdown": "1. 'FPN'\n2. 'ProviderName'\n3. 'ProviderAddress'\n4. 'ProviderCounty'\n5. 'OwnershipType'\n6. 'NumberBeds'\n7. 'AverageResidentsperDay'\n8. 'ProviderinHospital'\n9. 'BusinessName'\n10. 'ContinuingCareRetirementCommunity'\n11. 'HealthInspection_MoreThan2YearsAgo'\n12. 'OverallRating'\n13. 'HealthInspection_Rating'\n14. 'QM_Rating'\n15. 'LongStayQM_Rating'\n16. 'ShortStayQM_Rating'\n17. 'Staffing_Rating'\n18. 'RNStaffing_Rating'\n19. 'NurseAideStaffing_Hours'\n20. 'LPNStaffing_Hours'\n21. 'RNStaffing_Hours'\n22. 'LicensedStaffing_Hours'\n23. 'TotalNurseStaffing_Hours'\n24. 'TotalNurseStaffing_Hours_Weekend'\n25. 'NursingStaff_Turnover'\n26. 'RatingCycle1_Date'\n27. 'RatingCycle1_HealthDeficiencyScore'\n28. 'RatingCycle2_Date'\n29. 'RatingCycle2_HealthDeficiencyScore'\n30. 'RatingCycle3_Date'\n31. 'RatingCycle3_HealthDeficiencyScore'\n32. 'NumberofFines'\n33. 'TotalAmountFines'\n34. 'Capacity'\n\n\n",
            "text/html": [
              "<style>\n",
              ".list-inline {list-style: none; margin:0; padding: 0}\n",
              ".list-inline>li {display: inline-block}\n",
              ".list-inline>li:not(:last-child)::after {content: \"\\00b7\"; padding: 0 .5ex}\n",
              "</style>\n",
              "<ol class=list-inline><li>'FPN'</li><li>'ProviderName'</li><li>'ProviderAddress'</li><li>'ProviderCounty'</li><li>'OwnershipType'</li><li>'NumberBeds'</li><li>'AverageResidentsperDay'</li><li>'ProviderinHospital'</li><li>'BusinessName'</li><li>'ContinuingCareRetirementCommunity'</li><li>'HealthInspection_MoreThan2YearsAgo'</li><li>'OverallRating'</li><li>'HealthInspection_Rating'</li><li>'QM_Rating'</li><li>'LongStayQM_Rating'</li><li>'ShortStayQM_Rating'</li><li>'Staffing_Rating'</li><li>'RNStaffing_Rating'</li><li>'NurseAideStaffing_Hours'</li><li>'LPNStaffing_Hours'</li><li>'RNStaffing_Hours'</li><li>'LicensedStaffing_Hours'</li><li>'TotalNurseStaffing_Hours'</li><li>'TotalNurseStaffing_Hours_Weekend'</li><li>'NursingStaff_Turnover'</li><li>'RatingCycle1_Date'</li><li>'RatingCycle1_HealthDeficiencyScore'</li><li>'RatingCycle2_Date'</li><li>'RatingCycle2_HealthDeficiencyScore'</li><li>'RatingCycle3_Date'</li><li>'RatingCycle3_HealthDeficiencyScore'</li><li>'NumberofFines'</li><li>'TotalAmountFines'</li><li>'Capacity'</li></ol>\n"
            ]
          },
          "metadata": {}
        },
        {
          "output_type": "stream",
          "name": "stdout",
          "text": [
            "First few rows: \n"
          ]
        },
        {
          "output_type": "display_data",
          "data": {
            "text/plain": [
              "  FPN   ProviderName                               \n",
              "1 15009 BURNS NURSING HOME, INC.                   \n",
              "2 15010 COOSA VALLEY HEALTHCARE CENTER             \n",
              "3 15012 HIGHLANDS HEALTH AND REHAB                 \n",
              "4 15014 EASTVIEW REHABILITATION & HEALTHCARE CENTER\n",
              "5 15015 PLANTATION MANOR NURSING HOME              \n",
              "6 15016 ATHENS HEALTH AND REHABILITATION LLC       \n",
              "  ProviderAddress                                  ProviderCounty     \n",
              "1 701 MONROE STREET NW, RUSSELLVILLE, AL, 35653    FranklinCounty, AL \n",
              "2 260 WEST WALNUT STREET, SYLACAUGA, AL, 35150     TalladegaCounty, AL\n",
              "3 380 WOODS COVE ROAD, SCOTTSBORO, AL, 35768       JacksonCounty, AL  \n",
              "4 7755 FOURTH AVENUE SOUTH, BIRMINGHAM, AL, 35206  JeffersonCounty, AL\n",
              "5 6450 OLD TUSCALOOSA HIGHWAY, MC CALLA, AL, 35111 JeffersonCounty, AL\n",
              "6 611 WEST MARKET STREET, ATHENS, AL, 35611        LimestoneCounty, AL\n",
              "  OwnershipType            NumberBeds AverageResidentsperDay ProviderinHospital\n",
              "1 For profit - Corporation  57         53.2                  N                 \n",
              "2 For profit - Corporation  85         79.8                  N                 \n",
              "3 Government - County       50         39.9                  Y                 \n",
              "4 For profit - Individual   92         69.4                  N                 \n",
              "5 For profit - Individual  103         72.4                  N                 \n",
              "6 For profit - Corporation 149        119.1                  N                 \n",
              "  BusinessName                         ContinuingCareRetirementCommunity ⋯\n",
              "1 BURNS NURSING HOME, INC.             N                                 ⋯\n",
              "2 COOSA VALLEY HEALTHCARE CENTER LLC   N                                 ⋯\n",
              "3 JACKSON COUNTY HEALTH CARE AUTHORITY N                                 ⋯\n",
              "4 BALL HEALTHCARE EASTVIEW INC         N                                 ⋯\n",
              "5 C & G HEALTHCARE SERVICES, INC.      N                                 ⋯\n",
              "6 ATHENS HEALTH AND REHABILITATION LLC N                                 ⋯\n",
              "  NursingStaff_Turnover RatingCycle1_Date RatingCycle1_HealthDeficiencyScore\n",
              "1   NA                  8/21/2019         8                                 \n",
              "2 52.4                  6/13/2019         4                                 \n",
              "3   NA                  6/6/2019          20                                \n",
              "4   NA                  2/20/2020         4                                 \n",
              "5 51.3                  3/5/2020          20                                \n",
              "6 57.0                  8/29/2019         20                                \n",
              "  RatingCycle2_Date RatingCycle2_HealthDeficiencyScore RatingCycle3_Date\n",
              "1 8/1/2018          4                                  6/22/2017        \n",
              "2 6/7/2018          32                                 4/6/2017         \n",
              "3 5/3/2018          40                                 3/16/2017        \n",
              "4 1/24/2019         20                                 1/25/2018        \n",
              "5 5/2/2019          4                                  4/19/2018        \n",
              "6 7/19/2018         24                                 6/1/2017         \n",
              "  RatingCycle3_HealthDeficiencyScore NumberofFines TotalAmountFines Capacity \n",
              "1 0                                  1              650             0.9333333\n",
              "2 36                                 1              650             0.9388235\n",
              "3 44                                 0                0             0.7980000\n",
              "4 24                                 0                0             0.7543478\n",
              "5 28                                 3             8333             0.7029126\n",
              "6 24                                 0                0             0.7993289"
            ],
            "text/latex": "A tibble: 6 × 34\n\\begin{tabular}{lllllllllllllllllllll}\n FPN & ProviderName & ProviderAddress & ProviderCounty & OwnershipType & NumberBeds & AverageResidentsperDay & ProviderinHospital & BusinessName & ContinuingCareRetirementCommunity & ⋯ & NursingStaff\\_Turnover & RatingCycle1\\_Date & RatingCycle1\\_HealthDeficiencyScore & RatingCycle2\\_Date & RatingCycle2\\_HealthDeficiencyScore & RatingCycle3\\_Date & RatingCycle3\\_HealthDeficiencyScore & NumberofFines & TotalAmountFines & Capacity\\\\\n <chr> & <chr> & <chr> & <chr> & <chr> & <dbl> & <dbl> & <chr> & <chr> & <chr> & ⋯ & <dbl> & <chr> & <chr> & <chr> & <chr> & <chr> & <chr> & <dbl> & <dbl> & <dbl>\\\\\n\\hline\n\t 15009 & BURNS NURSING HOME, INC.                    & 701 MONROE STREET NW, RUSSELLVILLE, AL, 35653    & FranklinCounty, AL  & For profit - Corporation &  57 &  53.2 & N & BURNS NURSING HOME, INC.             & N & ⋯ &   NA & 8/21/2019 & 8  & 8/1/2018  & 4  & 6/22/2017 & 0  & 1 &  650 & 0.9333333\\\\\n\t 15010 & COOSA VALLEY HEALTHCARE CENTER              & 260 WEST WALNUT STREET, SYLACAUGA, AL, 35150     & TalladegaCounty, AL & For profit - Corporation &  85 &  79.8 & N & COOSA VALLEY HEALTHCARE CENTER LLC   & N & ⋯ & 52.4 & 6/13/2019 & 4  & 6/7/2018  & 32 & 4/6/2017  & 36 & 1 &  650 & 0.9388235\\\\\n\t 15012 & HIGHLANDS HEALTH AND REHAB                  & 380 WOODS COVE ROAD, SCOTTSBORO, AL, 35768       & JacksonCounty, AL   & Government - County      &  50 &  39.9 & Y & JACKSON COUNTY HEALTH CARE AUTHORITY & N & ⋯ &   NA & 6/6/2019  & 20 & 5/3/2018  & 40 & 3/16/2017 & 44 & 0 &    0 & 0.7980000\\\\\n\t 15014 & EASTVIEW REHABILITATION \\& HEALTHCARE CENTER & 7755 FOURTH AVENUE SOUTH, BIRMINGHAM, AL, 35206  & JeffersonCounty, AL & For profit - Individual  &  92 &  69.4 & N & BALL HEALTHCARE EASTVIEW INC         & N & ⋯ &   NA & 2/20/2020 & 4  & 1/24/2019 & 20 & 1/25/2018 & 24 & 0 &    0 & 0.7543478\\\\\n\t 15015 & PLANTATION MANOR NURSING HOME               & 6450 OLD TUSCALOOSA HIGHWAY, MC CALLA, AL, 35111 & JeffersonCounty, AL & For profit - Individual  & 103 &  72.4 & N & C \\& G HEALTHCARE SERVICES, INC.      & N & ⋯ & 51.3 & 3/5/2020  & 20 & 5/2/2019  & 4  & 4/19/2018 & 28 & 3 & 8333 & 0.7029126\\\\\n\t 15016 & ATHENS HEALTH AND REHABILITATION LLC        & 611 WEST MARKET STREET, ATHENS, AL, 35611        & LimestoneCounty, AL & For profit - Corporation & 149 & 119.1 & N & ATHENS HEALTH AND REHABILITATION LLC & N & ⋯ & 57.0 & 8/29/2019 & 20 & 7/19/2018 & 24 & 6/1/2017  & 24 & 0 &    0 & 0.7993289\\\\\n\\end{tabular}\n",
            "text/markdown": "\nA tibble: 6 × 34\n\n| FPN &lt;chr&gt; | ProviderName &lt;chr&gt; | ProviderAddress &lt;chr&gt; | ProviderCounty &lt;chr&gt; | OwnershipType &lt;chr&gt; | NumberBeds &lt;dbl&gt; | AverageResidentsperDay &lt;dbl&gt; | ProviderinHospital &lt;chr&gt; | BusinessName &lt;chr&gt; | ContinuingCareRetirementCommunity &lt;chr&gt; | ⋯ ⋯ | NursingStaff_Turnover &lt;dbl&gt; | RatingCycle1_Date &lt;chr&gt; | RatingCycle1_HealthDeficiencyScore &lt;chr&gt; | RatingCycle2_Date &lt;chr&gt; | RatingCycle2_HealthDeficiencyScore &lt;chr&gt; | RatingCycle3_Date &lt;chr&gt; | RatingCycle3_HealthDeficiencyScore &lt;chr&gt; | NumberofFines &lt;dbl&gt; | TotalAmountFines &lt;dbl&gt; | Capacity &lt;dbl&gt; |\n|---|---|---|---|---|---|---|---|---|---|---|---|---|---|---|---|---|---|---|---|---|\n| 15009 | BURNS NURSING HOME, INC.                    | 701 MONROE STREET NW, RUSSELLVILLE, AL, 35653    | FranklinCounty, AL  | For profit - Corporation |  57 |  53.2 | N | BURNS NURSING HOME, INC.             | N | ⋯ |   NA | 8/21/2019 | 8  | 8/1/2018  | 4  | 6/22/2017 | 0  | 1 |  650 | 0.9333333 |\n| 15010 | COOSA VALLEY HEALTHCARE CENTER              | 260 WEST WALNUT STREET, SYLACAUGA, AL, 35150     | TalladegaCounty, AL | For profit - Corporation |  85 |  79.8 | N | COOSA VALLEY HEALTHCARE CENTER LLC   | N | ⋯ | 52.4 | 6/13/2019 | 4  | 6/7/2018  | 32 | 4/6/2017  | 36 | 1 |  650 | 0.9388235 |\n| 15012 | HIGHLANDS HEALTH AND REHAB                  | 380 WOODS COVE ROAD, SCOTTSBORO, AL, 35768       | JacksonCounty, AL   | Government - County      |  50 |  39.9 | Y | JACKSON COUNTY HEALTH CARE AUTHORITY | N | ⋯ |   NA | 6/6/2019  | 20 | 5/3/2018  | 40 | 3/16/2017 | 44 | 0 |    0 | 0.7980000 |\n| 15014 | EASTVIEW REHABILITATION &amp; HEALTHCARE CENTER | 7755 FOURTH AVENUE SOUTH, BIRMINGHAM, AL, 35206  | JeffersonCounty, AL | For profit - Individual  |  92 |  69.4 | N | BALL HEALTHCARE EASTVIEW INC         | N | ⋯ |   NA | 2/20/2020 | 4  | 1/24/2019 | 20 | 1/25/2018 | 24 | 0 |    0 | 0.7543478 |\n| 15015 | PLANTATION MANOR NURSING HOME               | 6450 OLD TUSCALOOSA HIGHWAY, MC CALLA, AL, 35111 | JeffersonCounty, AL | For profit - Individual  | 103 |  72.4 | N | C &amp; G HEALTHCARE SERVICES, INC.      | N | ⋯ | 51.3 | 3/5/2020  | 20 | 5/2/2019  | 4  | 4/19/2018 | 28 | 3 | 8333 | 0.7029126 |\n| 15016 | ATHENS HEALTH AND REHABILITATION LLC        | 611 WEST MARKET STREET, ATHENS, AL, 35611        | LimestoneCounty, AL | For profit - Corporation | 149 | 119.1 | N | ATHENS HEALTH AND REHABILITATION LLC | N | ⋯ | 57.0 | 8/29/2019 | 20 | 7/19/2018 | 24 | 6/1/2017  | 24 | 0 |    0 | 0.7993289 |\n\n",
            "text/html": [
              "<table class=\"dataframe\">\n",
              "<caption>A tibble: 6 × 34</caption>\n",
              "<thead>\n",
              "\t<tr><th scope=col>FPN</th><th scope=col>ProviderName</th><th scope=col>ProviderAddress</th><th scope=col>ProviderCounty</th><th scope=col>OwnershipType</th><th scope=col>NumberBeds</th><th scope=col>AverageResidentsperDay</th><th scope=col>ProviderinHospital</th><th scope=col>BusinessName</th><th scope=col>ContinuingCareRetirementCommunity</th><th scope=col>⋯</th><th scope=col>NursingStaff_Turnover</th><th scope=col>RatingCycle1_Date</th><th scope=col>RatingCycle1_HealthDeficiencyScore</th><th scope=col>RatingCycle2_Date</th><th scope=col>RatingCycle2_HealthDeficiencyScore</th><th scope=col>RatingCycle3_Date</th><th scope=col>RatingCycle3_HealthDeficiencyScore</th><th scope=col>NumberofFines</th><th scope=col>TotalAmountFines</th><th scope=col>Capacity</th></tr>\n",
              "\t<tr><th scope=col>&lt;chr&gt;</th><th scope=col>&lt;chr&gt;</th><th scope=col>&lt;chr&gt;</th><th scope=col>&lt;chr&gt;</th><th scope=col>&lt;chr&gt;</th><th scope=col>&lt;dbl&gt;</th><th scope=col>&lt;dbl&gt;</th><th scope=col>&lt;chr&gt;</th><th scope=col>&lt;chr&gt;</th><th scope=col>&lt;chr&gt;</th><th scope=col>⋯</th><th scope=col>&lt;dbl&gt;</th><th scope=col>&lt;chr&gt;</th><th scope=col>&lt;chr&gt;</th><th scope=col>&lt;chr&gt;</th><th scope=col>&lt;chr&gt;</th><th scope=col>&lt;chr&gt;</th><th scope=col>&lt;chr&gt;</th><th scope=col>&lt;dbl&gt;</th><th scope=col>&lt;dbl&gt;</th><th scope=col>&lt;dbl&gt;</th></tr>\n",
              "</thead>\n",
              "<tbody>\n",
              "\t<tr><td>15009</td><td>BURNS NURSING HOME, INC.                   </td><td>701 MONROE STREET NW, RUSSELLVILLE, AL, 35653   </td><td>FranklinCounty, AL </td><td>For profit - Corporation</td><td> 57</td><td> 53.2</td><td>N</td><td>BURNS NURSING HOME, INC.            </td><td>N</td><td>⋯</td><td>  NA</td><td>8/21/2019</td><td>8 </td><td>8/1/2018 </td><td>4 </td><td>6/22/2017</td><td>0 </td><td>1</td><td> 650</td><td>0.9333333</td></tr>\n",
              "\t<tr><td>15010</td><td>COOSA VALLEY HEALTHCARE CENTER             </td><td>260 WEST WALNUT STREET, SYLACAUGA, AL, 35150    </td><td>TalladegaCounty, AL</td><td>For profit - Corporation</td><td> 85</td><td> 79.8</td><td>N</td><td>COOSA VALLEY HEALTHCARE CENTER LLC  </td><td>N</td><td>⋯</td><td>52.4</td><td>6/13/2019</td><td>4 </td><td>6/7/2018 </td><td>32</td><td>4/6/2017 </td><td>36</td><td>1</td><td> 650</td><td>0.9388235</td></tr>\n",
              "\t<tr><td>15012</td><td>HIGHLANDS HEALTH AND REHAB                 </td><td>380 WOODS COVE ROAD, SCOTTSBORO, AL, 35768      </td><td>JacksonCounty, AL  </td><td>Government - County     </td><td> 50</td><td> 39.9</td><td>Y</td><td>JACKSON COUNTY HEALTH CARE AUTHORITY</td><td>N</td><td>⋯</td><td>  NA</td><td>6/6/2019 </td><td>20</td><td>5/3/2018 </td><td>40</td><td>3/16/2017</td><td>44</td><td>0</td><td>   0</td><td>0.7980000</td></tr>\n",
              "\t<tr><td>15014</td><td>EASTVIEW REHABILITATION &amp; HEALTHCARE CENTER</td><td>7755 FOURTH AVENUE SOUTH, BIRMINGHAM, AL, 35206 </td><td>JeffersonCounty, AL</td><td>For profit - Individual </td><td> 92</td><td> 69.4</td><td>N</td><td><span style=white-space:pre-wrap>BALL HEALTHCARE EASTVIEW INC        </span></td><td>N</td><td>⋯</td><td><span style=white-space:pre-wrap>  NA</span></td><td>2/20/2020</td><td>4 </td><td>1/24/2019</td><td>20</td><td>1/25/2018</td><td>24</td><td>0</td><td><span style=white-space:pre-wrap>   0</span></td><td>0.7543478</td></tr>\n",
              "\t<tr><td>15015</td><td><span style=white-space:pre-wrap>PLANTATION MANOR NURSING HOME              </span></td><td>6450 OLD TUSCALOOSA HIGHWAY, MC CALLA, AL, 35111</td><td>JeffersonCounty, AL</td><td>For profit - Individual </td><td>103</td><td> 72.4</td><td>N</td><td><span style=white-space:pre-wrap>C &amp; G HEALTHCARE SERVICES, INC.     </span></td><td>N</td><td>⋯</td><td>51.3</td><td>3/5/2020 </td><td>20</td><td>5/2/2019 </td><td>4 </td><td>4/19/2018</td><td>28</td><td>3</td><td>8333</td><td>0.7029126</td></tr>\n",
              "\t<tr><td>15016</td><td>ATHENS HEALTH AND REHABILITATION LLC       </td><td>611 WEST MARKET STREET, ATHENS, AL, 35611       </td><td>LimestoneCounty, AL</td><td>For profit - Corporation</td><td>149</td><td>119.1</td><td>N</td><td>ATHENS HEALTH AND REHABILITATION LLC</td><td>N</td><td>⋯</td><td>57.0</td><td>8/29/2019</td><td>20</td><td>7/19/2018</td><td>24</td><td>6/1/2017 </td><td>24</td><td>0</td><td>   0</td><td>0.7993289</td></tr>\n",
              "</tbody>\n",
              "</table>\n"
            ]
          },
          "metadata": {}
        }
      ]
    },
    {
      "cell_type": "markdown",
      "metadata": {
        "id": "VRYZa-vYrINB"
      },
      "source": [
        "\n",
        "\n",
        "---\n",
        "\n",
        "---\n",
        "\n",
        "\n",
        "\n"
      ]
    },
    {
      "cell_type": "markdown",
      "metadata": {
        "id": "0W-LuS2Tpmue"
      },
      "source": [
        "**Task #1**:  Consider the following code -- answer the questions that follow. \n"
      ]
    },
    {
      "cell_type": "code",
      "metadata": {
        "colab": {
          "base_uri": "https://localhost:8080/",
          "height": 34
        },
        "id": "oHdbnOEbrLVf",
        "outputId": "ae145ca4-13b8-4aee-95df-780a3fee798a"
      },
      "source": [
        "(\n",
        "  NursingHomes\n",
        "  %>% mutate(Capacity = ifelse(NumberBeds > 0, AverageResidentsperDay / NumberBeds, NA) )\n",
        "  %>% select(FPN, ProviderName, Capacity)\n",
        "  %>% arrange(desc(Capacity))\n",
        "  %>% filter(Capacity > 1)\n",
        "  %>% dim()\n",
        ")"
      ],
      "execution_count": 10,
      "outputs": [
        {
          "output_type": "display_data",
          "data": {
            "text/plain": [
              "[1] 241   3"
            ],
            "text/latex": "\\begin{enumerate*}\n\\item 241\n\\item 3\n\\end{enumerate*}\n",
            "text/markdown": "1. 241\n2. 3\n\n\n",
            "text/html": [
              "<style>\n",
              ".list-inline {list-style: none; margin:0; padding: 0}\n",
              ".list-inline>li {display: inline-block}\n",
              ".list-inline>li:not(:last-child)::after {content: \"\\00b7\"; padding: 0 .5ex}\n",
              "</style>\n",
              "<ol class=list-inline><li>241</li><li>3</li></ol>\n"
            ]
          },
          "metadata": {}
        }
      ]
    },
    {
      "cell_type": "markdown",
      "metadata": {
        "id": "Dg-MtYgKrGZo"
      },
      "source": [
        "\n",
        "1.   What is the purpose of Line 4? Discusss"
      ]
    },
    {
      "cell_type": "markdown",
      "metadata": {
        "id": "N2j0nNO9q9jI"
      },
      "source": [
        "2.   What is the purpose of Line 5? Discuss"
      ]
    },
    {
      "cell_type": "markdown",
      "metadata": {
        "id": "mT1qbV07rBF2"
      },
      "source": [
        "3.   What is is the purpose of Line 6? Discuss"
      ]
    },
    {
      "cell_type": "markdown",
      "metadata": {
        "id": "Yf_gniYYrDC5"
      },
      "source": [
        "4.   What information is gained by running this code?  Discuss"
      ]
    },
    {
      "cell_type": "markdown",
      "metadata": {
        "id": "wQDgYsSvrOy3"
      },
      "source": [
        "\n",
        "\n",
        "---\n",
        "\n",
        "---\n",
        "\n",
        "\n",
        "\n"
      ]
    },
    {
      "cell_type": "markdown",
      "metadata": {
        "id": "1XQyfx7KrQ9_"
      },
      "source": [
        "**Task #2**:  Consider the following code -- answer the questions that follow. "
      ]
    },
    {
      "cell_type": "code",
      "metadata": {
        "colab": {
          "base_uri": "https://localhost:8080/",
          "height": 411
        },
        "id": "a7Q2hwpKrREv",
        "outputId": "54fafbc9-f66a-4555-84f9-d1cc3683e6ab"
      },
      "source": [
        "(\n",
        "  NursingHomes\n",
        "  %>% mutate(Capacity = ifelse(NumberBeds > 0, 100*round(AverageResidentsperDay / NumberBeds,3), NA) )\n",
        "  %>% select(FPN, ProviderName, Capacity)\n",
        "  %>% arrange(desc(Capacity))\n",
        "  %>% filter(Capacity <= 100)\n",
        "  %>% mutate(Capacity = as.character(Capacity))\n",
        "  %>% mutate(Capacity = paste(Capacity, \"%\", sep=\"\"))\n",
        "  %>% head(10)\n",
        ")\n"
      ],
      "execution_count": 13,
      "outputs": [
        {
          "output_type": "display_data",
          "data": {
            "text/plain": [
              "   FPN    ProviderName                         Capacity\n",
              "1  25034  PROVIDENCE VALDEZ MEDICAL CENTER     100%    \n",
              "2  05A137 LAUREL PARK BEHAVIORAL HEALTH CENTER 100%    \n",
              "3  05A192 THE ROYAL HOME                       100%    \n",
              "4  105577 PALM GARDEN OF ORLANDO               100%    \n",
              "5  115610 CANDLER SKILLED NURSING UNIT         100%    \n",
              "6  125023 LANAI COMMUNITY HOSPITAL             100%    \n",
              "7  185394 ST ELIZABETH FLORENCE SNF            100%    \n",
              "8  345419 LEXINGTON HEALTH CARE CENTER         100%    \n",
              "9  43A137 AVERA BORMANN MANOR                  100%    \n",
              "10 676269 RAYBURN HEALTH CARE & REHABILITATION 100%    "
            ],
            "text/latex": "A tibble: 10 × 3\n\\begin{tabular}{lll}\n FPN & ProviderName & Capacity\\\\\n <chr> & <chr> & <chr>\\\\\n\\hline\n\t 25034  & PROVIDENCE VALDEZ MEDICAL CENTER     & 100\\%\\\\\n\t 05A137 & LAUREL PARK BEHAVIORAL HEALTH CENTER & 100\\%\\\\\n\t 05A192 & THE ROYAL HOME                       & 100\\%\\\\\n\t 105577 & PALM GARDEN OF ORLANDO               & 100\\%\\\\\n\t 115610 & CANDLER SKILLED NURSING UNIT         & 100\\%\\\\\n\t 125023 & LANAI COMMUNITY HOSPITAL             & 100\\%\\\\\n\t 185394 & ST ELIZABETH FLORENCE SNF            & 100\\%\\\\\n\t 345419 & LEXINGTON HEALTH CARE CENTER         & 100\\%\\\\\n\t 43A137 & AVERA BORMANN MANOR                  & 100\\%\\\\\n\t 676269 & RAYBURN HEALTH CARE \\& REHABILITATION & 100\\%\\\\\n\\end{tabular}\n",
            "text/markdown": "\nA tibble: 10 × 3\n\n| FPN &lt;chr&gt; | ProviderName &lt;chr&gt; | Capacity &lt;chr&gt; |\n|---|---|---|\n| 25034  | PROVIDENCE VALDEZ MEDICAL CENTER     | 100% |\n| 05A137 | LAUREL PARK BEHAVIORAL HEALTH CENTER | 100% |\n| 05A192 | THE ROYAL HOME                       | 100% |\n| 105577 | PALM GARDEN OF ORLANDO               | 100% |\n| 115610 | CANDLER SKILLED NURSING UNIT         | 100% |\n| 125023 | LANAI COMMUNITY HOSPITAL             | 100% |\n| 185394 | ST ELIZABETH FLORENCE SNF            | 100% |\n| 345419 | LEXINGTON HEALTH CARE CENTER         | 100% |\n| 43A137 | AVERA BORMANN MANOR                  | 100% |\n| 676269 | RAYBURN HEALTH CARE &amp; REHABILITATION | 100% |\n\n",
            "text/html": [
              "<table class=\"dataframe\">\n",
              "<caption>A tibble: 10 × 3</caption>\n",
              "<thead>\n",
              "\t<tr><th scope=col>FPN</th><th scope=col>ProviderName</th><th scope=col>Capacity</th></tr>\n",
              "\t<tr><th scope=col>&lt;chr&gt;</th><th scope=col>&lt;chr&gt;</th><th scope=col>&lt;chr&gt;</th></tr>\n",
              "</thead>\n",
              "<tbody>\n",
              "\t<tr><td>25034 </td><td>PROVIDENCE VALDEZ MEDICAL CENTER    </td><td>100%</td></tr>\n",
              "\t<tr><td>05A137</td><td>LAUREL PARK BEHAVIORAL HEALTH CENTER</td><td>100%</td></tr>\n",
              "\t<tr><td>05A192</td><td>THE ROYAL HOME                      </td><td>100%</td></tr>\n",
              "\t<tr><td>105577</td><td>PALM GARDEN OF ORLANDO              </td><td>100%</td></tr>\n",
              "\t<tr><td>115610</td><td>CANDLER SKILLED NURSING UNIT        </td><td>100%</td></tr>\n",
              "\t<tr><td>125023</td><td>LANAI COMMUNITY HOSPITAL            </td><td>100%</td></tr>\n",
              "\t<tr><td>185394</td><td>ST ELIZABETH FLORENCE SNF           </td><td>100%</td></tr>\n",
              "\t<tr><td>345419</td><td>LEXINGTON HEALTH CARE CENTER        </td><td>100%</td></tr>\n",
              "\t<tr><td>43A137</td><td>AVERA BORMANN MANOR                 </td><td>100%</td></tr>\n",
              "\t<tr><td>676269</td><td>RAYBURN HEALTH CARE &amp; REHABILITATION</td><td>100%</td></tr>\n",
              "</tbody>\n",
              "</table>\n"
            ]
          },
          "metadata": {}
        }
      ]
    },
    {
      "cell_type": "markdown",
      "metadata": {
        "id": "dycUajHBr61W"
      },
      "source": [
        "1.   Change this code to output 20 nursing homes instead of the list provided here."
      ]
    },
    {
      "cell_type": "markdown",
      "metadata": {
        "id": "xfvn2pYKr63_"
      },
      "source": [
        "2.   What would happen if Line 7 were placed before Line 6?  How would this change effect Line 6?"
      ]
    },
    {
      "cell_type": "markdown",
      "metadata": {
        "id": "804yKRNHr66e"
      },
      "source": [
        "3.   Figure out how to save a csv file of this output. Put this csv file into the '/content/sample_data/' Colab folder."
      ]
    },
    {
      "cell_type": "markdown",
      "metadata": {
        "id": "p4FAXKcuvTUh"
      },
      "source": [
        "\n",
        "\n",
        "---\n",
        "\n",
        "---\n",
        "\n",
        "\n",
        "\n",
        "\n",
        "\n"
      ]
    },
    {
      "cell_type": "markdown",
      "metadata": {
        "id": "pHHy4G5BvXEf"
      },
      "source": [
        "Next, calculate the following quantity for each nursing home.\n",
        "\n",
        "$$ Average \\space Fine = \\frac{\\mbox{Total Amount of Fines}}{\\mbox{Number of Fines} }$$"
      ]
    },
    {
      "cell_type": "markdown",
      "metadata": {
        "id": "bafCzh5_wzwH"
      },
      "source": [
        "Before, proceeding one should check that this quantity can be computed for all nursing homes. If the Number of Fines is 0, then this quantity is not defined."
      ]
    },
    {
      "cell_type": "code",
      "metadata": {
        "id": "cC9Rml6ovXLv",
        "colab": {
          "base_uri": "https://localhost:8080/",
          "height": 1000
        },
        "outputId": "49926e3b-a7fa-4f0a-a5f6-6637de78a2c2"
      },
      "source": [
        "#Getting a summary of all fields in R\n",
        "summary(NursingHomes)\n"
      ],
      "execution_count": 14,
      "outputs": [
        {
          "output_type": "display_data",
          "data": {
            "text/plain": [
              "     FPN            ProviderName       ProviderAddress    ProviderCounty    \n",
              " Length:15224       Length:15224       Length:15224       Length:15224      \n",
              " Class :character   Class :character   Class :character   Class :character  \n",
              " Mode  :character   Mode  :character   Mode  :character   Mode  :character  \n",
              "                                                                            \n",
              "                                                                            \n",
              "                                                                            \n",
              "                                                                            \n",
              " OwnershipType        NumberBeds    AverageResidentsperDay ProviderinHospital\n",
              " Length:15224       Min.   :  1.0   Min.   :  1.00         Length:15224      \n",
              " Class :character   1st Qu.: 65.0   1st Qu.: 45.50         Class :character  \n",
              " Mode  :character   Median : 99.0   Median : 68.60         Mode  :character  \n",
              "                    Mean   :106.3   Mean   : 76.11                           \n",
              "                    3rd Qu.:127.0   3rd Qu.: 94.70                           \n",
              "                    Max.   :874.0   Max.   :703.30                           \n",
              "                                    NA's   :77                               \n",
              " BusinessName       ContinuingCareRetirementCommunity\n",
              " Length:15224       Length:15224                     \n",
              " Class :character   Class :character                 \n",
              " Mode  :character   Mode  :character                 \n",
              "                                                     \n",
              "                                                     \n",
              "                                                     \n",
              "                                                     \n",
              " HealthInspection_MoreThan2YearsAgo OverallRating   HealthInspection_Rating\n",
              " Length:15224                       Min.   :1.000   Min.   :1.000          \n",
              " Class :character                   1st Qu.:2.000   1st Qu.:2.000          \n",
              " Mode  :character                   Median :3.000   Median :3.000          \n",
              "                                    Mean   :3.142   Mean   :2.809          \n",
              "                                    3rd Qu.:4.000   3rd Qu.:4.000          \n",
              "                                    Max.   :5.000   Max.   :5.000          \n",
              "                                    NA's   :214     NA's   :214            \n",
              "   QM_Rating     LongStayQM_Rating ShortStayQM_Rating Staffing_Rating\n",
              " Min.   :1.000   Min.   :1.000     Min.   :1.000      Min.   :1.000  \n",
              " 1st Qu.:3.000   1st Qu.:3.000     1st Qu.:3.000      1st Qu.:2.000  \n",
              " Median :4.000   Median :4.000     Median :4.000      Median :3.000  \n",
              " Mean   :3.739   Mean   :3.628     Mean   :3.753      Mean   :2.861  \n",
              " 3rd Qu.:5.000   3rd Qu.:5.000     3rd Qu.:5.000      3rd Qu.:4.000  \n",
              " Max.   :5.000   Max.   :5.000     Max.   :5.000      Max.   :5.000  \n",
              " NA's   :268     NA's   :647       NA's   :2744       NA's   :281    \n",
              " RNStaffing_Rating NurseAideStaffing_Hours LPNStaffing_Hours RNStaffing_Hours\n",
              " Min.   :1.000     Min.   :0.000           Min.   :0.0000    Min.   :0.0000  \n",
              " 1st Qu.:2.000     1st Qu.:1.795           1st Qu.:0.6422    1st Qu.:0.4115  \n",
              " Median :3.000     Median :2.117           Median :0.8565    Median :0.5918  \n",
              " Mean   :2.921     Mean   :2.188           Mean   :0.8779    Mean   :0.6973  \n",
              " 3rd Qu.:4.000     3rd Qu.:2.514           3rd Qu.:1.0735    3rd Qu.:0.8342  \n",
              " Max.   :5.000     Max.   :8.783           Max.   :4.7607    Max.   :7.4201  \n",
              " NA's   :281       NA's   :500             NA's   :500       NA's   :500     \n",
              " LicensedStaffing_Hours TotalNurseStaffing_Hours\n",
              " Min.   :0.000          Min.   : 0.0068         \n",
              " 1st Qu.:1.265          1st Qu.: 3.1705         \n",
              " Median :1.471          Median : 3.6080         \n",
              " Mean   :1.575          Mean   : 3.7626         \n",
              " 3rd Qu.:1.735          3rd Qu.: 4.1608         \n",
              " Max.   :9.799          Max.   :14.5320         \n",
              " NA's   :500            NA's   :500             \n",
              " TotalNurseStaffing_Hours_Weekend NursingStaff_Turnover RatingCycle1_Date \n",
              " Min.   : 0.0039                  Min.   :  0.00        Length:15224      \n",
              " 1st Qu.: 2.7290                  1st Qu.: 41.08        Class :character  \n",
              " Median : 3.1233                  Median : 51.00        Mode  :character  \n",
              " Mean   : 3.2640                  Mean   : 51.60                          \n",
              " 3rd Qu.: 3.6510                  3rd Qu.: 61.42                          \n",
              " Max.   :13.1621                  Max.   :100.00                          \n",
              " NA's   :501                      NA's   :2508                            \n",
              " RatingCycle1_HealthDeficiencyScore RatingCycle2_Date \n",
              " Length:15224                       Length:15224      \n",
              " Class :character                   Class :character  \n",
              " Mode  :character                   Mode  :character  \n",
              "                                                      \n",
              "                                                      \n",
              "                                                      \n",
              "                                                      \n",
              " RatingCycle2_HealthDeficiencyScore RatingCycle3_Date \n",
              " Length:15224                       Length:15224      \n",
              " Class :character                   Class :character  \n",
              " Mode  :character                   Mode  :character  \n",
              "                                                      \n",
              "                                                      \n",
              "                                                      \n",
              "                                                      \n",
              " RatingCycle3_HealthDeficiencyScore NumberofFines    TotalAmountFines \n",
              " Length:15224                       Min.   : 0.000   Min.   :      0  \n",
              " Class :character                   1st Qu.: 0.000   1st Qu.:      0  \n",
              " Mode  :character                   Median : 1.000   Median :   2938  \n",
              "                                    Mean   : 1.612   Mean   :  27192  \n",
              "                                    3rd Qu.: 2.000   3rd Qu.:  21990  \n",
              "                                    Max.   :70.000   Max.   :1050015  \n",
              "                                                                      \n",
              "    Capacity      \n",
              " Min.   : 0.0061  \n",
              " 1st Qu.: 0.6150  \n",
              " Median : 0.7397  \n",
              " Mean   : 0.7300  \n",
              " 3rd Qu.: 0.8478  \n",
              " Max.   :82.3000  \n",
              " NA's   :77       "
            ]
          },
          "metadata": {}
        }
      ]
    },
    {
      "cell_type": "code",
      "metadata": {
        "colab": {
          "base_uri": "https://localhost:8080/",
          "height": 53
        },
        "id": "-f0xIkPFucMa",
        "outputId": "5d6499f1-4ff7-42d8-c357-b6ba8cd1ba63"
      },
      "source": [
        "#Getting the summary for Number of Fines only\n",
        "summary(NursingHomes$NumberofFines)"
      ],
      "execution_count": 15,
      "outputs": [
        {
          "output_type": "display_data",
          "data": {
            "text/plain": [
              "   Min. 1st Qu.  Median    Mean 3rd Qu.    Max. \n",
              "  0.000   0.000   1.000   1.612   2.000  70.000 "
            ]
          },
          "metadata": {}
        }
      ]
    },
    {
      "cell_type": "markdown",
      "metadata": {
        "id": "cMDWJMZsxNSg"
      },
      "source": [
        "Given that many of the nursing homes do not have any fines, the followign should be used for the calcuation of average fine amount.\n",
        "\n",
        "$$AverageFine = \\Bigg\\{ \\begin{array} \\tiny{\\frac{\\mbox{Total Amount of Fines}}{\\mbox{Number of Fines}}} & when & \\mbox{Number of Fines} > 0\\\\\n",
        "0 &  when & \\mbox{Number of Fines} = 0\n",
        "\\end{array}$$"
      ]
    },
    {
      "cell_type": "code",
      "metadata": {
        "colab": {
          "base_uri": "https://localhost:8080/",
          "height": 122
        },
        "id": "5iyDc2u0xa_5",
        "outputId": "1504a44a-1414-4b42-f2c8-9ef0b53e3a0e"
      },
      "source": [
        "(\n",
        "  NursingHomes\n",
        "  %>% mutate(AvgFine = ifelse(NumberofFines > 0, TotalAmountFines / NumberofFines, 0) )\n",
        ") -> NursingHomes\n",
        "\n",
        "#Making sure column was added\n",
        "dim(NursingHomes)\n",
        "cat(\"\\n\")\n",
        "colnames(NursingHomes)\n"
      ],
      "execution_count": 16,
      "outputs": [
        {
          "output_type": "display_data",
          "data": {
            "text/plain": [
              "[1] 15224    35"
            ],
            "text/latex": "\\begin{enumerate*}\n\\item 15224\n\\item 35\n\\end{enumerate*}\n",
            "text/markdown": "1. 15224\n2. 35\n\n\n",
            "text/html": [
              "<style>\n",
              ".list-inline {list-style: none; margin:0; padding: 0}\n",
              ".list-inline>li {display: inline-block}\n",
              ".list-inline>li:not(:last-child)::after {content: \"\\00b7\"; padding: 0 .5ex}\n",
              "</style>\n",
              "<ol class=list-inline><li>15224</li><li>35</li></ol>\n"
            ]
          },
          "metadata": {}
        },
        {
          "output_type": "stream",
          "name": "stdout",
          "text": [
            "\n"
          ]
        },
        {
          "output_type": "display_data",
          "data": {
            "text/plain": [
              " [1] \"FPN\"                                \"ProviderName\"                      \n",
              " [3] \"ProviderAddress\"                    \"ProviderCounty\"                    \n",
              " [5] \"OwnershipType\"                      \"NumberBeds\"                        \n",
              " [7] \"AverageResidentsperDay\"             \"ProviderinHospital\"                \n",
              " [9] \"BusinessName\"                       \"ContinuingCareRetirementCommunity\" \n",
              "[11] \"HealthInspection_MoreThan2YearsAgo\" \"OverallRating\"                     \n",
              "[13] \"HealthInspection_Rating\"            \"QM_Rating\"                         \n",
              "[15] \"LongStayQM_Rating\"                  \"ShortStayQM_Rating\"                \n",
              "[17] \"Staffing_Rating\"                    \"RNStaffing_Rating\"                 \n",
              "[19] \"NurseAideStaffing_Hours\"            \"LPNStaffing_Hours\"                 \n",
              "[21] \"RNStaffing_Hours\"                   \"LicensedStaffing_Hours\"            \n",
              "[23] \"TotalNurseStaffing_Hours\"           \"TotalNurseStaffing_Hours_Weekend\"  \n",
              "[25] \"NursingStaff_Turnover\"              \"RatingCycle1_Date\"                 \n",
              "[27] \"RatingCycle1_HealthDeficiencyScore\" \"RatingCycle2_Date\"                 \n",
              "[29] \"RatingCycle2_HealthDeficiencyScore\" \"RatingCycle3_Date\"                 \n",
              "[31] \"RatingCycle3_HealthDeficiencyScore\" \"NumberofFines\"                     \n",
              "[33] \"TotalAmountFines\"                   \"Capacity\"                          \n",
              "[35] \"AvgFine\"                           "
            ],
            "text/latex": "\\begin{enumerate*}\n\\item 'FPN'\n\\item 'ProviderName'\n\\item 'ProviderAddress'\n\\item 'ProviderCounty'\n\\item 'OwnershipType'\n\\item 'NumberBeds'\n\\item 'AverageResidentsperDay'\n\\item 'ProviderinHospital'\n\\item 'BusinessName'\n\\item 'ContinuingCareRetirementCommunity'\n\\item 'HealthInspection\\_MoreThan2YearsAgo'\n\\item 'OverallRating'\n\\item 'HealthInspection\\_Rating'\n\\item 'QM\\_Rating'\n\\item 'LongStayQM\\_Rating'\n\\item 'ShortStayQM\\_Rating'\n\\item 'Staffing\\_Rating'\n\\item 'RNStaffing\\_Rating'\n\\item 'NurseAideStaffing\\_Hours'\n\\item 'LPNStaffing\\_Hours'\n\\item 'RNStaffing\\_Hours'\n\\item 'LicensedStaffing\\_Hours'\n\\item 'TotalNurseStaffing\\_Hours'\n\\item 'TotalNurseStaffing\\_Hours\\_Weekend'\n\\item 'NursingStaff\\_Turnover'\n\\item 'RatingCycle1\\_Date'\n\\item 'RatingCycle1\\_HealthDeficiencyScore'\n\\item 'RatingCycle2\\_Date'\n\\item 'RatingCycle2\\_HealthDeficiencyScore'\n\\item 'RatingCycle3\\_Date'\n\\item 'RatingCycle3\\_HealthDeficiencyScore'\n\\item 'NumberofFines'\n\\item 'TotalAmountFines'\n\\item 'Capacity'\n\\item 'AvgFine'\n\\end{enumerate*}\n",
            "text/markdown": "1. 'FPN'\n2. 'ProviderName'\n3. 'ProviderAddress'\n4. 'ProviderCounty'\n5. 'OwnershipType'\n6. 'NumberBeds'\n7. 'AverageResidentsperDay'\n8. 'ProviderinHospital'\n9. 'BusinessName'\n10. 'ContinuingCareRetirementCommunity'\n11. 'HealthInspection_MoreThan2YearsAgo'\n12. 'OverallRating'\n13. 'HealthInspection_Rating'\n14. 'QM_Rating'\n15. 'LongStayQM_Rating'\n16. 'ShortStayQM_Rating'\n17. 'Staffing_Rating'\n18. 'RNStaffing_Rating'\n19. 'NurseAideStaffing_Hours'\n20. 'LPNStaffing_Hours'\n21. 'RNStaffing_Hours'\n22. 'LicensedStaffing_Hours'\n23. 'TotalNurseStaffing_Hours'\n24. 'TotalNurseStaffing_Hours_Weekend'\n25. 'NursingStaff_Turnover'\n26. 'RatingCycle1_Date'\n27. 'RatingCycle1_HealthDeficiencyScore'\n28. 'RatingCycle2_Date'\n29. 'RatingCycle2_HealthDeficiencyScore'\n30. 'RatingCycle3_Date'\n31. 'RatingCycle3_HealthDeficiencyScore'\n32. 'NumberofFines'\n33. 'TotalAmountFines'\n34. 'Capacity'\n35. 'AvgFine'\n\n\n",
            "text/html": [
              "<style>\n",
              ".list-inline {list-style: none; margin:0; padding: 0}\n",
              ".list-inline>li {display: inline-block}\n",
              ".list-inline>li:not(:last-child)::after {content: \"\\00b7\"; padding: 0 .5ex}\n",
              "</style>\n",
              "<ol class=list-inline><li>'FPN'</li><li>'ProviderName'</li><li>'ProviderAddress'</li><li>'ProviderCounty'</li><li>'OwnershipType'</li><li>'NumberBeds'</li><li>'AverageResidentsperDay'</li><li>'ProviderinHospital'</li><li>'BusinessName'</li><li>'ContinuingCareRetirementCommunity'</li><li>'HealthInspection_MoreThan2YearsAgo'</li><li>'OverallRating'</li><li>'HealthInspection_Rating'</li><li>'QM_Rating'</li><li>'LongStayQM_Rating'</li><li>'ShortStayQM_Rating'</li><li>'Staffing_Rating'</li><li>'RNStaffing_Rating'</li><li>'NurseAideStaffing_Hours'</li><li>'LPNStaffing_Hours'</li><li>'RNStaffing_Hours'</li><li>'LicensedStaffing_Hours'</li><li>'TotalNurseStaffing_Hours'</li><li>'TotalNurseStaffing_Hours_Weekend'</li><li>'NursingStaff_Turnover'</li><li>'RatingCycle1_Date'</li><li>'RatingCycle1_HealthDeficiencyScore'</li><li>'RatingCycle2_Date'</li><li>'RatingCycle2_HealthDeficiencyScore'</li><li>'RatingCycle3_Date'</li><li>'RatingCycle3_HealthDeficiencyScore'</li><li>'NumberofFines'</li><li>'TotalAmountFines'</li><li>'Capacity'</li><li>'AvgFine'</li></ol>\n"
            ]
          },
          "metadata": {}
        }
      ]
    },
    {
      "cell_type": "markdown",
      "metadata": {
        "id": "wlRejB61yX43"
      },
      "source": [
        "Next, consider the average (and median) for all nursing homes."
      ]
    },
    {
      "cell_type": "code",
      "metadata": {
        "colab": {
          "base_uri": "https://localhost:8080/",
          "height": 129
        },
        "id": "bxbsGvC7yYBX",
        "outputId": "471a09b6-5604-439a-c21d-83d83d7630d3"
      },
      "source": [
        "(\n",
        "  NursingHomes\n",
        "  %>% summarize('Average of Fines Overall' = mean(AvgFine), 'Median of Fines Overall' = median(AvgFine))\n",
        ")"
      ],
      "execution_count": 17,
      "outputs": [
        {
          "output_type": "display_data",
          "data": {
            "text/plain": [
              "  Average of Fines Overall Median of Fines Overall\n",
              "1 11407.05                 982.67                 "
            ],
            "text/latex": "A tibble: 1 × 2\n\\begin{tabular}{ll}\n Average of Fines Overall & Median of Fines Overall\\\\\n <dbl> & <dbl>\\\\\n\\hline\n\t 11407.05 & 982.67\\\\\n\\end{tabular}\n",
            "text/markdown": "\nA tibble: 1 × 2\n\n| Average of Fines Overall &lt;dbl&gt; | Median of Fines Overall &lt;dbl&gt; |\n|---|---|\n| 11407.05 | 982.67 |\n\n",
            "text/html": [
              "<table class=\"dataframe\">\n",
              "<caption>A tibble: 1 × 2</caption>\n",
              "<thead>\n",
              "\t<tr><th scope=col>Average of Fines Overall</th><th scope=col>Median of Fines Overall</th></tr>\n",
              "\t<tr><th scope=col>&lt;dbl&gt;</th><th scope=col>&lt;dbl&gt;</th></tr>\n",
              "</thead>\n",
              "<tbody>\n",
              "\t<tr><td>11407.05</td><td>982.67</td></tr>\n",
              "</tbody>\n",
              "</table>\n"
            ]
          },
          "metadata": {}
        }
      ]
    },
    {
      "cell_type": "markdown",
      "metadata": {
        "id": "OvcS1_n3y7bt"
      },
      "source": [
        "Next, compute these quantites for Nursing Home that had a non-zero fine."
      ]
    },
    {
      "cell_type": "code",
      "metadata": {
        "colab": {
          "base_uri": "https://localhost:8080/",
          "height": 129
        },
        "id": "_uIG9mTZy7kF",
        "outputId": "801a610a-6c45-4dc8-cca0-a4a5d950fe8d"
      },
      "source": [
        "(\n",
        "  NursingHomes\n",
        "  %>% filter(AvgFine > 0)\n",
        "  %>% summarize('Average of Fines Overall' = mean(AvgFine), 'Median of Fines Overall' = median(AvgFine))\n",
        ")"
      ],
      "execution_count": 18,
      "outputs": [
        {
          "output_type": "display_data",
          "data": {
            "text/plain": [
              "  Average of Fines Overall Median of Fines Overall\n",
              "1 18146.39                 8474.67                "
            ],
            "text/latex": "A tibble: 1 × 2\n\\begin{tabular}{ll}\n Average of Fines Overall & Median of Fines Overall\\\\\n <dbl> & <dbl>\\\\\n\\hline\n\t 18146.39 & 8474.67\\\\\n\\end{tabular}\n",
            "text/markdown": "\nA tibble: 1 × 2\n\n| Average of Fines Overall &lt;dbl&gt; | Median of Fines Overall &lt;dbl&gt; |\n|---|---|\n| 18146.39 | 8474.67 |\n\n",
            "text/html": [
              "<table class=\"dataframe\">\n",
              "<caption>A tibble: 1 × 2</caption>\n",
              "<thead>\n",
              "\t<tr><th scope=col>Average of Fines Overall</th><th scope=col>Median of Fines Overall</th></tr>\n",
              "\t<tr><th scope=col>&lt;dbl&gt;</th><th scope=col>&lt;dbl&gt;</th></tr>\n",
              "</thead>\n",
              "<tbody>\n",
              "\t<tr><td>18146.39</td><td>8474.67</td></tr>\n",
              "</tbody>\n",
              "</table>\n"
            ]
          },
          "metadata": {}
        }
      ]
    },
    {
      "cell_type": "markdown",
      "metadata": {
        "id": "DnfxqiQ8zZOx"
      },
      "source": [
        "# Create New Field - Character"
      ]
    },
    {
      "cell_type": "markdown",
      "metadata": {
        "id": "B1QvbjKJzcse"
      },
      "source": [
        "Next, suppose the desire is to get the average Overall_Rating for nursing homes in MN.  Notice that State is not currently a field."
      ]
    },
    {
      "cell_type": "code",
      "metadata": {
        "colab": {
          "base_uri": "https://localhost:8080/",
          "height": 86
        },
        "id": "iq-aUMw7zZXd",
        "outputId": "74fca772-b80e-4f24-8d4e-2e5f0adf37b2"
      },
      "source": [
        "colnames(NursingHomes)"
      ],
      "execution_count": 19,
      "outputs": [
        {
          "output_type": "display_data",
          "data": {
            "text/plain": [
              " [1] \"FPN\"                                \"ProviderName\"                      \n",
              " [3] \"ProviderAddress\"                    \"ProviderCounty\"                    \n",
              " [5] \"OwnershipType\"                      \"NumberBeds\"                        \n",
              " [7] \"AverageResidentsperDay\"             \"ProviderinHospital\"                \n",
              " [9] \"BusinessName\"                       \"ContinuingCareRetirementCommunity\" \n",
              "[11] \"HealthInspection_MoreThan2YearsAgo\" \"OverallRating\"                     \n",
              "[13] \"HealthInspection_Rating\"            \"QM_Rating\"                         \n",
              "[15] \"LongStayQM_Rating\"                  \"ShortStayQM_Rating\"                \n",
              "[17] \"Staffing_Rating\"                    \"RNStaffing_Rating\"                 \n",
              "[19] \"NurseAideStaffing_Hours\"            \"LPNStaffing_Hours\"                 \n",
              "[21] \"RNStaffing_Hours\"                   \"LicensedStaffing_Hours\"            \n",
              "[23] \"TotalNurseStaffing_Hours\"           \"TotalNurseStaffing_Hours_Weekend\"  \n",
              "[25] \"NursingStaff_Turnover\"              \"RatingCycle1_Date\"                 \n",
              "[27] \"RatingCycle1_HealthDeficiencyScore\" \"RatingCycle2_Date\"                 \n",
              "[29] \"RatingCycle2_HealthDeficiencyScore\" \"RatingCycle3_Date\"                 \n",
              "[31] \"RatingCycle3_HealthDeficiencyScore\" \"NumberofFines\"                     \n",
              "[33] \"TotalAmountFines\"                   \"Capacity\"                          \n",
              "[35] \"AvgFine\"                           "
            ],
            "text/latex": "\\begin{enumerate*}\n\\item 'FPN'\n\\item 'ProviderName'\n\\item 'ProviderAddress'\n\\item 'ProviderCounty'\n\\item 'OwnershipType'\n\\item 'NumberBeds'\n\\item 'AverageResidentsperDay'\n\\item 'ProviderinHospital'\n\\item 'BusinessName'\n\\item 'ContinuingCareRetirementCommunity'\n\\item 'HealthInspection\\_MoreThan2YearsAgo'\n\\item 'OverallRating'\n\\item 'HealthInspection\\_Rating'\n\\item 'QM\\_Rating'\n\\item 'LongStayQM\\_Rating'\n\\item 'ShortStayQM\\_Rating'\n\\item 'Staffing\\_Rating'\n\\item 'RNStaffing\\_Rating'\n\\item 'NurseAideStaffing\\_Hours'\n\\item 'LPNStaffing\\_Hours'\n\\item 'RNStaffing\\_Hours'\n\\item 'LicensedStaffing\\_Hours'\n\\item 'TotalNurseStaffing\\_Hours'\n\\item 'TotalNurseStaffing\\_Hours\\_Weekend'\n\\item 'NursingStaff\\_Turnover'\n\\item 'RatingCycle1\\_Date'\n\\item 'RatingCycle1\\_HealthDeficiencyScore'\n\\item 'RatingCycle2\\_Date'\n\\item 'RatingCycle2\\_HealthDeficiencyScore'\n\\item 'RatingCycle3\\_Date'\n\\item 'RatingCycle3\\_HealthDeficiencyScore'\n\\item 'NumberofFines'\n\\item 'TotalAmountFines'\n\\item 'Capacity'\n\\item 'AvgFine'\n\\end{enumerate*}\n",
            "text/markdown": "1. 'FPN'\n2. 'ProviderName'\n3. 'ProviderAddress'\n4. 'ProviderCounty'\n5. 'OwnershipType'\n6. 'NumberBeds'\n7. 'AverageResidentsperDay'\n8. 'ProviderinHospital'\n9. 'BusinessName'\n10. 'ContinuingCareRetirementCommunity'\n11. 'HealthInspection_MoreThan2YearsAgo'\n12. 'OverallRating'\n13. 'HealthInspection_Rating'\n14. 'QM_Rating'\n15. 'LongStayQM_Rating'\n16. 'ShortStayQM_Rating'\n17. 'Staffing_Rating'\n18. 'RNStaffing_Rating'\n19. 'NurseAideStaffing_Hours'\n20. 'LPNStaffing_Hours'\n21. 'RNStaffing_Hours'\n22. 'LicensedStaffing_Hours'\n23. 'TotalNurseStaffing_Hours'\n24. 'TotalNurseStaffing_Hours_Weekend'\n25. 'NursingStaff_Turnover'\n26. 'RatingCycle1_Date'\n27. 'RatingCycle1_HealthDeficiencyScore'\n28. 'RatingCycle2_Date'\n29. 'RatingCycle2_HealthDeficiencyScore'\n30. 'RatingCycle3_Date'\n31. 'RatingCycle3_HealthDeficiencyScore'\n32. 'NumberofFines'\n33. 'TotalAmountFines'\n34. 'Capacity'\n35. 'AvgFine'\n\n\n",
            "text/html": [
              "<style>\n",
              ".list-inline {list-style: none; margin:0; padding: 0}\n",
              ".list-inline>li {display: inline-block}\n",
              ".list-inline>li:not(:last-child)::after {content: \"\\00b7\"; padding: 0 .5ex}\n",
              "</style>\n",
              "<ol class=list-inline><li>'FPN'</li><li>'ProviderName'</li><li>'ProviderAddress'</li><li>'ProviderCounty'</li><li>'OwnershipType'</li><li>'NumberBeds'</li><li>'AverageResidentsperDay'</li><li>'ProviderinHospital'</li><li>'BusinessName'</li><li>'ContinuingCareRetirementCommunity'</li><li>'HealthInspection_MoreThan2YearsAgo'</li><li>'OverallRating'</li><li>'HealthInspection_Rating'</li><li>'QM_Rating'</li><li>'LongStayQM_Rating'</li><li>'ShortStayQM_Rating'</li><li>'Staffing_Rating'</li><li>'RNStaffing_Rating'</li><li>'NurseAideStaffing_Hours'</li><li>'LPNStaffing_Hours'</li><li>'RNStaffing_Hours'</li><li>'LicensedStaffing_Hours'</li><li>'TotalNurseStaffing_Hours'</li><li>'TotalNurseStaffing_Hours_Weekend'</li><li>'NursingStaff_Turnover'</li><li>'RatingCycle1_Date'</li><li>'RatingCycle1_HealthDeficiencyScore'</li><li>'RatingCycle2_Date'</li><li>'RatingCycle2_HealthDeficiencyScore'</li><li>'RatingCycle3_Date'</li><li>'RatingCycle3_HealthDeficiencyScore'</li><li>'NumberofFines'</li><li>'TotalAmountFines'</li><li>'Capacity'</li><li>'AvgFine'</li></ol>\n"
            ]
          },
          "metadata": {}
        }
      ]
    },
    {
      "cell_type": "markdown",
      "metadata": {
        "id": "qFvggMXEzzG_"
      },
      "source": [
        "Realize that the State can be pulled off from the ProviderAddress or Provider County.  "
      ]
    },
    {
      "cell_type": "code",
      "metadata": {
        "colab": {
          "base_uri": "https://localhost:8080/",
          "height": 286
        },
        "id": "a6b5MCuezzOQ",
        "outputId": "e11d1251-4a35-4360-9035-72f4344e213e"
      },
      "source": [
        "(\n",
        "  NursingHomes\n",
        "  %>% select(ProviderAddress, ProviderCounty)\n",
        "  %>% head()\n",
        ")"
      ],
      "execution_count": 20,
      "outputs": [
        {
          "output_type": "display_data",
          "data": {
            "text/plain": [
              "  ProviderAddress                                  ProviderCounty     \n",
              "1 701 MONROE STREET NW, RUSSELLVILLE, AL, 35653    FranklinCounty, AL \n",
              "2 260 WEST WALNUT STREET, SYLACAUGA, AL, 35150     TalladegaCounty, AL\n",
              "3 380 WOODS COVE ROAD, SCOTTSBORO, AL, 35768       JacksonCounty, AL  \n",
              "4 7755 FOURTH AVENUE SOUTH, BIRMINGHAM, AL, 35206  JeffersonCounty, AL\n",
              "5 6450 OLD TUSCALOOSA HIGHWAY, MC CALLA, AL, 35111 JeffersonCounty, AL\n",
              "6 611 WEST MARKET STREET, ATHENS, AL, 35611        LimestoneCounty, AL"
            ],
            "text/latex": "A tibble: 6 × 2\n\\begin{tabular}{ll}\n ProviderAddress & ProviderCounty\\\\\n <chr> & <chr>\\\\\n\\hline\n\t 701 MONROE STREET NW, RUSSELLVILLE, AL, 35653    & FranklinCounty, AL \\\\\n\t 260 WEST WALNUT STREET, SYLACAUGA, AL, 35150     & TalladegaCounty, AL\\\\\n\t 380 WOODS COVE ROAD, SCOTTSBORO, AL, 35768       & JacksonCounty, AL  \\\\\n\t 7755 FOURTH AVENUE SOUTH, BIRMINGHAM, AL, 35206  & JeffersonCounty, AL\\\\\n\t 6450 OLD TUSCALOOSA HIGHWAY, MC CALLA, AL, 35111 & JeffersonCounty, AL\\\\\n\t 611 WEST MARKET STREET, ATHENS, AL, 35611        & LimestoneCounty, AL\\\\\n\\end{tabular}\n",
            "text/markdown": "\nA tibble: 6 × 2\n\n| ProviderAddress &lt;chr&gt; | ProviderCounty &lt;chr&gt; |\n|---|---|\n| 701 MONROE STREET NW, RUSSELLVILLE, AL, 35653    | FranklinCounty, AL  |\n| 260 WEST WALNUT STREET, SYLACAUGA, AL, 35150     | TalladegaCounty, AL |\n| 380 WOODS COVE ROAD, SCOTTSBORO, AL, 35768       | JacksonCounty, AL   |\n| 7755 FOURTH AVENUE SOUTH, BIRMINGHAM, AL, 35206  | JeffersonCounty, AL |\n| 6450 OLD TUSCALOOSA HIGHWAY, MC CALLA, AL, 35111 | JeffersonCounty, AL |\n| 611 WEST MARKET STREET, ATHENS, AL, 35611        | LimestoneCounty, AL |\n\n",
            "text/html": [
              "<table class=\"dataframe\">\n",
              "<caption>A tibble: 6 × 2</caption>\n",
              "<thead>\n",
              "\t<tr><th scope=col>ProviderAddress</th><th scope=col>ProviderCounty</th></tr>\n",
              "\t<tr><th scope=col>&lt;chr&gt;</th><th scope=col>&lt;chr&gt;</th></tr>\n",
              "</thead>\n",
              "<tbody>\n",
              "\t<tr><td>701 MONROE STREET NW, RUSSELLVILLE, AL, 35653   </td><td>FranklinCounty, AL </td></tr>\n",
              "\t<tr><td>260 WEST WALNUT STREET, SYLACAUGA, AL, 35150    </td><td>TalladegaCounty, AL</td></tr>\n",
              "\t<tr><td>380 WOODS COVE ROAD, SCOTTSBORO, AL, 35768      </td><td>JacksonCounty, AL  </td></tr>\n",
              "\t<tr><td>7755 FOURTH AVENUE SOUTH, BIRMINGHAM, AL, 35206 </td><td>JeffersonCounty, AL</td></tr>\n",
              "\t<tr><td>6450 OLD TUSCALOOSA HIGHWAY, MC CALLA, AL, 35111</td><td>JeffersonCounty, AL</td></tr>\n",
              "\t<tr><td>611 WEST MARKET STREET, ATHENS, AL, 35611       </td><td>LimestoneCounty, AL</td></tr>\n",
              "</tbody>\n",
              "</table>\n"
            ]
          },
          "metadata": {}
        }
      ]
    },
    {
      "cell_type": "markdown",
      "metadata": {
        "id": "lYVJBzJM0epe"
      },
      "source": [
        "To pull off elements of a string, we will use the <strong>str_sub</strong> function from the <strong>stringr</strong> pakcage. The stringr package is part of the <strong>tidyverse</strong> package.\n",
        "\n",
        "<p align='center'><img src=\"https://drive.google.com/uc?export=view&id=1gxaqqR7oxvPYQJYDiJDIMnwce_I_by_o\" width='75%' height='75%'></p>\n",
        "\n",
        "\n",
        "The syntax for the <strong>str_sub()</strong> function is\n",
        "\n",
        "\n",
        "<p align='center'>\n",
        "<font size='+2'>str_sub(<i>field name</i>, <i>start =</i> , <i>end =</i> )</font>\n",
        "</p>\n",
        "\n",
        "Note:  Negative indicies for <i>start</i> and <i>end</i> can be used to search a string <strong>backwards</strong>.\n"
      ]
    },
    {
      "cell_type": "code",
      "metadata": {
        "colab": {
          "base_uri": "https://localhost:8080/",
          "height": 86
        },
        "id": "IJASe83H0ewV",
        "outputId": "6a7a77cb-09d5-425f-e1af-4541a77d57ad"
      },
      "source": [
        "(\n",
        " NursingHomes\n",
        " %>% mutate(State = str_sub(ProviderCounty, -2,-1) )\n",
        ") -> NursingHomes\n",
        "\n",
        "colnames(NursingHomes)\n"
      ],
      "execution_count": 22,
      "outputs": [
        {
          "output_type": "display_data",
          "data": {
            "text/plain": [
              " [1] \"FPN\"                                \"ProviderName\"                      \n",
              " [3] \"ProviderAddress\"                    \"ProviderCounty\"                    \n",
              " [5] \"OwnershipType\"                      \"NumberBeds\"                        \n",
              " [7] \"AverageResidentsperDay\"             \"ProviderinHospital\"                \n",
              " [9] \"BusinessName\"                       \"ContinuingCareRetirementCommunity\" \n",
              "[11] \"HealthInspection_MoreThan2YearsAgo\" \"OverallRating\"                     \n",
              "[13] \"HealthInspection_Rating\"            \"QM_Rating\"                         \n",
              "[15] \"LongStayQM_Rating\"                  \"ShortStayQM_Rating\"                \n",
              "[17] \"Staffing_Rating\"                    \"RNStaffing_Rating\"                 \n",
              "[19] \"NurseAideStaffing_Hours\"            \"LPNStaffing_Hours\"                 \n",
              "[21] \"RNStaffing_Hours\"                   \"LicensedStaffing_Hours\"            \n",
              "[23] \"TotalNurseStaffing_Hours\"           \"TotalNurseStaffing_Hours_Weekend\"  \n",
              "[25] \"NursingStaff_Turnover\"              \"RatingCycle1_Date\"                 \n",
              "[27] \"RatingCycle1_HealthDeficiencyScore\" \"RatingCycle2_Date\"                 \n",
              "[29] \"RatingCycle2_HealthDeficiencyScore\" \"RatingCycle3_Date\"                 \n",
              "[31] \"RatingCycle3_HealthDeficiencyScore\" \"NumberofFines\"                     \n",
              "[33] \"TotalAmountFines\"                   \"Capacity\"                          \n",
              "[35] \"AvgFine\"                            \"State\"                             "
            ],
            "text/latex": "\\begin{enumerate*}\n\\item 'FPN'\n\\item 'ProviderName'\n\\item 'ProviderAddress'\n\\item 'ProviderCounty'\n\\item 'OwnershipType'\n\\item 'NumberBeds'\n\\item 'AverageResidentsperDay'\n\\item 'ProviderinHospital'\n\\item 'BusinessName'\n\\item 'ContinuingCareRetirementCommunity'\n\\item 'HealthInspection\\_MoreThan2YearsAgo'\n\\item 'OverallRating'\n\\item 'HealthInspection\\_Rating'\n\\item 'QM\\_Rating'\n\\item 'LongStayQM\\_Rating'\n\\item 'ShortStayQM\\_Rating'\n\\item 'Staffing\\_Rating'\n\\item 'RNStaffing\\_Rating'\n\\item 'NurseAideStaffing\\_Hours'\n\\item 'LPNStaffing\\_Hours'\n\\item 'RNStaffing\\_Hours'\n\\item 'LicensedStaffing\\_Hours'\n\\item 'TotalNurseStaffing\\_Hours'\n\\item 'TotalNurseStaffing\\_Hours\\_Weekend'\n\\item 'NursingStaff\\_Turnover'\n\\item 'RatingCycle1\\_Date'\n\\item 'RatingCycle1\\_HealthDeficiencyScore'\n\\item 'RatingCycle2\\_Date'\n\\item 'RatingCycle2\\_HealthDeficiencyScore'\n\\item 'RatingCycle3\\_Date'\n\\item 'RatingCycle3\\_HealthDeficiencyScore'\n\\item 'NumberofFines'\n\\item 'TotalAmountFines'\n\\item 'Capacity'\n\\item 'AvgFine'\n\\item 'State'\n\\end{enumerate*}\n",
            "text/markdown": "1. 'FPN'\n2. 'ProviderName'\n3. 'ProviderAddress'\n4. 'ProviderCounty'\n5. 'OwnershipType'\n6. 'NumberBeds'\n7. 'AverageResidentsperDay'\n8. 'ProviderinHospital'\n9. 'BusinessName'\n10. 'ContinuingCareRetirementCommunity'\n11. 'HealthInspection_MoreThan2YearsAgo'\n12. 'OverallRating'\n13. 'HealthInspection_Rating'\n14. 'QM_Rating'\n15. 'LongStayQM_Rating'\n16. 'ShortStayQM_Rating'\n17. 'Staffing_Rating'\n18. 'RNStaffing_Rating'\n19. 'NurseAideStaffing_Hours'\n20. 'LPNStaffing_Hours'\n21. 'RNStaffing_Hours'\n22. 'LicensedStaffing_Hours'\n23. 'TotalNurseStaffing_Hours'\n24. 'TotalNurseStaffing_Hours_Weekend'\n25. 'NursingStaff_Turnover'\n26. 'RatingCycle1_Date'\n27. 'RatingCycle1_HealthDeficiencyScore'\n28. 'RatingCycle2_Date'\n29. 'RatingCycle2_HealthDeficiencyScore'\n30. 'RatingCycle3_Date'\n31. 'RatingCycle3_HealthDeficiencyScore'\n32. 'NumberofFines'\n33. 'TotalAmountFines'\n34. 'Capacity'\n35. 'AvgFine'\n36. 'State'\n\n\n",
            "text/html": [
              "<style>\n",
              ".list-inline {list-style: none; margin:0; padding: 0}\n",
              ".list-inline>li {display: inline-block}\n",
              ".list-inline>li:not(:last-child)::after {content: \"\\00b7\"; padding: 0 .5ex}\n",
              "</style>\n",
              "<ol class=list-inline><li>'FPN'</li><li>'ProviderName'</li><li>'ProviderAddress'</li><li>'ProviderCounty'</li><li>'OwnershipType'</li><li>'NumberBeds'</li><li>'AverageResidentsperDay'</li><li>'ProviderinHospital'</li><li>'BusinessName'</li><li>'ContinuingCareRetirementCommunity'</li><li>'HealthInspection_MoreThan2YearsAgo'</li><li>'OverallRating'</li><li>'HealthInspection_Rating'</li><li>'QM_Rating'</li><li>'LongStayQM_Rating'</li><li>'ShortStayQM_Rating'</li><li>'Staffing_Rating'</li><li>'RNStaffing_Rating'</li><li>'NurseAideStaffing_Hours'</li><li>'LPNStaffing_Hours'</li><li>'RNStaffing_Hours'</li><li>'LicensedStaffing_Hours'</li><li>'TotalNurseStaffing_Hours'</li><li>'TotalNurseStaffing_Hours_Weekend'</li><li>'NursingStaff_Turnover'</li><li>'RatingCycle1_Date'</li><li>'RatingCycle1_HealthDeficiencyScore'</li><li>'RatingCycle2_Date'</li><li>'RatingCycle2_HealthDeficiencyScore'</li><li>'RatingCycle3_Date'</li><li>'RatingCycle3_HealthDeficiencyScore'</li><li>'NumberofFines'</li><li>'TotalAmountFines'</li><li>'Capacity'</li><li>'AvgFine'</li><li>'State'</li></ol>\n"
            ]
          },
          "metadata": {}
        }
      ]
    },
    {
      "cell_type": "markdown",
      "metadata": {
        "id": "g369SGUT2jYq"
      },
      "source": [
        "Notice that R always appears to add the newly created column from mutate() to the far right side of the dataframe.  There exists a <strong>relocate()</strong> function that can be used to rearrange the order of the columns."
      ]
    },
    {
      "cell_type": "code",
      "metadata": {
        "colab": {
          "base_uri": "https://localhost:8080/",
          "height": 740
        },
        "id": "0g0cmXaF2jgQ",
        "outputId": "e8caf2e0-7ce5-4800-aac3-a5f8bb5c17ae"
      },
      "source": [
        "(\n",
        " NursingHomes\n",
        " %>% relocate(State, .after = ProviderAddress )\n",
        ") -> NursingHomes\n",
        "\n",
        "colnames(NursingHomes)\n",
        "cat(\"\\n\")\n",
        "head(NursingHomes)"
      ],
      "execution_count": 23,
      "outputs": [
        {
          "output_type": "display_data",
          "data": {
            "text/plain": [
              " [1] \"FPN\"                                \"ProviderName\"                      \n",
              " [3] \"ProviderAddress\"                    \"State\"                             \n",
              " [5] \"ProviderCounty\"                     \"OwnershipType\"                     \n",
              " [7] \"NumberBeds\"                         \"AverageResidentsperDay\"            \n",
              " [9] \"ProviderinHospital\"                 \"BusinessName\"                      \n",
              "[11] \"ContinuingCareRetirementCommunity\"  \"HealthInspection_MoreThan2YearsAgo\"\n",
              "[13] \"OverallRating\"                      \"HealthInspection_Rating\"           \n",
              "[15] \"QM_Rating\"                          \"LongStayQM_Rating\"                 \n",
              "[17] \"ShortStayQM_Rating\"                 \"Staffing_Rating\"                   \n",
              "[19] \"RNStaffing_Rating\"                  \"NurseAideStaffing_Hours\"           \n",
              "[21] \"LPNStaffing_Hours\"                  \"RNStaffing_Hours\"                  \n",
              "[23] \"LicensedStaffing_Hours\"             \"TotalNurseStaffing_Hours\"          \n",
              "[25] \"TotalNurseStaffing_Hours_Weekend\"   \"NursingStaff_Turnover\"             \n",
              "[27] \"RatingCycle1_Date\"                  \"RatingCycle1_HealthDeficiencyScore\"\n",
              "[29] \"RatingCycle2_Date\"                  \"RatingCycle2_HealthDeficiencyScore\"\n",
              "[31] \"RatingCycle3_Date\"                  \"RatingCycle3_HealthDeficiencyScore\"\n",
              "[33] \"NumberofFines\"                      \"TotalAmountFines\"                  \n",
              "[35] \"Capacity\"                           \"AvgFine\"                           "
            ],
            "text/latex": "\\begin{enumerate*}\n\\item 'FPN'\n\\item 'ProviderName'\n\\item 'ProviderAddress'\n\\item 'State'\n\\item 'ProviderCounty'\n\\item 'OwnershipType'\n\\item 'NumberBeds'\n\\item 'AverageResidentsperDay'\n\\item 'ProviderinHospital'\n\\item 'BusinessName'\n\\item 'ContinuingCareRetirementCommunity'\n\\item 'HealthInspection\\_MoreThan2YearsAgo'\n\\item 'OverallRating'\n\\item 'HealthInspection\\_Rating'\n\\item 'QM\\_Rating'\n\\item 'LongStayQM\\_Rating'\n\\item 'ShortStayQM\\_Rating'\n\\item 'Staffing\\_Rating'\n\\item 'RNStaffing\\_Rating'\n\\item 'NurseAideStaffing\\_Hours'\n\\item 'LPNStaffing\\_Hours'\n\\item 'RNStaffing\\_Hours'\n\\item 'LicensedStaffing\\_Hours'\n\\item 'TotalNurseStaffing\\_Hours'\n\\item 'TotalNurseStaffing\\_Hours\\_Weekend'\n\\item 'NursingStaff\\_Turnover'\n\\item 'RatingCycle1\\_Date'\n\\item 'RatingCycle1\\_HealthDeficiencyScore'\n\\item 'RatingCycle2\\_Date'\n\\item 'RatingCycle2\\_HealthDeficiencyScore'\n\\item 'RatingCycle3\\_Date'\n\\item 'RatingCycle3\\_HealthDeficiencyScore'\n\\item 'NumberofFines'\n\\item 'TotalAmountFines'\n\\item 'Capacity'\n\\item 'AvgFine'\n\\end{enumerate*}\n",
            "text/markdown": "1. 'FPN'\n2. 'ProviderName'\n3. 'ProviderAddress'\n4. 'State'\n5. 'ProviderCounty'\n6. 'OwnershipType'\n7. 'NumberBeds'\n8. 'AverageResidentsperDay'\n9. 'ProviderinHospital'\n10. 'BusinessName'\n11. 'ContinuingCareRetirementCommunity'\n12. 'HealthInspection_MoreThan2YearsAgo'\n13. 'OverallRating'\n14. 'HealthInspection_Rating'\n15. 'QM_Rating'\n16. 'LongStayQM_Rating'\n17. 'ShortStayQM_Rating'\n18. 'Staffing_Rating'\n19. 'RNStaffing_Rating'\n20. 'NurseAideStaffing_Hours'\n21. 'LPNStaffing_Hours'\n22. 'RNStaffing_Hours'\n23. 'LicensedStaffing_Hours'\n24. 'TotalNurseStaffing_Hours'\n25. 'TotalNurseStaffing_Hours_Weekend'\n26. 'NursingStaff_Turnover'\n27. 'RatingCycle1_Date'\n28. 'RatingCycle1_HealthDeficiencyScore'\n29. 'RatingCycle2_Date'\n30. 'RatingCycle2_HealthDeficiencyScore'\n31. 'RatingCycle3_Date'\n32. 'RatingCycle3_HealthDeficiencyScore'\n33. 'NumberofFines'\n34. 'TotalAmountFines'\n35. 'Capacity'\n36. 'AvgFine'\n\n\n",
            "text/html": [
              "<style>\n",
              ".list-inline {list-style: none; margin:0; padding: 0}\n",
              ".list-inline>li {display: inline-block}\n",
              ".list-inline>li:not(:last-child)::after {content: \"\\00b7\"; padding: 0 .5ex}\n",
              "</style>\n",
              "<ol class=list-inline><li>'FPN'</li><li>'ProviderName'</li><li>'ProviderAddress'</li><li>'State'</li><li>'ProviderCounty'</li><li>'OwnershipType'</li><li>'NumberBeds'</li><li>'AverageResidentsperDay'</li><li>'ProviderinHospital'</li><li>'BusinessName'</li><li>'ContinuingCareRetirementCommunity'</li><li>'HealthInspection_MoreThan2YearsAgo'</li><li>'OverallRating'</li><li>'HealthInspection_Rating'</li><li>'QM_Rating'</li><li>'LongStayQM_Rating'</li><li>'ShortStayQM_Rating'</li><li>'Staffing_Rating'</li><li>'RNStaffing_Rating'</li><li>'NurseAideStaffing_Hours'</li><li>'LPNStaffing_Hours'</li><li>'RNStaffing_Hours'</li><li>'LicensedStaffing_Hours'</li><li>'TotalNurseStaffing_Hours'</li><li>'TotalNurseStaffing_Hours_Weekend'</li><li>'NursingStaff_Turnover'</li><li>'RatingCycle1_Date'</li><li>'RatingCycle1_HealthDeficiencyScore'</li><li>'RatingCycle2_Date'</li><li>'RatingCycle2_HealthDeficiencyScore'</li><li>'RatingCycle3_Date'</li><li>'RatingCycle3_HealthDeficiencyScore'</li><li>'NumberofFines'</li><li>'TotalAmountFines'</li><li>'Capacity'</li><li>'AvgFine'</li></ol>\n"
            ]
          },
          "metadata": {}
        },
        {
          "output_type": "stream",
          "name": "stdout",
          "text": [
            "\n"
          ]
        },
        {
          "output_type": "display_data",
          "data": {
            "text/plain": [
              "  FPN   ProviderName                               \n",
              "1 15009 BURNS NURSING HOME, INC.                   \n",
              "2 15010 COOSA VALLEY HEALTHCARE CENTER             \n",
              "3 15012 HIGHLANDS HEALTH AND REHAB                 \n",
              "4 15014 EASTVIEW REHABILITATION & HEALTHCARE CENTER\n",
              "5 15015 PLANTATION MANOR NURSING HOME              \n",
              "6 15016 ATHENS HEALTH AND REHABILITATION LLC       \n",
              "  ProviderAddress                                  State ProviderCounty     \n",
              "1 701 MONROE STREET NW, RUSSELLVILLE, AL, 35653    AL    FranklinCounty, AL \n",
              "2 260 WEST WALNUT STREET, SYLACAUGA, AL, 35150     AL    TalladegaCounty, AL\n",
              "3 380 WOODS COVE ROAD, SCOTTSBORO, AL, 35768       AL    JacksonCounty, AL  \n",
              "4 7755 FOURTH AVENUE SOUTH, BIRMINGHAM, AL, 35206  AL    JeffersonCounty, AL\n",
              "5 6450 OLD TUSCALOOSA HIGHWAY, MC CALLA, AL, 35111 AL    JeffersonCounty, AL\n",
              "6 611 WEST MARKET STREET, ATHENS, AL, 35611        AL    LimestoneCounty, AL\n",
              "  OwnershipType            NumberBeds AverageResidentsperDay ProviderinHospital\n",
              "1 For profit - Corporation  57         53.2                  N                 \n",
              "2 For profit - Corporation  85         79.8                  N                 \n",
              "3 Government - County       50         39.9                  Y                 \n",
              "4 For profit - Individual   92         69.4                  N                 \n",
              "5 For profit - Individual  103         72.4                  N                 \n",
              "6 For profit - Corporation 149        119.1                  N                 \n",
              "  BusinessName                         ⋯ RatingCycle1_Date\n",
              "1 BURNS NURSING HOME, INC.             ⋯ 8/21/2019        \n",
              "2 COOSA VALLEY HEALTHCARE CENTER LLC   ⋯ 6/13/2019        \n",
              "3 JACKSON COUNTY HEALTH CARE AUTHORITY ⋯ 6/6/2019         \n",
              "4 BALL HEALTHCARE EASTVIEW INC         ⋯ 2/20/2020        \n",
              "5 C & G HEALTHCARE SERVICES, INC.      ⋯ 3/5/2020         \n",
              "6 ATHENS HEALTH AND REHABILITATION LLC ⋯ 8/29/2019        \n",
              "  RatingCycle1_HealthDeficiencyScore RatingCycle2_Date\n",
              "1 8                                  8/1/2018         \n",
              "2 4                                  6/7/2018         \n",
              "3 20                                 5/3/2018         \n",
              "4 4                                  1/24/2019        \n",
              "5 20                                 5/2/2019         \n",
              "6 20                                 7/19/2018        \n",
              "  RatingCycle2_HealthDeficiencyScore RatingCycle3_Date\n",
              "1 4                                  6/22/2017        \n",
              "2 32                                 4/6/2017         \n",
              "3 40                                 3/16/2017        \n",
              "4 20                                 1/25/2018        \n",
              "5 4                                  4/19/2018        \n",
              "6 24                                 6/1/2017         \n",
              "  RatingCycle3_HealthDeficiencyScore NumberofFines TotalAmountFines Capacity \n",
              "1 0                                  1              650             0.9333333\n",
              "2 36                                 1              650             0.9388235\n",
              "3 44                                 0                0             0.7980000\n",
              "4 24                                 0                0             0.7543478\n",
              "5 28                                 3             8333             0.7029126\n",
              "6 24                                 0                0             0.7993289\n",
              "  AvgFine \n",
              "1  650.000\n",
              "2  650.000\n",
              "3    0.000\n",
              "4    0.000\n",
              "5 2777.667\n",
              "6    0.000"
            ],
            "text/latex": "A tibble: 6 × 36\n\\begin{tabular}{lllllllllllllllllllll}\n FPN & ProviderName & ProviderAddress & State & ProviderCounty & OwnershipType & NumberBeds & AverageResidentsperDay & ProviderinHospital & BusinessName & ⋯ & RatingCycle1\\_Date & RatingCycle1\\_HealthDeficiencyScore & RatingCycle2\\_Date & RatingCycle2\\_HealthDeficiencyScore & RatingCycle3\\_Date & RatingCycle3\\_HealthDeficiencyScore & NumberofFines & TotalAmountFines & Capacity & AvgFine\\\\\n <chr> & <chr> & <chr> & <chr> & <chr> & <chr> & <dbl> & <dbl> & <chr> & <chr> & ⋯ & <chr> & <chr> & <chr> & <chr> & <chr> & <chr> & <dbl> & <dbl> & <dbl> & <dbl>\\\\\n\\hline\n\t 15009 & BURNS NURSING HOME, INC.                    & 701 MONROE STREET NW, RUSSELLVILLE, AL, 35653    & AL & FranklinCounty, AL  & For profit - Corporation &  57 &  53.2 & N & BURNS NURSING HOME, INC.             & ⋯ & 8/21/2019 & 8  & 8/1/2018  & 4  & 6/22/2017 & 0  & 1 &  650 & 0.9333333 &  650.000\\\\\n\t 15010 & COOSA VALLEY HEALTHCARE CENTER              & 260 WEST WALNUT STREET, SYLACAUGA, AL, 35150     & AL & TalladegaCounty, AL & For profit - Corporation &  85 &  79.8 & N & COOSA VALLEY HEALTHCARE CENTER LLC   & ⋯ & 6/13/2019 & 4  & 6/7/2018  & 32 & 4/6/2017  & 36 & 1 &  650 & 0.9388235 &  650.000\\\\\n\t 15012 & HIGHLANDS HEALTH AND REHAB                  & 380 WOODS COVE ROAD, SCOTTSBORO, AL, 35768       & AL & JacksonCounty, AL   & Government - County      &  50 &  39.9 & Y & JACKSON COUNTY HEALTH CARE AUTHORITY & ⋯ & 6/6/2019  & 20 & 5/3/2018  & 40 & 3/16/2017 & 44 & 0 &    0 & 0.7980000 &    0.000\\\\\n\t 15014 & EASTVIEW REHABILITATION \\& HEALTHCARE CENTER & 7755 FOURTH AVENUE SOUTH, BIRMINGHAM, AL, 35206  & AL & JeffersonCounty, AL & For profit - Individual  &  92 &  69.4 & N & BALL HEALTHCARE EASTVIEW INC         & ⋯ & 2/20/2020 & 4  & 1/24/2019 & 20 & 1/25/2018 & 24 & 0 &    0 & 0.7543478 &    0.000\\\\\n\t 15015 & PLANTATION MANOR NURSING HOME               & 6450 OLD TUSCALOOSA HIGHWAY, MC CALLA, AL, 35111 & AL & JeffersonCounty, AL & For profit - Individual  & 103 &  72.4 & N & C \\& G HEALTHCARE SERVICES, INC.      & ⋯ & 3/5/2020  & 20 & 5/2/2019  & 4  & 4/19/2018 & 28 & 3 & 8333 & 0.7029126 & 2777.667\\\\\n\t 15016 & ATHENS HEALTH AND REHABILITATION LLC        & 611 WEST MARKET STREET, ATHENS, AL, 35611        & AL & LimestoneCounty, AL & For profit - Corporation & 149 & 119.1 & N & ATHENS HEALTH AND REHABILITATION LLC & ⋯ & 8/29/2019 & 20 & 7/19/2018 & 24 & 6/1/2017  & 24 & 0 &    0 & 0.7993289 &    0.000\\\\\n\\end{tabular}\n",
            "text/markdown": "\nA tibble: 6 × 36\n\n| FPN &lt;chr&gt; | ProviderName &lt;chr&gt; | ProviderAddress &lt;chr&gt; | State &lt;chr&gt; | ProviderCounty &lt;chr&gt; | OwnershipType &lt;chr&gt; | NumberBeds &lt;dbl&gt; | AverageResidentsperDay &lt;dbl&gt; | ProviderinHospital &lt;chr&gt; | BusinessName &lt;chr&gt; | ⋯ ⋯ | RatingCycle1_Date &lt;chr&gt; | RatingCycle1_HealthDeficiencyScore &lt;chr&gt; | RatingCycle2_Date &lt;chr&gt; | RatingCycle2_HealthDeficiencyScore &lt;chr&gt; | RatingCycle3_Date &lt;chr&gt; | RatingCycle3_HealthDeficiencyScore &lt;chr&gt; | NumberofFines &lt;dbl&gt; | TotalAmountFines &lt;dbl&gt; | Capacity &lt;dbl&gt; | AvgFine &lt;dbl&gt; |\n|---|---|---|---|---|---|---|---|---|---|---|---|---|---|---|---|---|---|---|---|---|\n| 15009 | BURNS NURSING HOME, INC.                    | 701 MONROE STREET NW, RUSSELLVILLE, AL, 35653    | AL | FranklinCounty, AL  | For profit - Corporation |  57 |  53.2 | N | BURNS NURSING HOME, INC.             | ⋯ | 8/21/2019 | 8  | 8/1/2018  | 4  | 6/22/2017 | 0  | 1 |  650 | 0.9333333 |  650.000 |\n| 15010 | COOSA VALLEY HEALTHCARE CENTER              | 260 WEST WALNUT STREET, SYLACAUGA, AL, 35150     | AL | TalladegaCounty, AL | For profit - Corporation |  85 |  79.8 | N | COOSA VALLEY HEALTHCARE CENTER LLC   | ⋯ | 6/13/2019 | 4  | 6/7/2018  | 32 | 4/6/2017  | 36 | 1 |  650 | 0.9388235 |  650.000 |\n| 15012 | HIGHLANDS HEALTH AND REHAB                  | 380 WOODS COVE ROAD, SCOTTSBORO, AL, 35768       | AL | JacksonCounty, AL   | Government - County      |  50 |  39.9 | Y | JACKSON COUNTY HEALTH CARE AUTHORITY | ⋯ | 6/6/2019  | 20 | 5/3/2018  | 40 | 3/16/2017 | 44 | 0 |    0 | 0.7980000 |    0.000 |\n| 15014 | EASTVIEW REHABILITATION &amp; HEALTHCARE CENTER | 7755 FOURTH AVENUE SOUTH, BIRMINGHAM, AL, 35206  | AL | JeffersonCounty, AL | For profit - Individual  |  92 |  69.4 | N | BALL HEALTHCARE EASTVIEW INC         | ⋯ | 2/20/2020 | 4  | 1/24/2019 | 20 | 1/25/2018 | 24 | 0 |    0 | 0.7543478 |    0.000 |\n| 15015 | PLANTATION MANOR NURSING HOME               | 6450 OLD TUSCALOOSA HIGHWAY, MC CALLA, AL, 35111 | AL | JeffersonCounty, AL | For profit - Individual  | 103 |  72.4 | N | C &amp; G HEALTHCARE SERVICES, INC.      | ⋯ | 3/5/2020  | 20 | 5/2/2019  | 4  | 4/19/2018 | 28 | 3 | 8333 | 0.7029126 | 2777.667 |\n| 15016 | ATHENS HEALTH AND REHABILITATION LLC        | 611 WEST MARKET STREET, ATHENS, AL, 35611        | AL | LimestoneCounty, AL | For profit - Corporation | 149 | 119.1 | N | ATHENS HEALTH AND REHABILITATION LLC | ⋯ | 8/29/2019 | 20 | 7/19/2018 | 24 | 6/1/2017  | 24 | 0 |    0 | 0.7993289 |    0.000 |\n\n",
            "text/html": [
              "<table class=\"dataframe\">\n",
              "<caption>A tibble: 6 × 36</caption>\n",
              "<thead>\n",
              "\t<tr><th scope=col>FPN</th><th scope=col>ProviderName</th><th scope=col>ProviderAddress</th><th scope=col>State</th><th scope=col>ProviderCounty</th><th scope=col>OwnershipType</th><th scope=col>NumberBeds</th><th scope=col>AverageResidentsperDay</th><th scope=col>ProviderinHospital</th><th scope=col>BusinessName</th><th scope=col>⋯</th><th scope=col>RatingCycle1_Date</th><th scope=col>RatingCycle1_HealthDeficiencyScore</th><th scope=col>RatingCycle2_Date</th><th scope=col>RatingCycle2_HealthDeficiencyScore</th><th scope=col>RatingCycle3_Date</th><th scope=col>RatingCycle3_HealthDeficiencyScore</th><th scope=col>NumberofFines</th><th scope=col>TotalAmountFines</th><th scope=col>Capacity</th><th scope=col>AvgFine</th></tr>\n",
              "\t<tr><th scope=col>&lt;chr&gt;</th><th scope=col>&lt;chr&gt;</th><th scope=col>&lt;chr&gt;</th><th scope=col>&lt;chr&gt;</th><th scope=col>&lt;chr&gt;</th><th scope=col>&lt;chr&gt;</th><th scope=col>&lt;dbl&gt;</th><th scope=col>&lt;dbl&gt;</th><th scope=col>&lt;chr&gt;</th><th scope=col>&lt;chr&gt;</th><th scope=col>⋯</th><th scope=col>&lt;chr&gt;</th><th scope=col>&lt;chr&gt;</th><th scope=col>&lt;chr&gt;</th><th scope=col>&lt;chr&gt;</th><th scope=col>&lt;chr&gt;</th><th scope=col>&lt;chr&gt;</th><th scope=col>&lt;dbl&gt;</th><th scope=col>&lt;dbl&gt;</th><th scope=col>&lt;dbl&gt;</th><th scope=col>&lt;dbl&gt;</th></tr>\n",
              "</thead>\n",
              "<tbody>\n",
              "\t<tr><td>15009</td><td>BURNS NURSING HOME, INC.                   </td><td>701 MONROE STREET NW, RUSSELLVILLE, AL, 35653   </td><td>AL</td><td>FranklinCounty, AL </td><td>For profit - Corporation</td><td> 57</td><td> 53.2</td><td>N</td><td>BURNS NURSING HOME, INC.            </td><td>⋯</td><td>8/21/2019</td><td>8 </td><td>8/1/2018 </td><td>4 </td><td>6/22/2017</td><td>0 </td><td>1</td><td> 650</td><td>0.9333333</td><td> 650.000</td></tr>\n",
              "\t<tr><td>15010</td><td>COOSA VALLEY HEALTHCARE CENTER             </td><td>260 WEST WALNUT STREET, SYLACAUGA, AL, 35150    </td><td>AL</td><td>TalladegaCounty, AL</td><td>For profit - Corporation</td><td> 85</td><td> 79.8</td><td>N</td><td>COOSA VALLEY HEALTHCARE CENTER LLC  </td><td>⋯</td><td>6/13/2019</td><td>4 </td><td>6/7/2018 </td><td>32</td><td>4/6/2017 </td><td>36</td><td>1</td><td> 650</td><td>0.9388235</td><td> 650.000</td></tr>\n",
              "\t<tr><td>15012</td><td>HIGHLANDS HEALTH AND REHAB                 </td><td>380 WOODS COVE ROAD, SCOTTSBORO, AL, 35768      </td><td>AL</td><td>JacksonCounty, AL  </td><td>Government - County     </td><td> 50</td><td> 39.9</td><td>Y</td><td>JACKSON COUNTY HEALTH CARE AUTHORITY</td><td>⋯</td><td>6/6/2019 </td><td>20</td><td>5/3/2018 </td><td>40</td><td>3/16/2017</td><td>44</td><td>0</td><td>   0</td><td>0.7980000</td><td>   0.000</td></tr>\n",
              "\t<tr><td>15014</td><td>EASTVIEW REHABILITATION &amp; HEALTHCARE CENTER</td><td>7755 FOURTH AVENUE SOUTH, BIRMINGHAM, AL, 35206 </td><td>AL</td><td>JeffersonCounty, AL</td><td>For profit - Individual </td><td> 92</td><td> 69.4</td><td>N</td><td><span style=white-space:pre-wrap>BALL HEALTHCARE EASTVIEW INC        </span></td><td>⋯</td><td>2/20/2020</td><td>4 </td><td>1/24/2019</td><td>20</td><td>1/25/2018</td><td>24</td><td>0</td><td><span style=white-space:pre-wrap>   0</span></td><td>0.7543478</td><td><span style=white-space:pre-wrap>   0.000</span></td></tr>\n",
              "\t<tr><td>15015</td><td><span style=white-space:pre-wrap>PLANTATION MANOR NURSING HOME              </span></td><td>6450 OLD TUSCALOOSA HIGHWAY, MC CALLA, AL, 35111</td><td>AL</td><td>JeffersonCounty, AL</td><td>For profit - Individual </td><td>103</td><td> 72.4</td><td>N</td><td><span style=white-space:pre-wrap>C &amp; G HEALTHCARE SERVICES, INC.     </span></td><td>⋯</td><td>3/5/2020 </td><td>20</td><td>5/2/2019 </td><td>4 </td><td>4/19/2018</td><td>28</td><td>3</td><td>8333</td><td>0.7029126</td><td>2777.667</td></tr>\n",
              "\t<tr><td>15016</td><td>ATHENS HEALTH AND REHABILITATION LLC       </td><td>611 WEST MARKET STREET, ATHENS, AL, 35611       </td><td>AL</td><td>LimestoneCounty, AL</td><td>For profit - Corporation</td><td>149</td><td>119.1</td><td>N</td><td>ATHENS HEALTH AND REHABILITATION LLC</td><td>⋯</td><td>8/29/2019</td><td>20</td><td>7/19/2018</td><td>24</td><td>6/1/2017 </td><td>24</td><td>0</td><td>   0</td><td>0.7993289</td><td>   0.000</td></tr>\n",
              "</tbody>\n",
              "</table>\n"
            ]
          },
          "metadata": {}
        }
      ]
    },
    {
      "cell_type": "markdown",
      "metadata": {
        "id": "X3C0-jK62794"
      },
      "source": [
        "Next, consider the code that provides a summary of the total amount of fines across the entrie state of MN and WI.  The <strong>message()</strong> function is unique to Colab and forces printing to the screen."
      ]
    },
    {
      "cell_type": "code",
      "metadata": {
        "id": "bUfIa8ha2-Lx",
        "colab": {
          "base_uri": "https://localhost:8080/",
          "height": 160
        },
        "outputId": "9dc9ab5c-7808-4216-a242-a5253d13866b"
      },
      "source": [
        "(\n",
        " NursingHomes\n",
        " %>% filter(State == \"MN\" | State == \"WI\")\n",
        " %>% group_by(State)\n",
        " %>% summarize(TotalFines = sum(TotalAmountFines))\n",
        " ) -> MNandWI_Fines\n",
        "\n",
        "MNandWI_Fines\n",
        "\n",
        "#message(\"The total amount of fines for nursing homes in MN is \", MNandWI_Fines[1,2],\".\")\n",
        "#message(\"The total amount of fines for nursing homes is WI is \", MNandWI_Fines[2,2],\".\")\n",
        "\n",
        "\n"
      ],
      "execution_count": 24,
      "outputs": [
        {
          "output_type": "display_data",
          "data": {
            "text/plain": [
              "  State TotalFines\n",
              "1 MN    13075544  \n",
              "2 WI    13046852  "
            ],
            "text/latex": "A tibble: 2 × 2\n\\begin{tabular}{ll}\n State & TotalFines\\\\\n <chr> & <dbl>\\\\\n\\hline\n\t MN & 13075544\\\\\n\t WI & 13046852\\\\\n\\end{tabular}\n",
            "text/markdown": "\nA tibble: 2 × 2\n\n| State &lt;chr&gt; | TotalFines &lt;dbl&gt; |\n|---|---|\n| MN | 13075544 |\n| WI | 13046852 |\n\n",
            "text/html": [
              "<table class=\"dataframe\">\n",
              "<caption>A tibble: 2 × 2</caption>\n",
              "<thead>\n",
              "\t<tr><th scope=col>State</th><th scope=col>TotalFines</th></tr>\n",
              "\t<tr><th scope=col>&lt;chr&gt;</th><th scope=col>&lt;dbl&gt;</th></tr>\n",
              "</thead>\n",
              "<tbody>\n",
              "\t<tr><td>MN</td><td>13075544</td></tr>\n",
              "\t<tr><td>WI</td><td>13046852</td></tr>\n",
              "</tbody>\n",
              "</table>\n"
            ]
          },
          "metadata": {}
        }
      ]
    },
    {
      "cell_type": "markdown",
      "metadata": {
        "id": "bbnSizHMpgfK"
      },
      "source": [
        "Consider the <strong>dollar()</strong> function in the <strong>scales</strong> package.  The dollar() function will improve formatting in this situation.  "
      ]
    },
    {
      "cell_type": "code",
      "metadata": {
        "id": "rnpyfisXplmf",
        "colab": {
          "base_uri": "https://localhost:8080/"
        },
        "outputId": "204ef050-6080-4485-de41-5cf603119010"
      },
      "source": [
        "library(scales)"
      ],
      "execution_count": 25,
      "outputs": [
        {
          "output_type": "stream",
          "name": "stderr",
          "text": [
            "\n",
            "Attaching package: ‘scales’\n",
            "\n",
            "\n",
            "The following object is masked from ‘package:purrr’:\n",
            "\n",
            "    discard\n",
            "\n",
            "\n",
            "The following object is masked from ‘package:readr’:\n",
            "\n",
            "    col_factor\n",
            "\n",
            "\n"
          ]
        }
      ]
    },
    {
      "cell_type": "markdown",
      "metadata": {
        "id": "Smi5WV4fpo3v"
      },
      "source": [
        "The dollar() function must take a numeric data type.  In this situation, to remove the data frame structure, use either <strong>unlist()</strong> or <strong>as.numeric</strong>.  Each is used here."
      ]
    },
    {
      "cell_type": "code",
      "metadata": {
        "colab": {
          "base_uri": "https://localhost:8080/"
        },
        "id": "sM8YlzxHpo-H",
        "outputId": "f4f89e64-2ad1-4c57-fbc4-c387d1b03c18"
      },
      "source": [
        "(\n",
        " NursingHomes\n",
        " %>% filter(State == \"MN\" | State == \"WI\")\n",
        " %>% group_by(State)\n",
        " %>% summarize(TotalFines = sum(TotalAmountFines))\n",
        " ) -> MNandWI_Fines\n",
        "\n",
        "message(\"The total amount of fines for nursing homes in MN is \", dollar(unlist(MNandWI_Fines[1,2])),\".\")\n",
        "message(\"The total amount of fines for nursing homes is WI is \", dollar(as.numeric(MNandWI_Fines[2,2])),\".\")\n",
        "\n"
      ],
      "execution_count": 26,
      "outputs": [
        {
          "output_type": "stream",
          "name": "stderr",
          "text": [
            "The total amount of fines for nursing homes in MN is $13,075,544.\n",
            "\n",
            "The total amount of fines for nursing homes is WI is $13,046,852.\n",
            "\n"
          ]
        }
      ]
    },
    {
      "cell_type": "markdown",
      "metadata": {
        "id": "_fHhZGodjJB5"
      },
      "source": [
        "Next, let us consider summaries based on OwnershipType.  OwnershipType is a field that is compound in nature, i.e. contains two different bits of information seperated by a dash.    To pull this informaton apart, the <strong>str_split()</strong> will be used inside the mutate() function.\n"
      ]
    },
    {
      "cell_type": "code",
      "metadata": {
        "colab": {
          "base_uri": "https://localhost:8080/",
          "height": 286
        },
        "id": "0sE-xEqaUCxN",
        "outputId": "1ba51bbb-6acf-4b7b-9ce0-e15c9a74499d"
      },
      "source": [
        "(\n",
        " NursingHomes\n",
        " %>% select(OwnershipType)\n",
        " %>% head()\n",
        ")"
      ],
      "execution_count": 27,
      "outputs": [
        {
          "output_type": "display_data",
          "data": {
            "text/plain": [
              "  OwnershipType           \n",
              "1 For profit - Corporation\n",
              "2 For profit - Corporation\n",
              "3 Government - County     \n",
              "4 For profit - Individual \n",
              "5 For profit - Individual \n",
              "6 For profit - Corporation"
            ],
            "text/latex": "A tibble: 6 × 1\n\\begin{tabular}{l}\n OwnershipType\\\\\n <chr>\\\\\n\\hline\n\t For profit - Corporation\\\\\n\t For profit - Corporation\\\\\n\t Government - County     \\\\\n\t For profit - Individual \\\\\n\t For profit - Individual \\\\\n\t For profit - Corporation\\\\\n\\end{tabular}\n",
            "text/markdown": "\nA tibble: 6 × 1\n\n| OwnershipType &lt;chr&gt; |\n|---|\n| For profit - Corporation |\n| For profit - Corporation |\n| Government - County      |\n| For profit - Individual  |\n| For profit - Individual  |\n| For profit - Corporation |\n\n",
            "text/html": [
              "<table class=\"dataframe\">\n",
              "<caption>A tibble: 6 × 1</caption>\n",
              "<thead>\n",
              "\t<tr><th scope=col>OwnershipType</th></tr>\n",
              "\t<tr><th scope=col>&lt;chr&gt;</th></tr>\n",
              "</thead>\n",
              "<tbody>\n",
              "\t<tr><td>For profit - Corporation</td></tr>\n",
              "\t<tr><td>For profit - Corporation</td></tr>\n",
              "\t<tr><td>Government - County     </td></tr>\n",
              "\t<tr><td>For profit - Individual </td></tr>\n",
              "\t<tr><td>For profit - Individual </td></tr>\n",
              "\t<tr><td>For profit - Corporation</td></tr>\n",
              "</tbody>\n",
              "</table>\n"
            ]
          },
          "metadata": {}
        }
      ]
    },
    {
      "cell_type": "markdown",
      "metadata": {
        "id": "ivXXeF0-URYC"
      },
      "source": [
        "The syntax for the <strong>str_split()</strong> function is provided here.\n",
        "\n",
        "<p align='center'>\n",
        "<font size='+2'>str_split(<i>field name</i>, <i>fixed( character )</i> , <i>n =   </i> )</font>\n",
        "</p>\n",
        "\n",
        "\n",
        "The output produced by the str_split() function is a list.  This list is contained <strong>within</strong> the dataframe. \n",
        "\n",
        "<p align='center'><img src=\"https://drive.google.com/uc?export=view&id=1ar07bxYXT2IbXD-Or-2gWyf6nTrDMT8S\" width='75%' height='75%'></p>"
      ]
    },
    {
      "cell_type": "code",
      "metadata": {
        "colab": {
          "base_uri": "https://localhost:8080/",
          "height": 653
        },
        "id": "tR-zv7PRtUB-",
        "outputId": "ca929eb1-84d2-47a5-ae34-787437a83b37"
      },
      "source": [
        "(\n",
        " NursingHomes\n",
        " %>% mutate(OwnershipType_Split = str_split(OwnershipType, fixed(\"-\"),n=2))\n",
        ") -> NursingHomes_OwnershipSplit\n",
        "\n",
        "head(NursingHomes_OwnershipSplit)"
      ],
      "execution_count": 28,
      "outputs": [
        {
          "output_type": "display_data",
          "data": {
            "text/plain": [
              "  FPN   ProviderName                               \n",
              "1 15009 BURNS NURSING HOME, INC.                   \n",
              "2 15010 COOSA VALLEY HEALTHCARE CENTER             \n",
              "3 15012 HIGHLANDS HEALTH AND REHAB                 \n",
              "4 15014 EASTVIEW REHABILITATION & HEALTHCARE CENTER\n",
              "5 15015 PLANTATION MANOR NURSING HOME              \n",
              "6 15016 ATHENS HEALTH AND REHABILITATION LLC       \n",
              "  ProviderAddress                                  State ProviderCounty     \n",
              "1 701 MONROE STREET NW, RUSSELLVILLE, AL, 35653    AL    FranklinCounty, AL \n",
              "2 260 WEST WALNUT STREET, SYLACAUGA, AL, 35150     AL    TalladegaCounty, AL\n",
              "3 380 WOODS COVE ROAD, SCOTTSBORO, AL, 35768       AL    JacksonCounty, AL  \n",
              "4 7755 FOURTH AVENUE SOUTH, BIRMINGHAM, AL, 35206  AL    JeffersonCounty, AL\n",
              "5 6450 OLD TUSCALOOSA HIGHWAY, MC CALLA, AL, 35111 AL    JeffersonCounty, AL\n",
              "6 611 WEST MARKET STREET, ATHENS, AL, 35611        AL    LimestoneCounty, AL\n",
              "  OwnershipType            NumberBeds AverageResidentsperDay ProviderinHospital\n",
              "1 For profit - Corporation  57         53.2                  N                 \n",
              "2 For profit - Corporation  85         79.8                  N                 \n",
              "3 Government - County       50         39.9                  Y                 \n",
              "4 For profit - Individual   92         69.4                  N                 \n",
              "5 For profit - Individual  103         72.4                  N                 \n",
              "6 For profit - Corporation 149        119.1                  N                 \n",
              "  BusinessName                         ⋯ RatingCycle1_HealthDeficiencyScore\n",
              "1 BURNS NURSING HOME, INC.             ⋯ 8                                 \n",
              "2 COOSA VALLEY HEALTHCARE CENTER LLC   ⋯ 4                                 \n",
              "3 JACKSON COUNTY HEALTH CARE AUTHORITY ⋯ 20                                \n",
              "4 BALL HEALTHCARE EASTVIEW INC         ⋯ 4                                 \n",
              "5 C & G HEALTHCARE SERVICES, INC.      ⋯ 20                                \n",
              "6 ATHENS HEALTH AND REHABILITATION LLC ⋯ 20                                \n",
              "  RatingCycle2_Date RatingCycle2_HealthDeficiencyScore RatingCycle3_Date\n",
              "1 8/1/2018          4                                  6/22/2017        \n",
              "2 6/7/2018          32                                 4/6/2017         \n",
              "3 5/3/2018          40                                 3/16/2017        \n",
              "4 1/24/2019         20                                 1/25/2018        \n",
              "5 5/2/2019          4                                  4/19/2018        \n",
              "6 7/19/2018         24                                 6/1/2017         \n",
              "  RatingCycle3_HealthDeficiencyScore NumberofFines TotalAmountFines Capacity \n",
              "1 0                                  1              650             0.9333333\n",
              "2 36                                 1              650             0.9388235\n",
              "3 44                                 0                0             0.7980000\n",
              "4 24                                 0                0             0.7543478\n",
              "5 28                                 3             8333             0.7029126\n",
              "6 24                                 0                0             0.7993289\n",
              "  AvgFine  OwnershipType_Split       \n",
              "1  650.000 For profit  ,  Corporation\n",
              "2  650.000 For profit  ,  Corporation\n",
              "3    0.000 Government ,  County      \n",
              "4    0.000 For profit ,  Individual  \n",
              "5 2777.667 For profit ,  Individual  \n",
              "6    0.000 For profit  ,  Corporation"
            ],
            "text/latex": "A tibble: 6 × 37\n\\begin{tabular}{lllllllllllllllllllll}\n FPN & ProviderName & ProviderAddress & State & ProviderCounty & OwnershipType & NumberBeds & AverageResidentsperDay & ProviderinHospital & BusinessName & ⋯ & RatingCycle1\\_HealthDeficiencyScore & RatingCycle2\\_Date & RatingCycle2\\_HealthDeficiencyScore & RatingCycle3\\_Date & RatingCycle3\\_HealthDeficiencyScore & NumberofFines & TotalAmountFines & Capacity & AvgFine & OwnershipType\\_Split\\\\\n <chr> & <chr> & <chr> & <chr> & <chr> & <chr> & <dbl> & <dbl> & <chr> & <chr> & ⋯ & <chr> & <chr> & <chr> & <chr> & <chr> & <dbl> & <dbl> & <dbl> & <dbl> & <list>\\\\\n\\hline\n\t 15009 & BURNS NURSING HOME, INC.                    & 701 MONROE STREET NW, RUSSELLVILLE, AL, 35653    & AL & FranklinCounty, AL  & For profit - Corporation &  57 &  53.2 & N & BURNS NURSING HOME, INC.             & ⋯ & 8  & 8/1/2018  & 4  & 6/22/2017 & 0  & 1 &  650 & 0.9333333 &  650.000 & For profit  ,  Corporation\\\\\n\t 15010 & COOSA VALLEY HEALTHCARE CENTER              & 260 WEST WALNUT STREET, SYLACAUGA, AL, 35150     & AL & TalladegaCounty, AL & For profit - Corporation &  85 &  79.8 & N & COOSA VALLEY HEALTHCARE CENTER LLC   & ⋯ & 4  & 6/7/2018  & 32 & 4/6/2017  & 36 & 1 &  650 & 0.9388235 &  650.000 & For profit  ,  Corporation\\\\\n\t 15012 & HIGHLANDS HEALTH AND REHAB                  & 380 WOODS COVE ROAD, SCOTTSBORO, AL, 35768       & AL & JacksonCounty, AL   & Government - County      &  50 &  39.9 & Y & JACKSON COUNTY HEALTH CARE AUTHORITY & ⋯ & 20 & 5/3/2018  & 40 & 3/16/2017 & 44 & 0 &    0 & 0.7980000 &    0.000 & Government ,  County    \\\\\n\t 15014 & EASTVIEW REHABILITATION \\& HEALTHCARE CENTER & 7755 FOURTH AVENUE SOUTH, BIRMINGHAM, AL, 35206  & AL & JeffersonCounty, AL & For profit - Individual  &  92 &  69.4 & N & BALL HEALTHCARE EASTVIEW INC         & ⋯ & 4  & 1/24/2019 & 20 & 1/25/2018 & 24 & 0 &    0 & 0.7543478 &    0.000 & For profit ,  Individual\\\\\n\t 15015 & PLANTATION MANOR NURSING HOME               & 6450 OLD TUSCALOOSA HIGHWAY, MC CALLA, AL, 35111 & AL & JeffersonCounty, AL & For profit - Individual  & 103 &  72.4 & N & C \\& G HEALTHCARE SERVICES, INC.      & ⋯ & 20 & 5/2/2019  & 4  & 4/19/2018 & 28 & 3 & 8333 & 0.7029126 & 2777.667 & For profit ,  Individual\\\\\n\t 15016 & ATHENS HEALTH AND REHABILITATION LLC        & 611 WEST MARKET STREET, ATHENS, AL, 35611        & AL & LimestoneCounty, AL & For profit - Corporation & 149 & 119.1 & N & ATHENS HEALTH AND REHABILITATION LLC & ⋯ & 20 & 7/19/2018 & 24 & 6/1/2017  & 24 & 0 &    0 & 0.7993289 &    0.000 & For profit  ,  Corporation\\\\\n\\end{tabular}\n",
            "text/markdown": "\nA tibble: 6 × 37\n\n| FPN &lt;chr&gt; | ProviderName &lt;chr&gt; | ProviderAddress &lt;chr&gt; | State &lt;chr&gt; | ProviderCounty &lt;chr&gt; | OwnershipType &lt;chr&gt; | NumberBeds &lt;dbl&gt; | AverageResidentsperDay &lt;dbl&gt; | ProviderinHospital &lt;chr&gt; | BusinessName &lt;chr&gt; | ⋯ ⋯ | RatingCycle1_HealthDeficiencyScore &lt;chr&gt; | RatingCycle2_Date &lt;chr&gt; | RatingCycle2_HealthDeficiencyScore &lt;chr&gt; | RatingCycle3_Date &lt;chr&gt; | RatingCycle3_HealthDeficiencyScore &lt;chr&gt; | NumberofFines &lt;dbl&gt; | TotalAmountFines &lt;dbl&gt; | Capacity &lt;dbl&gt; | AvgFine &lt;dbl&gt; | OwnershipType_Split &lt;list&gt; |\n|---|---|---|---|---|---|---|---|---|---|---|---|---|---|---|---|---|---|---|---|---|\n| 15009 | BURNS NURSING HOME, INC.                    | 701 MONROE STREET NW, RUSSELLVILLE, AL, 35653    | AL | FranklinCounty, AL  | For profit - Corporation |  57 |  53.2 | N | BURNS NURSING HOME, INC.             | ⋯ | 8  | 8/1/2018  | 4  | 6/22/2017 | 0  | 1 |  650 | 0.9333333 |  650.000 | For profit  ,  Corporation |\n| 15010 | COOSA VALLEY HEALTHCARE CENTER              | 260 WEST WALNUT STREET, SYLACAUGA, AL, 35150     | AL | TalladegaCounty, AL | For profit - Corporation |  85 |  79.8 | N | COOSA VALLEY HEALTHCARE CENTER LLC   | ⋯ | 4  | 6/7/2018  | 32 | 4/6/2017  | 36 | 1 |  650 | 0.9388235 |  650.000 | For profit  ,  Corporation |\n| 15012 | HIGHLANDS HEALTH AND REHAB                  | 380 WOODS COVE ROAD, SCOTTSBORO, AL, 35768       | AL | JacksonCounty, AL   | Government - County      |  50 |  39.9 | Y | JACKSON COUNTY HEALTH CARE AUTHORITY | ⋯ | 20 | 5/3/2018  | 40 | 3/16/2017 | 44 | 0 |    0 | 0.7980000 |    0.000 | Government ,  County     |\n| 15014 | EASTVIEW REHABILITATION &amp; HEALTHCARE CENTER | 7755 FOURTH AVENUE SOUTH, BIRMINGHAM, AL, 35206  | AL | JeffersonCounty, AL | For profit - Individual  |  92 |  69.4 | N | BALL HEALTHCARE EASTVIEW INC         | ⋯ | 4  | 1/24/2019 | 20 | 1/25/2018 | 24 | 0 |    0 | 0.7543478 |    0.000 | For profit ,  Individual |\n| 15015 | PLANTATION MANOR NURSING HOME               | 6450 OLD TUSCALOOSA HIGHWAY, MC CALLA, AL, 35111 | AL | JeffersonCounty, AL | For profit - Individual  | 103 |  72.4 | N | C &amp; G HEALTHCARE SERVICES, INC.      | ⋯ | 20 | 5/2/2019  | 4  | 4/19/2018 | 28 | 3 | 8333 | 0.7029126 | 2777.667 | For profit ,  Individual |\n| 15016 | ATHENS HEALTH AND REHABILITATION LLC        | 611 WEST MARKET STREET, ATHENS, AL, 35611        | AL | LimestoneCounty, AL | For profit - Corporation | 149 | 119.1 | N | ATHENS HEALTH AND REHABILITATION LLC | ⋯ | 20 | 7/19/2018 | 24 | 6/1/2017  | 24 | 0 |    0 | 0.7993289 |    0.000 | For profit  ,  Corporation |\n\n",
            "text/html": [
              "<table class=\"dataframe\">\n",
              "<caption>A tibble: 6 × 37</caption>\n",
              "<thead>\n",
              "\t<tr><th scope=col>FPN</th><th scope=col>ProviderName</th><th scope=col>ProviderAddress</th><th scope=col>State</th><th scope=col>ProviderCounty</th><th scope=col>OwnershipType</th><th scope=col>NumberBeds</th><th scope=col>AverageResidentsperDay</th><th scope=col>ProviderinHospital</th><th scope=col>BusinessName</th><th scope=col>⋯</th><th scope=col>RatingCycle1_HealthDeficiencyScore</th><th scope=col>RatingCycle2_Date</th><th scope=col>RatingCycle2_HealthDeficiencyScore</th><th scope=col>RatingCycle3_Date</th><th scope=col>RatingCycle3_HealthDeficiencyScore</th><th scope=col>NumberofFines</th><th scope=col>TotalAmountFines</th><th scope=col>Capacity</th><th scope=col>AvgFine</th><th scope=col>OwnershipType_Split</th></tr>\n",
              "\t<tr><th scope=col>&lt;chr&gt;</th><th scope=col>&lt;chr&gt;</th><th scope=col>&lt;chr&gt;</th><th scope=col>&lt;chr&gt;</th><th scope=col>&lt;chr&gt;</th><th scope=col>&lt;chr&gt;</th><th scope=col>&lt;dbl&gt;</th><th scope=col>&lt;dbl&gt;</th><th scope=col>&lt;chr&gt;</th><th scope=col>&lt;chr&gt;</th><th scope=col>⋯</th><th scope=col>&lt;chr&gt;</th><th scope=col>&lt;chr&gt;</th><th scope=col>&lt;chr&gt;</th><th scope=col>&lt;chr&gt;</th><th scope=col>&lt;chr&gt;</th><th scope=col>&lt;dbl&gt;</th><th scope=col>&lt;dbl&gt;</th><th scope=col>&lt;dbl&gt;</th><th scope=col>&lt;dbl&gt;</th><th scope=col>&lt;list&gt;</th></tr>\n",
              "</thead>\n",
              "<tbody>\n",
              "\t<tr><td>15009</td><td>BURNS NURSING HOME, INC.                   </td><td>701 MONROE STREET NW, RUSSELLVILLE, AL, 35653   </td><td>AL</td><td>FranklinCounty, AL </td><td>For profit - Corporation</td><td> 57</td><td> 53.2</td><td>N</td><td>BURNS NURSING HOME, INC.            </td><td>⋯</td><td>8 </td><td>8/1/2018 </td><td>4 </td><td>6/22/2017</td><td>0 </td><td>1</td><td> 650</td><td>0.9333333</td><td> 650.000</td><td>For profit  ,  Corporation</td></tr>\n",
              "\t<tr><td>15010</td><td>COOSA VALLEY HEALTHCARE CENTER             </td><td>260 WEST WALNUT STREET, SYLACAUGA, AL, 35150    </td><td>AL</td><td>TalladegaCounty, AL</td><td>For profit - Corporation</td><td> 85</td><td> 79.8</td><td>N</td><td>COOSA VALLEY HEALTHCARE CENTER LLC  </td><td>⋯</td><td>4 </td><td>6/7/2018 </td><td>32</td><td>4/6/2017 </td><td>36</td><td>1</td><td> 650</td><td>0.9388235</td><td> 650.000</td><td>For profit  ,  Corporation</td></tr>\n",
              "\t<tr><td>15012</td><td>HIGHLANDS HEALTH AND REHAB                 </td><td>380 WOODS COVE ROAD, SCOTTSBORO, AL, 35768      </td><td>AL</td><td>JacksonCounty, AL  </td><td>Government - County     </td><td> 50</td><td> 39.9</td><td>Y</td><td>JACKSON COUNTY HEALTH CARE AUTHORITY</td><td>⋯</td><td>20</td><td>5/3/2018 </td><td>40</td><td>3/16/2017</td><td>44</td><td>0</td><td>   0</td><td>0.7980000</td><td>   0.000</td><td>Government ,  County    </td></tr>\n",
              "\t<tr><td>15014</td><td>EASTVIEW REHABILITATION &amp; HEALTHCARE CENTER</td><td>7755 FOURTH AVENUE SOUTH, BIRMINGHAM, AL, 35206 </td><td>AL</td><td>JeffersonCounty, AL</td><td>For profit - Individual </td><td> 92</td><td> 69.4</td><td>N</td><td><span style=white-space:pre-wrap>BALL HEALTHCARE EASTVIEW INC        </span></td><td>⋯</td><td>4 </td><td>1/24/2019</td><td>20</td><td>1/25/2018</td><td>24</td><td>0</td><td><span style=white-space:pre-wrap>   0</span></td><td>0.7543478</td><td><span style=white-space:pre-wrap>   0.000</span></td><td><span style=white-space:pre-wrap>For profit ,  Individual</span></td></tr>\n",
              "\t<tr><td>15015</td><td><span style=white-space:pre-wrap>PLANTATION MANOR NURSING HOME              </span></td><td>6450 OLD TUSCALOOSA HIGHWAY, MC CALLA, AL, 35111</td><td>AL</td><td>JeffersonCounty, AL</td><td>For profit - Individual </td><td>103</td><td> 72.4</td><td>N</td><td><span style=white-space:pre-wrap>C &amp; G HEALTHCARE SERVICES, INC.     </span></td><td>⋯</td><td>20</td><td>5/2/2019 </td><td>4 </td><td>4/19/2018</td><td>28</td><td>3</td><td>8333</td><td>0.7029126</td><td>2777.667</td><td><span style=white-space:pre-wrap>For profit ,  Individual</span></td></tr>\n",
              "\t<tr><td>15016</td><td>ATHENS HEALTH AND REHABILITATION LLC       </td><td>611 WEST MARKET STREET, ATHENS, AL, 35611       </td><td>AL</td><td>LimestoneCounty, AL</td><td>For profit - Corporation</td><td>149</td><td>119.1</td><td>N</td><td>ATHENS HEALTH AND REHABILITATION LLC</td><td>⋯</td><td>20</td><td>7/19/2018</td><td>24</td><td>6/1/2017 </td><td>24</td><td>0</td><td>   0</td><td>0.7993289</td><td>   0.000</td><td>For profit  ,  Corporation</td></tr>\n",
              "</tbody>\n",
              "</table>\n"
            ]
          },
          "metadata": {}
        }
      ]
    },
    {
      "cell_type": "markdown",
      "metadata": {
        "id": "8px8ONOPPVKu"
      },
      "source": [
        "The following code will split the list created by str_split() into separate fields in the dataframe."
      ]
    },
    {
      "cell_type": "markdown",
      "metadata": {
        "id": "sCoxrOaOQY5i"
      },
      "source": [
        "<p align='center'><img src=\"https://drive.google.com/uc?export=view&id=1OHRxCGKU0AByLB-uum9iq6jgy4bbHP9p\" width='75%' height='75%'></p>"
      ]
    },
    {
      "cell_type": "code",
      "metadata": {
        "id": "5TS0QsJEQZBG"
      },
      "source": [
        "(\n",
        " NursingHomes\n",
        " %>% mutate(OwnershipType_Split = str_split(OwnershipType, fixed(\"-\"),n=2))\n",
        " %>% mutate(ProfitType = map_chr(OwnershipType_Split, 1), CorporationType = map_chr(OwnershipType_Split,2))\n",
        " ) -> NursingHomes_OwnershipSplit\n"
      ],
      "execution_count": 29,
      "outputs": []
    },
    {
      "cell_type": "markdown",
      "metadata": {
        "id": "3YdHJhTETS38"
      },
      "source": [
        "Next, identify the levels for ProfitType field."
      ]
    },
    {
      "cell_type": "code",
      "metadata": {
        "colab": {
          "base_uri": "https://localhost:8080/",
          "height": 192
        },
        "id": "XyV3uB2FTTBr",
        "outputId": "58dcf10a-ad2d-4c48-ebdc-c49d85f77ca0"
      },
      "source": [
        "(\n",
        " NursingHomes_OwnershipSplit\n",
        " %>% filter(State == \"MN\")\n",
        " %>% group_by(ProfitType)\n",
        " %>% summarize(TotalFines = sum(TotalAmountFines), Count = n())\n",
        " %>% mutate('Average Fine Amount' = dollar(TotalFines/Count))\n",
        ") "
      ],
      "execution_count": 30,
      "outputs": [
        {
          "output_type": "display_data",
          "data": {
            "text/plain": [
              "  ProfitType  TotalFines Count Average Fine Amount\n",
              "1 For profit  7096686.8  114   $62,251.64         \n",
              "2 Government   669573.4   31   $21,599.14         \n",
              "3 Non profit  5309283.6  216   $24,580.02         "
            ],
            "text/latex": "A tibble: 3 × 4\n\\begin{tabular}{llll}\n ProfitType & TotalFines & Count & Average Fine Amount\\\\\n <chr> & <dbl> & <int> & <chr>\\\\\n\\hline\n\t For profit  & 7096686.8 & 114 & \\$62,251.64\\\\\n\t Government  &  669573.4 &  31 & \\$21,599.14\\\\\n\t Non profit  & 5309283.6 & 216 & \\$24,580.02\\\\\n\\end{tabular}\n",
            "text/markdown": "\nA tibble: 3 × 4\n\n| ProfitType &lt;chr&gt; | TotalFines &lt;dbl&gt; | Count &lt;int&gt; | Average Fine Amount &lt;chr&gt; |\n|---|---|---|---|\n| For profit  | 7096686.8 | 114 | $62,251.64 |\n| Government  |  669573.4 |  31 | $21,599.14 |\n| Non profit  | 5309283.6 | 216 | $24,580.02 |\n\n",
            "text/html": [
              "<table class=\"dataframe\">\n",
              "<caption>A tibble: 3 × 4</caption>\n",
              "<thead>\n",
              "\t<tr><th scope=col>ProfitType</th><th scope=col>TotalFines</th><th scope=col>Count</th><th scope=col>Average Fine Amount</th></tr>\n",
              "\t<tr><th scope=col>&lt;chr&gt;</th><th scope=col>&lt;dbl&gt;</th><th scope=col>&lt;int&gt;</th><th scope=col>&lt;chr&gt;</th></tr>\n",
              "</thead>\n",
              "<tbody>\n",
              "\t<tr><td>For profit </td><td>7096686.8</td><td>114</td><td>$62,251.64</td></tr>\n",
              "\t<tr><td>Government </td><td> 669573.4</td><td> 31</td><td>$21,599.14</td></tr>\n",
              "\t<tr><td>Non profit </td><td>5309283.6</td><td>216</td><td>$24,580.02</td></tr>\n",
              "</tbody>\n",
              "</table>\n"
            ]
          },
          "metadata": {}
        }
      ]
    },
    {
      "cell_type": "markdown",
      "metadata": {
        "id": "9qYm2b0jTSUk"
      },
      "source": [
        "\n",
        "\n",
        "---\n",
        "\n",
        "---\n",
        "\n",
        "\n",
        "\n",
        "\n",
        "\n"
      ]
    },
    {
      "cell_type": "markdown",
      "metadata": {
        "id": "oBBv1ZqHTUJ8"
      },
      "source": [
        "Consider the <strong>case_when()</strong> function.  This is an extension to the <strong>ifelse()</strong> statement that allows for more than a single condition to be checked. It is true that ifelse() statements can be nested to allow for the checking of multiple conditions, but most encourage the use of the case_when() function in this situation.\n",
        "\n",
        "\n",
        "<table>\n",
        "<tr>\n",
        "<td align=\"center\">ProfitType</td>\n",
        "<td align=\"center\">For Profit</td>\n",
        "</tr>\n",
        "<tr>\n",
        " <td align=\"center\" bgcolor=\"black\"><font size=\"+1\" color=\"white\">For profit</font></td>\n",
        " <td align=\"center\"bgcolor=\"black\"><font size=\"+1\" color=\"white\">Yes</font></td>\n",
        "</tr>\n",
        "<tr>\n",
        " <td align=\"center\" bgcolor=\"lightgray\"><font size=\"+1\">Government</font></td>\n",
        " <td align=\"center\" rowspan=\"2\" bgcolor=\"lightgray\"><font size=\"+1\">No</font></td>\n",
        "</tr>\n",
        "<tr>\n",
        " <td align=\"center\" bgcolor=\"lightgray\"><font size=\"+1\">Non profit</font></td>\n",
        "</td>\n",
        "</table>\n",
        "\n"
      ]
    },
    {
      "cell_type": "code",
      "metadata": {
        "colab": {
          "base_uri": "https://localhost:8080/",
          "height": 286
        },
        "id": "xPq0Q2fiTZBc",
        "outputId": "2d0013d7-71bb-4c7c-b143-7390f2946e21"
      },
      "source": [
        "(\n",
        " NursingHomes_OwnershipSplit\n",
        "  %>% mutate(ForProfit = \n",
        "                          case_when(\n",
        "                                    ProfitType == \"For profit\" ~ \"Yes\",\n",
        "                                    ProfitType == \"Government\" ~ \"No\",\n",
        "                                    ProfitType == \"Non profit\" ~ \"No\"\n",
        "                          )\n",
        "            )\n",
        "   %>% select(OwnershipType_Split, ProfitType, CorporationType, ForProfit)\n",
        " ) -> temp\n",
        "\n",
        "head(temp)"
      ],
      "execution_count": 31,
      "outputs": [
        {
          "output_type": "display_data",
          "data": {
            "text/plain": [
              "  OwnershipType_Split        ProfitType  CorporationType ForProfit\n",
              "1 For profit  ,  Corporation For profit   Corporation    NA       \n",
              "2 For profit  ,  Corporation For profit   Corporation    NA       \n",
              "3 Government ,  County       Government   County         NA       \n",
              "4 For profit ,  Individual   For profit   Individual     NA       \n",
              "5 For profit ,  Individual   For profit   Individual     NA       \n",
              "6 For profit  ,  Corporation For profit   Corporation    NA       "
            ],
            "text/latex": "A tibble: 6 × 4\n\\begin{tabular}{llll}\n OwnershipType\\_Split & ProfitType & CorporationType & ForProfit\\\\\n <list> & <chr> & <chr> & <chr>\\\\\n\\hline\n\t For profit  ,  Corporation & For profit  &  Corporation & NA\\\\\n\t For profit  ,  Corporation & For profit  &  Corporation & NA\\\\\n\t Government ,  County     & Government  &  County      & NA\\\\\n\t For profit ,  Individual & For profit  &  Individual  & NA\\\\\n\t For profit ,  Individual & For profit  &  Individual  & NA\\\\\n\t For profit  ,  Corporation & For profit  &  Corporation & NA\\\\\n\\end{tabular}\n",
            "text/markdown": "\nA tibble: 6 × 4\n\n| OwnershipType_Split &lt;list&gt; | ProfitType &lt;chr&gt; | CorporationType &lt;chr&gt; | ForProfit &lt;chr&gt; |\n|---|---|---|---|\n| For profit  ,  Corporation | For profit  |  Corporation | NA |\n| For profit  ,  Corporation | For profit  |  Corporation | NA |\n| Government ,  County     | Government  |  County      | NA |\n| For profit ,  Individual | For profit  |  Individual  | NA |\n| For profit ,  Individual | For profit  |  Individual  | NA |\n| For profit  ,  Corporation | For profit  |  Corporation | NA |\n\n",
            "text/html": [
              "<table class=\"dataframe\">\n",
              "<caption>A tibble: 6 × 4</caption>\n",
              "<thead>\n",
              "\t<tr><th scope=col>OwnershipType_Split</th><th scope=col>ProfitType</th><th scope=col>CorporationType</th><th scope=col>ForProfit</th></tr>\n",
              "\t<tr><th scope=col>&lt;list&gt;</th><th scope=col>&lt;chr&gt;</th><th scope=col>&lt;chr&gt;</th><th scope=col>&lt;chr&gt;</th></tr>\n",
              "</thead>\n",
              "<tbody>\n",
              "\t<tr><td>For profit  ,  Corporation</td><td>For profit </td><td> Corporation</td><td>NA</td></tr>\n",
              "\t<tr><td>For profit  ,  Corporation</td><td>For profit </td><td> Corporation</td><td>NA</td></tr>\n",
              "\t<tr><td>Government ,  County    </td><td>Government </td><td> County     </td><td>NA</td></tr>\n",
              "\t<tr><td>For profit ,  Individual</td><td>For profit </td><td> Individual </td><td>NA</td></tr>\n",
              "\t<tr><td>For profit ,  Individual</td><td>For profit </td><td> Individual </td><td>NA</td></tr>\n",
              "\t<tr><td>For profit  ,  Corporation</td><td>For profit </td><td> Corporation</td><td>NA</td></tr>\n",
              "</tbody>\n",
              "</table>\n"
            ]
          },
          "metadata": {}
        }
      ]
    },
    {
      "cell_type": "markdown",
      "metadata": {
        "id": "_w58PXW4X1Ip"
      },
      "source": [
        "Unfornately, this does not work as the ForProfit column contains all NA values.\n",
        "\n",
        "<strong>Question</strong>: Why is this happening?<br>\n",
        "<strong>Answer</strong>: Most likely the issue is with the condition being checked.\n"
      ]
    },
    {
      "cell_type": "markdown",
      "metadata": {
        "id": "DtoMeHLJSAQ1"
      },
      "source": [
        "Let us consider the pantom spaces that are often present in strings!  Consider the following code that computes the length of each part of the string split above.  \n",
        "\n",
        "Notice that the string \"For profit\" has 10 characters, but the the string length function says there are 11 character present.  Thus, an additional character exists within the \"For profit\" string -- likely the actual string is \"For profit_\".  Regarding CorporationType, the actual string is likely \"_Corporation\" as this is the right side of the string split done above."
      ]
    },
    {
      "cell_type": "code",
      "metadata": {
        "colab": {
          "base_uri": "https://localhost:8080/",
          "height": 286
        },
        "id": "v4i4ZH1CSAZW",
        "outputId": "bd91f1a9-8d92-4834-d8c6-48ee0852a3e0"
      },
      "source": [
        "(\n",
        " NursingHomes_OwnershipSplit\n",
        " %>% select(OwnershipType_Split, ProfitType, CorporationType)\n",
        " %>% mutate(ProfitTypeLen = str_length(ProfitType), CorporationTypeLen = str_length(CorporationType))\n",
        " ) -> temp\n",
        "\n",
        "head(temp)\n"
      ],
      "execution_count": 32,
      "outputs": [
        {
          "output_type": "display_data",
          "data": {
            "text/plain": [
              "  OwnershipType_Split        ProfitType  CorporationType ProfitTypeLen\n",
              "1 For profit  ,  Corporation For profit   Corporation    11           \n",
              "2 For profit  ,  Corporation For profit   Corporation    11           \n",
              "3 Government ,  County       Government   County         11           \n",
              "4 For profit ,  Individual   For profit   Individual     11           \n",
              "5 For profit ,  Individual   For profit   Individual     11           \n",
              "6 For profit  ,  Corporation For profit   Corporation    11           \n",
              "  CorporationTypeLen\n",
              "1 12                \n",
              "2 12                \n",
              "3  7                \n",
              "4 11                \n",
              "5 11                \n",
              "6 12                "
            ],
            "text/latex": "A tibble: 6 × 5\n\\begin{tabular}{lllll}\n OwnershipType\\_Split & ProfitType & CorporationType & ProfitTypeLen & CorporationTypeLen\\\\\n <list> & <chr> & <chr> & <int> & <int>\\\\\n\\hline\n\t For profit  ,  Corporation & For profit  &  Corporation & 11 & 12\\\\\n\t For profit  ,  Corporation & For profit  &  Corporation & 11 & 12\\\\\n\t Government ,  County     & Government  &  County      & 11 &  7\\\\\n\t For profit ,  Individual & For profit  &  Individual  & 11 & 11\\\\\n\t For profit ,  Individual & For profit  &  Individual  & 11 & 11\\\\\n\t For profit  ,  Corporation & For profit  &  Corporation & 11 & 12\\\\\n\\end{tabular}\n",
            "text/markdown": "\nA tibble: 6 × 5\n\n| OwnershipType_Split &lt;list&gt; | ProfitType &lt;chr&gt; | CorporationType &lt;chr&gt; | ProfitTypeLen &lt;int&gt; | CorporationTypeLen &lt;int&gt; |\n|---|---|---|---|---|\n| For profit  ,  Corporation | For profit  |  Corporation | 11 | 12 |\n| For profit  ,  Corporation | For profit  |  Corporation | 11 | 12 |\n| Government ,  County     | Government  |  County      | 11 |  7 |\n| For profit ,  Individual | For profit  |  Individual  | 11 | 11 |\n| For profit ,  Individual | For profit  |  Individual  | 11 | 11 |\n| For profit  ,  Corporation | For profit  |  Corporation | 11 | 12 |\n\n",
            "text/html": [
              "<table class=\"dataframe\">\n",
              "<caption>A tibble: 6 × 5</caption>\n",
              "<thead>\n",
              "\t<tr><th scope=col>OwnershipType_Split</th><th scope=col>ProfitType</th><th scope=col>CorporationType</th><th scope=col>ProfitTypeLen</th><th scope=col>CorporationTypeLen</th></tr>\n",
              "\t<tr><th scope=col>&lt;list&gt;</th><th scope=col>&lt;chr&gt;</th><th scope=col>&lt;chr&gt;</th><th scope=col>&lt;int&gt;</th><th scope=col>&lt;int&gt;</th></tr>\n",
              "</thead>\n",
              "<tbody>\n",
              "\t<tr><td>For profit  ,  Corporation</td><td>For profit </td><td> Corporation</td><td>11</td><td>12</td></tr>\n",
              "\t<tr><td>For profit  ,  Corporation</td><td>For profit </td><td> Corporation</td><td>11</td><td>12</td></tr>\n",
              "\t<tr><td>Government ,  County    </td><td>Government </td><td> County     </td><td>11</td><td> 7</td></tr>\n",
              "\t<tr><td>For profit ,  Individual</td><td>For profit </td><td> Individual </td><td>11</td><td>11</td></tr>\n",
              "\t<tr><td>For profit ,  Individual</td><td>For profit </td><td> Individual </td><td>11</td><td>11</td></tr>\n",
              "\t<tr><td>For profit  ,  Corporation</td><td>For profit </td><td> Corporation</td><td>11</td><td>12</td></tr>\n",
              "</tbody>\n",
              "</table>\n"
            ]
          },
          "metadata": {}
        }
      ]
    },
    {
      "cell_type": "markdown",
      "metadata": {
        "id": "UsIQCDpTUMgz"
      },
      "source": [
        "The <strong>str_trim()</strong> function, called trim() in most languages, can be used to remove all empty spaces at the beginning and end of a string.  The trim() function typically does not remove spaces in the middle of a string.\n",
        "\n",
        "A alternative would be to use the str_replace() function.  The str_replace() could be used to replace all spaces with nothing; however, str_replace() would remove <strong>all</strong> spaces -- including the space between \"For\" and \"profit\" in the string \"For profit\", e.g. \"For profit\" would become \"Forprofit\" with str_replace()."
      ]
    },
    {
      "cell_type": "code",
      "metadata": {
        "colab": {
          "base_uri": "https://localhost:8080/",
          "height": 958
        },
        "id": "ls3PNGHeUMpy",
        "outputId": "ee49cc6d-78a2-4cbd-a773-80495120a3ed"
      },
      "source": [
        "(\n",
        " NursingHomes_OwnershipSplit\n",
        "  %>% mutate(ForProfit = \n",
        "                          case_when(\n",
        "                                    str_trim(ProfitType) == \"For profit\" ~ \"Yes\",\n",
        "                                    str_trim(ProfitType) == \"Government\" ~ \"No\",\n",
        "                                    str_trim(ProfitType) == \"Non profit\" ~ \"No\"\n",
        "                          )\n",
        "  \n",
        "            )\n",
        "   %>% select(OwnershipType_Split, ProfitType, CorporationType, ForProfit, State)\n",
        " ) -> temp\n",
        "\n",
        "head(temp, 20)\n",
        "\n",
        "#The ForProfit variable can now be used, e.g. count the number of For Profit and Non Profits in MN\n",
        "cat(\"\\n\")\n",
        "cat(\"\\n\")\n",
        "cat(\"\\n\")\n",
        "cat(\"Number of For Profit and and Non Profit Nursing Homes in MN.\\n\")\n",
        "cat(\"\\n\")\n",
        "(\n",
        " temp\n",
        " %>% filter(State == \"MN\")\n",
        " %>% group_by(ForProfit)\n",
        " %>% summarize(Count=n())\n",
        ")"
      ],
      "execution_count": 34,
      "outputs": [
        {
          "output_type": "display_data",
          "data": {
            "text/plain": [
              "   OwnershipType_Split                                    ProfitType \n",
              "1  For profit  ,  Corporation                             For profit \n",
              "2  For profit  ,  Corporation                             For profit \n",
              "3  Government ,  County                                   Government \n",
              "4  For profit ,  Individual                               For profit \n",
              "5  For profit ,  Individual                               For profit \n",
              "6  For profit  ,  Corporation                             For profit \n",
              "7  For profit  ,  Corporation                             For profit \n",
              "8  For profit  ,  Corporation                             For profit \n",
              "9  For profit  ,  Corporation                             For profit \n",
              "10 For profit  ,  Corporation                             For profit \n",
              "11 For profit  ,  Corporation                             For profit \n",
              "12 For profit  ,  Corporation                             For profit \n",
              "13 For profit  ,  Corporation                             For profit \n",
              "14 For profit  ,  Corporation                             For profit \n",
              "15 For profit                ,  Limited Liability company For profit \n",
              "16 For profit ,  Individual                               For profit \n",
              "17 For profit  ,  Corporation                             For profit \n",
              "18 For profit  ,  Corporation                             For profit \n",
              "19 For profit  ,  Corporation                             For profit \n",
              "20 Non profit  ,  Corporation                             Non profit \n",
              "   CorporationType            ForProfit State\n",
              "1   Corporation               Yes       AL   \n",
              "2   Corporation               Yes       AL   \n",
              "3   County                    No        AL   \n",
              "4   Individual                Yes       AL   \n",
              "5   Individual                Yes       AL   \n",
              "6   Corporation               Yes       AL   \n",
              "7   Corporation               Yes       AL   \n",
              "8   Corporation               Yes       AL   \n",
              "9   Corporation               Yes       AL   \n",
              "10  Corporation               Yes       AL   \n",
              "11  Corporation               Yes       AL   \n",
              "12  Corporation               Yes       AL   \n",
              "13  Corporation               Yes       AL   \n",
              "14  Corporation               Yes       AL   \n",
              "15  Limited Liability company Yes       AL   \n",
              "16  Individual                Yes       AL   \n",
              "17  Corporation               Yes       AL   \n",
              "18  Corporation               Yes       AL   \n",
              "19  Corporation               Yes       AL   \n",
              "20  Corporation               No        AL   "
            ],
            "text/latex": "A tibble: 20 × 5\n\\begin{tabular}{lllll}\n OwnershipType\\_Split & ProfitType & CorporationType & ForProfit & State\\\\\n <list> & <chr> & <chr> & <chr> & <chr>\\\\\n\\hline\n\t For profit  ,  Corporation & For profit  &  Corporation               & Yes & AL\\\\\n\t For profit  ,  Corporation & For profit  &  Corporation               & Yes & AL\\\\\n\t Government ,  County     & Government  &  County                    & No  & AL\\\\\n\t For profit ,  Individual & For profit  &  Individual                & Yes & AL\\\\\n\t For profit ,  Individual & For profit  &  Individual                & Yes & AL\\\\\n\t For profit  ,  Corporation & For profit  &  Corporation               & Yes & AL\\\\\n\t For profit  ,  Corporation & For profit  &  Corporation               & Yes & AL\\\\\n\t For profit  ,  Corporation & For profit  &  Corporation               & Yes & AL\\\\\n\t For profit  ,  Corporation & For profit  &  Corporation               & Yes & AL\\\\\n\t For profit  ,  Corporation & For profit  &  Corporation               & Yes & AL\\\\\n\t For profit  ,  Corporation & For profit  &  Corporation               & Yes & AL\\\\\n\t For profit  ,  Corporation & For profit  &  Corporation               & Yes & AL\\\\\n\t For profit  ,  Corporation & For profit  &  Corporation               & Yes & AL\\\\\n\t For profit  ,  Corporation & For profit  &  Corporation               & Yes & AL\\\\\n\t For profit                ,  Limited Liability company & For profit  &  Limited Liability company & Yes & AL\\\\\n\t For profit ,  Individual & For profit  &  Individual                & Yes & AL\\\\\n\t For profit  ,  Corporation & For profit  &  Corporation               & Yes & AL\\\\\n\t For profit  ,  Corporation & For profit  &  Corporation               & Yes & AL\\\\\n\t For profit  ,  Corporation & For profit  &  Corporation               & Yes & AL\\\\\n\t Non profit  ,  Corporation & Non profit  &  Corporation               & No  & AL\\\\\n\\end{tabular}\n",
            "text/markdown": "\nA tibble: 20 × 5\n\n| OwnershipType_Split &lt;list&gt; | ProfitType &lt;chr&gt; | CorporationType &lt;chr&gt; | ForProfit &lt;chr&gt; | State &lt;chr&gt; |\n|---|---|---|---|---|\n| For profit  ,  Corporation | For profit  |  Corporation               | Yes | AL |\n| For profit  ,  Corporation | For profit  |  Corporation               | Yes | AL |\n| Government ,  County     | Government  |  County                    | No  | AL |\n| For profit ,  Individual | For profit  |  Individual                | Yes | AL |\n| For profit ,  Individual | For profit  |  Individual                | Yes | AL |\n| For profit  ,  Corporation | For profit  |  Corporation               | Yes | AL |\n| For profit  ,  Corporation | For profit  |  Corporation               | Yes | AL |\n| For profit  ,  Corporation | For profit  |  Corporation               | Yes | AL |\n| For profit  ,  Corporation | For profit  |  Corporation               | Yes | AL |\n| For profit  ,  Corporation | For profit  |  Corporation               | Yes | AL |\n| For profit  ,  Corporation | For profit  |  Corporation               | Yes | AL |\n| For profit  ,  Corporation | For profit  |  Corporation               | Yes | AL |\n| For profit  ,  Corporation | For profit  |  Corporation               | Yes | AL |\n| For profit  ,  Corporation | For profit  |  Corporation               | Yes | AL |\n| For profit                ,  Limited Liability company | For profit  |  Limited Liability company | Yes | AL |\n| For profit ,  Individual | For profit  |  Individual                | Yes | AL |\n| For profit  ,  Corporation | For profit  |  Corporation               | Yes | AL |\n| For profit  ,  Corporation | For profit  |  Corporation               | Yes | AL |\n| For profit  ,  Corporation | For profit  |  Corporation               | Yes | AL |\n| Non profit  ,  Corporation | Non profit  |  Corporation               | No  | AL |\n\n",
            "text/html": [
              "<table class=\"dataframe\">\n",
              "<caption>A tibble: 20 × 5</caption>\n",
              "<thead>\n",
              "\t<tr><th scope=col>OwnershipType_Split</th><th scope=col>ProfitType</th><th scope=col>CorporationType</th><th scope=col>ForProfit</th><th scope=col>State</th></tr>\n",
              "\t<tr><th scope=col>&lt;list&gt;</th><th scope=col>&lt;chr&gt;</th><th scope=col>&lt;chr&gt;</th><th scope=col>&lt;chr&gt;</th><th scope=col>&lt;chr&gt;</th></tr>\n",
              "</thead>\n",
              "<tbody>\n",
              "\t<tr><td>For profit  ,  Corporation</td><td>For profit </td><td> Corporation              </td><td>Yes</td><td>AL</td></tr>\n",
              "\t<tr><td>For profit  ,  Corporation</td><td>For profit </td><td> Corporation              </td><td>Yes</td><td>AL</td></tr>\n",
              "\t<tr><td>Government ,  County    </td><td>Government </td><td> County                   </td><td>No </td><td>AL</td></tr>\n",
              "\t<tr><td>For profit ,  Individual</td><td>For profit </td><td> Individual               </td><td>Yes</td><td>AL</td></tr>\n",
              "\t<tr><td>For profit ,  Individual</td><td>For profit </td><td> Individual               </td><td>Yes</td><td>AL</td></tr>\n",
              "\t<tr><td>For profit  ,  Corporation</td><td>For profit </td><td> Corporation              </td><td>Yes</td><td>AL</td></tr>\n",
              "\t<tr><td>For profit  ,  Corporation</td><td>For profit </td><td> Corporation              </td><td>Yes</td><td>AL</td></tr>\n",
              "\t<tr><td>For profit  ,  Corporation</td><td>For profit </td><td> Corporation              </td><td>Yes</td><td>AL</td></tr>\n",
              "\t<tr><td>For profit  ,  Corporation</td><td>For profit </td><td> Corporation              </td><td>Yes</td><td>AL</td></tr>\n",
              "\t<tr><td>For profit  ,  Corporation</td><td>For profit </td><td> Corporation              </td><td>Yes</td><td>AL</td></tr>\n",
              "\t<tr><td>For profit  ,  Corporation</td><td>For profit </td><td> Corporation              </td><td>Yes</td><td>AL</td></tr>\n",
              "\t<tr><td>For profit  ,  Corporation</td><td>For profit </td><td> Corporation              </td><td>Yes</td><td>AL</td></tr>\n",
              "\t<tr><td>For profit  ,  Corporation</td><td>For profit </td><td> Corporation              </td><td>Yes</td><td>AL</td></tr>\n",
              "\t<tr><td>For profit  ,  Corporation</td><td>For profit </td><td> Corporation              </td><td>Yes</td><td>AL</td></tr>\n",
              "\t<tr><td>For profit                ,  Limited Liability company</td><td>For profit </td><td> Limited Liability company</td><td>Yes</td><td>AL</td></tr>\n",
              "\t<tr><td>For profit ,  Individual</td><td>For profit </td><td> Individual               </td><td>Yes</td><td>AL</td></tr>\n",
              "\t<tr><td>For profit  ,  Corporation</td><td>For profit </td><td> Corporation              </td><td>Yes</td><td>AL</td></tr>\n",
              "\t<tr><td>For profit  ,  Corporation</td><td>For profit </td><td> Corporation              </td><td>Yes</td><td>AL</td></tr>\n",
              "\t<tr><td>For profit  ,  Corporation</td><td>For profit </td><td> Corporation              </td><td>Yes</td><td>AL</td></tr>\n",
              "\t<tr><td>Non profit  ,  Corporation</td><td>Non profit </td><td> Corporation              </td><td>No </td><td>AL</td></tr>\n",
              "</tbody>\n",
              "</table>\n"
            ]
          },
          "metadata": {}
        },
        {
          "output_type": "stream",
          "name": "stdout",
          "text": [
            "\n",
            "\n",
            "\n",
            "Number of For Profit and and Non Profit Nursing Homes in MN.\n",
            "\n"
          ]
        },
        {
          "output_type": "display_data",
          "data": {
            "text/plain": [
              "  ForProfit Count\n",
              "1 No        247  \n",
              "2 Yes       114  "
            ],
            "text/latex": "A tibble: 2 × 2\n\\begin{tabular}{ll}\n ForProfit & Count\\\\\n <chr> & <int>\\\\\n\\hline\n\t No  & 247\\\\\n\t Yes & 114\\\\\n\\end{tabular}\n",
            "text/markdown": "\nA tibble: 2 × 2\n\n| ForProfit &lt;chr&gt; | Count &lt;int&gt; |\n|---|---|\n| No  | 247 |\n| Yes | 114 |\n\n",
            "text/html": [
              "<table class=\"dataframe\">\n",
              "<caption>A tibble: 2 × 2</caption>\n",
              "<thead>\n",
              "\t<tr><th scope=col>ForProfit</th><th scope=col>Count</th></tr>\n",
              "\t<tr><th scope=col>&lt;chr&gt;</th><th scope=col>&lt;int&gt;</th></tr>\n",
              "</thead>\n",
              "<tbody>\n",
              "\t<tr><td>No </td><td>247</td></tr>\n",
              "\t<tr><td>Yes</td><td>114</td></tr>\n",
              "</tbody>\n",
              "</table>\n"
            ]
          },
          "metadata": {}
        }
      ]
    },
    {
      "cell_type": "markdown",
      "metadata": {
        "id": "7pQx4-3zef6q"
      },
      "source": [
        "Next, let us consider the various levels for Corporation Type."
      ]
    },
    {
      "cell_type": "code",
      "metadata": {
        "colab": {
          "base_uri": "https://localhost:8080/",
          "height": 474
        },
        "id": "QK5wdZaQegFY",
        "outputId": "49b0fa95-4a73-44f3-aab3-54b02e9b2c61"
      },
      "source": [
        "(\n",
        " NursingHomes_OwnershipSplit\n",
        "  %>% select(CorporationType)\n",
        "  %>% distinct(CorporationType)   \n",
        " ) -> temp\n",
        "\n",
        " head(temp, 15)"
      ],
      "execution_count": 35,
      "outputs": [
        {
          "output_type": "display_data",
          "data": {
            "text/plain": [
              "   CorporationType           \n",
              "1   Corporation              \n",
              "2   County                   \n",
              "3   Individual               \n",
              "4   Limited Liability company\n",
              "5   Other                    \n",
              "6   Partnership              \n",
              "7   City                     \n",
              "8   Church related           \n",
              "9   City/county              \n",
              "10  Federal                  \n",
              "11  State                    \n",
              "12  Hospital district        "
            ],
            "text/latex": "A tibble: 12 × 1\n\\begin{tabular}{l}\n CorporationType\\\\\n <chr>\\\\\n\\hline\n\t  Corporation              \\\\\n\t  County                   \\\\\n\t  Individual               \\\\\n\t  Limited Liability company\\\\\n\t  Other                    \\\\\n\t  Partnership              \\\\\n\t  City                     \\\\\n\t  Church related           \\\\\n\t  City/county              \\\\\n\t  Federal                  \\\\\n\t  State                    \\\\\n\t  Hospital district        \\\\\n\\end{tabular}\n",
            "text/markdown": "\nA tibble: 12 × 1\n\n| CorporationType &lt;chr&gt; |\n|---|\n|  Corporation               |\n|  County                    |\n|  Individual                |\n|  Limited Liability company |\n|  Other                     |\n|  Partnership               |\n|  City                      |\n|  Church related            |\n|  City/county               |\n|  Federal                   |\n|  State                     |\n|  Hospital district         |\n\n",
            "text/html": [
              "<table class=\"dataframe\">\n",
              "<caption>A tibble: 12 × 1</caption>\n",
              "<thead>\n",
              "\t<tr><th scope=col>CorporationType</th></tr>\n",
              "\t<tr><th scope=col>&lt;chr&gt;</th></tr>\n",
              "</thead>\n",
              "<tbody>\n",
              "\t<tr><td> Corporation              </td></tr>\n",
              "\t<tr><td> County                   </td></tr>\n",
              "\t<tr><td> Individual               </td></tr>\n",
              "\t<tr><td> Limited Liability company</td></tr>\n",
              "\t<tr><td> Other                    </td></tr>\n",
              "\t<tr><td> Partnership              </td></tr>\n",
              "\t<tr><td> City                     </td></tr>\n",
              "\t<tr><td> Church related           </td></tr>\n",
              "\t<tr><td> City/county              </td></tr>\n",
              "\t<tr><td> Federal                  </td></tr>\n",
              "\t<tr><td> State                    </td></tr>\n",
              "\t<tr><td> Hospital district        </td></tr>\n",
              "</tbody>\n",
              "</table>\n"
            ]
          },
          "metadata": {}
        }
      ]
    },
    {
      "cell_type": "markdown",
      "metadata": {
        "id": "oAPbDZqThgOk"
      },
      "source": [
        "Consider the following recoding regarding the Corporation Type.\n",
        "\n",
        "<table>\n",
        "<tr>\n",
        "<td align=\"center\">CorporationType</td>\n",
        "<td align=\"center\">Corporation</td>\n",
        "</tr>\n",
        "<tr>\n",
        " <td align=\"center\"><font size=\"+1\">Corporation</font></td>\n",
        " <td align=\"center\"><font size=\"+1\">Yes</font></td>\n",
        "</tr>\n",
        "<tr>\n",
        " <td align=\"center\"><font size=\"+1\">Limited Liability company</font></td>\n",
        "  <td align=\"center\"><font size=\"+1\">Yes</font></td>\n",
        "</tr>\n",
        "\n",
        "<tr>\n",
        " <td align=\"center\"><font size=\"+1\">County</font></td>\n",
        " <td align=\"center\" rowspan=\"10\"><font size=\"+1\">No</font></td>\n",
        "</tr>\n",
        "<tr>\n",
        " <td align=\"center\"><font size=\"+1\">Individual</font></td>\n",
        " \n",
        "</tr>\n",
        "\n",
        "<tr>\n",
        " <td align=\"center\"><font size=\"+1\">Other</font></td>\n",
        "\n",
        "</tr>\n",
        "<tr>\n",
        " <td align=\"center\"><font size=\"+1\">Partnership</font></td>\n",
        "\n",
        "</tr>\n",
        "<tr>\n",
        " <td align=\"center\"><font size=\"+1\">City</font></td>\n",
        "\n",
        "</tr>\n",
        "<tr>\n",
        " <td align=\"center\"><font size=\"+1\">Church related</font></td>\n",
        " \n",
        "</tr>\n",
        "<tr>\n",
        " <td align=\"center\"><font size=\"+1\">City/county</font></td>\n",
        "\n",
        "</tr>\n",
        "<tr>\n",
        " <td align=\"center\"><font size=\"+1\">Federal</font></td>\n",
        " \n",
        "</tr>\n",
        "<tr>\n",
        " <td align=\"center\"><font size=\"+1\">State</font></td>\n",
        " \n",
        "</tr>\n",
        "<tr>\n",
        " <td align=\"center\"><font size=\"+1\">Hospital district</font></td>\n",
        " \n",
        "</tr>\n",
        "</table>"
      ]
    },
    {
      "cell_type": "markdown",
      "metadata": {
        "id": "FBY1BxOwmZZ3"
      },
      "source": [
        "A couple of comments regarding the use of the <strong>case_when()</strong> function.\n",
        "\n",
        "\n",
        "1.   The <strong>order</strong> of the logical statements matter, e.g. statements are considered from top-down.\n",
        "2.   If it is <strong>TRUE</strong> that <strong>none</strong> of the other conditions apply, the TRUE can be placed on the right-hand side of the ~ to consider all remaining situations.\n",
        "\n"
      ]
    },
    {
      "cell_type": "code",
      "metadata": {
        "colab": {
          "base_uri": "https://localhost:8080/",
          "height": 958
        },
        "id": "fY0GrlAqhgYa",
        "outputId": "a80e2971-020d-42b7-af47-84e30de4e671"
      },
      "source": [
        "(\n",
        " NursingHomes_OwnershipSplit\n",
        "  %>% mutate(Corporation = \n",
        "                          case_when(\n",
        "                                    str_trim(CorporationType) == \"Corporation\" ~ \"Yes\",\n",
        "                                    str_trim(CorporationType) == \"Limited Liability company\" ~ \"Yes\",\n",
        "                                    TRUE ~ \"No\"\n",
        "                          )\n",
        "  \n",
        "            )\n",
        "   %>% select(OwnershipType_Split, ProfitType, CorporationType, Corporation, State)\n",
        " ) -> temp\n",
        "\n",
        " head(temp,20)\n",
        "\n",
        " #The Corporation variable can now be used, e.g. count the number of Corporation type nursing homes in MN\n",
        "cat(\"\\n\")\n",
        "cat(\"\\n\")\n",
        "cat(\"\\n\")\n",
        "cat(\"Number of Corporation vs Other types Nursing Homes in MN.\\n\")\n",
        "cat(\"\\n\")\n",
        "(\n",
        " temp\n",
        " %>% filter(State == \"MN\")\n",
        " %>% group_by(Corporation)\n",
        " %>% summarize(Count=n())\n",
        ")"
      ],
      "execution_count": 37,
      "outputs": [
        {
          "output_type": "display_data",
          "data": {
            "text/plain": [
              "   OwnershipType_Split                                    ProfitType \n",
              "1  For profit  ,  Corporation                             For profit \n",
              "2  For profit  ,  Corporation                             For profit \n",
              "3  Government ,  County                                   Government \n",
              "4  For profit ,  Individual                               For profit \n",
              "5  For profit ,  Individual                               For profit \n",
              "6  For profit  ,  Corporation                             For profit \n",
              "7  For profit  ,  Corporation                             For profit \n",
              "8  For profit  ,  Corporation                             For profit \n",
              "9  For profit  ,  Corporation                             For profit \n",
              "10 For profit  ,  Corporation                             For profit \n",
              "11 For profit  ,  Corporation                             For profit \n",
              "12 For profit  ,  Corporation                             For profit \n",
              "13 For profit  ,  Corporation                             For profit \n",
              "14 For profit  ,  Corporation                             For profit \n",
              "15 For profit                ,  Limited Liability company For profit \n",
              "16 For profit ,  Individual                               For profit \n",
              "17 For profit  ,  Corporation                             For profit \n",
              "18 For profit  ,  Corporation                             For profit \n",
              "19 For profit  ,  Corporation                             For profit \n",
              "20 Non profit  ,  Corporation                             Non profit \n",
              "   CorporationType            Corporation State\n",
              "1   Corporation               Yes         AL   \n",
              "2   Corporation               Yes         AL   \n",
              "3   County                    No          AL   \n",
              "4   Individual                No          AL   \n",
              "5   Individual                No          AL   \n",
              "6   Corporation               Yes         AL   \n",
              "7   Corporation               Yes         AL   \n",
              "8   Corporation               Yes         AL   \n",
              "9   Corporation               Yes         AL   \n",
              "10  Corporation               Yes         AL   \n",
              "11  Corporation               Yes         AL   \n",
              "12  Corporation               Yes         AL   \n",
              "13  Corporation               Yes         AL   \n",
              "14  Corporation               Yes         AL   \n",
              "15  Limited Liability company Yes         AL   \n",
              "16  Individual                No          AL   \n",
              "17  Corporation               Yes         AL   \n",
              "18  Corporation               Yes         AL   \n",
              "19  Corporation               Yes         AL   \n",
              "20  Corporation               Yes         AL   "
            ],
            "text/latex": "A tibble: 20 × 5\n\\begin{tabular}{lllll}\n OwnershipType\\_Split & ProfitType & CorporationType & Corporation & State\\\\\n <list> & <chr> & <chr> & <chr> & <chr>\\\\\n\\hline\n\t For profit  ,  Corporation & For profit  &  Corporation               & Yes & AL\\\\\n\t For profit  ,  Corporation & For profit  &  Corporation               & Yes & AL\\\\\n\t Government ,  County     & Government  &  County                    & No  & AL\\\\\n\t For profit ,  Individual & For profit  &  Individual                & No  & AL\\\\\n\t For profit ,  Individual & For profit  &  Individual                & No  & AL\\\\\n\t For profit  ,  Corporation & For profit  &  Corporation               & Yes & AL\\\\\n\t For profit  ,  Corporation & For profit  &  Corporation               & Yes & AL\\\\\n\t For profit  ,  Corporation & For profit  &  Corporation               & Yes & AL\\\\\n\t For profit  ,  Corporation & For profit  &  Corporation               & Yes & AL\\\\\n\t For profit  ,  Corporation & For profit  &  Corporation               & Yes & AL\\\\\n\t For profit  ,  Corporation & For profit  &  Corporation               & Yes & AL\\\\\n\t For profit  ,  Corporation & For profit  &  Corporation               & Yes & AL\\\\\n\t For profit  ,  Corporation & For profit  &  Corporation               & Yes & AL\\\\\n\t For profit  ,  Corporation & For profit  &  Corporation               & Yes & AL\\\\\n\t For profit                ,  Limited Liability company & For profit  &  Limited Liability company & Yes & AL\\\\\n\t For profit ,  Individual & For profit  &  Individual                & No  & AL\\\\\n\t For profit  ,  Corporation & For profit  &  Corporation               & Yes & AL\\\\\n\t For profit  ,  Corporation & For profit  &  Corporation               & Yes & AL\\\\\n\t For profit  ,  Corporation & For profit  &  Corporation               & Yes & AL\\\\\n\t Non profit  ,  Corporation & Non profit  &  Corporation               & Yes & AL\\\\\n\\end{tabular}\n",
            "text/markdown": "\nA tibble: 20 × 5\n\n| OwnershipType_Split &lt;list&gt; | ProfitType &lt;chr&gt; | CorporationType &lt;chr&gt; | Corporation &lt;chr&gt; | State &lt;chr&gt; |\n|---|---|---|---|---|\n| For profit  ,  Corporation | For profit  |  Corporation               | Yes | AL |\n| For profit  ,  Corporation | For profit  |  Corporation               | Yes | AL |\n| Government ,  County     | Government  |  County                    | No  | AL |\n| For profit ,  Individual | For profit  |  Individual                | No  | AL |\n| For profit ,  Individual | For profit  |  Individual                | No  | AL |\n| For profit  ,  Corporation | For profit  |  Corporation               | Yes | AL |\n| For profit  ,  Corporation | For profit  |  Corporation               | Yes | AL |\n| For profit  ,  Corporation | For profit  |  Corporation               | Yes | AL |\n| For profit  ,  Corporation | For profit  |  Corporation               | Yes | AL |\n| For profit  ,  Corporation | For profit  |  Corporation               | Yes | AL |\n| For profit  ,  Corporation | For profit  |  Corporation               | Yes | AL |\n| For profit  ,  Corporation | For profit  |  Corporation               | Yes | AL |\n| For profit  ,  Corporation | For profit  |  Corporation               | Yes | AL |\n| For profit  ,  Corporation | For profit  |  Corporation               | Yes | AL |\n| For profit                ,  Limited Liability company | For profit  |  Limited Liability company | Yes | AL |\n| For profit ,  Individual | For profit  |  Individual                | No  | AL |\n| For profit  ,  Corporation | For profit  |  Corporation               | Yes | AL |\n| For profit  ,  Corporation | For profit  |  Corporation               | Yes | AL |\n| For profit  ,  Corporation | For profit  |  Corporation               | Yes | AL |\n| Non profit  ,  Corporation | Non profit  |  Corporation               | Yes | AL |\n\n",
            "text/html": [
              "<table class=\"dataframe\">\n",
              "<caption>A tibble: 20 × 5</caption>\n",
              "<thead>\n",
              "\t<tr><th scope=col>OwnershipType_Split</th><th scope=col>ProfitType</th><th scope=col>CorporationType</th><th scope=col>Corporation</th><th scope=col>State</th></tr>\n",
              "\t<tr><th scope=col>&lt;list&gt;</th><th scope=col>&lt;chr&gt;</th><th scope=col>&lt;chr&gt;</th><th scope=col>&lt;chr&gt;</th><th scope=col>&lt;chr&gt;</th></tr>\n",
              "</thead>\n",
              "<tbody>\n",
              "\t<tr><td>For profit  ,  Corporation</td><td>For profit </td><td> Corporation              </td><td>Yes</td><td>AL</td></tr>\n",
              "\t<tr><td>For profit  ,  Corporation</td><td>For profit </td><td> Corporation              </td><td>Yes</td><td>AL</td></tr>\n",
              "\t<tr><td>Government ,  County    </td><td>Government </td><td> County                   </td><td>No </td><td>AL</td></tr>\n",
              "\t<tr><td>For profit ,  Individual</td><td>For profit </td><td> Individual               </td><td>No </td><td>AL</td></tr>\n",
              "\t<tr><td>For profit ,  Individual</td><td>For profit </td><td> Individual               </td><td>No </td><td>AL</td></tr>\n",
              "\t<tr><td>For profit  ,  Corporation</td><td>For profit </td><td> Corporation              </td><td>Yes</td><td>AL</td></tr>\n",
              "\t<tr><td>For profit  ,  Corporation</td><td>For profit </td><td> Corporation              </td><td>Yes</td><td>AL</td></tr>\n",
              "\t<tr><td>For profit  ,  Corporation</td><td>For profit </td><td> Corporation              </td><td>Yes</td><td>AL</td></tr>\n",
              "\t<tr><td>For profit  ,  Corporation</td><td>For profit </td><td> Corporation              </td><td>Yes</td><td>AL</td></tr>\n",
              "\t<tr><td>For profit  ,  Corporation</td><td>For profit </td><td> Corporation              </td><td>Yes</td><td>AL</td></tr>\n",
              "\t<tr><td>For profit  ,  Corporation</td><td>For profit </td><td> Corporation              </td><td>Yes</td><td>AL</td></tr>\n",
              "\t<tr><td>For profit  ,  Corporation</td><td>For profit </td><td> Corporation              </td><td>Yes</td><td>AL</td></tr>\n",
              "\t<tr><td>For profit  ,  Corporation</td><td>For profit </td><td> Corporation              </td><td>Yes</td><td>AL</td></tr>\n",
              "\t<tr><td>For profit  ,  Corporation</td><td>For profit </td><td> Corporation              </td><td>Yes</td><td>AL</td></tr>\n",
              "\t<tr><td>For profit                ,  Limited Liability company</td><td>For profit </td><td> Limited Liability company</td><td>Yes</td><td>AL</td></tr>\n",
              "\t<tr><td>For profit ,  Individual</td><td>For profit </td><td> Individual               </td><td>No </td><td>AL</td></tr>\n",
              "\t<tr><td>For profit  ,  Corporation</td><td>For profit </td><td> Corporation              </td><td>Yes</td><td>AL</td></tr>\n",
              "\t<tr><td>For profit  ,  Corporation</td><td>For profit </td><td> Corporation              </td><td>Yes</td><td>AL</td></tr>\n",
              "\t<tr><td>For profit  ,  Corporation</td><td>For profit </td><td> Corporation              </td><td>Yes</td><td>AL</td></tr>\n",
              "\t<tr><td>Non profit  ,  Corporation</td><td>Non profit </td><td> Corporation              </td><td>Yes</td><td>AL</td></tr>\n",
              "</tbody>\n",
              "</table>\n"
            ]
          },
          "metadata": {}
        },
        {
          "output_type": "stream",
          "name": "stdout",
          "text": [
            "\n",
            "\n",
            "\n",
            "Number of Corporation vs Other types Nursing Homes in MN.\n",
            "\n"
          ]
        },
        {
          "output_type": "display_data",
          "data": {
            "text/plain": [
              "  Corporation Count\n",
              "1 No          110  \n",
              "2 Yes         251  "
            ],
            "text/latex": "A tibble: 2 × 2\n\\begin{tabular}{ll}\n Corporation & Count\\\\\n <chr> & <int>\\\\\n\\hline\n\t No  & 110\\\\\n\t Yes & 251\\\\\n\\end{tabular}\n",
            "text/markdown": "\nA tibble: 2 × 2\n\n| Corporation &lt;chr&gt; | Count &lt;int&gt; |\n|---|---|\n| No  | 110 |\n| Yes | 251 |\n\n",
            "text/html": [
              "<table class=\"dataframe\">\n",
              "<caption>A tibble: 2 × 2</caption>\n",
              "<thead>\n",
              "\t<tr><th scope=col>Corporation</th><th scope=col>Count</th></tr>\n",
              "\t<tr><th scope=col>&lt;chr&gt;</th><th scope=col>&lt;int&gt;</th></tr>\n",
              "</thead>\n",
              "<tbody>\n",
              "\t<tr><td>No </td><td>110</td></tr>\n",
              "\t<tr><td>Yes</td><td>251</td></tr>\n",
              "</tbody>\n",
              "</table>\n"
            ]
          },
          "metadata": {}
        }
      ]
    },
    {
      "cell_type": "markdown",
      "metadata": {
        "id": "3dHqFoDbeP-i"
      },
      "source": [
        "\n",
        "\n",
        "---\n",
        "\n",
        "---\n",
        "\n",
        "\n",
        "\n",
        "\n",
        "\n"
      ]
    },
    {
      "cell_type": "markdown",
      "metadata": {
        "id": "MbHh3dz-aFQI"
      },
      "source": [
        "**Task**:  Complete the following."
      ]
    },
    {
      "cell_type": "markdown",
      "source": [
        "\n",
        "1.   Condider only the nursing homes in MN and one other state of your choosing.  For the most recent cycle, compute the average Health Deficiency Score for both states.  Which state is doing better?  Discuss.\n",
        "\n",
        "2.   Here only consider nuring homes in MN.  Compare the Health Deficiency Score for the most recent cycle to the most recent previous cycle.  Provide a list of nursing homes that had a reduction in this score.\n",
        "\n",
        "3.   Reconsider Problem #2, provide a \"Top 10\" list for nursing home in MN that had the biggest drop in Health Deficiency Score from their previous cycle.\n",
        "\n",
        "4.   Again, consider only the nursing homes in MN.  Has COVID adversely affected the Health Deficiency Scores? Discuss.  \n",
        "<u>Note</u>:  COVID \"started\" March 15, 2020; however, COVID's wide-spead impact did not happen until summer/fall 2020.  "
      ],
      "metadata": {
        "id": "zfDAke3SP_88"
      }
    }
  ]
}