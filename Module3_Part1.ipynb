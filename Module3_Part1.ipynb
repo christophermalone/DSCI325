{
  "nbformat": 4,
  "nbformat_minor": 0,
  "metadata": {
    "colab": {
      "name": "Module3_Part1.ipynb",
      "provenance": [],
      "authorship_tag": "ABX9TyPshUfTwSr5ZsZy4NfgE63S",
      "include_colab_link": true
    },
    "kernelspec": {
      "name": "python3",
      "display_name": "Python 3"
    }
  },
  "cells": [
    {
      "cell_type": "markdown",
      "metadata": {
        "id": "view-in-github",
        "colab_type": "text"
      },
      "source": [
        "<a href=\"https://colab.research.google.com/github/christophermalone/DSCI325/blob/main/Module3_Part1.ipynb\" target=\"_parent\"><img src=\"https://colab.research.google.com/assets/colab-badge.svg\" alt=\"Open In Colab\"/></a>"
      ]
    },
    {
      "cell_type": "markdown",
      "metadata": {
        "id": "UG_1d6o6fjPA"
      },
      "source": [
        "# Module 3 | Part 1: Data Verb - SELECT()"
      ]
    },
    {
      "cell_type": "markdown",
      "metadata": {
        "id": "G4nenC16gWS8"
      },
      "source": [
        "There are a variety of actions that are commonly used to manage/manipulate data. These actions are known as <strong>data verbs</strong>.  Some of the most common data verbs are:\r\n",
        "\r\n",
        "\r\n",
        "*   SELECT(); manipulation of columns\r\n",
        "*   FILTER(); manipulation of rows\r\n",
        "*   SUMMARISE(); provide summaries for fields within a data frame\r\n",
        "\r\n"
      ]
    },
    {
      "cell_type": "markdown",
      "metadata": {
        "id": "LUPB7_5aA1Iy"
      },
      "source": [
        "<table width='100%' ><tr><td bgcolor='green'></td></tr></table>\r\n",
        "\r\n",
        "### Example 3.1.1\r\n",
        "Consider the unemployement rates of various countries around the world. This data is presented for each quarter over a three year period. \r\n",
        "\r\n",
        "\r\n",
        "\r\n",
        "*   Q1: January - March\r\n",
        "*   Q2: April - June\r\n",
        "*   Q3: July - September\r\n",
        "*   Q4: October - December\r\n",
        "\r\n",
        "\r\n",
        " \r\n",
        "<br><i>Data Source</i>: https://stats.oecd.org/Index.aspx?DatasetCode=STLABOUR#\r\n",
        "\r\n",
        "<table width='100%' ><tr><td bgcolor='green'></td></tr></table>"
      ]
    },
    {
      "cell_type": "markdown",
      "metadata": {
        "id": "z3VLNxQ8_7Gi"
      },
      "source": [
        "A snipit of the <strong>World_Unemployment_Rates</strong> data set is provided here.\r\n",
        "\r\n",
        "<p align='center'><img src=\"https://drive.google.com/uc?export=view&id=1S6b4xk0KgbxvulpWMh4ZL7NXh5j-3I6d\"></p>\r\n",
        "\r\n"
      ]
    },
    {
      "cell_type": "markdown",
      "metadata": {
        "id": "eV4ARrDUEcCe"
      },
      "source": [
        "## Data Frame Structure"
      ]
    },
    {
      "cell_type": "markdown",
      "metadata": {
        "id": "fNKQuo_JDDK9"
      },
      "source": [
        "A <strong>data frame</strong> is the name used to describe the most common structure for which a data table is stored in R and Python.  In other systems, e.g. spreadsheets, databases, these are commonly referred to as <stong>tables</strong>.\r\n",
        "<p align='center'><img src=\"https://drive.google.com/uc?export=view&id=1c6y4S-J3GlPuc2gqXQZC4IO3Hkv4zgjd\"></p>"
      ]
    },
    {
      "cell_type": "markdown",
      "metadata": {
        "id": "468gnNzhFaAd"
      },
      "source": [
        "There are two ways in which one identifies columns/rows within a data frame.  In either case, the column/row identifiers shoudl be unique. \r\n",
        "\r\n",
        "\r\n",
        "*   Use Numbers: Columns/Rows can be identifed by number (R starts with 1 / Python starts with 0)\r\n",
        "*   Use Names: Columns/Rows can be identifed by name\r\n",
        "\r\n",
        "\r\n",
        "\r\n",
        "<table border='1'>\r\n",
        " <tr>\r\n",
        " <td align='center' width='50%'><font size='+2'>Refer to Column/Row Numbers</font></td>\r\n",
        " <td align='center' width='50%'><font size='+2'>Refer to Column/Row Names</font></td>\r\n",
        " <tr>\r\n",
        " <td align='center' valign='top' width='50%'><img src=\"https://drive.google.com/uc?export=view&id=1CGlSA8dWUXcprmG1HqO6KVogUCKl-mtM\"></td>\r\n",
        " <td align='center'  valign='top' width='50%'><img src=\"https://drive.google.com/uc?export=view&id=1wh7oMFsmZ0FipGkY7nZq4L29PMH1kKdV\"></td>\r\n",
        "\r\n",
        " </tr>"
      ]
    },
    {
      "cell_type": "markdown",
      "metadata": {
        "id": "NtXdcb_IHDlH"
      },
      "source": [
        "The most common approach is a combination of names / numbers with names being used for columns and numbers being used for rows."
      ]
    },
    {
      "cell_type": "markdown",
      "metadata": {
        "id": "6a4BADtYACDZ"
      },
      "source": [
        "\r\n",
        "\r\n",
        "<p align='center'><img src=\"https://drive.google.com/uc?export=view&id=1t5ks7m3pG6F7fGWJGRH45woibLc_pLmD\"></p>"
      ]
    },
    {
      "cell_type": "markdown",
      "metadata": {
        "id": "Nmrgqv4cHS0H"
      },
      "source": [
        "An entity within the data frame is called a <strong>value</strong>. "
      ]
    },
    {
      "cell_type": "markdown",
      "metadata": {
        "id": "rdx0uKU6AGxg"
      },
      "source": [
        "\r\n",
        "\r\n",
        "<p align='center'><img src=\"https://drive.google.com/uc?export=view&id=1Gb8metBviX5ZeCwIWFO-en6wV5_r8FHf\"></p>"
      ]
    },
    {
      "cell_type": "code",
      "metadata": {
        "id": "opUtwwXTALKH"
      },
      "source": [
        ""
      ],
      "execution_count": null,
      "outputs": []
    }
  ]
}