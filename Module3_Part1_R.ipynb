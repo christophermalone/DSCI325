{
  "nbformat": 4,
  "nbformat_minor": 0,
  "metadata": {
    "colab": {
      "name": "Module3_Part1_R.ipynb",
      "provenance": [],
      "collapsed_sections": [],
      "toc_visible": true,
      "authorship_tag": "ABX9TyPJtrOCBvrUM5F37ti1iWbl",
      "include_colab_link": true
    },
    "kernelspec": {
      "name": "ir",
      "display_name": "R"
    }
  },
  "cells": [
    {
      "cell_type": "markdown",
      "metadata": {
        "id": "view-in-github",
        "colab_type": "text"
      },
      "source": [
        "<a href=\"https://colab.research.google.com/github/christophermalone/DSCI325/blob/main/Module3_Part1_R.ipynb\" target=\"_parent\"><img src=\"https://colab.research.google.com/assets/colab-badge.svg\" alt=\"Open In Colab\"/></a>"
      ]
    },
    {
      "cell_type": "markdown",
      "metadata": {
        "id": "qASiwL4ROcyk"
      },
      "source": [
        "# Module 1 | Part 1 | R : SELECT()"
      ]
    },
    {
      "cell_type": "markdown",
      "metadata": {
        "id": "_8ilK1-fQtdf"
      },
      "source": [
        "This notebook will discuss the use of the SELECT() data verby in R."
      ]
    },
    {
      "cell_type": "markdown",
      "metadata": {
        "id": "kNsHvvj9V3v7"
      },
      "source": [
        "<table width='100%' ><tr><td bgcolor='green'></td></tr></table>\r\n",
        "\r\n",
        "### Example 3.1.1R\r\n",
        "Consider the employement rates of various countries around the world. This data is presented for each quarter over a three year period. \r\n",
        "\r\n",
        "\r\n",
        "*   Q1: January - March\r\n",
        "*   Q2: April - June\r\n",
        "*   Q3: July - September\r\n",
        "*   Q4: October - December\r\n",
        "\r\n",
        "\r\n",
        " \r\n",
        "<br>Original Data Source: https://stats.oecd.org/Index.aspx?DatasetCode=STLABOUR#\r\n",
        "\r\n",
        "<table width='100%' ><tr><td bgcolor='green'></td></tr></table>"
      ]
    },
    {
      "cell_type": "markdown",
      "metadata": {
        "id": "RbdEx7oFV26d"
      },
      "source": [
        "\r\n",
        "\r\n",
        "A snipit of the <strong>OECD_EmploymentRates</strong> data set is provided here.\r\n",
        "\r\n",
        "<p align='center'><img src=\"https://drive.google.com/uc?export=view&id=1yNrrUlWfNKwKIvk36IMvV_hnSQG3Vtnp\"></p>"
      ]
    },
    {
      "cell_type": "markdown",
      "metadata": {
        "id": "U_NAMJPMXWwB"
      },
      "source": [
        "## Base R"
      ]
    },
    {
      "cell_type": "markdown",
      "metadata": {
        "id": "byTSGotwXZcs"
      },
      "source": [
        "Reading in the OECD_EmploymentRates.csv file into R using the read.csv() function in Base R.\r\n",
        "\r\n"
      ]
    },
    {
      "cell_type": "code",
      "metadata": {
        "id": "A2-cUGi7Qtke"
      },
      "source": [
        "EmploymentRates <- read.csv('/content/sample_data/OECD_EmploymentRates.csv')"
      ],
      "execution_count": 17,
      "outputs": []
    },
    {
      "cell_type": "markdown",
      "metadata": {
        "id": "oos3LDxXXmrr"
      },
      "source": [
        "Check that the data file was read in correctly."
      ]
    },
    {
      "cell_type": "code",
      "metadata": {
        "colab": {
          "base_uri": "https://localhost:8080/",
          "height": 33
        },
        "id": "N4XnTWo-XmyZ",
        "outputId": "b506d0d1-30e4-44b1-c8a8-d5a994501515"
      },
      "source": [
        "ls()\r\n"
      ],
      "execution_count": 46,
      "outputs": [
        {
          "output_type": "display_data",
          "data": {
            "text/plain": [
              "[1] \"EmploymentRates\""
            ],
            "text/latex": "'EmploymentRates'",
            "text/markdown": "'EmploymentRates'",
            "text/html": [
              "'EmploymentRates'"
            ]
          },
          "metadata": {
            "tags": []
          }
        }
      ]
    },
    {
      "cell_type": "markdown",
      "metadata": {
        "id": "Ic3MPMTbVgv3"
      },
      "source": [
        "Using head() in R to verify that the contents of the data file were read in correctly.\r\n"
      ]
    },
    {
      "cell_type": "code",
      "metadata": {
        "colab": {
          "base_uri": "https://localhost:8080/",
          "height": 274
        },
        "id": "y-QzqeA-Qx4_",
        "outputId": "1be62333-b459-412d-c0c6-e5fced6071c1"
      },
      "source": [
        "head(EmploymentRates)"
      ],
      "execution_count": 18,
      "outputs": [
        {
          "output_type": "display_data",
          "data": {
            "text/plain": [
              "  Country   WorldRegion           Q1_Year1 Q2_Year1 Q3_Year1 Q4_Year1 Q1_Year2\n",
              "1 Australia Oceania               73.7     73.6     73.7     74.0     74.1    \n",
              "2 Austria   Europe                72.8     73.1     73.1     73.1     73.5    \n",
              "3 Belgium   Europe                64.1     63.9     64.8     65.1     64.7    \n",
              "4 Canada    North America         73.4     73.4     73.6     73.8     73.9    \n",
              "5 Chile     South/Central America 64.3     64.3     63.7     64.0     63.8    \n",
              "6 Colombia  South/Central America 66.3     66.6     66.9     65.7     65.9    \n",
              "  Q2_Year2 Q3_Year2 Q4_Year2 Q1_Year3 Q2_Year3 Q3_Year3 Q4_Year3\n",
              "1 74.2     74.4     74.4     74.6     70.5     72.0     73.5    \n",
              "2 73.6     73.5     73.6     73.2     71.4     72.7       NA    \n",
              "3 65.7     65.6     65.1     65.3     64.5     64.9       NA    \n",
              "4 74.2     74.2     74.1     73.0     64.7     70.2     72.0    \n",
              "5 64.2     64.4     63.9     63.3     51.2     52.6     56.3    \n",
              "6 65.1     65.1     64.9     63.4     50.5     56.4     59.8    "
            ],
            "text/latex": "A data.frame: 6 × 14\n\\begin{tabular}{r|llllllllllllll}\n  & Country & WorldRegion & Q1\\_Year1 & Q2\\_Year1 & Q3\\_Year1 & Q4\\_Year1 & Q1\\_Year2 & Q2\\_Year2 & Q3\\_Year2 & Q4\\_Year2 & Q1\\_Year3 & Q2\\_Year3 & Q3\\_Year3 & Q4\\_Year3\\\\\n  & <chr> & <chr> & <dbl> & <dbl> & <dbl> & <dbl> & <dbl> & <dbl> & <dbl> & <dbl> & <dbl> & <dbl> & <dbl> & <dbl>\\\\\n\\hline\n\t1 & Australia & Oceania               & 73.7 & 73.6 & 73.7 & 74.0 & 74.1 & 74.2 & 74.4 & 74.4 & 74.6 & 70.5 & 72.0 & 73.5\\\\\n\t2 & Austria   & Europe                & 72.8 & 73.1 & 73.1 & 73.1 & 73.5 & 73.6 & 73.5 & 73.6 & 73.2 & 71.4 & 72.7 &   NA\\\\\n\t3 & Belgium   & Europe                & 64.1 & 63.9 & 64.8 & 65.1 & 64.7 & 65.7 & 65.6 & 65.1 & 65.3 & 64.5 & 64.9 &   NA\\\\\n\t4 & Canada    & North America         & 73.4 & 73.4 & 73.6 & 73.8 & 73.9 & 74.2 & 74.2 & 74.1 & 73.0 & 64.7 & 70.2 & 72.0\\\\\n\t5 & Chile     & South/Central America & 64.3 & 64.3 & 63.7 & 64.0 & 63.8 & 64.2 & 64.4 & 63.9 & 63.3 & 51.2 & 52.6 & 56.3\\\\\n\t6 & Colombia  & South/Central America & 66.3 & 66.6 & 66.9 & 65.7 & 65.9 & 65.1 & 65.1 & 64.9 & 63.4 & 50.5 & 56.4 & 59.8\\\\\n\\end{tabular}\n",
            "text/markdown": "\nA data.frame: 6 × 14\n\n| <!--/--> | Country &lt;chr&gt; | WorldRegion &lt;chr&gt; | Q1_Year1 &lt;dbl&gt; | Q2_Year1 &lt;dbl&gt; | Q3_Year1 &lt;dbl&gt; | Q4_Year1 &lt;dbl&gt; | Q1_Year2 &lt;dbl&gt; | Q2_Year2 &lt;dbl&gt; | Q3_Year2 &lt;dbl&gt; | Q4_Year2 &lt;dbl&gt; | Q1_Year3 &lt;dbl&gt; | Q2_Year3 &lt;dbl&gt; | Q3_Year3 &lt;dbl&gt; | Q4_Year3 &lt;dbl&gt; |\n|---|---|---|---|---|---|---|---|---|---|---|---|---|---|---|\n| 1 | Australia | Oceania               | 73.7 | 73.6 | 73.7 | 74.0 | 74.1 | 74.2 | 74.4 | 74.4 | 74.6 | 70.5 | 72.0 | 73.5 |\n| 2 | Austria   | Europe                | 72.8 | 73.1 | 73.1 | 73.1 | 73.5 | 73.6 | 73.5 | 73.6 | 73.2 | 71.4 | 72.7 |   NA |\n| 3 | Belgium   | Europe                | 64.1 | 63.9 | 64.8 | 65.1 | 64.7 | 65.7 | 65.6 | 65.1 | 65.3 | 64.5 | 64.9 |   NA |\n| 4 | Canada    | North America         | 73.4 | 73.4 | 73.6 | 73.8 | 73.9 | 74.2 | 74.2 | 74.1 | 73.0 | 64.7 | 70.2 | 72.0 |\n| 5 | Chile     | South/Central America | 64.3 | 64.3 | 63.7 | 64.0 | 63.8 | 64.2 | 64.4 | 63.9 | 63.3 | 51.2 | 52.6 | 56.3 |\n| 6 | Colombia  | South/Central America | 66.3 | 66.6 | 66.9 | 65.7 | 65.9 | 65.1 | 65.1 | 64.9 | 63.4 | 50.5 | 56.4 | 59.8 |\n\n",
            "text/html": [
              "<table class=\"dataframe\">\n",
              "<caption>A data.frame: 6 × 14</caption>\n",
              "<thead>\n",
              "\t<tr><th></th><th scope=col>Country</th><th scope=col>WorldRegion</th><th scope=col>Q1_Year1</th><th scope=col>Q2_Year1</th><th scope=col>Q3_Year1</th><th scope=col>Q4_Year1</th><th scope=col>Q1_Year2</th><th scope=col>Q2_Year2</th><th scope=col>Q3_Year2</th><th scope=col>Q4_Year2</th><th scope=col>Q1_Year3</th><th scope=col>Q2_Year3</th><th scope=col>Q3_Year3</th><th scope=col>Q4_Year3</th></tr>\n",
              "\t<tr><th></th><th scope=col>&lt;chr&gt;</th><th scope=col>&lt;chr&gt;</th><th scope=col>&lt;dbl&gt;</th><th scope=col>&lt;dbl&gt;</th><th scope=col>&lt;dbl&gt;</th><th scope=col>&lt;dbl&gt;</th><th scope=col>&lt;dbl&gt;</th><th scope=col>&lt;dbl&gt;</th><th scope=col>&lt;dbl&gt;</th><th scope=col>&lt;dbl&gt;</th><th scope=col>&lt;dbl&gt;</th><th scope=col>&lt;dbl&gt;</th><th scope=col>&lt;dbl&gt;</th><th scope=col>&lt;dbl&gt;</th></tr>\n",
              "</thead>\n",
              "<tbody>\n",
              "\t<tr><th scope=row>1</th><td>Australia</td><td>Oceania              </td><td>73.7</td><td>73.6</td><td>73.7</td><td>74.0</td><td>74.1</td><td>74.2</td><td>74.4</td><td>74.4</td><td>74.6</td><td>70.5</td><td>72.0</td><td>73.5</td></tr>\n",
              "\t<tr><th scope=row>2</th><td>Austria  </td><td>Europe               </td><td>72.8</td><td>73.1</td><td>73.1</td><td>73.1</td><td>73.5</td><td>73.6</td><td>73.5</td><td>73.6</td><td>73.2</td><td>71.4</td><td>72.7</td><td>  NA</td></tr>\n",
              "\t<tr><th scope=row>3</th><td>Belgium  </td><td>Europe               </td><td>64.1</td><td>63.9</td><td>64.8</td><td>65.1</td><td>64.7</td><td>65.7</td><td>65.6</td><td>65.1</td><td>65.3</td><td>64.5</td><td>64.9</td><td>  NA</td></tr>\n",
              "\t<tr><th scope=row>4</th><td>Canada   </td><td>North America        </td><td>73.4</td><td>73.4</td><td>73.6</td><td>73.8</td><td>73.9</td><td>74.2</td><td>74.2</td><td>74.1</td><td>73.0</td><td>64.7</td><td>70.2</td><td>72.0</td></tr>\n",
              "\t<tr><th scope=row>5</th><td>Chile    </td><td>South/Central America</td><td>64.3</td><td>64.3</td><td>63.7</td><td>64.0</td><td>63.8</td><td>64.2</td><td>64.4</td><td>63.9</td><td>63.3</td><td>51.2</td><td>52.6</td><td>56.3</td></tr>\n",
              "\t<tr><th scope=row>6</th><td>Colombia </td><td>South/Central America</td><td>66.3</td><td>66.6</td><td>66.9</td><td>65.7</td><td>65.9</td><td>65.1</td><td>65.1</td><td>64.9</td><td>63.4</td><td>50.5</td><td>56.4</td><td>59.8</td></tr>\n",
              "</tbody>\n",
              "</table>\n"
            ]
          },
          "metadata": {
            "tags": []
          }
        }
      ]
    },
    {
      "cell_type": "markdown",
      "metadata": {
        "id": "-EoIZm9uQ23_"
      },
      "source": [
        "To select columns and/or rows, the following syntax can be used in R.\r\n",
        "\r\n",
        "<strong>Comment</strong>: The indexing of columns (and rows) starts with 1 in R.\r\n",
        "\r\n",
        "<p align='center'><img src=\"https://drive.google.com/uc?export=view&id=1T62dv9Gb5QLQpKq9jbuDlpxC_PBFnYmi\"></p>"
      ]
    },
    {
      "cell_type": "code",
      "metadata": {
        "id": "oOJSjxhVQ2-O"
      },
      "source": [
        "#Select columns 1 and 2.\r\n",
        "EmploymentRates[ , 1:2]"
      ],
      "execution_count": null,
      "outputs": []
    },
    {
      "cell_type": "markdown",
      "metadata": {
        "id": "8y2WIkDxQ69t"
      },
      "source": [
        "To select rows (which is the filter data verb) consider the following slight variation."
      ]
    },
    {
      "cell_type": "code",
      "metadata": {
        "colab": {
          "base_uri": "https://localhost:8080/",
          "height": 154
        },
        "id": "zqo_EHOSQ7E_",
        "outputId": "95ce1edb-1e1b-4618-8393-5ac977b75139"
      },
      "source": [
        "EmploymentRates[1:2, ]"
      ],
      "execution_count": 20,
      "outputs": [
        {
          "output_type": "display_data",
          "data": {
            "text/plain": [
              "  Country   WorldRegion Q1_Year1 Q2_Year1 Q3_Year1 Q4_Year1 Q1_Year2 Q2_Year2\n",
              "1 Australia Oceania     73.7     73.6     73.7     74.0     74.1     74.2    \n",
              "2 Austria   Europe      72.8     73.1     73.1     73.1     73.5     73.6    \n",
              "  Q3_Year2 Q4_Year2 Q1_Year3 Q2_Year3 Q3_Year3 Q4_Year3\n",
              "1 74.4     74.4     74.6     70.5     72.0     73.5    \n",
              "2 73.5     73.6     73.2     71.4     72.7       NA    "
            ],
            "text/latex": "A data.frame: 2 × 14\n\\begin{tabular}{r|llllllllllllll}\n  & Country & WorldRegion & Q1\\_Year1 & Q2\\_Year1 & Q3\\_Year1 & Q4\\_Year1 & Q1\\_Year2 & Q2\\_Year2 & Q3\\_Year2 & Q4\\_Year2 & Q1\\_Year3 & Q2\\_Year3 & Q3\\_Year3 & Q4\\_Year3\\\\\n  & <chr> & <chr> & <dbl> & <dbl> & <dbl> & <dbl> & <dbl> & <dbl> & <dbl> & <dbl> & <dbl> & <dbl> & <dbl> & <dbl>\\\\\n\\hline\n\t1 & Australia & Oceania & 73.7 & 73.6 & 73.7 & 74.0 & 74.1 & 74.2 & 74.4 & 74.4 & 74.6 & 70.5 & 72.0 & 73.5\\\\\n\t2 & Austria   & Europe  & 72.8 & 73.1 & 73.1 & 73.1 & 73.5 & 73.6 & 73.5 & 73.6 & 73.2 & 71.4 & 72.7 &   NA\\\\\n\\end{tabular}\n",
            "text/markdown": "\nA data.frame: 2 × 14\n\n| <!--/--> | Country &lt;chr&gt; | WorldRegion &lt;chr&gt; | Q1_Year1 &lt;dbl&gt; | Q2_Year1 &lt;dbl&gt; | Q3_Year1 &lt;dbl&gt; | Q4_Year1 &lt;dbl&gt; | Q1_Year2 &lt;dbl&gt; | Q2_Year2 &lt;dbl&gt; | Q3_Year2 &lt;dbl&gt; | Q4_Year2 &lt;dbl&gt; | Q1_Year3 &lt;dbl&gt; | Q2_Year3 &lt;dbl&gt; | Q3_Year3 &lt;dbl&gt; | Q4_Year3 &lt;dbl&gt; |\n|---|---|---|---|---|---|---|---|---|---|---|---|---|---|---|\n| 1 | Australia | Oceania | 73.7 | 73.6 | 73.7 | 74.0 | 74.1 | 74.2 | 74.4 | 74.4 | 74.6 | 70.5 | 72.0 | 73.5 |\n| 2 | Austria   | Europe  | 72.8 | 73.1 | 73.1 | 73.1 | 73.5 | 73.6 | 73.5 | 73.6 | 73.2 | 71.4 | 72.7 |   NA |\n\n",
            "text/html": [
              "<table class=\"dataframe\">\n",
              "<caption>A data.frame: 2 × 14</caption>\n",
              "<thead>\n",
              "\t<tr><th></th><th scope=col>Country</th><th scope=col>WorldRegion</th><th scope=col>Q1_Year1</th><th scope=col>Q2_Year1</th><th scope=col>Q3_Year1</th><th scope=col>Q4_Year1</th><th scope=col>Q1_Year2</th><th scope=col>Q2_Year2</th><th scope=col>Q3_Year2</th><th scope=col>Q4_Year2</th><th scope=col>Q1_Year3</th><th scope=col>Q2_Year3</th><th scope=col>Q3_Year3</th><th scope=col>Q4_Year3</th></tr>\n",
              "\t<tr><th></th><th scope=col>&lt;chr&gt;</th><th scope=col>&lt;chr&gt;</th><th scope=col>&lt;dbl&gt;</th><th scope=col>&lt;dbl&gt;</th><th scope=col>&lt;dbl&gt;</th><th scope=col>&lt;dbl&gt;</th><th scope=col>&lt;dbl&gt;</th><th scope=col>&lt;dbl&gt;</th><th scope=col>&lt;dbl&gt;</th><th scope=col>&lt;dbl&gt;</th><th scope=col>&lt;dbl&gt;</th><th scope=col>&lt;dbl&gt;</th><th scope=col>&lt;dbl&gt;</th><th scope=col>&lt;dbl&gt;</th></tr>\n",
              "</thead>\n",
              "<tbody>\n",
              "\t<tr><th scope=row>1</th><td>Australia</td><td>Oceania</td><td>73.7</td><td>73.6</td><td>73.7</td><td>74.0</td><td>74.1</td><td>74.2</td><td>74.4</td><td>74.4</td><td>74.6</td><td>70.5</td><td>72.0</td><td>73.5</td></tr>\n",
              "\t<tr><th scope=row>2</th><td>Austria  </td><td>Europe </td><td>72.8</td><td>73.1</td><td>73.1</td><td>73.1</td><td>73.5</td><td>73.6</td><td>73.5</td><td>73.6</td><td>73.2</td><td>71.4</td><td>72.7</td><td>  NA</td></tr>\n",
              "</tbody>\n",
              "</table>\n"
            ]
          },
          "metadata": {
            "tags": []
          }
        }
      ]
    },
    {
      "cell_type": "markdown",
      "metadata": {
        "id": "H3hLzHsyZSXP"
      },
      "source": [
        "The following variation can be used to select particular columns that are not necessarily in a sequence.  Recall, the c() syntax is a vector that is used to store the desired columns to be selected."
      ]
    },
    {
      "cell_type": "code",
      "metadata": {
        "id": "uNegk_VTZSde"
      },
      "source": [
        "EmploymentRates[ , c(1,2, 11:14)]"
      ],
      "execution_count": null,
      "outputs": []
    },
    {
      "cell_type": "markdown",
      "metadata": {
        "id": "pvYjxYx0Z_-o"
      },
      "source": [
        "The - sign can be used to negate a selection.  For example, the following is used to select <strong>all</strong> columns except columns 1 and 2."
      ]
    },
    {
      "cell_type": "code",
      "metadata": {
        "id": "ZqgQzpNgaAG1"
      },
      "source": [
        "EmploymentRates[ , -1:2]"
      ],
      "execution_count": null,
      "outputs": []
    },
    {
      "cell_type": "markdown",
      "metadata": {
        "id": "Ikgk__kEaRQm"
      },
      "source": [
        "This did not work as R is unclear what your intention here.  The negation is to be applied to both columns 1 and 2 and so the following is the correct syntax for this situation."
      ]
    },
    {
      "cell_type": "code",
      "metadata": {
        "id": "PSg_79uBaRX2"
      },
      "source": [
        "EmploymentRates[ , -c(1:2)]"
      ],
      "execution_count": null,
      "outputs": []
    },
    {
      "cell_type": "markdown",
      "metadata": {
        "id": "Zx3y8w5gb_Q_"
      },
      "source": [
        "## Aside: Base R Attempt to be more user friendly"
      ]
    },
    {
      "cell_type": "markdown",
      "metadata": {
        "id": "IMryXfEdcNGt"
      },
      "source": [
        "<table width='100%' ><tr><td bgcolor='orange'></td></tr></table>"
      ]
    },
    {
      "cell_type": "markdown",
      "metadata": {
        "id": "PZtD-XlycSOf"
      },
      "source": [
        "Base R has made a half-hearted attempt to be more user friendly.  For example, teh following will select the first two columns of the EmploymentRates dataframe using the column names."
      ]
    },
    {
      "cell_type": "code",
      "metadata": {
        "id": "tpsU-C3VQ_n-"
      },
      "source": [
        "EmploymentRates[ , c(\"Country\",\"WorldRegion\")]"
      ],
      "execution_count": null,
      "outputs": []
    },
    {
      "cell_type": "markdown",
      "metadata": {
        "id": "PQk1JpQXciNW"
      },
      "source": [
        "However, the negation effect is not supported.  The command EmploymentRates[ , -c(1:2)] is supported."
      ]
    },
    {
      "cell_type": "code",
      "metadata": {
        "colab": {
          "base_uri": "https://localhost:8080/",
          "height": 185
        },
        "id": "Shtvay99ciT7",
        "outputId": "0d02475f-a54d-4447-fb9d-938efc6ed792"
      },
      "source": [
        "EmploymentRates[ , -c(\"Country\",\"WorldRegion\")]"
      ],
      "execution_count": 50,
      "outputs": [
        {
          "output_type": "error",
          "ename": "ERROR",
          "evalue": "ignored",
          "traceback": [
            "Error in -c(\"Country\", \"WorldRegion\"): invalid argument to unary operator\nTraceback:\n",
            "1. EmploymentRates[, -c(\"Country\", \"WorldRegion\")]",
            "2. `[.spec_tbl_df`(EmploymentRates, , -c(\"Country\", \"WorldRegion\"))",
            "3. NextMethod(`[`)",
            "4. `[.tbl_df`(EmploymentRates, , -c(\"Country\", \"WorldRegion\"))"
          ]
        }
      ]
    },
    {
      "cell_type": "markdown",
      "metadata": {
        "id": "-Epv5X0HcPf2"
      },
      "source": [
        "<table width='100%' ><tr><td bgcolor='orange'></td></tr></table>"
      ]
    },
    {
      "cell_type": "markdown",
      "metadata": {
        "id": "EKEpR35GRZZf"
      },
      "source": [
        "## Tidyverse()"
      ]
    },
    {
      "cell_type": "markdown",
      "metadata": {
        "id": "xlbAXr-0dsjo"
      },
      "source": [
        "Loading the tidyverse() suite of package in R."
      ]
    },
    {
      "cell_type": "code",
      "metadata": {
        "id": "3uDaR-8AOc5O"
      },
      "source": [
        "library(tidyverse)"
      ],
      "execution_count": 29,
      "outputs": []
    },
    {
      "cell_type": "markdown",
      "metadata": {
        "id": "BwaN9nyuPRQW"
      },
      "source": [
        "Reading in the OECD_EmploymentRates.csv file into R using the read_csv() function from the tidyverse() suite of packages.\r\n"
      ]
    },
    {
      "cell_type": "code",
      "metadata": {
        "colab": {
          "base_uri": "https://localhost:8080/"
        },
        "id": "XcE273c9PRZE",
        "outputId": "e1a58787-af2d-4080-b79f-2d19ade8e174"
      },
      "source": [
        "EmploymentRates <- read_csv('/content/sample_data/OECD_EmploymentRates.csv')"
      ],
      "execution_count": 30,
      "outputs": [
        {
          "output_type": "stream",
          "text": [
            "\n",
            "\u001b[36m──\u001b[39m \u001b[1m\u001b[1mColumn specification\u001b[1m\u001b[22m \u001b[36m────────────────────────────────────────────────────────\u001b[39m\n",
            "cols(\n",
            "  Country = \u001b[31mcol_character()\u001b[39m,\n",
            "  WorldRegion = \u001b[31mcol_character()\u001b[39m,\n",
            "  Q1_Year1 = \u001b[32mcol_double()\u001b[39m,\n",
            "  Q2_Year1 = \u001b[32mcol_double()\u001b[39m,\n",
            "  Q3_Year1 = \u001b[32mcol_double()\u001b[39m,\n",
            "  Q4_Year1 = \u001b[32mcol_double()\u001b[39m,\n",
            "  Q1_Year2 = \u001b[32mcol_double()\u001b[39m,\n",
            "  Q2_Year2 = \u001b[32mcol_double()\u001b[39m,\n",
            "  Q3_Year2 = \u001b[32mcol_double()\u001b[39m,\n",
            "  Q4_Year2 = \u001b[32mcol_double()\u001b[39m,\n",
            "  Q1_Year3 = \u001b[32mcol_double()\u001b[39m,\n",
            "  Q2_Year3 = \u001b[32mcol_double()\u001b[39m,\n",
            "  Q3_Year3 = \u001b[32mcol_double()\u001b[39m,\n",
            "  Q4_Year3 = \u001b[32mcol_double()\u001b[39m\n",
            ")\n",
            "\n",
            "\n"
          ],
          "name": "stderr"
        }
      ]
    },
    {
      "cell_type": "markdown",
      "metadata": {
        "id": "sZggo3e7PZf9"
      },
      "source": [
        "The select() function in dplyr package allows one to select columns by name.  Here, Country and WorldRegion are being selected.  The output is being pushed into the <strong>mysubset</strong> dataframe."
      ]
    },
    {
      "cell_type": "code",
      "metadata": {
        "colab": {
          "base_uri": "https://localhost:8080/",
          "height": 274
        },
        "id": "nDd9bAx-Red4",
        "outputId": "10dd32e9-79dc-4459-ddad-fc80f178114b"
      },
      "source": [
        "(\r\n",
        "  EmploymentRates\r\n",
        "  %>% select(Country,WorldRegion)\r\n",
        ") -> mysubset\r\n",
        "\r\n",
        "head(mysubset)"
      ],
      "execution_count": 52,
      "outputs": [
        {
          "output_type": "display_data",
          "data": {
            "text/plain": [
              "  Country   WorldRegion          \n",
              "1 Australia Oceania              \n",
              "2 Austria   Europe               \n",
              "3 Belgium   Europe               \n",
              "4 Canada    North America        \n",
              "5 Chile     South/Central America\n",
              "6 Colombia  South/Central America"
            ],
            "text/latex": "A tibble: 6 × 2\n\\begin{tabular}{ll}\n Country & WorldRegion\\\\\n <chr> & <chr>\\\\\n\\hline\n\t Australia & Oceania              \\\\\n\t Austria   & Europe               \\\\\n\t Belgium   & Europe               \\\\\n\t Canada    & North America        \\\\\n\t Chile     & South/Central America\\\\\n\t Colombia  & South/Central America\\\\\n\\end{tabular}\n",
            "text/markdown": "\nA tibble: 6 × 2\n\n| Country &lt;chr&gt; | WorldRegion &lt;chr&gt; |\n|---|---|\n| Australia | Oceania               |\n| Austria   | Europe                |\n| Belgium   | Europe                |\n| Canada    | North America         |\n| Chile     | South/Central America |\n| Colombia  | South/Central America |\n\n",
            "text/html": [
              "<table class=\"dataframe\">\n",
              "<caption>A tibble: 6 × 2</caption>\n",
              "<thead>\n",
              "\t<tr><th scope=col>Country</th><th scope=col>WorldRegion</th></tr>\n",
              "\t<tr><th scope=col>&lt;chr&gt;</th><th scope=col>&lt;chr&gt;</th></tr>\n",
              "</thead>\n",
              "<tbody>\n",
              "\t<tr><td>Australia</td><td>Oceania              </td></tr>\n",
              "\t<tr><td>Austria  </td><td>Europe               </td></tr>\n",
              "\t<tr><td>Belgium  </td><td>Europe               </td></tr>\n",
              "\t<tr><td>Canada   </td><td>North America        </td></tr>\n",
              "\t<tr><td>Chile    </td><td>South/Central America</td></tr>\n",
              "\t<tr><td>Colombia </td><td>South/Central America</td></tr>\n",
              "</tbody>\n",
              "</table>\n"
            ]
          },
          "metadata": {
            "tags": []
          }
        }
      ]
    },
    {
      "cell_type": "markdown",
      "metadata": {
        "id": "BONCN2IrerNw"
      },
      "source": [
        "\r\n",
        "\r\n",
        "---\r\n",
        "\r\n"
      ]
    },
    {
      "cell_type": "markdown",
      "metadata": {
        "id": "Vlp7AClLedXC"
      },
      "source": [
        "<strong>Question:</strong>\r\n",
        "\r\n",
        "1.   How many rows are in the mysubset dataframe?\r\n",
        "\r\n"
      ]
    },
    {
      "cell_type": "markdown",
      "metadata": {
        "id": "nSTTqkNOesbI"
      },
      "source": [
        "\r\n",
        "\r\n",
        "---\r\n",
        "\r\n"
      ]
    },
    {
      "cell_type": "markdown",
      "metadata": {
        "id": "XzblRsoDSijI"
      },
      "source": [
        "The following syntax is used to get all columns <strong>except</strong> WorldRegion.  Note that this syntax did *not* work in base R."
      ]
    },
    {
      "cell_type": "code",
      "metadata": {
        "colab": {
          "base_uri": "https://localhost:8080/",
          "height": 274
        },
        "id": "bD4XDPjeSir4",
        "outputId": "161d7dca-905a-4a68-c40a-6dcb04bde8df"
      },
      "source": [
        "(\r\n",
        "  EmploymentRates\r\n",
        "  %>% select(-WorldRegion)\r\n",
        ") -> mysubset\r\n",
        "\r\n",
        "head(mysubset)"
      ],
      "execution_count": 40,
      "outputs": [
        {
          "output_type": "display_data",
          "data": {
            "text/plain": [
              "  Country   Q1_Year1 Q2_Year1 Q3_Year1 Q4_Year1 Q1_Year2 Q2_Year2 Q3_Year2\n",
              "1 Australia 73.7     73.6     73.7     74.0     74.1     74.2     74.4    \n",
              "2 Austria   72.8     73.1     73.1     73.1     73.5     73.6     73.5    \n",
              "3 Belgium   64.1     63.9     64.8     65.1     64.7     65.7     65.6    \n",
              "4 Canada    73.4     73.4     73.6     73.8     73.9     74.2     74.2    \n",
              "5 Chile     64.3     64.3     63.7     64.0     63.8     64.2     64.4    \n",
              "6 Colombia  66.3     66.6     66.9     65.7     65.9     65.1     65.1    \n",
              "  Q4_Year2 Q1_Year3 Q2_Year3 Q3_Year3 Q4_Year3\n",
              "1 74.4     74.6     70.5     72.0     73.5    \n",
              "2 73.6     73.2     71.4     72.7       NA    \n",
              "3 65.1     65.3     64.5     64.9       NA    \n",
              "4 74.1     73.0     64.7     70.2     72.0    \n",
              "5 63.9     63.3     51.2     52.6     56.3    \n",
              "6 64.9     63.4     50.5     56.4     59.8    "
            ],
            "text/latex": "A tibble: 6 × 13\n\\begin{tabular}{lllllllllllll}\n Country & Q1\\_Year1 & Q2\\_Year1 & Q3\\_Year1 & Q4\\_Year1 & Q1\\_Year2 & Q2\\_Year2 & Q3\\_Year2 & Q4\\_Year2 & Q1\\_Year3 & Q2\\_Year3 & Q3\\_Year3 & Q4\\_Year3\\\\\n <chr> & <dbl> & <dbl> & <dbl> & <dbl> & <dbl> & <dbl> & <dbl> & <dbl> & <dbl> & <dbl> & <dbl> & <dbl>\\\\\n\\hline\n\t Australia & 73.7 & 73.6 & 73.7 & 74.0 & 74.1 & 74.2 & 74.4 & 74.4 & 74.6 & 70.5 & 72.0 & 73.5\\\\\n\t Austria   & 72.8 & 73.1 & 73.1 & 73.1 & 73.5 & 73.6 & 73.5 & 73.6 & 73.2 & 71.4 & 72.7 &   NA\\\\\n\t Belgium   & 64.1 & 63.9 & 64.8 & 65.1 & 64.7 & 65.7 & 65.6 & 65.1 & 65.3 & 64.5 & 64.9 &   NA\\\\\n\t Canada    & 73.4 & 73.4 & 73.6 & 73.8 & 73.9 & 74.2 & 74.2 & 74.1 & 73.0 & 64.7 & 70.2 & 72.0\\\\\n\t Chile     & 64.3 & 64.3 & 63.7 & 64.0 & 63.8 & 64.2 & 64.4 & 63.9 & 63.3 & 51.2 & 52.6 & 56.3\\\\\n\t Colombia  & 66.3 & 66.6 & 66.9 & 65.7 & 65.9 & 65.1 & 65.1 & 64.9 & 63.4 & 50.5 & 56.4 & 59.8\\\\\n\\end{tabular}\n",
            "text/markdown": "\nA tibble: 6 × 13\n\n| Country &lt;chr&gt; | Q1_Year1 &lt;dbl&gt; | Q2_Year1 &lt;dbl&gt; | Q3_Year1 &lt;dbl&gt; | Q4_Year1 &lt;dbl&gt; | Q1_Year2 &lt;dbl&gt; | Q2_Year2 &lt;dbl&gt; | Q3_Year2 &lt;dbl&gt; | Q4_Year2 &lt;dbl&gt; | Q1_Year3 &lt;dbl&gt; | Q2_Year3 &lt;dbl&gt; | Q3_Year3 &lt;dbl&gt; | Q4_Year3 &lt;dbl&gt; |\n|---|---|---|---|---|---|---|---|---|---|---|---|---|\n| Australia | 73.7 | 73.6 | 73.7 | 74.0 | 74.1 | 74.2 | 74.4 | 74.4 | 74.6 | 70.5 | 72.0 | 73.5 |\n| Austria   | 72.8 | 73.1 | 73.1 | 73.1 | 73.5 | 73.6 | 73.5 | 73.6 | 73.2 | 71.4 | 72.7 |   NA |\n| Belgium   | 64.1 | 63.9 | 64.8 | 65.1 | 64.7 | 65.7 | 65.6 | 65.1 | 65.3 | 64.5 | 64.9 |   NA |\n| Canada    | 73.4 | 73.4 | 73.6 | 73.8 | 73.9 | 74.2 | 74.2 | 74.1 | 73.0 | 64.7 | 70.2 | 72.0 |\n| Chile     | 64.3 | 64.3 | 63.7 | 64.0 | 63.8 | 64.2 | 64.4 | 63.9 | 63.3 | 51.2 | 52.6 | 56.3 |\n| Colombia  | 66.3 | 66.6 | 66.9 | 65.7 | 65.9 | 65.1 | 65.1 | 64.9 | 63.4 | 50.5 | 56.4 | 59.8 |\n\n",
            "text/html": [
              "<table class=\"dataframe\">\n",
              "<caption>A tibble: 6 × 13</caption>\n",
              "<thead>\n",
              "\t<tr><th scope=col>Country</th><th scope=col>Q1_Year1</th><th scope=col>Q2_Year1</th><th scope=col>Q3_Year1</th><th scope=col>Q4_Year1</th><th scope=col>Q1_Year2</th><th scope=col>Q2_Year2</th><th scope=col>Q3_Year2</th><th scope=col>Q4_Year2</th><th scope=col>Q1_Year3</th><th scope=col>Q2_Year3</th><th scope=col>Q3_Year3</th><th scope=col>Q4_Year3</th></tr>\n",
              "\t<tr><th scope=col>&lt;chr&gt;</th><th scope=col>&lt;dbl&gt;</th><th scope=col>&lt;dbl&gt;</th><th scope=col>&lt;dbl&gt;</th><th scope=col>&lt;dbl&gt;</th><th scope=col>&lt;dbl&gt;</th><th scope=col>&lt;dbl&gt;</th><th scope=col>&lt;dbl&gt;</th><th scope=col>&lt;dbl&gt;</th><th scope=col>&lt;dbl&gt;</th><th scope=col>&lt;dbl&gt;</th><th scope=col>&lt;dbl&gt;</th><th scope=col>&lt;dbl&gt;</th></tr>\n",
              "</thead>\n",
              "<tbody>\n",
              "\t<tr><td>Australia</td><td>73.7</td><td>73.6</td><td>73.7</td><td>74.0</td><td>74.1</td><td>74.2</td><td>74.4</td><td>74.4</td><td>74.6</td><td>70.5</td><td>72.0</td><td>73.5</td></tr>\n",
              "\t<tr><td>Austria  </td><td>72.8</td><td>73.1</td><td>73.1</td><td>73.1</td><td>73.5</td><td>73.6</td><td>73.5</td><td>73.6</td><td>73.2</td><td>71.4</td><td>72.7</td><td>  NA</td></tr>\n",
              "\t<tr><td>Belgium  </td><td>64.1</td><td>63.9</td><td>64.8</td><td>65.1</td><td>64.7</td><td>65.7</td><td>65.6</td><td>65.1</td><td>65.3</td><td>64.5</td><td>64.9</td><td>  NA</td></tr>\n",
              "\t<tr><td>Canada   </td><td>73.4</td><td>73.4</td><td>73.6</td><td>73.8</td><td>73.9</td><td>74.2</td><td>74.2</td><td>74.1</td><td>73.0</td><td>64.7</td><td>70.2</td><td>72.0</td></tr>\n",
              "\t<tr><td>Chile    </td><td>64.3</td><td>64.3</td><td>63.7</td><td>64.0</td><td>63.8</td><td>64.2</td><td>64.4</td><td>63.9</td><td>63.3</td><td>51.2</td><td>52.6</td><td>56.3</td></tr>\n",
              "\t<tr><td>Colombia </td><td>66.3</td><td>66.6</td><td>66.9</td><td>65.7</td><td>65.9</td><td>65.1</td><td>65.1</td><td>64.9</td><td>63.4</td><td>50.5</td><td>56.4</td><td>59.8</td></tr>\n",
              "</tbody>\n",
              "</table>\n"
            ]
          },
          "metadata": {
            "tags": []
          }
        }
      ]
    },
    {
      "cell_type": "markdown",
      "metadata": {
        "id": "6b2km9YxSsn_"
      },
      "source": [
        "The following variation will exclude the first two columns of the EmployementRates dataframe."
      ]
    },
    {
      "cell_type": "code",
      "metadata": {
        "colab": {
          "base_uri": "https://localhost:8080/",
          "height": 274
        },
        "id": "PvYMlT42SswI",
        "outputId": "4ed282d6-6503-4ab9-98bc-07dc7a226b91"
      },
      "source": [
        "(\r\n",
        "  EmploymentRates\r\n",
        "  %>% select(-c(Country,WorldRegion))\r\n",
        ") -> mysubset\r\n",
        "\r\n",
        "head(mysubset)"
      ],
      "execution_count": 41,
      "outputs": [
        {
          "output_type": "display_data",
          "data": {
            "text/plain": [
              "  Q1_Year1 Q2_Year1 Q3_Year1 Q4_Year1 Q1_Year2 Q2_Year2 Q3_Year2 Q4_Year2\n",
              "1 73.7     73.6     73.7     74.0     74.1     74.2     74.4     74.4    \n",
              "2 72.8     73.1     73.1     73.1     73.5     73.6     73.5     73.6    \n",
              "3 64.1     63.9     64.8     65.1     64.7     65.7     65.6     65.1    \n",
              "4 73.4     73.4     73.6     73.8     73.9     74.2     74.2     74.1    \n",
              "5 64.3     64.3     63.7     64.0     63.8     64.2     64.4     63.9    \n",
              "6 66.3     66.6     66.9     65.7     65.9     65.1     65.1     64.9    \n",
              "  Q1_Year3 Q2_Year3 Q3_Year3 Q4_Year3\n",
              "1 74.6     70.5     72.0     73.5    \n",
              "2 73.2     71.4     72.7       NA    \n",
              "3 65.3     64.5     64.9       NA    \n",
              "4 73.0     64.7     70.2     72.0    \n",
              "5 63.3     51.2     52.6     56.3    \n",
              "6 63.4     50.5     56.4     59.8    "
            ],
            "text/latex": "A tibble: 6 × 12\n\\begin{tabular}{llllllllllll}\n Q1\\_Year1 & Q2\\_Year1 & Q3\\_Year1 & Q4\\_Year1 & Q1\\_Year2 & Q2\\_Year2 & Q3\\_Year2 & Q4\\_Year2 & Q1\\_Year3 & Q2\\_Year3 & Q3\\_Year3 & Q4\\_Year3\\\\\n <dbl> & <dbl> & <dbl> & <dbl> & <dbl> & <dbl> & <dbl> & <dbl> & <dbl> & <dbl> & <dbl> & <dbl>\\\\\n\\hline\n\t 73.7 & 73.6 & 73.7 & 74.0 & 74.1 & 74.2 & 74.4 & 74.4 & 74.6 & 70.5 & 72.0 & 73.5\\\\\n\t 72.8 & 73.1 & 73.1 & 73.1 & 73.5 & 73.6 & 73.5 & 73.6 & 73.2 & 71.4 & 72.7 &   NA\\\\\n\t 64.1 & 63.9 & 64.8 & 65.1 & 64.7 & 65.7 & 65.6 & 65.1 & 65.3 & 64.5 & 64.9 &   NA\\\\\n\t 73.4 & 73.4 & 73.6 & 73.8 & 73.9 & 74.2 & 74.2 & 74.1 & 73.0 & 64.7 & 70.2 & 72.0\\\\\n\t 64.3 & 64.3 & 63.7 & 64.0 & 63.8 & 64.2 & 64.4 & 63.9 & 63.3 & 51.2 & 52.6 & 56.3\\\\\n\t 66.3 & 66.6 & 66.9 & 65.7 & 65.9 & 65.1 & 65.1 & 64.9 & 63.4 & 50.5 & 56.4 & 59.8\\\\\n\\end{tabular}\n",
            "text/markdown": "\nA tibble: 6 × 12\n\n| Q1_Year1 &lt;dbl&gt; | Q2_Year1 &lt;dbl&gt; | Q3_Year1 &lt;dbl&gt; | Q4_Year1 &lt;dbl&gt; | Q1_Year2 &lt;dbl&gt; | Q2_Year2 &lt;dbl&gt; | Q3_Year2 &lt;dbl&gt; | Q4_Year2 &lt;dbl&gt; | Q1_Year3 &lt;dbl&gt; | Q2_Year3 &lt;dbl&gt; | Q3_Year3 &lt;dbl&gt; | Q4_Year3 &lt;dbl&gt; |\n|---|---|---|---|---|---|---|---|---|---|---|---|\n| 73.7 | 73.6 | 73.7 | 74.0 | 74.1 | 74.2 | 74.4 | 74.4 | 74.6 | 70.5 | 72.0 | 73.5 |\n| 72.8 | 73.1 | 73.1 | 73.1 | 73.5 | 73.6 | 73.5 | 73.6 | 73.2 | 71.4 | 72.7 |   NA |\n| 64.1 | 63.9 | 64.8 | 65.1 | 64.7 | 65.7 | 65.6 | 65.1 | 65.3 | 64.5 | 64.9 |   NA |\n| 73.4 | 73.4 | 73.6 | 73.8 | 73.9 | 74.2 | 74.2 | 74.1 | 73.0 | 64.7 | 70.2 | 72.0 |\n| 64.3 | 64.3 | 63.7 | 64.0 | 63.8 | 64.2 | 64.4 | 63.9 | 63.3 | 51.2 | 52.6 | 56.3 |\n| 66.3 | 66.6 | 66.9 | 65.7 | 65.9 | 65.1 | 65.1 | 64.9 | 63.4 | 50.5 | 56.4 | 59.8 |\n\n",
            "text/html": [
              "<table class=\"dataframe\">\n",
              "<caption>A tibble: 6 × 12</caption>\n",
              "<thead>\n",
              "\t<tr><th scope=col>Q1_Year1</th><th scope=col>Q2_Year1</th><th scope=col>Q3_Year1</th><th scope=col>Q4_Year1</th><th scope=col>Q1_Year2</th><th scope=col>Q2_Year2</th><th scope=col>Q3_Year2</th><th scope=col>Q4_Year2</th><th scope=col>Q1_Year3</th><th scope=col>Q2_Year3</th><th scope=col>Q3_Year3</th><th scope=col>Q4_Year3</th></tr>\n",
              "\t<tr><th scope=col>&lt;dbl&gt;</th><th scope=col>&lt;dbl&gt;</th><th scope=col>&lt;dbl&gt;</th><th scope=col>&lt;dbl&gt;</th><th scope=col>&lt;dbl&gt;</th><th scope=col>&lt;dbl&gt;</th><th scope=col>&lt;dbl&gt;</th><th scope=col>&lt;dbl&gt;</th><th scope=col>&lt;dbl&gt;</th><th scope=col>&lt;dbl&gt;</th><th scope=col>&lt;dbl&gt;</th><th scope=col>&lt;dbl&gt;</th></tr>\n",
              "</thead>\n",
              "<tbody>\n",
              "\t<tr><td>73.7</td><td>73.6</td><td>73.7</td><td>74.0</td><td>74.1</td><td>74.2</td><td>74.4</td><td>74.4</td><td>74.6</td><td>70.5</td><td>72.0</td><td>73.5</td></tr>\n",
              "\t<tr><td>72.8</td><td>73.1</td><td>73.1</td><td>73.1</td><td>73.5</td><td>73.6</td><td>73.5</td><td>73.6</td><td>73.2</td><td>71.4</td><td>72.7</td><td>  NA</td></tr>\n",
              "\t<tr><td>64.1</td><td>63.9</td><td>64.8</td><td>65.1</td><td>64.7</td><td>65.7</td><td>65.6</td><td>65.1</td><td>65.3</td><td>64.5</td><td>64.9</td><td>  NA</td></tr>\n",
              "\t<tr><td>73.4</td><td>73.4</td><td>73.6</td><td>73.8</td><td>73.9</td><td>74.2</td><td>74.2</td><td>74.1</td><td>73.0</td><td>64.7</td><td>70.2</td><td>72.0</td></tr>\n",
              "\t<tr><td>64.3</td><td>64.3</td><td>63.7</td><td>64.0</td><td>63.8</td><td>64.2</td><td>64.4</td><td>63.9</td><td>63.3</td><td>51.2</td><td>52.6</td><td>56.3</td></tr>\n",
              "\t<tr><td>66.3</td><td>66.6</td><td>66.9</td><td>65.7</td><td>65.9</td><td>65.1</td><td>65.1</td><td>64.9</td><td>63.4</td><td>50.5</td><td>56.4</td><td>59.8</td></tr>\n",
              "</tbody>\n",
              "</table>\n"
            ]
          },
          "metadata": {
            "tags": []
          }
        }
      ]
    },
    {
      "cell_type": "markdown",
      "metadata": {
        "id": "a8KY7KjUSEZJ"
      },
      "source": [
        "There are certain <strong>helper</strong> functions that may be useful.  These functions naturally work with wildcards when searching.\r\n",
        "\r\n",
        "\r\n",
        "*   starts_with() can be used to pull columns that start with a particular string\r\n",
        "*   contains() can be used to pull columns that contain a particular string\r\n",
        "\r\n"
      ]
    },
    {
      "cell_type": "markdown",
      "metadata": {
        "id": "T8Yap_XNfmZA"
      },
      "source": [
        "Using the starts_with() function to select fields that starts with \"Q1\"."
      ]
    },
    {
      "cell_type": "code",
      "metadata": {
        "id": "wXds7GuffGhh"
      },
      "source": [
        "(\r\n",
        "  EmploymentRates\r\n",
        "  %>% select(Country,WorldRegion,starts_with(\"Q1\"))\r\n",
        ") -> mysubset\r\n",
        "\r\n",
        "head(mysubset)"
      ],
      "execution_count": null,
      "outputs": []
    },
    {
      "cell_type": "markdown",
      "metadata": {
        "id": "qlWd3uBQfwyy"
      },
      "source": [
        "Next, getting all columns that contains \"Year1\"."
      ]
    },
    {
      "cell_type": "code",
      "metadata": {
        "colab": {
          "base_uri": "https://localhost:8080/",
          "height": 274
        },
        "id": "HLaVmshzSEfH",
        "outputId": "80a8fb74-1bbe-4d14-bd89-4353ec646521"
      },
      "source": [
        "(\r\n",
        "  EmploymentRates\r\n",
        "  %>% select(Country,WorldRegion,contains(\"Year1\"))\r\n",
        ") -> mysubset\r\n",
        "\r\n",
        "head(mysubset)"
      ],
      "execution_count": 59,
      "outputs": [
        {
          "output_type": "display_data",
          "data": {
            "text/plain": [
              "  Country   WorldRegion           Q1_Year1 Q2_Year1 Q3_Year1 Q4_Year1\n",
              "1 Australia Oceania               73.7     73.6     73.7     74.0    \n",
              "2 Austria   Europe                72.8     73.1     73.1     73.1    \n",
              "3 Belgium   Europe                64.1     63.9     64.8     65.1    \n",
              "4 Canada    North America         73.4     73.4     73.6     73.8    \n",
              "5 Chile     South/Central America 64.3     64.3     63.7     64.0    \n",
              "6 Colombia  South/Central America 66.3     66.6     66.9     65.7    "
            ],
            "text/latex": "A tibble: 6 × 6\n\\begin{tabular}{llllll}\n Country & WorldRegion & Q1\\_Year1 & Q2\\_Year1 & Q3\\_Year1 & Q4\\_Year1\\\\\n <chr> & <chr> & <dbl> & <dbl> & <dbl> & <dbl>\\\\\n\\hline\n\t Australia & Oceania               & 73.7 & 73.6 & 73.7 & 74.0\\\\\n\t Austria   & Europe                & 72.8 & 73.1 & 73.1 & 73.1\\\\\n\t Belgium   & Europe                & 64.1 & 63.9 & 64.8 & 65.1\\\\\n\t Canada    & North America         & 73.4 & 73.4 & 73.6 & 73.8\\\\\n\t Chile     & South/Central America & 64.3 & 64.3 & 63.7 & 64.0\\\\\n\t Colombia  & South/Central America & 66.3 & 66.6 & 66.9 & 65.7\\\\\n\\end{tabular}\n",
            "text/markdown": "\nA tibble: 6 × 6\n\n| Country &lt;chr&gt; | WorldRegion &lt;chr&gt; | Q1_Year1 &lt;dbl&gt; | Q2_Year1 &lt;dbl&gt; | Q3_Year1 &lt;dbl&gt; | Q4_Year1 &lt;dbl&gt; |\n|---|---|---|---|---|---|\n| Australia | Oceania               | 73.7 | 73.6 | 73.7 | 74.0 |\n| Austria   | Europe                | 72.8 | 73.1 | 73.1 | 73.1 |\n| Belgium   | Europe                | 64.1 | 63.9 | 64.8 | 65.1 |\n| Canada    | North America         | 73.4 | 73.4 | 73.6 | 73.8 |\n| Chile     | South/Central America | 64.3 | 64.3 | 63.7 | 64.0 |\n| Colombia  | South/Central America | 66.3 | 66.6 | 66.9 | 65.7 |\n\n",
            "text/html": [
              "<table class=\"dataframe\">\n",
              "<caption>A tibble: 6 × 6</caption>\n",
              "<thead>\n",
              "\t<tr><th scope=col>Country</th><th scope=col>WorldRegion</th><th scope=col>Q1_Year1</th><th scope=col>Q2_Year1</th><th scope=col>Q3_Year1</th><th scope=col>Q4_Year1</th></tr>\n",
              "\t<tr><th scope=col>&lt;chr&gt;</th><th scope=col>&lt;chr&gt;</th><th scope=col>&lt;dbl&gt;</th><th scope=col>&lt;dbl&gt;</th><th scope=col>&lt;dbl&gt;</th><th scope=col>&lt;dbl&gt;</th></tr>\n",
              "</thead>\n",
              "<tbody>\n",
              "\t<tr><td>Australia</td><td>Oceania              </td><td>73.7</td><td>73.6</td><td>73.7</td><td>74.0</td></tr>\n",
              "\t<tr><td>Austria  </td><td>Europe               </td><td>72.8</td><td>73.1</td><td>73.1</td><td>73.1</td></tr>\n",
              "\t<tr><td>Belgium  </td><td>Europe               </td><td>64.1</td><td>63.9</td><td>64.8</td><td>65.1</td></tr>\n",
              "\t<tr><td>Canada   </td><td>North America        </td><td>73.4</td><td>73.4</td><td>73.6</td><td>73.8</td></tr>\n",
              "\t<tr><td>Chile    </td><td>South/Central America</td><td>64.3</td><td>64.3</td><td>63.7</td><td>64.0</td></tr>\n",
              "\t<tr><td>Colombia </td><td>South/Central America</td><td>66.3</td><td>66.6</td><td>66.9</td><td>65.7</td></tr>\n",
              "</tbody>\n",
              "</table>\n"
            ]
          },
          "metadata": {
            "tags": []
          }
        }
      ]
    },
    {
      "cell_type": "markdown",
      "metadata": {
        "id": "ATlLsyZ3SOzZ"
      },
      "source": [
        "From my understanding, contains() is not able to handle logical OR statements. In this case, the <strong>matches()</strong> function can be used in place of contains."
      ]
    },
    {
      "cell_type": "code",
      "metadata": {
        "colab": {
          "base_uri": "https://localhost:8080/",
          "height": 274
        },
        "id": "dNwZl1-bSO63",
        "outputId": "62b5da58-5869-45a8-c120-41d69c8e1aeb"
      },
      "source": [
        "(\r\n",
        "  EmploymentRates\r\n",
        "  %>% select(Country,WorldRegion,matches(\"Year1|Year2\"))\r\n",
        ") -> mysubset\r\n",
        "\r\n",
        "head(mysubset)"
      ],
      "execution_count": 60,
      "outputs": [
        {
          "output_type": "display_data",
          "data": {
            "text/plain": [
              "  Country   WorldRegion           Q1_Year1 Q2_Year1 Q3_Year1 Q4_Year1 Q1_Year2\n",
              "1 Australia Oceania               73.7     73.6     73.7     74.0     74.1    \n",
              "2 Austria   Europe                72.8     73.1     73.1     73.1     73.5    \n",
              "3 Belgium   Europe                64.1     63.9     64.8     65.1     64.7    \n",
              "4 Canada    North America         73.4     73.4     73.6     73.8     73.9    \n",
              "5 Chile     South/Central America 64.3     64.3     63.7     64.0     63.8    \n",
              "6 Colombia  South/Central America 66.3     66.6     66.9     65.7     65.9    \n",
              "  Q2_Year2 Q3_Year2 Q4_Year2\n",
              "1 74.2     74.4     74.4    \n",
              "2 73.6     73.5     73.6    \n",
              "3 65.7     65.6     65.1    \n",
              "4 74.2     74.2     74.1    \n",
              "5 64.2     64.4     63.9    \n",
              "6 65.1     65.1     64.9    "
            ],
            "text/latex": "A tibble: 6 × 10\n\\begin{tabular}{llllllllll}\n Country & WorldRegion & Q1\\_Year1 & Q2\\_Year1 & Q3\\_Year1 & Q4\\_Year1 & Q1\\_Year2 & Q2\\_Year2 & Q3\\_Year2 & Q4\\_Year2\\\\\n <chr> & <chr> & <dbl> & <dbl> & <dbl> & <dbl> & <dbl> & <dbl> & <dbl> & <dbl>\\\\\n\\hline\n\t Australia & Oceania               & 73.7 & 73.6 & 73.7 & 74.0 & 74.1 & 74.2 & 74.4 & 74.4\\\\\n\t Austria   & Europe                & 72.8 & 73.1 & 73.1 & 73.1 & 73.5 & 73.6 & 73.5 & 73.6\\\\\n\t Belgium   & Europe                & 64.1 & 63.9 & 64.8 & 65.1 & 64.7 & 65.7 & 65.6 & 65.1\\\\\n\t Canada    & North America         & 73.4 & 73.4 & 73.6 & 73.8 & 73.9 & 74.2 & 74.2 & 74.1\\\\\n\t Chile     & South/Central America & 64.3 & 64.3 & 63.7 & 64.0 & 63.8 & 64.2 & 64.4 & 63.9\\\\\n\t Colombia  & South/Central America & 66.3 & 66.6 & 66.9 & 65.7 & 65.9 & 65.1 & 65.1 & 64.9\\\\\n\\end{tabular}\n",
            "text/markdown": "\nA tibble: 6 × 10\n\n| Country &lt;chr&gt; | WorldRegion &lt;chr&gt; | Q1_Year1 &lt;dbl&gt; | Q2_Year1 &lt;dbl&gt; | Q3_Year1 &lt;dbl&gt; | Q4_Year1 &lt;dbl&gt; | Q1_Year2 &lt;dbl&gt; | Q2_Year2 &lt;dbl&gt; | Q3_Year2 &lt;dbl&gt; | Q4_Year2 &lt;dbl&gt; |\n|---|---|---|---|---|---|---|---|---|---|\n| Australia | Oceania               | 73.7 | 73.6 | 73.7 | 74.0 | 74.1 | 74.2 | 74.4 | 74.4 |\n| Austria   | Europe                | 72.8 | 73.1 | 73.1 | 73.1 | 73.5 | 73.6 | 73.5 | 73.6 |\n| Belgium   | Europe                | 64.1 | 63.9 | 64.8 | 65.1 | 64.7 | 65.7 | 65.6 | 65.1 |\n| Canada    | North America         | 73.4 | 73.4 | 73.6 | 73.8 | 73.9 | 74.2 | 74.2 | 74.1 |\n| Chile     | South/Central America | 64.3 | 64.3 | 63.7 | 64.0 | 63.8 | 64.2 | 64.4 | 63.9 |\n| Colombia  | South/Central America | 66.3 | 66.6 | 66.9 | 65.7 | 65.9 | 65.1 | 65.1 | 64.9 |\n\n",
            "text/html": [
              "<table class=\"dataframe\">\n",
              "<caption>A tibble: 6 × 10</caption>\n",
              "<thead>\n",
              "\t<tr><th scope=col>Country</th><th scope=col>WorldRegion</th><th scope=col>Q1_Year1</th><th scope=col>Q2_Year1</th><th scope=col>Q3_Year1</th><th scope=col>Q4_Year1</th><th scope=col>Q1_Year2</th><th scope=col>Q2_Year2</th><th scope=col>Q3_Year2</th><th scope=col>Q4_Year2</th></tr>\n",
              "\t<tr><th scope=col>&lt;chr&gt;</th><th scope=col>&lt;chr&gt;</th><th scope=col>&lt;dbl&gt;</th><th scope=col>&lt;dbl&gt;</th><th scope=col>&lt;dbl&gt;</th><th scope=col>&lt;dbl&gt;</th><th scope=col>&lt;dbl&gt;</th><th scope=col>&lt;dbl&gt;</th><th scope=col>&lt;dbl&gt;</th><th scope=col>&lt;dbl&gt;</th></tr>\n",
              "</thead>\n",
              "<tbody>\n",
              "\t<tr><td>Australia</td><td>Oceania              </td><td>73.7</td><td>73.6</td><td>73.7</td><td>74.0</td><td>74.1</td><td>74.2</td><td>74.4</td><td>74.4</td></tr>\n",
              "\t<tr><td>Austria  </td><td>Europe               </td><td>72.8</td><td>73.1</td><td>73.1</td><td>73.1</td><td>73.5</td><td>73.6</td><td>73.5</td><td>73.6</td></tr>\n",
              "\t<tr><td>Belgium  </td><td>Europe               </td><td>64.1</td><td>63.9</td><td>64.8</td><td>65.1</td><td>64.7</td><td>65.7</td><td>65.6</td><td>65.1</td></tr>\n",
              "\t<tr><td>Canada   </td><td>North America        </td><td>73.4</td><td>73.4</td><td>73.6</td><td>73.8</td><td>73.9</td><td>74.2</td><td>74.2</td><td>74.1</td></tr>\n",
              "\t<tr><td>Chile    </td><td>South/Central America</td><td>64.3</td><td>64.3</td><td>63.7</td><td>64.0</td><td>63.8</td><td>64.2</td><td>64.4</td><td>63.9</td></tr>\n",
              "\t<tr><td>Colombia </td><td>South/Central America</td><td>66.3</td><td>66.6</td><td>66.9</td><td>65.7</td><td>65.9</td><td>65.1</td><td>65.1</td><td>64.9</td></tr>\n",
              "</tbody>\n",
              "</table>\n"
            ]
          },
          "metadata": {
            "tags": []
          }
        }
      ]
    }
  ]
}