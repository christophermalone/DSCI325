{
  "nbformat": 4,
  "nbformat_minor": 0,
  "metadata": {
    "colab": {
      "name": "Module1_Part4.ipynb",
      "provenance": [],
      "collapsed_sections": [],
      "toc_visible": true,
      "authorship_tag": "ABX9TyMBKaPWmA9qKFFVevnA5zTx",
      "include_colab_link": true
    },
    "kernelspec": {
      "name": "ir",
      "display_name": "R"
    }
  },
  "cells": [
    {
      "cell_type": "markdown",
      "metadata": {
        "id": "view-in-github",
        "colab_type": "text"
      },
      "source": [
        "<a href=\"https://colab.research.google.com/github/christophermalone/DSCI325/blob/main/Module1_Part4.ipynb\" target=\"_parent\"><img src=\"https://colab.research.google.com/assets/colab-badge.svg\" alt=\"Open In Colab\"/></a>"
      ]
    },
    {
      "cell_type": "markdown",
      "metadata": {
        "id": "KhClO9b02SXA"
      },
      "source": [
        "# Module 1 | Part 4: Using the download.file() Function in R "
      ]
    },
    {
      "cell_type": "markdown",
      "metadata": {
        "id": "njXGRUIC9Lgs"
      },
      "source": [
        "As seen previously, a data file can be directly read into R via a URL.  That is, the read.csv() function allows for the use of a URL.  R also has the ability to do some basic file management tasks.  In Module 1 | Part 4, the download.file() function will be used to download a dataset that has been zipped to reduce its overall size.\r\n",
        "\r\n",
        "The following steps are necessary\r\n",
        "\r\n",
        "1.   Use download.file() to download a zipped dataset\r\n",
        "2.   Unzip the file so that its contents are accessible\r\n",
        "3.   Read the data file into R\r\n"
      ]
    },
    {
      "cell_type": "markdown",
      "metadata": {
        "id": "DTpb86r69_Lv"
      },
      "source": [
        "<table width='100%' ><tr><td bgcolor='green'></td></tr></table>\r\n",
        "\r\n",
        "### Example 1.4.1\r\n",
        "\r\n",
        "Consider information about Postal Codes for this example. This information can be found on the Geonames.org website and their website contains information about postal codes for many countries around the world. This example will focus on zipcodes in the United States will be used here.  \r\n",
        "\r\n",
        "<i>Geonames.org Website</i>: [Link](http://download.geonames.org/)\r\n",
        "\r\n",
        "<i>Link for US.zip file</i>: http://download.geonames.org/export/zip/US.zip\r\n"
      ]
    },
    {
      "cell_type": "markdown",
      "metadata": {
        "id": "tAg016SeCNZS"
      },
      "source": [
        "<table width='100%' ><tr><td bgcolor='green'></td></tr></table>"
      ]
    },
    {
      "cell_type": "markdown",
      "metadata": {
        "id": "kzLE9xOPKwdp"
      },
      "source": [
        "### Using the download.file() function"
      ]
    },
    {
      "cell_type": "markdown",
      "metadata": {
        "id": "8V3Ft1xeK9YL"
      },
      "source": [
        "The file to be downloaded for this example is a zipped file.  Therefore, a temporary directory will be created to hold the zipped file.  Also, a temporary file must first be created which is used to name the file to be downloaded. The tempfile() function is "
      ]
    },
    {
      "cell_type": "code",
      "metadata": {
        "id": "-ZOiXy0e4z2O"
      },
      "source": [
        "#Creating a temporary directory for download\r\n",
        "Zipcode_Directory <- tempdir()"
      ],
      "execution_count": 29,
      "outputs": []
    },
    {
      "cell_type": "code",
      "metadata": {
        "colab": {
          "base_uri": "https://localhost:8080/",
          "height": 135
        },
        "id": "3TVKoSl97Oj0",
        "outputId": "2e0ccd26-907d-47ac-ac7f-6724c30b8b5a"
      },
      "source": [
        "#The file.info() function provides information regarding this temporary directory\r\n",
        "file.info(Zipcode_Directory)"
      ],
      "execution_count": 26,
      "outputs": [
        {
          "output_type": "error",
          "ename": "ERROR",
          "evalue": "ignored",
          "traceback": [
            "Error in file.info(Zipcode_Directory): invalid filename argument\nTraceback:\n",
            "1. file.info(Zipcode_Directory)"
          ]
        }
      ]
    },
    {
      "cell_type": "code",
      "metadata": {
        "id": "hrvM6lcT7oq-"
      },
      "source": [
        "#Creating a temporary file \r\n",
        "ZipCode_File <-tempfile()"
      ],
      "execution_count": 15,
      "outputs": []
    },
    {
      "cell_type": "code",
      "metadata": {
        "id": "_35efCrA8Q8d"
      },
      "source": [
        "#Downlaod the file, happens to be a zip file thus must be unpacked\r\n",
        "download.file(url=\"http://download.geonames.org/export/zip/US.zip\", destfile=ZipCode_File)"
      ],
      "execution_count": 17,
      "outputs": []
    },
    {
      "cell_type": "markdown",
      "metadata": {
        "id": "s3Uoajb0-E81"
      },
      "source": [
        "dadf"
      ]
    },
    {
      "cell_type": "code",
      "metadata": {
        "id": "wITqySFV-GBa"
      },
      "source": [
        "#Unzip the file\r\n",
        "unzip(ZipCode_File, exdir=Zipcode_Directory)\r\n"
      ],
      "execution_count": 18,
      "outputs": []
    },
    {
      "cell_type": "code",
      "metadata": {
        "colab": {
          "base_uri": "https://localhost:8080/",
          "height": 189
        },
        "id": "PJWOoXB4-RsY",
        "outputId": "4e668b66-3c33-4a1b-f1e8-da3b5165ae64"
      },
      "source": [
        "mydata <- read.table(\"Zipcode_Directory/US.txt\", header=FALSE)"
      ],
      "execution_count": 24,
      "outputs": [
        {
          "output_type": "stream",
          "text": [
            "Warning message in file(file, \"rt\"):\n",
            "“cannot open file 'Zipcode_Directory/US.txt': No such file or directory”\n"
          ],
          "name": "stderr"
        },
        {
          "output_type": "error",
          "ename": "ERROR",
          "evalue": "ignored",
          "traceback": [
            "Error in file(file, \"rt\"): cannot open the connection\nTraceback:\n",
            "1. read.table(\"Zipcode_Directory/US.txt\", header = FALSE)",
            "2. file(file, \"rt\")"
          ]
        }
      ]
    },
    {
      "cell_type": "code",
      "metadata": {
        "colab": {
          "base_uri": "https://localhost:8080/"
        },
        "id": "PlJhfbnzDE8s",
        "outputId": "76ef2aa8-9af5-4095-ba96-07035b8850f4"
      },
      "source": [
        "# Load the tidyverse() libary in this session of R\r\n",
        "library(tidyverse)"
      ],
      "execution_count": null,
      "outputs": [
        {
          "output_type": "stream",
          "text": [
            "── \u001b[1mAttaching packages\u001b[22m ─────────────────────────────────────── tidyverse 1.3.0 ──\n",
            "\n",
            "\u001b[32m✔\u001b[39m \u001b[34mggplot2\u001b[39m 3.3.3     \u001b[32m✔\u001b[39m \u001b[34mpurrr  \u001b[39m 0.3.4\n",
            "\u001b[32m✔\u001b[39m \u001b[34mtibble \u001b[39m 3.0.4     \u001b[32m✔\u001b[39m \u001b[34mdplyr  \u001b[39m 1.0.2\n",
            "\u001b[32m✔\u001b[39m \u001b[34mtidyr  \u001b[39m 1.1.2     \u001b[32m✔\u001b[39m \u001b[34mstringr\u001b[39m 1.4.0\n",
            "\u001b[32m✔\u001b[39m \u001b[34mreadr  \u001b[39m 1.4.0     \u001b[32m✔\u001b[39m \u001b[34mforcats\u001b[39m 0.5.0\n",
            "\n",
            "── \u001b[1mConflicts\u001b[22m ────────────────────────────────────────── tidyverse_conflicts() ──\n",
            "\u001b[31m✖\u001b[39m \u001b[34mdplyr\u001b[39m::\u001b[32mfilter()\u001b[39m masks \u001b[34mstats\u001b[39m::filter()\n",
            "\u001b[31m✖\u001b[39m \u001b[34mdplyr\u001b[39m::\u001b[32mlag()\u001b[39m    masks \u001b[34mstats\u001b[39m::lag()\n",
            "\n"
          ],
          "name": "stderr"
        }
      ]
    },
    {
      "cell_type": "code",
      "metadata": {
        "id": "jiIs77Z_QVZm",
        "colab": {
          "base_uri": "https://localhost:8080/",
          "height": 235
        },
        "outputId": "67322a1e-d40f-44fc-9737-16749962dea1"
      },
      "source": [
        "# Using read_csv() to read in a dataset from an URL\r\n",
        "KingCounty_LostandFound <- read_csv(\"http://dsciclass.org/dsci325/datasets/KingCounty_Animal_LostandFound.csv\")\r\n",
        "\r\n",
        "# Ensure data.frame exists\r\n",
        "ls()"
      ],
      "execution_count": null,
      "outputs": [
        {
          "output_type": "stream",
          "text": [
            "\n",
            "\u001b[36m──\u001b[39m \u001b[1m\u001b[1mColumn specification\u001b[1m\u001b[22m \u001b[36m────────────────────────────────────────────────────────\u001b[39m\n",
            "cols(\n",
            "  .default = col_character(),\n",
            "  Zip = \u001b[32mcol_double()\u001b[39m,\n",
            "  obfuscated_latitude = \u001b[32mcol_double()\u001b[39m,\n",
            "  obfuscated_longitude = \u001b[32mcol_double()\u001b[39m\n",
            ")\n",
            "\u001b[36mℹ\u001b[39m Use \u001b[30m\u001b[47m\u001b[30m\u001b[47m`spec()`\u001b[47m\u001b[30m\u001b[49m\u001b[39m for the full column specifications.\n",
            "\n",
            "\n"
          ],
          "name": "stderr"
        },
        {
          "output_type": "display_data",
          "data": {
            "text/plain": [
              "[1] \"KingCounty_LostandFound\""
            ],
            "text/latex": "'KingCounty\\_LostandFound'",
            "text/markdown": "'KingCounty_LostandFound'",
            "text/html": [
              "'KingCounty_LostandFound'"
            ]
          },
          "metadata": {
            "tags": []
          }
        }
      ]
    },
    {
      "cell_type": "code",
      "metadata": {
        "colab": {
          "base_uri": "https://localhost:8080/",
          "height": 35
        },
        "id": "kYOeKGyWXwIs",
        "outputId": "27ab74b0-4eb1-495c-939e-3ea8fe3075b8"
      },
      "source": [
        "#Checking the first few rows of data\r\n",
        "#head(KingCounty_LostandFound)\r\n",
        "\r\n",
        "#Identify the number of rows and columns \r\n",
        "dim(KingCounty_LostandFound)"
      ],
      "execution_count": null,
      "outputs": [
        {
          "output_type": "display_data",
          "data": {
            "text/plain": [
              "[1] 169  25"
            ],
            "text/latex": "\\begin{enumerate*}\n\\item 169\n\\item 25\n\\end{enumerate*}\n",
            "text/markdown": "1. 169\n2. 25\n\n\n",
            "text/html": [
              "<style>\n",
              ".list-inline {list-style: none; margin:0; padding: 0}\n",
              ".list-inline>li {display: inline-block}\n",
              ".list-inline>li:not(:last-child)::after {content: \"\\00b7\"; padding: 0 .5ex}\n",
              "</style>\n",
              "<ol class=list-inline><li>169</li><li>25</li></ol>\n"
            ]
          },
          "metadata": {
            "tags": []
          }
        }
      ]
    },
    {
      "cell_type": "markdown",
      "metadata": {
        "id": "pWqvF0RbYOOf"
      },
      "source": [
        "##  Verification that data was read-in correcly\r\n"
      ]
    },
    {
      "cell_type": "markdown",
      "metadata": {
        "id": "faP0x8mJcP4J"
      },
      "source": [
        "A good habit is to ensure that the data was successfully loaded into R.  In this case, the dataset can be opened locally on your machine.  Often the default is that *.csv files will open in Excel.  \r\n",
        "\r\n",
        "You should verify that the number of rows and columns match those that were read into R.\r\n",
        "\r\n",
        "<p align='center'><img src=\"https://drive.google.com/uc?export=view&id=181yfVvfpeCffsTSjSpdvEujEPX_6tSwy\"></p>"
      ]
    },
    {
      "cell_type": "code",
      "metadata": {
        "id": "-HcJNVP67XgN"
      },
      "source": [
        "#download.file(\"https://nebraskalegislature.gov/bills/search_by_date.php?SessionDay=2019&sort_by=descr&sort_order=asc&print=csv\", 'tempdata.csv')\r\n",
        "#download.file(\"https://www.ssa.gov/oact/babynames/state/namesbystate.zip\", 'babynames.zip')\r\n",
        "\r\n",
        "dir.create(tempfile())\r\n"
      ],
      "execution_count": null,
      "outputs": []
    },
    {
      "cell_type": "code",
      "metadata": {
        "id": "jSJZGX3K-BTD"
      },
      "source": [
        "#Reading in zip file that contains several files\r\n",
        "#Setup up directory and temporary file\r\n",
        "zipdir<-tempfile()\r\n",
        "temp<-tempfile()\r\n",
        " \r\n",
        "#Create directory\r\n",
        "dir.create(zipdir)\r\n",
        "\r\n",
        "#Downlaod the file, happens to be a zip file thus must be unpacked\r\n",
        "download.file(\"https://www.ssa.gov/oact/babynames/state/namesbystate.zip\", temp)\r\n",
        "\r\n",
        "#Unzip the file\r\n",
        "unzip(temp, exdir=zipdir)\r\n",
        "\r\n",
        "#Get list of file contained in this directory, only bring in *.TXT files\r\n",
        "files <- list.files(zipdir, pattern=\"\\\\.TXT$\")\r\n",
        " "
      ],
      "execution_count": null,
      "outputs": []
    },
    {
      "cell_type": "code",
      "metadata": {
        "colab": {
          "base_uri": "https://localhost:8080/",
          "height": 35
        },
        "id": "hoKk_BJS-MKR",
        "outputId": "be506e7f-c10d-470a-ede7-9063de6b41db"
      },
      "source": [
        "ls()"
      ],
      "execution_count": null,
      "outputs": [
        {
          "output_type": "display_data",
          "data": {
            "text/plain": [
              "[1] \"files\"                   \"KingCounty_LostandFound\"\n",
              "[3] \"temp\"                    \"tempdir\"                \n",
              "[5] \"zipdir\"                 "
            ],
            "text/latex": "\\begin{enumerate*}\n\\item 'files'\n\\item 'KingCounty\\_LostandFound'\n\\item 'temp'\n\\item 'tempdir'\n\\item 'zipdir'\n\\end{enumerate*}\n",
            "text/markdown": "1. 'files'\n2. 'KingCounty_LostandFound'\n3. 'temp'\n4. 'tempdir'\n5. 'zipdir'\n\n\n",
            "text/html": [
              "<style>\n",
              ".list-inline {list-style: none; margin:0; padding: 0}\n",
              ".list-inline>li {display: inline-block}\n",
              ".list-inline>li:not(:last-child)::after {content: \"\\00b7\"; padding: 0 .5ex}\n",
              "</style>\n",
              "<ol class=list-inline><li>'files'</li><li>'KingCounty_LostandFound'</li><li>'temp'</li><li>'tempdir'</li><li>'zipdir'</li></ol>\n"
            ]
          },
          "metadata": {
            "tags": []
          }
        }
      ]
    },
    {
      "cell_type": "code",
      "metadata": {
        "colab": {
          "base_uri": "https://localhost:8080/",
          "height": 69
        },
        "id": "rQJGjahv-Uah",
        "outputId": "fc34feaf-0941-4efc-ac0c-e3cf191eccd6"
      },
      "source": [
        "files"
      ],
      "execution_count": null,
      "outputs": [
        {
          "output_type": "display_data",
          "data": {
            "text/plain": [
              " [1] \"AK.TXT\" \"AL.TXT\" \"AR.TXT\" \"AZ.TXT\" \"CA.TXT\" \"CO.TXT\" \"CT.TXT\" \"DC.TXT\"\n",
              " [9] \"DE.TXT\" \"FL.TXT\" \"GA.TXT\" \"HI.TXT\" \"IA.TXT\" \"ID.TXT\" \"IL.TXT\" \"IN.TXT\"\n",
              "[17] \"KS.TXT\" \"KY.TXT\" \"LA.TXT\" \"MA.TXT\" \"MD.TXT\" \"ME.TXT\" \"MI.TXT\" \"MN.TXT\"\n",
              "[25] \"MO.TXT\" \"MS.TXT\" \"MT.TXT\" \"NC.TXT\" \"ND.TXT\" \"NE.TXT\" \"NH.TXT\" \"NJ.TXT\"\n",
              "[33] \"NM.TXT\" \"NV.TXT\" \"NY.TXT\" \"OH.TXT\" \"OK.TXT\" \"OR.TXT\" \"PA.TXT\" \"RI.TXT\"\n",
              "[41] \"SC.TXT\" \"SD.TXT\" \"TN.TXT\" \"TX.TXT\" \"UT.TXT\" \"VA.TXT\" \"VT.TXT\" \"WA.TXT\"\n",
              "[49] \"WI.TXT\" \"WV.TXT\" \"WY.TXT\""
            ],
            "text/latex": "\\begin{enumerate*}\n\\item 'AK.TXT'\n\\item 'AL.TXT'\n\\item 'AR.TXT'\n\\item 'AZ.TXT'\n\\item 'CA.TXT'\n\\item 'CO.TXT'\n\\item 'CT.TXT'\n\\item 'DC.TXT'\n\\item 'DE.TXT'\n\\item 'FL.TXT'\n\\item 'GA.TXT'\n\\item 'HI.TXT'\n\\item 'IA.TXT'\n\\item 'ID.TXT'\n\\item 'IL.TXT'\n\\item 'IN.TXT'\n\\item 'KS.TXT'\n\\item 'KY.TXT'\n\\item 'LA.TXT'\n\\item 'MA.TXT'\n\\item 'MD.TXT'\n\\item 'ME.TXT'\n\\item 'MI.TXT'\n\\item 'MN.TXT'\n\\item 'MO.TXT'\n\\item 'MS.TXT'\n\\item 'MT.TXT'\n\\item 'NC.TXT'\n\\item 'ND.TXT'\n\\item 'NE.TXT'\n\\item 'NH.TXT'\n\\item 'NJ.TXT'\n\\item 'NM.TXT'\n\\item 'NV.TXT'\n\\item 'NY.TXT'\n\\item 'OH.TXT'\n\\item 'OK.TXT'\n\\item 'OR.TXT'\n\\item 'PA.TXT'\n\\item 'RI.TXT'\n\\item 'SC.TXT'\n\\item 'SD.TXT'\n\\item 'TN.TXT'\n\\item 'TX.TXT'\n\\item 'UT.TXT'\n\\item 'VA.TXT'\n\\item 'VT.TXT'\n\\item 'WA.TXT'\n\\item 'WI.TXT'\n\\item 'WV.TXT'\n\\item 'WY.TXT'\n\\end{enumerate*}\n",
            "text/markdown": "1. 'AK.TXT'\n2. 'AL.TXT'\n3. 'AR.TXT'\n4. 'AZ.TXT'\n5. 'CA.TXT'\n6. 'CO.TXT'\n7. 'CT.TXT'\n8. 'DC.TXT'\n9. 'DE.TXT'\n10. 'FL.TXT'\n11. 'GA.TXT'\n12. 'HI.TXT'\n13. 'IA.TXT'\n14. 'ID.TXT'\n15. 'IL.TXT'\n16. 'IN.TXT'\n17. 'KS.TXT'\n18. 'KY.TXT'\n19. 'LA.TXT'\n20. 'MA.TXT'\n21. 'MD.TXT'\n22. 'ME.TXT'\n23. 'MI.TXT'\n24. 'MN.TXT'\n25. 'MO.TXT'\n26. 'MS.TXT'\n27. 'MT.TXT'\n28. 'NC.TXT'\n29. 'ND.TXT'\n30. 'NE.TXT'\n31. 'NH.TXT'\n32. 'NJ.TXT'\n33. 'NM.TXT'\n34. 'NV.TXT'\n35. 'NY.TXT'\n36. 'OH.TXT'\n37. 'OK.TXT'\n38. 'OR.TXT'\n39. 'PA.TXT'\n40. 'RI.TXT'\n41. 'SC.TXT'\n42. 'SD.TXT'\n43. 'TN.TXT'\n44. 'TX.TXT'\n45. 'UT.TXT'\n46. 'VA.TXT'\n47. 'VT.TXT'\n48. 'WA.TXT'\n49. 'WI.TXT'\n50. 'WV.TXT'\n51. 'WY.TXT'\n\n\n",
            "text/html": [
              "<style>\n",
              ".list-inline {list-style: none; margin:0; padding: 0}\n",
              ".list-inline>li {display: inline-block}\n",
              ".list-inline>li:not(:last-child)::after {content: \"\\00b7\"; padding: 0 .5ex}\n",
              "</style>\n",
              "<ol class=list-inline><li>'AK.TXT'</li><li>'AL.TXT'</li><li>'AR.TXT'</li><li>'AZ.TXT'</li><li>'CA.TXT'</li><li>'CO.TXT'</li><li>'CT.TXT'</li><li>'DC.TXT'</li><li>'DE.TXT'</li><li>'FL.TXT'</li><li>'GA.TXT'</li><li>'HI.TXT'</li><li>'IA.TXT'</li><li>'ID.TXT'</li><li>'IL.TXT'</li><li>'IN.TXT'</li><li>'KS.TXT'</li><li>'KY.TXT'</li><li>'LA.TXT'</li><li>'MA.TXT'</li><li>'MD.TXT'</li><li>'ME.TXT'</li><li>'MI.TXT'</li><li>'MN.TXT'</li><li>'MO.TXT'</li><li>'MS.TXT'</li><li>'MT.TXT'</li><li>'NC.TXT'</li><li>'ND.TXT'</li><li>'NE.TXT'</li><li>'NH.TXT'</li><li>'NJ.TXT'</li><li>'NM.TXT'</li><li>'NV.TXT'</li><li>'NY.TXT'</li><li>'OH.TXT'</li><li>'OK.TXT'</li><li>'OR.TXT'</li><li>'PA.TXT'</li><li>'RI.TXT'</li><li>'SC.TXT'</li><li>'SD.TXT'</li><li>'TN.TXT'</li><li>'TX.TXT'</li><li>'UT.TXT'</li><li>'VA.TXT'</li><li>'VT.TXT'</li><li>'WA.TXT'</li><li>'WI.TXT'</li><li>'WV.TXT'</li><li>'WY.TXT'</li></ol>\n"
            ]
          },
          "metadata": {
            "tags": []
          }
        }
      ]
    },
    {
      "cell_type": "code",
      "metadata": {
        "colab": {
          "base_uri": "https://localhost:8080/",
          "height": 35
        },
        "id": "wY9YRHhW-baj",
        "outputId": "bff53adc-483f-4f02-c493-0c91af35bf6e"
      },
      "source": [
        "getwd()"
      ],
      "execution_count": null,
      "outputs": [
        {
          "output_type": "display_data",
          "data": {
            "text/plain": [
              "[1] \"/content\""
            ],
            "text/latex": "'/content'",
            "text/markdown": "'/content'",
            "text/html": [
              "'/content'"
            ]
          },
          "metadata": {
            "tags": []
          }
        }
      ]
    },
    {
      "cell_type": "markdown",
      "metadata": {
        "id": "II2aKXjI_gp9"
      },
      "source": [
        ""
      ]
    },
    {
      "cell_type": "code",
      "metadata": {
        "colab": {
          "base_uri": "https://localhost:8080/",
          "height": 35
        },
        "id": "mqbDExPZ_jjr",
        "outputId": "4de9a380-7c87-46bd-cdad-326805828433"
      },
      "source": [
        "list.dirs('.', recursive=FALSE)"
      ],
      "execution_count": null,
      "outputs": [
        {
          "output_type": "display_data",
          "data": {
            "text/plain": [
              "[1] \"./.config\"     \"./sample_data\""
            ],
            "text/latex": "\\begin{enumerate*}\n\\item './.config'\n\\item './sample\\_data'\n\\end{enumerate*}\n",
            "text/markdown": "1. './.config'\n2. './sample_data'\n\n\n",
            "text/html": [
              "<style>\n",
              ".list-inline {list-style: none; margin:0; padding: 0}\n",
              ".list-inline>li {display: inline-block}\n",
              ".list-inline>li:not(:last-child)::after {content: \"\\00b7\"; padding: 0 .5ex}\n",
              "</style>\n",
              "<ol class=list-inline><li>'./.config'</li><li>'./sample_data'</li></ol>\n"
            ]
          },
          "metadata": {
            "tags": []
          }
        }
      ]
    },
    {
      "cell_type": "code",
      "metadata": {
        "colab": {
          "base_uri": "https://localhost:8080/",
          "height": 35
        },
        "id": "ZK0uepGZAQh8",
        "outputId": "6b0b5518-7605-477c-9b8c-5316553cd265"
      },
      "source": [
        "#Reading in zip file that contains several files\r\n",
        "#Setup up directory and temporary file\r\n",
        "zipdir<-tempfile()\r\n",
        "temp<-tempfile()\r\n",
        " \r\n",
        "#Create directory\r\n",
        "dir.create(zipdir)\r\n",
        "\r\n",
        "#Downlaod the file, happens to be a zip file thus must be unpacked\r\n",
        "download.file(\"https://www.ssa.gov/oact/babynames/state/namesbystate.zip\", temp)\r\n",
        "\r\n",
        "#Unzip the file\r\n",
        "unzip(temp, exdir=zipdir)\r\n",
        "\r\n",
        "#Get list of file contained in this directory, only bring in *.TXT files\r\n",
        "files <- list.files(zipdir, pattern=\"\\\\.TXT$\")\r\n",
        " \r\n",
        "#Initialize a data.frame\r\n",
        "namedata<-data.frame()\r\n",
        "\r\n",
        "#Loop to read in files and concatenate them together via rbind\r\n",
        "\r\n",
        "for(i in 1:length(files)){\r\n",
        "    filepath <- file.path(zipdir,files[i])\r\n",
        "    temp <- read.csv(filepath,header=F)\r\n",
        "    namedata<-rbind(namedata, temp)  \r\n",
        "    }\r\n",
        "\r\n",
        "#Unlink connection to directory\r\n",
        "unlink(zipdir)\r\n",
        "\r\n",
        "\r\n",
        "names(namedata)"
      ],
      "execution_count": null,
      "outputs": [
        {
          "output_type": "display_data",
          "data": {
            "text/plain": [
              "[1] \"V1\" \"V2\" \"V3\" \"V4\" \"V5\""
            ],
            "text/latex": "\\begin{enumerate*}\n\\item 'V1'\n\\item 'V2'\n\\item 'V3'\n\\item 'V4'\n\\item 'V5'\n\\end{enumerate*}\n",
            "text/markdown": "1. 'V1'\n2. 'V2'\n3. 'V3'\n4. 'V4'\n5. 'V5'\n\n\n",
            "text/html": [
              "<style>\n",
              ".list-inline {list-style: none; margin:0; padding: 0}\n",
              ".list-inline>li {display: inline-block}\n",
              ".list-inline>li:not(:last-child)::after {content: \"\\00b7\"; padding: 0 .5ex}\n",
              "</style>\n",
              "<ol class=list-inline><li>'V1'</li><li>'V2'</li><li>'V3'</li><li>'V4'</li><li>'V5'</li></ol>\n"
            ]
          },
          "metadata": {
            "tags": []
          }
        }
      ]
    },
    {
      "cell_type": "code",
      "metadata": {
        "colab": {
          "base_uri": "https://localhost:8080/",
          "height": 35
        },
        "id": "gg6kIjiFAtDO",
        "outputId": "5e051125-963f-40c5-d253-60e23ae095c6"
      },
      "source": [
        "#Rename the columns of namedata\r\n",
        "names(namedata)<-c(\"State\",\"Gender\",\"Year\",\"Name\",\"Count\")\r\n",
        "names(namedata)"
      ],
      "execution_count": null,
      "outputs": [
        {
          "output_type": "display_data",
          "data": {
            "text/plain": [
              "[1] \"State\"  \"Gender\" \"Year\"   \"Name\"   \"Count\" "
            ],
            "text/latex": "\\begin{enumerate*}\n\\item 'State'\n\\item 'Gender'\n\\item 'Year'\n\\item 'Name'\n\\item 'Count'\n\\end{enumerate*}\n",
            "text/markdown": "1. 'State'\n2. 'Gender'\n3. 'Year'\n4. 'Name'\n5. 'Count'\n\n\n",
            "text/html": [
              "<style>\n",
              ".list-inline {list-style: none; margin:0; padding: 0}\n",
              ".list-inline>li {display: inline-block}\n",
              ".list-inline>li:not(:last-child)::after {content: \"\\00b7\"; padding: 0 .5ex}\n",
              "</style>\n",
              "<ol class=list-inline><li>'State'</li><li>'Gender'</li><li>'Year'</li><li>'Name'</li><li>'Count'</li></ol>\n"
            ]
          },
          "metadata": {
            "tags": []
          }
        }
      ]
    },
    {
      "cell_type": "code",
      "metadata": {
        "colab": {
          "base_uri": "https://localhost:8080/",
          "height": 204
        },
        "id": "wUSVvn3wAucN",
        "outputId": "aa5974e0-8673-4ed2-d5e3-11cc8bf982ce"
      },
      "source": [
        "head(namedata)"
      ],
      "execution_count": null,
      "outputs": [
        {
          "output_type": "display_data",
          "data": {
            "text/plain": [
              "  State Gender Year Name     Count\n",
              "1 AK    F      1910 Mary     14   \n",
              "2 AK    F      1910 Annie    12   \n",
              "3 AK    F      1910 Anna     10   \n",
              "4 AK    F      1910 Margaret  8   \n",
              "5 AK    F      1910 Helen     7   \n",
              "6 AK    F      1910 Elsie     6   "
            ],
            "text/latex": "A data.frame: 6 × 5\n\\begin{tabular}{r|lllll}\n  & State & Gender & Year & Name & Count\\\\\n  & <chr> & <chr> & <int> & <chr> & <int>\\\\\n\\hline\n\t1 & AK & F & 1910 & Mary     & 14\\\\\n\t2 & AK & F & 1910 & Annie    & 12\\\\\n\t3 & AK & F & 1910 & Anna     & 10\\\\\n\t4 & AK & F & 1910 & Margaret &  8\\\\\n\t5 & AK & F & 1910 & Helen    &  7\\\\\n\t6 & AK & F & 1910 & Elsie    &  6\\\\\n\\end{tabular}\n",
            "text/markdown": "\nA data.frame: 6 × 5\n\n| <!--/--> | State &lt;chr&gt; | Gender &lt;chr&gt; | Year &lt;int&gt; | Name &lt;chr&gt; | Count &lt;int&gt; |\n|---|---|---|---|---|---|\n| 1 | AK | F | 1910 | Mary     | 14 |\n| 2 | AK | F | 1910 | Annie    | 12 |\n| 3 | AK | F | 1910 | Anna     | 10 |\n| 4 | AK | F | 1910 | Margaret |  8 |\n| 5 | AK | F | 1910 | Helen    |  7 |\n| 6 | AK | F | 1910 | Elsie    |  6 |\n\n",
            "text/html": [
              "<table>\n",
              "<caption>A data.frame: 6 × 5</caption>\n",
              "<thead>\n",
              "\t<tr><th></th><th scope=col>State</th><th scope=col>Gender</th><th scope=col>Year</th><th scope=col>Name</th><th scope=col>Count</th></tr>\n",
              "\t<tr><th></th><th scope=col>&lt;chr&gt;</th><th scope=col>&lt;chr&gt;</th><th scope=col>&lt;int&gt;</th><th scope=col>&lt;chr&gt;</th><th scope=col>&lt;int&gt;</th></tr>\n",
              "</thead>\n",
              "<tbody>\n",
              "\t<tr><th scope=row>1</th><td>AK</td><td>F</td><td>1910</td><td>Mary    </td><td>14</td></tr>\n",
              "\t<tr><th scope=row>2</th><td>AK</td><td>F</td><td>1910</td><td>Annie   </td><td>12</td></tr>\n",
              "\t<tr><th scope=row>3</th><td>AK</td><td>F</td><td>1910</td><td>Anna    </td><td>10</td></tr>\n",
              "\t<tr><th scope=row>4</th><td>AK</td><td>F</td><td>1910</td><td>Margaret</td><td> 8</td></tr>\n",
              "\t<tr><th scope=row>5</th><td>AK</td><td>F</td><td>1910</td><td>Helen   </td><td> 7</td></tr>\n",
              "\t<tr><th scope=row>6</th><td>AK</td><td>F</td><td>1910</td><td>Elsie   </td><td> 6</td></tr>\n",
              "</tbody>\n",
              "</table>\n"
            ]
          },
          "metadata": {
            "tags": []
          }
        }
      ]
    },
    {
      "cell_type": "code",
      "metadata": {
        "colab": {
          "base_uri": "https://localhost:8080/",
          "height": 99
        },
        "id": "A-T3XCRqBBlV",
        "outputId": "c9c238a2-9cf9-492f-d942-b999f085a910"
      },
      "source": [
        "file.info(zipdir)"
      ],
      "execution_count": null,
      "outputs": [
        {
          "output_type": "display_data",
          "data": {
            "text/plain": [
              "                               size isdir mode mtime              \n",
              "/tmp/RtmpqFwKpE/file3d2b691e10 4096 TRUE  755  2021-01-14 22:26:42\n",
              "                               ctime               atime               uid gid\n",
              "/tmp/RtmpqFwKpE/file3d2b691e10 2021-01-14 22:26:42 2021-01-14 22:26:42 0   0  \n",
              "                               uname grname\n",
              "/tmp/RtmpqFwKpE/file3d2b691e10 root  root  "
            ],
            "text/latex": "A data.frame: 1 × 10\n\\begin{tabular}{r|llllllllll}\n  & size & isdir & mode & mtime & ctime & atime & uid & gid & uname & grname\\\\\n  & <dbl> & <lgl> & <octmode> & <dttm> & <dttm> & <dttm> & <int> & <int> & <chr> & <chr>\\\\\n\\hline\n\t/tmp/RtmpqFwKpE/file3d2b691e10 & 4096 & TRUE & 755 & 2021-01-14 22:26:42 & 2021-01-14 22:26:42 & 2021-01-14 22:26:42 & 0 & 0 & root & root\\\\\n\\end{tabular}\n",
            "text/markdown": "\nA data.frame: 1 × 10\n\n| <!--/--> | size &lt;dbl&gt; | isdir &lt;lgl&gt; | mode &lt;octmode&gt; | mtime &lt;dttm&gt; | ctime &lt;dttm&gt; | atime &lt;dttm&gt; | uid &lt;int&gt; | gid &lt;int&gt; | uname &lt;chr&gt; | grname &lt;chr&gt; |\n|---|---|---|---|---|---|---|---|---|---|---|\n| /tmp/RtmpqFwKpE/file3d2b691e10 | 4096 | TRUE | 755 | 2021-01-14 22:26:42 | 2021-01-14 22:26:42 | 2021-01-14 22:26:42 | 0 | 0 | root | root |\n\n",
            "text/html": [
              "<table>\n",
              "<caption>A data.frame: 1 × 10</caption>\n",
              "<thead>\n",
              "\t<tr><th></th><th scope=col>size</th><th scope=col>isdir</th><th scope=col>mode</th><th scope=col>mtime</th><th scope=col>ctime</th><th scope=col>atime</th><th scope=col>uid</th><th scope=col>gid</th><th scope=col>uname</th><th scope=col>grname</th></tr>\n",
              "\t<tr><th></th><th scope=col>&lt;dbl&gt;</th><th scope=col>&lt;lgl&gt;</th><th scope=col>&lt;octmode&gt;</th><th scope=col>&lt;dttm&gt;</th><th scope=col>&lt;dttm&gt;</th><th scope=col>&lt;dttm&gt;</th><th scope=col>&lt;int&gt;</th><th scope=col>&lt;int&gt;</th><th scope=col>&lt;chr&gt;</th><th scope=col>&lt;chr&gt;</th></tr>\n",
              "</thead>\n",
              "<tbody>\n",
              "\t<tr><th scope=row>/tmp/RtmpqFwKpE/file3d2b691e10</th><td>4096</td><td>TRUE</td><td>755</td><td>2021-01-14 22:26:42</td><td>2021-01-14 22:26:42</td><td>2021-01-14 22:26:42</td><td>0</td><td>0</td><td>root</td><td>root</td></tr>\n",
              "</tbody>\n",
              "</table>\n"
            ]
          },
          "metadata": {
            "tags": []
          }
        }
      ]
    }
  ]
}