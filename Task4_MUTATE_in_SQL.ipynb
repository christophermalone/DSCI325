{
  "nbformat": 4,
  "nbformat_minor": 0,
  "metadata": {
    "colab": {
      "name": "Task4_MUTATE_in_SQL.ipynb",
      "provenance": [],
      "collapsed_sections": [],
      "toc_visible": true,
      "authorship_tag": "ABX9TyMLptVxCEJ4EoCIlYOKiDHo",
      "include_colab_link": true
    },
    "kernelspec": {
      "name": "python3",
      "display_name": "Python 3"
    }
  },
  "cells": [
    {
      "cell_type": "markdown",
      "metadata": {
        "id": "view-in-github",
        "colab_type": "text"
      },
      "source": [
        "<a href=\"https://colab.research.google.com/github/christophermalone/DSCI325/blob/main/Task4_MUTATE_in_SQL.ipynb\" target=\"_parent\"><img src=\"https://colab.research.google.com/assets/colab-badge.svg\" alt=\"Open In Colab\"/></a>"
      ]
    },
    {
      "cell_type": "markdown",
      "metadata": {
        "id": "vsKS8UWN9bil"
      },
      "source": [
        "# Task #4: MUTATE() Action in SQL"
      ]
    },
    {
      "cell_type": "markdown",
      "metadata": {
        "id": "Q15v4Jwh9sEj"
      },
      "source": [
        "<table width='100%' ><tr><td bgcolor='green'></td></tr></table>\n",
        "\n",
        "### Task #4 Dataset\n",
        "For this task, consider again the Nursing Home Provider dataset.  The datasets is published by the Centers for Medicare and Medicade Services.\n",
        "\n",
        "<table>\n",
        "<tr>\n",
        "<td colspan=\"2\" align='center'>Fields in Dataset</td>\n",
        "</tr>\n",
        "<tr>\n",
        "<td valign='top' align='left'>\n",
        "1: FPN (Federal Provider Number)<br>\n",
        "2: ProviderName<br>\n",
        "3: ProviderAddress<br>\n",
        "4: ProviderCounty<br>\n",
        "5: OwnershipType<br><br>\n",
        "6: NumberBeds<br>\n",
        "7: AverageResidentsperDay<br><br>\n",
        "8: ProviderInHospital<br>\n",
        "9: BusinessName<br>\n",
        "10: ContinuingCareRetirementCommunity<br><br>\n",
        "11: HealthInspection_MoreThan2YearsAgo<br>\n",
        "12: Overall_Rating<br>\n",
        "13: HealthInspection_Rating<br>\n",
        "14: QM_Rating<br>\n",
        "15: LongStayQM_Rating<br>\n",
        "16: ShortStayQM_Rating<br>\n",
        "17: Staffing_Rating<br>\n",
        "18: RNStaffing_Rating<br>\n",
        "</td>\n",
        "<td valign='top' align='left'>\n",
        "19: NurseAideStaffing_Hours<br>\n",
        "20: LPNStaffing_Hours<br>\n",
        "21: RNStaffing_Hours<br>\n",
        "22: LicensedStaffing_Hours<br>\n",
        "23: TotalNurseStaffing_Hours<br>\n",
        "24: PhysicalTherapistStaffing_Hours<br><br>\n",
        "25: RatingCycle1_Date<br>\n",
        "26: RatingCycle1_HealthDeficiencyScore<br>\n",
        "27: RatingCycle2_Date<br>\n",
        "28: RatingCycle2_HealthDeficiencyScore<br>\n",
        "29: RatingCycle3_Date<br>\n",
        "30: RatingCycle3_HealthDeficiencyScore<br><br>\n",
        "31: NumberofFines<br>\n",
        "32: TotalAmountFines<br>\n",
        "</td>\n",
        "</tr>\n",
        "</table>\n",
        "\n",
        " \n",
        "<br>Original Data Source: https://data.cms.gov/provider-data/search?theme=Nursing%20homes%20including%20rehab%20services\n",
        "\n",
        "<table width='100%' ><tr><td bgcolor='green'></td></tr></table>"
      ]
    },
    {
      "cell_type": "markdown",
      "metadata": {
        "id": "iiF3T8YZCmed"
      },
      "source": [
        "### Task\n",
        "\n",
        "Obtain the following table of counts for the number nursing homes in MN that are corporations and not corporations. \n",
        "\n",
        "<p align='center'><img src=\"https://drive.google.com/uc?export=view&id=1Wl_JNHduz3Vo0rEeI5e0k4y8VLzVhNRx\" width='25%' height='25%'></p>\n",
        "\n",
        "Recall, the CorporationType is obtained from the right-hand side of the OwnershipType after splitting. In addition, use the following table for the definition of Corporation.\n",
        "\n",
        "<table>\n",
        "<tr>\n",
        "<td align=\"center\">CorporationType</td>\n",
        "<td align=\"center\">Corporation</td>\n",
        "</tr>\n",
        "<tr>\n",
        " <td align=\"center\"><font size=\"+1\">Corporation</font></td>\n",
        " <td align=\"center\"><font size=\"+1\">Yes</font></td>\n",
        "</tr>\n",
        "<tr>\n",
        " <td align=\"center\"><font size=\"+1\">Limited Liability company</font></td>\n",
        "  <td align=\"center\"><font size=\"+1\">Yes</font></td>\n",
        "</tr>\n",
        "\n",
        "<tr>\n",
        " <td align=\"center\"><font size=\"+1\">County</font></td>\n",
        " <td align=\"center\" rowspan=\"10\"><font size=\"+1\">No</font></td>\n",
        "</tr>\n",
        "<tr>\n",
        " <td align=\"center\"><font size=\"+1\">Individual</font></td>\n",
        " \n",
        "</tr>\n",
        "\n",
        "<tr>\n",
        " <td align=\"center\"><font size=\"+1\">Other</font></td>\n",
        "\n",
        "</tr>\n",
        "<tr>\n",
        " <td align=\"center\"><font size=\"+1\">Partnership</font></td>\n",
        "\n",
        "</tr>\n",
        "<tr>\n",
        " <td align=\"center\"><font size=\"+1\">City</font></td>\n",
        "\n",
        "</tr>\n",
        "<tr>\n",
        " <td align=\"center\"><font size=\"+1\">Church related</font></td>\n",
        " \n",
        "</tr>\n",
        "<tr>\n",
        " <td align=\"center\"><font size=\"+1\">City/county</font></td>\n",
        "\n",
        "</tr>\n",
        "<tr>\n",
        " <td align=\"center\"><font size=\"+1\">Federal</font></td>\n",
        " \n",
        "</tr>\n",
        "<tr>\n",
        " <td align=\"center\"><font size=\"+1\">State</font></td>\n",
        " \n",
        "</tr>\n",
        "<tr>\n",
        " <td align=\"center\"><font size=\"+1\">Hospital district</font></td>\n",
        " \n",
        "</tr>\n",
        "</table>"
      ]
    },
    {
      "cell_type": "markdown",
      "metadata": {
        "id": "mjroLvbuJ9lr"
      },
      "source": [
        "\n",
        "\n",
        "---\n",
        "\n",
        "---\n",
        "\n",
        "---\n",
        "\n",
        "\n",
        "\n",
        "\n",
        "\n"
      ]
    },
    {
      "cell_type": "markdown",
      "metadata": {
        "id": "KtWHp0-PJ_yC"
      },
      "source": [
        "COMPLETE TASK HERE - INCLUDE CODE AND ANY NECESSARY DESCRIPTIONS"
      ]
    }
  ]
}