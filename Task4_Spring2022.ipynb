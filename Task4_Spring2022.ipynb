{
  "nbformat": 4,
  "nbformat_minor": 0,
  "metadata": {
    "colab": {
      "name": "Task4_Spring2022.ipynb",
      "provenance": [],
      "collapsed_sections": [],
      "authorship_tag": "ABX9TyMo2g3Qn3uSMCNABOhoEXOu",
      "include_colab_link": true
    },
    "kernelspec": {
      "name": "ir",
      "display_name": "R"
    }
  },
  "cells": [
    {
      "cell_type": "markdown",
      "metadata": {
        "id": "view-in-github",
        "colab_type": "text"
      },
      "source": [
        "<a href=\"https://colab.research.google.com/github/christophermalone/DSCI325/blob/main/Task4_Spring2022.ipynb\" target=\"_parent\"><img src=\"https://colab.research.google.com/assets/colab-badge.svg\" alt=\"Open In Colab\"/></a>"
      ]
    },
    {
      "cell_type": "markdown",
      "metadata": {
        "id": "j1cZH6CYQg3J"
      },
      "source": [
        "# Task #4 - Spring 2022\n"
      ]
    },
    {
      "cell_type": "markdown",
      "source": [
        "For this task, a total of three datasets will be used.\n",
        "\n",
        "*   Dataset #1 - ACT Scores for MN Schools: https://public.education.mn.gov/MDEAnalytics/DataTopic.jsp?TOPICID=87\n",
        "*   Dataset #2 - Information on MN Schools (Sidewalk File):https://public.education.mn.gov/MdeOrgView/districts/index\n",
        "*   Dataset #3 - Census Data for MN Schools at District Level:  https://gisdata.mn.gov/dataset/us-mn-state-metc-society-census-acs "
      ],
      "metadata": {
        "id": "a4lc5jto1OUm"
      }
    },
    {
      "cell_type": "markdown",
      "source": [
        "## Tidy up Dataset #1"
      ],
      "metadata": {
        "id": "mJi18VoW2QBe"
      }
    },
    {
      "cell_type": "markdown",
      "source": [
        "Complete the following steps:\n",
        "\n",
        "\n",
        "1.   Go to the link for Dataset #1, download the most recent *.xlsx file that contains the ACT Scores for MN Schools.\n",
        "2.   Open the file in Excel, clean up the headers (single line, no spaces, etc).  Save the file as *.csv, upload to Colab, read the file into R.\n",
        "3. Fix any issues related to missing values.  I fixed these issues using a text editor (e.g. Notepad) or you could just open the file in Excel and fix the issue related to missingness.\n",
        "4. When reading in the ACT data, make sure and specify ACTHighSchoolCode as a string as this will be used for the joins. \n",
        "5. Retain the ACT data for each school -- exclude all District Level data.\n",
        "6. Remove all rows that have Composite = NA.\n",
        "7. Create a new data.frame, named MostRecentACTYear, that contains a unique ACTHighSchoolCode for each school and a new variable say, MaxYear, which identifies the most recent Graduation Year.\n",
        "8. Use a left-join to join the MostRecentACTYear data.frame to the resulting Dataset #1 from above.\n",
        "9. Use a Filter to retain only the rows for which GraduationYear is equal to MaxYear.\n",
        "10. Use a select to retain the school name, ACTHighSchoolCode, and Composite ACT score.\n",
        "\n",
        "Let the final dataset from this sequence of step be called ACT_Final.\n"
      ],
      "metadata": {
        "id": "0mSDkUEf2T3a"
      }
    },
    {
      "cell_type": "markdown",
      "source": [
        "## Tidy up Dataset #2\n",
        "\n",
        "Complete the following steps for Dataset #2.\n",
        "\n",
        "1.   Go to the link for Dataset #2, click the Extract link to download the *.csv file for the List of Districts and Schools.\n",
        "2.   Again, clean up the headers (no spaces in names, etc). Upload the file to Colab, read the file into R.\n",
        "3. When reading in the MN School Information data, make sure and specify the NCESID and ACTID as string as these will be used for the joins.\n",
        "4. Create an updated NCESID code that contains only the 7 left-most characters.  This is needed as the NCESID code in the Census data uses only the 7 left-most characters.\n",
        "\n",
        "Let the final dataset from this sequence of step be called MNSchoolInformation_Final.\n"
      ],
      "metadata": {
        "id": "R481sXFr5uem"
      }
    },
    {
      "cell_type": "markdown",
      "source": [
        "## Tidy up Dataset #3\n",
        "\n",
        "Complete the following steps for Dataset #3\n",
        "\n",
        "\n",
        "1.   Go to the link for Dataset #3, download the MN Excel File.  This is a zipped file, so unzip the file.  The CensusACSSchoolDistirct.xlsx file is one that we will used.\n",
        "2.   Again, clean up the headers (no spaces in names, etc). Upload the file to Colab, read the file into R.\n",
        "3.  When reading in the Census data, make sure and specify the GEOG_UNIT as a string as this field will be used for the the join.\n",
        "4. Retain the following variables:  GEOG_UNIT - which is the NCESID, median income per household, share of population with income 0=99% of poverty threshold, and median home value of ownership housing.  Note: Variable descriptions are contained in the metadata folder.\n",
        "\n",
        "Let the final dataset from this sequence of step be called Census_Final.\n"
      ],
      "metadata": {
        "id": "IwW1CqDH8flG"
      }
    },
    {
      "cell_type": "markdown",
      "source": [
        "\n",
        "\n",
        "---\n",
        "\n"
      ],
      "metadata": {
        "id": "0nkhkLAb-b6s"
      }
    },
    {
      "cell_type": "markdown",
      "source": [
        "## Analysis\n",
        "\n",
        "\n",
        "1.   Join the MNSchoolInformation_Final data.frame to the ACT_Final data.frame.  Name this new data.frame ACT_Final_withNCESID.  The ACT_Final_withNCESID data.frame should now contain the NCESID 7-digit code.\n",
        "2.   Join the Census_Final data.frame to the ACT_Final_withNCESID data.frame.  Name this new data.frame ACT_and_Census.\n",
        "3.   Create a new data.frame that contains the numerical variables under considertation here:  Composite ACT score and the three census variables under investigation (median household income, poverty threshold, and medain home value. Name this data.frame ACT_and_Census_Final.  \n",
        "4.  Obtain the correlations measures for these variables, i.e. run the command cor(ACT_and_Census_Final, use=\"complete.obs\").\n",
        "\n",
        "Consider the following ggplot() code.\n",
        "\n",
        "ggplot(data=ACT_and_Census_Final, aes(x=MEDIANHHI,y=Composite)) + <br>\n",
        "  &nbsp;&nbsp;&nbsp;  geom_point() + <br>\n",
        "   &nbsp;&nbsp;&nbsp; geom_smooth(method=loess, formula = y ~ x , se=FALSE) + <br>\n",
        "   &nbsp;&nbsp;&nbsp; theme_classic() <br>\n",
        "\n",
        "5. Use the ggplot() code above to obtain three scatterplots that display the relationship between Composite ACT Score and 1) median houshold income, poverty threshold, and median home value.\n",
        "\n",
        "\n",
        "\n",
        "---\n",
        "\n"
      ],
      "metadata": {
        "id": "SUf6DKyI-fQi"
      }
    },
    {
      "cell_type": "markdown",
      "source": [
        "## What to turn in?"
      ],
      "metadata": {
        "id": "UL_l7Bv1B6h8"
      }
    },
    {
      "cell_type": "markdown",
      "source": [
        "Turn in the following:\n",
        "\n",
        "1.   Code used to obtain ACT_Final.\n",
        "2.   Code used to obtain MNSchoolInformation_Final.\n",
        "3.   Code used to obtain Census_Final.\n",
        "4.  Outcomes from your analysis: 1) correlation matrix, 2) three scatterplots showing relationship between Composite score and the three census variables of interest.\n",
        "5.  A three/four sentence written summary of your analysis.\n",
        "\n"
      ],
      "metadata": {
        "id": "O18ehj3HB-Ey"
      }
    },
    {
      "cell_type": "markdown",
      "source": [
        "\n",
        "\n",
        "---\n",
        "\n"
      ],
      "metadata": {
        "id": "vornwChW-gXq"
      }
    },
    {
      "cell_type": "code",
      "source": [
        "# Start your coding here.."
      ],
      "metadata": {
        "id": "4d9BjZkRCqPg"
      },
      "execution_count": null,
      "outputs": []
    }
  ]
}