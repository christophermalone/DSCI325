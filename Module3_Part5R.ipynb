{
  "nbformat": 4,
  "nbformat_minor": 0,
  "metadata": {
    "colab": {
      "name": "Module3_Part5R.ipynb",
      "provenance": [],
      "collapsed_sections": [],
      "authorship_tag": "ABX9TyPYiyK30FqOLQR8zK+wAzFY",
      "include_colab_link": true
    },
    "kernelspec": {
      "name": "ir",
      "display_name": "R"
    }
  },
  "cells": [
    {
      "cell_type": "markdown",
      "metadata": {
        "id": "view-in-github",
        "colab_type": "text"
      },
      "source": [
        "<a href=\"https://colab.research.google.com/github/christophermalone/DSCI325/blob/main/Module3_Part5R.ipynb\" target=\"_parent\"><img src=\"https://colab.research.google.com/assets/colab-badge.svg\" alt=\"Open In Colab\"/></a>"
      ]
    },
    {
      "cell_type": "markdown",
      "metadata": {
        "id": "j1cZH6CYQg3J"
      },
      "source": [
        "# Module 3 | Part 5 R: Data Verb - JOIN()\n"
      ]
    },
    {
      "cell_type": "markdown",
      "metadata": {
        "id": "e0COIR2BTaog"
      },
      "source": [
        "<table width='100%' ><tr><td bgcolor='green'></td></tr></table>\n",
        "\n",
        "### Example 3.5.R\n",
        "For this notebook, we will consider a total of three datasets. \n",
        "\n",
        "*   MNSchools_ACT.csv - contains information on ACT Scores for MN schools\n",
        "*   MNSchools_Information.csv - contains key information for MN schools\n",
        "*   ACS2019_CensusData_SchoolLevel.csv - contains census information (American Community Survey) by school district for MN schools\n",
        " \n",
        "<br>Data Sources: \n",
        "*   MNSchools_ACT: https://public.education.mn.gov/MDEAnalytics/DataTopic.jsp?TOPICID=87\n",
        "*   MNSchools_Information: https://public.education.mn.gov/MdeOrgView/search/tagged/MDEORG_DISTRICT_SCHOOL\n",
        "*   ACS2019_CensusData_SchoolLevel:  https://gisdata.mn.gov/dataset/us-mn-state-metc-society-census-acs \n",
        "\n",
        "<table width='100%' ><tr><td bgcolor='green'></td></tr></table>\n"
      ]
    },
    {
      "cell_type": "markdown",
      "metadata": {
        "id": "wFoJ00LgKSQj"
      },
      "source": [
        "To begin, load the three data filesinto the sample_data directory.\n",
        "\n",
        "<p align='center'><img src=\"https://drive.google.com/uc?export=view&id=1fB9VLraWPuHbcH5tajI6Erj6NS2FCDmo\"></p>\n"
      ]
    },
    {
      "cell_type": "markdown",
      "metadata": {
        "id": "D5p08j6fmxBE"
      },
      "source": [
        "To begin, the <strong>tidyverse</strong> package will be used throughout this notebook; thus, load this package."
      ]
    },
    {
      "cell_type": "code",
      "metadata": {
        "colab": {
          "base_uri": "https://localhost:8080/"
        },
        "id": "EhTTm3o1RHsJ",
        "outputId": "0d2efec1-04d5-45d9-f78a-6fcc1086d98e"
      },
      "source": [
        "library(tidyverse)"
      ],
      "execution_count": 2,
      "outputs": [
        {
          "output_type": "stream",
          "text": [
            "Warning message in system(\"timedatectl\", intern = TRUE):\n",
            "“running command 'timedatectl' had status 1”\n",
            "── \u001b[1mAttaching packages\u001b[22m ─────────────────────────────────────── tidyverse 1.3.0 ──\n",
            "\n",
            "\u001b[32m✔\u001b[39m \u001b[34mggplot2\u001b[39m 3.3.3     \u001b[32m✔\u001b[39m \u001b[34mpurrr  \u001b[39m 0.3.4\n",
            "\u001b[32m✔\u001b[39m \u001b[34mtibble \u001b[39m 3.1.0     \u001b[32m✔\u001b[39m \u001b[34mdplyr  \u001b[39m 1.0.5\n",
            "\u001b[32m✔\u001b[39m \u001b[34mtidyr  \u001b[39m 1.1.3     \u001b[32m✔\u001b[39m \u001b[34mstringr\u001b[39m 1.4.0\n",
            "\u001b[32m✔\u001b[39m \u001b[34mreadr  \u001b[39m 1.4.0     \u001b[32m✔\u001b[39m \u001b[34mforcats\u001b[39m 0.5.1\n",
            "\n",
            "── \u001b[1mConflicts\u001b[22m ────────────────────────────────────────── tidyverse_conflicts() ──\n",
            "\u001b[31m✖\u001b[39m \u001b[34mdplyr\u001b[39m::\u001b[32mfilter()\u001b[39m masks \u001b[34mstats\u001b[39m::filter()\n",
            "\u001b[31m✖\u001b[39m \u001b[34mdplyr\u001b[39m::\u001b[32mlag()\u001b[39m    masks \u001b[34mstats\u001b[39m::lag()\n",
            "\n"
          ],
          "name": "stderr"
        }
      ]
    },
    {
      "cell_type": "markdown",
      "metadata": {
        "id": "jP6Q_oVVLdwr"
      },
      "source": [
        "### Preparing the ACT File"
      ]
    },
    {
      "cell_type": "markdown",
      "metadata": {
        "id": "c-jtBTwRRH8R"
      },
      "source": [
        "To being, read in the MNSchools_ACT data file without specification of the data types.\n",
        "\n"
      ]
    },
    {
      "cell_type": "code",
      "metadata": {
        "id": "TOmPueZDRIYi",
        "colab": {
          "base_uri": "https://localhost:8080/"
        },
        "outputId": "5d506f06-45b7-457a-978d-d0e40c5fdb55"
      },
      "source": [
        "MN_ACT<-read_csv('/content/sample_data/MNSchools_ACT.csv')"
      ],
      "execution_count": 7,
      "outputs": [
        {
          "output_type": "stream",
          "text": [
            "\n",
            "\u001b[36m──\u001b[39m \u001b[1m\u001b[1mColumn specification\u001b[1m\u001b[22m \u001b[36m────────────────────────────────────────────────────────\u001b[39m\n",
            "cols(\n",
            "  ACTID = \u001b[32mcol_double()\u001b[39m,\n",
            "  DistrictName = \u001b[31mcol_character()\u001b[39m,\n",
            "  SchoolName = \u001b[31mcol_character()\u001b[39m,\n",
            "  Year = \u001b[32mcol_double()\u001b[39m,\n",
            "  NumberTookACT = \u001b[32mcol_double()\u001b[39m,\n",
            "  English = \u001b[32mcol_double()\u001b[39m,\n",
            "  Math = \u001b[32mcol_double()\u001b[39m,\n",
            "  Reading = \u001b[32mcol_double()\u001b[39m,\n",
            "  Science = \u001b[32mcol_double()\u001b[39m,\n",
            "  Score = \u001b[32mcol_double()\u001b[39m\n",
            ")\n",
            "\n",
            "\n"
          ],
          "name": "stderr"
        }
      ]
    },
    {
      "cell_type": "markdown",
      "metadata": {
        "id": "JffoevRBSgbe"
      },
      "source": [
        "Check the strucuture of the dataframe -- including the data types for each variable."
      ]
    },
    {
      "cell_type": "code",
      "metadata": {
        "colab": {
          "base_uri": "https://localhost:8080/"
        },
        "id": "VTtGcaH3Sgg8",
        "outputId": "b9777d95-1950-48b0-a967-311d388d8aec"
      },
      "source": [
        "#Using str() to investigate the structure of this dataframe.\n",
        " str(MN_ACT) "
      ],
      "execution_count": 4,
      "outputs": [
        {
          "output_type": "stream",
          "text": [
            "spec_tbl_df [3,860 × 10] (S3: spec_tbl_df/tbl_df/tbl/data.frame)\n",
            " $ ACTID        : num [1:3860] 247550 247550 247550 247550 247550 ...\n",
            " $ DistrictName : chr [1:3860] \"ADA-BORUP SCHOOL DISTRICT 2854\" \"ADA-BORUP SCHOOL DISTRICT 2854\" \"ADA-BORUP SCHOOL DISTRICT 2854\" \"ADA-BORUP SCHOOL DISTRICT 2854\" ...\n",
            " $ SchoolName   : chr [1:3860] \"ADA-BORUP HIGH SCHOOL\" \"ADA-BORUP HIGH SCHOOL\" \"ADA-BORUP HIGH SCHOOL\" \"ADA-BORUP HIGH SCHOOL\" ...\n",
            " $ Year         : num [1:3860] 2015 2016 2017 2018 2019 ...\n",
            " $ NumberTookACT: num [1:3860] 28 40 24 27 28 0 0 0 7 1 ...\n",
            " $ English      : num [1:3860] 21.1 20.6 20.3 21.3 22.1 NA NA NA NA NA ...\n",
            " $ Math         : num [1:3860] 21.2 20.6 20 21.3 20.9 NA NA NA NA NA ...\n",
            " $ Reading      : num [1:3860] 22.5 21.6 22.3 22.3 22.6 NA NA NA NA NA ...\n",
            " $ Science      : num [1:3860] 21.9 21.4 21.8 20.4 22.6 NA NA NA NA NA ...\n",
            " $ Score        : num [1:3860] 21.9 21.2 21.2 21.4 22.1 NA NA NA NA NA ...\n",
            " - attr(*, \"spec\")=\n",
            "  .. cols(\n",
            "  ..   ACTID = \u001b[32mcol_double()\u001b[39m,\n",
            "  ..   DistrictName = \u001b[31mcol_character()\u001b[39m,\n",
            "  ..   SchoolName = \u001b[31mcol_character()\u001b[39m,\n",
            "  ..   Year = \u001b[32mcol_double()\u001b[39m,\n",
            "  ..   NumberTookACT = \u001b[32mcol_double()\u001b[39m,\n",
            "  ..   English = \u001b[32mcol_double()\u001b[39m,\n",
            "  ..   Math = \u001b[32mcol_double()\u001b[39m,\n",
            "  ..   Reading = \u001b[32mcol_double()\u001b[39m,\n",
            "  ..   Science = \u001b[32mcol_double()\u001b[39m,\n",
            "  ..   Score = \u001b[32mcol_double()\u001b[39m\n",
            "  .. )\n"
          ],
          "name": "stdout"
        }
      ]
    },
    {
      "cell_type": "markdown",
      "metadata": {
        "id": "vzNGGB-JNdm_"
      },
      "source": [
        "<strong>Comments</strong>:\n",
        "\n",
        "*    ACTID will be used as a <strong>key</strong> variable for upcoming JOINs. For these data files it will be best to have ACTID specifed as a string (i.e. character type).\n",
        "*    Year will be specifed as character as well as it simply indicates one of five levels in this dataframe."
      ]
    },
    {
      "cell_type": "markdown",
      "metadata": {
        "id": "BBf_WaPWOOtW"
      },
      "source": [
        "The following modification can be made to the read_csv() function to allow for specification of particular data type for a variable.\n",
        "\n",
        "<p align=\"center\">\n",
        "<font size=\"+2\">\n",
        "read_csv( <i>file</i>, col_types = cols( <i>variable name</i> = <i>data type</i>) )\n",
        "</font>\n",
        "</p>\n",
        "\n"
      ]
    },
    {
      "cell_type": "markdown",
      "metadata": {
        "id": "_ZP0Q5QhPHt3"
      },
      "source": [
        "The following is a list of possible specificiations for variables that are avaiable when using read_csv from the tidyverse / readr package.\n",
        "<p align='center'><img src=\"https://drive.google.com/uc?export=view&id=1QVOuCBYd5rnWUQF0Jf92A2jCWvU4Wu3k\"></p>"
      ]
    },
    {
      "cell_type": "markdown",
      "metadata": {
        "id": "H4tpQSpVMsRs"
      },
      "source": [
        "Read in the MNSchools_ACT data file with column specifications for ACTID and Year.\n",
        "\n",
        "*    ACTID specify as character (i.e. string)\n",
        "*    Year specifiy as character (i.e. string)\n"
      ]
    },
    {
      "cell_type": "code",
      "metadata": {
        "id": "AVfiHpi1MsZq"
      },
      "source": [
        "#Read in MNSchools_ACT with data type specification for ACTID and Year\n",
        "MN_ACT<-read_csv('/content/sample_data/MNSchools_ACT.csv', col_types = cols(ACTID = col_character(), Year = col_character()))"
      ],
      "execution_count": 56,
      "outputs": []
    },
    {
      "cell_type": "markdown",
      "metadata": {
        "id": "ZCsbmD0QM7sd"
      },
      "source": [
        "Quick check to make sure the specifications were successful."
      ]
    },
    {
      "cell_type": "code",
      "metadata": {
        "colab": {
          "base_uri": "https://localhost:8080/"
        },
        "id": "qrWd9hr0M71U",
        "outputId": "44df9c05-cc61-45cd-eea0-da101a97f334"
      },
      "source": [
        "#Using str() to investigate the structure of this dataframe.\n",
        " str(MN_ACT) "
      ],
      "execution_count": 6,
      "outputs": [
        {
          "output_type": "stream",
          "text": [
            "spec_tbl_df [3,860 × 10] (S3: spec_tbl_df/tbl_df/tbl/data.frame)\n",
            " $ ACTID        : chr [1:3860] \"247550\" \"247550\" \"247550\" \"247550\" ...\n",
            " $ DistrictName : chr [1:3860] \"ADA-BORUP SCHOOL DISTRICT 2854\" \"ADA-BORUP SCHOOL DISTRICT 2854\" \"ADA-BORUP SCHOOL DISTRICT 2854\" \"ADA-BORUP SCHOOL DISTRICT 2854\" ...\n",
            " $ SchoolName   : chr [1:3860] \"ADA-BORUP HIGH SCHOOL\" \"ADA-BORUP HIGH SCHOOL\" \"ADA-BORUP HIGH SCHOOL\" \"ADA-BORUP HIGH SCHOOL\" ...\n",
            " $ Year         : chr [1:3860] \"2015\" \"2016\" \"2017\" \"2018\" ...\n",
            " $ NumberTookACT: num [1:3860] 28 40 24 27 28 0 0 0 7 1 ...\n",
            " $ English      : num [1:3860] 21.1 20.6 20.3 21.3 22.1 NA NA NA NA NA ...\n",
            " $ Math         : num [1:3860] 21.2 20.6 20 21.3 20.9 NA NA NA NA NA ...\n",
            " $ Reading      : num [1:3860] 22.5 21.6 22.3 22.3 22.6 NA NA NA NA NA ...\n",
            " $ Science      : num [1:3860] 21.9 21.4 21.8 20.4 22.6 NA NA NA NA NA ...\n",
            " $ Score        : num [1:3860] 21.9 21.2 21.2 21.4 22.1 NA NA NA NA NA ...\n",
            " - attr(*, \"spec\")=\n",
            "  .. cols(\n",
            "  ..   ACTID = \u001b[31mcol_character()\u001b[39m,\n",
            "  ..   DistrictName = \u001b[31mcol_character()\u001b[39m,\n",
            "  ..   SchoolName = \u001b[31mcol_character()\u001b[39m,\n",
            "  ..   Year = \u001b[31mcol_character()\u001b[39m,\n",
            "  ..   NumberTookACT = \u001b[32mcol_double()\u001b[39m,\n",
            "  ..   English = \u001b[32mcol_double()\u001b[39m,\n",
            "  ..   Math = \u001b[32mcol_double()\u001b[39m,\n",
            "  ..   Reading = \u001b[32mcol_double()\u001b[39m,\n",
            "  ..   Science = \u001b[32mcol_double()\u001b[39m,\n",
            "  ..   Score = \u001b[32mcol_double()\u001b[39m\n",
            "  .. )\n"
          ],
          "name": "stdout"
        }
      ]
    },
    {
      "cell_type": "markdown",
      "metadata": {
        "id": "2KKi4fwhQQLS"
      },
      "source": [
        "Taking a look at the first few rows of the dataframe."
      ]
    },
    {
      "cell_type": "code",
      "metadata": {
        "colab": {
          "base_uri": "https://localhost:8080/",
          "height": 288
        },
        "id": "h5aECVBLQQT4",
        "outputId": "845f35bb-0223-4563-ada3-e1638ae7b12e"
      },
      "source": [
        "#Looking at first fews rows of data\n",
        "dim(MN_ACT)\n",
        "head(MN_ACT)"
      ],
      "execution_count": 11,
      "outputs": [
        {
          "output_type": "display_data",
          "data": {
            "text/plain": [
              "[1] 3860   10"
            ],
            "text/latex": "\\begin{enumerate*}\n\\item 3860\n\\item 10\n\\end{enumerate*}\n",
            "text/markdown": "1. 3860\n2. 10\n\n\n",
            "text/html": [
              "<style>\n",
              ".list-inline {list-style: none; margin:0; padding: 0}\n",
              ".list-inline>li {display: inline-block}\n",
              ".list-inline>li:not(:last-child)::after {content: \"\\00b7\"; padding: 0 .5ex}\n",
              "</style>\n",
              "<ol class=list-inline><li>3860</li><li>10</li></ol>\n"
            ]
          },
          "metadata": {
            "tags": []
          }
        },
        {
          "output_type": "display_data",
          "data": {
            "text/plain": [
              "  ACTID  DistrictName                   SchoolName            Year\n",
              "1 247550 ADA-BORUP SCHOOL DISTRICT 2854 ADA-BORUP HIGH SCHOOL 2015\n",
              "2 247550 ADA-BORUP SCHOOL DISTRICT 2854 ADA-BORUP HIGH SCHOOL 2016\n",
              "3 247550 ADA-BORUP SCHOOL DISTRICT 2854 ADA-BORUP HIGH SCHOOL 2017\n",
              "4 247550 ADA-BORUP SCHOOL DISTRICT 2854 ADA-BORUP HIGH SCHOOL 2018\n",
              "5 247550 ADA-BORUP SCHOOL DISTRICT 2854 ADA-BORUP HIGH SCHOOL 2019\n",
              "6 247180 ROSEMOUNT-APPLE VLY-EAGAN 196  DAKOTA RIDGE SCHOOL   2015\n",
              "  NumberTookACT English Math Reading Science Score\n",
              "1 28            21.1    21.2 22.5    21.9    21.9 \n",
              "2 40            20.6    20.6 21.6    21.4    21.2 \n",
              "3 24            20.3    20.0 22.3    21.8    21.2 \n",
              "4 27            21.3    21.3 22.3    20.4    21.4 \n",
              "5 28            22.1    20.9 22.6    22.6    22.1 \n",
              "6  0              NA      NA   NA      NA      NA "
            ],
            "text/latex": "A tibble: 6 × 10\n\\begin{tabular}{llllllllll}\n ACTID & DistrictName & SchoolName & Year & NumberTookACT & English & Math & Reading & Science & Score\\\\\n <chr> & <chr> & <chr> & <chr> & <dbl> & <dbl> & <dbl> & <dbl> & <dbl> & <dbl>\\\\\n\\hline\n\t 247550 & ADA-BORUP SCHOOL DISTRICT 2854 & ADA-BORUP HIGH SCHOOL & 2015 & 28 & 21.1 & 21.2 & 22.5 & 21.9 & 21.9\\\\\n\t 247550 & ADA-BORUP SCHOOL DISTRICT 2854 & ADA-BORUP HIGH SCHOOL & 2016 & 40 & 20.6 & 20.6 & 21.6 & 21.4 & 21.2\\\\\n\t 247550 & ADA-BORUP SCHOOL DISTRICT 2854 & ADA-BORUP HIGH SCHOOL & 2017 & 24 & 20.3 & 20.0 & 22.3 & 21.8 & 21.2\\\\\n\t 247550 & ADA-BORUP SCHOOL DISTRICT 2854 & ADA-BORUP HIGH SCHOOL & 2018 & 27 & 21.3 & 21.3 & 22.3 & 20.4 & 21.4\\\\\n\t 247550 & ADA-BORUP SCHOOL DISTRICT 2854 & ADA-BORUP HIGH SCHOOL & 2019 & 28 & 22.1 & 20.9 & 22.6 & 22.6 & 22.1\\\\\n\t 247180 & ROSEMOUNT-APPLE VLY-EAGAN 196  & DAKOTA RIDGE SCHOOL   & 2015 &  0 &   NA &   NA &   NA &   NA &   NA\\\\\n\\end{tabular}\n",
            "text/markdown": "\nA tibble: 6 × 10\n\n| ACTID &lt;chr&gt; | DistrictName &lt;chr&gt; | SchoolName &lt;chr&gt; | Year &lt;chr&gt; | NumberTookACT &lt;dbl&gt; | English &lt;dbl&gt; | Math &lt;dbl&gt; | Reading &lt;dbl&gt; | Science &lt;dbl&gt; | Score &lt;dbl&gt; |\n|---|---|---|---|---|---|---|---|---|---|\n| 247550 | ADA-BORUP SCHOOL DISTRICT 2854 | ADA-BORUP HIGH SCHOOL | 2015 | 28 | 21.1 | 21.2 | 22.5 | 21.9 | 21.9 |\n| 247550 | ADA-BORUP SCHOOL DISTRICT 2854 | ADA-BORUP HIGH SCHOOL | 2016 | 40 | 20.6 | 20.6 | 21.6 | 21.4 | 21.2 |\n| 247550 | ADA-BORUP SCHOOL DISTRICT 2854 | ADA-BORUP HIGH SCHOOL | 2017 | 24 | 20.3 | 20.0 | 22.3 | 21.8 | 21.2 |\n| 247550 | ADA-BORUP SCHOOL DISTRICT 2854 | ADA-BORUP HIGH SCHOOL | 2018 | 27 | 21.3 | 21.3 | 22.3 | 20.4 | 21.4 |\n| 247550 | ADA-BORUP SCHOOL DISTRICT 2854 | ADA-BORUP HIGH SCHOOL | 2019 | 28 | 22.1 | 20.9 | 22.6 | 22.6 | 22.1 |\n| 247180 | ROSEMOUNT-APPLE VLY-EAGAN 196  | DAKOTA RIDGE SCHOOL   | 2015 |  0 |   NA |   NA |   NA |   NA |   NA |\n\n",
            "text/html": [
              "<table class=\"dataframe\">\n",
              "<caption>A tibble: 6 × 10</caption>\n",
              "<thead>\n",
              "\t<tr><th scope=col>ACTID</th><th scope=col>DistrictName</th><th scope=col>SchoolName</th><th scope=col>Year</th><th scope=col>NumberTookACT</th><th scope=col>English</th><th scope=col>Math</th><th scope=col>Reading</th><th scope=col>Science</th><th scope=col>Score</th></tr>\n",
              "\t<tr><th scope=col>&lt;chr&gt;</th><th scope=col>&lt;chr&gt;</th><th scope=col>&lt;chr&gt;</th><th scope=col>&lt;chr&gt;</th><th scope=col>&lt;dbl&gt;</th><th scope=col>&lt;dbl&gt;</th><th scope=col>&lt;dbl&gt;</th><th scope=col>&lt;dbl&gt;</th><th scope=col>&lt;dbl&gt;</th><th scope=col>&lt;dbl&gt;</th></tr>\n",
              "</thead>\n",
              "<tbody>\n",
              "\t<tr><td>247550</td><td>ADA-BORUP SCHOOL DISTRICT 2854</td><td>ADA-BORUP HIGH SCHOOL</td><td>2015</td><td>28</td><td>21.1</td><td>21.2</td><td>22.5</td><td>21.9</td><td>21.9</td></tr>\n",
              "\t<tr><td>247550</td><td>ADA-BORUP SCHOOL DISTRICT 2854</td><td>ADA-BORUP HIGH SCHOOL</td><td>2016</td><td>40</td><td>20.6</td><td>20.6</td><td>21.6</td><td>21.4</td><td>21.2</td></tr>\n",
              "\t<tr><td>247550</td><td>ADA-BORUP SCHOOL DISTRICT 2854</td><td>ADA-BORUP HIGH SCHOOL</td><td>2017</td><td>24</td><td>20.3</td><td>20.0</td><td>22.3</td><td>21.8</td><td>21.2</td></tr>\n",
              "\t<tr><td>247550</td><td>ADA-BORUP SCHOOL DISTRICT 2854</td><td>ADA-BORUP HIGH SCHOOL</td><td>2018</td><td>27</td><td>21.3</td><td>21.3</td><td>22.3</td><td>20.4</td><td>21.4</td></tr>\n",
              "\t<tr><td>247550</td><td>ADA-BORUP SCHOOL DISTRICT 2854</td><td>ADA-BORUP HIGH SCHOOL</td><td>2019</td><td>28</td><td>22.1</td><td>20.9</td><td>22.6</td><td>22.6</td><td>22.1</td></tr>\n",
              "\t<tr><td>247180</td><td>ROSEMOUNT-APPLE VLY-EAGAN 196 </td><td>DAKOTA RIDGE SCHOOL  </td><td>2015</td><td> 0</td><td>  NA</td><td>  NA</td><td>  NA</td><td>  NA</td><td>  NA</td></tr>\n",
              "</tbody>\n",
              "</table>\n"
            ]
          },
          "metadata": {
            "tags": []
          }
        }
      ]
    },
    {
      "cell_type": "markdown",
      "metadata": {
        "id": "s_OByJgmRYJd"
      },
      "source": [
        "Data Task #1:\n",
        "\n",
        "*    Use only the most recent ACT Scores, i.e. Year == \"2019\"\n",
        "*    Ignore any schools that do not have ACT scores included (schools must have 10 or more students take ACT to have their ACT scores included).\n",
        "*    Additional rows are included under the name \"All Schools\" these rows should not be included.\n",
        "\n",
        "<p align='center'><img src=\"https://drive.google.com/uc?export=view&id=1hRwVeJYEKcp6BtGvVmgSQko0dH04VVmE\"></p>"
      ]
    },
    {
      "cell_type": "markdown",
      "metadata": {
        "id": "Bk1kac2teONW"
      },
      "source": [
        "Getting the desired data.  Keep only the following columns in this table -- ACTID, SchoolName, Year, NumberTookACT, and Score."
      ]
    },
    {
      "cell_type": "code",
      "metadata": {
        "colab": {
          "base_uri": "https://localhost:8080/",
          "height": 288
        },
        "id": "KSCGq4LacWww",
        "outputId": "c70cb227-c39b-4118-8d99-9d6a1c49a40c"
      },
      "source": [
        "#Getting desired data\n",
        "(\n",
        "  MN_ACT\n",
        "  %>% filter(Year == \"2019\")\n",
        "  %>% filter(SchoolName != \"All Schools\")\n",
        "  %>% drop_na() \n",
        "  %>% select(ACTID, SchoolName, Year, NumberTookACT, Score)\n",
        " ) -> MN_ACT_2019\n",
        "\n",
        " dim(MN_ACT_2019)\n",
        " head(MN_ACT_2019)\n"
      ],
      "execution_count": 59,
      "outputs": [
        {
          "output_type": "display_data",
          "data": {
            "text/plain": [
              "[1] 387   5"
            ],
            "text/latex": "\\begin{enumerate*}\n\\item 387\n\\item 5\n\\end{enumerate*}\n",
            "text/markdown": "1. 387\n2. 5\n\n\n",
            "text/html": [
              "<style>\n",
              ".list-inline {list-style: none; margin:0; padding: 0}\n",
              ".list-inline>li {display: inline-block}\n",
              ".list-inline>li:not(:last-child)::after {content: \"\\00b7\"; padding: 0 .5ex}\n",
              "</style>\n",
              "<ol class=list-inline><li>387</li><li>5</li></ol>\n"
            ]
          },
          "metadata": {
            "tags": []
          }
        },
        {
          "output_type": "display_data",
          "data": {
            "text/plain": [
              "  ACTID  SchoolName                    Year NumberTookACT Score\n",
              "1 247550 ADA-BORUP HIGH SCHOOL         2019  28           22.1 \n",
              "2 247524 SOUTHLAND SENIOR HIGH SCHOOL  2019  36           19.1 \n",
              "3 247544 ADRIAN HIGH SCHOOL            2019  49           20.4 \n",
              "4 247002 AITKIN HIGH SCHOOL            2019  78           19.6 \n",
              "5 247788 ALBANY AREA HIGH SCHOOL       2019 107           21.1 \n",
              "6 247246 ALBERT LEA SENIOR HIGH SCHOOL 2019 192           19.1 "
            ],
            "text/latex": "A tibble: 6 × 5\n\\begin{tabular}{lllll}\n ACTID & SchoolName & Year & NumberTookACT & Score\\\\\n <chr> & <chr> & <chr> & <dbl> & <dbl>\\\\\n\\hline\n\t 247550 & ADA-BORUP HIGH SCHOOL         & 2019 &  28 & 22.1\\\\\n\t 247524 & SOUTHLAND SENIOR HIGH SCHOOL  & 2019 &  36 & 19.1\\\\\n\t 247544 & ADRIAN HIGH SCHOOL            & 2019 &  49 & 20.4\\\\\n\t 247002 & AITKIN HIGH SCHOOL            & 2019 &  78 & 19.6\\\\\n\t 247788 & ALBANY AREA HIGH SCHOOL       & 2019 & 107 & 21.1\\\\\n\t 247246 & ALBERT LEA SENIOR HIGH SCHOOL & 2019 & 192 & 19.1\\\\\n\\end{tabular}\n",
            "text/markdown": "\nA tibble: 6 × 5\n\n| ACTID &lt;chr&gt; | SchoolName &lt;chr&gt; | Year &lt;chr&gt; | NumberTookACT &lt;dbl&gt; | Score &lt;dbl&gt; |\n|---|---|---|---|---|\n| 247550 | ADA-BORUP HIGH SCHOOL         | 2019 |  28 | 22.1 |\n| 247524 | SOUTHLAND SENIOR HIGH SCHOOL  | 2019 |  36 | 19.1 |\n| 247544 | ADRIAN HIGH SCHOOL            | 2019 |  49 | 20.4 |\n| 247002 | AITKIN HIGH SCHOOL            | 2019 |  78 | 19.6 |\n| 247788 | ALBANY AREA HIGH SCHOOL       | 2019 | 107 | 21.1 |\n| 247246 | ALBERT LEA SENIOR HIGH SCHOOL | 2019 | 192 | 19.1 |\n\n",
            "text/html": [
              "<table class=\"dataframe\">\n",
              "<caption>A tibble: 6 × 5</caption>\n",
              "<thead>\n",
              "\t<tr><th scope=col>ACTID</th><th scope=col>SchoolName</th><th scope=col>Year</th><th scope=col>NumberTookACT</th><th scope=col>Score</th></tr>\n",
              "\t<tr><th scope=col>&lt;chr&gt;</th><th scope=col>&lt;chr&gt;</th><th scope=col>&lt;chr&gt;</th><th scope=col>&lt;dbl&gt;</th><th scope=col>&lt;dbl&gt;</th></tr>\n",
              "</thead>\n",
              "<tbody>\n",
              "\t<tr><td>247550</td><td>ADA-BORUP HIGH SCHOOL        </td><td>2019</td><td> 28</td><td>22.1</td></tr>\n",
              "\t<tr><td>247524</td><td>SOUTHLAND SENIOR HIGH SCHOOL </td><td>2019</td><td> 36</td><td>19.1</td></tr>\n",
              "\t<tr><td>247544</td><td>ADRIAN HIGH SCHOOL           </td><td>2019</td><td> 49</td><td>20.4</td></tr>\n",
              "\t<tr><td>247002</td><td>AITKIN HIGH SCHOOL           </td><td>2019</td><td> 78</td><td>19.6</td></tr>\n",
              "\t<tr><td>247788</td><td>ALBANY AREA HIGH SCHOOL      </td><td>2019</td><td>107</td><td>21.1</td></tr>\n",
              "\t<tr><td>247246</td><td>ALBERT LEA SENIOR HIGH SCHOOL</td><td>2019</td><td>192</td><td>19.1</td></tr>\n",
              "</tbody>\n",
              "</table>\n"
            ]
          },
          "metadata": {
            "tags": []
          }
        }
      ]
    },
    {
      "cell_type": "markdown",
      "metadata": {
        "id": "jhPJNG6LTDFr"
      },
      "source": [
        "###  Preparing the MN School Information Data"
      ]
    },
    {
      "cell_type": "markdown",
      "metadata": {
        "id": "zRFsh1QreUf-"
      },
      "source": [
        "To begin, lets read in the MNSChools_Information data file with the default data types."
      ]
    },
    {
      "cell_type": "code",
      "metadata": {
        "colab": {
          "base_uri": "https://localhost:8080/"
        },
        "id": "6QKEXPiBTQ6Z",
        "outputId": "f768d394-da40-4217-f080-1f6c1ddfb0fd"
      },
      "source": [
        "MN_SchoolInfo <- read_csv('/content/sample_data/MNSchools_Information.csv')"
      ],
      "execution_count": 17,
      "outputs": [
        {
          "output_type": "stream",
          "text": [
            "\n",
            "\u001b[36m──\u001b[39m \u001b[1m\u001b[1mColumn specification\u001b[1m\u001b[22m \u001b[36m────────────────────────────────────────────────────────\u001b[39m\n",
            "cols(\n",
            "  DistrictNumber = \u001b[32mcol_double()\u001b[39m,\n",
            "  DistrictType = \u001b[32mcol_double()\u001b[39m,\n",
            "  SchoolNumber = \u001b[32mcol_double()\u001b[39m,\n",
            "  MNSchoolID = \u001b[31mcol_character()\u001b[39m,\n",
            "  SchoolName = \u001b[31mcol_character()\u001b[39m,\n",
            "  Address = \u001b[31mcol_character()\u001b[39m,\n",
            "  City = \u001b[31mcol_character()\u001b[39m,\n",
            "  State = \u001b[31mcol_character()\u001b[39m,\n",
            "  Zipcode = \u001b[31mcol_character()\u001b[39m,\n",
            "  County = \u001b[31mcol_character()\u001b[39m,\n",
            "  Grades = \u001b[31mcol_character()\u001b[39m,\n",
            "  NCESID = \u001b[32mcol_double()\u001b[39m,\n",
            "  StateOrganizationId = \u001b[32mcol_double()\u001b[39m,\n",
            "  ACTID = \u001b[32mcol_double()\u001b[39m\n",
            ")\n",
            "\n",
            "\n"
          ],
          "name": "stderr"
        }
      ]
    },
    {
      "cell_type": "markdown",
      "metadata": {
        "id": "xkXYy1nUUPgi"
      },
      "source": [
        "In this data file there are various fields that will be used as <strong>key</strong> fields.  Upcoming JOINs will be accomplished more easily if these are specifed as character (i.e. strings).\n",
        "\n",
        "*   DistrictNumber + DistrictType + SchoolNumber combination can be used to uniquely identify a school in MN\n",
        "*   NECSID is a nataional code that can be used to uniquely identify school districts\n",
        "*   StateOrganizationID is a secondary key that can be used to uniquely identify schools in MN\n",
        "*   ACTID is an code used to uniquely identify schools in regards to their ACT Scores."
      ]
    },
    {
      "cell_type": "code",
      "metadata": {
        "id": "u8IK9PuoUQYf"
      },
      "source": [
        "#Read in the MNSchool_Information data file and specify ALL fields as character (i.e. strings)\n",
        "MN_SchoolInfo <- read_csv('/content/sample_data/MNSchools_Information.csv', col_types = cols(.default = \"c\"))"
      ],
      "execution_count": 20,
      "outputs": []
    },
    {
      "cell_type": "markdown",
      "metadata": {
        "id": "eJgQR0m3Vo1_"
      },
      "source": [
        "Taking a quick look to ensure all variables are indeed characters (i.e. strings)."
      ]
    },
    {
      "cell_type": "code",
      "metadata": {
        "colab": {
          "base_uri": "https://localhost:8080/"
        },
        "id": "pSjqVWdkVo_h",
        "outputId": "f247f3a1-2494-4605-8560-00f80bd1b594"
      },
      "source": [
        "#Looking at the structure of this dataframe\n",
        "str(MN_SchoolInfo)"
      ],
      "execution_count": 19,
      "outputs": [
        {
          "output_type": "stream",
          "text": [
            "spec_tbl_df [3,924 × 14] (S3: spec_tbl_df/tbl_df/tbl/data.frame)\n",
            " $ DistrictNumber     : chr [1:3924] \"1\" \"1\" \"1\" \"1\" ...\n",
            " $ DistrictType       : chr [1:3924] \"1\" \"1\" \"1\" \"1\" ...\n",
            " $ SchoolNumber       : chr [1:3924] \"0\" \"1\" \"2\" \"6\" ...\n",
            " $ MNSchoolID         : chr [1:3924] \"0001-01\" \"0001-01-001\" \"0001-01-002\" \"0001-01-006\" ...\n",
            " $ SchoolName         : chr [1:3924] \"Aitkin Public School District\" \"Aitkin Secondary School\" \"Rippleside Elementary\" \"Aitkin Alternative Learning Program\" ...\n",
            " $ Address            : chr [1:3924] \"306 2nd St NW\" \"306 2nd St NW\" \"225 2nd Ave SW\" \"12 7th St NW\" ...\n",
            " $ City               : chr [1:3924] \"Aitkin\" \"Aitkin\" \"Aitkin\" \"Aitkin\" ...\n",
            " $ State              : chr [1:3924] \"MN\" \"MN\" \"MN\" \"MN\" ...\n",
            " $ Zipcode            : chr [1:3924] \"56431-1289\" \"56431\" \"56431\" \"56431\" ...\n",
            " $ County             : chr [1:3924] \"Aitkin County, MN\" \"Aitkin County, MN\" \"Aitkin County, MN\" \"Aitkin County, MN\" ...\n",
            " $ Grades             : chr [1:3924] NA \"7-12\" \"EC-6\" \"7-12\" ...\n",
            " $ NCESID             : chr [1:3924] \"2702760\" \"270276000057\" \"270276000059\" \"270276002789\" ...\n",
            " $ StateOrganizationId: chr [1:3924] \"10001000000\" \"10001001000\" \"10001002000\" \"10001006000\" ...\n",
            " $ ACTID              : chr [1:3924] \"247002\" \"240020\" NA NA ...\n",
            " - attr(*, \"spec\")=\n",
            "  .. cols(\n",
            "  ..   .default = col_character(),\n",
            "  ..   DistrictNumber = \u001b[31mcol_character()\u001b[39m,\n",
            "  ..   DistrictType = \u001b[31mcol_character()\u001b[39m,\n",
            "  ..   SchoolNumber = \u001b[31mcol_character()\u001b[39m,\n",
            "  ..   MNSchoolID = \u001b[31mcol_character()\u001b[39m,\n",
            "  ..   SchoolName = \u001b[31mcol_character()\u001b[39m,\n",
            "  ..   Address = \u001b[31mcol_character()\u001b[39m,\n",
            "  ..   City = \u001b[31mcol_character()\u001b[39m,\n",
            "  ..   State = \u001b[31mcol_character()\u001b[39m,\n",
            "  ..   Zipcode = \u001b[31mcol_character()\u001b[39m,\n",
            "  ..   County = \u001b[31mcol_character()\u001b[39m,\n",
            "  ..   Grades = \u001b[31mcol_character()\u001b[39m,\n",
            "  ..   NCESID = \u001b[31mcol_character()\u001b[39m,\n",
            "  ..   StateOrganizationId = \u001b[31mcol_character()\u001b[39m,\n",
            "  ..   ACTID = \u001b[31mcol_character()\u001b[39m\n",
            "  .. )\n"
          ],
          "name": "stdout"
        }
      ]
    },
    {
      "cell_type": "markdown",
      "metadata": {
        "id": "Pkpd5WZ6WA4Z"
      },
      "source": [
        "Taking a quick look at this data."
      ]
    },
    {
      "cell_type": "code",
      "metadata": {
        "id": "6B7TwNRqWBA4"
      },
      "source": [
        "#Getting the dimension and looking at a few rows\n",
        "dim(MN_SchoolInfo)\n",
        "head(MN_SchoolInfo, 25)"
      ],
      "execution_count": null,
      "outputs": []
    },
    {
      "cell_type": "markdown",
      "metadata": {
        "id": "TyD4WN6sXDlV"
      },
      "source": [
        "Data Task #2:\n",
        "\n",
        "*   The MN_SchoolInfo dataframe as information for all schools -- only include schools that have an ACTID (i.e. high schools).\n",
        "*   In addition to each school, each school <i>district</i> as a different and unique ACTID.  The goal is to compare at the school level (not at the district leve); thus, filter out district information (i.e. filter out rows for which SchoolType == \"0\").\n",
        "\n"
      ]
    },
    {
      "cell_type": "code",
      "metadata": {
        "colab": {
          "base_uri": "https://localhost:8080/",
          "height": 702
        },
        "id": "ycEJEKywXDsW",
        "outputId": "b9b70991-90b6-4db7-c3ff-f186e5fbffe7"
      },
      "source": [
        "#Getting desired data\n",
        "(\n",
        "  MN_SchoolInfo\n",
        "  %>% drop_na(ACTID) \n",
        "  #%>% filter(SchoolNumber != \"0\")\n",
        "  %>% select(DistrictNumber, DistrictType, SchoolNumber, MNSchoolID, SchoolName, NCESID, ACTID)\n",
        " ) -> MN_SchoolInfo_ACTJoin\n",
        "\n",
        " dim(MN_SchoolInfo_ACTJoin)\n",
        " head(MN_SchoolInfo_ACTJoin, 20)"
      ],
      "execution_count": 46,
      "outputs": [
        {
          "output_type": "display_data",
          "data": {
            "text/plain": [
              "[1] 984   7"
            ],
            "text/latex": "\\begin{enumerate*}\n\\item 984\n\\item 7\n\\end{enumerate*}\n",
            "text/markdown": "1. 984\n2. 7\n\n\n",
            "text/html": [
              "<style>\n",
              ".list-inline {list-style: none; margin:0; padding: 0}\n",
              ".list-inline>li {display: inline-block}\n",
              ".list-inline>li:not(:last-child)::after {content: \"\\00b7\"; padding: 0 .5ex}\n",
              "</style>\n",
              "<ol class=list-inline><li>984</li><li>7</li></ol>\n"
            ]
          },
          "metadata": {
            "tags": []
          }
        },
        {
          "output_type": "display_data",
          "data": {
            "text/plain": [
              "   DistrictNumber DistrictType SchoolNumber MNSchoolID \n",
              "1  1              1            0            0001-01    \n",
              "2  1              1            1            0001-01-001\n",
              "3  2              1            0            0002-01    \n",
              "4  2              1            3            0002-01-003\n",
              "5  4              1            0            0004-01    \n",
              "6  4              1            40           0004-01-040\n",
              "7  11             1            0            0011-01    \n",
              "8  11             1            1            0011-01-001\n",
              "9  11             1            2            0011-01-002\n",
              "10 11             1            91           0011-01-091\n",
              "11 11             1            94           0011-01-094\n",
              "12 11             1            110          0011-01-110\n",
              "13 11             1            192          0011-01-192\n",
              "14 11             1            438          0011-01-438\n",
              "15 11             1            467          0011-01-467\n",
              "16 11             1            680          0011-01-680\n",
              "17 12             1            0            0012-01    \n",
              "18 12             1            164          0012-01-164\n",
              "19 12             1            167          0012-01-167\n",
              "20 12             1            169          0012-01-169\n",
              "   SchoolName                              NCESID       ACTID \n",
              "1  Aitkin Public School District           2702760      247002\n",
              "2  Aitkin Secondary School                 270276000057 240020\n",
              "3  Hill City Public School District        2714010      247004\n",
              "4  Hill City Senior High                   271401000724 241105\n",
              "5  McGregor Public School District         2719170      247006\n",
              "6  McGregor Secondary                      271917000904 241530\n",
              "7  Anoka-Hennepin Public School District   2703180      247008\n",
              "8  Anoka High School                       270318000096 240080\n",
              "9  Coon Rapids High School                 270318000100 240537\n",
              "10 Blaine High School                      270318000097 240256\n",
              "11 Andover High School                     270318003170 240070\n",
              "12 Anoka-Hennepin Regional High School     270318002029 240534\n",
              "13 Champlin Park High School               270318000021 240419\n",
              "14 Anoka-Hennepin Specialty Program        270318002503 972770\n",
              "15 River Trail Learning Center at LO Jacob 270318000005 972487\n",
              "16 Compass On-Line                         270318003665 972771\n",
              "17 Centennial Public School District       2708100      247010\n",
              "18 Centennial High School                  270810000334 240452\n",
              "19 Centennial Area Learning Center         270810002753 973754\n",
              "20 Centennial Extended School Year         2708100      974981"
            ],
            "text/latex": "A tibble: 20 × 7\n\\begin{tabular}{lllllll}\n DistrictNumber & DistrictType & SchoolNumber & MNSchoolID & SchoolName & NCESID & ACTID\\\\\n <chr> & <chr> & <chr> & <chr> & <chr> & <chr> & <chr>\\\\\n\\hline\n\t 1  & 1 & 0   & 0001-01     & Aitkin Public School District           & 2702760      & 247002\\\\\n\t 1  & 1 & 1   & 0001-01-001 & Aitkin Secondary School                 & 270276000057 & 240020\\\\\n\t 2  & 1 & 0   & 0002-01     & Hill City Public School District        & 2714010      & 247004\\\\\n\t 2  & 1 & 3   & 0002-01-003 & Hill City Senior High                   & 271401000724 & 241105\\\\\n\t 4  & 1 & 0   & 0004-01     & McGregor Public School District         & 2719170      & 247006\\\\\n\t 4  & 1 & 40  & 0004-01-040 & McGregor Secondary                      & 271917000904 & 241530\\\\\n\t 11 & 1 & 0   & 0011-01     & Anoka-Hennepin Public School District   & 2703180      & 247008\\\\\n\t 11 & 1 & 1   & 0011-01-001 & Anoka High School                       & 270318000096 & 240080\\\\\n\t 11 & 1 & 2   & 0011-01-002 & Coon Rapids High School                 & 270318000100 & 240537\\\\\n\t 11 & 1 & 91  & 0011-01-091 & Blaine High School                      & 270318000097 & 240256\\\\\n\t 11 & 1 & 94  & 0011-01-094 & Andover High School                     & 270318003170 & 240070\\\\\n\t 11 & 1 & 110 & 0011-01-110 & Anoka-Hennepin Regional High School     & 270318002029 & 240534\\\\\n\t 11 & 1 & 192 & 0011-01-192 & Champlin Park High School               & 270318000021 & 240419\\\\\n\t 11 & 1 & 438 & 0011-01-438 & Anoka-Hennepin Specialty Program        & 270318002503 & 972770\\\\\n\t 11 & 1 & 467 & 0011-01-467 & River Trail Learning Center at LO Jacob & 270318000005 & 972487\\\\\n\t 11 & 1 & 680 & 0011-01-680 & Compass On-Line                         & 270318003665 & 972771\\\\\n\t 12 & 1 & 0   & 0012-01     & Centennial Public School District       & 2708100      & 247010\\\\\n\t 12 & 1 & 164 & 0012-01-164 & Centennial High School                  & 270810000334 & 240452\\\\\n\t 12 & 1 & 167 & 0012-01-167 & Centennial Area Learning Center         & 270810002753 & 973754\\\\\n\t 12 & 1 & 169 & 0012-01-169 & Centennial Extended School Year         & 2708100      & 974981\\\\\n\\end{tabular}\n",
            "text/markdown": "\nA tibble: 20 × 7\n\n| DistrictNumber &lt;chr&gt; | DistrictType &lt;chr&gt; | SchoolNumber &lt;chr&gt; | MNSchoolID &lt;chr&gt; | SchoolName &lt;chr&gt; | NCESID &lt;chr&gt; | ACTID &lt;chr&gt; |\n|---|---|---|---|---|---|---|\n| 1  | 1 | 0   | 0001-01     | Aitkin Public School District           | 2702760      | 247002 |\n| 1  | 1 | 1   | 0001-01-001 | Aitkin Secondary School                 | 270276000057 | 240020 |\n| 2  | 1 | 0   | 0002-01     | Hill City Public School District        | 2714010      | 247004 |\n| 2  | 1 | 3   | 0002-01-003 | Hill City Senior High                   | 271401000724 | 241105 |\n| 4  | 1 | 0   | 0004-01     | McGregor Public School District         | 2719170      | 247006 |\n| 4  | 1 | 40  | 0004-01-040 | McGregor Secondary                      | 271917000904 | 241530 |\n| 11 | 1 | 0   | 0011-01     | Anoka-Hennepin Public School District   | 2703180      | 247008 |\n| 11 | 1 | 1   | 0011-01-001 | Anoka High School                       | 270318000096 | 240080 |\n| 11 | 1 | 2   | 0011-01-002 | Coon Rapids High School                 | 270318000100 | 240537 |\n| 11 | 1 | 91  | 0011-01-091 | Blaine High School                      | 270318000097 | 240256 |\n| 11 | 1 | 94  | 0011-01-094 | Andover High School                     | 270318003170 | 240070 |\n| 11 | 1 | 110 | 0011-01-110 | Anoka-Hennepin Regional High School     | 270318002029 | 240534 |\n| 11 | 1 | 192 | 0011-01-192 | Champlin Park High School               | 270318000021 | 240419 |\n| 11 | 1 | 438 | 0011-01-438 | Anoka-Hennepin Specialty Program        | 270318002503 | 972770 |\n| 11 | 1 | 467 | 0011-01-467 | River Trail Learning Center at LO Jacob | 270318000005 | 972487 |\n| 11 | 1 | 680 | 0011-01-680 | Compass On-Line                         | 270318003665 | 972771 |\n| 12 | 1 | 0   | 0012-01     | Centennial Public School District       | 2708100      | 247010 |\n| 12 | 1 | 164 | 0012-01-164 | Centennial High School                  | 270810000334 | 240452 |\n| 12 | 1 | 167 | 0012-01-167 | Centennial Area Learning Center         | 270810002753 | 973754 |\n| 12 | 1 | 169 | 0012-01-169 | Centennial Extended School Year         | 2708100      | 974981 |\n\n",
            "text/html": [
              "<table class=\"dataframe\">\n",
              "<caption>A tibble: 20 × 7</caption>\n",
              "<thead>\n",
              "\t<tr><th scope=col>DistrictNumber</th><th scope=col>DistrictType</th><th scope=col>SchoolNumber</th><th scope=col>MNSchoolID</th><th scope=col>SchoolName</th><th scope=col>NCESID</th><th scope=col>ACTID</th></tr>\n",
              "\t<tr><th scope=col>&lt;chr&gt;</th><th scope=col>&lt;chr&gt;</th><th scope=col>&lt;chr&gt;</th><th scope=col>&lt;chr&gt;</th><th scope=col>&lt;chr&gt;</th><th scope=col>&lt;chr&gt;</th><th scope=col>&lt;chr&gt;</th></tr>\n",
              "</thead>\n",
              "<tbody>\n",
              "\t<tr><td>1 </td><td>1</td><td>0  </td><td>0001-01    </td><td>Aitkin Public School District          </td><td>2702760     </td><td>247002</td></tr>\n",
              "\t<tr><td>1 </td><td>1</td><td>1  </td><td>0001-01-001</td><td>Aitkin Secondary School                </td><td>270276000057</td><td>240020</td></tr>\n",
              "\t<tr><td>2 </td><td>1</td><td>0  </td><td>0002-01    </td><td>Hill City Public School District       </td><td>2714010     </td><td>247004</td></tr>\n",
              "\t<tr><td>2 </td><td>1</td><td>3  </td><td>0002-01-003</td><td>Hill City Senior High                  </td><td>271401000724</td><td>241105</td></tr>\n",
              "\t<tr><td>4 </td><td>1</td><td>0  </td><td>0004-01    </td><td>McGregor Public School District        </td><td>2719170     </td><td>247006</td></tr>\n",
              "\t<tr><td>4 </td><td>1</td><td>40 </td><td>0004-01-040</td><td>McGregor Secondary                     </td><td>271917000904</td><td>241530</td></tr>\n",
              "\t<tr><td>11</td><td>1</td><td>0  </td><td>0011-01    </td><td>Anoka-Hennepin Public School District  </td><td>2703180     </td><td>247008</td></tr>\n",
              "\t<tr><td>11</td><td>1</td><td>1  </td><td>0011-01-001</td><td>Anoka High School                      </td><td>270318000096</td><td>240080</td></tr>\n",
              "\t<tr><td>11</td><td>1</td><td>2  </td><td>0011-01-002</td><td>Coon Rapids High School                </td><td>270318000100</td><td>240537</td></tr>\n",
              "\t<tr><td>11</td><td>1</td><td>91 </td><td>0011-01-091</td><td>Blaine High School                     </td><td>270318000097</td><td>240256</td></tr>\n",
              "\t<tr><td>11</td><td>1</td><td>94 </td><td>0011-01-094</td><td>Andover High School                    </td><td>270318003170</td><td>240070</td></tr>\n",
              "\t<tr><td>11</td><td>1</td><td>110</td><td>0011-01-110</td><td>Anoka-Hennepin Regional High School    </td><td>270318002029</td><td>240534</td></tr>\n",
              "\t<tr><td>11</td><td>1</td><td>192</td><td>0011-01-192</td><td>Champlin Park High School              </td><td>270318000021</td><td>240419</td></tr>\n",
              "\t<tr><td>11</td><td>1</td><td>438</td><td>0011-01-438</td><td>Anoka-Hennepin Specialty Program       </td><td>270318002503</td><td>972770</td></tr>\n",
              "\t<tr><td>11</td><td>1</td><td>467</td><td>0011-01-467</td><td>River Trail Learning Center at LO Jacob</td><td>270318000005</td><td>972487</td></tr>\n",
              "\t<tr><td>11</td><td>1</td><td>680</td><td>0011-01-680</td><td>Compass On-Line                        </td><td>270318003665</td><td>972771</td></tr>\n",
              "\t<tr><td>12</td><td>1</td><td>0  </td><td>0012-01    </td><td>Centennial Public School District      </td><td>2708100     </td><td>247010</td></tr>\n",
              "\t<tr><td>12</td><td>1</td><td>164</td><td>0012-01-164</td><td>Centennial High School                 </td><td>270810000334</td><td>240452</td></tr>\n",
              "\t<tr><td>12</td><td>1</td><td>167</td><td>0012-01-167</td><td>Centennial Area Learning Center        </td><td>270810002753</td><td>973754</td></tr>\n",
              "\t<tr><td>12</td><td>1</td><td>169</td><td>0012-01-169</td><td>Centennial Extended School Year        </td><td>2708100     </td><td>974981</td></tr>\n",
              "</tbody>\n",
              "</table>\n"
            ]
          },
          "metadata": {
            "tags": []
          }
        }
      ]
    },
    {
      "cell_type": "markdown",
      "metadata": {
        "id": "aUMIIW7SZ5Lc"
      },
      "source": [
        "Data Task #3\n",
        "\n",
        "*    The next thing that must be done is to reduce the NCESID field down to the <i>seven leftmost characters</i>.  The full NCESID field in this data file contains information down to the school level.  However, the census data only includes information down at the district level."
      ]
    },
    {
      "cell_type": "markdown",
      "metadata": {
        "id": "k02BaSaOc__X"
      },
      "source": [
        "\n",
        "\n",
        "<p align='center'><img src=\"https://drive.google.com/uc?export=view&id=1KidNIOJ4O1GbJWdVWfBGsCGbpeLuo1Ye\"></p>"
      ]
    },
    {
      "cell_type": "code",
      "metadata": {
        "colab": {
          "base_uri": "https://localhost:8080/",
          "height": 288
        },
        "id": "pI44XA-fZ5Ro",
        "outputId": "208a2995-4c6d-49c6-8a1e-65023664fa2b"
      },
      "source": [
        "#Getting an updated NCESID for the JOIN with census data\n",
        "(\n",
        "  MN_SchoolInfo_ACTJoin\n",
        "  %>% mutate(NCESID_ACT = str_sub(NCESID, 1,7) )\n",
        "  %>% select(ACTID, NCESID_ACT)\n",
        ") -> MN_SchoolInfo_ACTJoin\n",
        "\n",
        " dim(MN_SchoolInfo_ACTJoin)\n",
        " head(MN_SchoolInfo_ACTJoin)"
      ],
      "execution_count": 47,
      "outputs": [
        {
          "output_type": "display_data",
          "data": {
            "text/plain": [
              "[1] 984   2"
            ],
            "text/latex": "\\begin{enumerate*}\n\\item 984\n\\item 2\n\\end{enumerate*}\n",
            "text/markdown": "1. 984\n2. 2\n\n\n",
            "text/html": [
              "<style>\n",
              ".list-inline {list-style: none; margin:0; padding: 0}\n",
              ".list-inline>li {display: inline-block}\n",
              ".list-inline>li:not(:last-child)::after {content: \"\\00b7\"; padding: 0 .5ex}\n",
              "</style>\n",
              "<ol class=list-inline><li>984</li><li>2</li></ol>\n"
            ]
          },
          "metadata": {
            "tags": []
          }
        },
        {
          "output_type": "display_data",
          "data": {
            "text/plain": [
              "  ACTID  NCESID_ACT\n",
              "1 247002 2702760   \n",
              "2 240020 2702760   \n",
              "3 247004 2714010   \n",
              "4 241105 2714010   \n",
              "5 247006 2719170   \n",
              "6 241530 2719170   "
            ],
            "text/latex": "A tibble: 6 × 2\n\\begin{tabular}{ll}\n ACTID & NCESID\\_ACT\\\\\n <chr> & <chr>\\\\\n\\hline\n\t 247002 & 2702760\\\\\n\t 240020 & 2702760\\\\\n\t 247004 & 2714010\\\\\n\t 241105 & 2714010\\\\\n\t 247006 & 2719170\\\\\n\t 241530 & 2719170\\\\\n\\end{tabular}\n",
            "text/markdown": "\nA tibble: 6 × 2\n\n| ACTID &lt;chr&gt; | NCESID_ACT &lt;chr&gt; |\n|---|---|\n| 247002 | 2702760 |\n| 240020 | 2702760 |\n| 247004 | 2714010 |\n| 241105 | 2714010 |\n| 247006 | 2719170 |\n| 241530 | 2719170 |\n\n",
            "text/html": [
              "<table class=\"dataframe\">\n",
              "<caption>A tibble: 6 × 2</caption>\n",
              "<thead>\n",
              "\t<tr><th scope=col>ACTID</th><th scope=col>NCESID_ACT</th></tr>\n",
              "\t<tr><th scope=col>&lt;chr&gt;</th><th scope=col>&lt;chr&gt;</th></tr>\n",
              "</thead>\n",
              "<tbody>\n",
              "\t<tr><td>247002</td><td>2702760</td></tr>\n",
              "\t<tr><td>240020</td><td>2702760</td></tr>\n",
              "\t<tr><td>247004</td><td>2714010</td></tr>\n",
              "\t<tr><td>241105</td><td>2714010</td></tr>\n",
              "\t<tr><td>247006</td><td>2719170</td></tr>\n",
              "\t<tr><td>241530</td><td>2719170</td></tr>\n",
              "</tbody>\n",
              "</table>\n"
            ]
          },
          "metadata": {
            "tags": []
          }
        }
      ]
    },
    {
      "cell_type": "markdown",
      "metadata": {
        "id": "UPEd_MkldSLv"
      },
      "source": [
        "### JOIN -- Put the NCESID into ACT data"
      ]
    },
    {
      "cell_type": "code",
      "metadata": {
        "colab": {
          "base_uri": "https://localhost:8080/",
          "height": 288
        },
        "id": "sD9OwHgndSOg",
        "outputId": "845a9952-4141-4cf3-a8e0-fb3d2d9f3683"
      },
      "source": [
        "#Complete the JOIN\n",
        "(\n",
        "   MN_ACT_2019\n",
        "   %>% left_join(MN_SchoolInfo_ACTJoin, by=\"ACTID\")\n",
        "   %>% rename(NCESID = NCESID_ACT)\n",
        ") -> MN_ACT_2019\n",
        "\n",
        " dim(MN_ACT_2019)\n",
        " head(MN_ACT_2019)\n"
      ],
      "execution_count": 60,
      "outputs": [
        {
          "output_type": "display_data",
          "data": {
            "text/plain": [
              "[1] 406   6"
            ],
            "text/latex": "\\begin{enumerate*}\n\\item 406\n\\item 6\n\\end{enumerate*}\n",
            "text/markdown": "1. 406\n2. 6\n\n\n",
            "text/html": [
              "<style>\n",
              ".list-inline {list-style: none; margin:0; padding: 0}\n",
              ".list-inline>li {display: inline-block}\n",
              ".list-inline>li:not(:last-child)::after {content: \"\\00b7\"; padding: 0 .5ex}\n",
              "</style>\n",
              "<ol class=list-inline><li>406</li><li>6</li></ol>\n"
            ]
          },
          "metadata": {
            "tags": []
          }
        },
        {
          "output_type": "display_data",
          "data": {
            "text/plain": [
              "  ACTID  SchoolName                    Year NumberTookACT Score NCESID \n",
              "1 247550 ADA-BORUP HIGH SCHOOL         2019  28           22.1  2700126\n",
              "2 247524 SOUTHLAND SENIOR HIGH SCHOOL  2019  36           19.1  2702720\n",
              "3 247544 ADRIAN HIGH SCHOOL            2019  49           20.4  2702730\n",
              "4 247002 AITKIN HIGH SCHOOL            2019  78           19.6  2702760\n",
              "5 247788 ALBANY AREA HIGH SCHOOL       2019 107           21.1  2702930\n",
              "6 247246 ALBERT LEA SENIOR HIGH SCHOOL 2019 192           19.1  2702970"
            ],
            "text/latex": "A tibble: 6 × 6\n\\begin{tabular}{llllll}\n ACTID & SchoolName & Year & NumberTookACT & Score & NCESID\\\\\n <chr> & <chr> & <chr> & <dbl> & <dbl> & <chr>\\\\\n\\hline\n\t 247550 & ADA-BORUP HIGH SCHOOL         & 2019 &  28 & 22.1 & 2700126\\\\\n\t 247524 & SOUTHLAND SENIOR HIGH SCHOOL  & 2019 &  36 & 19.1 & 2702720\\\\\n\t 247544 & ADRIAN HIGH SCHOOL            & 2019 &  49 & 20.4 & 2702730\\\\\n\t 247002 & AITKIN HIGH SCHOOL            & 2019 &  78 & 19.6 & 2702760\\\\\n\t 247788 & ALBANY AREA HIGH SCHOOL       & 2019 & 107 & 21.1 & 2702930\\\\\n\t 247246 & ALBERT LEA SENIOR HIGH SCHOOL & 2019 & 192 & 19.1 & 2702970\\\\\n\\end{tabular}\n",
            "text/markdown": "\nA tibble: 6 × 6\n\n| ACTID &lt;chr&gt; | SchoolName &lt;chr&gt; | Year &lt;chr&gt; | NumberTookACT &lt;dbl&gt; | Score &lt;dbl&gt; | NCESID &lt;chr&gt; |\n|---|---|---|---|---|---|\n| 247550 | ADA-BORUP HIGH SCHOOL         | 2019 |  28 | 22.1 | 2700126 |\n| 247524 | SOUTHLAND SENIOR HIGH SCHOOL  | 2019 |  36 | 19.1 | 2702720 |\n| 247544 | ADRIAN HIGH SCHOOL            | 2019 |  49 | 20.4 | 2702730 |\n| 247002 | AITKIN HIGH SCHOOL            | 2019 |  78 | 19.6 | 2702760 |\n| 247788 | ALBANY AREA HIGH SCHOOL       | 2019 | 107 | 21.1 | 2702930 |\n| 247246 | ALBERT LEA SENIOR HIGH SCHOOL | 2019 | 192 | 19.1 | 2702970 |\n\n",
            "text/html": [
              "<table class=\"dataframe\">\n",
              "<caption>A tibble: 6 × 6</caption>\n",
              "<thead>\n",
              "\t<tr><th scope=col>ACTID</th><th scope=col>SchoolName</th><th scope=col>Year</th><th scope=col>NumberTookACT</th><th scope=col>Score</th><th scope=col>NCESID</th></tr>\n",
              "\t<tr><th scope=col>&lt;chr&gt;</th><th scope=col>&lt;chr&gt;</th><th scope=col>&lt;chr&gt;</th><th scope=col>&lt;dbl&gt;</th><th scope=col>&lt;dbl&gt;</th><th scope=col>&lt;chr&gt;</th></tr>\n",
              "</thead>\n",
              "<tbody>\n",
              "\t<tr><td>247550</td><td>ADA-BORUP HIGH SCHOOL        </td><td>2019</td><td> 28</td><td>22.1</td><td>2700126</td></tr>\n",
              "\t<tr><td>247524</td><td>SOUTHLAND SENIOR HIGH SCHOOL </td><td>2019</td><td> 36</td><td>19.1</td><td>2702720</td></tr>\n",
              "\t<tr><td>247544</td><td>ADRIAN HIGH SCHOOL           </td><td>2019</td><td> 49</td><td>20.4</td><td>2702730</td></tr>\n",
              "\t<tr><td>247002</td><td>AITKIN HIGH SCHOOL           </td><td>2019</td><td> 78</td><td>19.6</td><td>2702760</td></tr>\n",
              "\t<tr><td>247788</td><td>ALBANY AREA HIGH SCHOOL      </td><td>2019</td><td>107</td><td>21.1</td><td>2702930</td></tr>\n",
              "\t<tr><td>247246</td><td>ALBERT LEA SENIOR HIGH SCHOOL</td><td>2019</td><td>192</td><td>19.1</td><td>2702970</td></tr>\n",
              "</tbody>\n",
              "</table>\n"
            ]
          },
          "metadata": {
            "tags": []
          }
        }
      ]
    },
    {
      "cell_type": "markdown",
      "metadata": {
        "id": "YveTyMXTiXsQ"
      },
      "source": [
        ""
      ]
    },
    {
      "cell_type": "code",
      "metadata": {
        "id": "FVs0FytviXz5"
      },
      "source": [
        "#Read in the MNSchool_Information data file and specify ALL fields as character (i.e. strings)\n",
        "Census_MNSchools <- read_csv('/content/sample_data/ACS2019_CensusData_SchoolLevel.csv', col_types = cols(NCESID = col_character()))"
      ],
      "execution_count": 50,
      "outputs": []
    },
    {
      "cell_type": "markdown",
      "metadata": {
        "id": "KjcuS0jkiw14"
      },
      "source": [
        ""
      ]
    },
    {
      "cell_type": "code",
      "metadata": {
        "id": "Lbr9aqeAiw-x"
      },
      "source": [
        "str(Census_MNSchools)"
      ],
      "execution_count": null,
      "outputs": []
    },
    {
      "cell_type": "markdown",
      "metadata": {
        "id": "kzWYCm1YiO2S"
      },
      "source": [
        "### JOIN  - Get Census data, e.g. Percent Poverty"
      ]
    },
    {
      "cell_type": "code",
      "metadata": {
        "colab": {
          "base_uri": "https://localhost:8080/",
          "height": 543
        },
        "id": "33J5Vgq1iO9u",
        "outputId": "a0594db5-b700-4603-f522-7688bbdb8967"
      },
      "source": [
        "#Complete the JOIN\n",
        "(\n",
        "   MN_ACT_2019\n",
        "   %>% left_join(Census_MNSchools, by=\"NCESID\")\n",
        ") -> MN_ACT_Census\n",
        "\n",
        "dim(MN_ACT_Census)\n",
        "head(MN_ACT_Census)"
      ],
      "execution_count": 62,
      "outputs": [
        {
          "output_type": "display_data",
          "data": {
            "text/plain": [
              "[1] 406  27"
            ],
            "text/latex": "\\begin{enumerate*}\n\\item 406\n\\item 27\n\\end{enumerate*}\n",
            "text/markdown": "1. 406\n2. 27\n\n\n",
            "text/html": [
              "<style>\n",
              ".list-inline {list-style: none; margin:0; padding: 0}\n",
              ".list-inline>li {display: inline-block}\n",
              ".list-inline>li:not(:last-child)::after {content: \"\\00b7\"; padding: 0 .5ex}\n",
              "</style>\n",
              "<ol class=list-inline><li>406</li><li>27</li></ol>\n"
            ]
          },
          "metadata": {
            "tags": []
          }
        },
        {
          "output_type": "display_data",
          "data": {
            "text/plain": [
              "  ACTID  SchoolName                    Year.x NumberTookACT Score NCESID \n",
              "1 247550 ADA-BORUP HIGH SCHOOL         2019    28           22.1  2700126\n",
              "2 247524 SOUTHLAND SENIOR HIGH SCHOOL  2019    36           19.1  2702720\n",
              "3 247544 ADRIAN HIGH SCHOOL            2019    49           20.4  2702730\n",
              "4 247002 AITKIN HIGH SCHOOL            2019    78           19.6  2702760\n",
              "5 247788 ALBANY AREA HIGH SCHOOL       2019   107           21.1  2702930\n",
              "6 247246 ALBERT LEA SENIOR HIGH SCHOOL 2019   192           19.1  2702970\n",
              "  GeographicUnit SchoolDistrictName                          Source       \n",
              "1 SCHLDIST       Ada-Borup Public School District Minnesota  ACS 2015-2019\n",
              "2 SCHLDIST       Southland Public School District Minnesota  ACS 2015-2019\n",
              "3 SCHLDIST       Adrian Public School District Minnesota     ACS 2015-2019\n",
              "4 SCHLDIST       Aitkin Public School District Minnesota     ACS 2015-2019\n",
              "5 SCHLDIST       Albany Public School District Minnesota     ACS 2015-2019\n",
              "6 SCHLDIST       Albert Lea Public School District Minnesota ACS 2015-2019\n",
              "  Year.y ⋯ Hispanic NonHispanic LessThanHS BachelorsOrMore NumberEmployed\n",
              "1 2019   ⋯  185      2388         84        372             1182         \n",
              "2 2019   ⋯   91      3393        162        507             1794         \n",
              "3 2019   ⋯  152      2201         97        254             1183         \n",
              "4 2019   ⋯  142      9276        589       1488             3651         \n",
              "5 2019   ⋯   92      9418        535       1408             5038         \n",
              "6 2019   ⋯ 2749     20451       2120       2774            10928         \n",
              "  CommuteTime IncomePerCapita MedianHouseholdIncome PovertyPct HomeownerPct\n",
              "1 17.39       31435           58185                 0.074      0.778       \n",
              "2 22.98       32366           67383                 0.070      0.868       \n",
              "3 19.24       32431           61205                 0.080      0.823       \n",
              "4 25.22       29185           50395                 0.111      0.818       \n",
              "5 24.82       32630           76725                 0.051      0.854       \n",
              "6 17.71       27737           50433                 0.122      0.738       "
            ],
            "text/latex": "A tibble: 6 × 27\n\\begin{tabular}{lllllllllllllllllllll}\n ACTID & SchoolName & Year.x & NumberTookACT & Score & NCESID & GeographicUnit & SchoolDistrictName & Source & Year.y & ⋯ & Hispanic & NonHispanic & LessThanHS & BachelorsOrMore & NumberEmployed & CommuteTime & IncomePerCapita & MedianHouseholdIncome & PovertyPct & HomeownerPct\\\\\n <chr> & <chr> & <chr> & <dbl> & <dbl> & <chr> & <chr> & <chr> & <chr> & <dbl> & ⋯ & <dbl> & <dbl> & <dbl> & <dbl> & <dbl> & <dbl> & <dbl> & <dbl> & <dbl> & <dbl>\\\\\n\\hline\n\t 247550 & ADA-BORUP HIGH SCHOOL         & 2019 &  28 & 22.1 & 2700126 & SCHLDIST & Ada-Borup Public School District Minnesota  & ACS 2015-2019 & 2019 & ⋯ &  185 &  2388 &   84 &  372 &  1182 & 17.39 & 31435 & 58185 & 0.074 & 0.778\\\\\n\t 247524 & SOUTHLAND SENIOR HIGH SCHOOL  & 2019 &  36 & 19.1 & 2702720 & SCHLDIST & Southland Public School District Minnesota  & ACS 2015-2019 & 2019 & ⋯ &   91 &  3393 &  162 &  507 &  1794 & 22.98 & 32366 & 67383 & 0.070 & 0.868\\\\\n\t 247544 & ADRIAN HIGH SCHOOL            & 2019 &  49 & 20.4 & 2702730 & SCHLDIST & Adrian Public School District Minnesota     & ACS 2015-2019 & 2019 & ⋯ &  152 &  2201 &   97 &  254 &  1183 & 19.24 & 32431 & 61205 & 0.080 & 0.823\\\\\n\t 247002 & AITKIN HIGH SCHOOL            & 2019 &  78 & 19.6 & 2702760 & SCHLDIST & Aitkin Public School District Minnesota     & ACS 2015-2019 & 2019 & ⋯ &  142 &  9276 &  589 & 1488 &  3651 & 25.22 & 29185 & 50395 & 0.111 & 0.818\\\\\n\t 247788 & ALBANY AREA HIGH SCHOOL       & 2019 & 107 & 21.1 & 2702930 & SCHLDIST & Albany Public School District Minnesota     & ACS 2015-2019 & 2019 & ⋯ &   92 &  9418 &  535 & 1408 &  5038 & 24.82 & 32630 & 76725 & 0.051 & 0.854\\\\\n\t 247246 & ALBERT LEA SENIOR HIGH SCHOOL & 2019 & 192 & 19.1 & 2702970 & SCHLDIST & Albert Lea Public School District Minnesota & ACS 2015-2019 & 2019 & ⋯ & 2749 & 20451 & 2120 & 2774 & 10928 & 17.71 & 27737 & 50433 & 0.122 & 0.738\\\\\n\\end{tabular}\n",
            "text/markdown": "\nA tibble: 6 × 27\n\n| ACTID &lt;chr&gt; | SchoolName &lt;chr&gt; | Year.x &lt;chr&gt; | NumberTookACT &lt;dbl&gt; | Score &lt;dbl&gt; | NCESID &lt;chr&gt; | GeographicUnit &lt;chr&gt; | SchoolDistrictName &lt;chr&gt; | Source &lt;chr&gt; | Year.y &lt;dbl&gt; | ⋯ ⋯ | Hispanic &lt;dbl&gt; | NonHispanic &lt;dbl&gt; | LessThanHS &lt;dbl&gt; | BachelorsOrMore &lt;dbl&gt; | NumberEmployed &lt;dbl&gt; | CommuteTime &lt;dbl&gt; | IncomePerCapita &lt;dbl&gt; | MedianHouseholdIncome &lt;dbl&gt; | PovertyPct &lt;dbl&gt; | HomeownerPct &lt;dbl&gt; |\n|---|---|---|---|---|---|---|---|---|---|---|---|---|---|---|---|---|---|---|---|---|\n| 247550 | ADA-BORUP HIGH SCHOOL         | 2019 |  28 | 22.1 | 2700126 | SCHLDIST | Ada-Borup Public School District Minnesota  | ACS 2015-2019 | 2019 | ⋯ |  185 |  2388 |   84 |  372 |  1182 | 17.39 | 31435 | 58185 | 0.074 | 0.778 |\n| 247524 | SOUTHLAND SENIOR HIGH SCHOOL  | 2019 |  36 | 19.1 | 2702720 | SCHLDIST | Southland Public School District Minnesota  | ACS 2015-2019 | 2019 | ⋯ |   91 |  3393 |  162 |  507 |  1794 | 22.98 | 32366 | 67383 | 0.070 | 0.868 |\n| 247544 | ADRIAN HIGH SCHOOL            | 2019 |  49 | 20.4 | 2702730 | SCHLDIST | Adrian Public School District Minnesota     | ACS 2015-2019 | 2019 | ⋯ |  152 |  2201 |   97 |  254 |  1183 | 19.24 | 32431 | 61205 | 0.080 | 0.823 |\n| 247002 | AITKIN HIGH SCHOOL            | 2019 |  78 | 19.6 | 2702760 | SCHLDIST | Aitkin Public School District Minnesota     | ACS 2015-2019 | 2019 | ⋯ |  142 |  9276 |  589 | 1488 |  3651 | 25.22 | 29185 | 50395 | 0.111 | 0.818 |\n| 247788 | ALBANY AREA HIGH SCHOOL       | 2019 | 107 | 21.1 | 2702930 | SCHLDIST | Albany Public School District Minnesota     | ACS 2015-2019 | 2019 | ⋯ |   92 |  9418 |  535 | 1408 |  5038 | 24.82 | 32630 | 76725 | 0.051 | 0.854 |\n| 247246 | ALBERT LEA SENIOR HIGH SCHOOL | 2019 | 192 | 19.1 | 2702970 | SCHLDIST | Albert Lea Public School District Minnesota | ACS 2015-2019 | 2019 | ⋯ | 2749 | 20451 | 2120 | 2774 | 10928 | 17.71 | 27737 | 50433 | 0.122 | 0.738 |\n\n",
            "text/html": [
              "<table class=\"dataframe\">\n",
              "<caption>A tibble: 6 × 27</caption>\n",
              "<thead>\n",
              "\t<tr><th scope=col>ACTID</th><th scope=col>SchoolName</th><th scope=col>Year.x</th><th scope=col>NumberTookACT</th><th scope=col>Score</th><th scope=col>NCESID</th><th scope=col>GeographicUnit</th><th scope=col>SchoolDistrictName</th><th scope=col>Source</th><th scope=col>Year.y</th><th scope=col>⋯</th><th scope=col>Hispanic</th><th scope=col>NonHispanic</th><th scope=col>LessThanHS</th><th scope=col>BachelorsOrMore</th><th scope=col>NumberEmployed</th><th scope=col>CommuteTime</th><th scope=col>IncomePerCapita</th><th scope=col>MedianHouseholdIncome</th><th scope=col>PovertyPct</th><th scope=col>HomeownerPct</th></tr>\n",
              "\t<tr><th scope=col>&lt;chr&gt;</th><th scope=col>&lt;chr&gt;</th><th scope=col>&lt;chr&gt;</th><th scope=col>&lt;dbl&gt;</th><th scope=col>&lt;dbl&gt;</th><th scope=col>&lt;chr&gt;</th><th scope=col>&lt;chr&gt;</th><th scope=col>&lt;chr&gt;</th><th scope=col>&lt;chr&gt;</th><th scope=col>&lt;dbl&gt;</th><th scope=col>⋯</th><th scope=col>&lt;dbl&gt;</th><th scope=col>&lt;dbl&gt;</th><th scope=col>&lt;dbl&gt;</th><th scope=col>&lt;dbl&gt;</th><th scope=col>&lt;dbl&gt;</th><th scope=col>&lt;dbl&gt;</th><th scope=col>&lt;dbl&gt;</th><th scope=col>&lt;dbl&gt;</th><th scope=col>&lt;dbl&gt;</th><th scope=col>&lt;dbl&gt;</th></tr>\n",
              "</thead>\n",
              "<tbody>\n",
              "\t<tr><td>247550</td><td>ADA-BORUP HIGH SCHOOL        </td><td>2019</td><td> 28</td><td>22.1</td><td>2700126</td><td>SCHLDIST</td><td>Ada-Borup Public School District Minnesota </td><td>ACS 2015-2019</td><td>2019</td><td>⋯</td><td> 185</td><td> 2388</td><td>  84</td><td> 372</td><td> 1182</td><td>17.39</td><td>31435</td><td>58185</td><td>0.074</td><td>0.778</td></tr>\n",
              "\t<tr><td>247524</td><td>SOUTHLAND SENIOR HIGH SCHOOL </td><td>2019</td><td> 36</td><td>19.1</td><td>2702720</td><td>SCHLDIST</td><td>Southland Public School District Minnesota </td><td>ACS 2015-2019</td><td>2019</td><td>⋯</td><td>  91</td><td> 3393</td><td> 162</td><td> 507</td><td> 1794</td><td>22.98</td><td>32366</td><td>67383</td><td>0.070</td><td>0.868</td></tr>\n",
              "\t<tr><td>247544</td><td>ADRIAN HIGH SCHOOL           </td><td>2019</td><td> 49</td><td>20.4</td><td>2702730</td><td>SCHLDIST</td><td>Adrian Public School District Minnesota    </td><td>ACS 2015-2019</td><td>2019</td><td>⋯</td><td> 152</td><td> 2201</td><td>  97</td><td> 254</td><td> 1183</td><td>19.24</td><td>32431</td><td>61205</td><td>0.080</td><td>0.823</td></tr>\n",
              "\t<tr><td>247002</td><td>AITKIN HIGH SCHOOL           </td><td>2019</td><td> 78</td><td>19.6</td><td>2702760</td><td>SCHLDIST</td><td>Aitkin Public School District Minnesota    </td><td>ACS 2015-2019</td><td>2019</td><td>⋯</td><td> 142</td><td> 9276</td><td> 589</td><td>1488</td><td> 3651</td><td>25.22</td><td>29185</td><td>50395</td><td>0.111</td><td>0.818</td></tr>\n",
              "\t<tr><td>247788</td><td>ALBANY AREA HIGH SCHOOL      </td><td>2019</td><td>107</td><td>21.1</td><td>2702930</td><td>SCHLDIST</td><td>Albany Public School District Minnesota    </td><td>ACS 2015-2019</td><td>2019</td><td>⋯</td><td>  92</td><td> 9418</td><td> 535</td><td>1408</td><td> 5038</td><td>24.82</td><td>32630</td><td>76725</td><td>0.051</td><td>0.854</td></tr>\n",
              "\t<tr><td>247246</td><td>ALBERT LEA SENIOR HIGH SCHOOL</td><td>2019</td><td>192</td><td>19.1</td><td>2702970</td><td>SCHLDIST</td><td>Albert Lea Public School District Minnesota</td><td>ACS 2015-2019</td><td>2019</td><td>⋯</td><td>2749</td><td>20451</td><td>2120</td><td>2774</td><td>10928</td><td>17.71</td><td>27737</td><td>50433</td><td>0.122</td><td>0.738</td></tr>\n",
              "</tbody>\n",
              "</table>\n"
            ]
          },
          "metadata": {
            "tags": []
          }
        }
      ]
    }
  ]
}