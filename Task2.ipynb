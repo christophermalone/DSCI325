{
  "nbformat": 4,
  "nbformat_minor": 0,
  "metadata": {
    "colab": {
      "name": "Task2.ipynb",
      "provenance": [],
      "collapsed_sections": [],
      "toc_visible": true,
      "authorship_tag": "ABX9TyMVvwRKENg7bMHH9ltCBt6+",
      "include_colab_link": true
    },
    "kernelspec": {
      "name": "python3",
      "display_name": "Python 3"
    }
  },
  "cells": [
    {
      "cell_type": "markdown",
      "metadata": {
        "id": "view-in-github",
        "colab_type": "text"
      },
      "source": [
        "<a href=\"https://colab.research.google.com/github/christophermalone/DSCI325/blob/main/Task2.ipynb\" target=\"_parent\"><img src=\"https://colab.research.google.com/assets/colab-badge.svg\" alt=\"Open In Colab\"/></a>"
      ]
    },
    {
      "cell_type": "markdown",
      "metadata": {
        "id": "Zy93LhnZNeNc"
      },
      "source": [
        "# Task #2 - Central Park Bike Rentals \r\n",
        "Points: 20\r\n",
        "\r\n",
        "Due: Wednesday, Feb 10; 11:59PM"
      ]
    },
    {
      "cell_type": "markdown",
      "metadata": {
        "id": "WVSFTwLpOX9j"
      },
      "source": [
        "For this assignment, we will again be working with the NYC CitiBike data.  You are to complete the following requirements for this task.\r\n",
        "\r\n",
        "<strong>Task Requirements</strong>\r\n",
        "\r\n",
        "1.   Automatically download and unzip data files that contain all bike rentals from the year 2020.\r\n",
        "2.   Use grep to filter the data files down to include only bike rentals that orgininated from and were returned to stations near Central Park, i.e. contain Central Park in start station and end station.\r\n",
        "3.   Read the data into R and create the following summary tables\r\n",
        "\r\n",
        " Table 1: A summary of the number of rentals, proportion of rentals, and average duration of trip (in minutes) for  ( (matching and non-matching start/end stations) x (customers / subscribers, i.e. usertype) )\r\n",
        " \r\n",
        "  Table 2: A Top 10 list, sorted by number of rentals with highest number of rentals listed at the top, for the stations near Central Park.\r\n",
        "\r\n",
        "  Tabel 3: A Top 10 list, sorted by number average length of rental (in minutes) with longer rentals listed at the top, for the stations near Central Park.\r\n",
        "\r\n",
        "\r\n",
        "CitiBike Data: https://www.citibikenyc.com/system-data\r\n",
        "\r\n",
        "Link to Data Files: https://s3.amazonaws.com/tripdata/index.html\r\n",
        "\r\n",
        "<p align='center'><img src=\"https://drive.google.com/uc?export=view&id=18iZFazado34AKQHUftjitqnXFBO1LAvd\"></p>\r\n",
        "\r\n",
        "\r\n"
      ]
    },
    {
      "cell_type": "markdown",
      "metadata": {
        "id": "IQysthT4OiUF"
      },
      "source": [
        "<strong>What do I turn in?</strong>\r\n",
        "\r\n",
        "1. You will be asked to turn in a link to your iPython Notebook\r\n",
        "2. You iPthon Notebook should include a printout of each of the required tables. \r\n"
      ]
    },
    {
      "cell_type": "code",
      "metadata": {
        "id": "FXy6ZG4HoVRt"
      },
      "source": [
        ""
      ],
      "execution_count": null,
      "outputs": []
    }
  ]
}