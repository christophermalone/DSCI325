{
  "nbformat": 4,
  "nbformat_minor": 0,
  "metadata": {
    "colab": {
      "name": "Task2.ipynb",
      "provenance": [],
      "collapsed_sections": [],
      "toc_visible": true,
      "authorship_tag": "ABX9TyNYOnD1Yon3Wg32nF0NKZ6G",
      "include_colab_link": true
    },
    "kernelspec": {
      "name": "python3",
      "display_name": "Python 3"
    }
  },
  "cells": [
    {
      "cell_type": "markdown",
      "metadata": {
        "id": "view-in-github",
        "colab_type": "text"
      },
      "source": [
        "<a href=\"https://colab.research.google.com/github/christophermalone/DSCI325/blob/main/Task2.ipynb\" target=\"_parent\"><img src=\"https://colab.research.google.com/assets/colab-badge.svg\" alt=\"Open In Colab\"/></a>"
      ]
    },
    {
      "cell_type": "markdown",
      "metadata": {
        "id": "Zy93LhnZNeNc"
      },
      "source": [
        "# Task #2 - Central Park Bike Rentals \r\n",
        "Points: 20\r\n",
        "\r\n",
        "Due: Wednesday, Feb 10; 11:59PM"
      ]
    },
    {
      "cell_type": "markdown",
      "metadata": {
        "id": "WVSFTwLpOX9j"
      },
      "source": [
        "For this assignment, we will again be working with the NYC CitiBike data.  You are to complete the following requirements for this task.\r\n",
        "\r\n",
        "<strong>Task Requirements</strong>\r\n",
        "\r\n",
        "1.   Automatically download and unzip data files that contain all CitiBike rentals from the year 2020.\r\n",
        "2.   Use grep to filter the data files down to include only bike rentals that orgininated from and were returned to stations near Central Park, i.e. stations that contain Central Park as their start and end station.\r\n",
        "3.   Read the data into R and create the following summary tables\r\n",
        "\r\n",
        "Table 1: A summary of the number of rentals, proportion of rentals, and average duration of trip (in minutes) for  ( (matching and non-matching start/end stations) x (customers / subscribers, i.e. usertype) )\r\n",
        " \r\n",
        "<p align='center'>\r\n",
        "<table border='1'>\r\n",
        "<tr>\r\n",
        "  <td bgcolor='lightgrey' align='center'>Start/End <br>Stations Match?</td>\r\n",
        "  <td bgcolor='lightgrey' align='center'>Type of User</font></td>\r\n",
        "  <td bgcolor='lightgrey' align='center'>Count</td>\r\n",
        "  <td bgcolor='lightgrey' align='center'>Percent</td>\r\n",
        "  <td bgcolor='lightgrey' align='center'>Average<br>Duration</td>\r\n",
        "</tr>\r\n",
        "<tr>\r\n",
        "  <td align='center'>No</td>\r\n",
        "  <td align='center'>Customer</td>\r\n",
        "  <td align='center'>&nbsp;</td>\r\n",
        "  <td align='center'>&nbsp;</td>\r\n",
        "  <td align='center'>&nbsp;</td>\r\n",
        "</tr>\r\n",
        "<tr>\r\n",
        "  <td align='center'>No</td>\r\n",
        "  <td align='center'>Subscriber</td>\r\n",
        "  <td align='center'>&nbsp;</td>\r\n",
        "  <td align='center'>&nbsp;</td>\r\n",
        "  <td align='center'>&nbsp;</td>\r\n",
        "</tr>\r\n",
        "<tr>\r\n",
        "  <td align='center'>Yes</td>\r\n",
        "  <td align='center'>Customer</td>\r\n",
        "  <td align='center'>&nbsp;</td>\r\n",
        "  <td align='center'>&nbsp;</td>\r\n",
        "  <td align='center'>&nbsp;</td>\r\n",
        "</tr>\r\n",
        "<tr>\r\n",
        "  <td align='center'>Yes</td>\r\n",
        "  <td align='center'>Subscriber</td>\r\n",
        "  <td align='center'>&nbsp;</td>\r\n",
        "  <td align='center'>&nbsp;</td>\r\n",
        "  <td align='center'>&nbsp;</td>\r\n",
        "</tr>\r\n",
        "\r\n",
        "</table>\r\n",
        "</p>\r\n",
        "\r\n",
        "Table 2: A Top 10 list of the start & end station combinations that have the highest number of bike rentals for stations near Central Park.  The required fields in this table include the Count and Average Duration.\r\n",
        "\r\n",
        "<p align='center'>\r\n",
        "<table border='1'>\r\n",
        "<tr>\r\n",
        "  <td bgcolor='lightgrey' align='center'>Start Station</td>\r\n",
        "  <td bgcolor='lightgrey' align='center'>End Station</td>\r\n",
        "  <td bgcolor='lightgrey' align='center'>Count</td>\r\n",
        "  <td bgcolor='lightgrey' align='center'>Average<br>Duration</td>\r\n",
        "</tr>\r\n",
        "<tr>\r\n",
        "  <td align='center'>&nbsp;</td>\r\n",
        "  <td align='center'>&nbsp;</td>\r\n",
        "  <td align='center'>&nbsp;</td>\r\n",
        "   <td align='center'>&nbsp;</td>\r\n",
        "</tr>\r\n",
        "<tr>\r\n",
        "  <td align='center'>&nbsp;</td>\r\n",
        "  <td align='center'>&nbsp;</td>\r\n",
        "  <td align='center'>&nbsp;</td>\r\n",
        "   <td align='center'>&nbsp;</td>\r\n",
        "</tr><tr>\r\n",
        "  <td align='center'>:</td>\r\n",
        "  <td align='center'>:</td>\r\n",
        "  <td align='center'>:</td>\r\n",
        "   <td align='center'>:</td>\r\n",
        "</tr>\r\n",
        "\r\n",
        "</table>\r\n",
        "</p>\r\n",
        "\r\n",
        "Table 3: A Top 10 list of the start & end station combinations that have the longest average duration for bike rentals for stations near Central Park.  The required fields in this table include the Count and Average Duration.\r\n",
        "\r\n",
        "<p align='center'>\r\n",
        "<table border='1'>\r\n",
        "<tr>\r\n",
        "  <td bgcolor='lightgrey' align='center'>Start Station</td>\r\n",
        "  <td bgcolor='lightgrey' align='center'>End Station</td>\r\n",
        "  <td bgcolor='lightgrey' align='center'>Count</td>\r\n",
        "  <td bgcolor='lightgrey' align='center'>Average<br>Duration</td>\r\n",
        "</tr>\r\n",
        "<tr>\r\n",
        "  <td align='center'>&nbsp;</td>\r\n",
        "  <td align='center'>&nbsp;</td>\r\n",
        "  <td align='center'>&nbsp;</td>\r\n",
        "   <td align='center'>&nbsp;</td>\r\n",
        "</tr>\r\n",
        "<tr>\r\n",
        "  <td align='center'>&nbsp;</td>\r\n",
        "  <td align='center'>&nbsp;</td>\r\n",
        "  <td align='center'>&nbsp;</td>\r\n",
        "   <td align='center'>&nbsp;</td>\r\n",
        "</tr><tr>\r\n",
        "  <td align='center'>:</td>\r\n",
        "  <td align='center'>:</td>\r\n",
        "  <td align='center'>:</td>\r\n",
        "   <td align='center'>:</td>\r\n",
        "</tr>\r\n",
        "\r\n",
        "</table>\r\n",
        "</p>\r\n",
        "\r\n",
        "\r\n",
        "Tabel 4: A repeat of Table 2 with an additional column included for Type of User, e.g. Customer / Subscriber.\r\n",
        "\r\n",
        "\r\n",
        "Tabel 5: A repeat of Table 3 with an additional column included for Type of User, e.g. Customer / Subscriber.\r\n",
        "\r\n",
        "\r\n",
        "\r\n",
        "\r\n",
        "*   CitiBike Data: https://www.citibikenyc.com/system-data\r\n",
        "*   Link to Data Files: https://s3.amazonaws.com/tripdata/index.html\r\n",
        "\r\n",
        "\r\n",
        "\r\n",
        "<p align='center'><img src=\"https://drive.google.com/uc?export=view&id=18iZFazado34AKQHUftjitqnXFBO1LAvd\"></p>\r\n",
        "\r\n",
        "\r\n"
      ]
    },
    {
      "cell_type": "markdown",
      "metadata": {
        "id": "IQysthT4OiUF"
      },
      "source": [
        "<strong>What do I Need to Turn In?</strong>\r\n",
        "\r\n",
        "1. You will be asked to submit your iPython Notebook that contains the code necessary to complete the required tasks.\r\n",
        "2. Your iPthon Notebook should include a printout of the five required tables.  These tables should be clearly labeled within your iPython Notebook. \r\n"
      ]
    },
    {
      "cell_type": "markdown",
      "metadata": {
        "id": "q2ad6efKGfld"
      },
      "source": [
        "\r\n",
        "\r\n",
        "---\r\n",
        "\r\n",
        "---\r\n",
        "\r\n",
        "---\r\n",
        "\r\n",
        "---\r\n",
        "\r\n",
        "\r\n",
        "\r\n",
        "\r\n",
        "\r\n",
        "\r\n",
        "\r\n"
      ]
    },
    {
      "cell_type": "code",
      "metadata": {
        "id": "FXy6ZG4HoVRt"
      },
      "source": [
        "# Coding Suggestions\r\n",
        "#\r\n",
        "# Use several code blocks with each code block containing a specific task\r\n",
        "# Check/verify your code statments often; do not 'move on' with your code until you know each step is correct\r\n",
        "#\r\n",
        "# Good luck and please ask if you have questions..."
      ],
      "execution_count": 2,
      "outputs": []
    }
  ]
}