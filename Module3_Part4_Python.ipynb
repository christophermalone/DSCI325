{
  "nbformat": 4,
  "nbformat_minor": 0,
  "metadata": {
    "colab": {
      "name": "Module3_Part4_Python",
      "provenance": [],
      "collapsed_sections": [],
      "include_colab_link": true
    },
    "kernelspec": {
      "display_name": "Python 3",
      "name": "python3"
    }
  },
  "cells": [
    {
      "cell_type": "markdown",
      "metadata": {
        "id": "view-in-github",
        "colab_type": "text"
      },
      "source": [
        "<a href=\"https://colab.research.google.com/github/christophermalone/DSCI325/blob/main/Module3_Part4_Python.ipynb\" target=\"_parent\"><img src=\"https://colab.research.google.com/assets/colab-badge.svg\" alt=\"Open In Colab\"/></a>"
      ]
    },
    {
      "cell_type": "markdown",
      "metadata": {
        "id": "70S3wd9iDFkx"
      },
      "source": [
        "# Module 3 - Part 4 Python: Data Verb - Aggregate()"
      ]
    },
    {
      "cell_type": "markdown",
      "metadata": {
        "id": "fBOunxvciu1l"
      },
      "source": [
        "The following python packages will be used for this notebook."
      ]
    },
    {
      "cell_type": "code",
      "metadata": {
        "id": "eHmOBnlcDFr_"
      },
      "source": [
        "import pandas as pd\n",
        "import numpy as np"
      ],
      "execution_count": null,
      "outputs": []
    },
    {
      "cell_type": "markdown",
      "metadata": {
        "id": "4wnhVBoLin1X"
      },
      "source": [
        "<table width='100%' ><tr><td bgcolor='green'></td></tr></table>\n",
        "\n",
        "### Example 3.4.P\n",
        "For this notebook, we will consider data from a pizza place. The following fields are provided in this data.  This data was collected over 2 years -- one dataset for each year.\n",
        " \n",
        "The following 7 fields will be considered here:\n",
        "\n",
        "*   LocatonID: Unique ID for each pizza store location\n",
        "*   DeliveryType: Direct (Store completed the delivery) or SubContract (Delivery was subcontracted out)\n",
        "*   SameZip: Was the delivery address in the same zipcode as the location?\n",
        "*   Type: Descriptor for how order was obtained (In-Person, Phone / App, Corporate, OtherLocation)\n",
        "*   Minutes: Minutes to process order and deliver pizza \n",
        "*   Comments:  When Minutes over 1 hour, comments are required.\n",
        "\n",
        "\n",
        "<table width='100%' ><tr><td bgcolor='green'></td></tr></table>"
      ]
    },
    {
      "cell_type": "markdown",
      "metadata": {
        "id": "m2_y3YQOD-48"
      },
      "source": [
        "## Analysis for 2019"
      ]
    },
    {
      "cell_type": "code",
      "metadata": {
        "id": "Q38KiYY4D_AC"
      },
      "source": [
        "PD2019 = pd.read_csv(\"/content/sample_data/PizzaDelivery2019.csv\") "
      ],
      "execution_count": null,
      "outputs": []
    },
    {
      "cell_type": "markdown",
      "metadata": {
        "id": "1qImLyUYELB1"
      },
      "source": [
        "What is the size of the dataframe?"
      ]
    },
    {
      "cell_type": "code",
      "metadata": {
        "colab": {
          "base_uri": "https://localhost:8080/"
        },
        "id": "Ek1p6QhoELHL",
        "outputId": "25a3613d-8d26-4e10-8d62-f9fa753070ea"
      },
      "source": [
        "PD2019.shape"
      ],
      "execution_count": null,
      "outputs": [
        {
          "output_type": "execute_result",
          "data": {
            "text/plain": [
              "(8785, 6)"
            ]
          },
          "metadata": {
            "tags": []
          },
          "execution_count": 16
        }
      ]
    },
    {
      "cell_type": "markdown",
      "metadata": {
        "id": "uJZ2zZrqki2O"
      },
      "source": [
        "### Aside: Google Sheet Style Output in Colab\n",
        "\n",
        "<table width='100%' ><tr><td bgcolor='orange'></td></tr></table>\n",
        "\n",
        "The following extension can be used to preview data via a Google Sheet structure inside of Colab."
      ]
    },
    {
      "cell_type": "code",
      "metadata": {
        "id": "Nqvi_ms3EOKs"
      },
      "source": [
        "%load_ext google.colab.data_table"
      ],
      "execution_count": null,
      "outputs": []
    },
    {
      "cell_type": "markdown",
      "metadata": {
        "id": "BS2PLv4bEloI"
      },
      "source": [
        "The following command can be used to unload this extension from this session of Colab."
      ]
    },
    {
      "cell_type": "code",
      "metadata": {
        "id": "KfB1Mfv5Elwk"
      },
      "source": [
        "%unload_ext google.colab.data_table"
      ],
      "execution_count": null,
      "outputs": []
    },
    {
      "cell_type": "markdown",
      "metadata": {
        "id": "ZItOBRGBk4hd"
      },
      "source": [
        "<table width='100%' ><tr><td bgcolor='orange'></td></tr></table>"
      ]
    },
    {
      "cell_type": "markdown",
      "metadata": {
        "id": "tKmvdp64Y6Hn"
      },
      "source": [
        "### Using the Google Sheet Style Extension"
      ]
    },
    {
      "cell_type": "code",
      "metadata": {
        "id": "pCUh7tVDY6P-"
      },
      "source": [
        "PD2019"
      ],
      "execution_count": null,
      "outputs": []
    },
    {
      "cell_type": "markdown",
      "metadata": {
        "id": "FqYo-63eEE-D"
      },
      "source": [
        "## Continue with Analysis for 2019"
      ]
    },
    {
      "cell_type": "markdown",
      "metadata": {
        "id": "Np7ksDnMliNu"
      },
      "source": [
        "We will make extensive use of the <strong>dfply</strong> package in our analysis."
      ]
    },
    {
      "cell_type": "code",
      "metadata": {
        "colab": {
          "base_uri": "https://localhost:8080/"
        },
        "id": "-QiqsoUmEFGz",
        "outputId": "bb6a9bae-b120-4951-8bbe-55f4d23e9fc2"
      },
      "source": [
        "pip install dfply"
      ],
      "execution_count": null,
      "outputs": [
        {
          "output_type": "stream",
          "text": [
            "Requirement already satisfied: dfply in /usr/local/lib/python3.7/dist-packages (0.3.3)\n",
            "Requirement already satisfied: pandas in /usr/local/lib/python3.7/dist-packages (from dfply) (1.1.5)\n",
            "Requirement already satisfied: numpy in /usr/local/lib/python3.7/dist-packages (from dfply) (1.19.5)\n",
            "Requirement already satisfied: python-dateutil>=2.7.3 in /usr/local/lib/python3.7/dist-packages (from pandas->dfply) (2.8.1)\n",
            "Requirement already satisfied: pytz>=2017.2 in /usr/local/lib/python3.7/dist-packages (from pandas->dfply) (2018.9)\n",
            "Requirement already satisfied: six>=1.5 in /usr/local/lib/python3.7/dist-packages (from python-dateutil>=2.7.3->pandas->dfply) (1.15.0)\n"
          ],
          "name": "stdout"
        }
      ]
    },
    {
      "cell_type": "markdown",
      "metadata": {
        "id": "uWyQuXL2ZMl8"
      },
      "source": [
        "Next, import the dfply package into this session of Colab."
      ]
    },
    {
      "cell_type": "code",
      "metadata": {
        "id": "NchNX9iDZMu5"
      },
      "source": [
        "from dfply import *"
      ],
      "execution_count": null,
      "outputs": []
    },
    {
      "cell_type": "markdown",
      "metadata": {
        "id": "v513O6oWhYOO"
      },
      "source": [
        "## Getting Basic Summaries"
      ]
    },
    {
      "cell_type": "markdown",
      "metadata": {
        "id": "Lttga8GjmECM"
      },
      "source": [
        "The <strong>summarize()</strong> function in dfply can be used to get basic summaries.  There are slight variations in the syntax.\n",
        "\n",
        "\n",
        "\n",
        "*   Summaries like mean, median, std are obtained by evoking the method for the summary.  \n",
        "*   A simple count can be accomplished using the n() function.\n",
        "\n",
        "<strong>Note</strong>:  The round method can be used to round all the values within the dataframe.  This approach will round all non-itergers to 1 decimal place.\n",
        "\n"
      ]
    },
    {
      "cell_type": "code",
      "metadata": {
        "colab": {
          "base_uri": "https://localhost:8080/",
          "height": 78
        },
        "id": "mJYIrDgZmEJs",
        "outputId": "ea69e90c-fa27-4bd8-afcc-ada162b69a7d"
      },
      "source": [
        "Outcomes2019 = (\n",
        "                 PD2019 \n",
        "                 >> summarize(Avg = X.Minutes.mean(), Count = n(X.Minutes))\n",
        "               )\n",
        "\n",
        "Outcomes2019.round(1)"
      ],
      "execution_count": null,
      "outputs": [
        {
          "output_type": "execute_result",
          "data": {
            "text/html": [
              "<div>\n",
              "<style scoped>\n",
              "    .dataframe tbody tr th:only-of-type {\n",
              "        vertical-align: middle;\n",
              "    }\n",
              "\n",
              "    .dataframe tbody tr th {\n",
              "        vertical-align: top;\n",
              "    }\n",
              "\n",
              "    .dataframe thead th {\n",
              "        text-align: right;\n",
              "    }\n",
              "</style>\n",
              "<table border=\"1\" class=\"dataframe\">\n",
              "  <thead>\n",
              "    <tr style=\"text-align: right;\">\n",
              "      <th></th>\n",
              "      <th>Avg</th>\n",
              "      <th>Count</th>\n",
              "    </tr>\n",
              "  </thead>\n",
              "  <tbody>\n",
              "    <tr>\n",
              "      <th>0</th>\n",
              "      <td>9.6</td>\n",
              "      <td>8785</td>\n",
              "    </tr>\n",
              "  </tbody>\n",
              "</table>\n",
              "</div>"
            ],
            "text/plain": [
              "   Avg  Count\n",
              "0  9.6   8785"
            ]
          },
          "metadata": {
            "tags": []
          },
          "execution_count": 222
        }
      ]
    },
    {
      "cell_type": "markdown",
      "metadata": {
        "id": "rvdj56VypvZB"
      },
      "source": [
        "The <strong>group_by()</strong> can be used to obtain the desired summaries across the levels of another categorical variable.  Here the summaries are being obtained across the two delivery types, e.g. Direct (Store location provides delivery) and SubContract (a delivery service was used for delivery)."
      ]
    },
    {
      "cell_type": "code",
      "metadata": {
        "colab": {
          "base_uri": "https://localhost:8080/",
          "height": 108
        },
        "id": "VReaWytehYY_",
        "outputId": "c468fae7-4bbc-41bc-92c3-b97f14601ad8"
      },
      "source": [
        "Outcomes2019 = (\n",
        "        PD2019 \n",
        "        >> group_by(X.DeliveryType)\n",
        "        >> summarize(Avg = X.Minutes.mean(), Count = n(X.Minutes))\n",
        "        )\n",
        "\n",
        "Outcomes2019.round(1)"
      ],
      "execution_count": null,
      "outputs": [
        {
          "output_type": "execute_result",
          "data": {
            "text/html": [
              "<div>\n",
              "<style scoped>\n",
              "    .dataframe tbody tr th:only-of-type {\n",
              "        vertical-align: middle;\n",
              "    }\n",
              "\n",
              "    .dataframe tbody tr th {\n",
              "        vertical-align: top;\n",
              "    }\n",
              "\n",
              "    .dataframe thead th {\n",
              "        text-align: right;\n",
              "    }\n",
              "</style>\n",
              "<table border=\"1\" class=\"dataframe\">\n",
              "  <thead>\n",
              "    <tr style=\"text-align: right;\">\n",
              "      <th></th>\n",
              "      <th>DeliveryType</th>\n",
              "      <th>Avg</th>\n",
              "      <th>Count</th>\n",
              "    </tr>\n",
              "  </thead>\n",
              "  <tbody>\n",
              "    <tr>\n",
              "      <th>0</th>\n",
              "      <td>Direct</td>\n",
              "      <td>9.8</td>\n",
              "      <td>8028</td>\n",
              "    </tr>\n",
              "    <tr>\n",
              "      <th>1</th>\n",
              "      <td>SubContract</td>\n",
              "      <td>8.1</td>\n",
              "      <td>757</td>\n",
              "    </tr>\n",
              "  </tbody>\n",
              "</table>\n",
              "</div>"
            ],
            "text/plain": [
              "  DeliveryType  Avg  Count\n",
              "0       Direct  9.8   8028\n",
              "1  SubContract  8.1    757"
            ]
          },
          "metadata": {
            "tags": []
          },
          "execution_count": 223
        }
      ]
    },
    {
      "cell_type": "markdown",
      "metadata": {
        "id": "EBGMp_Tk7Fz5"
      },
      "source": [
        "Realize that more than one variable can be specifed by the group_by() function."
      ]
    },
    {
      "cell_type": "code",
      "metadata": {
        "colab": {
          "base_uri": "https://localhost:8080/",
          "height": 168
        },
        "id": "wdDg3FII7F7H",
        "outputId": "187a0a6b-0549-4ea1-86cb-a9da72d28393"
      },
      "source": [
        "Outcomes2019 = (\n",
        "        PD2019 \n",
        "        >> group_by(X.DeliveryType, X.SameZip )\n",
        "        >> summarize(Avg = X.Minutes.mean(), Count = n(X.Minutes))\n",
        "        )\n",
        "\n",
        "Outcomes2019.round(1)"
      ],
      "execution_count": null,
      "outputs": [
        {
          "output_type": "execute_result",
          "data": {
            "text/html": [
              "<div>\n",
              "<style scoped>\n",
              "    .dataframe tbody tr th:only-of-type {\n",
              "        vertical-align: middle;\n",
              "    }\n",
              "\n",
              "    .dataframe tbody tr th {\n",
              "        vertical-align: top;\n",
              "    }\n",
              "\n",
              "    .dataframe thead th {\n",
              "        text-align: right;\n",
              "    }\n",
              "</style>\n",
              "<table border=\"1\" class=\"dataframe\">\n",
              "  <thead>\n",
              "    <tr style=\"text-align: right;\">\n",
              "      <th></th>\n",
              "      <th>SameZip</th>\n",
              "      <th>DeliveryType</th>\n",
              "      <th>Avg</th>\n",
              "      <th>Count</th>\n",
              "    </tr>\n",
              "  </thead>\n",
              "  <tbody>\n",
              "    <tr>\n",
              "      <th>0</th>\n",
              "      <td>No</td>\n",
              "      <td>Direct</td>\n",
              "      <td>9.4</td>\n",
              "      <td>3218</td>\n",
              "    </tr>\n",
              "    <tr>\n",
              "      <th>1</th>\n",
              "      <td>Yes</td>\n",
              "      <td>Direct</td>\n",
              "      <td>10.0</td>\n",
              "      <td>4810</td>\n",
              "    </tr>\n",
              "    <tr>\n",
              "      <th>2</th>\n",
              "      <td>No</td>\n",
              "      <td>SubContract</td>\n",
              "      <td>9.5</td>\n",
              "      <td>429</td>\n",
              "    </tr>\n",
              "    <tr>\n",
              "      <th>3</th>\n",
              "      <td>Yes</td>\n",
              "      <td>SubContract</td>\n",
              "      <td>6.3</td>\n",
              "      <td>328</td>\n",
              "    </tr>\n",
              "  </tbody>\n",
              "</table>\n",
              "</div>"
            ],
            "text/plain": [
              "  SameZip DeliveryType   Avg  Count\n",
              "0      No       Direct   9.4   3218\n",
              "1     Yes       Direct  10.0   4810\n",
              "2      No  SubContract   9.5    429\n",
              "3     Yes  SubContract   6.3    328"
            ]
          },
          "metadata": {
            "tags": []
          },
          "execution_count": 224
        }
      ]
    },
    {
      "cell_type": "markdown",
      "metadata": {
        "id": "VmSJEGox7Qd4"
      },
      "source": [
        "An extension to three categorical variables. "
      ]
    },
    {
      "cell_type": "code",
      "metadata": {
        "colab": {
          "base_uri": "https://localhost:8080/",
          "height": 528
        },
        "id": "appcAcPt7Qqn",
        "outputId": "cd5408c6-b740-413b-805c-5745a04e5475"
      },
      "source": [
        "Outcomes2019 = (\n",
        "        PD2019 \n",
        "        >> group_by(X.DeliveryType, X.SameZip, X.Type)\n",
        "        >> summarize(Avg = X.Minutes.mean())\n",
        "        )\n",
        "\n",
        "Outcomes2019.round(1)"
      ],
      "execution_count": null,
      "outputs": [
        {
          "output_type": "execute_result",
          "data": {
            "text/html": [
              "<div>\n",
              "<style scoped>\n",
              "    .dataframe tbody tr th:only-of-type {\n",
              "        vertical-align: middle;\n",
              "    }\n",
              "\n",
              "    .dataframe tbody tr th {\n",
              "        vertical-align: top;\n",
              "    }\n",
              "\n",
              "    .dataframe thead th {\n",
              "        text-align: right;\n",
              "    }\n",
              "</style>\n",
              "<table border=\"1\" class=\"dataframe\">\n",
              "  <thead>\n",
              "    <tr style=\"text-align: right;\">\n",
              "      <th></th>\n",
              "      <th>Type</th>\n",
              "      <th>SameZip</th>\n",
              "      <th>DeliveryType</th>\n",
              "      <th>Avg</th>\n",
              "    </tr>\n",
              "  </thead>\n",
              "  <tbody>\n",
              "    <tr>\n",
              "      <th>0</th>\n",
              "      <td>Corporate</td>\n",
              "      <td>No</td>\n",
              "      <td>Direct</td>\n",
              "      <td>11.6</td>\n",
              "    </tr>\n",
              "    <tr>\n",
              "      <th>1</th>\n",
              "      <td>In-Person</td>\n",
              "      <td>No</td>\n",
              "      <td>Direct</td>\n",
              "      <td>5.4</td>\n",
              "    </tr>\n",
              "    <tr>\n",
              "      <th>2</th>\n",
              "      <td>OtherLocation</td>\n",
              "      <td>No</td>\n",
              "      <td>Direct</td>\n",
              "      <td>17.6</td>\n",
              "    </tr>\n",
              "    <tr>\n",
              "      <th>3</th>\n",
              "      <td>Phone / App</td>\n",
              "      <td>No</td>\n",
              "      <td>Direct</td>\n",
              "      <td>9.3</td>\n",
              "    </tr>\n",
              "    <tr>\n",
              "      <th>4</th>\n",
              "      <td>Corporate</td>\n",
              "      <td>Yes</td>\n",
              "      <td>Direct</td>\n",
              "      <td>13.0</td>\n",
              "    </tr>\n",
              "    <tr>\n",
              "      <th>5</th>\n",
              "      <td>In-Person</td>\n",
              "      <td>Yes</td>\n",
              "      <td>Direct</td>\n",
              "      <td>5.9</td>\n",
              "    </tr>\n",
              "    <tr>\n",
              "      <th>6</th>\n",
              "      <td>OtherLocation</td>\n",
              "      <td>Yes</td>\n",
              "      <td>Direct</td>\n",
              "      <td>16.4</td>\n",
              "    </tr>\n",
              "    <tr>\n",
              "      <th>7</th>\n",
              "      <td>Phone / App</td>\n",
              "      <td>Yes</td>\n",
              "      <td>Direct</td>\n",
              "      <td>9.5</td>\n",
              "    </tr>\n",
              "    <tr>\n",
              "      <th>8</th>\n",
              "      <td>Corporate</td>\n",
              "      <td>No</td>\n",
              "      <td>SubContract</td>\n",
              "      <td>11.9</td>\n",
              "    </tr>\n",
              "    <tr>\n",
              "      <th>9</th>\n",
              "      <td>In-Person</td>\n",
              "      <td>No</td>\n",
              "      <td>SubContract</td>\n",
              "      <td>5.3</td>\n",
              "    </tr>\n",
              "    <tr>\n",
              "      <th>10</th>\n",
              "      <td>OtherLocation</td>\n",
              "      <td>No</td>\n",
              "      <td>SubContract</td>\n",
              "      <td>16.5</td>\n",
              "    </tr>\n",
              "    <tr>\n",
              "      <th>11</th>\n",
              "      <td>Phone / App</td>\n",
              "      <td>No</td>\n",
              "      <td>SubContract</td>\n",
              "      <td>10.1</td>\n",
              "    </tr>\n",
              "    <tr>\n",
              "      <th>12</th>\n",
              "      <td>Corporate</td>\n",
              "      <td>Yes</td>\n",
              "      <td>SubContract</td>\n",
              "      <td>6.8</td>\n",
              "    </tr>\n",
              "    <tr>\n",
              "      <th>13</th>\n",
              "      <td>In-Person</td>\n",
              "      <td>Yes</td>\n",
              "      <td>SubContract</td>\n",
              "      <td>4.1</td>\n",
              "    </tr>\n",
              "    <tr>\n",
              "      <th>14</th>\n",
              "      <td>OtherLocation</td>\n",
              "      <td>Yes</td>\n",
              "      <td>SubContract</td>\n",
              "      <td>11.9</td>\n",
              "    </tr>\n",
              "    <tr>\n",
              "      <th>15</th>\n",
              "      <td>Phone / App</td>\n",
              "      <td>Yes</td>\n",
              "      <td>SubContract</td>\n",
              "      <td>6.6</td>\n",
              "    </tr>\n",
              "  </tbody>\n",
              "</table>\n",
              "</div>"
            ],
            "text/plain": [
              "             Type SameZip DeliveryType   Avg\n",
              "0       Corporate      No       Direct  11.6\n",
              "1       In-Person      No       Direct   5.4\n",
              "2   OtherLocation      No       Direct  17.6\n",
              "3     Phone / App      No       Direct   9.3\n",
              "4       Corporate     Yes       Direct  13.0\n",
              "5       In-Person     Yes       Direct   5.9\n",
              "6   OtherLocation     Yes       Direct  16.4\n",
              "7     Phone / App     Yes       Direct   9.5\n",
              "8       Corporate      No  SubContract  11.9\n",
              "9       In-Person      No  SubContract   5.3\n",
              "10  OtherLocation      No  SubContract  16.5\n",
              "11    Phone / App      No  SubContract  10.1\n",
              "12      Corporate     Yes  SubContract   6.8\n",
              "13      In-Person     Yes  SubContract   4.1\n",
              "14  OtherLocation     Yes  SubContract  11.9\n",
              "15    Phone / App     Yes  SubContract   6.6"
            ]
          },
          "metadata": {
            "tags": []
          },
          "execution_count": 225
        }
      ]
    },
    {
      "cell_type": "markdown",
      "metadata": {
        "id": "IRZ6xEYi7W1H"
      },
      "source": [
        "###  Breaking apart a Column"
      ]
    },
    {
      "cell_type": "markdown",
      "metadata": {
        "id": "hg_Ljb4Oq6mi"
      },
      "source": [
        "The <strong>spread()</strong> function can be used to break apart a column.  Spread will create sepearate fields for each distinct value in a column.  There exists an <i>opposite</i> function called <strong>gather()</strong> that will bring a set of values in different columns into one column.\n",
        "\n",
        "In this context, <strong>spread()</strong> is necessary because mutate() will be used to determine the difference in delivery times between Direct and SubContract."
      ]
    },
    {
      "cell_type": "code",
      "metadata": {
        "colab": {
          "base_uri": "https://localhost:8080/",
          "height": 288
        },
        "id": "sN_gmn6t7W9J",
        "outputId": "b96f021b-4a41-4b06-eb7a-c254b9d69e6a"
      },
      "source": [
        "Outcomes2019 = (\n",
        "        PD2019 \n",
        "        >> group_by(X.DeliveryType, X.SameZip, X.Type)\n",
        "        >> summarize(Avg = X.Minutes.mean())\n",
        "        >> spread(X.DeliveryType, X.Avg)\n",
        "        )\n",
        "\n",
        "Outcomes2019.round(1)"
      ],
      "execution_count": null,
      "outputs": [
        {
          "output_type": "execute_result",
          "data": {
            "text/html": [
              "<div>\n",
              "<style scoped>\n",
              "    .dataframe tbody tr th:only-of-type {\n",
              "        vertical-align: middle;\n",
              "    }\n",
              "\n",
              "    .dataframe tbody tr th {\n",
              "        vertical-align: top;\n",
              "    }\n",
              "\n",
              "    .dataframe thead th {\n",
              "        text-align: right;\n",
              "    }\n",
              "</style>\n",
              "<table border=\"1\" class=\"dataframe\">\n",
              "  <thead>\n",
              "    <tr style=\"text-align: right;\">\n",
              "      <th></th>\n",
              "      <th>Type</th>\n",
              "      <th>SameZip</th>\n",
              "      <th>Direct</th>\n",
              "      <th>SubContract</th>\n",
              "    </tr>\n",
              "  </thead>\n",
              "  <tbody>\n",
              "    <tr>\n",
              "      <th>0</th>\n",
              "      <td>Corporate</td>\n",
              "      <td>No</td>\n",
              "      <td>11.6</td>\n",
              "      <td>11.9</td>\n",
              "    </tr>\n",
              "    <tr>\n",
              "      <th>1</th>\n",
              "      <td>Corporate</td>\n",
              "      <td>Yes</td>\n",
              "      <td>13.0</td>\n",
              "      <td>6.8</td>\n",
              "    </tr>\n",
              "    <tr>\n",
              "      <th>2</th>\n",
              "      <td>In-Person</td>\n",
              "      <td>No</td>\n",
              "      <td>5.4</td>\n",
              "      <td>5.3</td>\n",
              "    </tr>\n",
              "    <tr>\n",
              "      <th>3</th>\n",
              "      <td>In-Person</td>\n",
              "      <td>Yes</td>\n",
              "      <td>5.9</td>\n",
              "      <td>4.1</td>\n",
              "    </tr>\n",
              "    <tr>\n",
              "      <th>4</th>\n",
              "      <td>OtherLocation</td>\n",
              "      <td>No</td>\n",
              "      <td>17.6</td>\n",
              "      <td>16.5</td>\n",
              "    </tr>\n",
              "    <tr>\n",
              "      <th>5</th>\n",
              "      <td>OtherLocation</td>\n",
              "      <td>Yes</td>\n",
              "      <td>16.4</td>\n",
              "      <td>11.9</td>\n",
              "    </tr>\n",
              "    <tr>\n",
              "      <th>6</th>\n",
              "      <td>Phone / App</td>\n",
              "      <td>No</td>\n",
              "      <td>9.3</td>\n",
              "      <td>10.1</td>\n",
              "    </tr>\n",
              "    <tr>\n",
              "      <th>7</th>\n",
              "      <td>Phone / App</td>\n",
              "      <td>Yes</td>\n",
              "      <td>9.5</td>\n",
              "      <td>6.6</td>\n",
              "    </tr>\n",
              "  </tbody>\n",
              "</table>\n",
              "</div>"
            ],
            "text/plain": [
              "            Type SameZip  Direct  SubContract\n",
              "0      Corporate      No    11.6         11.9\n",
              "1      Corporate     Yes    13.0          6.8\n",
              "2      In-Person      No     5.4          5.3\n",
              "3      In-Person     Yes     5.9          4.1\n",
              "4  OtherLocation      No    17.6         16.5\n",
              "5  OtherLocation     Yes    16.4         11.9\n",
              "6    Phone / App      No     9.3         10.1\n",
              "7    Phone / App     Yes     9.5          6.6"
            ]
          },
          "metadata": {
            "tags": []
          },
          "execution_count": 227
        }
      ]
    },
    {
      "cell_type": "markdown",
      "metadata": {
        "id": "QbsmuL7j7yDq"
      },
      "source": [
        "Using mutate() to determine the difference in delivery times between the two modes of delivery."
      ]
    },
    {
      "cell_type": "code",
      "metadata": {
        "colab": {
          "base_uri": "https://localhost:8080/",
          "height": 288
        },
        "id": "fizkwsM27yOA",
        "outputId": "63231886-b233-42f2-bd0b-b7e4772cb696"
      },
      "source": [
        "Outcomes2019 = (\n",
        "        PD2019 \n",
        "        >> group_by(X.DeliveryType, X.SameZip, X.Type)\n",
        "        >> summarize(Avg = X.Minutes.mean())\n",
        "        >> spread(X.DeliveryType, X.Avg)\n",
        "        >> mutate(Difference = X.Direct - X.SubContract)\n",
        "        )\n",
        "\n",
        "Outcomes2019.round(1)"
      ],
      "execution_count": null,
      "outputs": [
        {
          "output_type": "execute_result",
          "data": {
            "text/html": [
              "<div>\n",
              "<style scoped>\n",
              "    .dataframe tbody tr th:only-of-type {\n",
              "        vertical-align: middle;\n",
              "    }\n",
              "\n",
              "    .dataframe tbody tr th {\n",
              "        vertical-align: top;\n",
              "    }\n",
              "\n",
              "    .dataframe thead th {\n",
              "        text-align: right;\n",
              "    }\n",
              "</style>\n",
              "<table border=\"1\" class=\"dataframe\">\n",
              "  <thead>\n",
              "    <tr style=\"text-align: right;\">\n",
              "      <th></th>\n",
              "      <th>Type</th>\n",
              "      <th>SameZip</th>\n",
              "      <th>Direct</th>\n",
              "      <th>SubContract</th>\n",
              "      <th>Difference</th>\n",
              "    </tr>\n",
              "  </thead>\n",
              "  <tbody>\n",
              "    <tr>\n",
              "      <th>0</th>\n",
              "      <td>Corporate</td>\n",
              "      <td>No</td>\n",
              "      <td>11.6</td>\n",
              "      <td>11.9</td>\n",
              "      <td>-0.3</td>\n",
              "    </tr>\n",
              "    <tr>\n",
              "      <th>1</th>\n",
              "      <td>Corporate</td>\n",
              "      <td>Yes</td>\n",
              "      <td>13.0</td>\n",
              "      <td>6.8</td>\n",
              "      <td>6.2</td>\n",
              "    </tr>\n",
              "    <tr>\n",
              "      <th>2</th>\n",
              "      <td>In-Person</td>\n",
              "      <td>No</td>\n",
              "      <td>5.4</td>\n",
              "      <td>5.3</td>\n",
              "      <td>0.1</td>\n",
              "    </tr>\n",
              "    <tr>\n",
              "      <th>3</th>\n",
              "      <td>In-Person</td>\n",
              "      <td>Yes</td>\n",
              "      <td>5.9</td>\n",
              "      <td>4.1</td>\n",
              "      <td>1.8</td>\n",
              "    </tr>\n",
              "    <tr>\n",
              "      <th>4</th>\n",
              "      <td>OtherLocation</td>\n",
              "      <td>No</td>\n",
              "      <td>17.6</td>\n",
              "      <td>16.5</td>\n",
              "      <td>1.1</td>\n",
              "    </tr>\n",
              "    <tr>\n",
              "      <th>5</th>\n",
              "      <td>OtherLocation</td>\n",
              "      <td>Yes</td>\n",
              "      <td>16.4</td>\n",
              "      <td>11.9</td>\n",
              "      <td>4.6</td>\n",
              "    </tr>\n",
              "    <tr>\n",
              "      <th>6</th>\n",
              "      <td>Phone / App</td>\n",
              "      <td>No</td>\n",
              "      <td>9.3</td>\n",
              "      <td>10.1</td>\n",
              "      <td>-0.8</td>\n",
              "    </tr>\n",
              "    <tr>\n",
              "      <th>7</th>\n",
              "      <td>Phone / App</td>\n",
              "      <td>Yes</td>\n",
              "      <td>9.5</td>\n",
              "      <td>6.6</td>\n",
              "      <td>2.9</td>\n",
              "    </tr>\n",
              "  </tbody>\n",
              "</table>\n",
              "</div>"
            ],
            "text/plain": [
              "            Type SameZip  Direct  SubContract  Difference\n",
              "0      Corporate      No    11.6         11.9        -0.3\n",
              "1      Corporate     Yes    13.0          6.8         6.2\n",
              "2      In-Person      No     5.4          5.3         0.1\n",
              "3      In-Person     Yes     5.9          4.1         1.8\n",
              "4  OtherLocation      No    17.6         16.5         1.1\n",
              "5  OtherLocation     Yes    16.4         11.9         4.6\n",
              "6    Phone / App      No     9.3         10.1        -0.8\n",
              "7    Phone / App     Yes     9.5          6.6         2.9"
            ]
          },
          "metadata": {
            "tags": []
          },
          "execution_count": 228
        }
      ]
    },
    {
      "cell_type": "markdown",
      "metadata": {
        "id": "OrMJqBlH8S-C"
      },
      "source": [
        "### Making the summary table easier to read"
      ]
    },
    {
      "cell_type": "code",
      "metadata": {
        "colab": {
          "base_uri": "https://localhost:8080/"
        },
        "id": "LyyR9_1I8TIC",
        "outputId": "498557d0-a3df-49bf-c52b-529a38aa6abc"
      },
      "source": [
        "Outcomes2019 = (\n",
        "        PD2019 \n",
        "        >> group_by(X.DeliveryType, X.SameZip, X.Type)\n",
        "        >> summarize(Avg = X.Minutes.mean())\n",
        "        >> spread(X.DeliveryType, X.Avg)\n",
        "        >> mutate(Difference = X.Direct - X.SubContract)\n",
        "        >> arrange(X.Difference)\n",
        "        )\n",
        "\n",
        "Outcomes2019 = Outcomes2019.round(1)\n",
        "\n",
        "#Pretty Table...\n",
        "print(Outcomes2019.to_string(index=False))\n"
      ],
      "execution_count": null,
      "outputs": [
        {
          "output_type": "stream",
          "text": [
            "          Type SameZip  Direct  SubContract  Difference\n",
            "   Phone / App      No     9.3         10.1        -0.8\n",
            "     Corporate      No    11.6         11.9        -0.3\n",
            "     In-Person      No     5.4          5.3         0.1\n",
            " OtherLocation      No    17.6         16.5         1.1\n",
            "     In-Person     Yes     5.9          4.1         1.8\n",
            "   Phone / App     Yes     9.5          6.6         2.9\n",
            " OtherLocation     Yes    16.4         11.9         4.6\n",
            "     Corporate     Yes    13.0          6.8         6.2\n"
          ],
          "name": "stdout"
        }
      ]
    },
    {
      "cell_type": "markdown",
      "metadata": {
        "id": "a7lbIySm-Kbn"
      },
      "source": [
        "The following snipit of code will allow this table to be saved into a CSV file."
      ]
    },
    {
      "cell_type": "code",
      "metadata": {
        "id": "sPylZWlO-Kkz"
      },
      "source": [
        "Outcomes2019.to_csv(\"/content/sample_data/Outcomes2019.csv\", index=False) "
      ],
      "execution_count": null,
      "outputs": []
    },
    {
      "cell_type": "markdown",
      "metadata": {
        "id": "GH3plzgg-1SE"
      },
      "source": [
        "## Getting List of Comments"
      ]
    },
    {
      "cell_type": "markdown",
      "metadata": {
        "id": "NHXPi7C8sWxD"
      },
      "source": [
        "Suppose that in addition to the summary table above, the client has asked for a list of all comments.  Recall, comments are required when the time is longer than 1 hour."
      ]
    },
    {
      "cell_type": "code",
      "metadata": {
        "colab": {
          "base_uri": "https://localhost:8080/",
          "height": 828
        },
        "id": "09HkbUl--1aT",
        "outputId": "88135acc-1019-445d-cea8-d404dcf8f445"
      },
      "source": [
        " Comments = (\n",
        "              PD2019 \n",
        "               >> filter_by(X.Minutes >= 60)\n",
        "            )\n",
        "\n",
        "\n",
        "Comments.to_csv(\"/content/sample_data/Comments2019.csv\", index=False)  \n",
        "Comments\n"
      ],
      "execution_count": null,
      "outputs": [
        {
          "output_type": "execute_result",
          "data": {
            "text/html": [
              "<div>\n",
              "<style scoped>\n",
              "    .dataframe tbody tr th:only-of-type {\n",
              "        vertical-align: middle;\n",
              "    }\n",
              "\n",
              "    .dataframe tbody tr th {\n",
              "        vertical-align: top;\n",
              "    }\n",
              "\n",
              "    .dataframe thead th {\n",
              "        text-align: right;\n",
              "    }\n",
              "</style>\n",
              "<table border=\"1\" class=\"dataframe\">\n",
              "  <thead>\n",
              "    <tr style=\"text-align: right;\">\n",
              "      <th></th>\n",
              "      <th>LocationID</th>\n",
              "      <th>DeliveryType</th>\n",
              "      <th>SameZip</th>\n",
              "      <th>Type</th>\n",
              "      <th>Minutes</th>\n",
              "      <th>Comments</th>\n",
              "    </tr>\n",
              "  </thead>\n",
              "  <tbody>\n",
              "    <tr>\n",
              "      <th>88</th>\n",
              "      <td>LocationID_CGOEAQMTTGHA</td>\n",
              "      <td>SubContract</td>\n",
              "      <td>No</td>\n",
              "      <td>OtherLocation</td>\n",
              "      <td>60</td>\n",
              "      <td>Changed Order; Wrong Address;</td>\n",
              "    </tr>\n",
              "    <tr>\n",
              "      <th>1666</th>\n",
              "      <td>LocationID_IZTRQOTEXUHJ</td>\n",
              "      <td>Direct</td>\n",
              "      <td>No</td>\n",
              "      <td>In-Person</td>\n",
              "      <td>68</td>\n",
              "      <td>Customer Delayed;</td>\n",
              "    </tr>\n",
              "    <tr>\n",
              "      <th>1667</th>\n",
              "      <td>LocationID_IZTRQOTEXUHJ</td>\n",
              "      <td>Direct</td>\n",
              "      <td>No</td>\n",
              "      <td>In-Person</td>\n",
              "      <td>68</td>\n",
              "      <td>Customer Delayed;</td>\n",
              "    </tr>\n",
              "    <tr>\n",
              "      <th>1784</th>\n",
              "      <td>LocationID_IZTRQOTEXUHJ</td>\n",
              "      <td>Direct</td>\n",
              "      <td>No</td>\n",
              "      <td>OtherLocation</td>\n",
              "      <td>64</td>\n",
              "      <td>Changed Order;</td>\n",
              "    </tr>\n",
              "    <tr>\n",
              "      <th>2268</th>\n",
              "      <td>LocationID_FQBUKRCCQMNX</td>\n",
              "      <td>Direct</td>\n",
              "      <td>No</td>\n",
              "      <td>In-Person</td>\n",
              "      <td>90</td>\n",
              "      <td>Customer Delayed; Changed Order;</td>\n",
              "    </tr>\n",
              "    <tr>\n",
              "      <th>2669</th>\n",
              "      <td>LocationID_OSMKWADRZHQT</td>\n",
              "      <td>Direct</td>\n",
              "      <td>No</td>\n",
              "      <td>Phone / App</td>\n",
              "      <td>64</td>\n",
              "      <td>Changed Order;</td>\n",
              "    </tr>\n",
              "    <tr>\n",
              "      <th>3302</th>\n",
              "      <td>LocationID_VLXBQUJZXOMS</td>\n",
              "      <td>Direct</td>\n",
              "      <td>Yes</td>\n",
              "      <td>In-Person</td>\n",
              "      <td>73</td>\n",
              "      <td>Customer Delayed; Changed Order;</td>\n",
              "    </tr>\n",
              "    <tr>\n",
              "      <th>5486</th>\n",
              "      <td>LocationID_VQJUJJRMDPXM</td>\n",
              "      <td>Direct</td>\n",
              "      <td>Yes</td>\n",
              "      <td>OtherLocation</td>\n",
              "      <td>78</td>\n",
              "      <td>Changed Order;</td>\n",
              "    </tr>\n",
              "    <tr>\n",
              "      <th>6820</th>\n",
              "      <td>LocationID_PTUCRKNBWSDF</td>\n",
              "      <td>Direct</td>\n",
              "      <td>Yes</td>\n",
              "      <td>Phone / App</td>\n",
              "      <td>90</td>\n",
              "      <td>Chained Delivery; Number = 3; Changed Order;</td>\n",
              "    </tr>\n",
              "    <tr>\n",
              "      <th>6823</th>\n",
              "      <td>LocationID_PTUCRKNBWSDF</td>\n",
              "      <td>Direct</td>\n",
              "      <td>Yes</td>\n",
              "      <td>In-Person</td>\n",
              "      <td>90</td>\n",
              "      <td>Customer Delayed; Changed Order;</td>\n",
              "    </tr>\n",
              "    <tr>\n",
              "      <th>6825</th>\n",
              "      <td>LocationID_PTUCRKNBWSDF</td>\n",
              "      <td>Direct</td>\n",
              "      <td>Yes</td>\n",
              "      <td>OtherLocation</td>\n",
              "      <td>90</td>\n",
              "      <td>Chained Delivery; Number = 6;</td>\n",
              "    </tr>\n",
              "    <tr>\n",
              "      <th>6827</th>\n",
              "      <td>LocationID_PTUCRKNBWSDF</td>\n",
              "      <td>Direct</td>\n",
              "      <td>Yes</td>\n",
              "      <td>Phone / App</td>\n",
              "      <td>90</td>\n",
              "      <td>Chained Delivery; Number = 6;</td>\n",
              "    </tr>\n",
              "    <tr>\n",
              "      <th>6830</th>\n",
              "      <td>LocationID_PTUCRKNBWSDF</td>\n",
              "      <td>Direct</td>\n",
              "      <td>Yes</td>\n",
              "      <td>In-Person</td>\n",
              "      <td>90</td>\n",
              "      <td>Customer Delayed; Changed Order;</td>\n",
              "    </tr>\n",
              "    <tr>\n",
              "      <th>6831</th>\n",
              "      <td>LocationID_PTUCRKNBWSDF</td>\n",
              "      <td>Direct</td>\n",
              "      <td>Yes</td>\n",
              "      <td>Phone / App</td>\n",
              "      <td>90</td>\n",
              "      <td>Chained Delivery; Number = 4; Changed Order;</td>\n",
              "    </tr>\n",
              "    <tr>\n",
              "      <th>6854</th>\n",
              "      <td>LocationID_PTUCRKNBWSDF</td>\n",
              "      <td>Direct</td>\n",
              "      <td>Yes</td>\n",
              "      <td>Phone / App</td>\n",
              "      <td>68</td>\n",
              "      <td>Chained Delivery; Number = 4;</td>\n",
              "    </tr>\n",
              "    <tr>\n",
              "      <th>7551</th>\n",
              "      <td>LocationID_PEBNNMUCNDQT</td>\n",
              "      <td>SubContract</td>\n",
              "      <td>No</td>\n",
              "      <td>Phone / App</td>\n",
              "      <td>90</td>\n",
              "      <td>Changed Order; Wrong Address;</td>\n",
              "    </tr>\n",
              "    <tr>\n",
              "      <th>7554</th>\n",
              "      <td>LocationID_PEBNNMUCNDQT</td>\n",
              "      <td>SubContract</td>\n",
              "      <td>No</td>\n",
              "      <td>Phone / App</td>\n",
              "      <td>90</td>\n",
              "      <td>Changed Order; Wrong Address;</td>\n",
              "    </tr>\n",
              "    <tr>\n",
              "      <th>7745</th>\n",
              "      <td>LocationID_WULQZFTKSTZY</td>\n",
              "      <td>Direct</td>\n",
              "      <td>Yes</td>\n",
              "      <td>Corporate</td>\n",
              "      <td>80</td>\n",
              "      <td>Chained Delivery; Number = 3; Changed Order; W...</td>\n",
              "    </tr>\n",
              "    <tr>\n",
              "      <th>7746</th>\n",
              "      <td>LocationID_WULQZFTKSTZY</td>\n",
              "      <td>Direct</td>\n",
              "      <td>Yes</td>\n",
              "      <td>Phone / App</td>\n",
              "      <td>75</td>\n",
              "      <td>Chained Delivery; Number = 3; Changed Order;</td>\n",
              "    </tr>\n",
              "    <tr>\n",
              "      <th>7747</th>\n",
              "      <td>LocationID_WULQZFTKSTZY</td>\n",
              "      <td>Direct</td>\n",
              "      <td>Yes</td>\n",
              "      <td>Corporate</td>\n",
              "      <td>87</td>\n",
              "      <td>Chained Delivery; Number = 5; Wrong Address;</td>\n",
              "    </tr>\n",
              "    <tr>\n",
              "      <th>7748</th>\n",
              "      <td>LocationID_WULQZFTKSTZY</td>\n",
              "      <td>Direct</td>\n",
              "      <td>Yes</td>\n",
              "      <td>Phone / App</td>\n",
              "      <td>69</td>\n",
              "      <td>Chained Delivery; Number = 2; Changed Order; W...</td>\n",
              "    </tr>\n",
              "    <tr>\n",
              "      <th>7751</th>\n",
              "      <td>LocationID_WULQZFTKSTZY</td>\n",
              "      <td>Direct</td>\n",
              "      <td>Yes</td>\n",
              "      <td>Phone / App</td>\n",
              "      <td>90</td>\n",
              "      <td>Chained Delivery; Number = 4; Wrong Address;</td>\n",
              "    </tr>\n",
              "    <tr>\n",
              "      <th>7752</th>\n",
              "      <td>LocationID_WULQZFTKSTZY</td>\n",
              "      <td>Direct</td>\n",
              "      <td>Yes</td>\n",
              "      <td>OtherLocation</td>\n",
              "      <td>70</td>\n",
              "      <td>Chained Delivery; Number = 5;</td>\n",
              "    </tr>\n",
              "    <tr>\n",
              "      <th>7754</th>\n",
              "      <td>LocationID_WULQZFTKSTZY</td>\n",
              "      <td>Direct</td>\n",
              "      <td>Yes</td>\n",
              "      <td>Phone / App</td>\n",
              "      <td>90</td>\n",
              "      <td>Chained Delivery; Number = 4; Changed Order;</td>\n",
              "    </tr>\n",
              "    <tr>\n",
              "      <th>7755</th>\n",
              "      <td>LocationID_WULQZFTKSTZY</td>\n",
              "      <td>Direct</td>\n",
              "      <td>Yes</td>\n",
              "      <td>Corporate</td>\n",
              "      <td>90</td>\n",
              "      <td>Chained Delivery; Number = 4; Wrong Address;</td>\n",
              "    </tr>\n",
              "    <tr>\n",
              "      <th>8197</th>\n",
              "      <td>LocationID_ZYRVHMILLDGT</td>\n",
              "      <td>Direct</td>\n",
              "      <td>Yes</td>\n",
              "      <td>In-Person</td>\n",
              "      <td>60</td>\n",
              "      <td>Customer Delayed;</td>\n",
              "    </tr>\n",
              "  </tbody>\n",
              "</table>\n",
              "</div>"
            ],
            "text/plain": [
              "                   LocationID  ...                                           Comments\n",
              "88    LocationID_CGOEAQMTTGHA  ...                      Changed Order; Wrong Address;\n",
              "1666  LocationID_IZTRQOTEXUHJ  ...                                  Customer Delayed;\n",
              "1667  LocationID_IZTRQOTEXUHJ  ...                                  Customer Delayed;\n",
              "1784  LocationID_IZTRQOTEXUHJ  ...                                     Changed Order;\n",
              "2268  LocationID_FQBUKRCCQMNX  ...                   Customer Delayed; Changed Order;\n",
              "2669  LocationID_OSMKWADRZHQT  ...                                     Changed Order;\n",
              "3302  LocationID_VLXBQUJZXOMS  ...                   Customer Delayed; Changed Order;\n",
              "5486  LocationID_VQJUJJRMDPXM  ...                                     Changed Order;\n",
              "6820  LocationID_PTUCRKNBWSDF  ...       Chained Delivery; Number = 3; Changed Order;\n",
              "6823  LocationID_PTUCRKNBWSDF  ...                   Customer Delayed; Changed Order;\n",
              "6825  LocationID_PTUCRKNBWSDF  ...                      Chained Delivery; Number = 6;\n",
              "6827  LocationID_PTUCRKNBWSDF  ...                      Chained Delivery; Number = 6;\n",
              "6830  LocationID_PTUCRKNBWSDF  ...                   Customer Delayed; Changed Order;\n",
              "6831  LocationID_PTUCRKNBWSDF  ...       Chained Delivery; Number = 4; Changed Order;\n",
              "6854  LocationID_PTUCRKNBWSDF  ...                     Chained Delivery; Number = 4; \n",
              "7551  LocationID_PEBNNMUCNDQT  ...                      Changed Order; Wrong Address;\n",
              "7554  LocationID_PEBNNMUCNDQT  ...                      Changed Order; Wrong Address;\n",
              "7745  LocationID_WULQZFTKSTZY  ...  Chained Delivery; Number = 3; Changed Order; W...\n",
              "7746  LocationID_WULQZFTKSTZY  ...       Chained Delivery; Number = 3; Changed Order;\n",
              "7747  LocationID_WULQZFTKSTZY  ...       Chained Delivery; Number = 5; Wrong Address;\n",
              "7748  LocationID_WULQZFTKSTZY  ...  Chained Delivery; Number = 2; Changed Order; W...\n",
              "7751  LocationID_WULQZFTKSTZY  ...       Chained Delivery; Number = 4; Wrong Address;\n",
              "7752  LocationID_WULQZFTKSTZY  ...                     Chained Delivery; Number = 5; \n",
              "7754  LocationID_WULQZFTKSTZY  ...       Chained Delivery; Number = 4; Changed Order;\n",
              "7755  LocationID_WULQZFTKSTZY  ...       Chained Delivery; Number = 4; Wrong Address;\n",
              "8197  LocationID_ZYRVHMILLDGT  ...                                  Customer Delayed;\n",
              "\n",
              "[26 rows x 6 columns]"
            ]
          },
          "metadata": {
            "tags": []
          },
          "execution_count": 230
        }
      ]
    },
    {
      "cell_type": "markdown",
      "metadata": {
        "id": "euqgUQZttJ65"
      },
      "source": [
        "<font size=\"+2\"><strong>Issue</strong></font>\n",
        "\n",
        "A couple locations have <i>chained</i> a few of their deliveries.  This means that a sequence of deliveries were made at once.  Locations are not supposed to do this as this is against company policy.   The Number in the Comment field indicates how many deliveries were made in this sequence of deliveries."
      ]
    },
    {
      "cell_type": "markdown",
      "metadata": {
        "id": "9LwbxRex53O4"
      },
      "source": [
        "### Aside: Simple Plotting via Seaborn\n",
        "\n",
        "<table width='100%' ><tr><td bgcolor='orange'></td></tr></table>"
      ]
    },
    {
      "cell_type": "code",
      "metadata": {
        "id": "CW0oSi1q53Yw",
        "colab": {
          "base_uri": "https://localhost:8080/",
          "height": 285
        },
        "outputId": "634ed561-068e-45d9-d743-e3706627e3d9"
      },
      "source": [
        "import seaborn as sns\n",
        "sns.set_theme(style=\"whitegrid\")\n",
        "\n",
        "bxplot = sns.boxplot(x='Type',y='Minutes', data=PD2019)"
      ],
      "execution_count": null,
      "outputs": [
        {
          "output_type": "display_data",
          "data": {
            "image/png": "[encoded data removed]",
            "text/plain": [
              "<Figure size 432x288 with 1 Axes>"
            ]
          },
          "metadata": {
            "tags": []
          }
        }
      ]
    },
    {
      "cell_type": "markdown",
      "metadata": {
        "id": "MUineDT1tBjQ"
      },
      "source": [
        "<table width='100%' ><tr><td bgcolor='orange'></td></tr></table>"
      ]
    },
    {
      "cell_type": "markdown",
      "metadata": {
        "id": "ZQ-4OL8K_0w7"
      },
      "source": [
        "### Getting Number from Comments for Chained Deliveries"
      ]
    },
    {
      "cell_type": "markdown",
      "metadata": {
        "id": "YeaddNldugZA"
      },
      "source": [
        "A description of the approach taken here is provided below.\n",
        "\n",
        "1.   Split the string on the \"= \" \n",
        "2.   Split the string a second time on the \";\"\n",
        "3.   Pull off remaining value\n",
        "\n"
      ]
    },
    {
      "cell_type": "markdown",
      "metadata": {
        "id": "TabYuAFPuSJs"
      },
      "source": [
        "<p align='center'><font size='+3'>Chained Delivery; Number = 4; Changed Order;</font></p>"
      ]
    },
    {
      "cell_type": "code",
      "metadata": {
        "colab": {
          "base_uri": "https://localhost:8080/"
        },
        "id": "gy4Wlbd9Le1K",
        "outputId": "04fcf40f-abff-4570-8644-803b1d695945"
      },
      "source": [
        "#Understanding the string splitting process....\n",
        "PD2019_Updated = PD2019\n",
        "PD2019_Updated.Comments.str.split(\"= \").str[1].str.split(\";\").str[0].dropna()\n",
        "\n",
        "#PD2019_Updated.Comments.str.split(\"= \").str[1].str.split(\";\").str[0].replace(np.nan,'1')\n"
      ],
      "execution_count": null,
      "outputs": [
        {
          "output_type": "execute_result",
          "data": {
            "text/plain": [
              "6820    3\n",
              "6825    6\n",
              "6827    6\n",
              "6831    4\n",
              "6854    4\n",
              "7745    3\n",
              "7746    3\n",
              "7747    5\n",
              "7748    2\n",
              "7751    4\n",
              "7752    5\n",
              "7754    4\n",
              "7755    4\n",
              "Name: Comments, dtype: object"
            ]
          },
          "metadata": {
            "tags": []
          },
          "execution_count": 231
        }
      ]
    },
    {
      "cell_type": "markdown",
      "metadata": {
        "id": "22TtW9n7u4mU"
      },
      "source": [
        "Next, use the code snip-it above to pull out Number from Comments string.  A new field called Quantity will be created here."
      ]
    },
    {
      "cell_type": "code",
      "metadata": {
        "colab": {
          "base_uri": "https://localhost:8080/",
          "height": 407
        },
        "id": "aXBz1SSeBCA2",
        "outputId": "ec903dce-1696-4b08-9eb1-ea2b4107c312"
      },
      "source": [
        "PD2019_Updated = (\n",
        "                  PD2019_Updated \n",
        "                  >> mutate(Quantity = (X.Comments\n",
        "                                         .str.split(\"= \")\n",
        "                                         .str[1]\n",
        "                                         .str.split(\";\")\n",
        "                                         .str[0]\n",
        "                                         .replace(np.nan,'1'))\n",
        "                                        )\n",
        "                 )\n",
        "\n",
        "#Change datatype of Quanity to integer\n",
        "PD2019_Updated['Quantity'] = PD2019_Updated['Quantity'].astype(int)\n",
        "PD2019_Updated"
      ],
      "execution_count": null,
      "outputs": [
        {
          "output_type": "execute_result",
          "data": {
            "text/html": [
              "<div>\n",
              "<style scoped>\n",
              "    .dataframe tbody tr th:only-of-type {\n",
              "        vertical-align: middle;\n",
              "    }\n",
              "\n",
              "    .dataframe tbody tr th {\n",
              "        vertical-align: top;\n",
              "    }\n",
              "\n",
              "    .dataframe thead th {\n",
              "        text-align: right;\n",
              "    }\n",
              "</style>\n",
              "<table border=\"1\" class=\"dataframe\">\n",
              "  <thead>\n",
              "    <tr style=\"text-align: right;\">\n",
              "      <th></th>\n",
              "      <th>LocationID</th>\n",
              "      <th>DeliveryType</th>\n",
              "      <th>SameZip</th>\n",
              "      <th>Type</th>\n",
              "      <th>Minutes</th>\n",
              "      <th>Comments</th>\n",
              "      <th>Quantity</th>\n",
              "    </tr>\n",
              "  </thead>\n",
              "  <tbody>\n",
              "    <tr>\n",
              "      <th>0</th>\n",
              "      <td>LocationID_KSUXLYQTGXZH</td>\n",
              "      <td>Direct</td>\n",
              "      <td>No</td>\n",
              "      <td>Corporate</td>\n",
              "      <td>7</td>\n",
              "      <td>NaN</td>\n",
              "      <td>1</td>\n",
              "    </tr>\n",
              "    <tr>\n",
              "      <th>1</th>\n",
              "      <td>LocationID_KSUXLYQTGXZH</td>\n",
              "      <td>Direct</td>\n",
              "      <td>No</td>\n",
              "      <td>In-Person</td>\n",
              "      <td>2</td>\n",
              "      <td>NaN</td>\n",
              "      <td>1</td>\n",
              "    </tr>\n",
              "    <tr>\n",
              "      <th>2</th>\n",
              "      <td>LocationID_KSUXLYQTGXZH</td>\n",
              "      <td>Direct</td>\n",
              "      <td>No</td>\n",
              "      <td>OtherLocation</td>\n",
              "      <td>13</td>\n",
              "      <td>NaN</td>\n",
              "      <td>1</td>\n",
              "    </tr>\n",
              "    <tr>\n",
              "      <th>3</th>\n",
              "      <td>LocationID_KSUXLYQTGXZH</td>\n",
              "      <td>Direct</td>\n",
              "      <td>No</td>\n",
              "      <td>In-Person</td>\n",
              "      <td>7</td>\n",
              "      <td>NaN</td>\n",
              "      <td>1</td>\n",
              "    </tr>\n",
              "    <tr>\n",
              "      <th>4</th>\n",
              "      <td>LocationID_KSUXLYQTGXZH</td>\n",
              "      <td>Direct</td>\n",
              "      <td>No</td>\n",
              "      <td>Phone / App</td>\n",
              "      <td>6</td>\n",
              "      <td>NaN</td>\n",
              "      <td>1</td>\n",
              "    </tr>\n",
              "    <tr>\n",
              "      <th>...</th>\n",
              "      <td>...</td>\n",
              "      <td>...</td>\n",
              "      <td>...</td>\n",
              "      <td>...</td>\n",
              "      <td>...</td>\n",
              "      <td>...</td>\n",
              "      <td>...</td>\n",
              "    </tr>\n",
              "    <tr>\n",
              "      <th>8780</th>\n",
              "      <td>LocationID_GTITADRGXKPG</td>\n",
              "      <td>Direct</td>\n",
              "      <td>Yes</td>\n",
              "      <td>Phone / App</td>\n",
              "      <td>10</td>\n",
              "      <td>NaN</td>\n",
              "      <td>1</td>\n",
              "    </tr>\n",
              "    <tr>\n",
              "      <th>8781</th>\n",
              "      <td>LocationID_GTITADRGXKPG</td>\n",
              "      <td>Direct</td>\n",
              "      <td>Yes</td>\n",
              "      <td>Corporate</td>\n",
              "      <td>9</td>\n",
              "      <td>NaN</td>\n",
              "      <td>1</td>\n",
              "    </tr>\n",
              "    <tr>\n",
              "      <th>8782</th>\n",
              "      <td>LocationID_GTITADRGXKPG</td>\n",
              "      <td>Direct</td>\n",
              "      <td>Yes</td>\n",
              "      <td>OtherLocation</td>\n",
              "      <td>12</td>\n",
              "      <td>NaN</td>\n",
              "      <td>1</td>\n",
              "    </tr>\n",
              "    <tr>\n",
              "      <th>8783</th>\n",
              "      <td>LocationID_GTITADRGXKPG</td>\n",
              "      <td>Direct</td>\n",
              "      <td>Yes</td>\n",
              "      <td>Phone / App</td>\n",
              "      <td>8</td>\n",
              "      <td>NaN</td>\n",
              "      <td>1</td>\n",
              "    </tr>\n",
              "    <tr>\n",
              "      <th>8784</th>\n",
              "      <td>LocationID_GTITADRGXKPG</td>\n",
              "      <td>Direct</td>\n",
              "      <td>Yes</td>\n",
              "      <td>Corporate</td>\n",
              "      <td>10</td>\n",
              "      <td>NaN</td>\n",
              "      <td>1</td>\n",
              "    </tr>\n",
              "  </tbody>\n",
              "</table>\n",
              "<p>8785 rows × 7 columns</p>\n",
              "</div>"
            ],
            "text/plain": [
              "                   LocationID DeliveryType SameZip  ... Minutes  Comments Quantity\n",
              "0     LocationID_KSUXLYQTGXZH       Direct      No  ...       7       NaN        1\n",
              "1     LocationID_KSUXLYQTGXZH       Direct      No  ...       2       NaN        1\n",
              "2     LocationID_KSUXLYQTGXZH       Direct      No  ...      13       NaN        1\n",
              "3     LocationID_KSUXLYQTGXZH       Direct      No  ...       7       NaN        1\n",
              "4     LocationID_KSUXLYQTGXZH       Direct      No  ...       6       NaN        1\n",
              "...                       ...          ...     ...  ...     ...       ...      ...\n",
              "8780  LocationID_GTITADRGXKPG       Direct     Yes  ...      10       NaN        1\n",
              "8781  LocationID_GTITADRGXKPG       Direct     Yes  ...       9       NaN        1\n",
              "8782  LocationID_GTITADRGXKPG       Direct     Yes  ...      12       NaN        1\n",
              "8783  LocationID_GTITADRGXKPG       Direct     Yes  ...       8       NaN        1\n",
              "8784  LocationID_GTITADRGXKPG       Direct     Yes  ...      10       NaN        1\n",
              "\n",
              "[8785 rows x 7 columns]"
            ]
          },
          "metadata": {
            "tags": []
          },
          "execution_count": 232
        }
      ]
    },
    {
      "cell_type": "markdown",
      "metadata": {
        "id": "xqALPO_xVexK"
      },
      "source": [
        "Getting updated summaries for deliveries that occured in 2019.  Notice that <strong>sum()</strong> function is used for Minutes and Quantity.  These two sums are used to create the average using mutate()."
      ]
    },
    {
      "cell_type": "code",
      "metadata": {
        "colab": {
          "base_uri": "https://localhost:8080/"
        },
        "id": "0llwYX8eVe4-",
        "outputId": "96b6cd5f-79bb-46be-ffb3-1891705be7fa"
      },
      "source": [
        "Outcomes2019_Updated = (\n",
        "        PD2019_Updated \n",
        "        >> group_by(X.DeliveryType, X.SameZip, X.Type)\n",
        "        >> summarize(Total = X.Minutes.sum(), Deliveries = X.Quantity.sum() )\n",
        "        >> mutate(Avg = X.Total/X.Deliveries)\n",
        "         >> select(X.Type, X.SameZip, X.DeliveryType, X.Avg)\n",
        "        >> spread(X.DeliveryType, X.Avg)\n",
        "        >> mutate(Difference = X.Direct - X.SubContract)\n",
        "        >> arrange(X.Difference)\n",
        "        )\n",
        "\n",
        "Outcomes2019_Updated = Outcomes2019_Updated.round(1)\n",
        "\n",
        "#Pretty Table...\n",
        "print(Outcomes2019_Updated.to_string(index=False))"
      ],
      "execution_count": null,
      "outputs": [
        {
          "output_type": "stream",
          "text": [
            "          Type SameZip  Direct  SubContract  Difference\n",
            "   Phone / App      No     9.3         10.1        -0.8\n",
            "     Corporate      No    11.6         11.9        -0.3\n",
            "     In-Person      No     5.4          5.3         0.1\n",
            " OtherLocation      No    17.6         16.5         1.1\n",
            "     In-Person     Yes     5.9          4.1         1.8\n",
            "   Phone / App     Yes     9.4          6.6         2.8\n",
            " OtherLocation     Yes    16.1         11.9         4.2\n",
            "     Corporate     Yes    12.9          6.8         6.1\n"
          ],
          "name": "stdout"
        }
      ]
    },
    {
      "cell_type": "markdown",
      "metadata": {
        "id": "VQInkJSQG8Ic"
      },
      "source": [
        "\n",
        "\n",
        "---\n",
        "\n",
        "---\n",
        "\n",
        "\n",
        "\n"
      ]
    },
    {
      "cell_type": "markdown",
      "metadata": {
        "id": "Yi1N6yjMvbqG"
      },
      "source": [
        "## Analysis for 2020"
      ]
    },
    {
      "cell_type": "code",
      "metadata": {
        "id": "gxqn7-L0ouhO"
      },
      "source": [
        "PD2020 = pd.read_csv(\"/content/sample_data/PizzaDelivery2020.csv\") "
      ],
      "execution_count": null,
      "outputs": []
    },
    {
      "cell_type": "code",
      "metadata": {
        "id": "5PawTmaY2k48",
        "colab": {
          "base_uri": "https://localhost:8080/",
          "height": 407
        },
        "outputId": "370fce85-a2b8-4e69-fb4d-7b543c46f205"
      },
      "source": [
        "PD2020"
      ],
      "execution_count": null,
      "outputs": [
        {
          "output_type": "execute_result",
          "data": {
            "text/html": [
              "<div>\n",
              "<style scoped>\n",
              "    .dataframe tbody tr th:only-of-type {\n",
              "        vertical-align: middle;\n",
              "    }\n",
              "\n",
              "    .dataframe tbody tr th {\n",
              "        vertical-align: top;\n",
              "    }\n",
              "\n",
              "    .dataframe thead th {\n",
              "        text-align: right;\n",
              "    }\n",
              "</style>\n",
              "<table border=\"1\" class=\"dataframe\">\n",
              "  <thead>\n",
              "    <tr style=\"text-align: right;\">\n",
              "      <th></th>\n",
              "      <th>LocationID</th>\n",
              "      <th>DeliveryType</th>\n",
              "      <th>SameZip</th>\n",
              "      <th>Type</th>\n",
              "      <th>Quantity</th>\n",
              "      <th>Minutes</th>\n",
              "      <th>Comments</th>\n",
              "    </tr>\n",
              "  </thead>\n",
              "  <tbody>\n",
              "    <tr>\n",
              "      <th>0</th>\n",
              "      <td>LocationID_3501</td>\n",
              "      <td>Direct</td>\n",
              "      <td>No</td>\n",
              "      <td>Phone / App</td>\n",
              "      <td>1</td>\n",
              "      <td>15</td>\n",
              "      <td>NaN</td>\n",
              "    </tr>\n",
              "    <tr>\n",
              "      <th>1</th>\n",
              "      <td>LocationID_3501</td>\n",
              "      <td>Direct</td>\n",
              "      <td>Yes</td>\n",
              "      <td>OtherLocation</td>\n",
              "      <td>1</td>\n",
              "      <td>31</td>\n",
              "      <td>NaN</td>\n",
              "    </tr>\n",
              "    <tr>\n",
              "      <th>2</th>\n",
              "      <td>LocationID_3501</td>\n",
              "      <td>Direct</td>\n",
              "      <td>Yes</td>\n",
              "      <td>Phone / App</td>\n",
              "      <td>1</td>\n",
              "      <td>15</td>\n",
              "      <td>NaN</td>\n",
              "    </tr>\n",
              "    <tr>\n",
              "      <th>3</th>\n",
              "      <td>LocationID_3501</td>\n",
              "      <td>Direct</td>\n",
              "      <td>Yes</td>\n",
              "      <td>Phone / App</td>\n",
              "      <td>1</td>\n",
              "      <td>21</td>\n",
              "      <td>NaN</td>\n",
              "    </tr>\n",
              "    <tr>\n",
              "      <th>4</th>\n",
              "      <td>LocationID_3501</td>\n",
              "      <td>Direct</td>\n",
              "      <td>Yes</td>\n",
              "      <td>Phone / App</td>\n",
              "      <td>1</td>\n",
              "      <td>35</td>\n",
              "      <td>NaN</td>\n",
              "    </tr>\n",
              "    <tr>\n",
              "      <th>...</th>\n",
              "      <td>...</td>\n",
              "      <td>...</td>\n",
              "      <td>...</td>\n",
              "      <td>...</td>\n",
              "      <td>...</td>\n",
              "      <td>...</td>\n",
              "      <td>...</td>\n",
              "    </tr>\n",
              "    <tr>\n",
              "      <th>4359</th>\n",
              "      <td>LocationID_4422</td>\n",
              "      <td>Direct</td>\n",
              "      <td>No</td>\n",
              "      <td>Phone / App</td>\n",
              "      <td>1</td>\n",
              "      <td>14</td>\n",
              "      <td>NaN</td>\n",
              "    </tr>\n",
              "    <tr>\n",
              "      <th>4360</th>\n",
              "      <td>LocationID_4422</td>\n",
              "      <td>Direct</td>\n",
              "      <td>No</td>\n",
              "      <td>OtherLocation</td>\n",
              "      <td>1</td>\n",
              "      <td>16</td>\n",
              "      <td>NaN</td>\n",
              "    </tr>\n",
              "    <tr>\n",
              "      <th>4361</th>\n",
              "      <td>LocationID_4422</td>\n",
              "      <td>Direct</td>\n",
              "      <td>No</td>\n",
              "      <td>Corporate</td>\n",
              "      <td>1</td>\n",
              "      <td>15</td>\n",
              "      <td>NaN</td>\n",
              "    </tr>\n",
              "    <tr>\n",
              "      <th>4362</th>\n",
              "      <td>LocationID_4422</td>\n",
              "      <td>Direct</td>\n",
              "      <td>No</td>\n",
              "      <td>Corporate</td>\n",
              "      <td>1</td>\n",
              "      <td>22</td>\n",
              "      <td>NaN</td>\n",
              "    </tr>\n",
              "    <tr>\n",
              "      <th>4363</th>\n",
              "      <td>LocationID_4422</td>\n",
              "      <td>Direct</td>\n",
              "      <td>No</td>\n",
              "      <td>Corporate</td>\n",
              "      <td>1</td>\n",
              "      <td>19</td>\n",
              "      <td>NaN</td>\n",
              "    </tr>\n",
              "  </tbody>\n",
              "</table>\n",
              "<p>4364 rows × 7 columns</p>\n",
              "</div>"
            ],
            "text/plain": [
              "           LocationID DeliveryType SameZip  ... Quantity  Minutes  Comments\n",
              "0     LocationID_3501       Direct      No  ...        1       15       NaN\n",
              "1     LocationID_3501       Direct     Yes  ...        1       31       NaN\n",
              "2     LocationID_3501       Direct     Yes  ...        1       15       NaN\n",
              "3     LocationID_3501       Direct     Yes  ...        1       21       NaN\n",
              "4     LocationID_3501       Direct     Yes  ...        1       35       NaN\n",
              "...               ...          ...     ...  ...      ...      ...       ...\n",
              "4359  LocationID_4422       Direct      No  ...        1       14       NaN\n",
              "4360  LocationID_4422       Direct      No  ...        1       16       NaN\n",
              "4361  LocationID_4422       Direct      No  ...        1       15       NaN\n",
              "4362  LocationID_4422       Direct      No  ...        1       22       NaN\n",
              "4363  LocationID_4422       Direct      No  ...        1       19       NaN\n",
              "\n",
              "[4364 rows x 7 columns]"
            ]
          },
          "metadata": {
            "tags": []
          },
          "execution_count": 234
        }
      ]
    },
    {
      "cell_type": "markdown",
      "metadata": {
        "id": "3VY5aIE-t54P"
      },
      "source": [
        "The following code chunk is used to fix issues with DeliveryType in the 2020 data."
      ]
    },
    {
      "cell_type": "code",
      "metadata": {
        "id": "OLwPQBoIt6Jq"
      },
      "source": [
        "# PD2020 =  (\n",
        "#           PD2020\n",
        "#           >> mutate(DeliveryTypeFixed = case_when(\n",
        "#                                               [X.DeliveryType == 'Subcontract', \"SubContract\"],\n",
        "#                                               [True,'Direct']\n",
        "#                                               )\n",
        "#                     )\n",
        "          \n",
        "#           )\n",
        "# PD2020"
      ],
      "execution_count": null,
      "outputs": []
    },
    {
      "cell_type": "markdown",
      "metadata": {
        "id": "Dvzwjk4Ko4tK"
      },
      "source": [
        "Getting the summaries for 2020 deliveries is easier becauase the Quantity column was automatically obtained when the data was obtained when data was obtained."
      ]
    },
    {
      "cell_type": "code",
      "metadata": {
        "colab": {
          "base_uri": "https://localhost:8080/"
        },
        "id": "vpxQgamyo41B",
        "outputId": "17b636f4-19cf-4833-baa8-57df25f4e3d2"
      },
      "source": [
        "Outcomes2020 = (\n",
        "                  PD2020 \n",
        "                  >> group_by(X.DeliveryType, X.SameZip, X.Type)\n",
        "                  >> summarize(Total = X.Minutes.sum(),  Deliveries=X.Quantity.sum())\n",
        "                  >> mutate(Avg = X.Total / X.Deliveries)\n",
        "                  >> select(X.Type, X.SameZip, X.DeliveryType, X.Avg)\n",
        "                  >> spread(X.DeliveryType, X.Avg)\n",
        "                  >> mutate(Difference = X.Direct - X.Subcontract)\n",
        "                  >> arrange(X.Difference)\n",
        "              )\n",
        "#Pretty Table...\n",
        "Outcomes2020 = Outcomes2020.round(1)\n",
        "print(Outcomes2020.to_string(index=False))"
      ],
      "execution_count": null,
      "outputs": [
        {
          "output_type": "stream",
          "text": [
            "          Type SameZip  Direct  Subcontract  Difference\n",
            "     Corporate     Yes    18.3         33.6       -15.3\n",
            "     In-Person     Yes     9.4         12.9        -3.5\n",
            " OtherLocation     Yes    24.5         26.5        -2.0\n",
            "   Phone / App     Yes    16.8         15.6         1.2\n",
            "   Phone / App      No    15.1         11.0         4.1\n",
            "     In-Person      No     8.0          3.0         5.0\n",
            "     Corporate      No    17.1          7.0        10.1\n",
            " OtherLocation      No    25.0          NaN         NaN\n"
          ],
          "name": "stdout"
        }
      ]
    },
    {
      "cell_type": "markdown",
      "metadata": {
        "id": "-XKnKN_dXRPo"
      },
      "source": [
        "## Putting the Two Years Together"
      ]
    },
    {
      "cell_type": "markdown",
      "metadata": {
        "id": "Eh_HUkXcv8qm"
      },
      "source": [
        "Recall, the outcomes for 2019."
      ]
    },
    {
      "cell_type": "code",
      "metadata": {
        "colab": {
          "base_uri": "https://localhost:8080/"
        },
        "id": "SKiS7b76X-bb",
        "outputId": "4cba95c2-4eab-49eb-9d2b-01d0d1a0a9aa"
      },
      "source": [
        "Outcomes2019_Updated = (\n",
        "                        PD2019_Updated \n",
        "                        >> group_by(X.DeliveryType, X.SameZip, X.Type)\n",
        "                        >> summarize(Total = X.Minutes.sum(), Deliveries = X.Quantity.sum() )\n",
        "                        >> mutate(Avg = X.Total/X.Deliveries)\n",
        "                        >> select(X.Type, X.SameZip, X.DeliveryType, X.Avg)\n",
        "                       )\n",
        "Outcomes2019_Updated = Outcomes2019_Updated.round(1)\n",
        "print(Outcomes2019_Updated.to_string(index=False))\n"
      ],
      "execution_count": null,
      "outputs": [
        {
          "output_type": "stream",
          "text": [
            "          Type SameZip DeliveryType   Avg\n",
            "     Corporate      No       Direct  11.6\n",
            "     In-Person      No       Direct   5.4\n",
            " OtherLocation      No       Direct  17.6\n",
            "   Phone / App      No       Direct   9.3\n",
            "     Corporate     Yes       Direct  12.9\n",
            "     In-Person     Yes       Direct   5.9\n",
            " OtherLocation     Yes       Direct  16.1\n",
            "   Phone / App     Yes       Direct   9.4\n",
            "     Corporate      No  SubContract  11.9\n",
            "     In-Person      No  SubContract   5.3\n",
            " OtherLocation      No  SubContract  16.5\n",
            "   Phone / App      No  SubContract  10.1\n",
            "     Corporate     Yes  SubContract   6.8\n",
            "     In-Person     Yes  SubContract   4.1\n",
            " OtherLocation     Yes  SubContract  11.9\n",
            "   Phone / App     Yes  SubContract   6.6\n"
          ],
          "name": "stdout"
        }
      ]
    },
    {
      "cell_type": "markdown",
      "metadata": {
        "id": "bBCgri_9v_hf"
      },
      "source": [
        "And, the outcomes from 2020."
      ]
    },
    {
      "cell_type": "code",
      "metadata": {
        "colab": {
          "base_uri": "https://localhost:8080/"
        },
        "id": "lszx3fhoXRWg",
        "outputId": "552f1bbd-d9d2-4069-b2a1-904997582d22"
      },
      "source": [
        "Outcomes2020 = (\n",
        "                  PD2020 \n",
        "                  >> group_by(X.DeliveryType, X.SameZip, X.Type)\n",
        "                  >> summarize(Total = X.Minutes.sum(),  Deliveries=X.Quantity.sum())\n",
        "                  >> mutate(Avg = X.Total / X.Deliveries)\n",
        "                  >> select(X.Type, X.SameZip, X.DeliveryType, X.Avg)\n",
        "               )\n",
        "#Pretty Table...\n",
        "Outcomes2020 = Outcomes2020.round(1)\n",
        "print(Outcomes2020.to_string(index=False))"
      ],
      "execution_count": null,
      "outputs": [
        {
          "output_type": "stream",
          "text": [
            "          Type SameZip DeliveryType   Avg\n",
            "     Corporate      No       Direct  17.1\n",
            "     In-Person      No       Direct   8.0\n",
            " OtherLocation      No       Direct  25.0\n",
            "   Phone / App      No       Direct  15.1\n",
            "     Corporate     Yes       Direct  18.3\n",
            "     In-Person     Yes       Direct   9.4\n",
            " OtherLocation     Yes       Direct  24.5\n",
            "   Phone / App     Yes       Direct  16.8\n",
            "     Corporate      No  Subcontract   7.0\n",
            "     In-Person      No  Subcontract   3.0\n",
            "   Phone / App      No  Subcontract  11.0\n",
            "     Corporate     Yes  Subcontract  33.6\n",
            "     In-Person     Yes  Subcontract  12.9\n",
            " OtherLocation     Yes  Subcontract  26.5\n",
            "   Phone / App     Yes  Subcontract  15.6\n"
          ],
          "name": "stdout"
        }
      ]
    },
    {
      "cell_type": "markdown",
      "metadata": {
        "id": "ctOifbBgsd8b"
      },
      "source": [
        "Using <strong>bind_rows()</strong> to stack the two data frames."
      ]
    },
    {
      "cell_type": "code",
      "metadata": {
        "colab": {
          "base_uri": "https://localhost:8080/"
        },
        "id": "nNwu3hDYseH8",
        "outputId": "33e70892-b791-4667-aac4-1cc45dd3eeee"
      },
      "source": [
        "Outcomes = (\n",
        "             Outcomes2019_Updated\n",
        "              >> bind_rows(Outcomes2020)\n",
        "           )\n",
        "\n",
        "Outcomes = Outcomes.round(1)\n",
        "print(Outcomes.to_string(index=False))"
      ],
      "execution_count": null,
      "outputs": [
        {
          "output_type": "stream",
          "text": [
            "          Type SameZip DeliveryType   Avg\n",
            "     Corporate      No       Direct  11.6\n",
            "     In-Person      No       Direct   5.4\n",
            " OtherLocation      No       Direct  17.6\n",
            "   Phone / App      No       Direct   9.3\n",
            "     Corporate     Yes       Direct  12.9\n",
            "     In-Person     Yes       Direct   5.9\n",
            " OtherLocation     Yes       Direct  16.1\n",
            "   Phone / App     Yes       Direct   9.4\n",
            "     Corporate      No  SubContract  11.9\n",
            "     In-Person      No  SubContract   5.3\n",
            " OtherLocation      No  SubContract  16.5\n",
            "   Phone / App      No  SubContract  10.1\n",
            "     Corporate     Yes  SubContract   6.8\n",
            "     In-Person     Yes  SubContract   4.1\n",
            " OtherLocation     Yes  SubContract  11.9\n",
            "   Phone / App     Yes  SubContract   6.6\n",
            "     Corporate      No       Direct  17.1\n",
            "     In-Person      No       Direct   8.0\n",
            " OtherLocation      No       Direct  25.0\n",
            "   Phone / App      No       Direct  15.1\n",
            "     Corporate     Yes       Direct  18.3\n",
            "     In-Person     Yes       Direct   9.4\n",
            " OtherLocation     Yes       Direct  24.5\n",
            "   Phone / App     Yes       Direct  16.8\n",
            "     Corporate      No  Subcontract   7.0\n",
            "     In-Person      No  Subcontract   3.0\n",
            "   Phone / App      No  Subcontract  11.0\n",
            "     Corporate     Yes  Subcontract  33.6\n",
            "     In-Person     Yes  Subcontract  12.9\n",
            " OtherLocation     Yes  Subcontract  26.5\n",
            "   Phone / App     Yes  Subcontract  15.6\n"
          ],
          "name": "stdout"
        }
      ]
    },
    {
      "cell_type": "markdown",
      "metadata": {
        "id": "s8htoUaKZYFO"
      },
      "source": [
        "In the combined dataframe, the year is not know.  Thus, fix this issue for both dataframes."
      ]
    },
    {
      "cell_type": "code",
      "metadata": {
        "colab": {
          "base_uri": "https://localhost:8080/",
          "height": 528
        },
        "id": "mCRC3BnTZYSQ",
        "outputId": "44235a40-dc7a-4f5d-82f9-5b92abea0443"
      },
      "source": [
        "Outcomes2019_Updated = (\n",
        "                        Outcomes2019_Updated\n",
        "                        >> mutate(Year = '2019')\n",
        "                        )\n",
        "Outcomes2019_Updated\n",
        "#Outcomes2019_Updated.insert(0,'Year',Outcomes2019_Updated.pop('Year'))\n",
        "#Outcomes2019_Updated\n"
      ],
      "execution_count": null,
      "outputs": [
        {
          "output_type": "execute_result",
          "data": {
            "text/html": [
              "<div>\n",
              "<style scoped>\n",
              "    .dataframe tbody tr th:only-of-type {\n",
              "        vertical-align: middle;\n",
              "    }\n",
              "\n",
              "    .dataframe tbody tr th {\n",
              "        vertical-align: top;\n",
              "    }\n",
              "\n",
              "    .dataframe thead th {\n",
              "        text-align: right;\n",
              "    }\n",
              "</style>\n",
              "<table border=\"1\" class=\"dataframe\">\n",
              "  <thead>\n",
              "    <tr style=\"text-align: right;\">\n",
              "      <th></th>\n",
              "      <th>Year</th>\n",
              "      <th>Type</th>\n",
              "      <th>SameZip</th>\n",
              "      <th>DeliveryType</th>\n",
              "      <th>Avg</th>\n",
              "    </tr>\n",
              "  </thead>\n",
              "  <tbody>\n",
              "    <tr>\n",
              "      <th>0</th>\n",
              "      <td>2019</td>\n",
              "      <td>Corporate</td>\n",
              "      <td>No</td>\n",
              "      <td>Direct</td>\n",
              "      <td>11.6</td>\n",
              "    </tr>\n",
              "    <tr>\n",
              "      <th>1</th>\n",
              "      <td>2019</td>\n",
              "      <td>In-Person</td>\n",
              "      <td>No</td>\n",
              "      <td>Direct</td>\n",
              "      <td>5.4</td>\n",
              "    </tr>\n",
              "    <tr>\n",
              "      <th>2</th>\n",
              "      <td>2019</td>\n",
              "      <td>OtherLocation</td>\n",
              "      <td>No</td>\n",
              "      <td>Direct</td>\n",
              "      <td>17.6</td>\n",
              "    </tr>\n",
              "    <tr>\n",
              "      <th>3</th>\n",
              "      <td>2019</td>\n",
              "      <td>Phone / App</td>\n",
              "      <td>No</td>\n",
              "      <td>Direct</td>\n",
              "      <td>9.3</td>\n",
              "    </tr>\n",
              "    <tr>\n",
              "      <th>4</th>\n",
              "      <td>2019</td>\n",
              "      <td>Corporate</td>\n",
              "      <td>Yes</td>\n",
              "      <td>Direct</td>\n",
              "      <td>12.9</td>\n",
              "    </tr>\n",
              "    <tr>\n",
              "      <th>5</th>\n",
              "      <td>2019</td>\n",
              "      <td>In-Person</td>\n",
              "      <td>Yes</td>\n",
              "      <td>Direct</td>\n",
              "      <td>5.9</td>\n",
              "    </tr>\n",
              "    <tr>\n",
              "      <th>6</th>\n",
              "      <td>2019</td>\n",
              "      <td>OtherLocation</td>\n",
              "      <td>Yes</td>\n",
              "      <td>Direct</td>\n",
              "      <td>16.1</td>\n",
              "    </tr>\n",
              "    <tr>\n",
              "      <th>7</th>\n",
              "      <td>2019</td>\n",
              "      <td>Phone / App</td>\n",
              "      <td>Yes</td>\n",
              "      <td>Direct</td>\n",
              "      <td>9.4</td>\n",
              "    </tr>\n",
              "    <tr>\n",
              "      <th>8</th>\n",
              "      <td>2019</td>\n",
              "      <td>Corporate</td>\n",
              "      <td>No</td>\n",
              "      <td>SubContract</td>\n",
              "      <td>11.9</td>\n",
              "    </tr>\n",
              "    <tr>\n",
              "      <th>9</th>\n",
              "      <td>2019</td>\n",
              "      <td>In-Person</td>\n",
              "      <td>No</td>\n",
              "      <td>SubContract</td>\n",
              "      <td>5.3</td>\n",
              "    </tr>\n",
              "    <tr>\n",
              "      <th>10</th>\n",
              "      <td>2019</td>\n",
              "      <td>OtherLocation</td>\n",
              "      <td>No</td>\n",
              "      <td>SubContract</td>\n",
              "      <td>16.5</td>\n",
              "    </tr>\n",
              "    <tr>\n",
              "      <th>11</th>\n",
              "      <td>2019</td>\n",
              "      <td>Phone / App</td>\n",
              "      <td>No</td>\n",
              "      <td>SubContract</td>\n",
              "      <td>10.1</td>\n",
              "    </tr>\n",
              "    <tr>\n",
              "      <th>12</th>\n",
              "      <td>2019</td>\n",
              "      <td>Corporate</td>\n",
              "      <td>Yes</td>\n",
              "      <td>SubContract</td>\n",
              "      <td>6.8</td>\n",
              "    </tr>\n",
              "    <tr>\n",
              "      <th>13</th>\n",
              "      <td>2019</td>\n",
              "      <td>In-Person</td>\n",
              "      <td>Yes</td>\n",
              "      <td>SubContract</td>\n",
              "      <td>4.1</td>\n",
              "    </tr>\n",
              "    <tr>\n",
              "      <th>14</th>\n",
              "      <td>2019</td>\n",
              "      <td>OtherLocation</td>\n",
              "      <td>Yes</td>\n",
              "      <td>SubContract</td>\n",
              "      <td>11.9</td>\n",
              "    </tr>\n",
              "    <tr>\n",
              "      <th>15</th>\n",
              "      <td>2019</td>\n",
              "      <td>Phone / App</td>\n",
              "      <td>Yes</td>\n",
              "      <td>SubContract</td>\n",
              "      <td>6.6</td>\n",
              "    </tr>\n",
              "  </tbody>\n",
              "</table>\n",
              "</div>"
            ],
            "text/plain": [
              "    Year           Type SameZip DeliveryType   Avg\n",
              "0   2019      Corporate      No       Direct  11.6\n",
              "1   2019      In-Person      No       Direct   5.4\n",
              "2   2019  OtherLocation      No       Direct  17.6\n",
              "3   2019    Phone / App      No       Direct   9.3\n",
              "4   2019      Corporate     Yes       Direct  12.9\n",
              "5   2019      In-Person     Yes       Direct   5.9\n",
              "6   2019  OtherLocation     Yes       Direct  16.1\n",
              "7   2019    Phone / App     Yes       Direct   9.4\n",
              "8   2019      Corporate      No  SubContract  11.9\n",
              "9   2019      In-Person      No  SubContract   5.3\n",
              "10  2019  OtherLocation      No  SubContract  16.5\n",
              "11  2019    Phone / App      No  SubContract  10.1\n",
              "12  2019      Corporate     Yes  SubContract   6.8\n",
              "13  2019      In-Person     Yes  SubContract   4.1\n",
              "14  2019  OtherLocation     Yes  SubContract  11.9\n",
              "15  2019    Phone / App     Yes  SubContract   6.6"
            ]
          },
          "metadata": {
            "tags": []
          },
          "execution_count": 236
        }
      ]
    },
    {
      "cell_type": "markdown",
      "metadata": {
        "id": "Zi4yS_L0aGK5"
      },
      "source": [
        "Same for 2020..."
      ]
    },
    {
      "cell_type": "code",
      "metadata": {
        "colab": {
          "base_uri": "https://localhost:8080/",
          "height": 498
        },
        "id": "fFTTRD5XaGTM",
        "outputId": "92cbd067-b4b5-42b0-c9e5-ad96e2dae428"
      },
      "source": [
        "Outcomes2020 = (\n",
        "                        Outcomes2020\n",
        "                        >> mutate(Year = '2020')\n",
        "                        )\n",
        "Outcomes2020\n",
        "Outcomes2020.insert(0,'Year',Outcomes2020.pop('Year'))\n",
        "Outcomes2020"
      ],
      "execution_count": null,
      "outputs": [
        {
          "output_type": "execute_result",
          "data": {
            "text/html": [
              "<div>\n",
              "<style scoped>\n",
              "    .dataframe tbody tr th:only-of-type {\n",
              "        vertical-align: middle;\n",
              "    }\n",
              "\n",
              "    .dataframe tbody tr th {\n",
              "        vertical-align: top;\n",
              "    }\n",
              "\n",
              "    .dataframe thead th {\n",
              "        text-align: right;\n",
              "    }\n",
              "</style>\n",
              "<table border=\"1\" class=\"dataframe\">\n",
              "  <thead>\n",
              "    <tr style=\"text-align: right;\">\n",
              "      <th></th>\n",
              "      <th>Year</th>\n",
              "      <th>Type</th>\n",
              "      <th>SameZip</th>\n",
              "      <th>DeliveryType</th>\n",
              "      <th>Avg</th>\n",
              "    </tr>\n",
              "  </thead>\n",
              "  <tbody>\n",
              "    <tr>\n",
              "      <th>0</th>\n",
              "      <td>2020</td>\n",
              "      <td>Corporate</td>\n",
              "      <td>No</td>\n",
              "      <td>Direct</td>\n",
              "      <td>17.1</td>\n",
              "    </tr>\n",
              "    <tr>\n",
              "      <th>1</th>\n",
              "      <td>2020</td>\n",
              "      <td>In-Person</td>\n",
              "      <td>No</td>\n",
              "      <td>Direct</td>\n",
              "      <td>8.0</td>\n",
              "    </tr>\n",
              "    <tr>\n",
              "      <th>2</th>\n",
              "      <td>2020</td>\n",
              "      <td>OtherLocation</td>\n",
              "      <td>No</td>\n",
              "      <td>Direct</td>\n",
              "      <td>25.0</td>\n",
              "    </tr>\n",
              "    <tr>\n",
              "      <th>3</th>\n",
              "      <td>2020</td>\n",
              "      <td>Phone / App</td>\n",
              "      <td>No</td>\n",
              "      <td>Direct</td>\n",
              "      <td>15.1</td>\n",
              "    </tr>\n",
              "    <tr>\n",
              "      <th>4</th>\n",
              "      <td>2020</td>\n",
              "      <td>Corporate</td>\n",
              "      <td>Yes</td>\n",
              "      <td>Direct</td>\n",
              "      <td>18.3</td>\n",
              "    </tr>\n",
              "    <tr>\n",
              "      <th>5</th>\n",
              "      <td>2020</td>\n",
              "      <td>In-Person</td>\n",
              "      <td>Yes</td>\n",
              "      <td>Direct</td>\n",
              "      <td>9.4</td>\n",
              "    </tr>\n",
              "    <tr>\n",
              "      <th>6</th>\n",
              "      <td>2020</td>\n",
              "      <td>OtherLocation</td>\n",
              "      <td>Yes</td>\n",
              "      <td>Direct</td>\n",
              "      <td>24.5</td>\n",
              "    </tr>\n",
              "    <tr>\n",
              "      <th>7</th>\n",
              "      <td>2020</td>\n",
              "      <td>Phone / App</td>\n",
              "      <td>Yes</td>\n",
              "      <td>Direct</td>\n",
              "      <td>16.8</td>\n",
              "    </tr>\n",
              "    <tr>\n",
              "      <th>8</th>\n",
              "      <td>2020</td>\n",
              "      <td>Corporate</td>\n",
              "      <td>No</td>\n",
              "      <td>Subcontract</td>\n",
              "      <td>7.0</td>\n",
              "    </tr>\n",
              "    <tr>\n",
              "      <th>9</th>\n",
              "      <td>2020</td>\n",
              "      <td>In-Person</td>\n",
              "      <td>No</td>\n",
              "      <td>Subcontract</td>\n",
              "      <td>3.0</td>\n",
              "    </tr>\n",
              "    <tr>\n",
              "      <th>10</th>\n",
              "      <td>2020</td>\n",
              "      <td>Phone / App</td>\n",
              "      <td>No</td>\n",
              "      <td>Subcontract</td>\n",
              "      <td>11.0</td>\n",
              "    </tr>\n",
              "    <tr>\n",
              "      <th>11</th>\n",
              "      <td>2020</td>\n",
              "      <td>Corporate</td>\n",
              "      <td>Yes</td>\n",
              "      <td>Subcontract</td>\n",
              "      <td>33.6</td>\n",
              "    </tr>\n",
              "    <tr>\n",
              "      <th>12</th>\n",
              "      <td>2020</td>\n",
              "      <td>In-Person</td>\n",
              "      <td>Yes</td>\n",
              "      <td>Subcontract</td>\n",
              "      <td>12.9</td>\n",
              "    </tr>\n",
              "    <tr>\n",
              "      <th>13</th>\n",
              "      <td>2020</td>\n",
              "      <td>OtherLocation</td>\n",
              "      <td>Yes</td>\n",
              "      <td>Subcontract</td>\n",
              "      <td>26.5</td>\n",
              "    </tr>\n",
              "    <tr>\n",
              "      <th>14</th>\n",
              "      <td>2020</td>\n",
              "      <td>Phone / App</td>\n",
              "      <td>Yes</td>\n",
              "      <td>Subcontract</td>\n",
              "      <td>15.6</td>\n",
              "    </tr>\n",
              "  </tbody>\n",
              "</table>\n",
              "</div>"
            ],
            "text/plain": [
              "    Year           Type SameZip DeliveryType   Avg\n",
              "0   2020      Corporate      No       Direct  17.1\n",
              "1   2020      In-Person      No       Direct   8.0\n",
              "2   2020  OtherLocation      No       Direct  25.0\n",
              "3   2020    Phone / App      No       Direct  15.1\n",
              "4   2020      Corporate     Yes       Direct  18.3\n",
              "5   2020      In-Person     Yes       Direct   9.4\n",
              "6   2020  OtherLocation     Yes       Direct  24.5\n",
              "7   2020    Phone / App     Yes       Direct  16.8\n",
              "8   2020      Corporate      No  Subcontract   7.0\n",
              "9   2020      In-Person      No  Subcontract   3.0\n",
              "10  2020    Phone / App      No  Subcontract  11.0\n",
              "11  2020      Corporate     Yes  Subcontract  33.6\n",
              "12  2020      In-Person     Yes  Subcontract  12.9\n",
              "13  2020  OtherLocation     Yes  Subcontract  26.5\n",
              "14  2020    Phone / App     Yes  Subcontract  15.6"
            ]
          },
          "metadata": {
            "tags": []
          },
          "execution_count": 237
        }
      ]
    },
    {
      "cell_type": "markdown",
      "metadata": {
        "id": "cWxpHgvSaV2e"
      },
      "source": [
        "Now, redo stacking of two dataframes."
      ]
    },
    {
      "cell_type": "code",
      "metadata": {
        "colab": {
          "base_uri": "https://localhost:8080/"
        },
        "id": "O-JztKImaWAP",
        "outputId": "002b8e25-0cac-4a32-c2f9-29c300f9909d"
      },
      "source": [
        "Outcomes = (\n",
        "             Outcomes2019_Updated\n",
        "              >> bind_rows(Outcomes2020)\n",
        "           )\n",
        "\n",
        "Outcomes = Outcomes.round(1)\n",
        "print(Outcomes.to_string(index=False))"
      ],
      "execution_count": null,
      "outputs": [
        {
          "output_type": "stream",
          "text": [
            " Year           Type SameZip DeliveryType   Avg\n",
            " 2019      Corporate      No       Direct  11.6\n",
            " 2019      In-Person      No       Direct   5.4\n",
            " 2019  OtherLocation      No       Direct  17.6\n",
            " 2019    Phone / App      No       Direct   9.3\n",
            " 2019      Corporate     Yes       Direct  12.9\n",
            " 2019      In-Person     Yes       Direct   5.9\n",
            " 2019  OtherLocation     Yes       Direct  16.1\n",
            " 2019    Phone / App     Yes       Direct   9.4\n",
            " 2019      Corporate      No  SubContract  11.9\n",
            " 2019      In-Person      No  SubContract   5.3\n",
            " 2019  OtherLocation      No  SubContract  16.5\n",
            " 2019    Phone / App      No  SubContract  10.1\n",
            " 2019      Corporate     Yes  SubContract   6.8\n",
            " 2019      In-Person     Yes  SubContract   4.1\n",
            " 2019  OtherLocation     Yes  SubContract  11.9\n",
            " 2019    Phone / App     Yes  SubContract   6.6\n",
            " 2020      Corporate      No       Direct  17.1\n",
            " 2020      In-Person      No       Direct   8.0\n",
            " 2020  OtherLocation      No       Direct  25.0\n",
            " 2020    Phone / App      No       Direct  15.1\n",
            " 2020      Corporate     Yes       Direct  18.3\n",
            " 2020      In-Person     Yes       Direct   9.4\n",
            " 2020  OtherLocation     Yes       Direct  24.5\n",
            " 2020    Phone / App     Yes       Direct  16.8\n",
            " 2020      Corporate      No  Subcontract   7.0\n",
            " 2020      In-Person      No  Subcontract   3.0\n",
            " 2020    Phone / App      No  Subcontract  11.0\n",
            " 2020      Corporate     Yes  Subcontract  33.6\n",
            " 2020      In-Person     Yes  Subcontract  12.9\n",
            " 2020  OtherLocation     Yes  Subcontract  26.5\n",
            " 2020    Phone / App     Yes  Subcontract  15.6\n"
          ],
          "name": "stdout"
        }
      ]
    },
    {
      "cell_type": "markdown",
      "metadata": {
        "id": "jBWRzSwHabhg"
      },
      "source": [
        "Using spread again..."
      ]
    },
    {
      "cell_type": "code",
      "metadata": {
        "colab": {
          "base_uri": "https://localhost:8080/"
        },
        "id": "nT-TFQShabpx",
        "outputId": "03dc1589-915c-47d1-8c89-25e051ec8ee7"
      },
      "source": [
        "Outcomes = (\n",
        "             Outcomes2019_Updated\n",
        "              >> bind_rows(Outcomes2020)\n",
        "              >> spread(X.DeliveryType,X.Avg)\n",
        "           )\n",
        "\n",
        "Outcomes = Outcomes.round(1)\n",
        "print(Outcomes.to_string(index=False))"
      ],
      "execution_count": null,
      "outputs": [
        {
          "output_type": "stream",
          "text": [
            " Year           Type SameZip  Direct  SubContract  Subcontract\n",
            " 2019      Corporate      No    11.6         11.9          NaN\n",
            " 2019      Corporate     Yes    12.9          6.8          NaN\n",
            " 2019      In-Person      No     5.4          5.3          NaN\n",
            " 2019      In-Person     Yes     5.9          4.1          NaN\n",
            " 2019  OtherLocation      No    17.6         16.5          NaN\n",
            " 2019  OtherLocation     Yes    16.1         11.9          NaN\n",
            " 2019    Phone / App      No     9.3         10.1          NaN\n",
            " 2019    Phone / App     Yes     9.4          6.6          NaN\n",
            " 2020      Corporate      No    17.1          NaN          7.0\n",
            " 2020      Corporate     Yes    18.3          NaN         33.6\n",
            " 2020      In-Person      No     8.0          NaN          3.0\n",
            " 2020      In-Person     Yes     9.4          NaN         12.9\n",
            " 2020  OtherLocation      No    25.0          NaN          NaN\n",
            " 2020  OtherLocation     Yes    24.5          NaN         26.5\n",
            " 2020    Phone / App      No    15.1          NaN         11.0\n",
            " 2020    Phone / App     Yes    16.8          NaN         15.6\n"
          ],
          "name": "stdout"
        }
      ]
    },
    {
      "cell_type": "markdown",
      "metadata": {
        "id": "GFxq1ttEbUUq"
      },
      "source": [
        "Note:  There is an issues with DeliveryType -- SubContract was used in 2019, but Subcontract was used for 2020.  This causes problems for the spread() function."
      ]
    },
    {
      "cell_type": "code",
      "metadata": {
        "colab": {
          "base_uri": "https://localhost:8080/"
        },
        "id": "vtetKjmIbUcN",
        "outputId": "b33f130f-cbb3-4903-b845-99dfb1462ce6"
      },
      "source": [
        "Outcomes = (\n",
        "             Outcomes2019_Updated\n",
        "              >> bind_rows(Outcomes2020)\n",
        "              >> mutate(DeliveryType = if_else(X.DeliveryType == 'Subcontract', 'SubContract', X.DeliveryType))\n",
        "              >> spread(X.DeliveryType,X.Avg)\n",
        "          )\n",
        "Outcomes = Outcomes.round(1)\n",
        "print(Outcomes.to_string(index=False))"
      ],
      "execution_count": null,
      "outputs": [
        {
          "output_type": "stream",
          "text": [
            " Year           Type SameZip  Direct  SubContract\n",
            " 2019      Corporate      No    11.6         11.9\n",
            " 2019      Corporate     Yes    12.9          6.8\n",
            " 2019      In-Person      No     5.4          5.3\n",
            " 2019      In-Person     Yes     5.9          4.1\n",
            " 2019  OtherLocation      No    17.6         16.5\n",
            " 2019  OtherLocation     Yes    16.1         11.9\n",
            " 2019    Phone / App      No     9.3         10.1\n",
            " 2019    Phone / App     Yes     9.4          6.6\n",
            " 2020      Corporate      No    17.1          7.0\n",
            " 2020      Corporate     Yes    18.3         33.6\n",
            " 2020      In-Person      No     8.0          3.0\n",
            " 2020      In-Person     Yes     9.4         12.9\n",
            " 2020  OtherLocation      No    25.0          NaN\n",
            " 2020  OtherLocation     Yes    24.5         26.5\n",
            " 2020    Phone / App      No    15.1         11.0\n",
            " 2020    Phone / App     Yes    16.8         15.6\n"
          ],
          "name": "stdout"
        }
      ]
    },
    {
      "cell_type": "markdown",
      "metadata": {
        "id": "mw0cLim6b__K"
      },
      "source": [
        "Recoding to fix this problem."
      ]
    },
    {
      "cell_type": "code",
      "metadata": {
        "colab": {
          "base_uri": "https://localhost:8080/"
        },
        "id": "sX4ctX9gcAHg",
        "outputId": "b4886bd2-d0e7-47da-97cd-49728821af4f"
      },
      "source": [
        "Outcomes = (\n",
        "             Outcomes2019_Updated\n",
        "              >> bind_rows(Outcomes2020)\n",
        "              >> mutate(DeliveryType = if_else(X.DeliveryType == 'Subcontract', 'SubContract', X.DeliveryType))\n",
        "              >> spread(X.DeliveryType,X.Avg)\n",
        "              >> mutate(Difference = X.Direct - X.SubContract)\n",
        "              >> arrange(X.Difference)\n",
        "          )\n",
        "Outcomes = Outcomes.round(1)\n",
        "print(Outcomes.to_string(index=False))"
      ],
      "execution_count": null,
      "outputs": [
        {
          "output_type": "stream",
          "text": [
            " Year           Type SameZip  Direct  SubContract  Difference\n",
            " 2020      Corporate     Yes    18.3         33.6       -15.3\n",
            " 2020      In-Person     Yes     9.4         12.9        -3.5\n",
            " 2020  OtherLocation     Yes    24.5         26.5        -2.0\n",
            " 2019    Phone / App      No     9.3         10.1        -0.8\n",
            " 2019      Corporate      No    11.6         11.9        -0.3\n",
            " 2019      In-Person      No     5.4          5.3         0.1\n",
            " 2019  OtherLocation      No    17.6         16.5         1.1\n",
            " 2020    Phone / App     Yes    16.8         15.6         1.2\n",
            " 2019      In-Person     Yes     5.9          4.1         1.8\n",
            " 2019    Phone / App     Yes     9.4          6.6         2.8\n",
            " 2020    Phone / App      No    15.1         11.0         4.1\n",
            " 2019  OtherLocation     Yes    16.1         11.9         4.2\n",
            " 2020      In-Person      No     8.0          3.0         5.0\n",
            " 2019      Corporate     Yes    12.9          6.8         6.1\n",
            " 2020      Corporate      No    17.1          7.0        10.1\n",
            " 2020  OtherLocation      No    25.0          NaN         NaN\n"
          ],
          "name": "stdout"
        }
      ]
    },
    {
      "cell_type": "markdown",
      "metadata": {
        "id": "6IjvFDFTcSiu"
      },
      "source": [
        "Again, save output to csv file."
      ]
    },
    {
      "cell_type": "code",
      "metadata": {
        "id": "1l1--Tn6cSp5"
      },
      "source": [
        "Outcomes.to_csv(\"/content/sample_data/OutcomesAll.csv\", index=False) "
      ],
      "execution_count": null,
      "outputs": []
    },
    {
      "cell_type": "markdown",
      "metadata": {
        "id": "5oM8IIgsatKA"
      },
      "source": [
        "## Spread with more than one Field"
      ]
    },
    {
      "cell_type": "code",
      "metadata": {
        "colab": {
          "base_uri": "https://localhost:8080/"
        },
        "id": "YaDSV8HzY_er",
        "outputId": "5d735adf-6988-4597-f337-d11e224f10ad"
      },
      "source": [
        "Outcomes = (\n",
        "             Outcomes2019_Updated\n",
        "              >> bind_rows(Outcomes2020)\n",
        "              >> unite('Year_DeliveryType', [X.DeliveryType, X.Year], sep='_')\n",
        "              >> spread(X.Year_DeliveryType, X.Avg)\n",
        "              >> mutate(Diff2019 = X.Direct_2019 - X.SubContract_2019, Diff2020 = X.Direct_2020 - X.Subcontract_2020)\n",
        "              >> arrange(X.Diff2019)\n",
        "           )\n",
        "\n",
        "\n",
        "Outcomes = Outcomes.round(1)\n",
        "print(Outcomes.to_string(index=False))"
      ],
      "execution_count": null,
      "outputs": [
        {
          "output_type": "stream",
          "text": [
            "['DeliveryType', 'Year'] _ True maintain\n",
            "          Type SameZip  Direct_2019  Direct_2020  SubContract_2019  Subcontract_2020  Diff2019  Diff2020\n",
            "   Phone / App      No          9.3         15.1              10.1              11.0      -0.8       4.1\n",
            "     Corporate      No         11.6         17.1              11.9               7.0      -0.3      10.1\n",
            "     In-Person      No          5.4          8.0               5.3               3.0       0.1       5.0\n",
            " OtherLocation      No         17.6         25.0              16.5               NaN       1.1       NaN\n",
            "     In-Person     Yes          5.9          9.4               4.1              12.9       1.8      -3.5\n",
            "   Phone / App     Yes          9.4         16.8               6.6              15.6       2.8       1.2\n",
            " OtherLocation     Yes         16.1         24.5              11.9              26.5       4.2      -2.0\n",
            "     Corporate     Yes         12.9         18.3               6.8              33.6       6.1     -15.3\n"
          ],
          "name": "stdout"
        }
      ]
    },
    {
      "cell_type": "markdown",
      "metadata": {
        "id": "EvFuBC_wfHEA"
      },
      "source": [
        "Rearrange columns..."
      ]
    },
    {
      "cell_type": "code",
      "metadata": {
        "colab": {
          "base_uri": "https://localhost:8080/"
        },
        "id": "IHS7GFQzfHKj",
        "outputId": "253e595c-c875-4f13-eef7-6c6743d93cb9"
      },
      "source": [
        "Outcomes.insert(3,'SubContract_2019',Outcomes.pop('SubContract_2019'))\n",
        "print(Outcomes.to_string(index=False))"
      ],
      "execution_count": null,
      "outputs": [
        {
          "output_type": "stream",
          "text": [
            "          Type SameZip  Direct_2019  SubContract_2019  Direct_2020  Subcontract_2020  Diff2019  Diff2020\n",
            "   Phone / App      No          9.3              10.1         15.1              11.0      -0.8       4.1\n",
            "     Corporate      No         11.6              11.9         17.1               7.0      -0.3      10.1\n",
            "     In-Person      No          5.4               5.3          8.0               3.0       0.1       5.0\n",
            " OtherLocation      No         17.6              16.5         25.0               NaN       1.1       NaN\n",
            "     In-Person     Yes          5.9               4.1          9.4              12.9       1.8      -3.5\n",
            "   Phone / App     Yes          9.4               6.6         16.8              15.6       2.8       1.2\n",
            " OtherLocation     Yes         16.1              11.9         24.5              26.5       4.2      -2.0\n",
            "     Corporate     Yes         12.9               6.8         18.3              33.6       6.1     -15.3\n"
          ],
          "name": "stdout"
        }
      ]
    }
  ]
}